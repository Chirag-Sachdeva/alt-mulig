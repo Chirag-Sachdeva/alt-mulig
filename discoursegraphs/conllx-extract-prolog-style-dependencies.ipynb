{
 "cells": [
  {
   "cell_type": "code",
   "execution_count": 3,
   "metadata": {
    "collapsed": true
   },
   "outputs": [],
   "source": [
    "sentences_str = \\\n",
    "\"\"\"\n",
    "1\tEr\ter\tPRO\tPPER\t3|Sg|Masc|Nom\t2\tsubj\t_\t_ \n",
    "2\tmag\tmögen\tV\tVMFIN\t3|Sg|Pres|Ind\t0\troot\t_\t_ \n",
    "3\tkeine\tkeine\tART\tPIAT\tNeut|_|Pl\t4\tdet\t_\t_ \n",
    "4\tTiere\tTier\tN\tNN\tNeut|_|Pl\t2\tobja\t_\t_ \n",
    "5\t.\t.\t$.\t$.\t_\t0\troot\t_\t_ \n",
    "\n",
    "1\tEr\ter\tPRO\tPPER\t3|Sg|Masc|Nom\t2\tsubj\t_\t_ \n",
    "2\that\thaben\tV\tVAFIN\t3|Sg|Pres|Ind\t0\troot\t_\t_ \n",
    "3\tkeine\tkeine\tART\tPIAT\tFem|_|Sg\t4\tdet\t_\t_ \n",
    "4\tAngst\tAngst\tN\tNN\tFem|_|Sg\t2\tobja\t_\t_ \n",
    "5\tvor\tvor\tPREP\tAPPR\tDat\t4\tpp\t_\t_ \n",
    "6\tihnen\tsie\tPRO\tPPER\t3|Pl|_|Dat\t5\tpn\t_\t_ \n",
    "7\t.\t.\t$.\t$.\t_\t0\troot\t_\t_ \n",
    "\n",
    "1\tEr\ter\tPRO\tPPER\t3|Sg|Masc|Nom\t2\tsubj\t_\t_ \n",
    "2\tmag\tmögen\tV\tVMFIN\t3|Sg|Pres|Ind\t0\troot\t_\t_ \n",
    "3\tkeine\tkeine\tART\tPIAT\tNeut|_|Pl\t4\tdet\t_\t_ \n",
    "4\tTiere\tTier\tN\tNN\tNeut|_|Pl\t2\tobja\t_\t_ \n",
    "5\t,\t,\t$,\t$,\t_\t0\troot\t_\t_ \n",
    "6\ter\ter\tPRO\tPPER\t3|Sg|Masc|Nom\t7\tsubj\t_\t_ \n",
    "7\that\thaben\tV\tVAFIN\t3|Sg|Pres|Ind\t2\tkon\t_\t_ \n",
    "8\tallerdings\tallerdings\tADV\tADV\t_\t7\tadv\t_\t_ \n",
    "9\tkeine\tkeine\tART\tPIAT\tFem|_|Sg\t10\tdet\t_\t_ \n",
    "10\tAngst\tAngst\tN\tNN\tFem|_|Sg\t7\tobja\t_\t_ \n",
    "11\tvor\tvor\tPREP\tAPPR\tDat\t10\tpp\t_\t_ \n",
    "12\tihnen\tsie\tPRO\tPPER\t3|Pl|_|Dat\t11\tpn\t_\t_ \n",
    "13\t.\t.\t$.\t$.\t_\t0\troot\t_\t_ \n",
    "\n",
    "1\tEr\ter\tPRO\tPPER\t3|Sg|Masc|Nom\t2\tsubj\t_\t_ \n",
    "2\tmag\tmögen\tV\tVMFIN\t3|Sg|Pres|Ind\t0\troot\t_\t_ \n",
    "3\tkeine\tkeine\tART\tPIAT\tNeut|_|Pl\t4\tdet\t_\t_ \n",
    "4\tTiere\tTier\tN\tNN\tNeut|_|Pl\t2\tobja\t_\t_ \n",
    "5\t,\t,\t$,\t$,\t_\t0\troot\t_\t_ \n",
    "6\tallerdings\tallerdings\tADV\tADV\t_\t7\tadv\t_\t_ \n",
    "7\that\thaben\tV\tVAFIN\t3|Sg|Pres|Ind\t2\tkon\t_\t_ \n",
    "8\ter\ter\tPRO\tPPER\t3|Sg|Masc|Nom\t7\tsubj\t_\t_ \n",
    "9\tkeine\tkeine\tART\tPIAT\tFem|_|Sg\t10\tdet\t_\t_ \n",
    "10\tAngst\tAngst\tN\tNN\tFem|_|Sg\t7\tobja\t_\t_ \n",
    "11\tvor\tvor\tPREP\tAPPR\tDat\t10\tpp\t_\t_ \n",
    "12\tihnen\tsie\tPRO\tPPER\t3|Pl|_|Dat\t11\tpn\t_\t_ \n",
    "13\t.\t.\t$.\t$.\t_\t0\troot\t_\t_ \n",
    "\n",
    "1\tEr\ter\tPRO\tPPER\t3|Sg|Masc|Nom\t2\tsubj\t_\t_ \n",
    "2\tmag\tmögen\tV\tVMFIN\t3|Sg|Pres|Ind\t0\troot\t_\t_ \n",
    "3\tkeine\tkeine\tART\tPIAT\tNeut|_|Pl\t4\tdet\t_\t_ \n",
    "4\tTiere\tTier\tN\tNN\tNeut|_|Pl\t2\tobja\t_\t_ \n",
    "5\t,\t,\t$,\t$,\t_\t0\troot\t_\t_ \n",
    "6\tallerdings\tallerdings\tADV\tADV\t_\t7\tadv\t_\t_ \n",
    "7\that\thaben\tV\tVAFIN\t3|Sg|Pres|Ind\t2\tkon\t_\t_ \n",
    "8\ter\ter\tPRO\tPPER\t3|Sg|Masc|Nom\t7\tsubj\t_\t_ \n",
    "9\tauch\tauch\tADV\tADV\t_\t7\tadv\t_\t_ \n",
    "10\tkeine\tkeine\tART\tPIAT\tFem|_|Sg\t11\tdet\t_\t_ \n",
    "11\tAngst\tAngst\tN\tNN\tFem|_|Sg\t7\tobja\t_\t_ \n",
    "12\tvor\tvor\tPREP\tAPPR\tDat\t11\tpp\t_\t_ \n",
    "13\tihnen\tsie\tPRO\tPPER\t3|Pl|_|Dat\t12\tpn\t_\t_ \n",
    "14\t.\t.\t$.\t$.\t_\t0\troot\t_\t_ \n",
    "\n",
    "1\tEr\ter\tPRO\tPPER\t3|Sg|Masc|Nom\t2\tsubj\t_\t_ \n",
    "2\tmag\tmögen\tV\tVMFIN\t3|Sg|Pres|Ind\t0\troot\t_\t_ \n",
    "3\tkeine\tkeine\tART\tPIAT\tNeut|_|Pl\t4\tdet\t_\t_ \n",
    "4\tTiere\tTier\tN\tNN\tNeut|_|Pl\t2\tobja\t_\t_ \n",
    "5\t,\t,\t$,\t$,\t_\t0\troot\t_\t_ \n",
    "6\taber\taber\tKON\tKON\t_\t2\tkon\t_\t_ \n",
    "7\ter\ter\tPRO\tPPER\t3|Sg|Masc|Nom\t8\tsubj\t_\t_ \n",
    "8\that\thaben\tV\tVAFIN\t3|Sg|Pres|Ind\t6\tcj\t_\t_ \n",
    "9\tauch\tauch\tADV\tADV\t_\t8\tadv\t_\t_ \n",
    "10\tkeine\tkeine\tART\tPIAT\tFem|_|Sg\t11\tdet\t_\t_ \n",
    "11\tAngst\tAngst\tN\tNN\tFem|_|Sg\t8\tobja\t_\t_ \n",
    "12\tvor\tvor\tPREP\tAPPR\tDat\t11\tpp\t_\t_ \n",
    "13\tihnen\tsie\tPRO\tPPER\t3|Pl|_|Dat\t12\tpn\t_\t_ \n",
    "14\t.\t.\t$.\t$.\t_\t0\troot\t_\t_ \n",
    "\n",
    "1\tEr\ter\tPRO\tPPER\t3|Sg|Masc|Nom\t2\tsubj\t_\t_ \n",
    "2\tmag\tmögen\tV\tVMFIN\t3|Sg|Pres|Ind\t0\troot\t_\t_ \n",
    "3\tkeine\tkeine\tART\tPIAT\tNeut|_|Pl\t4\tdet\t_\t_ \n",
    "4\tTiere\tTier\tN\tNN\tNeut|_|Pl\t2\tobja\t_\t_ \n",
    "5\t,\t,\t$,\t$,\t_\t0\troot\t_\t_ \n",
    "6\that\thaben\tV\tVAFIN\t3|Sg|Pres|Ind\t2\tkon\t_\t_ \n",
    "7\taber\taber\tADV\tADV\t_\t6\tadv\t_\t_ \n",
    "8\tauch\tauch\tADV\tADV\t_\t6\tadv\t_\t_ \n",
    "9\tkeine\tkeine\tART\tPIAT\tFem|_|Sg\t10\tdet\t_\t_ \n",
    "10\tAngst\tAngst\tN\tNN\tFem|_|Sg\t6\tobja\t_\t_ \n",
    "11\tvor\tvor\tPREP\tAPPR\tDat\t10\tpp\t_\t_ \n",
    "12\tihnen\tsie\tPRO\tPPER\t3|Pl|_|Dat\t11\tpn\t_\t_ \n",
    "13\t.\t.\t$.\t$.\t_\t0\troot\t_\t_ \n",
    "\n",
    "1\tEr\ter\tPRO\tPPER\t3|Sg|Masc|Nom\t2\tsubj\t_\t_ \n",
    "2\tmag\tmögen\tV\tVMFIN\t3|Sg|Pres|Ind\t0\troot\t_\t_ \n",
    "3\tkeine\tkeine\tART\tPIAT\tNeut|_|Pl\t4\tdet\t_\t_ \n",
    "4\tTiere\tTier\tN\tNN\tNeut|_|Pl\t2\tobja\t_\t_ \n",
    "5\t,\t,\t$,\t$,\t_\t0\troot\t_\t_ \n",
    "6\taber\taber\tKON\tKON\t_\t2\tkon\t_\t_ \n",
    "7\that\thaben\tV\tVAFIN\t3|Sg|Pres|Ind\t6\tcj\t_\t_ \n",
    "8\tauch\tauch\tADV\tADV\t_\t7\tadv\t_\t_ \n",
    "9\tkeine\tkeine\tART\tPIAT\tFem|Nom|Sg\t10\tdet\t_\t_ \n",
    "10\tAngst\tAngst\tN\tNN\tFem|Nom|Sg\t7\tsubj\t_\t_ \n",
    "11\tvor\tvor\tPREP\tAPPR\tDat\t10\tpp\t_\t_ \n",
    "12\tihnen\tsie\tPRO\tPPER\t3|Pl|_|Dat\t11\tpn\t_\t_ \n",
    "13\t.\t.\t$.\t$.\t_\t0\troot\t_\t_ \n",
    "\"\"\""
   ]
  },
  {
   "cell_type": "code",
   "execution_count": 4,
   "metadata": {
    "collapsed": false
   },
   "outputs": [],
   "source": [
    "sentences = sentences_str.split('\\n\\n')"
   ]
  },
  {
   "cell_type": "code",
   "execution_count": 20,
   "metadata": {
    "collapsed": false
   },
   "outputs": [
    {
     "name": "stdout",
     "output_type": "stream",
     "text": [
      "['1', 'Er', 'er', 'PRO', 'PPER', '3|Sg|Masc|Nom', '2', 'subj', '_', '_ ']\n",
      "['2', 'mag', 'm\\xc3\\xb6gen', 'V', 'VMFIN', '3|Sg|Pres|Ind', '0', 'root', '_', '_ ']\n",
      "['3', 'keine', 'keine', 'ART', 'PIAT', 'Neut|_|Pl', '4', 'det', '_', '_ ']\n",
      "['4', 'Tiere', 'Tier', 'N', 'NN', 'Neut|_|Pl', '2', 'obja', '_', '_ ']\n",
      "['5', '.', '.', '$.', '$.', '_', '0', 'root', '_', '_ ']\n"
     ]
    }
   ],
   "source": [
    "sdict = {}\n",
    "for line in sentences[0].splitlines():\n",
    "    if line:\n",
    "        split_line = line.split('\\t')\n",
    "        print split_line\n",
    "        sdict[int(split_line[0])] = split_line[1:]\n"
   ]
  },
  {
   "cell_type": "code",
   "execution_count": 27,
   "metadata": {
    "collapsed": false
   },
   "outputs": [],
   "source": [
    "def get_sentence_relations(sentence_dict):\n",
    "    relations = set()\n",
    "    for key in sentence_dict:\n",
    "        tok, lemma, cat, finecat, morph, head, deprel, _, _ = sentence_dict[key]\n",
    "        if deprel != 'root':\n",
    "            relations.add(\"{deprel}({head_lemma}, {dominated_lemma})\".format(\n",
    "                deprel=deprel, head_lemma=sdict[int(head)][1],\n",
    "                dominated_lemma=lemma))\n",
    "    return relations"
   ]
  },
  {
   "cell_type": "code",
   "execution_count": 29,
   "metadata": {
    "collapsed": false
   },
   "outputs": [],
   "source": [
    "def create_sentence_dicts(sentences):\n",
    "    sentence_dicts = []\n",
    "    for sentence in sentences:\n",
    "        sdict = {}\n",
    "        for line in sentence.splitlines():\n",
    "            if line:\n",
    "                split_line = line.split('\\t')\n",
    "                sdict[int(split_line[0])] = split_line[1:]\n",
    "        sentence_dicts.append(sdict)\n",
    "    return sentence_dicts"
   ]
  },
  {
   "cell_type": "code",
   "execution_count": 30,
   "metadata": {
    "collapsed": true
   },
   "outputs": [],
   "source": [
    "sentence_dicts = create_sentence_dicts(sentences)"
   ]
  },
  {
   "cell_type": "code",
   "execution_count": 38,
   "metadata": {
    "collapsed": false
   },
   "outputs": [],
   "source": [
    "sent_rels = []\n",
    "for sdict in sentence_dicts:\n",
    "    sent_rels.append(get_sentence_relations(sdict))"
   ]
  },
  {
   "cell_type": "code",
   "execution_count": 42,
   "metadata": {
    "collapsed": false
   },
   "outputs": [],
   "source": [
    "merged_rels = sent_rels[0] | sent_rels[1] # first two sentences belong together"
   ]
  },
  {
   "cell_type": "code",
   "execution_count": 43,
   "metadata": {
    "collapsed": true
   },
   "outputs": [],
   "source": [
    "fixed_sent_rels = []\n",
    "fixed_sent_rels.append(merged_rels)\n",
    "fixed_sent_rels.extend(sent_rels[2:])"
   ]
  },
  {
   "cell_type": "code",
   "execution_count": 45,
   "metadata": {
    "collapsed": false
   },
   "outputs": [
    {
     "data": {
      "text/plain": [
       "{'adv(haben, allerdings)',\n",
       " 'det(Angst, keine)',\n",
       " 'det(Tier, keine)',\n",
       " 'kon(m\\xc3\\xb6gen, haben)',\n",
       " 'obja(haben, Angst)',\n",
       " 'obja(m\\xc3\\xb6gen, Tier)',\n",
       " 'pn(vor, sie)',\n",
       " 'pp(Angst, vor)',\n",
       " 'subj(haben, er)',\n",
       " 'subj(m\\xc3\\xb6gen, er)'}"
      ]
     },
     "execution_count": 45,
     "metadata": {},
     "output_type": "execute_result"
    }
   ],
   "source": [
    "fixed_sent_rels[1]"
   ]
  },
  {
   "cell_type": "code",
   "execution_count": 46,
   "metadata": {
    "collapsed": false
   },
   "outputs": [],
   "source": [
    "import itertools"
   ]
  },
  {
   "cell_type": "code",
   "execution_count": 51,
   "metadata": {
    "collapsed": false
   },
   "outputs": [
    {
     "name": "stdout",
     "output_type": "stream",
     "text": [
      "set([])\n",
      "set(['adv(haben, allerdings)', 'kon(m\\xc3\\xb6gen, haben)'])\n",
      "set(['kon(m\\xc3\\xb6gen, haben)', 'adv(haben, allerdings)'])\n",
      "set(['kon(m\\xc3\\xb6gen, haben)', 'adv(haben, allerdings)', 'adv(haben, auch)'])\n",
      "set(['kon(m\\xc3\\xb6gen, aber)', 'adv(haben, auch)', 'cj(aber, haben)'])\n",
      "set(['subj(haben, er)', 'kon(m\\xc3\\xb6gen, haben)', 'adv(haben, aber)', 'adv(haben, auch)'])\n",
      "set(['subj(haben, er)', 'kon(m\\xc3\\xb6gen, aber)', 'subj(haben, Angst)', 'adv(haben, auch)', 'obja(haben, Angst)', 'cj(aber, haben)'])\n",
      "set(['kon(m\\xc3\\xb6gen, haben)', 'adv(haben, allerdings)'])\n",
      "set([])\n",
      "set([])\n",
      "set(['adv(haben, auch)'])\n",
      "set(['kon(m\\xc3\\xb6gen, haben)', 'adv(haben, allerdings)', 'kon(m\\xc3\\xb6gen, aber)', 'adv(haben, auch)', 'cj(aber, haben)'])\n",
      "set(['subj(haben, er)', 'adv(haben, aber)', 'adv(haben, allerdings)', 'adv(haben, auch)'])\n",
      "set(['subj(haben, er)', 'kon(m\\xc3\\xb6gen, haben)', 'kon(m\\xc3\\xb6gen, aber)', 'adv(haben, allerdings)', 'subj(haben, Angst)', 'adv(haben, auch)', 'obja(haben, Angst)', 'cj(aber, haben)'])\n",
      "set(['adv(haben, allerdings)', 'kon(m\\xc3\\xb6gen, haben)'])\n",
      "set([])\n",
      "set([])\n",
      "set(['adv(haben, auch)'])\n",
      "set(['adv(haben, allerdings)', 'kon(m\\xc3\\xb6gen, aber)', 'adv(haben, auch)', 'kon(m\\xc3\\xb6gen, haben)', 'cj(aber, haben)'])\n",
      "set(['subj(haben, er)', 'adv(haben, aber)', 'adv(haben, allerdings)', 'adv(haben, auch)'])\n",
      "set(['subj(haben, er)', 'kon(m\\xc3\\xb6gen, aber)', 'adv(haben, allerdings)', 'subj(haben, Angst)', 'adv(haben, auch)', 'obja(haben, Angst)', 'kon(m\\xc3\\xb6gen, haben)', 'cj(aber, haben)'])\n",
      "set(['adv(haben, allerdings)', 'adv(haben, auch)', 'kon(m\\xc3\\xb6gen, haben)'])\n",
      "set(['adv(haben, auch)'])\n",
      "set(['adv(haben, auch)'])\n",
      "set([])\n",
      "set(['adv(haben, allerdings)', 'kon(m\\xc3\\xb6gen, aber)', 'kon(m\\xc3\\xb6gen, haben)', 'cj(aber, haben)'])\n",
      "set(['subj(haben, er)', 'adv(haben, aber)', 'adv(haben, allerdings)'])\n",
      "set(['subj(haben, er)', 'kon(m\\xc3\\xb6gen, aber)', 'adv(haben, allerdings)', 'subj(haben, Angst)', 'obja(haben, Angst)', 'kon(m\\xc3\\xb6gen, haben)', 'cj(aber, haben)'])\n",
      "set(['kon(m\\xc3\\xb6gen, aber)', 'adv(haben, auch)', 'cj(aber, haben)'])\n",
      "set(['adv(haben, allerdings)', 'kon(m\\xc3\\xb6gen, aber)', 'adv(haben, auch)', 'kon(m\\xc3\\xb6gen, haben)', 'cj(aber, haben)'])\n",
      "set(['kon(m\\xc3\\xb6gen, haben)', 'adv(haben, allerdings)', 'kon(m\\xc3\\xb6gen, aber)', 'adv(haben, auch)', 'cj(aber, haben)'])\n",
      "set(['kon(m\\xc3\\xb6gen, haben)', 'adv(haben, allerdings)', 'kon(m\\xc3\\xb6gen, aber)', 'cj(aber, haben)'])\n",
      "set([])\n",
      "set(['subj(haben, er)', 'kon(m\\xc3\\xb6gen, haben)', 'adv(haben, aber)', 'kon(m\\xc3\\xb6gen, aber)', 'cj(aber, haben)'])\n",
      "set(['subj(haben, er)', 'subj(haben, Angst)', 'obja(haben, Angst)'])\n",
      "set(['subj(haben, er)', 'adv(haben, aber)', 'adv(haben, auch)', 'kon(m\\xc3\\xb6gen, haben)'])\n",
      "set(['subj(haben, er)', 'adv(haben, aber)', 'adv(haben, allerdings)', 'adv(haben, auch)'])\n",
      "set(['subj(haben, er)', 'adv(haben, aber)', 'adv(haben, allerdings)', 'adv(haben, auch)'])\n",
      "set(['subj(haben, er)', 'adv(haben, aber)', 'adv(haben, allerdings)'])\n",
      "set(['subj(haben, er)', 'adv(haben, aber)', 'kon(m\\xc3\\xb6gen, aber)', 'kon(m\\xc3\\xb6gen, haben)', 'cj(aber, haben)'])\n",
      "set([])\n",
      "set(['adv(haben, aber)', 'kon(m\\xc3\\xb6gen, aber)', 'subj(haben, Angst)', 'obja(haben, Angst)', 'kon(m\\xc3\\xb6gen, haben)', 'cj(aber, haben)'])\n",
      "set(['subj(haben, er)', 'subj(haben, Angst)', 'adv(haben, auch)', 'kon(m\\xc3\\xb6gen, aber)', 'obja(haben, Angst)', 'cj(aber, haben)'])\n",
      "set(['subj(haben, er)', 'adv(haben, allerdings)', 'subj(haben, Angst)', 'adv(haben, auch)', 'kon(m\\xc3\\xb6gen, aber)', 'obja(haben, Angst)', 'kon(m\\xc3\\xb6gen, haben)', 'cj(aber, haben)'])\n",
      "set(['subj(haben, er)', 'kon(m\\xc3\\xb6gen, haben)', 'adv(haben, allerdings)', 'subj(haben, Angst)', 'adv(haben, auch)', 'kon(m\\xc3\\xb6gen, aber)', 'obja(haben, Angst)', 'cj(aber, haben)'])\n",
      "set(['subj(haben, er)', 'kon(m\\xc3\\xb6gen, haben)', 'adv(haben, allerdings)', 'subj(haben, Angst)', 'kon(m\\xc3\\xb6gen, aber)', 'obja(haben, Angst)', 'cj(aber, haben)'])\n",
      "set(['subj(haben, er)', 'subj(haben, Angst)', 'obja(haben, Angst)'])\n",
      "set(['kon(m\\xc3\\xb6gen, haben)', 'adv(haben, aber)', 'subj(haben, Angst)', 'kon(m\\xc3\\xb6gen, aber)', 'obja(haben, Angst)', 'cj(aber, haben)'])\n",
      "set([])\n"
     ]
    }
   ],
   "source": [
    "for i in fixed_sent_rels:\n",
    "    for j in fixed_sent_rels:\n",
    "        print i ^ j"
   ]
  },
  {
   "cell_type": "code",
   "execution_count": 53,
   "metadata": {
    "collapsed": false
   },
   "outputs": [],
   "source": [
    "a = "
   ]
  },
  {
   "cell_type": "code",
   "execution_count": 56,
   "metadata": {
    "collapsed": false
   },
   "outputs": [
    {
     "data": {
      "text/plain": [
       "{'det(Angst, keine)',\n",
       " 'det(Tier, keine)',\n",
       " 'obja(m\\xc3\\xb6gen, Tier)',\n",
       " 'pn(vor, sie)',\n",
       " 'pp(Angst, vor)',\n",
       " 'subj(m\\xc3\\xb6gen, er)'}"
      ]
     },
     "execution_count": 56,
     "metadata": {},
     "output_type": "execute_result"
    }
   ],
   "source": [
    "fixed_sent_rels[0].intersection(*fixed_sent_rels[1:])"
   ]
  },
  {
   "cell_type": "code",
   "execution_count": 59,
   "metadata": {
    "collapsed": false
   },
   "outputs": [
    {
     "name": "stdout",
     "output_type": "stream",
     "text": [
      "0\n",
      "\tdet(Angst, keine)\n",
      "\tsubj(haben, er)\n",
      "\tpn(vor, sie)\n",
      "\tpp(Angst, vor)\n",
      "\tdet(Tier, keine)\n",
      "\tobja(haben, Angst)\n",
      "\tobja(mögen, Tier)\n",
      "\tsubj(mögen, er)\n",
      "1\n",
      "\tdet(Angst, keine)\n",
      "\tsubj(haben, er)\n",
      "\tkon(mögen, haben)\n",
      "\tpn(vor, sie)\n",
      "\tpp(Angst, vor)\n",
      "\tdet(Tier, keine)\n",
      "\tadv(haben, allerdings)\n",
      "\tobja(haben, Angst)\n",
      "\tobja(mögen, Tier)\n",
      "\tsubj(mögen, er)\n",
      "2\n",
      "\tdet(Angst, keine)\n",
      "\tsubj(haben, er)\n",
      "\tobja(mögen, Tier)\n",
      "\tpn(vor, sie)\n",
      "\tpp(Angst, vor)\n",
      "\tdet(Tier, keine)\n",
      "\tadv(haben, allerdings)\n",
      "\tobja(haben, Angst)\n",
      "\tkon(mögen, haben)\n",
      "\tsubj(mögen, er)\n",
      "3\n",
      "\tdet(Angst, keine)\n",
      "\tsubj(haben, er)\n",
      "\tobja(mögen, Tier)\n",
      "\tpn(vor, sie)\n",
      "\tpp(Angst, vor)\n",
      "\tdet(Tier, keine)\n",
      "\tadv(haben, allerdings)\n",
      "\tadv(haben, auch)\n",
      "\tobja(haben, Angst)\n",
      "\tkon(mögen, haben)\n",
      "\tsubj(mögen, er)\n",
      "4\n",
      "\tdet(Angst, keine)\n",
      "\tsubj(haben, er)\n",
      "\tpn(vor, sie)\n",
      "\tpp(Angst, vor)\n",
      "\tdet(Tier, keine)\n",
      "\tkon(mögen, aber)\n",
      "\tadv(haben, auch)\n",
      "\tobja(haben, Angst)\n",
      "\tobja(mögen, Tier)\n",
      "\tsubj(mögen, er)\n",
      "\tcj(aber, haben)\n",
      "5\n",
      "\tdet(Angst, keine)\n",
      "\tobja(mögen, Tier)\n",
      "\tpn(vor, sie)\n",
      "\tadv(haben, aber)\n",
      "\tpp(Angst, vor)\n",
      "\tdet(Tier, keine)\n",
      "\tadv(haben, auch)\n",
      "\tobja(haben, Angst)\n",
      "\tkon(mögen, haben)\n",
      "\tsubj(mögen, er)\n",
      "6\n",
      "\tdet(Angst, keine)\n",
      "\tpn(vor, sie)\n",
      "\tsubj(haben, Angst)\n",
      "\tdet(Tier, keine)\n",
      "\tkon(mögen, aber)\n",
      "\tadv(haben, auch)\n",
      "\tpp(Angst, vor)\n",
      "\tobja(mögen, Tier)\n",
      "\tsubj(mögen, er)\n",
      "\tcj(aber, haben)\n"
     ]
    }
   ],
   "source": [
    "for i, sent in enumerate(fixed_sent_rels):\n",
    "    print i\n",
    "    for rel in sent:\n",
    "        print \"\\t\", rel"
   ]
  },
  {
   "cell_type": "code",
   "execution_count": null,
   "metadata": {
    "collapsed": true
   },
   "outputs": [],
   "source": []
  }
 ],
 "metadata": {
  "kernelspec": {
   "display_name": "Python 2",
   "language": "python",
   "name": "python2"
  },
  "language_info": {
   "codemirror_mode": {
    "name": "ipython",
    "version": 2
   },
   "file_extension": ".py",
   "mimetype": "text/x-python",
   "name": "python",
   "nbconvert_exporter": "python",
   "pygments_lexer": "ipython2",
   "version": "2.7.6"
  }
 },
 "nbformat": 4,
 "nbformat_minor": 0
}
