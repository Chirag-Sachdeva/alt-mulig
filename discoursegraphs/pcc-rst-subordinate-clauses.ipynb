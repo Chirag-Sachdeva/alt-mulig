{
 "cells": [
  {
   "cell_type": "code",
   "execution_count": 1,
   "metadata": {
    "collapsed": true
   },
   "outputs": [],
   "source": [
    "import discoursegraphs as dg\n",
    "from discoursegraphs.corpora import pcc\n",
    "from discoursegraphs.readwrite.rst import rs3"
   ]
  },
  {
   "cell_type": "markdown",
   "metadata": {
    "collapsed": true
   },
   "source": [
    "## Task 1: Which syntactic subordinate clauses match with an RST EDU?\n",
    "## Task 2: Are these EDUs satellites or nucleii?\n",
    "## Task 3: does this correlate with certain RST relation types?\n"
   ]
  },
  {
   "cell_type": "code",
   "execution_count": 2,
   "metadata": {
    "collapsed": true
   },
   "outputs": [],
   "source": [
    "def get_subordinate_clauses(tiger_docgraph):\n",
    "    \"\"\"\n",
    "    given a document graph of a TIGER syntax tree, return all\n",
    "    node IDs of nodes representing subordinate clause constituents.\n",
    "\n",
    "    Parameters\n",
    "    ----------\n",
    "    tiger_docgraph : dg.DiscourseDocumentGraph\n",
    "        document graph from which subordinate clauses will be extracted\n",
    "    \n",
    "    Returns\n",
    "    -------\n",
    "    subord_clause_nodes : list(str)\n",
    "        list of node IDs of nodes directly dominating subordinate clauses\n",
    "    \"\"\"\n",
    "    subord_clause_rels = \\\n",
    "        dg.select_edges_by_attribute(\n",
    "            tiger_docgraph, attribute='tiger:label',\n",
    "            value=['MO', 'RC', 'SB'])\n",
    "    \n",
    "    subord_clause_nodes = []\n",
    "    for src_id, target_id in subord_clause_rels:\n",
    "        src_cat = tiger_docgraph.node[src_id].get('tiger:cat')\n",
    "        if src_cat == 'S' and not dg.istoken(tiger_docgraph, target_id):\n",
    "            subord_clause_nodes.append(target_id)\n",
    "    return subord_clause_nodes"
   ]
  },
  {
   "cell_type": "code",
   "execution_count": 3,
   "metadata": {
    "collapsed": true
   },
   "outputs": [],
   "source": [
    "from collections import defaultdict\n",
    "\n",
    "from intervaltree import IntervalTree, Interval\n",
    "\n",
    "import discoursegraphs as dg\n",
    "from discoursegraphs.readwrite.rst import rs3\n",
    "\n",
    "def _spans2nodes(docgraph, nodes):\n",
    "    \"\"\"\n",
    "    Takes a document graph and a collection of nodes\n",
    "    and returns a mapping from a span to all the nodes\n",
    "    that dominate that span. (There might be multiple\n",
    "    nodes which cover the same span.)\n",
    "\n",
    "    Parameters\n",
    "    ----------\n",
    "    docgraph : dg.DiscourseDocumentGraph\n",
    "        document graph from which the span-node mapping will be extracted\n",
    "    nodes : collections.Iterable(str)\n",
    "        a list/collection of node IDs whose spans will be extracted\n",
    "\n",
    "    Returns\n",
    "    -------\n",
    "    span2nodes : defaultdict(tuple(int, int): list(str))\n",
    "        maps from the offsets of a span to a list of node IDs\n",
    "        (of nodes directly dominating that span)\n",
    "    \"\"\"\n",
    "    span2nodes = defaultdict(list)\n",
    "    for node_id in nodes:\n",
    "        span = dg.get_span_offsets(docgraph, node_id)\n",
    "        span2nodes[span].append(node_id)\n",
    "    return span2nodes\n",
    "\n",
    "def get_max_overlaps(overlap_map):\n",
    "    \"\"\"\n",
    "    finds the nodes with the longest overlapping span.\n",
    "    TODO: needs heavy refactoring, input/output is\n",
    "    hard to grasp.\n",
    "    \n",
    "    Parameters\n",
    "    ----------\n",
    "    overlap_map : defaultdict(str: list(dict))\n",
    "        maps from a local node (node ID) to a list of other nodes,\n",
    "        where each other node is represented as a dict\n",
    "        with the keys ``node_id`` (str), ``overlap`` (float)\n",
    "        and ``interval`` (tuple(int, int))\n",
    "    \n",
    "    Returns\n",
    "    -------\n",
    "    max_overlapping_nodes : dict(str: dict)\n",
    "        maps from a local node (node ID str) to\n",
    "        the other node (dict with keys ``node_id`` (str),\n",
    "        ``overlap`` (float) and ``interval``\n",
    "        (tuple(int, int))) that has the greatest overlap\n",
    "        with it\n",
    "    \"\"\"\n",
    "    # given a list of other nodes, return the one\n",
    "    # with the highest overlap score\n",
    "    max_overlap = lambda l: sorted(\n",
    "        l, key=lambda n: n['overlap'],\n",
    "        reverse=True)[0]\n",
    "    return {local_node: max_overlap(overlap_map[local_node])\n",
    "            for local_node in overlap_map}"
   ]
  },
  {
   "cell_type": "code",
   "execution_count": 4,
   "metadata": {
    "collapsed": true
   },
   "outputs": [],
   "source": [
    "def get_overlap_scores(local_span, overlap_interval):\n",
    "    \"\"\"\n",
    "    calculates the overlap between the given input spans.\n",
    "    \n",
    "    Parameters\n",
    "    ----------\n",
    "    local_span : tuple(int, int)\n",
    "        the onset and offset of the ``local`` span\n",
    "    overlap_interval : Interval\n",
    "        the onset and offset of the ``other`` span\n",
    "\n",
    "    Returns\n",
    "    -------\n",
    "    overlap_ratio : float\n",
    "        the percentage of overlap between the input spans\n",
    "    len_overlap : the number of consecutive characters that\n",
    "        the input spans share\n",
    "    len_longest_input : length (in characters) of the longest\n",
    "        of the two input spans\n",
    "    \"\"\"\n",
    "    local_on, local_off = local_span\n",
    "    len_local = local_off - local_on\n",
    "\n",
    "    other_on, other_off = overlap_interval.begin, overlap_interval.end\n",
    "    len_other = other_off - other_on\n",
    "    len_longest_input = max(len_local, len_other)\n",
    "\n",
    "    overlap_on = max(local_on, other_on)\n",
    "    overlap_off = min(local_off, other_off)\n",
    "    # length of overlap in chars (int)\n",
    "    len_overlap = overlap_off - overlap_on\n",
    "\n",
    "    # overlap (float) in % between the input intervals\n",
    "    overlap_ratio = len_overlap / float(len_longest_input) * 100\n",
    "\n",
    "    return overlap_ratio, len_overlap, len_longest_input"
   ]
  },
  {
   "cell_type": "code",
   "execution_count": 5,
   "metadata": {
    "collapsed": true
   },
   "outputs": [],
   "source": [
    "def find_overlapping_nodes(\n",
    "    docgraph, local_nodes, other_nodes,\n",
    "    overlap_threshold=95, debug=False, strict=False):\n",
    "    \"\"\"\n",
    "    given a document graph and two sets of nodes (called\n",
    "    ``local_nodes`` and ``other_nodes`` merely to distinguish them),\n",
    "    find pairs of nodes (one ``local`` and one ``other``) which\n",
    "    cover (approximately) the same span.\n",
    "    \n",
    "    Parameters\n",
    "    ----------\n",
    "    docgraph : DiscourseDocumentGraph\n",
    "        the document graph in which we'll look for\n",
    "        overlapping nodes\n",
    "    local_nodes : collections.Iterable(str)\n",
    "        a collection of node IDs\n",
    "    other_nodes : collections.Iterable(str)\n",
    "        a collection of node IDs.\n",
    "        There's no technical difference between ``local_nodes``\n",
    "        and ``other_nodes``, we justed to distinguish the\n",
    "        two collections.\n",
    "    overlap_threshold : int\n",
    "        two spans are considered overlapping, if\n",
    "        their onset/offset intervals overlap at least N %\n",
    "    strict : bool\n",
    "        If True, the overlap has to pass the threshold. Otherwise,\n",
    "        up to two characters shorter than the longest input string\n",
    "    \n",
    "    Returns\n",
    "    -------\n",
    "    max_overlapping_nodes : dict(str: dict)\n",
    "        maps from a local node (node ID str) to\n",
    "        the other node (dict with keys ``node_id`` (str),\n",
    "        ``overlap`` (float) and ``interval``\n",
    "        (tuple(int, int))) that has the greatest overlap\n",
    "        with it\n",
    "    \"\"\"    \n",
    "    def fulfills_overlap_criteria(strict, overlap, overlap_threshold,\n",
    "                                  len_overlap, len_longest_input):\n",
    "        \"\"\"\n",
    "        returns True, if the overlap criteria are met.\n",
    "\n",
    "        If strict is True, the overlap has to pass a threshold. Otherwise,\n",
    "        the length of the overlap is allowed to be up to two characters\n",
    "        shorter than the longest input string. (The strict=False option\n",
    "        is therefore useful for comparing short spans with potentially\n",
    "        diverging tokenization rules, e.g. 'Hello' vs. 'Hello !'.)\n",
    "        \"\"\"\n",
    "        if strict:\n",
    "            if overlap >= overlap_threshold:\n",
    "                return True\n",
    "        else:\n",
    "            if overlap >= overlap_threshold or (len_overlap+2 >= len_longest_input):\n",
    "                return True\n",
    "        return False\n",
    "        \n",
    "    # there might be more than one node covering the same span,\n",
    "    # e.g. when an NP only consists of a single noun\n",
    "    local_span2nodes = _spans2nodes(docgraph, local_nodes)        \n",
    "    other_span2nodes = _spans2nodes(docgraph, other_nodes)\n",
    "\n",
    "    other_tree = IntervalTree.from_tuples(other_span2nodes.keys())\n",
    "    \n",
    "    # overlap_map : defaultdict(str: list(dict))\n",
    "    #    maps from a local node (node ID) to a list of other nodes,\n",
    "    #    where each other node is represented as a dict\n",
    "    #    with the keys ``node_id`` (str), ``overlap`` (float)\n",
    "    #    and ``interval`` (tuple(int, int))\n",
    "    overlap_map = defaultdict(list)\n",
    "\n",
    "    # local_span : tuple(int, int)\n",
    "    for local_span in local_span2nodes:\n",
    "        # overlap_intervals : set(Interval)\n",
    "        # all the spans from ``other_spans`` that overlap with this ``local_span``\n",
    "        overlap_intervals = other_tree[Interval(*local_span)]\n",
    "        for overlap_interval in overlap_intervals:\n",
    "            overlap, len_overlap, len_longest_input = \\\n",
    "                get_overlap_scores(local_span, overlap_interval)\n",
    "            \n",
    "            if fulfills_overlap_criteria(strict, overlap, overlap_threshold,\n",
    "                                         len_overlap, len_longest_input):\n",
    "                other_on, other_off = overlap_interval.begin, overlap_interval.end\n",
    "                # generate a mapping from a local node (node ID str)\n",
    "                # to all the ``other_nodes`` it overlaps with (incl.\n",
    "                # their overlap in % for finding the best match)\n",
    "                for local_node in local_span2nodes[local_span]:\n",
    "                    overlap_span = (other_on, other_off)\n",
    "                    for other_node in other_span2nodes[overlap_span]:\n",
    "                        overlap_map[local_node].append(\n",
    "                            {'node_id': other_node, 'overlap': overlap,\n",
    "                             'interval': (other_on, other_off)})\n",
    "    \n",
    "    return get_max_overlaps(overlap_map)"
   ]
  },
  {
   "cell_type": "code",
   "execution_count": 6,
   "metadata": {
    "collapsed": false
   },
   "outputs": [],
   "source": [
    "matches = []\n",
    "\n",
    "for doc_id in pcc.document_ids:\n",
    "    docgraph = pcc[doc_id]\n",
    "#     print docgraph.name\n",
    "    \n",
    "    # compare subordinate clauses to EDUs\n",
    "    subord_nodes = get_subordinate_clauses(docgraph)\n",
    "    edu_nodes =  rs3.get_edus(docgraph)\n",
    "\n",
    "\n",
    "    overlapping_nodes_map = find_overlapping_nodes(\n",
    "        docgraph, subord_nodes, edu_nodes, overlap_threshold=100, debug=True, strict=False)\n",
    "\n",
    "    for subord_id, edu in overlapping_nodes_map.items():\n",
    "        subord_clause_cat = docgraph.node[subord_id]['tiger:cat']\n",
    "\n",
    "        edu_node_id = edu['node_id']\n",
    "        segment_type = docgraph.node[edu_node_id]['rst:segment_type']\n",
    "\n",
    "        rel_name = docgraph.node[edu_node_id].get('rst:rel_name')\n",
    "        if not rel_name: # try to get the rel_name, no matter what (cf. issue #139)\n",
    "            in_edges = docgraph.in_edges(edu_node_id)\n",
    "            assert len(in_edges) == 1, \\\n",
    "                \"There must be exactly one dominating node.\"\n",
    "            dom_node_id = in_edges[0][0]\n",
    "            rel_name = docgraph.node[dom_node_id]['rst:rel_name']\n",
    "\n",
    "        # prints the subordinating clause and the EDU that it matches\n",
    "#         print subord_clause_cat, edu_node_id, segment_type, rel_name\n",
    "        matches.append([subord_clause_cat, segment_type, rel_name])\n",
    "#     print"
   ]
  },
  {
   "cell_type": "code",
   "execution_count": 7,
   "metadata": {
    "collapsed": false
   },
   "outputs": [],
   "source": [
    "from pandas import DataFrame\n",
    "import pandas"
   ]
  },
  {
   "cell_type": "code",
   "execution_count": 8,
   "metadata": {
    "collapsed": true
   },
   "outputs": [],
   "source": [
    "df = DataFrame(matches, columns=('clause', 'segment', 'relation'))"
   ]
  },
  {
   "cell_type": "code",
   "execution_count": 9,
   "metadata": {
    "collapsed": false
   },
   "outputs": [
    {
     "data": {
      "text/plain": [
       "168"
      ]
     },
     "execution_count": 9,
     "metadata": {},
     "output_type": "execute_result"
    }
   ],
   "source": [
    "len(df[df.segment == 'satellite'])"
   ]
  },
  {
   "cell_type": "code",
   "execution_count": 10,
   "metadata": {
    "collapsed": false
   },
   "outputs": [
    {
     "data": {
      "text/plain": [
       "24"
      ]
     },
     "execution_count": 10,
     "metadata": {},
     "output_type": "execute_result"
    }
   ],
   "source": [
    "len(df[df.segment == 'nucleus'])"
   ]
  },
  {
   "cell_type": "code",
   "execution_count": 11,
   "metadata": {
    "collapsed": false
   },
   "outputs": [],
   "source": [
    "from sklearn.tree import DecisionTreeClassifier, export_graphviz"
   ]
  },
  {
   "cell_type": "code",
   "execution_count": 31,
   "metadata": {
    "collapsed": false
   },
   "outputs": [],
   "source": [
    "dt = DecisionTreeClassifier(max_depth=5, min_samples_leaf=5)"
   ]
  },
  {
   "cell_type": "code",
   "execution_count": 14,
   "metadata": {
    "collapsed": false
   },
   "outputs": [],
   "source": [
    "from sklearn import preprocessing\n",
    "\n",
    "df_numeric = df.copy()\n",
    "\n",
    "encoders = {} # keep them for decoding the data later\n",
    "for colname in df.columns:\n",
    "    encoder = preprocessing.LabelEncoder()\n",
    "    encoders[colname] = encoder\n",
    "    df_numeric[colname] = encoder.fit_transform(df[colname])\n",
    "\n",
    "#to convert back\n",
    "\n",
    "# train.Sex = le_sex.inverse_transform(train.Sex)"
   ]
  },
  {
   "cell_type": "code",
   "execution_count": 15,
   "metadata": {
    "collapsed": false
   },
   "outputs": [],
   "source": [
    "# df_numeric['clause'] = encoders['clause'].inverse_transform(df_numeric['clause'])"
   ]
  },
  {
   "cell_type": "code",
   "execution_count": 16,
   "metadata": {
    "collapsed": false
   },
   "outputs": [],
   "source": [
    "import pandas as pd"
   ]
  },
  {
   "cell_type": "code",
   "execution_count": 17,
   "metadata": {
    "collapsed": false
   },
   "outputs": [
    {
     "data": {
      "text/html": [
       "<div>\n",
       "<table border=\"1\" class=\"dataframe\">\n",
       "  <thead>\n",
       "    <tr style=\"text-align: right;\">\n",
       "      <th></th>\n",
       "      <th>AP</th>\n",
       "      <th>AVP</th>\n",
       "      <th>CNP</th>\n",
       "      <th>CO</th>\n",
       "      <th>CS</th>\n",
       "      <th>CVP</th>\n",
       "      <th>NP</th>\n",
       "      <th>PP</th>\n",
       "      <th>S</th>\n",
       "      <th>VP</th>\n",
       "    </tr>\n",
       "  </thead>\n",
       "  <tbody>\n",
       "    <tr>\n",
       "      <th>0</th>\n",
       "      <td>0</td>\n",
       "      <td>0</td>\n",
       "      <td>0</td>\n",
       "      <td>0</td>\n",
       "      <td>0</td>\n",
       "      <td>0</td>\n",
       "      <td>0</td>\n",
       "      <td>0</td>\n",
       "      <td>1</td>\n",
       "      <td>0</td>\n",
       "    </tr>\n",
       "    <tr>\n",
       "      <th>1</th>\n",
       "      <td>0</td>\n",
       "      <td>0</td>\n",
       "      <td>0</td>\n",
       "      <td>0</td>\n",
       "      <td>0</td>\n",
       "      <td>0</td>\n",
       "      <td>1</td>\n",
       "      <td>0</td>\n",
       "      <td>0</td>\n",
       "      <td>0</td>\n",
       "    </tr>\n",
       "    <tr>\n",
       "      <th>2</th>\n",
       "      <td>0</td>\n",
       "      <td>0</td>\n",
       "      <td>0</td>\n",
       "      <td>0</td>\n",
       "      <td>0</td>\n",
       "      <td>0</td>\n",
       "      <td>0</td>\n",
       "      <td>0</td>\n",
       "      <td>1</td>\n",
       "      <td>0</td>\n",
       "    </tr>\n",
       "    <tr>\n",
       "      <th>3</th>\n",
       "      <td>0</td>\n",
       "      <td>0</td>\n",
       "      <td>0</td>\n",
       "      <td>0</td>\n",
       "      <td>0</td>\n",
       "      <td>0</td>\n",
       "      <td>0</td>\n",
       "      <td>0</td>\n",
       "      <td>1</td>\n",
       "      <td>0</td>\n",
       "    </tr>\n",
       "    <tr>\n",
       "      <th>4</th>\n",
       "      <td>0</td>\n",
       "      <td>0</td>\n",
       "      <td>0</td>\n",
       "      <td>0</td>\n",
       "      <td>0</td>\n",
       "      <td>0</td>\n",
       "      <td>0</td>\n",
       "      <td>0</td>\n",
       "      <td>1</td>\n",
       "      <td>0</td>\n",
       "    </tr>\n",
       "  </tbody>\n",
       "</table>\n",
       "</div>"
      ],
      "text/plain": [
       "   AP  AVP  CNP  CO  CS  CVP  NP  PP  S  VP\n",
       "0   0    0    0   0   0    0   0   0  1   0\n",
       "1   0    0    0   0   0    0   1   0  0   0\n",
       "2   0    0    0   0   0    0   0   0  1   0\n",
       "3   0    0    0   0   0    0   0   0  1   0\n",
       "4   0    0    0   0   0    0   0   0  1   0"
      ]
     },
     "execution_count": 17,
     "metadata": {},
     "output_type": "execute_result"
    }
   ],
   "source": [
    "pd.get_dummies(df.clause).head()"
   ]
  },
  {
   "cell_type": "code",
   "execution_count": 18,
   "metadata": {
    "collapsed": false
   },
   "outputs": [
    {
     "data": {
      "text/html": [
       "<div>\n",
       "<table border=\"1\" class=\"dataframe\">\n",
       "  <thead>\n",
       "    <tr style=\"text-align: right;\">\n",
       "      <th></th>\n",
       "      <th>nucleus</th>\n",
       "      <th>satellite</th>\n",
       "      <th>span</th>\n",
       "    </tr>\n",
       "  </thead>\n",
       "  <tbody>\n",
       "    <tr>\n",
       "      <th>0</th>\n",
       "      <td>0</td>\n",
       "      <td>1</td>\n",
       "      <td>0</td>\n",
       "    </tr>\n",
       "    <tr>\n",
       "      <th>1</th>\n",
       "      <td>1</td>\n",
       "      <td>0</td>\n",
       "      <td>0</td>\n",
       "    </tr>\n",
       "    <tr>\n",
       "      <th>2</th>\n",
       "      <td>0</td>\n",
       "      <td>1</td>\n",
       "      <td>0</td>\n",
       "    </tr>\n",
       "    <tr>\n",
       "      <th>3</th>\n",
       "      <td>0</td>\n",
       "      <td>1</td>\n",
       "      <td>0</td>\n",
       "    </tr>\n",
       "    <tr>\n",
       "      <th>4</th>\n",
       "      <td>0</td>\n",
       "      <td>1</td>\n",
       "      <td>0</td>\n",
       "    </tr>\n",
       "  </tbody>\n",
       "</table>\n",
       "</div>"
      ],
      "text/plain": [
       "   nucleus  satellite  span\n",
       "0        0          1     0\n",
       "1        1          0     0\n",
       "2        0          1     0\n",
       "3        0          1     0\n",
       "4        0          1     0"
      ]
     },
     "execution_count": 18,
     "metadata": {},
     "output_type": "execute_result"
    }
   ],
   "source": [
    "pd.get_dummies(df.segment).head()"
   ]
  },
  {
   "cell_type": "code",
   "execution_count": 19,
   "metadata": {
    "collapsed": false
   },
   "outputs": [
    {
     "data": {
      "text/html": [
       "<div>\n",
       "<table border=\"1\" class=\"dataframe\">\n",
       "  <thead>\n",
       "    <tr style=\"text-align: right;\">\n",
       "      <th></th>\n",
       "      <th>AP</th>\n",
       "      <th>AVP</th>\n",
       "      <th>CNP</th>\n",
       "      <th>CO</th>\n",
       "      <th>CS</th>\n",
       "      <th>CVP</th>\n",
       "      <th>NP</th>\n",
       "      <th>PP</th>\n",
       "      <th>S</th>\n",
       "      <th>VP</th>\n",
       "      <th>nucleus</th>\n",
       "      <th>satellite</th>\n",
       "      <th>span</th>\n",
       "    </tr>\n",
       "  </thead>\n",
       "  <tbody>\n",
       "    <tr>\n",
       "      <th>0</th>\n",
       "      <td>0</td>\n",
       "      <td>0</td>\n",
       "      <td>0</td>\n",
       "      <td>0</td>\n",
       "      <td>0</td>\n",
       "      <td>0</td>\n",
       "      <td>0</td>\n",
       "      <td>0</td>\n",
       "      <td>1</td>\n",
       "      <td>0</td>\n",
       "      <td>0</td>\n",
       "      <td>1</td>\n",
       "      <td>0</td>\n",
       "    </tr>\n",
       "    <tr>\n",
       "      <th>1</th>\n",
       "      <td>0</td>\n",
       "      <td>0</td>\n",
       "      <td>0</td>\n",
       "      <td>0</td>\n",
       "      <td>0</td>\n",
       "      <td>0</td>\n",
       "      <td>1</td>\n",
       "      <td>0</td>\n",
       "      <td>0</td>\n",
       "      <td>0</td>\n",
       "      <td>1</td>\n",
       "      <td>0</td>\n",
       "      <td>0</td>\n",
       "    </tr>\n",
       "    <tr>\n",
       "      <th>2</th>\n",
       "      <td>0</td>\n",
       "      <td>0</td>\n",
       "      <td>0</td>\n",
       "      <td>0</td>\n",
       "      <td>0</td>\n",
       "      <td>0</td>\n",
       "      <td>0</td>\n",
       "      <td>0</td>\n",
       "      <td>1</td>\n",
       "      <td>0</td>\n",
       "      <td>0</td>\n",
       "      <td>1</td>\n",
       "      <td>0</td>\n",
       "    </tr>\n",
       "    <tr>\n",
       "      <th>3</th>\n",
       "      <td>0</td>\n",
       "      <td>0</td>\n",
       "      <td>0</td>\n",
       "      <td>0</td>\n",
       "      <td>0</td>\n",
       "      <td>0</td>\n",
       "      <td>0</td>\n",
       "      <td>0</td>\n",
       "      <td>1</td>\n",
       "      <td>0</td>\n",
       "      <td>0</td>\n",
       "      <td>1</td>\n",
       "      <td>0</td>\n",
       "    </tr>\n",
       "    <tr>\n",
       "      <th>4</th>\n",
       "      <td>0</td>\n",
       "      <td>0</td>\n",
       "      <td>0</td>\n",
       "      <td>0</td>\n",
       "      <td>0</td>\n",
       "      <td>0</td>\n",
       "      <td>0</td>\n",
       "      <td>0</td>\n",
       "      <td>1</td>\n",
       "      <td>0</td>\n",
       "      <td>0</td>\n",
       "      <td>1</td>\n",
       "      <td>0</td>\n",
       "    </tr>\n",
       "  </tbody>\n",
       "</table>\n",
       "</div>"
      ],
      "text/plain": [
       "   AP  AVP  CNP  CO  CS  CVP  NP  PP  S  VP  nucleus  satellite  span\n",
       "0   0    0    0   0   0    0   0   0  1   0        0          1     0\n",
       "1   0    0    0   0   0    0   1   0  0   0        1          0     0\n",
       "2   0    0    0   0   0    0   0   0  1   0        0          1     0\n",
       "3   0    0    0   0   0    0   0   0  1   0        0          1     0\n",
       "4   0    0    0   0   0    0   0   0  1   0        0          1     0"
      ]
     },
     "execution_count": 19,
     "metadata": {},
     "output_type": "execute_result"
    }
   ],
   "source": [
    "pd.concat([pd.get_dummies(df.clause).head(), pd.get_dummies(df.segment).head()], axis=1)"
   ]
  },
  {
   "cell_type": "code",
   "execution_count": 20,
   "metadata": {
    "collapsed": true
   },
   "outputs": [],
   "source": [
    "%load_ext gvmagic"
   ]
  },
  {
   "cell_type": "code",
   "execution_count": 90,
   "metadata": {
    "collapsed": false
   },
   "outputs": [],
   "source": [
    "def predict_column(df, target_column, feature_columns=None, max_depth=5, min_samples_leaf=2):\n",
    "    \"\"\"\n",
    "    \"\"\"\n",
    "    # convert all feature cols w/ get_dummies & concat them\n",
    "    if feature_columns is None:\n",
    "        train_df = df.drop(labels=[target_column], axis=1)\n",
    "    else:\n",
    "        train_df = DataFrame(df, columns=feature_columns)\n",
    "        \n",
    "    train_binarized = pd.concat(\n",
    "        (pd.get_dummies(df[col]) for col in train_df.columns), axis=1)\n",
    "    \n",
    "    target_series = df[target_column]\n",
    "    \n",
    "    dt = DecisionTreeClassifier(max_depth=max_depth, min_samples_leaf=min_samples_leaf)\n",
    "    dt.fit(train_binarized, target_series)\n",
    "    return dt, train_binarized, target_series"
   ]
  },
  {
   "cell_type": "code",
   "execution_count": 86,
   "metadata": {
    "collapsed": false
   },
   "outputs": [],
   "source": [
    "from StringIO import StringIO\n",
    "\n",
    "# # df.drop(labels=['clause'], axis=1)\n",
    "# for colname in df.columns:\n",
    "#     dt, train_binarized, target_series = predict_column(df, colname)\n",
    "\n",
    "#     out = StringIO()\n",
    "#     export_graphviz(dt, out_file=out)\n",
    "#     %dotstr out.getvalue()"
   ]
  },
  {
   "cell_type": "code",
   "execution_count": 95,
   "metadata": {
    "collapsed": false
   },
   "outputs": [],
   "source": [
    "dt, train_binarized, target_series = predict_column(\n",
    "    df, target_column='segment', feature_columns=['clause'])"
   ]
  },
  {
   "cell_type": "code",
   "execution_count": 96,
   "metadata": {
    "collapsed": false
   },
   "outputs": [],
   "source": [
    "out = StringIO()\n",
    "export_graphviz(dt, out_file=out,\n",
    "                feature_names=train_binarized.columns,  \n",
    "                class_names=dt.classes_, \n",
    "                filled=True, rounded=True,  \n",
    "                special_characters=True)"
   ]
  },
  {
   "cell_type": "markdown",
   "metadata": {},
   "source": [
    "# DictVectorizer usage example\n",
    "\n",
    "## if we can't use pandas.get_dummies() ..."
   ]
  },
  {
   "cell_type": "code",
   "execution_count": 118,
   "metadata": {
    "collapsed": true
   },
   "outputs": [],
   "source": [
    "clause_df = df[['clause']]"
   ]
  },
  {
   "cell_type": "code",
   "execution_count": 119,
   "metadata": {
    "collapsed": false
   },
   "outputs": [
    {
     "data": {
      "text/plain": [
       "{'clause': {0: 'S', 1: 'NP', 2: 'S', 3: 'S', 4: 'S'}}"
      ]
     },
     "execution_count": 119,
     "metadata": {},
     "output_type": "execute_result"
    }
   ],
   "source": [
    "clause_df.head().to_dict()"
   ]
  },
  {
   "cell_type": "code",
   "execution_count": 121,
   "metadata": {
    "collapsed": false
   },
   "outputs": [],
   "source": [
    "clause_df.T.to_dict().values()[:10]\n",
    "clause_dict = clause_df.T.to_dict().values()"
   ]
  },
  {
   "cell_type": "code",
   "execution_count": 126,
   "metadata": {
    "collapsed": false
   },
   "outputs": [
    {
     "data": {
      "text/plain": [
       "array([[ 0.,  0.,  0., ...,  0.,  1.,  0.],\n",
       "       [ 0.,  0.,  0., ...,  0.,  0.,  0.],\n",
       "       [ 0.,  0.,  0., ...,  0.,  1.,  0.],\n",
       "       ..., \n",
       "       [ 0.,  0.,  0., ...,  0.,  1.,  0.],\n",
       "       [ 0.,  0.,  0., ...,  0.,  1.,  0.],\n",
       "       [ 0.,  0.,  0., ...,  0.,  1.,  0.]])"
      ]
     },
     "execution_count": 126,
     "metadata": {},
     "output_type": "execute_result"
    }
   ],
   "source": [
    "from sklearn.feature_extraction import DictVectorizer as DV\n",
    "\n",
    "vectorizer = DV( sparse = False )\n",
    "clause_vec = vectorizer.fit_transform(clause_dict)\n",
    "clause_vec"
   ]
  },
  {
   "cell_type": "code",
   "execution_count": 130,
   "metadata": {
    "collapsed": false
   },
   "outputs": [],
   "source": [
    "df.to_csv('clause-segment-relation.csv')"
   ]
  },
  {
   "cell_type": "code",
   "execution_count": 97,
   "metadata": {
    "collapsed": false
   },
   "outputs": [
    {
     "data": {
      "image/svg+xml": [
       "<?xml version=\"1.0\" encoding=\"UTF-8\" standalone=\"no\"?>\n",
       "<!DOCTYPE svg PUBLIC \"-//W3C//DTD SVG 1.1//EN\"\n",
       " \"http://www.w3.org/Graphics/SVG/1.1/DTD/svg11.dtd\">\n",
       "<!-- Generated by graphviz version 2.36.0 (20140111.2315)\n",
       " -->\n",
       "<!-- Title: Tree Pages: 1 -->\n",
       "<svg width=\"540pt\" height=\"676pt\"\n",
       " viewBox=\"0.00 0.00 540.00 676.00\" xmlns=\"http://www.w3.org/2000/svg\" xmlns:xlink=\"http://www.w3.org/1999/xlink\">\n",
       "<g id=\"graph0\" class=\"graph\" transform=\"scale(1 1) rotate(0) translate(4 672)\">\n",
       "<title>Tree</title>\n",
       "<polygon fill=\"white\" stroke=\"none\" points=\"-4,4 -4,-672 536,-672 536,4 -4,4\"/>\n",
       "<!-- 0 -->\n",
       "<g id=\"node1\" class=\"node\"><title>0</title>\n",
       "<path fill=\"#39e581\" fill-opacity=\"0.827451\" stroke=\"black\" d=\"M461,-667.5C461,-667.5 353,-667.5 353,-667.5 347,-667.5 341,-661.5 341,-655.5 341,-655.5 341,-596.5 341,-596.5 341,-590.5 347,-584.5 353,-584.5 353,-584.5 461,-584.5 461,-584.5 467,-584.5 473,-590.5 473,-596.5 473,-596.5 473,-655.5 473,-655.5 473,-661.5 467,-667.5 461,-667.5\"/>\n",
       "<text text-anchor=\"start\" x=\"380\" y=\"-652.3\" font-family=\"Helvetica,sans-Serif\" font-size=\"14.00\">NP ≤ 0.5</text>\n",
       "<text text-anchor=\"start\" x=\"367.5\" y=\"-637.3\" font-family=\"Helvetica,sans-Serif\" font-size=\"14.00\">gini = 0.2645</text>\n",
       "<text text-anchor=\"start\" x=\"362\" y=\"-622.3\" font-family=\"Helvetica,sans-Serif\" font-size=\"14.00\">samples = 198</text>\n",
       "<text text-anchor=\"start\" x=\"349\" y=\"-607.3\" font-family=\"Helvetica,sans-Serif\" font-size=\"14.00\">value = [24, 168, 6]</text>\n",
       "<text text-anchor=\"start\" x=\"360.5\" y=\"-592.3\" font-family=\"Helvetica,sans-Serif\" font-size=\"14.00\">class = satellite</text>\n",
       "</g>\n",
       "<!-- 1 -->\n",
       "<g id=\"node2\" class=\"node\"><title>1</title>\n",
       "<path fill=\"#39e581\" fill-opacity=\"0.866667\" stroke=\"black\" d=\"M392,-547.5C392,-547.5 284,-547.5 284,-547.5 278,-547.5 272,-541.5 272,-535.5 272,-535.5 272,-476.5 272,-476.5 272,-470.5 278,-464.5 284,-464.5 284,-464.5 392,-464.5 392,-464.5 398,-464.5 404,-470.5 404,-476.5 404,-476.5 404,-535.5 404,-535.5 404,-541.5 398,-547.5 392,-547.5\"/>\n",
       "<text text-anchor=\"start\" x=\"311.5\" y=\"-532.3\" font-family=\"Helvetica,sans-Serif\" font-size=\"14.00\">VP ≤ 0.5</text>\n",
       "<text text-anchor=\"start\" x=\"298.5\" y=\"-517.3\" font-family=\"Helvetica,sans-Serif\" font-size=\"14.00\">gini = 0.2183</text>\n",
       "<text text-anchor=\"start\" x=\"293\" y=\"-502.3\" font-family=\"Helvetica,sans-Serif\" font-size=\"14.00\">samples = 182</text>\n",
       "<text text-anchor=\"start\" x=\"280\" y=\"-487.3\" font-family=\"Helvetica,sans-Serif\" font-size=\"14.00\">value = [16, 160, 6]</text>\n",
       "<text text-anchor=\"start\" x=\"291.5\" y=\"-472.3\" font-family=\"Helvetica,sans-Serif\" font-size=\"14.00\">class = satellite</text>\n",
       "</g>\n",
       "<!-- 0&#45;&gt;1 -->\n",
       "<g id=\"edge1\" class=\"edge\"><title>0&#45;&gt;1</title>\n",
       "<path fill=\"none\" stroke=\"black\" d=\"M383.254,-584.391C377.996,-575.398 372.367,-565.772 366.928,-556.471\"/>\n",
       "<polygon fill=\"black\" stroke=\"black\" points=\"369.859,-554.55 361.79,-547.684 363.816,-558.083 369.859,-554.55\"/>\n",
       "<text text-anchor=\"middle\" x=\"355.453\" y=\"-568.167\" font-family=\"Helvetica,sans-Serif\" font-size=\"14.00\">True</text>\n",
       "</g>\n",
       "<!-- 10 -->\n",
       "<g id=\"node11\" class=\"node\"><title>10</title>\n",
       "<path fill=\"none\" stroke=\"black\" d=\"M520,-540C520,-540 434,-540 434,-540 428,-540 422,-534 422,-528 422,-528 422,-484 422,-484 422,-478 428,-472 434,-472 434,-472 520,-472 520,-472 526,-472 532,-478 532,-484 532,-484 532,-528 532,-528 532,-534 526,-540 520,-540\"/>\n",
       "<text text-anchor=\"start\" x=\"449\" y=\"-524.8\" font-family=\"Helvetica,sans-Serif\" font-size=\"14.00\">gini = 0.5</text>\n",
       "<text text-anchor=\"start\" x=\"436\" y=\"-509.8\" font-family=\"Helvetica,sans-Serif\" font-size=\"14.00\">samples = 16</text>\n",
       "<text text-anchor=\"start\" x=\"430\" y=\"-494.8\" font-family=\"Helvetica,sans-Serif\" font-size=\"14.00\">value = [8, 8, 0]</text>\n",
       "<text text-anchor=\"start\" x=\"430\" y=\"-479.8\" font-family=\"Helvetica,sans-Serif\" font-size=\"14.00\">class = nucleus</text>\n",
       "</g>\n",
       "<!-- 0&#45;&gt;10 -->\n",
       "<g id=\"edge10\" class=\"edge\"><title>0&#45;&gt;10</title>\n",
       "<path fill=\"none\" stroke=\"black\" d=\"M431.09,-584.391C437.897,-572.916 445.316,-560.41 452.166,-548.863\"/>\n",
       "<polygon fill=\"black\" stroke=\"black\" points=\"455.182,-550.639 457.274,-540.252 449.162,-547.067 455.182,-550.639\"/>\n",
       "<text text-anchor=\"middle\" x=\"463.459\" y=\"-560.775\" font-family=\"Helvetica,sans-Serif\" font-size=\"14.00\">False</text>\n",
       "</g>\n",
       "<!-- 2 -->\n",
       "<g id=\"node3\" class=\"node\"><title>2</title>\n",
       "<path fill=\"#39e581\" fill-opacity=\"0.854902\" stroke=\"black\" d=\"M321,-427.5C321,-427.5 213,-427.5 213,-427.5 207,-427.5 201,-421.5 201,-415.5 201,-415.5 201,-356.5 201,-356.5 201,-350.5 207,-344.5 213,-344.5 213,-344.5 321,-344.5 321,-344.5 327,-344.5 333,-350.5 333,-356.5 333,-356.5 333,-415.5 333,-415.5 333,-421.5 327,-427.5 321,-427.5\"/>\n",
       "<text text-anchor=\"start\" x=\"240\" y=\"-412.3\" font-family=\"Helvetica,sans-Serif\" font-size=\"14.00\">CS ≤ 0.5</text>\n",
       "<text text-anchor=\"start\" x=\"227.5\" y=\"-397.3\" font-family=\"Helvetica,sans-Serif\" font-size=\"14.00\">gini = 0.2369</text>\n",
       "<text text-anchor=\"start\" x=\"222\" y=\"-382.3\" font-family=\"Helvetica,sans-Serif\" font-size=\"14.00\">samples = 166</text>\n",
       "<text text-anchor=\"start\" x=\"209\" y=\"-367.3\" font-family=\"Helvetica,sans-Serif\" font-size=\"14.00\">value = [16, 144, 6]</text>\n",
       "<text text-anchor=\"start\" x=\"220.5\" y=\"-352.3\" font-family=\"Helvetica,sans-Serif\" font-size=\"14.00\">class = satellite</text>\n",
       "</g>\n",
       "<!-- 1&#45;&gt;2 -->\n",
       "<g id=\"edge2\" class=\"edge\"><title>1&#45;&gt;2</title>\n",
       "<path fill=\"none\" stroke=\"black\" d=\"M313.566,-464.391C308.155,-455.398 302.363,-445.772 296.766,-436.471\"/>\n",
       "<polygon fill=\"black\" stroke=\"black\" points=\"299.634,-434.448 291.479,-427.684 293.636,-438.057 299.634,-434.448\"/>\n",
       "</g>\n",
       "<!-- 9 -->\n",
       "<g id=\"node10\" class=\"node\"><title>9</title>\n",
       "<path fill=\"#39e581\" stroke=\"black\" d=\"M456.25,-420C456.25,-420 363.75,-420 363.75,-420 357.75,-420 351.75,-414 351.75,-408 351.75,-408 351.75,-364 351.75,-364 351.75,-358 357.75,-352 363.75,-352 363.75,-352 456.25,-352 456.25,-352 462.25,-352 468.25,-358 468.25,-364 468.25,-364 468.25,-408 468.25,-408 468.25,-414 462.25,-420 456.25,-420\"/>\n",
       "<text text-anchor=\"start\" x=\"382\" y=\"-404.8\" font-family=\"Helvetica,sans-Serif\" font-size=\"14.00\">gini = 0.0</text>\n",
       "<text text-anchor=\"start\" x=\"369\" y=\"-389.8\" font-family=\"Helvetica,sans-Serif\" font-size=\"14.00\">samples = 16</text>\n",
       "<text text-anchor=\"start\" x=\"359.5\" y=\"-374.8\" font-family=\"Helvetica,sans-Serif\" font-size=\"14.00\">value = [0, 16, 0]</text>\n",
       "<text text-anchor=\"start\" x=\"363.5\" y=\"-359.8\" font-family=\"Helvetica,sans-Serif\" font-size=\"14.00\">class = satellite</text>\n",
       "</g>\n",
       "<!-- 1&#45;&gt;9 -->\n",
       "<g id=\"edge9\" class=\"edge\"><title>1&#45;&gt;9</title>\n",
       "<path fill=\"none\" stroke=\"black\" d=\"M362.778,-464.391C369.78,-452.916 377.411,-440.41 384.457,-428.863\"/>\n",
       "<polygon fill=\"black\" stroke=\"black\" points=\"387.489,-430.612 389.71,-420.252 381.514,-426.966 387.489,-430.612\"/>\n",
       "</g>\n",
       "<!-- 3 -->\n",
       "<g id=\"node4\" class=\"node\"><title>3</title>\n",
       "<path fill=\"#39e581\" fill-opacity=\"0.850980\" stroke=\"black\" d=\"M252,-307.5C252,-307.5 144,-307.5 144,-307.5 138,-307.5 132,-301.5 132,-295.5 132,-295.5 132,-236.5 132,-236.5 132,-230.5 138,-224.5 144,-224.5 144,-224.5 252,-224.5 252,-224.5 258,-224.5 264,-230.5 264,-236.5 264,-236.5 264,-295.5 264,-295.5 264,-301.5 258,-307.5 252,-307.5\"/>\n",
       "<text text-anchor=\"start\" x=\"167\" y=\"-292.3\" font-family=\"Helvetica,sans-Serif\" font-size=\"14.00\">AVP ≤ 0.5</text>\n",
       "<text text-anchor=\"start\" x=\"162.5\" y=\"-277.3\" font-family=\"Helvetica,sans-Serif\" font-size=\"14.00\">gini = 0.242</text>\n",
       "<text text-anchor=\"start\" x=\"153\" y=\"-262.3\" font-family=\"Helvetica,sans-Serif\" font-size=\"14.00\">samples = 162</text>\n",
       "<text text-anchor=\"start\" x=\"140\" y=\"-247.3\" font-family=\"Helvetica,sans-Serif\" font-size=\"14.00\">value = [16, 140, 6]</text>\n",
       "<text text-anchor=\"start\" x=\"151.5\" y=\"-232.3\" font-family=\"Helvetica,sans-Serif\" font-size=\"14.00\">class = satellite</text>\n",
       "</g>\n",
       "<!-- 2&#45;&gt;3 -->\n",
       "<g id=\"edge3\" class=\"edge\"><title>2&#45;&gt;3</title>\n",
       "<path fill=\"none\" stroke=\"black\" d=\"M243.254,-344.391C237.996,-335.398 232.367,-325.772 226.928,-316.471\"/>\n",
       "<polygon fill=\"black\" stroke=\"black\" points=\"229.859,-314.55 221.79,-307.684 223.816,-318.083 229.859,-314.55\"/>\n",
       "</g>\n",
       "<!-- 8 -->\n",
       "<g id=\"node9\" class=\"node\"><title>8</title>\n",
       "<path fill=\"#39e581\" stroke=\"black\" d=\"M380,-300C380,-300 294,-300 294,-300 288,-300 282,-294 282,-288 282,-288 282,-244 282,-244 282,-238 288,-232 294,-232 294,-232 380,-232 380,-232 386,-232 392,-238 392,-244 392,-244 392,-288 392,-288 392,-294 386,-300 380,-300\"/>\n",
       "<text text-anchor=\"start\" x=\"309\" y=\"-284.8\" font-family=\"Helvetica,sans-Serif\" font-size=\"14.00\">gini = 0.0</text>\n",
       "<text text-anchor=\"start\" x=\"299.5\" y=\"-269.8\" font-family=\"Helvetica,sans-Serif\" font-size=\"14.00\">samples = 4</text>\n",
       "<text text-anchor=\"start\" x=\"290\" y=\"-254.8\" font-family=\"Helvetica,sans-Serif\" font-size=\"14.00\">value = [0, 4, 0]</text>\n",
       "<text text-anchor=\"start\" x=\"290.5\" y=\"-239.8\" font-family=\"Helvetica,sans-Serif\" font-size=\"14.00\">class = satellite</text>\n",
       "</g>\n",
       "<!-- 2&#45;&gt;8 -->\n",
       "<g id=\"edge8\" class=\"edge\"><title>2&#45;&gt;8</title>\n",
       "<path fill=\"none\" stroke=\"black\" d=\"M291.09,-344.391C297.897,-332.916 305.316,-320.41 312.166,-308.863\"/>\n",
       "<polygon fill=\"black\" stroke=\"black\" points=\"315.182,-310.639 317.274,-300.252 309.162,-307.067 315.182,-310.639\"/>\n",
       "</g>\n",
       "<!-- 4 -->\n",
       "<g id=\"node5\" class=\"node\"><title>4</title>\n",
       "<path fill=\"#39e581\" fill-opacity=\"0.847059\" stroke=\"black\" d=\"M183,-187.5C183,-187.5 75,-187.5 75,-187.5 69,-187.5 63,-181.5 63,-175.5 63,-175.5 63,-116.5 63,-116.5 63,-110.5 69,-104.5 75,-104.5 75,-104.5 183,-104.5 183,-104.5 189,-104.5 195,-110.5 195,-116.5 195,-116.5 195,-175.5 195,-175.5 195,-181.5 189,-187.5 183,-187.5\"/>\n",
       "<text text-anchor=\"start\" x=\"107\" y=\"-172.3\" font-family=\"Helvetica,sans-Serif\" font-size=\"14.00\">S ≤ 0.5</text>\n",
       "<text text-anchor=\"start\" x=\"89.5\" y=\"-157.3\" font-family=\"Helvetica,sans-Serif\" font-size=\"14.00\">gini = 0.2447</text>\n",
       "<text text-anchor=\"start\" x=\"84\" y=\"-142.3\" font-family=\"Helvetica,sans-Serif\" font-size=\"14.00\">samples = 160</text>\n",
       "<text text-anchor=\"start\" x=\"71\" y=\"-127.3\" font-family=\"Helvetica,sans-Serif\" font-size=\"14.00\">value = [16, 138, 6]</text>\n",
       "<text text-anchor=\"start\" x=\"82.5\" y=\"-112.3\" font-family=\"Helvetica,sans-Serif\" font-size=\"14.00\">class = satellite</text>\n",
       "</g>\n",
       "<!-- 3&#45;&gt;4 -->\n",
       "<g id=\"edge4\" class=\"edge\"><title>3&#45;&gt;4</title>\n",
       "<path fill=\"none\" stroke=\"black\" d=\"M174.254,-224.391C168.996,-215.398 163.367,-205.772 157.928,-196.471\"/>\n",
       "<polygon fill=\"black\" stroke=\"black\" points=\"160.859,-194.55 152.79,-187.684 154.816,-198.083 160.859,-194.55\"/>\n",
       "</g>\n",
       "<!-- 7 -->\n",
       "<g id=\"node8\" class=\"node\"><title>7</title>\n",
       "<path fill=\"#39e581\" stroke=\"black\" d=\"M311,-180C311,-180 225,-180 225,-180 219,-180 213,-174 213,-168 213,-168 213,-124 213,-124 213,-118 219,-112 225,-112 225,-112 311,-112 311,-112 317,-112 323,-118 323,-124 323,-124 323,-168 323,-168 323,-174 317,-180 311,-180\"/>\n",
       "<text text-anchor=\"start\" x=\"240\" y=\"-164.8\" font-family=\"Helvetica,sans-Serif\" font-size=\"14.00\">gini = 0.0</text>\n",
       "<text text-anchor=\"start\" x=\"230.5\" y=\"-149.8\" font-family=\"Helvetica,sans-Serif\" font-size=\"14.00\">samples = 2</text>\n",
       "<text text-anchor=\"start\" x=\"221\" y=\"-134.8\" font-family=\"Helvetica,sans-Serif\" font-size=\"14.00\">value = [0, 2, 0]</text>\n",
       "<text text-anchor=\"start\" x=\"221.5\" y=\"-119.8\" font-family=\"Helvetica,sans-Serif\" font-size=\"14.00\">class = satellite</text>\n",
       "</g>\n",
       "<!-- 3&#45;&gt;7 -->\n",
       "<g id=\"edge7\" class=\"edge\"><title>3&#45;&gt;7</title>\n",
       "<path fill=\"none\" stroke=\"black\" d=\"M222.09,-224.391C228.897,-212.916 236.316,-200.41 243.166,-188.863\"/>\n",
       "<polygon fill=\"black\" stroke=\"black\" points=\"246.182,-190.639 248.274,-180.252 240.162,-187.067 246.182,-190.639\"/>\n",
       "</g>\n",
       "<!-- 5 -->\n",
       "<g id=\"node6\" class=\"node\"><title>5</title>\n",
       "<path fill=\"#39e581\" fill-opacity=\"0.819608\" stroke=\"black\" d=\"M104.25,-68C104.25,-68 11.75,-68 11.75,-68 5.75,-68 -0.25,-62 -0.25,-56 -0.25,-56 -0.25,-12 -0.25,-12 -0.25,-6 5.75,-0 11.75,-0 11.75,-0 104.25,-0 104.25,-0 110.25,-0 116.25,-6 116.25,-12 116.25,-12 116.25,-56 116.25,-56 116.25,-62 110.25,-68 104.25,-68\"/>\n",
       "<text text-anchor=\"start\" x=\"18.5\" y=\"-52.8\" font-family=\"Helvetica,sans-Serif\" font-size=\"14.00\">gini = 0.2604</text>\n",
       "<text text-anchor=\"start\" x=\"17\" y=\"-37.8\" font-family=\"Helvetica,sans-Serif\" font-size=\"14.00\">samples = 13</text>\n",
       "<text text-anchor=\"start\" x=\"7.5\" y=\"-22.8\" font-family=\"Helvetica,sans-Serif\" font-size=\"14.00\">value = [2, 11, 0]</text>\n",
       "<text text-anchor=\"start\" x=\"11.5\" y=\"-7.8\" font-family=\"Helvetica,sans-Serif\" font-size=\"14.00\">class = satellite</text>\n",
       "</g>\n",
       "<!-- 4&#45;&gt;5 -->\n",
       "<g id=\"edge5\" class=\"edge\"><title>4&#45;&gt;5</title>\n",
       "<path fill=\"none\" stroke=\"black\" d=\"M102.764,-104.353C96.9565,-95.3551 90.7934,-85.8066 84.9577,-76.7654\"/>\n",
       "<polygon fill=\"black\" stroke=\"black\" points=\"87.8489,-74.7908 79.4852,-68.287 81.9676,-78.5869 87.8489,-74.7908\"/>\n",
       "</g>\n",
       "<!-- 6 -->\n",
       "<g id=\"node7\" class=\"node\"><title>6</title>\n",
       "<path fill=\"#39e581\" fill-opacity=\"0.850980\" stroke=\"black\" d=\"M255,-68C255,-68 147,-68 147,-68 141,-68 135,-62 135,-56 135,-56 135,-12 135,-12 135,-6 141,-0 147,-0 147,-0 255,-0 255,-0 261,-0 267,-6 267,-12 267,-12 267,-56 267,-56 267,-62 261,-68 255,-68\"/>\n",
       "<text text-anchor=\"start\" x=\"161.5\" y=\"-52.8\" font-family=\"Helvetica,sans-Serif\" font-size=\"14.00\">gini = 0.2429</text>\n",
       "<text text-anchor=\"start\" x=\"156\" y=\"-37.8\" font-family=\"Helvetica,sans-Serif\" font-size=\"14.00\">samples = 147</text>\n",
       "<text text-anchor=\"start\" x=\"143\" y=\"-22.8\" font-family=\"Helvetica,sans-Serif\" font-size=\"14.00\">value = [14, 127, 6]</text>\n",
       "<text text-anchor=\"start\" x=\"154.5\" y=\"-7.8\" font-family=\"Helvetica,sans-Serif\" font-size=\"14.00\">class = satellite</text>\n",
       "</g>\n",
       "<!-- 4&#45;&gt;6 -->\n",
       "<g id=\"edge6\" class=\"edge\"><title>4&#45;&gt;6</title>\n",
       "<path fill=\"none\" stroke=\"black\" d=\"M155.606,-104.353C161.495,-95.3551 167.745,-85.8066 173.663,-76.7654\"/>\n",
       "<polygon fill=\"black\" stroke=\"black\" points=\"176.664,-78.5708 179.212,-68.287 170.807,-74.7372 176.664,-78.5708\"/>\n",
       "</g>\n",
       "</g>\n",
       "</svg>\n"
      ]
     },
     "metadata": {},
     "output_type": "display_data"
    }
   ],
   "source": [
    "%dotstr out.getvalue()\n",
    "# train_binarized.columns\n",
    "# target_series.value_counts()"
   ]
  },
  {
   "cell_type": "markdown",
   "metadata": {
    "collapsed": true
   },
   "source": [
    "# TODO: try Frequent Itemset visualization\n",
    "\n",
    "- Grouped matrix-based visualization\n",
    "- available in ``arulesViz`` R-package\n",
    "- cf. Hahsler and Chelluboina (2011). Visualizing Association Rules in Hierarchical Groups."
   ]
  }
 ],
 "metadata": {
  "kernelspec": {
   "display_name": "Python 2",
   "language": "python",
   "name": "python2"
  },
  "language_info": {
   "codemirror_mode": {
    "name": "ipython",
    "version": 2
   },
   "file_extension": ".py",
   "mimetype": "text/x-python",
   "name": "python",
   "nbconvert_exporter": "python",
   "pygments_lexer": "ipython2",
   "version": "2.7.6"
  }
 },
 "nbformat": 4,
 "nbformat_minor": 0
}
