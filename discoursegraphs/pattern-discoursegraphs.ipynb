{
 "cells": [
  {
   "cell_type": "code",
   "execution_count": 1,
   "metadata": {
    "collapsed": true
   },
   "outputs": [],
   "source": [
    "from cStringIO import StringIO\n",
    "import os\n",
    "import tempfile\n",
    "\n",
    "import pattern\n",
    "from pattern.de import parsetree\n",
    "from discoursegraphs import DiscourseDocumentGraph, EdgeTypes\n",
    "import discoursegraphs as dg"
   ]
  },
  {
   "cell_type": "code",
   "execution_count": 22,
   "metadata": {
    "collapsed": true
   },
   "outputs": [],
   "source": [
    "class PatternDiscourseGraph(DiscourseDocumentGraph):\n",
    "    \"\"\"\n",
    "    represents a plaintext document as a discourse graph\n",
    "    (parsed with the ``pattern`` library).\n",
    "    \"\"\"\n",
    "    def __init__(self, plaintext_fpath, name=None, namespace='pattern'):\n",
    "        # super calls __init__() of base class DiscourseDocumentGraph\n",
    "        super(PatternDiscourseGraph, self).__init__()\n",
    "\n",
    "        self.name = name if name else os.path.basename(plaintext_fpath)\n",
    "        with open(plaintext_fpath) as plaintext_file:\n",
    "            self.parsed = parsetree(plaintext_file.read())\n",
    "\n",
    "        self.ns = namespace\n",
    "        self.root = self.ns+':root_node'\n",
    "        self.add_node(self.root, layers={self.ns}, label=self.ns+':root_node')\n",
    "\n",
    "        self.sentences = []\n",
    "        self.tokens = []\n",
    "        for i, sentence in enumerate(self.parsed):\n",
    "            self.add_sentence(sentence, i)\n",
    "\n",
    "    def add_sentence(self, sentence, index):\n",
    "        token_index = 0\n",
    "        chunk_index = 0\n",
    "        sent_id = 'sent_{}'.format(index)\n",
    "        self.add_node(sent_id, layers={self.ns+':syntax'})\n",
    "        self.add_edge(self.root, sent_id, edge_type=EdgeTypes.dominance_relation)\n",
    "        self.sentences.append(sent_id)\n",
    "        \n",
    "        for elem in sentence:\n",
    "            if isinstance(elem, pattern.text.tree.Word):\n",
    "                self.add_token(elem, index, token_index)\n",
    "                token_index += 1\n",
    "            else:  # Chunk\n",
    "                self.add_chunk(elem, index, chunk_index)\n",
    "                chunk_index += 1\n",
    "\n",
    "    def add_token(self, token, sent_index, token_index):\n",
    "        token_id = 'tok_s{}_{}'.format(sent_index, token_index)\n",
    "        self.add_node(token_id, layers={self.ns+':token'})\n",
    "#         raise NotImplementedError\n",
    "        \n",
    "    def add_chunk(self, chunk, sent_index, chunk_index):\n",
    "        raise NotImplementedError\n",
    "    \n",
    "    @classmethod\n",
    "    def from_string(cls, plaintext):\n",
    "        tfile = tempfile.NamedTemporaryFile(delete=False)\n",
    "        tfile.write(plaintext)\n",
    "        tfile.close()\n",
    "        return cls(tfile.name)"
   ]
  },
  {
   "cell_type": "code",
   "execution_count": 23,
   "metadata": {
    "collapsed": false
   },
   "outputs": [],
   "source": [
    "pdg = PatternDiscourseGraph.from_string(\"Angela Merkel ist gestern in Griechenland gelandet. Bernd ist noch dümmer als Angie.\")"
   ]
  },
  {
   "cell_type": "code",
   "execution_count": 24,
   "metadata": {
    "collapsed": false
   },
   "outputs": [
    {
     "name": "stdout",
     "output_type": "stream",
     "text": [
      "<class 'pattern.text.tree.Word'> Word(u'Bernd/NN')\n",
      "<class 'pattern.text.tree.Word'> Word(u'ist/VB')\n",
      "<class 'pattern.text.tree.Word'> Word(u'noch/IN')\n",
      "<class 'pattern.text.tree.Word'> Word(u'd\\xfcmmer/NN')\n",
      "<class 'pattern.text.tree.Word'> Word(u'als/IN')\n",
      "<class 'pattern.text.tree.Word'> Word(u'Angie/NN')\n",
      "<class 'pattern.text.tree.Word'> Word(u'./.')\n"
     ]
    }
   ],
   "source": [
    "for elem in pdg.parsed[1]:\n",
    "    print type(elem), elem"
   ]
  },
  {
   "cell_type": "code",
   "execution_count": 25,
   "metadata": {
    "collapsed": false
   },
   "outputs": [],
   "source": [
    "ist = pdg.parsed[0][2]"
   ]
  },
  {
   "cell_type": "code",
   "execution_count": 26,
   "metadata": {
    "collapsed": false
   },
   "outputs": [],
   "source": [
    "s0 = pdg.parsed[0]"
   ]
  },
  {
   "cell_type": "code",
   "execution_count": 27,
   "metadata": {
    "collapsed": false
   },
   "outputs": [
    {
     "data": {
      "text/plain": [
       "[Chunk('Angela Merkel/NP'),\n",
       " Chunk('ist/VP'),\n",
       " Chunk('gestern/ADVP'),\n",
       " Chunk('in/PP'),\n",
       " Chunk('Griechenland/NP'),\n",
       " Word(u'gelandet/RP'),\n",
       " Word(u'./.')]"
      ]
     },
     "execution_count": 27,
     "metadata": {},
     "output_type": "execute_result"
    }
   ],
   "source": [
    "s0.constituents()"
   ]
  },
  {
   "cell_type": "code",
   "execution_count": 28,
   "metadata": {
    "collapsed": false
   },
   "outputs": [
    {
     "data": {
      "text/plain": [
       "[None, None, None, None, None, None, None, None]"
      ]
     },
     "execution_count": 28,
     "metadata": {},
     "output_type": "execute_result"
    }
   ],
   "source": [
    "s0.lemmata"
   ]
  },
  {
   "cell_type": "code",
   "execution_count": 29,
   "metadata": {
    "collapsed": false
   },
   "outputs": [
    {
     "name": "stdout",
     "output_type": "stream",
     "text": [
      "Word(u'Angela/NNP')\n",
      "Word(u'Merkel/NNP')\n"
     ]
    }
   ],
   "source": [
    "for elem in s0.constituents()[0]:\n",
    "    print elem"
   ]
  },
  {
   "cell_type": "code",
   "execution_count": 32,
   "metadata": {
    "collapsed": false
   },
   "outputs": [],
   "source": [
    "# %load_ext gvmagic"
   ]
  },
  {
   "cell_type": "code",
   "execution_count": 33,
   "metadata": {
    "collapsed": false
   },
   "outputs": [],
   "source": [
    "# %dotstr dg.print_dot(pdg)"
   ]
  },
  {
   "cell_type": "code",
   "execution_count": 12,
   "metadata": {
    "collapsed": false
   },
   "outputs": [
    {
     "name": "stdout",
     "output_type": "stream",
     "text": [
      "Word(u'FC/NN')\n",
      "Word(u'Wuppertal/NNP')\n",
      "Word(u'hat/VB')\n",
      "Word(u'3:0/CD')\n",
      "Word(u'verloren/JJ')\n",
      "Word(u'./.')\n"
     ]
    }
   ],
   "source": [
    "for elem in parsetree(\"Der 1. FC Wuppertal hat 3:0 verloren.\")[1]:\n",
    "    print elem"
   ]
  },
  {
   "cell_type": "code",
   "execution_count": 13,
   "metadata": {
    "collapsed": false
   },
   "outputs": [],
   "source": [
    "s = parsetree(\n",
    "    \"Der SV Werder Bremen hat gestern 3:0 auf dem Feld verloren. Angela Merkel interressiert das nicht.\",\n",
    "    relations=True, lemmata=True)"
   ]
  },
  {
   "cell_type": "code",
   "execution_count": 14,
   "metadata": {
    "collapsed": false
   },
   "outputs": [
    {
     "name": "stdout",
     "output_type": "stream",
     "text": [
      "Chunk('Der SV Werder Bremen/NP-SBJ-1')\n",
      "\t[Word(u'Der/DT'), Word(u'SV/PRP$'), Word(u'Werder/NN'), Word(u'Bremen/NN')]\n",
      "Chunk('hat/VP-1')\n",
      "\t[Word(u'hat/VB')]\n",
      "Chunk('gestern/ADVP')\n",
      "\t[Word(u'gestern/RB')]\n",
      "Word(u'3:0/CD')\n",
      "Chunk('auf dem Feld/PNP')\n",
      "\t[Word(u'auf/IN'), Word(u'dem/DT'), Word(u'Feld/NN')]\n",
      "Chunk('verloren/ADJP')\n",
      "\t[Word(u'verloren/JJ')]\n",
      "Word(u'./.')\n",
      "\n",
      "Chunk('Angela Merkel interressiert/NP')\n",
      "\t[Word(u'Angela/NNP'), Word(u'Merkel/NNP'), Word(u'interressiert/NNP')]\n",
      "Word(u'das/DT')\n",
      "Chunk('nicht/ADVP')\n",
      "\t[Word(u'nicht/RB')]\n",
      "Word(u'./.')\n",
      "\n"
     ]
    }
   ],
   "source": [
    "for sent in s:\n",
    "    for constituent in sent.constituents(pnp=True):\n",
    "        print constituent\n",
    "        if isinstance(constituent, pattern.text.tree.Chunk):\n",
    "            print '\\t', [elem for elem in constituent]\n",
    "        \n",
    "#     for chunk in sent.chunks:\n",
    "#         print chunk.type, [(w.string, w.type) for w in chunk.words]\n",
    "    print"
   ]
  },
  {
   "cell_type": "code",
   "execution_count": 15,
   "metadata": {
    "collapsed": false
   },
   "outputs": [
    {
     "name": "stdout",
     "output_type": "stream",
     "text": [
      "<sentence id=\"5\" token=\"word, part-of-speech, chunk, preposition, relation, lemma\" language=\"de\">\n",
      "\t<chunk type=\"NP\" relation=\"SBJ\" of=\"5.1\">\n",
      "\t\t<word type=\"DT\" lemma=\"der\">Der</word>\n",
      "\t\t<word type=\"PRP$\" lemma=\"sv\">SV</word>\n",
      "\t\t<word type=\"NN\" lemma=\"werder\">Werder</word>\n",
      "\t\t<word type=\"NN\" lemma=\"bremen\">Bremen</word>\n",
      "\t</chunk>\n",
      "\t<chunk type=\"VP\" id=\"5.1\">\n",
      "\t\t<word type=\"VB\" lemma=\"haben\">hat</word>\n",
      "\t</chunk>\n",
      "\t<chunk type=\"ADVP\">\n",
      "\t\t<word type=\"RB\" lemma=\"gestern\">gestern</word>\n",
      "\t</chunk>\n",
      "\t<chink>\n",
      "\t\t<word type=\"CD\" lemma=\"3:0\">3:0</word>\n",
      "\t</chink>\n",
      "\t<chunk type=\"PNP\">\n",
      "\t\t<chunk type=\"PP\">\n",
      "\t\t\t<word type=\"IN\" lemma=\"auf\">auf</word>\n",
      "\t\t</chunk>\n",
      "\t\t<chunk type=\"NP\">\n",
      "\t\t\t<word type=\"DT\" lemma=\"dem\">dem</word>\n",
      "\t\t\t<word type=\"NN\" lemma=\"feld\">Feld</word>\n",
      "\t\t</chunk>\n",
      "\t</chunk>\n",
      "\t<chunk type=\"ADJP\">\n",
      "\t\t<word type=\"JJ\" lemma=\"verlor\">verloren</word>\n",
      "\t</chunk>\n",
      "\t<chink>\n",
      "\t\t<word type=\".\" lemma=\".\">.</word>\n",
      "\t</chink>\n",
      "</sentence>\n"
     ]
    }
   ],
   "source": [
    "print s[0].xml"
   ]
  },
  {
   "cell_type": "code",
   "execution_count": 16,
   "metadata": {
    "collapsed": false
   },
   "outputs": [],
   "source": [
    "sent = s[0]"
   ]
  },
  {
   "cell_type": "code",
   "execution_count": 17,
   "metadata": {
    "collapsed": false
   },
   "outputs": [
    {
     "data": {
      "text/plain": [
       "{'OBJ': {},\n",
       " 'SBJ': {1: Chunk('Der SV Werder Bremen/NP-SBJ-1')},\n",
       " 'VP': {1: Chunk('hat/VP-1')}}"
      ]
     },
     "execution_count": 17,
     "metadata": {},
     "output_type": "execute_result"
    }
   ],
   "source": [
    "sent.relations"
   ]
  },
  {
   "cell_type": "code",
   "execution_count": 18,
   "metadata": {
    "collapsed": false
   },
   "outputs": [],
   "source": [
    "c = sent.relations['SBJ'][1]"
   ]
  },
  {
   "cell_type": "code",
   "execution_count": 19,
   "metadata": {
    "collapsed": false
   },
   "outputs": [
    {
     "data": {
      "text/plain": [
       "Sentence('Der/DT/B-NP/O/NP-SBJ-1/der SV/PRP$/I-NP/O/NP-SBJ-1/sv Werder/NN/I-NP/O/NP-SBJ-1/werder Bremen/NN/I-NP/O/NP-SBJ-1/bremen hat/VB/B-VP/O/VP-1/haben gestern/RB/B-ADVP/O/O/gestern 3:0/CD/O/O/O/3:0 auf/IN/B-PP/B-PNP/O/auf dem/DT/B-NP/I-PNP/O/dem Feld/NN/I-NP/I-PNP/O/feld verloren/JJ/B-ADJP/O/O/verlor ././O/O/O/.')"
      ]
     },
     "execution_count": 19,
     "metadata": {},
     "output_type": "execute_result"
    }
   ],
   "source": [
    "c.sentence"
   ]
  },
  {
   "cell_type": "code",
   "execution_count": 20,
   "metadata": {
    "collapsed": false
   },
   "outputs": [
    {
     "data": {
      "text/plain": [
       "[Chunk('auf dem Feld/PNP')]"
      ]
     },
     "execution_count": 20,
     "metadata": {},
     "output_type": "execute_result"
    }
   ],
   "source": [
    "sent.pnp"
   ]
  },
  {
   "cell_type": "code",
   "execution_count": 21,
   "metadata": {
    "collapsed": false
   },
   "outputs": [
    {
     "ename": "NameError",
     "evalue": "Use Tree.read(s, remove_empty_top_bracketing=True) instead.",
     "output_type": "error",
     "traceback": [
      "\u001b[1;31m---------------------------------------------------------------------------\u001b[0m",
      "\u001b[1;31mNameError\u001b[0m                                 Traceback (most recent call last)",
      "\u001b[1;32m<ipython-input-21-efe8ef8ccf39>\u001b[0m in \u001b[0;36m<module>\u001b[1;34m()\u001b[0m\n\u001b[1;32m----> 1\u001b[1;33m \u001b[0mpattern\u001b[0m\u001b[1;33m.\u001b[0m\u001b[0mtext\u001b[0m\u001b[1;33m.\u001b[0m\u001b[0mtree\u001b[0m\u001b[1;33m.\u001b[0m\u001b[0mnltk_tree\u001b[0m\u001b[1;33m(\u001b[0m\u001b[0msent\u001b[0m\u001b[1;33m)\u001b[0m\u001b[1;33m\u001b[0m\u001b[0m\n\u001b[0m",
      "\u001b[1;32m/home/arne/.virtualenvs/notebook/local/lib/python2.7/site-packages/pattern/text/tree.pyc\u001b[0m in \u001b[0;36mnltk_tree\u001b[1;34m(sentence)\u001b[0m\n\u001b[0;32m   1586\u001b[0m             \u001b[0mv\u001b[0m\u001b[1;33m.\u001b[0m\u001b[0mappend\u001b[0m\u001b[1;33m(\u001b[0m\u001b[0mch\u001b[0m\u001b[1;33m.\u001b[0m\u001b[0mpnp\u001b[0m\u001b[1;33m)\u001b[0m\u001b[1;33m\u001b[0m\u001b[0m\n\u001b[0;32m   1587\u001b[0m     \u001b[0mT\u001b[0m\u001b[1;33m.\u001b[0m\u001b[0mappend\u001b[0m\u001b[1;33m(\u001b[0m\u001b[1;34m')'\u001b[0m\u001b[1;33m)\u001b[0m\u001b[1;33m\u001b[0m\u001b[0m\n\u001b[1;32m-> 1588\u001b[1;33m     \u001b[1;32mreturn\u001b[0m \u001b[0mtree\u001b[0m\u001b[1;33m.\u001b[0m\u001b[0mbracket_parse\u001b[0m\u001b[1;33m(\u001b[0m\u001b[1;34m' '\u001b[0m\u001b[1;33m.\u001b[0m\u001b[0mjoin\u001b[0m\u001b[1;33m(\u001b[0m\u001b[0mT\u001b[0m\u001b[1;33m)\u001b[0m\u001b[1;33m)\u001b[0m\u001b[1;33m\u001b[0m\u001b[0m\n\u001b[0m\u001b[0;32m   1589\u001b[0m \u001b[1;33m\u001b[0m\u001b[0m\n\u001b[0;32m   1590\u001b[0m \u001b[1;31m### GRAPHVIZ DOT ###################################################################################\u001b[0m\u001b[1;33m\u001b[0m\u001b[1;33m\u001b[0m\u001b[0m\n",
      "\u001b[1;32m/home/arne/.virtualenvs/notebook/local/lib/python2.7/site-packages/nltk-3.0.4-py2.7.egg/nltk/tree.pyc\u001b[0m in \u001b[0;36mbracket_parse\u001b[1;34m(s)\u001b[0m\n\u001b[0;32m   1488\u001b[0m     \u001b[0mUse\u001b[0m \u001b[0mTree\u001b[0m\u001b[1;33m.\u001b[0m\u001b[0mread\u001b[0m\u001b[1;33m(\u001b[0m\u001b[0ms\u001b[0m\u001b[1;33m,\u001b[0m \u001b[0mremove_empty_top_bracketing\u001b[0m\u001b[1;33m=\u001b[0m\u001b[0mTrue\u001b[0m\u001b[1;33m)\u001b[0m \u001b[0minstead\u001b[0m\u001b[1;33m.\u001b[0m\u001b[1;33m\u001b[0m\u001b[0m\n\u001b[0;32m   1489\u001b[0m     \"\"\"\n\u001b[1;32m-> 1490\u001b[1;33m     \u001b[1;32mraise\u001b[0m \u001b[0mNameError\u001b[0m\u001b[1;33m(\u001b[0m\u001b[1;34m\"Use Tree.read(s, remove_empty_top_bracketing=True) instead.\"\u001b[0m\u001b[1;33m)\u001b[0m\u001b[1;33m\u001b[0m\u001b[0m\n\u001b[0m\u001b[0;32m   1491\u001b[0m \u001b[1;33m\u001b[0m\u001b[0m\n\u001b[0;32m   1492\u001b[0m \u001b[1;32mdef\u001b[0m \u001b[0msinica_parse\u001b[0m\u001b[1;33m(\u001b[0m\u001b[0ms\u001b[0m\u001b[1;33m)\u001b[0m\u001b[1;33m:\u001b[0m\u001b[1;33m\u001b[0m\u001b[0m\n",
      "\u001b[1;31mNameError\u001b[0m: Use Tree.read(s, remove_empty_top_bracketing=True) instead."
     ]
    }
   ],
   "source": [
    "pattern.text.tree.nltk_tree(sent)"
   ]
  },
  {
   "cell_type": "code",
   "execution_count": 40,
   "metadata": {
    "collapsed": false
   },
   "outputs": [],
   "source": [
    "hans_kennt_maria = parsetree(\"Hans kennt Maria.\", relations=True)"
   ]
  },
  {
   "cell_type": "code",
   "execution_count": 45,
   "metadata": {
    "collapsed": true
   },
   "outputs": [],
   "source": [
    "# Signature: pattern.text.tree.nltk_tree(sentence)\n",
    "\n",
    "from nltk.tree import Tree\n",
    "from pattern.text import Chink\n",
    "\n",
    "def nltk_tree(sentence):\n",
    "    \"\"\" Returns an NLTK nltk.tree.Tree object from the given Sentence.\n",
    "        The NLTK module should be on the search path somewhere.\n",
    "    \"\"\"\n",
    "    def do_pnp(pnp):\n",
    "        # Returns the PNPChunk (and the contained Chunk objects) in NLTK bracket format.\n",
    "        s = ' '.join([do_chunk(ch) for ch in pnp.chunks])\n",
    "        return '(PNP %s)' % s\n",
    "    \n",
    "    def do_chunk(ch):\n",
    "        # Returns the Chunk in NLTK bracket format. Recurse attached PNP's.\n",
    "        s = ' '.join(['(%s %s)' % (w.pos, w.string) for w in ch.words])\n",
    "        s+= ' '.join([do_pnp(pnp) for pnp in ch.attachments])\n",
    "        return '(%s %s)' % (ch.type, s)\n",
    "    \n",
    "    T = ['(S']\n",
    "    v = [] # PNP's already visited.\n",
    "    for ch in sentence.chunked():\n",
    "        if not ch.pnp and isinstance(ch, Chink):\n",
    "            T.append('(%s %s)' % (ch.words[0].pos, ch.words[0].string))\n",
    "        elif not ch.pnp:\n",
    "            T.append(do_chunk(ch))\n",
    "        #elif ch.pnp not in v:\n",
    "        elif ch.pnp.anchor is None and ch.pnp not in v:\n",
    "            # The chunk is part of a PNP without an anchor.\n",
    "            T.append(do_pnp(ch.pnp))\n",
    "            v.append(ch.pnp)\n",
    "    T.append(')')\n",
    "    tree_string = ' '.join(T)\n",
    "    return Tree.fromstring(tree_string)\n"
   ]
  },
  {
   "cell_type": "code",
   "execution_count": 46,
   "metadata": {
    "collapsed": false
   },
   "outputs": [
    {
     "data": {
      "image/png": "[encoded data removed]",
      "text/plain": [
       "Tree('S', [Tree('NP', [Tree('DT', ['Der']), Tree('PRP$', ['SV']), Tree('NN', ['Werder']), Tree('NN', ['Bremen'])]), Tree('VP', [Tree('VB', ['hat'])]), Tree('ADVP', [Tree('RB', ['gestern'])]), Tree('CD', ['3:0']), Tree('PNP', [Tree('PP', [Tree('IN', ['auf'])]), Tree('NP', [Tree('DT', ['dem']), Tree('NN', ['Feld'])])]), Tree('ADJP', [Tree('JJ', ['verloren'])]), Tree('.', ['.'])])"
      ]
     },
     "execution_count": 46,
     "metadata": {},
     "output_type": "execute_result"
    }
   ],
   "source": [
    "nltk_tree(sent)"
   ]
  },
  {
   "cell_type": "code",
   "execution_count": 47,
   "metadata": {
    "collapsed": false
   },
   "outputs": [
    {
     "data": {
      "text/plain": [
       "{'OBJ': {},\n",
       " 'SBJ': {1: Chunk('Der SV Werder Bremen/NP-SBJ-1')},\n",
       " 'VP': {1: Chunk('hat/VP-1')}}"
      ]
     },
     "execution_count": 47,
     "metadata": {},
     "output_type": "execute_result"
    }
   ],
   "source": [
    "sent.relations"
   ]
  },
  {
   "cell_type": "code",
   "execution_count": 48,
   "metadata": {
    "collapsed": false
   },
   "outputs": [
    {
     "data": {
      "text/plain": [
       "[Chunk('Der SV Werder Bremen/NP-SBJ-1'),\n",
       " Chunk('hat/VP-1'),\n",
       " Chunk('gestern/ADVP'),\n",
       " Chink('3:0/O'),\n",
       " Chunk('auf/PP'),\n",
       " Chunk('dem Feld/NP'),\n",
       " Chunk('verloren/ADJP'),\n",
       " Chink('./O')]"
      ]
     },
     "execution_count": 48,
     "metadata": {},
     "output_type": "execute_result"
    }
   ],
   "source": [
    "sent.chunked()"
   ]
  },
  {
   "cell_type": "code",
   "execution_count": 51,
   "metadata": {
    "collapsed": false
   },
   "outputs": [
    {
     "data": {
      "image/png": "[encoded data removed]",
      "text/plain": [
       "Tree('S', [Tree('NP', [Tree('DT', ['Der']), Tree('PRP$', ['SV']), Tree('NN', ['Werder']), Tree('NN', ['Bremen'])]), Tree('VP', [Tree('VB', ['hat'])]), Tree('ADVP', [Tree('RB', ['gestern'])]), Tree('PNP', [Tree('PP', [Tree('IN', ['in'])]), Tree('NP', [Tree('DT', ['der']), Tree('NN', ['Allianz-Arena'])])]), Tree('CD', ['3:0']), Tree('PP', [Tree('IN', ['gegen'])]), Tree('ADJP', [Tree('RB', ['Mannheim']), Tree('JJ', ['verloren'])]), Tree('.', ['.'])])"
      ]
     },
     "execution_count": 51,
     "metadata": {},
     "output_type": "execute_result"
    }
   ],
   "source": [
    "parsed = parsetree(\"Der SV Werder Bremen hat gestern in der Allianz-Arena 3:0 gegen Mannheim verloren.\")\n",
    "sent0 = parsed[0]\n",
    "\n",
    "nltk_tree(sent0)"
   ]
  },
  {
   "cell_type": "code",
   "execution_count": 52,
   "metadata": {
    "collapsed": false
   },
   "outputs": [
    {
     "data": {
      "text/plain": [
       "{'OBJ': {}, 'SBJ': {}, 'VP': {None: Chunk('hat/VP')}}"
      ]
     },
     "execution_count": 52,
     "metadata": {},
     "output_type": "execute_result"
    }
   ],
   "source": [
    "sent0.relations"
   ]
  },
  {
   "cell_type": "code",
   "execution_count": null,
   "metadata": {
    "collapsed": true
   },
   "outputs": [],
   "source": []
  }
 ],
 "metadata": {
  "kernelspec": {
   "display_name": "Python 2",
   "language": "python",
   "name": "python2"
  },
  "language_info": {
   "codemirror_mode": {
    "name": "ipython",
    "version": 2
   },
   "file_extension": ".py",
   "mimetype": "text/x-python",
   "name": "python",
   "nbconvert_exporter": "python",
   "pygments_lexer": "ipython2",
   "version": "2.7.6"
  }
 },
 "nbformat": 4,
 "nbformat_minor": 0
}
