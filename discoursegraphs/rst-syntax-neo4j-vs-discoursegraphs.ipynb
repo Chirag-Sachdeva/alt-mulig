{
 "cells": [
  {
   "cell_type": "markdown",
   "metadata": {},
   "source": [
    "# RST and syntax:\n",
    "\n",
    "- which syntactic subordinate clauses match with an RST EDU?\n",
    "- are these EDUs satellites or nucleii?\n",
    "- does this correlate with certain RST relation types?\n",
    "\n",
    "## neo4j query\n",
    "\n",
    "MATCH ()-[r1]->(p)-[*]->(c)<-[:LINKS_TO {layers: [\"rst\", \"rst:token\"], edge_type: \"spans\"}]-(rst)  \n",
    "\n",
    "WHERE p.`tiger:cat` = \"S\" AND (r1.label = \"MO\" OR r1.label = \"SB\" OR r1.label = \"RC\") AND EXISTS(c.`tiger:token`) AND EXISTS(rst.`rst:text`)  \n",
    "\n",
    "RETURN p,c,rst ORDER BY c.`tiger:id`;\n",
    "\n"
   ]
  },
  {
   "cell_type": "code",
   "execution_count": 1,
   "metadata": {
    "collapsed": true
   },
   "outputs": [],
   "source": [
    "import discoursegraphs as dg\n",
    "from discoursegraphs.corpora import pcc"
   ]
  },
  {
   "cell_type": "code",
   "execution_count": 2,
   "metadata": {
    "collapsed": false
   },
   "outputs": [
    {
     "data": {
      "text/plain": [
       "['/home/arne/.virtualenvs/notebook/local/lib/python2.7/site-packages/discoursegraphs-0.1.2-py2.7.egg/data/potsdam-commentary-corpus-2.0.0/rst/maz-17673.rs3',\n",
       " '/home/arne/.virtualenvs/notebook/local/lib/python2.7/site-packages/discoursegraphs-0.1.2-py2.7.egg/data/potsdam-commentary-corpus-2.0.0/connectors/maz-17673.xml',\n",
       " '/home/arne/.virtualenvs/notebook/local/lib/python2.7/site-packages/discoursegraphs-0.1.2-py2.7.egg/data/potsdam-commentary-corpus-2.0.0/coreference/maz-17673.mmax',\n",
       " '/home/arne/.virtualenvs/notebook/local/lib/python2.7/site-packages/discoursegraphs-0.1.2-py2.7.egg/data/potsdam-commentary-corpus-2.0.0/syntax/maz-17673.xml']"
      ]
     },
     "execution_count": 2,
     "metadata": {},
     "output_type": "execute_result"
    }
   ],
   "source": [
    "pcc.get_files_by_document_id('maz-17673')"
   ]
  },
  {
   "cell_type": "code",
   "execution_count": 3,
   "metadata": {
    "collapsed": false
   },
   "outputs": [],
   "source": [
    "tdg = dg.read_tiger('/home/arne/.virtualenvs/notebook/local/lib/python2.7/site-packages/discoursegraphs-0.1.2-py2.7.egg/data/potsdam-commentary-corpus-2.0.0/syntax/maz-17673.xml')"
   ]
  },
  {
   "cell_type": "code",
   "execution_count": 4,
   "metadata": {
    "collapsed": true
   },
   "outputs": [],
   "source": [
    "rdg = dg.read_rs3('/home/arne/.virtualenvs/notebook/local/lib/python2.7/site-packages/discoursegraphs-0.1.2-py2.7.egg/data/potsdam-commentary-corpus-2.0.0/rst/maz-17673.rs3')"
   ]
  },
  {
   "cell_type": "code",
   "execution_count": 5,
   "metadata": {
    "collapsed": false
   },
   "outputs": [],
   "source": [
    "# dg.info(tdg)"
   ]
  },
  {
   "cell_type": "code",
   "execution_count": 6,
   "metadata": {
    "collapsed": false
   },
   "outputs": [
    {
     "data": {
      "text/plain": [
       "{'label': 'VP',\n",
       " 'layers': {'tiger', 'tiger:syntax'},\n",
       " 'tiger:cat': 'VP',\n",
       " 'tiger:id': 's999_506'}"
      ]
     },
     "execution_count": 6,
     "metadata": {},
     "output_type": "execute_result"
    }
   ],
   "source": [
    "tdg.node['s999_506']"
   ]
  },
  {
   "cell_type": "code",
   "execution_count": 7,
   "metadata": {
    "collapsed": false
   },
   "outputs": [
    {
     "data": {
      "text/plain": [
       "'VP'"
      ]
     },
     "execution_count": 7,
     "metadata": {},
     "output_type": "execute_result"
    }
   ],
   "source": [
    "tdg.node['s999_506']['tiger:cat']"
   ]
  },
  {
   "cell_type": "code",
   "execution_count": 8,
   "metadata": {
    "collapsed": false
   },
   "outputs": [],
   "source": [
    "tdg.nodes(data=True)[0][1].get(None)"
   ]
  },
  {
   "cell_type": "code",
   "execution_count": 9,
   "metadata": {
    "collapsed": false
   },
   "outputs": [],
   "source": [
    "# for node_id in tdg:\n",
    "#     if 'tiger:cat' in tdg.node[node_id]:\n",
    "#         print node_id"
   ]
  },
  {
   "cell_type": "code",
   "execution_count": 10,
   "metadata": {
    "collapsed": false
   },
   "outputs": [],
   "source": [
    "# for node_id in dg.select_nodes_by_layer(tdg, 'tiger:syntax'):\n",
    "#     print node_id, tdg[node_id], '\\n'"
   ]
  },
  {
   "cell_type": "code",
   "execution_count": 11,
   "metadata": {
    "collapsed": false
   },
   "outputs": [
    {
     "name": "stdout",
     "output_type": "stream",
     "text": [
      "S NP VZ NP VP VP NP PP NP PP PP PP NP S S VP S VZ NP PP PP NP S NP NP S PP VP CAP VZ CO VP S PP PP CS S VP S PP NP NP NP NP S VP NP PP PP VP NP CS NP VP NP S S NP VP S VP NP S NP PP NP NP PP VP S S NP S S NP CS S VZ S S CNP VP NP NP\n"
     ]
    }
   ],
   "source": [
    "for node_id in dg.select_nodes_by_attribute(tdg, attribute='tiger:cat'):\n",
    "    print tdg.node[node_id]['tiger:cat'],"
   ]
  },
  {
   "cell_type": "code",
   "execution_count": 12,
   "metadata": {
    "collapsed": false
   },
   "outputs": [],
   "source": [
    "# list(dg.select_nodes_by_attribute(tdg, attribute='tiger:cat', value='NP'))"
   ]
  },
  {
   "cell_type": "code",
   "execution_count": 13,
   "metadata": {
    "collapsed": true
   },
   "outputs": [],
   "source": [
    "# %load_ext gvmagic"
   ]
  },
  {
   "cell_type": "code",
   "execution_count": 14,
   "metadata": {
    "collapsed": false
   },
   "outputs": [],
   "source": [
    "# %dotstr dg.print_dot(tdg)"
   ]
  },
  {
   "cell_type": "code",
   "execution_count": 15,
   "metadata": {
    "collapsed": false
   },
   "outputs": [],
   "source": [
    "# for src_id in dg.select_nodes_by_attribute(tdg, attribute='tiger:cat', value='S'):\n",
    "#     for target_id in tdg[src_id]:\n",
    "#         # this is a multi-digraph\n",
    "#         for edge_id in tdg[src_id][target_id]:\n",
    "#             edge_attrs = tdg[src_id][target_id][edge_id]\n",
    "    \n",
    "#             if 'tiger:label' in edge_attrs:\n",
    "#                 if edge_attrs['tiger:label'] in ('MO', 'SB', 'RC'):\n",
    "#                     print src_id, target_id, edge_attrs, '\\n' "
   ]
  },
  {
   "cell_type": "code",
   "execution_count": 16,
   "metadata": {
    "collapsed": false
   },
   "outputs": [],
   "source": [
    "# for src_id, target_id, edges_attrs in tdg.edges(data=True):\n",
    "# #     print src_id, target_id, edges_attrs\n",
    "#     print edges_attrs"
   ]
  },
  {
   "cell_type": "code",
   "execution_count": 17,
   "metadata": {
    "collapsed": true
   },
   "outputs": [],
   "source": [
    "mo_edges = list(dg.select_edges_by_attribute(tdg, attribute='tiger:label', value='MO'))"
   ]
  },
  {
   "cell_type": "code",
   "execution_count": 18,
   "metadata": {
    "collapsed": true
   },
   "outputs": [],
   "source": [
    "rc_edges = list(dg.select_edges_by_attribute(tdg, attribute='tiger:label', value='RC'))"
   ]
  },
  {
   "cell_type": "code",
   "execution_count": 19,
   "metadata": {
    "collapsed": true
   },
   "outputs": [],
   "source": [
    "sb_edges = list(dg.select_edges_by_attribute(tdg, attribute='tiger:label', value='SB'))"
   ]
  },
  {
   "cell_type": "code",
   "execution_count": 20,
   "metadata": {
    "collapsed": false
   },
   "outputs": [
    {
     "data": {
      "text/plain": [
       "(21, 2, 21)"
      ]
     },
     "execution_count": 20,
     "metadata": {},
     "output_type": "execute_result"
    }
   ],
   "source": [
    "len(mo_edges), len(rc_edges), len(sb_edges)"
   ]
  },
  {
   "cell_type": "code",
   "execution_count": 21,
   "metadata": {
    "collapsed": false
   },
   "outputs": [],
   "source": [
    "subord_clause_rels = list(dg.select_edges_by_attribute(\n",
    "    tdg, attribute='tiger:label', value=['MO', 'RC', 'SB']))"
   ]
  },
  {
   "cell_type": "code",
   "execution_count": 22,
   "metadata": {
    "collapsed": false
   },
   "outputs": [
    {
     "data": {
      "text/plain": [
       "44"
      ]
     },
     "execution_count": 22,
     "metadata": {},
     "output_type": "execute_result"
    }
   ],
   "source": [
    "len(subord_clause_rels)"
   ]
  },
  {
   "cell_type": "markdown",
   "metadata": {},
   "source": [
    "# Why do some subordinate-clause-relation targets have no category?\n",
    "\n",
    "* they are tokens (i.e. belonging to the 'tiger:token' layer,\n",
    "  not the 'tiger:syntax' layer)"
   ]
  },
  {
   "cell_type": "code",
   "execution_count": 23,
   "metadata": {
    "collapsed": false
   },
   "outputs": [
    {
     "name": "stdout",
     "output_type": "stream",
     "text": [
      "VP PP\n",
      "VP PP\n",
      "S VP\n",
      "S PP\n",
      "S None\n",
      "S VP\n",
      "S S\n",
      "S PP\n",
      "NP None\n",
      "S PP\n",
      "VP PP\n",
      "S None\n",
      "S PP\n",
      "VP CAP\n",
      "VP None\n",
      "VP PP\n",
      "VP CO\n",
      "S None\n",
      "S None\n",
      "S None\n",
      "VP PP\n",
      "NP S\n",
      "NP S\n",
      "S NP\n",
      "S NP\n",
      "S NP\n",
      "S None\n",
      "S NP\n",
      "S NP\n",
      "S NP\n",
      "S None\n",
      "S NP\n",
      "NP S\n",
      "S NP\n",
      "None S\n",
      "S None\n",
      "S NP\n",
      "S S\n",
      "S None\n",
      "S VP\n",
      "S None\n",
      "S NP\n",
      "S NP\n",
      "S NP\n"
     ]
    }
   ],
   "source": [
    "for src_id, target_id in subord_clause_rels:\n",
    "    src_cat = tdg.node[src_id].get('tiger:cat')\n",
    "    target_cat = tdg.node[target_id].get('tiger:cat')\n",
    "    print src_cat, target_cat"
   ]
  },
  {
   "cell_type": "code",
   "execution_count": 24,
   "metadata": {
    "collapsed": false
   },
   "outputs": [
    {
     "name": "stdout",
     "output_type": "stream",
     "text": [
      "S VP\n",
      "um mögliche Gewalttäter von ihrem Tun abzuhalten\n",
      "S PP\n",
      "in denen\n",
      "S VP\n",
      "ohne straffällig zu werden\n",
      "S S\n",
      "indem sie provozierten ohne straffällig zu werden\n",
      "S PP\n",
      "in denen\n",
      "S PP\n",
      "ins Leere\n",
      "S PP\n",
      "Aus der Distanz\n",
      "S NP\n",
      "Die Kameras\n",
      "S NP\n",
      "ein Einsatzbus mit mehreren Beamten\n",
      "S NP\n",
      "wer straffällig wird der\n",
      "S NP\n",
      "gewaltbereite Jugendliche\n",
      "S NP\n",
      "ihre Sticheleien\n",
      "S NP\n",
      "auch die Zeiten in denen gewaltbereite Jugendliche ihr Katz- und Maus-Spielchen mit den Polizisten trieben indem sie provozierten ohne straffällig zu werden\n",
      "S NP\n",
      "das Objekt ihrer Aggression\n",
      "S NP\n",
      "Die Rathenower Polizeibeamten\n",
      "S NP\n",
      "sein Tun\n",
      "S S\n",
      "Wer sich jetzt etwas zu Schulden kommen lässt\n",
      "S VP\n",
      "Einwände dagegen zu finden\n",
      "S NP\n",
      "Die technischen Augen\n",
      "S NP\n",
      "die Zeiten in denen ein Einsatzbus mit mehreren Beamten auf dem Parkplatz stundenlang Position beziehen musste um mögliche Gewalttäter von ihrem Tun abzuhalten\n",
      "S NP\n",
      "Drei hochmoderne Videokameras\n"
     ]
    }
   ],
   "source": [
    "subord_clause_nodes = []\n",
    "\n",
    "for src_id, target_id in subord_clause_rels:\n",
    "    src_cat = tdg.node[src_id].get('tiger:cat')\n",
    "    target_cat = tdg.node[target_id].get('tiger:cat')\n",
    "    if src_cat == 'S' and \\\n",
    "        'tiger:syntax' in tdg.node[target_id]['layers']:\n",
    "            print src_cat, target_cat\n",
    "            print dg.get_text(tdg, target_id)\n",
    "            subord_clause_nodes.append(target_id)"
   ]
  },
  {
   "cell_type": "code",
   "execution_count": 25,
   "metadata": {
    "collapsed": true
   },
   "outputs": [],
   "source": [
    "tdg.merge_graphs(rdg)"
   ]
  },
  {
   "cell_type": "code",
   "execution_count": 26,
   "metadata": {
    "collapsed": false
   },
   "outputs": [],
   "source": [
    "from discoursegraphs.readwrite.rst import rs3"
   ]
  },
  {
   "cell_type": "code",
   "execution_count": 27,
   "metadata": {
    "collapsed": false
   },
   "outputs": [
    {
     "name": "stdout",
     "output_type": "stream",
     "text": [
      "rst:1 Unbestechliche Zeugen\n",
      "rst:14 Die Rathenower Polizeibeamten haben gestern enorme Verstärkung erhalten .\n",
      "rst:2 Die Rathenower Polizeibeamten haben gestern enorme Verstärkung erhalten . Drei hochmoderne Videokameras werden sie bei der Beobachtung des Dancehouse-Geländes unterstützen .\n",
      "rst:3 Vorbei die Zeiten , in denen ein Einsatzbus mit mehreren Beamten auf dem Parkplatz stundenlang Position beziehen musste , um mögliche Gewalttäter von ihrem Tun abzuhalten .\n",
      "rst:15 um mögliche Gewalttäter von ihrem Tun abzuhalten .\n",
      "rst:4 Vorbei auch die Zeiten , in denen gewaltbereite Jugendliche ihr Katz- und Maus-Spielchen mit den Polizisten trieben , indem sie provozierten , ohne straffällig zu werden .\n",
      "rst:16 indem sie provozierten , ohne straffällig zu werden .\n",
      "rst:17 ohne straffällig zu werden .\n",
      "rst:5 Vorbei .\n",
      "rst:6 Wer sich jetzt etwas zu Schulden kommen lässt ,\n",
      "rst:18 Wer sich jetzt etwas zu Schulden kommen lässt , muss damit rechnen , unverzüglich und beweiskräftig überführt zu werden .\n",
      "rst:7 Die Kameras sind unbestechlich .\n",
      "rst:8 Die Kameras sind unbestechlich . Aus der Distanz beobachten sie das Geschehen und geben den Beamten an den Monitoren die Möglichkeit , die Lage nüchtern und mit klarem Kopf einzuschätzen .\n",
      "rst:9 Provokateuren wird das Objekt ihrer Aggression genommen ,\n",
      "rst:19 Provokateuren wird das Objekt ihrer Aggression genommen , ihre Sticheleien laufen ins Leere .\n",
      "rst:10 Und wer straffällig wird ,\n",
      "rst:20 Und wer straffällig wird , der braucht nicht darauf zu hoffen , dass sein Tun unbemerkt bleibt .\n",
      "rst:11 Die technischen Augen sehen alles\n",
      "rst:29 und liefern die entsprechenden Beweise .\n",
      "rst:12 Das ist das Ziel der Videoüberwachung .\n",
      "rst:13 Einwände dagegen zu finden , fällt schwer .\n"
     ]
    }
   ],
   "source": [
    "for edu_node_id in rs3.get_edus(tdg):\n",
    "    print edu_node_id, dg.get_text(tdg, edu_node_id)"
   ]
  },
  {
   "cell_type": "markdown",
   "metadata": {
    "collapsed": true
   },
   "source": [
    "# Which EDUs cover the same span as the given subordinate clauses?"
   ]
  },
  {
   "cell_type": "code",
   "execution_count": 28,
   "metadata": {
    "collapsed": false
   },
   "outputs": [
    {
     "name": "stdout",
     "output_type": "stream",
     "text": [
      "(318, 366) (216, 224) (512, 538) (487, 538) (394, 402) (943, 952) (705, 720) (672, 683) (225, 260) (959, 985) (403, 428) (919, 935) (376, 538) (880, 907) (22, 51) (1024, 1032) (550, 595) (1167, 1193) (1052, 1073) (203, 366) (96, 125)\n"
     ]
    }
   ],
   "source": [
    "subord_offsets = []\n",
    "\n",
    "for subord_node in subord_clause_nodes:\n",
    "    span_offsets = dg.get_span_offsets(tdg, subord_node)\n",
    "    subord_offsets.append(span_offsets)\n",
    "    print span_offsets,\n",
    "    "
   ]
  },
  {
   "cell_type": "code",
   "execution_count": 29,
   "metadata": {
    "collapsed": false
   },
   "outputs": [
    {
     "name": "stdout",
     "output_type": "stream",
     "text": [
      "(0, 21) (22, 95) (22, 195) (196, 368) (318, 368) (369, 540) (487, 540) (512, 540) (541, 549) (550, 597) (550, 671) (672, 704) (672, 860) (861, 918) (861, 954) (955, 981) (955, 1051) (1052, 1085) (1086, 1126) (1127, 1166) (1167, 1210)\n"
     ]
    }
   ],
   "source": [
    "edu_offsets = []\n",
    "\n",
    "for edu_node_id in rs3.get_edus(tdg):\n",
    "    span_offsets = dg.get_span_offsets(tdg, edu_node_id)\n",
    "    edu_offsets.append(span_offsets)\n",
    "    print span_offsets,"
   ]
  },
  {
   "cell_type": "markdown",
   "metadata": {},
   "source": [
    "## Problem: EDU and subordinate clause may cover the same clause with(out) punctuation\n",
    "\n",
    "- subordinate clause: (318, 366)\n",
    "- EDU: (318, 368)"
   ]
  },
  {
   "cell_type": "code",
   "execution_count": 30,
   "metadata": {
    "collapsed": false
   },
   "outputs": [
    {
     "data": {
      "text/plain": [
       "set()"
      ]
     },
     "execution_count": 30,
     "metadata": {},
     "output_type": "execute_result"
    }
   ],
   "source": [
    "set(edu_offsets).intersection(set(subord_offsets))"
   ]
  },
  {
   "cell_type": "code",
   "execution_count": 31,
   "metadata": {
    "collapsed": false
   },
   "outputs": [
    {
     "data": {
      "text/plain": [
       "u'um m\\xf6gliche Gewaltt\\xe4ter von ihrem Tun abzuhalten'"
      ]
     },
     "execution_count": 31,
     "metadata": {},
     "output_type": "execute_result"
    }
   ],
   "source": [
    "dg.get_text(tdg)[318:366] # subordinate clause"
   ]
  },
  {
   "cell_type": "code",
   "execution_count": 32,
   "metadata": {
    "collapsed": false
   },
   "outputs": [
    {
     "data": {
      "text/plain": [
       "u'um m\\xf6gliche Gewaltt\\xe4ter von ihrem Tun abzuhalten .'"
      ]
     },
     "execution_count": 32,
     "metadata": {},
     "output_type": "execute_result"
    }
   ],
   "source": [
    "dg.get_text(tdg)[318:368] # EDU"
   ]
  },
  {
   "cell_type": "markdown",
   "metadata": {},
   "source": [
    "## variant 1: EDU entails subordinate clause"
   ]
  },
  {
   "cell_type": "code",
   "execution_count": 33,
   "metadata": {
    "collapsed": false
   },
   "outputs": [
    {
     "name": "stdout",
     "output_type": "stream",
     "text": [
      "(196, 368) includes (203, 366) share:  0.947674418605\n",
      "(318, 368) includes (318, 366) share:  0.96\n",
      "(369, 540) includes (376, 538) share:  0.947368421053\n",
      "(487, 540) includes (487, 538) share:  0.962264150943\n",
      "(512, 540) includes (512, 538) share:  0.928571428571\n",
      "(550, 597) includes (550, 595) share:  0.957446808511\n"
     ]
    }
   ],
   "source": [
    "for e_on, e_off in edu_offsets:\n",
    "    for s_on, s_off in subord_offsets:\n",
    "        if e_on <= s_on and s_off <= e_off:\n",
    "            share = (s_off - s_on) / float(e_off - e_on)\n",
    "            if share >= 0.9:\n",
    "                print (e_on, e_off), \"includes\", (s_on, s_off), \"share: \", share"
   ]
  },
  {
   "cell_type": "markdown",
   "metadata": {},
   "source": [
    "## variant 2: subordinate clause entails EDU"
   ]
  },
  {
   "cell_type": "code",
   "execution_count": 34,
   "metadata": {
    "collapsed": true
   },
   "outputs": [],
   "source": [
    "for s_on, s_off in subord_offsets:\n",
    "    for e_on, e_off in edu_offsets:\n",
    "        if s_on <= e_on and e_off <= s_off:\n",
    "            share = float(e_off - e_on) / (s_off - s_on)\n",
    "            if share >= 0.9:\n",
    "                print (s_on, s_off), \"includes\", (e_on, e_off), \"share: \", share"
   ]
  },
  {
   "cell_type": "markdown",
   "metadata": {},
   "source": [
    "# TODO: allow queries for overlapping spans"
   ]
  },
  {
   "cell_type": "code",
   "execution_count": 35,
   "metadata": {
    "collapsed": true
   },
   "outputs": [],
   "source": [
    "import intervaltree"
   ]
  },
  {
   "cell_type": "code",
   "execution_count": 36,
   "metadata": {
    "collapsed": false
   },
   "outputs": [],
   "source": [
    "from intervaltree import IntervalTree, Interval"
   ]
  },
  {
   "cell_type": "code",
   "execution_count": 37,
   "metadata": {
    "collapsed": false
   },
   "outputs": [],
   "source": [
    "subord_clauses = IntervalTree.from_tuples(subord_offsets)"
   ]
  },
  {
   "cell_type": "code",
   "execution_count": 38,
   "metadata": {
    "collapsed": true
   },
   "outputs": [],
   "source": [
    "edus = IntervalTree.from_tuples(edu_offsets)"
   ]
  },
  {
   "cell_type": "code",
   "execution_count": 39,
   "metadata": {
    "collapsed": false
   },
   "outputs": [
    {
     "data": {
      "text/plain": [
       "IntervalTree()"
      ]
     },
     "execution_count": 39,
     "metadata": {},
     "output_type": "execute_result"
    }
   ],
   "source": [
    "edus.intersection(subord_clauses)"
   ]
  },
  {
   "cell_type": "code",
   "execution_count": 40,
   "metadata": {
    "collapsed": false
   },
   "outputs": [
    {
     "data": {
      "text/plain": [
       "Interval(318, 366)"
      ]
     },
     "execution_count": 40,
     "metadata": {},
     "output_type": "execute_result"
    }
   ],
   "source": [
    "Interval(*(318, 366))"
   ]
  },
  {
   "cell_type": "code",
   "execution_count": 41,
   "metadata": {
    "collapsed": false
   },
   "outputs": [
    {
     "name": "stdout",
     "output_type": "stream",
     "text": [
      "Interval(10, 100)\n",
      "10\n",
      "100\n"
     ]
    }
   ],
   "source": [
    "a = Interval(10, 100)\n",
    "print a\n",
    "print a.begin\n",
    "print a.end"
   ]
  },
  {
   "cell_type": "code",
   "execution_count": null,
   "metadata": {
    "collapsed": true
   },
   "outputs": [],
   "source": []
  },
  {
   "cell_type": "code",
   "execution_count": 42,
   "metadata": {
    "collapsed": false
   },
   "outputs": [],
   "source": [
    "# help(Interval)"
   ]
  },
  {
   "cell_type": "code",
   "execution_count": 43,
   "metadata": {
    "collapsed": false
   },
   "outputs": [
    {
     "name": "stdout",
     "output_type": "stream",
     "text": [
      "xrange(318, 366) xrange(318, 368) 0.96\n",
      "xrange(512, 538) xrange(512, 540) 0.928571428571\n",
      "xrange(487, 538) xrange(487, 540) 0.962264150943\n",
      "xrange(487, 538) xrange(512, 540) 0.928571428571\n",
      "xrange(376, 538) xrange(487, 540) 0.962264150943\n",
      "xrange(376, 538) xrange(369, 540) 0.947368421053\n",
      "xrange(376, 538) xrange(512, 540) 0.928571428571\n",
      "xrange(550, 595) xrange(550, 597) 0.957446808511\n",
      "xrange(203, 366) xrange(318, 368) 0.96\n",
      "xrange(203, 366) xrange(196, 368) 0.947674418605\n"
     ]
    }
   ],
   "source": [
    "for subord_clause in subord_offsets:\n",
    "    overlapping_edu_intervals = edus[Interval(*subord_clause)]\n",
    "#     print subord_clause, overlapping_intervals\n",
    "    for overlap_interval in overlapping_edu_intervals:\n",
    "#         print subord_clause, overlap_interval\n",
    "        subord_range = xrange(*subord_clause)\n",
    "        edu_range =  xrange(overlap_interval.begin, overlap_interval.end)\n",
    "        overlap_range = set(subord_range).intersection(set(edu_range))\n",
    "\n",
    "        share = len(overlap_range) / float(len(edu_range))\n",
    "        if share >= 0.90:\n",
    "            print subord_range, edu_range, share\n",
    "        "
   ]
  },
  {
   "cell_type": "code",
   "execution_count": 44,
   "metadata": {
    "collapsed": false
   },
   "outputs": [
    {
     "data": {
      "text/plain": [
       "u'die Zeiten , in denen ein Einsatzbus mit mehreren Beamten auf dem Parkplatz stundenlang Position beziehen musste , um m\\xf6gliche Gewaltt\\xe4ter von ihrem Tun abzuhalten'"
      ]
     },
     "execution_count": 44,
     "metadata": {},
     "output_type": "execute_result"
    }
   ],
   "source": [
    "dg.get_text(tdg)[203:366]"
   ]
  },
  {
   "cell_type": "code",
   "execution_count": 45,
   "metadata": {
    "collapsed": false
   },
   "outputs": [
    {
     "data": {
      "text/plain": [
       "u'Vorbei die Zeiten , in denen ein Einsatzbus mit mehreren Beamten auf dem Parkplatz stundenlang Position beziehen musste , um m\\xf6gliche Gewaltt\\xe4ter von ihrem Tun abzuhalten .'"
      ]
     },
     "execution_count": 45,
     "metadata": {},
     "output_type": "execute_result"
    }
   ],
   "source": [
    "dg.get_text(tdg)[196:368]"
   ]
  },
  {
   "cell_type": "code",
   "execution_count": 85,
   "metadata": {
    "collapsed": false
   },
   "outputs": [],
   "source": [
    "from intervaltree import IntervalTree, Interval\n",
    "\n",
    "def find_overlapping_spans(local_spans, other_spans, overlap_threshold=95):\n",
    "    other_tree = IntervalTree.from_tuples(other_spans)\n",
    "    \n",
    "    for local_span in local_spans:\n",
    "        # all the spans from ``other_spans`` that overlap with this ``local_span``\n",
    "        overlap_intervals = other_tree[Interval(*local_span)]\n",
    "        for overlap_interval in overlap_intervals:\n",
    "            local_on, local_off = local_span\n",
    "            len_local = local_off - local_on\n",
    "\n",
    "            other_on, other_off = overlap_interval.begin, overlap_interval.end\n",
    "            len_other = other_off - other_on\n",
    "            len_longest_input = max(len_local, len_other)\n",
    "            \n",
    "            overlap_on = max(local_on, other_on)\n",
    "            overlap_off = min(local_off, other_off)\n",
    "            len_overlap = overlap_off - overlap_on\n",
    "\n",
    "            # overlap in % between the input intervals\n",
    "            overlap = len_overlap / float(len_longest_input) * 100\n",
    "\n",
    "            if overlap >= overlap_threshold or (len_overlap+2 >= len_longest_input):\n",
    "                print local_span, overlap_interval, overlap\n",
    "        \n"
   ]
  },
  {
   "cell_type": "code",
   "execution_count": null,
   "metadata": {
    "collapsed": true
   },
   "outputs": [],
   "source": []
  },
  {
   "cell_type": "code",
   "execution_count": 86,
   "metadata": {
    "collapsed": false
   },
   "outputs": [
    {
     "name": "stdout",
     "output_type": "stream",
     "text": [
      "(318, 366) Interval(318, 368) 96.0\n",
      "(512, 538) Interval(512, 540) 92.8571428571\n",
      "(487, 538) Interval(487, 540) 96.2264150943\n",
      "(550, 595) Interval(550, 597) 95.7446808511\n"
     ]
    }
   ],
   "source": [
    "find_overlapping_spans(subord_offsets, edu_offsets)"
   ]
  },
  {
   "cell_type": "code",
   "execution_count": 88,
   "metadata": {
    "collapsed": false
   },
   "outputs": [
    {
     "name": "stdout",
     "output_type": "stream",
     "text": [
      "(318, 368) Interval(318, 366) 96.0\n",
      "(487, 540) Interval(487, 538) 96.2264150943\n",
      "(512, 540) Interval(512, 538) 92.8571428571\n",
      "(550, 597) Interval(550, 595) 95.7446808511\n"
     ]
    }
   ],
   "source": [
    "find_overlapping_spans(edu_offsets, subord_offsets)"
   ]
  },
  {
   "cell_type": "code",
   "execution_count": 92,
   "metadata": {
    "collapsed": false
   },
   "outputs": [
    {
     "name": "stdout",
     "output_type": "stream",
     "text": [
      "Help on method get_offsets in module discoursegraphs.discoursegraph:\n",
      "\n",
      "get_offsets(self, token_node_id=None, offset_ns=None) method of discoursegraphs.readwrite.tiger.TigerDocumentGraph instance\n",
      "    returns the offsets (character starting and end position) of a token\n",
      "    or of all tokens occurring in the document.\n",
      "    \n",
      "    Parameters\n",
      "    ----------\n",
      "    token_node_id : str or None\n",
      "        Node ID of a token from which we want to retrieve the start and end\n",
      "        position. If no node ID is given, this method will yield\n",
      "        (token node ID, start pos, end pos) tuples containing data for all\n",
      "        tokens in the document\n",
      "    offset_ns : str or None\n",
      "        The namespace from which the offsets will be retrieved. If no\n",
      "        namespace is given, the default namespace of this document graph is\n",
      "        chosen\n",
      "    \n",
      "    Returns\n",
      "    -------\n",
      "    offsets : tuple(int, int) or generator(tuple(str, int, int))\n",
      "        If a token node ID is given, a (character onset int, character\n",
      "        offset int) tuple is returned. Otherwise, a generator of (token\n",
      "        node ID str, character onset int, character offset int) tuples\n",
      "        will be returned, representing all the tokens in the order they\n",
      "        occur in the document.\n",
      "\n"
     ]
    }
   ],
   "source": [
    "help(tdg.get_offsets)"
   ]
  },
  {
   "cell_type": "code",
   "execution_count": null,
   "metadata": {
    "collapsed": true
   },
   "outputs": [],
   "source": []
  }
 ],
 "metadata": {
  "kernelspec": {
   "display_name": "Python 2",
   "language": "python",
   "name": "python2"
  },
  "language_info": {
   "codemirror_mode": {
    "name": "ipython",
    "version": 2
   },
   "file_extension": ".py",
   "mimetype": "text/x-python",
   "name": "python",
   "nbconvert_exporter": "python",
   "pygments_lexer": "ipython2",
   "version": "2.7.6"
  }
 },
 "nbformat": 4,
 "nbformat_minor": 0
}
