{
 "cells": [
  {
   "cell_type": "markdown",
   "metadata": {},
   "source": [
    "# RST and syntax:\n",
    "\n",
    "## Task 1: Which syntactic subordinate clauses match with an RST EDU?\n",
    "## Task 2: Are these EDUs satellites or nucleii?\n",
    "## Task 3: does this correlate with certain RST relation types?\n",
    "\n",
    "## neo4j query\n",
    "\n",
    "MATCH ()-[r1]->(p)-[*]->(c)<-[:LINKS_TO {layers: [\"rst\", \"rst:token\"], edge_type: \"spans\"}]-(rst)  \n",
    "\n",
    "WHERE p.`tiger:cat` = \"S\" AND (r1.label = \"MO\" OR r1.label = \"SB\" OR r1.label = \"RC\") AND EXISTS(c.`tiger:token`) AND EXISTS(rst.`rst:text`)  \n",
    "\n",
    "RETURN p,c,rst ORDER BY c.`tiger:id`;\n",
    "\n"
   ]
  },
  {
   "cell_type": "code",
   "execution_count": 1,
   "metadata": {
    "collapsed": true
   },
   "outputs": [],
   "source": [
    "import discoursegraphs as dg\n",
    "from discoursegraphs.corpora import pcc"
   ]
  },
  {
   "cell_type": "code",
   "execution_count": 2,
   "metadata": {
    "collapsed": false
   },
   "outputs": [
    {
     "data": {
      "text/plain": [
       "['/home/arne/.virtualenvs/notebook/local/lib/python2.7/site-packages/discoursegraphs-0.1.2-py2.7.egg/data/potsdam-commentary-corpus-2.0.0/rst/maz-17673.rs3',\n",
       " '/home/arne/.virtualenvs/notebook/local/lib/python2.7/site-packages/discoursegraphs-0.1.2-py2.7.egg/data/potsdam-commentary-corpus-2.0.0/connectors/maz-17673.xml',\n",
       " '/home/arne/.virtualenvs/notebook/local/lib/python2.7/site-packages/discoursegraphs-0.1.2-py2.7.egg/data/potsdam-commentary-corpus-2.0.0/coreference/maz-17673.mmax',\n",
       " '/home/arne/.virtualenvs/notebook/local/lib/python2.7/site-packages/discoursegraphs-0.1.2-py2.7.egg/data/potsdam-commentary-corpus-2.0.0/syntax/maz-17673.xml']"
      ]
     },
     "execution_count": 2,
     "metadata": {},
     "output_type": "execute_result"
    }
   ],
   "source": [
    "pcc.get_files_by_document_id('maz-17673')"
   ]
  },
  {
   "cell_type": "code",
   "execution_count": 3,
   "metadata": {
    "collapsed": false
   },
   "outputs": [],
   "source": [
    "tdg = dg.read_tiger('/home/arne/.virtualenvs/notebook/local/lib/python2.7/site-packages/discoursegraphs-0.1.2-py2.7.egg/data/potsdam-commentary-corpus-2.0.0/syntax/maz-17673.xml')"
   ]
  },
  {
   "cell_type": "code",
   "execution_count": 4,
   "metadata": {
    "collapsed": true
   },
   "outputs": [],
   "source": [
    "rdg = dg.read_rs3('/home/arne/.virtualenvs/notebook/local/lib/python2.7/site-packages/discoursegraphs-0.1.2-py2.7.egg/data/potsdam-commentary-corpus-2.0.0/rst/maz-17673.rs3')"
   ]
  },
  {
   "cell_type": "code",
   "execution_count": 5,
   "metadata": {
    "collapsed": false
   },
   "outputs": [],
   "source": [
    "# dg.info(tdg)"
   ]
  },
  {
   "cell_type": "code",
   "execution_count": 6,
   "metadata": {
    "collapsed": false
   },
   "outputs": [
    {
     "data": {
      "text/plain": [
       "{'label': 'VP',\n",
       " 'layers': {'tiger', 'tiger:syntax'},\n",
       " 'tiger:cat': 'VP',\n",
       " 'tiger:id': 's999_506'}"
      ]
     },
     "execution_count": 6,
     "metadata": {},
     "output_type": "execute_result"
    }
   ],
   "source": [
    "tdg.node['s999_506']"
   ]
  },
  {
   "cell_type": "code",
   "execution_count": 7,
   "metadata": {
    "collapsed": false
   },
   "outputs": [],
   "source": [
    "def get_subordinate_clauses(tiger_docgraph):\n",
    "    \"\"\"\n",
    "    given a document graph of a TIGER syntax tree, return all\n",
    "    node IDs of nodes representing subordinate clause constituents.\n",
    "    \"\"\"\n",
    "    subord_clause_rels = \\\n",
    "        dg.select_edges_by_attribute(\n",
    "            tiger_docgraph, attribute='tiger:label',\n",
    "            value=['MO', 'RC', 'SB'])\n",
    "    \n",
    "    subord_clause_nodes = []\n",
    "    for src_id, target_id in subord_clause_rels:\n",
    "        src_cat = tiger_docgraph.node[src_id].get('tiger:cat')\n",
    "        if src_cat == 'S' and not dg.istoken(tiger_docgraph, target_id):\n",
    "            subord_clause_nodes.append(target_id)\n",
    "    return subord_clause_nodes"
   ]
  },
  {
   "cell_type": "code",
   "execution_count": 8,
   "metadata": {
    "collapsed": true
   },
   "outputs": [],
   "source": [
    "tdg.merge_graphs(rdg)"
   ]
  },
  {
   "cell_type": "code",
   "execution_count": 9,
   "metadata": {
    "collapsed": false
   },
   "outputs": [],
   "source": [
    "from discoursegraphs.readwrite.rst import rs3"
   ]
  },
  {
   "cell_type": "markdown",
   "metadata": {
    "collapsed": true
   },
   "source": [
    "## Task 1: Which syntactic subordinate clauses match with an RST EDU?"
   ]
  },
  {
   "cell_type": "code",
   "execution_count": 10,
   "metadata": {
    "collapsed": false
   },
   "outputs": [],
   "source": [
    "subord_offsets = [dg.get_span_offsets(tdg, sc)\n",
    "                  for sc in get_subordinate_clauses(tdg)]"
   ]
  },
  {
   "cell_type": "code",
   "execution_count": 11,
   "metadata": {
    "collapsed": false
   },
   "outputs": [],
   "source": [
    "edu_offsets = [dg.get_span_offsets(tdg, edu) for edu in rs3.get_edus(tdg)]"
   ]
  },
  {
   "cell_type": "markdown",
   "metadata": {},
   "source": [
    "## Problem: EDU and subordinate clause may cover the same clause with(out) punctuation\n",
    "\n",
    "- subordinate clause: (318, 366)\n",
    "- EDU: (318, 368)"
   ]
  },
  {
   "cell_type": "code",
   "execution_count": 12,
   "metadata": {
    "collapsed": false
   },
   "outputs": [
    {
     "data": {
      "text/plain": [
       "set()"
      ]
     },
     "execution_count": 12,
     "metadata": {},
     "output_type": "execute_result"
    }
   ],
   "source": [
    "set(edu_offsets).intersection(set(subord_offsets))"
   ]
  },
  {
   "cell_type": "code",
   "execution_count": 13,
   "metadata": {
    "collapsed": false
   },
   "outputs": [
    {
     "data": {
      "text/plain": [
       "u'um m\\xf6gliche Gewaltt\\xe4ter von ihrem Tun abzuhalten'"
      ]
     },
     "execution_count": 13,
     "metadata": {},
     "output_type": "execute_result"
    }
   ],
   "source": [
    "dg.get_text(tdg)[318:366] # subordinate clause"
   ]
  },
  {
   "cell_type": "code",
   "execution_count": 14,
   "metadata": {
    "collapsed": false
   },
   "outputs": [
    {
     "data": {
      "text/plain": [
       "u'um m\\xf6gliche Gewaltt\\xe4ter von ihrem Tun abzuhalten .'"
      ]
     },
     "execution_count": 14,
     "metadata": {},
     "output_type": "execute_result"
    }
   ],
   "source": [
    "dg.get_text(tdg)[318:368] # EDU"
   ]
  },
  {
   "cell_type": "markdown",
   "metadata": {},
   "source": [
    "## variant 1: EDU entails subordinate clause"
   ]
  },
  {
   "cell_type": "code",
   "execution_count": 15,
   "metadata": {
    "collapsed": false
   },
   "outputs": [
    {
     "name": "stdout",
     "output_type": "stream",
     "text": [
      "(196, 368) includes (203, 366) share:  0.947674418605\n",
      "(318, 368) includes (318, 366) share:  0.96\n",
      "(369, 540) includes (376, 538) share:  0.947368421053\n",
      "(487, 540) includes (487, 538) share:  0.962264150943\n",
      "(512, 540) includes (512, 538) share:  0.928571428571\n",
      "(550, 597) includes (550, 595) share:  0.957446808511\n"
     ]
    }
   ],
   "source": [
    "for e_on, e_off in edu_offsets:\n",
    "    for s_on, s_off in subord_offsets:\n",
    "        if e_on <= s_on and s_off <= e_off:\n",
    "            share = (s_off - s_on) / float(e_off - e_on)\n",
    "            if share >= 0.9:\n",
    "                print (e_on, e_off), \"includes\", (s_on, s_off), \"share: \", share"
   ]
  },
  {
   "cell_type": "markdown",
   "metadata": {},
   "source": [
    "## variant 2: subordinate clause entails EDU"
   ]
  },
  {
   "cell_type": "code",
   "execution_count": 16,
   "metadata": {
    "collapsed": true
   },
   "outputs": [],
   "source": [
    "for s_on, s_off in subord_offsets:\n",
    "    for e_on, e_off in edu_offsets:\n",
    "        if s_on <= e_on and e_off <= s_off:\n",
    "            share = float(e_off - e_on) / (s_off - s_on)\n",
    "            if share >= 0.9:\n",
    "                print (s_on, s_off), \"includes\", (e_on, e_off), \"share: \", share"
   ]
  },
  {
   "cell_type": "markdown",
   "metadata": {},
   "source": [
    "## subtask: allow queries for overlapping spans"
   ]
  },
  {
   "cell_type": "code",
   "execution_count": 17,
   "metadata": {
    "collapsed": false
   },
   "outputs": [
    {
     "data": {
      "text/plain": [
       "u'die Zeiten , in denen ein Einsatzbus mit mehreren Beamten auf dem Parkplatz stundenlang Position beziehen musste , um m\\xf6gliche Gewaltt\\xe4ter von ihrem Tun abzuhalten'"
      ]
     },
     "execution_count": 17,
     "metadata": {},
     "output_type": "execute_result"
    }
   ],
   "source": [
    "dg.get_text(tdg)[203:366]"
   ]
  },
  {
   "cell_type": "code",
   "execution_count": 18,
   "metadata": {
    "collapsed": false
   },
   "outputs": [
    {
     "data": {
      "text/plain": [
       "u'Vorbei die Zeiten , in denen ein Einsatzbus mit mehreren Beamten auf dem Parkplatz stundenlang Position beziehen musste , um m\\xf6gliche Gewaltt\\xe4ter von ihrem Tun abzuhalten .'"
      ]
     },
     "execution_count": 18,
     "metadata": {},
     "output_type": "execute_result"
    }
   ],
   "source": [
    "dg.get_text(tdg)[196:368]"
   ]
  },
  {
   "cell_type": "code",
   "execution_count": 140,
   "metadata": {
    "collapsed": false
   },
   "outputs": [],
   "source": [
    "from operator import itemgetter\n",
    "\n",
    "def max_overlap(overlapping_nodes):\n",
    "    \"\"\"\n",
    "    given a list of nodes, return the node ID of the\n",
    "    best matching node.\n",
    "    \n",
    "    Parameters\n",
    "    ----------\n",
    "    overlapping_nodes : list of dict\n",
    "        A list of nodes. Each node is represented as a\n",
    "        dict with two keys: ``node`` (the node ID) and\n",
    "        ``overlap`` (percentage over overlap with another\n",
    "        string)\n",
    "    \n",
    "    Returns\n",
    "    -------\n",
    "    max_overlap : dict\n",
    "        dict containing ``node_id`` (of the node\n",
    "        with the highest overlap), as well as some\n",
    "        metadata (e.g. ``overlap`` in percent, ``interval``\n",
    "        (string onset int, string offset int))\n",
    "    \"\"\"\n",
    "    return sorted(overlapping_nodes,\n",
    "                       key=lambda n: n['overlap'],\n",
    "                       reverse=True)[0]"
   ]
  },
  {
   "cell_type": "code",
   "execution_count": 141,
   "metadata": {
    "collapsed": false
   },
   "outputs": [],
   "source": [
    "from collections import defaultdict\n",
    "\n",
    "from intervaltree import IntervalTree, Interval\n",
    "\n",
    "import discoursegraphs as dg\n",
    "from discoursegraphs.readwrite.rst import rs3\n",
    "\n",
    "\n",
    "def find_overlapping_nodes(\n",
    "    docgraph, local_nodes, other_nodes,\n",
    "    overlap_threshold=95, debug=False):\n",
    "    \"\"\"\n",
    "    \"\"\"\n",
    "    # there might be more than one node covering the same span\n",
    "    local_span2nodes = defaultdict(list)\n",
    "    for local_node in local_nodes:\n",
    "        span = dg.get_span_offsets(docgraph, local_node)\n",
    "        local_span2nodes[span].append(local_node)\n",
    "        \n",
    "    other_span2nodes = defaultdict(list)\n",
    "    for other_node in other_nodes:\n",
    "        span = dg.get_span_offsets(docgraph, other_node)\n",
    "        other_span2nodes[span].append(other_node)\n",
    "\n",
    "    other_tree = IntervalTree.from_tuples(other_span2nodes.keys())\n",
    "    overlap_map = defaultdict(list)\n",
    "\n",
    "    for local_span in local_span2nodes:\n",
    "        # all the spans from ``other_spans`` that overlap with this ``local_span``\n",
    "        overlap_intervals = other_tree[Interval(*local_span)]\n",
    "        for overlap_interval in overlap_intervals:\n",
    "            local_on, local_off = local_span\n",
    "            len_local = local_off - local_on\n",
    "\n",
    "            other_on, other_off = overlap_interval.begin, overlap_interval.end\n",
    "            len_other = other_off - other_on\n",
    "            len_longest_input = max(len_local, len_other)\n",
    "            \n",
    "            overlap_on = max(local_on, other_on)\n",
    "            overlap_off = min(local_off, other_off)\n",
    "            len_overlap = overlap_off - overlap_on\n",
    "\n",
    "            # overlap in % between the input intervals\n",
    "            overlap = len_overlap / float(len_longest_input) * 100\n",
    "\n",
    "            if overlap >= overlap_threshold or (len_overlap+2 >= len_longest_input):\n",
    "                # generate a mapping from a local node to all\n",
    "                # the ``other_nodes`` it overlaps with (incl.\n",
    "                # their overlap in % for finding the best match)\n",
    "                for local_node in local_span2nodes[local_span]:\n",
    "                    overlap_span = (overlap_interval.begin, overlap_interval.end)\n",
    "                    for other_node in other_span2nodes[overlap_span]:\n",
    "                        overlap_map[local_node].append(\n",
    "                            {'node_id': other_node, 'overlap': overlap,\n",
    "                             'interval': (other_on, other_off)})\n",
    "                \n",
    "                if debug:\n",
    "                    print local_span, overlap_interval, overlap\n",
    "    \n",
    "    return {local_node: max_overlap(overlap_map[local_node])\n",
    "            for local_node in overlap_map}\n"
   ]
  },
  {
   "cell_type": "code",
   "execution_count": 142,
   "metadata": {
    "collapsed": false
   },
   "outputs": [],
   "source": [
    "subord_nodes = get_subordinate_clauses(tdg)\n",
    "edu_nodes =  rs3.get_edus(tdg)\n",
    "\n",
    "overlapping_nodes_map = find_overlapping_nodes(\n",
    "    tdg, subord_nodes, edu_nodes, overlap_threshold=100)"
   ]
  },
  {
   "cell_type": "markdown",
   "metadata": {},
   "source": [
    "## Task 1: Which syntactic subordinate clauses match with an RST EDU?"
   ]
  },
  {
   "cell_type": "code",
   "execution_count": 178,
   "metadata": {
    "collapsed": false
   },
   "outputs": [
    {
     "name": "stdout",
     "output_type": "stream",
     "text": [
      "VP ohne straffällig zu werden\n",
      "S indem sie provozierten ohne straffällig zu werden\n",
      "S Wer sich jetzt etwas zu Schulden kommen lässt\n",
      "VP um mögliche Gewalttäter von ihrem Tun abzuhalten\n"
     ]
    }
   ],
   "source": [
    "for subord_clause in overlapping_nodes_map:\n",
    "#     print subord_clause\n",
    "    print tdg.node[subord_clause]['tiger:cat'], dg.get_text(tdg, subord_clause)\n",
    "\n",
    "#     other_node = overlapping_nodes_map[subord_clause]\n",
    "#     other_node_id = other_node['node_id']\n",
    "#     print other_node, dg.get_text(tdg, other_node_id)\n",
    "#     print tdg.node[other_node_id]['rst:segment_type'], '\\n'"
   ]
  },
  {
   "cell_type": "markdown",
   "metadata": {},
   "source": [
    "## Task 2: Are these EDUs satellites or nucleii?\n",
    "## Task 3: does this correlate with certain RST relation types?"
   ]
  },
  {
   "cell_type": "code",
   "execution_count": 183,
   "metadata": {
    "collapsed": false
   },
   "outputs": [
    {
     "name": "stdout",
     "output_type": "stream",
     "text": [
      "rst:17 satellite circumstance\n",
      "rst:16 nucleus circumstance\n",
      "rst:6 satellite condition\n",
      "rst:15 satellite purpose\n"
     ]
    }
   ],
   "source": [
    "for edu in overlapping_nodes_map.values():\n",
    "    edu_node_id = edu['node_id']\n",
    "    segment_type = tdg.node[edu_node_id]['rst:segment_type']\n",
    "    \n",
    "    if segment_type == 'nucleus':\n",
    "        rel_name = tdg.node[edu_node_id]['rst:rel_name']\n",
    "    else:\n",
    "        in_edges = tdg.in_edges(edu_node_id)\n",
    "        assert len(in_edges) == 1, \\\n",
    "            \"There must be exactly one dominating node.\"\n",
    "        dom_node_id = in_edges[0][0]\n",
    "        rel_name = tdg.node[dom_node_id]['rst:rel_name']\n",
    "    print edu_node_id, segment_type, rel_name"
   ]
  },
  {
   "cell_type": "code",
   "execution_count": null,
   "metadata": {
    "collapsed": true
   },
   "outputs": [],
   "source": []
  }
 ],
 "metadata": {
  "kernelspec": {
   "display_name": "Python 2",
   "language": "python",
   "name": "python2"
  },
  "language_info": {
   "codemirror_mode": {
    "name": "ipython",
    "version": 2
   },
   "file_extension": ".py",
   "mimetype": "text/x-python",
   "name": "python",
   "nbconvert_exporter": "python",
   "pygments_lexer": "ipython2",
   "version": "2.7.6"
  }
 },
 "nbformat": 4,
 "nbformat_minor": 0
}
