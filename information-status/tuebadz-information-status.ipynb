{
 "cells": [
  {
   "cell_type": "code",
   "execution_count": 1,
   "metadata": {
    "collapsed": false
   },
   "outputs": [],
   "source": [
    "import os\n",
    "\n",
    "import discoursegraphs as dg\n",
    "import discourseinfostat as di"
   ]
  },
  {
   "cell_type": "code",
   "execution_count": 2,
   "metadata": {
    "collapsed": true
   },
   "outputs": [],
   "source": [
    "TUEBADZ8_FILE = os.path.expanduser(\n",
    "    '~/corpora/tuebadz-8.0/tuebadz-8.0-mit-NE+Anaphern+Diskurs.exml.xml')"
   ]
  },
  {
   "cell_type": "code",
   "execution_count": 3,
   "metadata": {
    "collapsed": false
   },
   "outputs": [],
   "source": [
    "corpus = dg.read_exportxml(TUEBADZ8_FILE, debug=False)"
   ]
  },
  {
   "cell_type": "code",
   "execution_count": 4,
   "metadata": {
    "collapsed": true
   },
   "outputs": [],
   "source": [
    "doc = corpus.next()"
   ]
  },
  {
   "cell_type": "code",
   "execution_count": 5,
   "metadata": {
    "collapsed": false
   },
   "outputs": [],
   "source": [
    "debug_corpus = dg.read_exportxml(TUEBADZ8_FILE, debug=True)\n",
    "debug_doc = debug_corpus.next()\n",
    "edg = dg.readwrite.exportxml.ExportXMLDocumentGraph(debug_doc)"
   ]
  },
  {
   "cell_type": "code",
   "execution_count": 6,
   "metadata": {
    "collapsed": false
   },
   "outputs": [],
   "source": [
    "# %matplotlib inline\n",
    "# %load_ext gvmagic"
   ]
  },
  {
   "cell_type": "code",
   "execution_count": 7,
   "metadata": {
    "collapsed": false
   },
   "outputs": [],
   "source": [
    "# %dotstr dg.print_dot(doc)"
   ]
  },
  {
   "cell_type": "code",
   "execution_count": 8,
   "metadata": {
    "collapsed": false
   },
   "outputs": [],
   "source": [
    "# for i, doc in enumerate(corpus):\n",
    "#     try:\n",
    "#         dg.print_dot(doc)\n",
    "# #         print i, \"sucess\"\n",
    "#     except:\n",
    "#         print i, \"failed\""
   ]
  },
  {
   "cell_type": "code",
   "execution_count": 9,
   "metadata": {
    "collapsed": false
   },
   "outputs": [],
   "source": [
    "# dg.info(doc)"
   ]
  },
  {
   "cell_type": "code",
   "execution_count": null,
   "metadata": {
    "collapsed": false
   },
   "outputs": [],
   "source": [
    "# import itertools\n",
    "\n",
    "# onset = 0\n",
    "# offset = 0\n",
    "\n",
    "# for token_id, token_str in itertools.islice(doc.get_tokens(), 5):\n",
    "#     offset = onset + len(token_str)\n",
    "#     print onset, token_str, offset\n",
    "#     doc.node[token_id]['{}:{}'.format(doc.ns, 'onset')] = onset\n",
    "#     doc.node[token_id]['{}:{}'.format(doc.ns, 'offset')] = offset\n",
    "#     print doc.node[token_id]\n",
    "#     onset = offset + 1"
   ]
  },
  {
   "cell_type": "code",
   "execution_count": null,
   "metadata": {
    "collapsed": false
   },
   "outputs": [],
   "source": [
    "# print dg.get_text(doc)"
   ]
  },
  {
   "cell_type": "markdown",
   "metadata": {},
   "source": [
    "# TODO: difference between `exportxml:coreference` and `exportxml:coreferential`?\n",
    "\n",
    "The corpus metadata only has `coreferential`.  \n",
    "I introduced `coreference` myself; this layer will be added  \n",
    "to all `<relation>` with a `target` attribute, as well as all\n",
    "`<splitRelation>`s.\n",
    "\n",
    "```xml\n",
    "<edge name=\"relation\" parent=\"word|node\">\n",
    "  <enum-attr name=\"type\">\n",
    "   <val name=\"anaphoric\" description=\"Anaphorisches Pronomen\"/>\n",
    "   <val name=\"cataphoric\" description=\"Kataphorisches Pronomen\"/>\n",
    "   <val name=\"coreferential\" description=\"Diskurs-altes nicht-Pronomen\"/>\n",
    "  </enum-attr>\n",
    "  <node-ref name=\"target\"/>\n",
    "</edge>\n",
    "```"
   ]
  },
  {
   "cell_type": "code",
   "execution_count": null,
   "metadata": {
    "collapsed": false
   },
   "outputs": [],
   "source": [
    "# len(dg.get_pointing_chains(doc, layer='exportxml:coreference'))"
   ]
  },
  {
   "cell_type": "code",
   "execution_count": null,
   "metadata": {
    "collapsed": false
   },
   "outputs": [],
   "source": [
    "# len(dg.get_pointing_chains(doc, layer='exportxml:coreferential'))"
   ]
  },
  {
   "cell_type": "code",
   "execution_count": null,
   "metadata": {
    "collapsed": false
   },
   "outputs": [],
   "source": [
    "# coreference_set = set(tuple(coref_list)\n",
    "#                       for coref_list in dg.get_pointing_chains(doc, layer='exportxml:coreference'))"
   ]
  },
  {
   "cell_type": "code",
   "execution_count": null,
   "metadata": {
    "collapsed": true
   },
   "outputs": [],
   "source": [
    "# coreferential_set = set(tuple(coref_list)\n",
    "#                       for coref_list in dg.get_pointing_chains(doc, layer='exportxml:coreferential'))"
   ]
  },
  {
   "cell_type": "code",
   "execution_count": null,
   "metadata": {
    "collapsed": false
   },
   "outputs": [],
   "source": [
    "# not_in_coreference_set = coreferential_set.difference(coreference_set)\n",
    "# not_in_coreferential_set = coreference_set.difference(coreferential_set)\n",
    "\n",
    "# for coref_chain in not_in_coreference_set:\n",
    "#     print ' -> '.join(dg.get_text(doc, token) for token in coref_chain)\n",
    "#     print"
   ]
  },
  {
   "cell_type": "code",
   "execution_count": null,
   "metadata": {
    "collapsed": false
   },
   "outputs": [],
   "source": [
    "# for coref_chain in not_in_coreferential_set:\n",
    "#     print ' -> '.join(dg.get_text(doc, token) for token in coref_chain)\n",
    "#     print"
   ]
  },
  {
   "cell_type": "markdown",
   "metadata": {},
   "source": [
    "# FAIL: both sets overlap and the chains in `coreference` often seem to subsume the ones from `coreferential`\n",
    "\n",
    "This is how relations are specified in Tueba:\n",
    "\n",
    "```xml\n",
    "<edge name=\"relation\" parent=\"word|node\">\n",
    "  <enum-attr name=\"type\">\n",
    "   <val name=\"anaphoric\" description=\"Anaphorisches Pronomen\"/>\n",
    "   <val name=\"cataphoric\" description=\"Kataphorisches Pronomen\"/>\n",
    "   <val name=\"coreferential\" description=\"Diskurs-altes nicht-Pronomen\"/>\n",
    "  </enum-attr>\n",
    "  <node-ref name=\"target\"/>\n",
    "</edge>\n",
    "```\n",
    "\n",
    "## TODO: find out where in the code `coreferential` edges are constructed"
   ]
  },
  {
   "cell_type": "markdown",
   "metadata": {},
   "source": [
    "\n",
    "The parent node of a ``<relation>`` element will have a ``{'relation' : 'coreferential'}`` attribute,  \n",
    "as well as an ``exportxml:coreferential`` layer.\n",
    "\n",
    "```python\n",
    "self.node[parent_node_id].update({'relation': reltype})\n",
    "self.add_layer(parent_node_id, self.ns+':'+reltype)\n",
    "```"
   ]
  },
  {
   "cell_type": "markdown",
   "metadata": {},
   "source": [
    "for each ``<relation>`` with a ``target`` attribute,  \n",
    "``add_relation()`` adds an edge with both its reltype  \n",
    "as well as ``exportxml:coreference`` as layers.\n",
    "\n",
    "```python\n",
    "# reltype: anaphoric, cataphoric, coreferential\n",
    "self.add_edge(parent_node_id, target_id,\n",
    "              layers={self.ns, self.ns+':'+reltype,\n",
    "                      self.ns+':coreference'},\n",
    "              label=reltype,\n",
    "              edge_type=dg.EdgeTypes.pointing_relation)\n",
    "```"
   ]
  },
  {
   "cell_type": "markdown",
   "metadata": {},
   "source": [
    "# Conclusion:\n",
    "\n",
    "## stick with exportxml:coreference\n",
    "## use exportxml:coreferential/anaphoric/cataphoric only for subclassification / error analysis"
   ]
  },
  {
   "cell_type": "markdown",
   "metadata": {},
   "source": [
    "# TODO: generic way to extract NPs from corpora with dg?\n",
    "\n",
    "- NPs have the node label `NX` in Tüba/DZ"
   ]
  },
  {
   "cell_type": "code",
   "execution_count": 20,
   "metadata": {
    "collapsed": false
   },
   "outputs": [
    {
     "name": "stderr",
     "output_type": "stream",
     "text": [
      "/home/arne/.virtualenvs/notebook/local/lib/python2.7/site-packages/discoursegraphs-0.1.2-py2.7.egg/discoursegraphs/readwrite/exportxml.py:604: UserWarning: <node> element is not a descendant of a <sentence> We'll try to extract the sentence ID from the prefix of the element ID\n",
      "  \"prefix of the element ID\".format(element.tag))\n"
     ]
    },
    {
     "ename": "KeyboardInterrupt",
     "evalue": "",
     "output_type": "error",
     "traceback": [
      "\u001b[1;31m---------------------------------------------------------------------------\u001b[0m",
      "\u001b[1;31mKeyboardInterrupt\u001b[0m                         Traceback (most recent call last)",
      "\u001b[1;32m<ipython-input-20-b84c148353f3>\u001b[0m in \u001b[0;36m<module>\u001b[1;34m()\u001b[0m\n\u001b[1;32m----> 1\u001b[1;33m \u001b[0mget_ipython\u001b[0m\u001b[1;33m(\u001b[0m\u001b[1;33m)\u001b[0m\u001b[1;33m.\u001b[0m\u001b[0mrun_cell_magic\u001b[0m\u001b[1;33m(\u001b[0m\u001b[1;34mu'time'\u001b[0m\u001b[1;33m,\u001b[0m \u001b[1;34mu''\u001b[0m\u001b[1;33m,\u001b[0m \u001b[1;34mu'\\nfirst_docs = list(itertools.islice(corpus, 5))\\n\\n# previous_mentions, term_count = di.corpus_ngram_frequencies(first_docs)\\nprevious_mentions, term_count = di.corpus_ngram_frequencies(corpus)\\n#np_sums, np_means = di.term_tfidf(first_docs, previous_mentions, term_count)\\nnp_sums, np_means = di.term_tfidf(corpus, previous_mentions, term_count)'\u001b[0m\u001b[1;33m)\u001b[0m\u001b[1;33m\u001b[0m\u001b[0m\n\u001b[0m",
      "\u001b[1;32m/home/arne/.virtualenvs/notebook/local/lib/python2.7/site-packages/IPython/core/interactiveshell.pyc\u001b[0m in \u001b[0;36mrun_cell_magic\u001b[1;34m(self, magic_name, line, cell)\u001b[0m\n\u001b[0;32m   2262\u001b[0m             \u001b[0mmagic_arg_s\u001b[0m \u001b[1;33m=\u001b[0m \u001b[0mself\u001b[0m\u001b[1;33m.\u001b[0m\u001b[0mvar_expand\u001b[0m\u001b[1;33m(\u001b[0m\u001b[0mline\u001b[0m\u001b[1;33m,\u001b[0m \u001b[0mstack_depth\u001b[0m\u001b[1;33m)\u001b[0m\u001b[1;33m\u001b[0m\u001b[0m\n\u001b[0;32m   2263\u001b[0m             \u001b[1;32mwith\u001b[0m \u001b[0mself\u001b[0m\u001b[1;33m.\u001b[0m\u001b[0mbuiltin_trap\u001b[0m\u001b[1;33m:\u001b[0m\u001b[1;33m\u001b[0m\u001b[0m\n\u001b[1;32m-> 2264\u001b[1;33m                 \u001b[0mresult\u001b[0m \u001b[1;33m=\u001b[0m \u001b[0mfn\u001b[0m\u001b[1;33m(\u001b[0m\u001b[0mmagic_arg_s\u001b[0m\u001b[1;33m,\u001b[0m \u001b[0mcell\u001b[0m\u001b[1;33m)\u001b[0m\u001b[1;33m\u001b[0m\u001b[0m\n\u001b[0m\u001b[0;32m   2265\u001b[0m             \u001b[1;32mreturn\u001b[0m \u001b[0mresult\u001b[0m\u001b[1;33m\u001b[0m\u001b[0m\n\u001b[0;32m   2266\u001b[0m \u001b[1;33m\u001b[0m\u001b[0m\n",
      "\u001b[1;32m/home/arne/.virtualenvs/notebook/local/lib/python2.7/site-packages/IPython/core/magics/execution.pyc\u001b[0m in \u001b[0;36mtime\u001b[1;34m(self, line, cell, local_ns)\u001b[0m\n",
      "\u001b[1;32m/home/arne/.virtualenvs/notebook/local/lib/python2.7/site-packages/IPython/core/magic.pyc\u001b[0m in \u001b[0;36m<lambda>\u001b[1;34m(f, *a, **k)\u001b[0m\n\u001b[0;32m    191\u001b[0m     \u001b[1;31m# but it's overkill for just that one bit of state.\u001b[0m\u001b[1;33m\u001b[0m\u001b[1;33m\u001b[0m\u001b[0m\n\u001b[0;32m    192\u001b[0m     \u001b[1;32mdef\u001b[0m \u001b[0mmagic_deco\u001b[0m\u001b[1;33m(\u001b[0m\u001b[0marg\u001b[0m\u001b[1;33m)\u001b[0m\u001b[1;33m:\u001b[0m\u001b[1;33m\u001b[0m\u001b[0m\n\u001b[1;32m--> 193\u001b[1;33m         \u001b[0mcall\u001b[0m \u001b[1;33m=\u001b[0m \u001b[1;32mlambda\u001b[0m \u001b[0mf\u001b[0m\u001b[1;33m,\u001b[0m \u001b[1;33m*\u001b[0m\u001b[0ma\u001b[0m\u001b[1;33m,\u001b[0m \u001b[1;33m**\u001b[0m\u001b[0mk\u001b[0m\u001b[1;33m:\u001b[0m \u001b[0mf\u001b[0m\u001b[1;33m(\u001b[0m\u001b[1;33m*\u001b[0m\u001b[0ma\u001b[0m\u001b[1;33m,\u001b[0m \u001b[1;33m**\u001b[0m\u001b[0mk\u001b[0m\u001b[1;33m)\u001b[0m\u001b[1;33m\u001b[0m\u001b[0m\n\u001b[0m\u001b[0;32m    194\u001b[0m \u001b[1;33m\u001b[0m\u001b[0m\n\u001b[0;32m    195\u001b[0m         \u001b[1;32mif\u001b[0m \u001b[0mcallable\u001b[0m\u001b[1;33m(\u001b[0m\u001b[0marg\u001b[0m\u001b[1;33m)\u001b[0m\u001b[1;33m:\u001b[0m\u001b[1;33m\u001b[0m\u001b[0m\n",
      "\u001b[1;32m/home/arne/.virtualenvs/notebook/local/lib/python2.7/site-packages/IPython/core/magics/execution.pyc\u001b[0m in \u001b[0;36mtime\u001b[1;34m(self, line, cell, local_ns)\u001b[0m\n\u001b[0;32m   1164\u001b[0m         \u001b[1;32melse\u001b[0m\u001b[1;33m:\u001b[0m\u001b[1;33m\u001b[0m\u001b[0m\n\u001b[0;32m   1165\u001b[0m             \u001b[0mst\u001b[0m \u001b[1;33m=\u001b[0m \u001b[0mclock2\u001b[0m\u001b[1;33m(\u001b[0m\u001b[1;33m)\u001b[0m\u001b[1;33m\u001b[0m\u001b[0m\n\u001b[1;32m-> 1166\u001b[1;33m             \u001b[1;32mexec\u001b[0m\u001b[1;33m(\u001b[0m\u001b[0mcode\u001b[0m\u001b[1;33m,\u001b[0m \u001b[0mglob\u001b[0m\u001b[1;33m,\u001b[0m \u001b[0mlocal_ns\u001b[0m\u001b[1;33m)\u001b[0m\u001b[1;33m\u001b[0m\u001b[0m\n\u001b[0m\u001b[0;32m   1167\u001b[0m             \u001b[0mend\u001b[0m \u001b[1;33m=\u001b[0m \u001b[0mclock2\u001b[0m\u001b[1;33m(\u001b[0m\u001b[1;33m)\u001b[0m\u001b[1;33m\u001b[0m\u001b[0m\n\u001b[0;32m   1168\u001b[0m             \u001b[0mout\u001b[0m \u001b[1;33m=\u001b[0m \u001b[0mNone\u001b[0m\u001b[1;33m\u001b[0m\u001b[0m\n",
      "\u001b[1;32m<timed exec>\u001b[0m in \u001b[0;36m<module>\u001b[1;34m()\u001b[0m\n",
      "\u001b[1;32m/home/arne/.virtualenvs/notebook/local/lib/python2.7/site-packages/DiscourseInfoStat-0.1.0-py2.7.egg/discourseinfostat.pyc\u001b[0m in \u001b[0;36mcorpus_ngram_frequencies\u001b[1;34m(corpus, term_len, term_normalization)\u001b[0m\n\u001b[0;32m     37\u001b[0m     \u001b[0mdocs_containing_term_count\u001b[0m \u001b[1;33m=\u001b[0m \u001b[0mdefaultdict\u001b[0m\u001b[1;33m(\u001b[0m\u001b[0mint\u001b[0m\u001b[1;33m)\u001b[0m\u001b[1;33m\u001b[0m\u001b[0m\n\u001b[0;32m     38\u001b[0m \u001b[1;33m\u001b[0m\u001b[0m\n\u001b[1;32m---> 39\u001b[1;33m     \u001b[1;32mfor\u001b[0m \u001b[0mdocgraph\u001b[0m \u001b[1;32min\u001b[0m \u001b[0mcorpus\u001b[0m\u001b[1;33m:\u001b[0m\u001b[1;33m\u001b[0m\u001b[0m\n\u001b[0m\u001b[0;32m     40\u001b[0m         \u001b[0mdoc\u001b[0m \u001b[1;33m=\u001b[0m \u001b[0mdg\u001b[0m\u001b[1;33m.\u001b[0m\u001b[0mget_text\u001b[0m\u001b[1;33m(\u001b[0m\u001b[0mdocgraph\u001b[0m\u001b[1;33m)\u001b[0m\u001b[1;33m\u001b[0m\u001b[0m\n\u001b[0;32m     41\u001b[0m         \u001b[0mdoc_id\u001b[0m \u001b[1;33m=\u001b[0m \u001b[0mdocgraph\u001b[0m\u001b[1;33m.\u001b[0m\u001b[0mname\u001b[0m  \u001b[1;31m# doc_id = D\u001b[0m\u001b[1;33m\u001b[0m\u001b[0m\n",
      "\u001b[1;32m/home/arne/.virtualenvs/notebook/local/lib/python2.7/site-packages/discoursegraphs-0.1.2-py2.7.egg/discoursegraphs/readwrite/exportxml.pyc\u001b[0m in \u001b[0;36mtext_iter\u001b[1;34m(self, context)\u001b[0m\n\u001b[0;32m     73\u001b[0m         \u001b[1;33m`\u001b[0m\u001b[1;33m`\u001b[0m\u001b[0mExportXMLDocumentGraph\u001b[0m\u001b[1;33m`\u001b[0m\u001b[1;33m`\u001b[0m\u001b[0ms\u001b[0m \u001b[0mmanually\u001b[0m\u001b[1;33m.\u001b[0m\u001b[1;33m\u001b[0m\u001b[0m\n\u001b[0;32m     74\u001b[0m         \"\"\"\n\u001b[1;32m---> 75\u001b[1;33m         \u001b[1;32mfor\u001b[0m \u001b[0m_event\u001b[0m\u001b[1;33m,\u001b[0m \u001b[0melem\u001b[0m \u001b[1;32min\u001b[0m \u001b[0mcontext\u001b[0m\u001b[1;33m:\u001b[0m\u001b[1;33m\u001b[0m\u001b[0m\n\u001b[0m\u001b[0;32m     76\u001b[0m             \u001b[1;32mif\u001b[0m \u001b[1;32mnot\u001b[0m \u001b[0mself\u001b[0m\u001b[1;33m.\u001b[0m\u001b[0mdebug\u001b[0m\u001b[1;33m:\u001b[0m\u001b[1;33m\u001b[0m\u001b[0m\n\u001b[0;32m     77\u001b[0m                 \u001b[1;32myield\u001b[0m \u001b[0mExportXMLDocumentGraph\u001b[0m\u001b[1;33m(\u001b[0m\u001b[0melem\u001b[0m\u001b[1;33m)\u001b[0m\u001b[1;33m\u001b[0m\u001b[0m\n",
      "\u001b[1;31mKeyboardInterrupt\u001b[0m: "
     ]
    }
   ],
   "source": [
    "%%time\n",
    "\n",
    "first_docs = list(itertools.islice(corpus, 5))\n",
    "\n",
    "# previous_mentions, term_count = di.corpus_ngram_frequencies(first_docs)\n",
    "previous_mentions, term_count = di.corpus_ngram_frequencies(corpus)\n",
    "#np_sums, np_means = di.term_tfidf(first_docs, previous_mentions, term_count)\n",
    "np_sums, np_means = di.term_tfidf(corpus, previous_mentions, term_count)\n"
   ]
  },
  {
   "cell_type": "code",
   "execution_count": null,
   "metadata": {
    "collapsed": true
   },
   "outputs": [],
   "source": []
  }
 ],
 "metadata": {
  "kernelspec": {
   "display_name": "Python 2",
   "language": "python",
   "name": "python2"
  },
  "language_info": {
   "codemirror_mode": {
    "name": "ipython",
    "version": 2
   },
   "file_extension": ".py",
   "mimetype": "text/x-python",
   "name": "python",
   "nbconvert_exporter": "python",
   "pygments_lexer": "ipython2",
   "version": "2.7.6"
  }
 },
 "nbformat": 4,
 "nbformat_minor": 0
}
