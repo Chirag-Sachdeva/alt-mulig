{
 "cells": [
  {
   "cell_type": "markdown",
   "metadata": {},
   "source": [
    "# Ritz, Julia (2010). Using tf-idf-related Measures for Determining the Anaphoricity of Noun Phrases."
   ]
  },
  {
   "cell_type": "markdown",
   "metadata": {},
   "source": [
    "```perl\n",
    "#1st pass\n",
    "l:=4; #initialize term length l\n",
    "D:=0; #initialize file counter D\n",
    "\n",
    "for each Document d i in the corpus\n",
    "#count document\n",
    "D++;\n",
    "p:=1; #initialize character position p\n",
    "    while p + l in d i\n",
    "        #sequentially cut into terms t of length l\n",
    "        t:=substring(d i , p, l);\n",
    "        #*insert string normalization (optional)*\n",
    "        #initialize count array where necessary\n",
    "        C(t, d i ):=0 unless defined;\n",
    "        #save number of previous mentions\n",
    "        #(i.e. annotate t with C(t, d i ))\n",
    "        A(t, d i , p):=C(t, d i );\n",
    "        #count current mention\n",
    "        C(t, d i )++;\n",
    "        #count documents containing t\n",
    "        #(only on first mention of t)\n",
    "        E(t)++ if (C(t, d i ) =1);\n",
    "        p++;\n",
    "    end; #end while\n",
    "end; #end for each;\n",
    "\n",
    "\n",
    "#2nd pass\n",
    "for each Document d i in the corpus\n",
    "    for each noun phrase NP s e in d i\n",
    "        sum:=0; #initialize sum\n",
    "        #from NP’s starting position. . .\n",
    "        p:=s;\n",
    "        #. . . to start of last term\n",
    "        while p <= e − l + 1\n",
    "            t:=substring(d i , p, l);\n",
    "            #*insert string normalization (optional)*\n",
    "            #get annotation of t at p,\n",
    "            #calculate tf-idf from it\n",
    "            #and add it to the current sum\n",
    "            sum+=(get(t, d i , p)/p)*log(D/E(t));\n",
    "            #calculate sum of other measures\n",
    "            ...\n",
    "        end; #end while\n",
    "\n",
    "        #average by the number of terms in NP s e\n",
    "        a:=sum/(e − s − l + 2);\n",
    "        #annotate sum and means to NP s e\n",
    "        S(d i , s, e):=sum;\n",
    "        M (d i , s, e):=a;\n",
    "    end; #end for each\n",
    "end; #end for each\n",
    "```"
   ]
  },
  {
   "cell_type": "code",
   "execution_count": 45,
   "metadata": {
    "collapsed": true
   },
   "outputs": [],
   "source": [
    "# from collections import defaultdict\n",
    "\n",
    "# def first_pass(corpus, term_len=4): # term_len = l\n",
    "#     \"\"\"\n",
    "#     Parameters\n",
    "#     ----------\n",
    "#     corpus : list of str\n",
    "#         a list of 'documents', each represented by a string\n",
    "#     term_len : int\n",
    "#         this is the N value for specifying a character ngram (default: 4)\n",
    "\n",
    "#     Returns\n",
    "#     -------\n",
    "#     previous_mentions : dict\n",
    "#         maps from a (term (str), document ID (int), character position (int)) tuple\n",
    "#         to the term count (int), i.e. it stores the number of times\n",
    "#         a term has occured in a document up to the specified character position\n",
    "#         TODO: why are all term counts zero after the first pass?\n",
    "#     term_count: defaultdict of defaultdict(int)\n",
    "#         maps from a term (str) to a dict mapping from document IDs to term counts,\n",
    "#         i.e. stores the total number of times a term occurred in a document\n",
    "#     docs_containing_term_count : defaultdict(int)\n",
    "#         maps from a term (str) to the number of documents it occured in (int)\n",
    "#     \"\"\"\n",
    "#     previous_mentions = {}\n",
    "#     term_count = defaultdict(lambda : defaultdict(int))\n",
    "#     docs_containing_term_count = defaultdict(int)\n",
    "\n",
    "#     for doc_id, doc in enumerate(corpus): # doc_id = D\n",
    "#         doc_len = len(doc)\n",
    "#         char_pos = 0 # p \n",
    "#         while char_pos+term_len < doc_len: # TODO: check if off-by-one\n",
    "#             #sequentially cut into terms t of length l\n",
    "#             term = doc[char_pos:char_pos+term_len] # t\n",
    "            \n",
    "#             #*insert string normalization (optional)*            \n",
    "                \n",
    "#             #save number of previous mentions\n",
    "#             previous_mentions[(term, doc_id, char_pos)] = term_count[term][doc_id]\n",
    "            \n",
    "#             #count current mention\n",
    "#             term_count[term][doc_id] += 1\n",
    "            \n",
    "#             if term_count[term][doc_id] == 1:\n",
    "#                 #count documents containing t\n",
    "#                 #(only on first mention of t)\n",
    "#                 docs_containing_term_count[term] += 1 # E           \n",
    "#             char_pos += 1\n",
    "#     return previous_mentions, term_count, docs_containing_term_count"
   ]
  },
  {
   "cell_type": "code",
   "execution_count": 66,
   "metadata": {
    "collapsed": true
   },
   "outputs": [],
   "source": [
    "import discoursegraphs as dg\n",
    "from collections import defaultdict\n",
    "\n",
    "def corpus_ngram_frequencies(corpus, term_len=4, term_normalization=lambda x: x): # term_len = l\n",
    "    \"\"\"\n",
    "    calculates ngram frequencies: how often did an ngram occur in a document\n",
    "    (in total OR up to the character position)?\n",
    "    \n",
    "    Parameters\n",
    "    ----------\n",
    "    corpus : iterable of DiscourseDocumentGraphs\n",
    "        a list of documents\n",
    "    term_len : int\n",
    "        this is the N value for specifying a character ngram (default: 4)\n",
    "    term_normalization : function\n",
    "        a function which normalizes each term.\n",
    "        (default: identity function; does nothing)\n",
    "\n",
    "    Returns\n",
    "    -------\n",
    "    previous_mentions : defaultdict of defaultdict of defaultdict(int)\n",
    "        (equivalent to a 3-dimensional array[term][document ID][character position]).\n",
    "        stores the number of times a term has occured in a document\n",
    "        up to the specified character position\n",
    "    term_count: defaultdict of defaultdict(int)\n",
    "        maps from a term (str) to a dict mapping from document IDs to term counts,\n",
    "        i.e. stores the total number of times a term occurred in a document\n",
    "    \"\"\"\n",
    "    previous_mentions = defaultdict(lambda : defaultdict(lambda : defaultdict(int)))\n",
    "    term_count = defaultdict(lambda : defaultdict(int))\n",
    "    docs_containing_term_count = defaultdict(int)\n",
    "\n",
    "    for docgraph in corpus:\n",
    "        doc = dg.get_text(docgraph)\n",
    "        doc_id = document.name  # doc_id = D\n",
    "        doc_len = len(document)\n",
    "        char_pos = 0 # p \n",
    "        while char_pos+term_len < doc_len:\n",
    "            #sequentially cut into terms t of length l\n",
    "            term = doc[char_pos:char_pos+term_len] # t\n",
    "            normal_term = term_normalization(term)           \n",
    "                \n",
    "            #save number of previous mentions\n",
    "            previous_mentions[normal_term][doc_id][char_pos] = term_count[normal_term][doc_id]\n",
    "            \n",
    "            #count current mention\n",
    "            term_count[normal_term][doc_id] += 1\n",
    "         \n",
    "            char_pos += 1\n",
    "    return previous_mentions, term_count"
   ]
  },
  {
   "cell_type": "code",
   "execution_count": 58,
   "metadata": {
    "collapsed": true
   },
   "outputs": [],
   "source": [
    "def count_docs_containing_term(term_count):\n",
    "    \"\"\"\n",
    "    counts the number of documents a term occured in.\n",
    "    \n",
    "    Parameters\n",
    "    ----------\n",
    "    term_count: defaultdict of defaultdict(int)\n",
    "        maps from a term (str) to a dict mapping from document IDs to term counts,\n",
    "        i.e. stores the total number of times a term occurred in a document\n",
    "    \n",
    "    Returns\n",
    "    -------\n",
    "    docs_containing_term : dict\n",
    "        maps from a term (str) to the number of documents it occured in (int)\n",
    "    \"\"\"\n",
    "    return {term:len(docs) for (term, docs) in term_count.iteritems()}"
   ]
  },
  {
   "cell_type": "code",
   "execution_count": 64,
   "metadata": {
    "collapsed": false
   },
   "outputs": [],
   "source": [
    "from math import log\n",
    "\n",
    "def second_pass(corpus, previous_mentions, term_len=4, term_normalization=lambda x: x):\n",
    "    \"\"\"\n",
    "    Parameters\n",
    "    ----------\n",
    "    corpus : list of str\n",
    "        a list of 'documents', each represented by a string\n",
    "    previous_mentions : defaultdict of defaultdict of defaultdict(int)\n",
    "        (equivalent to a 3-dimensional array[term][document ID][character position]).\n",
    "        stores the number of times a term has occured in a document\n",
    "        up to the specified character position\n",
    "    term_len : int\n",
    "        this is the N value for specifying a character ngram (default: 4)\n",
    "    term_normalization : function\n",
    "        a function which normalizes each term.\n",
    "        (default: identity function; does nothing)\n",
    "\n",
    "    Returns\n",
    "    -------\n",
    "    np_sums : dict\n",
    "        ???\n",
    "    np_mean : dict\n",
    "        ???\n",
    "    \"\"\"\n",
    "    doc_term_count = count_docs_containing_term(term_count)\n",
    "    np_sums = defaultdict(lambda : defaultdict(int))\n",
    "    np_means = defaultdict(lambda : defaultdict(int))\n",
    "\n",
    "    for doc_id, doc in enumerate(corpus):\n",
    "        for np in doc.noun_phrases(): # NP starting at position s and ending at position e\n",
    "            np_sum = 0\n",
    "            start_pos = np.startpos()\n",
    "            end_pos = np.endpos()\n",
    "            #from NP’s starting position. . .\n",
    "            char_pos = start_pos\n",
    "            #. . . to start of last term\n",
    "            while char_pos <= endpos - term_len + 1: # TODO: off-by-one?\n",
    "                term = doc[char_pos:char_pos+term_len] # t\n",
    "                normal_term = term_normalization(term)\n",
    "\n",
    "                #get annotation of t at p,\n",
    "                #calculate tf-idf from it\n",
    "                #and add it to the current sum                \n",
    "                anno_t_p = previous_mentions[normal_term][doc_id][char_pos]\n",
    "                np_sum += (anno_t_p / char_pos) * log( len(corpus) / docs_containing_term_count[term])\n",
    "\n",
    "                # TODO: calculate sum of other measures\n",
    "                # ...\n",
    "\n",
    "            #average by the number of terms in NP s e\n",
    "            average = np_sum / (end_pos - start_pos - term_len + 2) # TODO: off-by-one?\n",
    "            \n",
    "            #annotate sum and means to NP s e\n",
    "            np_sums[doc_id][(start_pos, end_pos)] = np_sum\n",
    "            np_means[doc_id][(start_pos, end_pos)] = average\n",
    "    return np_sums, np_means"
   ]
  },
  {
   "cell_type": "code",
   "execution_count": 55,
   "metadata": {
    "collapsed": true
   },
   "outputs": [],
   "source": [
    "def nprint(d, tab=0, tab_width=2):\n",
    "    '''print nested key-value datastructures (e.g. dicts)'''\n",
    "    for k, v in d.iteritems():\n",
    "        if not hasattr(v, 'iteritems'):\n",
    "            print '{}{} {}'.format(' '*tab, k, v)\n",
    "        else:\n",
    "            print '{}{}:'.format(' '*tab, k)\n",
    "            nprint(v, tab=tab+tab_width)"
   ]
  },
  {
   "cell_type": "code",
   "execution_count": 56,
   "metadata": {
    "collapsed": true
   },
   "outputs": [],
   "source": [
    "prev, term_count, doc_count = first_pass(['haushaushaushaus'])"
   ]
  },
  {
   "cell_type": "code",
   "execution_count": 49,
   "metadata": {
    "collapsed": true
   },
   "outputs": [],
   "source": [
    "prev, term_count, doc_count = first_pass(['das erste haus ist rot. das zweite haus ist auch rot.'])"
   ]
  },
  {
   "cell_type": "code",
   "execution_count": 50,
   "metadata": {
    "collapsed": true
   },
   "outputs": [],
   "source": [
    "prev, term_count, doc_count = first_pass(['die roten haeuser. die toten haeuser.'])"
   ]
  },
  {
   "cell_type": "code",
   "execution_count": 51,
   "metadata": {
    "collapsed": true
   },
   "outputs": [],
   "source": [
    "prev, term_count, doc_count = first_pass(['die toten haeuser.', \n",
    "                                          'die boten von gruenau.'])"
   ]
  },
  {
   "cell_type": "code",
   "execution_count": 52,
   "metadata": {
    "collapsed": true
   },
   "outputs": [],
   "source": [
    "prev, term_count, doc_count = first_pass(['die roten haeuser. die toten haeuser.', \n",
    "                                          'die boten von gruenau.'])"
   ]
  },
  {
   "cell_type": "code",
   "execution_count": 53,
   "metadata": {
    "collapsed": false
   },
   "outputs": [],
   "source": [
    "prev, term_count, doc_count = first_pass(['das erste haus ist rot. das zweite haus ist auch rot.', \n",
    "                                          'die roten haeuser. die haeuser sind rot. die toten haeuser.', \n",
    "                                          'der turm ist gruen.',\n",
    "                                          'zwei haeuser sind auch rot.'\n",
    "                                          'die boten von gruenau.'])"
   ]
  },
  {
   "cell_type": "code",
   "execution_count": 13,
   "metadata": {
    "collapsed": false
   },
   "outputs": [],
   "source": [
    "# for term in term_count:\n",
    "#     print term, term_count[term]\n",
    "\n",
    "# for term in doc_count:\n",
    "#     print \"term '{}' is in {} document(s)\".format(term, doc_count[term])"
   ]
  },
  {
   "cell_type": "markdown",
   "metadata": {},
   "source": [
    "# TODO: how to create a strongly nested defaultdict?\n",
    "\n",
    "## ALTERNATIVE: use nested numpy arrays?"
   ]
  },
  {
   "cell_type": "code",
   "execution_count": 36,
   "metadata": {
    "collapsed": false
   },
   "outputs": [
    {
     "ename": "TypeError",
     "evalue": "'int' object does not support item assignment",
     "output_type": "error",
     "traceback": [
      "\u001b[1;31m---------------------------------------------------------------------------\u001b[0m",
      "\u001b[1;31mTypeError\u001b[0m                                 Traceback (most recent call last)",
      "\u001b[1;32m<ipython-input-36-2a8751f21441>\u001b[0m in \u001b[0;36m<module>\u001b[1;34m()\u001b[0m\n\u001b[0;32m      1\u001b[0m \u001b[0mprevious_mentions\u001b[0m \u001b[1;33m=\u001b[0m \u001b[0mdefaultdict\u001b[0m\u001b[1;33m(\u001b[0m\u001b[1;32mlambda\u001b[0m \u001b[1;33m:\u001b[0m \u001b[0mdefaultdict\u001b[0m\u001b[1;33m(\u001b[0m\u001b[0mint\u001b[0m\u001b[1;33m)\u001b[0m\u001b[1;33m)\u001b[0m\u001b[1;33m\u001b[0m\u001b[0m\n\u001b[1;32m----> 2\u001b[1;33m \u001b[0mprevious_mentions\u001b[0m\u001b[1;33m[\u001b[0m\u001b[1;34m'a'\u001b[0m\u001b[1;33m]\u001b[0m\u001b[1;33m[\u001b[0m\u001b[1;34m'b'\u001b[0m\u001b[1;33m]\u001b[0m\u001b[1;33m[\u001b[0m\u001b[1;34m'c'\u001b[0m\u001b[1;33m]\u001b[0m \u001b[1;33m=\u001b[0m \u001b[1;36m23\u001b[0m\u001b[1;33m\u001b[0m\u001b[0m\n\u001b[0m",
      "\u001b[1;31mTypeError\u001b[0m: 'int' object does not support item assignment"
     ]
    }
   ],
   "source": [
    "previous_mentions = defaultdict(lambda : defaultdict(int))\n",
    "previous_mentions['a']['b']['c'] = 23"
   ]
  },
  {
   "cell_type": "code",
   "execution_count": 38,
   "metadata": {
    "collapsed": false
   },
   "outputs": [],
   "source": [
    "previous_mentions['a']['b'] = 23"
   ]
  },
  {
   "cell_type": "code",
   "execution_count": 39,
   "metadata": {
    "collapsed": false
   },
   "outputs": [
    {
     "ename": "TypeError",
     "evalue": "'int' object has no attribute '__getitem__'",
     "output_type": "error",
     "traceback": [
      "\u001b[1;31m---------------------------------------------------------------------------\u001b[0m",
      "\u001b[1;31mTypeError\u001b[0m                                 Traceback (most recent call last)",
      "\u001b[1;32m<ipython-input-39-1fea472b2fd9>\u001b[0m in \u001b[0;36m<module>\u001b[1;34m()\u001b[0m\n\u001b[1;32m----> 1\u001b[1;33m \u001b[0mprevious_mentions\u001b[0m\u001b[1;33m[\u001b[0m\u001b[1;34m'a'\u001b[0m\u001b[1;33m]\u001b[0m\u001b[1;33m[\u001b[0m\u001b[1;34m'b'\u001b[0m\u001b[1;33m]\u001b[0m\u001b[1;33m[\u001b[0m\u001b[1;34m'c'\u001b[0m\u001b[1;33m]\u001b[0m\u001b[1;33m\u001b[0m\u001b[0m\n\u001b[0m",
      "\u001b[1;31mTypeError\u001b[0m: 'int' object has no attribute '__getitem__'"
     ]
    }
   ],
   "source": [
    "previous_mentions['a']['b']['c']"
   ]
  },
  {
   "cell_type": "code",
   "execution_count": 40,
   "metadata": {
    "collapsed": true
   },
   "outputs": [],
   "source": [
    "turtles = defaultdict(lambda : defaultdict(lambda : defaultdict(int)))"
   ]
  },
  {
   "cell_type": "code",
   "execution_count": 44,
   "metadata": {
    "collapsed": false
   },
   "outputs": [
    {
     "ename": "TypeError",
     "evalue": "'int' object has no attribute '__getitem__'",
     "output_type": "error",
     "traceback": [
      "\u001b[1;31m---------------------------------------------------------------------------\u001b[0m",
      "\u001b[1;31mTypeError\u001b[0m                                 Traceback (most recent call last)",
      "\u001b[1;32m<ipython-input-44-b260377f2df7>\u001b[0m in \u001b[0;36m<module>\u001b[1;34m()\u001b[0m\n\u001b[1;32m----> 1\u001b[1;33m \u001b[0mturtles\u001b[0m\u001b[1;33m[\u001b[0m\u001b[1;36m1\u001b[0m\u001b[1;33m]\u001b[0m\u001b[1;33m[\u001b[0m\u001b[1;36m2\u001b[0m\u001b[1;33m]\u001b[0m\u001b[1;33m[\u001b[0m\u001b[1;36m3\u001b[0m\u001b[1;33m]\u001b[0m\u001b[1;33m[\u001b[0m\u001b[1;36m4\u001b[0m\u001b[1;33m]\u001b[0m\u001b[1;33m\u001b[0m\u001b[0m\n\u001b[0m",
      "\u001b[1;31mTypeError\u001b[0m: 'int' object has no attribute '__getitem__'"
     ]
    }
   ],
   "source": [
    "turtles[1][2][3][4]"
   ]
  },
  {
   "cell_type": "code",
   "execution_count": null,
   "metadata": {
    "collapsed": true
   },
   "outputs": [],
   "source": []
  }
 ],
 "metadata": {
  "kernelspec": {
   "display_name": "Python 2",
   "language": "python",
   "name": "python2"
  },
  "language_info": {
   "codemirror_mode": {
    "name": "ipython",
    "version": 2
   },
   "file_extension": ".py",
   "mimetype": "text/x-python",
   "name": "python",
   "nbconvert_exporter": "python",
   "pygments_lexer": "ipython2",
   "version": "2.7.6"
  }
 },
 "nbformat": 4,
 "nbformat_minor": 0
}
