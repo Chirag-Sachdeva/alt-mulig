{
 "metadata": {
  "name": "",
  "signature": "sha256:01a2021833495b0f4aebbfe142e209eed75adc4a5cd0e863a27701cc2fd2c713"
 },
 "nbformat": 3,
 "nbformat_minor": 0,
 "worksheets": [
  {
   "cells": [
    {
     "cell_type": "heading",
     "level": 1,
     "metadata": {},
     "source": [
      "Task: add missing sentence-level annotations to Exmaralda files"
     ]
    },
    {
     "cell_type": "markdown",
     "metadata": {},
     "source": [
      "AP told me that 20 of the Exmaralda-annotated MAZ176 files don't have a `tiger:sentence` tier.\n",
      "\n",
      "```\n",
      "$ for i in *.exb ; do grep -cH \"category=\\\"sentence\\\"\" $i ; done | grep \"0$\"\n",
      "maz-00001.exb:0\n",
      "maz-00002.exb:0\n",
      "maz-1423.exb:0\n",
      "maz-1453.exb:0\n",
      "maz-1679.exb:0\n",
      "maz-1757.exb:0\n",
      "maz-1818.exb:0\n",
      "maz-2316.exb:0\n",
      "maz-2609.exb:0\n",
      "maz-2611.exb:0\n",
      "maz-2669.exb:0\n",
      "maz-3073.exb:0\n",
      "maz-3080.exb:0\n",
      "maz-3110.exb:0\n",
      "maz-3277.exb:0\n",
      "maz-3367.exb:0\n",
      "maz-3377.exb:0\n",
      "maz-3415.exb:0\n",
      "maz-3547.exb:0\n",
      "maz-4031.exb:0\n",
      "```\n",
      "\n",
      "The annotations mentioned are present in the Exmaralda files I gave to the annotator:\n",
      "\n",
      "```\n",
      "$ /tmp/pcc176_tiger2exmaralda $ ack-grep -c \"category=\\\"sentence\\\"\" | cut -d : -f 2 | uniq \n",
      "1\n",
      "```"
     ]
    },
    {
     "cell_type": "code",
     "collapsed": false,
     "input": [
      "import os\n",
      "import glob\n",
      "from operator import itemgetter, attrgetter\n",
      "\n",
      "from lxml import etree\n",
      "from discoursegraphs import DiscourseDocumentGraph, EdgeTypes"
     ],
     "language": "python",
     "metadata": {},
     "outputs": [],
     "prompt_number": 1
    },
    {
     "cell_type": "code",
     "collapsed": false,
     "input": [
      "from discoursegraphs.readwrite.exmaralda import ExmaraldaDocumentGraph"
     ],
     "language": "python",
     "metadata": {},
     "outputs": [],
     "prompt_number": 5
    },
    {
     "cell_type": "code",
     "collapsed": false,
     "input": [
      "BROKEN_EXMARALDA_DIR = os.path.expanduser('~/repos/pcc-annis-merged/maz176/information-structure/')\n",
      "exmaralda_files = glob.glob(os.path.join(BROKEN_EXMARALDA_DIR, '*.exb'))"
     ],
     "language": "python",
     "metadata": {},
     "outputs": [],
     "prompt_number": 2
    },
    {
     "cell_type": "code",
     "collapsed": false,
     "input": [
      "from discoursegraphs.readwrite import MMAXDocumentGraph\n",
      "from discoursegraphs.readwrite.exmaralda import write_exb\n",
      "\n",
      "MMAX_DIR = os.path.expanduser('/home/arne/repos/pcc-annis-merged/maz176/coreference/')"
     ],
     "language": "python",
     "metadata": {},
     "outputs": [],
     "prompt_number": 9
    },
    {
     "cell_type": "code",
     "collapsed": false,
     "input": [
      "for exmaralda_file in exmaralda_files:\n",
      "    doc_id = os.path.basename(exmaralda_file).split('.')[0]\n",
      "    edg = ExmaraldaDocumentGraph(\n",
      "        exmaralda_file,\n",
      "        ignored_tier_categories=['syntax', 'pos', 'sentence', 'chain', 'markable', 'secedge'])\n",
      "    mdg = MMAXDocumentGraph(os.path.join(MMAX_DIR, doc_id+'.mmax'),\n",
      "                            ignore_sentence_annotations=False)\n",
      "    mdg.merge_graphs(edg)\n",
      "    write_exb(mdg, '/tmp/{}_with_sentences.exb'.format(doc_id))"
     ],
     "language": "python",
     "metadata": {},
     "outputs": [],
     "prompt_number": 20
    },
    {
     "cell_type": "heading",
     "level": 2,
     "metadata": {},
     "source": [
      "get all tier categories from the corpus"
     ]
    },
    {
     "cell_type": "markdown",
     "metadata": {},
     "source": [
      "TODO: There are two odd tier categories in here:\n",
      "        * SEGMENNT-1\n",
      "        * v"
     ]
    },
    {
     "cell_type": "code",
     "collapsed": false,
     "input": [
      "from collections import Counter\n",
      "\n",
      "tier_categories = Counter()\n",
      "\n",
      "for exmaralda_file in exmaralda_files:\n",
      "    edg = ExmaraldaDocumentGraph(exmaralda_file)\n",
      "    for tier_id in select_nodes_by_layer(edg, 'exmaralda:tier'):\n",
      "        tier_categories[edg.node[tier_id]['exmaralda:category']] += 1\n",
      "\n",
      "tier_categories.most_common()"
     ],
     "language": "python",
     "metadata": {},
     "outputs": [
      {
       "metadata": {},
       "output_type": "pyout",
       "prompt_number": 21,
       "text": [
        "[('syntax', 1077),\n",
        " ('sentence', 312),\n",
        " ('SEGMENT', 183),\n",
        " ('SEGMENT-1', 166),\n",
        " ('SEGMENT-2', 111),\n",
        " ('markable', 55),\n",
        " ('chain', 40),\n",
        " ('THETICITY', 20),\n",
        " ('TOPIC', 20),\n",
        " ('THETICITY-1', 19),\n",
        " ('SEGMENT-3', 19),\n",
        " ('secedge', 11),\n",
        " ('THETICITY-2', 9),\n",
        " ('THETICITY-3', 2),\n",
        " ('SEGMENT-4', 1),\n",
        " ('SENTENCE-1', 1),\n",
        " ('SEGMENTT-1', 1),\n",
        " ('THETIC-1', 1),\n",
        " ('THETIC-2', 1),\n",
        " ('SEGMENT4', 1),\n",
        " ('SEGMENNT-1', 1),\n",
        " ('v', 1)]"
       ]
      }
     ],
     "prompt_number": 21
    },
    {
     "cell_type": "code",
     "collapsed": false,
     "input": [],
     "language": "python",
     "metadata": {},
     "outputs": []
    }
   ],
   "metadata": {}
  }
 ]
}