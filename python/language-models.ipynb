{
 "metadata": {
  "name": "",
  "signature": "sha256:eb136fb974788eae28715abb4e8e756af2ec8870810f9525b890af1763053ce9"
 },
 "nbformat": 3,
 "nbformat_minor": 0,
 "worksheets": [
  {
   "cells": [
    {
     "cell_type": "code",
     "collapsed": false,
     "input": [
      "from collections import Counter\n",
      "from itertools import chain, repeat\n",
      "from language_models.ngrams import ngrams"
     ],
     "language": "python",
     "metadata": {},
     "outputs": [],
     "prompt_number": 3
    },
    {
     "cell_type": "code",
     "collapsed": false,
     "input": [
      "sentences = [\n",
      "    [\"Angie\", \"ist\", \"doof\", \".\"],\n",
      "    [\"Kevin\", \"ist\", \"schlau\", \".\"],\n",
      "    [\"Dies\", \"ist\", \"ein\", \"Test\", \".\"]\n",
      "]"
     ],
     "language": "python",
     "metadata": {},
     "outputs": [],
     "prompt_number": 4
    },
    {
     "cell_type": "code",
     "collapsed": false,
     "input": [
      "print list(ngrams(sentences[0], 1, pad='<eos>'))\n",
      "print list(ngrams(sentences[0], 2, pad='<eos>'))\n",
      "print list(ngrams(sentences[0], 3, pad='<eos>'))"
     ],
     "language": "python",
     "metadata": {},
     "outputs": [
      {
       "output_type": "stream",
       "stream": "stdout",
       "text": [
        "[('Angie',), ('ist',), ('doof',), ('.',)]\n",
        "[('Angie', 'ist'), ('ist', 'doof'), ('doof', '.'), ('.', '<eos>')]\n",
        "[('Angie', 'ist', 'doof'), ('ist', 'doof', '.'), ('doof', '.', '<eos>'), ('.', '<eos>', '<eos>')]\n"
       ]
      }
     ],
     "prompt_number": 5
    },
    {
     "cell_type": "code",
     "collapsed": false,
     "input": [
      "n = 2\n",
      "nc = Counter()\n",
      "for sentence in sentences:\n",
      "    nc.update(ngrams(sentence, n, pad='$'))"
     ],
     "language": "python",
     "metadata": {},
     "outputs": [],
     "prompt_number": 6
    },
    {
     "cell_type": "code",
     "collapsed": false,
     "input": [
      "n = 2\n",
      "nc = Counter()\n",
      "for sentence in sentences:\n",
      "    nc.update(ngrams(sentence, n, pad='<eos>'))\n",
      "    \n",
      "print nc # TODO: pad shall always be treated as one symbol"
     ],
     "language": "python",
     "metadata": {},
     "outputs": [
      {
       "output_type": "stream",
       "stream": "stdout",
       "text": [
        "Counter({('.', '<eos>'): 3, ('Kevin', 'ist'): 1, ('ist', 'schlau'): 1, ('Dies', 'ist'): 1, ('Angie', 'ist'): 1, ('ist', 'ein'): 1, ('Test', '.'): 1, ('ein', 'Test'): 1, ('doof', '.'): 1, ('schlau', '.'): 1, ('ist', 'doof'): 1})\n"
       ]
      }
     ],
     "prompt_number": 7
    },
    {
     "cell_type": "code",
     "collapsed": false,
     "input": [
      "def build_ngram_model(sentences, n, pad='<eos>'):\n",
      "    nc = Counter()\n",
      "    for sentence in sentences:\n",
      "        nc.update(ngrams(sentence, n, pad))\n",
      "    return nc\n"
     ],
     "language": "python",
     "metadata": {},
     "outputs": [],
     "prompt_number": 8
    },
    {
     "cell_type": "code",
     "collapsed": false,
     "input": [
      "build_ngram_model(sentences, 3)"
     ],
     "language": "python",
     "metadata": {},
     "outputs": [
      {
       "metadata": {},
       "output_type": "pyout",
       "prompt_number": 9,
       "text": [
        "Counter({('.', '<eos>', '<eos>'): 3, ('ist', 'schlau', '.'): 1, ('Test', '.', '<eos>'): 1, ('schlau', '.', '<eos>'): 1, ('ist', 'ein', 'Test'): 1, ('doof', '.', '<eos>'): 1, ('Dies', 'ist', 'ein'): 1, ('Kevin', 'ist', 'schlau'): 1, ('Angie', 'ist', 'doof'): 1, ('ein', 'Test', '.'): 1, ('ist', 'doof', '.'): 1})"
       ]
      }
     ],
     "prompt_number": 9
    },
    {
     "cell_type": "code",
     "collapsed": false,
     "input": [
      "import tarfile\n",
      "\n",
      "tar = tarfile.open('/home/arne/corpora/tiger_release_dec05.txt.tar.gz')"
     ],
     "language": "python",
     "metadata": {},
     "outputs": [],
     "prompt_number": 10
    },
    {
     "cell_type": "markdown",
     "metadata": {},
     "source": [
      "# Counter()"
     ]
    },
    {
     "cell_type": "code",
     "collapsed": false,
     "input": [
      "%%timeit\n",
      "tiger_sentences = (line.split() for line in tar.extractfile('tiger_release_dec05.txt'))\n",
      "tiger1 = build_ngram_model(tiger_sentences, 1)"
     ],
     "language": "python",
     "metadata": {},
     "outputs": [
      {
       "output_type": "stream",
       "stream": "stdout",
       "text": [
        "1 loops, best of 3: 1.7 s per loop\n"
       ]
      }
     ],
     "prompt_number": 11
    },
    {
     "cell_type": "code",
     "collapsed": false,
     "input": [
      "%%timeit\n",
      "tiger_sentences = (line.split() for line in tar.extractfile('tiger_release_dec05.txt'))\n",
      "tiger5 = build_ngram_model(tiger_sentences, 5)"
     ],
     "language": "python",
     "metadata": {},
     "outputs": [
      {
       "output_type": "stream",
       "stream": "stdout",
       "text": [
        "1 loops, best of 3: 1.83 s per loop\n"
       ]
      }
     ],
     "prompt_number": 12
    },
    {
     "cell_type": "markdown",
     "metadata": {},
     "source": [
      "# Pandas.Series"
     ]
    },
    {
     "cell_type": "code",
     "collapsed": false,
     "input": [
      "import pandas\n",
      "\n",
      "def build_ngram_model_pandas(sentences, n, pad='<eos>'):\n",
      "    nc = pandas.Series( list(chain.from_iterable(ngrams(sent, n, pad) for sent in sentences)) )\n",
      "    return nc"
     ],
     "language": "python",
     "metadata": {},
     "outputs": [],
     "prompt_number": 13
    },
    {
     "cell_type": "code",
     "collapsed": false,
     "input": [
      "%%timeit\n",
      "tiger_sentences = (line.split() for line in tar.extractfile('tiger_release_dec05.txt'))\n",
      "tiger1 = build_ngram_model_pandas(tiger_sentences, 1)"
     ],
     "language": "python",
     "metadata": {},
     "outputs": [
      {
       "output_type": "stream",
       "stream": "stdout",
       "text": [
        "1 loops, best of 3: 916 ms per loop\n"
       ]
      }
     ],
     "prompt_number": 14
    },
    {
     "cell_type": "code",
     "collapsed": false,
     "input": [
      "%%timeit\n",
      "tiger_sentences = (line.split() for line in tar.extractfile('tiger_release_dec05.txt'))\n",
      "tiger5 = build_ngram_model_pandas(tiger_sentences, 5)"
     ],
     "language": "python",
     "metadata": {},
     "outputs": [
      {
       "output_type": "stream",
       "stream": "stdout",
       "text": [
        "1 loops, best of 3: 965 ms per loop\n"
       ]
      }
     ],
     "prompt_number": 15
    },
    {
     "cell_type": "code",
     "collapsed": false,
     "input": [
      "tiger_sentences = (line.split() for line in tar.extractfile('tiger_release_dec05.txt'))\n",
      "tiger5 = build_ngram_model_pandas(tiger_sentences, 5)\n",
      "tiger5"
     ],
     "language": "python",
     "metadata": {},
     "outputs": [
      {
       "metadata": {},
       "output_type": "pyout",
       "prompt_number": 16,
       "text": [
        "0                (``, Ross, Perot, w\u00e4re, vielleicht)\n",
        "1               (Ross, Perot, w\u00e4re, vielleicht, ein)\n",
        "2         (Perot, w\u00e4re, vielleicht, ein, pr\u00e4chtiger)\n",
        "3      (w\u00e4re, vielleicht, ein, pr\u00e4chtiger, Diktator)\n",
        "4        (vielleicht, ein, pr\u00e4chtiger, Diktator, '')\n",
        "5             (ein, pr\u00e4chtiger, Diktator, '', <eos>)\n",
        "6           (pr\u00e4chtiger, Diktator, '', <eos>, <eos>)\n",
        "7                (Diktator, '', <eos>, <eos>, <eos>)\n",
        "8                   ('', <eos>, <eos>, <eos>, <eos>)\n",
        "9       (Konzernchefs, lehnen, den, Milliard\u00e4r, als)\n",
        "10    (lehnen, den, Milliard\u00e4r, als, US-Pr\u00e4sidenten)\n",
        "11        (den, Milliard\u00e4r, als, US-Pr\u00e4sidenten, ab)\n",
        "12          (Milliard\u00e4r, als, US-Pr\u00e4sidenten, ab, /)\n",
        "13               (als, US-Pr\u00e4sidenten, ab, /, <eos>)\n",
        "14             (US-Pr\u00e4sidenten, ab, /, <eos>, <eos>)\n",
        "...\n",
        "888563                    (Erhalt, der, Nato, ., <eos>)\n",
        "888564                     (der, Nato, ., <eos>, <eos>)\n",
        "888565                   (Nato, ., <eos>, <eos>, <eos>)\n",
        "888566                  (., <eos>, <eos>, <eos>, <eos>)\n",
        "888567        (Der, allein, ist, kein, Zukunftskonzept)\n",
        "888568        (allein, ist, kein, Zukunftskonzept, f\u00fcr)\n",
        "888569           (ist, kein, Zukunftskonzept, f\u00fcr, die)\n",
        "888570    (kein, Zukunftskonzept, f\u00fcr, die, Sicherheit)\n",
        "888571      (Zukunftskonzept, f\u00fcr, die, Sicherheit, in)\n",
        "888572               (f\u00fcr, die, Sicherheit, in, Europa)\n",
        "888573                 (die, Sicherheit, in, Europa, .)\n",
        "888574               (Sicherheit, in, Europa, ., <eos>)\n",
        "888575                    (in, Europa, ., <eos>, <eos>)\n",
        "888576                 (Europa, ., <eos>, <eos>, <eos>)\n",
        "888577                  (., <eos>, <eos>, <eos>, <eos>)\n",
        "Length: 888578, dtype: object"
       ]
      }
     ],
     "prompt_number": 16
    },
    {
     "cell_type": "markdown",
     "metadata": {},
     "source": [
      "# Counter with list comprehension"
     ]
    },
    {
     "cell_type": "code",
     "collapsed": false,
     "input": [
      "def build_ngram_model_comprehension(sentences, n, pad='<eos>'):\n",
      "    return Counter( chain.from_iterable(ngrams(sent, n, pad) for sent in sentences) )"
     ],
     "language": "python",
     "metadata": {},
     "outputs": [],
     "prompt_number": 17
    },
    {
     "cell_type": "code",
     "collapsed": false,
     "input": [
      "%%timeit\n",
      "tiger_sentences = (line.split() for line in tar.extractfile('tiger_release_dec05.txt'))\n",
      "tiger1 = build_ngram_model_comprehension(tiger_sentences, 1)"
     ],
     "language": "python",
     "metadata": {},
     "outputs": [
      {
       "output_type": "stream",
       "stream": "stdout",
       "text": [
        "1 loops, best of 3: 1.55 s per loop\n"
       ]
      }
     ],
     "prompt_number": 18
    },
    {
     "cell_type": "code",
     "collapsed": false,
     "input": [
      "%%timeit\n",
      "tiger_sentences = (line.split() for line in tar.extractfile('tiger_release_dec05.txt'))\n",
      "tiger5 = build_ngram_model_comprehension(tiger_sentences, 5)"
     ],
     "language": "python",
     "metadata": {},
     "outputs": [
      {
       "output_type": "stream",
       "stream": "stdout",
       "text": [
        "1 loops, best of 3: 1.58 s per loop\n"
       ]
      }
     ],
     "prompt_number": 19
    },
    {
     "cell_type": "code",
     "collapsed": false,
     "input": [
      "tiger_sentences = (line.split() for line in tar.extractfile('tiger_release_dec05.txt'))\n",
      "tiger5 = build_ngram_model_comprehension(tiger_sentences, 5)\n",
      "tiger5.most_common(10)"
     ],
     "language": "python",
     "metadata": {},
     "outputs": [
      {
       "metadata": {},
       "output_type": "pyout",
       "prompt_number": 20,
       "text": [
        "[(('.', '<eos>', '<eos>', '<eos>', '<eos>'), 40091),\n",
        " ((':', '<eos>', '<eos>', '<eos>', '<eos>'), 1439),\n",
        " ((\"''\", '.', '<eos>', '<eos>', '<eos>'), 1348),\n",
        " ((')', '.', '<eos>', '<eos>', '<eos>'), 1335),\n",
        " ((\"''\", '<eos>', '<eos>', '<eos>', '<eos>'), 1157),\n",
        " (('werden', '.', '<eos>', '<eos>', '<eos>'), 1032),\n",
        " (('.', \"''\", '<eos>', '<eos>', '<eos>'), 913),\n",
        " (('?', '<eos>', '<eos>', '<eos>', '<eos>'), 628),\n",
        " (('worden', '.', '<eos>', '<eos>', '<eos>'), 497),\n",
        " ((';', '<eos>', '<eos>', '<eos>', '<eos>'), 477)]"
       ]
      }
     ],
     "prompt_number": 20
    },
    {
     "cell_type": "markdown",
     "metadata": {},
     "source": [
      "# cytoolz.frequencies"
     ]
    },
    {
     "cell_type": "code",
     "collapsed": false,
     "input": [
      "from cytoolz import frequencies\n",
      "\n",
      "def build_ngram_model_cytoolz(sentences, n, pad='<eos>'):\n",
      "    return frequencies( chain.from_iterable(ngrams(sent, n, pad) for sent in sentences) )"
     ],
     "language": "python",
     "metadata": {},
     "outputs": [],
     "prompt_number": 21
    },
    {
     "cell_type": "code",
     "collapsed": false,
     "input": [
      "%%timeit\n",
      "tiger_sentences = (line.split() for line in tar.extractfile('tiger_release_dec05.txt'))\n",
      "tiger1 = build_ngram_model_cytoolz(tiger_sentences, 1)"
     ],
     "language": "python",
     "metadata": {},
     "outputs": [
      {
       "output_type": "stream",
       "stream": "stdout",
       "text": [
        "1 loops, best of 3: 1.2 s per loop\n"
       ]
      }
     ],
     "prompt_number": 22
    },
    {
     "cell_type": "code",
     "collapsed": false,
     "input": [
      "%%timeit\n",
      "tiger_sentences = (line.split() for line in tar.extractfile('tiger_release_dec05.txt'))\n",
      "tiger5 = build_ngram_model_cytoolz(tiger_sentences, 5)"
     ],
     "language": "python",
     "metadata": {},
     "outputs": [
      {
       "output_type": "stream",
       "stream": "stdout",
       "text": [
        "1 loops, best of 3: 1.34 s per loop\n"
       ]
      }
     ],
     "prompt_number": 23
    },
    {
     "cell_type": "code",
     "collapsed": false,
     "input": [
      "tiger_sentences = (line.split() for line in tar.extractfile('tiger_release_dec05.txt'))\n",
      "tiger5 = build_ngram_model_cytoolz(tiger_sentences, 5)"
     ],
     "language": "python",
     "metadata": {},
     "outputs": [],
     "prompt_number": 24
    },
    {
     "cell_type": "code",
     "collapsed": false,
     "input": [
      "from cytoolz import frequencies, concat\n",
      "\n",
      "def build_ngram_model_cytoolz_concat(sentences, n, pad='<eos>'):\n",
      "    return frequencies( concat(ngrams(sent, n, pad) for sent in sentences) )"
     ],
     "language": "python",
     "metadata": {},
     "outputs": [],
     "prompt_number": 25
    },
    {
     "cell_type": "code",
     "collapsed": false,
     "input": [
      "%%timeit\n",
      "tiger_sentences = (line.split() for line in tar.extractfile('tiger_release_dec05.txt'))\n",
      "tiger1 = build_ngram_model_cytoolz_concat(tiger_sentences, 1)"
     ],
     "language": "python",
     "metadata": {},
     "outputs": [
      {
       "output_type": "stream",
       "stream": "stdout",
       "text": [
        "1 loops, best of 3: 1.19 s per loop\n"
       ]
      }
     ],
     "prompt_number": 26
    },
    {
     "cell_type": "code",
     "collapsed": false,
     "input": [
      "from language_models.ngrams import ngrams\n",
      "\n",
      "tiger_sentences = (line.split() for line in tar.extractfile('tiger_release_dec05.txt'))"
     ],
     "language": "python",
     "metadata": {},
     "outputs": [],
     "prompt_number": 27
    },
    {
     "cell_type": "code",
     "collapsed": false,
     "input": [
      "tiger_sentences.next()"
     ],
     "language": "python",
     "metadata": {},
     "outputs": [
      {
       "metadata": {},
       "output_type": "pyout",
       "prompt_number": 28,
       "text": [
        "['``',\n",
        " 'Ross',\n",
        " 'Perot',\n",
        " 'w\\xc3\\xa4re',\n",
        " 'vielleicht',\n",
        " 'ein',\n",
        " 'pr\\xc3\\xa4chtiger',\n",
        " 'Diktator',\n",
        " \"''\"]"
       ]
      }
     ],
     "prompt_number": 28
    },
    {
     "cell_type": "code",
     "collapsed": false,
     "input": [
      "n = 5\n",
      "print range(1, n+1)"
     ],
     "language": "python",
     "metadata": {},
     "outputs": [
      {
       "output_type": "stream",
       "stream": "stdout",
       "text": [
        "[1, 2, 3, 4, 5]\n"
       ]
      }
     ],
     "prompt_number": 29
    },
    {
     "cell_type": "code",
     "collapsed": false,
     "input": [
      "def upto_ngrams(words, n, pad=None):\n",
      "    \"\"\"build [1, ..., n]-gram tuples of the given words\"\"\"\n",
      "    return concat(ngrams(words, i, pad) for i in xrange(1, n+1))\n",
      "        "
     ],
     "language": "python",
     "metadata": {},
     "outputs": [],
     "prompt_number": 53
    },
    {
     "cell_type": "code",
     "collapsed": false,
     "input": [
      "list(upto_ngrams(sentences[0], 3))"
     ],
     "language": "python",
     "metadata": {},
     "outputs": [
      {
       "metadata": {},
       "output_type": "pyout",
       "prompt_number": 54,
       "text": [
        "[('Angie',),\n",
        " ('ist',),\n",
        " ('doof',),\n",
        " ('.',),\n",
        " ('Angie', 'ist'),\n",
        " ('ist', 'doof'),\n",
        " ('doof', '.'),\n",
        " ('Angie', 'ist', 'doof'),\n",
        " ('ist', 'doof', '.')]"
       ]
      }
     ],
     "prompt_number": 54
    },
    {
     "cell_type": "code",
     "collapsed": false,
     "input": [
      "def build_upto_ngram_model(sentences, n, pad=None):\n",
      "    return frequencies( concat(upto_ngrams(sent, n, pad) for sent in sentences) )"
     ],
     "language": "python",
     "metadata": {},
     "outputs": [],
     "prompt_number": 55
    },
    {
     "cell_type": "code",
     "collapsed": false,
     "input": [
      "#%%timeit\n",
      "tiger_sentences = (line.split() for line in tar.extractfile('tiger_release_dec05.txt'))\n",
      "tiger1 = build_upto_ngram_model(tiger_sentences, 1)"
     ],
     "language": "python",
     "metadata": {},
     "outputs": [],
     "prompt_number": 66
    },
    {
     "cell_type": "code",
     "collapsed": false,
     "input": [
      "# %%timeit\n",
      "tiger_sentences = (line.split() for line in tar.extractfile('tiger_release_dec05.txt'))\n",
      "tiger5 = build_upto_ngram_model(tiger_sentences, 5)"
     ],
     "language": "python",
     "metadata": {},
     "outputs": [],
     "prompt_number": 56
    },
    {
     "cell_type": "code",
     "collapsed": false,
     "input": [
      "tiger_sentences = (line.split() for line in tar.extractfile('tiger_release_dec05.txt'))\n"
     ],
     "language": "python",
     "metadata": {},
     "outputs": [],
     "prompt_number": 58
    },
    {
     "cell_type": "code",
     "collapsed": false,
     "input": [
      "import cytoolz\n",
      "cytoolz.countby(len, tiger5)"
     ],
     "language": "python",
     "metadata": {},
     "outputs": [
      {
       "metadata": {},
       "output_type": "pyout",
       "prompt_number": 64,
       "text": [
        "{1: 89416, 2: 440474, 3: 675317, 4: 709910, 5: 680124}"
       ]
      }
     ],
     "prompt_number": 64
    },
    {
     "cell_type": "code",
     "collapsed": false,
     "input": [
      "cytoolz.countby(len, tiger1)"
     ],
     "language": "python",
     "metadata": {},
     "outputs": [
      {
       "metadata": {},
       "output_type": "pyout",
       "prompt_number": 67,
       "text": [
        "{1: 89416}"
       ]
      }
     ],
     "prompt_number": 67
    },
    {
     "cell_type": "code",
     "collapsed": false,
     "input": [],
     "language": "python",
     "metadata": {},
     "outputs": []
    }
   ],
   "metadata": {}
  }
 ]
}