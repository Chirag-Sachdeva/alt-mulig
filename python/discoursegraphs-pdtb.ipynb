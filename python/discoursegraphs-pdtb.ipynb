{
 "metadata": {
  "name": "",
  "signature": "sha256:b62a768a20b40d37a521eec04d83463cf348602105a89c354fbcd0dd6aa1a199"
 },
 "nbformat": 3,
 "nbformat_minor": 0,
 "worksheets": [
  {
   "cells": [
    {
     "cell_type": "code",
     "collapsed": false,
     "input": [
      "import os\n",
      "import educe\n",
      "from educe import pdtb\n",
      "import networkx as nx\n",
      "\n",
      "import discoursegraphs as dg"
     ],
     "language": "python",
     "metadata": {},
     "outputs": [],
     "prompt_number": 60
    },
    {
     "cell_type": "code",
     "collapsed": false,
     "input": [
      "PDTB_ROOT_DIR = os.path.expanduser('~/corpora/pdtb_v2/data')\n",
      "PDTB_TEST_FILE = os.path.join(PDTB_ROOT_DIR, '00/wsj_0003.pdtb')\n",
      "\n",
      "PTB_ROOT_DIR = os.path.expanduser('~/corpora/pennTreebank/parsed/mrg/wsj')\n",
      "PTB_TEST_FILE = os.path.join(PTB_ROOT_DIR, '00/wsj_0003.mrg')"
     ],
     "language": "python",
     "metadata": {},
     "outputs": [],
     "prompt_number": 61
    },
    {
     "cell_type": "code",
     "collapsed": false,
     "input": [
      "def wsjid2filepaths(wsj_id, ptb_root=PTB_ROOT_DIR, pdtb_root=PDTB_ROOT_DIR):\n",
      "    prefix = wsj_id[:2]\n",
      "    return os.path.join(ptb_root, prefix, 'wsj_{}.mrg'.format(wsj_id)), \\\n",
      "        os.path.join(pdtb_root, prefix, 'wsj_{}.pdtb'.format(wsj_id))"
     ],
     "language": "python",
     "metadata": {},
     "outputs": [],
     "prompt_number": 89
    },
    {
     "cell_type": "code",
     "collapsed": false,
     "input": [
      "# some helper functions for the tutorial below\n",
      "\n",
      "def show_type(rel):\n",
      "    \"short string for a relation type\"\n",
      "    return type(rel).__name__[:-8]  # remove \"Relation\"\n",
      "\n",
      "def highlight(astring, color=1):\n",
      "    \"coloured text\"\n",
      "    return(\"\\x1b[3{color}m{str}\\x1b[0m\".format(color=color, str=astring))\n",
      "\n",
      "def display_rel(r):\n",
      "    \"pretty print a relation instance\"\n",
      "\n",
      "    rtype = show_type(r)\n",
      "    \n",
      "    if rtype == \"Explicit\":\n",
      "        conn = highlight(r.connhead)\n",
      "    elif rtype == \"Implicit\":\n",
      "        conn = \"{rtype} {conn1}\".format(rtype=rtype,\n",
      "                                        conn1=highlight(str(r.connective1)))\n",
      "    elif rtype == \"AltLex\":\n",
      "        conn = \"{rtype} {sem1}\".format(rtype=rtype,\n",
      "                                       sem1=highlight(r.semclass1))\n",
      "    else:\n",
      "        conn = rtype\n",
      "\n",
      "    fmt = \"{src}\\n \\t ---[{label}]---->\\n \\t\\t\\t{tgt}\"\n",
      "    print fmt.format(src=highlight(r.arg1.text, 2),\n",
      "                      label=conn,\n",
      "                      tgt=highlight(r.arg2.text, 2))"
     ],
     "language": "python",
     "metadata": {},
     "outputs": [],
     "prompt_number": 62
    },
    {
     "cell_type": "code",
     "collapsed": false,
     "input": [
      "pdtb_0003 = pdtb.parse.parse(PDTB_TEST_FILE)"
     ],
     "language": "python",
     "metadata": {},
     "outputs": [],
     "prompt_number": 63
    },
    {
     "cell_type": "code",
     "collapsed": false,
     "input": [
      "print type(pdtb_0003), len(pdtb_0003)"
     ],
     "language": "python",
     "metadata": {},
     "outputs": [
      {
       "output_type": "stream",
       "stream": "stdout",
       "text": [
        "<type 'list'> 19\n"
       ]
      }
     ],
     "prompt_number": 64
    },
    {
     "cell_type": "code",
     "collapsed": false,
     "input": [
      "pdtb_0003[0]"
     ],
     "language": "python",
     "metadata": {},
     "outputs": [
      {
       "metadata": {},
       "output_type": "pyout",
       "prompt_number": 65,
       "text": [
        "ExplicitRelation(text = once\n",
        " span = [(258, 262)]\n",
        " gorn = [1.0.1.2.0]\n",
        " attribution = Attribution(Ot Comm Null Null@ [(361, 377)] [1.1, 1.2, 1.3, 1.4] researchers said)\n",
        " arg1 = Arg([(202, 257)] [1.0.0, 1.0.1.0, 1.0.1.1, 1.0.1.3] The asbestos fiber, crocidolite, is unusually resilient | Attribution(Inh Null Null Null))\n",
        " arg2 = Arg([(263, 282)] [1.0.1.2.1] it enters the lungs | Attribution(Inh Null Null Null))\n",
        " connhead = Connective(once | Temporal.Asynchronous.Succession))"
       ]
      }
     ],
     "prompt_number": 65
    },
    {
     "cell_type": "code",
     "collapsed": false,
     "input": [
      "ptb_0003 = dg.read_ptb(PTB_TEST_FILE)"
     ],
     "language": "python",
     "metadata": {},
     "outputs": [],
     "prompt_number": 66
    },
    {
     "cell_type": "code",
     "collapsed": false,
     "input": [
      "len(ptb_0003.sentences)"
     ],
     "language": "python",
     "metadata": {},
     "outputs": [
      {
       "metadata": {},
       "output_type": "pyout",
       "prompt_number": 67,
       "text": [
        "30"
       ]
      }
     ],
     "prompt_number": 67
    },
    {
     "cell_type": "code",
     "collapsed": false,
     "input": [
      "ptb_0003.sentences[1]"
     ],
     "language": "python",
     "metadata": {},
     "outputs": [
      {
       "metadata": {},
       "output_type": "pyout",
       "prompt_number": 68,
       "text": [
        "118"
       ]
      }
     ],
     "prompt_number": 68
    },
    {
     "cell_type": "code",
     "collapsed": false,
     "input": [
      "from discoursegraphs.util import natural_sort_key\n",
      "\n",
      "def get_sentence_subgraph(docgraph, sentence_root_node):\n",
      "    return docgraph.subgraph(nx.bfs_tree(docgraph, sentence_root_node).nodes())\n",
      "\n",
      "def get_subtree(docgraph, node_id):\n",
      "    return docgraph.subgraph(nx.bfs_tree(docgraph, node_id).nodes())\n",
      "\n",
      "def gorn2node(docgraph, gorn_address):\n",
      "    if isinstance(gorn_address, educe.pdtb.parse.GornAddress):\n",
      "        gorn_ints = gorn_address.parts\n",
      "    else:\n",
      "        gorn_ints = [int(num) for num in gorn_address.split('.')]\n",
      "    sentence_index, gorn_numbers = gorn_ints[0], gorn_ints[1:]\n",
      "    sentence_id = docgraph.sentences[sentence_index]\n",
      "    \n",
      "    current_node_id = sentence_id\n",
      "    for gorn_int in gorn_ints:\n",
      "        current_node_id = sorted(docgraph.neighbors(current_node_id), key=natural_sort_key)[gorn_int]\n",
      "    return current_node_id\n",
      "\n",
      "def gorn2subtree(docgraph, gorn_address):\n",
      "    subtree_root_node = gorn2node(docgraph, gorn_address)\n",
      "    return get_subtree(docgraph, subtree_root_node)\n",
      "\n",
      "def read_pdtb(pdtb_filepath):\n",
      "    return educe.pdtb.parse.parse(pdtb_filepath)"
     ],
     "language": "python",
     "metadata": {},
     "outputs": [],
     "prompt_number": 93
    },
    {
     "cell_type": "code",
     "collapsed": false,
     "input": [
      "# %load_ext gvmagic"
     ],
     "language": "python",
     "metadata": {},
     "outputs": [],
     "prompt_number": 70
    },
    {
     "cell_type": "code",
     "collapsed": false,
     "input": [
      "# for i, sent_root_node in enumerate(ptb_0003.sentences):\n",
      "#     print i, sent_root_node\n",
      "#     %dotstr dg.print_dot(get_sentence_subgraph(ptb_0003, sent_root_node))"
     ],
     "language": "python",
     "metadata": {},
     "outputs": [],
     "prompt_number": 71
    },
    {
     "cell_type": "code",
     "collapsed": false,
     "input": [
      "# %dotstr dg.print_dot(gorn2subtree(ptb_0003, '3'))"
     ],
     "language": "python",
     "metadata": {},
     "outputs": [],
     "prompt_number": 72
    },
    {
     "cell_type": "code",
     "collapsed": false,
     "input": [
      "def pdtb_info(pdtb_file):\n",
      "    educe_pdtb = read_pdtb(pdtb_file)\n",
      "    for i, rel in enumerate(educe_pdtb):\n",
      "        print i, type(rel)\n",
      "        display_rel(rel)\n",
      "        print 'arg1: ', rel.arg1.gorn\n",
      "    #     for gorn_address in rel.arg1.gorn:\n",
      "    #         %dotstr dg.print_dot(gorn2subtree(pdtb_0003, gorn_address))\n",
      "    #         gorn2subtree(ptb_graph, gorn_address)\n",
      "        print 'arg2: ', rel.arg2.gorn\n",
      "        print"
     ],
     "language": "python",
     "metadata": {},
     "outputs": [],
     "prompt_number": 95
    },
    {
     "cell_type": "code",
     "collapsed": false,
     "input": [
      "# gorn2subtree(ptb_0003, '1.0')\n",
      "\n",
      "# %dotstr dg.print_dot(get_sentence_subgraph(ptb_0003, 118))\n",
      "\n",
      "ptb_0003.neighbors(118)"
     ],
     "language": "python",
     "metadata": {},
     "outputs": [
      {
       "metadata": {},
       "output_type": "pyout",
       "prompt_number": 74,
       "text": [
        "[216, 209, 204, 206, 119]"
       ]
      }
     ],
     "prompt_number": 74
    },
    {
     "cell_type": "code",
     "collapsed": false,
     "input": [
      "ptb_0001path, pdtb_0001path = wsjid2filepaths('0001')\n",
      "\n",
      "ptb_0001 = dg.read_ptb(ptb_0001path)\n",
      "pdtb_0001 = read_pdtb(pdtb_0001path)"
     ],
     "language": "python",
     "metadata": {},
     "outputs": [],
     "prompt_number": 94
    },
    {
     "cell_type": "code",
     "collapsed": false,
     "input": [
      "pdtb_info(wsjid2filepaths('0004')[1])"
     ],
     "language": "python",
     "metadata": {},
     "outputs": [
      {
       "output_type": "stream",
       "stream": "stdout",
       "text": [
        "0 <class 'educe.pdtb.parse.EntityRelation'>\n",
        "\u001b[32mThe average seven-day compound yield of the 400 taxable funds tracked by IBC/Donoghue's Money Fund Report eased a fraction of a percentage point to 8.45% from 8.47% for the week ended Tuesday\u001b[0m\n",
        " \t ---[Entity]---->\n",
        " \t\t\t\u001b[32mCompound yields assume reinvestment of dividends and that the current yield continues for a year\u001b[0m\n",
        "arg1:  [1]\n",
        "arg2:  [2]\n",
        "\n",
        "1 <class 'educe.pdtb.parse.EntityRelation'>\n",
        "\u001b[32mAverage maturity of the funds' investments lengthened by a day to 41 days, the longest since early August, according to Donoghue's\u001b[0m\n",
        " \t ---[Entity]---->\n",
        " \t\t\t\u001b[32mLonger maturities are thought to indicate declining interest rates because they permit portfolio managers to retain relatively higher rates for a longer period\u001b[0m\n",
        "arg1:  [3]\n",
        "arg2:  [4]\n",
        "\n",
        "2 <class 'educe.pdtb.parse.ExplicitRelation'>\n",
        "\u001b[32mLonger maturities are thought to indicate declining interest rates\u001b[0m\n",
        " \t ---[\u001b[31mConnective(because | Contingency.Cause.Reason)\u001b[0m]---->\n",
        " \t\t\t\u001b[32mthey permit portfolio managers to retain relatively higher rates for a longer period\u001b[0m\n",
        "arg1:  [4.0, 4.1.0, 4.1.1.0, 4.1.1.1.0, 4.1.1.1.1.0, 4.1.1.1.1.1.0, 4.1.1.1.1.1.1, 4.2]\n",
        "arg2:  [4.1.1.1.1.1.2.1]\n",
        "\n",
        "3 <class 'educe.pdtb.parse.ImplicitRelation'>\n",
        "\u001b[32mto indicate declining interest rates\u001b[0m\n",
        " \t ---[Implicit \u001b[31mConnective(on the other hand | Comparison.Contrast.Opposition)\u001b[0m]---->\n",
        " \t\t\t\u001b[32ma sign of rising rates\u001b[0m\n",
        "arg1:  [4.1.1.1.0, 4.1.1.1.1.0, 4.1.1.1.1.1.0, 4.1.1.1.1.1.1]\n",
        "arg2:  [5.1.1.1]\n",
        "\n",
        "4 <class 'educe.pdtb.parse.ExplicitRelation'>\n",
        "\u001b[32mShorter maturities are considered a sign of rising rates\u001b[0m\n",
        " \t ---[\u001b[31mConnective(because | Contingency.Cause.Reason)\u001b[0m]---->\n",
        " \t\t\t\u001b[32mportfolio managers can capture higher rates sooner\u001b[0m\n",
        "arg1:  [5.0, 5.1.0, 5.1.1.0, 5.1.1.1, 5.2]\n",
        "arg2:  [5.1.1.2.1]\n",
        "\n",
        "5 <class 'educe.pdtb.parse.ExplicitRelation'>\n",
        "\u001b[32mto be a stronger indicator\u001b[0m\n",
        " \t ---[\u001b[31mConnective(because | Contingency.Cause.Reason)\u001b[0m]---->\n",
        " \t\t\t\u001b[32mthose managers watch the market closely\u001b[0m\n",
        "arg1:  [6.0.3.0.2.0, 6.0.3.0.2.1.0, 6.0.3.0.2.1.1.0, 6.0.3.0.2.1.1.1]\n",
        "arg2:  [6.0.3.0.2.1.1.2.1]\n",
        "\n",
        "6 <class 'educe.pdtb.parse.ExplicitRelation'>\n",
        "\u001b[32mYields on money-market mutual funds continued to slide, amid signs that portfolio managers expect further declines in interest rates\u001b[0m\n",
        " \t ---[\u001b[31mConnective(nevertheless | Comparison.Contrast)\u001b[0m]---->\n",
        " \t\t\t\u001b[32myields \"may blip up again before they blip down\" because of recent rises in short-term interest rates\u001b[0m\n",
        "arg1:  [0]\n",
        "arg2:  [7.2, 7.3, 7.4, 7.5]\n",
        "\n",
        "7 <class 'educe.pdtb.parse.ExplicitRelation'>\n",
        "\u001b[32mNevertheless yields \"may blip up again\u001b[0m\n",
        " \t ---[\u001b[31mConnective(before | Temporal.Asynchronous.Precedence)\u001b[0m]---->\n",
        " \t\t\t\u001b[32mthey blip down\" because of recent rises in short-term interest rates\u001b[0m\n",
        "arg1:  [7.0, 7.2, 7.3, 7.4.0, 7.4.1.0, 7.4.1.1, 7.4.1.2]\n",
        "arg2:  [7.4.1.3.1, 7.4.1.4, 7.4.1.5, 7.5]\n",
        "\n",
        "8 <class 'educe.pdtb.parse.ExplicitRelation'>\n",
        "\u001b[32mNevertheless yields \"may blip up again before they blip down\" because of recent rises in short-term interest rates\u001b[0m\n",
        " \t ---[\u001b[31mConnective(for example | Expansion.Instantiation)\u001b[0m]---->\n",
        " \t\t\t\u001b[32mThe yield on six-month Treasury bills sold at Monday's auction rose to 8.04% from 7.90%\u001b[0m\n",
        "arg1:  [7.0, 7.2, 7.3, 7.4, 7.5]\n",
        "arg2:  [8.0, 8.1, 8.3, 8.4, 8.5]\n",
        "\n",
        "9 <class 'educe.pdtb.parse.ImplicitRelation'>\n",
        "\u001b[32mDespite recent declines in yields, investors continue to pour cash into money funds\u001b[0m\n",
        " \t ---[Implicit \u001b[31mConnective(for example | Expansion.Instantiation)\u001b[0m]---->\n",
        " \t\t\t\u001b[32mAssets of the 400 taxable funds grew by $1.5 billion during the latest week, to $352.7 billion\u001b[0m\n",
        "arg1:  [9]\n",
        "arg2:  [10]\n",
        "\n",
        "10 <class 'educe.pdtb.parse.ExplicitRelation'>\n",
        "\u001b[32mTypically, money-fund yields beat comparable short-term investments\u001b[0m\n",
        " \t ---[\u001b[31mConnective(because | Contingency.Cause.Reason)\u001b[0m]---->\n",
        " \t\t\t\u001b[32mportfolio managers can vary maturities and go after the highest rates\u001b[0m\n",
        "arg1:  [11.0, 11.1, 11.2, 11.3.0, 11.3.1, 11.4]\n",
        "arg2:  [11.3.2.1]\n",
        "\n",
        "11 <class 'educe.pdtb.parse.ImplicitRelation'>\n",
        "\u001b[32mTypically, money-fund yields beat comparable short-term investments\u001b[0m\n",
        " \t ---[Implicit \u001b[31mConnective(for instance | Expansion.Instantiation)\u001b[0m]---->\n",
        " \t\t\t\u001b[32mThe top money funds are currently yielding well over 9%\u001b[0m\n",
        "arg1:  [11.0, 11.1, 11.2, 11.3.0, 11.3.1, 11.4]\n",
        "arg2:  [12]\n",
        "\n",
        "12 <class 'educe.pdtb.parse.ImplicitRelation'>\n",
        "\u001b[32mThe top money funds are currently yielding well over 9%\u001b[0m\n",
        " \t ---[Implicit \u001b[31mConnective(for example | Expansion.Instantiation)\u001b[0m]---->\n",
        " \t\t\t\u001b[32mDreyfus World-Wide Dollar, the top-yielding fund, had a seven-day compound yield of 9.37% during the latest week, down from 9.45% a week earlier\u001b[0m\n",
        "arg1:  [12]\n",
        "arg2:  [13]\n",
        "\n",
        "13 <class 'educe.pdtb.parse.EntityRelation'>\n",
        "\u001b[32mDreyfus World-Wide Dollar, the top-yielding fund, had a seven-day compound yield of 9.37% during the latest week, down from 9.45% a week earlier\u001b[0m\n",
        " \t ---[Entity]---->\n",
        " \t\t\t\u001b[32mIt invests heavily in dollar-denominated securities overseas and is currently waiving management fees, which boosts its yield\u001b[0m\n",
        "arg1:  [13]\n",
        "arg2:  [14]\n",
        "\n",
        "14 <class 'educe.pdtb.parse.NoRelation'>\n",
        "\u001b[32mIt invests heavily in dollar-denominated securities overseas and is currently waiving management fees, which boosts its yield\u001b[0m\n",
        " \t ---[No]---->\n",
        " \t\t\t\u001b[32mThe average seven-day simple yield of the 400 funds was 8.12%, down from 8.14%\u001b[0m\n",
        "arg1:  [14]\n",
        "arg2:  [15]\n",
        "\n",
        "15 <class 'educe.pdtb.parse.ImplicitRelation'>\n",
        "\u001b[32mThe average seven-day simple yield of the 400 funds was 8.12%, down from 8.14%\u001b[0m\n",
        " \t ---[Implicit \u001b[31mConnective(and | Expansion.Conjunction)\u001b[0m]---->\n",
        " \t\t\t\u001b[32mThe 30-day simple yield fell to an average 8.19% from 8.22%\u001b[0m\n",
        "arg1:  [15]\n",
        "arg2:  [16.0]\n",
        "\n",
        "16 <class 'educe.pdtb.parse.ImplicitRelation'>\n",
        "\u001b[32mThe average seven-day simple yield of the 400 funds was 8.12%, down from 8.14%.\n",
        "The 30-day simple yield fell to an average 8.19% from 8.22%\u001b[0m\n",
        " \t ---[Implicit \u001b[31mConnective(and | Expansion.Conjunction)\u001b[0m]---->\n",
        " \t\t\t\u001b[32mthe 30-day compound yield slid to an average 8.53% from 8.56%\u001b[0m\n",
        "arg1:  [15, 16.0]\n",
        "arg2:  [16.2]\n",
        "\n"
       ]
      }
     ],
     "prompt_number": 101
    },
    {
     "cell_type": "markdown",
     "metadata": {},
     "source": [
      "# TODO: repair node order in write_dot / print_dot for good"
     ]
    },
    {
     "cell_type": "code",
     "collapsed": false,
     "input": [
      "# %dotstr dg.print_dot(nx.bfs_tree(ptb_0003, 118))"
     ],
     "language": "python",
     "metadata": {},
     "outputs": [],
     "prompt_number": 75
    },
    {
     "cell_type": "code",
     "collapsed": false,
     "input": [
      "# %dotstr dg.print_dot(ptb_0003)"
     ],
     "language": "python",
     "metadata": {},
     "outputs": [],
     "prompt_number": 76
    },
    {
     "cell_type": "code",
     "collapsed": false,
     "input": [
      "from discoursegraphs.util import find_files\n",
      "\n",
      "def parse_corpus(corpus_dir=PDTB_ROOT_DIR):\n",
      "    for pdtb_file in find_files(corpus_dir, '*.pdtb'):\n",
      "        pdtb.parse.parse(pdtb_file)\n"
     ],
     "language": "python",
     "metadata": {},
     "outputs": [],
     "prompt_number": 77
    },
    {
     "cell_type": "code",
     "collapsed": false,
     "input": [
      "# %time [pdtb.parse.parse(pdtb_file) for pdtb_file in find_files(PDTB_ROOT_DIR, '*.pdtb')] # 1m45s"
     ],
     "language": "python",
     "metadata": {},
     "outputs": [],
     "prompt_number": 78
    },
    {
     "cell_type": "code",
     "collapsed": false,
     "input": [
      "# %timeit parse_corpus() #1 loops, best of 3: 1min 39s per loop"
     ],
     "language": "python",
     "metadata": {},
     "outputs": [],
     "prompt_number": 79
    },
    {
     "cell_type": "code",
     "collapsed": false,
     "input": [
      "# pdtb_reader = pdtb.Reader(PDTB_ROOT_DIR)"
     ],
     "language": "python",
     "metadata": {},
     "outputs": [],
     "prompt_number": 80
    },
    {
     "cell_type": "code",
     "collapsed": false,
     "input": [
      "# len(pdtb_reader.files()) # 2159"
     ],
     "language": "python",
     "metadata": {},
     "outputs": [],
     "prompt_number": 81
    },
    {
     "cell_type": "code",
     "collapsed": false,
     "input": [
      "# pdtb_corpys = pdtb_reader.slurp()"
     ],
     "language": "python",
     "metadata": {},
     "outputs": [],
     "prompt_number": 82
    },
    {
     "cell_type": "code",
     "collapsed": false,
     "input": [
      "from math import sqrt\n",
      "from joblib import Parallel, delayed"
     ],
     "language": "python",
     "metadata": {},
     "outputs": [],
     "prompt_number": 83
    },
    {
     "cell_type": "code",
     "collapsed": false,
     "input": [
      "def parse_pdtb_file(pdtb_file):\n",
      "    pdtb.parse.parse(pdtb_file)"
     ],
     "language": "python",
     "metadata": {},
     "outputs": [],
     "prompt_number": 84
    },
    {
     "cell_type": "code",
     "collapsed": false,
     "input": [
      "# Parallel(n_jobs=4)(delayed(parse_pdtb_file)(pdtb_file) for pdtb_file in find_files(PDTB_ROOT_DIR, '*.pdtb')) # 49.6s"
     ],
     "language": "python",
     "metadata": {},
     "outputs": [],
     "prompt_number": 85
    }
   ],
   "metadata": {}
  }
 ]
}