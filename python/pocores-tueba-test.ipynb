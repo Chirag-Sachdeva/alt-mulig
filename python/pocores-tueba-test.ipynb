{
 "cells": [
  {
   "cell_type": "code",
   "execution_count": 3,
   "metadata": {
    "collapsed": false
   },
   "outputs": [],
   "source": [
    "import os\n",
    "import networkx as nx\n",
    "\n",
    "import discoursegraphs as dg\n",
    "import pocores as pc\n",
    "\n",
    "MATE_PARSED_TUEBA_DIR = os.path.expanduser('~/corpora/tueba/tueba_mate_output')\n",
    "TUEBA_TEST_FILE = os.path.join(MATE_PARSED_TUEBA_DIR, 'text_104.bp')"
   ]
  },
  {
   "cell_type": "code",
   "execution_count": 4,
   "metadata": {
    "collapsed": false
   },
   "outputs": [],
   "source": [
    "pocograph = pc.run_pocores(TUEBA_TEST_FILE, input_format='2009',\n",
    "                           output_dest='/tmp/{}.pocores'.format(os.path.basename(TUEBA_TEST_FILE)))"
   ]
  },
  {
   "cell_type": "code",
   "execution_count": 5,
   "metadata": {
    "collapsed": false
   },
   "outputs": [
    {
     "name": "stdout",
     "output_type": "stream",
     "text": [
      "[Erneute Kritik am Gleichberechtigungsgesetz]_{s1_t2} \n",
      "[Scharfe Kritik am Gleichstellungsgesetz für [Behinderte]_{s2_t6}]_{s1_t2} hat [der Landesgeschäftsführer des Sozialverbandes VDK , Berndt Mayer ,]_{s2_t9} geäußert . \n",
      "Das Gesetz sei \" zahnlos \" , unterstrich [er]_{s2_t9} am Mittwoch abend vor [rund 800 Behinderten]_{s2_t6} in der Kreuzberger Passionskirche . \n",
      "Das Diskriminierungsverbot sei lediglich als \" Programmsatz \" enthalten . \n",
      "Deshalb könnten daraus keine Rechte eingeklagt werden . \n",
      "ADN \n",
      "\n"
     ]
    }
   ],
   "source": [
    "print pc.main.output_with_brackets(pocograph)"
   ]
  },
  {
   "cell_type": "code",
   "execution_count": 6,
   "metadata": {
    "collapsed": false
   },
   "outputs": [],
   "source": [
    "tdg = dg.read_tiger('/home/arne/repos/pcc-annis-merged/maz176/syntax/maz-10207.xml')"
   ]
  },
  {
   "cell_type": "code",
   "execution_count": 7,
   "metadata": {
    "collapsed": false
   },
   "outputs": [],
   "source": [
    "# %load_ext gvmagic"
   ]
  },
  {
   "cell_type": "code",
   "execution_count": 8,
   "metadata": {
    "collapsed": false
   },
   "outputs": [],
   "source": [
    "# %dotstr dg.print_dot(pocograph.document)"
   ]
  },
  {
   "cell_type": "code",
   "execution_count": 9,
   "metadata": {
    "collapsed": false
   },
   "outputs": [],
   "source": [
    "# %dotstr dg.print_dot(dg.read_conll(TUEBA_TEST_FILE))"
   ]
  },
  {
   "cell_type": "code",
   "execution_count": 10,
   "metadata": {
    "collapsed": false
   },
   "outputs": [],
   "source": [
    "dg.write_conll(pocograph.document, '/tmp/{}.pocores.conll'.format(pocograph.document.name),\n",
    "               markable_layer='pocores:markable')"
   ]
  },
  {
   "cell_type": "code",
   "execution_count": 11,
   "metadata": {
    "collapsed": true
   },
   "outputs": [],
   "source": [
    "TUEBADZ8_FILE = os.path.expanduser(\n",
    "    '~/corpora/tueba/TuebaDZ8.0/tuebadz-8.0-mit-NE+Anaphern+Diskurs.exml.xml')"
   ]
  },
  {
   "cell_type": "code",
   "execution_count": 12,
   "metadata": {
    "collapsed": false
   },
   "outputs": [],
   "source": [
    "tueba_corpus = dg.read_exportxml(TUEBADZ8_FILE)"
   ]
  },
  {
   "cell_type": "code",
   "execution_count": 13,
   "metadata": {
    "collapsed": false
   },
   "outputs": [],
   "source": [
    "def get_specific_tueba_document(tueba_filepath, text_id, debug=False):\n",
    "    tueba_corpus = dg.read_exportxml(TUEBADZ8_FILE, debug=True)\n",
    "    for text_element in tueba_corpus:\n",
    "        if text_element.attrib[dg.readwrite.exportxml.add_ns('id')] == text_id:\n",
    "            if debug:\n",
    "                return text_element\n",
    "            else:\n",
    "                return dg.readwrite.exportxml.ExportXMLDocumentGraph(text_element)\n",
    "    raise ValueError(\"There's no text with ID: {} in the corpus file: {}\".format(text_id, tueba_filepath))"
   ]
  },
  {
   "cell_type": "code",
   "execution_count": 14,
   "metadata": {
    "collapsed": false
   },
   "outputs": [
    {
     "ename": "AttributeError",
     "evalue": "'ExportXMLDocumentGraph' object has no attribute 'ignore_seceges'",
     "output_type": "error",
     "traceback": [
      "\u001b[1;31m---------------------------------------------------------------------------\u001b[0m",
      "\u001b[1;31mAttributeError\u001b[0m                            Traceback (most recent call last)",
      "\u001b[1;32m<ipython-input-14-c959e5fadfc9>\u001b[0m in \u001b[0;36m<module>\u001b[1;34m()\u001b[0m\n\u001b[1;32m----> 1\u001b[1;33m \u001b[0mtext29\u001b[0m \u001b[1;33m=\u001b[0m \u001b[0mget_specific_tueba_document\u001b[0m\u001b[1;33m(\u001b[0m\u001b[0mtueba_corpus\u001b[0m\u001b[1;33m,\u001b[0m \u001b[1;34m'text_29'\u001b[0m\u001b[1;33m)\u001b[0m\u001b[1;33m\u001b[0m\u001b[0m\n\u001b[0m",
      "\u001b[1;32m<ipython-input-13-8178c94595c1>\u001b[0m in \u001b[0;36mget_specific_tueba_document\u001b[1;34m(tueba_filepath, text_id, debug)\u001b[0m\n\u001b[0;32m      6\u001b[0m                 \u001b[1;32mreturn\u001b[0m \u001b[0mtext_element\u001b[0m\u001b[1;33m\u001b[0m\u001b[0m\n\u001b[0;32m      7\u001b[0m             \u001b[1;32melse\u001b[0m\u001b[1;33m:\u001b[0m\u001b[1;33m\u001b[0m\u001b[0m\n\u001b[1;32m----> 8\u001b[1;33m                 \u001b[1;32mreturn\u001b[0m \u001b[0mdg\u001b[0m\u001b[1;33m.\u001b[0m\u001b[0mreadwrite\u001b[0m\u001b[1;33m.\u001b[0m\u001b[0mexportxml\u001b[0m\u001b[1;33m.\u001b[0m\u001b[0mExportXMLDocumentGraph\u001b[0m\u001b[1;33m(\u001b[0m\u001b[0mtext_element\u001b[0m\u001b[1;33m)\u001b[0m\u001b[1;33m\u001b[0m\u001b[0m\n\u001b[0m\u001b[0;32m      9\u001b[0m     \u001b[1;32mraise\u001b[0m \u001b[0mValueError\u001b[0m\u001b[1;33m(\u001b[0m\u001b[1;34m\"There's no text with ID: {} in the corpus file: {}\"\u001b[0m\u001b[1;33m.\u001b[0m\u001b[0mformat\u001b[0m\u001b[1;33m(\u001b[0m\u001b[0mtext_id\u001b[0m\u001b[1;33m,\u001b[0m \u001b[0mtueba_filepath\u001b[0m\u001b[1;33m)\u001b[0m\u001b[1;33m)\u001b[0m\u001b[1;33m\u001b[0m\u001b[0m\n",
      "\u001b[1;32m/usr/local/lib/python2.7/dist-packages/discoursegraphs-0.1.2-py2.7.egg/discoursegraphs/readwrite/exportxml.pyc\u001b[0m in \u001b[0;36m__init__\u001b[1;34m(self, text_element, name, namespace, precedence, ignore_relations, ignore_secedges)\u001b[0m\n\u001b[0;32m    140\u001b[0m         }\n\u001b[0;32m    141\u001b[0m \u001b[1;33m\u001b[0m\u001b[0m\n\u001b[1;32m--> 142\u001b[1;33m         \u001b[0mself\u001b[0m\u001b[1;33m.\u001b[0m\u001b[0mparse_descedant_elements\u001b[0m\u001b[1;33m(\u001b[0m\u001b[0mtext_element\u001b[0m\u001b[1;33m)\u001b[0m\u001b[1;33m\u001b[0m\u001b[0m\n\u001b[0m\u001b[0;32m    143\u001b[0m \u001b[1;33m\u001b[0m\u001b[0m\n\u001b[0;32m    144\u001b[0m     \u001b[1;32mdef\u001b[0m \u001b[0mparse_child_elements\u001b[0m\u001b[1;33m(\u001b[0m\u001b[0mself\u001b[0m\u001b[1;33m,\u001b[0m \u001b[0melement\u001b[0m\u001b[1;33m)\u001b[0m\u001b[1;33m:\u001b[0m\u001b[1;33m\u001b[0m\u001b[0m\n",
      "\u001b[1;32m/usr/local/lib/python2.7/dist-packages/discoursegraphs-0.1.2-py2.7.egg/discoursegraphs/readwrite/exportxml.pyc\u001b[0m in \u001b[0;36mparse_descedant_elements\u001b[1;34m(self, element)\u001b[0m\n\u001b[0;32m    150\u001b[0m         \u001b[1;34m'''parses all descendants of an etree element'''\u001b[0m\u001b[1;33m\u001b[0m\u001b[0m\n\u001b[0;32m    151\u001b[0m         \u001b[1;32mfor\u001b[0m \u001b[0mdescendant\u001b[0m \u001b[1;32min\u001b[0m \u001b[0melement\u001b[0m\u001b[1;33m.\u001b[0m\u001b[0miterdescendants\u001b[0m\u001b[1;33m(\u001b[0m\u001b[1;33m)\u001b[0m\u001b[1;33m:\u001b[0m\u001b[1;33m\u001b[0m\u001b[0m\n\u001b[1;32m--> 152\u001b[1;33m             \u001b[0mself\u001b[0m\u001b[1;33m.\u001b[0m\u001b[0mparsers\u001b[0m\u001b[1;33m[\u001b[0m\u001b[0mdescendant\u001b[0m\u001b[1;33m.\u001b[0m\u001b[0mtag\u001b[0m\u001b[1;33m]\u001b[0m\u001b[1;33m(\u001b[0m\u001b[0mdescendant\u001b[0m\u001b[1;33m)\u001b[0m\u001b[1;33m\u001b[0m\u001b[0m\n\u001b[0m\u001b[0;32m    153\u001b[0m \u001b[1;33m\u001b[0m\u001b[0m\n\u001b[0;32m    154\u001b[0m     \u001b[1;32mdef\u001b[0m \u001b[0madd_connective\u001b[0m\u001b[1;33m(\u001b[0m\u001b[0mself\u001b[0m\u001b[1;33m,\u001b[0m \u001b[0mconnective\u001b[0m\u001b[1;33m)\u001b[0m\u001b[1;33m:\u001b[0m\u001b[1;33m\u001b[0m\u001b[0m\n",
      "\u001b[1;32m/usr/local/lib/python2.7/dist-packages/discoursegraphs-0.1.2-py2.7.egg/discoursegraphs/readwrite/exportxml.pyc\u001b[0m in \u001b[0;36madd_secedge\u001b[1;34m(self, secedge)\u001b[0m\n\u001b[0;32m    420\u001b[0m            \u001b[1;33m<\u001b[0m\u001b[1;33m/\u001b[0m\u001b[0mnode\u001b[0m\u001b[1;33m>\u001b[0m\u001b[1;33m\u001b[0m\u001b[0m\n\u001b[0;32m    421\u001b[0m         \"\"\"\n\u001b[1;32m--> 422\u001b[1;33m         \u001b[1;32mif\u001b[0m \u001b[0mself\u001b[0m\u001b[1;33m.\u001b[0m\u001b[0mignore_seceges\u001b[0m \u001b[1;32mis\u001b[0m \u001b[0mFalse\u001b[0m\u001b[1;33m:\u001b[0m\u001b[1;33m\u001b[0m\u001b[0m\n\u001b[0m\u001b[0;32m    423\u001b[0m             \u001b[0medge_source\u001b[0m \u001b[1;33m=\u001b[0m \u001b[0mself\u001b[0m\u001b[1;33m.\u001b[0m\u001b[0mget_parent_id\u001b[0m\u001b[1;33m(\u001b[0m\u001b[0msecedge\u001b[0m\u001b[1;33m)\u001b[0m\u001b[1;33m\u001b[0m\u001b[0m\n\u001b[0;32m    424\u001b[0m             \u001b[0medge_target\u001b[0m \u001b[1;33m=\u001b[0m \u001b[0mself\u001b[0m\u001b[1;33m.\u001b[0m\u001b[0mget_element_id\u001b[0m\u001b[1;33m(\u001b[0m\u001b[0msecedge\u001b[0m\u001b[1;33m)\u001b[0m\u001b[1;33m\u001b[0m\u001b[0m\n",
      "\u001b[1;31mAttributeError\u001b[0m: 'ExportXMLDocumentGraph' object has no attribute 'ignore_seceges'"
     ]
    }
   ],
   "source": [
    "text29 = get_specific_tueba_document(tueba_corpus, 'text_29')"
   ]
  },
  {
   "cell_type": "code",
   "execution_count": null,
   "metadata": {
    "collapsed": false
   },
   "outputs": [],
   "source": [
    "dg.write_conll(text29, '/tmp/text_29.conll')"
   ]
  },
  {
   "cell_type": "code",
   "execution_count": null,
   "metadata": {
    "collapsed": false
   },
   "outputs": [],
   "source": [
    "nx.is_directed_acyclic_graph(text29)"
   ]
  },
  {
   "cell_type": "code",
   "execution_count": null,
   "metadata": {
    "collapsed": false
   },
   "outputs": [],
   "source": [
    "nx.is_directed(text29)"
   ]
  },
  {
   "cell_type": "code",
   "execution_count": null,
   "metadata": {
    "collapsed": false
   },
   "outputs": [],
   "source": [
    "text29_multidigraph = nx.MultiDiGraph(text29.edges_iter())\n",
    "for cycle in nx.simple_cycles(text29_multidigraph):\n",
    "    print cycle\n",
    "\n",
    "# A generator that produces elementary cycles of the graph.\n",
    "# Each cycle is a list of nodes with the first and last nodes being the same."
   ]
  },
  {
   "cell_type": "code",
   "execution_count": null,
   "metadata": {
    "collapsed": false
   },
   "outputs": [],
   "source": [
    "cycle = ['s503_505', 's503_532', 's503_531', 's503_507', 's503_506']\n",
    "\n",
    "cycle_graph = []\n",
    "for node in cycle:\n",
    "    print node, \"has out edges: \", [trg for (src, trg) in text29.out_edges(node)]\n",
    "    print node, \"has in edges: \", [src for (src, trg) in text29.in_edges(node)]\n",
    "    cycle_graph.extend(text29.out_edges(node))\n",
    "    cycle_graph.extend(text29.in_edges(node))"
   ]
  },
  {
   "cell_type": "code",
   "execution_count": null,
   "metadata": {
    "collapsed": false
   },
   "outputs": [],
   "source": [
    "# %dotstr dg.print_dot(nx.DiGraph(cycle_graph))"
   ]
  },
  {
   "cell_type": "code",
   "execution_count": null,
   "metadata": {
    "collapsed": true
   },
   "outputs": [],
   "source": [
    "# %load_ext gvmagic"
   ]
  },
  {
   "cell_type": "code",
   "execution_count": null,
   "metadata": {
    "collapsed": false
   },
   "outputs": [],
   "source": [
    "tueba_corpus = dg.read_exportxml(TUEBADZ8_FILE)"
   ]
  },
  {
   "cell_type": "code",
   "execution_count": null,
   "metadata": {
    "collapsed": true
   },
   "outputs": [],
   "source": [
    "text922 = get_specific_tueba_document(TUEBADZ8_FILE, 'text_922')"
   ]
  },
  {
   "cell_type": "code",
   "execution_count": null,
   "metadata": {
    "collapsed": true
   },
   "outputs": [],
   "source": [
    "text_element922 = get_specific_tueba_document(TUEBADZ8_FILE, 'text_922', debug=True)"
   ]
  },
  {
   "cell_type": "code",
   "execution_count": null,
   "metadata": {
    "collapsed": true
   },
   "outputs": [],
   "source": [
    "from lxml import etree\n",
    "\n",
    "with open('/tmp/text_922.xml', 'w') as tfile:\n",
    "    tfile.write(etree.tostring(text_element922))"
   ]
  },
  {
   "cell_type": "code",
   "execution_count": null,
   "metadata": {
    "collapsed": true
   },
   "outputs": [],
   "source": [
    "def get_cyclic_subgraphs(docgraph):\n",
    "    mdg = nx.MultiDiGraph(docgraph.edges_iter())\n",
    "    cycles = nx.simple_cycles(mdg)\n",
    "    for cycle in cycles:\n",
    "        yield mdg.subgraph(cycle)"
   ]
  },
  {
   "cell_type": "code",
   "execution_count": null,
   "metadata": {
    "collapsed": false
   },
   "outputs": [],
   "source": [
    "for subgraph in get_cyclic_subgraphs(text922):\n",
    "    %dotstr dg.print_dot(subgraph)"
   ]
  },
  {
   "cell_type": "code",
   "execution_count": null,
   "metadata": {
    "collapsed": true
   },
   "outputs": [],
   "source": [
    "pointing_relations = dg.select_edges_by(text922, edge_type=dg.EdgeTypes.pointing_relation)"
   ]
  },
  {
   "cell_type": "code",
   "execution_count": null,
   "metadata": {
    "collapsed": true
   },
   "outputs": [],
   "source": [
    "rel_dict = defaultdict(set)\n",
    "for src_id, trg_id in pointing_relations:\n",
    "    rel_dict[src_id].add(trg_id)"
   ]
  },
  {
   "cell_type": "code",
   "execution_count": null,
   "metadata": {
    "collapsed": false
   },
   "outputs": [],
   "source": [
    "# dg.discoursegraph.__walk_chain(rel_dict, 's19293_501')"
   ]
  },
  {
   "cell_type": "code",
   "execution_count": null,
   "metadata": {
    "collapsed": false
   },
   "outputs": [],
   "source": [
    "# for doc in tueba_corpus:\n",
    "#     dg.write_conll(doc, '/tmp/{}.tueba.conll'.format(doc.name))"
   ]
  }
 ],
 "metadata": {
  "kernelspec": {
   "display_name": "Python 2",
   "language": "python",
   "name": "python2"
  },
  "language_info": {
   "codemirror_mode": {
    "name": "ipython",
    "version": 2
   },
   "file_extension": ".py",
   "mimetype": "text/x-python",
   "name": "python",
   "nbconvert_exporter": "python",
   "pygments_lexer": "ipython2",
   "version": "2.7.5+"
  }
 },
 "nbformat": 4,
 "nbformat_minor": 0
}
