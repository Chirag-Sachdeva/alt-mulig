{
 "cells": [
  {
   "cell_type": "code",
   "execution_count": 1,
   "metadata": {
    "collapsed": false
   },
   "outputs": [],
   "source": [
    "import codecs\n",
    "import os\n",
    "\n",
    "import jursegtok\n",
    "from jursegtok.corpus import OJCorpus\n",
    "from jursegtok.utils import get_data\n",
    "from jursegtok import tokenizer\n",
    "from jursegtok.tokenizer import JurSentTokenizer\n",
    "from jursegtok import tools\n",
    "\n",
    "from jursegtok.utils import find_files\n",
    "from jursegtok.tools import random_sampling\n"
   ]
  },
  {
   "cell_type": "code",
   "execution_count": 2,
   "metadata": {
    "collapsed": true
   },
   "outputs": [],
   "source": [
    "OJCORPUS_ROOTDIR = os.path.expanduser('~/corpora/ojcorpus_cleaned/')"
   ]
  },
  {
   "cell_type": "code",
   "execution_count": 3,
   "metadata": {
    "collapsed": false
   },
   "outputs": [],
   "source": [
    "ojc = OJCorpus(OJCORPUS_ROOTDIR)"
   ]
  },
  {
   "cell_type": "code",
   "execution_count": 4,
   "metadata": {
    "collapsed": false
   },
   "outputs": [
    {
     "data": {
      "text/plain": [
       "'/home/arne/corpora/ojcorpus_cleaned'"
      ]
     },
     "execution_count": 4,
     "metadata": {},
     "output_type": "execute_result"
    }
   ],
   "source": [
    "ojc.corpus_path"
   ]
  },
  {
   "cell_type": "code",
   "execution_count": 5,
   "metadata": {
    "collapsed": false
   },
   "outputs": [],
   "source": [
    "docs = [doc for doc in ojc]"
   ]
  },
  {
   "cell_type": "code",
   "execution_count": 6,
   "metadata": {
    "collapsed": false
   },
   "outputs": [],
   "source": [
    "doc0 = docs[0]"
   ]
  },
  {
   "cell_type": "code",
   "execution_count": 7,
   "metadata": {
    "collapsed": false
   },
   "outputs": [
    {
     "data": {
      "text/plain": [
       "'185990.html.gz'"
      ]
     },
     "execution_count": 7,
     "metadata": {},
     "output_type": "execute_result"
    }
   ],
   "source": [
    "doc0.filename"
   ]
  },
  {
   "cell_type": "code",
   "execution_count": 8,
   "metadata": {
    "collapsed": false
   },
   "outputs": [],
   "source": [
    "# print doc0.raw_html"
   ]
  },
  {
   "cell_type": "code",
   "execution_count": 9,
   "metadata": {
    "collapsed": false
   },
   "outputs": [],
   "source": [
    "# print doc0.plain_text"
   ]
  },
  {
   "cell_type": "code",
   "execution_count": null,
   "metadata": {
    "collapsed": false
   },
   "outputs": [],
   "source": []
  },
  {
   "cell_type": "code",
   "execution_count": 10,
   "metadata": {
    "collapsed": false
   },
   "outputs": [],
   "source": [
    "\n",
    "\n",
    "jst = JurSentTokenizer()"
   ]
  },
  {
   "cell_type": "code",
   "execution_count": 11,
   "metadata": {
    "collapsed": false
   },
   "outputs": [],
   "source": [
    "# jst.get_abbreviations()"
   ]
  },
  {
   "cell_type": "code",
   "execution_count": 12,
   "metadata": {
    "collapsed": false
   },
   "outputs": [],
   "source": [
    "# from segtok import tokenizer as segtoktokenizer\n",
    "\n",
    "# segtoktokenizer.word_tokenizer(' '.join(tree.xpath('//article//text()')))"
   ]
  },
  {
   "cell_type": "code",
   "execution_count": 13,
   "metadata": {
    "collapsed": false
   },
   "outputs": [],
   "source": [
    "# segtoktokenizer.word_tokenizer(doc0.plain_text)"
   ]
  },
  {
   "cell_type": "code",
   "execution_count": 14,
   "metadata": {
    "collapsed": false
   },
   "outputs": [
    {
     "data": {
      "text/plain": [
       "[u'VGH',\n",
       " u'Baden-W\\xfcrttemberg',\n",
       " u'\\xb7',\n",
       " u'Beschluss',\n",
       " u'vom',\n",
       " u'3.',\n",
       " u'Juni',\n",
       " u'1991',\n",
       " u'\\xb7',\n",
       " u'Az.']"
      ]
     },
     "execution_count": 14,
     "metadata": {},
     "output_type": "execute_result"
    }
   ],
   "source": [
    "doc0.tokens[:10]"
   ]
  },
  {
   "cell_type": "code",
   "execution_count": 15,
   "metadata": {
    "collapsed": false
   },
   "outputs": [],
   "source": [
    "# list(doc0.sentences)"
   ]
  },
  {
   "cell_type": "code",
   "execution_count": null,
   "metadata": {
    "collapsed": true
   },
   "outputs": [],
   "source": []
  },
  {
   "cell_type": "code",
   "execution_count": 16,
   "metadata": {
    "collapsed": false
   },
   "outputs": [
    {
     "name": "stdout",
     "output_type": "stream",
     "text": [
      "708809.html.gz\n",
      "272114.html.gz\n",
      "687451.html.gz\n",
      "648396.html.gz\n"
     ]
    }
   ],
   "source": [
    "random_sampling(OJCORPUS_ROOTDIR, k=4, debug=True)"
   ]
  },
  {
   "cell_type": "code",
   "execution_count": 17,
   "metadata": {
    "collapsed": false
   },
   "outputs": [],
   "source": [
    "from jursegtok import tokenizer\n",
    "from jursegtok.utils import create_dir\n",
    "from jursegtok.tools import sentencelist2string\n",
    "\n",
    "def convert2sentences(corpuspath, outputpath, debug=False):\n",
    "    \"\"\"\n",
    "    converts raw ojc data to sentence segmented plaintext files\n",
    "    :param corpuspath:\n",
    "    :param outputpath:\n",
    "    :return:\n",
    "    \"\"\"       \n",
    "    corpus = OJCorpus(corpuspath)\n",
    "    output = os.path.abspath(outputpath)\n",
    "    create_dir(output)\n",
    "\n",
    "    if debug:\n",
    "        print \"corpuspath:\", corpuspath\n",
    "        print \"outputpath:\", outputpath\n",
    "        \n",
    "    jst = tokenizer.JurSentTokenizer()\n",
    "    for document in corpus:\n",
    "        name = document.filename.split('.')[0]\n",
    "        outfilepath = os.path.join(output, name+'_sentences.txt')\n",
    "        if debug:\n",
    "            print \"outfilepath:\", outfilepath\n",
    "\n",
    "        with codecs.open(outfilepath, encoding='utf-8', mode='w') as sentencetokenized:\n",
    "            tokenized = sentencelist2string(jst.sentence_tokenize(document))\n",
    "            sentencetokenized.write(tokenized)"
   ]
  },
  {
   "cell_type": "code",
   "execution_count": 18,
   "metadata": {
    "collapsed": false
   },
   "outputs": [],
   "source": [
    "ojc.regenerate_paths()"
   ]
  },
  {
   "cell_type": "code",
   "execution_count": null,
   "metadata": {
    "collapsed": true
   },
   "outputs": [],
   "source": []
  },
  {
   "cell_type": "code",
   "execution_count": 19,
   "metadata": {
    "collapsed": false
   },
   "outputs": [],
   "source": [
    "# jst = tokenizer.JurSentTokenizer()\n",
    "\n",
    "# jst.sentence_tokenize(doc0.plain_text)[:5]"
   ]
  },
  {
   "cell_type": "code",
   "execution_count": 20,
   "metadata": {
    "collapsed": false
   },
   "outputs": [],
   "source": [
    "# SUBCORPUS_DIR = os.path.join(OJCORPUS_ROOTDIR, 'rawdata/101')\n",
    "\n",
    "# convert2sentences(SUBCORPUS_DIR, '/tmp/100', debug=False)"
   ]
  },
  {
   "cell_type": "code",
   "execution_count": 21,
   "metadata": {
    "collapsed": true
   },
   "outputs": [],
   "source": [
    "# test_corpus = OJCorpus(SUBCORPUS_DIR)"
   ]
  },
  {
   "cell_type": "code",
   "execution_count": 22,
   "metadata": {
    "collapsed": false
   },
   "outputs": [],
   "source": [
    "# !ls $test_corpus.corpus_path"
   ]
  },
  {
   "cell_type": "code",
   "execution_count": 23,
   "metadata": {
    "collapsed": false
   },
   "outputs": [],
   "source": [
    "# !ls /home/arne/corpora/ojcorpus_cleaned/rawdata"
   ]
  },
  {
   "cell_type": "code",
   "execution_count": 24,
   "metadata": {
    "collapsed": false
   },
   "outputs": [],
   "source": [
    "# test_corpus.next()"
   ]
  },
  {
   "cell_type": "code",
   "execution_count": 25,
   "metadata": {
    "collapsed": false
   },
   "outputs": [],
   "source": [
    "jst = tokenizer.JurSentTokenizer()"
   ]
  },
  {
   "cell_type": "code",
   "execution_count": 26,
   "metadata": {
    "collapsed": false
   },
   "outputs": [
    {
     "data": {
      "text/plain": [
       "[u'\\t\\t\\n \\n \\n \\n VGH Baden-W\\xfcrttemberg  \\xb7 Beschluss vom  3. Juni 1991 \\xb7 Az. 1 S 1484/91 \\n \\n \\n\\n\\t\\t \\n\\t\\t\\n\\t\\t \\n\\n\\t\\t Schnellzugriff: \\n\\t\\t \\n\\t\\t Druckansicht Download Editieren \\n\\t\\t \\n\\t\\t \\n\\n\\t\\t \\n\\n\\t\\t Informationen zum Urteil \\n \\n\\t\\t \\n\\n\\t\\t\\n\\t\\t \\n\\t\\t\\t \\n\\t\\t\\t\\t \\n\\t\\t\\t\\t\\t Gericht: \\n\\t\\t\\t\\t\\t VGH Baden-W\\xfcrttemberg \\n\\t\\t\\t\\t \\n\\t\\t\\t\\t \\n\\t\\t\\t\\t\\t Datum: \\n\\n\\t\\t\\t\\t\\t  3. Juni 1991 \\n\\t\\t\\t\\t \\n\\t\\t\\t\\t \\n\\n\\t\\t\\t\\t\\t Aktenzeichen: \\n\\t\\t\\t\\t\\t 1 S 1484/91 \\n\\t\\t\\t\\t \\n\\t\\t\\t\\t \\n\\n\\t\\t\\t\\t\\t Typ: \\n\\t\\t\\t\\t\\t Beschluss \\n\\t\\t\\t\\t \\n\\t\\t\\t \\n\\t\\t\\t \\n\\t\\t\\t\\t \\n\\t\\t\\t\\t\\t Fundstelle: \\n\\n\\t\\t\\t\\t\\t openJur 2013, 7757 \\n\\t\\t\\t\\t \\n\\t\\t\\t\\t \\n\\t\\t\\t\\t\\t Verfahrensgang: \\n\\t\\t\\t\\t\\t   \\n\\n\\t\\t\\t\\t \\n\\t\\t\\t \\n\\t\\t\\t\\n\\t\\t\\t  \\n\\t\\t\\t  \\n\\t   \\n\\t\\t\\t  \\t\\t\\t\\n\\t\\t\\t \\n\\t\\t\\t \\n\\t\\t\\t\\n\\t\\t \\t\\t\\n\\n\\t\\t \\n\\n\\t\\t \\n\\t\\t  1.',\n",
       " u'Lehnt es das Innenministerium durch Sperrerkl\\xe4rung in entsprechender Anwendung von \\xa7 96 StPO ab, dem Strafgericht auf dessen Ersuchen Name und Anschrift eines verdeckten Ermittlers und einer Vertrauensperson mitzuteilen, weil die Preisgabe der Identit\\xe4t die sachgerechte Erf\\xfcllung der Aufgaben der Kriminalpolizei bei der Bek\\xe4mpfung der Rauschgiftkriminalit\\xe4t und au\\xdferdem Leib und Leben dieser Personen gef\\xe4hrden w\\xfcrde, ist f\\xfcr die \\xdcberpr\\xfcfung der Rechtm\\xe4\\xdfigkeit der Sperrerkl\\xe4rung der Verwaltungsrechtsweg (\\xa7 40 Abs 1 S 1 VwGO) gegeben.']"
      ]
     },
     "execution_count": 26,
     "metadata": {},
     "output_type": "execute_result"
    }
   ],
   "source": [
    "jst.sentence_tokenize(doc0.plain_text)[:2]"
   ]
  },
  {
   "cell_type": "markdown",
   "metadata": {},
   "source": [
    "# TODO: manual SBD on 10 random documents"
   ]
  },
  {
   "cell_type": "code",
   "execution_count": 27,
   "metadata": {
    "collapsed": false
   },
   "outputs": [
    {
     "name": "stdout",
     "output_type": "stream",
     "text": [
      "711619.html.gz\n",
      "118122.html.gz\n",
      "477014.html.gz\n",
      "661815.html.gz\n",
      "470659.html.gz\n",
      "89545.html.gz\n",
      "108096.html.gz\n",
      "618019.html.gz\n",
      "197211.html.gz\n",
      "240484.html.gz\n"
     ]
    }
   ],
   "source": [
    "random_sampling(OJCORPUS_ROOTDIR, '/home/arne/corpora/ojcorpus_cleaned/annotated', debug=True)"
   ]
  },
  {
   "cell_type": "code",
   "execution_count": 28,
   "metadata": {
    "collapsed": false
   },
   "outputs": [
    {
     "ename": "AssertionError",
     "evalue": "ElementTree not initialized, missing root",
     "output_type": "error",
     "traceback": [
      "\u001b[1;31m---------------------------------------------------------------------------\u001b[0m",
      "\u001b[1;31mAssertionError\u001b[0m                            Traceback (most recent call last)",
      "\u001b[1;32m<ipython-input-28-a727450785fb>\u001b[0m in \u001b[0;36m<module>\u001b[1;34m()\u001b[0m\n\u001b[0;32m      1\u001b[0m \u001b[0manno_dir\u001b[0m \u001b[1;33m=\u001b[0m \u001b[1;34m'/home/arne/corpora/ojcorpus_cleaned/annotated'\u001b[0m\u001b[1;33m\u001b[0m\u001b[0m\n\u001b[0;32m      2\u001b[0m \u001b[1;32mfor\u001b[0m \u001b[0mf\u001b[0m \u001b[1;32min\u001b[0m \u001b[0mfind_files\u001b[0m\u001b[1;33m(\u001b[0m\u001b[0manno_dir\u001b[0m\u001b[1;33m)\u001b[0m\u001b[1;33m:\u001b[0m\u001b[1;33m\u001b[0m\u001b[0m\n\u001b[1;32m----> 3\u001b[1;33m     \u001b[0mtools\u001b[0m\u001b[1;33m.\u001b[0m\u001b[0mhtmlgz2text\u001b[0m\u001b[1;33m(\u001b[0m\u001b[0mf\u001b[0m\u001b[1;33m,\u001b[0m \u001b[0manno_dir\u001b[0m\u001b[1;33m)\u001b[0m\u001b[1;33m\u001b[0m\u001b[0m\n\u001b[0m",
      "\u001b[1;32m/home/arne/.virtualenvs/notebook/local/lib/python2.7/site-packages/jursegtok-0.1-py2.7.egg/jursegtok/tools.pyc\u001b[0m in \u001b[0;36mhtmlgz2text\u001b[1;34m(htmlgz_doc_path, output_path)\u001b[0m\n\u001b[0;32m     36\u001b[0m     \u001b[0mdoc_id\u001b[0m \u001b[1;33m=\u001b[0m \u001b[0mdoc\u001b[0m\u001b[1;33m.\u001b[0m\u001b[0mfilename\u001b[0m\u001b[1;33m.\u001b[0m\u001b[0msplit\u001b[0m\u001b[1;33m(\u001b[0m\u001b[1;34m'.'\u001b[0m\u001b[1;33m)\u001b[0m\u001b[1;33m[\u001b[0m\u001b[1;36m0\u001b[0m\u001b[1;33m]\u001b[0m\u001b[1;33m\u001b[0m\u001b[0m\n\u001b[0;32m     37\u001b[0m     \u001b[1;32mwith\u001b[0m \u001b[0mcodecs\u001b[0m\u001b[1;33m.\u001b[0m\u001b[0mopen\u001b[0m\u001b[1;33m(\u001b[0m\u001b[0mos\u001b[0m\u001b[1;33m.\u001b[0m\u001b[0mpath\u001b[0m\u001b[1;33m.\u001b[0m\u001b[0mjoin\u001b[0m\u001b[1;33m(\u001b[0m\u001b[0moutput_path\u001b[0m\u001b[1;33m,\u001b[0m \u001b[0mdoc_id\u001b[0m\u001b[1;33m+\u001b[0m\u001b[1;34m'.txt'\u001b[0m\u001b[1;33m)\u001b[0m\u001b[1;33m,\u001b[0m \u001b[1;34m'w'\u001b[0m\u001b[1;33m,\u001b[0m \u001b[1;34m'utf-8'\u001b[0m\u001b[1;33m)\u001b[0m \u001b[1;32mas\u001b[0m \u001b[0mout_file\u001b[0m\u001b[1;33m:\u001b[0m\u001b[1;33m\u001b[0m\u001b[0m\n\u001b[1;32m---> 38\u001b[1;33m         \u001b[0mout_file\u001b[0m\u001b[1;33m.\u001b[0m\u001b[0mwrite\u001b[0m\u001b[1;33m(\u001b[0m\u001b[0mdoc\u001b[0m\u001b[1;33m.\u001b[0m\u001b[0mplain_text\u001b[0m\u001b[1;33m)\u001b[0m\u001b[1;33m\u001b[0m\u001b[0m\n\u001b[0m\u001b[0;32m     39\u001b[0m \u001b[1;33m\u001b[0m\u001b[0m\n\u001b[0;32m     40\u001b[0m \u001b[1;33m\u001b[0m\u001b[0m\n",
      "\u001b[1;32m/home/arne/.virtualenvs/notebook/local/lib/python2.7/site-packages/jursegtok-0.1-py2.7.egg/jursegtok/corpus.pyc\u001b[0m in \u001b[0;36mplain_text\u001b[1;34m(self)\u001b[0m\n\u001b[0;32m     66\u001b[0m     \u001b[1;32mdef\u001b[0m \u001b[0mplain_text\u001b[0m\u001b[1;33m(\u001b[0m\u001b[0mself\u001b[0m\u001b[1;33m)\u001b[0m\u001b[1;33m:\u001b[0m\u001b[1;33m\u001b[0m\u001b[0m\n\u001b[0;32m     67\u001b[0m         \u001b[0mtree\u001b[0m \u001b[1;33m=\u001b[0m \u001b[0mself\u001b[0m\u001b[1;33m.\u001b[0m\u001b[0m_get_html_tree\u001b[0m\u001b[1;33m(\u001b[0m\u001b[1;33m)\u001b[0m\u001b[1;33m\u001b[0m\u001b[0m\n\u001b[1;32m---> 68\u001b[1;33m         \u001b[1;32mreturn\u001b[0m \u001b[1;34mu' '\u001b[0m\u001b[1;33m.\u001b[0m\u001b[0mjoin\u001b[0m\u001b[1;33m(\u001b[0m\u001b[0mtree\u001b[0m\u001b[1;33m.\u001b[0m\u001b[0mxpath\u001b[0m\u001b[1;33m(\u001b[0m\u001b[1;34m'//article//text()'\u001b[0m\u001b[1;33m)\u001b[0m\u001b[1;33m)\u001b[0m\u001b[1;33m\u001b[0m\u001b[0m\n\u001b[0m\u001b[0;32m     69\u001b[0m \u001b[1;33m\u001b[0m\u001b[0m\n\u001b[0;32m     70\u001b[0m     \u001b[1;33m@\u001b[0m\u001b[0mproperty\u001b[0m\u001b[1;33m\u001b[0m\u001b[0m\n",
      "\u001b[1;32msrc/lxml/lxml.etree.pyx\u001b[0m in \u001b[0;36mlxml.etree._ElementTree.xpath (src/lxml/lxml.etree.c:70708)\u001b[1;34m()\u001b[0m\n",
      "\u001b[1;32msrc/lxml/lxml.etree.pyx\u001b[0m in \u001b[0;36mlxml.etree._ElementTree._assertHasRoot (src/lxml/lxml.etree.c:66083)\u001b[1;34m()\u001b[0m\n",
      "\u001b[1;31mAssertionError\u001b[0m: ElementTree not initialized, missing root"
     ]
    }
   ],
   "source": [
    "anno_dir = '/home/arne/corpora/ojcorpus_cleaned/annotated'\n",
    "for f in find_files(anno_dir):\n",
    "    tools.htmlgz2text(f, anno_dir)"
   ]
  },
  {
   "cell_type": "code",
   "execution_count": 29,
   "metadata": {
    "collapsed": true
   },
   "outputs": [],
   "source": []
  },
  {
   "cell_type": "code",
   "execution_count": 30,
   "metadata": {
    "collapsed": true
   },
   "outputs": [],
   "source": [
    "ojc = OJCorpus(OJCORPUS_ROOTDIR)\n",
    "\n",
    "broken_docs = []\n",
    "\n",
    "for doc in ojc:\n",
    "    try:\n",
    "        doc.plain_text\n",
    "    except AssertionError as e:\n",
    "        broken_docs.append(doc.document_path)"
   ]
  },
  {
   "cell_type": "code",
   "execution_count": 33,
   "metadata": {
    "collapsed": false
   },
   "outputs": [
    {
     "data": {
      "text/plain": [
       "['/home/arne/corpora/ojcorpus_cleaned/rawdata/471/471267.html.gz']"
      ]
     },
     "execution_count": 33,
     "metadata": {},
     "output_type": "execute_result"
    }
   ],
   "source": [
    "broken_docs"
   ]
  },
  {
   "cell_type": "code",
   "execution_count": 31,
   "metadata": {
    "collapsed": true
   },
   "outputs": [],
   "source": [
    "def get_plaintext(doc):\n",
    "    try:\n",
    "        doc.plain_text\n",
    "        return None\n",
    "    except AssertionError as e:\n",
    "        return doc.document_path\n",
    "    "
   ]
  },
  {
   "cell_type": "code",
   "execution_count": 34,
   "metadata": {
    "collapsed": true
   },
   "outputs": [],
   "source": [
    "from joblib import Parallel, delayed"
   ]
  },
  {
   "cell_type": "code",
   "execution_count": 38,
   "metadata": {
    "collapsed": false
   },
   "outputs": [
    {
     "ename": "TypeError",
     "evalue": "can't pickle generator objects",
     "output_type": "error",
     "traceback": [
      "\u001b[1;31m---------------------------------------------------------------------------\u001b[0m",
      "\u001b[1;31mTypeError\u001b[0m                                 Traceback (most recent call last)",
      "\u001b[1;32m<ipython-input-38-ac078bea5a94>\u001b[0m in \u001b[0;36m<module>\u001b[1;34m()\u001b[0m\n\u001b[1;32m----> 1\u001b[1;33m \u001b[0mbroken_parallel\u001b[0m \u001b[1;33m=\u001b[0m \u001b[0mParallel\u001b[0m\u001b[1;33m(\u001b[0m\u001b[0mn_jobs\u001b[0m\u001b[1;33m=\u001b[0m\u001b[1;36m1\u001b[0m\u001b[1;33m)\u001b[0m\u001b[1;33m(\u001b[0m\u001b[0mdelayed\u001b[0m\u001b[1;33m(\u001b[0m\u001b[0mget_plaintext\u001b[0m\u001b[1;33m(\u001b[0m\u001b[0mdoc\u001b[0m\u001b[1;33m)\u001b[0m \u001b[1;32mfor\u001b[0m \u001b[0mdoc\u001b[0m \u001b[1;32min\u001b[0m \u001b[0mlist\u001b[0m\u001b[1;33m(\u001b[0m\u001b[0mojc\u001b[0m\u001b[1;33m)\u001b[0m\u001b[1;33m)\u001b[0m\u001b[1;33m)\u001b[0m\u001b[1;33m\u001b[0m\u001b[0m\n\u001b[0m",
      "\u001b[1;32m/home/arne/.virtualenvs/notebook/local/lib/python2.7/site-packages/joblib/parallel.pyc\u001b[0m in \u001b[0;36mdelayed\u001b[1;34m(function, check_pickle)\u001b[0m\n\u001b[0;32m    160\u001b[0m     \u001b[1;31m# using with multiprocessing:\u001b[0m\u001b[1;33m\u001b[0m\u001b[1;33m\u001b[0m\u001b[0m\n\u001b[0;32m    161\u001b[0m     \u001b[1;32mif\u001b[0m \u001b[0mcheck_pickle\u001b[0m\u001b[1;33m:\u001b[0m\u001b[1;33m\u001b[0m\u001b[0m\n\u001b[1;32m--> 162\u001b[1;33m         \u001b[0mpickle\u001b[0m\u001b[1;33m.\u001b[0m\u001b[0mdumps\u001b[0m\u001b[1;33m(\u001b[0m\u001b[0mfunction\u001b[0m\u001b[1;33m)\u001b[0m\u001b[1;33m\u001b[0m\u001b[0m\n\u001b[0m\u001b[0;32m    163\u001b[0m \u001b[1;33m\u001b[0m\u001b[0m\n\u001b[0;32m    164\u001b[0m     \u001b[1;32mdef\u001b[0m \u001b[0mdelayed_function\u001b[0m\u001b[1;33m(\u001b[0m\u001b[1;33m*\u001b[0m\u001b[0margs\u001b[0m\u001b[1;33m,\u001b[0m \u001b[1;33m**\u001b[0m\u001b[0mkwargs\u001b[0m\u001b[1;33m)\u001b[0m\u001b[1;33m:\u001b[0m\u001b[1;33m\u001b[0m\u001b[0m\n",
      "\u001b[1;32m/home/arne/.virtualenvs/notebook/lib/python2.7/copy_reg.pyc\u001b[0m in \u001b[0;36m_reduce_ex\u001b[1;34m(self, proto)\u001b[0m\n\u001b[0;32m     68\u001b[0m     \u001b[1;32melse\u001b[0m\u001b[1;33m:\u001b[0m\u001b[1;33m\u001b[0m\u001b[0m\n\u001b[0;32m     69\u001b[0m         \u001b[1;32mif\u001b[0m \u001b[0mbase\u001b[0m \u001b[1;32mis\u001b[0m \u001b[0mself\u001b[0m\u001b[1;33m.\u001b[0m\u001b[0m__class__\u001b[0m\u001b[1;33m:\u001b[0m\u001b[1;33m\u001b[0m\u001b[0m\n\u001b[1;32m---> 70\u001b[1;33m             \u001b[1;32mraise\u001b[0m \u001b[0mTypeError\u001b[0m\u001b[1;33m,\u001b[0m \u001b[1;34m\"can't pickle %s objects\"\u001b[0m \u001b[1;33m%\u001b[0m \u001b[0mbase\u001b[0m\u001b[1;33m.\u001b[0m\u001b[0m__name__\u001b[0m\u001b[1;33m\u001b[0m\u001b[0m\n\u001b[0m\u001b[0;32m     71\u001b[0m         \u001b[0mstate\u001b[0m \u001b[1;33m=\u001b[0m \u001b[0mbase\u001b[0m\u001b[1;33m(\u001b[0m\u001b[0mself\u001b[0m\u001b[1;33m)\u001b[0m\u001b[1;33m\u001b[0m\u001b[0m\n\u001b[0;32m     72\u001b[0m     \u001b[0margs\u001b[0m \u001b[1;33m=\u001b[0m \u001b[1;33m(\u001b[0m\u001b[0mself\u001b[0m\u001b[1;33m.\u001b[0m\u001b[0m__class__\u001b[0m\u001b[1;33m,\u001b[0m \u001b[0mbase\u001b[0m\u001b[1;33m,\u001b[0m \u001b[0mstate\u001b[0m\u001b[1;33m)\u001b[0m\u001b[1;33m\u001b[0m\u001b[0m\n",
      "\u001b[1;31mTypeError\u001b[0m: can't pickle generator objects"
     ]
    }
   ],
   "source": [
    "broken_parallel = Parallel(n_jobs=1)(delayed(get_plaintext(doc) for doc in list(ojc)))"
   ]
  },
  {
   "cell_type": "code",
   "execution_count": 36,
   "metadata": {
    "collapsed": true
   },
   "outputs": [],
   "source": [
    "ojc = OJCorpus(OJCORPUS_ROOTDIR)"
   ]
  },
  {
   "cell_type": "code",
   "execution_count": null,
   "metadata": {
    "collapsed": true
   },
   "outputs": [],
   "source": []
  }
 ],
 "metadata": {
  "kernelspec": {
   "display_name": "Python 2",
   "language": "python",
   "name": "python2"
  },
  "language_info": {
   "codemirror_mode": {
    "name": "ipython",
    "version": 2
   },
   "file_extension": ".py",
   "mimetype": "text/x-python",
   "name": "python",
   "nbconvert_exporter": "python",
   "pygments_lexer": "ipython2",
   "version": "2.7.6"
  }
 },
 "nbformat": 4,
 "nbformat_minor": 0
}
