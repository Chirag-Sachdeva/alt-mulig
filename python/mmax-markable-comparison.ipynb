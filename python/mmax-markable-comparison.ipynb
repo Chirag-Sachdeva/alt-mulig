{
 "metadata": {
  "name": "",
  "signature": "sha256:cc07811653077d9056a2a8ad8a3ec80b48523a823e234b78370bbcee59e3d49b"
 },
 "nbformat": 3,
 "nbformat_minor": 0,
 "worksheets": [
  {
   "cells": [
    {
     "cell_type": "heading",
     "level": 1,
     "metadata": {},
     "source": [
      "Q: Are there NPs/PPs in PCC that aren't markables although they should be?"
     ]
    },
    {
     "cell_type": "code",
     "collapsed": false,
     "input": [
      "import os\n",
      "import glob\n",
      "\n",
      "import discoursegraphs as dg"
     ],
     "language": "python",
     "metadata": {},
     "outputs": [],
     "prompt_number": 1
    },
    {
     "cell_type": "code",
     "collapsed": false,
     "input": [
      "MMAX_ROOT_DIR = os.path.expanduser('/home/arne/corpora/potsdam-commentary-corpus-2.0.0/coreference/')\n",
      "TIGER_ROOT_DIR = os.path.expanduser('/home/arne/corpora/potsdam-commentary-corpus-2.0.0/syntax/')\n",
      "\n",
      "\n",
      "MMAX_TEST_FILE = os.path.join(MMAX_ROOT_DIR, 'maz-1423.mmax')\n",
      "TIGER_TEST_FILE = os.path.join(TIGER_ROOT_DIR, 'maz-1423.xml')"
     ],
     "language": "python",
     "metadata": {},
     "outputs": [],
     "prompt_number": 2
    },
    {
     "cell_type": "code",
     "collapsed": false,
     "input": [
      "for mmax_file in glob.glob(MMAX_ROOT_DIR+'*.mmax'):\n",
      "    dg.read_mmax2(mmax_file)"
     ],
     "language": "python",
     "metadata": {},
     "outputs": [],
     "prompt_number": 3
    },
    {
     "cell_type": "code",
     "collapsed": false,
     "input": [
      "from discoursegraphs.readwrite.mmax2 import get_potential_markables\n",
      "\n",
      "def get_unmarked_potential_markables(docgraph):\n",
      "    \"\"\"\n",
      "    Parameters\n",
      "    ----------\n",
      "    docgraph : DiscourseDocumentGraph\n",
      "        a document graph that (at least) contains syntax trees\n",
      "        (imported from Tiger XML files) and markables (imported from\n",
      "        an MMAX2 file)\n",
      "    \"\"\"\n",
      "    unmarked_potential_markables = []\n",
      "    for cat_node in get_potential_markables(docgraph):\n",
      "        if not any('mmax:markable' in eattr['layers']\n",
      "                  for token_id in dg.get_span(docgraph, cat_node)\n",
      "                  for (src, trg, eattr) in docgraph.in_edges(token_id, data=True)):\n",
      "            unmarked_potential_markables.append(cat_node)\n",
      "    return unmarked_potential_markables\n"
     ],
     "language": "python",
     "metadata": {},
     "outputs": [],
     "prompt_number": 25
    },
    {
     "cell_type": "code",
     "collapsed": false,
     "input": [
      "from collections import defaultdict\n",
      "\n",
      "def gen_unmarked_bracket_mappings(docgraph, unmarked_potential_markables):\n",
      "\n",
      "    # a token node can be part of more than one markable/span\n",
      "    opening = defaultdict(list)\n",
      "    closing = defaultdict(list)\n",
      "    \n",
      "    for unmarked_phrase_id in unmarked_potential_markables:\n",
      "        span_node_ids = dg.get_span(docgraph, unmarked_phrase_id)\n",
      "        first = span_node_ids[0]\n",
      "        last = span_node_ids[-1]\n",
      "        opening[first].append(unmarked_phrase_id)\n",
      "        closing[last].append(unmarked_phrase_id)\n",
      "    return opening, closing"
     ],
     "language": "python",
     "metadata": {},
     "outputs": [],
     "prompt_number": 10
    },
    {
     "cell_type": "code",
     "collapsed": false,
     "input": [
      "def gen_bracketed_output_for_unmarkables(docgraph):\n",
      "    ret_str = u''\n",
      "    unmarked_potential_markables = get_unmarked_potential_markables(docgraph)\n",
      "    opening, closing = gen_unmarked_bracket_mappings(docgraph, unmarked_potential_markables)\n",
      "    for tok_id in docgraph.tokens:\n",
      "        token = docgraph.get_token(tok_id)\n",
      "        if tok_id in opening:\n",
      "            ret_str += u\"[{} \".format(token)\n",
      "        elif tok_id in closing:\n",
      "            ret_str += u\"{0}]_{{{1}}} \".format(token, 'UNMARKED: '+' '.join(closing[tok_id]))\n",
      "        else:\n",
      "            ret_str += u\"{} \".format(token)\n",
      "    return ret_str\n"
     ],
     "language": "python",
     "metadata": {},
     "outputs": [],
     "prompt_number": 11
    },
    {
     "cell_type": "code",
     "collapsed": false,
     "input": [
      "from discoursegraphs.readwrite.brackets import gen_bracket_mappings, gen_closing_string\n",
      "\n",
      "def gen_bracketed_output(docgraph):\n",
      "    '''\n",
      "\n",
      "    TODO: the order of the opening brackets should be determined (e.g. if\n",
      "    a token marks the beginning of two markables, we could check if the\n",
      "    first markable subsumes the second markable or vice versa.)\n",
      "\n",
      "    Example\n",
      "    -------\n",
      "    Die Diskussion , wie teuer [die neue [Wittstocker]_{markable_22}\n",
      "    Stadthalle]_{markable_21} f\u00fcr Vereine und Veranstalter wird , hat\n",
      "    einige Zeit in Anspruch genommen .\n",
      "    Die Betriebskosten [f\u00fcr den schmucken Veranstaltungsort]_{markable_21}\n",
      "    sind hoch . Jetzt wird es darum gehen , [die Halle]_{markable_21} so oft\n",
      "    wie m\u00f6glich zu f\u00fcllen .\n",
      "    Und [in der Region]_{markable_22} gibt es Konkurrenz .\n",
      "    '''\n",
      "    opening, closing, markable2chain = gen_bracket_mappings(docgraph)\n",
      "    \n",
      "    unmarked_potential_markables = get_unmarked_potential_markables(docgraph)\n",
      "    unmark_opening, unmark_closing = gen_unmarked_bracket_mappings(docgraph, unmarked_potential_markables)\n",
      "    \n",
      "    ret_str = u''\n",
      "    stack = []\n",
      "    for token_id in docgraph.tokens:\n",
      "        token_str = docgraph.get_token(token_id)\n",
      "        if token_id in opening:\n",
      "            num_of_opening_brackets = len(opening[token_id])\n",
      "            stack.extend(opening[token_id])\n",
      "            opening_str = u'[' * num_of_opening_brackets\n",
      "\n",
      "            if token_id in closing:\n",
      "                # token is both the first and last element of 1+ markables\n",
      "                closing_str = gen_closing_string(closing, markable2chain,\n",
      "                                                 token_id, stack)\n",
      "                ret_str += u'{0}{1}{2} '.format(opening_str, token_str,\n",
      "                                                closing_str)\n",
      "            else: # token is the first element of 1+ markables\n",
      "                ret_str += u'{0}{1} '.format(opening_str, token_str)\n",
      "        elif token_id in closing:\n",
      "            closing_str = gen_closing_string(closing, markable2chain,\n",
      "                                             token_id, stack)\n",
      "            ret_str += u'{0}{1} '.format(token_str, closing_str)\n",
      "\n",
      "        # token is not part of a markable, but of an (unmarked) NP/PP\n",
      "        elif token_id in unmark_opening:\n",
      "            num_of_opening_brackets = len(unmark_opening[token_id])\n",
      "            stack.extend(unmark_opening[token_id])\n",
      "            opening_str = u'//' * num_of_opening_brackets\n",
      "\n",
      "            if token_id in unmark_closing:\n",
      "                # token is both the first and last element of 1+ markables\n",
      "                ret_str += u\"{0}//_{{{1}}} \".format(token_str, 'UNMARKED: '+' '.join(unmark_closing[token_id]))\n",
      "            else: # token is the first element of 1+ markables\n",
      "                ret_str += u'{0}{1} '.format(opening_str, token_str)            \n",
      "        elif token_id in unmark_closing:\n",
      "            ret_str += u\"{0}//_{{{1}}} \".format(token_str, 'UNMARKED: '+' '.join(unmark_closing[token_id]))\n",
      "            \n",
      "        else: # token is not part of any span\n",
      "            ret_str += u'{} '.format(token_str)\n",
      "    return ret_str"
     ],
     "language": "python",
     "metadata": {},
     "outputs": [],
     "prompt_number": 31
    },
    {
     "cell_type": "code",
     "collapsed": false,
     "input": [
      "import sys\n",
      "import traceback\n",
      "\n",
      "for mmax_file in glob.glob(MMAX_ROOT_DIR+'*.mmax'):\n",
      "    mdg = dg.read_mmax2(mmax_file)\n",
      "    doc_id = os.path.basename(mmax_file).split('.')[0]\n",
      "    tdg = dg.read_tiger(os.path.join(TIGER_ROOT_DIR, doc_id+'.xml'))\n",
      "    mdg.merge_graphs(tdg)\n",
      "    print mdg.name\n",
      "    try:\n",
      "        print gen_bracketed_output(mdg)\n",
      "    except Exception as e:\n",
      "        sys.stderr.write(traceback.format_exc())"
     ],
     "language": "python",
     "metadata": {},
     "outputs": [
      {
       "output_type": "stream",
       "stream": "stdout",
       "text": [
        "maz-7969.mmax\n",
        "Schwierige Geburt Die Geburt war denkbar schwer , doch jetzt hat das Kind sogar //schon einen Namen//_{UNMARKED: s1891_503} : Ein \" [Humboldt-Forum]_{markable_22} \" soll [anstelle des einstigen Berliner Stadtschlosses]_{markable_28} entstehen . Diese Empfehlung sprach gestern die Expertenkomission \" Historische Mitte Berlins \" aus . [Das Forum]_{markable_22} soll die Fassade und die Dimensionen [des 1950 gesprengten Schlosses]_{markable_28} erhalten und die Berliner Landesbibliothek , Museen und Konzerts\u00e4le aufnehmen . Endlich eine Perspektive [f\u00fcr den Schlossplatz]_{markable_56} nach einem Jahrzehnt der Agonie , m\u00f6chte man aufseufzen . Die m\u00fchselige Debatte um das ob und wie der Schloss-Rekonstruktion geh\u00f6rt zu den \u00e4rgerlichsten Episoden der Berliner Stadtentwicklungspolitik . Es ist ja richtig , \u00fcber diese Dinge zu streiten , doch welche andere [Hauptstadt]_{markable_1000123} w\u00fcrde es sich leisten , //ausufernden Grundsatzdebatten zuliebe//_{UNMARKED: s1897_503} [[ihre]_{markable_1000123} \" gute Stube]_{markable_56} \" //f\u00fcr zehn Jahre//_{UNMARKED: s1897_505} dem Unkraut zu \u00fcberlassen ? Mit [ihrer]_{markable_70} Entscheidungsschw\u00e4che in Sachen Schloss hat sich [die Berliner Stadtpolitik]_{markable_70} //ein Armutszeugnis//_{UNMARKED: s1898_502} ausgestellt . Jetzt ist die Zeit des Diskutierens abgelaufen - wichtig ist , dass endlich etwas passiert . "
       ]
      },
      {
       "output_type": "stream",
       "stream": "stdout",
       "text": [
        "\n",
        "maz-11279.mmax"
       ]
      },
      {
       "output_type": "stream",
       "stream": "stdout",
       "text": [
        "\n",
        "maz-19012.mmax"
       ]
      },
      {
       "output_type": "stream",
       "stream": "stderr",
       "text": [
        "Traceback (most recent call last):\n",
        "  File \"<ipython-input-36-de27837c88ea>\", line 11, in <module>\n",
        "    print gen_bracketed_output(mdg)\n",
        "  File \"<ipython-input-31-c182c063225c>\", line 20, in gen_bracketed_output\n",
        "    opening, closing, markable2chain = gen_bracket_mappings(docgraph)\n",
        "  File \"/usr/local/lib/python2.7/dist-packages/discoursegraphs-0.1.2-py2.7.egg/discoursegraphs/readwrite/brackets.py\", line 41, in gen_bracket_mappings\n",
        "    docgraph, docgraph.node[markable][docgraph.ns+':span'])\n",
        "KeyError: 'mmax:span'\n",
        "Traceback (most recent call last):\n",
        "  File \"<ipython-input-36-de27837c88ea>\", line 11, in <module>\n",
        "    print gen_bracketed_output(mdg)\n",
        "  File \"<ipython-input-31-c182c063225c>\", line 20, in gen_bracketed_output\n",
        "    opening, closing, markable2chain = gen_bracket_mappings(docgraph)\n",
        "  File \"/usr/local/lib/python2.7/dist-packages/discoursegraphs-0.1.2-py2.7.egg/discoursegraphs/readwrite/brackets.py\", line 41, in gen_bracket_mappings\n",
        "    docgraph, docgraph.node[markable][docgraph.ns+':span'])\n",
        "KeyError: 'mmax:span'\n"
       ]
      },
      {
       "output_type": "stream",
       "stream": "stdout",
       "text": [
        "\n",
        "maz-14813.mmax"
       ]
      },
      {
       "output_type": "stream",
       "stream": "stdout",
       "text": [
        "\n",
        "Knebelvertrag Eigentlich k\u00f6nnen wir es nicht mehr sehen : Harry-Potter-Tassen , //Potter T-Shirts//_{UNMARKED: s623_501} , //kleine Potter-Legom\u00e4nnchen//_{UNMARKED: s623_502} und so weiter . Und nun folgt gleich das zweite Mega-Kinoereignis : \" [Der Herr der Ringe]_{markable_74} \" . //Bereits in jedem siebten Kinder\u00fcberraschungsei//_{UNMARKED: s625_500} findet sich ein Frodo oder eine Elbenk\u00f6nigin . Da boomt die Industrie gewaltig , mag man so denken und die gebeutelten Kinos bekommen auch noch //einen dicken Batzen//_{UNMARKED: s626_502} ab . Aber was macht [ein Lichtspieltheaterchef]_{markable_1000122} in der Provinz , der erst abends [seine]_{markable_1000122} Pforten \u00f6ffnen kann ? Um [Harry Potter]_{markable_41} spielen zu k\u00f6nnen , muss [er]_{markable_1000122} sich verpflichten , [die Kopie]_{markable_41} //an sieben Tagen//_{UNMARKED: s628_503} dreimal hintereinander zu zeigen . Egal //wie viele Zuschauer//_{UNMARKED: s629_501} kommen . Das hat //viele Kinobesitzer//_{UNMARKED: s630_500} emp\u00f6rt . Wenn [sie]_{markable_1000122} jetzt wieder //einen Knebelvertrag//_{UNMARKED: s631_500} [beim \" Herrn der Ringe]_{markable_74} \" unterschreiben sollen , erw\u00e4gt //so mancher//_{UNMARKED: s631_502} , sich dem einfach zu verweigern . Au\u00dferdem wird man sich //nicht nur in katholischen Gegenden//_{UNMARKED: s632_503} kaum zwingen lassen , Heiligabend und Silvester [das Fantasiespektakel]_{markable_74} abzuspielen . Der Verleih Warner Bros muss sich schon //etwas anderes//_{UNMARKED: s633_502} einfallen lassen . \n",
        "maz-8134.mmax"
       ]
      },
      {
       "output_type": "stream",
       "stream": "stdout",
       "text": [
        "\n",
        "maz-12976.mmax"
       ]
      },
      {
       "output_type": "stream",
       "stream": "stderr",
       "text": [
        "Traceback (most recent call last):\n",
        "  File \"<ipython-input-36-de27837c88ea>\", line 11, in <module>\n",
        "    print gen_bracketed_output(mdg)\n",
        "  File \"<ipython-input-31-c182c063225c>\", line 20, in gen_bracketed_output\n",
        "    opening, closing, markable2chain = gen_bracket_mappings(docgraph)\n",
        "  File \"/usr/local/lib/python2.7/dist-packages/discoursegraphs-0.1.2-py2.7.egg/discoursegraphs/readwrite/brackets.py\", line 41, in gen_bracket_mappings\n",
        "    docgraph, docgraph.node[markable][docgraph.ns+':span'])\n",
        "KeyError: 'mmax:span'\n",
        "Traceback (most recent call last):\n",
        "  File \"<ipython-input-36-de27837c88ea>\", line 11, in <module>\n",
        "    print gen_bracketed_output(mdg)\n",
        "  File \"<ipython-input-31-c182c063225c>\", line 20, in gen_bracketed_output\n",
        "    opening, closing, markable2chain = gen_bracket_mappings(docgraph)\n",
        "  File \"/usr/local/lib/python2.7/dist-packages/discoursegraphs-0.1.2-py2.7.egg/discoursegraphs/readwrite/brackets.py\", line 41, in gen_bracket_mappings\n",
        "    docgraph, docgraph.node[markable][docgraph.ns+':span'])\n",
        "KeyError: 'mmax:span'\n"
       ]
      },
      {
       "output_type": "stream",
       "stream": "stdout",
       "text": [
        "\n",
        "maz-15209.mmax"
       ]
      },
      {
       "output_type": "stream",
       "stream": "stdout",
       "text": [
        "\n",
        "Diener //vieler Herren//_{UNMARKED: s687_500} Wer es allen Recht machen m\u00f6chte , hat es schwer . Wer es allen Recht machen muss noch mehr . [Die Regionale Verkehrsgesellschaft Dahme-Spreewald ( RVS]_{markable_77} ) bef\u00f6rdert t\u00e4glich //Menschen //mit unterschiedlichen Bed\u00fcrfnissen//_{UNMARKED: s690_503 s690_501} : Da sind [Berufst\u00e4tige]_{markable_73} , die p\u00fcnktlich zur Arbeit erscheinen m\u00fcssen . [Sie]_{markable_73} sind oft //auf einen guten Bahnanschluss//_{UNMARKED: s692_500} angewiesen . Dann w\u00e4ren da noch [die Sch\u00fcler]_{markable_90} . [Sie]_{markable_90} brauchen [die RVS]_{markable_77} . Denn Minderj\u00e4hrige haben //keine Wahl //zwischen Pkw und Bus//_{UNMARKED: s695_501 s695_502} . Den dritten Schwerpunkt bilden [Rentner]_{markable_100085} , die h\u00e4ufig [ihre]_{markable_100085} Eink\u00e4ufe oder Arztbesuche //per Bus//_{UNMARKED: s696_502} erledigen . Den Interessen aller drei Fahrgastgruppen gerecht zu werden , scheint unm\u00f6glich . Denn [die RVS]_{markable_77} muss wirtschaftlich arbeiten . [Busse]_{markable_1000119} k\u00f6nnen nur eingesetzt werden , wenn [sie]_{markable_1000119} ausgelastet sind . Deshalb ist es lobenswert , dass [die RVS]_{markable_77} sich bem\u00fcht , so schnell wie m\u00f6glich //auf Kundenbeschwerden//_{UNMARKED: s700_502} zu reagieren . [Die Berufst\u00e4tigen]_{markable_73} forderten //bessere Bahnanschl\u00fcsse//_{UNMARKED: s701_501} : [Die RVS]_{markable_77} stellte deswegen //einen Busfahrplan//_{UNMARKED: s702_501} um . Daraufhin schimpften [Eltern]_{markable_1000162} , weil [[ihre]_{markable_1000162} Kinder]_{markable_90} dadurch zu lange //vor Schulbeginn//_{UNMARKED: s703_502} warten m\u00fcssen . Nun wird //ab Montag//_{UNMARKED: s704_500} //ein Sonderbus//_{UNMARKED: s704_501} [die Sch\u00fcler]_{markable_90} bef\u00f6rdern . Mal sehen , wer sich //am Dienstag//_{UNMARKED: s705_500} beschwert . "
       ]
      },
      {
       "output_type": "stream",
       "stream": "stdout",
       "text": [
        "\n",
        "maz-2316.mmax"
       ]
      },
      {
       "output_type": "stream",
       "stream": "stdout",
       "text": [
        "\n",
        "maz-11916.mmax"
       ]
      },
      {
       "output_type": "stream",
       "stream": "stderr",
       "text": [
        "Traceback (most recent call last):\n",
        "  File \"<ipython-input-36-de27837c88ea>\", line 11, in <module>\n",
        "    print gen_bracketed_output(mdg)\n",
        "  File \"<ipython-input-31-c182c063225c>\", line 20, in gen_bracketed_output\n",
        "    opening, closing, markable2chain = gen_bracket_mappings(docgraph)\n",
        "  File \"/usr/local/lib/python2.7/dist-packages/discoursegraphs-0.1.2-py2.7.egg/discoursegraphs/readwrite/brackets.py\", line 41, in gen_bracket_mappings\n",
        "    docgraph, docgraph.node[markable][docgraph.ns+':span'])\n",
        "KeyError: 'mmax:span'\n",
        "Traceback (most recent call last):\n",
        "  File \"<ipython-input-36-de27837c88ea>\", line 11, in <module>\n",
        "    print gen_bracketed_output(mdg)\n",
        "  File \"<ipython-input-31-c182c063225c>\", line 20, in gen_bracketed_output\n",
        "    opening, closing, markable2chain = gen_bracket_mappings(docgraph)\n",
        "  File \"/usr/local/lib/python2.7/dist-packages/discoursegraphs-0.1.2-py2.7.egg/discoursegraphs/readwrite/brackets.py\", line 41, in gen_bracket_mappings\n",
        "    docgraph, docgraph.node[markable][docgraph.ns+':span'])\n",
        "KeyError: 'mmax:span'\n"
       ]
      },
      {
       "output_type": "stream",
       "stream": "stdout",
       "text": [
        "\n",
        "maz-6993.mmax"
       ]
      },
      {
       "output_type": "stream",
       "stream": "stdout",
       "text": [
        "\n",
        "Drei leere Kassen [Diepensee]_{markable_1000152} siedelt um . Ohne Wenn und Aber . Dessen konnten sich die [vor dem m\u00f6glichen Ausbau des Flughafens Sch\u00f6nefeld]_{markable_59} weichenden Dorfbewohner gewiss sein . Bis eine Presseinformation [der Ausbau-Planer]_{markable_48} einschlug , //wie eine Bombe//_{UNMARKED: s1814_501} . [Umsiedlung]_{markable_62} , hie\u00df es da , [nur vorbehaltlich der Privatisierung [der Flughafen-Holding]_{markable_48}]_{markable_49} . \u00dcberrascht reagierte auch der K\u00f6nigs-Wusterhausener B\u00fcrgermeister Jochen Wagner . Schlie\u00dflich gaben die Stadtverordneten //erst Montagabend//_{UNMARKED: s1817_501} gr\u00fcnes Licht f\u00fcr die weitere Erschlie\u00dfung [des neuen Ortsteils Diepensee]_{markable_1000152} . Soll [dieser Beschluss]_{markable_100090} bald nicht mal mehr das Papier wert sein , auf dem [er]_{markable_100090} gedruckt wurde ? Das w\u00e4re denkbar . Schlie\u00dflich l\u00e4uft //Ende Oktober//_{UNMARKED: s1820_500} die Angebotsfrist [f\u00fcr die Privatisierung [der Flughafen-Holding]_{markable_48}]_{markable_49} aus . M\u00f6glicherweise legt das Baukonzern-Bieterkonsortium wieder //keinen verhandelbaren Vorschlag//_{UNMARKED: s1821_501} //auf den Tisch//_{UNMARKED: s1821_502} . Dann m\u00fcssten die Holding-Gesellschafter - Bund , Brandenburg und Berlin - sowohl die Kosten [f\u00fcr den Ausbau und die Anbindung des Flughafens Sch\u00f6nefeld]_{markable_59} , als auch [f\u00fcr die Umsiedlung [Diepensees]_{markable_1000152}]_{markable_62} aufbringen . Vorbehalte scheinen da ////angesichts leerer Kassen aller drei Gesellschafter//_{UNMARKED: s1823_501 s1823_501} durchaus angebracht . "
       ]
      },
      {
       "output_type": "stream",
       "stream": "stdout",
       "text": [
        "\n",
        "maz-1679.mmax"
       ]
      },
      {
       "output_type": "stream",
       "stream": "stdout",
       "text": [
        "\n",
        "Stadtkern aufwerten Im Streit zwischen [der Stadt Wittstock]_{markable_100020} und dem Landesstra\u00dfenbauamt Kyritz hat B\u00fcrgermeister Lutz Scheidemann [einen klaren Sieg]_{markable_36} errungen . [Wittstock]_{markable_100020} wird //in einigen Jahren//_{UNMARKED: s878_500} frei //von Lkw-Verkehr//_{UNMARKED: s878_501} sein , [eine Umgehung]_{markable_51} entlastet [die Innenstadt]_{markable_82} . Klirrende Gl\u00e4ser in den Wohnzimmerschr\u00e4nken sind dann Geschichte . [Wer]_{markable_100046} [sein]_{markable_100046} Haus bereits saniert hat , muss auch nicht mehr bef\u00fcrchten , dass der Putz von der Fassade f\u00e4llt . [Mit der Einigung]_{markable_36} kommt aber [auf die Wittstocker]_{markable_100079} //eine gro\u00dfe Herausforderung//_{UNMARKED: s881_502} zu . [Sie]_{markable_100079} sind aufgefordert , \u00fcber neue , sinnvolle Verkehrsabl\u00e4ufe [in der Innenstadt]_{markable_82} nachzudenken . [Die Entlastungsstra\u00dfe f\u00fcr Lkw]_{markable_51} f\u00fchrt zwar [um die Altstadt herum]_{markable_82} , doch //eine autofreie Stadt//_{UNMARKED: s883_502} wird es nicht geben . So braucht sich //auch kein Gesch\u00e4ftsmann//_{UNMARKED: s884_500} //vor einer leeren Altstadt//_{UNMARKED: s884_501} zu f\u00fcrchten . Gut beraten ist allerdings , wer sich jetzt //ernsthafte Gedanken //um kundenfreundliche Parkm\u00f6glichkeiten//_{UNMARKED: s885_501 s885_502} macht . Auch Flaniermeilen [in der Wittstocker Altstadt]_{markable_82} sind gefragt . Denn //ohne Lkw-Verkehr//_{UNMARKED: s887_500} wird es ruhiger werden , der Stadtbummel kann wieder Spa\u00df machen . Deshalb m\u00fcssen //neue Ideen//_{UNMARKED: s888_500} her , um [die Wittstocker Altstadt]_{markable_82} lebenswerter zu machen . \n",
        "maz-3277.mmax"
       ]
      },
      {
       "output_type": "stream",
       "stream": "stdout",
       "text": [
        "\n",
        "F\u00fcr und Wider [Der Vorteil]_{markable_10009} hat //einen Namen : Verbundeinkauf//_{UNMARKED: s1391_501} . [Damit]_{markable_10009} erkl\u00e4rt [die gelbe Post]_{markable_100018} , warum [sie]_{markable_100018} sich [ihrer]_{markable_100018} Tochter McPaper quasi auf den Scho\u00df setzt . Alles //an einem Ort//_{UNMARKED: s1393_500} zu haben - Papierwaren kann man kaufen , Postalisches abwickeln - ist ja tats\u00e4chlich kundenfreundlich . Noch mehr freut es nat\u00fcrlich , dass man nicht mehr //wie ein Luchs//_{UNMARKED: s1394_502} //auf der Lauer//_{UNMARKED: s1394_503} liegen muss , um die \u00d6ffnungszeiten auch einzuhalten . Besonders [Berufst\u00e4tige]_{markable_100084} , die es //z. B.//_{UNMARKED: s1395_500} auch noch am Sonnabend an [ihre]_{markable_100084} Schlie\u00dff\u00e4cher dr\u00e4ngt , d\u00fcrfen nun aufatmen . //Bei anderen//_{UNMARKED: s1396_500} wird es Sto\u00dfseufzer geben . Dass mit der Schlie\u00dfung in der Bahnhofstra\u00dfe eine \u00fcber einhundertj\u00e4hrige Tradition des [Kyritzer]_{markable_1000138} Postgeb\u00e4udes //zu Ende//_{UNMARKED: s1397_504} geht , damit muss man sich abfinden . Schwerer wiegt [die Schlie\u00dfung der Filiale am Rehfelder Weg]_{markable_65} . [Sie]_{markable_65} hat den Leuten [aus Kyritz West]_{markable_1000138} bisher //weite Wege//_{UNMARKED: s1399_501} erspart . Besonders [die \u00c4lteren]_{markable_1000170} d\u00fcrften sauer reagieren [auf das Aus]_{markable_65} . Was n\u00fctzt [ihnen]_{markable_1000170} die Verlagerung an einen neuen Standort mit den l\u00e4ngeren \u00d6ffnungszeiten , wenn [sie]_{markable_1000170} //schlecht zu Fu\u00df//_{UNMARKED: s1401_502} sind ? Da bleibt nur der Hinweis , sich den Zustellerinnen zuzuwenden , die selber schon so manche Dienstleistung \u00fcbernehmen . Fragen kostet ja nichts . "
       ]
      },
      {
       "output_type": "stream",
       "stream": "stdout",
       "text": [
        "\n",
        "maz-4472.mmax"
       ]
      },
      {
       "output_type": "stream",
       "stream": "stdout",
       "text": [
        "\n",
        "Zu sp\u00e4t [Die Ketziner und [Paretzer]_{markable_30}]_{markable_100013} werden heute aus der Zeitung erfahren , dass [sie]_{markable_100013} //ab Mittwoch//_{UNMARKED: s1525_502} nach Uetz , Marquardt und Potsdam nur noch \u00fcber Falkenrehde fahren k\u00f6nnen . Weder [das Wasserstra\u00dfenneubauamt Berlin als Bauherr]_{markable_76} , noch die bauausf\u00fchrende Firma oder die Stra\u00dfenverkehrsbeh\u00f6rde Nauen hatten //bis gestern//_{UNMARKED: s1526_504} Informationen [dazu]_{markable_37} ver\u00f6ffentlicht . Abgesehen von der [in Paretz]_{markable_30} herrschenden generellen Ablehnung [[gegen den Havelausbau]_{markable_37} und den [damit]_{markable_100064} verbundenen Br\u00fcckenneubau]_{markable_100064} - [die B\u00fcrger]_{markable_30} //quasi //bis f\u00fcnf Minuten//_{UNMARKED: s1527_504} vor Zw\u00f6lf//_{UNMARKED: s1527_511} //im Regen//_{UNMARKED: s1527_505} stehen zu lassen , ist nicht zu fassen //bei solch einem Gro\u00dfprojekt//_{UNMARKED: s1527_512} . Zwar ist die Umleitung //laut Bauherr//_{UNMARKED: s1528_501} //nur 4,5 Kilometer//_{UNMARKED: s1528_503} lang . Aber was machen die Wanderer und Radfahrer ? Und noch schlimmer - wie kommen [die Landwirte]_{markable_1000119} mit [ihren]_{markable_1000119} Traktoren //ab Mittwoch//_{UNMARKED: s1530_503} auf die Felder jenseits des Kanals ? Hier hat [das Wasserstra\u00dfenneubauamt]_{markable_76} versagt - //ohne Wenn und Aber//_{UNMARKED: s1531_502} . Wof\u00fcr [die Beh\u00f6rde]_{markable_76} jedoch nichts kann , ist der ungl\u00fcckliche Zeitpunkt des Baubeginns so kurz nach der Wiederer\u00f6ffnung [des Schlosses]_{markable_90} . //Seit einem Jahr//_{UNMARKED: s1533_500} ist klar , dass es nach der Buga los geht . Der enorme Zeitverzug [beim Schloss]_{markable_90} war nicht vorhersehbar . "
       ]
      },
      {
       "output_type": "stream",
       "stream": "stdout",
       "text": [
        "\n",
        "maz-18160.mmax"
       ]
      },
      {
       "output_type": "stream",
       "stream": "stdout",
       "text": [
        "\n",
        "maz-14853.mmax"
       ]
      },
      {
       "output_type": "stream",
       "stream": "stderr",
       "text": [
        "Traceback (most recent call last):\n",
        "  File \"<ipython-input-36-de27837c88ea>\", line 11, in <module>\n",
        "    print gen_bracketed_output(mdg)\n",
        "  File \"<ipython-input-31-c182c063225c>\", line 20, in gen_bracketed_output\n",
        "    opening, closing, markable2chain = gen_bracket_mappings(docgraph)\n",
        "  File \"/usr/local/lib/python2.7/dist-packages/discoursegraphs-0.1.2-py2.7.egg/discoursegraphs/readwrite/brackets.py\", line 41, in gen_bracket_mappings\n",
        "    docgraph, docgraph.node[markable][docgraph.ns+':span'])\n",
        "KeyError: 'mmax:span'\n",
        "Traceback (most recent call last):\n",
        "  File \"<ipython-input-36-de27837c88ea>\", line 11, in <module>\n",
        "    print gen_bracketed_output(mdg)\n",
        "  File \"<ipython-input-31-c182c063225c>\", line 20, in gen_bracketed_output\n",
        "    opening, closing, markable2chain = gen_bracket_mappings(docgraph)\n",
        "  File \"/usr/local/lib/python2.7/dist-packages/discoursegraphs-0.1.2-py2.7.egg/discoursegraphs/readwrite/brackets.py\", line 41, in gen_bracket_mappings\n",
        "    docgraph, docgraph.node[markable][docgraph.ns+':span'])\n",
        "KeyError: 'mmax:span'\n"
       ]
      },
      {
       "output_type": "stream",
       "stream": "stdout",
       "text": [
        "\n",
        "maz-10575.mmax"
       ]
      },
      {
       "output_type": "stream",
       "stream": "stdout",
       "text": [
        "\n",
        "maz-10175.mmax"
       ]
      },
      {
       "output_type": "stream",
       "stream": "stdout",
       "text": [
        "\n",
        "Allianz //mit Fragezeichen//_{UNMARKED: s11_500} Manchmal sind es [die kleinen Meldungen am Rande]_{markable_13} , die mehr \u00fcber diesen Krieg aussagen als die Erfolgsberichte der Milit\u00e4rs . Nach dem Fall von Masar-i-Scharif sollen sich vor den Friseurl\u00e4den der Stadt lange Schlangen von M\u00e4nnern gebildet haben , die sich ihre B\u00e4rte abrasieren lassen wollten , hie\u00df es gestern . Auch sei aus den Restaurants //laute Musik//_{UNMARKED: s14_501} zu h\u00f6ren gewesen , was unter dem Regime [der Taliban]_{markable_18} verboten war . //Einige Frauen//_{UNMARKED: s15_500} h\u00e4tten sich sogar getraut , //ohne Schleier//_{UNMARKED: s15_501} auf die Stra\u00dfe zu gehen . [Bei solchen Nachrichten]_{markable_13} kann man sich ein rasches Vorr\u00fccken [der Nordallianz]_{markable_26} auf Kabul eigentlich nur w\u00fcnschen . Wenn da nicht die politischen Bedenken w\u00e4ren , dass der Krieg [gegen die Taliban]_{markable_18} sich //zu einem neuen B\u00fcrgerkrieg//_{UNMARKED: s17_501} ausweiten k\u00f6nnte . Sollte [die Nordallianz]_{markable_26} sich //als Herrscher Afghanistans//_{UNMARKED: s18_501} geb\u00e4rden , dann w\u00e4re nichts gewonnen . Das lose B\u00fcndnis aus Minderheiten , das schon einmal brutal die Macht \u00fcber die Paschtunen-Mehrheit aus\u00fcbte , ist eben nicht nur Teil der L\u00f6sung , sondern auch Teil des Problems . Das Problem der Amerikaner ist es nun , [die Nordallianz]_{markable_26} zu bremsen und //deren alleinige Macht\u00fcbernahme//_{UNMARKED: s20_503} zu verhindern . Gelingt das nicht , steht die Glaubw\u00fcrdigkeit der gesamten Anti-Terror-Operation //auf dem Spiel//_{UNMARKED: s21_502} . "
       ]
      },
      {
       "output_type": "stream",
       "stream": "stdout",
       "text": [
        "\n",
        "maz-3547.mmax"
       ]
      },
      {
       "output_type": "stream",
       "stream": "stdout",
       "text": [
        "\n",
        "Zweck heiligt Mittel nicht Die Verwaltungsspitze [des Kreises Potsdam-Mittelmark]_{markable_62} ger\u00e4t einmal mehr //unter Druck//_{UNMARKED: s1449_502} . Nicht zum ersten Mal steht die wirtschaftliche Bet\u00e4tigung [der Tochtergesellschaften]_{markable_100023} mit [ihren]_{markable_100023} vielf\u00e4ltigen und offenkundig schwer \u00fcberschaubaren Verflechtungen //in der Kritik//_{UNMARKED: s1450_503} . [Die diesmal schwerwiegenden Vorw\u00fcrfe]_{markable_71} m\u00fcssen nun von der Staatsanwaltschaft //unter die Lupe//_{UNMARKED: s1451_502} genommen werden - nicht gerade eine Empfehlung f\u00fcr die am Donnerstag geplante Wiederwahl von Landrat Lothar Koch ( SPD ) . [Warnungen vor einer ausufernden Gesch\u00e4ftst\u00e4tigkeit [des Kreises Potsdam-Mittelmark]_{markable_62}]_{markable_100081} hat es oft genug gegeben . [Sie]_{markable_100081} wurden ignoriert . [Verkehrsgesellschaften , Krankenhaus-GmbH oder Abfallwirtschaftsbetrieb]_{markable_43} stehen //au\u00dferhalb der Kritik//_{UNMARKED: s1454_501} , [diese Unternehmen]_{markable_43} erledigen Aufgaben der Daseinsvorsorge . Dass aber etwa bei der ABU-Service-GmbH oder nun auch bei der Gesundheitszentrum-GmbH der zun\u00e4chst gut gemeinte soziale Zweck alle Mittel der gesch\u00e4ftlichen Bet\u00e4tigung heiligen soll , ist nicht nachvollziehbar . Erst recht nicht , wenn sich [der Verdacht best\u00e4tigt , dass [der Kreis Potsdam-Mittelmark]_{markable_62} so verantwortungslos wie in der anonymen Anzeige geschildert mit Steuergeld und Geb\u00fchreneinnahmen umgeht]_{markable_71} . \n",
        "maz-13311.mmax"
       ]
      },
      {
       "output_type": "stream",
       "stream": "stdout",
       "text": [
        "\n",
        "Spa\u00df //in der ersten Reihe//_{UNMARKED: s408_500} Das ganze Leben ist //ein Quiz//_{UNMARKED: s409_501} und wir sind [nur die Kandidaten]_{markable_1000122} , sang //bereits vor zehn Jahren//_{UNMARKED: s409_503} [Hape Kerkeling]_{markable_12} . Nun best\u00e4tigt //eine Studie//_{UNMARKED: s410_500} [den weitsichtigen Entertainer]_{markable_12} : Die Entwicklung - vor allem [im \u00f6ffentlich-rechtlichen Fernsehen]_{markable_61} - geht stramm //in Richtung Unterhaltung//_{UNMARKED: s411_501} . Der Anteil politischer Sendungen [am Programm]_{markable_61} hat weiter abgenommen und //ein Ende//_{UNMARKED: s412_503} ist nicht //in Sicht//_{UNMARKED: s412_504} . Dass //private Anbieter , die sich //nur durch Werbung//_{UNMARKED: s413_500} finanzieren//_{UNMARKED: s413_504} , //publikumswirksame Unterhaltungssendungen//_{UNMARKED: s413_501} //in den Vordergrund//_{UNMARKED: s413_502} stellen , ist verst\u00e4ndlich . Dass aber [die geb\u00fchrenfinanzierten Programme]_{markable_61} [ihren]_{markable_61} Auftrag - die fernsehpublizistische und politische Grundversorgung zu sichern - zunehmend ignorieren , ist //mehr als bedenklich//_{UNMARKED: s414_505} . Denn das \u00f6ffentliche Mandat fordert [eine gesunde Mischung von Unterhaltung und Information]_{markable_1000120} . [Daf\u00fcr]_{markable_1000120} zahlen [wir]_{markable_1000122} Geb\u00fchren . Wenn //an Katastrophen-Tagen//_{UNMARKED: s417_500} Sondersendungen wie der \" ARD-Brennpunkt \" laufen , kann das nicht dar\u00fcber hinwegt\u00e4uschen , dass die Spa\u00dfgesellschaft l\u00e4ngst [auch beim \u00f6ffentlich-rechtlichen Rundfunk]_{markable_61} //den Ton//_{UNMARKED: s417_504} angibt . \n",
        "maz-3415.mmax"
       ]
      },
      {
       "output_type": "stream",
       "stream": "stderr",
       "text": [
        "Traceback (most recent call last):\n",
        "  File \"<ipython-input-36-de27837c88ea>\", line 11, in <module>\n",
        "    print gen_bracketed_output(mdg)\n",
        "  File \"<ipython-input-31-c182c063225c>\", line 20, in gen_bracketed_output\n",
        "    opening, closing, markable2chain = gen_bracket_mappings(docgraph)\n",
        "  File \"/usr/local/lib/python2.7/dist-packages/discoursegraphs-0.1.2-py2.7.egg/discoursegraphs/readwrite/brackets.py\", line 41, in gen_bracket_mappings\n",
        "    docgraph, docgraph.node[markable][docgraph.ns+':span'])\n",
        "KeyError: 'mmax:span'\n",
        "Traceback (most recent call last):\n",
        "  File \"<ipython-input-36-de27837c88ea>\", line 11, in <module>\n",
        "    print gen_bracketed_output(mdg)\n",
        "  File \"<ipython-input-31-c182c063225c>\", line 20, in gen_bracketed_output\n",
        "    opening, closing, markable2chain = gen_bracket_mappings(docgraph)\n",
        "  File \"/usr/local/lib/python2.7/dist-packages/discoursegraphs-0.1.2-py2.7.egg/discoursegraphs/readwrite/brackets.py\", line 41, in gen_bracket_mappings\n",
        "    docgraph, docgraph.node[markable][docgraph.ns+':span'])\n",
        "KeyError: 'mmax:span'\n"
       ]
      },
      {
       "output_type": "stream",
       "stream": "stdout",
       "text": [
        "\n",
        "maz-19436.mmax"
       ]
      },
      {
       "output_type": "stream",
       "stream": "stdout",
       "text": [
        "\n",
        "Taktik [Die Berliner PDS]_{markable_44} l\u00e4sst sich bei den Koalitionsverhandlungen mit der regierenden SPD in puncto Flughafenausbau in Sch\u00f6nefeld alles offen - obwohl im Wahlkampf //ein klares Nein//_{UNMARKED: s1279_504} verk\u00fcndet wurde . Aha , [alle Politiker]_{markable_100037} l\u00fcgen , sobald [sie]_{markable_100037} die Macht riechen , k\u00f6nnte man sagen . Und nat\u00fcrlich ist es so , dass Kompromisse machen muss , wer //in einer Koalition//_{UNMARKED: s1281_501} mitregieren will . Es kommt allerdings darauf an , wie wichtig die Sache ist , in der man nachgibt . Und [an der Flughafen-Frage]_{markable_74} h\u00e4ngt schon viel Glaubw\u00fcrdigkeit [der PDS]_{markable_44} . Die gem\u00e4\u00dfigte Reaktion der Parteibasis l\u00e4sst aber //noch eine andere Vermutung//_{UNMARKED: s1284_501} zu : [Gysi]_{markable_1000189} will die Chance [der PDS]_{markable_44} zum Mitregieren [in der Bundeshauptstadt]_{markable_1000144} nicht //f\u00fcr etwas vertun , was sich //in einem Jahr//_{UNMARKED: s1285_503} wom\u00f6glich //von allein//_{UNMARKED: s1285_504} erledigt//_{UNMARKED: s1285_507} . Denn dass [der Flughafenausbau]_{markable_74} in der urspr\u00fcnglich vom Bund und von den L\u00e4ndern [Berlin]_{markable_1000144} und Brandenburg geplanten Dimension noch zum Tragen kommt , das glauben wohl nur noch die Wenigsten - geschweige denn ein Jurist [wie Gysi]_{markable_1000189} . Nicht umsonst hat [er]_{markable_1000189} mehrfach auf die zu erwartenden Gerichtsprozesse [um den geplanten Flughafen]_{markable_74} verwiesen . Wer wollte [ihm]_{markable_1000189} da [[seine]_{markable_1000189} Taktik]_{markable_1000199} ver\u00fcbeln ? Wenn [diese Taktik]_{markable_1000199} aufgeht , war [sie]_{markable_1000199} richtig . "
       ]
      },
      {
       "output_type": "stream",
       "stream": "stdout",
       "text": [
        "\n",
        "maz-10652.mmax"
       ]
      },
      {
       "output_type": "stream",
       "stream": "stdout",
       "text": [
        "\n",
        "maz-5007.mmax"
       ]
      },
      {
       "output_type": "stream",
       "stream": "stdout",
       "text": [
        "\n",
        "Abw\u00e4gen Richtig , als Nicht-Teschendorfer erlebt man die Sorgen und N\u00f6te [um den Lkw-Verkehr]_{markable_7} im Griebener Weg //nicht jeden Tag//_{UNMARKED: s1572_506} hautnah und live mit . Aber gerade deshalb ist [es]_{markable_4} //einem Ausw\u00e4rtigen//_{UNMARKED: s1573_501} wohl ganz gut m\u00f6glich , [sich ein objektives Bild von der Situation vor Ort zu machen]_{markable_4} . //H\u00e4ufigen Lkw-Verkehr //vor der Haust\u00fcr//_{UNMARKED: s1574_500 s1574_502} finde ich auch nicht gerade toll . Und wenn sich [die Brummis]_{markable_7} nicht an die Geschwindigkeitsbegrenzung von 30 km/h halten , sind L\u00e4rm und \u00c4rger vorprogrammiert . //Ordentliche Stra\u00dfen//_{UNMARKED: s1576_500} und Tempokontrollen zu fordern , ist deshalb v\u00f6llig legitim . Und die Gemeinde hat bereits signalisiert , die Anlieger dabei unterst\u00fctzen zu wollen . Nun zu den Argumenten der Gegenseite . //Ein Zweischichtsystem//_{UNMARKED: s1579_500} //ohne wirtschaftliche Notwendigkeit//_{UNMARKED: s1579_501} //auf eine Schicht//_{UNMARKED: s1579_502} reduzieren zu m\u00fcssen , bringt gegen\u00fcber der Konkurrenz zwangsl\u00e4ufig Nachteile //mit sich//_{UNMARKED: s1579_505} , die bis zur Unrentabilit\u00e4t , Aufgabe des Firmenstandortes und den Verlust von Arbeitspl\u00e4tzen f\u00fchren . Bleibt //unterm Strich//_{UNMARKED: s1580_500} //die Frage //aller Fragen//_{UNMARKED: s1580_501 s1580_502} : Sozialer Frieden [f\u00fcr rund 200 Arbeitnehmer und [deren]_{markable_28} Angeh\u00f6rige]_{markable_28} oder //private Ruhe //f\u00fcr etwa zehn Anlieger//_{UNMARKED: s1581_504 s1581_506} ? Ehrlich , ich ziehe Arbeit vor . Und wie w\u00fcrden Sie entscheiden ? "
       ]
      },
      {
       "output_type": "stream",
       "stream": "stdout",
       "text": [
        "\n",
        "maz-15609.mmax"
       ]
      },
      {
       "output_type": "stream",
       "stream": "stdout",
       "text": [
        "\n",
        "Aufheben [Die [Blankenfelder]_{markable_20} Gemeindevertreter]_{markable_23} haben [ihren]_{markable_23} Beschluss , die Stra\u00dfenlampen [in der Nacht]_{markable_28} //f\u00fcr vier Stunden//_{UNMARKED: s736_503} auszuschalten , //mit der hei\u00dfen Nadel//_{UNMARKED: s736_504} gestrickt . Das sicherlich gut gemeinte Anliegen , n\u00e4mlich Energiekosten zu sparen , k\u00f6nnte [ihnen]_{markable_23} teuer zu stehen kommen . Dunkle Stra\u00dfen [in der Nacht]_{markable_28} sorgen nun mal nicht gerade //f\u00fcr ein tolles Sicherheitsgef\u00fchl//_{UNMARKED: s738_503} . Auch erkennt man nicht , wohin man tritt . //Im schlimmsten Fall//_{UNMARKED: s740_500} st\u00f6\u00dft man gegen eine M\u00fcll- oder Papiertonne , die ja laut Abfallzweckverband bereits am Vorabend des jeweiligen Abholetages an den Stra\u00dfenrand zu stellen ist . Doch nicht allein die Fragen der Unf\u00e4lle und der Haftung ////im Falle der F\u00e4lle//_{UNMARKED: s741_503 s741_503} sind unklar . Denn die Kommune muss damit rechnen , dass //bei Lampen-Abschaltungen//_{UNMARKED: s742_501} der Vertrag mit Edis //\u00fcber eine sehr g\u00fcnstige Tarifgestaltung//_{UNMARKED: s742_504} hinf\u00e4llig wird . //Bei einem Defizit //von einer Million Mark//_{UNMARKED: s743_506 s743_504} ist //eine Gemeinde//_{UNMARKED: s743_501} gezwungen , //alle Register//_{UNMARKED: s743_502} zu ziehen . Doch [mit dem Abschalte-Beschluss]_{markable_24} nimmt [der Gemeinderat]_{markable_23} Angst und Unsicherheit //in Kauf//_{UNMARKED: s744_503} . Mehr noch , [er]_{markable_23} bef\u00f6rdert [den Ort]_{markable_20} //ins Mittelalter//_{UNMARKED: s745_502} zur\u00fcck . [Der Gemeinderat]_{markable_23} sollte [den unseligen Beschluss]_{markable_24} aufheben , ehe sich die B\u00fcrger //mit Taschenlampen//_{UNMARKED: s746_503} versorgen . Schlie\u00dflich , wir leben im 21. Jahrhundert . "
       ]
      },
      {
       "output_type": "stream",
       "stream": "stdout",
       "text": [
        "\n",
        "maz-18171.mmax"
       ]
      },
      {
       "output_type": "stream",
       "stream": "stderr",
       "text": [
        "Traceback (most recent call last):\n",
        "  File \"<ipython-input-36-de27837c88ea>\", line 11, in <module>\n",
        "    print gen_bracketed_output(mdg)\n",
        "  File \"<ipython-input-31-c182c063225c>\", line 20, in gen_bracketed_output\n",
        "    opening, closing, markable2chain = gen_bracket_mappings(docgraph)\n",
        "  File \"/usr/local/lib/python2.7/dist-packages/discoursegraphs-0.1.2-py2.7.egg/discoursegraphs/readwrite/brackets.py\", line 41, in gen_bracket_mappings\n",
        "    docgraph, docgraph.node[markable][docgraph.ns+':span'])\n",
        "KeyError: 'mmax:span'\n",
        "Traceback (most recent call last):\n",
        "  File \"<ipython-input-36-de27837c88ea>\", line 11, in <module>\n",
        "    print gen_bracketed_output(mdg)\n",
        "  File \"<ipython-input-31-c182c063225c>\", line 20, in gen_bracketed_output\n",
        "    opening, closing, markable2chain = gen_bracket_mappings(docgraph)\n",
        "  File \"/usr/local/lib/python2.7/dist-packages/discoursegraphs-0.1.2-py2.7.egg/discoursegraphs/readwrite/brackets.py\", line 41, in gen_bracket_mappings\n",
        "    docgraph, docgraph.node[markable][docgraph.ns+':span'])\n",
        "KeyError: 'mmax:span'\n"
       ]
      },
      {
       "output_type": "stream",
       "stream": "stdout",
       "text": [
        "\n",
        "maz-1818.mmax"
       ]
      },
      {
       "output_type": "stream",
       "stream": "stdout",
       "text": [
        "\n",
        "maz-19442.mmax"
       ]
      },
      {
       "output_type": "stream",
       "stream": "stderr",
       "text": [
        "Traceback (most recent call last):\n",
        "  File \"<ipython-input-36-de27837c88ea>\", line 11, in <module>\n",
        "    print gen_bracketed_output(mdg)\n",
        "  File \"<ipython-input-31-c182c063225c>\", line 20, in gen_bracketed_output\n",
        "    opening, closing, markable2chain = gen_bracket_mappings(docgraph)\n",
        "  File \"/usr/local/lib/python2.7/dist-packages/discoursegraphs-0.1.2-py2.7.egg/discoursegraphs/readwrite/brackets.py\", line 41, in gen_bracket_mappings\n",
        "    docgraph, docgraph.node[markable][docgraph.ns+':span'])\n",
        "KeyError: 'mmax:span'\n",
        "Traceback (most recent call last):\n",
        "  File \"<ipython-input-36-de27837c88ea>\", line 11, in <module>\n",
        "    print gen_bracketed_output(mdg)\n",
        "  File \"<ipython-input-31-c182c063225c>\", line 20, in gen_bracketed_output\n",
        "    opening, closing, markable2chain = gen_bracket_mappings(docgraph)\n",
        "  File \"/usr/local/lib/python2.7/dist-packages/discoursegraphs-0.1.2-py2.7.egg/discoursegraphs/readwrite/brackets.py\", line 41, in gen_bracket_mappings\n",
        "    docgraph, docgraph.node[markable][docgraph.ns+':span'])\n",
        "KeyError: 'mmax:span'\n"
       ]
      },
      {
       "output_type": "stream",
       "stream": "stdout",
       "text": [
        "\n",
        "maz-17953.mmax"
       ]
      },
      {
       "output_type": "stream",
       "stream": "stdout",
       "text": [
        "\n",
        "maz-19074.mmax"
       ]
      },
      {
       "output_type": "stream",
       "stream": "stderr",
       "text": [
        "Traceback (most recent call last):\n",
        "  File \"<ipython-input-36-de27837c88ea>\", line 11, in <module>\n",
        "    print gen_bracketed_output(mdg)\n",
        "  File \"<ipython-input-31-c182c063225c>\", line 20, in gen_bracketed_output\n",
        "    opening, closing, markable2chain = gen_bracket_mappings(docgraph)\n",
        "  File \"/usr/local/lib/python2.7/dist-packages/discoursegraphs-0.1.2-py2.7.egg/discoursegraphs/readwrite/brackets.py\", line 41, in gen_bracket_mappings\n",
        "    docgraph, docgraph.node[markable][docgraph.ns+':span'])\n",
        "KeyError: 'mmax:span'\n",
        "Traceback (most recent call last):\n",
        "  File \"<ipython-input-36-de27837c88ea>\", line 11, in <module>\n",
        "    print gen_bracketed_output(mdg)\n",
        "  File \"<ipython-input-31-c182c063225c>\", line 20, in gen_bracketed_output\n",
        "    opening, closing, markable2chain = gen_bracket_mappings(docgraph)\n",
        "  File \"/usr/local/lib/python2.7/dist-packages/discoursegraphs-0.1.2-py2.7.egg/discoursegraphs/readwrite/brackets.py\", line 41, in gen_bracket_mappings\n",
        "    docgraph, docgraph.node[markable][docgraph.ns+':span'])\n",
        "KeyError: 'mmax:span'\n"
       ]
      },
      {
       "output_type": "stream",
       "stream": "stdout",
       "text": [
        "\n",
        "maz-17673.mmax"
       ]
      },
      {
       "output_type": "stream",
       "stream": "stdout",
       "text": [
        "\n",
        "maz-6193.mmax"
       ]
      },
      {
       "output_type": "stream",
       "stream": "stderr",
       "text": [
        "Traceback (most recent call last):\n",
        "  File \"<ipython-input-36-de27837c88ea>\", line 11, in <module>\n",
        "    print gen_bracketed_output(mdg)\n",
        "  File \"<ipython-input-31-c182c063225c>\", line 20, in gen_bracketed_output\n",
        "    opening, closing, markable2chain = gen_bracket_mappings(docgraph)\n",
        "  File \"/usr/local/lib/python2.7/dist-packages/discoursegraphs-0.1.2-py2.7.egg/discoursegraphs/readwrite/brackets.py\", line 41, in gen_bracket_mappings\n",
        "    docgraph, docgraph.node[markable][docgraph.ns+':span'])\n",
        "KeyError: 'mmax:span'\n",
        "Traceback (most recent call last):\n",
        "  File \"<ipython-input-36-de27837c88ea>\", line 11, in <module>\n",
        "    print gen_bracketed_output(mdg)\n",
        "  File \"<ipython-input-31-c182c063225c>\", line 20, in gen_bracketed_output\n",
        "    opening, closing, markable2chain = gen_bracket_mappings(docgraph)\n",
        "  File \"/usr/local/lib/python2.7/dist-packages/discoursegraphs-0.1.2-py2.7.egg/discoursegraphs/readwrite/brackets.py\", line 41, in gen_bracket_mappings\n",
        "    docgraph, docgraph.node[markable][docgraph.ns+':span'])\n",
        "KeyError: 'mmax:span'\n"
       ]
      },
      {
       "output_type": "stream",
       "stream": "stdout",
       "text": [
        "\n",
        "maz-1453.mmax"
       ]
      },
      {
       "output_type": "stream",
       "stream": "stdout",
       "text": [
        "\n",
        "Zeit //f\u00fcr Frieden//_{UNMARKED: s573_500} //Mit gro\u00dfer Mehrheit//_{UNMARKED: s574_500} haben sich [[die Damsdorfer]_{markable_27}]_{markable_27} am Sonntag f\u00fcr den Wechsel und [[f\u00fcr Lehnin]_{markable_1000172}]_{markable_1000172} entschieden . //Als Erfolg//_{UNMARKED: s575_500} k\u00f6nnen sich [die Damsdorfer Kommunalpolitiker]_{markable_100032} ////vor allem//_{UNMARKED: s575_502} eins//_{UNMARKED: s575_503} anrechnen : Dass es [ihnen]_{markable_100032} gelungen ist , //fast 700 Menschen//_{UNMARKED: s576_504} zum Urnengang zu mobilisieren . [[Die Damsdorfer]_{markable_27}]_{markable_27} haben gezeigt , dass [die Bev\u00f6lkerung]_{markable_27} das Recht auf einen B\u00fcrgerentscheid sehr wohl zu sch\u00e4tzen wei\u00df . Aus dem Ergebnis lassen sich //drei Dinge//_{UNMARKED: s578_501} ablesen : [Die Damsdorfer]_{markable_1000176} haben von Emster-Havel , vom dortigen Amtsausschuss und peinlichen Gez\u00e4nk , //die Nase//_{UNMARKED: s579_504} voll . Nach dem Motto , schlechter kann es woanders kaum werden . //Punkt zwei//_{UNMARKED: s581_500} : [Die Lehniner Gemeinden]_{markable_57} machen //nach au\u00dfen hin//_{UNMARKED: s581_502} - //trotz aller Meinungsverschiedenheiten//_{UNMARKED: s581_503} - //einen relativ geschlossenen Eindruck//_{UNMARKED: s581_505} . Die Politik im dortigen Amtsausschuss l\u00e4uft eben nicht nach dem Emster-Muster : Dorf gegen Dorf , B\u00fcndnis gegen B\u00fcndnis . Aus dem Ergebnis l\u00e4sst sich drittens ableiten , dass sich [die Damsdorfer]_{markable_1000176} l\u00e4ngst vom Emster-Amt verabschiedet haben . [Sie]_{markable_1000176} wollen das vollzogen wissen , was [sie]_{markable_1000176} t\u00e4glich leben , die N\u00e4he [zu Lehnin]_{markable_1000172} . Davon konnte [sie]_{markable_1000176} auch die B\u00fcrgerinitiative Pro Emster nicht abbringen . Jetzt ist Zeit , in die Reform- Debatte //endlich zivilisierten Frieden//_{UNMARKED: s586_501} einkehren zu lassen . "
       ]
      },
      {
       "output_type": "stream",
       "stream": "stdout",
       "text": [
        "\n",
        "maz-6728.mmax"
       ]
      },
      {
       "output_type": "stream",
       "stream": "stdout",
       "text": [
        "\n",
        "Ansturm [Das Schulmuseum [in Reckahn]_{markable_1000150}]_{markable_46} erlebt //einen wahren Besucheransturm//_{UNMARKED: s1790_501} . War das von Friedrich Eberhard von Rochow initiierte Haus im 18. und 19. Jahrhundert Vorbild f\u00fcr die Entwicklung der Volksschulen , wollen heute Tausende das Flair [eines historischen Klassenzimmers]_{markable_100043} kennen lernen , wie [sie]_{markable_100043} //nur noch wenige//_{UNMARKED: s1791_508} in Deutschland existieren . //Ohne Zweifel//_{UNMARKED: s1792_500} profitiert die [vom Landkreis]_{markable_74} getragene Einrichtung von der im August [im benachbarten Barockschloss]_{markable_40} er\u00f6ffneten Ausstellung zur brandenburgisch-preu\u00dfischen Schulgeschichte . Denn wer [das mit gro\u00dfem Aufwand sanierte Schloss]_{markable_40} besucht , kommt zwangsl\u00e4ufig an der alten Dorfschule vorbei . In diesen knapp drei Monaten wurden [2700 G\u00e4ste]_{markable_1000105} [durch das Museum]_{markable_46} gef\u00fchrt . Viele [von ihnen]_{markable_1000105} kamen \u00fcbers Wochenende [nach Reckahn]_{markable_1000150} , was wohl auf die kompakte Werbung [f\u00fcr das Preu\u00dfenjahr]_{markable_79} zur\u00fcckzuf\u00fchren ist . [Der Verein \" Historisches Reckahn \" [mit seinem Vorsitzenden Otto-G\u00fcnther Beckmann]_{markable_1000148}]_{markable_1000148} kann stolz auf die gro\u00dfe Resonanz [[seiner]_{markable_1000148}]_{markable_1000148} Arbeit in der \u00d6ffentlichkeit sein . [[Er]_{markable_1000148}]_{markable_1000148} hat [Reckahn]_{markable_1000150} //mit unerm\u00fcdlichem Engagement//_{UNMARKED: s1797_500} [weit \u00fcber den Kreis hinaus]_{markable_74} bekannt gemacht . [Das Preu\u00dfenjahr]_{markable_79} geht //zu Ende//_{UNMARKED: s1798_501} , doch Schloss- und Schulmuseum werden weiter //von sich//_{UNMARKED: s1798_503} reden machen . "
       ]
      },
      {
       "output_type": "stream",
       "stream": "stdout",
       "text": [
        "\n",
        "maz-11299.mmax"
       ]
      },
      {
       "output_type": "stream",
       "stream": "stdout",
       "text": [
        "\n",
        "maz-1757.mmax"
       ]
      },
      {
       "output_type": "stream",
       "stream": "stdout",
       "text": [
        "\n",
        "Politisches Signal Derzeit bestimmen [die Parteien]_{markable_2} , wen [sie]_{markable_2} in den Wahlkreisen der Region f\u00fcr die Bundestagswahl 2002 //in das Rennen//_{UNMARKED: s970_503} schicken werden . Dies geschieht eher beil\u00e4ufig , ////zumindest ohne Beteiligung einer breiten \u00d6ffentlichkeit//_{UNMARKED: s971_502 s971_502} . [Die Einwohner von St\u00e4dten und Gemeinden]_{markable_32} erfahren meist erst kurz vor dem Entscheid auf Bundesebene , wer [[ihr]_{markable_32} direkter politischer Ansprechpartner]_{markable_29} in Berlin sein k\u00f6nnte . Dann ist es oft schon zu sp\u00e4t , die inhaltlichen Schwerpunkte [der Kandidaten]_{markable_29} zu bestimmen . //Welche Haltungen//_{UNMARKED: s974_500} [sie]_{markable_29} //zu spezifischen \u00f6rtlichen Problemen//_{UNMARKED: s974_501} einnehmen , bleibt //f\u00fcr viele W\u00e4hler//_{UNMARKED: s974_502} zun\u00e4chst //im Dunkeln//_{UNMARKED: s974_503} . Sich fr\u00fchzeitig mit den Vorstellungen [der Bundestagsaspiranten]_{markable_29} vertraut zu machen , ist deshalb sinnvoll . //In manchen F\u00e4llen//_{UNMARKED: s976_500} ist ihr Einfluss auf h\u00f6chster Ebene wichtig . Das gilt besonders bei Projekten , die der Bund selbst in den Regionen vorantreibt , genannt seien //zum Beispiel//_{UNMARKED: s977_502} [die Umgehungsstra\u00dfen und [das Verkehrsprojekt Deutsche Einheit Nr. 17 - der Havelausbau]_{markable_23}]_{markable_30} . [Letzterer]_{markable_23} ist im Potsdamer Umland umstritten . //Ohne \u00dcbertreibung//_{UNMARKED: s979_500} l\u00e4sst sich sagen , dass [die Gegner des Projekts]_{markable_27} klar in der Mehrheit sind . [F\u00fcr sie]_{markable_27} muss die Haltung [der Wahlkreiskandidaten]_{markable_29} [zu diesem Thema]_{markable_30} //auch ein politisches Signal//_{UNMARKED: s980_503} sein . "
       ]
      },
      {
       "output_type": "stream",
       "stream": "stdout",
       "text": [
        "\n",
        "maz-14047.mmax"
       ]
      },
      {
       "output_type": "stream",
       "stream": "stderr",
       "text": [
        "Traceback (most recent call last):\n",
        "  File \"<ipython-input-36-de27837c88ea>\", line 11, in <module>\n",
        "    print gen_bracketed_output(mdg)\n",
        "  File \"<ipython-input-31-c182c063225c>\", line 20, in gen_bracketed_output\n",
        "    opening, closing, markable2chain = gen_bracket_mappings(docgraph)\n",
        "  File \"/usr/local/lib/python2.7/dist-packages/discoursegraphs-0.1.2-py2.7.egg/discoursegraphs/readwrite/brackets.py\", line 41, in gen_bracket_mappings\n",
        "    docgraph, docgraph.node[markable][docgraph.ns+':span'])\n",
        "KeyError: 'mmax:span'\n",
        "Traceback (most recent call last):\n",
        "  File \"<ipython-input-36-de27837c88ea>\", line 11, in <module>\n",
        "    print gen_bracketed_output(mdg)\n",
        "  File \"<ipython-input-31-c182c063225c>\", line 20, in gen_bracketed_output\n",
        "    opening, closing, markable2chain = gen_bracket_mappings(docgraph)\n",
        "  File \"/usr/local/lib/python2.7/dist-packages/discoursegraphs-0.1.2-py2.7.egg/discoursegraphs/readwrite/brackets.py\", line 41, in gen_bracket_mappings\n",
        "    docgraph, docgraph.node[markable][docgraph.ns+':span'])\n",
        "KeyError: 'mmax:span'\n"
       ]
      },
      {
       "output_type": "stream",
       "stream": "stdout",
       "text": [
        "\n",
        "maz-17091.mmax"
       ]
      },
      {
       "output_type": "stream",
       "stream": "stdout",
       "text": [
        "\n",
        "maz-15545.mmax"
       ]
      },
      {
       "output_type": "stream",
       "stream": "stderr",
       "text": [
        "Traceback (most recent call last):\n",
        "  File \"<ipython-input-36-de27837c88ea>\", line 11, in <module>\n",
        "    print gen_bracketed_output(mdg)\n",
        "  File \"<ipython-input-31-c182c063225c>\", line 20, in gen_bracketed_output\n",
        "    opening, closing, markable2chain = gen_bracket_mappings(docgraph)\n",
        "  File \"/usr/local/lib/python2.7/dist-packages/discoursegraphs-0.1.2-py2.7.egg/discoursegraphs/readwrite/brackets.py\", line 41, in gen_bracket_mappings\n",
        "    docgraph, docgraph.node[markable][docgraph.ns+':span'])\n",
        "KeyError: 'mmax:span'\n",
        "Traceback (most recent call last):\n",
        "  File \"<ipython-input-36-de27837c88ea>\", line 11, in <module>\n",
        "    print gen_bracketed_output(mdg)\n",
        "  File \"<ipython-input-31-c182c063225c>\", line 20, in gen_bracketed_output\n",
        "    opening, closing, markable2chain = gen_bracket_mappings(docgraph)\n",
        "  File \"/usr/local/lib/python2.7/dist-packages/discoursegraphs-0.1.2-py2.7.egg/discoursegraphs/readwrite/brackets.py\", line 41, in gen_bracket_mappings\n",
        "    docgraph, docgraph.node[markable][docgraph.ns+':span'])\n",
        "KeyError: 'mmax:span'\n"
       ]
      },
      {
       "output_type": "stream",
       "stream": "stdout",
       "text": [
        "\n",
        "maz-9521.mmax"
       ]
      },
      {
       "output_type": "stream",
       "stream": "stdout",
       "text": [
        "\n",
        "maz-5873.mmax"
       ]
      },
      {
       "output_type": "stream",
       "stream": "stderr",
       "text": [
        "Traceback (most recent call last):\n",
        "  File \"<ipython-input-36-de27837c88ea>\", line 11, in <module>\n",
        "    print gen_bracketed_output(mdg)\n",
        "  File \"<ipython-input-31-c182c063225c>\", line 20, in gen_bracketed_output\n",
        "    opening, closing, markable2chain = gen_bracket_mappings(docgraph)\n",
        "  File \"/usr/local/lib/python2.7/dist-packages/discoursegraphs-0.1.2-py2.7.egg/discoursegraphs/readwrite/brackets.py\", line 41, in gen_bracket_mappings\n",
        "    docgraph, docgraph.node[markable][docgraph.ns+':span'])\n",
        "KeyError: 'mmax:span'\n",
        "Traceback (most recent call last):\n",
        "  File \"<ipython-input-36-de27837c88ea>\", line 11, in <module>\n",
        "    print gen_bracketed_output(mdg)\n",
        "  File \"<ipython-input-31-c182c063225c>\", line 20, in gen_bracketed_output\n",
        "    opening, closing, markable2chain = gen_bracket_mappings(docgraph)\n",
        "  File \"/usr/local/lib/python2.7/dist-packages/discoursegraphs-0.1.2-py2.7.egg/discoursegraphs/readwrite/brackets.py\", line 41, in gen_bracket_mappings\n",
        "    docgraph, docgraph.node[markable][docgraph.ns+':span'])\n",
        "KeyError: 'mmax:span'\n"
       ]
      },
      {
       "output_type": "stream",
       "stream": "stdout",
       "text": [
        "\n",
        "maz-19295.mmax"
       ]
      },
      {
       "output_type": "stream",
       "stream": "stdout",
       "text": [
        "\n",
        "maz-6159.mmax"
       ]
      },
      {
       "output_type": "stream",
       "stream": "stderr",
       "text": [
        "Traceback (most recent call last):\n",
        "  File \"<ipython-input-36-de27837c88ea>\", line 11, in <module>\n",
        "    print gen_bracketed_output(mdg)\n",
        "  File \"<ipython-input-31-c182c063225c>\", line 20, in gen_bracketed_output\n",
        "    opening, closing, markable2chain = gen_bracket_mappings(docgraph)\n",
        "  File \"/usr/local/lib/python2.7/dist-packages/discoursegraphs-0.1.2-py2.7.egg/discoursegraphs/readwrite/brackets.py\", line 41, in gen_bracket_mappings\n",
        "    docgraph, docgraph.node[markable][docgraph.ns+':span'])\n",
        "KeyError: 'mmax:span'\n",
        "Traceback (most recent call last):\n",
        "  File \"<ipython-input-36-de27837c88ea>\", line 11, in <module>\n",
        "    print gen_bracketed_output(mdg)\n",
        "  File \"<ipython-input-31-c182c063225c>\", line 20, in gen_bracketed_output\n",
        "    opening, closing, markable2chain = gen_bracket_mappings(docgraph)\n",
        "  File \"/usr/local/lib/python2.7/dist-packages/discoursegraphs-0.1.2-py2.7.egg/discoursegraphs/readwrite/brackets.py\", line 41, in gen_bracket_mappings\n",
        "    docgraph, docgraph.node[markable][docgraph.ns+':span'])\n",
        "KeyError: 'mmax:span'\n"
       ]
      },
      {
       "output_type": "stream",
       "stream": "stdout",
       "text": [
        "\n",
        "maz-10374.mmax"
       ]
      },
      {
       "output_type": "stream",
       "stream": "stdout",
       "text": [
        "\n",
        "F\u00fcrchtet euch nicht ! Die einstige Fu\u00dfball-Weltmacht zittert //vor einem Winzling//_{UNMARKED: s46_501} . Mit seinem Tor zum 1:0 f\u00fcr die Ukraine st\u00fcrzte der 1,62 Meter gro\u00dfe Gennadi Subow die deutsche Nationalelf vor\u00fcbergehend //in ein Trauma//_{UNMARKED: s47_504} . Nachdem den tapfer k\u00e4mpfenden G\u00e4sten der Ausgleich gelungen war , wechselte der wie eine Mumie auf der Bank sitzende ukrainische Coach noch //zwei \u00e4hnliche Leichtgewichte//_{UNMARKED: s48_504} ein . Was soll das erst morgen Abend im zweiten Spiel werden ? Wenn die drei Knirpse //von Anbeginn//_{UNMARKED: s50_501} wirbeln , k\u00f6nnte der um Ehre und Reputation k\u00e4mpfenden Mannschaft von Rudi V\u00f6ller der Weg zur Weltmeisterschaft endg\u00fcltig verbaut sein . Je kleiner die Kicker daherkommen , desto gr\u00f6\u00dfer wird der Gegner geredet . Die Fu\u00dfball-Kleinmacht vom Dnepr steht kurz davor , das scheinbar mit einem Dauerabonnement f\u00fcr die WM ausgestattete Team in der schwarz-wei\u00dfen Kluft und eine ganze Nation in das Tal der Tr\u00e4nen zu treiben . Dabei haben die deutschen Nationalkicker einen \" Rudi Riese \" auf der Bank und einen Franz Beckenbauer mit hei\u00dfem Draht zum Fu\u00dfballgott . F\u00fcrchtet euch nicht ! "
       ]
      },
      {
       "output_type": "stream",
       "stream": "stdout",
       "text": [
        "\n",
        "maz-7967.mmax"
       ]
      },
      {
       "output_type": "stream",
       "stream": "stdout",
       "text": [
        "\n",
        "Strausberg siegt [Die Sch\u00f6nflie\u00dfer Stra\u00dfe in Glienicke]_{markable_59} war //bereits vor zweieinhalb Jahren//_{UNMARKED: s1873_502} fertig . Zumindest die Fassade : Das [Strausberger]_{markable_100099} Stra\u00dfenbauamt hatte im Zuge des Planfeststellungsverfahrens die Entw\u00fcrfe offen gelegt . Angeblich , damit B\u00fcrger Anregungen formulieren konnten . Tats\u00e4chlich haben sich Anlieger in die Materie eingearbeitet und //auf konkrete Probleme//_{UNMARKED: s1876_501} hingewiesen . So auf die unterschiedlichen Grundst\u00fccksfluchten . Das Tiefbauamt [der Gemeinde]_{markable_100099} hat die Einw\u00e4nde //f\u00fcr richtig//_{UNMARKED: s1878_502} befunden und den Strausbergern empfohlen , [den Besitzern]_{markable_100077} einen Teil [ihres]_{markable_100077} Landes abzukaufen . Die Arbeiten sind noch nicht abgeschlossen . Doch der Putz br\u00f6ckelt bereits erheblich : Deutlich wird , dass [Strausberg]_{markable_100099} //alle Hinweise//_{UNMARKED: s1881_500} //in den Wind//_{UNMARKED: s1881_501} geschlagen hat . Drum wird [die Stra\u00dfe]_{markable_59} - zum Nachteil von Verkehrssicherheit , Baupreis und Ortsbild - kurviger als n\u00f6tig . Ob klare Worte [des B\u00fcrgermeisters]_{markable_1000151} daran etwas \u00e4ndern k\u00f6nnen ? Wahrscheinlich ist auch [Joachim Bienert]_{markable_1000151} zu lange dem Strausberger Blendwerk aufgesessen . //Kleiner Trost//_{UNMARKED: s1885_500} : [Er]_{markable_1000151} ist , siehe Schildow , nicht der Einzige . Die Lehre daraus ? Frechheit siegt . Zumindest , bis //personelle Konsequenzen//_{UNMARKED: s1888_500} gezogen werden . [Minister Meyer]_{markable_1000180} , \u00fcbernehmen [Sie]_{markable_1000180} . \n",
        "maz-17539.mmax"
       ]
      },
      {
       "output_type": "stream",
       "stream": "stdout",
       "text": [
        "\n",
        "maz-14881.mmax"
       ]
      },
      {
       "output_type": "stream",
       "stream": "stderr",
       "text": [
        "Traceback (most recent call last):\n",
        "  File \"<ipython-input-36-de27837c88ea>\", line 11, in <module>\n",
        "    print gen_bracketed_output(mdg)\n",
        "  File \"<ipython-input-31-c182c063225c>\", line 20, in gen_bracketed_output\n",
        "    opening, closing, markable2chain = gen_bracket_mappings(docgraph)\n",
        "  File \"/usr/local/lib/python2.7/dist-packages/discoursegraphs-0.1.2-py2.7.egg/discoursegraphs/readwrite/brackets.py\", line 41, in gen_bracket_mappings\n",
        "    docgraph, docgraph.node[markable][docgraph.ns+':span'])\n",
        "KeyError: 'mmax:span'\n",
        "Traceback (most recent call last):\n",
        "  File \"<ipython-input-36-de27837c88ea>\", line 11, in <module>\n",
        "    print gen_bracketed_output(mdg)\n",
        "  File \"<ipython-input-31-c182c063225c>\", line 20, in gen_bracketed_output\n",
        "    opening, closing, markable2chain = gen_bracket_mappings(docgraph)\n",
        "  File \"/usr/local/lib/python2.7/dist-packages/discoursegraphs-0.1.2-py2.7.egg/discoursegraphs/readwrite/brackets.py\", line 41, in gen_bracket_mappings\n",
        "    docgraph, docgraph.node[markable][docgraph.ns+':span'])\n",
        "KeyError: 'mmax:span'\n"
       ]
      },
      {
       "output_type": "stream",
       "stream": "stdout",
       "text": [
        "\n",
        "maz-18354.mmax"
       ]
      },
      {
       "output_type": "stream",
       "stream": "stdout",
       "text": [
        "\n",
        "maz-4403.mmax"
       ]
      },
      {
       "output_type": "stream",
       "stream": "stderr",
       "text": [
        "Traceback (most recent call last):\n",
        "  File \"<ipython-input-36-de27837c88ea>\", line 11, in <module>\n",
        "    print gen_bracketed_output(mdg)\n",
        "  File \"<ipython-input-31-c182c063225c>\", line 20, in gen_bracketed_output\n",
        "    opening, closing, markable2chain = gen_bracket_mappings(docgraph)\n",
        "  File \"/usr/local/lib/python2.7/dist-packages/discoursegraphs-0.1.2-py2.7.egg/discoursegraphs/readwrite/brackets.py\", line 41, in gen_bracket_mappings\n",
        "    docgraph, docgraph.node[markable][docgraph.ns+':span'])\n",
        "KeyError: 'mmax:span'\n",
        "Traceback (most recent call last):\n",
        "  File \"<ipython-input-36-de27837c88ea>\", line 11, in <module>\n",
        "    print gen_bracketed_output(mdg)\n",
        "  File \"<ipython-input-31-c182c063225c>\", line 20, in gen_bracketed_output\n",
        "    opening, closing, markable2chain = gen_bracket_mappings(docgraph)\n",
        "  File \"/usr/local/lib/python2.7/dist-packages/discoursegraphs-0.1.2-py2.7.egg/discoursegraphs/readwrite/brackets.py\", line 41, in gen_bracket_mappings\n",
        "    docgraph, docgraph.node[markable][docgraph.ns+':span'])\n",
        "KeyError: 'mmax:span'\n"
       ]
      },
      {
       "output_type": "stream",
       "stream": "stdout",
       "text": [
        "\n",
        "maz-6165.mmax"
       ]
      },
      {
       "output_type": "stream",
       "stream": "stdout",
       "text": [
        "\n",
        "Aktionskreise Am liebsten w\u00fcrde [die Feuerwehr]_{markable_22} ja //schon in f\u00fcnf Minuten//_{UNMARKED: s1742_502} an jedem Ort der Stadt sein , aber derzeit sind es bestenfalls acht//_{UNMARKED: s1742_504} . Rechnet man //noch f\u00fcnf Minuten drauf //zwischen Alarm und Start//_{UNMARKED: s1743_504 s1743_505} , kommen [die Retter]_{markable_22} schon an [ihre]_{markable_22} Grenzen : //Ab 18 Minuten//_{UNMARKED: s1744_500} kommt //f\u00fcr Menschen //in einer verqualmten Wohnung//_{UNMARKED: s1744_501 s1744_504} //jede Hilfe//_{UNMARKED: s1744_502} zu sp\u00e4t . Also kann es [f\u00fcr die Feuerwehr]_{markable_22} beim Wegzug aus der Seelenbinderstra\u00dfe nur einen Ma\u00dfstab geben : [Schnelligkeit]_{markable_34} . [Die]_{markable_34} aber scheint nur bei zwei Standorten [an der Berliner Stra\u00dfe]_{markable_17} garantiert : Nahe der Schnellstra\u00dfe w\u00e4re man hier , nahe am Klinikum und [nahe am Wasser]_{markable_29} - auch dort will man helfen k\u00f6nnen . Wenn nun [der CDU-Abgeordnete Peter Lehmann]_{markable_26} das Wasserwirtschaftsareal [an der Friedrich-Engels-Stra\u00dfe]_{markable_23} [f\u00fcr die Feuerwache Potsdam]_{markable_22} fordert , mag [er]_{markable_26} //in zwei Punkten//_{UNMARKED: s1748_503} Recht haben : Zwischen [Berliner Stra\u00dfe]_{markable_17} und [der Havel]_{markable_29} kann man prima Wohnungen bauen , und das Wasserbetriebsgel\u00e4nde harrt //einer besseren Nutzung//_{UNMARKED: s1749_504} . Wie aber [die Einsatzfahrzeuge]_{markable_22} [von der Friedrich-Engels-Stra\u00dfe]_{markable_23} aus das Dauerproblem Bau und Stau auf der Langen Br\u00fccke umfahren sollen , das sagt [er]_{markable_26} nicht . Mithin kann die neue Wache - zumal bereits //eine Berufswache//_{UNMARKED: s1751_501} in Babelsberg besteht - nur n\u00f6rdlich [der Havel]_{markable_29} liegen . "
       ]
      },
      {
       "output_type": "stream",
       "stream": "stdout",
       "text": [
        "\n",
        "maz-16360.mmax"
       ]
      },
      {
       "output_type": "stream",
       "stream": "stdout",
       "text": [
        "\n",
        "maz-8665.mmax"
       ]
      },
      {
       "output_type": "stream",
       "stream": "stdout",
       "text": [
        "\n",
        "Ganz sch\u00f6n mutig Es herrscht //kein Wohnungsnotstand//_{UNMARKED: s1979_500} [in Wusterhausen]_{markable_1000158} . Dennoch war sich [die Gemeindevertretung]_{markable_87} sicher , dass man //ein neues Wohngebiet//_{UNMARKED: s1980_501} ausweisen m\u00fcsse . Was [nach der Idee]_{markable_18} kam , ging dann erstaunlich schnell . //Nicht einmal ein Jahr//_{UNMARKED: s1982_503} ist seit Fassen [des Aufstellungsbeschlusses]_{markable_18} und Beginn der Erschlie\u00dfungsarbeiten vergangen . Demn\u00e4chst wird man schon //trockenen Fu\u00dfes//_{UNMARKED: s1983_500} //voll erschlossene Parzellen//_{UNMARKED: s1983_503} //in Augenschein//_{UNMARKED: s1983_502} nehmen k\u00f6nnen . Martina Vogel , die Bauamtsleiterin [in der Gro\u00dfgemeinde , zu der ja [auch die Stadt]_{markable_1000158} geh\u00f6rt]_{markable_56} , erhofft sich davon K\u00f6dereffekt . Wenn [die Leute]_{markable_1000100} \u00fcbersichtlich angeboten bekommen , was [sie]_{markable_1000100} mal selber nutzen k\u00f6nnen , kriegen [sie]_{markable_1000100} leichter Appetit , so die Hoffnung . Das wird auch notwendig sein , denn [die Gemeinde]_{markable_56} ist erst einmal [mit 1,2 Millionen Mark]_{markable_82} //in Vorleistung//_{UNMARKED: s1986_504} gegangen . In der l\u00f6blichen Absicht , besonders jungen Familien das Hierbleiben lukrativ zu machen und somit einer Pflicht nachzukommen , die jede Kommune hat , ist Risiko nie auszuschlie\u00dfen . [In Wusterhausen]_{markable_1000158} erh\u00f6ht es sich noch , weil man auch im nahen Bantikow Baupl\u00e4tze findet , wenngleich nicht [zu diesem Preis]_{markable_82} . Also haben [die Gemeindevertreter]_{markable_87} [Mut]_{markable_1000187} gezeigt . M\u00f6ge [er]_{markable_1000187} belohnt werden . "
       ]
      },
      {
       "output_type": "stream",
       "stream": "stdout",
       "text": [
        "\n",
        "maz-14071.mmax"
       ]
      },
      {
       "output_type": "stream",
       "stream": "stderr",
       "text": [
        "Traceback (most recent call last):\n",
        "  File \"<ipython-input-36-de27837c88ea>\", line 11, in <module>\n",
        "    print gen_bracketed_output(mdg)\n",
        "  File \"<ipython-input-31-c182c063225c>\", line 20, in gen_bracketed_output\n",
        "    opening, closing, markable2chain = gen_bracket_mappings(docgraph)\n",
        "  File \"/usr/local/lib/python2.7/dist-packages/discoursegraphs-0.1.2-py2.7.egg/discoursegraphs/readwrite/brackets.py\", line 41, in gen_bracket_mappings\n",
        "    docgraph, docgraph.node[markable][docgraph.ns+':span'])\n",
        "KeyError: 'mmax:span'\n",
        "Traceback (most recent call last):\n",
        "  File \"<ipython-input-36-de27837c88ea>\", line 11, in <module>\n",
        "    print gen_bracketed_output(mdg)\n",
        "  File \"<ipython-input-31-c182c063225c>\", line 20, in gen_bracketed_output\n",
        "    opening, closing, markable2chain = gen_bracket_mappings(docgraph)\n",
        "  File \"/usr/local/lib/python2.7/dist-packages/discoursegraphs-0.1.2-py2.7.egg/discoursegraphs/readwrite/brackets.py\", line 41, in gen_bracket_mappings\n",
        "    docgraph, docgraph.node[markable][docgraph.ns+':span'])\n",
        "KeyError: 'mmax:span'\n"
       ]
      },
      {
       "output_type": "stream",
       "stream": "stdout",
       "text": [
        "\n",
        "maz-9782.mmax"
       ]
      },
      {
       "output_type": "stream",
       "stream": "stdout",
       "text": [
        "\n",
        "maz-9884.mmax"
       ]
      },
      {
       "output_type": "stream",
       "stream": "stderr",
       "text": [
        "Traceback (most recent call last):\n",
        "  File \"<ipython-input-36-de27837c88ea>\", line 11, in <module>\n",
        "    print gen_bracketed_output(mdg)\n",
        "  File \"<ipython-input-31-c182c063225c>\", line 20, in gen_bracketed_output\n",
        "    opening, closing, markable2chain = gen_bracket_mappings(docgraph)\n",
        "  File \"/usr/local/lib/python2.7/dist-packages/discoursegraphs-0.1.2-py2.7.egg/discoursegraphs/readwrite/brackets.py\", line 41, in gen_bracket_mappings\n",
        "    docgraph, docgraph.node[markable][docgraph.ns+':span'])\n",
        "KeyError: 'mmax:span'\n",
        "Traceback (most recent call last):\n",
        "  File \"<ipython-input-36-de27837c88ea>\", line 11, in <module>\n",
        "    print gen_bracketed_output(mdg)\n",
        "  File \"<ipython-input-31-c182c063225c>\", line 20, in gen_bracketed_output\n",
        "    opening, closing, markable2chain = gen_bracket_mappings(docgraph)\n",
        "  File \"/usr/local/lib/python2.7/dist-packages/discoursegraphs-0.1.2-py2.7.egg/discoursegraphs/readwrite/brackets.py\", line 41, in gen_bracket_mappings\n",
        "    docgraph, docgraph.node[markable][docgraph.ns+':span'])\n",
        "KeyError: 'mmax:span'\n"
       ]
      },
      {
       "output_type": "stream",
       "stream": "stdout",
       "text": [
        "\n",
        "maz-5144.mmax"
       ]
      },
      {
       "output_type": "stream",
       "stream": "stdout",
       "text": [
        "\n",
        "maz-12666.mmax"
       ]
      },
      {
       "output_type": "stream",
       "stream": "stdout",
       "text": [
        "\n",
        "Spatz //in der Hand//_{UNMARKED: s343_500} [R\u00fcdiger Kadatz]_{markable_100079} hat [[seine]_{markable_100079} Meinung zum [Rheinsberger]_{markable_1000194} Thermalbad]_{markable_100013} , und [er]_{markable_100079} will [sie]_{markable_100013} nicht //in Frage//_{UNMARKED: s344_502} stellen : //Nach einem Jahr Verhandelns//_{UNMARKED: s345_500} habe [[Rheinsbergs]_{markable_1000177} Favorit Rogner]_{markable_1000194} verspielt . //Ein neuer Investor//_{UNMARKED: s346_500} muss her , und [den hatte [Kadatz]_{markable_100079} am Mittwochabend in der Stadtverordnetenversammlung parat - die Lielje-Gruppe]_{markable_1000145} . Dass [die]_{markable_1000145} //nur ein Bad//_{UNMARKED: s347_500} , //kein Hotel//_{UNMARKED: s347_501} bauen will , interessierte [Kadatz]_{markable_100079} weniger . Auch nicht die letzten Gespr\u00e4che [mit Rogner]_{markable_1000177} . Neue Entwicklungen ? Wozu noch ? [F\u00fcr Kadatz]_{markable_100079} war klar : Lieber [den Spatz in der Hand]_{markable_1000145} als [die Taube auf dem Dach]_{markable_1000177} . //Eine verst\u00e4ndliche Einstellung//_{UNMARKED: s353_500} - wenn es denn //einen Spatz//_{UNMARKED: s353_501} g\u00e4be . Wenn man genauer hinsieht , halten [die Rheinsberger]_{markable_1000194} [vom zweiten Thermalbad-Bewerber]_{markable_1000145} nicht mehr //in der Hand//_{UNMARKED: s354_503} als [vom ersten]_{markable_1000177} . Ein paar vage m\u00fcndliche Finanzierungs-Versprechen , die Skizze des einzigen anderen Bades , das ist alles , was [Lielje]_{markable_1000145} vorweisen kann . //Eine echte Alternative//_{UNMARKED: s356_500} sieht anders aus . Doch immerhin bewegt sich etwas im [Rheinsberger]_{markable_1000194} Thermalbad-Rennen . [Rogner]_{markable_1000177} ist willig , Finanziers sind gefunden . Es w\u00e4re unverantwortlich , [Rogner]_{markable_1000177} //so kurz vor der Ziellinie//_{UNMARKED: s359_504} //die Luft//_{UNMARKED: s359_501} //aus den Reifen//_{UNMARKED: s359_502} zu lassen . Am Ende steht [Rheinsberg]_{markable_1000194} //ohne Investor//_{UNMARKED: s360_501} da . "
       ]
      },
      {
       "output_type": "stream",
       "stream": "stdout",
       "text": [
        "\n",
        "maz-17254.mmax"
       ]
      },
      {
       "output_type": "stream",
       "stream": "stderr",
       "text": [
        "Traceback (most recent call last):\n",
        "  File \"<ipython-input-36-de27837c88ea>\", line 11, in <module>\n",
        "    print gen_bracketed_output(mdg)\n",
        "  File \"<ipython-input-31-c182c063225c>\", line 20, in gen_bracketed_output\n",
        "    opening, closing, markable2chain = gen_bracket_mappings(docgraph)\n",
        "  File \"/usr/local/lib/python2.7/dist-packages/discoursegraphs-0.1.2-py2.7.egg/discoursegraphs/readwrite/brackets.py\", line 41, in gen_bracket_mappings\n",
        "    docgraph, docgraph.node[markable][docgraph.ns+':span'])\n",
        "KeyError: 'mmax:span'\n",
        "Traceback (most recent call last):\n",
        "  File \"<ipython-input-36-de27837c88ea>\", line 11, in <module>\n",
        "    print gen_bracketed_output(mdg)\n",
        "  File \"<ipython-input-31-c182c063225c>\", line 20, in gen_bracketed_output\n",
        "    opening, closing, markable2chain = gen_bracket_mappings(docgraph)\n",
        "  File \"/usr/local/lib/python2.7/dist-packages/discoursegraphs-0.1.2-py2.7.egg/discoursegraphs/readwrite/brackets.py\", line 41, in gen_bracket_mappings\n",
        "    docgraph, docgraph.node[markable][docgraph.ns+':span'])\n",
        "KeyError: 'mmax:span'\n"
       ]
      },
      {
       "output_type": "stream",
       "stream": "stdout",
       "text": [
        "\n",
        "maz-9612.mmax"
       ]
      },
      {
       "output_type": "stream",
       "stream": "stdout",
       "text": [
        "\n",
        "maz-18006.mmax"
       ]
      },
      {
       "output_type": "stream",
       "stream": "stderr",
       "text": [
        "Traceback (most recent call last):\n",
        "  File \"<ipython-input-36-de27837c88ea>\", line 11, in <module>\n",
        "    print gen_bracketed_output(mdg)\n",
        "  File \"<ipython-input-31-c182c063225c>\", line 20, in gen_bracketed_output\n",
        "    opening, closing, markable2chain = gen_bracket_mappings(docgraph)\n",
        "  File \"/usr/local/lib/python2.7/dist-packages/discoursegraphs-0.1.2-py2.7.egg/discoursegraphs/readwrite/brackets.py\", line 41, in gen_bracket_mappings\n",
        "    docgraph, docgraph.node[markable][docgraph.ns+':span'])\n",
        "KeyError: 'mmax:span'\n",
        "Traceback (most recent call last):\n",
        "  File \"<ipython-input-36-de27837c88ea>\", line 11, in <module>\n",
        "    print gen_bracketed_output(mdg)\n",
        "  File \"<ipython-input-31-c182c063225c>\", line 20, in gen_bracketed_output\n",
        "    opening, closing, markable2chain = gen_bracket_mappings(docgraph)\n",
        "  File \"/usr/local/lib/python2.7/dist-packages/discoursegraphs-0.1.2-py2.7.egg/discoursegraphs/readwrite/brackets.py\", line 41, in gen_bracket_mappings\n",
        "    docgraph, docgraph.node[markable][docgraph.ns+':span'])\n",
        "KeyError: 'mmax:span'\n"
       ]
      },
      {
       "output_type": "stream",
       "stream": "stdout",
       "text": [
        "\n",
        "maz-3073.mmax"
       ]
      },
      {
       "output_type": "stream",
       "stream": "stdout",
       "text": [
        "\n",
        "maz-2611.mmax"
       ]
      },
      {
       "output_type": "stream",
       "stream": "stderr",
       "text": [
        "Traceback (most recent call last):\n",
        "  File \"<ipython-input-36-de27837c88ea>\", line 11, in <module>\n",
        "    print gen_bracketed_output(mdg)\n",
        "  File \"<ipython-input-31-c182c063225c>\", line 20, in gen_bracketed_output\n",
        "    opening, closing, markable2chain = gen_bracket_mappings(docgraph)\n",
        "  File \"/usr/local/lib/python2.7/dist-packages/discoursegraphs-0.1.2-py2.7.egg/discoursegraphs/readwrite/brackets.py\", line 41, in gen_bracket_mappings\n",
        "    docgraph, docgraph.node[markable][docgraph.ns+':span'])\n",
        "KeyError: 'mmax:span'\n",
        "Traceback (most recent call last):\n",
        "  File \"<ipython-input-36-de27837c88ea>\", line 11, in <module>\n",
        "    print gen_bracketed_output(mdg)\n",
        "  File \"<ipython-input-31-c182c063225c>\", line 20, in gen_bracketed_output\n",
        "    opening, closing, markable2chain = gen_bracket_mappings(docgraph)\n",
        "  File \"/usr/local/lib/python2.7/dist-packages/discoursegraphs-0.1.2-py2.7.egg/discoursegraphs/readwrite/brackets.py\", line 41, in gen_bracket_mappings\n",
        "    docgraph, docgraph.node[markable][docgraph.ns+':span'])\n",
        "KeyError: 'mmax:span'\n"
       ]
      },
      {
       "output_type": "stream",
       "stream": "stdout",
       "text": [
        "\n",
        "maz-11735.mmax"
       ]
      },
      {
       "output_type": "stream",
       "stream": "stdout",
       "text": [
        "\n",
        "Frei und unbehelligt //Eine gute Idee//_{UNMARKED: s225_500} , k\u00fcnftig weltweit Terroristen das Geld zu sperren . [Sowohl die G-20 Gruppe , in der die Industriel\u00e4nder sowie die m\u00e4chtigsten Schwellenl\u00e4nder vertreten sind , als auch die 183 IWF-Staaten]_{markable_77} haben sich [in Ottawa]_{markable_1000147} darauf verst\u00e4ndigt , gemeinsam gegen Geldw\u00e4sche und die Finanzierung von Terrornetzen vorzugehen . //Mehr //als eine Willensbekundung//_{UNMARKED: s227_503 s227_500} ist das zwar noch nicht - aber immerhin . Der unbeteiligte Beobachter fragt sich allerdings , warum erst jetzt ? Jahrelang wurde die Ausrede kultiviert , sch\u00e4rfere Kontrollen schadeten einem Finanzstandort . Kapital m\u00fcsse frei und unbehelligt flie\u00dfen k\u00f6nnen . Erst nach dem 11. September hat man offenbar begriffen , dass //nicht jede Geldanlage//_{UNMARKED: s231_503} den Wohlstand der Nationen mehrt . Die USA pr\u00e4sentierten sogar j\u00fcngst [eine Liste [verd\u00e4chtiger Gesellschaften]_{markable_69}]_{markable_1000130} . Dumm nur , dass [auf der]_{markable_1000130} [die selben Kandidaten standen , vor denen die Uno schon seit Jahren warnt]_{markable_69} . Doch [nach Ottawa]_{markable_1000147} soll ja alles anders werden . [Die Staaten]_{markable_77} haben versprochen , im Zweifelsfall nicht mehr //beide Augen//_{UNMARKED: s235_503} zuzudr\u00fccken , wenn es //um Standortvorteile//_{UNMARKED: s235_504} geht - hoffentlich . "
       ]
      },
      {
       "output_type": "stream",
       "stream": "stdout",
       "text": [
        "\n",
        "maz-5010.mmax"
       ]
      },
      {
       "output_type": "stream",
       "stream": "stdout",
       "text": [
        "\n",
        "maz-9852.mmax"
       ]
      },
      {
       "output_type": "stream",
       "stream": "stderr",
       "text": [
        "Traceback (most recent call last):\n",
        "  File \"<ipython-input-36-de27837c88ea>\", line 11, in <module>\n",
        "    print gen_bracketed_output(mdg)\n",
        "  File \"<ipython-input-31-c182c063225c>\", line 20, in gen_bracketed_output\n",
        "    opening, closing, markable2chain = gen_bracket_mappings(docgraph)\n",
        "  File \"/usr/local/lib/python2.7/dist-packages/discoursegraphs-0.1.2-py2.7.egg/discoursegraphs/readwrite/brackets.py\", line 41, in gen_bracket_mappings\n",
        "    docgraph, docgraph.node[markable][docgraph.ns+':span'])\n",
        "KeyError: 'mmax:span'\n",
        "Traceback (most recent call last):\n",
        "  File \"<ipython-input-36-de27837c88ea>\", line 11, in <module>\n",
        "    print gen_bracketed_output(mdg)\n",
        "  File \"<ipython-input-31-c182c063225c>\", line 20, in gen_bracketed_output\n",
        "    opening, closing, markable2chain = gen_bracket_mappings(docgraph)\n",
        "  File \"/usr/local/lib/python2.7/dist-packages/discoursegraphs-0.1.2-py2.7.egg/discoursegraphs/readwrite/brackets.py\", line 41, in gen_bracket_mappings\n",
        "    docgraph, docgraph.node[markable][docgraph.ns+':span'])\n",
        "KeyError: 'mmax:span'\n"
       ]
      },
      {
       "output_type": "stream",
       "stream": "stdout",
       "text": [
        "\n",
        "maz-13758.mmax"
       ]
      },
      {
       "output_type": "stream",
       "stream": "stdout",
       "text": [
        "\n",
        "maz-18912.mmax"
       ]
      },
      {
       "output_type": "stream",
       "stream": "stderr",
       "text": [
        "Traceback (most recent call last):\n",
        "  File \"<ipython-input-36-de27837c88ea>\", line 11, in <module>\n",
        "    print gen_bracketed_output(mdg)\n",
        "  File \"<ipython-input-31-c182c063225c>\", line 20, in gen_bracketed_output\n",
        "    opening, closing, markable2chain = gen_bracket_mappings(docgraph)\n",
        "  File \"/usr/local/lib/python2.7/dist-packages/discoursegraphs-0.1.2-py2.7.egg/discoursegraphs/readwrite/brackets.py\", line 41, in gen_bracket_mappings\n",
        "    docgraph, docgraph.node[markable][docgraph.ns+':span'])\n",
        "KeyError: 'mmax:span'\n",
        "Traceback (most recent call last):\n",
        "  File \"<ipython-input-36-de27837c88ea>\", line 11, in <module>\n",
        "    print gen_bracketed_output(mdg)\n",
        "  File \"<ipython-input-31-c182c063225c>\", line 20, in gen_bracketed_output\n",
        "    opening, closing, markable2chain = gen_bracket_mappings(docgraph)\n",
        "  File \"/usr/local/lib/python2.7/dist-packages/discoursegraphs-0.1.2-py2.7.egg/discoursegraphs/readwrite/brackets.py\", line 41, in gen_bracket_mappings\n",
        "    docgraph, docgraph.node[markable][docgraph.ns+':span'])\n",
        "KeyError: 'mmax:span'\n"
       ]
      },
      {
       "output_type": "stream",
       "stream": "stdout",
       "text": [
        "\n",
        "maz-13507.mmax"
       ]
      },
      {
       "output_type": "stream",
       "stream": "stdout",
       "text": [
        "\n",
        "maz-19501.mmax"
       ]
      },
      {
       "output_type": "stream",
       "stream": "stderr",
       "text": [
        "Traceback (most recent call last):\n",
        "  File \"<ipython-input-36-de27837c88ea>\", line 11, in <module>\n",
        "    print gen_bracketed_output(mdg)\n",
        "  File \"<ipython-input-31-c182c063225c>\", line 20, in gen_bracketed_output\n",
        "    opening, closing, markable2chain = gen_bracket_mappings(docgraph)\n",
        "  File \"/usr/local/lib/python2.7/dist-packages/discoursegraphs-0.1.2-py2.7.egg/discoursegraphs/readwrite/brackets.py\", line 41, in gen_bracket_mappings\n",
        "    docgraph, docgraph.node[markable][docgraph.ns+':span'])\n",
        "KeyError: 'mmax:span'\n",
        "Traceback (most recent call last):\n",
        "  File \"<ipython-input-36-de27837c88ea>\", line 11, in <module>\n",
        "    print gen_bracketed_output(mdg)\n",
        "  File \"<ipython-input-31-c182c063225c>\", line 20, in gen_bracketed_output\n",
        "    opening, closing, markable2chain = gen_bracket_mappings(docgraph)\n",
        "  File \"/usr/local/lib/python2.7/dist-packages/discoursegraphs-0.1.2-py2.7.egg/discoursegraphs/readwrite/brackets.py\", line 41, in gen_bracket_mappings\n",
        "    docgraph, docgraph.node[markable][docgraph.ns+':span'])\n",
        "KeyError: 'mmax:span'\n"
       ]
      },
      {
       "output_type": "stream",
       "stream": "stdout",
       "text": [
        "\n",
        "maz-00001.mmax"
       ]
      },
      {
       "output_type": "stream",
       "stream": "stdout",
       "text": [
        "\n",
        "maz-11670.mmax"
       ]
      },
      {
       "output_type": "stream",
       "stream": "stdout",
       "text": [
        "\n",
        "Tr\u00e4nen Tr\u00e4nen flossen gestern [zum Volkstrauertag]_{markable_73} auf dem Friedhof von Langen . Noch mehr als 56 Jahre nach dem Ende [des Zweiten Weltkriegs]_{markable_15} trauern Menschen um den Verlust eines geliebten Mannes , Vaters oder Kindes . [Mit dem Krieg]_{markable_15} besch\u00e4ftigte sich am Sonnabend [auch die Kreissynode der Evangelischen Kirche]_{markable_100050} . [Sie]_{markable_100050} verabschiedete [eine Resolution gegen den Krieg [in Afghanistan]_{markable_1000115}]_{markable_26} . [Das Papier]_{markable_26} ist - zugegeben - vorsichtig gefasst , vielleicht gab es auch deshalb //keine Gegenstimme//_{UNMARKED: s217_503} . Die Stimmung hat sich gewandelt , seit klar ist , was vielen vorher klar war : \" //Saubere chirurgische Schnitte \" //gegen Terroristen//_{UNMARKED: s219_505 s219_500} gibt es //mit Fl\u00e4chenbombardements//_{UNMARKED: s219_501} nicht und [selbst High-Tech-Bomben]_{markable_1000111} verfehlen oft genug [ihr]_{markable_1000111} Ziel . [In Afghanistan]_{markable_1000115} sterben [Frauen und alte M\u00e4nner . Bombensplitter zerfetzen [afghanische Kinder]_{markable_1000129} , die in [ihren]_{markable_1000129} armseligen H\u00fctten von einem New York noch nie etwas geh\u00f6rt haben]_{markable_67} . //Alle , die Krieg //f\u00fcr notwendig//_{UNMARKED: s222_500} halten//_{UNMARKED: s222_504} , nehmen [auch diese unschuldigen Opfer]_{markable_67} //in Kauf//_{UNMARKED: s222_502} . Dabei sollten [wir]_{markable_1000189} uns [gerade am Volkstrauertag]_{markable_73} erinnern k\u00f6nnen , wie es sich anf\u00fchlt , wenn das tote Kind auf dem Fernsehschirm nicht mehr \" irgendein Asiate \" ist , sondern [unser]_{markable_1000189} eigenes Kind . "
       ]
      },
      {
       "output_type": "stream",
       "stream": "stdout",
       "text": [
        "\n",
        "maz-18377.mmax"
       ]
      },
      {
       "output_type": "stream",
       "stream": "stderr",
       "text": [
        "Traceback (most recent call last):\n",
        "  File \"<ipython-input-36-de27837c88ea>\", line 11, in <module>\n",
        "    print gen_bracketed_output(mdg)\n",
        "  File \"<ipython-input-31-c182c063225c>\", line 20, in gen_bracketed_output\n",
        "    opening, closing, markable2chain = gen_bracket_mappings(docgraph)\n",
        "  File \"/usr/local/lib/python2.7/dist-packages/discoursegraphs-0.1.2-py2.7.egg/discoursegraphs/readwrite/brackets.py\", line 41, in gen_bracket_mappings\n",
        "    docgraph, docgraph.node[markable][docgraph.ns+':span'])\n",
        "KeyError: 'mmax:span'\n",
        "Traceback (most recent call last):\n",
        "  File \"<ipython-input-36-de27837c88ea>\", line 11, in <module>\n",
        "    print gen_bracketed_output(mdg)\n",
        "  File \"<ipython-input-31-c182c063225c>\", line 20, in gen_bracketed_output\n",
        "    opening, closing, markable2chain = gen_bracket_mappings(docgraph)\n",
        "  File \"/usr/local/lib/python2.7/dist-packages/discoursegraphs-0.1.2-py2.7.egg/discoursegraphs/readwrite/brackets.py\", line 41, in gen_bracket_mappings\n",
        "    docgraph, docgraph.node[markable][docgraph.ns+':span'])\n",
        "KeyError: 'mmax:span'\n"
       ]
      },
      {
       "output_type": "stream",
       "stream": "stdout",
       "text": [
        "\n",
        "maz-13915.mmax"
       ]
      },
      {
       "output_type": "stream",
       "stream": "stdout",
       "text": [
        "\n",
        "maz-18454.mmax"
       ]
      },
      {
       "output_type": "stream",
       "stream": "stderr",
       "text": [
        "Traceback (most recent call last):\n",
        "  File \"<ipython-input-36-de27837c88ea>\", line 11, in <module>\n",
        "    print gen_bracketed_output(mdg)\n",
        "  File \"<ipython-input-31-c182c063225c>\", line 20, in gen_bracketed_output\n",
        "    opening, closing, markable2chain = gen_bracket_mappings(docgraph)\n",
        "  File \"/usr/local/lib/python2.7/dist-packages/discoursegraphs-0.1.2-py2.7.egg/discoursegraphs/readwrite/brackets.py\", line 41, in gen_bracket_mappings\n",
        "    docgraph, docgraph.node[markable][docgraph.ns+':span'])\n",
        "KeyError: 'mmax:span'\n",
        "Traceback (most recent call last):\n",
        "  File \"<ipython-input-36-de27837c88ea>\", line 11, in <module>\n",
        "    print gen_bracketed_output(mdg)\n",
        "  File \"<ipython-input-31-c182c063225c>\", line 20, in gen_bracketed_output\n",
        "    opening, closing, markable2chain = gen_bracket_mappings(docgraph)\n",
        "  File \"/usr/local/lib/python2.7/dist-packages/discoursegraphs-0.1.2-py2.7.egg/discoursegraphs/readwrite/brackets.py\", line 41, in gen_bracket_mappings\n",
        "    docgraph, docgraph.node[markable][docgraph.ns+':span'])\n",
        "KeyError: 'mmax:span'\n"
       ]
      },
      {
       "output_type": "stream",
       "stream": "stdout",
       "text": [
        "\n",
        "maz-12576.mmax"
       ]
      },
      {
       "output_type": "stream",
       "stream": "stdout",
       "text": [
        "\n",
        "maz-10205.mmax"
       ]
      },
      {
       "output_type": "stream",
       "stream": "stderr",
       "text": [
        "Traceback (most recent call last):\n",
        "  File \"<ipython-input-36-de27837c88ea>\", line 11, in <module>\n",
        "    print gen_bracketed_output(mdg)\n",
        "  File \"<ipython-input-31-c182c063225c>\", line 20, in gen_bracketed_output\n",
        "    opening, closing, markable2chain = gen_bracket_mappings(docgraph)\n",
        "  File \"/usr/local/lib/python2.7/dist-packages/discoursegraphs-0.1.2-py2.7.egg/discoursegraphs/readwrite/brackets.py\", line 41, in gen_bracket_mappings\n",
        "    docgraph, docgraph.node[markable][docgraph.ns+':span'])\n",
        "KeyError: 'mmax:span'\n",
        "Traceback (most recent call last):\n",
        "  File \"<ipython-input-36-de27837c88ea>\", line 11, in <module>\n",
        "    print gen_bracketed_output(mdg)\n",
        "  File \"<ipython-input-31-c182c063225c>\", line 20, in gen_bracketed_output\n",
        "    opening, closing, markable2chain = gen_bracket_mappings(docgraph)\n",
        "  File \"/usr/local/lib/python2.7/dist-packages/discoursegraphs-0.1.2-py2.7.egg/discoursegraphs/readwrite/brackets.py\", line 41, in gen_bracket_mappings\n",
        "    docgraph, docgraph.node[markable][docgraph.ns+':span'])\n",
        "KeyError: 'mmax:span'\n"
       ]
      },
      {
       "output_type": "stream",
       "stream": "stdout",
       "text": [
        "\n",
        "maz-14399.mmax"
       ]
      },
      {
       "output_type": "stream",
       "stream": "stdout",
       "text": [
        "\n",
        "Aufstand //der Vegetarier//_{UNMARKED: s554_500} Wer [[zwei Frischlinge]_{markable_3}]_{markable_3} \" [Schnitzel]_{markable_2} \" und \" [Kotelett]_{markable_3} \" nennt - so gelesen ////im Internettagebuch eines J\u00e4gers//_{UNMARKED: s555_506 s555_506} - wollte vielleicht nur witzig sein . //Das Lachen//_{UNMARKED: s556_500} kann //empfindsamen Seelen//_{UNMARKED: s556_501} aber vergehen , wenn sie die Internetseite des Zentralorgans der deutschen J\u00e4ger , \" Wild und Hund \" , aufrufen : //In einer Animation//_{UNMARKED: s557_500} werden Patronen abgeschossen , dazu erscheint der Werbeslogan \" Jeder Klick ein Treffer \" . Solche martialischen T\u00f6ne einzelner Weidm\u00e4nner bieten [[den Gegnern [der J\u00e4gerei]_{markable_23}]_{markable_10}]_{markable_10} //eine ideale Angriffsfl\u00e4che//_{UNMARKED: s558_502} . Heute demonstriert [die \" Initiative zur Abschaffung [der Jagd]_{markable_23} \"]_{markable_10} wieder in Berlin . [Ein Lehrer aus Baden-W\u00fcrttemberg]_{markable_14} verschickt eifrig //so genannte \" Lustt\u00f6ter \" , die zeigen sollen , dass //das Grauen//_{UNMARKED: s560_502} //zwei Beine//_{UNMARKED: s560_503} und //ein Gewehr //in H\u00e4nden//_{UNMARKED: s560_504 s560_506} hat//_{UNMARKED: s560_511} . Doch auch [dieser Tiersch\u00fctzer]_{markable_14} befindet sich //auf verlorenem Posten//_{UNMARKED: s561_501} . //Selbst \u00d6kologen//_{UNMARKED: s562_500} bestreiten nicht , dass das nat\u00fcrliche Gleichgewicht //durch menschliche Eingriffe//_{UNMARKED: s562_502} wieder hergestellt werden muss . \u00dcbrigens ist das Ansinnen [der Jagdgegner]_{markable_18} genauso sinnlos , als wenn Vegetarier Fleischesser \u00fcberzeugen wollten . "
       ]
      },
      {
       "output_type": "stream",
       "stream": "stdout",
       "text": [
        "\n",
        "maz-15347.mmax"
       ]
      },
      {
       "output_type": "stream",
       "stream": "stdout",
       "text": [
        "\n",
        "maz-8586.mmax"
       ]
      },
      {
       "output_type": "stream",
       "stream": "stderr",
       "text": [
        "Traceback (most recent call last):\n",
        "  File \"<ipython-input-36-de27837c88ea>\", line 11, in <module>\n",
        "    print gen_bracketed_output(mdg)\n",
        "  File \"<ipython-input-31-c182c063225c>\", line 44, in gen_bracketed_output\n",
        "    token_id, stack)\n",
        "  File \"/usr/local/lib/python2.7/dist-packages/discoursegraphs-0.1.2-py2.7.egg/discoursegraphs/readwrite/brackets.py\", line 52, in gen_closing_string\n",
        "    for closing_id in closing_markable_ids)\n",
        "  File \"/usr/local/lib/python2.7/dist-packages/discoursegraphs-0.1.2-py2.7.egg/discoursegraphs/readwrite/brackets.py\", line 52, in <genexpr>\n",
        "    for closing_id in closing_markable_ids)\n",
        "KeyError: 's711_501'\n",
        "Traceback (most recent call last):\n",
        "  File \"<ipython-input-36-de27837c88ea>\", line 11, in <module>\n",
        "    print gen_bracketed_output(mdg)\n",
        "  File \"<ipython-input-31-c182c063225c>\", line 20, in gen_bracketed_output\n",
        "    opening, closing, markable2chain = gen_bracket_mappings(docgraph)\n",
        "  File \"/usr/local/lib/python2.7/dist-packages/discoursegraphs-0.1.2-py2.7.egg/discoursegraphs/readwrite/brackets.py\", line 41, in gen_bracket_mappings\n",
        "    docgraph, docgraph.node[markable][docgraph.ns+':span'])\n",
        "KeyError: 'mmax:span'\n"
       ]
      },
      {
       "output_type": "stream",
       "stream": "stdout",
       "text": [
        "\n",
        "maz-15155.mmax"
       ]
      },
      {
       "output_type": "stream",
       "stream": "stdout",
       "text": [
        "\n",
        "maz-1423.mmax"
       ]
      },
      {
       "output_type": "stream",
       "stream": "stdout",
       "text": [
        "\n",
        "Zum Angew\u00f6hnen Die Diskussion , wie teuer [die neue [Wittstocker]_{markable_22} Stadthalle]_{markable_21} //f\u00fcr Vereine und Veranstalter//_{UNMARKED: s525_505} wird , hat //einige Zeit//_{UNMARKED: s525_503} //in Anspruch//_{UNMARKED: s525_504} genommen . Bei der j\u00fcngsten Sitzung haben die Stadtverordneten entschieden . ////Vor allem//_{UNMARKED: s527_500} kommerzielle Veranstalter//_{UNMARKED: s527_503} werden //ab 2002//_{UNMARKED: s527_501} gut //zur Kasse//_{UNMARKED: s527_502} gebeten . Die Einnahmen sind dennoch //nur ein Tropfen //auf den hei\u00dfen Stein//_{UNMARKED: s528_502 s528_501} . Die Betriebskosten [f\u00fcr den schmucken Veranstaltungsort]_{markable_21} sind hoch . Jetzt wird es darum gehen , [die Halle]_{markable_21} so oft wie m\u00f6glich zu f\u00fcllen . //Je mehr Veranstaltungen//_{UNMARKED: s531_502} stattfinden , desto weniger wird der Stadthaushalt belastet . [Die Halle]_{markable_21} muss ausgelastet sein . Und [in der Region]_{markable_22} gibt es Konkurrenz . Auch die Nachbarst\u00e4dte bieten Veranstaltern //gen\u00fcgend Platz//_{UNMARKED: s534_501} . [Wittstock]_{markable_22} dagegen muss sich erst //einen Namen//_{UNMARKED: s535_501} machen . Das Oktoberfest hat gezeigt , dass es //eine Anlaufzeit//_{UNMARKED: s536_501} braucht . Die G\u00e4ste aus nah und fern m\u00fcssen sich erst daran gew\u00f6hnen , nach [Wittstock]_{markable_22} und Richtung Gymnasium zu pilgern . Fest steht , dass [die Dosse-Stadt]_{markable_22} //als Mittelzentrum//_{UNMARKED: s538_500} //ohne einen ansehnlichen Veranstaltungsort //mit ausreichend Platz //f\u00fcrs Publikum//_{UNMARKED: s538_504 s538_501 s538_503} nicht auskommt . Ohne [die Halle]_{markable_21} w\u00fcrde [Wittstock]_{markable_22} bald //ins Hintertreffen//_{UNMARKED: s539_501} geraten . "
       ]
      },
      {
       "output_type": "stream",
       "stream": "stdout",
       "text": [
        "\n",
        "maz-7690.mmax"
       ]
      },
      {
       "output_type": "stream",
       "stream": "stdout",
       "text": [
        "\n",
        "Zur\u00fcck zur Heimatwurst [Schlachtefest - mit diesem Wort]_{markable_70} h\u00e4tte man //vor einem Jahr//_{UNMARKED: s1860_501} [den Schrecken]_{markable_1000175} auf die Gesichter [der Deutschen]_{markable_1000156} getrieben . Damals , als [die Angst vor dem Rinderwahn]_{markable_1000175} //irrationale Z\u00fcge//_{UNMARKED: s1861_501} annahm , h\u00e4tten auch die cleversten Werbestrategen eine Veranstaltung [wie das Schlachtefest]_{markable_70} am Wochenende [in Paaren/Glien]_{markable_1000136} nicht [an den Mann , oder besser , an den Verbraucher]_{markable_1000156} bringen k\u00f6nnen . [Die BSE-Panik]_{markable_1000175} liegt nun l\u00e4nger //als ein Jahr//_{UNMARKED: s1862_501} zur\u00fcck . Fast unmerklich ist das Vertrauen [der Menschen]_{markable_1000156} zur\u00fcckgekehrt , der Absatz von Fleischwaren hat die gewohnten Gr\u00f6\u00dfenordnungen wieder erreicht . Ob dies das Ergebnis einer ver\u00e4nderten Politik ist , darf bezweifelt werden . Vielmehr scheinen [die Verbraucher]_{markable_1000156} zu [ihren]_{markable_1000156} alten , lieben Gewohnheiten zur\u00fcckgekehrt zu sein . //Eines allerdings//_{UNMARKED: s1866_500} scheint sich ge\u00e4ndert zu haben . Die regionalen Produkte haben //an Ansehen//_{UNMARKED: s1867_501} gewonnen . [Das Schlachtefest [in Paaren/Glien]_{markable_1000136}]_{markable_70} st\u00fctzt diese These . [Die Menschen]_{markable_1000156} genie\u00dfen vermehrt //einheimische Produkte//_{UNMARKED: s1869_501} . Statt der plastikverpackten Einheitswurst aus der Supermarkttheke verlangen [sie]_{markable_1000156} ////nach Waren ortsans\u00e4ssiger Fleischer//_{UNMARKED: s1870_503 s1870_503} . Sollte dieser Trend anhalten , dann h\u00e4tte [die ganze BSE-Hysterie]_{markable_1000175} am Ende doch [ihr]_{markable_1000175} Gutes gehabt . \n",
        "maz-8509.mmax"
       ]
      },
      {
       "output_type": "stream",
       "stream": "stdout",
       "text": [
        "\n",
        "Barbies //im Laubsack//_{UNMARKED: s1938_500} [Reste vom Sonntagsbraten , leere Milcht\u00fcten oder die alte Barbiepuppe]_{markable_100090} geh\u00f6ren nicht in den Laubsack . [Das]_{markable_100027} wei\u00df //jedes Kind//_{UNMARKED: s1940_500} , aber //nicht jeder//_{UNMARKED: s1940_501} h\u00e4lt sich [daran]_{markable_100027} . //Alle Jahre wieder//_{UNMARKED: s1941_500} findet sich //in vielen S\u00e4cken//_{UNMARKED: s1941_501} Unrat und //so manche Kuriosit\u00e4t//_{UNMARKED: s1941_503} . [In Nauen]_{markable_1000175} beispielsweise bleibt inzwischen [jeder sechste der j\u00e4hrlich anfallenden 4000 S\u00e4cke]_{markable_100061} an der Stra\u00dfe zur\u00fcck , weil [er]_{markable_100061} //nicht mit Laub //von Stra\u00dfenb\u00e4umen//_{UNMARKED: s1942_504 s1942_507} , sondern //mit Garten- oder Hausabf\u00e4llen//_{UNMARKED: s1942_508} gef\u00fcllt ist . Tendenz steigend . [Immer mehr verantwortungslose Zeitgenossen]_{markable_100085} versuchen , [[ihren]_{markable_100085} M\u00fcll]_{markable_100090} illegal loszuwerden statt [ihn]_{markable_100090} ordnungsgem\u00e4\u00df zu entsorgen . Das wird letztlich alle teuer zu stehen kommen . Denn angesichts des zunehmenden Missbrauchs und leerer Kassen ist es //nur noch eine Frage //der Zeit//_{UNMARKED: s1946_503 s1946_507} , bis die Stadtv\u00e4ter die [f\u00fcr den B\u00fcrger]_{markable_85} kostenlose Laubentsorgung einstellen . //Immerhin rund 26_000 Mark lie\u00dfen sich damit //pro Jahr//_{UNMARKED: s1947_501} einsparen , //Geld , das //an anderen Stellen//_{UNMARKED: s1947_503} dringend ben\u00f6tigt wird//_{UNMARKED: s1947_506 s1947_507} . //Entsorgung //nur noch gegen Vorkasse//_{UNMARKED: s1948_504 s1948_503} , das k\u00f6nnte schon bald Realit\u00e4t werden . Denn //seit Jahren//_{UNMARKED: s1949_500} appelliert [die Stadt]_{markable_1000175} an die Einsicht [[ihrer]_{markable_1000175} B\u00fcrger]_{markable_85} , und //jedes Jahr //aufs Neue//_{UNMARKED: s1949_503 s1949_506} zeigt sich , dass diese Appelle ( bisher ) umsonst sind . "
       ]
      },
      {
       "output_type": "stream",
       "stream": "stdout",
       "text": [
        "\n",
        "maz-4181.mmax"
       ]
      },
      {
       "output_type": "stream",
       "stream": "stdout",
       "text": [
        "\n",
        "[Fingerspitzengef\u00fchl Der]_{markable_33} Euro kommt - schon bald [. Manche]_{markable_48} Gesch\u00e4ftsleute bereiten [sich auf die]_{markable_75} W\u00e4hrungsumstellung vor [.]_{markable_48} Sie besuchen Informationsveranstaltungen , [wie]_{markable_48} sie von der Handwerkskammer veranstaltet werden . Dort [erfahren die]_{markable_48} Dienstleister , [was]_{markable_48} sie erwartet , [wenn]_{markable_48} sie sich nicht [rechtzeitig auf die]_{markable_75} Euroeinf\u00fchrung vorbereiten : Chaos und eventuell das Aus . Denn zu beachten ist - neben der eindeutigen Auszeichnung der Waren - [auch die \" richtige \" Umrechnung von Mark in]_{markable_73} Euro . Der [Umrechnungskurs f\u00fcr den]_{markable_33} Euro steht fest . Daran darf nicht ger\u00fcttelt werden . Auf- und abgerundet wird zwei Stellen hinter dem Komma - //nach kaufm\u00e4nnischem Prinzip//_{UNMARKED: s1478_502} . Dies kann [jedoch bei den]_{markable_48} Gewerbetreibenden //zu Einnahmeverlusten//_{UNMARKED: s1479_501} f\u00fchren . Denn //auch Kleinvieh//_{UNMARKED: s1480_500} macht ja bekanntlich Mist . Gut beraten ist deshalb , wer sich schon [rechtzeitig mit der]_{markable_73} Rechnerei besch\u00e4ftigt . Vielleicht wird ja der abgerundete Bonbonpreis durch den aufgerundeten Schokoladenpreis wieder wettgemacht . //Unbegr\u00fcndete und panische Preiserh\u00f6hungen//_{UNMARKED: s1483_502} vergraulen nur die Kunden . [Doch]_{markable_1000185} wer zu lange wartet , um [sich mit den]_{markable_73} Rechnereien zu besch\u00e4ftigen , [verliert bei der]_{markable_75} Euroumstellung den \u00dcberblick . Und riskiert damit das [Vertrauen]_{markable_1000185} seiner Kunden . \n",
        "maz-14055.mmax"
       ]
      },
      {
       "output_type": "stream",
       "stream": "stderr",
       "text": [
        "Traceback (most recent call last):\n",
        "  File \"<ipython-input-36-de27837c88ea>\", line 11, in <module>\n",
        "    print gen_bracketed_output(mdg)\n",
        "  File \"<ipython-input-31-c182c063225c>\", line 20, in gen_bracketed_output\n",
        "    opening, closing, markable2chain = gen_bracket_mappings(docgraph)\n",
        "  File \"/usr/local/lib/python2.7/dist-packages/discoursegraphs-0.1.2-py2.7.egg/discoursegraphs/readwrite/brackets.py\", line 41, in gen_bracket_mappings\n",
        "    docgraph, docgraph.node[markable][docgraph.ns+':span'])\n",
        "KeyError: 'mmax:span'\n",
        "Traceback (most recent call last):\n",
        "  File \"<ipython-input-36-de27837c88ea>\", line 11, in <module>\n",
        "    print gen_bracketed_output(mdg)\n",
        "  File \"<ipython-input-31-c182c063225c>\", line 20, in gen_bracketed_output\n",
        "    opening, closing, markable2chain = gen_bracket_mappings(docgraph)\n",
        "  File \"/usr/local/lib/python2.7/dist-packages/discoursegraphs-0.1.2-py2.7.egg/discoursegraphs/readwrite/brackets.py\", line 41, in gen_bracket_mappings\n",
        "    docgraph, docgraph.node[markable][docgraph.ns+':span'])\n",
        "KeyError: 'mmax:span'\n"
       ]
      },
      {
       "output_type": "stream",
       "stream": "stdout",
       "text": [
        "\n",
        "maz-11766.mmax"
       ]
      },
      {
       "output_type": "stream",
       "stream": "stdout",
       "text": [
        "\n",
        "F\u00fcllhorn Vergeblich hat [der Noch-Finanzbeigeordnete Hans-Joachim Bosse]_{markable_1000181} den Stadtverordneten bei der Einbringung des Haushalts 2002 ins Gewissen geredet . Zwar machten [die Haushaltspolitiker der SPD]_{markable_100027} im Vorfeld [ihrer]_{markable_100027} Wochenendklausur //gro\u00dfe Welle//_{UNMARKED: s238_502} ////mit Horrorlisten m\u00f6glicher Sparpositionen//_{UNMARKED: s238_506 s238_506} . //Am Ende aber//_{UNMARKED: s239_500} bleibt alles //beim Alten//_{UNMARKED: s239_501} : Dass [Millionen]_{markable_100052} fehlen , hindert nicht daran , [sie]_{markable_100052} zu verteilen . [Bosse]_{markable_1000181} hatte empfohlen , [auf den teuren Theaterneubau]_{markable_44} zu verzichten . Doch der Versuch , [das Projekt]_{markable_44} sterben zu lassen , h\u00e4tte angesichts der d\u00fcnnen SPD-CDU-Mehrheit im Desaster geendet . Also bekannte man sich lieber einm\u00fctig [zu dem Vorhaben]_{markable_44} . Wie bei der Kammerakademie soll die Verwaltung hier und da //ein bisschen//_{UNMARKED: s244_503} umschichten , nirgendwo darf es richtig weh tut . Das F\u00fcllhorn schlie\u00dflich sch\u00fcttet man //\u00fcber Kitas und Schulen//_{UNMARKED: s245_502} aus . Dank der Kooperationsvereinbarung [mit der CDU]_{markable_1000136} hat man [deren]_{markable_1000136} Zustimmung schon //in der Tasche//_{UNMARKED: s246_502} . Die PDS wird nichts dagegen haben . Um die sicher notwendigen Investitionen t\u00e4tigen zu k\u00f6nnen , bleibt aber am Ende wieder nur der Verkauf von Tafelsilber . Dieses Problem und das Haushaltsloch werden nicht verschwinden , wenn man [Bosse]_{markable_1000181} //in die W\u00fcste//_{UNMARKED: s249_502} geschickt hat . "
       ]
      },
      {
       "output_type": "stream",
       "stream": "stdout",
       "text": [
        "\n",
        "maz-10503.mmax"
       ]
      },
      {
       "output_type": "stream",
       "stream": "stdout",
       "text": [
        "\n",
        "maz-13125.mmax"
       ]
      },
      {
       "output_type": "stream",
       "stream": "stdout",
       "text": [
        "\n",
        "Die Wahrheit [[Der Reichstagsbrand im Jahre 1933]_{markable_14} und [der Krieg [in Afghanistan]_{markable_32}]_{markable_40} - sie]_{markable_25} scheinen auf den ersten Blick nichts miteinander zu tun zu haben . Mancher mag gar erbost dar\u00fcber sein , [die Ereignisse]_{markable_14} //in einem Atemzuge//_{UNMARKED: s385_501} zu lesen . Und doch : Was den Leuten damals [\u00fcber den Reichstagsbrand]_{markable_25} erz\u00e4hlt wurde , war L\u00fcge . K\u00f6nnen [wir]_{markable_85} denn alles glauben , was [uns]_{markable_85} heute [\u00fcber den Kampf gegen den Terrorismus [in dem asisatischen Land]_{markable_32}]_{markable_40} gesagt wird ? [Dieser Krieg]_{markable_40} entzieht sich //selbst Medienbeobachtern//_{UNMARKED: s388_501} weitgehend . [Was man nicht durch Augenschein nachpr\u00fcfen kann]_{markable_1000105} , ist manipulierbar . [Es]_{markable_1000105} kann so dargestellt werden , dass [es]_{markable_1000105} den Interessen [der Machthaber]_{markable_1000186} nutzt . Die Botschaft der Autoren des am Samstag in Zossen aufgef\u00fchrten St\u00fccks \" Eines Tages m\u00fcssen wir die Wahrheit sagen \" ist \u00fcbertragbar auf die Gegenwart : \" Seid sensibler und aufmerksamer , denn wir k\u00f6nnen nicht sicher sein ... \" Nein , [wir]_{markable_85} k\u00f6nnen nicht sicher sein , dass man [uns]_{markable_85} die Wahrheit sagt . [Wir]_{markable_85} k\u00f6nnen nicht sicher sein , dass [[unsere]_{markable_85} Regierung]_{markable_1000199} im Sinne [des Volkes]_{markable_85} handelt , auch wenn [der Kanzler]_{markable_1000199} [Amerika gegen\u00fcber]_{markable_1000186} die uneingeschr\u00e4nkte Solidarit\u00e4t Deutschlands erkl\u00e4rt hat . In meinem Namen sprach [er]_{markable_1000199} jedenfalls nicht . "
       ]
      },
      {
       "output_type": "stream",
       "stream": "stdout",
       "text": [
        "\n",
        "maz-5297.mmax"
       ]
      },
      {
       "output_type": "stream",
       "stream": "stderr",
       "text": [
        "Traceback (most recent call last):\n",
        "  File \"<ipython-input-36-de27837c88ea>\", line 11, in <module>\n",
        "    print gen_bracketed_output(mdg)\n",
        "  File \"<ipython-input-31-c182c063225c>\", line 20, in gen_bracketed_output\n",
        "    opening, closing, markable2chain = gen_bracket_mappings(docgraph)\n",
        "  File \"/usr/local/lib/python2.7/dist-packages/discoursegraphs-0.1.2-py2.7.egg/discoursegraphs/readwrite/brackets.py\", line 41, in gen_bracket_mappings\n",
        "    docgraph, docgraph.node[markable][docgraph.ns+':span'])\n",
        "KeyError: 'mmax:span'\n",
        "Traceback (most recent call last):\n",
        "  File \"<ipython-input-36-de27837c88ea>\", line 11, in <module>\n",
        "    print gen_bracketed_output(mdg)\n",
        "  File \"<ipython-input-31-c182c063225c>\", line 20, in gen_bracketed_output\n",
        "    opening, closing, markable2chain = gen_bracket_mappings(docgraph)\n",
        "  File \"/usr/local/lib/python2.7/dist-packages/discoursegraphs-0.1.2-py2.7.egg/discoursegraphs/readwrite/brackets.py\", line 41, in gen_bracket_mappings\n",
        "    docgraph, docgraph.node[markable][docgraph.ns+':span'])\n",
        "KeyError: 'mmax:span'\n"
       ]
      },
      {
       "output_type": "stream",
       "stream": "stdout",
       "text": [
        "\n",
        "maz-13015.mmax"
       ]
      },
      {
       "output_type": "stream",
       "stream": "stdout",
       "text": [
        "\n",
        "Gigantischer Coup Auch wenn unklar ist , //welchen Preis//_{UNMARKED: s372_500} [Rosco]_{markable_100015} daf\u00fcr haben will , dass [er]_{markable_100015} [[sein]_{markable_100015} st\u00e4rkstes Faustpfand - das Loch]_{markable_86} - //aus der Hand//_{UNMARKED: s372_502} gibt : Der Coup , den [die CDU-OB-Kandidatin Dietlind Tiemann]_{markable_1000121} [mit dem Verf\u00fcllen [des Neust\u00e4dtischen Marktes]_{markable_86}]_{markable_65} landet , ist //ein gigantischer//_{UNMARKED: s373_502} . Nichts l\u00e4sst die Volksseele lauter aufschreien als [das Trauerspiel \" Loch \" , dieses Sinnbild f\u00fcr Ignoranz , Unf\u00e4higkeit und Inkompetenz]_{markable_88} . Wer [das Problem]_{markable_88} nach einem halben Jahrzehnt des Stillstands //durch entschlossenes Handeln//_{UNMARKED: s375_502} l\u00f6st , hat //gute Chancen , //als Oberb\u00fcrgermeister//_{UNMARKED: s375_503} akzeptiert zu werden//_{UNMARKED: s375_509} . Denn verschwindet [das Loch]_{markable_86} wirklich , verschwindet auch der Selbsthass , mit dem sich [die Brandenburger]_{markable_1000117} [ob [ihrer]_{markable_1000117} h\u00e4sslichen Mitte]_{markable_86} gei\u00dfeln und wegen dem [sie]_{markable_1000117} sich sch\u00e4men . [[Tiemanns]_{markable_65} Initiative]_{markable_1000121} setzt jetzt [die SPD]_{markable_1000139} [unter unglaublichen Druck]_{markable_1000135} . Was hat [die SPD]_{markable_1000139} [dem]_{markable_1000135} entgegenzusetzen ? Soll [sie]_{markable_1000139} versuchen , \u00fcber die SPD-dominierte Verwaltung [das Verf\u00fcllen]_{markable_65} zu behindern und so den Termin zu kippen ? Oder //am Ende//_{UNMARKED: s380_500} helfen ? [Der SPD-OB-Kandidat Helmut Schmidt]_{markable_1000192} hat angek\u00fcndigt , [er]_{markable_1000192} wolle [das Problem [Neustadt Markt]_{markable_86}]_{markable_88} \" entschlossen und //ohne Get\u00f6se//_{UNMARKED: s381_502} \" //ab Mai 2002//_{UNMARKED: s381_503} //als Chefsache//_{UNMARKED: s381_504} //in die H\u00e4nde//_{UNMARKED: s381_505} nehmen , falls [er]_{markable_1000192} OB wird . Wenn der Zeitpunkt in einem halben Jahr mal nicht zu sp\u00e4t gew\u00e4hlt ist ... "
       ]
      },
      {
       "output_type": "stream",
       "stream": "stdout",
       "text": [
        "\n",
        "maz-13946.mmax"
       ]
      },
      {
       "output_type": "stream",
       "stream": "stdout",
       "text": [
        "\n",
        "Notsignale [Die Oranienburger Mittelstadt]_{markable_81} kann sich gl\u00fccklich sch\u00e4tzen , dass [sie]_{markable_81} zu den 15 ausgew\u00e4hlten Stadtteilen im Land Brandenburg geh\u00f6rt , die in den n\u00e4chsten f\u00fcnf Jahren [vom 220 Millionen Mark schweren EU-F\u00f6rderprogramm \" Zukunft im Stadtteil \" ( ZiS]_{markable_1000168} ) profitieren werden . Eine erste Bestandsaufnahme der Situation [in der Mittelstadt]_{markable_81} brachte nun //ein \u00fcberraschend negatives Bild//_{UNMARKED: s457_503} . Bisher wurde [ihr]_{markable_81} Zustand zwar //als nicht unproblematisch//_{UNMARKED: s458_504} eingesch\u00e4tzt , einen Vergleich mit schwer gebeutelten Neubaugebieten , wie etwa Velten-S\u00fcd , h\u00e4tten Kommunalpolitiker aber abgelehnt . //Eine B\u00fcrgerbefragung//_{UNMARKED: s459_500} ergab jedoch , dass mehr als die H\u00e4lfte [der Bewohner [der Mittelstadt]_{markable_81}]_{markable_82} schon \u00fcber den Wegzug nachgedacht hat . //Eine bedeutende Minderheit//_{UNMARKED: s460_500} sch\u00e4tzt die Wohnqualit\u00e4t //als \" schlecht \" oder \" sehr schlecht//_{UNMARKED: s460_504} \" ein . Als deutliches Zeichen f\u00fcr den beginnenen Abstieg wird [der Einbau von Sperrgittern an Durchg\u00e4ngen zu Wohnanlagen gewertet . Einwohner sprechen von st\u00e4ndigem Vandalismus im Umfeld der Schulen]_{markable_70} . Dass es [nach den Notsignalen]_{markable_70} wieder Zeichen der Hoffnung gibt , daf\u00fcr k\u00f6nnte [das ZiS-Programm]_{markable_1000168} sorgen . [Das]_{markable_1000168} aber wird ohne ein Mitwirken [der Mieter und Vermieter [in der Mittelstadt]_{markable_81}]_{markable_82} nicht funktionieren . "
       ]
      },
      {
       "output_type": "stream",
       "stream": "stdout",
       "text": [
        "\n",
        "maz-11544.mmax"
       ]
      },
      {
       "output_type": "stream",
       "stream": "stdout",
       "text": [
        "\n",
        "maz-5932.mmax"
       ]
      },
      {
       "output_type": "stream",
       "stream": "stdout",
       "text": [
        "\n",
        "Das kleinere \u00dcbel Es hat lange gedauert , bis sich im Bereich des Amtes Dahme etwas bewegt hat . Die zahlreichen Appelle , die in der Landeshauptstadt Potsdam formuliert wurden , verhallten in der Provinz meist ohne Wirkung zu zeigen . Die lokalen Akteure legten bei der Bildung gr\u00f6\u00dferer Gemeinden wahrlich //keine Eile//_{UNMARKED: s1703_502} //an den Tag//_{UNMARKED: s1703_503} . Hauptgrund f\u00fcr dieses Zaudern : Die als hoch verschuldet geltende Stadt Dahme erschien den umliegenden D\u00f6rfern //kein geeigneter Partner//_{UNMARKED: s1704_503} zu sein . Mittlerweile haben sich indes auch in der Dahmer Region //neue politische Strukturen//_{UNMARKED: s1705_501} manifestiert . //Beschlossene Sache//_{UNMARKED: s1706_500} ist die Fusion von Ihlow , Illmersdorf , Rietdorf , Niendorf , Bollensdorf und Mehlsdorf [zu Gro\u00df-Ihlow]_{markable_49} . [Dieses neue Gebilde]_{markable_49} ist sowohl von den B\u00fcrgern als auch durch den Kreistag legitimiert . Was [die anderen gr\u00f6\u00dferen Gemeinden]_{markable_1000176} betrifft , so wird sich beim Urnengang am n\u00e4chsten Sonntag erweisen , ob [sie]_{markable_1000176} dem Willen der Einwohner entsprechen . //Gro\u00dfe \u00c4mter und Gemeinden//_{UNMARKED: s1709_502} sind sicherlich nicht ////der Weisheit//_{UNMARKED: s1709_501} letzter Schluss//_{UNMARKED: s1709_503} . Im Vergleich zur bislang praktizierten Kleinstaaterei im l\u00e4ndlich gepr\u00e4gten S\u00fcden des Kreisgebietes sind [sie]_{markable_1000176} jedoch das kleinere \u00dcbel . "
       ]
      },
      {
       "output_type": "stream",
       "stream": "stdout",
       "text": [
        "\n",
        "maz-4794.mmax"
       ]
      },
      {
       "output_type": "stream",
       "stream": "stderr",
       "text": [
        "Traceback (most recent call last):\n",
        "  File \"<ipython-input-36-de27837c88ea>\", line 11, in <module>\n",
        "    print gen_bracketed_output(mdg)\n",
        "  File \"<ipython-input-31-c182c063225c>\", line 20, in gen_bracketed_output\n",
        "    opening, closing, markable2chain = gen_bracket_mappings(docgraph)\n",
        "  File \"/usr/local/lib/python2.7/dist-packages/discoursegraphs-0.1.2-py2.7.egg/discoursegraphs/readwrite/brackets.py\", line 41, in gen_bracket_mappings\n",
        "    docgraph, docgraph.node[markable][docgraph.ns+':span'])\n",
        "KeyError: 'mmax:span'\n",
        "Traceback (most recent call last):\n",
        "  File \"<ipython-input-36-de27837c88ea>\", line 11, in <module>\n",
        "    print gen_bracketed_output(mdg)\n",
        "  File \"<ipython-input-31-c182c063225c>\", line 20, in gen_bracketed_output\n",
        "    opening, closing, markable2chain = gen_bracket_mappings(docgraph)\n",
        "  File \"/usr/local/lib/python2.7/dist-packages/discoursegraphs-0.1.2-py2.7.egg/discoursegraphs/readwrite/brackets.py\", line 41, in gen_bracket_mappings\n",
        "    docgraph, docgraph.node[markable][docgraph.ns+':span'])\n",
        "KeyError: 'mmax:span'\n"
       ]
      },
      {
       "output_type": "stream",
       "stream": "stdout",
       "text": [
        "\n",
        "maz-16250.mmax"
       ]
      },
      {
       "output_type": "stream",
       "stream": "stdout",
       "text": [
        "\n",
        "Wie Bl\u00fccher Angriff ist die beste Verteidigung . Wer w\u00fcsste das besser als [die Strategen von der Bundeswehr]_{markable_78} . In Sachen [Bombodrom]_{markable_29} orientieren sich [die Milit\u00e4rs]_{markable_78} jedenfalls ungeniert am Vorbild des alten \" Marschalls Vorw\u00e4rts \" namens Bl\u00fccher . Denn eines der Hauptargumente [der Schie\u00dfplatz-Gegner]_{markable_100052} - die Gefahr [f\u00fcr den Tourismus]_{markable_30} - wollen [sie]_{markable_100052} //mit einem Frontalangriff//_{UNMARKED: s814_502} //aus dem Weg//_{UNMARKED: s814_503} r\u00e4umen . So hei\u00dft es //in einem Bundeswehr-Papier//_{UNMARKED: s815_500} knapp , dass [das Bombodrom]_{markable_29} \" keine relevanten Auswirkungen \" [auf den Tourismus]_{markable_30} haben wird . Problem erledigt . - Das ist schon dreist . Nun k\u00f6nnte man //ein halbes St\u00fcndchen//_{UNMARKED: s818_500} lang mutma\u00dfen , wo [die Milit\u00e4rs]_{markable_78} denn so Urlaub machen . Doch werden sich Zivilisten und Uniformtr\u00e4ger dabei nicht wirklich unterscheiden . //Zwei Wochen //mit Halbpension//_{UNMARKED: s820_504 s820_500} //unter einer Autobahnbr\u00fccke//_{UNMARKED: s820_501} , //neben einem Flugplatz//_{UNMARKED: s820_502} , //inmitten einer Techno-Disko//_{UNMARKED: s820_503} ? Nein , das tut sich niemand an . Namentlich nicht [die Leute , die in der N\u00e4he von Berlin Ruhe und Natur suchen]_{markable_1000160} . [Die]_{markable_1000160} werden nicht //wegen spektakul\u00e4rer Tieffl\u00fcge//_{UNMARKED: s823_500} an den Ruppiner See oder zum Rheinsberger Schloss str\u00f6men . Insofern wird wieder mal deutlich , dass [die Bundeswehr]_{markable_78} [die Region mit [ihren]_{markable_1000192} Sorgen und mit [ihren]_{markable_1000192} Chancen]_{markable_1000192} \u00fcberhaupt nicht ernst nimmt . "
       ]
      },
      {
       "output_type": "stream",
       "stream": "stdout",
       "text": [
        "\n",
        "maz-4959.mmax"
       ]
      },
      {
       "output_type": "stream",
       "stream": "stdout",
       "text": [
        "\n",
        "maz-3080.mmax"
       ]
      },
      {
       "output_type": "stream",
       "stream": "stdout",
       "text": [
        "\n",
        "Falsche Bilder Das Zusammenleben von Ausl\u00e4ndern und Deutschen hier [in Brandenburg]_{markable_100052} , wo der Anteil der Menschen aus anderen L\u00e4ndern verschwindend gering ist , war auch [vor dem 11. September 2001]_{markable_30} nicht //ohne Probleme//_{UNMARKED: s1368_504} . Im Gegenteil . Wer etwa in den alten Bundesl\u00e4ndern unterwegs war , der musste erleben , dass \" [Brandenburg]_{markable_100052} \" und \" Ausl\u00e4nderfeindlichkeit \" oft //als Synonyme//_{UNMARKED: s1370_502} betrachtet wurden - durchaus //kein angenehmer Zustand//_{UNMARKED: s1370_503} . [Nach den Anschl\u00e4gen in Amerika]_{markable_30} wurde dieser Zustand leider noch versch\u00e4rft . Denn inzwischen hatte sich [der wachsame Deutsche]_{markable_100091} bekanntlich im Kopf [[sein]_{markable_100091} eigenes Bild des islamistischen K\u00e4mpfers]_{markable_41} zurechtgelegt . Und wehe dem , der [diesem Bild]_{markable_41} //auch nur im entferntesten//_{UNMARKED: s1373_501} \u00e4hnelte ... Es schien , als sei das Bem\u00fchen um ein friedliches Miteinandern //um Jahre//_{UNMARKED: s1374_501} zur\u00fcckgeworfen worden . Es schien , als h\u00e4tten diejenigen verspielt , die das Multikulturelle gesellschaftsf\u00e4hig machen wollten . Gut , dass inzwischen wieder l\u00e4nger nachgedacht wird . Gut , dass Veranstaltungen wie die Interkulturelle Woche in Ludwigsfelde weitergef\u00fchrt und als Forum der Verst\u00e4ndigung f\u00fcr Deutsche und Ausl\u00e4nder genutzt werden . Denn nur so , //mit Beharrlichkeit//_{UNMARKED: s1378_500} , werden //falsche Bilder//_{UNMARKED: s1378_501} in den K\u00f6pfen zurechtger\u00fcckt . "
       ]
      },
      {
       "output_type": "stream",
       "stream": "stdout",
       "text": [
        "\n",
        "maz-17300.mmax"
       ]
      },
      {
       "output_type": "stream",
       "stream": "stderr",
       "text": [
        "Traceback (most recent call last):\n",
        "  File \"<ipython-input-36-de27837c88ea>\", line 11, in <module>\n",
        "    print gen_bracketed_output(mdg)\n",
        "  File \"<ipython-input-31-c182c063225c>\", line 20, in gen_bracketed_output\n",
        "    opening, closing, markable2chain = gen_bracket_mappings(docgraph)\n",
        "  File \"/usr/local/lib/python2.7/dist-packages/discoursegraphs-0.1.2-py2.7.egg/discoursegraphs/readwrite/brackets.py\", line 41, in gen_bracket_mappings\n",
        "    docgraph, docgraph.node[markable][docgraph.ns+':span'])\n",
        "KeyError: 'mmax:span'\n",
        "Traceback (most recent call last):\n",
        "  File \"<ipython-input-36-de27837c88ea>\", line 11, in <module>\n",
        "    print gen_bracketed_output(mdg)\n",
        "  File \"<ipython-input-31-c182c063225c>\", line 20, in gen_bracketed_output\n",
        "    opening, closing, markable2chain = gen_bracket_mappings(docgraph)\n",
        "  File \"/usr/local/lib/python2.7/dist-packages/discoursegraphs-0.1.2-py2.7.egg/discoursegraphs/readwrite/brackets.py\", line 41, in gen_bracket_mappings\n",
        "    docgraph, docgraph.node[markable][docgraph.ns+':span'])\n",
        "KeyError: 'mmax:span'\n"
       ]
      },
      {
       "output_type": "stream",
       "stream": "stdout",
       "text": [
        "\n",
        "maz-9650.mmax"
       ]
      },
      {
       "output_type": "stream",
       "stream": "stdout",
       "text": [
        "\n",
        "maz-6488.mmax"
       ]
      },
      {
       "output_type": "stream",
       "stream": "stdout",
       "text": [
        "\n",
        "Da fehlt noch was Als 1999 die im Rahmen der Dorferneuerung neu gestaltete [Radeweger]_{markable_46} Ablage inklusive Seebr\u00fccke //mit viel Pomp//_{UNMARKED: s1769_502} eingeweiht wurde , war klar : Da fehlt noch was . Wer die Infrastruktur f\u00fcr den Wassertourismus vorantreiben will , darf nicht nur bis zum n\u00e4chsten Steg denken . //Sanit\u00e4re Anlagen//_{UNMARKED: s1772_500} geh\u00f6ren heute zum Standard gro\u00dfer Liegepl\u00e4tze . Doch [mit der Nachr\u00fcstung]_{markable_32} tut sich [Radewege]_{markable_46} schwer . Was einst beschlossen wurde , z\u00e4hlt nicht mehr . Zu teuer , zu h\u00e4sslich sei [die Anlage]_{markable_32} , sagen die Meinungsf\u00fchrer im Gemeinderat . Beschl\u00fcsse zu \u00fcberdenken ist legitim , doch //nur von Alternativen//_{UNMARKED: s1776_501} zu reden , ohne //brauchbare Vorschl\u00e4ge//_{UNMARKED: s1776_503} //auf den Tisch//_{UNMARKED: s1776_504} zu legen , ist zu billig . [Ein multifunktionales Objekt mit Umkleide- und Treffm\u00f6glichkeiten als angeblich bessere Variante]_{markable_36} ist bisher nicht mehr als [eine fiktive Idee]_{markable_36} geblieben . Und ob [[diese]_{markable_36}]_{markable_36} billiger wird , steht //auf einem anderen Blatt//_{UNMARKED: s1778_501} . Au\u00dferdem hat [Radewege]_{markable_46} mit dem nicht weit entfernten Haus des Beetzseetreffs e. V. //ein Geb\u00e4ude , das //vielen Freizeitbed\u00fcrfnissen//_{UNMARKED: s1779_502} gerecht werden kann//_{UNMARKED: s1779_511} . Kommt der Sanit\u00e4rtrakt nicht sp\u00e4testens zur n\u00e4chsten Saison , droht [Radewege]_{markable_46} , den Wettbewerb um Freizeitkapit\u00e4ne auf dem Beetzsee mit anderen Anbietern zu verlieren . Dabei h\u00e4tte [das Dorf]_{markable_46} //jede Einnahme//_{UNMARKED: s1781_501} n\u00f6tig . "
       ]
      },
      {
       "output_type": "stream",
       "stream": "stdout",
       "text": [
        "\n",
        "maz-7053.mmax"
       ]
      },
      {
       "output_type": "stream",
       "stream": "stdout",
       "text": [
        "\n",
        "Unangenehm aber fair [Im L\u00f6wenberger Land]_{markable_38} steht [eine \u00c4nderung der Kita-\u00d6ffnungszeiten]_{markable_100014} bevor . Die Verwaltung reagiert [damit]_{markable_100014} [auf eine Analyse , die sich vor allem mit der Anzahl betreuter Kinder zu den verschiedenen Tageszeiten besch\u00e4ftigt]_{markable_48} . Wer hinter den neuen Betreuungszeiten Sparabsichten vermutet , liegt richtig . Bekanntlich sitzt der Landesregierung beim Thema Kinderbetreuung der Rotstift nach wie vor viel zu locker . Mit den Folgen m\u00fcssen sich die Verwaltungen vor Ort herumplagen . Unpopul\u00e4re Entscheidungen , die bis zur Schlie\u00dfung f\u00fchren , sind [die Folge]_{markable_100085} . [Davon]_{markable_100085} wissen [auch die L\u00f6wenberger]_{markable_38} ein trauriges Lied zu singen . [Die eingangs erw\u00e4hnte Analyse]_{markable_48} ist der Versuch , auf weniger Geld f\u00fcr Kinderbetreuung m\u00f6glichst objektiv zu reagieren . Nunmehr soll [eine Kita]_{markable_68} \u00f6ffnen , wenn [zwischen zehn und 15 Prozent]_{markable_69} ( schon [diese Spanne]_{markable_69} ist //ein Zugest\u00e4ndnis//_{UNMARKED: s1833_503} ) der insgesamt betreuten M\u00e4dchen und Jungen [in der Einrichtung]_{markable_68} sind . [Die Einrichtung]_{markable_68} schlie\u00dft , werden [die Zahlen]_{markable_69} unterschritten . Aus demokratischer Sicht ( die Mehrheit entscheidet ) und //auch unter wirtschaftlichem Aspekt ( woher nehmen und nicht stehlen//_{UNMARKED: s1835_508} ? ) eine faire Entscheidung , die zudem //bei ver\u00e4nderten Kinderzahlen//_{UNMARKED: s1835_503} jederzeit korrigierbar ist . "
       ]
      },
      {
       "output_type": "stream",
       "stream": "stdout",
       "text": [
        "\n",
        "maz-5701.mmax"
       ]
      },
      {
       "output_type": "stream",
       "stream": "stdout",
       "text": [
        "\n",
        "Am Boden Die Nachrichtenlage ist unsicher . //Aus taktischen Gr\u00fcnden//_{UNMARKED: s1644_500} und um ihre Soldaten zu sch\u00fctzen , \u00e4u\u00dfern sich die USA nicht zu Berichten \u00fcber den Beginn der Boden-Operation in Afghanistan . Experten gehen jedoch davon aus , dass Spezialkr\u00e4fte l\u00e4ngst am Hindukusch aktiv sind . Gest\u00fctzt wird diese These durch Angriffe auf Ziele in den afghanischen Bergen , die wohl nur durch Aufkl\u00e4rung am Boden zu treffen waren . Auch erscheint nach dem Erringen der Lufthoheit \u00fcber dem verw\u00fcsteten Land //weiter andauerndes Bombardement//_{UNMARKED: s1647_503} kaum sinnvoll . Dass der Beginn von begrenzten Boden-Operationen im Westen vielerorts erwartet wird , hat aber //auch andere Ursachen//_{UNMARKED: s1648_505} : Es w\u00e4re ein Zeichen daf\u00fcr , dass der Zerst\u00f6rung gegnerischer Einrichtungen nun ein gezielter Einsatz gegen die Terror-Netzwerke folgt . Denn eines ist klar : Die Milit\u00e4rschl\u00e4ge der USA verlieren ////mit jedem Tag weiteren Bombardements//_{UNMARKED: s1651_504 s1651_504} schleichend //an Glaubw\u00fcrdigkeit//_{UNMARKED: s1651_502} . //Mit fl\u00e4chenhafter Zerst\u00f6rung//_{UNMARKED: s1652_500} sind weder die Taliban noch bin Laden zu treffen . Sollte der Luftkrieg //als blo\u00dfe Drohkulisse//_{UNMARKED: s1653_501} gedacht gewesen sein , verl\u00f6re er sp\u00e4testens mit dem einsetzenden Winter und der unausbleiblichen humanit\u00e4ren Katastrophe seine Legitimation . Und die USA ihren R\u00fcckhalt in Westeuropa . "
       ]
      },
      {
       "output_type": "stream",
       "stream": "stdout",
       "text": [
        "\n",
        "maz-6539.mmax"
       ]
      },
      {
       "output_type": "stream",
       "stream": "stderr",
       "text": [
        "Traceback (most recent call last):\n",
        "  File \"<ipython-input-36-de27837c88ea>\", line 11, in <module>\n",
        "    print gen_bracketed_output(mdg)\n",
        "  File \"<ipython-input-31-c182c063225c>\", line 20, in gen_bracketed_output\n",
        "    opening, closing, markable2chain = gen_bracket_mappings(docgraph)\n",
        "  File \"/usr/local/lib/python2.7/dist-packages/discoursegraphs-0.1.2-py2.7.egg/discoursegraphs/readwrite/brackets.py\", line 41, in gen_bracket_mappings\n",
        "    docgraph, docgraph.node[markable][docgraph.ns+':span'])\n",
        "KeyError: 'mmax:span'\n",
        "Traceback (most recent call last):\n",
        "  File \"<ipython-input-36-de27837c88ea>\", line 11, in <module>\n",
        "    print gen_bracketed_output(mdg)\n",
        "  File \"<ipython-input-31-c182c063225c>\", line 20, in gen_bracketed_output\n",
        "    opening, closing, markable2chain = gen_bracket_mappings(docgraph)\n",
        "  File \"/usr/local/lib/python2.7/dist-packages/discoursegraphs-0.1.2-py2.7.egg/discoursegraphs/readwrite/brackets.py\", line 41, in gen_bracket_mappings\n",
        "    docgraph, docgraph.node[markable][docgraph.ns+':span'])\n",
        "KeyError: 'mmax:span'\n"
       ]
      },
      {
       "output_type": "stream",
       "stream": "stdout",
       "text": [
        "\n",
        "maz-16353.mmax"
       ]
      },
      {
       "output_type": "stream",
       "stream": "stdout",
       "text": [
        "\n",
        "maz-11280.mmax"
       ]
      },
      {
       "output_type": "stream",
       "stream": "stdout",
       "text": [
        "\n",
        "Kurzsichtig [Containerpl\u00e4tze]_{markable_10008} sind zweckm\u00e4\u00dfig , doch leider funktionieren [sie]_{markable_10008} nicht so richtig . Das ist //bei anderen Einrichtungen auch der Fall , die //auf Selbstdisziplin und B\u00fcrgersinn//_{UNMARKED: s144_502} bauen//_{UNMARKED: s144_504} . [Viele Menschen]_{markable_100036} schaffen es n\u00e4mlich nicht , [[ihren]_{markable_100036} M\u00fcll]_{markable_40} korrekt in die doch einfach gekennzeichneten Beh\u00e4lter zu werfen . So gehen Kunststoff und Glas oft durcheinander , auch bei der Farbunterscheidung von Flaschen haben [einige Zeitgenossen]_{markable_100066} offensichtlich [ihre]_{markable_100066} Probleme . [Die Rethmann-Mitarbeiter]_{markable_50} haben //sogar schon Teppiche//_{UNMARKED: s147_501} aus dem Papiercontainer gezogen . Egal , ob nun mutwillig oder //aus Unwissenheit//_{UNMARKED: s148_500} - ersteres ist moralisch sicherlich verwerflicher - rund die H\u00e4lfte [der Abf\u00e4lle]_{markable_40} ger\u00e4t in den falschen Kreislauf . Da ist es nur logisch , dass [die Rethm\u00e4nner]_{markable_50} jetzt so nach und nach das Sammelsystem umstellen . //Schmuddelige Containerpl\u00e4tze//_{UNMARKED: s150_500} sollen so bald der Vergangenheit angeh\u00f6ren . Unverst\u00e4ndlich ist deshalb die mit 37 Prozent doch recht hohe Anzahl [der B\u00fcrger vom G\u00f6rden]_{markable_1000164} , sich dem neuen System - gelbe S\u00e4cke und Papiertonnen - zu versagen . [Sie]_{markable_1000164} sollten [ihre]_{markable_1000164} Entscheidung noch einmal \u00fcberdenken , denn neben dem Effekt , dass die Schmuddelecken verschwinden , ist der Weg mit dem gelben Sack vor die Haust\u00fcr k\u00fcrzer als die Fahrt zum Container . "
       ]
      },
      {
       "output_type": "stream",
       "stream": "stdout",
       "text": [
        "\n",
        "maz-14172.mmax"
       ]
      },
      {
       "output_type": "stream",
       "stream": "stderr",
       "text": [
        "Traceback (most recent call last):\n",
        "  File \"<ipython-input-36-de27837c88ea>\", line 11, in <module>\n",
        "    print gen_bracketed_output(mdg)\n",
        "  File \"<ipython-input-31-c182c063225c>\", line 20, in gen_bracketed_output\n",
        "    opening, closing, markable2chain = gen_bracket_mappings(docgraph)\n",
        "  File \"/usr/local/lib/python2.7/dist-packages/discoursegraphs-0.1.2-py2.7.egg/discoursegraphs/readwrite/brackets.py\", line 41, in gen_bracket_mappings\n",
        "    docgraph, docgraph.node[markable][docgraph.ns+':span'])\n",
        "KeyError: 'mmax:span'\n",
        "Traceback (most recent call last):\n",
        "  File \"<ipython-input-36-de27837c88ea>\", line 11, in <module>\n",
        "    print gen_bracketed_output(mdg)\n",
        "  File \"<ipython-input-31-c182c063225c>\", line 20, in gen_bracketed_output\n",
        "    opening, closing, markable2chain = gen_bracket_mappings(docgraph)\n",
        "  File \"/usr/local/lib/python2.7/dist-packages/discoursegraphs-0.1.2-py2.7.egg/discoursegraphs/readwrite/brackets.py\", line 41, in gen_bracket_mappings\n",
        "    docgraph, docgraph.node[markable][docgraph.ns+':span'])\n",
        "KeyError: 'mmax:span'\n"
       ]
      },
      {
       "output_type": "stream",
       "stream": "stdout",
       "text": [
        "\n",
        "maz-9725.mmax"
       ]
      },
      {
       "output_type": "stream",
       "stream": "stdout",
       "text": [
        "\n",
        "Ernstfall [Der rot-gr\u00fcnen Koalition]_{markable_59} steht //eine Zerrei\u00dfprobe//_{UNMARKED: s2104_501} bevor : [Rund 15 gr\u00fcne Bundestagsabgeordnete]_{markable_100018} haben erhebliche Zweifel , ob [sie]_{markable_100018} der Bereitstellung von Bundeswehrsoldaten f\u00fcr den Anti-Terror-Kampf zustimmen k\u00f6nnen . Da es auch in der SPD Abweichler gibt , ist die eigene Mehrheit [der Koalition]_{markable_59} gef\u00e4hrdet . Es ist offensichtlich , dass dieser Bundeswehr-Einsatz [bei vielen Gr\u00fcnen]_{markable_100059} an die Wurzeln [ihrer]_{markable_100059} Identit\u00e4t r\u00fchrt . Konnte der Kosovo-Krieg noch mit dem Kampf f\u00fcr die Menschenrechte in Europa begr\u00fcndete werden , geht es nun um die milit\u00e4rische Solidarit\u00e4t mit den USA //in einem weit entfernten Dritte-Welt-Land//_{UNMARKED: s2108_506} . Doch [die Kritiker]_{markable_1000116} wissen auch , dass [sie]_{markable_1000116} weder den Krieg in Afghanistan stoppen noch eine deutsche Beteiligung daran verhindern k\u00f6nnen . [Sie]_{markable_1000116} k\u00f6nnen aber [die rot-gr\u00fcne Regierung]_{markable_59} //in eine schwere Krise//_{UNMARKED: s2110_501} treiben . Ein Kanzler , den //in einer solch existenziellen Frage//_{UNMARKED: s2111_504} [die eigene Koalition]_{markable_59} //im Stich//_{UNMARKED: s2111_502} l\u00e4sst , muss sich //neue Partner//_{UNMARKED: s2111_503} suchen . \n",
        "maz-12473.mmax"
       ]
      },
      {
       "output_type": "stream",
       "stream": "stdout",
       "text": [
        "\n",
        "Verlorenes Vertrauen Deutschland steht am Rande einer Rezession , und die Aussichten werden immer d\u00fcsterer . Schon im zweiten Quartal des laufenden Jahres hat sich die Wirtschaft nicht mehr bewegt . Auch f\u00fcr das dritte Quartal , dessen Ergebnisse heute vorgestellt werden , ist nicht mit einem Wiederanziehen des Wachstums zu rechnen . Zu diesen eher objektiven Zahlen kommen nun die subjektiven - die individuellen Erwartungen . Und da sieht es immer schlechter aus . Denn inzwischen haben [auch die Unternehmer]_{markable_1000116} den Mut verloren . Nach dem M\u00fcnchener Gesch\u00e4ftsklima-Index beurteilen [sie]_{markable_1000116} die Aussichten der n\u00e4chsten sechs Monate schlechter als noch im September . Wirtschaft basiert aber //auf Vertrauen//_{UNMARKED: s309_500} . Sehen [die Unternehmen]_{markable_1000116} //keine Perspektive//_{UNMARKED: s310_501} , schieben [sie]_{markable_1000116} [ihre]_{markable_1000116} Investitionen auf . Das ist alarmierend , zumal sich auch der im ersten Halbjahr noch starke private Konsum abgeschw\u00e4cht hat . Gleichzeitig ist der Export eingebrochen , der traditionell die deutsche Konjunktur befl\u00fcgelt hat . \n",
        "maz-18480.mmax"
       ]
      },
      {
       "output_type": "stream",
       "stream": "stdout",
       "text": [
        "\n",
        "maz-9891.mmax"
       ]
      },
      {
       "output_type": "stream",
       "stream": "stderr",
       "text": [
        "Traceback (most recent call last):\n",
        "  File \"<ipython-input-36-de27837c88ea>\", line 11, in <module>\n",
        "    print gen_bracketed_output(mdg)\n",
        "  File \"<ipython-input-31-c182c063225c>\", line 20, in gen_bracketed_output\n",
        "    opening, closing, markable2chain = gen_bracket_mappings(docgraph)\n",
        "  File \"/usr/local/lib/python2.7/dist-packages/discoursegraphs-0.1.2-py2.7.egg/discoursegraphs/readwrite/brackets.py\", line 41, in gen_bracket_mappings\n",
        "    docgraph, docgraph.node[markable][docgraph.ns+':span'])\n",
        "KeyError: 'mmax:span'\n",
        "Traceback (most recent call last):\n",
        "  File \"<ipython-input-36-de27837c88ea>\", line 11, in <module>\n",
        "    print gen_bracketed_output(mdg)\n",
        "  File \"<ipython-input-31-c182c063225c>\", line 20, in gen_bracketed_output\n",
        "    opening, closing, markable2chain = gen_bracket_mappings(docgraph)\n",
        "  File \"/usr/local/lib/python2.7/dist-packages/discoursegraphs-0.1.2-py2.7.egg/discoursegraphs/readwrite/brackets.py\", line 41, in gen_bracket_mappings\n",
        "    docgraph, docgraph.node[markable][docgraph.ns+':span'])\n",
        "KeyError: 'mmax:span'\n"
       ]
      },
      {
       "output_type": "stream",
       "stream": "stdout",
       "text": [
        "\n",
        "maz-10902.mmax"
       ]
      },
      {
       "output_type": "stream",
       "stream": "stdout",
       "text": [
        "\n",
        "maz-8288.mmax"
       ]
      },
      {
       "output_type": "stream",
       "stream": "stderr",
       "text": [
        "Traceback (most recent call last):\n",
        "  File \"<ipython-input-36-de27837c88ea>\", line 11, in <module>\n",
        "    print gen_bracketed_output(mdg)\n",
        "  File \"<ipython-input-31-c182c063225c>\", line 20, in gen_bracketed_output\n",
        "    opening, closing, markable2chain = gen_bracket_mappings(docgraph)\n",
        "  File \"/usr/local/lib/python2.7/dist-packages/discoursegraphs-0.1.2-py2.7.egg/discoursegraphs/readwrite/brackets.py\", line 41, in gen_bracket_mappings\n",
        "    docgraph, docgraph.node[markable][docgraph.ns+':span'])\n",
        "KeyError: 'mmax:span'\n",
        "Traceback (most recent call last):\n",
        "  File \"<ipython-input-36-de27837c88ea>\", line 11, in <module>\n",
        "    print gen_bracketed_output(mdg)\n",
        "  File \"<ipython-input-31-c182c063225c>\", line 20, in gen_bracketed_output\n",
        "    opening, closing, markable2chain = gen_bracket_mappings(docgraph)\n",
        "  File \"/usr/local/lib/python2.7/dist-packages/discoursegraphs-0.1.2-py2.7.egg/discoursegraphs/readwrite/brackets.py\", line 41, in gen_bracket_mappings\n",
        "    docgraph, docgraph.node[markable][docgraph.ns+':span'])\n",
        "KeyError: 'mmax:span'\n"
       ]
      },
      {
       "output_type": "stream",
       "stream": "stdout",
       "text": [
        "\n",
        "maz-8563.mmax"
       ]
      },
      {
       "output_type": "stream",
       "stream": "stdout",
       "text": [
        "\n",
        "maz-17698.mmax"
       ]
      },
      {
       "output_type": "stream",
       "stream": "stderr",
       "text": [
        "Traceback (most recent call last):\n",
        "  File \"<ipython-input-36-de27837c88ea>\", line 11, in <module>\n",
        "    print gen_bracketed_output(mdg)\n",
        "  File \"<ipython-input-31-c182c063225c>\", line 20, in gen_bracketed_output\n",
        "    opening, closing, markable2chain = gen_bracket_mappings(docgraph)\n",
        "  File \"/usr/local/lib/python2.7/dist-packages/discoursegraphs-0.1.2-py2.7.egg/discoursegraphs/readwrite/brackets.py\", line 41, in gen_bracket_mappings\n",
        "    docgraph, docgraph.node[markable][docgraph.ns+':span'])\n",
        "KeyError: 'mmax:span'\n",
        "Traceback (most recent call last):\n",
        "  File \"<ipython-input-36-de27837c88ea>\", line 11, in <module>\n",
        "    print gen_bracketed_output(mdg)\n",
        "  File \"<ipython-input-31-c182c063225c>\", line 20, in gen_bracketed_output\n",
        "    opening, closing, markable2chain = gen_bracket_mappings(docgraph)\n",
        "  File \"/usr/local/lib/python2.7/dist-packages/discoursegraphs-0.1.2-py2.7.egg/discoursegraphs/readwrite/brackets.py\", line 41, in gen_bracket_mappings\n",
        "    docgraph, docgraph.node[markable][docgraph.ns+':span'])\n",
        "KeyError: 'mmax:span'\n"
       ]
      },
      {
       "output_type": "stream",
       "stream": "stdout",
       "text": [
        "\n",
        "maz-8361.mmax"
       ]
      },
      {
       "output_type": "stream",
       "stream": "stdout",
       "text": [
        "\n",
        "maz-6918.mmax"
       ]
      },
      {
       "output_type": "stream",
       "stream": "stdout",
       "text": [
        "\n",
        "Nat\u00fcrliche R\u00fcckeroberung [Der Naturpark , der zwischen J\u00fcterbog , Luckenwalde und Treuenbrietzen entsteht]_{markable_39} , ist [au\u00dferhalb der Region]_{markable_19} noch viel zu wenig bekannt . Deshalb ist es zu begr\u00fc\u00dfen , dass [Manfred Stolpe]_{markable_1000169} [dem weitr\u00e4umigen Areal]_{markable_39} vorgestern //einen Besuch//_{UNMARKED: s1801_503} abstattete . Ein beabsichtigter Effekt solcher Dienstreisen [des Ministerpr\u00e4sidenten]_{markable_1000169} [in die Provinz]_{markable_19} ist //es , //m\u00f6glichst viel \u00f6ffentliche Aufmerksamkeit//_{UNMARKED: s1802_506} //auf bestimmte Vorhaben//_{UNMARKED: s1802_503} zu lenken//_{UNMARKED: s1802_509} . [Um den etwa 7000 Hektar gro\u00dfen Naturpark]_{markable_39} soll //ein Rundweg//_{UNMARKED: s1803_501} angelegt werden . Das w\u00e4re ein bedeutender Schritt [zum erkl\u00e4rten Ziel , [den ehemaligen Truppen\u00fcbungsplatz]_{markable_39} touristisch zu erschlie\u00dfen]_{markable_75} . Die Wanderd\u00fcne bei Forst Zinna ist schon jetzt //ein //bei Ausw\u00e4rtigen und Einheimischen gleicherma\u00dfen//_{UNMARKED: s1805_504} beliebtes Ausflugsziel//_{UNMARKED: s1805_507} . Diese Art der Konversion - die Natur erobert fr\u00fchere Milit\u00e4rfl\u00e4chen zur\u00fcck - ist vergleichsweise billig . Die Abschnitte , auf denen m\u00f6glicherweise weiterhin gef\u00e4hrliche Munition lagert , bleiben allerdings Sperrgebiet . Ob [bei der touristischen Erschlie\u00dfung der Konversionsfl\u00e4chen]_{markable_75} //auf lange Sicht//_{UNMARKED: s1808_501} //neue Arbeitspl\u00e4tze//_{UNMARKED: s1808_502} entstehen , h\u00e4ngt ////vor allem//_{UNMARKED: s1808_503} davon ab , //wie viele Neugierige//_{UNMARKED: s1808_506} kommen werden//_{UNMARKED: s1808_509} . Wie gesagt : [Stolpe]_{markable_1000169} war schon da . "
       ]
      },
      {
       "output_type": "stream",
       "stream": "stdout",
       "text": [
        "\n",
        "maz-5715.mmax"
       ]
      },
      {
       "output_type": "stream",
       "stream": "stdout",
       "text": [
        "\n",
        "[Gl\u00fcckliche H\u00fchner]_{markable_6} [Um die deutschen Legehennen]_{markable_6} ist heftiger politischer Streit entbrannt . [Bundesagrarministerin Renate K\u00fcnast]_{markable_1000138} will [das Halten [der Tiere]_{markable_6} in engen Legebatterien]_{markable_60} bereits vom Jahr 2006 an verbieten . In den EU-Nachbarl\u00e4ndern soll das //erst f\u00fcnf Jahre//_{UNMARKED: s1668_502} sp\u00e4ter gelten . Eier-Produzenten aus der ganzen Republik machen gegen [K\u00fcnasts]_{markable_1000138} Pl\u00e4ne mobil . [Die Betriebe im Osten]_{markable_100063} f\u00fcrchten , dass die hohen Investitionen , die [sie]_{markable_100063} in moderne Legebatterien nach europ\u00e4ischem Standard gesteckt haben , umsonst gewesen sind . Im Westen herrscht die Sorge vor , ausl\u00e4ndische Konkurrenten k\u00f6nnten dann mit Billig-Eiern aus Legebatterien den deutschen Markt \u00fcberschwemmen . //Beide Bedenken//_{UNMARKED: s1672_500} sind nicht einfach //von der Hand//_{UNMARKED: s1672_502} zu weisen . [Ministerin K\u00fcnast]_{markable_1000138} muss //zumindest \u00fcber l\u00e4ngere \u00dcbergangsfristen//_{UNMARKED: s1673_501} nachdenken . Am Grundsatz , [die K\u00e4fighaltung]_{markable_60} abzuschaffen , sollte [sie]_{markable_1000138} nicht r\u00fctteln . //Artgerechte Tierhaltung//_{UNMARKED: s1675_500} geh\u00f6rt schlie\u00dflich zu den Eckpunkten der [von ihr]_{markable_1000138} propagierten Agrarwende . Und schlie\u00dflich greifen //immer mehr Verbraucher//_{UNMARKED: s1676_503} beim Einkauf bewu\u00dft zu den tierfreundlich erzeugten Eiern . \n",
        "maz-18333.mmax"
       ]
      },
      {
       "output_type": "stream",
       "stream": "stderr",
       "text": [
        "Traceback (most recent call last):\n",
        "  File \"<ipython-input-36-de27837c88ea>\", line 11, in <module>\n",
        "    print gen_bracketed_output(mdg)\n",
        "  File \"<ipython-input-31-c182c063225c>\", line 20, in gen_bracketed_output\n",
        "    opening, closing, markable2chain = gen_bracket_mappings(docgraph)\n",
        "  File \"/usr/local/lib/python2.7/dist-packages/discoursegraphs-0.1.2-py2.7.egg/discoursegraphs/readwrite/brackets.py\", line 41, in gen_bracket_mappings\n",
        "    docgraph, docgraph.node[markable][docgraph.ns+':span'])\n",
        "KeyError: 'mmax:span'\n",
        "Traceback (most recent call last):\n",
        "  File \"<ipython-input-36-de27837c88ea>\", line 11, in <module>\n",
        "    print gen_bracketed_output(mdg)\n",
        "  File \"<ipython-input-31-c182c063225c>\", line 20, in gen_bracketed_output\n",
        "    opening, closing, markable2chain = gen_bracket_mappings(docgraph)\n",
        "  File \"/usr/local/lib/python2.7/dist-packages/discoursegraphs-0.1.2-py2.7.egg/discoursegraphs/readwrite/brackets.py\", line 41, in gen_bracket_mappings\n",
        "    docgraph, docgraph.node[markable][docgraph.ns+':span'])\n",
        "KeyError: 'mmax:span'\n"
       ]
      },
      {
       "output_type": "stream",
       "stream": "stdout",
       "text": [
        "\n",
        "maz-7220.mmax"
       ]
      },
      {
       "output_type": "stream",
       "stream": "stdout",
       "text": [
        "\n",
        "Vielleicht geht 's gut //Einen Reim//_{UNMARKED: s1851_500} konnten sich auch die Au\u00dfen- und Sicherheitsexperten in Berlin gestern [auf die \u00c4u\u00dferungen [von US-Verteidigungsminister Donald Rumsfeld]_{markable_100055}]_{markable_69} nicht machen . Im Au\u00dfenamt zog man sich //nach einiger Bedenkzeit//_{UNMARKED: s1852_501} auf die bekannte Formel zur\u00fcck , wonach Wortmeldungen von B\u00fcndnispartnern nicht kommentiert werden . Und auch in den Fraktionen des Bundestags herrschte Ratlosigkeit . [Rumsfeld]_{markable_100055} , der //von Anfang an//_{UNMARKED: s1854_500} als Hardliner [innerhalb der US-Regierung]_{markable_51} //in Erscheinung//_{UNMARKED: s1854_502} trat , habe wohl klarmachen wollen , dass es sich //um einen l\u00e4ngeren Feldzug//_{UNMARKED: s1854_503} handeln werde , hie\u00df es vage . Sicher sei allenfalls , dass die \" harten Fakten \" [dieses Krieges]_{markable_53} gewiss nicht in der \u00d6ffentlichkeit diskutiert w\u00fcrden . //Was auch immer//_{UNMARKED: s1856_500} das im Einzelnen hei\u00dfen mag . Betrachtet man [die \u00c4u\u00dferungen]_{markable_69} im Kontext des geradezu naiv anmutenden Eingest\u00e4ndnisses [des Washingtoner Stabes]_{markable_51} , man sei verbl\u00fcfft \u00fcber die Hartn\u00e4ckigkeit des Taliban-Widerstands , so schleichen sich unwillk\u00fcrlich Zweifel an der realistischen Kalkulation [des Afghanistan-Einsatzes]_{markable_53} ein . Weder motivieren [solche Einlassungen]_{markable_1000164} die eigenen Soldaten , noch f\u00f6rdern [sie]_{markable_1000164} den Zusammenhalt im B\u00fcndnis . \n",
        "maz-11507.mmax"
       ]
      },
      {
       "output_type": "stream",
       "stream": "stdout",
       "text": [
        "\n",
        "maz-14422.mmax"
       ]
      },
      {
       "output_type": "stream",
       "stream": "stderr",
       "text": [
        "Traceback (most recent call last):\n",
        "  File \"<ipython-input-36-de27837c88ea>\", line 11, in <module>\n",
        "    print gen_bracketed_output(mdg)\n",
        "  File \"<ipython-input-31-c182c063225c>\", line 20, in gen_bracketed_output\n",
        "    opening, closing, markable2chain = gen_bracket_mappings(docgraph)\n",
        "  File \"/usr/local/lib/python2.7/dist-packages/discoursegraphs-0.1.2-py2.7.egg/discoursegraphs/readwrite/brackets.py\", line 41, in gen_bracket_mappings\n",
        "    docgraph, docgraph.node[markable][docgraph.ns+':span'])\n",
        "KeyError: 'mmax:span'\n",
        "Traceback (most recent call last):\n",
        "  File \"<ipython-input-36-de27837c88ea>\", line 11, in <module>\n",
        "    print gen_bracketed_output(mdg)\n",
        "  File \"<ipython-input-31-c182c063225c>\", line 20, in gen_bracketed_output\n",
        "    opening, closing, markable2chain = gen_bracket_mappings(docgraph)\n",
        "  File \"/usr/local/lib/python2.7/dist-packages/discoursegraphs-0.1.2-py2.7.egg/discoursegraphs/readwrite/brackets.py\", line 41, in gen_bracket_mappings\n",
        "    docgraph, docgraph.node[markable][docgraph.ns+':span'])\n",
        "KeyError: 'mmax:span'\n"
       ]
      },
      {
       "output_type": "stream",
       "stream": "stdout",
       "text": [
        "\n",
        "maz-17706.mmax"
       ]
      },
      {
       "output_type": "stream",
       "stream": "stdout",
       "text": [
        "\n",
        "Zwiesp\u00e4ltig [Christian Gildes]_{markable_1000181} Wiederwahl //als Landrat//_{UNMARKED: s1020_501} war //ein Erfolg//_{UNMARKED: s1020_502} . Doch was dieser wirklich wert ist , zeigt sich erst im Tagesgesch\u00e4ft . Und das wei\u00df [Gilde]_{markable_1000181} auch : Schon bei der ersten Personalie vertraut [er]_{markable_1000181} nicht auf [seine]_{markable_1000181} Macht ; [er]_{markable_1000181} sucht den Kompromiss . Es geht um den Job [des Vize-Landrats , des zweitm\u00e4chtigsten Mannes [der Kreisverwaltung]_{markable_1000153}]_{markable_100062} . Bislang ist [das]_{markable_100062} [Klaus-Peter Appel]_{markable_51} . Geht es [nach Gilde]_{markable_1000181} , bliebe das so . Doch fragt [er]_{markable_1000181} sich , ob der Kreistag das genauso sieht . Deshalb signalisiert [er]_{markable_1000181} vorab , dass [er]_{markable_1000181} //durchaus einen anderen//_{UNMARKED: s1029_500} [als [seinen]_{markable_1000181} Lieblingskandidaten]_{markable_51} [zur Wahl [im Kreistag]_{markable_1000153}]_{markable_84} vorschlagen w\u00fcrde . Das ist //eine zwiesp\u00e4ltige Entscheidung//_{UNMARKED: s1030_500} . Einerseits ist es vern\u00fcnftig . Im Falle einer Abstimmungs-Niederlage w\u00fcrde [er]_{markable_1000181} ebenso [wie [sein]_{markable_1000181} Kandidat]_{markable_51} besch\u00e4digt . Zudem ist //es schlau , Kritiker //ins Boot//_{UNMARKED: s1033_500} zu holen//_{UNMARKED: s1033_503} . Andererseits begibt sich [Gilde]_{markable_1000181} damit in die H\u00e4nde [des Kreistags]_{markable_1000153} . Und [der]_{markable_1000153} k\u00f6nnte Gefallen daran finden , [ihm]_{markable_1000181} //einen unbequemen Aufpasser//_{UNMARKED: s1035_500} an die Seite zu stellen . Oder , was weitaus unangenehmer w\u00e4re , einen ehrgeizigen Konkurrenten , der [Gilde]_{markable_1000181} - m\u00f6glichst schnell - beerben will . [Der Landrat]_{markable_1000205} hat [die Wahl]_{markable_84} gewonnen , doch sich auf [seinen]_{markable_1000205} Lorbeeren ausruhen - das kann [er]_{markable_1000205} nicht . "
       ]
      },
      {
       "output_type": "stream",
       "stream": "stdout",
       "text": [
        "\n",
        "maz-11177.mmax"
       ]
      },
      {
       "output_type": "stream",
       "stream": "stdout",
       "text": [
        "\n",
        "maz-3377.mmax"
       ]
      },
      {
       "output_type": "stream",
       "stream": "stderr",
       "text": [
        "Traceback (most recent call last):\n",
        "  File \"<ipython-input-36-de27837c88ea>\", line 11, in <module>\n",
        "    print gen_bracketed_output(mdg)\n",
        "  File \"<ipython-input-31-c182c063225c>\", line 20, in gen_bracketed_output\n",
        "    opening, closing, markable2chain = gen_bracket_mappings(docgraph)\n",
        "  File \"/usr/local/lib/python2.7/dist-packages/discoursegraphs-0.1.2-py2.7.egg/discoursegraphs/readwrite/brackets.py\", line 41, in gen_bracket_mappings\n",
        "    docgraph, docgraph.node[markable][docgraph.ns+':span'])\n",
        "KeyError: 'mmax:span'\n",
        "Traceback (most recent call last):\n",
        "  File \"<ipython-input-36-de27837c88ea>\", line 11, in <module>\n",
        "    print gen_bracketed_output(mdg)\n",
        "  File \"<ipython-input-31-c182c063225c>\", line 20, in gen_bracketed_output\n",
        "    opening, closing, markable2chain = gen_bracket_mappings(docgraph)\n",
        "  File \"/usr/local/lib/python2.7/dist-packages/discoursegraphs-0.1.2-py2.7.egg/discoursegraphs/readwrite/brackets.py\", line 41, in gen_bracket_mappings\n",
        "    docgraph, docgraph.node[markable][docgraph.ns+':span'])\n",
        "KeyError: 'mmax:span'\n"
       ]
      },
      {
       "output_type": "stream",
       "stream": "stdout",
       "text": [
        "\n",
        "maz-15734.mmax"
       ]
      },
      {
       "output_type": "stream",
       "stream": "stdout",
       "text": [
        "\n",
        "maz-14384.mmax"
       ]
      },
      {
       "output_type": "stream",
       "stream": "stdout",
       "text": [
        "\n",
        "Nostalgie und //frische Luft//_{UNMARKED: s540_500} Wenn [\u00e4ltere Pritzwalker]_{markable_100012} [aufs Hainholz]_{markable_90} zu sprechen kommen , da k\u00f6nnen [sie]_{markable_100012} schon //in Erinnerungen//_{UNMARKED: s541_503} schwelgen . Voll //des Lobes//_{UNMARKED: s542_500} waren [Mitglieder des [Pritzwalker]_{markable_58} Bauausschusses]_{markable_100040} am Mittwoch , als ein Bericht \u00fcber die Bewirtschaftung [des Stadtforstes]_{markable_90} auf der Tagesordnung [ihrer]_{markable_100040} Sitzung stand . \" [Pritzwalk]_{markable_58} kann [auf [seinen]_{markable_58} Stadtwald]_{markable_90} stolz sein . Sowas gibt es selten \" , schw\u00e4rmte etwa Wolfgang Eichhorst . Und [Dietrich Kurtz]_{markable_1000121} sagte : \" Fr\u00fcher [als Jungs und mit der Clique]_{markable_100094} sind [wir]_{markable_100094} oft [ins Hainholz]_{markable_90} gegangen . Das war damals f\u00fcr die Jugend selbstverst\u00e4ndlich . \" Ob [sie]_{markable_100094} sich da vielleicht heimlich //mit M\u00e4dchen//_{UNMARKED: s548_500} getroffen h\u00e4tten , wollten //neugierige Sitzungsteilnehmer//_{UNMARKED: s548_501} wissen : \" Klar sind da auch mal M\u00e4dels dabei gewesen \" , gestand [Kurtz]_{markable_1000121} . [Der wunderbare Mischwald am Rande [der Stadt]_{markable_58}]_{markable_90} entfaltet aber nicht nur eine nostalgische Wirkung auf die Menschen . [Er]_{markable_90} ist nach wie vor Anziehungspunkt [f\u00fcr Spazierg\u00e4nger , Radler , L\u00e4ufer und Naturliebhaber jeden Alters]_{markable_86} - wenngleich es vielleicht nicht mehr so ist wie fr\u00fcher . Aber vielleicht t\u00e4uscht dieser Eindruck nur und man nimmt [die vielen , Erholung suchenden Leute [im Hainholz]_{markable_90}]_{markable_86} gar nicht wahr , weil //man selbst//_{UNMARKED: s552_504} zu selten dort ist . Also , was h\u00e4lt Sie von einem Dezemberausflug [ins Gr\u00fcne]_{markable_90} ab ? "
       ]
      },
      {
       "output_type": "stream",
       "stream": "stdout",
       "text": [
        "\n",
        "maz-14072.mmax"
       ]
      },
      {
       "output_type": "stream",
       "stream": "stderr",
       "text": [
        "Traceback (most recent call last):\n",
        "  File \"<ipython-input-36-de27837c88ea>\", line 11, in <module>\n",
        "    print gen_bracketed_output(mdg)\n",
        "  File \"<ipython-input-31-c182c063225c>\", line 20, in gen_bracketed_output\n",
        "    opening, closing, markable2chain = gen_bracket_mappings(docgraph)\n",
        "  File \"/usr/local/lib/python2.7/dist-packages/discoursegraphs-0.1.2-py2.7.egg/discoursegraphs/readwrite/brackets.py\", line 41, in gen_bracket_mappings\n",
        "    docgraph, docgraph.node[markable][docgraph.ns+':span'])\n",
        "KeyError: 'mmax:span'\n",
        "Traceback (most recent call last):\n",
        "  File \"<ipython-input-36-de27837c88ea>\", line 11, in <module>\n",
        "    print gen_bracketed_output(mdg)\n",
        "  File \"<ipython-input-31-c182c063225c>\", line 20, in gen_bracketed_output\n",
        "    opening, closing, markable2chain = gen_bracket_mappings(docgraph)\n",
        "  File \"/usr/local/lib/python2.7/dist-packages/discoursegraphs-0.1.2-py2.7.egg/discoursegraphs/readwrite/brackets.py\", line 41, in gen_bracket_mappings\n",
        "    docgraph, docgraph.node[markable][docgraph.ns+':span'])\n",
        "KeyError: 'mmax:span'\n"
       ]
      },
      {
       "output_type": "stream",
       "stream": "stdout",
       "text": [
        "\n",
        "maz-12084.mmax"
       ]
      },
      {
       "output_type": "stream",
       "stream": "stdout",
       "text": [
        "\n",
        "maz-16590.mmax"
       ]
      },
      {
       "output_type": "stream",
       "stream": "stderr",
       "text": [
        "Traceback (most recent call last):\n",
        "  File \"<ipython-input-36-de27837c88ea>\", line 11, in <module>\n",
        "    print gen_bracketed_output(mdg)\n",
        "  File \"<ipython-input-31-c182c063225c>\", line 20, in gen_bracketed_output\n",
        "    opening, closing, markable2chain = gen_bracket_mappings(docgraph)\n",
        "  File \"/usr/local/lib/python2.7/dist-packages/discoursegraphs-0.1.2-py2.7.egg/discoursegraphs/readwrite/brackets.py\", line 41, in gen_bracket_mappings\n",
        "    docgraph, docgraph.node[markable][docgraph.ns+':span'])\n",
        "KeyError: 'mmax:span'\n",
        "Traceback (most recent call last):\n",
        "  File \"<ipython-input-36-de27837c88ea>\", line 11, in <module>\n",
        "    print gen_bracketed_output(mdg)\n",
        "  File \"<ipython-input-31-c182c063225c>\", line 20, in gen_bracketed_output\n",
        "    opening, closing, markable2chain = gen_bracket_mappings(docgraph)\n",
        "  File \"/usr/local/lib/python2.7/dist-packages/discoursegraphs-0.1.2-py2.7.egg/discoursegraphs/readwrite/brackets.py\", line 41, in gen_bracket_mappings\n",
        "    docgraph, docgraph.node[markable][docgraph.ns+':span'])\n",
        "KeyError: 'mmax:span'\n"
       ]
      },
      {
       "output_type": "stream",
       "stream": "stdout",
       "text": [
        "\n",
        "maz-4282.mmax"
       ]
      },
      {
       "output_type": "stream",
       "stream": "stdout",
       "text": [
        "\n",
        "Steilpass Wunder gibt es immer wieder ! Erst spielen [[die]_{markable_57} Dallgower Gemeindevertreter so statisch und verzagt wie die deutsche [Abwehrreihe der]_{markable_51} Fu\u00dfballkicker . Und dann kommt aus der [[Tiefe solch ein fulminanter]_{markable_100045} Steilpass , von dem man hofft , [dass die Seeburger oder Gro\u00df-Glienicker]_{markable_28}]_{markable_39} [Mitspieler]_{markable_100045} ihn aufnehmen]_{markable_1000161} k\u00f6nnen . //Ein Befreiungsschlag//_{UNMARKED: s1490_500} ist es allerdings nicht , weil es vorerst keine Gefahr [f\u00fcrs]_{markable_1000161} Dallgower Tor gab [[. Die]_{markable_100090} Seeburger und einige]_{markable_28} Gro\u00df-Glienicker haben den Ball erst zur\u00fcckgespielt und dann um so dr\u00e4ngender wieder gefordert . Nun [sollen]_{markable_100090} sie zeigen , [wie]_{markable_100090} [sie die]_{markable_39} Chance verwerten . Eine Diskussion , wo k\u00fcnftig die Trainerkabine stehen soll , w\u00e4re in der jetzigen Spielsituation verheerend . Und eine [Parallele zu den deutschen]_{markable_51} Grotten-Kickern gibt es immer noch . Auch [wenn die]_{markable_1000142} [Spieler aus den verschiedenen]_{markable_57} Vereinen zusammengew\u00fcrfelt sind [,]_{markable_1000142} sie m\u00fcssen sich daran gew\u00f6hnen , [dass]_{markable_1000142} sie nun in einer Mannschaft \" D\u00f6beritzer Heide \" spielen . Und das hei\u00dft gemeinsam und nicht gegeneinander . Ermahnungen von der Seitenlinie , miteinander fair umzugehen und sich nicht beim kleinsten Schubser gegenseitig zu zerfleischen , sind normalerweise \u00fcberfl\u00fcssig . Vorerst allerdings hilfreich . \n",
        "maz-14654.mmax"
       ]
      },
      {
       "output_type": "stream",
       "stream": "stdout",
       "text": [
        "\n",
        "Herz-Dame sticht ////Ein Wahlausgang , der //beide Wahlgegner//_{UNMARKED: s599_500} zufrieden stellt//_{UNMARKED: s599_503} - das//_{UNMARKED: s599_504} ist //eine Seltenheit//_{UNMARKED: s599_501} ! Doch am gestrigen Abend zeigten sich //beide B\u00fcrgermeisterkandidaten//_{UNMARKED: s600_501} durchaus zufrieden . [[Elisabeth Herzog-von_der_Heide]_{markable_1000116} ( SPD ) freute sich [\u00fcber das Wahlergebnis , das [ihr]_{markable_1000148} mehr als 60 Prozent einbrachte]_{markable_75} , und [Hans-J\u00fcrgen Akuloff]_{markable_1000149}]_{markable_1000148} ( [PDS]_{markable_17} ) war 's zufrieden , dass [er]_{markable_1000149} [das bisher beste Ergebnis [f\u00fcr die PDS]_{markable_17}]_{markable_75} einfuhr . Das war nat\u00fcrlich um so leichter , da es diesmal //nur einen Gegenkandidaten//_{UNMARKED: s602_503} gab . Die Parteienlandschaft in Luckenwalde ist nat\u00fcrlich nach wie vor breiter gef\u00e4chert . Deshalb brauchen jetzt weder SPD- noch PDS-Anh\u00e4nger //einen H\u00f6henflug//_{UNMARKED: s604_501} zu bekommen . [Der gestrige Wahlausgang]_{markable_75} ist [das pers\u00f6nliche Ergebnis [der beiden Kandidaten]_{markable_1000116}]_{markable_75} , nachdem [sie]_{markable_1000116} //einen dritten//_{UNMARKED: s605_502} [im ersten Wahlgang]_{markable_74} ausgestochen hatten . Mehr nicht und auch nicht weniger . [Nach der ersten \" Skat-Runde]_{markable_74} \" hat dann [in der zweiten \" Mau-Mau-Runde]_{markable_75} \" [Herz-Dame]_{markable_1000148} [Herzog]_{markable_1000149} gestochen . //Kein \u00fcberraschendes//_{UNMARKED: s608_500} , //auch kein wahnsinnig \u00fcberragendes//_{UNMARKED: s608_503} , aber //ein deutliches Stichwahl-Ergebnis//_{UNMARKED: s608_502} . Die extreme Spannung war sowieso raus , denn [die erste Wahl]_{markable_74} hatte sowieso die Vorentscheidung gebracht , die jetzt [durch die Stichwahl]_{markable_75} nur noch best\u00e4tigt wurde . "
       ]
      },
      {
       "output_type": "stream",
       "stream": "stdout",
       "text": [
        "\n",
        "maz-12188.mmax"
       ]
      },
      {
       "output_type": "stream",
       "stream": "stdout",
       "text": [
        "\n",
        "maz-8727.mmax"
       ]
      },
      {
       "output_type": "stream",
       "stream": "stderr",
       "text": [
        "Traceback (most recent call last):\n",
        "  File \"<ipython-input-36-de27837c88ea>\", line 11, in <module>\n",
        "    print gen_bracketed_output(mdg)\n",
        "  File \"<ipython-input-31-c182c063225c>\", line 20, in gen_bracketed_output\n",
        "    opening, closing, markable2chain = gen_bracket_mappings(docgraph)\n",
        "  File \"/usr/local/lib/python2.7/dist-packages/discoursegraphs-0.1.2-py2.7.egg/discoursegraphs/readwrite/brackets.py\", line 41, in gen_bracket_mappings\n",
        "    docgraph, docgraph.node[markable][docgraph.ns+':span'])\n",
        "KeyError: 'mmax:span'\n",
        "Traceback (most recent call last):\n",
        "  File \"<ipython-input-36-de27837c88ea>\", line 11, in <module>\n",
        "    print gen_bracketed_output(mdg)\n",
        "  File \"<ipython-input-31-c182c063225c>\", line 20, in gen_bracketed_output\n",
        "    opening, closing, markable2chain = gen_bracket_mappings(docgraph)\n",
        "  File \"/usr/local/lib/python2.7/dist-packages/discoursegraphs-0.1.2-py2.7.egg/discoursegraphs/readwrite/brackets.py\", line 41, in gen_bracket_mappings\n",
        "    docgraph, docgraph.node[markable][docgraph.ns+':span'])\n",
        "KeyError: 'mmax:span'\n"
       ]
      },
      {
       "output_type": "stream",
       "stream": "stdout",
       "text": [
        "\n",
        "maz-16177.mmax"
       ]
      },
      {
       "output_type": "stream",
       "stream": "stdout",
       "text": [
        "\n",
        "Auf dem Totenbett Lebt [das B\u00fcndnis f\u00fcr Arbeit]_{markable_100015} \u00fcberhaupt noch ? F\u00fcr BDA-Chef Dieter Hundt \" existiert [es]_{markable_100015} faktisch nicht mehr \" . IG-Metall-Vize J\u00fcrgen Peters spricht //von \" Elefantenrunden \" , //bei denen//_{UNMARKED: s800_501} \" nichts herumkommt//_{UNMARKED: s800_504} \" . Die Ergebnisse waren bislang in der Tat d\u00fcrftig . Das Wenige , das Tarifparteien und Bundesregierung vereinbarten , wurde oft nicht mal umgesetzt . So sind etwa die Gewerkschaften //zu Recht//_{UNMARKED: s803_501} sauer , weil die Zusage [der Unternehmer]_{markable_50} , \u00dcberstunden abzubauen , nicht eingehalten wurde . Der j\u00fcngst geplatzte Termin geht jedoch auf das Gewerkschaftskonto . Denn die Strategie [der IG Metall]_{markable_1000102} ist durchsichtig . [Sie]_{markable_1000102} will heute //hohe Tarifforderungen//_{UNMARKED: s806_500} verk\u00fcnden k\u00f6nnen , ohne [auf die B\u00fcndnispartner]_{markable_50} R\u00fccksicht nehmen zu m\u00fcssen . Der Geldbeutel der eigenen Mitglieder ist wieder einmal wichtiger als die Sorgen der Arbeitslosen . [Das erste B\u00fcndnis f\u00fcr Arbeit]_{markable_1000165} ging durch die Unf\u00e4higkeit der Kohl-Regierung in die Br\u00fcche . Diesmal k\u00f6nnte es ausgerechnet [sein]_{markable_1000165} Erfinder , IG-Metall-Chef Klaus Zwickel , sein , der [ihm]_{markable_1000165} den Totenschein ausstellt . \n",
        "maz-16153.mmax"
       ]
      },
      {
       "output_type": "stream",
       "stream": "stdout",
       "text": [
        "\n",
        "maz-2669.mmax"
       ]
      },
      {
       "output_type": "stream",
       "stream": "stderr",
       "text": [
        "Traceback (most recent call last):\n",
        "  File \"<ipython-input-36-de27837c88ea>\", line 11, in <module>\n",
        "    print gen_bracketed_output(mdg)\n",
        "  File \"<ipython-input-31-c182c063225c>\", line 20, in gen_bracketed_output\n",
        "    opening, closing, markable2chain = gen_bracket_mappings(docgraph)\n",
        "  File \"/usr/local/lib/python2.7/dist-packages/discoursegraphs-0.1.2-py2.7.egg/discoursegraphs/readwrite/brackets.py\", line 41, in gen_bracket_mappings\n",
        "    docgraph, docgraph.node[markable][docgraph.ns+':span'])\n",
        "KeyError: 'mmax:span'\n",
        "Traceback (most recent call last):\n",
        "  File \"<ipython-input-36-de27837c88ea>\", line 11, in <module>\n",
        "    print gen_bracketed_output(mdg)\n",
        "  File \"<ipython-input-31-c182c063225c>\", line 20, in gen_bracketed_output\n",
        "    opening, closing, markable2chain = gen_bracket_mappings(docgraph)\n",
        "  File \"/usr/local/lib/python2.7/dist-packages/discoursegraphs-0.1.2-py2.7.egg/discoursegraphs/readwrite/brackets.py\", line 41, in gen_bracket_mappings\n",
        "    docgraph, docgraph.node[markable][docgraph.ns+':span'])\n",
        "KeyError: 'mmax:span'\n"
       ]
      },
      {
       "output_type": "stream",
       "stream": "stdout",
       "text": [
        "\n",
        "maz-4031.mmax"
       ]
      },
      {
       "output_type": "stream",
       "stream": "stdout",
       "text": [
        "\n",
        "Zahlenspiele //Unterm Strich//_{UNMARKED: s1458_500} 400_000 ! Die Besucherquote l\u00e4sst die Ausrichter [des Preu\u00dfenjahres]_{markable_100016} schon zweieinhalb Monate vor [seinem]_{markable_100016} Ende frohlocken . Das Hohenzollernland ist immer noch in , schlie\u00dfen [[Brandenburgs Kulturministerin Wanka]_{markable_100052} und [ihre]_{markable_100032} Berliner Kollegin Goehler]_{markable_100032} aus dieser Erhebung . Kritikern , die der borussischen Kampagne Thesenlosigkeit und Beliebigkeit vorwarfen , k\u00f6nnen [sie]_{markable_100052} endlich [mit Zahlen]_{markable_100059} kommen . M\u00f6gen [die]_{markable_100059} mitunter auch interessant //nach oben//_{UNMARKED: s1462_500} korrigiert sein : So endete die gro\u00dfe Berliner Er\u00f6ffnungsschau \" Preu\u00dfen 1701 \" laut Veranstalter , immerhin das ehrenwerte Deutsche Historische Museum , //mit 72_000 Besuchern//_{UNMARKED: s1463_502} . Nach der jetzt offiziellen Statistik sollen 's 80_000//_{UNMARKED: s1464_501} gewesen sein . Wohl //eine Petitesse//_{UNMARKED: s1465_500} . //Eher unter inhaltlichen Gesichtspunkten//_{UNMARKED: s1466_500} ist ferner bemerkenswert , dass gerade jene Ausstellungen am besten abschnitten , die - auch wenn [Preu\u00dfen]_{markable_1000158} im Titel vorkam - so gut //wie nichts//_{UNMARKED: s1466_504} mit [Preu\u00dfen]_{markable_1000158} zu tun hatten . Die Malerei Kirchners und Caravaggios wollten 110_000 respektive 74_000 sehen . Nun gut . Wenn Zahlenspiele dem Ruhme [Preu\u00dfens]_{markable_1000158} dienen ... \n",
        "maz-11318.mmax"
       ]
      },
      {
       "output_type": "stream",
       "stream": "stdout",
       "text": [
        "\n",
        "So nicht noch einmal Es passieren //schlimme Dinge//_{UNMARKED: s171_500} auf dieser Welt . Furchtbar , wenn Menschen //in einem Krieg//_{UNMARKED: s172_500} sterben m\u00fcssen . Schrecklich , //bei einem Unfall//_{UNMARKED: s173_500} //ums Leben//_{UNMARKED: s173_501} zu kommen . Schlimm , //einen guten Freund//_{UNMARKED: s174_500} zu verlieren . Nicht //zum Aushalten//_{UNMARKED: s175_500} , //Zeuge //eines Dramas//_{UNMARKED: s175_501 s175_505} zu werden und nichts dagegen ausrichten zu k\u00f6nnen . So muss es [Werner Fresdorf]_{markable_12} ergangen sein , als [er]_{markable_12} den schleichenden Tod [eines Vierbeiners]_{markable_18} mit seiner Kamera dokumentierte . [[Sein Nachbar]_{markable_13} hatte [den Hund]_{markable_18} an eine kurze Kette gelegt und sich dann nicht mehr [um das Tier]_{markable_18} gek\u00fcmmert . Einzige Ausnahme : [Dem Sch\u00e4ferhund]_{markable_18} wurde noch das Fressen hingestellt]_{markable_19} . [Werner Fresdorf]_{markable_12} hatte [\u00fcber diese Zust\u00e4nde]_{markable_13} [die Beh\u00f6rden]_{markable_21} informiert . Doch die Reaktionen lassen zu w\u00fcnschen \u00fcbrig . //Nur ein Ortstermin//_{UNMARKED: s181_503} fand statt und man gab sich zufrieden , obwohl [der Hundehalter]_{markable_19} nicht angetroffen wurde . //Ein zweiter Besuch//_{UNMARKED: s182_500} w\u00e4re jedoch dringend notwendig gewesen . Nun ist es zu sp\u00e4t . [Das Tier]_{markable_18} lebt nicht mehr . Eine Bestrafung [des Hundehalters]_{markable_19} wird offensichtlich nicht angestrebt . Gut , dass der B\u00fcrgermeister wenigstens nun angewiesen hat , //solche Anzeigen//_{UNMARKED: s186_501} sofort [an die zust\u00e4ndige Beh\u00f6rde im Kreis]_{markable_21} weiterzuleiten . \n",
        "maz-17062.mmax"
       ]
      },
      {
       "output_type": "stream",
       "stream": "stdout",
       "text": [
        "\n",
        "Ehrgeizig Die n\u00e4chste F\u00f6rderwelle rollt [auf Brandenburg]_{markable_57} zu . //Mehr als 20 Millionen Mark//_{UNMARKED: s904_510} sollen in den kommenden Jahren im Rahmen [des Zis-Programmes]_{markable_1000102} in die Sanierung und Belebung [der Innenstadt]_{markable_57} flie\u00dfen . [Die 13 Projektb\u00fcndel mit [ihren]_{markable_100059} insgesamt 140 Einzelvorhaben]_{markable_100059} sind //ein heller Hoffnungsschimmer//_{UNMARKED: s905_501} [f\u00fcr das von Wegzug und wirtschaftlicher Depression gebeutelte \" Aschenputtel der Mark]_{markable_57} \" . Werden [sie]_{markable_100059} verwirklicht und gelingt es der n\u00e4chsten Stadtregierung , das Debakel um die gescheiterte Ansiedlung am Neustadt-Markt zu \u00fcberwinden , hat [Brandenburg]_{markable_57} //gute Aussichten , wieder //auf die Beine//_{UNMARKED: s906_504} zu kommen und //vor allem//_{UNMARKED: s906_506} //ein besseres Image//_{UNMARKED: s906_507} zu gewinnen//_{UNMARKED: s906_515} . Das innerhalb von [Zis]_{markable_1000102} geplante City-Management ist //ein wesentlicher Motor//_{UNMARKED: s907_501} dabei . Dass es //Menschen gibt [in dieser Stadt]_{markable_57} , die etwas bewirken k\u00f6nnen//_{UNMARKED: s908_505} , hat die Umsetzung [des jetzt ausgelaufenen Urban-Programmes]_{markable_1000161} gezeigt . Innerhalb der vergangenen sechs Jahre hat [die Bahnhofsvorstadt]_{markable_1000141} [ihr]_{markable_1000141} Gesicht fast v\u00f6llig ver\u00e4ndert . [Aus dem fr\u00fcheren Nachtjackenviertel]_{markable_1000141} ist //ein familienfreundlicher Kiez//_{UNMARKED: s910_501} geworden . Mit den Erfahrungen aus [Urban]_{markable_1000161} im Gep\u00e4ck haben die Zis-Macher //gute Startbedingungen//_{UNMARKED: s911_503} . Nun kommt es darauf an , aus dem vielen Steuergeld auch wirklich etwas zu machen . "
       ]
      },
      {
       "output_type": "stream",
       "stream": "stdout",
       "text": [
        "\n",
        "maz-12383.mmax"
       ]
      },
      {
       "output_type": "stream",
       "stream": "stdout",
       "text": [
        "\n",
        "maz-19372.mmax"
       ]
      },
      {
       "output_type": "stream",
       "stream": "stderr",
       "text": [
        "Traceback (most recent call last):\n",
        "  File \"<ipython-input-36-de27837c88ea>\", line 11, in <module>\n",
        "    print gen_bracketed_output(mdg)\n",
        "  File \"<ipython-input-31-c182c063225c>\", line 20, in gen_bracketed_output\n",
        "    opening, closing, markable2chain = gen_bracket_mappings(docgraph)\n",
        "  File \"/usr/local/lib/python2.7/dist-packages/discoursegraphs-0.1.2-py2.7.egg/discoursegraphs/readwrite/brackets.py\", line 41, in gen_bracket_mappings\n",
        "    docgraph, docgraph.node[markable][docgraph.ns+':span'])\n",
        "KeyError: 'mmax:span'\n",
        "Traceback (most recent call last):\n",
        "  File \"<ipython-input-36-de27837c88ea>\", line 11, in <module>\n",
        "    print gen_bracketed_output(mdg)\n",
        "  File \"<ipython-input-31-c182c063225c>\", line 20, in gen_bracketed_output\n",
        "    opening, closing, markable2chain = gen_bracket_mappings(docgraph)\n",
        "  File \"/usr/local/lib/python2.7/dist-packages/discoursegraphs-0.1.2-py2.7.egg/discoursegraphs/readwrite/brackets.py\", line 41, in gen_bracket_mappings\n",
        "    docgraph, docgraph.node[markable][docgraph.ns+':span'])\n",
        "KeyError: 'mmax:span'\n"
       ]
      },
      {
       "output_type": "stream",
       "stream": "stdout",
       "text": [
        "\n",
        "maz-2609.mmax"
       ]
      },
      {
       "output_type": "stream",
       "stream": "stdout",
       "text": [
        "\n",
        "Einsteins Lorbeeren Unter den vielen Lobreden w\u00e4re gestern am neuen Hauptsitz [des Instituts f\u00fcr Klimafolgenforschung]_{markable_16} fast die Tatsache //in Vergessenheit//_{UNMARKED: s1321_502} geraten , dass [[dessen]_{markable_1000163} Direktor Schellnhuber]_{markable_16} k\u00fcrzlich um ein Haar ins Ausland abgewandert w\u00e4re . Dass [er]_{markable_1000163} doch geblieben ist , hat vordergr\u00fcndig mit mehr Geld [f\u00fcrs Institut]_{markable_16} zu tun : Wieso //Spitzenforscher //aus aller Welt//_{UNMARKED: s1323_503 s1323_500} [in Potsdam]_{markable_31} arbeiten wollen , erkl\u00e4rt das alleine nicht . [Die Stadt]_{markable_31} hat was . Aber was ? Legend\u00e4re Wissenschaftstempel wie das astrophysikalische Institut haben Tradition und Flair - das treibt dem ehemaligen AIP-Direktor Hasinger die G\u00e4nsehaut in den Nacken . Die N\u00e4he zur Landesregierung ist //ein Standortvorteil//_{UNMARKED: s1327_501} , wie das Tauziehen [um Schellnhuber]_{markable_1000163} beweist . Und kaum eine Region Deutschlands hat //ein derart dichtes Netz //von kooperierenden Wissenschaftseinrichtungen//_{UNMARKED: s1328_502 s1328_506} zu bieten - der Erfolg des interdisziplin\u00e4ren Helmholtz-Instituts f\u00fcr die Schulung an Supercomputern spricht B\u00e4nde . Nun kommt es darauf an , sich nicht auf Einsteins Lorbeeren auszuruhen . Denn //weiche Standortfaktoren allein//_{UNMARKED: s1330_500} reichen nicht aus . Brandenburg muss endlich die rote Laterne in der Wissenschaftsf\u00f6rderung abgeben . \n",
        "maz-17242.mmax"
       ]
      },
      {
       "output_type": "stream",
       "stream": "stdout",
       "text": [
        "\n",
        "maz-15702.mmax"
       ]
      },
      {
       "output_type": "stream",
       "stream": "stdout",
       "text": [
        "\n",
        "Eigentlich fehlt ja keiner ... Von spektakul\u00e4ren Ausbr\u00fcchen aus den Gef\u00e4ngnissen ist [Justizminister Schelter]_{markable_43} bislang verschont geblieben . F\u00fcr [seine]_{markable_43} Amtszeit verbucht die Justizchronik nun aber einen Vorgang der besonderen Art . Die Haftanstalt [in Spremberg]_{markable_1000148} hat //am Dienstag//_{UNMARKED: s751_501} [einen H\u00e4ftling]_{markable_57} freigelassen , der gar nicht zur Entlassung anstand . //Schlicht durch eine Namensverwechslung//_{UNMARKED: s752_500} konnte [der verurteilte Dieb]_{markable_57} das Gef\u00e4ngnistor passieren . Seither ist [er]_{markable_57} verschwunden . Gef\u00e4hrlich sei [er]_{markable_57} nicht , beeilte sich das Justizministerium gestern mitzuteilen , aber - klar doch - in die Freiheit geh\u00f6rt [er]_{markable_57} auch noch nicht . [Der Minister]_{markable_43} muss sich nat\u00fcrlich fragen lassen , was [in Spremberg]_{markable_1000148} los ist . Da bekommt einer Entlassungspapiere , nur weil [er]_{markable_57} zuf\u00e4llig den selben Nachnamen wie ein Mitgefangener tr\u00e4gt . Und h\u00e4tte [die Frau [des eigentlich zu Entlassenden]_{markable_56}]_{markable_1000132} nicht nachgefragt , wo [[ihr]_{markable_1000132} Mann]_{markable_56} eigentlich bleibt , w\u00e4re [der falsche Abg\u00e4nger]_{markable_57} vielleicht noch immer nicht aufgefallen . [In Spremberg]_{markable_1000148} verfahren die W\u00e4rter offenbar nach der einfachen Rechnung : Hauptsache die Gesamtzahl stimmt , wenn abends zugeschlossen wird . \n",
        "maz-17664.mmax"
       ]
      },
      {
       "output_type": "stream",
       "stream": "stdout",
       "text": [
        "\n",
        "Noch Zeit So lange der Vorrat reicht . Dieser Zusatz wird gern in der Werbung verwendet , um den letzten Unentschlossenen doch f\u00fcr den Kauf der lammfellgef\u00fctterten Hosentr\u00e4ger , der Kaffeetasse f\u00fcr Linksh\u00e4nder oder des automatischen Korkenziehers zu bewegen . Nein , [mit dem Euro]_{markable_87} hat das alles //nichts zu tun , //fast nichts//_{UNMARKED: s984_504 s984_503} . Es gab [die ersten blanken M\u00fcnzen]_{markable_87} gestern eben so lange , bis [sie]_{markable_87} vergriffen waren . Ob noch mal neue//_{UNMARKED: s986_501} einget\u00fctet nachkommen , wusste //kein B\u00e4nker//_{UNMARKED: s986_502} so genau zu sagen . Ist ja eigentlich auch egal . Wer sich den Fahrplan [f\u00fcr die Abl\u00f6sung der einen W\u00e4hrung [durch die andere]_{markable_87}]_{markable_1000158} genau angesehen hat , wei\u00df : [Zahlungsprobleme]_{markable_1000116} kriegen nur die , die [sie]_{markable_1000116} schon immer hatten . Sieht man mal von der Ausnahme kreisliche Busgesellschaft ab , die schon ab Neujahr nur noch [die Einheitsw\u00e4hrung]_{markable_87} zulassen will , kann jeder seine eigene Mark-Epoche ganz langsam austrudeln lassen . Erst zum M\u00e4rzbeginn 2002 muss man [damit]_{markable_1000158} fertig geworden sein . So gesehen waren die Schlangen gestern ziemlich unverst\u00e4ndlich . [Ein Mann in der Sparkasse]_{markable_1000198} brachte die Widerspr\u00fcchlichkeit //auf den Punkt//_{UNMARKED: s993_502} , als [er]_{markable_1000198} sagte : \" [Den Euro]_{markable_87} habe [ich]_{markable_1000198} nie gewollt und dennoch stehe [ich]_{markable_1000198} hier . \" "
       ]
      },
      {
       "output_type": "stream",
       "stream": "stdout",
       "text": [
        "\n",
        "maz-3367.mmax"
       ]
      },
      {
       "output_type": "stream",
       "stream": "stderr",
       "text": [
        "Traceback (most recent call last):\n",
        "  File \"<ipython-input-36-de27837c88ea>\", line 11, in <module>\n",
        "    print gen_bracketed_output(mdg)\n",
        "  File \"<ipython-input-31-c182c063225c>\", line 20, in gen_bracketed_output\n",
        "    opening, closing, markable2chain = gen_bracket_mappings(docgraph)\n",
        "  File \"/usr/local/lib/python2.7/dist-packages/discoursegraphs-0.1.2-py2.7.egg/discoursegraphs/readwrite/brackets.py\", line 41, in gen_bracket_mappings\n",
        "    docgraph, docgraph.node[markable][docgraph.ns+':span'])\n",
        "KeyError: 'mmax:span'\n",
        "Traceback (most recent call last):\n",
        "  File \"<ipython-input-36-de27837c88ea>\", line 11, in <module>\n",
        "    print gen_bracketed_output(mdg)\n",
        "  File \"<ipython-input-31-c182c063225c>\", line 20, in gen_bracketed_output\n",
        "    opening, closing, markable2chain = gen_bracket_mappings(docgraph)\n",
        "  File \"/usr/local/lib/python2.7/dist-packages/discoursegraphs-0.1.2-py2.7.egg/discoursegraphs/readwrite/brackets.py\", line 41, in gen_bracket_mappings\n",
        "    docgraph, docgraph.node[markable][docgraph.ns+':span'])\n",
        "KeyError: 'mmax:span'\n"
       ]
      },
      {
       "output_type": "stream",
       "stream": "stdout",
       "text": [
        "\n",
        "maz-4636.mmax"
       ]
      },
      {
       "output_type": "stream",
       "stream": "stdout",
       "text": [
        "\n",
        "Nicht erst seit gestern Erst einmal tief durchatmen . Im benachbarten Berlin hat es //keinen Anschlag //mit Milzbrand-Erregern//_{UNMARKED: s1537_502 s1537_501} gegeben . In Bayern auch nicht . Aber die Bilder von M\u00e4nnern in Mondanz\u00fcgen und Atemschutzmasken haben durchaus //etwas //von Ausnahmezustand , //ja Katastrophenalarm//_{UNMARKED: s1539_505 s1539_501 s1539_507} . Dennoch ist Panikmache unverantwortlich . Was [wir]_{markable_38} sehen , ist der spektakul\u00e4re , aber routinierte Einsatz [von Profis]_{markable_85} . //Zu einer Zeit , //in der//_{UNMARKED: s1542_500} //alles Denkbare//_{UNMARKED: s1542_501} auch machbar erscheint//_{UNMARKED: s1542_510} , ist es beruhigend zu wissen , dass [die Rettungskr\u00e4fte]_{markable_85} sich //nicht erst seit gestern//_{UNMARKED: s1542_505} [damit befassen , wie [sie]_{markable_85} [die B\u00fcrger]_{markable_38} vor Katastrophen sch\u00fctzen k\u00f6nnen]_{markable_74} . //Ein eingespieltes Team //von Spezialisten//_{UNMARKED: s1543_504 s1543_500} h\u00e4lt Ausr\u00fcstung und Fachleute bereit , um schnell und umfassend handeln zu k\u00f6nnen . Dass [sie]_{markable_85} //unter normalen Umst\u00e4nden//_{UNMARKED: s1544_500} kaum //in Erscheinung//_{UNMARKED: s1544_501} treten , ist [ihrem]_{markable_85} steten Bem\u00fchen um Vorbeugung zu danken - zum Beispiel im Brandschutz , wo [die Feuerwehr]_{markable_85} schon in der Planung eines Geb\u00e4udes mitwirkt . Trotzdem sollte [der Zivilschutz]_{markable_74} verbessert werden . Manches Vehikel im Ger\u00e4tehaus geh\u00f6rt l\u00e4ngst ins Technikmuseum . Wenn landesweit die Polizei aufger\u00fcstet wird , sollten [die Rettungskr\u00e4fte]_{markable_85} nicht //das Nachsehen//_{UNMARKED: s1547_503} haben . Falls es doch einmal //kein mieser Scherz//_{UNMARKED: s1548_501} war . "
       ]
      },
      {
       "output_type": "stream",
       "stream": "stdout",
       "text": [
        "\n",
        "maz-12510.mmax"
       ]
      },
      {
       "output_type": "stream",
       "stream": "stdout",
       "text": [
        "\n",
        "Wunsch //nach Frieden//_{UNMARKED: s313_500} [Der Wunsch nach Frieden]_{markable_35} w\u00e4chst in Zeiten [des Krieges]_{markable_84} . Erst recht , wenn [der Krieg]_{markable_84} dem eigenen Land gef\u00e4hrlich nahe r\u00fcckt . [Afghanistan]_{markable_1000121} ist seit dem vom Bundestag abgesegneten B\u00fcndnis-Marschbefehl //f\u00fcr deutsche Soldaten//_{UNMARKED: s316_501} n\u00e4her , als es viele wahrhaben wollen . [Diese Situation]_{markable_31} besch\u00e4ftigt auch [die MAZ-Jugendredakteure]_{markable_32} . Wen l\u00e4sst //ein hei\u00dfer Krieg //mit deutscher Beteiligung//_{UNMARKED: s318_501 s318_500} kalt ? ! [Diesem Szenario]_{markable_31} setzen [die Nachwuchsjournalisten]_{markable_32} eine Seite und [den Wunsch [nach Frieden]_{markable_100076}]_{markable_35} entgegen . Eben [dem]_{markable_100076} verleihen Menschen //seit vielen Generationen//_{UNMARKED: s320_501} Ausdruck //mit Symbolen : Peace-Zeichen , Friedenspfeife , Regenbogen , Olivenzweig , Kerzen , Friedenstaube//_{UNMARKED: s320_503} ... Wann werden Friedenstauben weltweit fliegen ? Wohl nie . Dazu ist das Unrecht auf unserem Planeten viel zu gro\u00df , wie Kriegsberichte [aus Afghanistan]_{markable_1000121} , Israel und Afrika t\u00e4glich im Fernsehen verdeutlichen . Zu weit klafft die Schere zwischen Arm und Reich auseinander . [Sozialer Sprengstoff , der Unmenschen wie [bin Laden]_{markable_79} stark und unberechenbar gemacht hat]_{markable_1000156} . [Das]_{markable_1000156} haben die Anschl\u00e4ge vom 11. September gezeigt . Aber heiligt [der Kampf [gegen den Top-Terroristen]_{markable_79} und seine Helfer]_{markable_84} //jedes kriegerische Mittel//_{UNMARKED: s327_502} ? Auch diese Frage muss erlaubt sein . "
       ]
      },
      {
       "output_type": "stream",
       "stream": "stdout",
       "text": [
        "\n",
        "maz-00002.mmax\n",
        "Das B\u00fcchergeld Die Litanei ist nicht neu : Eltern beschweren sich //\u00fcber veraltete Schulb\u00fccher//_{UNMARKED: s2182_500} , Kommunen jammern //\u00fcber leere Kassen//_{UNMARKED: s2182_501} und [Schulbuchverlage]_{markable_33} beklagen Umsatzeinbr\u00fcche . Trommeln geh\u00f6rt halt zum Gesch\u00e4ft . Doch //unterm Strich//_{UNMARKED: s2184_500} stehen [Brandenburgs]_{markable_64} Schulen ganz gut da . //Zum einen//_{UNMARKED: s2185_500} wurden nach der Wende //fast alle Schulbuchbest\u00e4nde//_{UNMARKED: s2185_507} ausgetauscht , //zum anderen//_{UNMARKED: s2185_503} m\u00fcssen sich //m\u00e4rkische Eltern//_{UNMARKED: s2185_504} [am Buchkauf]_{markable_69} beteiligen . Daf\u00fcr gibt es sogar Lob [von den Schulbuchverlagen]_{markable_33} . Denn //in vielen alten Bundesl\u00e4ndern//_{UNMARKED: s2187_500} gilt noch immer [die Lernmittelfreiheit]_{markable_100090} : Eltern m\u00fcssen nichts zuzahlen . Der Preis [daf\u00fcr]_{markable_100090} ist hoch - gerade dort wird oft //mit v\u00f6llig veraltetem Material//_{UNMARKED: s2189_504} gearbeitet . Doch [auch Brandenburg]_{markable_64} muss aufpassen . Wenn //immer mehr Kommunen//_{UNMARKED: s2191_503} finanziell ausbluten , wird [die regelm\u00e4\u00dfige Schulbucherneuerung]_{markable_69} //zur Illusion//_{UNMARKED: s2191_502} . Deshalb ist [auch die Landesregierung]_{markable_64} gefragt : Es kann nicht sein , dass ////f\u00fcr teure Modellprojekte wie Schnelll\u00e4uferklassen oder Ganztagsschulen//_{UNMARKED: s2193_504 s2193_504} Geld locker gemacht , aber [an der Grundausstattung]_{markable_69} gespart wird . "
       ]
      },
      {
       "output_type": "stream",
       "stream": "stdout",
       "text": [
        "\n",
        "maz-4428.mmax"
       ]
      },
      {
       "output_type": "stream",
       "stream": "stdout",
       "text": [
        "\n",
        "Es wird [Westernreiter]_{markable_1000219} kennen sich aus mit dem \u00dcberwinden von Stock und Stein . Also d\u00fcrften [sie]_{markable_1000219} kein Problem haben , [die zurzeit noch katastrophale Parkfl\u00e4che [an der Graf-von-Lindenau-Halle]_{markable_51}]_{markable_31} //in Kauf//_{UNMARKED: s1512_502} zu nehmen . [Sie]_{markable_1000219} machen das auch , wenngleich wir uns dessen bewusst sind , dass hier [b\u00f6ser Sarkasmus]_{markable_100055} die Zeilen pr\u00e4gt , der aber [seine]_{markable_100055} Berechtigung //in absehbarer Zeit//_{UNMARKED: s1513_502} verloren hat . [Am Parkplatz , der von Anfang an ein \u00c4rgernis war]_{markable_31} , tut sich n\u00e4mlich etwas . Die Initiative dazu ging [von der Neust\u00e4dter Verwaltung]_{markable_100089} aus . [Die]_{markable_100089} hatte auch //gar keine andere Wahl//_{UNMARKED: s1516_503} , nachdem das juristische Tauziehen mit dem bauausf\u00fchrenden Betrieb verloren worden war . Was blieb , war die total misslungene Abstellfl\u00e4che , bei der sich zu sp\u00e4t herausstellte , dass die vielen Besucher [f\u00fcr die Halle]_{markable_51} einfach zu viel waren . War schon in der Zeitung zu lesen , dass Geld lockergemacht worden ist , so ist nun //von einem ersten Ergebnis//_{UNMARKED: s1518_503} zu berichten . Man baut . Das geht nicht //von jetzt//_{UNMARKED: s1520_500} //auf gleich//_{UNMARKED: s1520_501} . Dieses Jahr wird vergehen , bis //auch bei Regen//_{UNMARKED: s1521_501} die stiefelfreie Zeit //f\u00fcr alle Besucher//_{UNMARKED: s1521_503} anbricht . Beim CSI , dem hochdotierten Reitturnier im Januar , sollen //die N\u00e4gel//_{UNMARKED: s1522_501} K\u00f6pfe haben . Bis dahin m\u00fcssen sich alle dreinf\u00fcgen - wie [die Westernreiter]_{markable_1000219} und [ihre]_{markable_1000219} Fans . "
       ]
      },
      {
       "output_type": "stream",
       "stream": "stdout",
       "text": [
        "\n",
        "maz-14792.mmax"
       ]
      },
      {
       "output_type": "stream",
       "stream": "stdout",
       "text": [
        "\n",
        "maz-13153.mmax"
       ]
      },
      {
       "output_type": "stream",
       "stream": "stdout",
       "text": [
        "\n",
        "Nachahmenswert Integration ist //ein wichtiges Anliegen//_{UNMARKED: s397_500} . Ja , heutzutage ist //es sogar wichtiger denn je , dass //gesellschaftliche Gruppen//_{UNMARKED: s398_501} nicht ausgegrenzt werden//_{UNMARKED: s398_505} . Angesichts der seit Jahren obwaltenden rechtsradikalen Umtriebe sind insbesondere [die Bem\u00fchungen um die Integration hier lebender Nicht-Deutscher und Aussiedler]_{markable_4} wichtig . Und wie k\u00f6nnte [so etwas]_{markable_4} besser funktionieren //als \u00fcber gemeinsame sportliche Aktivit\u00e4ten//_{UNMARKED: s400_501} ? So ist es //aller Ehren//_{UNMARKED: s401_500} wert , wenn der Verein Freizeitpark Wittenberge die Integrationsprogramme der Brandenburgischen Sportjugend //seit Jahren//_{UNMARKED: s401_503} intensiv unterst\u00fctzt . Und zwar so intensiv , dass deren Funktion\u00e4re bereits eine Vorliebe [f\u00fcr die Prignitz]_{markable_17} entwickelt haben . Aber //dar\u00fcber hinaus//_{UNMARKED: s403_500} gibt es [in diesem Kreis]_{markable_17} ebenso ehrenamtliches Engagement im Dienste dieser guten Sache . Einer , der sie sich zu eigen gemacht hat , erhielt //am Sonnabend//_{UNMARKED: s404_501} [eine Auszeichnung]_{markable_13} : Der Pritzwalker Harry St\u00fcwe , regelm\u00e4\u00dfigen Lesern unserer Lokal-Sportseiten bestens bekannt , wird [in der Urkunde]_{markable_13} eine sch\u00f6ne Best\u00e4tigung [f\u00fcr sein Engagement]_{markable_18} sehen . Und //zum Weitermachen//_{UNMARKED: s406_500} : [Solche Aktivit\u00e4ten]_{markable_18} sind nicht nur nachahmenswert , sondern auch ein Aush\u00e4ngeschild [f\u00fcr die Region]_{markable_17} . [Sie]_{markable_18} bed\u00fcrfen //unser aller Unterst\u00fctzung//_{UNMARKED: s407_500} . "
       ]
      },
      {
       "output_type": "stream",
       "stream": "stdout",
       "text": [
        "\n",
        "maz-14841.mmax"
       ]
      },
      {
       "output_type": "stream",
       "stream": "stdout",
       "text": [
        "\n",
        "Auf und Ab //Noch 29 Tage//_{UNMARKED: s635_500} , dann ist unsere geliebte D-Mark //keine offizielle W\u00e4hrung mehr//_{UNMARKED: s635_502} . [Mit der Einf\u00fchrung des Euros]_{markable_18} wird vieles teurer , weil //Pfennig- //zu Centbetr\u00e4ge//_{UNMARKED: s636_504 s636_501} sicher eher auf- statt abgerundet werden . [Manche Gesch\u00e4ftsleute]_{markable_100048} werden [vor der W\u00e4hrungsumstellung]_{markable_18} noch schnell [ihre]_{markable_100048} Ware verteuern , damit [sie]_{markable_100048} sich besser umrechnen l\u00e4sst . Da ist //es um so erfreulicher , wenn ausnahmsweise etwas billiger wird//_{UNMARKED: s638_503} . Und noch dazu //etwas , dass jeder braucht//_{UNMARKED: s639_501} . Die Gasversorgung [Zehdenick]_{markable_1000166} wird den Erdgaspreis senken . //Ein vierk\u00f6pfiger Haushalt//_{UNMARKED: s641_500} spart dann im kommenden Jahr //immerhin etwa 57,50 Mark//_{UNMARKED: s641_504} //gegen\u00fcber 2001//_{UNMARKED: s641_503} . Beim Strom lie\u00df sich die Preissteigerung wegen der neuen \u00d6kosteuer-Stufe zwar nicht stabil halten . [Die Stadtwerke]_{markable_70} haben aber auf den Preis ausschlie\u00dflich die \u00d6kosteuererh\u00f6hung umgelegt . Preiserh\u00f6hungen des Zulieferers dagegen blieben unber\u00fccksichtigt . Die schwierige Wirtschaftslage jedenfalls muss nicht zwangsl\u00e4ufig //zu Preissteigerungen//_{UNMARKED: s645_501} f\u00fchren . F\u00fcr den Verbraucher w\u00e4chst die Hoffnung , dass es vielleicht auch der B\u00e4cker , Fris\u00f6r und Kaufmannsladen nebenan halten wie [die Stadtwerke [Zehdenick]_{markable_1000166}]_{markable_70} : Preise runter oder wenigstens nur das N\u00f6tigste umlegen . \n",
        "maz-5012.mmax"
       ]
      },
      {
       "output_type": "stream",
       "stream": "stderr",
       "text": [
        "Traceback (most recent call last):\n",
        "  File \"<ipython-input-36-de27837c88ea>\", line 11, in <module>\n",
        "    print gen_bracketed_output(mdg)\n",
        "  File \"<ipython-input-31-c182c063225c>\", line 20, in gen_bracketed_output\n",
        "    opening, closing, markable2chain = gen_bracket_mappings(docgraph)\n",
        "  File \"/usr/local/lib/python2.7/dist-packages/discoursegraphs-0.1.2-py2.7.egg/discoursegraphs/readwrite/brackets.py\", line 41, in gen_bracket_mappings\n",
        "    docgraph, docgraph.node[markable][docgraph.ns+':span'])\n",
        "KeyError: 'mmax:span'\n",
        "Traceback (most recent call last):\n",
        "  File \"<ipython-input-36-de27837c88ea>\", line 11, in <module>\n",
        "    print gen_bracketed_output(mdg)\n",
        "  File \"<ipython-input-31-c182c063225c>\", line 20, in gen_bracketed_output\n",
        "    opening, closing, markable2chain = gen_bracket_mappings(docgraph)\n",
        "  File \"/usr/local/lib/python2.7/dist-packages/discoursegraphs-0.1.2-py2.7.egg/discoursegraphs/readwrite/brackets.py\", line 41, in gen_bracket_mappings\n",
        "    docgraph, docgraph.node[markable][docgraph.ns+':span'])\n",
        "KeyError: 'mmax:span'\n"
       ]
      },
      {
       "output_type": "stream",
       "stream": "stdout",
       "text": [
        "\n",
        "maz-15970.mmax"
       ]
      },
      {
       "output_type": "stream",
       "stream": "stdout",
       "text": [
        "\n",
        "maz-9335.mmax"
       ]
      },
      {
       "output_type": "stream",
       "stream": "stderr",
       "text": [
        "Traceback (most recent call last):\n",
        "  File \"<ipython-input-36-de27837c88ea>\", line 11, in <module>\n",
        "    print gen_bracketed_output(mdg)\n",
        "  File \"<ipython-input-31-c182c063225c>\", line 20, in gen_bracketed_output\n",
        "    opening, closing, markable2chain = gen_bracket_mappings(docgraph)\n",
        "  File \"/usr/local/lib/python2.7/dist-packages/discoursegraphs-0.1.2-py2.7.egg/discoursegraphs/readwrite/brackets.py\", line 41, in gen_bracket_mappings\n",
        "    docgraph, docgraph.node[markable][docgraph.ns+':span'])\n",
        "KeyError: 'mmax:span'\n",
        "Traceback (most recent call last):\n",
        "  File \"<ipython-input-36-de27837c88ea>\", line 11, in <module>\n",
        "    print gen_bracketed_output(mdg)\n",
        "  File \"<ipython-input-31-c182c063225c>\", line 20, in gen_bracketed_output\n",
        "    opening, closing, markable2chain = gen_bracket_mappings(docgraph)\n",
        "  File \"/usr/local/lib/python2.7/dist-packages/discoursegraphs-0.1.2-py2.7.egg/discoursegraphs/readwrite/brackets.py\", line 41, in gen_bracket_mappings\n",
        "    docgraph, docgraph.node[markable][docgraph.ns+':span'])\n",
        "KeyError: 'mmax:span'\n"
       ]
      },
      {
       "output_type": "stream",
       "stream": "stdout",
       "text": [
        "\n",
        "maz-5709.mmax"
       ]
      },
      {
       "output_type": "stream",
       "stream": "stdout",
       "text": [
        "\n",
        "maz-14590.mmax"
       ]
      },
      {
       "output_type": "stream",
       "stream": "stderr",
       "text": [
        "Traceback (most recent call last):\n",
        "  File \"<ipython-input-36-de27837c88ea>\", line 11, in <module>\n",
        "    print gen_bracketed_output(mdg)\n",
        "  File \"<ipython-input-31-c182c063225c>\", line 20, in gen_bracketed_output\n",
        "    opening, closing, markable2chain = gen_bracket_mappings(docgraph)\n",
        "  File \"/usr/local/lib/python2.7/dist-packages/discoursegraphs-0.1.2-py2.7.egg/discoursegraphs/readwrite/brackets.py\", line 41, in gen_bracket_mappings\n",
        "    docgraph, docgraph.node[markable][docgraph.ns+':span'])\n",
        "KeyError: 'mmax:span'\n",
        "Traceback (most recent call last):\n",
        "  File \"<ipython-input-36-de27837c88ea>\", line 11, in <module>\n",
        "    print gen_bracketed_output(mdg)\n",
        "  File \"<ipython-input-31-c182c063225c>\", line 44, in gen_bracketed_output\n",
        "    token_id, stack)\n",
        "  File \"/usr/local/lib/python2.7/dist-packages/discoursegraphs-0.1.2-py2.7.egg/discoursegraphs/readwrite/brackets.py\", line 52, in gen_closing_string\n",
        "    for closing_id in closing_markable_ids)\n",
        "  File \"/usr/local/lib/python2.7/dist-packages/discoursegraphs-0.1.2-py2.7.egg/discoursegraphs/readwrite/brackets.py\", line 52, in <genexpr>\n",
        "    for closing_id in closing_markable_ids)\n",
        "KeyError: 's592_501'\n"
       ]
      },
      {
       "output_type": "stream",
       "stream": "stdout",
       "text": [
        "\n",
        "maz-5876.mmax"
       ]
      },
      {
       "output_type": "stream",
       "stream": "stdout",
       "text": [
        "\n",
        "Einmalig Unvorstellbar , aber wahr : [Eine Medizinerin]_{markable_100012} l\u00e4sst [ihre]_{markable_100012} Patienten , [ihr]_{markable_100012} Personal und [die Kassen\u00e4rztliche Vereinigung]_{markable_24} v\u00f6llig im Unklaren . Niemand wei\u00df , warum sie nicht kommt , wer sie vertritt , wann oder ob sie wiederkommt . Ein solcher Fall wie [in Ludwigsfelde]_{markable_1000131} sei [ihm]_{markable_100047} in den sieben Jahren , die [er]_{markable_100047} jetzt Pressesprecher [der Kassen\u00e4rztlichen Vereinigung [Brandenburg]_{markable_1000106}]_{markable_24} ist , \" noch nicht bekannt geworden \" , sagt [Ralf Herre]_{markable_100047} . Mediziner stehen [im Land]_{markable_53} nicht Schlange , um sich niederzulassen . //132 allgemein\u00e4rztliche//_{UNMARKED: s1694_500} und //60 fach\u00e4rztliche Praxen//_{UNMARKED: s1694_501} k\u00f6nnten noch besetzt werden . Das hat ganz sicher damit zu tun , dass [in Brandenburg]_{markable_1000106} die niedrigsten Arzthonorare [der ganzen Bundesrepublik]_{markable_53} gezahlt werden . Doch das , was sich bei 3600 Praxen [im Land]_{markable_53} in dieser einen Praxis [in Ludwigsfelde]_{markable_1000131} abspielt , das geht rein menschlich nicht . Weder in der Familie noch unter Kollegen oder Freunden l\u00e4sst man Leute einfach stehen . Abgesehen vom Verfahren \u00fcber den Zulassungsentzug und //davon , dass //eine nicht anwesende \u00c4rztin//_{UNMARKED: s1698_506} nicht helfen kann//_{UNMARKED: s1698_509} - ohne Verabredungen einzuhalten steht //auch eine noch so gute Medizinerin//_{UNMARKED: s1698_507} //auf dem Abstellgleis//_{UNMARKED: s1698_504} . Und Sprechzeiten sind //f\u00fcr Patienten und Personal//_{UNMARKED: s1699_502} //eine solche feste Verabredung//_{UNMARKED: s1699_501} . "
       ]
      },
      {
       "output_type": "stream",
       "stream": "stdout",
       "text": [
        "\n",
        "maz-8838.mmax"
       ]
      },
      {
       "output_type": "stream",
       "stream": "stdout",
       "text": [
        "\n",
        "Euro-Cash for Kids [In der MAZ-Lokalredaktion [Luckenwalde]_{markable_1000105}]_{markable_64} wurde inzwischen [bereits die zweite Sammelbox f\u00fcr restliches Urlaubsgeld aus aller Herren L\u00e4nder]_{markable_56} aufgestellt . [Die erste Box]_{markable_100033} war schneller als gedacht prall gef\u00fcllt und schwer , und [sie]_{markable_100033} konnte bereits an den Initiator der Sammelaktion , den Internationalen Bund ( IB ) , \u00fcbergeben werden . Hintergrund der Idee war die bevorstehende Euro-Einf\u00fchrung . Wohin dann [mit den vom Urlaub \u00fcbrig gebliebenen M\u00fcnzen]_{markable_100080} , die bald sowieso //nichts mehr//_{UNMARKED: s2009_501} wert sind ? Warum sollten [sie]_{markable_100080} nicht noch //einen guten Zweck//_{UNMARKED: s2010_500} erf\u00fcllen k\u00f6nnen ? So wurde [die Aktion \" Euro-Cash for Kids]_{markable_1000101} \" gestartet , und [sie]_{markable_1000101} fand speziell [in Luckenwalde]_{markable_1000105} und Umgebung //eine riesige Resonanz//_{UNMARKED: s2011_503} . Daf\u00fcr ein herzliches Dankesch\u00f6n . Vielleicht kommen ja jetzt nach den Herbstferien //noch einige M\u00fcnzen//_{UNMARKED: s2013_501} zusammen , [in der zweiten Box]_{markable_56} ist jedenfalls noch Platz daf\u00fcr vorhanden . Noch bis zum Jahresende besteht die M\u00f6glichkeit , [restliche Urlaubsmoneten]_{markable_1000161} [in der MAZ-Lokalredaktion]_{markable_64} abzugeben . Danach wird [das Geld]_{markable_1000161} umgetauscht und [es]_{markable_1000161} soll f\u00fcr die Intensivierung des internationalen Austausches von Jugendlichen besonders mit L\u00e4ndern Osteuropas eingesetzt werden - ////vor allem//_{UNMARKED: s2015_504} auch als Ersatz //f\u00fcr ausgebliebene staatliche F\u00f6rderung//_{UNMARKED: s2015_505 s2015_508} . "
       ]
      },
      {
       "output_type": "stream",
       "stream": "stdout",
       "text": [
        "\n",
        "maz-7071.mmax"
       ]
      },
      {
       "output_type": "stream",
       "stream": "stdout",
       "text": [
        "\n",
        "maz-9538.mmax"
       ]
      },
      {
       "output_type": "stream",
       "stream": "stderr",
       "text": [
        "Traceback (most recent call last):\n",
        "  File \"<ipython-input-36-de27837c88ea>\", line 11, in <module>\n",
        "    print gen_bracketed_output(mdg)\n",
        "  File \"<ipython-input-31-c182c063225c>\", line 20, in gen_bracketed_output\n",
        "    opening, closing, markable2chain = gen_bracket_mappings(docgraph)\n",
        "  File \"/usr/local/lib/python2.7/dist-packages/discoursegraphs-0.1.2-py2.7.egg/discoursegraphs/readwrite/brackets.py\", line 41, in gen_bracket_mappings\n",
        "    docgraph, docgraph.node[markable][docgraph.ns+':span'])\n",
        "KeyError: 'mmax:span'\n",
        "Traceback (most recent call last):\n",
        "  File \"<ipython-input-36-de27837c88ea>\", line 11, in <module>\n",
        "    print gen_bracketed_output(mdg)\n",
        "  File \"<ipython-input-31-c182c063225c>\", line 20, in gen_bracketed_output\n",
        "    opening, closing, markable2chain = gen_bracket_mappings(docgraph)\n",
        "  File \"/usr/local/lib/python2.7/dist-packages/discoursegraphs-0.1.2-py2.7.egg/discoursegraphs/readwrite/brackets.py\", line 41, in gen_bracket_mappings\n",
        "    docgraph, docgraph.node[markable][docgraph.ns+':span'])\n",
        "KeyError: 'mmax:span'\n"
       ]
      },
      {
       "output_type": "stream",
       "stream": "stdout",
       "text": [
        "\n",
        "maz-16987.mmax"
       ]
      },
      {
       "output_type": "stream",
       "stream": "stdout",
       "text": [
        "\n",
        "maz-18750.mmax"
       ]
      },
      {
       "output_type": "stream",
       "stream": "stdout",
       "text": [
        "\n",
        "Nicht vergessen ! //Alle Jahre wieder//_{UNMARKED: s1161_500} Stress [vor dem Fest]_{markable_19} . //Am Sonnabend//_{UNMARKED: s1162_500} hetzten //nicht wenige//_{UNMARKED: s1162_501} noch //von Gesch\u00e4ft//_{UNMARKED: s1162_502} //zu Gesch\u00e4ft//_{UNMARKED: s1162_503} , um die letzten Eink\u00e4ufe zu erledigen . Manchem schien erst jetzt eingefallen zu sein , dass man [am heutigen Heiligen Abend]_{markable_19} seinen Lieben etwas schenken k\u00f6nnte . Doch nicht nur wegen solcher Vergesslichkeit werden //auch heute Abend//_{UNMARKED: s1164_501} wieder [viele Menschen]_{markable_13} //ohne eine Liebesgabe//_{UNMARKED: s1164_503} auskommen m\u00fcssen . H\u00e4ufig werden [sie]_{markable_13} \u00fcber all dem Feiertagstrubel wirklich vergessen , [die Alten und Einsamen , die Fl\u00fcchtlinge und Asylsuchenden , die Heimatlosen , Hungernden , Kranken]_{markable_13} . Die Erinnerung [an diese Verlierer unserer Zeit]_{markable_13} sollte niemandem [sein Weihnachtsfest]_{markable_19} vermiesen . //Ganz im Gegenteil//_{UNMARKED: s1167_500} : Vielleicht machen [ein paar Gedanken]_{markable_16} //an diejenigen , die es heute nicht so gut haben//_{UNMARKED: s1167_506} , einem das eigene Gl\u00fcck ja noch deutlicher bewusst . Vielleicht halten [solche Gedanken]_{markable_16} auch wach , damit man nicht verpasst zu helfen , wenn sich die Gelegenheit dazu bietet . Wer will daran zweifeln : [Weihnachten]_{markable_19} sollte //mehr sein //als //fettes Essen//_{UNMARKED: s1170_500} und Geschenke//_{UNMARKED: s1170_503 s1170_502} . //In diesem Sinne//_{UNMARKED: s1171_500} w\u00fcnscht die MAZ //allen Lesern//_{UNMARKED: s1171_502} //ein ebenso fr\u00f6hliches wie besinnliches Fest//_{UNMARKED: s1171_506} . "
       ]
      },
      {
       "output_type": "stream",
       "stream": "stdout",
       "text": [
        "\n",
        "maz-6046.mmax"
       ]
      },
      {
       "output_type": "stream",
       "stream": "stderr",
       "text": [
        "Traceback (most recent call last):\n",
        "  File \"<ipython-input-36-de27837c88ea>\", line 11, in <module>\n",
        "    print gen_bracketed_output(mdg)\n",
        "  File \"<ipython-input-31-c182c063225c>\", line 20, in gen_bracketed_output\n",
        "    opening, closing, markable2chain = gen_bracket_mappings(docgraph)\n",
        "  File \"/usr/local/lib/python2.7/dist-packages/discoursegraphs-0.1.2-py2.7.egg/discoursegraphs/readwrite/brackets.py\", line 41, in gen_bracket_mappings\n",
        "    docgraph, docgraph.node[markable][docgraph.ns+':span'])\n",
        "KeyError: 'mmax:span'\n",
        "Traceback (most recent call last):\n",
        "  File \"<ipython-input-36-de27837c88ea>\", line 11, in <module>\n",
        "    print gen_bracketed_output(mdg)\n",
        "  File \"<ipython-input-31-c182c063225c>\", line 20, in gen_bracketed_output\n",
        "    opening, closing, markable2chain = gen_bracket_mappings(docgraph)\n",
        "  File \"/usr/local/lib/python2.7/dist-packages/discoursegraphs-0.1.2-py2.7.egg/discoursegraphs/readwrite/brackets.py\", line 41, in gen_bracket_mappings\n",
        "    docgraph, docgraph.node[markable][docgraph.ns+':span'])\n",
        "KeyError: 'mmax:span'\n"
       ]
      },
      {
       "output_type": "stream",
       "stream": "stdout",
       "text": [
        "\n",
        "maz-9207.mmax"
       ]
      },
      {
       "output_type": "stream",
       "stream": "stdout",
       "text": [
        "\n",
        "Fachliche Leistung Heute verleiht [das brandenburgische Umweltministerium]_{markable_62} [den mit 10_000 Mark dotierten Erwin-Strittmatter-Preis]_{markable_71} an die Schriftstellerin [Susanne Paulsen]_{markable_70} . [Mit der Auszeichnung]_{markable_71} sollen \" //Literatur und Autoren geehrt werden , die sich //in Umweltbelange//_{UNMARKED: s2030_502} einmischen//_{UNMARKED: s2030_506} \" . Das klingt fast so , als sei Gut-Gemeintes preisverd\u00e4chtig . //Eine solche F\u00f6rderma\u00dfnahme //f\u00fcr \u00d6ko-Literatur//_{UNMARKED: s2032_500 s2032_502} verkennt , dass es immer //nur gelungene und missratene Texte//_{UNMARKED: s2032_503} gibt . Das Verh\u00e4ltnis zur Natur ist //f\u00fcr viele Dichter//_{UNMARKED: s2033_501} //ein gro\u00dfes Thema//_{UNMARKED: s2033_502} . [Den Literaturpreis]_{markable_71} haben bisher Sch\u00f6ngeister wie [Hanns Cibulka und Wulf Kirsten , Volker Braun und Thomas Rosenl\u00f6cher]_{markable_100096} bekommen . Wer aus [ihren]_{markable_100096} Gedichten //ein umweltpolitisches Engagement//_{UNMARKED: s2035_501} ableitet , instrumentalisiert [die Literatur]_{markable_54} ideologisch . Die Zeiten , da [die Literatur]_{markable_54} Aufkl\u00e4rungs- und Bekenntnisarbeit mitleisten musste , sind //zum Gl\u00fcck//_{UNMARKED: s2036_502} vorbei . Deshalb ist es auch gut , dass [das Umweltministerium]_{markable_62} in diesem Jahr in engerem Sinne auf fachliche Leistungen setzt . [Susanne Paulsen]_{markable_70} bekommt [den Preis]_{markable_71} f\u00fcr ein erz\u00e4hlendes Sachbuch , das dem Leser die r\u00e4tselhafte Welt der Pflanzen n\u00e4herbringt . "
       ]
      },
      {
       "output_type": "stream",
       "stream": "stdout",
       "text": [
        "\n",
        "maz-16294.mmax"
       ]
      },
      {
       "output_type": "stream",
       "stream": "stdout",
       "text": [
        "\n",
        "maz-18914.mmax"
       ]
      },
      {
       "output_type": "stream",
       "stream": "stdout",
       "text": [
        "\n",
        "Alarmsignal [Mit Helga Kaden]_{markable_28} streicht eine der namhaftesten Gesch\u00e4ftsleute [der Stadt]_{markable_24} //die Segel//_{UNMARKED: s1186_502} . [Sie]_{markable_28} konnte [ihr]_{markable_28} traditionsreiches Gesch\u00e4ft wegen der anhaltenden Kundenflaute nicht mehr //\u00fcber Wasser//_{UNMARKED: s1187_503} halten . Mag sein , das [ihr]_{markable_28} Konzept nicht aufging . [Die exklusiven Sachen]_{markable_8} hatten [ihren]_{markable_8} Preis . Nur - es gab ja Zeiten , da verkaufte sich [das]_{markable_8} sehr gut . Es wird schon gemunkelt , dass weitere dem Beispiel folgen werden . Ausgerechnet in der sch\u00f6nen Weihnachtszeit offenbart sich das Elend des innerst\u00e4dtischen Einzelhandels . Und zwar an einer Ecke , die //eine Art Aush\u00e4ngeschild//_{UNMARKED: s1193_500} [f\u00fcr die Stadt]_{markable_24} ist . //Ein leerer Laden//_{UNMARKED: s1194_500} ist //alles andere als einladend//_{UNMARKED: s1194_503} f\u00fcr den Schwenk [in die City]_{markable_24} . Ein Alarmsignal f\u00fcr den neuen B\u00fcrgermeister . [Die Stadt]_{markable_24} kann nur bedingt helfen , aber [sie]_{markable_24} muss es endlich tun . Erstens : Die Parkgeb\u00fchren in der Einkaufszone m\u00fcssen weg . Zweitens : //Ein anziehender Branchenmix//_{UNMARKED: s1198_500} muss her - wo es [die Stadt]_{markable_24} nicht selbst //in der Hand//_{UNMARKED: s1198_503} hat , muss [sie]_{markable_24} es mehr fordern , notfalls den Eigent\u00fcmern //geeignete gewerbliche Mieter//_{UNMARKED: s1198_506} selbst vermitteln . Drittens : //Im Umgang //mit hilfesuchenden H\u00e4ndlern//_{UNMARKED: s1199_502 s1199_500} muss der Grundsatz gelten - nichts ist unm\u00f6glich . So l\u00e4sst sich //das schlingernde City-Schiff//_{UNMARKED: s1200_500} vielleicht doch noch //auf einen erfolgversprechenden Kurs//_{UNMARKED: s1200_501} bringen . "
       ]
      },
      {
       "output_type": "stream",
       "stream": "stdout",
       "text": [
        "\n",
        "maz-18945.mmax"
       ]
      },
      {
       "output_type": "stream",
       "stream": "stderr",
       "text": [
        "Traceback (most recent call last):\n",
        "  File \"<ipython-input-36-de27837c88ea>\", line 11, in <module>\n",
        "    print gen_bracketed_output(mdg)\n",
        "  File \"<ipython-input-31-c182c063225c>\", line 20, in gen_bracketed_output\n",
        "    opening, closing, markable2chain = gen_bracket_mappings(docgraph)\n",
        "  File \"/usr/local/lib/python2.7/dist-packages/discoursegraphs-0.1.2-py2.7.egg/discoursegraphs/readwrite/brackets.py\", line 41, in gen_bracket_mappings\n",
        "    docgraph, docgraph.node[markable][docgraph.ns+':span'])\n",
        "KeyError: 'mmax:span'\n",
        "Traceback (most recent call last):\n",
        "  File \"<ipython-input-36-de27837c88ea>\", line 11, in <module>\n",
        "    print gen_bracketed_output(mdg)\n",
        "  File \"<ipython-input-31-c182c063225c>\", line 20, in gen_bracketed_output\n",
        "    opening, closing, markable2chain = gen_bracket_mappings(docgraph)\n",
        "  File \"/usr/local/lib/python2.7/dist-packages/discoursegraphs-0.1.2-py2.7.egg/discoursegraphs/readwrite/brackets.py\", line 41, in gen_bracket_mappings\n",
        "    docgraph, docgraph.node[markable][docgraph.ns+':span'])\n",
        "KeyError: 'mmax:span'\n"
       ]
      },
      {
       "output_type": "stream",
       "stream": "stdout",
       "text": [
        "\n",
        "maz-10423.mmax"
       ]
      },
      {
       "output_type": "stream",
       "stream": "stdout",
       "text": [
        "\n",
        "Toter Weg Die [von den Elstalern]_{markable_1000102} lange herbei gesehnte Umgehungsstra\u00dfe [f\u00fcr den historischen Ortskern]_{markable_62} ist fertig . Damit ist eines der wichtigsten Stra\u00dfenbauvorhaben der Gemeinde verwirklicht . Und doch ist die Freude nicht ganz ungetr\u00fcbt . Weil [die Bahnhofstra\u00dfe]_{markable_1000130} [ihrem]_{markable_1000130} Namen nicht gerecht wird . //Bis jetzt//_{UNMARKED: s60_500} ist [die Fahrbahn]_{markable_1000130} //nichts weiter //als ein Weg //zu einer Bahnstation , //an der//_{UNMARKED: s60_502} //keine Z\u00fcge//_{UNMARKED: s60_503} halten//_{UNMARKED: s60_506 s60_507 s60_505} . Daran wird sich ////bis Fr\u00fchjahr n\u00e4chsten Jahres//_{UNMARKED: s61_502 s61_502} //auch nichts//_{UNMARKED: s61_501} \u00e4ndern . Also sieht man //in n\u00e4chster Zeit//_{UNMARKED: s62_500} //wohl eher Inline-Skater //als Autofahrer//_{UNMARKED: s62_501 s62_504} [auf der Fahrbahn]_{markable_1000130} . Sch\u00f6n f\u00fcr die Freizeitsportler , aber [f\u00fcr die Elstaler]_{markable_1000102} hei\u00dft das , [sie]_{markable_1000102} m\u00fcssen vorerst weiterhin damit leben , dass Autos [durch ihre unter Denkmalschutz stehende Ortsmitte]_{markable_62} brausen . Erst wenn der Bahnhaltepunkt wieder er\u00f6ffnet ist , wird [die Stra\u00dfe]_{markable_1000130} [ihren]_{markable_1000130} eigentlichen Zweck erf\u00fcllen , n\u00e4mlich den Verkehr [aus dem Ort]_{markable_62} fern zu halten . Damit ist auch gleichzeitig der anstehende Generalverkehrsplan //nichts weiter //als ein \" hohler Vogel//_{UNMARKED: s65_502 s65_501} \" . Wenn Demex im Zuge der neuen Investitionen am Designer Outlet Center auch noch den \" Alten Spandauer Weg \" zumachen will , muss der Au\u00dfenring funktionieren . "
       ]
      },
      {
       "output_type": "stream",
       "stream": "stdout",
       "text": [
        "\n",
        "maz-10110.mmax"
       ]
      },
      {
       "output_type": "stream",
       "stream": "stdout",
       "text": [
        "\n",
        "maz-3110.mmax"
       ]
      },
      {
       "output_type": "stream",
       "stream": "stdout",
       "text": [
        "\n",
        "Am Wasser Dass [die \" Platte]_{markable_100011} \" nicht so schlecht ist wie [ihr]_{markable_100011} Ruf , hat ja schon das Zentrum Ost bewiesen . Gerade eben feierten dort [Anwohner]_{markable_100029} die Wiederherstellung [ihres]_{markable_100029} - noch immer namenlosen - Stadtplatzes , schon trifft man sich auch [am Kiewitt]_{markable_1000174} zum B\u00fcrgerfest . //30 Jahre//_{UNMARKED: s1382_500} z\u00e4hlt [das Neubauwohngebiet]_{markable_85} , und //etwa jeder dritte Kiewitter//_{UNMARKED: s1382_505} ist //von Anfang an//_{UNMARKED: s1382_503} [dabei]_{markable_85} . Was [die Menschen]_{markable_50} hier h\u00e4lt , ist durchaus nicht nur die Unlust , die oft kleinen R\u00e4ume im Alter noch gegen gr\u00f6\u00dfere zu tauschen . Vielmehr gibt es hier Wohnungen [am Wasser]_{markable_70} , die man //auch nach Sanierung//_{UNMARKED: s1384_501} heute noch bezahlen kann . [F\u00fcr die treuen Kiezbewohner]_{markable_50} sind daher \u00dcberlegungen schwer nachvollziehbar , [die Hochh\u00e4user]_{markable_85} abzustocken oder gar ganz zu schleifen . Nur in der Berliner Vorstadt wohnen //vergleichbar viele Leute//_{UNMARKED: s1386_509} so nah [an der Havel]_{markable_70} , doch seien es die hohen Auflagen von Denkmalpflegern , sei es der Drang nach Maximalgewinn bei den neuen Eigent\u00fcmern : //Wegen hoher Mieten//_{UNMARKED: s1386_506} weichen gro\u00dfe Teile der Stammbev\u00f6lkerung den besser Verdienenden . [Am Kiewitt]_{markable_1000174} dagegen pflegt man Bodenst\u00e4ndigkeit : [Die Platte]_{markable_85} hat sich inwendig erneuert und \u00e4u\u00dferlich Farbe aufgelegt . Nun sollte man im Umfeld nachziehen - die Treuhand mit der Ufergastst\u00e4tte etwa . "
       ]
      },
      {
       "output_type": "stream",
       "stream": "stdout",
       "text": [
        "\n",
        "maz-10207.mmax"
       ]
      },
      {
       "output_type": "stream",
       "stream": "stderr",
       "text": [
        "Traceback (most recent call last):\n",
        "  File \"<ipython-input-36-de27837c88ea>\", line 11, in <module>\n",
        "    print gen_bracketed_output(mdg)\n",
        "  File \"<ipython-input-31-c182c063225c>\", line 20, in gen_bracketed_output\n",
        "    opening, closing, markable2chain = gen_bracket_mappings(docgraph)\n",
        "  File \"/usr/local/lib/python2.7/dist-packages/discoursegraphs-0.1.2-py2.7.egg/discoursegraphs/readwrite/brackets.py\", line 41, in gen_bracket_mappings\n",
        "    docgraph, docgraph.node[markable][docgraph.ns+':span'])\n",
        "KeyError: 'mmax:span'\n",
        "Traceback (most recent call last):\n",
        "  File \"<ipython-input-36-de27837c88ea>\", line 11, in <module>\n",
        "    print gen_bracketed_output(mdg)\n",
        "  File \"<ipython-input-31-c182c063225c>\", line 20, in gen_bracketed_output\n",
        "    opening, closing, markable2chain = gen_bracket_mappings(docgraph)\n",
        "  File \"/usr/local/lib/python2.7/dist-packages/discoursegraphs-0.1.2-py2.7.egg/discoursegraphs/readwrite/brackets.py\", line 41, in gen_bracket_mappings\n",
        "    docgraph, docgraph.node[markable][docgraph.ns+':span'])\n",
        "KeyError: 'mmax:span'\n"
       ]
      },
      {
       "output_type": "stream",
       "stream": "stdout",
       "text": [
        "\n",
        "maz-18712.mmax"
       ]
      },
      {
       "output_type": "stream",
       "stream": "stdout",
       "text": [
        "\n",
        "Ein Fels Es war sicher nicht [die letzte Lobpreisung]_{markable_4} [[f\u00fcr Hans-Joachim Giersberg]_{markable_33}]_{markable_33} . Doch d\u00fcrfte [[ihm]_{markable_33}]_{markable_33} [die Ehrenb\u00fcrgerw\u00fcrde]_{markable_4} , die [[ihm]_{markable_33}]_{markable_33} [Potsdam]_{markable_21} gestern verlieh , wertvoller sein //als mancher Preis , der da noch kommen mag//_{UNMARKED: s1152_504} . Ist es doch die Anerkennung daf\u00fcr , dass [[der fr\u00fchere Generaldirektor der Schl\u00f6sserstiftung]_{markable_33}]_{markable_33} nicht allein von der Sorge [um die anvertrauten Kunstsch\u00e4tze]_{markable_13} getrieben war , sondern von der Vision einer Stadt , die [durch diese Kunst]_{markable_13} lebt . So stand [Giersberg]_{markable_33} nicht nur //wie der Fels //in der Brandung//_{UNMARKED: s1154_501 s1154_504} , als die Kommerzialisierungswogen an die Schlossmauern schlugen . [Sein]_{markable_33} stilles , aber nachhaltiges Eintreten f\u00fcr die Qualit\u00e4ten der Kulturlandschaft au\u00dferhalb seiner G\u00e4rten , allzuoft //als Sichtachsen-Fetischismus//_{UNMARKED: s1155_503} ben\u00f6rgelt , hat dazu beigetragen , [die Landeshauptstadt]_{markable_21} //als Gesamtkunstwerk//_{UNMARKED: s1155_505} erfahrbar zu machen . Daf\u00fcr hat [ihm]_{markable_29} [Potsdam]_{markable_21} zu danken . Mit [seinem]_{markable_33} Ja zu den Schl\u00f6ssern\u00e4chten \u00fcbersprang [er]_{markable_29} //am Ende//_{UNMARKED: s1157_501} sogar den Schatten des nur \u00e4ngstlichen Bewahrers , //als der//_{UNMARKED: s1157_503} [er]_{markable_29} lange galt . Dennoch endet [mit Giersberg]_{markable_29} //eine \u00c4ra//_{UNMARKED: s1158_501} . [[Sein]_{markable_29} Nachfolger]_{markable_28} wird //nicht allein am Kunstsinn//_{UNMARKED: s1159_505} gemessen werden , [er]_{markable_28} wird mehr von dem haben m\u00fcssen , was [Giersberg]_{markable_29} l\u00e4stig war : Sinn f\u00fcr das Geld - und //damit f\u00fcr alle \" niederen \" Bed\u00fcrfnisse//_{UNMARKED: s1159_504} . "
       ]
      },
      {
       "output_type": "stream",
       "stream": "stdout",
       "text": [
        "\n",
        "maz-8981.mmax"
       ]
      },
      {
       "output_type": "stream",
       "stream": "stdout",
       "text": [
        "\n",
        "maz-19150.mmax"
       ]
      },
      {
       "output_type": "stream",
       "stream": "stderr",
       "text": [
        "Traceback (most recent call last):\n",
        "  File \"<ipython-input-36-de27837c88ea>\", line 11, in <module>\n",
        "    print gen_bracketed_output(mdg)\n",
        "  File \"<ipython-input-31-c182c063225c>\", line 20, in gen_bracketed_output\n",
        "    opening, closing, markable2chain = gen_bracket_mappings(docgraph)\n",
        "  File \"/usr/local/lib/python2.7/dist-packages/discoursegraphs-0.1.2-py2.7.egg/discoursegraphs/readwrite/brackets.py\", line 41, in gen_bracket_mappings\n",
        "    docgraph, docgraph.node[markable][docgraph.ns+':span'])\n",
        "KeyError: 'mmax:span'\n",
        "Traceback (most recent call last):\n",
        "  File \"<ipython-input-36-de27837c88ea>\", line 11, in <module>\n",
        "    print gen_bracketed_output(mdg)\n",
        "  File \"<ipython-input-31-c182c063225c>\", line 20, in gen_bracketed_output\n",
        "    opening, closing, markable2chain = gen_bracket_mappings(docgraph)\n",
        "  File \"/usr/local/lib/python2.7/dist-packages/discoursegraphs-0.1.2-py2.7.egg/discoursegraphs/readwrite/brackets.py\", line 41, in gen_bracket_mappings\n",
        "    docgraph, docgraph.node[markable][docgraph.ns+':span'])\n",
        "KeyError: 'mmax:span'\n"
       ]
      },
      {
       "output_type": "stream",
       "stream": "stdout",
       "text": [
        "\n",
        "maz-5039.mmax"
       ]
      },
      {
       "output_type": "stream",
       "stream": "stdout",
       "text": [
        "\n"
       ]
      },
      {
       "output_type": "stream",
       "stream": "stderr",
       "text": [
        "Traceback (most recent call last):\n",
        "  File \"<ipython-input-36-de27837c88ea>\", line 11, in <module>\n",
        "    print gen_bracketed_output(mdg)\n",
        "  File \"<ipython-input-31-c182c063225c>\", line 20, in gen_bracketed_output\n",
        "    opening, closing, markable2chain = gen_bracket_mappings(docgraph)\n",
        "  File \"/usr/local/lib/python2.7/dist-packages/discoursegraphs-0.1.2-py2.7.egg/discoursegraphs/readwrite/brackets.py\", line 41, in gen_bracket_mappings\n",
        "    docgraph, docgraph.node[markable][docgraph.ns+':span'])\n",
        "KeyError: 'mmax:span'\n"
       ]
      }
     ],
     "prompt_number": 36
    },
    {
     "cell_type": "code",
     "collapsed": false,
     "input": [],
     "language": "python",
     "metadata": {},
     "outputs": []
    }
   ],
   "metadata": {}
  }
 ]
}