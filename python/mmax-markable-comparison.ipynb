{
 "metadata": {
  "name": "",
  "signature": "sha256:3922b38661f5301f20b1e6d0581e72eb409c2a42f36c0c2e27b8e61c5c9e53a0"
 },
 "nbformat": 3,
 "nbformat_minor": 0,
 "worksheets": [
  {
   "cells": [
    {
     "cell_type": "heading",
     "level": 1,
     "metadata": {},
     "source": [
      "Q: Are there NPs/PPs in PCC that aren't markables although they should be?"
     ]
    },
    {
     "cell_type": "code",
     "collapsed": false,
     "input": [
      "import os\n",
      "import glob\n",
      "\n",
      "import discoursegraphs as dg"
     ],
     "language": "python",
     "metadata": {},
     "outputs": [
      {
       "output_type": "stream",
       "stream": "stdout",
       "text": [
        "Couldn't import dot_parser, loading of dot files will not be possible.\n"
       ]
      }
     ],
     "prompt_number": 1
    },
    {
     "cell_type": "code",
     "collapsed": false,
     "input": [
      "MMAX_ROOT_DIR = os.path.expanduser('/home/arne/corpora/potsdam-commentary-corpus-2.0.0/coreference/')\n",
      "TIGER_ROOT_DIR = os.path.expanduser('/home/arne/corpora/potsdam-commentary-corpus-2.0.0/syntax/')\n",
      "\n",
      "\n",
      "MMAX_TEST_FILE = os.path.join(MMAX_ROOT_DIR, 'maz-1423.mmax')\n",
      "TIGER_TEST_FILE = os.path.join(TIGER_ROOT_DIR, 'maz-1423.xml')"
     ],
     "language": "python",
     "metadata": {},
     "outputs": [],
     "prompt_number": 2
    },
    {
     "cell_type": "code",
     "collapsed": false,
     "input": [
      "for mmax_file in glob.glob(MMAX_ROOT_DIR+'*.mmax'):\n",
      "    dg.read_mmax2(mmax_file)"
     ],
     "language": "python",
     "metadata": {},
     "outputs": [],
     "prompt_number": 3
    },
    {
     "cell_type": "code",
     "collapsed": false,
     "input": [
      "mdg = dg.read_mmax2(MMAX_TEST_FILE)\n",
      "tdg = dg.read_tiger(TIGER_TEST_FILE)\n",
      "mdg.merge_graphs(tdg)"
     ],
     "language": "python",
     "metadata": {},
     "outputs": [],
     "prompt_number": 4
    },
    {
     "cell_type": "code",
     "collapsed": false,
     "input": [
      "dg.info(mdg)"
     ],
     "language": "python",
     "metadata": {},
     "outputs": [
      {
       "output_type": "stream",
       "stream": "stdout",
       "text": [
        "Name: maz-1423.mmax\n",
        "Type: MMAXDocumentGraph\n",
        "Number of nodes: 325\n",
        "Number of edges: 358\n",
        "Average in degree:   1.1015\n",
        "Average out degree:   1.1015 \n",
        "\n",
        "Node statistics\n",
        "===============\n",
        "\n",
        "number of nodes with layers\n",
        "\ttiger - 286\n",
        "\tmmax - 207\n",
        "\ttiger:token - 185\n",
        "\tmmax:token - 185\n",
        "\ttiger:syntax - 68\n",
        "\ttiger:sentence - 32\n",
        "\tmmax:markable - 21\n",
        "\tmmax:primmark - 21\n",
        "\ttiger:sentence:vroot - 16\n",
        "\tmmax:sentence - 16\n",
        "\ttiger:sentence:root - 16\n",
        "\tdiscoursegraph - 1\n",
        "\n",
        "number of nodes with attributes\n",
        "\tlayers - 325\n",
        "\tlabel - 290\n",
        "\ttiger:id - 285\n",
        "\ttiger:word - 185\n",
        "\ttiger:morph - 185\n",
        "\ttiger:token - 185\n",
        "\ttiger:lemma - 185\n",
        "\ttiger:pos - 185\n",
        "\tmmax:token - 185\n",
        "\ttiger:cat - 84\n",
        "\ttokens - 32\n",
        "\tmmax:ambiguity - 21\n",
        "\tmmax:np_form - 21\n",
        "\tmmax:phrase_type - 21\n",
        "\tmmax:referentiality - 21\n",
        "\tmmax:id - 21\n",
        "\tmmax:grammatical_role - 21\n",
        "\tmmax:dir_speech - 21\n",
        "\tmmax:type - 21\n",
        "\tmmax:anaphor_antecedent - 21\n",
        "\tmmax:complex_np - 21\n",
        "\tmmax:span - 21\n",
        "\ttiger:orig_id - 16\n",
        "\ttiger:art_id - 16\n",
        "\tmmax:anaphor_type - 9\n",
        "\tmetadata - 1\n",
        "\n",
        "Edge statistics\n",
        "===============\n",
        "\n",
        "number of edges with layers\n",
        "\ttiger - 301\n",
        "\ttiger:edge - 231\n",
        "\ttiger:sentence - 70\n",
        "\tmmax - 57\n",
        "\tmmax:markable - 57\n",
        "\tmmax:primmark - 57\n",
        "\ttiger:unconnected - 38\n",
        "\ttiger:sentence:vroot - 16\n",
        "\n",
        "number of edges with attributes\n",
        "\tlayers - 358\n",
        "\tedge_type - 358\n",
        "\tlabel - 288\n",
        "\ttiger:idref - 231\n",
        "\ttiger:label - 231\n",
        "\n",
        "most common source edges\n",
        "\ttiger:root_node - 16\n",
        "\tmarkable_16 - 6\n",
        "\tVROOT-s525 - 5\n",
        "\tmarkable_7 - 5\n",
        "\ts538_505 - 5\n",
        "\n",
        "most common target edges\n",
        "\tdiscoursegraph:root_node - 16\n",
        "\tword_10 - 3\n",
        "\tword_149 - 2\n",
        "\tword_140 - 2\n",
        "\tword_141 - 2\n"
       ]
      }
     ],
     "prompt_number": 5
    },
    {
     "cell_type": "code",
     "collapsed": false,
     "input": [
      "# from dg.readwrite.mmax2 import extract_potential_markables\n",
      "# import dg.readwrite.mmax2.extract_potential_markables\n",
      "\n",
      "from discoursegraphs.readwrite.mmax2 import get_potential_markables"
     ],
     "language": "python",
     "metadata": {},
     "outputs": [],
     "prompt_number": 6
    },
    {
     "cell_type": "code",
     "collapsed": false,
     "input": [
      "# extract potential markables from all *.mmax documents\n",
      "# all_potential_markables = {}\n",
      "# for mmax_file in glob.glob(MMAX_ROOT_DIR+'*.mmax'):\n",
      "#     doc_id = os.path.basename(mmax_file).split('.')[0]\n",
      "#     mdg = dg.read_mmax2(mmax_file)\n",
      "#     tdg = dg.read_tiger(os.path.join(TIGER_ROOT_DIR, doc_id+'.xml'))\n",
      "#     mdg.merge_graphs(tdg)\n",
      "#     all_potential_markables[mdg] = get_potential_markables(mdg)"
     ],
     "language": "python",
     "metadata": {},
     "outputs": [],
     "prompt_number": 7
    },
    {
     "cell_type": "code",
     "collapsed": false,
     "input": [
      "# look at all the NPs/PPs in a document\n",
      "# print the in-edges for each token belonging to one of those phrases\n",
      "# is any of the in-edges in the 'mmax:markable' layer?\n",
      "\n",
      "# for docgraph, potential_markables in all_potential_markables.iteritems():\n",
      "#     print docgraph\n",
      "#     for cat_node in potential_markables:\n",
      "#         cat, token_ids = potential_markables[cat_node]    \n",
      "#         if not any('mmax:markable' in eattr['layers']\n",
      "#                   for token_id in token_ids\n",
      "#                   for (src, trg, eattr) in docgraph.in_edges(token_id, data=True)):\n",
      "#             print \"\\t{} ({})\".format(cat, cat_node)\n",
      "#             print u\"\\t{}\".format(dg.get_text(docgraph, cat_node))\n",
      "\n",
      "#         for token_id in token_ids:\n",
      "#             in_edges = docgraph.in_edges(token_id, data=True)\n",
      "#             print '\\t', any('mmax:markable' in eattr['layers'] for (src, trg, eattr) in in_edges)"
     ],
     "language": "python",
     "metadata": {},
     "outputs": [],
     "prompt_number": 8
    },
    {
     "cell_type": "code",
     "collapsed": false,
     "input": [
      "def get_unmarked_potential_markables(docgraph):\n",
      "    \"\"\"\n",
      "    Parameters\n",
      "    ----------\n",
      "    docgraph : DiscourseDocumentGraph\n",
      "        a document graph that (at least) contains syntax trees\n",
      "        (imported from Tiger XML files) and markables (imported from\n",
      "        an MMAX2 file)\n",
      "    \"\"\"\n",
      "    unmarked_potential_markables = []\n",
      "    for cat_node in get_potential_markables(docgraph):\n",
      "        if not any('mmax:markable' in eattr['layers']\n",
      "                  for token_id in dg.get_span(docgraph, cat_node)\n",
      "                  for (src, trg, eattr) in docgraph.in_edges(token_id, data=True)):\n",
      "            unmarked_potential_markables.append(cat_node)\n",
      "    return unmarked_potential_markables\n"
     ],
     "language": "python",
     "metadata": {},
     "outputs": [],
     "prompt_number": 15
    },
    {
     "cell_type": "code",
     "collapsed": false,
     "input": [
      "from collections import defaultdict\n",
      "\n",
      "def gen_unmarked_bracket_mappings(docgraph, unmarked_potential_markables):\n",
      "\n",
      "    # a token node can be part of more than one markable/span\n",
      "    opening = defaultdict(list)\n",
      "    closing = defaultdict(list)\n",
      "    \n",
      "    for unmarked_phrase_id in unmarked_potential_markables:\n",
      "        span_node_ids = dg.get_span(docgraph, unmarked_phrase_id)\n",
      "        first = span_node_ids[0]\n",
      "        last = span_node_ids[-1]\n",
      "        opening[first].append(unmarked_phrase_id)\n",
      "        closing[last].append(unmarked_phrase_id)\n",
      "    return opening, closing"
     ],
     "language": "python",
     "metadata": {},
     "outputs": [],
     "prompt_number": 26
    },
    {
     "cell_type": "code",
     "collapsed": false,
     "input": [
      "# for mmax_file in glob.glob(MMAX_ROOT_DIR+'*.mmax')[:1]:\n",
      "#     mdg = dg.read_mmax2(mmax_file)\n",
      "#     doc_id = os.path.basename(mmax_file).split('.')[0]\n",
      "#     tdg = dg.read_tiger(os.path.join(TIGER_ROOT_DIR, doc_id+'.xml'))\n",
      "#     mdg.merge_graphs(tdg)\n",
      "#     unmarked_potential_markables = get_unmarked_potential_markables(mdg)\n",
      "#     opening, closing = gen_unmarked_bracket_mappings(mdg, unmarked_potential_markables)\n",
      "#     for tok_id in mdg.tokens:\n",
      "#         token = mdg.get_token(tok_id)\n",
      "#         if tok_id in opening:\n",
      "#             print \"[{}\".format(token)\n",
      "#         elif tok_id in closing:\n",
      "#             print \"{0}]_{{{1}}}\".format(token, ' '.join(closing[tok_id]))\n",
      "#         else:\n",
      "#             print token\n",
      "\n",
      "def gen_bracketed_output_for_unmarkables(docgraph):\n",
      "    ret_str = u''\n",
      "    unmarked_potential_markables = get_unmarked_potential_markables(docgraph)\n",
      "    opening, closing = gen_unmarked_bracket_mappings(docgraph, unmarked_potential_markables)\n",
      "    for tok_id in docgraph.tokens:\n",
      "        token = docgraph.get_token(tok_id)\n",
      "        if tok_id in opening:\n",
      "            ret_str += u\"[{} \".format(token)\n",
      "        elif tok_id in closing:\n",
      "            ret_str += u\"{0}]_{{{1}}} \".format(token, 'UNMARKED: '+' '.join(closing[tok_id]))\n",
      "        else:\n",
      "            ret_str += u\"{} \".format(token)\n",
      "    return ret_str\n"
     ],
     "language": "python",
     "metadata": {},
     "outputs": [],
     "prompt_number": 35
    },
    {
     "cell_type": "code",
     "collapsed": false,
     "input": [
      "for mmax_file in glob.glob(MMAX_ROOT_DIR+'*.mmax')[:1]:\n",
      "    mdg = dg.read_mmax2(mmax_file)\n",
      "    doc_id = os.path.basename(mmax_file).split('.')[0]\n",
      "    tdg = dg.read_tiger(os.path.join(TIGER_ROOT_DIR, doc_id+'.xml'))\n",
      "    mdg.merge_graphs(tdg)\n",
      "    print mmax_file\n",
      "    print gen_bracketed_output_for_unmarkables(mdg)"
     ],
     "language": "python",
     "metadata": {},
     "outputs": [
      {
       "output_type": "stream",
       "stream": "stdout",
       "text": [
        "/home/arne/corpora/potsdam-commentary-corpus-2.0.0/coreference/maz-10374.mmax\n",
        "F\u00fcrchtet euch nicht ! Die einstige Fu\u00dfball-Weltmacht zittert [vor einem Winzling]_{UNMARKED: s46_501} . Mit seinem Tor zum 1:0 f\u00fcr die Ukraine st\u00fcrzte der 1,62 Meter gro\u00dfe Gennadi Subow die deutsche Nationalelf vor\u00fcbergehend [in ein Trauma]_{UNMARKED: s47_504} . Nachdem den tapfer k\u00e4mpfenden G\u00e4sten der Ausgleich gelungen war , wechselte der wie eine Mumie auf der Bank sitzende ukrainische Coach noch [zwei \u00e4hnliche Leichtgewichte]_{UNMARKED: s48_504} ein . Was soll das erst morgen Abend im zweiten Spiel werden ? Wenn die drei Knirpse [von Anbeginn]_{UNMARKED: s50_501} wirbeln , k\u00f6nnte der um Ehre und Reputation k\u00e4mpfenden Mannschaft von Rudi V\u00f6ller der Weg zur Weltmeisterschaft endg\u00fcltig verbaut sein . Je kleiner die Kicker daherkommen , desto gr\u00f6\u00dfer wird der Gegner geredet . Die Fu\u00dfball-Kleinmacht vom Dnepr steht kurz davor , das scheinbar mit einem Dauerabonnement f\u00fcr die WM ausgestattete Team in der schwarz-wei\u00dfen Kluft und eine ganze Nation in das Tal der Tr\u00e4nen zu treiben . Dabei haben die deutschen Nationalkicker einen \" Rudi Riese \" auf der Bank und einen Franz Beckenbauer mit hei\u00dfem Draht zum Fu\u00dfballgott . F\u00fcrchtet euch nicht ! \n"
       ]
      }
     ],
     "prompt_number": 36
    },
    {
     "cell_type": "code",
     "collapsed": false,
     "input": [
      "# real markables\n",
      "\n",
      "mdg = dg.read_mmax2(MMAX_TEST_FILE)\n",
      "for markable, mattr in dg.select_nodes_by_layer(mdg, 'mmax:markable', data=True):\n",
      "    print markable, mattr['mmax:phrase_type']\n",
      "    print dg.get_text(mdg, markable)"
     ],
     "language": "python",
     "metadata": {},
     "outputs": [
      {
       "output_type": "stream",
       "stream": "stdout",
       "text": [
        "markable_18 np\n",
        "Gymnasium\n",
        "markable_19 np\n",
        "die Dosse-Stadt\n",
        "markable_13 np\n",
        "die Nachbarst\u00e4dte\n",
        "markable_10 np\n",
        "Die Halle\n",
        "markable_11 np\n",
        "Wittstocker\n",
        "markable_16 np\n",
        "Die G\u00e4ste aus nah und fern\n",
        "markable_17 np\n",
        "Wittstock\n",
        "markable_14 np\n",
        "Wittstock\n",
        "markable_15 np\n",
        "Das Oktoberfest\n",
        "markable_12 pp\n",
        "in der Region\n",
        "markable_1 np\n",
        "Die Diskussion\n",
        "markable_2 np\n",
        "die neue Wittstocker Stadthalle\n",
        "markable_3 pp\n",
        "Bei der j\u00fcngsten Sitzung\n",
        "markable_4 np\n",
        "die Stadtverordneten\n",
        "markable_5 np\n",
        "Die Einnahmen\n",
        "markable_6 np\n",
        "Die Betriebskosten\n",
        "markable_7 pp\n",
        "f\u00fcr den schmucken Veranstaltungsort\n",
        "markable_8 np\n",
        "die Halle\n",
        "markable_9 np\n",
        "der Stadthaushalt\n",
        "markable_22 np\n",
        "Wittstock\n",
        "markable_21 np\n",
        "die Halle\n"
       ]
      }
     ],
     "prompt_number": 11
    },
    {
     "cell_type": "code",
     "collapsed": false,
     "input": [
      "dg.get_span(mdg, 'markable_1')"
     ],
     "language": "python",
     "metadata": {},
     "outputs": [
      {
       "metadata": {},
       "output_type": "pyout",
       "prompt_number": 12,
       "text": [
        "['word_3', 'word_4']"
       ]
      }
     ],
     "prompt_number": 12
    },
    {
     "cell_type": "code",
     "collapsed": false,
     "input": [],
     "language": "python",
     "metadata": {},
     "outputs": [],
     "prompt_number": 12
    }
   ],
   "metadata": {}
  }
 ]
}