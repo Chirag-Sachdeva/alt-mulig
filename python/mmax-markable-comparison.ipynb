{
 "metadata": {
  "name": "",
  "signature": "sha256:ce2ad78b0c29d404362a21eb9633f9c68d08e933eb06135123e7ee814dfe5357"
 },
 "nbformat": 3,
 "nbformat_minor": 0,
 "worksheets": [
  {
   "cells": [
    {
     "cell_type": "heading",
     "level": 1,
     "metadata": {},
     "source": [
      "Q: Are there NPs/PPs in PCC that aren't markables although they should be?"
     ]
    },
    {
     "cell_type": "code",
     "collapsed": false,
     "input": [
      "import os\n",
      "import glob\n",
      "\n",
      "import discoursegraphs as dg"
     ],
     "language": "python",
     "metadata": {},
     "outputs": [
      {
       "output_type": "stream",
       "stream": "stdout",
       "text": [
        "Couldn't import dot_parser, loading of dot files will not be possible.\n"
       ]
      }
     ],
     "prompt_number": 1
    },
    {
     "cell_type": "code",
     "collapsed": false,
     "input": [
      "MMAX_ROOT_DIR = os.path.expanduser('/home/arne/corpora/potsdam-commentary-corpus-2.0.0/coreference/')\n",
      "TIGER_ROOT_DIR = os.path.expanduser('/home/arne/corpora/potsdam-commentary-corpus-2.0.0/syntax/')\n",
      "\n",
      "\n",
      "MMAX_TEST_FILE = os.path.join(MMAX_ROOT_DIR, 'maz-1423.mmax')\n",
      "TIGER_TEST_FILE = os.path.join(TIGER_ROOT_DIR, 'maz-1423.xml')"
     ],
     "language": "python",
     "metadata": {},
     "outputs": [],
     "prompt_number": 2
    },
    {
     "cell_type": "code",
     "collapsed": false,
     "input": [
      "# for mmax_file in glob.glob(MMAX_ROOT_DIR+'*.mmax'):\n",
      "#     dg.read_mmax2(mmax_file)"
     ],
     "language": "python",
     "metadata": {},
     "outputs": [],
     "prompt_number": 3
    },
    {
     "cell_type": "code",
     "collapsed": false,
     "input": [
      "from discoursegraphs.readwrite.mmax2 import get_potential_markables\n",
      "\n",
      "def get_unmarked_potential_markables(docgraph):\n",
      "    \"\"\"\n",
      "    Parameters\n",
      "    ----------\n",
      "    docgraph : DiscourseDocumentGraph\n",
      "        a document graph that (at least) contains syntax trees\n",
      "        (imported from Tiger XML files) and markables (imported from\n",
      "        an MMAX2 file)\n",
      "    \"\"\"\n",
      "    unmarked_potential_markables = []\n",
      "    for cat_node in get_potential_markables(docgraph):\n",
      "        if not any('mmax:markable' in eattr['layers']\n",
      "                  for token_id in dg.get_span(docgraph, cat_node)\n",
      "                  for (src, trg, eattr) in docgraph.in_edges(token_id, data=True)):\n",
      "            unmarked_potential_markables.append(cat_node)\n",
      "    return unmarked_potential_markables\n"
     ],
     "language": "python",
     "metadata": {},
     "outputs": [],
     "prompt_number": 4
    },
    {
     "cell_type": "code",
     "collapsed": false,
     "input": [
      "from collections import defaultdict\n",
      "\n",
      "def gen_unmarked_bracket_mappings(docgraph, unmarked_potential_markables):\n",
      "\n",
      "    # a token node can be part of more than one markable/span\n",
      "    opening = defaultdict(list)\n",
      "    closing = defaultdict(list)\n",
      "    \n",
      "    for unmarked_phrase_id in unmarked_potential_markables:\n",
      "        span_node_ids = dg.get_span(docgraph, unmarked_phrase_id)\n",
      "        first = span_node_ids[0]\n",
      "        last = span_node_ids[-1]\n",
      "        opening[first].append(unmarked_phrase_id)\n",
      "        closing[last].append(unmarked_phrase_id)\n",
      "    return opening, closing"
     ],
     "language": "python",
     "metadata": {},
     "outputs": [],
     "prompt_number": 5
    },
    {
     "cell_type": "code",
     "collapsed": false,
     "input": [
      "def gen_bracketed_output_for_unmarkables(docgraph):\n",
      "    ret_str = u''\n",
      "    unmarked_potential_markables = get_unmarked_potential_markables(docgraph)\n",
      "    opening, closing = gen_unmarked_bracket_mappings(docgraph, unmarked_potential_markables)\n",
      "    for tok_id in docgraph.tokens:\n",
      "        token = docgraph.get_token(tok_id)\n",
      "        if tok_id in opening:\n",
      "            ret_str += u\"[{} \".format(token)\n",
      "        elif tok_id in closing:\n",
      "            ret_str += u\"{0}]_{{{1}}} \".format(token, 'UNMARKED: '+' '.join(closing[tok_id]))\n",
      "        else:\n",
      "            ret_str += u\"{} \".format(token)\n",
      "    return ret_str\n"
     ],
     "language": "python",
     "metadata": {},
     "outputs": [],
     "prompt_number": 6
    },
    {
     "cell_type": "code",
     "collapsed": false,
     "input": [
      "from discoursegraphs.readwrite.brackets import gen_bracket_mappings, gen_closing_string\n",
      "\n",
      "def gen_bracketed_output(docgraph, layer='mmax'):\n",
      "    '''\n",
      "\n",
      "    TODO: the order of the opening brackets should be determined (e.g. if\n",
      "    a token marks the beginning of two markables, we could check if the\n",
      "    first markable subsumes the second markable or vice versa.)\n",
      "\n",
      "    Example\n",
      "    -------\n",
      "    Die Diskussion , wie teuer [die neue [Wittstocker]_{markable_22}\n",
      "    Stadthalle]_{markable_21} f\u00fcr Vereine und Veranstalter wird , hat\n",
      "    einige Zeit in Anspruch genommen .\n",
      "    Die Betriebskosten [f\u00fcr den schmucken Veranstaltungsort]_{markable_21}\n",
      "    sind hoch . Jetzt wird es darum gehen , [die Halle]_{markable_21} so oft\n",
      "    wie m\u00f6glich zu f\u00fcllen .\n",
      "    Und [in der Region]_{markable_22} gibt es Konkurrenz .\n",
      "    '''\n",
      "    opening, closing, markable2chain = gen_bracket_mappings(docgraph, layer=layer)\n",
      "    \n",
      "    unmarked_potential_markables = get_unmarked_potential_markables(docgraph)\n",
      "    unmark_opening, unmark_closing = gen_unmarked_bracket_mappings(docgraph, unmarked_potential_markables)\n",
      "    \n",
      "    ret_str = u''\n",
      "    stack = []\n",
      "    for token_id in docgraph.tokens:\n",
      "        token_str = docgraph.get_token(token_id)\n",
      "        if token_id in opening:\n",
      "            num_of_opening_brackets = len(opening[token_id])\n",
      "            stack.extend(opening[token_id])\n",
      "            opening_str = u'[' * num_of_opening_brackets\n",
      "\n",
      "            if token_id in closing:\n",
      "                # token is both the first and last element of 1+ markables\n",
      "                closing_str = gen_closing_string(closing, markable2chain,\n",
      "                                                 token_id, stack)\n",
      "                ret_str += u'{0}{1}{2} '.format(opening_str, token_str,\n",
      "                                                closing_str)\n",
      "            else: # token is the first element of 1+ markables\n",
      "                ret_str += u'{0}{1} '.format(opening_str, token_str)\n",
      "        elif token_id in closing:\n",
      "            closing_str = gen_closing_string(closing, markable2chain,\n",
      "                                             token_id, stack)\n",
      "            ret_str += u'{0}{1} '.format(token_str, closing_str)\n",
      "\n",
      "        # token is not part of a markable, but of an (unmarked) NP/PP\n",
      "        elif token_id in unmark_opening:\n",
      "            num_of_opening_brackets = len(unmark_opening[token_id])\n",
      "            stack.extend(unmark_opening[token_id])\n",
      "            opening_str = u'//' * num_of_opening_brackets\n",
      "\n",
      "            if token_id in unmark_closing:\n",
      "                # token is both the first and last element of 1+ markables\n",
      "#                 ret_str += u\"{0}//_{{{1}}} \".format(token_str, 'UNMARKED: '+' '.join(unmark_closing[token_id]))\n",
      "                ret_str += token_str + gen_unmark_closing_string(unmark_closing, token_id, stack)\n",
      "                \n",
      "                \n",
      "            else: # token is the first element of 1+ markables\n",
      "                ret_str += u'{0}{1} '.format(opening_str, token_str)            \n",
      "        elif token_id in unmark_closing:\n",
      "#             ret_str += u\"{0}//_{{{1}}} \".format(token_str, 'UNMARKED: '+' '.join(unmark_closing[token_id]))\n",
      "            ret_str += token_str + gen_unmark_closing_string(unmark_closing, token_id, stack)\n",
      "            \n",
      "            \n",
      "            \n",
      "        else: # token is not part of any span\n",
      "            ret_str += u'{} '.format(token_str)\n",
      "    return ret_str"
     ],
     "language": "python",
     "metadata": {},
     "outputs": [],
     "prompt_number": 7
    },
    {
     "cell_type": "code",
     "collapsed": false,
     "input": [
      "def gen_unmark_closing_string(closing_dict, token_id, stack):\n",
      "    num_of_closing_brackets = len(closing_dict[token_id])\n",
      "    closing_markable_ids = [stack.pop()\n",
      "                            for i in range(num_of_closing_brackets)]\n",
      "    return u''.join(u'//_{{{}}}'.format(cmi) for cmi in closing_markable_ids) + u' '"
     ],
     "language": "python",
     "metadata": {},
     "outputs": [],
     "prompt_number": 8
    },
    {
     "cell_type": "code",
     "collapsed": false,
     "input": [
      "import itertools\n",
      "\n",
      "MMAX_BAD_FILE = os.path.expanduser('~/corpora/potsdam-commentary-corpus-2.0.0/coreference/maz-14172.mmax')\n",
      "\n",
      "# Traceback (most recent call last):\n",
      "#   File \"<ipython-input-9-6e65fa629262>\", line 11, in <module>\n",
      "#     print gen_bracketed_output(mdg)\n",
      "#   File \"<ipython-input-7-c182c063225c>\", line 20, in gen_bracketed_output\n",
      "#     opening, closing, markable2chain = gen_bracket_mappings(docgraph)\n",
      "#   File \"/usr/local/lib/python2.7/dist-packages/discoursegraphs-0.1.2-py2.7.egg/discoursegraphs/readwrite/brackets.py\", line 41, in gen_bracket_mappings\n",
      "#     docgraph, docgraph.node[markable][docgraph.ns+':span'])\n",
      "# KeyError: 'mmax:span'\n",
      "\n",
      "mdg = dg.read_mmax2(MMAX_BAD_FILE)"
     ],
     "language": "python",
     "metadata": {},
     "outputs": [],
     "prompt_number": 9
    },
    {
     "cell_type": "code",
     "collapsed": false,
     "input": [
      "import sys\n",
      "import traceback\n",
      "import codecs\n",
      "\n",
      "with codecs.open('/tmp/unmarked_markables.txt', 'w', encoding='utf-8') as outfile:\n",
      "    for mmax_file in sorted(glob.glob(MMAX_ROOT_DIR+'*.mmax'), key=dg.util.natural_sort_key):\n",
      "        mdg = dg.read_mmax2(mmax_file)\n",
      "        doc_id = os.path.basename(mmax_file).split('.')[0]\n",
      "        tdg = dg.read_tiger(os.path.join(TIGER_ROOT_DIR, doc_id+'.xml'))\n",
      "        mdg.merge_graphs(tdg)\n",
      "        outfile.write(u\"{}\\n{}\\n\\n\".format(mdg.name, gen_bracketed_output(mdg, layer='mmax')))"
     ],
     "language": "python",
     "metadata": {},
     "outputs": [],
     "prompt_number": 18
    },
    {
     "cell_type": "code",
     "collapsed": false,
     "input": [],
     "language": "python",
     "metadata": {},
     "outputs": [],
     "prompt_number": 10
    }
   ],
   "metadata": {}
  }
 ]
}