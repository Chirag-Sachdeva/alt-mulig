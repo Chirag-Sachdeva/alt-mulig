{
 "cells": [
  {
   "cell_type": "markdown",
   "metadata": {},
   "source": [
    "# Q: Are there NPs/PPs in PCC that aren't markables although they should be?"
   ]
  },
  {
   "cell_type": "code",
   "execution_count": 1,
   "metadata": {
    "collapsed": false
   },
   "outputs": [
    {
     "name": "stdout",
     "output_type": "stream",
     "text": [
      "Couldn't import dot_parser, loading of dot files will not be possible.\n"
     ]
    }
   ],
   "source": [
    "import os\n",
    "import glob\n",
    "\n",
    "import discoursegraphs as dg"
   ]
  },
  {
   "cell_type": "code",
   "execution_count": 2,
   "metadata": {
    "collapsed": false
   },
   "outputs": [],
   "source": [
    "MMAX_ROOT_DIR = os.path.expanduser('/home/arne/corpora/potsdam-commentary-corpus-2.0.0/coreference/')\n",
    "TIGER_ROOT_DIR = os.path.expanduser('/home/arne/corpora/potsdam-commentary-corpus-2.0.0/syntax/')\n",
    "\n",
    "\n",
    "MMAX_TEST_FILE = os.path.join(MMAX_ROOT_DIR, 'maz-1423.mmax')\n",
    "TIGER_TEST_FILE = os.path.join(TIGER_ROOT_DIR, 'maz-1423.xml')"
   ]
  },
  {
   "cell_type": "code",
   "execution_count": 3,
   "metadata": {
    "collapsed": false
   },
   "outputs": [],
   "source": [
    "# for mmax_file in glob.glob(MMAX_ROOT_DIR+'*.mmax'):\n",
    "#     dg.read_mmax2(mmax_file)"
   ]
  },
  {
   "cell_type": "code",
   "execution_count": 4,
   "metadata": {
    "collapsed": false
   },
   "outputs": [],
   "source": [
    "from discoursegraphs.readwrite.mmax2 import get_potential_markables\n",
    "\n",
    "def get_unmarked_potential_markables(docgraph):\n",
    "    \"\"\"\n",
    "    Parameters\n",
    "    ----------\n",
    "    docgraph : DiscourseDocumentGraph\n",
    "        a document graph that (at least) contains syntax trees\n",
    "        (imported from Tiger XML files) and markables (imported from\n",
    "        an MMAX2 file)\n",
    "    \"\"\"\n",
    "    unmarked_potential_markables = []\n",
    "    for cat_node in get_potential_markables(docgraph):\n",
    "        if not any('mmax:markable' in eattr['layers']\n",
    "                  for token_id in dg.get_span(docgraph, cat_node)\n",
    "                  for (src, trg, eattr) in docgraph.in_edges(token_id, data=True)):\n",
    "            unmarked_potential_markables.append(cat_node)\n",
    "    return unmarked_potential_markables\n"
   ]
  },
  {
   "cell_type": "code",
   "execution_count": 5,
   "metadata": {
    "collapsed": false
   },
   "outputs": [],
   "source": [
    "from collections import defaultdict\n",
    "\n",
    "def gen_unmarked_bracket_mappings(docgraph, unmarked_potential_markables):\n",
    "\n",
    "    # a token node can be part of more than one markable/span\n",
    "    opening = defaultdict(list)\n",
    "    closing = defaultdict(list)\n",
    "    \n",
    "    for unmarked_phrase_id in unmarked_potential_markables:\n",
    "        span_node_ids = dg.get_span(docgraph, unmarked_phrase_id)\n",
    "        first = span_node_ids[0]\n",
    "        last = span_node_ids[-1]\n",
    "        opening[first].append(unmarked_phrase_id)\n",
    "        closing[last].append(unmarked_phrase_id)\n",
    "    return opening, closing"
   ]
  },
  {
   "cell_type": "code",
   "execution_count": 6,
   "metadata": {
    "collapsed": false
   },
   "outputs": [],
   "source": [
    "def gen_bracketed_output_for_unmarkables(docgraph):\n",
    "    ret_str = u''\n",
    "    unmarked_potential_markables = get_unmarked_potential_markables(docgraph)\n",
    "    opening, closing = gen_unmarked_bracket_mappings(docgraph, unmarked_potential_markables)\n",
    "    for tok_id in docgraph.tokens:\n",
    "        token = docgraph.get_token(tok_id)\n",
    "        if tok_id in opening:\n",
    "            ret_str += u\"[{} \".format(token)\n",
    "        elif tok_id in closing:\n",
    "            ret_str += u\"{0}]_{{{1}}} \".format(token, 'UNMARKED: '+' '.join(closing[tok_id]))\n",
    "        else:\n",
    "            ret_str += u\"{} \".format(token)\n",
    "    return ret_str\n"
   ]
  },
  {
   "cell_type": "code",
   "execution_count": 7,
   "metadata": {
    "collapsed": false
   },
   "outputs": [],
   "source": [
    "from discoursegraphs.readwrite.brackets import gen_bracket_mappings, gen_closing_string\n",
    "\n",
    "def gen_bracketed_output(docgraph, layer='mmax'):\n",
    "    '''\n",
    "\n",
    "    TODO: the order of the opening brackets should be determined (e.g. if\n",
    "    a token marks the beginning of two markables, we could check if the\n",
    "    first markable subsumes the second markable or vice versa.)\n",
    "\n",
    "    Example\n",
    "    -------\n",
    "    Die Diskussion , wie teuer [die neue [Wittstocker]_{markable_22}\n",
    "    Stadthalle]_{markable_21} für Vereine und Veranstalter wird , hat\n",
    "    einige Zeit in Anspruch genommen .\n",
    "    Die Betriebskosten [für den schmucken Veranstaltungsort]_{markable_21}\n",
    "    sind hoch . Jetzt wird es darum gehen , [die Halle]_{markable_21} so oft\n",
    "    wie möglich zu füllen .\n",
    "    Und [in der Region]_{markable_22} gibt es Konkurrenz .\n",
    "    '''\n",
    "    opening, closing, markable2chain = gen_bracket_mappings(docgraph, layer=layer)\n",
    "    \n",
    "    unmarked_potential_markables = get_unmarked_potential_markables(docgraph)\n",
    "    unmark_opening, unmark_closing = gen_unmarked_bracket_mappings(docgraph, unmarked_potential_markables)\n",
    "    \n",
    "    ret_str = u''\n",
    "    stack = []\n",
    "    for token_id in docgraph.tokens:\n",
    "        token_str = docgraph.get_token(token_id)\n",
    "        if token_id in opening:\n",
    "            num_of_opening_brackets = len(opening[token_id])\n",
    "            stack.extend(opening[token_id])\n",
    "            opening_str = u'[' * num_of_opening_brackets\n",
    "\n",
    "            if token_id in closing:\n",
    "                # token is both the first and last element of 1+ markables\n",
    "                closing_str = gen_closing_string(closing, markable2chain,\n",
    "                                                 token_id, stack)\n",
    "                ret_str += u'{0}{1}{2} '.format(opening_str, token_str,\n",
    "                                                closing_str)\n",
    "            else: # token is the first element of 1+ markables\n",
    "                ret_str += u'{0}{1} '.format(opening_str, token_str)\n",
    "        elif token_id in closing:\n",
    "            closing_str = gen_closing_string(closing, markable2chain,\n",
    "                                             token_id, stack)\n",
    "            ret_str += u'{0}{1} '.format(token_str, closing_str)\n",
    "\n",
    "        # token is not part of a markable, but of an (unmarked) NP/PP\n",
    "        elif token_id in unmark_opening:\n",
    "            num_of_opening_brackets = len(unmark_opening[token_id])\n",
    "            stack.extend(unmark_opening[token_id])\n",
    "            opening_str = u'//' * num_of_opening_brackets\n",
    "\n",
    "            if token_id in unmark_closing:\n",
    "                # token is both the first and last element of 1+ markables\n",
    "#                 ret_str += u\"{0}//_{{{1}}} \".format(token_str, 'UNMARKED: '+' '.join(unmark_closing[token_id]))\n",
    "                ret_str += token_str + gen_unmark_closing_string(unmark_closing, token_id, stack)\n",
    "                \n",
    "                \n",
    "            else: # token is the first element of 1+ markables\n",
    "                ret_str += u'{0}{1} '.format(opening_str, token_str)            \n",
    "        elif token_id in unmark_closing:\n",
    "#             ret_str += u\"{0}//_{{{1}}} \".format(token_str, 'UNMARKED: '+' '.join(unmark_closing[token_id]))\n",
    "            ret_str += token_str + gen_unmark_closing_string(unmark_closing, token_id, stack)\n",
    "            \n",
    "            \n",
    "            \n",
    "        else: # token is not part of any span\n",
    "            ret_str += u'{} '.format(token_str)\n",
    "    return ret_str"
   ]
  },
  {
   "cell_type": "code",
   "execution_count": 8,
   "metadata": {
    "collapsed": false
   },
   "outputs": [],
   "source": [
    "def gen_unmark_closing_string(closing_dict, token_id, stack):\n",
    "    num_of_closing_brackets = len(closing_dict[token_id])\n",
    "    closing_markable_ids = [stack.pop()\n",
    "                            for i in range(num_of_closing_brackets)]\n",
    "    return u''.join(u'//_{{{}}}'.format(cmi) for cmi in closing_markable_ids) + u' '"
   ]
  },
  {
   "cell_type": "code",
   "execution_count": 9,
   "metadata": {
    "collapsed": false
   },
   "outputs": [],
   "source": [
    "import itertools\n",
    "\n",
    "MMAX_BAD_FILE = os.path.expanduser('~/corpora/potsdam-commentary-corpus-2.0.0/coreference/maz-14172.mmax')\n",
    "\n",
    "# Traceback (most recent call last):\n",
    "#   File \"<ipython-input-9-6e65fa629262>\", line 11, in <module>\n",
    "#     print gen_bracketed_output(mdg)\n",
    "#   File \"<ipython-input-7-c182c063225c>\", line 20, in gen_bracketed_output\n",
    "#     opening, closing, markable2chain = gen_bracket_mappings(docgraph)\n",
    "#   File \"/usr/local/lib/python2.7/dist-packages/discoursegraphs-0.1.2-py2.7.egg/discoursegraphs/readwrite/brackets.py\", line 41, in gen_bracket_mappings\n",
    "#     docgraph, docgraph.node[markable][docgraph.ns+':span'])\n",
    "# KeyError: 'mmax:span'\n",
    "\n",
    "mdg = dg.read_mmax2(MMAX_BAD_FILE)"
   ]
  },
  {
   "cell_type": "markdown",
   "metadata": {},
   "source": [
    "# generate a file that contains all markables and potential markables"
   ]
  },
  {
   "cell_type": "code",
   "execution_count": 19,
   "metadata": {
    "collapsed": false
   },
   "outputs": [
    {
     "name": "stdout",
     "output_type": "stream",
     "text": [
      "maz-00001.mmax\n",
      "//Auf Eis//_{s2165_500} gelegt [[Dagmar Ziegler]_{markable_23}]_{markable_23} sitzt [in der Schuldenfalle]_{markable_12} . Auf Grund [der dramatischen Kassenlage [in Brandenburg]_{markable_90}]_{markable_12} hat [[sie]_{markable_23}]_{markable_23} jetzt [[eine seit mehr als einem Jahr erarbeitete Kabinettsvorlage]_{markable_64}]_{markable_64} überraschend //auf Eis//_{s2167_502} gelegt und vorgeschlagen , //erst 2003//_{s2167_503} [[darüber]_{markable_64}]_{markable_64} zu entscheiden . Überraschend , weil [das Finanz-]_{markable_23} und [das Bildungsressort]_{markable_1000139} [[das Lehrerpersonalkonzept]_{markable_64}]_{markable_64} gemeinsam entwickelt hatten . Der Rückzieher [der Finanzministerin]_{markable_31} ist aber verständlich . Es dürfte derzeit schwer zu vermitteln sein , weshalb //ein Ressort//_{s2170_501} pauschal //von künftigen Einsparungen//_{s2170_502} ausgenommen werden soll auf Kosten [der anderen]_{markable_1000193} . [[Reiches]_{markable_1000193} Ministerkollegen]_{markable_1000139} werden //mit Argusaugen//_{s2171_501} darüber wachen , dass [[das Konzept]_{markable_64}]_{markable_64} wasserdicht ist . Tatsächlich gibt es //noch etliche offene Fragen//_{s2172_500} . So ist etwa unklar , wer Abfindungen erhalten soll , oder was passiert , wenn //zu wenig Lehrer//_{s2173_504} [die Angebote des vorzeitigen Ausstiegs]_{markable_64} nutzen . Dennoch gibt es [zu [Reiches]_{markable_1000139} Personalpapier]_{markable_1000194} eigentlich keine Alternative . [Das Land]_{markable_90} hat künftig //zu wenig Arbeit //für zu viele Pädagogen//_{s2175_503}//_{s2175_504} . Und //die Zeit//_{s2176_500} drängt . Der große Einbruch der Schülerzahlen an den weiterführenden Schulen beginnt bereits im Herbst 2003 . [Die Regierung]_{markable_90} muss sich entscheiden , und zwar schnell . Entweder sparen //um jeden Preis//_{s2179_500} oder Priorität für die Bildung . \n",
      "\n",
      "maz-00002.mmax\n",
      "Das Büchergeld Die Litanei ist nicht neu : Eltern beschweren sich //über veraltete Schulbücher//_{s2182_500} , Kommunen jammern //über leere Kassen//_{s2182_501} und [Schulbuchverlage]_{markable_33} beklagen Umsatzeinbrüche . Trommeln gehört halt zum Geschäft . Doch //unterm Strich//_{s2184_500} stehen [Brandenburgs]_{markable_64} Schulen ganz gut da . //Zum einen//_{s2185_500} wurden nach der Wende //fast alle Schulbuchbestände//_{s2185_507} ausgetauscht , //zum anderen//_{s2185_503} müssen sich //märkische Eltern//_{s2185_504} [am Buchkauf]_{markable_69} beteiligen . Dafür gibt es sogar Lob [von den Schulbuchverlagen]_{markable_33} . Denn //in vielen alten Bundesländern//_{s2187_500} gilt noch immer [die Lernmittelfreiheit]_{markable_100090} : Eltern müssen nichts zuzahlen . Der Preis [dafür]_{markable_100090} ist hoch - gerade dort wird oft //mit völlig veraltetem Material//_{s2189_504} gearbeitet . Doch [auch Brandenburg]_{markable_64} muss aufpassen . Wenn //immer mehr Kommunen//_{s2191_503} finanziell ausbluten , wird [die regelmäßige Schulbucherneuerung]_{markable_69} //zur Illusion//_{s2191_502} . Deshalb ist [auch die Landesregierung]_{markable_64} gefragt : Es kann nicht sein , dass ////für teure Modellprojekte wie Schnellläuferklassen oder Ganztagsschulen//_{s2193_504}//_{s2193_504} Geld locker gemacht , aber [an der Grundausstattung]_{markable_69} gespart wird . \n",
      "\n",
      "maz-1423.mmax\n",
      "Zum Angewöhnen Die Diskussion , wie teuer [die neue [Wittstocker]_{markable_22} Stadthalle]_{markable_21} //für Vereine und Veranstalter//_{s525_505} wird , hat //einige Zeit//_{s525_503} //in Anspruch//_{s525_504} genommen . Bei der jüngsten Sitzung haben die Stadtverordneten entschieden . ////Vor allem//_{s527_503} kommerzielle Veranstalter//_{s527_500} werden //ab 2002//_{s527_501} gut //zur Kasse//_{s527_502} gebeten . Die Einnahmen sind dennoch //nur ein Tropfen //auf den heißen Stein//_{s528_501}//_{s528_502} . Die Betriebskosten [für den schmucken Veranstaltungsort]_{markable_21} sind hoch . Jetzt wird es darum gehen , [die Halle]_{markable_21} so oft wie möglich zu füllen . //Je mehr Veranstaltungen//_{s531_502} stattfinden , desto weniger wird der Stadthaushalt belastet . [Die Halle]_{markable_21} muss ausgelastet sein . Und [in der Region]_{markable_22} gibt es Konkurrenz . Auch die Nachbarstädte bieten Veranstaltern //genügend Platz//_{s534_501} . [Wittstock]_{markable_22} dagegen muss sich erst //einen Namen//_{s535_501} machen . Das Oktoberfest hat gezeigt , dass es //eine Anlaufzeit//_{s536_501} braucht . Die Gäste aus nah und fern müssen sich erst daran gewöhnen , nach [Wittstock]_{markable_22} und Richtung Gymnasium zu pilgern . Fest steht , dass [die Dosse-Stadt]_{markable_22} //als Mittelzentrum//_{s538_500} //ohne einen ansehnlichen Veranstaltungsort //mit ausreichend Platz //fürs Publikum//_{s538_501}//_{s538_503}//_{s538_504} nicht auskommt . Ohne [die Halle]_{markable_21} würde [Wittstock]_{markable_22} bald //ins Hintertreffen//_{s539_501} geraten . \n",
      "\n",
      "maz-1453.mmax\n",
      "Zeit //für Frieden//_{s573_500} //Mit großer Mehrheit//_{s574_500} haben sich [[die Damsdorfer]_{markable_27}]_{markable_27} am Sonntag für den Wechsel und [[für Lehnin]_{markable_1000172}]_{markable_1000172} entschieden . //Als Erfolg//_{s575_500} können sich [die Damsdorfer Kommunalpolitiker]_{markable_100032} ////vor allem//_{s575_503} eins//_{s575_502} anrechnen : Dass es [ihnen]_{markable_100032} gelungen ist , //fast 700 Menschen//_{s576_504} zum Urnengang zu mobilisieren . [[Die Damsdorfer]_{markable_27}]_{markable_27} haben gezeigt , dass [die Bevölkerung]_{markable_27} das Recht auf einen Bürgerentscheid sehr wohl zu schätzen weiß . Aus dem Ergebnis lassen sich //drei Dinge//_{s578_501} ablesen : [Die Damsdorfer]_{markable_1000176} haben von Emster-Havel , vom dortigen Amtsausschuss und peinlichen Gezänk , //die Nase//_{s579_504} voll . Nach dem Motto , schlechter kann es woanders kaum werden . //Punkt zwei//_{s581_500} : [Die Lehniner Gemeinden]_{markable_57} machen //nach außen hin//_{s581_502} - //trotz aller Meinungsverschiedenheiten//_{s581_503} - //einen relativ geschlossenen Eindruck//_{s581_505} . Die Politik im dortigen Amtsausschuss läuft eben nicht nach dem Emster-Muster : Dorf gegen Dorf , Bündnis gegen Bündnis . Aus dem Ergebnis lässt sich drittens ableiten , dass sich [die Damsdorfer]_{markable_1000176} längst vom Emster-Amt verabschiedet haben . [Sie]_{markable_1000176} wollen das vollzogen wissen , was [sie]_{markable_1000176} täglich leben , die Nähe [zu Lehnin]_{markable_1000172} . Davon konnte [sie]_{markable_1000176} auch die Bürgerinitiative Pro Emster nicht abbringen . Jetzt ist Zeit , in die Reform- Debatte //endlich zivilisierten Frieden//_{s586_501} einkehren zu lassen . \n",
      "\n",
      "maz-1679.mmax\n",
      "Stadtkern aufwerten Im Streit zwischen [der Stadt Wittstock]_{markable_100020} und dem Landesstraßenbauamt Kyritz hat Bürgermeister Lutz Scheidemann [einen klaren Sieg]_{markable_36} errungen . [Wittstock]_{markable_100020} wird //in einigen Jahren//_{s878_500} frei //von Lkw-Verkehr//_{s878_501} sein , [eine Umgehung]_{markable_51} entlastet [die Innenstadt]_{markable_82} . Klirrende Gläser in den Wohnzimmerschränken sind dann Geschichte . [Wer]_{markable_100046} [sein]_{markable_100046} Haus bereits saniert hat , muss auch nicht mehr befürchten , dass der Putz von der Fassade fällt . [Mit der Einigung]_{markable_36} kommt aber [auf die Wittstocker]_{markable_100079} //eine große Herausforderung//_{s881_502} zu . [Sie]_{markable_100079} sind aufgefordert , über neue , sinnvolle Verkehrsabläufe [in der Innenstadt]_{markable_82} nachzudenken . [Die Entlastungsstraße für Lkw]_{markable_51} führt zwar [um die Altstadt herum]_{markable_82} , doch //eine autofreie Stadt//_{s883_502} wird es nicht geben . So braucht sich //auch kein Geschäftsmann//_{s884_500} //vor einer leeren Altstadt//_{s884_501} zu fürchten . Gut beraten ist allerdings , wer sich jetzt //ernsthafte Gedanken //um kundenfreundliche Parkmöglichkeiten//_{s885_501}//_{s885_502} macht . Auch Flaniermeilen [in der Wittstocker Altstadt]_{markable_82} sind gefragt . Denn //ohne Lkw-Verkehr//_{s887_500} wird es ruhiger werden , der Stadtbummel kann wieder Spaß machen . Deshalb müssen //neue Ideen//_{s888_500} her , um [die Wittstocker Altstadt]_{markable_82} lebenswerter zu machen . \n",
      "\n"
     ]
    }
   ],
   "source": [
    "\n",
    "\n",
    "import sys\n",
    "import traceback\n",
    "import codecs\n",
    "\n",
    "with codecs.open('/tmp/unmarked_markables.txt', 'w', encoding='utf-8') as outfile:\n",
    "    for mmax_file in sorted(glob.glob(MMAX_ROOT_DIR+'*.mmax'), key=dg.util.natural_sort_key)[:5]:\n",
    "        mdg = dg.read_mmax2(mmax_file)\n",
    "        doc_id = os.path.basename(mmax_file).split('.')[0]\n",
    "        tdg = dg.read_tiger(os.path.join(TIGER_ROOT_DIR, doc_id+'.xml'))\n",
    "        mdg.merge_graphs(tdg)\n",
    "#         outfile.write(u\"{}\\n{}\\n\\n\".format(mdg.name, gen_bracketed_output(mdg, layer='mmax')))\n",
    "        sys.stdout.write(u\"{}\\n{}\\n\\n\".format(mdg.name, gen_bracketed_output(mdg, layer='mmax')))"
   ]
  }
 ],
 "metadata": {
  "kernelspec": {
   "display_name": "Python 2",
   "language": "python",
   "name": "python2"
  },
  "language_info": {
   "codemirror_mode": {
    "name": "ipython",
    "version": 2
   },
   "file_extension": ".py",
   "mimetype": "text/x-python",
   "name": "python",
   "nbconvert_exporter": "python",
   "pygments_lexer": "ipython2",
   "version": "2.7.6"
  }
 },
 "nbformat": 4,
 "nbformat_minor": 0
}
