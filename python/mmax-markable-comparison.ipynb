{
 "metadata": {
  "name": "",
  "signature": "sha256:a5d1b5cf2e7fa01ac405f381a00798dc2c917aaec6ab4c7988671de7ef1dac0e"
 },
 "nbformat": 3,
 "nbformat_minor": 0,
 "worksheets": [
  {
   "cells": [
    {
     "cell_type": "heading",
     "level": 1,
     "metadata": {},
     "source": [
      "Q: Are there NPs/PPs in PCC that aren't markables although they should be?"
     ]
    },
    {
     "cell_type": "code",
     "collapsed": false,
     "input": [
      "import os\n",
      "import glob\n",
      "\n",
      "import discoursegraphs as dg"
     ],
     "language": "python",
     "metadata": {},
     "outputs": [
      {
       "output_type": "stream",
       "stream": "stdout",
       "text": [
        "Couldn't import dot_parser, loading of dot files will not be possible.\n"
       ]
      }
     ],
     "prompt_number": 1
    },
    {
     "cell_type": "code",
     "collapsed": false,
     "input": [
      "MMAX_ROOT_DIR = os.path.expanduser('/home/arne/corpora/potsdam-commentary-corpus-2.0.0/coreference/')\n",
      "TIGER_ROOT_DIR = os.path.expanduser('/home/arne/corpora/potsdam-commentary-corpus-2.0.0/syntax/')\n",
      "\n",
      "\n",
      "MMAX_TEST_FILE = os.path.join(MMAX_ROOT_DIR, 'maz-1423.mmax')\n",
      "TIGER_TEST_FILE = os.path.join(TIGER_ROOT_DIR, 'maz-1423.xml')"
     ],
     "language": "python",
     "metadata": {},
     "outputs": [],
     "prompt_number": 2
    },
    {
     "cell_type": "code",
     "collapsed": false,
     "input": [
      "# for mmax_file in glob.glob(MMAX_ROOT_DIR+'*.mmax'):\n",
      "#     dg.read_mmax2(mmax_file)"
     ],
     "language": "python",
     "metadata": {},
     "outputs": [],
     "prompt_number": 3
    },
    {
     "cell_type": "code",
     "collapsed": false,
     "input": [
      "from discoursegraphs.readwrite.mmax2 import get_potential_markables\n",
      "\n",
      "def get_unmarked_potential_markables(docgraph):\n",
      "    \"\"\"\n",
      "    Parameters\n",
      "    ----------\n",
      "    docgraph : DiscourseDocumentGraph\n",
      "        a document graph that (at least) contains syntax trees\n",
      "        (imported from Tiger XML files) and markables (imported from\n",
      "        an MMAX2 file)\n",
      "    \"\"\"\n",
      "    unmarked_potential_markables = []\n",
      "    for cat_node in get_potential_markables(docgraph):\n",
      "        if not any('mmax:markable' in eattr['layers']\n",
      "                  for token_id in dg.get_span(docgraph, cat_node)\n",
      "                  for (src, trg, eattr) in docgraph.in_edges(token_id, data=True)):\n",
      "            unmarked_potential_markables.append(cat_node)\n",
      "    return unmarked_potential_markables\n"
     ],
     "language": "python",
     "metadata": {},
     "outputs": [],
     "prompt_number": 4
    },
    {
     "cell_type": "code",
     "collapsed": false,
     "input": [
      "from collections import defaultdict\n",
      "\n",
      "def gen_unmarked_bracket_mappings(docgraph, unmarked_potential_markables):\n",
      "\n",
      "    # a token node can be part of more than one markable/span\n",
      "    opening = defaultdict(list)\n",
      "    closing = defaultdict(list)\n",
      "    \n",
      "    for unmarked_phrase_id in unmarked_potential_markables:\n",
      "        span_node_ids = dg.get_span(docgraph, unmarked_phrase_id)\n",
      "        first = span_node_ids[0]\n",
      "        last = span_node_ids[-1]\n",
      "        opening[first].append(unmarked_phrase_id)\n",
      "        closing[last].append(unmarked_phrase_id)\n",
      "    return opening, closing"
     ],
     "language": "python",
     "metadata": {},
     "outputs": [],
     "prompt_number": 5
    },
    {
     "cell_type": "code",
     "collapsed": false,
     "input": [
      "def gen_bracketed_output_for_unmarkables(docgraph):\n",
      "    ret_str = u''\n",
      "    unmarked_potential_markables = get_unmarked_potential_markables(docgraph)\n",
      "    opening, closing = gen_unmarked_bracket_mappings(docgraph, unmarked_potential_markables)\n",
      "    for tok_id in docgraph.tokens:\n",
      "        token = docgraph.get_token(tok_id)\n",
      "        if tok_id in opening:\n",
      "            ret_str += u\"[{} \".format(token)\n",
      "        elif tok_id in closing:\n",
      "            ret_str += u\"{0}]_{{{1}}} \".format(token, 'UNMARKED: '+' '.join(closing[tok_id]))\n",
      "        else:\n",
      "            ret_str += u\"{} \".format(token)\n",
      "    return ret_str\n"
     ],
     "language": "python",
     "metadata": {},
     "outputs": [],
     "prompt_number": 6
    },
    {
     "cell_type": "code",
     "collapsed": false,
     "input": [
      "from discoursegraphs.readwrite.brackets import gen_bracket_mappings, gen_closing_string\n",
      "\n",
      "def gen_bracketed_output(docgraph, layer='mmax'):\n",
      "    '''\n",
      "\n",
      "    TODO: the order of the opening brackets should be determined (e.g. if\n",
      "    a token marks the beginning of two markables, we could check if the\n",
      "    first markable subsumes the second markable or vice versa.)\n",
      "\n",
      "    Example\n",
      "    -------\n",
      "    Die Diskussion , wie teuer [die neue [Wittstocker]_{markable_22}\n",
      "    Stadthalle]_{markable_21} f\u00fcr Vereine und Veranstalter wird , hat\n",
      "    einige Zeit in Anspruch genommen .\n",
      "    Die Betriebskosten [f\u00fcr den schmucken Veranstaltungsort]_{markable_21}\n",
      "    sind hoch . Jetzt wird es darum gehen , [die Halle]_{markable_21} so oft\n",
      "    wie m\u00f6glich zu f\u00fcllen .\n",
      "    Und [in der Region]_{markable_22} gibt es Konkurrenz .\n",
      "    '''\n",
      "    opening, closing, markable2chain = gen_bracket_mappings(docgraph, layer=layer)\n",
      "    \n",
      "    unmarked_potential_markables = get_unmarked_potential_markables(docgraph)\n",
      "    unmark_opening, unmark_closing = gen_unmarked_bracket_mappings(docgraph, unmarked_potential_markables)\n",
      "    \n",
      "    ret_str = u''\n",
      "    stack = []\n",
      "    for token_id in docgraph.tokens:\n",
      "        token_str = docgraph.get_token(token_id)\n",
      "        if token_id in opening:\n",
      "            num_of_opening_brackets = len(opening[token_id])\n",
      "            stack.extend(opening[token_id])\n",
      "            opening_str = u'[' * num_of_opening_brackets\n",
      "\n",
      "            if token_id in closing:\n",
      "                # token is both the first and last element of 1+ markables\n",
      "                closing_str = gen_closing_string(closing, markable2chain,\n",
      "                                                 token_id, stack)\n",
      "                ret_str += u'{0}{1}{2} '.format(opening_str, token_str,\n",
      "                                                closing_str)\n",
      "            else: # token is the first element of 1+ markables\n",
      "                ret_str += u'{0}{1} '.format(opening_str, token_str)\n",
      "        elif token_id in closing:\n",
      "            closing_str = gen_closing_string(closing, markable2chain,\n",
      "                                             token_id, stack)\n",
      "            ret_str += u'{0}{1} '.format(token_str, closing_str)\n",
      "\n",
      "        # token is not part of a markable, but of an (unmarked) NP/PP\n",
      "        elif token_id in unmark_opening:\n",
      "            num_of_opening_brackets = len(unmark_opening[token_id])\n",
      "            stack.extend(unmark_opening[token_id])\n",
      "            opening_str = u'//' * num_of_opening_brackets\n",
      "\n",
      "            if token_id in unmark_closing:\n",
      "                # token is both the first and last element of 1+ markables\n",
      "#                 ret_str += u\"{0}//_{{{1}}} \".format(token_str, 'UNMARKED: '+' '.join(unmark_closing[token_id]))\n",
      "                ret_str += token_str + gen_unmark_closing_string(unmark_closing, token_id, stack)\n",
      "                \n",
      "                \n",
      "            else: # token is the first element of 1+ markables\n",
      "                ret_str += u'{0}{1} '.format(opening_str, token_str)            \n",
      "        elif token_id in unmark_closing:\n",
      "#             ret_str += u\"{0}//_{{{1}}} \".format(token_str, 'UNMARKED: '+' '.join(unmark_closing[token_id]))\n",
      "            ret_str += token_str + gen_unmark_closing_string(unmark_closing, token_id, stack)\n",
      "            \n",
      "            \n",
      "            \n",
      "        else: # token is not part of any span\n",
      "            ret_str += u'{} '.format(token_str)\n",
      "    return ret_str"
     ],
     "language": "python",
     "metadata": {},
     "outputs": [],
     "prompt_number": 7
    },
    {
     "cell_type": "code",
     "collapsed": false,
     "input": [
      "def gen_unmark_closing_string(closing_dict, token_id, stack):\n",
      "    num_of_closing_brackets = len(closing_dict[token_id])\n",
      "    closing_markable_ids = [stack.pop()\n",
      "                            for i in range(num_of_closing_brackets)]\n",
      "    return u''.join(u'//_{{{}}}'.format(cmi) for cmi in closing_markable_ids) + u' '"
     ],
     "language": "python",
     "metadata": {},
     "outputs": [],
     "prompt_number": 8
    },
    {
     "cell_type": "code",
     "collapsed": false,
     "input": [
      "import itertools\n",
      "\n",
      "MMAX_BAD_FILE = os.path.expanduser('~/corpora/potsdam-commentary-corpus-2.0.0/coreference/maz-14172.mmax')\n",
      "\n",
      "# Traceback (most recent call last):\n",
      "#   File \"<ipython-input-9-6e65fa629262>\", line 11, in <module>\n",
      "#     print gen_bracketed_output(mdg)\n",
      "#   File \"<ipython-input-7-c182c063225c>\", line 20, in gen_bracketed_output\n",
      "#     opening, closing, markable2chain = gen_bracket_mappings(docgraph)\n",
      "#   File \"/usr/local/lib/python2.7/dist-packages/discoursegraphs-0.1.2-py2.7.egg/discoursegraphs/readwrite/brackets.py\", line 41, in gen_bracket_mappings\n",
      "#     docgraph, docgraph.node[markable][docgraph.ns+':span'])\n",
      "# KeyError: 'mmax:span'\n",
      "\n",
      "mdg = dg.read_mmax2(MMAX_BAD_FILE)"
     ],
     "language": "python",
     "metadata": {},
     "outputs": [],
     "prompt_number": 9
    },
    {
     "cell_type": "markdown",
     "metadata": {},
     "source": [
      "# generate a file that contains all markables and potential markables"
     ]
    },
    {
     "cell_type": "code",
     "collapsed": false,
     "input": [
      "\n",
      "\n",
      "import sys\n",
      "import traceback\n",
      "import codecs\n",
      "\n",
      "with codecs.open('/tmp/unmarked_markables.txt', 'w', encoding='utf-8') as outfile:\n",
      "    for mmax_file in sorted(glob.glob(MMAX_ROOT_DIR+'*.mmax'), key=dg.util.natural_sort_key)[:5]:\n",
      "        mdg = dg.read_mmax2(mmax_file)\n",
      "        doc_id = os.path.basename(mmax_file).split('.')[0]\n",
      "        tdg = dg.read_tiger(os.path.join(TIGER_ROOT_DIR, doc_id+'.xml'))\n",
      "        mdg.merge_graphs(tdg)\n",
      "#         outfile.write(u\"{}\\n{}\\n\\n\".format(mdg.name, gen_bracketed_output(mdg, layer='mmax')))\n",
      "        sys.stdout.write(u\"{}\\n{}\\n\\n\".format(mdg.name, gen_bracketed_output(mdg, layer='mmax')))"
     ],
     "language": "python",
     "metadata": {},
     "outputs": [
      {
       "output_type": "stream",
       "stream": "stdout",
       "text": [
        "maz-00001.mmax\n",
        "//Auf Eis//_{s2165_500} gelegt [[Dagmar Ziegler]_{markable_23}]_{markable_23} sitzt [in der Schuldenfalle]_{markable_12} . Auf Grund [der dramatischen Kassenlage [in Brandenburg]_{markable_90}]_{markable_12} hat [[sie]_{markable_23}]_{markable_23} jetzt [[eine seit mehr als einem Jahr erarbeitete Kabinettsvorlage]_{markable_64}]_{markable_64} \u00fcberraschend //auf Eis//_{s2167_502} gelegt und vorgeschlagen , //erst 2003//_{s2167_503} [[dar\u00fcber]_{markable_64}]_{markable_64} zu entscheiden . \u00dcberraschend , weil [das Finanz-]_{markable_23} und [das Bildungsressort]_{markable_1000139} [[das Lehrerpersonalkonzept]_{markable_64}]_{markable_64} gemeinsam entwickelt hatten . Der R\u00fcckzieher [der Finanzministerin]_{markable_31} ist aber verst\u00e4ndlich . Es d\u00fcrfte derzeit schwer zu vermitteln sein , weshalb //ein Ressort//_{s2170_501} pauschal //von k\u00fcnftigen Einsparungen//_{s2170_502} ausgenommen werden soll auf Kosten [der anderen]_{markable_1000193} . [[Reiches]_{markable_1000193} Ministerkollegen]_{markable_1000139} werden //mit Argusaugen//_{s2171_501} dar\u00fcber wachen , dass [[das Konzept]_{markable_64}]_{markable_64} wasserdicht ist . Tats\u00e4chlich gibt es //noch etliche offene Fragen//_{s2172_500} . So ist etwa unklar , wer Abfindungen erhalten soll , oder was passiert , wenn //zu wenig Lehrer//_{s2173_504} [die Angebote des vorzeitigen Ausstiegs]_{markable_64} nutzen . Dennoch gibt es [zu [Reiches]_{markable_1000139} Personalpapier]_{markable_1000194} eigentlich keine Alternative . [Das Land]_{markable_90} hat k\u00fcnftig //zu wenig Arbeit //f\u00fcr zu viele P\u00e4dagogen//_{s2175_503}//_{s2175_504} . Und //die Zeit//_{s2176_500} dr\u00e4ngt . Der gro\u00dfe Einbruch der Sch\u00fclerzahlen an den weiterf\u00fchrenden Schulen beginnt bereits im Herbst 2003 . [Die Regierung]_{markable_90} muss sich entscheiden , und zwar schnell . Entweder sparen //um jeden Preis//_{s2179_500} oder Priorit\u00e4t f\u00fcr die Bildung . \n",
        "\n",
        "maz-00002.mmax\n",
        "Das B\u00fcchergeld Die Litanei ist nicht neu : Eltern beschweren sich //\u00fcber veraltete Schulb\u00fccher//_{s2182_500} , Kommunen jammern //\u00fcber leere Kassen//_{s2182_501} und [Schulbuchverlage]_{markable_33} beklagen Umsatzeinbr\u00fcche . Trommeln geh\u00f6rt halt zum Gesch\u00e4ft . Doch //unterm Strich//_{s2184_500} stehen [Brandenburgs]_{markable_64} Schulen ganz gut da . //Zum einen//_{s2185_500} wurden nach der Wende //fast alle Schulbuchbest\u00e4nde//_{s2185_507} ausgetauscht , //zum anderen//_{s2185_503} m\u00fcssen sich //m\u00e4rkische Eltern//_{s2185_504} [am Buchkauf]_{markable_69} beteiligen . Daf\u00fcr gibt es sogar Lob [von den Schulbuchverlagen]_{markable_33} . Denn //in vielen alten Bundesl\u00e4ndern//_{s2187_500} gilt noch immer [die Lernmittelfreiheit]_{markable_100090} : Eltern m\u00fcssen nichts zuzahlen . Der Preis [daf\u00fcr]_{markable_100090} ist hoch - gerade dort wird oft //mit v\u00f6llig veraltetem Material//_{s2189_504} gearbeitet . Doch [auch Brandenburg]_{markable_64} muss aufpassen . Wenn //immer mehr Kommunen//_{s2191_503} finanziell ausbluten , wird [die regelm\u00e4\u00dfige Schulbucherneuerung]_{markable_69} //zur Illusion//_{s2191_502} . Deshalb ist [auch die Landesregierung]_{markable_64} gefragt : Es kann nicht sein , dass ////f\u00fcr teure Modellprojekte wie Schnelll\u00e4uferklassen oder Ganztagsschulen//_{s2193_504}//_{s2193_504} Geld locker gemacht , aber [an der Grundausstattung]_{markable_69} gespart wird . \n",
        "\n"
       ]
      },
      {
       "output_type": "stream",
       "stream": "stdout",
       "text": [
        "maz-1423.mmax\n",
        "Zum Angew\u00f6hnen Die Diskussion , wie teuer [die neue [Wittstocker]_{markable_22} Stadthalle]_{markable_21} //f\u00fcr Vereine und Veranstalter//_{s525_505} wird , hat //einige Zeit//_{s525_503} //in Anspruch//_{s525_504} genommen . Bei der j\u00fcngsten Sitzung haben die Stadtverordneten entschieden . ////Vor allem//_{s527_503} kommerzielle Veranstalter//_{s527_500} werden //ab 2002//_{s527_501} gut //zur Kasse//_{s527_502} gebeten . Die Einnahmen sind dennoch //nur ein Tropfen //auf den hei\u00dfen Stein//_{s528_501}//_{s528_502} . Die Betriebskosten [f\u00fcr den schmucken Veranstaltungsort]_{markable_21} sind hoch . Jetzt wird es darum gehen , [die Halle]_{markable_21} so oft wie m\u00f6glich zu f\u00fcllen . //Je mehr Veranstaltungen//_{s531_502} stattfinden , desto weniger wird der Stadthaushalt belastet . [Die Halle]_{markable_21} muss ausgelastet sein . Und [in der Region]_{markable_22} gibt es Konkurrenz . Auch die Nachbarst\u00e4dte bieten Veranstaltern //gen\u00fcgend Platz//_{s534_501} . [Wittstock]_{markable_22} dagegen muss sich erst //einen Namen//_{s535_501} machen . Das Oktoberfest hat gezeigt , dass es //eine Anlaufzeit//_{s536_501} braucht . Die G\u00e4ste aus nah und fern m\u00fcssen sich erst daran gew\u00f6hnen , nach [Wittstock]_{markable_22} und Richtung Gymnasium zu pilgern . Fest steht , dass [die Dosse-Stadt]_{markable_22} //als Mittelzentrum//_{s538_500} //ohne einen ansehnlichen Veranstaltungsort //mit ausreichend Platz //f\u00fcrs Publikum//_{s538_501}//_{s538_503}//_{s538_504} nicht auskommt . Ohne [die Halle]_{markable_21} w\u00fcrde [Wittstock]_{markable_22} bald //ins Hintertreffen//_{s539_501} geraten . \n",
        "\n",
        "maz-1453.mmax\n",
        "Zeit //f\u00fcr Frieden//_{s573_500} //Mit gro\u00dfer Mehrheit//_{s574_500} haben sich [[die Damsdorfer]_{markable_27}]_{markable_27} am Sonntag f\u00fcr den Wechsel und [[f\u00fcr Lehnin]_{markable_1000172}]_{markable_1000172} entschieden . //Als Erfolg//_{s575_500} k\u00f6nnen sich [die Damsdorfer Kommunalpolitiker]_{markable_100032} ////vor allem//_{s575_503} eins//_{s575_502} anrechnen : Dass es [ihnen]_{markable_100032} gelungen ist , //fast 700 Menschen//_{s576_504} zum Urnengang zu mobilisieren . [[Die Damsdorfer]_{markable_27}]_{markable_27} haben gezeigt , dass [die Bev\u00f6lkerung]_{markable_27} das Recht auf einen B\u00fcrgerentscheid sehr wohl zu sch\u00e4tzen wei\u00df . Aus dem Ergebnis lassen sich //drei Dinge//_{s578_501} ablesen : [Die Damsdorfer]_{markable_1000176} haben von Emster-Havel , vom dortigen Amtsausschuss und peinlichen Gez\u00e4nk , //die Nase//_{s579_504} voll . Nach dem Motto , schlechter kann es woanders kaum werden . //Punkt zwei//_{s581_500} : [Die Lehniner Gemeinden]_{markable_57} machen //nach au\u00dfen hin//_{s581_502} - //trotz aller Meinungsverschiedenheiten//_{s581_503} - //einen relativ geschlossenen Eindruck//_{s581_505} . Die Politik im dortigen Amtsausschuss l\u00e4uft eben nicht nach dem Emster-Muster : Dorf gegen Dorf , B\u00fcndnis gegen B\u00fcndnis . Aus dem Ergebnis l\u00e4sst sich drittens ableiten , dass sich [die Damsdorfer]_{markable_1000176} l\u00e4ngst vom Emster-Amt verabschiedet haben . [Sie]_{markable_1000176} wollen das vollzogen wissen , was [sie]_{markable_1000176} t\u00e4glich leben , die N\u00e4he [zu Lehnin]_{markable_1000172} . Davon konnte [sie]_{markable_1000176} auch die B\u00fcrgerinitiative Pro Emster nicht abbringen . Jetzt ist Zeit , in die Reform- Debatte //endlich zivilisierten Frieden//_{s586_501} einkehren zu lassen . \n",
        "\n"
       ]
      },
      {
       "output_type": "stream",
       "stream": "stdout",
       "text": [
        "maz-1679.mmax\n",
        "Stadtkern aufwerten Im Streit zwischen [der Stadt Wittstock]_{markable_100020} und dem Landesstra\u00dfenbauamt Kyritz hat B\u00fcrgermeister Lutz Scheidemann [einen klaren Sieg]_{markable_36} errungen . [Wittstock]_{markable_100020} wird //in einigen Jahren//_{s878_500} frei //von Lkw-Verkehr//_{s878_501} sein , [eine Umgehung]_{markable_51} entlastet [die Innenstadt]_{markable_82} . Klirrende Gl\u00e4ser in den Wohnzimmerschr\u00e4nken sind dann Geschichte . [Wer]_{markable_100046} [sein]_{markable_100046} Haus bereits saniert hat , muss auch nicht mehr bef\u00fcrchten , dass der Putz von der Fassade f\u00e4llt . [Mit der Einigung]_{markable_36} kommt aber [auf die Wittstocker]_{markable_100079} //eine gro\u00dfe Herausforderung//_{s881_502} zu . [Sie]_{markable_100079} sind aufgefordert , \u00fcber neue , sinnvolle Verkehrsabl\u00e4ufe [in der Innenstadt]_{markable_82} nachzudenken . [Die Entlastungsstra\u00dfe f\u00fcr Lkw]_{markable_51} f\u00fchrt zwar [um die Altstadt herum]_{markable_82} , doch //eine autofreie Stadt//_{s883_502} wird es nicht geben . So braucht sich //auch kein Gesch\u00e4ftsmann//_{s884_500} //vor einer leeren Altstadt//_{s884_501} zu f\u00fcrchten . Gut beraten ist allerdings , wer sich jetzt //ernsthafte Gedanken //um kundenfreundliche Parkm\u00f6glichkeiten//_{s885_501}//_{s885_502} macht . Auch Flaniermeilen [in der Wittstocker Altstadt]_{markable_82} sind gefragt . Denn //ohne Lkw-Verkehr//_{s887_500} wird es ruhiger werden , der Stadtbummel kann wieder Spa\u00df machen . Deshalb m\u00fcssen //neue Ideen//_{s888_500} her , um [die Wittstocker Altstadt]_{markable_82} lebenswerter zu machen . \n",
        "\n"
       ]
      }
     ],
     "prompt_number": 19
    }
   ],
   "metadata": {}
  }
 ]
}