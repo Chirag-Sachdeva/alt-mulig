{
 "cells": [
  {
   "cell_type": "code",
   "execution_count": 1,
   "metadata": {
    "collapsed": false
   },
   "outputs": [],
   "source": [
    "%matplotlib inline\n",
    "\n",
    "# %install_ext https://raw.github.com/cjdrake/ipython-magic/master/gvmagic.py\n",
    "%load_ext gvmagic\n",
    "\n",
    "import os\n",
    "from collections import Counter\n",
    "from operator import itemgetter\n",
    "\n",
    "import pandas as pd\n",
    "\n",
    "from discoursegraphs import (info, print_dot, get_span, select_nodes_by_layer,\n",
    "                             select_neighbors_by_layer, istoken, tokens2text)\n",
    "from discoursegraphs.readwrite import ConanoDocumentGraph, RSTGraph\n",
    "from discoursegraphs.readwrite.rst import get_rst_relations, get_segment_spans_from_rst_relation\n",
    "from discoursegraphs.readwrite.conano import get_conano_units, get_connective\n",
    "from discoursegraphs.util import TokenMapper, natural_sort_key"
   ]
  },
  {
   "cell_type": "code",
   "execution_count": 2,
   "metadata": {
    "collapsed": false
   },
   "outputs": [],
   "source": [
    "DOC_ID = 'maz-2316'\n",
    "MAZ_ROOTDIR = os.path.expanduser('~/corpora/potsdam-commentary-corpus-2.0.0/')\n",
    "CONANO_TESTFILE = os.path.join(MAZ_ROOTDIR, 'connectors/{}.xml'.format(DOC_ID))\n",
    "RST_TESTFILE = os.path.join(MAZ_ROOTDIR, 'rst/{}.rs3'.format(DOC_ID))"
   ]
  },
  {
   "cell_type": "code",
   "execution_count": 3,
   "metadata": {
    "collapsed": false
   },
   "outputs": [],
   "source": [
    "def segment2text(docgraph, segment_node):\n",
    "    return ' '.join(docgraph.get_token(tok_id)\n",
    "                    for tok_id in get_span(docgraph, segment_node))"
   ]
  },
  {
   "cell_type": "code",
   "execution_count": 4,
   "metadata": {
    "collapsed": false
   },
   "outputs": [],
   "source": [
    "cdg = ConanoDocumentGraph(CONANO_TESTFILE)\n",
    "rdg = RSTGraph(RST_TESTFILE)"
   ]
  },
  {
   "cell_type": "code",
   "execution_count": 5,
   "metadata": {
    "collapsed": false
   },
   "outputs": [],
   "source": [
    "rdg.merge_graphs(cdg)\n",
    "merged_graph = rdg # you don't need to do this; new variable is only introduced for convenience"
   ]
  },
  {
   "cell_type": "code",
   "execution_count": 6,
   "metadata": {
    "collapsed": false
   },
   "outputs": [],
   "source": [
    "rdg_unotokenized = RSTGraph(RST_TESTFILE, tokenize=False)\n",
    "#info(rdg_unotokenized)"
   ]
  },
  {
   "cell_type": "code",
   "execution_count": 7,
   "metadata": {
    "collapsed": false
   },
   "outputs": [],
   "source": [
    "#%dotstr print_dot(rdg_unotokenized)"
   ]
  },
  {
   "cell_type": "code",
   "execution_count": 8,
   "metadata": {
    "collapsed": false
   },
   "outputs": [],
   "source": [
    "connectives_only = ConanoDocumentGraph(CONANO_TESTFILE)\n",
    "#info(connectives_only)\n",
    "#info(merged_graph)"
   ]
  },
  {
   "cell_type": "code",
   "execution_count": 9,
   "metadata": {
    "collapsed": false
   },
   "outputs": [],
   "source": [
    "#%dotstr print_dot(merged_graph)"
   ]
  },
  {
   "cell_type": "markdown",
   "metadata": {},
   "source": [
    "# Connective spans"
   ]
  },
  {
   "cell_type": "code",
   "execution_count": 10,
   "metadata": {
    "collapsed": false
   },
   "outputs": [],
   "source": [
    "token_mapper = TokenMapper(merged_graph)\n",
    "\n",
    "unit_ranges = []\n",
    "for unit_id, token_ids in get_conano_units(merged_graph):\n",
    "    unit_ranges.append( (unit_id,\n",
    "                         get_connective(merged_graph, unit_id),\n",
    "                         token_mapper.id2index[token_ids[0]],\n",
    "                         token_mapper.id2index[token_ids[-1]]) )"
   ]
  },
  {
   "cell_type": "code",
   "execution_count": 11,
   "metadata": {
    "collapsed": false
   },
   "outputs": [
    {
     "data": {
      "text/html": [
       "<div style=\"max-height:1000px;max-width:1500px;overflow:auto;\">\n",
       "<table border=\"1\" class=\"dataframe\">\n",
       "  <thead>\n",
       "    <tr style=\"text-align: right;\">\n",
       "      <th></th>\n",
       "      <th>unit-id</th>\n",
       "      <th>connective</th>\n",
       "      <th>start-token</th>\n",
       "      <th>end-token</th>\n",
       "    </tr>\n",
       "  </thead>\n",
       "  <tbody>\n",
       "    <tr>\n",
       "      <th>0 </th>\n",
       "      <td>  1:ext</td>\n",
       "      <td>    denn</td>\n",
       "      <td>   2</td>\n",
       "      <td>  32</td>\n",
       "    </tr>\n",
       "    <tr>\n",
       "      <th>1 </th>\n",
       "      <td>  1:int</td>\n",
       "      <td>    denn</td>\n",
       "      <td>  33</td>\n",
       "      <td>  54</td>\n",
       "    </tr>\n",
       "    <tr>\n",
       "      <th>2 </th>\n",
       "      <td>  2:ext</td>\n",
       "      <td>    aber</td>\n",
       "      <td>  55</td>\n",
       "      <td>  63</td>\n",
       "    </tr>\n",
       "    <tr>\n",
       "      <th>3 </th>\n",
       "      <td>  2:int</td>\n",
       "      <td>    aber</td>\n",
       "      <td>  64</td>\n",
       "      <td>  76</td>\n",
       "    </tr>\n",
       "    <tr>\n",
       "      <th>4 </th>\n",
       "      <td>  4:ext</td>\n",
       "      <td>  obwohl</td>\n",
       "      <td>  64</td>\n",
       "      <td>  76</td>\n",
       "    </tr>\n",
       "    <tr>\n",
       "      <th>5 </th>\n",
       "      <td>  4:int</td>\n",
       "      <td>  obwohl</td>\n",
       "      <td>  77</td>\n",
       "      <td>  84</td>\n",
       "    </tr>\n",
       "    <tr>\n",
       "      <th>6 </th>\n",
       "      <td>  5:ext</td>\n",
       "      <td>     und</td>\n",
       "      <td>  77</td>\n",
       "      <td>  79</td>\n",
       "    </tr>\n",
       "    <tr>\n",
       "      <th>7 </th>\n",
       "      <td>  5:int</td>\n",
       "      <td>     und</td>\n",
       "      <td>  80</td>\n",
       "      <td>  84</td>\n",
       "    </tr>\n",
       "    <tr>\n",
       "      <th>8 </th>\n",
       "      <td>  7:ext</td>\n",
       "      <td>  obwohl</td>\n",
       "      <td>  95</td>\n",
       "      <td> 136</td>\n",
       "    </tr>\n",
       "    <tr>\n",
       "      <th>9 </th>\n",
       "      <td>  7:int</td>\n",
       "      <td>  obwohl</td>\n",
       "      <td> 104</td>\n",
       "      <td> 127</td>\n",
       "    </tr>\n",
       "    <tr>\n",
       "      <th>10</th>\n",
       "      <td>  8:ext</td>\n",
       "      <td>     und</td>\n",
       "      <td> 104</td>\n",
       "      <td> 113</td>\n",
       "    </tr>\n",
       "    <tr>\n",
       "      <th>11</th>\n",
       "      <td>  8:int</td>\n",
       "      <td>     und</td>\n",
       "      <td> 114</td>\n",
       "      <td> 127</td>\n",
       "    </tr>\n",
       "    <tr>\n",
       "      <th>12</th>\n",
       "      <td> 11:ext</td>\n",
       "      <td> deshalb</td>\n",
       "      <td> 149</td>\n",
       "      <td> 188</td>\n",
       "    </tr>\n",
       "    <tr>\n",
       "      <th>13</th>\n",
       "      <td> 11:int</td>\n",
       "      <td> deshalb</td>\n",
       "      <td> 137</td>\n",
       "      <td> 148</td>\n",
       "    </tr>\n",
       "  </tbody>\n",
       "</table>\n",
       "</div>"
      ],
      "text/plain": [
       "   unit-id connective  start-token  end-token\n",
       "0    1:ext       denn            2         32\n",
       "1    1:int       denn           33         54\n",
       "2    2:ext       aber           55         63\n",
       "3    2:int       aber           64         76\n",
       "4    4:ext     obwohl           64         76\n",
       "5    4:int     obwohl           77         84\n",
       "6    5:ext        und           77         79\n",
       "7    5:int        und           80         84\n",
       "8    7:ext     obwohl           95        136\n",
       "9    7:int     obwohl          104        127\n",
       "10   8:ext        und          104        113\n",
       "11   8:int        und          114        127\n",
       "12  11:ext    deshalb          149        188\n",
       "13  11:int    deshalb          137        148"
      ]
     },
     "execution_count": 11,
     "metadata": {},
     "output_type": "execute_result"
    }
   ],
   "source": [
    "pd.DataFrame(unit_ranges, columns=['unit-id', 'connective', 'start-token', 'end-token'])"
   ]
  },
  {
   "cell_type": "markdown",
   "metadata": {},
   "source": [
    "# RST spans"
   ]
  },
  {
   "cell_type": "code",
   "execution_count": 12,
   "metadata": {
    "collapsed": false
   },
   "outputs": [],
   "source": [
    "rst_ranges = []\n",
    "for dom_node_id, rel_name, token_ids in get_rst_relations(merged_graph):\n",
    "    rst_ranges.append( (dom_node_id, rel_name,\n",
    "                        token_mapper.id2index[token_ids[0]],\n",
    "                        token_mapper.id2index[token_ids[-1]]) )"
   ]
  },
  {
   "cell_type": "code",
   "execution_count": 13,
   "metadata": {
    "collapsed": false
   },
   "outputs": [
    {
     "data": {
      "text/html": [
       "<div style=\"max-height:1000px;max-width:1500px;overflow:auto;\">\n",
       "<table border=\"1\" class=\"dataframe\">\n",
       "  <thead>\n",
       "    <tr style=\"text-align: right;\">\n",
       "      <th></th>\n",
       "      <th>relation-id</th>\n",
       "      <th>relation-name</th>\n",
       "      <th>start-token</th>\n",
       "      <th>end-token</th>\n",
       "    </tr>\n",
       "  </thead>\n",
       "  <tbody>\n",
       "    <tr>\n",
       "      <th>0 </th>\n",
       "      <td> rst:16</td>\n",
       "      <td>     antithesis</td>\n",
       "      <td>  55</td>\n",
       "      <td>  84</td>\n",
       "    </tr>\n",
       "    <tr>\n",
       "      <th>1 </th>\n",
       "      <td> rst:17</td>\n",
       "      <td> interpretation</td>\n",
       "      <td>  55</td>\n",
       "      <td>  91</td>\n",
       "    </tr>\n",
       "    <tr>\n",
       "      <th>2 </th>\n",
       "      <td> rst:14</td>\n",
       "      <td>         reason</td>\n",
       "      <td>  55</td>\n",
       "      <td> 189</td>\n",
       "    </tr>\n",
       "    <tr>\n",
       "      <th>3 </th>\n",
       "      <td> rst:13</td>\n",
       "      <td>    conjunction</td>\n",
       "      <td> 149</td>\n",
       "      <td> 189</td>\n",
       "    </tr>\n",
       "    <tr>\n",
       "      <th>4 </th>\n",
       "      <td> rst:10</td>\n",
       "      <td>       evidence</td>\n",
       "      <td> 137</td>\n",
       "      <td> 189</td>\n",
       "    </tr>\n",
       "    <tr>\n",
       "      <th>5 </th>\n",
       "      <td> rst:18</td>\n",
       "      <td>       evidence</td>\n",
       "      <td>  55</td>\n",
       "      <td> 136</td>\n",
       "    </tr>\n",
       "    <tr>\n",
       "      <th>6 </th>\n",
       "      <td>  rst:5</td>\n",
       "      <td>     concession</td>\n",
       "      <td>  64</td>\n",
       "      <td>  84</td>\n",
       "    </tr>\n",
       "    <tr>\n",
       "      <th>7 </th>\n",
       "      <td>  rst:2</td>\n",
       "      <td>       evidence</td>\n",
       "      <td>   2</td>\n",
       "      <td>  54</td>\n",
       "    </tr>\n",
       "    <tr>\n",
       "      <th>8 </th>\n",
       "      <td>  rst:3</td>\n",
       "      <td>  e-elaboration</td>\n",
       "      <td>  33</td>\n",
       "      <td>  54</td>\n",
       "    </tr>\n",
       "    <tr>\n",
       "      <th>9 </th>\n",
       "      <td>  rst:9</td>\n",
       "      <td>    preparation</td>\n",
       "      <td>  92</td>\n",
       "      <td> 136</td>\n",
       "    </tr>\n",
       "    <tr>\n",
       "      <th>10</th>\n",
       "      <td> rst:22</td>\n",
       "      <td>          joint</td>\n",
       "      <td>   2</td>\n",
       "      <td>  54</td>\n",
       "    </tr>\n",
       "  </tbody>\n",
       "</table>\n",
       "</div>"
      ],
      "text/plain": [
       "   relation-id   relation-name  start-token  end-token\n",
       "0       rst:16      antithesis           55         84\n",
       "1       rst:17  interpretation           55         91\n",
       "2       rst:14          reason           55        189\n",
       "3       rst:13     conjunction          149        189\n",
       "4       rst:10        evidence          137        189\n",
       "5       rst:18        evidence           55        136\n",
       "6        rst:5      concession           64         84\n",
       "7        rst:2        evidence            2         54\n",
       "8        rst:3   e-elaboration           33         54\n",
       "9        rst:9     preparation           92        136\n",
       "10      rst:22           joint            2         54"
      ]
     },
     "execution_count": 13,
     "metadata": {},
     "output_type": "execute_result"
    }
   ],
   "source": [
    "pd.DataFrame(rst_ranges, columns=['relation-id', 'relation-name', 'start-token', 'end-token'])"
   ]
  },
  {
   "cell_type": "code",
   "execution_count": 14,
   "metadata": {
    "collapsed": false
   },
   "outputs": [
    {
     "name": "stdout",
     "output_type": "stream",
     "text": [
      "rst:16 set(['rst', 'rst:group']) nucleus span\n",
      "\trst:4 satellite: Dass die Aubis letztlich den Berliner Senat stürzte ,\n",
      "\trst:5 nucleus: in Brandenburg aber kein Politiker auch nur eine Spur Verantwortung übernehmen musste - obwohl Geld verschleudert und Mieter verramscht wurden -\n",
      "\n",
      "\n",
      "rst:17 set(['rst', 'rst:group']) nucleus span\n",
      "\trst:16 nucleus: Dass die Aubis letztlich den Berliner Senat stürzte , in Brandenburg aber kein Politiker auch nur eine Spur Verantwortung übernehmen musste - obwohl Geld verschleudert und Mieter verramscht wurden -\n",
      "\trst:7 satellite: ist nur noch eine stadtgeschichtliche Fußnote .\n",
      "\n",
      "\n",
      "rst:14 set(['rst', 'rst:group']) nucleus span\n",
      "\trst:10 nucleus: Deshalb muss sich Wansing auch nicht vor Folgen des Verkaufs fürchten : Zum einen ist es möglich , dass der Verkauf vernünftig vorbereitet und mit den Mietern abgesprochen ist . Zum anderen musste außer Mietern und Mitarbeitern bei der Wobra noch niemand für die Fehler des Managements und des Aufsichtsrates ernsthaft büßen .\n",
      "\trst:20 satellite: Dass die Aubis letztlich den Berliner Senat stürzte , in Brandenburg aber kein Politiker auch nur eine Spur Verantwortung übernehmen musste - obwohl Geld verschleudert und Mieter verramscht wurden - ist nur noch eine stadtgeschichtliche Fußnote . Zum Beweis : Die damalige Aufsichtsratschefin Margit Spielmann wird am Samstag - obwohl sie bis heute nicht für ihre Wobra-Arbeit entlastet wurde und Schliesing noch im Vorjahr mit der Möglichkeit einer Klage gegen sie drohte - von der SPD wieder als Brandenburger Bundestagsabgeordnete nominiert .\n",
      "\n",
      "\n",
      "rst:13 set(['rst', 'rst:group']) satellite multinuc\n",
      "\trst:12 nucleus: Zum anderen musste außer Mietern und Mitarbeitern bei der Wobra noch niemand für die Fehler des Managements und des Aufsichtsrates ernsthaft büßen .\n",
      "\trst:11 nucleus: Zum einen ist es möglich , dass der Verkauf vernünftig vorbereitet und mit den Mietern abgesprochen ist .\n",
      "\n",
      "\n",
      "rst:10 set(['rst', 'rst:segment']) nucleus None\n",
      "\trst:13 satellite: Zum einen ist es möglich , dass der Verkauf vernünftig vorbereitet und mit den Mietern abgesprochen ist . Zum anderen musste außer Mietern und Mitarbeitern bei der Wobra noch niemand für die Fehler des Managements und des Aufsichtsrates ernsthaft büßen .\n",
      "\n",
      "\n",
      "rst:18 set(['rst', 'rst:group']) nucleus span\n",
      "\trst:17 nucleus: Dass die Aubis letztlich den Berliner Senat stürzte , in Brandenburg aber kein Politiker auch nur eine Spur Verantwortung übernehmen musste - obwohl Geld verschleudert und Mieter verramscht wurden - ist nur noch eine stadtgeschichtliche Fußnote .\n",
      "\trst:15 satellite: Zum Beweis : Die damalige Aufsichtsratschefin Margit Spielmann wird am Samstag - obwohl sie bis heute nicht für ihre Wobra-Arbeit entlastet wurde und Schliesing noch im Vorjahr mit der Möglichkeit einer Klage gegen sie drohte - von der SPD wieder als Brandenburger Bundestagsabgeordnete nominiert .\n",
      "\n",
      "\n",
      "rst:5 set(['rst', 'rst:segment']) nucleus None\n",
      "\trst:6 satellite: obwohl Geld verschleudert und Mieter verramscht wurden -\n",
      "\n",
      "\n",
      "rst:2 set(['rst', 'rst:segment']) nucleus None\n",
      "\trst:24 satellite: Denn noch heute sind die schmerzlichen Folgen jederzeit in der Stadt präsent , den die unüberlegten Wobra-Verkäufe an die Aubis auslösten .\n",
      "\n",
      "\n",
      "rst:3 set(['rst', 'rst:segment']) nucleus None\n",
      "\trst:23 satellite: den die unüberlegten Wobra-Verkäufe an die Aubis auslösten .\n",
      "\n",
      "\n",
      "rst:9 set(['rst', 'rst:segment']) nucleus None\n",
      "\trst:8 satellite: Zum Beweis :\n",
      "\n",
      "\n",
      "rst:22 set(['rst', 'rst:group', 'rst:root']) nucleus multinuc\n",
      "\trst:21 nucleus: Dass die Aubis letztlich den Berliner Senat stürzte , in Brandenburg aber kein Politiker auch nur eine Spur Verantwortung übernehmen musste - obwohl Geld verschleudert und Mieter verramscht wurden - ist nur noch eine stadtgeschichtliche Fußnote . Zum Beweis : Die damalige Aufsichtsratschefin Margit Spielmann wird am Samstag - obwohl sie bis heute nicht für ihre Wobra-Arbeit entlastet wurde und Schliesing noch im Vorjahr mit der Möglichkeit einer Klage gegen sie drohte - von der SPD wieder als Brandenburger Bundestagsabgeordnete nominiert . Deshalb muss sich Wansing auch nicht vor Folgen des Verkaufs fürchten : Zum einen ist es möglich , dass der Verkauf vernünftig vorbereitet und mit den Mietern abgesprochen ist . Zum anderen musste außer Mietern und Mitarbeitern bei der Wobra noch niemand für die Fehler des Managements und des Aufsichtsrates ernsthaft büßen .\n",
      "\trst:19 nucleus: Fast möchte man Andreas Wansing , den Geschäftsführer der Wobra , händeringend bitten , von seinem Plan Abstand zu nehmen , aus dem Bestand der Wobra hinaus Wohnungen zu verkaufen . Denn noch heute sind die schmerzlichen Folgen jederzeit in der Stadt präsent , den die unüberlegten Wobra-Verkäufe an die Aubis auslösten .\n",
      "\n",
      "\n"
     ]
    }
   ],
   "source": [
    "for dom_node_id in get_rst_relations(merged_graph, data=False):\n",
    "    print dom_node_id, merged_graph.node[dom_node_id]['layers'], merged_graph.node[dom_node_id]['rst:segment_type'], merged_graph.node[dom_node_id].get('rst:group_type')\n",
    "    for neighbor in merged_graph.neighbors(dom_node_id):\n",
    "        layers = merged_graph.node[neighbor]['layers']\n",
    "        if 'rst:segment' in layers or 'rst:group' in layers:\n",
    "            print u\"\\t{0} {1}: {2}\".format(neighbor,\n",
    "                                       merged_graph.node[neighbor]['rst:segment_type'],\n",
    "                                       segment2text(merged_graph, neighbor))\n",
    "    print '\\n'"
   ]
  },
  {
   "cell_type": "code",
   "execution_count": 15,
   "metadata": {
    "collapsed": false
   },
   "outputs": [
    {
     "name": "stdout",
     "output_type": "stream",
     "text": [
      "rst:10 ['rst:rst:10_0', 'rst:rst:10_1', 'rst:rst:10_2', 'rst:rst:10_3', 'rst:rst:10_4', 'rst:rst:10_5', 'rst:rst:10_6', 'rst:rst:10_7', 'rst:rst:10_8', 'rst:rst:10_9', 'rst:rst:10_10', 'rst:rst:10_11']\n",
      "rst:5 ['rst:rst:5_0', 'rst:rst:5_1', 'rst:rst:5_2', 'rst:rst:5_3', 'rst:rst:5_4', 'rst:rst:5_5', 'rst:rst:5_6', 'rst:rst:5_7', 'rst:rst:5_8', 'rst:rst:5_9', 'rst:rst:5_10', 'rst:rst:5_11', 'rst:rst:5_12']\n",
      "rst:2 ['rst:rst:2_0', 'rst:rst:2_1', 'rst:rst:2_2', 'rst:rst:2_3', 'rst:rst:2_4', 'rst:rst:2_5', 'rst:rst:2_6', 'rst:rst:2_7', 'rst:rst:2_8', 'rst:rst:2_9', 'rst:rst:2_10', 'rst:rst:2_11', 'rst:rst:2_12', 'rst:rst:2_13', 'rst:rst:2_14', 'rst:rst:2_15', 'rst:rst:2_16', 'rst:rst:2_17', 'rst:rst:2_18', 'rst:rst:2_19', 'rst:rst:2_20', 'rst:rst:2_21', 'rst:rst:2_22', 'rst:rst:2_23', 'rst:rst:2_24', 'rst:rst:2_25', 'rst:rst:2_26', 'rst:rst:2_27', 'rst:rst:2_28', 'rst:rst:2_29', 'rst:rst:2_30']\n",
      "rst:3 ['rst:rst:3_0', 'rst:rst:3_1', 'rst:rst:3_2', 'rst:rst:3_3', 'rst:rst:3_4', 'rst:rst:3_5', 'rst:rst:3_6', 'rst:rst:3_7', 'rst:rst:3_8', 'rst:rst:3_9', 'rst:rst:3_10', 'rst:rst:3_11', 'rst:rst:3_12']\n",
      "rst:9 ['rst:rst:9_0', 'rst:rst:9_1', 'rst:rst:9_2', 'rst:rst:9_3', 'rst:rst:9_4', 'rst:rst:9_5', 'rst:rst:9_6', 'rst:rst:9_7', 'rst:rst:9_8', 'rst:rst:9_9', 'rst:rst:9_10', 'rst:rst:9_11', 'rst:rst:9_12', 'rst:rst:9_13', 'rst:rst:9_14', 'rst:rst:9_15', 'rst:rst:9_16', 'rst:rst:9_17', 'rst:rst:9_18', 'rst:rst:9_19', 'rst:rst:9_20', 'rst:rst:9_21', 'rst:rst:9_22', 'rst:rst:9_23', 'rst:rst:9_24', 'rst:rst:9_25', 'rst:rst:9_26', 'rst:rst:9_27', 'rst:rst:9_28', 'rst:rst:9_29', 'rst:rst:9_30', 'rst:rst:9_31', 'rst:rst:9_32', 'rst:rst:9_33', 'rst:rst:9_34', 'rst:rst:9_35', 'rst:rst:9_36', 'rst:rst:9_37', 'rst:rst:9_38', 'rst:rst:9_39', 'rst:rst:9_40', 'rst:rst:9_41']\n"
     ]
    }
   ],
   "source": [
    "for dom_node_id in get_rst_relations(merged_graph, data=False):\n",
    "    if 'rst:segment' in merged_graph.node[dom_node_id]['layers']:\n",
    "        print dom_node_id, sorted([n for n in merged_graph.neighbors(dom_node_id)\n",
    "                                   if istoken(merged_graph, n)], key=natural_sort_key)"
   ]
  },
  {
   "cell_type": "code",
   "execution_count": 17,
   "metadata": {
    "collapsed": false
   },
   "outputs": [
    {
     "name": "stdout",
     "output_type": "stream",
     "text": [
      "rst:16\n",
      "\tS Dass die Aubis letztlich den Berliner Senat stürzte ,\n",
      "\tN in Brandenburg aber kein Politiker auch nur eine Spur Verantwortung übernehmen musste - obwohl Geld verschleudert und Mieter verramscht wurden -\n",
      "\n",
      "rst:17\n",
      "\tS ist nur noch eine stadtgeschichtliche Fußnote .\n",
      "\tN Dass die Aubis letztlich den Berliner Senat stürzte , in Brandenburg aber kein Politiker auch nur eine Spur Verantwortung übernehmen musste - obwohl Geld verschleudert und Mieter verramscht wurden -\n",
      "\n",
      "rst:14\n",
      "\tS Dass die Aubis letztlich den Berliner Senat stürzte , in Brandenburg aber kein Politiker auch nur eine Spur Verantwortung übernehmen musste - obwohl Geld verschleudert und Mieter verramscht wurden - ist nur noch eine stadtgeschichtliche Fußnote . Zum Beweis : Die damalige Aufsichtsratschefin Margit Spielmann wird am Samstag - obwohl sie bis heute nicht für ihre Wobra-Arbeit entlastet wurde und Schliesing noch im Vorjahr mit der Möglichkeit einer Klage gegen sie drohte - von der SPD wieder als Brandenburger Bundestagsabgeordnete nominiert .\n",
      "\tN Deshalb muss sich Wansing auch nicht vor Folgen des Verkaufs fürchten : Zum einen ist es möglich , dass der Verkauf vernünftig vorbereitet und mit den Mietern abgesprochen ist . Zum anderen musste außer Mietern und Mitarbeitern bei der Wobra noch niemand für die Fehler des Managements und des Aufsichtsrates ernsthaft büßen .\n",
      "\n",
      "rst:13\n",
      "\tN1 Zum anderen musste außer Mietern und Mitarbeitern bei der Wobra noch niemand für die Fehler des Managements und des Aufsichtsrates ernsthaft büßen .\n",
      "\tN2 Zum einen ist es möglich , dass der Verkauf vernünftig vorbereitet und mit den Mietern abgesprochen ist .\n",
      "\n",
      "rst:10\n",
      "\tS Zum einen ist es möglich , dass der Verkauf vernünftig vorbereitet und mit den Mietern abgesprochen ist . Zum anderen musste außer Mietern und Mitarbeitern bei der Wobra noch niemand für die Fehler des Managements und des Aufsichtsrates ernsthaft büßen .\n",
      "\tN Deshalb muss sich Wansing auch nicht vor Folgen des Verkaufs fürchten :\n",
      "\n",
      "rst:18\n",
      "\tS Zum Beweis : Die damalige Aufsichtsratschefin Margit Spielmann wird am Samstag - obwohl sie bis heute nicht für ihre Wobra-Arbeit entlastet wurde und Schliesing noch im Vorjahr mit der Möglichkeit einer Klage gegen sie drohte - von der SPD wieder als Brandenburger Bundestagsabgeordnete nominiert .\n",
      "\tN Dass die Aubis letztlich den Berliner Senat stürzte , in Brandenburg aber kein Politiker auch nur eine Spur Verantwortung übernehmen musste - obwohl Geld verschleudert und Mieter verramscht wurden - ist nur noch eine stadtgeschichtliche Fußnote .\n",
      "\n",
      "rst:5\n",
      "\tS obwohl Geld verschleudert und Mieter verramscht wurden -\n",
      "\tN in Brandenburg aber kein Politiker auch nur eine Spur Verantwortung übernehmen musste -\n",
      "\n",
      "rst:2\n",
      "\tS Denn noch heute sind die schmerzlichen Folgen jederzeit in der Stadt präsent , den die unüberlegten Wobra-Verkäufe an die Aubis auslösten .\n",
      "\tN Fast möchte man Andreas Wansing , den Geschäftsführer der Wobra , händeringend bitten , von seinem Plan Abstand zu nehmen , aus dem Bestand der Wobra hinaus Wohnungen zu verkaufen .\n",
      "\n",
      "rst:3\n",
      "\tS den die unüberlegten Wobra-Verkäufe an die Aubis auslösten .\n",
      "\tN Denn noch heute sind die schmerzlichen Folgen jederzeit in der Stadt präsent ,\n",
      "\n",
      "rst:9\n",
      "\tS Zum Beweis :\n",
      "\tN Die damalige Aufsichtsratschefin Margit Spielmann wird am Samstag - obwohl sie bis heute nicht für ihre Wobra-Arbeit entlastet wurde und Schliesing noch im Vorjahr mit der Möglichkeit einer Klage gegen sie drohte - von der SPD wieder als Brandenburger Bundestagsabgeordnete nominiert .\n",
      "\n",
      "rst:22\n",
      "\tN1 Dass die Aubis letztlich den Berliner Senat stürzte , in Brandenburg aber kein Politiker auch nur eine Spur Verantwortung übernehmen musste - obwohl Geld verschleudert und Mieter verramscht wurden - ist nur noch eine stadtgeschichtliche Fußnote . Zum Beweis : Die damalige Aufsichtsratschefin Margit Spielmann wird am Samstag - obwohl sie bis heute nicht für ihre Wobra-Arbeit entlastet wurde und Schliesing noch im Vorjahr mit der Möglichkeit einer Klage gegen sie drohte - von der SPD wieder als Brandenburger Bundestagsabgeordnete nominiert . Deshalb muss sich Wansing auch nicht vor Folgen des Verkaufs fürchten : Zum einen ist es möglich , dass der Verkauf vernünftig vorbereitet und mit den Mietern abgesprochen ist . Zum anderen musste außer Mietern und Mitarbeitern bei der Wobra noch niemand für die Fehler des Managements und des Aufsichtsrates ernsthaft büßen .\n",
      "\tN2 Fast möchte man Andreas Wansing , den Geschäftsführer der Wobra , händeringend bitten , von seinem Plan Abstand zu nehmen , aus dem Bestand der Wobra hinaus Wohnungen zu verkaufen . Denn noch heute sind die schmerzlichen Folgen jederzeit in der Stadt präsent , den die unüberlegten Wobra-Verkäufe an die Aubis auslösten .\n",
      "\n"
     ]
    }
   ],
   "source": [
    "for rel_id in get_rst_relations(merged_graph, data=False):\n",
    "    print rel_id\n",
    "    segment_spans = get_segment_spans_from_rst_relation(merged_graph, rel_id)\n",
    "    for span, span_tokens in segment_spans.iteritems():\n",
    "        print \"\\t\", span, tokens2text(merged_graph, span_tokens)\n",
    "    print"
   ]
  },
  {
   "cell_type": "code",
   "execution_count": 40,
   "metadata": {
    "collapsed": false
   },
   "outputs": [],
   "source": [
    "def get_segment_token_offsets(segment_token_list, token_map):\n",
    "    \"\"\"\n",
    "    Parameters\n",
    "    ----------\n",
    "    segment_token_list : list of str\n",
    "        sorted list of token IDs (i.e. the tokens\n",
    "        that this segment spans)\n",
    "    token_mapper : dict of (str, int)\n",
    "        a map from token IDs to token indices\n",
    "    \n",
    "    Returns\n",
    "    -------\n",
    "    first_token_index : int\n",
    "        index of the first token of the segment\n",
    "    last_token_index : int\n",
    "        index of the last token of the segment\n",
    "    \"\"\"\n",
    "    return token_map[segment_token_list[0]], token_map[segment_token_list[-1]]"
   ]
  },
  {
   "cell_type": "code",
   "execution_count": 55,
   "metadata": {
    "collapsed": false
   },
   "outputs": [],
   "source": [
    "\n",
    "# for dom_node_id, rel_name, token_ids in get_rst_relations(merged_graph):\n",
    "#     rst_ranges.append( (dom_node_id, rel_name,\n",
    "#                         token_mapper.id2index[token_ids[0]],\n",
    "#                         token_mapper.id2index[token_ids[-1]]) )\n",
    "\n",
    "token_map = TokenMapper(merged_graph).id2index\n",
    "\n",
    "rst_segment_ranges = []\n",
    "for dom_node_id, rel_name, token_ids in get_rst_relations(merged_graph):\n",
    "#     print dom_node_id\n",
    "    segments = get_segment_spans_from_rst_relation(merged_graph, dom_node_id)\n",
    "    for segment_pair in itertools.combinations(segments, 2):\n",
    "        for seg_id in segment_pair:\n",
    "            start, end = get_segment_token_offsets(segments[seg_id], token_map)\n",
    "#             print '\\t', dom_node_id+':'+seg_id, rel_name, start, end\n",
    "            rst_segment_ranges.append( (dom_node_id+':'+seg_id, rel_name, start, end) )"
   ]
  },
  {
   "cell_type": "code",
   "execution_count": 80,
   "metadata": {
    "collapsed": false
   },
   "outputs": [
    {
     "name": "stdout",
     "output_type": "stream",
     "text": [
      "rst:22 rst:21 rst:19 rst:2 rst:24 rst:3 rst:23 rst:14 rst:10 rst:13 rst:12 rst:11 rst:20 rst:18 rst:15 rst:9 rst:8 rst:17 rst:7 rst:16 rst:4 rst:5 rst:6\n"
     ]
    }
   ],
   "source": [
    "import networkx as nx\n",
    "\n",
    "for node_id in nx.topological_sort(merged_graph):\n",
    "    if node_id in list(select_nodes_by_layer(merged_graph, layer={'rst:segment', 'rst:group'})):\n",
    "        if merged_graph.node[node_id].get('rst:segment_type') != 'isolated':\n",
    "            print node_id,"
   ]
  },
  {
   "cell_type": "code",
   "execution_count": 77,
   "metadata": {
    "collapsed": false
   },
   "outputs": [
    {
     "data": {
      "text/plain": [
       "{'label': u'[i]:rst:segment:1',\n",
       " 'layers': {'rst', 'rst:segment'},\n",
       " 'rst:rel_name': '',\n",
       " 'rst:segment_type': 'isolated',\n",
       " 'rst:text': u'Ungef\\xe4hrlicher Verkauf'}"
      ]
     },
     "execution_count": 77,
     "metadata": {},
     "output_type": "execute_result"
    }
   ],
   "source": [
    "merged_graph.node['rst:1']"
   ]
  },
  {
   "cell_type": "code",
   "execution_count": 81,
   "metadata": {
    "collapsed": false
   },
   "outputs": [
    {
     "data": {
      "text/html": [
       "<div style=\"max-height:1000px;max-width:1500px;overflow:auto;\">\n",
       "<table border=\"1\" class=\"dataframe\">\n",
       "  <thead>\n",
       "    <tr style=\"text-align: right;\">\n",
       "      <th></th>\n",
       "      <th>segment-id</th>\n",
       "      <th>rst-relation</th>\n",
       "      <th>start-token</th>\n",
       "      <th>end-token</th>\n",
       "    </tr>\n",
       "  </thead>\n",
       "  <tbody>\n",
       "    <tr>\n",
       "      <th>0 </th>\n",
       "      <td>  rst:16:S</td>\n",
       "      <td>     antithesis</td>\n",
       "      <td>  55</td>\n",
       "      <td>  63</td>\n",
       "    </tr>\n",
       "    <tr>\n",
       "      <th>1 </th>\n",
       "      <td>  rst:16:N</td>\n",
       "      <td>     antithesis</td>\n",
       "      <td>  64</td>\n",
       "      <td>  84</td>\n",
       "    </tr>\n",
       "    <tr>\n",
       "      <th>2 </th>\n",
       "      <td>  rst:17:S</td>\n",
       "      <td> interpretation</td>\n",
       "      <td>  85</td>\n",
       "      <td>  91</td>\n",
       "    </tr>\n",
       "    <tr>\n",
       "      <th>3 </th>\n",
       "      <td>  rst:17:N</td>\n",
       "      <td> interpretation</td>\n",
       "      <td>  55</td>\n",
       "      <td>  84</td>\n",
       "    </tr>\n",
       "    <tr>\n",
       "      <th>4 </th>\n",
       "      <td>  rst:14:S</td>\n",
       "      <td>         reason</td>\n",
       "      <td>  55</td>\n",
       "      <td> 136</td>\n",
       "    </tr>\n",
       "    <tr>\n",
       "      <th>5 </th>\n",
       "      <td>  rst:14:N</td>\n",
       "      <td>         reason</td>\n",
       "      <td> 137</td>\n",
       "      <td> 189</td>\n",
       "    </tr>\n",
       "    <tr>\n",
       "      <th>6 </th>\n",
       "      <td> rst:13:N1</td>\n",
       "      <td>    conjunction</td>\n",
       "      <td> 167</td>\n",
       "      <td> 189</td>\n",
       "    </tr>\n",
       "    <tr>\n",
       "      <th>7 </th>\n",
       "      <td> rst:13:N2</td>\n",
       "      <td>    conjunction</td>\n",
       "      <td> 149</td>\n",
       "      <td> 166</td>\n",
       "    </tr>\n",
       "    <tr>\n",
       "      <th>8 </th>\n",
       "      <td>  rst:10:S</td>\n",
       "      <td>       evidence</td>\n",
       "      <td> 149</td>\n",
       "      <td> 189</td>\n",
       "    </tr>\n",
       "    <tr>\n",
       "      <th>9 </th>\n",
       "      <td>  rst:10:N</td>\n",
       "      <td>       evidence</td>\n",
       "      <td> 137</td>\n",
       "      <td> 148</td>\n",
       "    </tr>\n",
       "    <tr>\n",
       "      <th>10</th>\n",
       "      <td>  rst:18:S</td>\n",
       "      <td>       evidence</td>\n",
       "      <td>  92</td>\n",
       "      <td> 136</td>\n",
       "    </tr>\n",
       "    <tr>\n",
       "      <th>11</th>\n",
       "      <td>  rst:18:N</td>\n",
       "      <td>       evidence</td>\n",
       "      <td>  55</td>\n",
       "      <td>  91</td>\n",
       "    </tr>\n",
       "    <tr>\n",
       "      <th>12</th>\n",
       "      <td>   rst:5:S</td>\n",
       "      <td>     concession</td>\n",
       "      <td>  77</td>\n",
       "      <td>  84</td>\n",
       "    </tr>\n",
       "    <tr>\n",
       "      <th>13</th>\n",
       "      <td>   rst:5:N</td>\n",
       "      <td>     concession</td>\n",
       "      <td>  64</td>\n",
       "      <td>  76</td>\n",
       "    </tr>\n",
       "    <tr>\n",
       "      <th>14</th>\n",
       "      <td>   rst:2:S</td>\n",
       "      <td>       evidence</td>\n",
       "      <td>  33</td>\n",
       "      <td>  54</td>\n",
       "    </tr>\n",
       "    <tr>\n",
       "      <th>15</th>\n",
       "      <td>   rst:2:N</td>\n",
       "      <td>       evidence</td>\n",
       "      <td>   2</td>\n",
       "      <td>  32</td>\n",
       "    </tr>\n",
       "    <tr>\n",
       "      <th>16</th>\n",
       "      <td>   rst:3:S</td>\n",
       "      <td>  e-elaboration</td>\n",
       "      <td>  46</td>\n",
       "      <td>  54</td>\n",
       "    </tr>\n",
       "    <tr>\n",
       "      <th>17</th>\n",
       "      <td>   rst:3:N</td>\n",
       "      <td>  e-elaboration</td>\n",
       "      <td>  33</td>\n",
       "      <td>  45</td>\n",
       "    </tr>\n",
       "    <tr>\n",
       "      <th>18</th>\n",
       "      <td>   rst:9:S</td>\n",
       "      <td>    preparation</td>\n",
       "      <td>  92</td>\n",
       "      <td>  94</td>\n",
       "    </tr>\n",
       "    <tr>\n",
       "      <th>19</th>\n",
       "      <td>   rst:9:N</td>\n",
       "      <td>    preparation</td>\n",
       "      <td>  95</td>\n",
       "      <td> 136</td>\n",
       "    </tr>\n",
       "    <tr>\n",
       "      <th>20</th>\n",
       "      <td> rst:22:N1</td>\n",
       "      <td>          joint</td>\n",
       "      <td>  55</td>\n",
       "      <td> 189</td>\n",
       "    </tr>\n",
       "    <tr>\n",
       "      <th>21</th>\n",
       "      <td> rst:22:N2</td>\n",
       "      <td>          joint</td>\n",
       "      <td>   2</td>\n",
       "      <td>  54</td>\n",
       "    </tr>\n",
       "  </tbody>\n",
       "</table>\n",
       "</div>"
      ],
      "text/plain": [
       "   segment-id    rst-relation  start-token  end-token\n",
       "0    rst:16:S      antithesis           55         63\n",
       "1    rst:16:N      antithesis           64         84\n",
       "2    rst:17:S  interpretation           85         91\n",
       "3    rst:17:N  interpretation           55         84\n",
       "4    rst:14:S          reason           55        136\n",
       "5    rst:14:N          reason          137        189\n",
       "6   rst:13:N1     conjunction          167        189\n",
       "7   rst:13:N2     conjunction          149        166\n",
       "8    rst:10:S        evidence          149        189\n",
       "9    rst:10:N        evidence          137        148\n",
       "10   rst:18:S        evidence           92        136\n",
       "11   rst:18:N        evidence           55         91\n",
       "12    rst:5:S      concession           77         84\n",
       "13    rst:5:N      concession           64         76\n",
       "14    rst:2:S        evidence           33         54\n",
       "15    rst:2:N        evidence            2         32\n",
       "16    rst:3:S   e-elaboration           46         54\n",
       "17    rst:3:N   e-elaboration           33         45\n",
       "18    rst:9:S     preparation           92         94\n",
       "19    rst:9:N     preparation           95        136\n",
       "20  rst:22:N1           joint           55        189\n",
       "21  rst:22:N2           joint            2         54"
      ]
     },
     "execution_count": 81,
     "metadata": {},
     "output_type": "execute_result"
    }
   ],
   "source": [
    "rst_segments_df = pd.DataFrame(rst_segment_ranges, columns=['segment-id', 'rst-relation', 'start-token', 'end-token'])\n",
    "rst_segments_df"
   ]
  },
  {
   "cell_type": "code",
   "execution_count": 82,
   "metadata": {
    "collapsed": false
   },
   "outputs": [],
   "source": [
    "rst_segments_df.save?"
   ]
  },
  {
   "cell_type": "code",
   "execution_count": null,
   "metadata": {
    "collapsed": false
   },
   "outputs": [],
   "source": []
  }
 ],
 "metadata": {
  "kernelspec": {
   "display_name": "Python 2",
   "language": "python",
   "name": "python2"
  },
  "language_info": {
   "codemirror_mode": {
    "name": "ipython",
    "version": 2
   },
   "file_extension": ".py",
   "mimetype": "text/x-python",
   "name": "python",
   "nbconvert_exporter": "python",
   "pygments_lexer": "ipython2",
   "version": "2.7.6"
  }
 },
 "nbformat": 4,
 "nbformat_minor": 0
}
