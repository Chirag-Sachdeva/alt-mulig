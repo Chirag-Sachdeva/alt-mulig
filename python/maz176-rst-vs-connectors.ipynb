{
 "metadata": {
  "name": "",
  "signature": "sha256:165aa3ddc98881139824d007fadd694b9d09f6faa792aba4202cd7c762f6a012"
 },
 "nbformat": 3,
 "nbformat_minor": 0,
 "worksheets": [
  {
   "cells": [
    {
     "cell_type": "code",
     "collapsed": false,
     "input": [
      "%matplotlib inline\n",
      "\n",
      "import os\n",
      "from collections import Counter\n",
      "from operator import itemgetter\n",
      "\n",
      "import networkx\n",
      "\n",
      "# import pandas as pd\n",
      "# from networkx import Graph\n",
      "# from networkx.algorithms.components.connected import connected_components\n",
      "# from discoursegraphs import select_edges_by, get_pointing_chains\n",
      "\n",
      "from discoursegraphs import info\n",
      "from discoursegraphs.readwrite import ConanoDocumentGraph, RSTGraph\n",
      "\n",
      "MAZ_ROOTDIR = os.path.expanduser('~/corpora/potsdam-commentary-corpus-2.0.0/')\n",
      "CONANO_TESTFILE = os.path.join(MAZ_ROOTDIR, 'connectors/maz-1423.xml')\n",
      "RST_TESTFILE = os.path.join(MAZ_ROOTDIR, 'rst/maz-1423.rs3')"
     ],
     "language": "python",
     "metadata": {},
     "outputs": [],
     "prompt_number": 1
    },
    {
     "cell_type": "code",
     "collapsed": false,
     "input": [
      "cdg = ConanoDocumentGraph(CONANO_TESTFILE)"
     ],
     "language": "python",
     "metadata": {},
     "outputs": [],
     "prompt_number": 2
    },
    {
     "cell_type": "code",
     "collapsed": false,
     "input": [
      "rdg = RSTGraph(RST_TESTFILE)"
     ],
     "language": "python",
     "metadata": {},
     "outputs": [],
     "prompt_number": 3
    },
    {
     "cell_type": "code",
     "collapsed": false,
     "input": [
      "cdg.merge_graphs(rdg)\n",
      "merged_graph = cdg # you don't need to do this; new variable is only introduced for convenience"
     ],
     "language": "python",
     "metadata": {},
     "outputs": [],
     "prompt_number": 4
    },
    {
     "cell_type": "code",
     "collapsed": false,
     "input": [
      "info(merged_graph)"
     ],
     "language": "python",
     "metadata": {},
     "outputs": [
      {
       "output_type": "stream",
       "stream": "stdout",
       "text": [
        "Name: maz-1423.xml\n",
        "Type: ConanoDocumentGraph\n",
        "Number of nodes: 238\n",
        "Number of edges: 459\n",
        "Average in degree:   1.9286\n",
        "Average out degree:   1.9286 \n",
        "\n",
        "Node statistics\n",
        "===============\n",
        "\n",
        "number of nodes with layers\n",
        "\trst - 217\n",
        "\tconano - 206\n",
        "\tconano:token - 185\n",
        "\trst:token - 185\n",
        "\trst:segment - 32\n",
        "\tconano:unit - 20\n",
        "\tconano:connective - 11\n",
        "\tconano:ext - 5\n",
        "\tconano:int - 5\n",
        "\trst:root - 1\n",
        "\n",
        "number of nodes with attributes\n",
        "\tlayers - 238\n",
        "\tlabel - 217\n",
        "\tconano:token - 185\n",
        "\trst:token - 185\n",
        "\trst:text - 17\n",
        "\trst:reltype - 15\n",
        "\trelation - 6\n",
        "\n",
        "Edge statistics\n",
        "===============\n",
        "\n",
        "number of edges with layers\n",
        "\tconano - 244\n",
        "\tconano:unit - 244\n",
        "\trst - 215\n",
        "\trst:token - 185\n",
        "\trst:relation - 30\n",
        "\n",
        "number of edges with attributes\n",
        "\tlayers - 459\n",
        "\tedge_type - 459\n",
        "\trst:relname - 30\n",
        "\tlabel - 30\n",
        "\n",
        "most common source edges\n",
        "\tint-10 - 70\n",
        "\tint-4 - 36\n",
        "\t16 - 23\n",
        "\t13 - 21\n",
        "\t14 - 20\n",
        "\n",
        "most common target edges\n",
        "\ttoken-101 - 4\n",
        "\ttoken-102 - 4\n",
        "\ttoken-103 - 4\n",
        "\ttoken-104 - 4\n",
        "\ttoken-105 - 4\n"
       ]
      }
     ],
     "prompt_number": 5
    }
   ],
   "metadata": {}
  }
 ]
}