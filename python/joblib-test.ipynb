{
 "cells": [
  {
   "cell_type": "code",
   "execution_count": 1,
   "metadata": {
    "collapsed": false
   },
   "outputs": [],
   "source": [
    "import joblib\n",
    "from joblib import Parallel, delayed"
   ]
  },
  {
   "cell_type": "code",
   "execution_count": 48,
   "metadata": {
    "collapsed": true
   },
   "outputs": [],
   "source": [
    "a = range(10000000)"
   ]
  },
  {
   "cell_type": "code",
   "execution_count": 49,
   "metadata": {
    "collapsed": false
   },
   "outputs": [],
   "source": [
    "def foo(var):\n",
    "    return (((var / 2.0) * 1.5) + 23.42) * (0.00000005 * var)"
   ]
  },
  {
   "cell_type": "code",
   "execution_count": 50,
   "metadata": {
    "collapsed": false
   },
   "outputs": [],
   "source": [
    "def batch_foo(vars):\n",
    "    results = []\n",
    "    for var in vars:\n",
    "        results.append(foo(var))"
   ]
  },
  {
   "cell_type": "code",
   "execution_count": 51,
   "metadata": {
    "collapsed": false
   },
   "outputs": [
    {
     "name": "stdout",
     "output_type": "stream",
     "text": [
      "CPU times: user 4.96 s, sys: 320 ms, total: 5.28 s\n",
      "Wall time: 5.12 s\n"
     ]
    }
   ],
   "source": [
    "# %%time # Wall time: 5.12 s\n",
    "# results = batch_foo(a)"
   ]
  },
  {
   "cell_type": "code",
   "execution_count": 52,
   "metadata": {
    "collapsed": true
   },
   "outputs": [],
   "source": [
    "p = Parallel(n_jobs=3, verbose=10, batch_size=len(a)/10)"
   ]
  },
  {
   "cell_type": "code",
   "execution_count": 42,
   "metadata": {
    "collapsed": false
   },
   "outputs": [],
   "source": [
    "def partition(lst, n):\n",
    "    division = len(lst) / float(n)\n",
    "    return [ lst[int(round(division * i)): int(round(division * (i + 1)))] for i in xrange(n) ]"
   ]
  },
  {
   "cell_type": "code",
   "execution_count": 54,
   "metadata": {
    "collapsed": true
   },
   "outputs": [],
   "source": [
    "def yield_partition(lst, n):\n",
    "    division = len(lst) / float(n)\n",
    "    for i in xrange(n):\n",
    "        yield lst[int(round(division * i)): int(round(division * (i + 1)))]"
   ]
  },
  {
   "cell_type": "code",
   "execution_count": 53,
   "metadata": {
    "collapsed": false
   },
   "outputs": [
    {
     "name": "stdout",
     "output_type": "stream",
     "text": [
      "len(lst) / float(n) = division = 3333333.33333\n",
      "for i in xrange(3)\n",
      "\t0\tlst[0: 3333333]\n",
      "\t1\tlst[3333333: 6666667]\n",
      "\t2\tlst[6666667: 10000000]\n"
     ]
    },
    {
     "name": "stderr",
     "output_type": "stream",
     "text": [
      "[Parallel(n_jobs=3)]: Done   3 tasks      | elapsed:   28.3s\n",
      "[Parallel(n_jobs=3)]: Done   3 out of   3 | elapsed:   28.3s finished\n"
     ]
    }
   ],
   "source": [
    "# results = p(delayed(batch_foo)(chunk) for chunk in partition(a, 3))\n",
    "# [Parallel(n_jobs=3)]: Done   3 out of   3 | elapsed:   28.3s finished\n",
    "results = p(delayed(batch_foo)(chunk) for chunk in partition(a, 3))"
   ]
  },
  {
   "cell_type": "code",
   "execution_count": 58,
   "metadata": {
    "collapsed": false
   },
   "outputs": [
    {
     "name": "stdout",
     "output_type": "stream",
     "text": [
      "len(lst) / float(n) = division = 3333333.33333\n",
      "for i in xrange(3)\n",
      "\t0\tlst[0: 3333333]\n",
      "\t1\tlst[3333333: 6666667]\n",
      "\t2\tlst[6666667: 10000000]\n"
     ]
    },
    {
     "name": "stderr",
     "output_type": "stream",
     "text": [
      "[Parallel(n_jobs=3)]: Done   4 out of   3 | elapsed:   21.9s remaining:   -5.5s\n",
      "[Parallel(n_jobs=3)]: Done   4 out of   3 | elapsed:   29.7s remaining:   -7.4s\n",
      "[Parallel(n_jobs=3)]: Done   3 out of   3 | elapsed:   29.7s finished\n"
     ]
    }
   ],
   "source": [
    "res = Parallel(n_jobs=3,\n",
    "               verbose=10)(delayed(batch_foo)(chunk) for chunk in partition(a, 3))"
   ]
  },
  {
   "cell_type": "code",
   "execution_count": 59,
   "metadata": {
    "collapsed": false
   },
   "outputs": [
    {
     "name": "stderr",
     "output_type": "stream",
     "text": [
      "[Parallel(n_jobs=3)]: Done   4 out of   3 | elapsed:   10.5s remaining:   -2.6s\n",
      "[Parallel(n_jobs=3)]: Done   4 out of   3 | elapsed:   10.6s remaining:   -2.6s\n",
      "[Parallel(n_jobs=3)]: Done   3 out of   3 | elapsed:   10.6s finished\n"
     ]
    },
    {
     "name": "stdout",
     "output_type": "stream",
     "text": [
      "len(lst) / float(n) = division = 3333333.33333\n",
      "for i in xrange(3)\n",
      "\t0\tlst[0: 3333333]\n",
      "\t1\tlst[3333333: 6666667]\n",
      "\t2\tlst[6666667: 10000000]\n"
     ]
    }
   ],
   "source": [
    "res = Parallel(n_jobs=3,\n",
    "               verbose=10,\n",
    "               backend='threading')(delayed(batch_foo)(chunk) for chunk in partition(a, 3))"
   ]
  },
  {
   "cell_type": "code",
   "execution_count": null,
   "metadata": {
    "collapsed": true
   },
   "outputs": [],
   "source": []
  }
 ],
 "metadata": {
  "kernelspec": {
   "display_name": "Python 2",
   "language": "python",
   "name": "python2"
  },
  "language_info": {
   "codemirror_mode": {
    "name": "ipython",
    "version": 2
   },
   "file_extension": ".py",
   "mimetype": "text/x-python",
   "name": "python",
   "nbconvert_exporter": "python",
   "pygments_lexer": "ipython2",
   "version": "2.7.6"
  }
 },
 "nbformat": 4,
 "nbformat_minor": 0
}
