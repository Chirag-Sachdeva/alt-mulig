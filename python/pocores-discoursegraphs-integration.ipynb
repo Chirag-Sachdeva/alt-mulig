{
 "metadata": {
  "name": "",
  "signature": "sha256:2c87df005819d096a5955b868ac356f4617d08ddba39dc56edc9946335f303ae"
 },
 "nbformat": 3,
 "nbformat_minor": 0,
 "worksheets": [
  {
   "cells": [
    {
     "cell_type": "code",
     "collapsed": false,
     "input": [
      "from pocores import Pocores\n",
      "from discoursegraphs.readwrite import ConllDocumentGraph\n",
      "\n",
      "cdg = ConllDocumentGraph('test/maz176/maz-12188.conll2009')\n",
      "p = Pocores(cdg)"
     ],
     "language": "python",
     "metadata": {},
     "outputs": [],
     "prompt_number": 1
    },
    {
     "cell_type": "code",
     "collapsed": false,
     "input": [
      "p.document.deprel_attr"
     ],
     "language": "python",
     "metadata": {},
     "outputs": [
      {
       "metadata": {},
       "output_type": "pyout",
       "prompt_number": 2,
       "text": [
        "'pdeprel'"
       ]
      }
     ],
     "prompt_number": 2
    },
    {
     "cell_type": "code",
     "collapsed": false,
     "input": [
      "# for entity in p.entities:\n",
      "#     print entity\n",
      "\n",
      "for entity, mentions in p.entities.items():\n",
      "    print entity, mentions"
     ],
     "language": "python",
     "metadata": {},
     "outputs": [
      {
       "output_type": "stream",
       "stream": "stdout",
       "text": [
        "s10_t10 ['s10_t10']\n",
        "s10_t16 ['s10_t16']\n",
        "s4_t6 ['s4_t6', 's10_t8']\n",
        "s4_t9 ['s4_t9', 's4_t17']\n",
        "s10_t18 ['s10_t18']\n",
        "s12_t21 ['s12_t21']\n",
        "s6_t11 ['s6_t11', 's11_t4', 's12_t17']\n",
        "s7_t7 ['s7_t7']\n",
        "s7_t1 ['s7_t1']\n",
        "s10_t3 ['s10_t3']\n",
        "s11_t9 ['s11_t9']\n",
        "s5_t6 ['s5_t6', 's8_t21', 's9_t1', 's9_t3']\n",
        "s8_t21 []\n",
        "s4_t21 ['s4_t21']\n",
        "s7_t11 ['s7_t11']\n",
        "s9_t10 ['s9_t10']\n",
        "s8_t6 ['s8_t6']\n",
        "s11_t18 ['s11_t18']\n",
        "s8_t2 ['s8_t2', 's8_t4']\n",
        "s8_t9 ['s8_t9']\n",
        "s2_t2 ['s2_t2']\n",
        "s12_t10 ['s12_t10']\n",
        "s10_t20 ['s10_t20']\n",
        "s10_t23 ['s10_t23']\n",
        "s1_t1 ['s1_t1', 's8_t18']\n",
        "s11_t21 ['s11_t21']\n",
        "s12_t8 ['s12_t8']\n",
        "s12_t2 ['s12_t2']\n",
        "s9_t6 ['s9_t6', 's12_t4', 's12_t5']\n",
        "s5_t8 ['s5_t8']\n",
        "s5_t12 ['s5_t12']\n",
        "s11_t11 ['s11_t11']\n",
        "s6_t3 ['s6_t3']\n",
        "s3_t3 ['s3_t3']\n",
        "s3_t4 ['s3_t4']\n",
        "s6_t6 ['s6_t6']\n",
        "s4_t11 ['s4_t11']\n",
        "s4_t13 ['s4_t13']\n"
       ]
      }
     ],
     "prompt_number": 6
    }
   ],
   "metadata": {}
  }
 ]
}