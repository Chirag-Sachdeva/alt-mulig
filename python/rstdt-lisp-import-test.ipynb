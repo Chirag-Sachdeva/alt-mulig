{
 "metadata": {
  "name": "",
  "signature": "sha256:12f46161aa3c2cfbd7298f27aaed4c138d578c4a6aee82ae2ce0f3e6f1154ba8"
 },
 "nbformat": 3,
 "nbformat_minor": 0,
 "worksheets": [
  {
   "cells": [
    {
     "cell_type": "heading",
     "level": 1,
     "metadata": {},
     "source": [
      "parse RST-DT documents in LISP/S-Expression format"
     ]
    },
    {
     "cell_type": "markdown",
     "metadata": {},
     "source": [
      "* RST-DT *.rs3 files are broken, cf. my notebook on [RST-DT/PTB merging](rstdt-ptb-merging.ipynb)\n",
      "* **only use the `*.dis` files**, the `*.lisp.name` and `*.step.name` may be broken, too\n",
      "* the RST-DT people probably used [Marcu's tools](http://www.isi.edu/~marcu/discourse/utilities/index.html)  \n",
      "  to convert their annotations into *.dis format\n",
      "\n",
      "The RST Discourse Treebank contains 385 WSJ articles from PTB with Rhetorical Structure Theory (RST) annotations.\n",
      "\n",
      "The following information was taken from the RST-DT documentation:\n",
      "\n",
      "## RSTtrees-WSJ-main-1.0\n",
      "This directory contains 385 Wall Street Journal articles, broken into TRAINING (347 documents) and TEST (38 documents) sub-directories.\n",
      "\n",
      "Filenames are in one of two forms:\n",
      "* wsj_####.ext (380 documents)\n",
      "* file#.ext(5 documents)\n",
      "\n",
      "The 5 files named file# were identified as the following filenames in Treebank-2:\n",
      "\n",
      "* file1 - 07/wsj_0764\n",
      "* file2 - 04/wsj_0430\n",
      "* file3 - 07/wsj_0766\n",
      "* file4 - 07/wsj_0778\n",
      "* file5 - 21/wsj_2172\n",
      "\n",
      "(More information is available in a\n",
      "[compressed file](ftp://ftp.ldc.upenn.edu/pub/ldc/data_samples/pennTB_tipster_wsj_map.tar.gz)\n",
      "via ftp, which provides the relationship between the 2,499 PTB filenames and the corresponding WSJ DOCNO strings in TIPSTER.)\n",
      "\n",
      "### <docno>.rst/\n",
      "\n",
      "A directory with three files:  \n",
      "\n",
      "* **`<docno>.lisp.name`** - discourse structure created by a human judge for a text.\n",
      "* **`<docno>.step.name`** - list of all human actions taken  \n",
      "  during the creation of the discourse structure\n",
      "* **`##`** -- a file with an integer as its name - temp file;  \n",
      "  contains last human action during creation of the discourse structure\n",
      "\t\n",
      "All annotations were produced using a discourse annotation tool that can be downloaded from http://www.isi.edu/~marcu/discourse.\n",
      "\n",
      "The files in the .rst directories are **provided only** to enable interested users **to visualize and print in a convenient format** the discourse annotations in the corpus.\n",
      "\n",
      "* **`<docno>.dis``** - contains the manually annotated discourse structure  \n",
      "  of the file **`<docno>`**  \n",
      "  The .dis files were generated automatically from the **`.step`** and **`.lisp`**  \n",
      "  files using a mapping program.  \n",
      "  More information about this program is available at http://www.isi.edu/~marcu/discourse.\n",
      "\n",
      "**IMPORTANT NOTE**: The **.lisp files may contain errors** introduced by the discourse annotation tool. Please **use the .lisp and .step files only for visualizing the trees**.  \n",
      "**Use the .dis files for training/testing purposes** (the mapping program that produced the .dis file was written so as to eliminate the errors introduced by the annotation tool).\n",
      "\n",
      "* **`<docno>.edus`** - edus (elementary discourse units) listed line by line.\n",
      "\n",
      "## RSTtrees-WSJ-double-1.0\n",
      "This directory contains the same types of files as the subdirectory RSTtrees-WSJ-main-1.0, for 53 documents which were reviewed by a second analyst. "
     ]
    },
    {
     "cell_type": "code",
     "collapsed": false,
     "input": [
      "import os\n",
      "import sys\n",
      "import glob\n",
      "\n",
      "import nltk\n",
      "\n",
      "RSTDT_MAIN_ROOT = os.path.expanduser('~/corpora/rst_discourse_treebank/data/RSTtrees-WSJ-main-1.0')\n",
      "RSTDT_DOUBLE_ROOT = os.path.expanduser('~/corpora/rst_discourse_treebank/data/RSTtrees-WSJ-double-1.0')\n",
      "RSTDT_TOKENIZED_ROOT = os.path.expanduser('~/repos/rst_discourse_treebank/data/RSTtrees-WSJ-main-1.0-tokenized')\n",
      "\n",
      "RSTDT_TEST_FILE = os.path.join(RSTDT_MAIN_ROOT, 'TEST', 'wsj_1306.out.dis')\n",
      "RSTDT_TOKENIZED_TEST_FILE = os.path.join(RSTDT_TOKENIZED_ROOT, 'TEST', 'wsj_1306.out.dis')\n",
      "\n",
      "PTB_WSJ_ROOT_DIR = os.path.expanduser('~/corpora/pennTreebank/parsed/mrg/wsj')"
     ],
     "language": "python",
     "metadata": {},
     "outputs": [],
     "prompt_number": 1
    },
    {
     "cell_type": "markdown",
     "metadata": {},
     "source": [
      "# Find unparsable files\n",
      "\n",
      "* only 3 files that nltk's Bracket parser can't handle at all"
     ]
    },
    {
     "cell_type": "code",
     "collapsed": false,
     "input": [
      "FILES_UNPARSABLE_WITH_NLTK = set([\n",
      "    '/home/arne/corpora/rst_discourse_treebank/data/RSTtrees-WSJ-main-1.0/TRAINING/wsj_1107.out.dis',\n",
      "    '/home/arne/corpora/rst_discourse_treebank/data/RSTtrees-WSJ-main-1.0/TRAINING/wsj_2353.out.dis',\n",
      "    '/home/arne/corpora/rst_discourse_treebank/data/RSTtrees-WSJ-main-1.0/TRAINING/wsj_2367.out.dis'])"
     ],
     "language": "python",
     "metadata": {},
     "outputs": [],
     "prompt_number": 2
    },
    {
     "cell_type": "code",
     "collapsed": false,
     "input": [
      "def get_nodelabel(node):\n",
      "    \"\"\"returns the node label of an nltk Tree or one of its subtrees\"\"\"\n",
      "    if isinstance(node, nltk.tree.Tree):\n",
      "        return node.label()\n",
      "    elif isinstance(node, unicode):\n",
      "        return node.encode('utf-8')\n",
      "    else:\n",
      "        raise ValueError(\"Unexpected node type: {}, {}\".format(type(node), node))"
     ],
     "language": "python",
     "metadata": {},
     "outputs": [],
     "prompt_number": 3
    },
    {
     "cell_type": "code",
     "collapsed": false,
     "input": [
      "from nltk.corpus.reader import BracketParseCorpusReader\n",
      "\n",
      "def parse_rstfile_nltk(rst_filepath):\n",
      "    \"\"\"parse a *.dis RST file into an nltk.tree.Tree\"\"\"\n",
      "    rst_path, rst_filename = os.path.split(rst_filepath)\n",
      "    parsed_doc = BracketParseCorpusReader(rst_path, [rst_filename])\n",
      "    parsed_sents_iter = parsed_doc.parsed_sents()\n",
      "    return parsed_sents_iter[0] # there's only one tree in a *.dis"
     ],
     "language": "python",
     "metadata": {},
     "outputs": [],
     "prompt_number": 4
    },
    {
     "cell_type": "code",
     "collapsed": false,
     "input": [
      "from collections import defaultdict\n",
      "\n",
      "def nested_tree_count(tree, result_dict=None):\n",
      "    if not result_dict:\n",
      "        result_dict = defaultdict(lambda : defaultdict(int))\n",
      "    for i, subtree in enumerate(tree):\n",
      "        if isinstance(subtree, nltk.tree.Tree) and subtree.label() in ('Nucleus', 'Satellite'):\n",
      "            rhs = tuple([get_nodelabel(st) for st in subtree])\n",
      "            result_dict[get_nodelabel(subtree)][rhs] += 1\n",
      "            if rhs[0] == u'leaf' and len(rhs) != 3: # (leaf, rel2par, text)\n",
      "                raise ValueError('Badly escaped s-expression\\n{}\\n'.format(subtree))\n",
      "            nested_tree_count(subtree, result_dict)"
     ],
     "language": "python",
     "metadata": {},
     "outputs": [],
     "prompt_number": 5
    },
    {
     "cell_type": "markdown",
     "metadata": {},
     "source": [
      "# Files with bad escaping\n",
      "\n",
      "* 22 badly escaped files\n",
      "\n",
      "## \"(\" and \")\" aren't escaped in text field!\n",
      "\n",
      "* /home/arne/corpora/rst_discourse_treebank/data/RSTtrees-WSJ-main-1.0/TRAINING/wsj_0612.out.dis\n",
      "\n",
      "```\n",
      "  ( Satellite (span 22 28) (rel2par elaboration-set-member-e)\n",
      "    ( Nucleus (span 22 23) (rel2par span)\n",
      "      ( Nucleus (leaf 22) (rel2par span) (text _!Canadian Imperial Bank of Commerce_!) )\n",
      "      ( Satellite (leaf 23) (rel2par elaboration-additional) (text _!(Canada) --_!) )\n",
      "    )\n",
      "```"
     ]
    },
    {
     "cell_type": "code",
     "collapsed": false,
     "input": [
      "# BADLY_ESCAPED_FILES = set()\n",
      "\n",
      "# for folder in ('TEST', 'TRAINING'):\n",
      "#     for rst_fpath in glob.glob(os.path.join(RSTDT_MAIN_ROOT, folder, '*.dis')):\n",
      "#         if rst_fpath not in FILES_UNPARSABLE_WITH_NLTK:\n",
      "#             rst_tree = parse_rstfile_nltk(rst_fpath)\n",
      "#             try:\n",
      "#                 nested_tree_count(rst_tree)\n",
      "#             except ValueError as e:\n",
      "#                 BADLY_ESCAPED_FILES.add(rst_fpath)\n",
      "\n",
      "# len(BADLY_ESCAPED_FILES) # 22 files"
     ],
     "language": "python",
     "metadata": {},
     "outputs": [],
     "prompt_number": 6
    },
    {
     "cell_type": "markdown",
     "metadata": {},
     "source": [
      "# Files unparsable with sexpdata (due to bad bracketing)\n",
      "\n",
      "* 113 files that aren't valid s-expressions (nltk parses them, as it is very forgiving)"
     ]
    },
    {
     "cell_type": "code",
     "collapsed": false,
     "input": [
      "import sys\n",
      "import traceback\n",
      "import sexpdata\n",
      "\n",
      "def parse_rstfile_sexpdata(rst_filepath):\n",
      "    with open(rst_filepath) as rstfile:\n",
      "        try:\n",
      "            return sexpdata.load(rstfile)\n",
      "        except sexpdata.ExpectClosingBracket as e:\n",
      "            raise ValueError(u\"{}\\n{}\\n\\n\".format(rst_fpath, e))\n",
      "        except sexpdata.ExpectNothing as e:\n",
      "            error_msg = e.args[0][:100] # complete msg contains whole document\n",
      "            raise ValueError(u\"{}\\n{}...\\n\\n\".format(rst_fpath, e.args[0][:100]))\n",
      "        except AssertionError as e:\n",
      "            raise ValueError(u\"{}\\n{}\\n\\n\".format(rst_fpath, traceback.format_exc()))\n",
      "        except AttributeError as e:\n",
      "            raise ValueError(u\"{}\\n{}\\n\\n\".format(rst_fpath, traceback.format_exc()))"
     ],
     "language": "python",
     "metadata": {},
     "outputs": [],
     "prompt_number": 7
    },
    {
     "cell_type": "code",
     "collapsed": false,
     "input": [
      "# FILES_UNPARSABLE_WITH_SEXPDATA = set()\n",
      "# for folder in ('TEST', 'TRAINING'):\n",
      "#     for rst_fpath in glob.glob(os.path.join(RSTDT_MAIN_ROOT, folder, '*.dis')):\n",
      "#         try:\n",
      "#             parse_rstfile_sexpdata(rst_fpath)\n",
      "#         except ValueError as e:\n",
      "#             FILES_UNPARSABLE_WITH_SEXPDATA.add(rst_fpath)\n",
      "\n",
      "# len(FILES_UNPARSABLE_WITH_SEXPDATA) # 113 unparsable files"
     ],
     "language": "python",
     "metadata": {},
     "outputs": [],
     "prompt_number": 8
    },
    {
     "cell_type": "markdown",
     "metadata": {},
     "source": [
      "# set of all 'unparsable' files (before tokenization and text escaping)"
     ]
    },
    {
     "cell_type": "code",
     "collapsed": false,
     "input": [
      "# ALL_UNPARSABLE_FILES = FILES_UNPARSABLE_WITH_NLTK.union(FILES_UNPARSABLE_WITH_SEXPDATA).union(BADLY_ESCAPED_FILES)\n",
      "# len(ALL_UNPARSABLE_FILES) # 124 unparsable files"
     ],
     "language": "python",
     "metadata": {},
     "outputs": [],
     "prompt_number": 9
    },
    {
     "cell_type": "markdown",
     "metadata": {},
     "source": [
      "# try parsing files into graphs"
     ]
    },
    {
     "cell_type": "markdown",
     "metadata": {},
     "source": [
      "## Summary of RST tree rules\n",
      "\n",
      "* Root --> span (N+ | N S | S N)\n",
      "* Nucleus --> leaf rel2par text (N | S | re.compile('.*_!') )?\n",
      "* Nucleus --> span rel2par (N+ | N S | S N | S N S)\n",
      "* Satellite --> leaf rel2par text (N | re.compile('.*_!') )?\n",
      "* Satellite --> span rel2par (N+ | N S | S | S N | S N S)\n",
      "* rel2par --> any RST relation string"
     ]
    },
    {
     "cell_type": "code",
     "collapsed": false,
     "input": [
      "sexp_tree = parse_rstfile_sexpdata(RSTDT_TEST_FILE)\n",
      "# a list that contains Symbol instances (and lists of Symbol instances and integers)"
     ],
     "language": "python",
     "metadata": {},
     "outputs": [],
     "prompt_number": 10
    },
    {
     "cell_type": "code",
     "collapsed": false,
     "input": [
      "root = sexp_tree[0]\n",
      "    "
     ],
     "language": "python",
     "metadata": {},
     "outputs": [],
     "prompt_number": 11
    },
    {
     "cell_type": "code",
     "collapsed": false,
     "input": [
      "print sexp_tree[1]\n",
      "print sexp_tree[1][0]\n",
      "print sexp_tree[1][0].value()"
     ],
     "language": "python",
     "metadata": {},
     "outputs": [
      {
       "output_type": "stream",
       "stream": "stdout",
       "text": [
        "[Symbol('span'), 1, 47]\n",
        "Symbol('span')\n",
        "span\n"
       ]
      }
     ],
     "prompt_number": 12
    },
    {
     "cell_type": "code",
     "collapsed": false,
     "input": [
      "nuc_tree = sexp_tree[2]\n",
      "print nuc_tree[1][0].value()\n",
      "print nuc_tree[1][1], nuc_tree[1][2]\n",
      "for i, e in enumerate(nuc_tree):\n",
      "    print i, e, '\\n'"
     ],
     "language": "python",
     "metadata": {},
     "outputs": [
      {
       "output_type": "stream",
       "stream": "stdout",
       "text": [
        "span\n",
        "1 20\n",
        "0 Symbol('Nucleus') \n",
        "\n",
        "1 [Symbol('span'), 1, 20] \n",
        "\n",
        "2 [Symbol('rel2par'), Symbol('span')] \n",
        "\n",
        "3 [Symbol('Nucleus'), [Symbol('span'), 1, 14], [Symbol('rel2par'), Symbol('span')], [Symbol('Nucleus'), [Symbol('span'), 1, 8], [Symbol('rel2par'), Symbol('span')], [Symbol('Nucleus'), [Symbol('span'), 1, 4], [Symbol('rel2par'), Symbol('Inverted-Sequence')], [Symbol('Nucleus'), [Symbol('span'), 1, 3], [Symbol('rel2par'), Symbol('span')], [Symbol('Satellite'), [Symbol('leaf'), 1], [Symbol('rel2par'), Symbol('attribution')], [Symbol('text'), Symbol('_!Tandy'), Symbol('Corp.'), Symbol('said_!')]], [Symbol('Nucleus'), [Symbol('span'), 2, 3], [Symbol('rel2par'), Symbol('span')], [Symbol('Nucleus'), [Symbol('leaf'), 2], [Symbol('rel2par'), Symbol('span')], [Symbol('text'), Symbol('_!it'), Symbol('won'), Quoted(True), Symbol('join'), Symbol('U.S.'), Symbol('Memories,'), Symbol('the'), Symbol('group_!')]], [Symbol('Satellite'), [Symbol('leaf'), 3], [Symbol('rel2par'), Symbol('elaboration-object-attribute-e')], [Symbol('text'), Symbol('_!that'), Symbol('seeks'), Symbol('to'), Symbol('battle'), Symbol('the'), Symbol('Japanese'), Symbol('in'), Symbol('the'), Symbol('market'), Symbol('for'), Symbol('computer'), Symbol('memory'), Symbol('chips.<P>_!')]]]], [Symbol('Satellite'), [Symbol('leaf'), 4], [Symbol('rel2par'), Symbol('elaboration-additional')], [Symbol('text'), Symbol('_!Tandy'), Quoted(Symbol('s')), Symbol('decision'), Symbol('is'), Symbol('a'), Symbol('second'), Symbol('setback'), Symbol('for'), Symbol('U.S.'), Symbol('Memories._!')]]], [Symbol('Nucleus'), [Symbol('span'), 5, 8], [Symbol('rel2par'), Symbol('Inverted-Sequence')], [Symbol('Nucleus'), [Symbol('span'), 5, 6], [Symbol('rel2par'), Symbol('span')], [Symbol('Satellite'), [Symbol('leaf'), 5], [Symbol('rel2par'), Symbol('attribution')], [Symbol('text'), Symbol('_!Last'), Symbol('month,'), Symbol('Apple'), Symbol('Computer'), Symbol('Inc.'), Symbol('said_!')]], [Symbol('Nucleus'), [Symbol('leaf'), 6], [Symbol('rel2par'), Symbol('span')], [Symbol('text'), Symbol('_!that'), Symbol('it'), Symbol('wouldn'), Quoted(True), Symbol('invest'), Symbol('in'), Symbol('the'), Symbol('group._!')]]], [Symbol('Satellite'), [Symbol('span'), 7, 8], [Symbol('rel2par'), Symbol('reason')], [Symbol('Satellite'), [Symbol('leaf'), 7], [Symbol('rel2par'), Symbol('attribution')], [Symbol('text'), Symbol('_!Apple'), Symbol('said_!')]], [Symbol('Nucleus'), [Symbol('leaf'), 8], [Symbol('rel2par'), Symbol('span')], [Symbol('text'), Symbol('_!that'), Symbol('its'), Symbol('money'), Symbol('would'), Symbol('be'), Symbol('better'), Symbol('spent'), Symbol('in'), Symbol('areas'), Symbol('such'), Symbol('as'), Symbol('research'), Symbol('and'), Symbol('development.<P>_!')]]]]], [Symbol('Satellite'), [Symbol('span'), 9, 14], [Symbol('rel2par'), Symbol('circumstance')], [Symbol('Nucleus'), [Symbol('span'), 9, 11], [Symbol('rel2par'), Symbol('span')], [Symbol('Nucleus'), [Symbol('leaf'), 9], [Symbol('rel2par'), Symbol('span')], [Symbol('text'), Symbol('_!U.S.'), Symbol('Memories'), Symbol('is'), Symbol('seeking'), Symbol('major'), Symbol('investors'), Symbol('to'), Symbol('back'), Symbol('its'), Symbol('attempt_!')]], [Symbol('Satellite'), [Symbol('span'), 10, 11], [Symbol('rel2par'), Symbol('elaboration-object-attribute-e')], [Symbol('Nucleus'), [Symbol('leaf'), 10], [Symbol('rel2par'), Symbol('span')], [Symbol('text'), Symbol('_!to'), Symbol('crack'), Symbol('the'), Symbol('$10'), Symbol('billion'), Symbol('market'), Symbol('for'), Symbol('dynamic'), Symbol('random'), Symbol('access'), Symbol('memory'), Symbol('chips,'), Symbol('a'), Symbol('market_!')]], [Symbol('Satellite'), [Symbol('leaf'), 11], [Symbol('rel2par'), Symbol('elaboration-object-attribute-e')], [Symbol('text'), Symbol('_!dominated'), Symbol('by'), Symbol('the'), Symbol('Japanese._!')]]]], [Symbol('Satellite'), [Symbol('span'), 12, 14], [Symbol('rel2par'), Symbol('elaboration-additional')], [Symbol('Nucleus'), [Symbol('leaf'), 12], [Symbol('rel2par'), Symbol('span')], [Symbol('text'), Symbol('_!Those'), Symbol('chips'), Symbol('were'), Symbol('in'), Symbol('dire'), Symbol('shortage'), Symbol('last'), Symbol('year,_!')]], [Symbol('Satellite'), [Symbol('span'), 13, 14], [Symbol('rel2par'), Symbol('consequence-s')], [Symbol('Nucleus'), [Symbol('leaf'), 13], [Symbol('rel2par'), Symbol('span')], [Symbol('text'), Symbol('_!hurting'), Symbol('many'), Symbol('U.S.'), Symbol('computer'), Symbol('companies_!')]], [Symbol('Satellite'), [Symbol('leaf'), 14], [Symbol('rel2par'), Symbol('elaboration-object-attribute-e')], [Symbol('text'), Symbol('_!that'), Symbol('couldn'), Quoted(True), Symbol('get'), Symbol('sufficient'), Symbol('Japanese-supplied'), Symbol('chips.<P>_!')]]]]]] \n",
        "\n",
        "4 [Symbol('Satellite'), [Symbol('span'), 15, 20], [Symbol('rel2par'), Symbol('reason')], [Symbol('Nucleus'), [Symbol('span'), 15, 17], [Symbol('rel2par'), Symbol('span')], [Symbol('Satellite'), [Symbol('leaf'), 15], [Symbol('rel2par'), Symbol('attribution')], [Symbol('text'), Symbol('_!Tandy'), Symbol('said_!')]], [Symbol('Nucleus'), [Symbol('span'), 16, 17], [Symbol('rel2par'), Symbol('span')], [Symbol('Nucleus'), [Symbol('leaf'), 16], [Symbol('rel2par'), Symbol('span')], [Symbol('text'), Symbol('_!its'), Symbol('experience'), Symbol('during'), Symbol('the'), Symbol('shortage'), Symbol('didn'), Quoted(True), Symbol('merit'), Symbol('the'), Symbol('$5'), Symbol('million'), Symbol('to'), Symbol('$50'), Symbol('million'), Symbol('investment_!')]], [Symbol('Satellite'), [Symbol('leaf'), 17], [Symbol('rel2par'), Symbol('elaboration-object-attribute-e')], [Symbol('text'), Symbol('_!U.S.'), Symbol('Memories'), Symbol('is'), Symbol('seeking'), Symbol('from'), Symbol('each'), Symbol('investor._!')]]]], [Symbol('Satellite'), [Symbol('span'), 18, 20], [Symbol('rel2par'), Symbol('explanation-argumentative')], [Symbol('Nucleus'), [Symbol('span'), 18, 19], [Symbol('rel2par'), Symbol('span')], [Symbol('Nucleus'), [Symbol('leaf'), 18], [Symbol('rel2par'), Symbol('span')], [Symbol('text'), Symbol('_!'), 'At this time, we elected not to get involved_!) )\\n          ( Satellite (leaf 19) (rel2par reason) (text _!because we have been able to satisfy our need {for DRAMs} from the market as a rule,', Symbol('_!')]]], [Symbol('Satellite'), [Symbol('leaf'), 20], [Symbol('rel2par'), Symbol('attribution')], [Symbol('text'), Symbol('_!said'), Symbol('Ed'), Symbol('Juge,'), Symbol('Tandy'), Quoted(Symbol('s')), Symbol('director'), Symbol('of'), Symbol('market'), Symbol('planning.<P>_!')]]]] \n",
        "\n"
       ]
      }
     ],
     "prompt_number": 13
    },
    {
     "cell_type": "markdown",
     "metadata": {},
     "source": [
      "# SEXPDATA fail:  ' must be escaped\n",
      "\n",
      "```python\n",
      ">>> sexpdata.loads(\"(text this won't hurt)\")\n",
      ">>> [Symbol('text'), Symbol('this'), Symbol('won'), Quoted(True), Symbol('hurt')]\n",
      "```"
     ]
    },
    {
     "cell_type": "markdown",
     "metadata": {},
     "source": [
      "# Epic fail: RST-DT files contain superflous ``//TT_ERR`` strings\n",
      "    \n",
      "* I fixed the files in the ``RSTtrees-WSJ-main-1.0-tokenized`` directory\n",
      "\n",
      "```\n",
      "arne@ziegelstein ~/repos/rst_discourse_treebank $ ack-grep -cl \"//TT_ERR\"\n",
      "data/RSTtrees-WSJ-main-1.0/TRAINING/wsj_2367.out.dis:102\n",
      "data/RSTtrees-WSJ-main-1.0/TRAINING/wsj_2353.out.dis:53\n",
      "data/RSTtrees-WSJ-main-1.0-tokenized/TRAINING/wsj_2367.out.dis:102\n",
      "data/RSTtrees-WSJ-main-1.0-tokenized/TRAINING/wsj_2353.out.dis:53\n",
      "```"
     ]
    },
    {
     "cell_type": "code",
     "collapsed": false,
     "input": [
      "import discoursegraphs as dg\n",
      "from collections import Counter\n",
      "\n",
      "class RSTLispDocumentGraph(dg.DiscourseDocumentGraph):\n",
      "    \"\"\"\n",
      "    A directed graph with multiple edges (based on a networkx\n",
      "    MultiDiGraph) that represents the rhetorical structure of a\n",
      "    document.\n",
      "\n",
      "    Attributes\n",
      "    ----------\n",
      "    name : str\n",
      "        name, ID of the document or file name of the input file\n",
      "    ns : str\n",
      "        the namespace of the document (default: rst)\n",
      "    root : str\n",
      "        name of the document root node ID\n",
      "    tokens : list of str\n",
      "        sorted list of all token node IDs contained in this document graph\n",
      "    \"\"\"\n",
      "    def __init__(self, dis_filepath, name=None, namespace='rst',\n",
      "                 tokenize=True, precedence=False):\n",
      "        \"\"\"\n",
      "        Creates an RSTLispDocumentGraph from a Rhetorical Structure *.dis file and adds metadata\n",
      "        to it.\n",
      "\n",
      "        Parameters\n",
      "        ----------\n",
      "        dis_filepath : str\n",
      "            absolute or relative path to the Rhetorical Structure *.dis file to be\n",
      "            parsed.\n",
      "        name : str or None\n",
      "            the name or ID of the graph to be generated. If no name is\n",
      "            given, the basename of the input file is used.\n",
      "        namespace : str\n",
      "            the namespace of the document (default: rst)\n",
      "        precedence : bool\n",
      "            If True, add precedence relation edges\n",
      "            (root precedes token1, which precedes token2 etc.)\n",
      "        \"\"\"\n",
      "        # super calls __init__() of base class DiscourseDocumentGraph\n",
      "        super(RSTLispDocumentGraph, self).__init__()\n",
      "\n",
      "        self.name = name if name else os.path.basename(dis_filepath)\n",
      "        self.ns = namespace\n",
      "        self.root = 0\n",
      "        self.add_node(self.root, layers={self.ns}, label=self.ns+':root_node')\n",
      "        if 'discoursegraph:root_node' in self:\n",
      "            self.remove_node('discoursegraph:root_node')\n",
      "        \n",
      "        self.tokenized = tokenize\n",
      "        self.tokens = []\n",
      "        self.rst_tree = parse_rstfile_sexpdata(dis_filepath)\n",
      "        self.parse_rst_tree(self.rst_tree)\n",
      "        \n",
      "    def parse_rst_tree(self, rst_tree, indent=0):\n",
      "        tree_type = self.get_tree_type(rst_tree)\n",
      "        assert tree_type in ('Root', 'Nucleus', 'Satellite')\n",
      "        if tree_type == 'Root':\n",
      "            span, children = rst_tree[1], rst_tree[2:]\n",
      "            for child in children:\n",
      "                self.parse_rst_tree(child, indent=indent+1)\n",
      "\n",
      "        else: # tree_type in ('Nucleus', 'Satellite')\n",
      "            node_id = self.get_node_id(rst_tree)\n",
      "            node_type = self.get_node_type(rst_tree)\n",
      "            relation_type = self.get_relation_type(rst_tree)\n",
      "            if node_type == 'leaf':\n",
      "                edu_text = self.get_edu_text(rst_tree[3])\n",
      "                self.add_node(node_id, attr_dict={self.ns+':text': edu_text,\n",
      "                                                  'label': u'{}: {}'.format(node_id, edu_text[:20])})\n",
      "                if self.tokenized:\n",
      "                    edu_tokens = edu_text.split()\n",
      "                    for i, token in enumerate(edu_tokens):\n",
      "                        token_node_id = '{}_{}'.format(node_id, i)\n",
      "                        self.tokens.append(token_node_id)\n",
      "                        self.add_node(token_node_id, attr_dict={self.ns+':token': token,\n",
      "                                                                'label': token})\n",
      "                        self.add_edge(node_id, '{}_{}'.format(node_id, i))\n",
      "                    \n",
      "            else: # node_type == 'span'\n",
      "                self.add_node(node_id, attr_dict={self.ns+':rel_type': relation_type,\n",
      "                                                   self.ns+':node_type': node_type})\n",
      "                children = rst_tree[3:]\n",
      "                child_types = self.get_child_types(children)\n",
      "                \n",
      "                expected_child_types = set(['Nucleus', 'Satellite'])\n",
      "                unexpected_child_types = set(child_types).difference(expected_child_types)\n",
      "                assert not unexpected_child_types, \\\n",
      "                    \"Node '{}' contains unexpected child types: {}\\n\".format(node_id, unexpected_child_types)\n",
      "                \n",
      "                if 'Satellite' not in child_types:\n",
      "                    # span only contains nucleii -> multinuc\n",
      "                    for child in children:\n",
      "                        child_node_id = self.get_node_id(child)\n",
      "                        self.add_edge(node_id, child_node_id, attr_dict={self.ns+':rel_type': relation_type})\n",
      "                \n",
      "                elif len(child_types['Satellite']) == 1 and len(child_types['Nucleus']) == 1:\n",
      "                    # standard RST relation, where one satellite is dominated by one nucleus\n",
      "                    nucleus_index = child_types['Nucleus'][0]\n",
      "                    satellite_index = child_types['Satellite'][0]\n",
      "                    \n",
      "                    nucleus_node_id = self.get_node_id(children[nucleus_index])\n",
      "                    satellite_node_id = self.get_node_id(children[satellite_index])\n",
      "                    self.add_edge(node_id, nucleus_node_id, attr_dict={self.ns+':rel_type': 'span'},\n",
      "                                  edge_type=dg.EdgeTypes.spanning_relation)\n",
      "                    self.add_edge(nucleus_node_id, satellite_node_id,\n",
      "                                  attr_dict={self.ns+':rel_type': relation_type},\n",
      "                                  edge_type=dg.EdgeTypes.dominance_relation)\n",
      "                else:\n",
      "                    raise ValueError(\"Unexpected child combinations: {}\\n\".format(child_types))\n",
      "                \n",
      "                for child in children:\n",
      "                    self.parse_rst_tree(child, indent=indent+1)\n",
      "\n",
      "    def get_child_types(self, children):\n",
      "        \"\"\"\n",
      "        maps from (sub)tree type (i.e. Nucleus or Satellite) to a list\n",
      "        of all children of this type\n",
      "        \"\"\"\n",
      "        child_types = defaultdict(list)\n",
      "        for i, child in enumerate(children):\n",
      "            child_types[self.get_tree_type(child)].append(i)\n",
      "        return child_types\n",
      "\n",
      "\n",
      "    def get_edu_text(self, text_subtree):\n",
      "        assert text_subtree[0].value() == 'text'\n",
      "        return u' '.join(word.value().decode('utf-8')\n",
      "                         if isinstance(word, sexpdata.Symbol) else word.decode('utf-8')\n",
      "                         for word in text_subtree[1:])\n",
      "        \n",
      "    def get_tree_type(self, tree):\n",
      "        \"\"\"returns the type of the (sub)tree: Root, Nucleus or Satellite\"\"\"\n",
      "        tree_type = tree[0].value()\n",
      "        return tree_type\n",
      "\n",
      "    def get_node_type(self, tree):\n",
      "        \"\"\"returns the node type (leaf or span) of a subtree (i.e. Nucleus or Satellite)\"\"\"\n",
      "        node_type = tree[1][0].value()\n",
      "        assert node_type in ('leaf', 'span')\n",
      "        return node_type\n",
      "\n",
      "    def get_relation_type(self, tree):\n",
      "        \"\"\"returns the RST relation type attached to the parent node of an RST relation\"\"\"\n",
      "        return tree[2][1].value()\n",
      "\n",
      "    def get_node_id(self, nuc_or_sat):\n",
      "        node_type = self.get_node_type(nuc_or_sat)\n",
      "        if node_type == 'leaf':\n",
      "            leaf_id = nuc_or_sat[1][1]\n",
      "            return '{}:{}'.format(self.ns, leaf_id)\n",
      "        else: # node_type == 'span'\n",
      "            span_start = nuc_or_sat[1][1]\n",
      "            span_end = nuc_or_sat[1][2]\n",
      "            return '{}:span:{}-{}'.format(self.ns, span_start, span_end)\n",
      "        \n",
      "        \n",
      "    "
     ],
     "language": "python",
     "metadata": {},
     "outputs": [
      {
       "output_type": "stream",
       "stream": "stdout",
       "text": [
        "Couldn't import dot_parser, loading of dot files will not be possible.\n"
       ]
      }
     ],
     "prompt_number": 14
    },
    {
     "cell_type": "code",
     "collapsed": false,
     "input": [
      "RSTDT_TOKENIZED_ROOT = os.path.expanduser('~/repos/rst_discourse_treebank/data/RSTtrees-WSJ-main-1.0-tokenized')\n",
      "\n",
      "import traceback\n",
      "\n",
      "# for folder in ('TEST', 'TRAINING'):\n",
      "#     for rst_fpath in glob.glob(os.path.join(RSTDT_TOKENIZED_ROOT, folder, '*.dis')):\n",
      "#         try:\n",
      "#             RSTLispDocumentGraph(rst_fpath)\n",
      "# #             print rst_fpath\n",
      "#         except ValueError as e:\n",
      "#             sys.stderr.write(\"Error in file '{}'\\n{}\\n\".format(rst_fpath, e))\n"
     ],
     "language": "python",
     "metadata": {},
     "outputs": [],
     "prompt_number": 15
    },
    {
     "cell_type": "code",
     "collapsed": false,
     "input": [
      "# TODO: error in attachment: rst:span:18-20 -> 18-19\n",
      "rdg = RSTLispDocumentGraph(RSTDT_TOKENIZED_TEST_FILE, tokenize=False)"
     ],
     "language": "python",
     "metadata": {},
     "outputs": [],
     "prompt_number": 16
    },
    {
     "cell_type": "code",
     "collapsed": false,
     "input": [
      "# %load_ext gvmagic\n",
      "# %dotstr dg.print_dot(rdg)"
     ],
     "language": "python",
     "metadata": {},
     "outputs": [],
     "prompt_number": 17
    },
    {
     "cell_type": "markdown",
     "metadata": {},
     "source": [
      "# Do RSTDT-CoreNLP tokenizations match PTB?"
     ]
    },
    {
     "cell_type": "code",
     "collapsed": false,
     "input": [
      "RSTDT_NLTK_TOKENIZED_ROOT = os.path.expanduser('~/repos/rst_discourse_treebank/data/RSTtrees-WSJ-main-1.0-nltk-tokenized')\n",
      "\n",
      "dis_file = os.path.join(RSTDT_NLTK_TOKENIZED_ROOT, 'TEST/wsj_2386.out.dis')\n",
      "mrg_file = os.path.join(PTB_WSJ_ROOT_DIR, '23/wsj_2386.mrg')\n",
      "\n",
      "rdg = RSTLispDocumentGraph(dis_file)\n",
      "pdg = dg.read_ptb(mrg_file)\n",
      "\n",
      "for t in rdg.tokens[:10]: print t,\n",
      "print\n",
      "for t in pdg.tokens[:10]: print t,"
     ],
     "language": "python",
     "metadata": {},
     "outputs": [
      {
       "output_type": "stream",
       "stream": "stdout",
       "text": [
        "rst:1_0 rst:1_1 rst:1_2 rst:1_3 rst:1_4 rst:1_5 rst:1_6 rst:1_7 rst:1_8 rst:1_9\n",
        "4 6 9 12 14 16 18 21 24 27\n"
       ]
      }
     ],
     "prompt_number": 18
    },
    {
     "cell_type": "code",
     "collapsed": false,
     "input": [
      "print dis_file\n",
      "rdg.merge_graphs(pdg, verbose=True)"
     ],
     "language": "python",
     "metadata": {},
     "outputs": [
      {
       "output_type": "stream",
       "stream": "stdout",
       "text": [
        "/home/arne/repos/rst_discourse_treebank/data/RSTtrees-WSJ-main-1.0-nltk-tokenized/TEST/wsj_2386.out.dis\n"
       ]
      }
     ],
     "prompt_number": 19
    },
    {
     "cell_type": "code",
     "collapsed": false,
     "input": [
      "import re\n",
      "import glob\n",
      "import sys\n",
      "\n",
      "\n",
      "WSJ_SUBDIR_REGEX = re.compile('wsj_(\\d{2})')\n",
      "WSJ_DOCID_REGEX = re.compile('wsj_(\\d{4})')\n",
      "\n",
      "for folder in ('TEST', 'TRAINING'):\n",
      "    for rst_fpath in glob.glob(os.path.join(RSTDT_NLTK_TOKENIZED_ROOT, folder, '*.dis')):\n",
      "        doc_id = os.path.basename(rst_fpath).split('.')[0]\n",
      "        \n",
      "        try:\n",
      "            rdg = RSTLispDocumentGraph(rst_fpath)\n",
      "            rst_fname = os.path.basename(rst_fpath).lower()\n",
      "\n",
      "            doc_id = WSJ_DOCID_REGEX.match(rst_fname).groups()[0]\n",
      "            wsj_subdir = WSJ_SUBDIR_REGEX.match(rst_fname).groups()[0]\n",
      "\n",
      "            ptb_file = os.path.join(PTB_WSJ_ROOT_DIR, wsj_subdir, 'wsj_{}.mrg'.format(doc_id))\n",
      "            pdg = dg.read_ptb(ptb_file)\n",
      "\n",
      "            try:\n",
      "                rdg.merge_graphs(pdg)\n",
      "                print \"merged: {}\\n\".format(rst_fpath)\n",
      "            except Exception as e:\n",
      "                sys.stderr.write(\"Error in {}: {}\\n\".format(rst_fpath, e))\n",
      "        except Exception as e:\n",
      "            sys.stderr.write(\"Error in {}: {}\\n\".format(rst_fpath, e))"
     ],
     "language": "python",
     "metadata": {},
     "outputs": [
      {
       "output_type": "stream",
       "stream": "stdout",
       "text": [
        "merged: /home/arne/repos/rst_discourse_treebank/data/RSTtrees-WSJ-main-1.0-nltk-tokenized/TEST/wsj_2386.out.dis\n",
        "\n",
        "merged: /home/arne/repos/rst_discourse_treebank/data/RSTtrees-WSJ-main-1.0-nltk-tokenized/TEST/wsj_0627.out.dis\n"
       ]
      },
      {
       "output_type": "stream",
       "stream": "stderr",
       "text": [
        "Error in /home/arne/repos/rst_discourse_treebank/data/RSTtrees-WSJ-main-1.0-nltk-tokenized/TEST/wsj_2375.out.dis: \n",
        "Error in /home/arne/repos/rst_discourse_treebank/data/RSTtrees-WSJ-main-1.0-nltk-tokenized/TEST/wsj_1387.out.dis: Tokenization mismatch: wsj_1387.out.dis (rst) vs. wsj_1387.mrg (ptb)\n",
        "\tCo. != Co\n"
       ]
      },
      {
       "output_type": "stream",
       "stream": "stdout",
       "text": [
        "\n",
        "merged: /home/arne/repos/rst_discourse_treebank/data/RSTtrees-WSJ-main-1.0-nltk-tokenized/TEST/wsj_0644.out.dis\n"
       ]
      },
      {
       "output_type": "stream",
       "stream": "stdout",
       "text": [
        "\n",
        "merged: /home/arne/repos/rst_discourse_treebank/data/RSTtrees-WSJ-main-1.0-nltk-tokenized/TEST/wsj_1365.out.dis\n"
       ]
      },
      {
       "output_type": "stream",
       "stream": "stderr",
       "text": [
        "Error in /home/arne/repos/rst_discourse_treebank/data/RSTtrees-WSJ-main-1.0-nltk-tokenized/TEST/wsj_0632.out.dis: Tokenization mismatch: wsj_0632.out.dis (rst) vs. wsj_0632.mrg (ptb)\n",
        "\tNo != No.\n",
        "Error in /home/arne/repos/rst_discourse_treebank/data/RSTtrees-WSJ-main-1.0-nltk-tokenized/TEST/wsj_2385.out.dis: Tokenization mismatch: wsj_2385.out.dis (rst) vs. wsj_2385.mrg (ptb)\n",
        "\tB != B&H\n"
       ]
      },
      {
       "output_type": "stream",
       "stream": "stdout",
       "text": [
        "\n",
        "merged: /home/arne/repos/rst_discourse_treebank/data/RSTtrees-WSJ-main-1.0-nltk-tokenized/TEST/wsj_0667.out.dis\n",
        "\n",
        "merged: /home/arne/repos/rst_discourse_treebank/data/RSTtrees-WSJ-main-1.0-nltk-tokenized/TEST/wsj_1189.out.dis\n"
       ]
      },
      {
       "output_type": "stream",
       "stream": "stderr",
       "text": [
        "Error in /home/arne/repos/rst_discourse_treebank/data/RSTtrees-WSJ-main-1.0-nltk-tokenized/TEST/wsj_0689.out.dis: Tokenization mismatch: wsj_0689.out.dis (rst) vs. wsj_0689.mrg (ptb)\n",
        "\tCos != Cos.\n",
        "Error in /home/arne/repos/rst_discourse_treebank/data/RSTtrees-WSJ-main-1.0-nltk-tokenized/TEST/wsj_1183.out.dis: Tokenization mismatch: wsj_1183.out.dis (rst) vs. wsj_1183.mrg (ptb)\n",
        "\tUS != US$\n",
        "Error in /home/arne/repos/rst_discourse_treebank/data/RSTtrees-WSJ-main-1.0-nltk-tokenized/TEST/wsj_0654.out.dis: \n",
        "Error in /home/arne/repos/rst_discourse_treebank/data/RSTtrees-WSJ-main-1.0-nltk-tokenized/TEST/wsj_1169.out.dis: Tokenization mismatch: wsj_1169.out.dis (rst) vs. wsj_1169.mrg (ptb)\n",
        "\tMfg != Mfg.\n"
       ]
      },
      {
       "output_type": "stream",
       "stream": "stdout",
       "text": [
        "\n",
        "merged: /home/arne/repos/rst_discourse_treebank/data/RSTtrees-WSJ-main-1.0-nltk-tokenized/TEST/wsj_1346.out.dis\n",
        "\n",
        "merged: /home/arne/repos/rst_discourse_treebank/data/RSTtrees-WSJ-main-1.0-nltk-tokenized/TEST/wsj_1113.out.dis\n"
       ]
      },
      {
       "output_type": "stream",
       "stream": "stderr",
       "text": [
        "Error in /home/arne/repos/rst_discourse_treebank/data/RSTtrees-WSJ-main-1.0-nltk-tokenized/TEST/wsj_2336.out.dis: Tokenization mismatch: wsj_2336.out.dis (rst) vs. wsj_2336.mrg (ptb)\n",
        "\tInc != Inc.\n",
        "Error in /home/arne/repos/rst_discourse_treebank/data/RSTtrees-WSJ-main-1.0-nltk-tokenized/TEST/wsj_0607.out.dis: Tokenization mismatch: wsj_0607.out.dis (rst) vs. wsj_0607.mrg (ptb)\n",
        "\tNasdaq/National != Nasdaq\\/National\n",
        "Error in /home/arne/repos/rst_discourse_treebank/data/RSTtrees-WSJ-main-1.0-nltk-tokenized/TEST/wsj_2354.out.dis: Tokenization mismatch: wsj_2354.out.dis (rst) vs. wsj_2354.mrg (ptb)\n",
        "\tS != S&Ls\n"
       ]
      },
      {
       "output_type": "stream",
       "stream": "stdout",
       "text": [
        "\n",
        "merged: /home/arne/repos/rst_discourse_treebank/data/RSTtrees-WSJ-main-1.0-nltk-tokenized/TEST/wsj_1354.out.dis\n"
       ]
      },
      {
       "output_type": "stream",
       "stream": "stderr",
       "text": [
        "Error in /home/arne/repos/rst_discourse_treebank/data/RSTtrees-WSJ-main-1.0-nltk-tokenized/TEST/wsj_1306.out.dis: \n",
        "Error in /home/arne/repos/rst_discourse_treebank/data/RSTtrees-WSJ-main-1.0-nltk-tokenized/TEST/wsj_1148.out.dis: Tokenization mismatch: wsj_1148.out.dis (rst) vs. wsj_1148.mrg (ptb)\n",
        "\tU.S != U.S.\n"
       ]
      },
      {
       "output_type": "stream",
       "stream": "stderr",
       "text": [
        "Error in /home/arne/repos/rst_discourse_treebank/data/RSTtrees-WSJ-main-1.0-nltk-tokenized/TEST/wsj_0655.out.dis: Tokenization mismatch: wsj_0655.out.dis (rst) vs. wsj_0655.mrg (ptb)\n",
        "\t. != ...\n",
        "Error in /home/arne/repos/rst_discourse_treebank/data/RSTtrees-WSJ-main-1.0-nltk-tokenized/TEST/wsj_1331.out.dis: Tokenization mismatch: wsj_1331.out.dis (rst) vs. wsj_1331.mrg (ptb)\n",
        "\t`It != `\n"
       ]
      },
      {
       "output_type": "stream",
       "stream": "stdout",
       "text": [
        "\n",
        "merged: /home/arne/repos/rst_discourse_treebank/data/RSTtrees-WSJ-main-1.0-nltk-tokenized/TEST/wsj_0684.out.dis\n",
        "\n",
        "merged: /home/arne/repos/rst_discourse_treebank/data/RSTtrees-WSJ-main-1.0-nltk-tokenized/TEST/wsj_1197.out.dis\n"
       ]
      },
      {
       "output_type": "stream",
       "stream": "stderr",
       "text": [
        "Error in /home/arne/repos/rst_discourse_treebank/data/RSTtrees-WSJ-main-1.0-nltk-tokenized/TEST/wsj_1376.out.dis: Tokenization mismatch: wsj_1376.out.dis (rst) vs. wsj_1376.mrg (ptb)\n",
        "\t. != ...\n",
        "Error in /home/arne/repos/rst_discourse_treebank/data/RSTtrees-WSJ-main-1.0-nltk-tokenized/TEST/wsj_0602.out.dis: Tokenization mismatch: wsj_0602.out.dis (rst) vs. wsj_0602.mrg (ptb)\n",
        "\t1/2 != 1\\/2\n"
       ]
      },
      {
       "output_type": "stream",
       "stream": "stdout",
       "text": [
        "\n",
        "merged: /home/arne/repos/rst_discourse_treebank/data/RSTtrees-WSJ-main-1.0-nltk-tokenized/TEST/wsj_1129.out.dis\n"
       ]
      },
      {
       "output_type": "stream",
       "stream": "stdout",
       "text": [
        "\n",
        "merged: /home/arne/repos/rst_discourse_treebank/data/RSTtrees-WSJ-main-1.0-nltk-tokenized/TEST/wsj_1325.out.dis\n",
        "\n",
        "merged: /home/arne/repos/rst_discourse_treebank/data/RSTtrees-WSJ-main-1.0-nltk-tokenized/TEST/wsj_0623.out.dis\n"
       ]
      },
      {
       "output_type": "stream",
       "stream": "stdout",
       "text": [
        "\n",
        "merged: /home/arne/repos/rst_discourse_treebank/data/RSTtrees-WSJ-main-1.0-nltk-tokenized/TEST/wsj_1380.out.dis\n",
        "\n",
        "merged: /home/arne/repos/rst_discourse_treebank/data/RSTtrees-WSJ-main-1.0-nltk-tokenized/TEST/wsj_0616.out.dis\n"
       ]
      },
      {
       "output_type": "stream",
       "stream": "stdout",
       "text": [
        "\n",
        "merged: /home/arne/repos/rst_discourse_treebank/data/RSTtrees-WSJ-main-1.0-nltk-tokenized/TEST/wsj_2373.out.dis\n"
       ]
      },
      {
       "output_type": "stream",
       "stream": "stderr",
       "text": [
        "Error in /home/arne/repos/rst_discourse_treebank/data/RSTtrees-WSJ-main-1.0-nltk-tokenized/TEST/wsj_1142.out.dis: Tokenization mismatch: wsj_1142.out.dis (rst) vs. wsj_1142.mrg (ptb)\n",
        "\t7/8 != 7\\/8\n",
        "Error in /home/arne/repos/rst_discourse_treebank/data/RSTtrees-WSJ-main-1.0-nltk-tokenized/TEST/wsj_1146.out.dis: Tokenization mismatch: wsj_1146.out.dis (rst) vs. wsj_1146.mrg (ptb)\n",
        "\t1973's != 1973\n"
       ]
      },
      {
       "output_type": "stream",
       "stream": "stdout",
       "text": [
        "\n",
        "merged: /home/arne/repos/rst_discourse_treebank/data/RSTtrees-WSJ-main-1.0-nltk-tokenized/TEST/wsj_1307.out.dis\n"
       ]
      },
      {
       "output_type": "stream",
       "stream": "stdout",
       "text": [
        "\n",
        "merged: /home/arne/repos/rst_discourse_treebank/data/RSTtrees-WSJ-main-1.0-nltk-tokenized/TEST/wsj_1126.out.dis\n"
       ]
      },
      {
       "output_type": "stream",
       "stream": "stderr",
       "text": [
        "Error in /home/arne/repos/rst_discourse_treebank/data/RSTtrees-WSJ-main-1.0-nltk-tokenized/TRAINING/wsj_2366.out.dis: Tokenization mismatch: wsj_2366.out.dis (rst) vs. wsj_2366.mrg (ptb)\n",
        "\t. != ...\n",
        "Error in /home/arne/repos/rst_discourse_treebank/data/RSTtrees-WSJ-main-1.0-nltk-tokenized/TRAINING/wsj_2327.out.dis: Tokenization mismatch: wsj_2327.out.dis (rst) vs. wsj_2327.mrg (ptb)\n",
        "\tHK != HK$\n",
        "Error in /home/arne/repos/rst_discourse_treebank/data/RSTtrees-WSJ-main-1.0-nltk-tokenized/TRAINING/wsj_1303.out.dis: Tokenization mismatch: wsj_1303.out.dis (rst) vs. wsj_1303.mrg (ptb)\n",
        "\tMr != Mr.\n"
       ]
      },
      {
       "output_type": "stream",
       "stream": "stdout",
       "text": [
        "\n",
        "merged: /home/arne/repos/rst_discourse_treebank/data/RSTtrees-WSJ-main-1.0-nltk-tokenized/TRAINING/wsj_1198.out.dis\n"
       ]
      },
      {
       "output_type": "stream",
       "stream": "stderr",
       "text": [
        "Error in /home/arne/repos/rst_discourse_treebank/data/RSTtrees-WSJ-main-1.0-nltk-tokenized/TRAINING/wsj_0650.out.dis: Tokenization mismatch: wsj_0650.out.dis (rst) vs. wsj_0650.mrg (ptb)\n",
        "\t3/8 != 3\\/8\n",
        "Error in /home/arne/repos/rst_discourse_treebank/data/RSTtrees-WSJ-main-1.0-nltk-tokenized/TRAINING/wsj_0670.out.dis: Tokenization mismatch: wsj_0670.out.dis (rst) vs. wsj_0670.mrg (ptb)\n",
        "\tR.D != R.D.\n",
        "Error in /home/arne/repos/rst_discourse_treebank/data/RSTtrees-WSJ-main-1.0-nltk-tokenized/TRAINING/wsj_2321.out.dis: Tokenization mismatch: wsj_2321.out.dis (rst) vs. wsj_2321.mrg (ptb)\n",
        "\tU.S != U.S.\n"
       ]
      },
      {
       "output_type": "stream",
       "stream": "stdout",
       "text": [
        "\n",
        "merged: /home/arne/repos/rst_discourse_treebank/data/RSTtrees-WSJ-main-1.0-nltk-tokenized/TRAINING/wsj_0679.out.dis\n"
       ]
      },
      {
       "output_type": "stream",
       "stream": "stdout",
       "text": [
        "\n",
        "merged: /home/arne/repos/rst_discourse_treebank/data/RSTtrees-WSJ-main-1.0-nltk-tokenized/TRAINING/wsj_0686.out.dis\n"
       ]
      },
      {
       "output_type": "stream",
       "stream": "stderr",
       "text": [
        "Error in /home/arne/repos/rst_discourse_treebank/data/RSTtrees-WSJ-main-1.0-nltk-tokenized/TRAINING/wsj_1371.out.dis: Tokenization mismatch: wsj_1371.out.dis (rst) vs. wsj_1371.mrg (ptb)\n",
        "\tS.p != S.p.A.\n",
        "Error in /home/arne/repos/rst_discourse_treebank/data/RSTtrees-WSJ-main-1.0-nltk-tokenized/TRAINING/wsj_0605.out.dis: \n",
        "Error in /home/arne/repos/rst_discourse_treebank/data/RSTtrees-WSJ-main-1.0-nltk-tokenized/TRAINING/wsj_0603.out.dis: Tokenization mismatch: wsj_0603.out.dis (rst) vs. wsj_0603.mrg (ptb)\n",
        "\tBOARD != BOARD'S\n",
        "Error in /home/arne/repos/rst_discourse_treebank/data/RSTtrees-WSJ-main-1.0-nltk-tokenized/TRAINING/wsj_1164.out.dis: Tokenization mismatch: wsj_1164.out.dis (rst) vs. wsj_1164.mrg (ptb)\n",
        "\tF.J != F.J.\n"
       ]
      },
      {
       "output_type": "stream",
       "stream": "stdout",
       "text": [
        "\n",
        "merged: /home/arne/repos/rst_discourse_treebank/data/RSTtrees-WSJ-main-1.0-nltk-tokenized/TRAINING/wsj_0621.out.dis\n",
        "\n",
        "merged: /home/arne/repos/rst_discourse_treebank/data/RSTtrees-WSJ-main-1.0-nltk-tokenized/TRAINING/wsj_2346.out.dis\n"
       ]
      },
      {
       "output_type": "stream",
       "stream": "stdout",
       "text": [
        "\n",
        "merged: /home/arne/repos/rst_discourse_treebank/data/RSTtrees-WSJ-main-1.0-nltk-tokenized/TRAINING/wsj_0662.out.dis\n",
        "\n",
        "merged: /home/arne/repos/rst_discourse_treebank/data/RSTtrees-WSJ-main-1.0-nltk-tokenized/TRAINING/wsj_1369.out.dis\n"
       ]
      },
      {
       "output_type": "stream",
       "stream": "stderr",
       "text": [
        "Error in /home/arne/repos/rst_discourse_treebank/data/RSTtrees-WSJ-main-1.0-nltk-tokenized/TRAINING/wsj_1985.out.dis: Tokenization mismatch: wsj_1985.out.dis (rst) vs. wsj_1985.mrg (ptb)\n",
        "\t1/2 != 1\\/2\n",
        "Error in /home/arne/repos/rst_discourse_treebank/data/RSTtrees-WSJ-main-1.0-nltk-tokenized/TRAINING/wsj_1147.out.dis: Tokenization mismatch: wsj_1147.out.dis (rst) vs. wsj_1147.mrg (ptb)\n",
        "\tW.G != W.G.\n"
       ]
      },
      {
       "output_type": "stream",
       "stream": "stdout",
       "text": [
        "\n",
        "merged: /home/arne/repos/rst_discourse_treebank/data/RSTtrees-WSJ-main-1.0-nltk-tokenized/TRAINING/wsj_2322.out.dis\n"
       ]
      },
      {
       "output_type": "stream",
       "stream": "stdout",
       "text": [
        "\n",
        "merged: /home/arne/repos/rst_discourse_treebank/data/RSTtrees-WSJ-main-1.0-nltk-tokenized/TRAINING/wsj_0665.out.dis\n",
        "\n",
        "merged: /home/arne/repos/rst_discourse_treebank/data/RSTtrees-WSJ-main-1.0-nltk-tokenized/TRAINING/wsj_1330.out.dis\n"
       ]
      },
      {
       "output_type": "stream",
       "stream": "stderr",
       "text": [
        "Error in /home/arne/repos/rst_discourse_treebank/data/RSTtrees-WSJ-main-1.0-nltk-tokenized/TRAINING/wsj_1107.out.dis: \n",
        "Error in /home/arne/repos/rst_discourse_treebank/data/RSTtrees-WSJ-main-1.0-nltk-tokenized/TRAINING/wsj_2353.out.dis: /home/arne/repos/rst_discourse_treebank/data/RSTtrees-WSJ-main-1.0-nltk-tokenized/TRAINING/wsj_2353.out.dis\n",
        "Traceback (most recent call last):\n",
        "  File \"<ipython-input-7-a3ce24290f79>\", line 8, in parse_rstfile_sexpdata\n",
        "    return sexpdata.load(rstfile)\n",
        "  File \"/usr/local/lib/python2.7/dist-packages/sexpdata.py\", line 171, in load\n",
        "    return loads(filelike.read(), **kwds)\n",
        "  File \"/usr/local/lib/python2.7/dist-packages/sexpdata.py\", line 244, in loads\n",
        "    assert len(obj) == 1  # FIXME: raise an appropriate error\n",
        "AssertionError\n",
        "\n",
        "\n",
        "\n"
       ]
      },
      {
       "output_type": "stream",
       "stream": "stdout",
       "text": [
        "\n",
        "merged: /home/arne/repos/rst_discourse_treebank/data/RSTtrees-WSJ-main-1.0-nltk-tokenized/TRAINING/wsj_1140.out.dis\n"
       ]
      },
      {
       "output_type": "stream",
       "stream": "stderr",
       "text": [
        "Error in /home/arne/repos/rst_discourse_treebank/data/RSTtrees-WSJ-main-1.0-nltk-tokenized/TRAINING/wsj_0661.out.dis: Tokenization mismatch: wsj_0661.out.dis (rst) vs. wsj_0661.mrg (ptb)\n",
        "\tN.A != N.A.\n",
        "Error in /home/arne/repos/rst_discourse_treebank/data/RSTtrees-WSJ-main-1.0-nltk-tokenized/TRAINING/wsj_0604.out.dis: Tokenization mismatch: wsj_0604.out.dis (rst) vs. wsj_0604.mrg (ptb)\n",
        "\tB.J != B.J.\n"
       ]
      },
      {
       "output_type": "stream",
       "stream": "stdout",
       "text": [
        "\n",
        "merged: /home/arne/repos/rst_discourse_treebank/data/RSTtrees-WSJ-main-1.0-nltk-tokenized/TRAINING/wsj_1151.out.dis\n"
       ]
      },
      {
       "output_type": "stream",
       "stream": "stderr",
       "text": [
        "Error in /home/arne/repos/rst_discourse_treebank/data/RSTtrees-WSJ-main-1.0-nltk-tokenized/TRAINING/wsj_1362.out.dis: Unexpected child combinations: defaultdict(<type 'list'>, {'Satellite': [0, 2], 'Nucleus': [1]})\n",
        "\n",
        "Error in /home/arne/repos/rst_discourse_treebank/data/RSTtrees-WSJ-main-1.0-nltk-tokenized/TRAINING/wsj_0612.out.dis: Tokenization mismatch: wsj_0612.out.dis (rst) vs. wsj_0612.mrg (ptb)\n",
        "\t3/8 != 3\\/8\n",
        "Error in /home/arne/repos/rst_discourse_treebank/data/RSTtrees-WSJ-main-1.0-nltk-tokenized/TRAINING/wsj_1963.out.dis: Tokenization mismatch: wsj_1963.out.dis (rst) vs. wsj_1963.mrg (ptb)\n",
        "\tCalif. != Calif\n"
       ]
      },
      {
       "output_type": "stream",
       "stream": "stdout",
       "text": [
        "\n",
        "merged: /home/arne/repos/rst_discourse_treebank/data/RSTtrees-WSJ-main-1.0-nltk-tokenized/TRAINING/wsj_1109.out.dis\n"
       ]
      },
      {
       "output_type": "stream",
       "stream": "stderr",
       "text": [
        "Error in /home/arne/repos/rst_discourse_treebank/data/RSTtrees-WSJ-main-1.0-nltk-tokenized/TRAINING/wsj_1396.out.dis: \n",
        "Error in /home/arne/repos/rst_discourse_treebank/data/RSTtrees-WSJ-main-1.0-nltk-tokenized/TRAINING/wsj_0696.out.dis: \n"
       ]
      },
      {
       "output_type": "stream",
       "stream": "stderr",
       "text": [
        "Error in /home/arne/repos/rst_discourse_treebank/data/RSTtrees-WSJ-main-1.0-nltk-tokenized/TRAINING/wsj_1196.out.dis: Tokenization mismatch: wsj_1196.out.dis (rst) vs. wsj_1196.mrg (ptb)\n",
        "\t35,000-to- != 35,000-to-$50,000\n",
        "Error in /home/arne/repos/rst_discourse_treebank/data/RSTtrees-WSJ-main-1.0-nltk-tokenized/TRAINING/wsj_1316.out.dis: \n"
       ]
      },
      {
       "output_type": "stream",
       "stream": "stdout",
       "text": [
        "\n",
        "merged: /home/arne/repos/rst_discourse_treebank/data/RSTtrees-WSJ-main-1.0-nltk-tokenized/TRAINING/wsj_1153.out.dis\n",
        "\n",
        "merged: /home/arne/repos/rst_discourse_treebank/data/RSTtrees-WSJ-main-1.0-nltk-tokenized/TRAINING/wsj_1321.out.dis\n"
       ]
      },
      {
       "output_type": "stream",
       "stream": "stdout",
       "text": [
        "\n",
        "merged: /home/arne/repos/rst_discourse_treebank/data/RSTtrees-WSJ-main-1.0-nltk-tokenized/TRAINING/wsj_1111.out.dis\n"
       ]
      },
      {
       "output_type": "stream",
       "stream": "stderr",
       "text": [
        "Error in /home/arne/repos/rst_discourse_treebank/data/RSTtrees-WSJ-main-1.0-nltk-tokenized/TRAINING/wsj_1988.out.dis: Tokenization mismatch: wsj_1988.out.dis (rst) vs. wsj_1988.mrg (ptb)\n",
        "\tC != C$\n",
        "Error in /home/arne/repos/rst_discourse_treebank/data/RSTtrees-WSJ-main-1.0-nltk-tokenized/TRAINING/wsj_1374.out.dis: \n"
       ]
      },
      {
       "output_type": "stream",
       "stream": "stdout",
       "text": [
        "\n",
        "merged: /home/arne/repos/rst_discourse_treebank/data/RSTtrees-WSJ-main-1.0-nltk-tokenized/TRAINING/wsj_0649.out.dis\n",
        "\n",
        "merged: /home/arne/repos/rst_discourse_treebank/data/RSTtrees-WSJ-main-1.0-nltk-tokenized/TRAINING/wsj_0625.out.dis\n"
       ]
      },
      {
       "output_type": "stream",
       "stream": "stderr",
       "text": [
        "Error in /home/arne/repos/rst_discourse_treebank/data/RSTtrees-WSJ-main-1.0-nltk-tokenized/TRAINING/wsj_1980.out.dis: Tokenization mismatch: wsj_1980.out.dis (rst) vs. wsj_1980.mrg (ptb)\n",
        "\tA != A.\n",
        "Error in /home/arne/repos/rst_discourse_treebank/data/RSTtrees-WSJ-main-1.0-nltk-tokenized/TRAINING/wsj_1342.out.dis: Tokenization mismatch: wsj_1342.out.dis (rst) vs. wsj_1342.mrg (ptb)\n",
        "\ta-Discounted != a\n"
       ]
      },
      {
       "output_type": "stream",
       "stream": "stdout",
       "text": [
        "\n",
        "merged: /home/arne/repos/rst_discourse_treebank/data/RSTtrees-WSJ-main-1.0-nltk-tokenized/TRAINING/wsj_1130.out.dis\n",
        "\n",
        "merged: /home/arne/repos/rst_discourse_treebank/data/RSTtrees-WSJ-main-1.0-nltk-tokenized/TRAINING/wsj_0663.out.dis\n",
        "\n",
        "merged: /home/arne/repos/rst_discourse_treebank/data/RSTtrees-WSJ-main-1.0-nltk-tokenized/TRAINING/wsj_1384.out.dis\n"
       ]
      },
      {
       "output_type": "stream",
       "stream": "stderr",
       "text": [
        "Error in /home/arne/repos/rst_discourse_treebank/data/RSTtrees-WSJ-main-1.0-nltk-tokenized/TRAINING/wsj_0668.out.dis: Tokenization mismatch: wsj_0668.out.dis (rst) vs. wsj_0668.mrg (ptb)\n",
        "\tN.V. != N.V\n",
        "Error in /home/arne/repos/rst_discourse_treebank/data/RSTtrees-WSJ-main-1.0-nltk-tokenized/TRAINING/wsj_2338.out.dis: Tokenization mismatch: wsj_2338.out.dis (rst) vs. wsj_2338.mrg (ptb)\n",
        "\tU.S != U.S.\n"
       ]
      },
      {
       "output_type": "stream",
       "stream": "stdout",
       "text": [
        "\n",
        "merged: /home/arne/repos/rst_discourse_treebank/data/RSTtrees-WSJ-main-1.0-nltk-tokenized/TRAINING/wsj_1391.out.dis\n"
       ]
      },
      {
       "output_type": "stream",
       "stream": "stderr",
       "text": [
        "Error in /home/arne/repos/rst_discourse_treebank/data/RSTtrees-WSJ-main-1.0-nltk-tokenized/TRAINING/wsj_2395.out.dis: Tokenization mismatch: wsj_2395.out.dis (rst) vs. wsj_2395.mrg (ptb)\n",
        "\tCities/ABC != Cities\\/ABC\n",
        "Error in /home/arne/repos/rst_discourse_treebank/data/RSTtrees-WSJ-main-1.0-nltk-tokenized/TRAINING/wsj_1322.out.dis: Unexpected child combinations: defaultdict(<type 'list'>, {'Satellite': [0, 2], 'Nucleus': [1]})\n",
        "\n"
       ]
      },
      {
       "output_type": "stream",
       "stream": "stdout",
       "text": [
        "\n",
        "merged: /home/arne/repos/rst_discourse_treebank/data/RSTtrees-WSJ-main-1.0-nltk-tokenized/TRAINING/wsj_0651.out.dis\n",
        "\n",
        "merged: /home/arne/repos/rst_discourse_treebank/data/RSTtrees-WSJ-main-1.0-nltk-tokenized/TRAINING/wsj_2344.out.dis\n"
       ]
      },
      {
       "output_type": "stream",
       "stream": "stderr",
       "text": [
        "Error in /home/arne/repos/rst_discourse_treebank/data/RSTtrees-WSJ-main-1.0-nltk-tokenized/TRAINING/wsj_0688.out.dis: Tokenization mismatch: wsj_0688.out.dis (rst) vs. wsj_0688.mrg (ptb)\n",
        "\tTex != Tex.\n",
        "Error in /home/arne/repos/rst_discourse_treebank/data/RSTtrees-WSJ-main-1.0-nltk-tokenized/TRAINING/wsj_2352.out.dis: Tokenization mismatch: wsj_2352.out.dis (rst) vs. wsj_2352.mrg (ptb)\n",
        "\tU.S != U.S.\n",
        "Error in /home/arne/repos/rst_discourse_treebank/data/RSTtrees-WSJ-main-1.0-nltk-tokenized/TRAINING/wsj_0617.out.dis: Tokenization mismatch: wsj_0617.out.dis (rst) vs. wsj_0617.mrg (ptb)\n",
        "\tNo != No.\n"
       ]
      },
      {
       "output_type": "stream",
       "stream": "stdout",
       "text": [
        "\n",
        "merged: /home/arne/repos/rst_discourse_treebank/data/RSTtrees-WSJ-main-1.0-nltk-tokenized/TRAINING/wsj_0606.out.dis\n"
       ]
      },
      {
       "output_type": "stream",
       "stream": "stderr",
       "text": [
        "Error in /home/arne/repos/rst_discourse_treebank/data/RSTtrees-WSJ-main-1.0-nltk-tokenized/TRAINING/wsj_1160.out.dis: Tokenization mismatch: wsj_1160.out.dis (rst) vs. wsj_1160.mrg (ptb)\n",
        "\tGov != Gov.\n",
        "Error in /home/arne/repos/rst_discourse_treebank/data/RSTtrees-WSJ-main-1.0-nltk-tokenized/TRAINING/wsj_1179.out.dis: \n",
        "Error in /home/arne/repos/rst_discourse_treebank/data/RSTtrees-WSJ-main-1.0-nltk-tokenized/TRAINING/wsj_1343.out.dis: Tokenization mismatch: wsj_1343.out.dis (rst) vs. wsj_1343.mrg (ptb)\n",
        "\tAT != AT&T\n",
        "Error in /home/arne/repos/rst_discourse_treebank/data/RSTtrees-WSJ-main-1.0-nltk-tokenized/TRAINING/wsj_0634.out.dis: Tokenization mismatch: wsj_0634.out.dis (rst) vs. wsj_0634.mrg (ptb)\n",
        "\tUS != US$\n"
       ]
      },
      {
       "output_type": "stream",
       "stream": "stdout",
       "text": [
        "\n",
        "merged: /home/arne/repos/rst_discourse_treebank/data/RSTtrees-WSJ-main-1.0-nltk-tokenized/TRAINING/wsj_1134.out.dis\n",
        "\n",
        "merged: /home/arne/repos/rst_discourse_treebank/data/RSTtrees-WSJ-main-1.0-nltk-tokenized/TRAINING/wsj_1315.out.dis\n"
       ]
      },
      {
       "output_type": "stream",
       "stream": "stdout",
       "text": [
        "\n",
        "merged: /home/arne/repos/rst_discourse_treebank/data/RSTtrees-WSJ-main-1.0-nltk-tokenized/TRAINING/wsj_1163.out.dis\n"
       ]
      },
      {
       "output_type": "stream",
       "stream": "stdout",
       "text": [
        "\n",
        "merged: /home/arne/repos/rst_discourse_treebank/data/RSTtrees-WSJ-main-1.0-nltk-tokenized/TRAINING/wsj_0641.out.dis\n",
        "\n",
        "merged: /home/arne/repos/rst_discourse_treebank/data/RSTtrees-WSJ-main-1.0-nltk-tokenized/TRAINING/wsj_0619.out.dis\n"
       ]
      },
      {
       "output_type": "stream",
       "stream": "stdout",
       "text": [
        "\n",
        "merged: /home/arne/repos/rst_discourse_treebank/data/RSTtrees-WSJ-main-1.0-nltk-tokenized/TRAINING/wsj_1345.out.dis\n"
       ]
      },
      {
       "output_type": "stream",
       "stream": "stdout",
       "text": [
        "\n",
        "merged: /home/arne/repos/rst_discourse_treebank/data/RSTtrees-WSJ-main-1.0-nltk-tokenized/TRAINING/wsj_1162.out.dis\n"
       ]
      },
      {
       "output_type": "stream",
       "stream": "stderr",
       "text": [
        "Error in /home/arne/repos/rst_discourse_treebank/data/RSTtrees-WSJ-main-1.0-nltk-tokenized/TRAINING/wsj_1139.out.dis: Tokenization mismatch: wsj_1139.out.dis (rst) vs. wsj_1139.mrg (ptb)\n",
        "\tNo != No.\n",
        "Error in /home/arne/repos/rst_discourse_treebank/data/RSTtrees-WSJ-main-1.0-nltk-tokenized/TRAINING/wsj_1150.out.dis: Tokenization mismatch: wsj_1150.out.dis (rst) vs. wsj_1150.mrg (ptb)\n",
        "\tp.m. != p.m\n"
       ]
      },
      {
       "output_type": "stream",
       "stream": "stdout",
       "text": [
        "\n",
        "merged: /home/arne/repos/rst_discourse_treebank/data/RSTtrees-WSJ-main-1.0-nltk-tokenized/TRAINING/wsj_1344.out.dis\n",
        "\n",
        "merged: /home/arne/repos/rst_discourse_treebank/data/RSTtrees-WSJ-main-1.0-nltk-tokenized/TRAINING/wsj_1351.out.dis\n"
       ]
      },
      {
       "output_type": "stream",
       "stream": "stdout",
       "text": [
        "\n",
        "merged: /home/arne/repos/rst_discourse_treebank/data/RSTtrees-WSJ-main-1.0-nltk-tokenized/TRAINING/wsj_1340.out.dis\n",
        "\n",
        "merged: /home/arne/repos/rst_discourse_treebank/data/RSTtrees-WSJ-main-1.0-nltk-tokenized/TRAINING/wsj_1352.out.dis\n",
        "\n",
        "merged: /home/arne/repos/rst_discourse_treebank/data/RSTtrees-WSJ-main-1.0-nltk-tokenized/TRAINING/wsj_1117.out.dis\n",
        "\n",
        "merged: /home/arne/repos/rst_discourse_treebank/data/RSTtrees-WSJ-main-1.0-nltk-tokenized/TRAINING/wsj_1320.out.dis\n"
       ]
      },
      {
       "output_type": "stream",
       "stream": "stdout",
       "text": [
        "\n",
        "merged: /home/arne/repos/rst_discourse_treebank/data/RSTtrees-WSJ-main-1.0-nltk-tokenized/TRAINING/wsj_2362.out.dis\n"
       ]
      },
      {
       "output_type": "stream",
       "stream": "stderr",
       "text": [
        "Error in /home/arne/repos/rst_discourse_treebank/data/RSTtrees-WSJ-main-1.0-nltk-tokenized/TRAINING/wsj_1149.out.dis: Tokenization mismatch: wsj_1149.out.dis (rst) vs. wsj_1149.mrg (ptb)\n",
        "\tPrinceton/Newport != Princeton\\/Newport\n",
        "Error in /home/arne/repos/rst_discourse_treebank/data/RSTtrees-WSJ-main-1.0-nltk-tokenized/TRAINING/wsj_2399.out.dis: Tokenization mismatch: wsj_2399.out.dis (rst) vs. wsj_2399.mrg (ptb)\n",
        "\tS != S&P\n"
       ]
      },
      {
       "output_type": "stream",
       "stream": "stdout",
       "text": [
        "\n",
        "merged: /home/arne/repos/rst_discourse_treebank/data/RSTtrees-WSJ-main-1.0-nltk-tokenized/TRAINING/wsj_1177.out.dis\n",
        "\n",
        "merged: /home/arne/repos/rst_discourse_treebank/data/RSTtrees-WSJ-main-1.0-nltk-tokenized/TRAINING/wsj_1333.out.dis\n"
       ]
      },
      {
       "output_type": "stream",
       "stream": "stderr",
       "text": [
        "Error in /home/arne/repos/rst_discourse_treebank/data/RSTtrees-WSJ-main-1.0-nltk-tokenized/TRAINING/wsj_1171.out.dis: Tokenization mismatch: wsj_1171.out.dis (rst) vs. wsj_1171.mrg (ptb)\n",
        "\t'controlled != `\n",
        "Error in /home/arne/repos/rst_discourse_treebank/data/RSTtrees-WSJ-main-1.0-nltk-tokenized/TRAINING/wsj_0614.out.dis: \n",
        "Error in /home/arne/repos/rst_discourse_treebank/data/RSTtrees-WSJ-main-1.0-nltk-tokenized/TRAINING/wsj_1350.out.dis: Tokenization mismatch: wsj_1350.out.dis (rst) vs. wsj_1350.mrg (ptb)\n",
        "\tCo != Co.\n",
        "Error in /home/arne/repos/rst_discourse_treebank/data/RSTtrees-WSJ-main-1.0-nltk-tokenized/TRAINING/wsj_1110.out.dis: Tokenization mismatch: wsj_1110.out.dis (rst) vs. wsj_1110.mrg (ptb)\n",
        "\t1/2 != 1\\/2\n"
       ]
      },
      {
       "output_type": "stream",
       "stream": "stdout",
       "text": [
        "\n",
        "merged: /home/arne/repos/rst_discourse_treebank/data/RSTtrees-WSJ-main-1.0-nltk-tokenized/TRAINING/wsj_1187.out.dis\n"
       ]
      },
      {
       "output_type": "stream",
       "stream": "stderr",
       "text": [
        "Error in /home/arne/repos/rst_discourse_treebank/data/RSTtrees-WSJ-main-1.0-nltk-tokenized/TRAINING/wsj_2380.out.dis: Tokenization mismatch: wsj_2380.out.dis (rst) vs. wsj_2380.mrg (ptb)\n",
        "\t1/2 != 1\\/2\n",
        "Error in /home/arne/repos/rst_discourse_treebank/data/RSTtrees-WSJ-main-1.0-nltk-tokenized/TRAINING/wsj_0633.out.dis: Tokenization mismatch: wsj_0633.out.dis (rst) vs. wsj_0633.mrg (ptb)\n",
        "\t. != ...\n"
       ]
      },
      {
       "output_type": "stream",
       "stream": "stderr",
       "text": [
        "Error in /home/arne/repos/rst_discourse_treebank/data/RSTtrees-WSJ-main-1.0-nltk-tokenized/TRAINING/wsj_1131.out.dis: Tokenization mismatch: wsj_1131.out.dis (rst) vs. wsj_1131.mrg (ptb)\n",
        "\tFHA- != FHA\n",
        "Error in /home/arne/repos/rst_discourse_treebank/data/RSTtrees-WSJ-main-1.0-nltk-tokenized/TRAINING/wsj_1970.out.dis: Tokenization mismatch: wsj_1970.out.dis (rst) vs. wsj_1970.mrg (ptb)\n",
        "\tJuly's != July\n"
       ]
      },
      {
       "output_type": "stream",
       "stream": "stdout",
       "text": [
        "\n",
        "merged: /home/arne/repos/rst_discourse_treebank/data/RSTtrees-WSJ-main-1.0-nltk-tokenized/TRAINING/wsj_1358.out.dis\n"
       ]
      },
      {
       "output_type": "stream",
       "stream": "stdout",
       "text": [
        "\n",
        "merged: /home/arne/repos/rst_discourse_treebank/data/RSTtrees-WSJ-main-1.0-nltk-tokenized/TRAINING/wsj_0620.out.dis\n",
        "\n",
        "merged: /home/arne/repos/rst_discourse_treebank/data/RSTtrees-WSJ-main-1.0-nltk-tokenized/TRAINING/wsj_2325.out.dis\n"
       ]
      },
      {
       "output_type": "stream",
       "stream": "stdout",
       "text": [
        "\n",
        "merged: /home/arne/repos/rst_discourse_treebank/data/RSTtrees-WSJ-main-1.0-nltk-tokenized/TRAINING/wsj_1121.out.dis\n"
       ]
      },
      {
       "output_type": "stream",
       "stream": "stderr",
       "text": [
        "Error in /home/arne/repos/rst_discourse_treebank/data/RSTtrees-WSJ-main-1.0-nltk-tokenized/TRAINING/wsj_2331.out.dis: Tokenization mismatch: wsj_2331.out.dis (rst) vs. wsj_2331.mrg (ptb)\n",
        "\t. != ...\n",
        "Error in /home/arne/repos/rst_discourse_treebank/data/RSTtrees-WSJ-main-1.0-nltk-tokenized/TRAINING/wsj_2343.out.dis: Tokenization mismatch: wsj_2343.out.dis (rst) vs. wsj_2343.mrg (ptb)\n",
        "\t. != ...\n"
       ]
      },
      {
       "output_type": "stream",
       "stream": "stdout",
       "text": [
        "\n",
        "merged: /home/arne/repos/rst_discourse_treebank/data/RSTtrees-WSJ-main-1.0-nltk-tokenized/TRAINING/wsj_1304.out.dis\n"
       ]
      },
      {
       "output_type": "stream",
       "stream": "stderr",
       "text": [
        "Error in /home/arne/repos/rst_discourse_treebank/data/RSTtrees-WSJ-main-1.0-nltk-tokenized/TRAINING/wsj_1366.out.dis: Tokenization mismatch: wsj_1366.out.dis (rst) vs. wsj_1366.mrg (ptb)\n",
        "\tS != S&L\n",
        "Error in /home/arne/repos/rst_discourse_treebank/data/RSTtrees-WSJ-main-1.0-nltk-tokenized/TRAINING/wsj_0624.out.dis: Tokenization mismatch: wsj_0624.out.dis (rst) vs. wsj_0624.mrg (ptb)\n",
        "\t1/4 != 1\\/4\n"
       ]
      },
      {
       "output_type": "stream",
       "stream": "stderr",
       "text": [
        "Error in /home/arne/repos/rst_discourse_treebank/data/RSTtrees-WSJ-main-1.0-nltk-tokenized/TRAINING/wsj_1353.out.dis: Tokenization mismatch: wsj_1353.out.dis (rst) vs. wsj_1353.mrg (ptb)\n",
        "\t. != ...\n",
        "Error in /home/arne/repos/rst_discourse_treebank/data/RSTtrees-WSJ-main-1.0-nltk-tokenized/TRAINING/wsj_1349.out.dis: Tokenization mismatch: wsj_1349.out.dis (rst) vs. wsj_1349.mrg (ptb)\n",
        "\tCalif != Calif.\n"
       ]
      },
      {
       "output_type": "stream",
       "stream": "stdout",
       "text": [
        "\n",
        "merged: /home/arne/repos/rst_discourse_treebank/data/RSTtrees-WSJ-main-1.0-nltk-tokenized/TRAINING/wsj_0626.out.dis\n"
       ]
      },
      {
       "output_type": "stream",
       "stream": "stderr",
       "text": [
        "Error in /home/arne/repos/rst_discourse_treebank/data/RSTtrees-WSJ-main-1.0-nltk-tokenized/TRAINING/wsj_2398.out.dis: Tokenization mismatch: wsj_2398.out.dis (rst) vs. wsj_2398.mrg (ptb)\n",
        "\tU.S != U.S.\n",
        "Error in /home/arne/repos/rst_discourse_treebank/data/RSTtrees-WSJ-main-1.0-nltk-tokenized/TRAINING/wsj_1314.out.dis: Tokenization mismatch: wsj_1314.out.dis (rst) vs. wsj_1314.mrg (ptb)\n",
        "\t`Leverage != `\n"
       ]
      },
      {
       "output_type": "stream",
       "stream": "stdout",
       "text": [
        "\n",
        "merged: /home/arne/repos/rst_discourse_treebank/data/RSTtrees-WSJ-main-1.0-nltk-tokenized/TRAINING/wsj_1100.out.dis\n"
       ]
      },
      {
       "output_type": "stream",
       "stream": "stdout",
       "text": [
        "\n",
        "merged: /home/arne/repos/rst_discourse_treebank/data/RSTtrees-WSJ-main-1.0-nltk-tokenized/TRAINING/wsj_1347.out.dis\n"
       ]
      },
      {
       "output_type": "stream",
       "stream": "stdout",
       "text": [
        "\n",
        "merged: /home/arne/repos/rst_discourse_treebank/data/RSTtrees-WSJ-main-1.0-nltk-tokenized/TRAINING/wsj_1116.out.dis\n",
        "\n",
        "merged: /home/arne/repos/rst_discourse_treebank/data/RSTtrees-WSJ-main-1.0-nltk-tokenized/TRAINING/wsj_1335.out.dis\n"
       ]
      },
      {
       "output_type": "stream",
       "stream": "stderr",
       "text": [
        "Error in /home/arne/repos/rst_discourse_treebank/data/RSTtrees-WSJ-main-1.0-nltk-tokenized/TRAINING/wsj_1974.out.dis: Tokenization mismatch: wsj_1974.out.dis (rst) vs. wsj_1974.mrg (ptb)\n",
        "\t1/2 != 1\\/2\n",
        "Error in /home/arne/repos/rst_discourse_treebank/data/RSTtrees-WSJ-main-1.0-nltk-tokenized/TRAINING/wsj_0656.out.dis: Tokenization mismatch: wsj_0656.out.dis (rst) vs. wsj_0656.mrg (ptb)\n",
        "\t`Oh != `\n",
        "Error in /home/arne/repos/rst_discourse_treebank/data/RSTtrees-WSJ-main-1.0-nltk-tokenized/TRAINING/wsj_2315.out.dis: Tokenization mismatch: wsj_2315.out.dis (rst) vs. wsj_2315.mrg (ptb)\n",
        "\tFCB/Leber != FCB\\/Leber\n"
       ]
      },
      {
       "output_type": "stream",
       "stream": "stdout",
       "text": [
        "\n",
        "merged: /home/arne/repos/rst_discourse_treebank/data/RSTtrees-WSJ-main-1.0-nltk-tokenized/TRAINING/wsj_1180.out.dis\n"
       ]
      },
      {
       "output_type": "stream",
       "stream": "stdout",
       "text": [
        "\n",
        "merged: /home/arne/repos/rst_discourse_treebank/data/RSTtrees-WSJ-main-1.0-nltk-tokenized/TRAINING/wsj_1301.out.dis\n",
        "\n",
        "merged: /home/arne/repos/rst_discourse_treebank/data/RSTtrees-WSJ-main-1.0-nltk-tokenized/TRAINING/wsj_1167.out.dis\n",
        "\n",
        "merged: /home/arne/repos/rst_discourse_treebank/data/RSTtrees-WSJ-main-1.0-nltk-tokenized/TRAINING/wsj_0659.out.dis\n"
       ]
      },
      {
       "output_type": "stream",
       "stream": "stdout",
       "text": [
        "\n",
        "merged: /home/arne/repos/rst_discourse_treebank/data/RSTtrees-WSJ-main-1.0-nltk-tokenized/TRAINING/wsj_1166.out.dis\n"
       ]
      },
      {
       "output_type": "stream",
       "stream": "stdout",
       "text": [
        "\n",
        "merged: /home/arne/repos/rst_discourse_treebank/data/RSTtrees-WSJ-main-1.0-nltk-tokenized/TRAINING/wsj_0683.out.dis\n"
       ]
      },
      {
       "output_type": "stream",
       "stream": "stdout",
       "text": [
        "\n",
        "merged: /home/arne/repos/rst_discourse_treebank/data/RSTtrees-WSJ-main-1.0-nltk-tokenized/TRAINING/wsj_1934.out.dis\n"
       ]
      },
      {
       "output_type": "stream",
       "stream": "stdout",
       "text": [
        "\n",
        "merged: /home/arne/repos/rst_discourse_treebank/data/RSTtrees-WSJ-main-1.0-nltk-tokenized/TRAINING/wsj_1944.out.dis\n"
       ]
      },
      {
       "output_type": "stream",
       "stream": "stderr",
       "text": [
        "Error in /home/arne/repos/rst_discourse_treebank/data/RSTtrees-WSJ-main-1.0-nltk-tokenized/TRAINING/wsj_0660.out.dis: Tokenization mismatch: wsj_0660.out.dis (rst) vs. wsj_0660.mrg (ptb)\n",
        "\tS.p != S.p.A.\n",
        "Error in /home/arne/repos/rst_discourse_treebank/data/RSTtrees-WSJ-main-1.0-nltk-tokenized/TRAINING/wsj_2339.out.dis: Tokenization mismatch: wsj_2339.out.dis (rst) vs. wsj_2339.mrg (ptb)\n",
        "\tUS != US$\n"
       ]
      },
      {
       "output_type": "stream",
       "stream": "stderr",
       "text": [
        "Error in /home/arne/repos/rst_discourse_treebank/data/RSTtrees-WSJ-main-1.0-nltk-tokenized/TRAINING/wsj_1984.out.dis: Tokenization mismatch: wsj_1984.out.dis (rst) vs. wsj_1984.mrg (ptb)\n",
        "\tSen != Sen.\n",
        "Error in /home/arne/repos/rst_discourse_treebank/data/RSTtrees-WSJ-main-1.0-nltk-tokenized/TRAINING/wsj_2348.out.dis: Tokenization mismatch: wsj_2348.out.dis (rst) vs. wsj_2348.mrg (ptb)\n",
        "\tS != S&Ls\n"
       ]
      },
      {
       "output_type": "stream",
       "stream": "stdout",
       "text": [
        "\n",
        "merged: /home/arne/repos/rst_discourse_treebank/data/RSTtrees-WSJ-main-1.0-nltk-tokenized/TRAINING/wsj_0600.out.dis\n",
        "\n",
        "merged: /home/arne/repos/rst_discourse_treebank/data/RSTtrees-WSJ-main-1.0-nltk-tokenized/TRAINING/wsj_1152.out.dis\n"
       ]
      },
      {
       "output_type": "stream",
       "stream": "stdout",
       "text": [
        "\n",
        "merged: /home/arne/repos/rst_discourse_treebank/data/RSTtrees-WSJ-main-1.0-nltk-tokenized/TRAINING/wsj_2364.out.dis\n"
       ]
      },
      {
       "output_type": "stream",
       "stream": "stdout",
       "text": [
        "\n",
        "merged: /home/arne/repos/rst_discourse_treebank/data/RSTtrees-WSJ-main-1.0-nltk-tokenized/TRAINING/wsj_2313.out.dis\n"
       ]
      },
      {
       "output_type": "stream",
       "stream": "stderr",
       "text": [
        "Error in /home/arne/repos/rst_discourse_treebank/data/RSTtrees-WSJ-main-1.0-nltk-tokenized/TRAINING/wsj_0678.out.dis: Tokenization mismatch: wsj_0678.out.dis (rst) vs. wsj_0678.mrg (ptb)\n",
        "\tNo != No.\n",
        "Error in /home/arne/repos/rst_discourse_treebank/data/RSTtrees-WSJ-main-1.0-nltk-tokenized/TRAINING/wsj_1398.out.dis: Tokenization mismatch: wsj_1398.out.dis (rst) vs. wsj_1398.mrg (ptb)\n",
        "\tP.R != P.R.\n",
        "Error in /home/arne/repos/rst_discourse_treebank/data/RSTtrees-WSJ-main-1.0-nltk-tokenized/TRAINING/wsj_1962.out.dis: Tokenization mismatch: wsj_1962.out.dis (rst) vs. wsj_1962.mrg (ptb)\n",
        "\tS != S&P\n"
       ]
      },
      {
       "output_type": "stream",
       "stream": "stdout",
       "text": [
        "\n",
        "merged: /home/arne/repos/rst_discourse_treebank/data/RSTtrees-WSJ-main-1.0-nltk-tokenized/TRAINING/wsj_2329.out.dis\n",
        "\n",
        "merged: /home/arne/repos/rst_discourse_treebank/data/RSTtrees-WSJ-main-1.0-nltk-tokenized/TRAINING/wsj_1341.out.dis\n"
       ]
      },
      {
       "output_type": "stream",
       "stream": "stdout",
       "text": [
        "\n",
        "merged: /home/arne/repos/rst_discourse_treebank/data/RSTtrees-WSJ-main-1.0-nltk-tokenized/TRAINING/wsj_1359.out.dis\n"
       ]
      },
      {
       "output_type": "stream",
       "stream": "stderr",
       "text": [
        "Error in /home/arne/repos/rst_discourse_treebank/data/RSTtrees-WSJ-main-1.0-nltk-tokenized/TRAINING/wsj_2347.out.dis: Tokenization mismatch: wsj_2347.out.dis (rst) vs. wsj_2347.mrg (ptb)\n",
        "\tA.E != A.E.\n",
        "Error in /home/arne/repos/rst_discourse_treebank/data/RSTtrees-WSJ-main-1.0-nltk-tokenized/TRAINING/wsj_0645.out.dis: Tokenization mismatch: wsj_0645.out.dis (rst) vs. wsj_0645.mrg (ptb)\n",
        "\tW.T != W.T.\n",
        "Error in /home/arne/repos/rst_discourse_treebank/data/RSTtrees-WSJ-main-1.0-nltk-tokenized/TRAINING/wsj_0611.out.dis: \n"
       ]
      },
      {
       "output_type": "stream",
       "stream": "stdout",
       "text": [
        "\n",
        "merged: /home/arne/repos/rst_discourse_treebank/data/RSTtrees-WSJ-main-1.0-nltk-tokenized/TRAINING/wsj_1124.out.dis\n",
        "\n",
        "merged: /home/arne/repos/rst_discourse_treebank/data/RSTtrees-WSJ-main-1.0-nltk-tokenized/TRAINING/wsj_1119.out.dis\n"
       ]
      },
      {
       "output_type": "stream",
       "stream": "stdout",
       "text": [
        "\n",
        "merged: /home/arne/repos/rst_discourse_treebank/data/RSTtrees-WSJ-main-1.0-nltk-tokenized/TRAINING/wsj_1983.out.dis\n"
       ]
      },
      {
       "output_type": "stream",
       "stream": "stderr",
       "text": [
        "Error in /home/arne/repos/rst_discourse_treebank/data/RSTtrees-WSJ-main-1.0-nltk-tokenized/TRAINING/wsj_2363.out.dis: Tokenization mismatch: wsj_2363.out.dis (rst) vs. wsj_2363.mrg (ptb)\n",
        "\tUS != US$\n",
        "Error in /home/arne/repos/rst_discourse_treebank/data/RSTtrees-WSJ-main-1.0-nltk-tokenized/TRAINING/wsj_2345.out.dis: Tokenization mismatch: wsj_2345.out.dis (rst) vs. wsj_2345.mrg (ptb)\n",
        "\t`Enough != `\n"
       ]
      },
      {
       "output_type": "stream",
       "stream": "stdout",
       "text": [
        "\n",
        "merged: /home/arne/repos/rst_discourse_treebank/data/RSTtrees-WSJ-main-1.0-nltk-tokenized/TRAINING/wsj_0677.out.dis\n"
       ]
      },
      {
       "output_type": "stream",
       "stream": "stderr",
       "text": [
        "Error in /home/arne/repos/rst_discourse_treebank/data/RSTtrees-WSJ-main-1.0-nltk-tokenized/TRAINING/wsj_0698.out.dis: Tokenization mismatch: wsj_0698.out.dis (rst) vs. wsj_0698.mrg (ptb)\n",
        "\t7/8 != 7\\/8\n",
        "Error in /home/arne/repos/rst_discourse_treebank/data/RSTtrees-WSJ-main-1.0-nltk-tokenized/TRAINING/wsj_2381.out.dis: Tokenization mismatch: wsj_2381.out.dis (rst) vs. wsj_2381.mrg (ptb)\n",
        "\t`portfolio != `\n"
       ]
      },
      {
       "output_type": "stream",
       "stream": "stdout",
       "text": [
        "\n",
        "merged: /home/arne/repos/rst_discourse_treebank/data/RSTtrees-WSJ-main-1.0-nltk-tokenized/TRAINING/wsj_1174.out.dis\n"
       ]
      },
      {
       "output_type": "stream",
       "stream": "stderr",
       "text": [
        "Error in /home/arne/repos/rst_discourse_treebank/data/RSTtrees-WSJ-main-1.0-nltk-tokenized/TRAINING/wsj_0610.out.dis: Tokenization mismatch: wsj_0610.out.dis (rst) vs. wsj_0610.mrg (ptb)\n",
        "\t`healthy != `\n",
        "Error in /home/arne/repos/rst_discourse_treebank/data/RSTtrees-WSJ-main-1.0-nltk-tokenized/TRAINING/wsj_0694.out.dis: Tokenization mismatch: wsj_0694.out.dis (rst) vs. wsj_0694.mrg (ptb)\n",
        "\t. != ...\n",
        "Error in /home/arne/repos/rst_discourse_treebank/data/RSTtrees-WSJ-main-1.0-nltk-tokenized/TRAINING/wsj_1101.out.dis: Tokenization mismatch: wsj_1101.out.dis (rst) vs. wsj_1101.mrg (ptb)\n",
        "\tU.S != U.S.\n"
       ]
      },
      {
       "output_type": "stream",
       "stream": "stdout",
       "text": [
        "\n",
        "merged: /home/arne/repos/rst_discourse_treebank/data/RSTtrees-WSJ-main-1.0-nltk-tokenized/TRAINING/wsj_1392.out.dis\n"
       ]
      },
      {
       "output_type": "stream",
       "stream": "stderr",
       "text": [
        "Error in /home/arne/repos/rst_discourse_treebank/data/RSTtrees-WSJ-main-1.0-nltk-tokenized/TRAINING/wsj_2320.out.dis: Tokenization mismatch: wsj_2320.out.dis (rst) vs. wsj_2320.mrg (ptb)\n",
        "\tP != P&G\n",
        "Error in /home/arne/repos/rst_discourse_treebank/data/RSTtrees-WSJ-main-1.0-nltk-tokenized/TRAINING/wsj_1157.out.dis: Tokenization mismatch: wsj_1157.out.dis (rst) vs. wsj_1157.mrg (ptb)\n",
        "\tU.S != U.S.\n"
       ]
      },
      {
       "output_type": "stream",
       "stream": "stderr",
       "text": [
        "Error in /home/arne/repos/rst_discourse_treebank/data/RSTtrees-WSJ-main-1.0-nltk-tokenized/TRAINING/wsj_2360.out.dis: Tokenization mismatch: wsj_2360.out.dis (rst) vs. wsj_2360.mrg (ptb)\n",
        "\tCorp != Corp.\n",
        "Error in /home/arne/repos/rst_discourse_treebank/data/RSTtrees-WSJ-main-1.0-nltk-tokenized/TRAINING/wsj_1373.out.dis: Tokenization mismatch: wsj_1373.out.dis (rst) vs. wsj_1373.mrg (ptb)\n",
        "\tCorp != Corp.\n"
       ]
      },
      {
       "output_type": "stream",
       "stream": "stdout",
       "text": [
        "\n",
        "merged: /home/arne/repos/rst_discourse_treebank/data/RSTtrees-WSJ-main-1.0-nltk-tokenized/TRAINING/wsj_0693.out.dis\n"
       ]
      },
      {
       "output_type": "stream",
       "stream": "stdout",
       "text": [
        "\n",
        "merged: /home/arne/repos/rst_discourse_treebank/data/RSTtrees-WSJ-main-1.0-nltk-tokenized/TRAINING/wsj_1973.out.dis\n"
       ]
      },
      {
       "output_type": "stream",
       "stream": "stdout",
       "text": [
        "\n",
        "merged: /home/arne/repos/rst_discourse_treebank/data/RSTtrees-WSJ-main-1.0-nltk-tokenized/TRAINING/wsj_1357.out.dis\n"
       ]
      },
      {
       "output_type": "stream",
       "stream": "stderr",
       "text": [
        "Error in /home/arne/repos/rst_discourse_treebank/data/RSTtrees-WSJ-main-1.0-nltk-tokenized/TRAINING/wsj_1377.out.dis: Unexpected child combinations: defaultdict(<type 'list'>, {'Satellite': [0, 2], 'Nucleus': [1]})\n",
        "\n",
        "Error in /home/arne/repos/rst_discourse_treebank/data/RSTtrees-WSJ-main-1.0-nltk-tokenized/TRAINING/wsj_2359.out.dis: \n"
       ]
      },
      {
       "output_type": "stream",
       "stream": "stdout",
       "text": [
        "\n",
        "merged: /home/arne/repos/rst_discourse_treebank/data/RSTtrees-WSJ-main-1.0-nltk-tokenized/TRAINING/wsj_1348.out.dis\n",
        "\n",
        "merged: /home/arne/repos/rst_discourse_treebank/data/RSTtrees-WSJ-main-1.0-nltk-tokenized/TRAINING/wsj_1185.out.dis\n",
        "\n",
        "merged: /home/arne/repos/rst_discourse_treebank/data/RSTtrees-WSJ-main-1.0-nltk-tokenized/TRAINING/wsj_1360.out.dis\n"
       ]
      },
      {
       "output_type": "stream",
       "stream": "stdout",
       "text": [
        "\n",
        "merged: /home/arne/repos/rst_discourse_treebank/data/RSTtrees-WSJ-main-1.0-nltk-tokenized/TRAINING/wsj_1103.out.dis\n"
       ]
      },
      {
       "output_type": "stream",
       "stream": "stdout",
       "text": [
        "\n",
        "merged: /home/arne/repos/rst_discourse_treebank/data/RSTtrees-WSJ-main-1.0-nltk-tokenized/TRAINING/wsj_1144.out.dis\n"
       ]
      },
      {
       "output_type": "stream",
       "stream": "stderr",
       "text": [
        "Error in /home/arne/repos/rst_discourse_treebank/data/RSTtrees-WSJ-main-1.0-nltk-tokenized/TRAINING/wsj_0690.out.dis: Tokenization mismatch: wsj_0690.out.dis (rst) vs. wsj_0690.mrg (ptb)\n",
        "\tNovo/Nordisk != Novo\\/Nordisk\n",
        "Error in /home/arne/repos/rst_discourse_treebank/data/RSTtrees-WSJ-main-1.0-nltk-tokenized/TRAINING/wsj_1122.out.dis: Tokenization mismatch: wsj_1122.out.dis (rst) vs. wsj_1122.mrg (ptb)\n",
        "\tGov != Gov.\n"
       ]
      },
      {
       "output_type": "stream",
       "stream": "stdout",
       "text": [
        "\n",
        "merged: /home/arne/repos/rst_discourse_treebank/data/RSTtrees-WSJ-main-1.0-nltk-tokenized/TRAINING/wsj_1992.out.dis\n"
       ]
      },
      {
       "output_type": "stream",
       "stream": "stdout",
       "text": [
        "\n",
        "merged: /home/arne/repos/rst_discourse_treebank/data/RSTtrees-WSJ-main-1.0-nltk-tokenized/TRAINING/wsj_0640.out.dis\n"
       ]
      },
      {
       "output_type": "stream",
       "stream": "stderr",
       "text": [
        "Error in /home/arne/repos/rst_discourse_treebank/data/RSTtrees-WSJ-main-1.0-nltk-tokenized/TRAINING/wsj_0630.out.dis: Tokenization mismatch: wsj_0630.out.dis (rst) vs. wsj_0630.mrg (ptb)\n",
        "\tCorp. != Corp\n",
        "Error in /home/arne/repos/rst_discourse_treebank/data/RSTtrees-WSJ-main-1.0-nltk-tokenized/TRAINING/wsj_1317.out.dis: Tokenization mismatch: wsj_1317.out.dis (rst) vs. wsj_1317.mrg (ptb)\n",
        "\t. != ...\n"
       ]
      },
      {
       "output_type": "stream",
       "stream": "stderr",
       "text": [
        "Error in /home/arne/repos/rst_discourse_treebank/data/RSTtrees-WSJ-main-1.0-nltk-tokenized/TRAINING/wsj_1161.out.dis: Tokenization mismatch: wsj_1161.out.dis (rst) vs. wsj_1161.mrg (ptb)\n",
        "\t1/4 != 1\\/4\n",
        "Error in /home/arne/repos/rst_discourse_treebank/data/RSTtrees-WSJ-main-1.0-nltk-tokenized/TRAINING/file5.dis: 'NoneType' object has no attribute 'groups'\n"
       ]
      },
      {
       "output_type": "stream",
       "stream": "stdout",
       "text": [
        "\n",
        "merged: /home/arne/repos/rst_discourse_treebank/data/RSTtrees-WSJ-main-1.0-nltk-tokenized/TRAINING/wsj_1186.out.dis\n"
       ]
      },
      {
       "output_type": "stream",
       "stream": "stdout",
       "text": [
        "\n",
        "merged: /home/arne/repos/rst_discourse_treebank/data/RSTtrees-WSJ-main-1.0-nltk-tokenized/TRAINING/wsj_2396.out.dis\n"
       ]
      },
      {
       "output_type": "stream",
       "stream": "stderr",
       "text": [
        "Error in /home/arne/repos/rst_discourse_treebank/data/RSTtrees-WSJ-main-1.0-nltk-tokenized/TRAINING/wsj_1137.out.dis: Tokenization mismatch: wsj_1137.out.dis (rst) vs. wsj_1137.mrg (ptb)\n",
        "\tNo != No.\n",
        "Error in /home/arne/repos/rst_discourse_treebank/data/RSTtrees-WSJ-main-1.0-nltk-tokenized/TRAINING/wsj_1339.out.dis: Tokenization mismatch: wsj_1339.out.dis (rst) vs. wsj_1339.mrg (ptb)\n",
        "\t1/2 != 1\\/2\n"
       ]
      },
      {
       "output_type": "stream",
       "stream": "stdout",
       "text": [
        "\n",
        "merged: /home/arne/repos/rst_discourse_treebank/data/RSTtrees-WSJ-main-1.0-nltk-tokenized/TRAINING/wsj_1190.out.dis\n"
       ]
      },
      {
       "output_type": "stream",
       "stream": "stderr",
       "text": [
        "Error in /home/arne/repos/rst_discourse_treebank/data/RSTtrees-WSJ-main-1.0-nltk-tokenized/TRAINING/wsj_0629.out.dis: Tokenization mismatch: wsj_0629.out.dis (rst) vs. wsj_0629.mrg (ptb)\n",
        "\tG.S != G.S.\n",
        "Error in /home/arne/repos/rst_discourse_treebank/data/RSTtrees-WSJ-main-1.0-nltk-tokenized/TRAINING/wsj_1328.out.dis: Tokenization mismatch: wsj_1328.out.dis (rst) vs. wsj_1328.mrg (ptb)\n",
        "\t5/8 != 5\\/8\n"
       ]
      },
      {
       "output_type": "stream",
       "stream": "stdout",
       "text": [
        "\n",
        "merged: /home/arne/repos/rst_discourse_treebank/data/RSTtrees-WSJ-main-1.0-nltk-tokenized/TRAINING/wsj_1356.out.dis\n",
        "\n",
        "merged: /home/arne/repos/rst_discourse_treebank/data/RSTtrees-WSJ-main-1.0-nltk-tokenized/TRAINING/wsj_1383.out.dis\n"
       ]
      },
      {
       "output_type": "stream",
       "stream": "stderr",
       "text": [
        "Error in /home/arne/repos/rst_discourse_treebank/data/RSTtrees-WSJ-main-1.0-nltk-tokenized/TRAINING/wsj_1319.out.dis: Tokenization mismatch: wsj_1319.out.dis (rst) vs. wsj_1319.mrg (ptb)\n",
        "\tCie. != Cie\n",
        "Error in /home/arne/repos/rst_discourse_treebank/data/RSTtrees-WSJ-main-1.0-nltk-tokenized/TRAINING/wsj_1138.out.dis: Unexpected child combinations: defaultdict(<type 'list'>, {'Satellite': [0, 2], 'Nucleus': [1]})\n",
        "\n",
        "Error in /home/arne/repos/rst_discourse_treebank/data/RSTtrees-WSJ-main-1.0-nltk-tokenized/TRAINING/wsj_1367.out.dis: Tokenization mismatch: wsj_1367.out.dis (rst) vs. wsj_1367.mrg (ptb)\n",
        "\tL.A != L.A.\n"
       ]
      },
      {
       "output_type": "stream",
       "stream": "stderr",
       "text": [
        "Error in /home/arne/repos/rst_discourse_treebank/data/RSTtrees-WSJ-main-1.0-nltk-tokenized/TRAINING/wsj_1390.out.dis: Tokenization mismatch: wsj_1390.out.dis (rst) vs. wsj_1390.mrg (ptb)\n",
        "\t. != ...\n",
        "Error in /home/arne/repos/rst_discourse_treebank/data/RSTtrees-WSJ-main-1.0-nltk-tokenized/TRAINING/wsj_2382.out.dis: Tokenization mismatch: wsj_2382.out.dis (rst) vs. wsj_2382.mrg (ptb)\n",
        "\tInc != Inc.\n",
        "Error in /home/arne/repos/rst_discourse_treebank/data/RSTtrees-WSJ-main-1.0-nltk-tokenized/TRAINING/wsj_0638.out.dis: Tokenization mismatch: wsj_0638.out.dis (rst) vs. wsj_0638.mrg (ptb)\n",
        "\tCompaq's != Compaq\n"
       ]
      },
      {
       "output_type": "stream",
       "stream": "stdout",
       "text": [
        "\n",
        "merged: /home/arne/repos/rst_discourse_treebank/data/RSTtrees-WSJ-main-1.0-nltk-tokenized/TRAINING/wsj_1132.out.dis\n"
       ]
      },
      {
       "output_type": "stream",
       "stream": "stdout",
       "text": [
        "\n",
        "merged: /home/arne/repos/rst_discourse_treebank/data/RSTtrees-WSJ-main-1.0-nltk-tokenized/TRAINING/wsj_2308.out.dis\n"
       ]
      },
      {
       "output_type": "stream",
       "stream": "stderr",
       "text": [
        "Error in /home/arne/repos/rst_discourse_treebank/data/RSTtrees-WSJ-main-1.0-nltk-tokenized/TRAINING/wsj_1158.out.dis: Tokenization mismatch: wsj_1158.out.dis (rst) vs. wsj_1158.mrg (ptb)\n",
        "\t- != --\n",
        "Error in /home/arne/repos/rst_discourse_treebank/data/RSTtrees-WSJ-main-1.0-nltk-tokenized/TRAINING/wsj_2394.out.dis: Tokenization mismatch: wsj_2394.out.dis (rst) vs. wsj_2394.mrg (ptb)\n",
        "\t. != ...\n"
       ]
      },
      {
       "output_type": "stream",
       "stream": "stdout",
       "text": [
        "\n",
        "merged: /home/arne/repos/rst_discourse_treebank/data/RSTtrees-WSJ-main-1.0-nltk-tokenized/TRAINING/wsj_1173.out.dis\n",
        "\n",
        "merged: /home/arne/repos/rst_discourse_treebank/data/RSTtrees-WSJ-main-1.0-nltk-tokenized/TRAINING/wsj_0682.out.dis\n"
       ]
      },
      {
       "output_type": "stream",
       "stream": "stdout",
       "text": [
        "\n",
        "merged: /home/arne/repos/rst_discourse_treebank/data/RSTtrees-WSJ-main-1.0-nltk-tokenized/TRAINING/wsj_1175.out.dis\n",
        "\n",
        "merged: /home/arne/repos/rst_discourse_treebank/data/RSTtrees-WSJ-main-1.0-nltk-tokenized/TRAINING/wsj_0692.out.dis\n"
       ]
      },
      {
       "output_type": "stream",
       "stream": "stdout",
       "text": [
        "\n",
        "merged: /home/arne/repos/rst_discourse_treebank/data/RSTtrees-WSJ-main-1.0-nltk-tokenized/TRAINING/wsj_1309.out.dis\n"
       ]
      },
      {
       "output_type": "stream",
       "stream": "stdout",
       "text": [
        "\n",
        "merged: /home/arne/repos/rst_discourse_treebank/data/RSTtrees-WSJ-main-1.0-nltk-tokenized/TRAINING/wsj_1143.out.dis\n"
       ]
      },
      {
       "output_type": "stream",
       "stream": "stdout",
       "text": [
        "\n",
        "merged: /home/arne/repos/rst_discourse_treebank/data/RSTtrees-WSJ-main-1.0-nltk-tokenized/TRAINING/wsj_1172.out.dis\n"
       ]
      },
      {
       "output_type": "stream",
       "stream": "stderr",
       "text": [
        "Error in /home/arne/repos/rst_discourse_treebank/data/RSTtrees-WSJ-main-1.0-nltk-tokenized/TRAINING/wsj_0666.out.dis: \n",
        "Error in /home/arne/repos/rst_discourse_treebank/data/RSTtrees-WSJ-main-1.0-nltk-tokenized/TRAINING/wsj_0636.out.dis: Tokenization mismatch: wsj_0636.out.dis (rst) vs. wsj_0636.mrg (ptb)\n",
        "\tp.m != p.m.\n",
        "Error in /home/arne/repos/rst_discourse_treebank/data/RSTtrees-WSJ-main-1.0-nltk-tokenized/TRAINING/wsj_1312.out.dis: Tokenization mismatch: wsj_1312.out.dis (rst) vs. wsj_1312.mrg (ptb)\n",
        "\t1/2 != 1\\/2\n"
       ]
      },
      {
       "output_type": "stream",
       "stream": "stdout",
       "text": [
        "\n",
        "merged: /home/arne/repos/rst_discourse_treebank/data/RSTtrees-WSJ-main-1.0-nltk-tokenized/TRAINING/wsj_1127.out.dis\n"
       ]
      },
      {
       "output_type": "stream",
       "stream": "stdout",
       "text": [
        "\n",
        "merged: /home/arne/repos/rst_discourse_treebank/data/RSTtrees-WSJ-main-1.0-nltk-tokenized/TRAINING/wsj_1930.out.dis\n"
       ]
      },
      {
       "output_type": "stream",
       "stream": "stderr",
       "text": [
        "Error in /home/arne/repos/rst_discourse_treebank/data/RSTtrees-WSJ-main-1.0-nltk-tokenized/TRAINING/wsj_0635.out.dis: Tokenization mismatch: wsj_0635.out.dis (rst) vs. wsj_0635.mrg (ptb)\n",
        "\t`` != ''\n",
        "Error in /home/arne/repos/rst_discourse_treebank/data/RSTtrees-WSJ-main-1.0-nltk-tokenized/TRAINING/wsj_2393.out.dis: \n"
       ]
      },
      {
       "output_type": "stream",
       "stream": "stdout",
       "text": [
        "\n",
        "merged: /home/arne/repos/rst_discourse_treebank/data/RSTtrees-WSJ-main-1.0-nltk-tokenized/TRAINING/wsj_0672.out.dis\n"
       ]
      },
      {
       "output_type": "stream",
       "stream": "stderr",
       "text": [
        "Error in /home/arne/repos/rst_discourse_treebank/data/RSTtrees-WSJ-main-1.0-nltk-tokenized/TRAINING/wsj_0608.out.dis: \n",
        "Error in /home/arne/repos/rst_discourse_treebank/data/RSTtrees-WSJ-main-1.0-nltk-tokenized/TRAINING/file1.dis: 'NoneType' object has no attribute 'groups'\n"
       ]
      },
      {
       "output_type": "stream",
       "stream": "stderr",
       "text": [
        "Error in /home/arne/repos/rst_discourse_treebank/data/RSTtrees-WSJ-main-1.0-nltk-tokenized/TRAINING/wsj_1118.out.dis: Tokenization mismatch: wsj_1118.out.dis (rst) vs. wsj_1118.mrg (ptb)\n",
        "\t1/2 != 1\\/2\n",
        "Error in /home/arne/repos/rst_discourse_treebank/data/RSTtrees-WSJ-main-1.0-nltk-tokenized/TRAINING/wsj_1375.out.dis: Tokenization mismatch: wsj_1375.out.dis (rst) vs. wsj_1375.mrg (ptb)\n",
        "\tS != S&P\n"
       ]
      },
      {
       "output_type": "stream",
       "stream": "stdout",
       "text": [
        "\n",
        "merged: /home/arne/repos/rst_discourse_treebank/data/RSTtrees-WSJ-main-1.0-nltk-tokenized/TRAINING/wsj_0687.out.dis\n"
       ]
      },
      {
       "output_type": "stream",
       "stream": "stdout",
       "text": [
        "\n",
        "merged: /home/arne/repos/rst_discourse_treebank/data/RSTtrees-WSJ-main-1.0-nltk-tokenized/TRAINING/wsj_0618.out.dis\n"
       ]
      },
      {
       "output_type": "stream",
       "stream": "stderr",
       "text": [
        "Error in /home/arne/repos/rst_discourse_treebank/data/RSTtrees-WSJ-main-1.0-nltk-tokenized/TRAINING/wsj_1394.out.dis: Tokenization mismatch: wsj_1394.out.dis (rst) vs. wsj_1394.mrg (ptb)\n",
        "\tJ.X != J.X.\n",
        "Error in /home/arne/repos/rst_discourse_treebank/data/RSTtrees-WSJ-main-1.0-nltk-tokenized/TRAINING/wsj_1115.out.dis: Tokenization mismatch: wsj_1115.out.dis (rst) vs. wsj_1115.mrg (ptb)\n",
        "\tCo != Co.\n"
       ]
      },
      {
       "output_type": "stream",
       "stream": "stdout",
       "text": [
        "\n",
        "merged: /home/arne/repos/rst_discourse_treebank/data/RSTtrees-WSJ-main-1.0-nltk-tokenized/TRAINING/wsj_1361.out.dis\n",
        "\n",
        "merged: /home/arne/repos/rst_discourse_treebank/data/RSTtrees-WSJ-main-1.0-nltk-tokenized/TRAINING/wsj_1336.out.dis\n",
        "\n",
        "merged: /home/arne/repos/rst_discourse_treebank/data/RSTtrees-WSJ-main-1.0-nltk-tokenized/TRAINING/wsj_1135.out.dis\n"
       ]
      },
      {
       "output_type": "stream",
       "stream": "stderr",
       "text": [
        "Error in /home/arne/repos/rst_discourse_treebank/data/RSTtrees-WSJ-main-1.0-nltk-tokenized/TRAINING/wsj_1389.out.dis: Tokenization mismatch: wsj_1389.out.dis (rst) vs. wsj_1389.mrg (ptb)\n",
        "\t1/2 != 1\\/2\n",
        "Error in /home/arne/repos/rst_discourse_treebank/data/RSTtrees-WSJ-main-1.0-nltk-tokenized/TRAINING/wsj_1176.out.dis: Tokenization mismatch: wsj_1176.out.dis (rst) vs. wsj_1176.mrg (ptb)\n",
        "\t`` != ''\n"
       ]
      },
      {
       "output_type": "stream",
       "stream": "stdout",
       "text": [
        "\n",
        "merged: /home/arne/repos/rst_discourse_treebank/data/RSTtrees-WSJ-main-1.0-nltk-tokenized/TRAINING/wsj_1327.out.dis\n"
       ]
      },
      {
       "output_type": "stream",
       "stream": "stderr",
       "text": [
        "Error in /home/arne/repos/rst_discourse_treebank/data/RSTtrees-WSJ-main-1.0-nltk-tokenized/TRAINING/wsj_1370.out.dis: Tokenization mismatch: wsj_1370.out.dis (rst) vs. wsj_1370.mrg (ptb)\n",
        "\tY-MP/832 != Y-MP\\/832\n",
        "Error in /home/arne/repos/rst_discourse_treebank/data/RSTtrees-WSJ-main-1.0-nltk-tokenized/TRAINING/wsj_1193.out.dis: Tokenization mismatch: wsj_1193.out.dis (rst) vs. wsj_1193.mrg (ptb)\n",
        "\tMr != Mr.\n"
       ]
      },
      {
       "output_type": "stream",
       "stream": "stdout",
       "text": [
        "\n",
        "merged: /home/arne/repos/rst_discourse_treebank/data/RSTtrees-WSJ-main-1.0-nltk-tokenized/TRAINING/wsj_1381.out.dis\n",
        "\n",
        "merged: /home/arne/repos/rst_discourse_treebank/data/RSTtrees-WSJ-main-1.0-nltk-tokenized/TRAINING/wsj_0691.out.dis\n"
       ]
      },
      {
       "output_type": "stream",
       "stream": "stderr",
       "text": [
        "Error in /home/arne/repos/rst_discourse_treebank/data/RSTtrees-WSJ-main-1.0-nltk-tokenized/TRAINING/wsj_1318.out.dis: Unexpected child combinations: defaultdict(<type 'list'>, {'Satellite': [0, 2], 'Nucleus': [1]})\n",
        "\n",
        "Error in /home/arne/repos/rst_discourse_treebank/data/RSTtrees-WSJ-main-1.0-nltk-tokenized/TRAINING/wsj_1156.out.dis: Tokenization mismatch: wsj_1156.out.dis (rst) vs. wsj_1156.mrg (ptb)\n",
        "\t-results != -\n"
       ]
      },
      {
       "output_type": "stream",
       "stream": "stdout",
       "text": [
        "\n",
        "merged: /home/arne/repos/rst_discourse_treebank/data/RSTtrees-WSJ-main-1.0-nltk-tokenized/TRAINING/wsj_1120.out.dis\n"
       ]
      },
      {
       "output_type": "stream",
       "stream": "stdout",
       "text": [
        "\n",
        "merged: /home/arne/repos/rst_discourse_treebank/data/RSTtrees-WSJ-main-1.0-nltk-tokenized/TRAINING/wsj_2365.out.dis\n"
       ]
      },
      {
       "output_type": "stream",
       "stream": "stderr",
       "text": [
        "Error in /home/arne/repos/rst_discourse_treebank/data/RSTtrees-WSJ-main-1.0-nltk-tokenized/TRAINING/wsj_2328.out.dis: Tokenization mismatch: wsj_2328.out.dis (rst) vs. wsj_2328.mrg (ptb)\n",
        "\tS != S&L\n",
        "Error in /home/arne/repos/rst_discourse_treebank/data/RSTtrees-WSJ-main-1.0-nltk-tokenized/TRAINING/wsj_0674.out.dis: Tokenization mismatch: wsj_0674.out.dis (rst) vs. wsj_0674.mrg (ptb)\n",
        "\t30 != 30%-owned\n"
       ]
      },
      {
       "output_type": "stream",
       "stream": "stdout",
       "text": [
        "\n",
        "merged: /home/arne/repos/rst_discourse_treebank/data/RSTtrees-WSJ-main-1.0-nltk-tokenized/TRAINING/wsj_1338.out.dis\n",
        "\n",
        "merged: /home/arne/repos/rst_discourse_treebank/data/RSTtrees-WSJ-main-1.0-nltk-tokenized/TRAINING/wsj_1155.out.dis\n"
       ]
      },
      {
       "output_type": "stream",
       "stream": "stderr",
       "text": [
        "Error in /home/arne/repos/rst_discourse_treebank/data/RSTtrees-WSJ-main-1.0-nltk-tokenized/TRAINING/wsj_0673.out.dis: Tokenization mismatch: wsj_0673.out.dis (rst) vs. wsj_0673.mrg (ptb)\n",
        "\tC.J != C.J.\n",
        "Error in /home/arne/repos/rst_discourse_treebank/data/RSTtrees-WSJ-main-1.0-nltk-tokenized/TRAINING/wsj_0671.out.dis: Tokenization mismatch: wsj_0671.out.dis (rst) vs. wsj_0671.mrg (ptb)\n",
        "\tproperty/casualty != property\\/casualty\n"
       ]
      },
      {
       "output_type": "stream",
       "stream": "stdout",
       "text": [
        "\n",
        "merged: /home/arne/repos/rst_discourse_treebank/data/RSTtrees-WSJ-main-1.0-nltk-tokenized/TRAINING/wsj_0646.out.dis\n",
        "\n",
        "merged: /home/arne/repos/rst_discourse_treebank/data/RSTtrees-WSJ-main-1.0-nltk-tokenized/TRAINING/wsj_1997.out.dis\n"
       ]
      },
      {
       "output_type": "stream",
       "stream": "stderr",
       "text": [
        "Error in /home/arne/repos/rst_discourse_treebank/data/RSTtrees-WSJ-main-1.0-nltk-tokenized/TRAINING/wsj_0609.out.dis: Tokenization mismatch: wsj_0609.out.dis (rst) vs. wsj_0609.mrg (ptb)\n",
        "\t. != ...\n",
        "Error in /home/arne/repos/rst_discourse_treebank/data/RSTtrees-WSJ-main-1.0-nltk-tokenized/TRAINING/wsj_1181.out.dis: Tokenization mismatch: wsj_1181.out.dis (rst) vs. wsj_1181.mrg (ptb)\n",
        "\tUS != US$\n",
        "Error in /home/arne/repos/rst_discourse_treebank/data/RSTtrees-WSJ-main-1.0-nltk-tokenized/TRAINING/wsj_1128.out.dis: Tokenization mismatch: wsj_1128.out.dis (rst) vs. wsj_1128.mrg (ptb)\n",
        "\tU.S != U.S.\n"
       ]
      },
      {
       "output_type": "stream",
       "stream": "stderr",
       "text": [
        "Error in /home/arne/repos/rst_discourse_treebank/data/RSTtrees-WSJ-main-1.0-nltk-tokenized/TRAINING/wsj_1324.out.dis: Tokenization mismatch: wsj_1324.out.dis (rst) vs. wsj_1324.mrg (ptb)\n",
        "\tCo != Co.\n",
        "Error in /home/arne/repos/rst_discourse_treebank/data/RSTtrees-WSJ-main-1.0-nltk-tokenized/TRAINING/wsj_1145.out.dis: Tokenization mismatch: wsj_1145.out.dis (rst) vs. wsj_1145.mrg (ptb)\n",
        "\t. != ...\n",
        "Error in /home/arne/repos/rst_discourse_treebank/data/RSTtrees-WSJ-main-1.0-nltk-tokenized/TRAINING/wsj_1123.out.dis: Tokenization mismatch: wsj_1123.out.dis (rst) vs. wsj_1123.mrg (ptb)\n",
        "\t`` != ''\n"
       ]
      },
      {
       "output_type": "stream",
       "stream": "stdout",
       "text": [
        "\n",
        "merged: /home/arne/repos/rst_discourse_treebank/data/RSTtrees-WSJ-main-1.0-nltk-tokenized/TRAINING/wsj_1924.out.dis\n"
       ]
      },
      {
       "output_type": "stream",
       "stream": "stderr",
       "text": [
        "Error in /home/arne/repos/rst_discourse_treebank/data/RSTtrees-WSJ-main-1.0-nltk-tokenized/TRAINING/wsj_1302.out.dis: Tokenization mismatch: wsj_1302.out.dis (rst) vs. wsj_1302.mrg (ptb)\n",
        "\tLloyd's != Lloyd\n",
        "Error in /home/arne/repos/rst_discourse_treebank/data/RSTtrees-WSJ-main-1.0-nltk-tokenized/TRAINING/wsj_1159.out.dis: Tokenization mismatch: wsj_1159.out.dis (rst) vs. wsj_1159.mrg (ptb)\n",
        "\t. != ...\n",
        "Error in /home/arne/repos/rst_discourse_treebank/data/RSTtrees-WSJ-main-1.0-nltk-tokenized/TRAINING/wsj_1382.out.dis: \n"
       ]
      },
      {
       "output_type": "stream",
       "stream": "stdout",
       "text": [
        "\n",
        "merged: /home/arne/repos/rst_discourse_treebank/data/RSTtrees-WSJ-main-1.0-nltk-tokenized/TRAINING/wsj_2332.out.dis\n"
       ]
      },
      {
       "output_type": "stream",
       "stream": "stdout",
       "text": [
        "\n",
        "merged: /home/arne/repos/rst_discourse_treebank/data/RSTtrees-WSJ-main-1.0-nltk-tokenized/TRAINING/wsj_1931.out.dis\n"
       ]
      },
      {
       "output_type": "stream",
       "stream": "stderr",
       "text": [
        "Error in /home/arne/repos/rst_discourse_treebank/data/RSTtrees-WSJ-main-1.0-nltk-tokenized/TRAINING/wsj_1313.out.dis: Tokenization mismatch: wsj_1313.out.dis (rst) vs. wsj_1313.mrg (ptb)\n",
        "\tInc != Inc.\n",
        "Error in /home/arne/repos/rst_discourse_treebank/data/RSTtrees-WSJ-main-1.0-nltk-tokenized/TRAINING/wsj_1355.out.dis: Unexpected child combinations: defaultdict(<type 'list'>, {'Satellite': [0, 2], 'Nucleus': [1]})\n",
        "\n"
       ]
      },
      {
       "output_type": "stream",
       "stream": "stdout",
       "text": [
        "\n",
        "merged: /home/arne/repos/rst_discourse_treebank/data/RSTtrees-WSJ-main-1.0-nltk-tokenized/TRAINING/wsj_1102.out.dis\n"
       ]
      },
      {
       "output_type": "stream",
       "stream": "stderr",
       "text": [
        "Error in /home/arne/repos/rst_discourse_treebank/data/RSTtrees-WSJ-main-1.0-nltk-tokenized/TRAINING/wsj_1323.out.dis: Tokenization mismatch: wsj_1323.out.dis (rst) vs. wsj_1323.mrg (ptb)\n",
        "\tA != A&M\n",
        "Error in /home/arne/repos/rst_discourse_treebank/data/RSTtrees-WSJ-main-1.0-nltk-tokenized/TRAINING/wsj_1379.out.dis: \n"
       ]
      },
      {
       "output_type": "stream",
       "stream": "stderr",
       "text": [
        "Error in /home/arne/repos/rst_discourse_treebank/data/RSTtrees-WSJ-main-1.0-nltk-tokenized/TRAINING/wsj_0637.out.dis: Tokenization mismatch: wsj_0637.out.dis (rst) vs. wsj_0637.mrg (ptb)\n",
        "\tUS != US$\n",
        "Error in /home/arne/repos/rst_discourse_treebank/data/RSTtrees-WSJ-main-1.0-nltk-tokenized/TRAINING/wsj_0601.out.dis: \n"
       ]
      },
      {
       "output_type": "stream",
       "stream": "stdout",
       "text": [
        "\n",
        "merged: /home/arne/repos/rst_discourse_treebank/data/RSTtrees-WSJ-main-1.0-nltk-tokenized/TRAINING/wsj_0697.out.dis\n"
       ]
      },
      {
       "output_type": "stream",
       "stream": "stdout",
       "text": [
        "\n",
        "merged: /home/arne/repos/rst_discourse_treebank/data/RSTtrees-WSJ-main-1.0-nltk-tokenized/TRAINING/wsj_1326.out.dis\n",
        "\n",
        "merged: /home/arne/repos/rst_discourse_treebank/data/RSTtrees-WSJ-main-1.0-nltk-tokenized/TRAINING/wsj_1188.out.dis\n"
       ]
      },
      {
       "output_type": "stream",
       "stream": "stderr",
       "text": [
        "Error in /home/arne/repos/rst_discourse_treebank/data/RSTtrees-WSJ-main-1.0-nltk-tokenized/TRAINING/wsj_1386.out.dis: Tokenization mismatch: wsj_1386.out.dis (rst) vs. wsj_1386.mrg (ptb)\n",
        "\tpresident-engineering != president\n",
        "Error in /home/arne/repos/rst_discourse_treebank/data/RSTtrees-WSJ-main-1.0-nltk-tokenized/TRAINING/wsj_2358.out.dis: Tokenization mismatch: wsj_2358.out.dis (rst) vs. wsj_2358.mrg (ptb)\n",
        "\t1982=100 != 1982\n"
       ]
      },
      {
       "output_type": "stream",
       "stream": "stdout",
       "text": [
        "\n",
        "merged: /home/arne/repos/rst_discourse_treebank/data/RSTtrees-WSJ-main-1.0-nltk-tokenized/TRAINING/wsj_2340.out.dis\n",
        "\n",
        "merged: /home/arne/repos/rst_discourse_treebank/data/RSTtrees-WSJ-main-1.0-nltk-tokenized/TRAINING/wsj_0676.out.dis\n"
       ]
      },
      {
       "output_type": "stream",
       "stream": "stdout",
       "text": [
        "\n",
        "merged: /home/arne/repos/rst_discourse_treebank/data/RSTtrees-WSJ-main-1.0-nltk-tokenized/TRAINING/wsj_2383.out.dis\n",
        "\n",
        "merged: /home/arne/repos/rst_discourse_treebank/data/RSTtrees-WSJ-main-1.0-nltk-tokenized/TRAINING/wsj_2349.out.dis\n"
       ]
      },
      {
       "output_type": "stream",
       "stream": "stdout",
       "text": [
        "\n",
        "merged: /home/arne/repos/rst_discourse_treebank/data/RSTtrees-WSJ-main-1.0-nltk-tokenized/TRAINING/wsj_1182.out.dis\n"
       ]
      },
      {
       "output_type": "stream",
       "stream": "stdout",
       "text": [
        "\n",
        "merged: /home/arne/repos/rst_discourse_treebank/data/RSTtrees-WSJ-main-1.0-nltk-tokenized/TRAINING/wsj_2356.out.dis\n"
       ]
      },
      {
       "output_type": "stream",
       "stream": "stdout",
       "text": [
        "\n",
        "merged: /home/arne/repos/rst_discourse_treebank/data/RSTtrees-WSJ-main-1.0-nltk-tokenized/TRAINING/wsj_1334.out.dis\n"
       ]
      },
      {
       "output_type": "stream",
       "stream": "stderr",
       "text": [
        "Error in /home/arne/repos/rst_discourse_treebank/data/RSTtrees-WSJ-main-1.0-nltk-tokenized/TRAINING/wsj_1305.out.dis: Tokenization mismatch: wsj_1305.out.dis (rst) vs. wsj_1305.mrg (ptb)\n",
        "\t. != ...\n",
        "Error in /home/arne/repos/rst_discourse_treebank/data/RSTtrees-WSJ-main-1.0-nltk-tokenized/TRAINING/wsj_1311.out.dis: Tokenization mismatch: wsj_1311.out.dis (rst) vs. wsj_1311.mrg (ptb)\n",
        "\tC.J != C.J.\n"
       ]
      },
      {
       "output_type": "stream",
       "stream": "stdout",
       "text": [
        "\n",
        "merged: /home/arne/repos/rst_discourse_treebank/data/RSTtrees-WSJ-main-1.0-nltk-tokenized/TRAINING/wsj_2317.out.dis\n"
       ]
      },
      {
       "output_type": "stream",
       "stream": "stdout",
       "text": [
        "\n",
        "merged: /home/arne/repos/rst_discourse_treebank/data/RSTtrees-WSJ-main-1.0-nltk-tokenized/TRAINING/wsj_1378.out.dis\n",
        "\n",
        "merged: /home/arne/repos/rst_discourse_treebank/data/RSTtrees-WSJ-main-1.0-nltk-tokenized/TRAINING/wsj_0685.out.dis\n",
        "\n",
        "merged: /home/arne/repos/rst_discourse_treebank/data/RSTtrees-WSJ-main-1.0-nltk-tokenized/TRAINING/wsj_1104.out.dis\n",
        "\n",
        "merged: /home/arne/repos/rst_discourse_treebank/data/RSTtrees-WSJ-main-1.0-nltk-tokenized/TRAINING/wsj_1337.out.dis\n"
       ]
      },
      {
       "output_type": "stream",
       "stream": "stderr",
       "text": [
        "Error in /home/arne/repos/rst_discourse_treebank/data/RSTtrees-WSJ-main-1.0-nltk-tokenized/TRAINING/wsj_1194.out.dis: Tokenization mismatch: wsj_1194.out.dis (rst) vs. wsj_1194.mrg (ptb)\n",
        "\tUS != US$\n",
        "Error in /home/arne/repos/rst_discourse_treebank/data/RSTtrees-WSJ-main-1.0-nltk-tokenized/TRAINING/wsj_1125.out.dis: Tokenization mismatch: wsj_1125.out.dis (rst) vs. wsj_1125.mrg (ptb)\n",
        "\tU.S != U.S.\n"
       ]
      },
      {
       "output_type": "stream",
       "stream": "stdout",
       "text": [
        "\n",
        "merged: /home/arne/repos/rst_discourse_treebank/data/RSTtrees-WSJ-main-1.0-nltk-tokenized/TRAINING/wsj_0639.out.dis\n"
       ]
      },
      {
       "output_type": "stream",
       "stream": "stderr",
       "text": [
        "Error in /home/arne/repos/rst_discourse_treebank/data/RSTtrees-WSJ-main-1.0-nltk-tokenized/TRAINING/file2.dis: 'NoneType' object has no attribute 'groups'\n",
        "Error in /home/arne/repos/rst_discourse_treebank/data/RSTtrees-WSJ-main-1.0-nltk-tokenized/TRAINING/wsj_0622.out.dis: Tokenization mismatch: wsj_0622.out.dis (rst) vs. wsj_0622.mrg (ptb)\n",
        "\t`manipulation != `\n",
        "Error in /home/arne/repos/rst_discourse_treebank/data/RSTtrees-WSJ-main-1.0-nltk-tokenized/TRAINING/wsj_1106.out.dis: Tokenization mismatch: wsj_1106.out.dis (rst) vs. wsj_1106.mrg (ptb)\n",
        "\tlate-summer/early-FALL != late-summer\\/early-FALL\n",
        "Error in /home/arne/repos/rst_discourse_treebank/data/RSTtrees-WSJ-main-1.0-nltk-tokenized/TRAINING/wsj_2309.out.dis: Tokenization mismatch: wsj_2309.out.dis (rst) vs. wsj_2309.mrg (ptb)\n",
        "\tUS != US$\n"
       ]
      },
      {
       "output_type": "stream",
       "stream": "stdout",
       "text": [
        "\n",
        "merged: /home/arne/repos/rst_discourse_treebank/data/RSTtrees-WSJ-main-1.0-nltk-tokenized/TRAINING/wsj_1395.out.dis\n",
        "\n",
        "merged: /home/arne/repos/rst_discourse_treebank/data/RSTtrees-WSJ-main-1.0-nltk-tokenized/TRAINING/wsj_1191.out.dis\n"
       ]
      },
      {
       "output_type": "stream",
       "stream": "stderr",
       "text": [
        "Error in /home/arne/repos/rst_discourse_treebank/data/RSTtrees-WSJ-main-1.0-nltk-tokenized/TRAINING/wsj_0631.out.dis: Tokenization mismatch: wsj_0631.out.dis (rst) vs. wsj_0631.mrg (ptb)\n",
        "\t50 != 50%-state-owned\n",
        "Error in /home/arne/repos/rst_discourse_treebank/data/RSTtrees-WSJ-main-1.0-nltk-tokenized/TRAINING/wsj_0648.out.dis: Tokenization mismatch: wsj_0648.out.dis (rst) vs. wsj_0648.mrg (ptb)\n",
        "\tInterstate/Johnson != Interstate\\/Johnson\n"
       ]
      },
      {
       "output_type": "stream",
       "stream": "stdout",
       "text": [
        "\n",
        "merged: /home/arne/repos/rst_discourse_treebank/data/RSTtrees-WSJ-main-1.0-nltk-tokenized/TRAINING/wsj_1133.out.dis\n",
        "\n",
        "merged: /home/arne/repos/rst_discourse_treebank/data/RSTtrees-WSJ-main-1.0-nltk-tokenized/TRAINING/wsj_2391.out.dis\n"
       ]
      },
      {
       "output_type": "stream",
       "stream": "stdout",
       "text": [
        "\n",
        "merged: /home/arne/repos/rst_discourse_treebank/data/RSTtrees-WSJ-main-1.0-nltk-tokenized/TRAINING/wsj_1112.out.dis\n",
        "\n",
        "merged: /home/arne/repos/rst_discourse_treebank/data/RSTtrees-WSJ-main-1.0-nltk-tokenized/TRAINING/wsj_2326.out.dis\n"
       ]
      },
      {
       "output_type": "stream",
       "stream": "stderr",
       "text": [
        "Error in /home/arne/repos/rst_discourse_treebank/data/RSTtrees-WSJ-main-1.0-nltk-tokenized/TRAINING/wsj_1397.out.dis: Tokenization mismatch: wsj_1397.out.dis (rst) vs. wsj_1397.mrg (ptb)\n",
        "\twriter/producers != writer\\/producers\n",
        "Error in /home/arne/repos/rst_discourse_treebank/data/RSTtrees-WSJ-main-1.0-nltk-tokenized/TRAINING/wsj_1308.out.dis: Tokenization mismatch: wsj_1308.out.dis (rst) vs. wsj_1308.mrg (ptb)\n",
        "\tProp != Prop.\n"
       ]
      },
      {
       "output_type": "stream",
       "stream": "stdout",
       "text": [
        "\n",
        "merged: /home/arne/repos/rst_discourse_treebank/data/RSTtrees-WSJ-main-1.0-nltk-tokenized/TRAINING/wsj_0657.out.dis\n",
        "\n",
        "merged: /home/arne/repos/rst_discourse_treebank/data/RSTtrees-WSJ-main-1.0-nltk-tokenized/TRAINING/wsj_1385.out.dis\n"
       ]
      },
      {
       "output_type": "stream",
       "stream": "stdout",
       "text": [
        "\n",
        "merged: /home/arne/repos/rst_discourse_treebank/data/RSTtrees-WSJ-main-1.0-nltk-tokenized/TRAINING/wsj_1998.out.dis\n",
        "\n",
        "merged: /home/arne/repos/rst_discourse_treebank/data/RSTtrees-WSJ-main-1.0-nltk-tokenized/TRAINING/wsj_1199.out.dis\n"
       ]
      },
      {
       "output_type": "stream",
       "stream": "stderr",
       "text": [
        "Error in /home/arne/repos/rst_discourse_treebank/data/RSTtrees-WSJ-main-1.0-nltk-tokenized/TRAINING/wsj_1154.out.dis: Tokenization mismatch: wsj_1154.out.dis (rst) vs. wsj_1154.mrg (ptb)\n",
        "\t. != ...\n",
        "Error in /home/arne/repos/rst_discourse_treebank/data/RSTtrees-WSJ-main-1.0-nltk-tokenized/TRAINING/wsj_1141.out.dis: Tokenization mismatch: wsj_1141.out.dis (rst) vs. wsj_1141.mrg (ptb)\n",
        "\t30-Oct. != 30-Oct\n"
       ]
      },
      {
       "output_type": "stream",
       "stream": "stdout",
       "text": [
        "\n",
        "merged: /home/arne/repos/rst_discourse_treebank/data/RSTtrees-WSJ-main-1.0-nltk-tokenized/TRAINING/wsj_1168.out.dis\n"
       ]
      },
      {
       "output_type": "stream",
       "stream": "stderr",
       "text": [
        "Error in /home/arne/repos/rst_discourse_treebank/data/RSTtrees-WSJ-main-1.0-nltk-tokenized/TRAINING/file4.dis: 'NoneType' object has no attribute 'groups'\n",
        "Error in /home/arne/repos/rst_discourse_treebank/data/RSTtrees-WSJ-main-1.0-nltk-tokenized/TRAINING/wsj_1192.out.dis: Unexpected child combinations: defaultdict(<type 'list'>, {'Satellite': [0, 2], 'Nucleus': [1]})\n",
        "\n",
        "Error in /home/arne/repos/rst_discourse_treebank/data/RSTtrees-WSJ-main-1.0-nltk-tokenized/TRAINING/wsj_0664.out.dis: Tokenization mismatch: wsj_0664.out.dis (rst) vs. wsj_0664.mrg (ptb)\n",
        "\tATS/2 != ATS\\/2\n"
       ]
      },
      {
       "output_type": "stream",
       "stream": "stderr",
       "text": [
        "Error in /home/arne/repos/rst_discourse_treebank/data/RSTtrees-WSJ-main-1.0-nltk-tokenized/TRAINING/wsj_2357.out.dis: Tokenization mismatch: wsj_2357.out.dis (rst) vs. wsj_2357.mrg (ptb)\n",
        "\tR.B != R.B.\n",
        "Error in /home/arne/repos/rst_discourse_treebank/data/RSTtrees-WSJ-main-1.0-nltk-tokenized/TRAINING/wsj_1999.out.dis: Tokenization mismatch: wsj_1999.out.dis (rst) vs. wsj_1999.mrg (ptb)\n",
        "\tAT != AT&T\n"
       ]
      },
      {
       "output_type": "stream",
       "stream": "stdout",
       "text": [
        "\n",
        "merged: /home/arne/repos/rst_discourse_treebank/data/RSTtrees-WSJ-main-1.0-nltk-tokenized/TRAINING/wsj_0669.out.dis\n"
       ]
      },
      {
       "output_type": "stream",
       "stream": "stdout",
       "text": [
        "\n",
        "merged: /home/arne/repos/rst_discourse_treebank/data/RSTtrees-WSJ-main-1.0-nltk-tokenized/TRAINING/wsj_1363.out.dis\n"
       ]
      },
      {
       "output_type": "stream",
       "stream": "stderr",
       "text": [
        "Error in /home/arne/repos/rst_discourse_treebank/data/RSTtrees-WSJ-main-1.0-nltk-tokenized/TRAINING/wsj_0681.out.dis: Unexpected child combinations: defaultdict(<type 'list'>, {'Satellite': [0, 2], 'Nucleus': [1]})\n",
        "\n",
        "Error in /home/arne/repos/rst_discourse_treebank/data/RSTtrees-WSJ-main-1.0-nltk-tokenized/TRAINING/wsj_1329.out.dis: Tokenization mismatch: wsj_1329.out.dis (rst) vs. wsj_1329.mrg (ptb)\n",
        "\tG.m.b != G.m.b.H.\n"
       ]
      },
      {
       "output_type": "stream",
       "stream": "stdout",
       "text": [
        "\n",
        "merged: /home/arne/repos/rst_discourse_treebank/data/RSTtrees-WSJ-main-1.0-nltk-tokenized/TRAINING/wsj_1105.out.dis\n"
       ]
      },
      {
       "output_type": "stream",
       "stream": "stderr",
       "text": [
        "Error in /home/arne/repos/rst_discourse_treebank/data/RSTtrees-WSJ-main-1.0-nltk-tokenized/TRAINING/file3.dis: 'NoneType' object has no attribute 'groups'\n",
        "Error in /home/arne/repos/rst_discourse_treebank/data/RSTtrees-WSJ-main-1.0-nltk-tokenized/TRAINING/wsj_2367.out.dis: /home/arne/repos/rst_discourse_treebank/data/RSTtrees-WSJ-main-1.0-nltk-tokenized/TRAINING/wsj_2367.out.dis\n",
        "Traceback (most recent call last):\n",
        "  File \"<ipython-input-7-a3ce24290f79>\", line 8, in parse_rstfile_sexpdata\n",
        "    return sexpdata.load(rstfile)\n",
        "  File \"/usr/local/lib/python2.7/dist-packages/sexpdata.py\", line 171, in load\n",
        "    return loads(filelike.read(), **kwds)\n",
        "  File \"/usr/local/lib/python2.7/dist-packages/sexpdata.py\", line 244, in loads\n",
        "    assert len(obj) == 1  # FIXME: raise an appropriate error\n",
        "AssertionError\n",
        "\n",
        "\n",
        "\n",
        "Error in /home/arne/repos/rst_discourse_treebank/data/RSTtrees-WSJ-main-1.0-nltk-tokenized/TRAINING/wsj_0675.out.dis: Tokenization mismatch: wsj_0675.out.dis (rst) vs. wsj_0675.mrg (ptb)\n",
        "\t- != Stocks\n"
       ]
      },
      {
       "output_type": "stream",
       "stream": "stderr",
       "text": [
        "Error in /home/arne/repos/rst_discourse_treebank/data/RSTtrees-WSJ-main-1.0-nltk-tokenized/TRAINING/wsj_1364.out.dis: Tokenization mismatch: wsj_1364.out.dis (rst) vs. wsj_1364.mrg (ptb)\n",
        "\tS != S&L\n",
        "Error in /home/arne/repos/rst_discourse_treebank/data/RSTtrees-WSJ-main-1.0-nltk-tokenized/TRAINING/wsj_1136.out.dis: Tokenization mismatch: wsj_1136.out.dis (rst) vs. wsj_1136.mrg (ptb)\n",
        "\tP != P&G\n"
       ]
      },
      {
       "output_type": "stream",
       "stream": "stdout",
       "text": [
        "\n",
        "merged: /home/arne/repos/rst_discourse_treebank/data/RSTtrees-WSJ-main-1.0-nltk-tokenized/TRAINING/wsj_1300.out.dis\n",
        "\n",
        "merged: /home/arne/repos/rst_discourse_treebank/data/RSTtrees-WSJ-main-1.0-nltk-tokenized/TRAINING/wsj_1114.out.dis\n"
       ]
      },
      {
       "output_type": "stream",
       "stream": "stdout",
       "text": [
        "\n",
        "merged: /home/arne/repos/rst_discourse_treebank/data/RSTtrees-WSJ-main-1.0-nltk-tokenized/TRAINING/wsj_0643.out.dis\n",
        "\n",
        "merged: /home/arne/repos/rst_discourse_treebank/data/RSTtrees-WSJ-main-1.0-nltk-tokenized/TRAINING/wsj_0652.out.dis\n",
        "\n",
        "merged: /home/arne/repos/rst_discourse_treebank/data/RSTtrees-WSJ-main-1.0-nltk-tokenized/TRAINING/wsj_1165.out.dis\n"
       ]
      },
      {
       "output_type": "stream",
       "stream": "stdout",
       "text": [
        "\n",
        "merged: /home/arne/repos/rst_discourse_treebank/data/RSTtrees-WSJ-main-1.0-nltk-tokenized/TRAINING/wsj_2342.out.dis\n"
       ]
      },
      {
       "output_type": "stream",
       "stream": "stdout",
       "text": [
        "\n",
        "merged: /home/arne/repos/rst_discourse_treebank/data/RSTtrees-WSJ-main-1.0-nltk-tokenized/TRAINING/wsj_2350.out.dis\n"
       ]
      },
      {
       "output_type": "stream",
       "stream": "stderr",
       "text": [
        "Error in /home/arne/repos/rst_discourse_treebank/data/RSTtrees-WSJ-main-1.0-nltk-tokenized/TRAINING/wsj_2316.out.dis: Tokenization mismatch: wsj_2316.out.dis (rst) vs. wsj_2316.mrg (ptb)\n",
        "\tU.S != U.S.\n",
        "Error in /home/arne/repos/rst_discourse_treebank/data/RSTtrees-WSJ-main-1.0-nltk-tokenized/TRAINING/wsj_1178.out.dis: \n"
       ]
      },
      {
       "output_type": "stream",
       "stream": "stdout",
       "text": [
        "\n",
        "merged: /home/arne/repos/rst_discourse_treebank/data/RSTtrees-WSJ-main-1.0-nltk-tokenized/TRAINING/wsj_0658.out.dis\n",
        "\n",
        "merged: /home/arne/repos/rst_discourse_treebank/data/RSTtrees-WSJ-main-1.0-nltk-tokenized/TRAINING/wsj_1393.out.dis\n"
       ]
      },
      {
       "output_type": "stream",
       "stream": "stdout",
       "text": [
        "\n",
        "merged: /home/arne/repos/rst_discourse_treebank/data/RSTtrees-WSJ-main-1.0-nltk-tokenized/TRAINING/wsj_0628.out.dis\n"
       ]
      },
      {
       "output_type": "stream",
       "stream": "stdout",
       "text": [
        "\n",
        "merged: /home/arne/repos/rst_discourse_treebank/data/RSTtrees-WSJ-main-1.0-nltk-tokenized/TRAINING/wsj_1399.out.dis\n"
       ]
      },
      {
       "output_type": "stream",
       "stream": "stdout",
       "text": [
        "\n",
        "merged: /home/arne/repos/rst_discourse_treebank/data/RSTtrees-WSJ-main-1.0-nltk-tokenized/TRAINING/wsj_0653.out.dis\n"
       ]
      },
      {
       "output_type": "stream",
       "stream": "stdout",
       "text": [
        "\n",
        "merged: /home/arne/repos/rst_discourse_treebank/data/RSTtrees-WSJ-main-1.0-nltk-tokenized/TRAINING/wsj_1184.out.dis\n"
       ]
      },
      {
       "output_type": "stream",
       "stream": "stderr",
       "text": [
        "Error in /home/arne/repos/rst_discourse_treebank/data/RSTtrees-WSJ-main-1.0-nltk-tokenized/TRAINING/wsj_2303.out.dis: Tokenization mismatch: wsj_2303.out.dis (rst) vs. wsj_2303.mrg (ptb)\n",
        "\tCo != Co.\n",
        "Error in /home/arne/repos/rst_discourse_treebank/data/RSTtrees-WSJ-main-1.0-nltk-tokenized/TRAINING/wsj_1170.out.dis: Unexpected child combinations: defaultdict(<type 'list'>, {'Satellite': [0, 2], 'Nucleus': [1]})\n",
        "\n",
        "Error in /home/arne/repos/rst_discourse_treebank/data/RSTtrees-WSJ-main-1.0-nltk-tokenized/TRAINING/wsj_1195.out.dis: Tokenization mismatch: wsj_1195.out.dis (rst) vs. wsj_1195.mrg (ptb)\n",
        "\tCorp. != Corp\n"
       ]
      },
      {
       "output_type": "stream",
       "stream": "stdout",
       "text": [
        "\n",
        "merged: /home/arne/repos/rst_discourse_treebank/data/RSTtrees-WSJ-main-1.0-nltk-tokenized/TRAINING/wsj_1108.out.dis\n"
       ]
      },
      {
       "output_type": "stream",
       "stream": "stdout",
       "text": [
        "\n",
        "merged: /home/arne/repos/rst_discourse_treebank/data/RSTtrees-WSJ-main-1.0-nltk-tokenized/TRAINING/wsj_1310.out.dis\n"
       ]
      },
      {
       "output_type": "stream",
       "stream": "stderr",
       "text": [
        "Error in /home/arne/repos/rst_discourse_treebank/data/RSTtrees-WSJ-main-1.0-nltk-tokenized/TRAINING/wsj_1372.out.dis: Tokenization mismatch: wsj_1372.out.dis (rst) vs. wsj_1372.mrg (ptb)\n",
        "\tUS != US$\n",
        "Error in /home/arne/repos/rst_discourse_treebank/data/RSTtrees-WSJ-main-1.0-nltk-tokenized/TRAINING/wsj_1368.out.dis: Tokenization mismatch: wsj_1368.out.dis (rst) vs. wsj_1368.mrg (ptb)\n",
        "\tS.p != S.p.A.\n"
       ]
      },
      {
       "output_type": "stream",
       "stream": "stdout",
       "text": [
        "\n",
        "merged: /home/arne/repos/rst_discourse_treebank/data/RSTtrees-WSJ-main-1.0-nltk-tokenized/TRAINING/wsj_1976.out.dis\n"
       ]
      },
      {
       "output_type": "stream",
       "stream": "stderr",
       "text": [
        "Error in /home/arne/repos/rst_discourse_treebank/data/RSTtrees-WSJ-main-1.0-nltk-tokenized/TRAINING/wsj_1388.out.dis: Tokenization mismatch: wsj_1388.out.dis (rst) vs. wsj_1388.mrg (ptb)\n",
        "\t. != ...\n",
        "Error in /home/arne/repos/rst_discourse_treebank/data/RSTtrees-WSJ-main-1.0-nltk-tokenized/TRAINING/wsj_1332.out.dis: Tokenization mismatch: wsj_1332.out.dis (rst) vs. wsj_1332.mrg (ptb)\n",
        "\tBancorp != Bancorp.\n"
       ]
      },
      {
       "output_type": "stream",
       "stream": "stdout",
       "text": [
        "\n",
        "merged: /home/arne/repos/rst_discourse_treebank/data/RSTtrees-WSJ-main-1.0-nltk-tokenized/TRAINING/wsj_2341.out.dis\n"
       ]
      },
      {
       "output_type": "stream",
       "stream": "stdout",
       "text": [
        "\n",
        "merged: /home/arne/repos/rst_discourse_treebank/data/RSTtrees-WSJ-main-1.0-nltk-tokenized/TRAINING/wsj_0699.out.dis\n",
        "\n",
        "merged: /home/arne/repos/rst_discourse_treebank/data/RSTtrees-WSJ-main-1.0-nltk-tokenized/TRAINING/wsj_0647.out.dis\n",
        "\n",
        "merged: /home/arne/repos/rst_discourse_treebank/data/RSTtrees-WSJ-main-1.0-nltk-tokenized/TRAINING/wsj_0615.out.dis\n"
       ]
      },
      {
       "output_type": "stream",
       "stream": "stdout",
       "text": [
        "\n",
        "merged: /home/arne/repos/rst_discourse_treebank/data/RSTtrees-WSJ-main-1.0-nltk-tokenized/TRAINING/wsj_0613.out.dis\n",
        "\n",
        "merged: /home/arne/repos/rst_discourse_treebank/data/RSTtrees-WSJ-main-1.0-nltk-tokenized/TRAINING/wsj_0642.out.dis\n",
        "\n"
       ]
      },
      {
       "output_type": "stream",
       "stream": "stderr",
       "text": [
        "Error in /home/arne/repos/rst_discourse_treebank/data/RSTtrees-WSJ-main-1.0-nltk-tokenized/TRAINING/wsj_0695.out.dis: Tokenization mismatch: wsj_0695.out.dis (rst) vs. wsj_0695.mrg (ptb)\n",
        "\tU.S != U.S.\n",
        "Error in /home/arne/repos/rst_discourse_treebank/data/RSTtrees-WSJ-main-1.0-nltk-tokenized/TRAINING/wsj_0680.out.dis: Tokenization mismatch: wsj_0680.out.dis (rst) vs. wsj_0680.mrg (ptb)\n",
        "\ta-Ex-dividend != a\n"
       ]
      }
     ],
     "prompt_number": 20
    },
    {
     "cell_type": "code",
     "collapsed": false,
     "input": [],
     "language": "python",
     "metadata": {},
     "outputs": [],
     "prompt_number": 20
    },
    {
     "cell_type": "code",
     "collapsed": false,
     "input": [
      "os.path.basename(RSTDT_TEST_FILE)"
     ],
     "language": "python",
     "metadata": {},
     "outputs": [
      {
       "metadata": {},
       "output_type": "pyout",
       "prompt_number": 21,
       "text": [
        "'wsj_1306.out.dis'"
       ]
      }
     ],
     "prompt_number": 21
    },
    {
     "cell_type": "code",
     "collapsed": false,
     "input": [
      "PTB_TEST_FILE = os.path.expanduser('~/corpora/pennTreebank/parsed/mrg/wsj/13/wsj_1306.mrg')"
     ],
     "language": "python",
     "metadata": {},
     "outputs": [],
     "prompt_number": 22
    },
    {
     "cell_type": "code",
     "collapsed": false,
     "input": [
      "sent0_root = pdg.sentences[0]\n",
      "ptb_1306_tokens = list(pdg.get_tokens(token_strings_only=True))"
     ],
     "language": "python",
     "metadata": {},
     "outputs": [],
     "prompt_number": 23
    },
    {
     "cell_type": "markdown",
     "metadata": {},
     "source": [
      "# Epic Fail: we can't use nltk's Bracket parser, as it parses (span 1 5) as (span 1)"
     ]
    },
    {
     "cell_type": "code",
     "collapsed": false,
     "input": [
      "rst_tree = parse_rstfile_nltk(RSTDT_TEST_FILE)\n",
      "span_tree = rst_tree[0]\n",
      "print span_tree, span_tree.productions(), span_tree.leaves()\n"
     ],
     "language": "python",
     "metadata": {},
     "outputs": [
      {
       "output_type": "stream",
       "stream": "stdout",
       "text": [
        "(span 1) [span -> '1'] [u'1']\n"
       ]
      }
     ],
     "prompt_number": 24
    },
    {
     "cell_type": "code",
     "collapsed": false,
     "input": [
      "print open(RSTDT_TEST_FILE).read()"
     ],
     "language": "python",
     "metadata": {},
     "outputs": [
      {
       "output_type": "stream",
       "stream": "stdout",
       "text": [
        "( Root (span 1 47)\n",
        "  ( Nucleus (span 1 20) (rel2par span)\n",
        "    ( Nucleus (span 1 14) (rel2par span)\n",
        "      ( Nucleus (span 1 8) (rel2par span)\n",
        "        ( Nucleus (span 1 4) (rel2par Inverted-Sequence)\n",
        "          ( Nucleus (span 1 3) (rel2par span)\n",
        "            ( Satellite (leaf 1) (rel2par attribution) (text _!Tandy Corp. said_!) )\n",
        "            ( Nucleus (span 2 3) (rel2par span)\n",
        "              ( Nucleus (leaf 2) (rel2par span) (text _!it won't join U.S. Memories, the group_!) )\n",
        "              ( Satellite (leaf 3) (rel2par elaboration-object-attribute-e) (text _!that seeks to battle the Japanese in the market for computer memory chips.<P>_!) )\n",
        "            )\n",
        "          )\n",
        "          ( Satellite (leaf 4) (rel2par elaboration-additional) (text _!Tandy's decision is a second setback for U.S. Memories._!) )\n",
        "        )\n",
        "        ( Nucleus (span 5 8) (rel2par Inverted-Sequence)\n",
        "          ( Nucleus (span 5 6) (rel2par span)\n",
        "            ( Satellite (leaf 5) (rel2par attribution) (text _!Last month, Apple Computer Inc. said_!) )\n",
        "            ( Nucleus (leaf 6) (rel2par span) (text _!that it wouldn't invest in the group._!) )\n",
        "          )\n",
        "          ( Satellite (span 7 8) (rel2par reason)\n",
        "            ( Satellite (leaf 7) (rel2par attribution) (text _!Apple said_!) )\n",
        "            ( Nucleus (leaf 8) (rel2par span) (text _!that its money would be better spent in areas such as research and development.<P>_!) )\n",
        "          )\n",
        "        )\n",
        "      )\n",
        "      ( Satellite (span 9 14) (rel2par circumstance)\n",
        "        ( Nucleus (span 9 11) (rel2par span)\n",
        "          ( Nucleus (leaf 9) (rel2par span) (text _!U.S. Memories is seeking major investors to back its attempt_!) )\n",
        "          ( Satellite (span 10 11) (rel2par elaboration-object-attribute-e)\n",
        "            ( Nucleus (leaf 10) (rel2par span) (text _!to crack the $10 billion market for dynamic random access memory chips, a market_!) )\n",
        "            ( Satellite (leaf 11) (rel2par elaboration-object-attribute-e) (text _!dominated by the Japanese._!) )\n",
        "          )\n",
        "        )\n",
        "        ( Satellite (span 12 14) (rel2par elaboration-additional)\n",
        "          ( Nucleus (leaf 12) (rel2par span) (text _!Those chips were in dire shortage last year,_!) )\n",
        "          ( Satellite (span 13 14) (rel2par consequence-s)\n",
        "            ( Nucleus (leaf 13) (rel2par span) (text _!hurting many U.S. computer companies_!) )\n",
        "            ( Satellite (leaf 14) (rel2par elaboration-object-attribute-e) (text _!that couldn't get sufficient Japanese-supplied chips.<P>_!) )\n",
        "          )\n",
        "        )\n",
        "      )\n",
        "    )\n",
        "    ( Satellite (span 15 20) (rel2par reason)\n",
        "      ( Nucleus (span 15 17) (rel2par span)\n",
        "        ( Satellite (leaf 15) (rel2par attribution) (text _!Tandy said_!) )\n",
        "        ( Nucleus (span 16 17) (rel2par span)\n",
        "          ( Nucleus (leaf 16) (rel2par span) (text _!its experience during the shortage didn't merit the $5 million to $50 million investment_!) )\n",
        "          ( Satellite (leaf 17) (rel2par elaboration-object-attribute-e) (text _!U.S. Memories is seeking from each investor._!) )\n",
        "        )\n",
        "      )\n",
        "      ( Satellite (span 18 20) (rel2par explanation-argumentative)\n",
        "        ( Nucleus (span 18 19) (rel2par span)\n",
        "          ( Nucleus (leaf 18) (rel2par span) (text _!\"At this time, we elected not to get involved_!) )\n",
        "          ( Satellite (leaf 19) (rel2par reason) (text _!because we have been able to satisfy our need {for DRAMs} from the market as a rule,\"_!) )\n",
        "        )\n",
        "        ( Satellite (leaf 20) (rel2par attribution) (text _!said Ed Juge, Tandy's director of market planning.<P>_!) )\n",
        "      )\n",
        "    )\n",
        "  )\n",
        "  ( Satellite (span 21 47) (rel2par evaluation-s)\n",
        "    ( Nucleus (span 21 30) (rel2par span)\n",
        "      ( Nucleus (span 21 27) (rel2par span)\n",
        "        ( Nucleus (span 21 23) (rel2par span)\n",
        "          ( Satellite (leaf 21) (rel2par attribution) (text _!Sanford Kane, U.S. Memories president, said_!) )\n",
        "          ( Nucleus (span 22 23) (rel2par span)\n",
        "            ( Satellite (leaf 22) (rel2par antithesis) (text _!the decision was \"disappointing,\"_!) )\n",
        "            ( Nucleus (leaf 23) (rel2par span) (text _!but doesn't presage U.S. Memories' failure._!) )\n",
        "          )\n",
        "        )\n",
        "        ( Satellite (span 24 27) (rel2par elaboration-additional)\n",
        "          ( Satellite (span 24 25) (rel2par antithesis)\n",
        "            ( Nucleus (leaf 24) (rel2par span) (text _!\"I would like to have had them,\"_!) )\n",
        "            ( Satellite (leaf 25) (rel2par attribution) (text _!he said._!) )\n",
        "          )\n",
        "          ( Nucleus (span 26 27) (rel2par span)\n",
        "            ( Nucleus (leaf 26) (rel2par span) (text _!But \"they weren't on my list of companies_!) )\n",
        "            ( Satellite (leaf 27) (rel2par elaboration-object-attribute-e) (text _!who were critical to be a part of it.\"<P>_!) )\n",
        "          )\n",
        "        )\n",
        "      )\n",
        "      ( Satellite (span 28 30) (rel2par elaboration-additional)\n",
        "        ( Nucleus (leaf 28) (rel2par span) (text _!Mr. Kane became president and chief executive officer of U.S. Memories last June,_!) )\n",
        "        ( Satellite (span 29 30) (rel2par temporal-same-time)\n",
        "          ( Nucleus (leaf 29) (rel2par span) (text _!when the group was formed by seven electronics companies:_!) )\n",
        "          ( Satellite (leaf 30) (rel2par elaboration-set-member-e) (text _!Advanced Micro Devices Inc., Digital Equipment Corp.; Hewlett-Packard Co.; Intel Corp.; International Business Machines Corp.; LSI Logic Corp. and National Semiconductor Corp.<P>_!) )\n",
        "        )\n",
        "      )\n",
        "    )\n",
        "    ( Satellite (span 31 47) (rel2par elaboration-general-specific)\n",
        "      ( Nucleus (span 31 36) (rel2par Contrast)\n",
        "        ( Nucleus (span 31 33) (rel2par span)\n",
        "          ( Satellite (leaf 31) (rel2par attribution) (text _!Mr. Kane said_!) )\n",
        "          ( Nucleus (span 32 33) (rel2par span)\n",
        "            ( Nucleus (leaf 32) (rel2par span) (text _!he expects two or three major corporations to announce their participation in U.S. Memories_!) )\n",
        "            ( Satellite (leaf 33) (rel2par temporal-after) (text _!soon after the group finishes a business plan, probably late this week._!) )\n",
        "          )\n",
        "        )\n",
        "        ( Satellite (span 34 36) (rel2par comment)\n",
        "          ( Nucleus (span 34 35) (rel2par span)\n",
        "            ( Nucleus (leaf 34) (rel2par span) (text _!U.S. Memories needs a catalyst,_!) )\n",
        "            ( Satellite (leaf 35) (rel2par attribution) (text _!he said,_!) )\n",
        "          )\n",
        "          ( Satellite (leaf 36) (rel2par elaboration-object-attribute-e) (text _!to inspire others to join.<P>_!) )\n",
        "        )\n",
        "      )\n",
        "      ( Nucleus (span 37 47) (rel2par Contrast)\n",
        "        ( Nucleus (leaf 37) (rel2par span) (text _!But so far, most potential participants haven't decided._!) )\n",
        "        ( Satellite (span 38 47) (rel2par elaboration-general-specific)\n",
        "          ( Nucleus (span 38 40) (rel2par List)\n",
        "            ( Satellite (leaf 38) (rel2par attribution) (text _!Sun Microsystems Inc. said_!) )\n",
        "            ( Nucleus (span 39 40) (rel2par span)\n",
        "              ( Nucleus (leaf 39) (rel2par Sequence) (text _!it's still actively evaluating U.S. Memories_!) )\n",
        "              ( Nucleus (leaf 40) (rel2par Sequence) (text _!and plans to meet with U.S. Memories representatives later this week.<P>_!) )\n",
        "            )\n",
        "          )\n",
        "          ( Nucleus (span 41 42) (rel2par List)\n",
        "            ( Satellite (leaf 41) (rel2par attribution) (text _!American Telephone & Telegraph Co. said_!) )\n",
        "            ( Nucleus (leaf 42) (rel2par span) (text _!it was waiting to see U.S. Memories' business plan._!) )\n",
        "          )\n",
        "          ( Nucleus (span 43 44) (rel2par List)\n",
        "            ( Satellite (leaf 43) (rel2par attribution) (text _!Personal-computer maker AST Research Inc. said_!) )\n",
        "            ( Nucleus (leaf 44) (rel2par span) (text _!it is still studying the situation.<P>_!) )\n",
        "          )\n",
        "          ( Nucleus (span 45 47) (rel2par List)\n",
        "            ( Satellite (leaf 45) (rel2par attribution) (text _!A Compaq Computer Corp. spokeswoman said_!) )\n",
        "            ( Nucleus (span 46 47) (rel2par span)\n",
        "              ( Nucleus (leaf 46) (rel2par span) (text _!that the company hasn't made a decision yet,_!) )\n",
        "              ( Satellite (leaf 47) (rel2par concession) (text _!although \"it isn't under active consideration.\"_!) )\n",
        "            )\n",
        "          )\n",
        "        )\n",
        "      )\n",
        "    )\n",
        "  )\n",
        ")\n",
        "\n"
       ]
      }
     ],
     "prompt_number": 25
    },
    {
     "cell_type": "code",
     "collapsed": false,
     "input": [],
     "language": "python",
     "metadata": {},
     "outputs": [],
     "prompt_number": 25
    }
   ],
   "metadata": {}
  }
 ]
}