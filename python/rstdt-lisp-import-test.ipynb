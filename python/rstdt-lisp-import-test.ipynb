{
 "metadata": {
  "name": "",
  "signature": "sha256:4df0120ffb2cd9e53f6bb8264dc3313934ed69f59a1efb95e5f0dd0645d8d735"
 },
 "nbformat": 3,
 "nbformat_minor": 0,
 "worksheets": [
  {
   "cells": [
    {
     "cell_type": "heading",
     "level": 1,
     "metadata": {},
     "source": [
      "parse RST-DT documents in LISP/S-Expression format"
     ]
    },
    {
     "cell_type": "markdown",
     "metadata": {},
     "source": [
      "* RST-DT *.rs3 files are broken, cf. my notebook on [RST-DT/PTB merging](rstdt-ptb-merging.ipynb)\n",
      "* **only use the `*.dis` files**, the `*.lisp.name` and `*.step.name` may be broken, too\n",
      "* the RST-DT people probably used [Marcu's tools](http://www.isi.edu/~marcu/discourse/utilities/index.html)  \n",
      "  to convert their annotations into *.dis format\n",
      "\n",
      "The RST Discourse Treebank contains 385 WSJ articles from PTB with Rhetorical Structure Theory (RST) annotations.\n",
      "\n",
      "The following information was taken from the RST-DT documentation:\n",
      "\n",
      "## RSTtrees-WSJ-main-1.0\n",
      "This directory contains 385 Wall Street Journal articles, broken into TRAINING (347 documents) and TEST (38 documents) sub-directories.\n",
      "\n",
      "Filenames are in one of two forms:\n",
      "* wsj_####.ext (380 documents)\n",
      "* file#.ext(5 documents)\n",
      "\n",
      "The 5 files named file# were identified as the following filenames in Treebank-2:\n",
      "\n",
      "* file1 - 07/wsj_0764\n",
      "* file2 - 04/wsj_0430\n",
      "* file3 - 07/wsj_0766\n",
      "* file4 - 07/wsj_0778\n",
      "* file5 - 21/wsj_2172\n",
      "\n",
      "(More information is available in a\n",
      "[compressed file](ftp://ftp.ldc.upenn.edu/pub/ldc/data_samples/pennTB_tipster_wsj_map.tar.gz)\n",
      "via ftp, which provides the relationship between the 2,499 PTB filenames and the corresponding WSJ DOCNO strings in TIPSTER.)\n",
      "\n",
      "### <docno>.rst/\n",
      "\n",
      "A directory with three files:  \n",
      "\n",
      "* **`<docno>.lisp.name`** - discourse structure created by a human judge for a text.\n",
      "* **`<docno>.step.name`** - list of all human actions taken  \n",
      "  during the creation of the discourse structure\n",
      "* **`##`** -- a file with an integer as its name - temp file;  \n",
      "  contains last human action during creation of the discourse structure\n",
      "\t\n",
      "All annotations were produced using a discourse annotation tool that can be downloaded from http://www.isi.edu/~marcu/discourse.\n",
      "\n",
      "The files in the .rst directories are **provided only** to enable interested users **to visualize and print in a convenient format** the discourse annotations in the corpus.\n",
      "\n",
      "* **`<docno>.dis``** - contains the manually annotated discourse structure  \n",
      "  of the file **`<docno>`**  \n",
      "  The .dis files were generated automatically from the **`.step`** and **`.lisp`**  \n",
      "  files using a mapping program.  \n",
      "  More information about this program is available at http://www.isi.edu/~marcu/discourse.\n",
      "\n",
      "**IMPORTANT NOTE**: The **.lisp files may contain errors** introduced by the discourse annotation tool. Please **use the .lisp and .step files only for visualizing the trees**.  \n",
      "**Use the .dis files for training/testing purposes** (the mapping program that produced the .dis file was written so as to eliminate the errors introduced by the annotation tool).\n",
      "\n",
      "* **`<docno>.edus`** - edus (elementary discourse units) listed line by line.\n",
      "\n",
      "## RSTtrees-WSJ-double-1.0\n",
      "This directory contains the same types of files as the subdirectory RSTtrees-WSJ-main-1.0, for 53 documents which were reviewed by a second analyst. "
     ]
    },
    {
     "cell_type": "code",
     "collapsed": false,
     "input": [
      "import os\n",
      "import sys\n",
      "import glob\n",
      "\n",
      "import nltk\n",
      "\n",
      "RSTDT_MAIN_ROOT = os.path.expanduser('~/corpora/rst_discourse_treebank/data/RSTtrees-WSJ-main-1.0')\n",
      "RSTDT_DOUBLE_ROOT = os.path.expanduser('~/corpora/rst_discourse_treebank/data/RSTtrees-WSJ-double-1.0')\n",
      "\n",
      "RSTDT_TEST_FILE = os.path.join(RSTDT_MAIN_ROOT, 'TEST', 'wsj_1197.out.dis')"
     ],
     "language": "python",
     "metadata": {},
     "outputs": [],
     "prompt_number": 33
    },
    {
     "cell_type": "markdown",
     "metadata": {},
     "source": [
      "# Find unparsable files\n",
      "\n",
      "* only 3 files that nltk's Bracket parser can't handle at all"
     ]
    },
    {
     "cell_type": "code",
     "collapsed": false,
     "input": [
      "FILES_UNPARSABLE_WITH_NLTK = set([\n",
      "    '/home/arne/corpora/rst_discourse_treebank/data/RSTtrees-WSJ-main-1.0/TRAINING/wsj_1107.out.dis',\n",
      "    '/home/arne/corpora/rst_discourse_treebank/data/RSTtrees-WSJ-main-1.0/TRAINING/wsj_2353.out.dis',\n",
      "    '/home/arne/corpora/rst_discourse_treebank/data/RSTtrees-WSJ-main-1.0/TRAINING/wsj_2367.out.dis'])"
     ],
     "language": "python",
     "metadata": {},
     "outputs": [],
     "prompt_number": 2
    },
    {
     "cell_type": "code",
     "collapsed": false,
     "input": [
      "def get_nodelabel(node):\n",
      "    \"\"\"returns the node label of an nltk Tree or one of its subtrees\"\"\"\n",
      "    if isinstance(node, nltk.tree.Tree):\n",
      "        return node.label()\n",
      "    elif isinstance(node, unicode):\n",
      "        return node.encode('utf-8')\n",
      "    else:\n",
      "        raise ValueError(\"Unexpected node type: {}, {}\".format(type(node), node))"
     ],
     "language": "python",
     "metadata": {},
     "outputs": [],
     "prompt_number": 3
    },
    {
     "cell_type": "code",
     "collapsed": false,
     "input": [
      "from nltk.corpus.reader import BracketParseCorpusReader\n",
      "\n",
      "def parse_rstfile_nltk(rst_filepath):\n",
      "    \"\"\"parse a *.dis RST file into an nltk.tree.Tree\"\"\"\n",
      "    rst_path, rst_filename = os.path.split(rst_fpath)\n",
      "    parsed_doc = BracketParseCorpusReader(rst_path, [rst_filename])\n",
      "    parsed_sents_iter = parsed_doc.parsed_sents()\n",
      "    return parsed_sents_iter[0] # there's only one tree in a *.dis"
     ],
     "language": "python",
     "metadata": {},
     "outputs": [],
     "prompt_number": 4
    },
    {
     "cell_type": "code",
     "collapsed": false,
     "input": [
      "from collections import defaultdict\n",
      "\n",
      "def nested_tree_count(tree, result_dict=None):\n",
      "    if not result_dict:\n",
      "        result_dict = defaultdict(lambda : defaultdict(int))\n",
      "    for i, subtree in enumerate(tree):\n",
      "        if isinstance(subtree, nltk.tree.Tree) and subtree.label() in ('Nucleus', 'Satellite'):\n",
      "            rhs = tuple([get_nodelabel(st) for st in subtree])\n",
      "            result_dict[get_nodelabel(subtree)][rhs] += 1\n",
      "            if rhs[0] == u'leaf' and len(rhs) != 3: # (leaf, rel2par, text)\n",
      "                raise ValueError('Badly escaped s-expression\\n{}\\n'.format(subtree))\n",
      "            nested_tree_count(subtree, result_dict)"
     ],
     "language": "python",
     "metadata": {},
     "outputs": [],
     "prompt_number": 5
    },
    {
     "cell_type": "markdown",
     "metadata": {},
     "source": [
      "# Files with bad escaping\n",
      "\n",
      "* 22 badly escaped files\n",
      "\n",
      "## \"(\" and \")\" aren't escaped in text field!\n",
      "\n",
      "* /home/arne/corpora/rst_discourse_treebank/data/RSTtrees-WSJ-main-1.0/TRAINING/wsj_0612.out.dis\n",
      "\n",
      "```\n",
      "  ( Satellite (span 22 28) (rel2par elaboration-set-member-e)\n",
      "    ( Nucleus (span 22 23) (rel2par span)\n",
      "      ( Nucleus (leaf 22) (rel2par span) (text _!Canadian Imperial Bank of Commerce_!) )\n",
      "      ( Satellite (leaf 23) (rel2par elaboration-additional) (text _!(Canada) --_!) )\n",
      "    )\n",
      "```"
     ]
    },
    {
     "cell_type": "code",
     "collapsed": false,
     "input": [
      "BADLY_ESCAPED_FILES = set()\n",
      "\n",
      "for folder in ('TEST', 'TRAINING'):\n",
      "    for rst_fpath in glob.glob(os.path.join(RSTDT_MAIN_ROOT, folder, '*.dis')):\n",
      "        if rst_fpath not in FILES_UNPARSABLE_WITH_NLTK:\n",
      "            rst_tree = parse_rstfile_nltk(rst_fpath)\n",
      "            try:\n",
      "                nested_tree_count(rst_tree)\n",
      "            except ValueError as e:\n",
      "                BADLY_ESCAPED_FILES.add(rst_fpath)\n",
      "                sys.stderr.write('Badly escaped file {}\\n'.format(rst_fpath))"
     ],
     "language": "python",
     "metadata": {},
     "outputs": [
      {
       "output_type": "stream",
       "stream": "stderr",
       "text": [
        "Badly escaped file /home/arne/corpora/rst_discourse_treebank/data/RSTtrees-WSJ-main-1.0/TEST/wsj_1376.out.dis\n",
        "Badly escaped file /home/arne/corpora/rst_discourse_treebank/data/RSTtrees-WSJ-main-1.0/TRAINING/wsj_2343.out.dis\n"
       ]
      },
      {
       "output_type": "stream",
       "stream": "stderr",
       "text": [
        "Badly escaped file /home/arne/corpora/rst_discourse_treebank/data/RSTtrees-WSJ-main-1.0/TRAINING/wsj_1164.out.dis\n",
        "Badly escaped file /home/arne/corpora/rst_discourse_treebank/data/RSTtrees-WSJ-main-1.0/TRAINING/wsj_1128.out.dis\n"
       ]
      },
      {
       "output_type": "stream",
       "stream": "stderr",
       "text": [
        "Badly escaped file /home/arne/corpora/rst_discourse_treebank/data/RSTtrees-WSJ-main-1.0/TRAINING/wsj_1140.out.dis\n",
        "Badly escaped file /home/arne/corpora/rst_discourse_treebank/data/RSTtrees-WSJ-main-1.0/TRAINING/wsj_0603.out.dis\n"
       ]
      },
      {
       "output_type": "stream",
       "stream": "stderr",
       "text": [
        "Badly escaped file /home/arne/corpora/rst_discourse_treebank/data/RSTtrees-WSJ-main-1.0/TRAINING/wsj_1163.out.dis\n",
        "Badly escaped file /home/arne/corpora/rst_discourse_treebank/data/RSTtrees-WSJ-main-1.0/TRAINING/wsj_0608.out.dis\n"
       ]
      },
      {
       "output_type": "stream",
       "stream": "stderr",
       "text": [
        "Badly escaped file /home/arne/corpora/rst_discourse_treebank/data/RSTtrees-WSJ-main-1.0/TRAINING/wsj_1373.out.dis\n",
        "Badly escaped file /home/arne/corpora/rst_discourse_treebank/data/RSTtrees-WSJ-main-1.0/TRAINING/wsj_1302.out.dis\n"
       ]
      },
      {
       "output_type": "stream",
       "stream": "stderr",
       "text": [
        "Badly escaped file /home/arne/corpora/rst_discourse_treebank/data/RSTtrees-WSJ-main-1.0/TRAINING/wsj_1389.out.dis\n",
        "Badly escaped file /home/arne/corpora/rst_discourse_treebank/data/RSTtrees-WSJ-main-1.0/TRAINING/wsj_1131.out.dis\n"
       ]
      },
      {
       "output_type": "stream",
       "stream": "stderr",
       "text": [
        "Badly escaped file /home/arne/corpora/rst_discourse_treebank/data/RSTtrees-WSJ-main-1.0/TRAINING/wsj_1328.out.dis\n",
        "Badly escaped file /home/arne/corpora/rst_discourse_treebank/data/RSTtrees-WSJ-main-1.0/TRAINING/wsj_0611.out.dis\n"
       ]
      },
      {
       "output_type": "stream",
       "stream": "stderr",
       "text": [
        "Badly escaped file /home/arne/corpora/rst_discourse_treebank/data/RSTtrees-WSJ-main-1.0/TRAINING/wsj_0605.out.dis\n",
        "Badly escaped file /home/arne/corpora/rst_discourse_treebank/data/RSTtrees-WSJ-main-1.0/TRAINING/wsj_1397.out.dis\n"
       ]
      },
      {
       "output_type": "stream",
       "stream": "stderr",
       "text": [
        "Badly escaped file /home/arne/corpora/rst_discourse_treebank/data/RSTtrees-WSJ-main-1.0/TRAINING/wsj_0614.out.dis\n",
        "Badly escaped file /home/arne/corpora/rst_discourse_treebank/data/RSTtrees-WSJ-main-1.0/TRAINING/wsj_0692.out.dis\n",
        "Badly escaped file /home/arne/corpora/rst_discourse_treebank/data/RSTtrees-WSJ-main-1.0/TRAINING/wsj_0676.out.dis\n"
       ]
      },
      {
       "output_type": "stream",
       "stream": "stderr",
       "text": [
        "Badly escaped file /home/arne/corpora/rst_discourse_treebank/data/RSTtrees-WSJ-main-1.0/TRAINING/wsj_0629.out.dis\n",
        "Badly escaped file /home/arne/corpora/rst_discourse_treebank/data/RSTtrees-WSJ-main-1.0/TRAINING/wsj_0633.out.dis\n",
        "Badly escaped file /home/arne/corpora/rst_discourse_treebank/data/RSTtrees-WSJ-main-1.0/TRAINING/wsj_1367.out.dis\n"
       ]
      }
     ],
     "prompt_number": 6
    },
    {
     "cell_type": "code",
     "collapsed": false,
     "input": [
      "len(BADLY_ESCAPED_FILES)"
     ],
     "language": "python",
     "metadata": {},
     "outputs": [
      {
       "metadata": {},
       "output_type": "pyout",
       "prompt_number": 7,
       "text": [
        "22"
       ]
      }
     ],
     "prompt_number": 7
    },
    {
     "cell_type": "markdown",
     "metadata": {},
     "source": [
      "# Files unparsable with sexpdata (due to bad bracketing)\n",
      "\n",
      "* 113 files that aren't valid s-expressions (nltk parses them, as it is very forgiving)"
     ]
    },
    {
     "cell_type": "code",
     "collapsed": false,
     "input": [
      "import sys\n",
      "import traceback\n",
      "import sexpdata\n",
      "\n",
      "def parse_rstfile_sexpdata(rst_filepath):\n",
      "    with open(rst_fpath) as rstfile:\n",
      "        try:\n",
      "            return sexpdata.load(rstfile)\n",
      "        except sexpdata.ExpectClosingBracket as e:\n",
      "            raise ValueError(u\"{}\\n{}\\n\\n\".format(rst_fpath, e))\n",
      "        except sexpdata.ExpectNothing as e:\n",
      "            error_msg = e.args[0][:100] # complete msg contains whole document\n",
      "            raise ValueError(u\"{}\\n{}...\\n\\n\".format(rst_fpath, e.args[0][:100]))\n",
      "        except AssertionError as e:\n",
      "            raise ValueError(u\"{}\\n{}\\n\\n\".format(rst_fpath, traceback.format_exc()))\n",
      "        except AttributeError as e:\n",
      "            raise ValueError(u\"{}\\n{}\\n\\n\".format(rst_fpath, traceback.format_exc()))"
     ],
     "language": "python",
     "metadata": {},
     "outputs": [],
     "prompt_number": 8
    },
    {
     "cell_type": "code",
     "collapsed": false,
     "input": [
      "FILES_UNPARSABLE_WITH_SEXPDATA = set()\n",
      "for folder in ('TEST', 'TRAINING'):\n",
      "    for rst_fpath in glob.glob(os.path.join(RSTDT_MAIN_ROOT, folder, '*.dis')):\n",
      "        try:\n",
      "            parse_rstfile_sexpdata(rst_fpath)\n",
      "        except ValueError as e:\n",
      "            FILES_UNPARSABLE_WITH_SEXPDATA.add(rst_fpath)"
     ],
     "language": "python",
     "metadata": {},
     "outputs": [],
     "prompt_number": 9
    },
    {
     "cell_type": "code",
     "collapsed": false,
     "input": [
      "len(FILES_UNPARSABLE_WITH_SEXPDATA)"
     ],
     "language": "python",
     "metadata": {},
     "outputs": [
      {
       "metadata": {},
       "output_type": "pyout",
       "prompt_number": 10,
       "text": [
        "113"
       ]
      }
     ],
     "prompt_number": 10
    },
    {
     "cell_type": "markdown",
     "metadata": {},
     "source": [
      "# try parsing files into graphs"
     ]
    },
    {
     "cell_type": "markdown",
     "metadata": {},
     "source": [
      "## Summary of RST tree rules\n",
      "\n",
      "* Root --> span (N+ | N S | S N)\n",
      "* Nucleus --> leaf rel2par text (N | S | re.compile('.*_!') )?\n",
      "* Nucleus --> span rel2par (N+ | N S | S N | S N S)\n",
      "* Satellite --> leaf rel2par text (N | re.compile('.*_!') )?\n",
      "* Satellite --> span rel2par (N+ | N S | S | S N | S N S)\n",
      "* rel2par --> any RST relation string"
     ]
    },
    {
     "cell_type": "code",
     "collapsed": false,
     "input": [
      "def get_nodelabel(node):\n",
      "    if isinstance(node, nltk.tree.Tree):\n",
      "        return node.label()\n",
      "    elif isinstance(node, unicode):\n",
      "        return node.encode('utf-8')\n",
      "    else:\n",
      "        raise ValueError(\"Unexpected node type: {}, {}\".format(type(node), node))"
     ],
     "language": "python",
     "metadata": {},
     "outputs": [],
     "prompt_number": 11
    },
    {
     "cell_type": "code",
     "collapsed": false,
     "input": [
      "# def parse_leaf(tree):\n",
      "#     for subtree in tree:\n",
      "#         node_label = get_nodelabel(subtree)\n",
      "#         if node_label == 'leaf':\n",
      "#             leaf_node_id = 'rst:edu:{}'.format(subtree.leaves()[0])\n",
      "#             RST_LISP_GRAPH.node[RST_LISP_GRAPH._node_id]['label'] = leaf_node_id\n",
      "#         elif node_label == 'rel2par':\n",
      "#             RST_LISP_GRAPH.node[RST_LISP_GRAPH._node_id]['rel_type'] = subtree.leaves()[0]\n",
      "#         elif node_label == 'text':\n",
      "#             RST_LISP_GRAPH.node[RST_LISP_GRAPH._node_id]['rst:text'] = u' '.join(subtree.leaves())\n",
      "#         else:\n",
      "#             raise ValueError(\"Unknown subtree in leaf position: {}\".format(tree))"
     ],
     "language": "python",
     "metadata": {},
     "outputs": [],
     "prompt_number": 12
    },
    {
     "cell_type": "code",
     "collapsed": false,
     "input": [
      "import discoursegraphs as dg\n",
      "from collections import Counter\n",
      "\n",
      "class RSTLispDocumentGraph(dg.DiscourseDocumentGraph):\n",
      "    \"\"\"\n",
      "    A directed graph with multiple edges (based on a networkx\n",
      "    MultiDiGraph) that represents the rhetorical structure of a\n",
      "    document.\n",
      "\n",
      "    Attributes\n",
      "    ----------\n",
      "    name : str\n",
      "        name, ID of the document or file name of the input file\n",
      "    ns : str\n",
      "        the namespace of the document (default: rst)\n",
      "    root : str\n",
      "        name of the document root node ID\n",
      "    tokens : list of str\n",
      "        sorted list of all token node IDs contained in this document graph\n",
      "    \"\"\"\n",
      "    def __init__(self, dis_filepath, name=None, namespace='rst',\n",
      "                 tokenize=True, precedence=False):\n",
      "        \"\"\"\n",
      "        Creates an RSTLispDocumentGraph from a Rhetorical Structure *.dis file and adds metadata\n",
      "        to it.\n",
      "\n",
      "        Parameters\n",
      "        ----------\n",
      "        dis_filepath : str\n",
      "            absolute or relative path to the Rhetorical Structure *.dis file to be\n",
      "            parsed.\n",
      "        name : str or None\n",
      "            the name or ID of the graph to be generated. If no name is\n",
      "            given, the basename of the input file is used.\n",
      "        namespace : str\n",
      "            the namespace of the document (default: rst)\n",
      "        precedence : bool\n",
      "            If True, add precedence relation edges\n",
      "            (root precedes token1, which precedes token2 etc.)\n",
      "        \"\"\"\n",
      "        # super calls __init__() of base class DiscourseDocumentGraph\n",
      "        super(RSTLispDocumentGraph, self).__init__()\n",
      "\n",
      "        self.name = name if name else os.path.basename(dis_filepath)\n",
      "        self.ns = namespace\n",
      "        self.root = 0\n",
      "        self.add_node(self.root, layers={self.ns}, label=self.ns+':root_node')\n",
      "        if 'discoursegraph:root_node' in self:\n",
      "            self.remove_node('discoursegraph:root_node')\n",
      "        \n",
      "        self.tokens = []\n",
      "        self._current_node_id = self.get_lowest_unused_node_id()\n",
      "\n",
      "        rst_tree = parse_rstfile_nltk(dis_filepath)\n",
      "        self.parse_rst_tree(rst_tree)\n",
      "        \n",
      "    def parse_rst_tree(self, tree, parent_node_id=None):\n",
      "        node_label = get_nodelabel(tree)\n",
      "        if node_label == u'Root':\n",
      "            self.node[self.root]['label'] = node_label\n",
      "\n",
      "        for subtree in tree:\n",
      "            if isinstance(subtree, nltk.tree.Tree) and subtree.label() in ('Nucleus', 'Satellite'):\n",
      "                node_type = subtree[0]\n",
      "                if node_type.label() == u'leaf':\n",
      "                    relation, text, children = subtree[1], subtree[2], subtree[3:]\n",
      "                    assert not children, \"A leaf node must not have any children: {}\".format(subtree)\n",
      "                    leaf_node_id = 'rst:edu:{}'.format(subtree.leaves()[0])\n",
      "                    leaf_attribs = {'label': leaf_node_id,\n",
      "                                    'rel_type': relation.leaves()[0],\n",
      "                                    'rst:text': u' '.join(text.leaves())}\n",
      "                    if self._current_node_id in self:\n",
      "                        self.node[self._current_node_id].update(leaf_attribs)\n",
      "                    else:\n",
      "                        self.add_node(self._current_node_id, node_attribs=leaf_attribs)\n",
      "\n",
      "                elif node_type.label() == u'span':\n",
      "                    parent_node_id = self._current_node_id\n",
      "                    relation, children = subtree[1], subtree[2:]\n",
      "                    child_map = defaultdict(list)\n",
      "#                     child_counts = Counter(get_nodelabel(child) for child in children)\n",
      "                    for child_index, child in enumerate(children):\n",
      "                        child_node_id = self.get_lowest_unused_node_id()\n",
      "                        child_label = get_nodelabel(child)\n",
      "                        self.add_node(child_node_id, label=child_label)\n",
      "                        child_map[child_label].append( (child_index, child_node_id) )\n",
      "                    \n",
      "                    if u'Satellite' not in child_map: # only nucleii -> multinuc\n",
      "                        for child_index, child_node_id in child_map[u'Nucleus']:\n",
      "                            self.add_edge(parent_node_id, child_node_id)\n",
      "\n",
      "\n",
      "                else:\n",
      "                    raise ValueError(\"Unexpected node type: {}\".format(node_type))\n",
      "                \n",
      "            elif isinstance(subtree, nltk.tree.Tree) and subtree.label() == u'span': # root span\n",
      "                pass\n",
      "            else:\n",
      "                raise ValueError(\"Unexpected subtree: {}\".format(subtree))\n",
      "\n",
      "        \n",
      "    def get_lowest_unused_node_id(self):\n",
      "        \"\"\"\n",
      "        returns the lowest integer that isn't already used as a node ID.\n",
      "        TODO: rewrite; highly inefficient\n",
      "        \"\"\"\n",
      "        return max(node for node in self.nodes() if isinstance(node, int)) + 1   \n",
      "\n",
      "                            \n",
      "            \n",
      "    "
     ],
     "language": "python",
     "metadata": {},
     "outputs": [],
     "prompt_number": 49
    },
    {
     "cell_type": "code",
     "collapsed": false,
     "input": [
      "rst_tree = parse_rstfile_nltk(RSTDT_TEST_FILE)\n",
      "get_nodelabel(rst_tree)"
     ],
     "language": "python",
     "metadata": {},
     "outputs": [
      {
       "metadata": {},
       "output_type": "pyout",
       "prompt_number": 50,
       "text": [
        "u'Root'"
       ]
      }
     ],
     "prompt_number": 50
    },
    {
     "cell_type": "code",
     "collapsed": false,
     "input": [
      "# rst_tree = parse_rstfile_nltk(RSTDT_TEST_FILE)\n",
      "rdg = RSTLispDocumentGraph(RSTDT_TEST_FILE)"
     ],
     "language": "python",
     "metadata": {},
     "outputs": [],
     "prompt_number": 51
    },
    {
     "cell_type": "code",
     "collapsed": false,
     "input": [
      "%load_ext gvmagic\n",
      "%dotstr dg.print_dot(rdg)"
     ],
     "language": "python",
     "metadata": {},
     "outputs": [
      {
       "output_type": "stream",
       "stream": "stdout",
       "text": [
        "The gvmagic extension is already loaded. To reload it, use:\n",
        "  %reload_ext gvmagic\n"
       ]
      },
      {
       "metadata": {},
       "output_type": "display_data",
       "svg": [
        "<?xml version=\"1.0\" encoding=\"UTF-8\" standalone=\"no\"?>\n",
        "<!DOCTYPE svg PUBLIC \"-//W3C//DTD SVG 1.1//EN\"\n",
        " \"http://www.w3.org/Graphics/SVG/1.1/DTD/svg11.dtd\">\n",
        "<!-- Generated by graphviz version 2.36.0 (20140111.2315)\n",
        " -->\n",
        "<!-- Title: wsj_1197.out.dis Pages: 1 -->\n",
        "<svg width=\"1850pt\" height=\"116pt\"\n",
        " viewBox=\"0.00 0.00 1850.00 116.00\" xmlns=\"http://www.w3.org/2000/svg\" xmlns:xlink=\"http://www.w3.org/1999/xlink\">\n",
        "<g id=\"graph0\" class=\"graph\" transform=\"scale(1 1) rotate(0) translate(4 112)\">\n",
        "<title>wsj_1197.out.dis</title>\n",
        "<polygon fill=\"white\" stroke=\"none\" points=\"-4,4 -4,-112 1846,-112 1846,4 -4,4\"/>\n",
        "<!-- 0 -->\n",
        "<g id=\"node1\" class=\"node\"><title>0</title>\n",
        "<ellipse fill=\"none\" stroke=\"black\" cx=\"147\" cy=\"-90\" rx=\"27.4223\" ry=\"18\"/>\n",
        "<text text-anchor=\"middle\" x=\"147\" y=\"-86.3\" font-family=\"Times,serif\" font-size=\"14.00\">Root</text>\n",
        "</g>\n",
        "<!-- 1 -->\n",
        "<g id=\"node2\" class=\"node\"><title>1</title>\n",
        "<ellipse fill=\"none\" stroke=\"black\" cx=\"233\" cy=\"-90\" rx=\"39.4691\" ry=\"18\"/>\n",
        "<text text-anchor=\"middle\" x=\"233\" y=\"-86.3\" font-family=\"Times,serif\" font-size=\"14.00\">Nucleus</text>\n",
        "</g>\n",
        "<!-- 1&#45;&gt;1 -->\n",
        "<g id=\"edge1\" class=\"edge\"><title>1&#45;&gt;1</title>\n",
        "<path fill=\"none\" stroke=\"black\" d=\"M260.566,-102.854C275.889,-105.253 290,-100.969 290,-90 290,-81.5164 281.559,-77.0312 270.644,-76.5444\"/>\n",
        "<polygon fill=\"black\" stroke=\"black\" points=\"270.339,-73.0563 260.566,-77.146 270.756,-80.0439 270.339,-73.0563\"/>\n",
        "</g>\n",
        "<!-- 2 -->\n",
        "<g id=\"node3\" class=\"node\"><title>2</title>\n",
        "<ellipse fill=\"none\" stroke=\"black\" cx=\"39\" cy=\"-18\" rx=\"39.4691\" ry=\"18\"/>\n",
        "<text text-anchor=\"middle\" x=\"39\" y=\"-14.3\" font-family=\"Times,serif\" font-size=\"14.00\">Nucleus</text>\n",
        "</g>\n",
        "<!-- 1&#45;&gt;2 -->\n",
        "<g id=\"edge2\" class=\"edge\"><title>1&#45;&gt;2</title>\n",
        "<path fill=\"none\" stroke=\"black\" d=\"M203.113,-78.2159C169.647,-66.1407 115.277,-46.5226 78.3698,-33.2056\"/>\n",
        "<polygon fill=\"black\" stroke=\"black\" points=\"79.5157,-29.8982 68.9213,-29.7963 77.1398,-36.4827 79.5157,-29.8982\"/>\n",
        "</g>\n",
        "<!-- 3 -->\n",
        "<g id=\"node4\" class=\"node\"><title>3</title>\n",
        "<ellipse fill=\"none\" stroke=\"black\" cx=\"136\" cy=\"-18\" rx=\"39.4691\" ry=\"18\"/>\n",
        "<text text-anchor=\"middle\" x=\"136\" y=\"-14.3\" font-family=\"Times,serif\" font-size=\"14.00\">Nucleus</text>\n",
        "</g>\n",
        "<!-- 1&#45;&gt;3 -->\n",
        "<g id=\"edge3\" class=\"edge\"><title>1&#45;&gt;3</title>\n",
        "<path fill=\"none\" stroke=\"black\" d=\"M212.902,-74.496C198.855,-64.3594 179.901,-50.6814 164.326,-39.4412\"/>\n",
        "<polygon fill=\"black\" stroke=\"black\" points=\"166.23,-36.4992 156.073,-33.4855 162.134,-42.1755 166.23,-36.4992\"/>\n",
        "</g>\n",
        "<!-- 4 -->\n",
        "<g id=\"node5\" class=\"node\"><title>4</title>\n",
        "<ellipse fill=\"none\" stroke=\"black\" cx=\"233\" cy=\"-18\" rx=\"39.4691\" ry=\"18\"/>\n",
        "<text text-anchor=\"middle\" x=\"233\" y=\"-14.3\" font-family=\"Times,serif\" font-size=\"14.00\">Nucleus</text>\n",
        "</g>\n",
        "<!-- 1&#45;&gt;4 -->\n",
        "<g id=\"edge4\" class=\"edge\"><title>1&#45;&gt;4</title>\n",
        "<path fill=\"none\" stroke=\"black\" d=\"M233,-71.6966C233,-63.9827 233,-54.7125 233,-46.1124\"/>\n",
        "<polygon fill=\"black\" stroke=\"black\" points=\"236.5,-46.1043 233,-36.1043 229.5,-46.1044 236.5,-46.1043\"/>\n",
        "</g>\n",
        "<!-- 13 -->\n",
        "<g id=\"node6\" class=\"node\"><title>13</title>\n",
        "<ellipse fill=\"none\" stroke=\"black\" cx=\"330\" cy=\"-18\" rx=\"39.4691\" ry=\"18\"/>\n",
        "<text text-anchor=\"middle\" x=\"330\" y=\"-14.3\" font-family=\"Times,serif\" font-size=\"14.00\">Nucleus</text>\n",
        "</g>\n",
        "<!-- 1&#45;&gt;13 -->\n",
        "<g id=\"edge5\" class=\"edge\"><title>1&#45;&gt;13</title>\n",
        "<path fill=\"none\" stroke=\"black\" d=\"M253.098,-74.496C267.145,-64.3594 286.099,-50.6814 301.674,-39.4412\"/>\n",
        "<polygon fill=\"black\" stroke=\"black\" points=\"303.866,-42.1755 309.927,-33.4855 299.77,-36.4992 303.866,-42.1755\"/>\n",
        "</g>\n",
        "<!-- 14 -->\n",
        "<g id=\"node7\" class=\"node\"><title>14</title>\n",
        "<ellipse fill=\"none\" stroke=\"black\" cx=\"427\" cy=\"-18\" rx=\"39.4691\" ry=\"18\"/>\n",
        "<text text-anchor=\"middle\" x=\"427\" y=\"-14.3\" font-family=\"Times,serif\" font-size=\"14.00\">Nucleus</text>\n",
        "</g>\n",
        "<!-- 1&#45;&gt;14 -->\n",
        "<g id=\"edge6\" class=\"edge\"><title>1&#45;&gt;14</title>\n",
        "<path fill=\"none\" stroke=\"black\" d=\"M262.887,-78.2159C296.353,-66.1407 350.723,-46.5226 387.63,-33.2056\"/>\n",
        "<polygon fill=\"black\" stroke=\"black\" points=\"388.86,-36.4827 397.079,-29.7963 386.484,-29.8982 388.86,-36.4827\"/>\n",
        "</g>\n",
        "<!-- 5 -->\n",
        "<g id=\"node8\" class=\"node\"><title>5</title>\n",
        "<ellipse fill=\"none\" stroke=\"black\" cx=\"348\" cy=\"-90\" rx=\"39.4691\" ry=\"18\"/>\n",
        "<text text-anchor=\"middle\" x=\"348\" y=\"-86.3\" font-family=\"Times,serif\" font-size=\"14.00\">Nucleus</text>\n",
        "</g>\n",
        "<!-- 6 -->\n",
        "<g id=\"node9\" class=\"node\"><title>6</title>\n",
        "<ellipse fill=\"none\" stroke=\"black\" cx=\"445\" cy=\"-90\" rx=\"39.4691\" ry=\"18\"/>\n",
        "<text text-anchor=\"middle\" x=\"445\" y=\"-86.3\" font-family=\"Times,serif\" font-size=\"14.00\">Satellite</text>\n",
        "</g>\n",
        "<!-- 7 -->\n",
        "<g id=\"node10\" class=\"node\"><title>7</title>\n",
        "<ellipse fill=\"none\" stroke=\"black\" cx=\"542\" cy=\"-90\" rx=\"39.4691\" ry=\"18\"/>\n",
        "<text text-anchor=\"middle\" x=\"542\" y=\"-86.3\" font-family=\"Times,serif\" font-size=\"14.00\">Nucleus</text>\n",
        "</g>\n",
        "<!-- 8 -->\n",
        "<g id=\"node11\" class=\"node\"><title>8</title>\n",
        "<ellipse fill=\"none\" stroke=\"black\" cx=\"639\" cy=\"-90\" rx=\"39.4691\" ry=\"18\"/>\n",
        "<text text-anchor=\"middle\" x=\"639\" y=\"-86.3\" font-family=\"Times,serif\" font-size=\"14.00\">Satellite</text>\n",
        "</g>\n",
        "<!-- 9 -->\n",
        "<g id=\"node12\" class=\"node\"><title>9</title>\n",
        "<ellipse fill=\"none\" stroke=\"black\" cx=\"736\" cy=\"-90\" rx=\"39.4691\" ry=\"18\"/>\n",
        "<text text-anchor=\"middle\" x=\"736\" y=\"-86.3\" font-family=\"Times,serif\" font-size=\"14.00\">Nucleus</text>\n",
        "</g>\n",
        "<!-- 10 -->\n",
        "<g id=\"node13\" class=\"node\"><title>10</title>\n",
        "<ellipse fill=\"none\" stroke=\"black\" cx=\"833\" cy=\"-90\" rx=\"39.4691\" ry=\"18\"/>\n",
        "<text text-anchor=\"middle\" x=\"833\" y=\"-86.3\" font-family=\"Times,serif\" font-size=\"14.00\">Satellite</text>\n",
        "</g>\n",
        "<!-- 11 -->\n",
        "<g id=\"node14\" class=\"node\"><title>11</title>\n",
        "<ellipse fill=\"none\" stroke=\"black\" cx=\"930\" cy=\"-90\" rx=\"39.4691\" ry=\"18\"/>\n",
        "<text text-anchor=\"middle\" x=\"930\" y=\"-86.3\" font-family=\"Times,serif\" font-size=\"14.00\">Nucleus</text>\n",
        "</g>\n",
        "<!-- 12 -->\n",
        "<g id=\"node15\" class=\"node\"><title>12</title>\n",
        "<ellipse fill=\"none\" stroke=\"black\" cx=\"1027\" cy=\"-90\" rx=\"39.4691\" ry=\"18\"/>\n",
        "<text text-anchor=\"middle\" x=\"1027\" y=\"-86.3\" font-family=\"Times,serif\" font-size=\"14.00\">Satellite</text>\n",
        "</g>\n",
        "<!-- 15 -->\n",
        "<g id=\"node16\" class=\"node\"><title>15</title>\n",
        "<ellipse fill=\"none\" stroke=\"black\" cx=\"1124\" cy=\"-90\" rx=\"39.4691\" ry=\"18\"/>\n",
        "<text text-anchor=\"middle\" x=\"1124\" y=\"-86.3\" font-family=\"Times,serif\" font-size=\"14.00\">Nucleus</text>\n",
        "</g>\n",
        "<!-- 16 -->\n",
        "<g id=\"node17\" class=\"node\"><title>16</title>\n",
        "<ellipse fill=\"none\" stroke=\"black\" cx=\"1221\" cy=\"-90\" rx=\"39.4691\" ry=\"18\"/>\n",
        "<text text-anchor=\"middle\" x=\"1221\" y=\"-86.3\" font-family=\"Times,serif\" font-size=\"14.00\">Satellite</text>\n",
        "</g>\n",
        "<!-- 17 -->\n",
        "<g id=\"node18\" class=\"node\"><title>17</title>\n",
        "<ellipse fill=\"none\" stroke=\"black\" cx=\"1318\" cy=\"-90\" rx=\"39.4691\" ry=\"18\"/>\n",
        "<text text-anchor=\"middle\" x=\"1318\" y=\"-86.3\" font-family=\"Times,serif\" font-size=\"14.00\">Nucleus</text>\n",
        "</g>\n",
        "<!-- 18 -->\n",
        "<g id=\"node19\" class=\"node\"><title>18</title>\n",
        "<ellipse fill=\"none\" stroke=\"black\" cx=\"1415\" cy=\"-90\" rx=\"39.4691\" ry=\"18\"/>\n",
        "<text text-anchor=\"middle\" x=\"1415\" y=\"-86.3\" font-family=\"Times,serif\" font-size=\"14.00\">Satellite</text>\n",
        "</g>\n",
        "<!-- 19 -->\n",
        "<g id=\"node20\" class=\"node\"><title>19</title>\n",
        "<ellipse fill=\"none\" stroke=\"black\" cx=\"1512\" cy=\"-90\" rx=\"39.4691\" ry=\"18\"/>\n",
        "<text text-anchor=\"middle\" x=\"1512\" y=\"-86.3\" font-family=\"Times,serif\" font-size=\"14.00\">Nucleus</text>\n",
        "</g>\n",
        "<!-- 20 -->\n",
        "<g id=\"node21\" class=\"node\"><title>20</title>\n",
        "<ellipse fill=\"none\" stroke=\"black\" cx=\"1609\" cy=\"-90\" rx=\"39.4691\" ry=\"18\"/>\n",
        "<text text-anchor=\"middle\" x=\"1609\" y=\"-86.3\" font-family=\"Times,serif\" font-size=\"14.00\">Satellite</text>\n",
        "</g>\n",
        "<!-- 21 -->\n",
        "<g id=\"node22\" class=\"node\"><title>21</title>\n",
        "<ellipse fill=\"none\" stroke=\"black\" cx=\"1706\" cy=\"-90\" rx=\"39.4691\" ry=\"18\"/>\n",
        "<text text-anchor=\"middle\" x=\"1706\" y=\"-86.3\" font-family=\"Times,serif\" font-size=\"14.00\">Satellite</text>\n",
        "</g>\n",
        "<!-- 22 -->\n",
        "<g id=\"node23\" class=\"node\"><title>22</title>\n",
        "<ellipse fill=\"none\" stroke=\"black\" cx=\"1803\" cy=\"-90\" rx=\"39.4691\" ry=\"18\"/>\n",
        "<text text-anchor=\"middle\" x=\"1803\" y=\"-86.3\" font-family=\"Times,serif\" font-size=\"14.00\">Nucleus</text>\n",
        "</g>\n",
        "</g>\n",
        "</svg>\n"
       ]
      }
     ],
     "prompt_number": 52
    },
    {
     "cell_type": "code",
     "collapsed": false,
     "input": [
      "#     for subtree in tree:\n",
      "#         node_label = get_nodelabel(subtree)\n",
      "#         if node_label == 'span':\n",
      "#             RST_LISP_GRAPH.node[RST_LISP_GRAPH._node_id]['span'] = subtree.leaves()\n",
      "#             continue\n",
      "#         elif node_label == 'rel2par':\n",
      "#             RST_LISP_GRAPH.node[RST_LISP_GRAPH._node_id]['rel_type'] = subtree.leaves()[0]\n",
      "#             continue\n",
      "#         elif node_label == 'leaf':\n",
      "#             parse_leaf(tree)\n",
      "#             break\n",
      "#         else:\n",
      "#             RST_LISP_GRAPH._node_id += 1\n",
      "        \n",
      "\n",
      "#         if isinstance(subtree, nltk.tree.Tree):\n",
      "#             node_attrs = {'label': node_label}\n",
      "#             edge_type = dg.EdgeTypes.dominance_relation\n",
      "#             RST_LISP_GRAPH.add_node(RST_LISP_GRAPH._node_id, attr_dict=node_attrs)\n",
      "#             RST_LISP_GRAPH.add_edge(root_node_id, RST_LISP_GRAPH._node_id, edge_type=edge_type)\n",
      "\n",
      "#         # ignore Tree('text', ['_!Homestake', 'Mining' ..]) for the moment\n",
      "# #         else: # isinstance(subtree, unicode); subtree is a token\n",
      "# #             # we'll have to modify the parent node of a token, since\n",
      "# #             # in NLTK Trees, even a leaf node (with its POS tag) is\n",
      "# #             # represented as a Tree (an iterator over a single unicode\n",
      "# #             # string), e.g. ``Tree('NNS', ['prices'])``\n",
      "# #             pos_tag = RST_LISP_GRAPH.node[parent_node_id]['label']\n",
      "# #             RST_LISP_GRAPH.node[parent_node_id] = {\n",
      "# #                 'label': node_label, RST_LISP_GRAPH.ns+':token': node_label,\n",
      "# #                 RST_LISP_GRAPH.ns+':pos': pos_tag}\n",
      "# #             RST_LISP_GRAPH.tokens.append(parent_node_id)\n",
      "\n",
      "#         if isinstance(subtree, nltk.tree.Tree):\n",
      "#             parse_rst_tree(subtree, parent_node_id=RST_LISP_GRAPH._node_id)"
     ],
     "language": "python",
     "metadata": {},
     "outputs": [],
     "prompt_number": 15
    }
   ],
   "metadata": {}
  }
 ]
}