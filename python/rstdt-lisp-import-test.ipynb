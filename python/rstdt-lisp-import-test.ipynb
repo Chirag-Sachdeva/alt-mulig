{
 "metadata": {
  "name": "",
  "signature": "sha256:9c6c050277b39923f5dbde479b407d5b6b18f926771dd770f9b575b587ab49a6"
 },
 "nbformat": 3,
 "nbformat_minor": 0,
 "worksheets": [
  {
   "cells": [
    {
     "cell_type": "heading",
     "level": 1,
     "metadata": {},
     "source": [
      "parse RST-DT documents in LISP/S-Expression format"
     ]
    },
    {
     "cell_type": "markdown",
     "metadata": {},
     "source": [
      "* RST-DT *.rs3 files are broken, cf. my notebook on [RST-DT/PTB merging](rstdt-ptb-merging.ipynb)\n",
      "* **only use the `*.dis` files**, the `*.lisp.name` and `*.step.name` may be broken, too\n",
      "* the RST-DT people probably used [Marcu's tools](http://www.isi.edu/~marcu/discourse/utilities/index.html)  \n",
      "  to convert their annotations into *.dis format\n",
      "\n",
      "The RST Discourse Treebank contains 385 WSJ articles from PTB with Rhetorical Structure Theory (RST) annotations.\n",
      "\n",
      "The following information was taken from the RST-DT documentation:\n",
      "\n",
      "## RSTtrees-WSJ-main-1.0\n",
      "This directory contains 385 Wall Street Journal articles, broken into TRAINING (347 documents) and TEST (38 documents) sub-directories.\n",
      "\n",
      "Filenames are in one of two forms:\n",
      "* wsj_####.ext (380 documents)\n",
      "* file#.ext(5 documents)\n",
      "\n",
      "The 5 files named file# were identified as the following filenames in Treebank-2:\n",
      "\n",
      "* file1 - 07/wsj_0764\n",
      "* file2 - 04/wsj_0430\n",
      "* file3 - 07/wsj_0766\n",
      "* file4 - 07/wsj_0778\n",
      "* file5 - 21/wsj_2172\n",
      "\n",
      "(More information is available in a\n",
      "[compressed file](ftp://ftp.ldc.upenn.edu/pub/ldc/data_samples/pennTB_tipster_wsj_map.tar.gz)\n",
      "via ftp, which provides the relationship between the 2,499 PTB filenames and the corresponding WSJ DOCNO strings in TIPSTER.)\n",
      "\n",
      "### <docno>.rst/\n",
      "\n",
      "A directory with three files:  \n",
      "\n",
      "* **`<docno>.lisp.name`** - discourse structure created by a human judge for a text.\n",
      "* **`<docno>.step.name`** - list of all human actions taken  \n",
      "  during the creation of the discourse structure\n",
      "* **`##`** -- a file with an integer as its name - temp file;  \n",
      "  contains last human action during creation of the discourse structure\n",
      "\t\n",
      "All annotations were produced using a discourse annotation tool that can be downloaded from http://www.isi.edu/~marcu/discourse.\n",
      "\n",
      "The files in the .rst directories are **provided only** to enable interested users **to visualize and print in a convenient format** the discourse annotations in the corpus.\n",
      "\n",
      "* **`<docno>.dis``** - contains the manually annotated discourse structure  \n",
      "  of the file **`<docno>`**  \n",
      "  The .dis files were generated automatically from the **`.step`** and **`.lisp`**  \n",
      "  files using a mapping program.  \n",
      "  More information about this program is available at http://www.isi.edu/~marcu/discourse.\n",
      "\n",
      "**IMPORTANT NOTE**: The **.lisp files may contain errors** introduced by the discourse annotation tool. Please **use the .lisp and .step files only for visualizing the trees**.  \n",
      "**Use the .dis files for training/testing purposes** (the mapping program that produced the .dis file was written so as to eliminate the errors introduced by the annotation tool).\n",
      "\n",
      "* **`<docno>.edus`** - edus (elementary discourse units) listed line by line.\n",
      "\n",
      "## RSTtrees-WSJ-double-1.0\n",
      "This directory contains the same types of files as the subdirectory RSTtrees-WSJ-main-1.0, for 53 documents which were reviewed by a second analyst. "
     ]
    },
    {
     "cell_type": "code",
     "collapsed": false,
     "input": [
      "import os\n",
      "import glob\n",
      "\n",
      "RSTDT_MAIN_ROOT = os.path.expanduser('~/corpora/rst_discourse_treebank/data/RSTtrees-WSJ-main-1.0')\n",
      "RSTDT_DOUBLE_ROOT = os.path.expanduser('~/corpora/rst_discourse_treebank/data/RSTtrees-WSJ-double-1.0')\n",
      "\n",
      "RSTDT_TEST_FILE = os.path.join(RSTDT_MAIN_ROOT, 'TEST', 'wsj_1197.out.dis')"
     ],
     "language": "python",
     "metadata": {},
     "outputs": [],
     "prompt_number": 6
    },
    {
     "cell_type": "code",
     "collapsed": false,
     "input": [
      "# for folder in ('TEST', 'TRAINING'):\n",
      "#     for rst_file in glob.glob(os.path.join(RSTDT_MAIN_ROOT, folder, '*.dis')):\n",
      "#         print rst_file\n"
     ],
     "language": "python",
     "metadata": {},
     "outputs": [],
     "prompt_number": 7
    },
    {
     "cell_type": "code",
     "collapsed": false,
     "input": [
      "with open(RSTDT_TEST_FILE) as rstfile:\n",
      "    print rstfile.read()"
     ],
     "language": "python",
     "metadata": {},
     "outputs": [
      {
       "output_type": "stream",
       "stream": "stdout",
       "text": [
        "( Root (span 1 6)\n",
        "  ( Nucleus (span 1 3) (rel2par span)\n",
        "    ( Nucleus (leaf 1) (rel2par span) (text _!Homestake Mining Co., San Francisco, blamed the continued slump in gold prices for an 83% plunge in third-quarter net income to $2 million, or two cents a share, from $11.2 million, or 12 cents a share, a year earlier.<P>_!) )\n",
        "    ( Satellite (span 2 3) (rel2par elaboration-additional)\n",
        "      ( Nucleus (leaf 2) (rel2par List) (text _!Revenue rose 5% to $110.4 million from $105.4 million.<P>_!) )\n",
        "      ( Nucleus (leaf 3) (rel2par List) (text _!In New York Stock Exchange composite trading, Homestake closed at $15.25, down 25 cents.<P>_!) )\n",
        "    )\n",
        "  )\n",
        "  ( Satellite (span 4 6) (rel2par result)\n",
        "    ( Nucleus (span 4 5) (rel2par span)\n",
        "      ( Nucleus (leaf 4) (rel2par span) (text _!\"A significant increase in gold sales to 248,279 ounces for the quarter from 188,726 in the third quarter of 1988 was more than offset by the continued decline in average gold price realization to $367 from $429 per ounce,\"_!) )\n",
        "      ( Satellite (leaf 5) (rel2par attribution) (text _!the company said.<P>_!) )\n",
        "    )\n",
        "    ( Satellite (leaf 6) (rel2par evidence) (text _!For the nine months, the mining company posted a 40% drop in profit to $30.1 million, or 31 cents a share, from $50.6 million, or 52 cents a share, on a 6% rise in revenue to $323.2 million from $305.7 million._!) )\n",
        "  )\n",
        ")\n",
        "\n"
       ]
      }
     ],
     "prompt_number": 16
    },
    {
     "cell_type": "code",
     "collapsed": false,
     "input": [
      "import sexpdata"
     ],
     "language": "python",
     "metadata": {},
     "outputs": [],
     "prompt_number": 11
    },
    {
     "cell_type": "code",
     "collapsed": false,
     "input": [
      "with open(RSTDT_TEST_FILE) as rstfile:\n",
      "    rst_dict = sexpdata.load(rstfile)\n"
     ],
     "language": "python",
     "metadata": {},
     "outputs": [],
     "prompt_number": 18
    },
    {
     "cell_type": "code",
     "collapsed": false,
     "input": [
      "def sexp2tree(sexp, indent=0):\n",
      "    for i, symbol in enumerate(sexp):\n",
      "        print \"{0}{1} {2}: {3}\".format('\\t'*indent, i, type(symbol), symbol)\n",
      "        try:\n",
      "            for element in symbol:\n",
      "                print sexp2tree(element, indent=indent+1)\n",
      "        except TypeError as e:\n",
      "            pass # element is not iterable, i.e. it doesn't contain other symbols"
     ],
     "language": "python",
     "metadata": {},
     "outputs": [],
     "prompt_number": 42
    },
    {
     "cell_type": "code",
     "collapsed": false,
     "input": [
      "sexp2tree(rst_dict)"
     ],
     "language": "python",
     "metadata": {},
     "outputs": [
      {
       "output_type": "stream",
       "stream": "stdout",
       "text": [
        "0 <class 'sexpdata.Symbol'>: Symbol('Root')\n",
        "1 <type 'list'>: [Symbol('span'), 1, 6]\n",
        "2 <type 'list'>: [Symbol('Nucleus'), [Symbol('span'), 1, 3], [Symbol('rel2par'), Symbol('span')], [Symbol('Nucleus'), [Symbol('leaf'), 1], [Symbol('rel2par'), Symbol('span')], [Symbol('text'), Symbol('_!Homestake'), Symbol('Mining'), Symbol('Co.,'), Symbol('San'), Symbol('Francisco,'), Symbol('blamed'), Symbol('the'), Symbol('continued'), Symbol('slump'), Symbol('in'), Symbol('gold'), Symbol('prices'), Symbol('for'), Symbol('an'), Symbol('83%'), Symbol('plunge'), Symbol('in'), Symbol('third-quarter'), Symbol('net'), Symbol('income'), Symbol('to'), Symbol('$2'), Symbol('million,'), Symbol('or'), Symbol('two'), Symbol('cents'), Symbol('a'), Symbol('share,'), Symbol('from'), Symbol('$11.2'), Symbol('million,'), Symbol('or'), 12, Symbol('cents'), Symbol('a'), Symbol('share,'), Symbol('a'), Symbol('year'), Symbol('earlier.<P>_!')]], [Symbol('Satellite'), [Symbol('span'), 2, 3], [Symbol('rel2par'), Symbol('elaboration-additional')], [Symbol('Nucleus'), [Symbol('leaf'), 2], [Symbol('rel2par'), Symbol('List')], [Symbol('text'), Symbol('_!Revenue'), Symbol('rose'), Symbol('5%'), Symbol('to'), Symbol('$110.4'), Symbol('million'), Symbol('from'), Symbol('$105.4'), Symbol('million.<P>_!')]], [Symbol('Nucleus'), [Symbol('leaf'), 3], [Symbol('rel2par'), Symbol('List')], [Symbol('text'), Symbol('_!In'), Symbol('New'), Symbol('York'), Symbol('Stock'), Symbol('Exchange'), Symbol('composite'), Symbol('trading,'), Symbol('Homestake'), Symbol('closed'), Symbol('at'), Symbol('$15.25,'), Symbol('down'), 25, Symbol('cents.<P>_!')]]]]\n",
        "3 <type 'list'>: [Symbol('Satellite'), [Symbol('span'), 4, 6], [Symbol('rel2par'), Symbol('result')], [Symbol('Nucleus'), [Symbol('span'), 4, 5], [Symbol('rel2par'), Symbol('span')], [Symbol('Nucleus'), [Symbol('leaf'), 4], [Symbol('rel2par'), Symbol('span')], [Symbol('text'), Symbol('_!'), 'A significant increase in gold sales to 248,279 ounces for the quarter from 188,726 in the third quarter of 1988 was more than offset by the continued decline in average gold price realization to $367 from $429 per ounce,', Symbol('_!')]], [Symbol('Satellite'), [Symbol('leaf'), 5], [Symbol('rel2par'), Symbol('attribution')], [Symbol('text'), Symbol('_!the'), Symbol('company'), Symbol('said.<P>_!')]]], [Symbol('Satellite'), [Symbol('leaf'), 6], [Symbol('rel2par'), Symbol('evidence')], [Symbol('text'), Symbol('_!For'), Symbol('the'), Symbol('nine'), Symbol('months,'), Symbol('the'), Symbol('mining'), Symbol('company'), Symbol('posted'), Symbol('a'), Symbol('40%'), Symbol('drop'), Symbol('in'), Symbol('profit'), Symbol('to'), Symbol('$30.1'), Symbol('million,'), Symbol('or'), 31, Symbol('cents'), Symbol('a'), Symbol('share,'), Symbol('from'), Symbol('$50.6'), Symbol('million,'), Symbol('or'), 52, Symbol('cents'), Symbol('a'), Symbol('share,'), Symbol('on'), Symbol('a'), Symbol('6%'), Symbol('rise'), Symbol('in'), Symbol('revenue'), Symbol('to'), Symbol('$323.2'), Symbol('million'), Symbol('from'), Symbol('$305.7'), Symbol('million._!')]]]\n"
       ]
      }
     ],
     "prompt_number": 43
    },
    {
     "cell_type": "code",
     "collapsed": false,
     "input": [
      "import nltk"
     ],
     "language": "python",
     "metadata": {},
     "outputs": [],
     "prompt_number": 44
    },
    {
     "cell_type": "code",
     "collapsed": false,
     "input": [
      "rst_path, rst_filename = os.path.split(RSTDT_TEST_FILE)\n",
      "\n",
      "parsed_doc = nltk.corpus.BracketParseCorpusReader(rst_path, [rst_filename])\n",
      "parsed_sents_iter = parsed_doc.parsed_sents()"
     ],
     "language": "python",
     "metadata": {},
     "outputs": [],
     "prompt_number": 45
    },
    {
     "cell_type": "code",
     "collapsed": false,
     "input": [
      "rst_tree = parsed_sents_iter[0]"
     ],
     "language": "python",
     "metadata": {},
     "outputs": [],
     "prompt_number": 50
    },
    {
     "cell_type": "code",
     "collapsed": false,
     "input": [
      "leaf_tree = rst_tree[1][2]"
     ],
     "language": "python",
     "metadata": {},
     "outputs": [],
     "prompt_number": 116
    },
    {
     "cell_type": "code",
     "collapsed": false,
     "input": [
      "list(leaf_tree.subtrees())"
     ],
     "language": "python",
     "metadata": {},
     "outputs": [
      {
       "metadata": {},
       "output_type": "pyout",
       "prompt_number": 122,
       "text": [
        "[Tree('Nucleus', [Tree('leaf', ['1']), Tree('rel2par', ['span']), Tree('text', ['_!Homestake', 'Mining', 'Co.,', 'San', 'Francisco,', 'blamed', 'the', 'continued', 'slump', 'in', 'gold', 'prices', 'for', 'an', '83%', 'plunge', 'in', 'third-quarter', 'net', 'income', 'to', '$2', 'million,', 'or', 'two', 'cents', 'a', 'share,', 'from', '$11.2', 'million,', 'or', '12', 'cents', 'a', 'share,', 'a', 'year', 'earlier.<P>_!'])]),\n",
        " Tree('leaf', ['1']),\n",
        " Tree('rel2par', ['span']),\n",
        " Tree('text', ['_!Homestake', 'Mining', 'Co.,', 'San', 'Francisco,', 'blamed', 'the', 'continued', 'slump', 'in', 'gold', 'prices', 'for', 'an', '83%', 'plunge', 'in', 'third-quarter', 'net', 'income', 'to', '$2', 'million,', 'or', 'two', 'cents', 'a', 'share,', 'from', '$11.2', 'million,', 'or', '12', 'cents', 'a', 'share,', 'a', 'year', 'earlier.<P>_!'])]"
       ]
      }
     ],
     "prompt_number": 122
    },
    {
     "cell_type": "code",
     "collapsed": false,
     "input": [
      "import discoursegraphs as dg\n",
      "\n",
      "\n",
      "RST_LISP_GRAPH = dg.DiscourseDocumentGraph()\n",
      "RST_LISP_GRAPH._node_id = 1\n",
      "\n",
      "def parse_leaf(tree):\n",
      "    for subtree in tree:\n",
      "        node_label = get_nodelabel(subtree)\n",
      "        if node_label == 'leaf':\n",
      "            leaf_node_id = 'rst:edu:{}'.format(subtree.leaves()[0])\n",
      "            RST_LISP_GRAPH.node[RST_LISP_GRAPH._node_id]['label'] = leaf_node_id\n",
      "        elif node_label == 'rel2par':\n",
      "            RST_LISP_GRAPH.node[RST_LISP_GRAPH._node_id]['rel_type'] = subtree.leaves()[0]\n",
      "        elif node_label == 'text':\n",
      "            RST_LISP_GRAPH.node[RST_LISP_GRAPH._node_id]['rst:text'] = u' '.join(subtree.leaves())\n",
      "        else:\n",
      "            raise ValueError(\"Unknown subtree in leaf position: {}\".format(tree))\n",
      "\n",
      "def get_nodelabel(node):\n",
      "    if isinstance(node, nltk.tree.Tree):\n",
      "        return node.label()\n",
      "    elif isinstance(node, unicode):\n",
      "        return node.encode('utf-8')\n",
      "    else:\n",
      "        raise ValueError(\"Unexpected node type: {}, {}\".format(type(node), node))\n",
      "            \n",
      "def parse_rst_tree(tree, parent_node_id=None):\n",
      "    root_node_id = RST_LISP_GRAPH._node_id\n",
      "    if root_node_id in RST_LISP_GRAPH:\n",
      "        RST_LISP_GRAPH.node[root_node_id]['label'] = get_nodelabel(tree)\n",
      "    else:\n",
      "        RST_LISP_GRAPH.add_node(root_node_id, label=get_nodelabel(tree))\n",
      "\n",
      "    for subtree in tree:\n",
      "        node_label = get_nodelabel(subtree)\n",
      "        if node_label == 'span':\n",
      "            RST_LISP_GRAPH.node[RST_LISP_GRAPH._node_id]['span'] = subtree.leaves()\n",
      "            continue\n",
      "        elif node_label == 'rel2par':\n",
      "            RST_LISP_GRAPH.node[RST_LISP_GRAPH._node_id]['rel_type'] = subtree.leaves()[0]\n",
      "            continue\n",
      "        elif node_label == 'leaf':\n",
      "            parse_leaf(tree)\n",
      "            break\n",
      "        else:\n",
      "            RST_LISP_GRAPH._node_id += 1\n",
      "        \n",
      "\n",
      "        if isinstance(subtree, nltk.tree.Tree):\n",
      "            node_attrs = {'label': node_label}\n",
      "            edge_type = dg.EdgeTypes.dominance_relation\n",
      "            RST_LISP_GRAPH.add_node(RST_LISP_GRAPH._node_id, attr_dict=node_attrs)\n",
      "            RST_LISP_GRAPH.add_edge(root_node_id, RST_LISP_GRAPH._node_id, edge_type=edge_type)\n",
      "\n",
      "        # ignore Tree('text', ['_!Homestake', 'Mining' ..]) for the moment\n",
      "#         else: # isinstance(subtree, unicode); subtree is a token\n",
      "#             # we'll have to modify the parent node of a token, since\n",
      "#             # in NLTK Trees, even a leaf node (with its POS tag) is\n",
      "#             # represented as a Tree (an iterator over a single unicode\n",
      "#             # string), e.g. ``Tree('NNS', ['prices'])``\n",
      "#             pos_tag = RST_LISP_GRAPH.node[parent_node_id]['label']\n",
      "#             RST_LISP_GRAPH.node[parent_node_id] = {\n",
      "#                 'label': node_label, RST_LISP_GRAPH.ns+':token': node_label,\n",
      "#                 RST_LISP_GRAPH.ns+':pos': pos_tag}\n",
      "#             RST_LISP_GRAPH.tokens.append(parent_node_id)\n",
      "\n",
      "        if isinstance(subtree, nltk.tree.Tree):\n",
      "            parse_rst_tree(subtree, parent_node_id=RST_LISP_GRAPH._node_id)"
     ],
     "language": "python",
     "metadata": {},
     "outputs": [],
     "prompt_number": 126
    },
    {
     "cell_type": "code",
     "collapsed": false,
     "input": [
      "parse_rst_tree(rst_tree)"
     ],
     "language": "python",
     "metadata": {},
     "outputs": [],
     "prompt_number": 127
    },
    {
     "cell_type": "code",
     "collapsed": false,
     "input": [
      "%load_ext gvmagic"
     ],
     "language": "python",
     "metadata": {},
     "outputs": [
      {
       "output_type": "stream",
       "stream": "stdout",
       "text": [
        "The gvmagic extension is already loaded. To reload it, use:\n",
        "  %reload_ext gvmagic\n"
       ]
      }
     ],
     "prompt_number": 128
    },
    {
     "cell_type": "code",
     "collapsed": false,
     "input": [
      "%dotstr dg.print_dot(RST_LISP_GRAPH)"
     ],
     "language": "python",
     "metadata": {},
     "outputs": [
      {
       "metadata": {},
       "output_type": "display_data",
       "svg": [
        "<?xml version=\"1.0\" encoding=\"UTF-8\" standalone=\"no\"?>\n",
        "<!DOCTYPE svg PUBLIC \"-//W3C//DTD SVG 1.1//EN\"\n",
        " \"http://www.w3.org/Graphics/SVG/1.1/DTD/svg11.dtd\">\n",
        "<!-- Generated by graphviz version 2.26.3 (20100126.1600)\n",
        " -->\n",
        "<!-- Title: _anonymous_0 Pages: 1 -->\n",
        "<svg width=\"584pt\" height=\"268pt\"\n",
        " viewBox=\"0.00 0.00 584.00 268.00\" xmlns=\"http://www.w3.org/2000/svg\" xmlns:xlink=\"http://www.w3.org/1999/xlink\">\n",
        "<g id=\"graph1\" class=\"graph\" transform=\"scale(1 1) rotate(0) translate(4 264)\">\n",
        "<title>_anonymous_0</title>\n",
        "<polygon fill=\"white\" stroke=\"white\" points=\"-4,5 -4,-264 581,-264 581,5 -4,5\"/>\n",
        "<!-- 1 -->\n",
        "<g id=\"node1\" class=\"node\"><title>1</title>\n",
        "<ellipse fill=\"none\" stroke=\"black\" cx=\"250\" cy=\"-241\" rx=\"33.9411\" ry=\"18.3848\"/>\n",
        "<text text-anchor=\"middle\" x=\"250\" y=\"-237.4\" font-family=\"Times Roman,serif\" font-size=\"14.00\">Root</text>\n",
        "</g>\n",
        "<!-- 7 -->\n",
        "<g id=\"node2\" class=\"node\"><title>7</title>\n",
        "<ellipse fill=\"none\" stroke=\"black\" cx=\"185\" cy=\"-167\" rx=\"51.8276\" ry=\"18.3848\"/>\n",
        "<text text-anchor=\"middle\" x=\"185\" y=\"-163.4\" font-family=\"Times Roman,serif\" font-size=\"14.00\">Satellite</text>\n",
        "</g>\n",
        "<!-- 1&#45;&gt;7 -->\n",
        "<g id=\"edge2\" class=\"edge\"><title>1&#45;&gt;7</title>\n",
        "<path fill=\"none\" stroke=\"black\" d=\"M235.25,-224.208C227.012,-214.83 216.579,-202.952 207.357,-192.453\"/>\n",
        "<polygon fill=\"black\" stroke=\"black\" points=\"209.827,-189.961 200.598,-184.757 204.567,-194.58 209.827,-189.961\"/>\n",
        "</g>\n",
        "<!-- 2 -->\n",
        "<g id=\"node4\" class=\"node\"><title>2</title>\n",
        "<ellipse fill=\"none\" stroke=\"black\" cx=\"315\" cy=\"-167\" rx=\"50.2046\" ry=\"18.3848\"/>\n",
        "<text text-anchor=\"middle\" x=\"315\" y=\"-163.4\" font-family=\"Times Roman,serif\" font-size=\"14.00\">Nucleus</text>\n",
        "</g>\n",
        "<!-- 1&#45;&gt;2 -->\n",
        "<g id=\"edge4\" class=\"edge\"><title>1&#45;&gt;2</title>\n",
        "<path fill=\"none\" stroke=\"black\" d=\"M264.75,-224.208C272.988,-214.83 283.421,-202.952 292.643,-192.453\"/>\n",
        "<polygon fill=\"black\" stroke=\"black\" points=\"295.433,-194.58 299.402,-184.757 290.173,-189.961 295.433,-194.58\"/>\n",
        "</g>\n",
        "<!-- 8 -->\n",
        "<g id=\"node14\" class=\"node\"><title>8</title>\n",
        "<ellipse fill=\"none\" stroke=\"black\" cx=\"61\" cy=\"-93\" rx=\"50.2046\" ry=\"18.3848\"/>\n",
        "<text text-anchor=\"middle\" x=\"61\" y=\"-89.4\" font-family=\"Times Roman,serif\" font-size=\"14.00\">Nucleus</text>\n",
        "</g>\n",
        "<!-- 7&#45;&gt;8 -->\n",
        "<g id=\"edge14\" class=\"edge\"><title>7&#45;&gt;8</title>\n",
        "<path fill=\"none\" stroke=\"black\" d=\"M158.094,-150.943C139.934,-140.106 115.784,-125.694 96.113,-113.955\"/>\n",
        "<polygon fill=\"black\" stroke=\"black\" points=\"97.8084,-110.89 87.4277,-108.771 94.2212,-116.901 97.8084,-110.89\"/>\n",
        "</g>\n",
        "<!-- 11 -->\n",
        "<g id=\"node16\" class=\"node\"><title>11</title>\n",
        "<ellipse fill=\"none\" stroke=\"black\" cx=\"185\" cy=\"-93\" rx=\"55.8614\" ry=\"18.3848\"/>\n",
        "<text text-anchor=\"middle\" x=\"185\" y=\"-89.4\" font-family=\"Times Roman,serif\" font-size=\"14.00\">rst:edu:6</text>\n",
        "</g>\n",
        "<!-- 7&#45;&gt;11 -->\n",
        "<g id=\"edge16\" class=\"edge\"><title>7&#45;&gt;11</title>\n",
        "<path fill=\"none\" stroke=\"black\" d=\"M185,-148.327C185,-140.264 185,-130.648 185,-121.711\"/>\n",
        "<polygon fill=\"black\" stroke=\"black\" points=\"188.5,-121.667 185,-111.667 181.5,-121.667 188.5,-121.667\"/>\n",
        "</g>\n",
        "<!-- 3 -->\n",
        "<g id=\"node6\" class=\"node\"><title>3</title>\n",
        "<ellipse fill=\"none\" stroke=\"black\" cx=\"315\" cy=\"-93\" rx=\"55.8614\" ry=\"18.3848\"/>\n",
        "<text text-anchor=\"middle\" x=\"315\" y=\"-89.4\" font-family=\"Times Roman,serif\" font-size=\"14.00\">rst:edu:1</text>\n",
        "</g>\n",
        "<!-- 2&#45;&gt;3 -->\n",
        "<g id=\"edge6\" class=\"edge\"><title>2&#45;&gt;3</title>\n",
        "<path fill=\"none\" stroke=\"black\" d=\"M315,-148.327C315,-140.264 315,-130.648 315,-121.711\"/>\n",
        "<polygon fill=\"black\" stroke=\"black\" points=\"318.5,-121.667 315,-111.667 311.5,-121.667 318.5,-121.667\"/>\n",
        "</g>\n",
        "<!-- 4 -->\n",
        "<g id=\"node8\" class=\"node\"><title>4</title>\n",
        "<ellipse fill=\"none\" stroke=\"black\" cx=\"441\" cy=\"-93\" rx=\"51.8276\" ry=\"18.3848\"/>\n",
        "<text text-anchor=\"middle\" x=\"441\" y=\"-89.4\" font-family=\"Times Roman,serif\" font-size=\"14.00\">Satellite</text>\n",
        "</g>\n",
        "<!-- 2&#45;&gt;4 -->\n",
        "<g id=\"edge8\" class=\"edge\"><title>2&#45;&gt;4</title>\n",
        "<path fill=\"none\" stroke=\"black\" d=\"M341.721,-151.307C360.222,-140.441 385.054,-125.857 405.255,-113.993\"/>\n",
        "<polygon fill=\"black\" stroke=\"black\" points=\"407.032,-117.008 413.883,-108.926 403.487,-110.972 407.032,-117.008\"/>\n",
        "</g>\n",
        "<!-- 6 -->\n",
        "<g id=\"node10\" class=\"node\"><title>6</title>\n",
        "<ellipse fill=\"none\" stroke=\"black\" cx=\"378\" cy=\"-19\" rx=\"55.8614\" ry=\"18.3848\"/>\n",
        "<text text-anchor=\"middle\" x=\"378\" y=\"-15.4\" font-family=\"Times Roman,serif\" font-size=\"14.00\">rst:edu:3</text>\n",
        "</g>\n",
        "<!-- 4&#45;&gt;6 -->\n",
        "<g id=\"edge10\" class=\"edge\"><title>4&#45;&gt;6</title>\n",
        "<path fill=\"none\" stroke=\"black\" d=\"M425.749,-75.0867C417.991,-65.9737 408.422,-54.7335 399.892,-44.7143\"/>\n",
        "<polygon fill=\"black\" stroke=\"black\" points=\"402.476,-42.3503 393.328,-37.0049 397.146,-46.8881 402.476,-42.3503\"/>\n",
        "</g>\n",
        "<!-- 5 -->\n",
        "<g id=\"node12\" class=\"node\"><title>5</title>\n",
        "<ellipse fill=\"none\" stroke=\"black\" cx=\"508\" cy=\"-19\" rx=\"55.8614\" ry=\"18.3848\"/>\n",
        "<text text-anchor=\"middle\" x=\"508\" y=\"-15.4\" font-family=\"Times Roman,serif\" font-size=\"14.00\">rst:edu:2</text>\n",
        "</g>\n",
        "<!-- 4&#45;&gt;5 -->\n",
        "<g id=\"edge12\" class=\"edge\"><title>4&#45;&gt;5</title>\n",
        "<path fill=\"none\" stroke=\"black\" d=\"M457.219,-75.0867C465.613,-65.8153 476.001,-54.3422 485.19,-44.193\"/>\n",
        "<polygon fill=\"black\" stroke=\"black\" points=\"487.813,-46.5105 491.931,-36.7484 482.624,-41.8123 487.813,-46.5105\"/>\n",
        "</g>\n",
        "<!-- 9 -->\n",
        "<g id=\"node18\" class=\"node\"><title>9</title>\n",
        "<ellipse fill=\"none\" stroke=\"black\" cx=\"56\" cy=\"-19\" rx=\"55.8614\" ry=\"18.3848\"/>\n",
        "<text text-anchor=\"middle\" x=\"56\" y=\"-15.4\" font-family=\"Times Roman,serif\" font-size=\"14.00\">rst:edu:4</text>\n",
        "</g>\n",
        "<!-- 8&#45;&gt;9 -->\n",
        "<g id=\"edge18\" class=\"edge\"><title>8&#45;&gt;9</title>\n",
        "<path fill=\"none\" stroke=\"black\" d=\"M59.7383,-74.3267C59.1935,-66.2639 58.5438,-56.6477 57.94,-47.7115\"/>\n",
        "<polygon fill=\"black\" stroke=\"black\" points=\"61.4276,-47.4086 57.2613,-37.6674 54.4435,-47.8806 61.4276,-47.4086\"/>\n",
        "</g>\n",
        "<!-- 10 -->\n",
        "<g id=\"node20\" class=\"node\"><title>10</title>\n",
        "<ellipse fill=\"none\" stroke=\"black\" cx=\"186\" cy=\"-19\" rx=\"55.8614\" ry=\"18.3848\"/>\n",
        "<text text-anchor=\"middle\" x=\"186\" y=\"-15.4\" font-family=\"Times Roman,serif\" font-size=\"14.00\">rst:edu:5</text>\n",
        "</g>\n",
        "<!-- 8&#45;&gt;10 -->\n",
        "<g id=\"edge20\" class=\"edge\"><title>8&#45;&gt;10</title>\n",
        "<path fill=\"none\" stroke=\"black\" d=\"M87.5093,-77.3065C105.656,-66.5635 129.944,-52.1852 149.86,-40.395\"/>\n",
        "<polygon fill=\"black\" stroke=\"black\" points=\"151.843,-43.2885 158.665,-35.1824 148.277,-37.2649 151.843,-43.2885\"/>\n",
        "</g>\n",
        "<!-- discoursegraph:root_node -->\n",
        "<g id=\"node22\" class=\"node\"><title>discoursegraph:root_node</title>\n",
        "<ellipse fill=\"none\" stroke=\"black\" cx=\"439\" cy=\"-241\" rx=\"137.179\" ry=\"18.3848\"/>\n",
        "<text text-anchor=\"middle\" x=\"439\" y=\"-237.4\" font-family=\"Times Roman,serif\" font-size=\"14.00\">discoursegraph:root_node</text>\n",
        "</g>\n",
        "</g>\n",
        "</svg>\n"
       ]
      }
     ],
     "prompt_number": 129
    },
    {
     "cell_type": "code",
     "collapsed": false,
     "input": [
      "tree_span.treepositions()"
     ],
     "language": "python",
     "metadata": {},
     "outputs": [
      {
       "metadata": {},
       "output_type": "pyout",
       "prompt_number": 102,
       "text": [
        "[(), (0,)]"
       ]
      }
     ],
     "prompt_number": 102
    },
    {
     "cell_type": "code",
     "collapsed": false,
     "input": [],
     "language": "python",
     "metadata": {},
     "outputs": []
    }
   ],
   "metadata": {}
  }
 ]
}