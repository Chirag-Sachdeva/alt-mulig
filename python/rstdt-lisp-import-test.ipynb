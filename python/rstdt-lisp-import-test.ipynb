{
 "metadata": {
  "name": "",
  "signature": "sha256:6a759d0e12fc620ada4f46bc8c620435ce86c52c450c15e929dc7f293b3560ba"
 },
 "nbformat": 3,
 "nbformat_minor": 0,
 "worksheets": [
  {
   "cells": [
    {
     "cell_type": "heading",
     "level": 1,
     "metadata": {},
     "source": [
      "parse RST-DT documents in LISP/S-Expression format"
     ]
    },
    {
     "cell_type": "markdown",
     "metadata": {},
     "source": [
      "* RST-DT *.rs3 files are broken, cf. my notebook on [RST-DT/PTB merging](rstdt-ptb-merging.ipynb)\n",
      "* **only use the `*.dis` files**, the `*.lisp.name` and `*.step.name` may be broken, too\n",
      "* the RST-DT people probably used [Marcu's tools](http://www.isi.edu/~marcu/discourse/utilities/index.html)  \n",
      "  to convert their annotations into *.dis format\n",
      "\n",
      "The RST Discourse Treebank contains 385 WSJ articles from PTB with Rhetorical Structure Theory (RST) annotations.\n",
      "\n",
      "The following information was taken from the RST-DT documentation:\n",
      "\n",
      "## RSTtrees-WSJ-main-1.0\n",
      "This directory contains 385 Wall Street Journal articles, broken into TRAINING (347 documents) and TEST (38 documents) sub-directories.\n",
      "\n",
      "Filenames are in one of two forms:\n",
      "* wsj_####.ext (380 documents)\n",
      "* file#.ext(5 documents)\n",
      "\n",
      "The 5 files named file# were identified as the following filenames in Treebank-2:\n",
      "\n",
      "* file1 - 07/wsj_0764\n",
      "* file2 - 04/wsj_0430\n",
      "* file3 - 07/wsj_0766\n",
      "* file4 - 07/wsj_0778\n",
      "* file5 - 21/wsj_2172\n",
      "\n",
      "(More information is available in a\n",
      "[compressed file](ftp://ftp.ldc.upenn.edu/pub/ldc/data_samples/pennTB_tipster_wsj_map.tar.gz)\n",
      "via ftp, which provides the relationship between the 2,499 PTB filenames and the corresponding WSJ DOCNO strings in TIPSTER.)\n",
      "\n",
      "### <docno>.rst/\n",
      "\n",
      "A directory with three files:  \n",
      "\n",
      "* **`<docno>.lisp.name`** - discourse structure created by a human judge for a text.\n",
      "* **`<docno>.step.name`** - list of all human actions taken  \n",
      "  during the creation of the discourse structure\n",
      "* **`##`** -- a file with an integer as its name - temp file;  \n",
      "  contains last human action during creation of the discourse structure\n",
      "\t\n",
      "All annotations were produced using a discourse annotation tool that can be downloaded from http://www.isi.edu/~marcu/discourse.\n",
      "\n",
      "The files in the .rst directories are **provided only** to enable interested users **to visualize and print in a convenient format** the discourse annotations in the corpus.\n",
      "\n",
      "* **`<docno>.dis``** - contains the manually annotated discourse structure  \n",
      "  of the file **`<docno>`**  \n",
      "  The .dis files were generated automatically from the **`.step`** and **`.lisp`**  \n",
      "  files using a mapping program.  \n",
      "  More information about this program is available at http://www.isi.edu/~marcu/discourse.\n",
      "\n",
      "**IMPORTANT NOTE**: The **.lisp files may contain errors** introduced by the discourse annotation tool. Please **use the .lisp and .step files only for visualizing the trees**.  \n",
      "**Use the .dis files for training/testing purposes** (the mapping program that produced the .dis file was written so as to eliminate the errors introduced by the annotation tool).\n",
      "\n",
      "* **`<docno>.edus`** - edus (elementary discourse units) listed line by line.\n",
      "\n",
      "## RSTtrees-WSJ-double-1.0\n",
      "This directory contains the same types of files as the subdirectory RSTtrees-WSJ-main-1.0, for 53 documents which were reviewed by a second analyst. "
     ]
    },
    {
     "cell_type": "code",
     "collapsed": false,
     "input": [
      "import os\n",
      "import glob\n",
      "\n",
      "RSTDT_MAIN_ROOT = os.path.expanduser('~/corpora/rst_discourse_treebank/data/RSTtrees-WSJ-main-1.0')\n",
      "RSTDT_DOUBLE_ROOT = os.path.expanduser('~/corpora/rst_discourse_treebank/data/RSTtrees-WSJ-double-1.0')\n",
      "\n",
      "RSTDT_TEST_FILE = os.path.join(RSTDT_MAIN_ROOT, 'TEST', 'wsj_1197.out.dis')"
     ],
     "language": "python",
     "metadata": {},
     "outputs": [],
     "prompt_number": 1
    },
    {
     "cell_type": "code",
     "collapsed": false,
     "input": [
      "# for folder in ('TEST', 'TRAINING'):\n",
      "#     for rst_file in glob.glob(os.path.join(RSTDT_MAIN_ROOT, folder, '*.dis')):\n",
      "#         print rst_file\n"
     ],
     "language": "python",
     "metadata": {},
     "outputs": [],
     "prompt_number": 2
    },
    {
     "cell_type": "code",
     "collapsed": false,
     "input": [
      "with open(RSTDT_TEST_FILE) as rstfile:\n",
      "    print rstfile.read()"
     ],
     "language": "python",
     "metadata": {},
     "outputs": [
      {
       "output_type": "stream",
       "stream": "stdout",
       "text": [
        "( Root (span 1 6)\n",
        "  ( Nucleus (span 1 3) (rel2par span)\n",
        "    ( Nucleus (leaf 1) (rel2par span) (text _!Homestake Mining Co., San Francisco, blamed the continued slump in gold prices for an 83% plunge in third-quarter net income to $2 million, or two cents a share, from $11.2 million, or 12 cents a share, a year earlier.<P>_!) )\n",
        "    ( Satellite (span 2 3) (rel2par elaboration-additional)\n",
        "      ( Nucleus (leaf 2) (rel2par List) (text _!Revenue rose 5% to $110.4 million from $105.4 million.<P>_!) )\n",
        "      ( Nucleus (leaf 3) (rel2par List) (text _!In New York Stock Exchange composite trading, Homestake closed at $15.25, down 25 cents.<P>_!) )\n",
        "    )\n",
        "  )\n",
        "  ( Satellite (span 4 6) (rel2par result)\n",
        "    ( Nucleus (span 4 5) (rel2par span)\n",
        "      ( Nucleus (leaf 4) (rel2par span) (text _!\"A significant increase in gold sales to 248,279 ounces for the quarter from 188,726 in the third quarter of 1988 was more than offset by the continued decline in average gold price realization to $367 from $429 per ounce,\"_!) )\n",
        "      ( Satellite (leaf 5) (rel2par attribution) (text _!the company said.<P>_!) )\n",
        "    )\n",
        "    ( Satellite (leaf 6) (rel2par evidence) (text _!For the nine months, the mining company posted a 40% drop in profit to $30.1 million, or 31 cents a share, from $50.6 million, or 52 cents a share, on a 6% rise in revenue to $323.2 million from $305.7 million._!) )\n",
        "  )\n",
        ")\n",
        "\n"
       ]
      }
     ],
     "prompt_number": 3
    },
    {
     "cell_type": "code",
     "collapsed": false,
     "input": [
      "import sexpdata"
     ],
     "language": "python",
     "metadata": {},
     "outputs": [],
     "prompt_number": 4
    },
    {
     "cell_type": "code",
     "collapsed": false,
     "input": [
      "with open(RSTDT_TEST_FILE) as rstfile:\n",
      "    rst_dict = sexpdata.load(rstfile)\n"
     ],
     "language": "python",
     "metadata": {},
     "outputs": [],
     "prompt_number": 135
    },
    {
     "cell_type": "code",
     "collapsed": false,
     "input": [
      "def sexp2tree(sexp, indent=0):\n",
      "    tree = []\n",
      "    for i, symbol in enumerate(sexp):\n",
      "        tree.append(\"{0}{1} {2}: {3}\".format('\\t'*indent, i, type(symbol), symbol))\n",
      "        try:\n",
      "            for element in symbol:\n",
      "                tree.extend(sexp2tree(element, indent=indent+1))\n",
      "        except TypeError as e:\n",
      "            pass # element is not iterable, i.e. it doesn't contain other symbols\n",
      "    return tree"
     ],
     "language": "python",
     "metadata": {},
     "outputs": [],
     "prompt_number": 136
    },
    {
     "cell_type": "code",
     "collapsed": false,
     "input": [
      "sexp2tree(rst_dict)"
     ],
     "language": "python",
     "metadata": {},
     "outputs": [
      {
       "metadata": {},
       "output_type": "pyout",
       "prompt_number": 137,
       "text": [
        "[\"0 <class 'sexpdata.Symbol'>: Symbol('Root')\",\n",
        " \"1 <type 'list'>: [Symbol('span'), 1, 6]\",\n",
        " \"2 <type 'list'>: [Symbol('Nucleus'), [Symbol('span'), 1, 3], [Symbol('rel2par'), Symbol('span')], [Symbol('Nucleus'), [Symbol('leaf'), 1], [Symbol('rel2par'), Symbol('span')], [Symbol('text'), Symbol('_!Homestake'), Symbol('Mining'), Symbol('Co.,'), Symbol('San'), Symbol('Francisco,'), Symbol('blamed'), Symbol('the'), Symbol('continued'), Symbol('slump'), Symbol('in'), Symbol('gold'), Symbol('prices'), Symbol('for'), Symbol('an'), Symbol('83%'), Symbol('plunge'), Symbol('in'), Symbol('third-quarter'), Symbol('net'), Symbol('income'), Symbol('to'), Symbol('$2'), Symbol('million,'), Symbol('or'), Symbol('two'), Symbol('cents'), Symbol('a'), Symbol('share,'), Symbol('from'), Symbol('$11.2'), Symbol('million,'), Symbol('or'), 12, Symbol('cents'), Symbol('a'), Symbol('share,'), Symbol('a'), Symbol('year'), Symbol('earlier.<P>_!')]], [Symbol('Satellite'), [Symbol('span'), 2, 3], [Symbol('rel2par'), Symbol('elaboration-additional')], [Symbol('Nucleus'), [Symbol('leaf'), 2], [Symbol('rel2par'), Symbol('List')], [Symbol('text'), Symbol('_!Revenue'), Symbol('rose'), Symbol('5%'), Symbol('to'), Symbol('$110.4'), Symbol('million'), Symbol('from'), Symbol('$105.4'), Symbol('million.<P>_!')]], [Symbol('Nucleus'), [Symbol('leaf'), 3], [Symbol('rel2par'), Symbol('List')], [Symbol('text'), Symbol('_!In'), Symbol('New'), Symbol('York'), Symbol('Stock'), Symbol('Exchange'), Symbol('composite'), Symbol('trading,'), Symbol('Homestake'), Symbol('closed'), Symbol('at'), Symbol('$15.25,'), Symbol('down'), 25, Symbol('cents.<P>_!')]]]]\",\n",
        " \"3 <type 'list'>: [Symbol('Satellite'), [Symbol('span'), 4, 6], [Symbol('rel2par'), Symbol('result')], [Symbol('Nucleus'), [Symbol('span'), 4, 5], [Symbol('rel2par'), Symbol('span')], [Symbol('Nucleus'), [Symbol('leaf'), 4], [Symbol('rel2par'), Symbol('span')], [Symbol('text'), Symbol('_!'), 'A significant increase in gold sales to 248,279 ounces for the quarter from 188,726 in the third quarter of 1988 was more than offset by the continued decline in average gold price realization to $367 from $429 per ounce,', Symbol('_!')]], [Symbol('Satellite'), [Symbol('leaf'), 5], [Symbol('rel2par'), Symbol('attribution')], [Symbol('text'), Symbol('_!the'), Symbol('company'), Symbol('said.<P>_!')]]], [Symbol('Satellite'), [Symbol('leaf'), 6], [Symbol('rel2par'), Symbol('evidence')], [Symbol('text'), Symbol('_!For'), Symbol('the'), Symbol('nine'), Symbol('months,'), Symbol('the'), Symbol('mining'), Symbol('company'), Symbol('posted'), Symbol('a'), Symbol('40%'), Symbol('drop'), Symbol('in'), Symbol('profit'), Symbol('to'), Symbol('$30.1'), Symbol('million,'), Symbol('or'), 31, Symbol('cents'), Symbol('a'), Symbol('share,'), Symbol('from'), Symbol('$50.6'), Symbol('million,'), Symbol('or'), 52, Symbol('cents'), Symbol('a'), Symbol('share,'), Symbol('on'), Symbol('a'), Symbol('6%'), Symbol('rise'), Symbol('in'), Symbol('revenue'), Symbol('to'), Symbol('$323.2'), Symbol('million'), Symbol('from'), Symbol('$305.7'), Symbol('million._!')]]]\"]"
       ]
      }
     ],
     "prompt_number": 137
    },
    {
     "cell_type": "code",
     "collapsed": false,
     "input": [
      "import nltk\n",
      "from nltk.corpus import BracketParseCorpusReader"
     ],
     "language": "python",
     "metadata": {},
     "outputs": [],
     "prompt_number": 106
    },
    {
     "cell_type": "code",
     "collapsed": false,
     "input": [
      "rst_path, rst_filename = os.path.split(RSTDT_TEST_FILE)\n",
      "\n",
      "parsed_doc = BracketParseCorpusReader(rst_path, [rst_filename])\n",
      "parsed_sents_iter = parsed_doc.parsed_sents()\n",
      "rst_tree = parsed_sents_iter[0]"
     ],
     "language": "python",
     "metadata": {},
     "outputs": [],
     "prompt_number": 107
    },
    {
     "cell_type": "code",
     "collapsed": false,
     "input": [
      "leaf_tree = rst_tree[1][2]"
     ],
     "language": "python",
     "metadata": {},
     "outputs": [],
     "prompt_number": 11
    },
    {
     "cell_type": "code",
     "collapsed": false,
     "input": [
      "list(leaf_tree.subtrees())"
     ],
     "language": "python",
     "metadata": {},
     "outputs": [
      {
       "metadata": {},
       "output_type": "pyout",
       "prompt_number": 12,
       "text": [
        "[Tree('Nucleus', [Tree('leaf', ['1']), Tree('rel2par', ['span']), Tree('text', ['_!Homestake', 'Mining', 'Co.,', 'San', 'Francisco,', 'blamed', 'the', 'continued', 'slump', 'in', 'gold', 'prices', 'for', 'an', '83%', 'plunge', 'in', 'third-quarter', 'net', 'income', 'to', '$2', 'million,', 'or', 'two', 'cents', 'a', 'share,', 'from', '$11.2', 'million,', 'or', '12', 'cents', 'a', 'share,', 'a', 'year', 'earlier.<P>_!'])]),\n",
        " Tree('leaf', ['1']),\n",
        " Tree('rel2par', ['span']),\n",
        " Tree('text', ['_!Homestake', 'Mining', 'Co.,', 'San', 'Francisco,', 'blamed', 'the', 'continued', 'slump', 'in', 'gold', 'prices', 'for', 'an', '83%', 'plunge', 'in', 'third-quarter', 'net', 'income', 'to', '$2', 'million,', 'or', 'two', 'cents', 'a', 'share,', 'from', '$11.2', 'million,', 'or', '12', 'cents', 'a', 'share,', 'a', 'year', 'earlier.<P>_!'])]"
       ]
      }
     ],
     "prompt_number": 12
    },
    {
     "cell_type": "code",
     "collapsed": false,
     "input": [
      "import discoursegraphs as dg\n",
      "\n",
      "\n",
      "RST_LISP_GRAPH = dg.DiscourseDocumentGraph()\n",
      "RST_LISP_GRAPH._node_id = 1\n",
      "\n",
      "def parse_leaf(tree):\n",
      "    for subtree in tree:\n",
      "        node_label = get_nodelabel(subtree)\n",
      "        if node_label == 'leaf':\n",
      "            leaf_node_id = 'rst:edu:{}'.format(subtree.leaves()[0])\n",
      "            RST_LISP_GRAPH.node[RST_LISP_GRAPH._node_id]['label'] = leaf_node_id\n",
      "        elif node_label == 'rel2par':\n",
      "            RST_LISP_GRAPH.node[RST_LISP_GRAPH._node_id]['rel_type'] = subtree.leaves()[0]\n",
      "        elif node_label == 'text':\n",
      "            RST_LISP_GRAPH.node[RST_LISP_GRAPH._node_id]['rst:text'] = u' '.join(subtree.leaves())\n",
      "        else:\n",
      "            raise ValueError(\"Unknown subtree in leaf position: {}\".format(tree))\n",
      "\n",
      "def get_nodelabel(node):\n",
      "    if isinstance(node, nltk.tree.Tree):\n",
      "        return node.label()\n",
      "    elif isinstance(node, unicode):\n",
      "        return node.encode('utf-8')\n",
      "    else:\n",
      "        raise ValueError(\"Unexpected node type: {}, {}\".format(type(node), node))\n",
      "            \n",
      "def parse_rst_tree(tree, parent_node_id=None):\n",
      "    root_node_id = RST_LISP_GRAPH._node_id\n",
      "    if root_node_id in RST_LISP_GRAPH:\n",
      "        RST_LISP_GRAPH.node[root_node_id]['label'] = get_nodelabel(tree)\n",
      "    else:\n",
      "        RST_LISP_GRAPH.add_node(root_node_id, label=get_nodelabel(tree))\n",
      "\n",
      "    for subtree in tree:\n",
      "        node_label = get_nodelabel(subtree)\n",
      "        if node_label == 'span':\n",
      "            RST_LISP_GRAPH.node[RST_LISP_GRAPH._node_id]['span'] = subtree.leaves()\n",
      "            continue\n",
      "        elif node_label == 'rel2par':\n",
      "            RST_LISP_GRAPH.node[RST_LISP_GRAPH._node_id]['rel_type'] = subtree.leaves()[0]\n",
      "            continue\n",
      "        elif node_label == 'leaf':\n",
      "            parse_leaf(tree)\n",
      "            break\n",
      "        else:\n",
      "            RST_LISP_GRAPH._node_id += 1\n",
      "        \n",
      "\n",
      "        if isinstance(subtree, nltk.tree.Tree):\n",
      "            node_attrs = {'label': node_label}\n",
      "            edge_type = dg.EdgeTypes.dominance_relation\n",
      "            RST_LISP_GRAPH.add_node(RST_LISP_GRAPH._node_id, attr_dict=node_attrs)\n",
      "            RST_LISP_GRAPH.add_edge(root_node_id, RST_LISP_GRAPH._node_id, edge_type=edge_type)\n",
      "\n",
      "        # ignore Tree('text', ['_!Homestake', 'Mining' ..]) for the moment\n",
      "#         else: # isinstance(subtree, unicode); subtree is a token\n",
      "#             # we'll have to modify the parent node of a token, since\n",
      "#             # in NLTK Trees, even a leaf node (with its POS tag) is\n",
      "#             # represented as a Tree (an iterator over a single unicode\n",
      "#             # string), e.g. ``Tree('NNS', ['prices'])``\n",
      "#             pos_tag = RST_LISP_GRAPH.node[parent_node_id]['label']\n",
      "#             RST_LISP_GRAPH.node[parent_node_id] = {\n",
      "#                 'label': node_label, RST_LISP_GRAPH.ns+':token': node_label,\n",
      "#                 RST_LISP_GRAPH.ns+':pos': pos_tag}\n",
      "#             RST_LISP_GRAPH.tokens.append(parent_node_id)\n",
      "\n",
      "        if isinstance(subtree, nltk.tree.Tree):\n",
      "            parse_rst_tree(subtree, parent_node_id=RST_LISP_GRAPH._node_id)"
     ],
     "language": "python",
     "metadata": {},
     "outputs": [
      {
       "output_type": "stream",
       "stream": "stdout",
       "text": [
        "Couldn't import dot_parser, loading of dot files will not be possible.\n"
       ]
      }
     ],
     "prompt_number": 13
    },
    {
     "cell_type": "code",
     "collapsed": false,
     "input": [
      "parse_rst_tree(rst_tree)"
     ],
     "language": "python",
     "metadata": {},
     "outputs": [],
     "prompt_number": 14
    },
    {
     "cell_type": "code",
     "collapsed": false,
     "input": [
      "# %load_ext gvmagic"
     ],
     "language": "python",
     "metadata": {},
     "outputs": [],
     "prompt_number": 86
    },
    {
     "cell_type": "code",
     "collapsed": false,
     "input": [
      "# %dotstr dg.print_dot(RST_LISP_GRAPH)"
     ],
     "language": "python",
     "metadata": {},
     "outputs": [],
     "prompt_number": 87
    },
    {
     "cell_type": "heading",
     "level": 1,
     "metadata": {},
     "source": [
      "Find all possible RST structure to build a correct *.dis parser"
     ]
    },
    {
     "cell_type": "code",
     "collapsed": false,
     "input": [
      "BROKEN_RST_FILES = (\n",
      "    '/home/arne/corpora/rst_discourse_treebank/data/RSTtrees-WSJ-main-1.0/TRAINING/wsj_1107.out.dis',\n",
      "    '/home/arne/corpora/rst_discourse_treebank/data/RSTtrees-WSJ-main-1.0/TRAINING/wsj_2353.out.dis',\n",
      "    '/home/arne/corpora/rst_discourse_treebank/data/RSTtrees-WSJ-main-1.0/TRAINING/wsj_2367.out.dis')"
     ],
     "language": "python",
     "metadata": {},
     "outputs": [],
     "prompt_number": 111
    },
    {
     "cell_type": "code",
     "collapsed": false,
     "input": [
      "import time\n",
      "from collections import defaultdict, Counter\n",
      "\n",
      "from nltk.corpus import BracketParseCorpusReader\n",
      "\n",
      "\n",
      "productions = defaultdict(lambda : defaultdict(int))\n",
      "\n",
      "for folder in ('TEST', 'TRAINING'):\n",
      "    for rst_file in glob.glob(os.path.join(RSTDT_MAIN_ROOT, folder, '*.dis')):\n",
      "        if rst_file not in BROKEN_RST_FILES:\n",
      "            rst_path, rst_filename = os.path.split(rst_file)\n",
      "            parsed_doc = BracketParseCorpusReader(rst_path, [rst_filename])\n",
      "            # there's only one RST tree in a RST-DT document\n",
      "            for rst_tree in parsed_doc.parsed_sents():\n",
      "                for prod in rst_tree.productions():\n",
      "                    lhs = prod.lhs().symbol()\n",
      "                    if not lhs == u'text':\n",
      "                        productions[lhs][prod.rhs()] += 1"
     ],
     "language": "python",
     "metadata": {},
     "outputs": [],
     "prompt_number": 156
    },
    {
     "cell_type": "code",
     "collapsed": false,
     "input": [
      "# productions.keys() # includes lots of strings like u'Canada'"
     ],
     "language": "python",
     "metadata": {},
     "outputs": [],
     "prompt_number": 120
    },
    {
     "cell_type": "markdown",
     "metadata": {},
     "source": [
      "# \"(\" and \")\" aren't escaped in text field!\n",
      "\n",
      "* /home/arne/corpora/rst_discourse_treebank/data/RSTtrees-WSJ-main-1.0/TRAINING/wsj_0612.out.dis\n",
      "\n",
      "```\n",
      "  ( Satellite (span 22 28) (rel2par elaboration-set-member-e)\n",
      "    ( Nucleus (span 22 23) (rel2par span)\n",
      "      ( Nucleus (leaf 22) (rel2par span) (text _!Canadian Imperial Bank of Commerce_!) )\n",
      "      ( Satellite (leaf 23) (rel2par elaboration-additional) (text _!(Canada) --_!) )\n",
      "    )\n",
      "```"
     ]
    },
    {
     "cell_type": "code",
     "collapsed": false,
     "input": [
      "broken_productions = defaultdict(lambda : defaultdict(int))\n",
      "\n",
      "for broken_file in BROKEN_RST_FILES:\n",
      "    rst_path, rst_filename = os.path.split(broken_file)\n",
      "    parsed_doc = nltk.corpus.BracketParseCorpusReader(rst_path, [rst_filename])\n",
      "    # there's only one RST tree in a RST-DT document\n",
      "    for rst_tree in parsed_doc.parsed_sents():\n",
      "        for prod in rst_tree.productions():\n",
      "            lhs = prod.lhs().symbol()\n",
      "            if not lhs == u'text':\n",
      "                broken_productions[lhs][prod.rhs()] += 1"
     ],
     "language": "python",
     "metadata": {},
     "outputs": [
      {
       "output_type": "stream",
       "stream": "stderr",
       "text": [
        "Bad tree detected; trying to recover...\n",
        "  Recovered by returning a flat parse.\n",
        "Bad tree detected; trying to recover...\n",
        "  Recovered by returning a flat parse.\n",
        "Bad tree detected; trying to recover...\n",
        "  Recovered by returning a flat parse.\n"
       ]
      }
     ],
     "prompt_number": 116
    },
    {
     "cell_type": "markdown",
     "metadata": {},
     "source": [
      "# RST tree rules\n",
      "\n",
      "* Root --> span (N+ | N S | S N)\n",
      "* Nucleus --> leaf rel2par text (N | S | re.compile('.*_!') )?\n",
      "* Nucleus --> span rel2par (N+ | N S | S N | S N S)\n",
      "* Satellite --> leaf rel2par text (N | re.compile('.*_!') )?\n",
      "* Satellite --> span rel2par (N+ | N S | S | S N | S N S)\n",
      "* rel2par --> any RST relation string"
     ]
    },
    {
     "cell_type": "code",
     "collapsed": false,
     "input": [
      "for symbol in ('Satellite',):\n",
      "# for symbol in ('Root', 'Nucleus', 'Satellite', 'rel2par'):\n",
      "    print \"\\n{}\\n{}\\n\".format(symbol, '='*len(symbol))\n",
      "    for rhs in productions[symbol]:\n",
      "        rhs_begin = rhs[0]\n",
      "        if isinstance(rhs_begin, nltk.grammar.Nonterminal) \\\n",
      "        and rhs_begin.symbol() == u'leaf':\n",
      "            print '\\t', rhs"
     ],
     "language": "python",
     "metadata": {},
     "outputs": [
      {
       "output_type": "stream",
       "stream": "stdout",
       "text": [
        "\n",
        "Satellite\n",
        "=========\n",
        "\n",
        "\t(leaf, rel2par, text, u',_!')\n",
        "\t(leaf, rel2par, text, u'_!')\n",
        "\t(leaf, rel2par, text)\n",
        "\t(leaf, rel2par, text, u'<P>_!')\n",
        "\t(leaf, rel2par, text, u'.<P>_!')\n",
        "\t(leaf, rel2par, text, u'._!')\n",
        "\t(leaf, rel2par, text, Nucleus)\n"
       ]
      }
     ],
     "prompt_number": 161
    },
    {
     "cell_type": "code",
     "collapsed": false,
     "input": [
      "import sys\n",
      "import traceback\n",
      "\n",
      "rst_trees = []\n",
      "for folder in ('TEST', 'TRAINING'):\n",
      "    for rst_fpath in glob.glob(os.path.join(RSTDT_MAIN_ROOT, folder, '*.dis')):\n",
      "            with open(rst_fpath) as rstfile:\n",
      "                try:\n",
      "                    rst_dict = sexpdata.load(rstfile)\n",
      "                    rst_trees.append(sexp2tree(rst_dict))\n",
      "                except sexpdata.ExpectClosingBracket as e:\n",
      "                    sys.stderr.write(u\"{}\\n{}\\n\\n\".format(rst_fpath, e))\n",
      "                except sexpdata.ExpectNothing as e:\n",
      "                    error_msg = e.args[0][:100] # complete msg contains whole document\n",
      "                    sys.stderr.write(u\"{}\\n{}\\n\\n\".format(rst_fpath, e.args[0][:100]))\n",
      "                except AssertionError as e:\n",
      "                    sys.stderr.write(u\"{}\\n{}\\n\\n\".format(rst_fpath, traceback.format_exc()))\n",
      "                except AttributeError as e:\n",
      "                    sys.stderr.write(u\"{}\\n{}\\n\\n\".format(rst_fpath, traceback.format_exc()))"
     ],
     "language": "python",
     "metadata": {},
     "outputs": [
      {
       "output_type": "stream",
       "stream": "stderr",
       "text": [
        "/home/arne/corpora/rst_discourse_treebank/data/RSTtrees-WSJ-main-1.0/TEST/wsj_2386.out.dis\n",
        "Not enough closing brackets. Expected ')' to be the last letter in the sexp. Got: None\n",
        "\n",
        "/home/arne/corpora/rst_discourse_treebank/data/RSTtrees-WSJ-main-1.0/TEST/wsj_0627.out.dis\n",
        "Too many closing brackets. Expected no character left in the sexp. Got: ')\\n)\\n'\n",
        "\n",
        "/home/arne/corpora/rst_discourse_treebank/data/RSTtrees-WSJ-main-1.0/TEST/wsj_0689.out.dis\n",
        "Too many closing brackets. Expected no character left in the sexp. Got: ')\\n)\\n'\n",
        "\n"
       ]
      },
      {
       "output_type": "stream",
       "stream": "stderr",
       "text": [
        "/home/arne/corpora/rst_discourse_treebank/data/RSTtrees-WSJ-main-1.0/TEST/wsj_1189.out.dis\n",
        "Too many closing brackets. Expected no character left in the sexp. Got: ')\\n      )\\n      ( Nucleus\n",
        "\n",
        "/home/arne/corpora/rst_discourse_treebank/data/RSTtrees-WSJ-main-1.0/TEST/wsj_2354.out.dis\n",
        "Too many closing brackets. Expected no character left in the sexp. Got: ')\\n'\n",
        "\n",
        "/home/arne/corpora/rst_discourse_treebank/data/RSTtrees-WSJ-main-1.0/TEST/wsj_0655.out.dis\n",
        "Too many closing brackets. Expected no character left in the sexp. Got: ')\\n    )\\n  )\\n)\\n'\n",
        "\n"
       ]
      },
      {
       "output_type": "stream",
       "stream": "stderr",
       "text": [
        "/home/arne/corpora/rst_discourse_treebank/data/RSTtrees-WSJ-main-1.0/TEST/wsj_1376.out.dis\n",
        "Too many closing brackets. Expected no character left in the sexp. Got: ')\\n          )\\n        )\\n\n",
        "\n",
        "/home/arne/corpora/rst_discourse_treebank/data/RSTtrees-WSJ-main-1.0/TEST/wsj_0623.out.dis\n",
        "Not enough closing brackets. Expected ')' to be the last letter in the sexp. Got: None\n",
        "\n",
        "/home/arne/corpora/rst_discourse_treebank/data/RSTtrees-WSJ-main-1.0/TEST/wsj_1142.out.dis\n",
        "Not enough closing brackets. Expected ')' to be the last letter in the sexp. Got: None\n",
        "\n"
       ]
      },
      {
       "output_type": "stream",
       "stream": "stderr",
       "text": [
        "/home/arne/corpora/rst_discourse_treebank/data/RSTtrees-WSJ-main-1.0/TEST/wsj_1146.out.dis\n",
        "Not enough closing brackets. Expected ')' to be the last letter in the sexp. Got: None\n",
        "\n",
        "/home/arne/corpora/rst_discourse_treebank/data/RSTtrees-WSJ-main-1.0/TRAINING/wsj_1303.out.dis\n",
        "Not enough closing brackets. Expected ')' to be the last letter in the sexp. Got: None\n",
        "\n"
       ]
      },
      {
       "output_type": "stream",
       "stream": "stderr",
       "text": [
        "/home/arne/corpora/rst_discourse_treebank/data/RSTtrees-WSJ-main-1.0/TRAINING/wsj_2321.out.dis\n",
        "Not enough closing brackets. Expected ')' to be the last letter in the sexp. Got: None\n",
        "\n",
        "/home/arne/corpora/rst_discourse_treebank/data/RSTtrees-WSJ-main-1.0/TRAINING/wsj_1371.out.dis\n",
        "Too many closing brackets. Expected no character left in the sexp. Got: \")\\n  ( Nucleus (leaf 47) (r\n",
        "\n",
        "/home/arne/corpora/rst_discourse_treebank/data/RSTtrees-WSJ-main-1.0/TRAINING/wsj_0605.out.dis\n",
        "Too many closing brackets. Expected no character left in the sexp. Got: ')\\n'\n",
        "\n",
        "/home/arne/corpora/rst_discourse_treebank/data/RSTtrees-WSJ-main-1.0/TRAINING/wsj_0679.out.dis\n",
        "Too many closing brackets. Expected no character left in the sexp. Got: ')\\n  ( Satellite (span 17 2\n",
        "\n",
        "/home/arne/corpora/rst_discourse_treebank/data/RSTtrees-WSJ-main-1.0/TRAINING/wsj_2346.out.dis\n",
        "Too many closing brackets. Expected no character left in the sexp. Got: ')\\n  ( Nucleus (span 74 89)\n",
        "\n"
       ]
      },
      {
       "output_type": "stream",
       "stream": "stderr",
       "text": [
        "/home/arne/corpora/rst_discourse_treebank/data/RSTtrees-WSJ-main-1.0/TRAINING/wsj_1107.out.dis\n",
        "Too many closing brackets. Expected no character left in the sexp. Got: ')\\n    ( Nucleus (span 34 5\n",
        "\n",
        "/home/arne/corpora/rst_discourse_treebank/data/RSTtrees-WSJ-main-1.0/TRAINING/wsj_2353.out.dis\n",
        "Traceback (most recent call last):\n",
        "  File \"<ipython-input-151-373088bd8f87>\", line 9, in <module>\n",
        "    rst_dict = sexpdata.load(rstfile)\n",
        "  File \"/usr/local/lib/python2.7/dist-packages/sexpdata.py\", line 171, in load\n",
        "    return loads(filelike.read(), **kwds)\n",
        "  File \"/usr/local/lib/python2.7/dist-packages/sexpdata.py\", line 244, in loads\n",
        "    assert len(obj) == 1  # FIXME: raise an appropriate error\n",
        "AssertionError\n",
        "\n",
        "\n",
        "/home/arne/corpora/rst_discourse_treebank/data/RSTtrees-WSJ-main-1.0/TRAINING/wsj_1963.out.dis\n",
        "Too many closing brackets. Expected no character left in the sexp. Got: ')\\n  ( Satellite (span 42 4\n",
        "\n"
       ]
      },
      {
       "output_type": "stream",
       "stream": "stderr",
       "text": [
        "/home/arne/corpora/rst_discourse_treebank/data/RSTtrees-WSJ-main-1.0/TRAINING/wsj_1111.out.dis\n",
        "Too many closing brackets. Expected no character left in the sexp. Got: ')\\n'\n",
        "\n",
        "/home/arne/corpora/rst_discourse_treebank/data/RSTtrees-WSJ-main-1.0/TRAINING/wsj_1374.out.dis\n",
        "Too many closing brackets. Expected no character left in the sexp. Got: ')\\n'\n",
        "\n",
        "/home/arne/corpora/rst_discourse_treebank/data/RSTtrees-WSJ-main-1.0/TRAINING/wsj_2395.out.dis\n",
        "Not enough closing brackets. Expected ')' to be the last letter in the sexp. Got: None\n",
        "\n"
       ]
      },
      {
       "output_type": "stream",
       "stream": "stderr",
       "text": [
        "/home/arne/corpora/rst_discourse_treebank/data/RSTtrees-WSJ-main-1.0/TRAINING/wsj_1322.out.dis\n",
        "Too many closing brackets. Expected no character left in the sexp. Got: ')\\n  )\\n)\\n'\n",
        "\n",
        "/home/arne/corpora/rst_discourse_treebank/data/RSTtrees-WSJ-main-1.0/TRAINING/wsj_2344.out.dis\n",
        "Too many closing brackets. Expected no character left in the sexp. Got: ')\\n'\n",
        "\n",
        "/home/arne/corpora/rst_discourse_treebank/data/RSTtrees-WSJ-main-1.0/TRAINING/wsj_0617.out.dis\n",
        "Too many closing brackets. Expected no character left in the sexp. Got: ')\\n        ( Satellite (spa\n",
        "\n",
        "/home/arne/corpora/rst_discourse_treebank/data/RSTtrees-WSJ-main-1.0/TRAINING/wsj_0606.out.dis\n",
        "Too many closing brackets. Expected no character left in the sexp. Got: ')\\n'\n",
        "\n"
       ]
      },
      {
       "output_type": "stream",
       "stream": "stderr",
       "text": [
        "/home/arne/corpora/rst_discourse_treebank/data/RSTtrees-WSJ-main-1.0/TRAINING/wsj_0641.out.dis\n",
        "Too many closing brackets. Expected no character left in the sexp. Got: ')\\n'\n",
        "\n",
        "/home/arne/corpora/rst_discourse_treebank/data/RSTtrees-WSJ-main-1.0/TRAINING/wsj_1162.out.dis\n",
        "Not enough closing brackets. Expected ')' to be the last letter in the sexp. Got: None\n",
        "\n",
        "/home/arne/corpora/rst_discourse_treebank/data/RSTtrees-WSJ-main-1.0/TRAINING/wsj_1150.out.dis\n",
        "Not enough closing brackets. Expected ')' to be the last letter in the sexp. Got: None\n",
        "\n",
        "/home/arne/corpora/rst_discourse_treebank/data/RSTtrees-WSJ-main-1.0/TRAINING/wsj_1149.out.dis\n",
        "Too many closing brackets. Expected no character left in the sexp. Got: ')\\n  ( Satellite (span 44 6\n",
        "\n"
       ]
      },
      {
       "output_type": "stream",
       "stream": "stderr",
       "text": [
        "/home/arne/corpora/rst_discourse_treebank/data/RSTtrees-WSJ-main-1.0/TRAINING/wsj_1320.out.dis\n",
        "Not enough closing brackets. Expected ')' to be the last letter in the sexp. Got: None\n",
        "\n",
        "/home/arne/corpora/rst_discourse_treebank/data/RSTtrees-WSJ-main-1.0/TRAINING/wsj_1171.out.dis\n",
        "Too many closing brackets. Expected no character left in the sexp. Got: ')\\n'\n",
        "\n"
       ]
      },
      {
       "output_type": "stream",
       "stream": "stderr",
       "text": [
        "/home/arne/corpora/rst_discourse_treebank/data/RSTtrees-WSJ-main-1.0/TRAINING/wsj_0614.out.dis\n",
        "Too many closing brackets. Expected no character left in the sexp. Got: ')\\n'\n",
        "\n",
        "/home/arne/corpora/rst_discourse_treebank/data/RSTtrees-WSJ-main-1.0/TRAINING/wsj_1110.out.dis\n",
        "Too many closing brackets. Expected no character left in the sexp. Got: ')\\n    )\\n  )\\n)\\n'\n",
        "\n",
        "/home/arne/corpora/rst_discourse_treebank/data/RSTtrees-WSJ-main-1.0/TRAINING/wsj_1970.out.dis\n",
        "Too many closing brackets. Expected no character left in the sexp. Got: ')\\n      ( Satellite (span \n",
        "\n"
       ]
      },
      {
       "output_type": "stream",
       "stream": "stderr",
       "text": [
        "/home/arne/corpora/rst_discourse_treebank/data/RSTtrees-WSJ-main-1.0/TRAINING/wsj_0620.out.dis\n",
        "Not enough closing brackets. Expected ')' to be the last letter in the sexp. Got: None\n",
        "\n",
        "/home/arne/corpora/rst_discourse_treebank/data/RSTtrees-WSJ-main-1.0/TRAINING/wsj_2331.out.dis\n",
        "Not enough closing brackets. Expected ')' to be the last letter in the sexp. Got: None\n",
        "\n",
        "/home/arne/corpora/rst_discourse_treebank/data/RSTtrees-WSJ-main-1.0/TRAINING/wsj_2343.out.dis\n",
        "Not enough closing brackets. Expected ')' to be the last letter in the sexp. Got: None\n",
        "\n"
       ]
      },
      {
       "output_type": "stream",
       "stream": "stderr",
       "text": [
        "/home/arne/corpora/rst_discourse_treebank/data/RSTtrees-WSJ-main-1.0/TRAINING/wsj_1366.out.dis\n",
        "Not enough closing brackets. Expected ')' to be the last letter in the sexp. Got: None\n",
        "\n",
        "/home/arne/corpora/rst_discourse_treebank/data/RSTtrees-WSJ-main-1.0/TRAINING/wsj_1349.out.dis\n",
        "Too many closing brackets. Expected no character left in the sexp. Got: ')\\n)\\n'\n",
        "\n",
        "/home/arne/corpora/rst_discourse_treebank/data/RSTtrees-WSJ-main-1.0/TRAINING/wsj_1314.out.dis\n",
        "Not enough closing brackets. Expected ')' to be the last letter in the sexp. Got: None\n",
        "\n"
       ]
      },
      {
       "output_type": "stream",
       "stream": "stderr",
       "text": [
        "/home/arne/corpora/rst_discourse_treebank/data/RSTtrees-WSJ-main-1.0/TRAINING/wsj_0656.out.dis\n",
        "Too many closing brackets. Expected no character left in the sexp. Got: ')\\n'\n",
        "\n",
        "/home/arne/corpora/rst_discourse_treebank/data/RSTtrees-WSJ-main-1.0/TRAINING/wsj_1347.out.dis\n",
        "Not enough closing brackets. Expected ')' to be the last letter in the sexp. Got: None\n",
        "\n",
        "/home/arne/corpora/rst_discourse_treebank/data/RSTtrees-WSJ-main-1.0/TRAINING/wsj_1116.out.dis\n",
        "Not enough closing brackets. Expected ')' to be the last letter in the sexp. Got: None\n",
        "\n",
        "/home/arne/corpora/rst_discourse_treebank/data/RSTtrees-WSJ-main-1.0/TRAINING/wsj_2315.out.dis\n",
        "Not enough closing brackets. Expected ')' to be the last letter in the sexp. Got: None\n",
        "\n",
        "/home/arne/corpora/rst_discourse_treebank/data/RSTtrees-WSJ-main-1.0/TRAINING/wsj_0683.out.dis\n",
        "Not enough closing brackets. Expected ')' to be the last letter in the sexp. Got: None\n",
        "\n"
       ]
      },
      {
       "output_type": "stream",
       "stream": "stderr",
       "text": [
        "/home/arne/corpora/rst_discourse_treebank/data/RSTtrees-WSJ-main-1.0/TRAINING/wsj_1984.out.dis\n",
        "Too many closing brackets. Expected no character left in the sexp. Got: ')\\n      )\\n    )\\n  )\\n  (\n",
        "\n",
        "/home/arne/corpora/rst_discourse_treebank/data/RSTtrees-WSJ-main-1.0/TRAINING/wsj_2313.out.dis\n",
        "Too many closing brackets. Expected no character left in the sexp. Got: ')\\n    )\\n  )\\n)\\n'\n",
        "\n",
        "/home/arne/corpora/rst_discourse_treebank/data/RSTtrees-WSJ-main-1.0/TRAINING/wsj_1962.out.dis\n",
        "Too many closing brackets. Expected no character left in the sexp. Got: \")\\n  ( Nucleus (span 121 12\n",
        "\n"
       ]
      },
      {
       "output_type": "stream",
       "stream": "stderr",
       "text": [
        "/home/arne/corpora/rst_discourse_treebank/data/RSTtrees-WSJ-main-1.0/TRAINING/wsj_2347.out.dis\n",
        "Not enough closing brackets. Expected ')' to be the last letter in the sexp. Got: None\n",
        "\n",
        "/home/arne/corpora/rst_discourse_treebank/data/RSTtrees-WSJ-main-1.0/TRAINING/wsj_1124.out.dis\n",
        "Too many closing brackets. Expected no character left in the sexp. Got: ')\\n)\\n'\n",
        "\n",
        "/home/arne/corpora/rst_discourse_treebank/data/RSTtrees-WSJ-main-1.0/TRAINING/wsj_2345.out.dis\n",
        "Too many closing brackets. Expected no character left in the sexp. Got: ')\\n  ( Satellite (span 51 5\n",
        "\n",
        "/home/arne/corpora/rst_discourse_treebank/data/RSTtrees-WSJ-main-1.0/TRAINING/wsj_0677.out.dis\n",
        "Too many closing brackets. Expected no character left in the sexp. Got: ')\\n'\n",
        "\n",
        "/home/arne/corpora/rst_discourse_treebank/data/RSTtrees-WSJ-main-1.0/TRAINING/wsj_2381.out.dis\n",
        "Too many closing brackets. Expected no character left in the sexp. Got: ')\\n  ( Nucleus (span 64 83)\n",
        "\n"
       ]
      },
      {
       "output_type": "stream",
       "stream": "stderr",
       "text": [
        "/home/arne/corpora/rst_discourse_treebank/data/RSTtrees-WSJ-main-1.0/TRAINING/wsj_0610.out.dis\n",
        "Too many closing brackets. Expected no character left in the sexp. Got: ')\\n  )\\n  ( Satellite (span\n",
        "\n",
        "/home/arne/corpora/rst_discourse_treebank/data/RSTtrees-WSJ-main-1.0/TRAINING/wsj_1174.out.dis\n",
        "Too many closing brackets. Expected no character left in the sexp. Got: ')\\n)\\n'\n",
        "\n",
        "/home/arne/corpora/rst_discourse_treebank/data/RSTtrees-WSJ-main-1.0/TRAINING/wsj_1101.out.dis\n",
        "Not enough closing brackets. Expected ')' to be the last letter in the sexp. Got: None\n",
        "\n",
        "/home/arne/corpora/rst_discourse_treebank/data/RSTtrees-WSJ-main-1.0/TRAINING/wsj_1973.out.dis\n",
        "Too many closing brackets. Expected no character left in the sexp. Got: ')\\n  ( Satellite (leaf 45) \n",
        "\n"
       ]
      },
      {
       "output_type": "stream",
       "stream": "stderr",
       "text": [
        "/home/arne/corpora/rst_discourse_treebank/data/RSTtrees-WSJ-main-1.0/TRAINING/wsj_1377.out.dis\n",
        "Too many closing brackets. Expected no character left in the sexp. Got: ')\\n'\n",
        "\n",
        "/home/arne/corpora/rst_discourse_treebank/data/RSTtrees-WSJ-main-1.0/TRAINING/wsj_2359.out.dis\n",
        "Not enough closing brackets. Expected ')' to be the last letter in the sexp. Got: None\n",
        "\n",
        "/home/arne/corpora/rst_discourse_treebank/data/RSTtrees-WSJ-main-1.0/TRAINING/wsj_0690.out.dis\n",
        "Too many closing brackets. Expected no character left in the sexp. Got: ')\\n  ( Satellite (span 69 9\n",
        "\n",
        "/home/arne/corpora/rst_discourse_treebank/data/RSTtrees-WSJ-main-1.0/TRAINING/file5.dis\n",
        "Traceback (most recent call last):\n",
        "  File \"<ipython-input-151-373088bd8f87>\", line 9, in <module>\n",
        "    rst_dict = sexpdata.load(rstfile)\n",
        "  File \"/usr/local/lib/python2.7/dist-packages/sexpdata.py\", line 171, in load\n",
        "    return loads(filelike.read(), **kwds)\n",
        "  File \"/usr/local/lib/python2.7/dist-packages/sexpdata.py\", line 243, in loads\n",
        "    obj = parse(string, **kwds)\n",
        "  File \"/usr/local/lib/python2.7/dist-packages/sexpdata.py\", line 675, in parse\n",
        "    return Parser(string, **kwds).parse()\n",
        "  File \"/usr/local/lib/python2.7/dist-packages/sexpdata.py\", line 655, in parse\n",
        "    (i, sexp) = self.parse_sexp(0)\n",
        "  File \"/usr/local/lib/python2.7/dist-packages/sexpdata.py\", line 629, in parse_sexp\n",
        "    (i, subsexp) = self.parse_sexp(i + 1)\n",
        "  File \"/usr/local/lib/python2.7/dist-packages/sexpdata.py\", line 629, in parse_sexp\n",
        "    (i, subsexp) = self.parse_sexp(i + 1)\n",
        "  File \"/usr/local/lib/python2.7/dist-packages/sexpdata.py\", line 629, in parse_sexp\n",
        "    (i, subsexp) = self.parse_sexp(i + 1)\n",
        "  File \"/usr/local/lib/python2.7/dist-packages/sexpdata.py\", line 629, in parse_sexp\n",
        "    (i, subsexp) = self.parse_sexp(i + 1)\n",
        "  File \"/usr/local/lib/python2.7/dist-packages/sexpdata.py\", line 629, in parse_sexp\n",
        "    (i, subsexp) = self.parse_sexp(i + 1)\n",
        "  File \"/usr/local/lib/python2.7/dist-packages/sexpdata.py\", line 629, in parse_sexp\n",
        "    (i, subsexp) = self.parse_sexp(i + 1)\n",
        "  File \"/usr/local/lib/python2.7/dist-packages/sexpdata.py\", line 629, in parse_sexp\n",
        "    (i, subsexp) = self.parse_sexp(i + 1)\n",
        "  File \"/usr/local/lib/python2.7/dist-packages/sexpdata.py\", line 629, in parse_sexp\n",
        "    (i, subsexp) = self.parse_sexp(i + 1)\n",
        "  File \"/usr/local/lib/python2.7/dist-packages/sexpdata.py\", line 622, in parse_sexp\n",
        "    (i, subsexp) = self.parse_str(i)\n",
        "  File \"/usr/local/lib/python2.7/dist-packages/sexpdata.py\", line 559, in parse_str\n",
        "    end = match.start()\n",
        "AttributeError: 'NoneType' object has no attribute 'start'\n",
        "\n",
        "\n"
       ]
      },
      {
       "output_type": "stream",
       "stream": "stderr",
       "text": [
        "/home/arne/corpora/rst_discourse_treebank/data/RSTtrees-WSJ-main-1.0/TRAINING/wsj_1137.out.dis\n",
        "Not enough closing brackets. Expected ')' to be the last letter in the sexp. Got: None\n",
        "\n",
        "/home/arne/corpora/rst_discourse_treebank/data/RSTtrees-WSJ-main-1.0/TRAINING/wsj_0629.out.dis\n",
        "Not enough closing brackets. Expected ')' to be the last letter in the sexp. Got: None\n",
        "\n"
       ]
      },
      {
       "output_type": "stream",
       "stream": "stderr",
       "text": [
        "/home/arne/corpora/rst_discourse_treebank/data/RSTtrees-WSJ-main-1.0/TRAINING/wsj_1328.out.dis\n",
        "Not enough closing brackets. Expected ')' to be the last letter in the sexp. Got: None\n",
        "\n",
        "/home/arne/corpora/rst_discourse_treebank/data/RSTtrees-WSJ-main-1.0/TRAINING/wsj_1367.out.dis\n",
        "Not enough closing brackets. Expected ')' to be the last letter in the sexp. Got: None\n",
        "\n"
       ]
      },
      {
       "output_type": "stream",
       "stream": "stderr",
       "text": [
        "/home/arne/corpora/rst_discourse_treebank/data/RSTtrees-WSJ-main-1.0/TRAINING/wsj_1390.out.dis\n",
        "Too many closing brackets. Expected no character left in the sexp. Got: ')\\n'\n",
        "\n",
        "/home/arne/corpora/rst_discourse_treebank/data/RSTtrees-WSJ-main-1.0/TRAINING/wsj_2308.out.dis\n",
        "Too many closing brackets. Expected no character left in the sexp. Got: ')\\n        ( Satellite (spa\n",
        "\n",
        "/home/arne/corpora/rst_discourse_treebank/data/RSTtrees-WSJ-main-1.0/TRAINING/wsj_2394.out.dis\n",
        "Not enough closing brackets. Expected ')' to be the last letter in the sexp. Got: None\n",
        "\n"
       ]
      },
      {
       "output_type": "stream",
       "stream": "stderr",
       "text": [
        "/home/arne/corpora/rst_discourse_treebank/data/RSTtrees-WSJ-main-1.0/TRAINING/wsj_0692.out.dis\n",
        "Not enough closing brackets. Expected ')' to be the last letter in the sexp. Got: None\n",
        "\n",
        "/home/arne/corpora/rst_discourse_treebank/data/RSTtrees-WSJ-main-1.0/TRAINING/wsj_1375.out.dis\n",
        "Too many closing brackets. Expected no character left in the sexp. Got: ')\\n  )\\n  ( Satellite (span\n",
        "\n"
       ]
      },
      {
       "output_type": "stream",
       "stream": "stderr",
       "text": [
        "/home/arne/corpora/rst_discourse_treebank/data/RSTtrees-WSJ-main-1.0/TRAINING/wsj_1394.out.dis\n",
        "Traceback (most recent call last):\n",
        "  File \"<ipython-input-151-373088bd8f87>\", line 9, in <module>\n",
        "    rst_dict = sexpdata.load(rstfile)\n",
        "  File \"/usr/local/lib/python2.7/dist-packages/sexpdata.py\", line 171, in load\n",
        "    return loads(filelike.read(), **kwds)\n",
        "  File \"/usr/local/lib/python2.7/dist-packages/sexpdata.py\", line 244, in loads\n",
        "    assert len(obj) == 1  # FIXME: raise an appropriate error\n",
        "AssertionError\n",
        "\n",
        "\n",
        "/home/arne/corpora/rst_discourse_treebank/data/RSTtrees-WSJ-main-1.0/TRAINING/wsj_0618.out.dis\n",
        "Too many closing brackets. Expected no character left in the sexp. Got: ')\\n)\\n'\n",
        "\n",
        "/home/arne/corpora/rst_discourse_treebank/data/RSTtrees-WSJ-main-1.0/TRAINING/wsj_1389.out.dis\n",
        "Too many closing brackets. Expected no character left in the sexp. Got: ')\\n'\n",
        "\n",
        "/home/arne/corpora/rst_discourse_treebank/data/RSTtrees-WSJ-main-1.0/TRAINING/wsj_1327.out.dis\n",
        "Too many closing brackets. Expected no character left in the sexp. Got: ')\\n        )\\n      )\\n    \n",
        "\n"
       ]
      },
      {
       "output_type": "stream",
       "stream": "stderr",
       "text": [
        "/home/arne/corpora/rst_discourse_treebank/data/RSTtrees-WSJ-main-1.0/TRAINING/wsj_1193.out.dis\n",
        "Not enough closing brackets. Expected ')' to be the last letter in the sexp. Got: None\n",
        "\n",
        "/home/arne/corpora/rst_discourse_treebank/data/RSTtrees-WSJ-main-1.0/TRAINING/wsj_1318.out.dis\n",
        "Too many closing brackets. Expected no character left in the sexp. Got: ')\\n'\n",
        "\n",
        "/home/arne/corpora/rst_discourse_treebank/data/RSTtrees-WSJ-main-1.0/TRAINING/wsj_2365.out.dis\n",
        "Not enough closing brackets. Expected ')' to be the last letter in the sexp. Got: None\n",
        "\n"
       ]
      },
      {
       "output_type": "stream",
       "stream": "stderr",
       "text": [
        "/home/arne/corpora/rst_discourse_treebank/data/RSTtrees-WSJ-main-1.0/TRAINING/wsj_0671.out.dis\n",
        "Too many closing brackets. Expected no character left in the sexp. Got: ')\\n'\n",
        "\n",
        "/home/arne/corpora/rst_discourse_treebank/data/RSTtrees-WSJ-main-1.0/TRAINING/wsj_1997.out.dis\n",
        "Too many closing brackets. Expected no character left in the sexp. Got: ')\\n'\n",
        "\n",
        "/home/arne/corpora/rst_discourse_treebank/data/RSTtrees-WSJ-main-1.0/TRAINING/wsj_0609.out.dis\n",
        "Not enough closing brackets. Expected ')' to be the last letter in the sexp. Got: None\n",
        "\n",
        "/home/arne/corpora/rst_discourse_treebank/data/RSTtrees-WSJ-main-1.0/TRAINING/wsj_1128.out.dis\n",
        "Too many closing brackets. Expected no character left in the sexp. Got: ')\\n      )\\n    )\\n  )\\n)\\n\n",
        "\n",
        "/home/arne/corpora/rst_discourse_treebank/data/RSTtrees-WSJ-main-1.0/TRAINING/wsj_1123.out.dis\n",
        "Too many closing brackets. Expected no character left in the sexp. Got: ')\\n  ( Nucleus (span 40 53)\n",
        "\n"
       ]
      },
      {
       "output_type": "stream",
       "stream": "stderr",
       "text": [
        "/home/arne/corpora/rst_discourse_treebank/data/RSTtrees-WSJ-main-1.0/TRAINING/wsj_1313.out.dis\n",
        "Too many closing brackets. Expected no character left in the sexp. Got: ')\\n'\n",
        "\n",
        "/home/arne/corpora/rst_discourse_treebank/data/RSTtrees-WSJ-main-1.0/TRAINING/wsj_1931.out.dis\n",
        "Traceback (most recent call last):\n",
        "  File \"<ipython-input-151-373088bd8f87>\", line 9, in <module>\n",
        "    rst_dict = sexpdata.load(rstfile)\n",
        "  File \"/usr/local/lib/python2.7/dist-packages/sexpdata.py\", line 171, in load\n",
        "    return loads(filelike.read(), **kwds)\n",
        "  File \"/usr/local/lib/python2.7/dist-packages/sexpdata.py\", line 243, in loads\n",
        "    obj = parse(string, **kwds)\n",
        "  File \"/usr/local/lib/python2.7/dist-packages/sexpdata.py\", line 675, in parse\n",
        "    return Parser(string, **kwds).parse()\n",
        "  File \"/usr/local/lib/python2.7/dist-packages/sexpdata.py\", line 655, in parse\n",
        "    (i, sexp) = self.parse_sexp(0)\n",
        "  File \"/usr/local/lib/python2.7/dist-packages/sexpdata.py\", line 629, in parse_sexp\n",
        "    (i, subsexp) = self.parse_sexp(i + 1)\n",
        "  File \"/usr/local/lib/python2.7/dist-packages/sexpdata.py\", line 629, in parse_sexp\n",
        "    (i, subsexp) = self.parse_sexp(i + 1)\n",
        "  File \"/usr/local/lib/python2.7/dist-packages/sexpdata.py\", line 629, in parse_sexp\n",
        "    (i, subsexp) = self.parse_sexp(i + 1)\n",
        "  File \"/usr/local/lib/python2.7/dist-packages/sexpdata.py\", line 629, in parse_sexp\n",
        "    (i, subsexp) = self.parse_sexp(i + 1)\n",
        "  File \"/usr/local/lib/python2.7/dist-packages/sexpdata.py\", line 629, in parse_sexp\n",
        "    (i, subsexp) = self.parse_sexp(i + 1)\n",
        "  File \"/usr/local/lib/python2.7/dist-packages/sexpdata.py\", line 629, in parse_sexp\n",
        "    (i, subsexp) = self.parse_sexp(i + 1)\n",
        "  File \"/usr/local/lib/python2.7/dist-packages/sexpdata.py\", line 629, in parse_sexp\n",
        "    (i, subsexp) = self.parse_sexp(i + 1)\n",
        "  File \"/usr/local/lib/python2.7/dist-packages/sexpdata.py\", line 629, in parse_sexp\n",
        "    (i, subsexp) = self.parse_sexp(i + 1)\n",
        "  File \"/usr/local/lib/python2.7/dist-packages/sexpdata.py\", line 629, in parse_sexp\n",
        "    (i, subsexp) = self.parse_sexp(i + 1)\n",
        "  File \"/usr/local/lib/python2.7/dist-packages/sexpdata.py\", line 629, in parse_sexp\n",
        "    (i, subsexp) = self.parse_sexp(i + 1)\n",
        "  File \"/usr/local/lib/python2.7/dist-packages/sexpdata.py\", line 629, in parse_sexp\n",
        "    (i, subsexp) = self.parse_sexp(i + 1)\n",
        "  File \"/usr/local/lib/python2.7/dist-packages/sexpdata.py\", line 629, in parse_sexp\n",
        "    (i, subsexp) = self.parse_sexp(i + 1)\n",
        "  File \"/usr/local/lib/python2.7/dist-packages/sexpdata.py\", line 622, in parse_sexp\n",
        "    (i, subsexp) = self.parse_str(i)\n",
        "  File \"/usr/local/lib/python2.7/dist-packages/sexpdata.py\", line 559, in parse_str\n",
        "    end = match.start()\n",
        "AttributeError: 'NoneType' object has no attribute 'start'\n",
        "\n",
        "\n",
        "/home/arne/corpora/rst_discourse_treebank/data/RSTtrees-WSJ-main-1.0/TRAINING/wsj_1323.out.dis\n",
        "Too many closing brackets. Expected no character left in the sexp. Got: ')\\n'\n",
        "\n",
        "/home/arne/corpora/rst_discourse_treebank/data/RSTtrees-WSJ-main-1.0/TRAINING/wsj_1379.out.dis\n",
        "Too many closing brackets. Expected no character left in the sexp. Got: ')\\n'\n",
        "\n",
        "/home/arne/corpora/rst_discourse_treebank/data/RSTtrees-WSJ-main-1.0/TRAINING/wsj_0601.out.dis\n",
        "Too many closing brackets. Expected no character left in the sexp. Got: ')\\n)\\n'\n",
        "\n"
       ]
      },
      {
       "output_type": "stream",
       "stream": "stderr",
       "text": [
        "/home/arne/corpora/rst_discourse_treebank/data/RSTtrees-WSJ-main-1.0/TRAINING/wsj_1386.out.dis\n",
        "Too many closing brackets. Expected no character left in the sexp. Got: ')\\n'\n",
        "\n",
        "/home/arne/corpora/rst_discourse_treebank/data/RSTtrees-WSJ-main-1.0/TRAINING/wsj_2358.out.dis\n",
        "Too many closing brackets. Expected no character left in the sexp. Got: ')\\n      )\\n      ( Satelli\n",
        "\n",
        "/home/arne/corpora/rst_discourse_treebank/data/RSTtrees-WSJ-main-1.0/TRAINING/wsj_1305.out.dis\n",
        "Too many closing brackets. Expected no character left in the sexp. Got: ')\\n'\n",
        "\n"
       ]
      },
      {
       "output_type": "stream",
       "stream": "stderr",
       "text": [
        "/home/arne/corpora/rst_discourse_treebank/data/RSTtrees-WSJ-main-1.0/TRAINING/wsj_1334.out.dis\n",
        "Too many closing brackets. Expected no character left in the sexp. Got: ')\\n)\\n'\n",
        "\n",
        "/home/arne/corpora/rst_discourse_treebank/data/RSTtrees-WSJ-main-1.0/TRAINING/wsj_1337.out.dis\n",
        "Too many closing brackets. Expected no character left in the sexp. Got: \")\\n  ( Nucleus (span 118 12\n",
        "\n"
       ]
      },
      {
       "output_type": "stream",
       "stream": "stderr",
       "text": [
        "/home/arne/corpora/rst_discourse_treebank/data/RSTtrees-WSJ-main-1.0/TRAINING/wsj_1125.out.dis\n",
        "Too many closing brackets. Expected no character left in the sexp. Got: ')\\n'\n",
        "\n",
        "/home/arne/corpora/rst_discourse_treebank/data/RSTtrees-WSJ-main-1.0/TRAINING/wsj_2309.out.dis\n",
        "Too many closing brackets. Expected no character left in the sexp. Got: ')\\n)\\n'\n",
        "\n",
        "/home/arne/corpora/rst_discourse_treebank/data/RSTtrees-WSJ-main-1.0/TRAINING/wsj_1191.out.dis\n",
        "Too many closing brackets. Expected no character left in the sexp. Got: \")\\n  ( Satellite (leaf 16) \n",
        "\n",
        "/home/arne/corpora/rst_discourse_treebank/data/RSTtrees-WSJ-main-1.0/TRAINING/wsj_1397.out.dis\n",
        "Too many closing brackets. Expected no character left in the sexp. Got: ')\\n    )\\n    ( Nucleus (sp\n",
        "\n"
       ]
      },
      {
       "output_type": "stream",
       "stream": "stderr",
       "text": [
        "/home/arne/corpora/rst_discourse_treebank/data/RSTtrees-WSJ-main-1.0/TRAINING/wsj_2326.out.dis\n",
        "Too many closing brackets. Expected no character left in the sexp. Got: ')\\n'\n",
        "\n",
        "/home/arne/corpora/rst_discourse_treebank/data/RSTtrees-WSJ-main-1.0/TRAINING/wsj_1154.out.dis\n",
        "Too many closing brackets. Expected no character left in the sexp. Got: ')\\n  ( Nucleus (span 183 19\n",
        "\n",
        "/home/arne/corpora/rst_discourse_treebank/data/RSTtrees-WSJ-main-1.0/TRAINING/file4.dis\n",
        "Not enough closing brackets. Expected ')' to be the last letter in the sexp. Got: None\n",
        "\n"
       ]
      },
      {
       "output_type": "stream",
       "stream": "stderr",
       "text": [
        "/home/arne/corpora/rst_discourse_treebank/data/RSTtrees-WSJ-main-1.0/TRAINING/wsj_0664.out.dis\n",
        "Too many closing brackets. Expected no character left in the sexp. Got: ')\\n  ( Nucleus (span 119 19\n",
        "\n",
        "/home/arne/corpora/rst_discourse_treebank/data/RSTtrees-WSJ-main-1.0/TRAINING/wsj_1999.out.dis\n",
        "Too many closing brackets. Expected no character left in the sexp. Got: ')\\n)\\n'\n",
        "\n",
        "/home/arne/corpora/rst_discourse_treebank/data/RSTtrees-WSJ-main-1.0/TRAINING/wsj_0681.out.dis\n",
        "Too many closing brackets. Expected no character left in the sexp. Got: \")\\n          )\\n        )\\n\n",
        "\n",
        "/home/arne/corpora/rst_discourse_treebank/data/RSTtrees-WSJ-main-1.0/TRAINING/wsj_1105.out.dis\n",
        "Not enough closing brackets. Expected ')' to be the last letter in the sexp. Got: None\n",
        "\n"
       ]
      },
      {
       "output_type": "stream",
       "stream": "stderr",
       "text": [
        "/home/arne/corpora/rst_discourse_treebank/data/RSTtrees-WSJ-main-1.0/TRAINING/file3.dis\n",
        "Too many closing brackets. Expected no character left in the sexp. Got: ')\\n  )\\n)\\n'\n",
        "\n",
        "/home/arne/corpora/rst_discourse_treebank/data/RSTtrees-WSJ-main-1.0/TRAINING/wsj_2367.out.dis\n",
        "Too many closing brackets. Expected no character left in the sexp. Got: ')//TT_ERR\\n'\n",
        "\n",
        "/home/arne/corpora/rst_discourse_treebank/data/RSTtrees-WSJ-main-1.0/TRAINING/wsj_1136.out.dis\n",
        "Too many closing brackets. Expected no character left in the sexp. Got: ')\\n'\n",
        "\n",
        "/home/arne/corpora/rst_discourse_treebank/data/RSTtrees-WSJ-main-1.0/TRAINING/wsj_2350.out.dis\n",
        "Too many closing brackets. Expected no character left in the sexp. Got: ')\\n  )\\n  ( Satellite (span\n",
        "\n"
       ]
      },
      {
       "output_type": "stream",
       "stream": "stderr",
       "text": [
        "/home/arne/corpora/rst_discourse_treebank/data/RSTtrees-WSJ-main-1.0/TRAINING/wsj_2303.out.dis\n",
        "Too many closing brackets. Expected no character left in the sexp. Got: ')\\n)\\n'\n",
        "\n",
        "/home/arne/corpora/rst_discourse_treebank/data/RSTtrees-WSJ-main-1.0/TRAINING/wsj_0628.out.dis\n",
        "Not enough closing brackets. Expected ')' to be the last letter in the sexp. Got: None\n",
        "\n",
        "/home/arne/corpora/rst_discourse_treebank/data/RSTtrees-WSJ-main-1.0/TRAINING/wsj_1195.out.dis\n",
        "Traceback (most recent call last):\n",
        "  File \"<ipython-input-151-373088bd8f87>\", line 9, in <module>\n",
        "    rst_dict = sexpdata.load(rstfile)\n",
        "  File \"/usr/local/lib/python2.7/dist-packages/sexpdata.py\", line 171, in load\n",
        "    return loads(filelike.read(), **kwds)\n",
        "  File \"/usr/local/lib/python2.7/dist-packages/sexpdata.py\", line 243, in loads\n",
        "    obj = parse(string, **kwds)\n",
        "  File \"/usr/local/lib/python2.7/dist-packages/sexpdata.py\", line 675, in parse\n",
        "    return Parser(string, **kwds).parse()\n",
        "  File \"/usr/local/lib/python2.7/dist-packages/sexpdata.py\", line 655, in parse\n",
        "    (i, sexp) = self.parse_sexp(0)\n",
        "  File \"/usr/local/lib/python2.7/dist-packages/sexpdata.py\", line 629, in parse_sexp\n",
        "    (i, subsexp) = self.parse_sexp(i + 1)\n",
        "  File \"/usr/local/lib/python2.7/dist-packages/sexpdata.py\", line 629, in parse_sexp\n",
        "    (i, subsexp) = self.parse_sexp(i + 1)\n",
        "  File \"/usr/local/lib/python2.7/dist-packages/sexpdata.py\", line 629, in parse_sexp\n",
        "    (i, subsexp) = self.parse_sexp(i + 1)\n",
        "  File \"/usr/local/lib/python2.7/dist-packages/sexpdata.py\", line 629, in parse_sexp\n",
        "    (i, subsexp) = self.parse_sexp(i + 1)\n",
        "  File \"/usr/local/lib/python2.7/dist-packages/sexpdata.py\", line 629, in parse_sexp\n",
        "    (i, subsexp) = self.parse_sexp(i + 1)\n",
        "  File \"/usr/local/lib/python2.7/dist-packages/sexpdata.py\", line 629, in parse_sexp\n",
        "    (i, subsexp) = self.parse_sexp(i + 1)\n",
        "  File \"/usr/local/lib/python2.7/dist-packages/sexpdata.py\", line 629, in parse_sexp\n",
        "    (i, subsexp) = self.parse_sexp(i + 1)\n",
        "  File \"/usr/local/lib/python2.7/dist-packages/sexpdata.py\", line 629, in parse_sexp\n",
        "    (i, subsexp) = self.parse_sexp(i + 1)\n",
        "  File \"/usr/local/lib/python2.7/dist-packages/sexpdata.py\", line 629, in parse_sexp\n",
        "    (i, subsexp) = self.parse_sexp(i + 1)\n",
        "  File \"/usr/local/lib/python2.7/dist-packages/sexpdata.py\", line 629, in parse_sexp\n",
        "    (i, subsexp) = self.parse_sexp(i + 1)\n",
        "  File \"/usr/local/lib/python2.7/dist-packages/sexpdata.py\", line 622, in parse_sexp\n",
        "    (i, subsexp) = self.parse_str(i)\n",
        "  File \"/usr/local/lib/python2.7/dist-packages/sexpdata.py\", line 559, in parse_str\n",
        "    end = match.start()\n",
        "AttributeError: 'NoneType' object has no attribute 'start'\n",
        "\n",
        "\n",
        "/home/arne/corpora/rst_discourse_treebank/data/RSTtrees-WSJ-main-1.0/TRAINING/wsj_1388.out.dis\n",
        "Too many closing brackets. Expected no character left in the sexp. Got: ')\\n        ( Nucleus (span \n",
        "\n"
       ]
      },
      {
       "output_type": "stream",
       "stream": "stderr",
       "text": [
        "/home/arne/corpora/rst_discourse_treebank/data/RSTtrees-WSJ-main-1.0/TRAINING/wsj_2341.out.dis\n",
        "Not enough closing brackets. Expected ')' to be the last letter in the sexp. Got: None\n",
        "\n"
       ]
      }
     ],
     "prompt_number": 151
    },
    {
     "cell_type": "code",
     "collapsed": false,
     "input": [
      "total_file_count = len(glob.glob(os.path.join(RSTDT_MAIN_ROOT, folder, '*.dis')))\n",
      "\n",
      "print \"all files:\", total_file_count, \"correct s-expressions: \", len(rst_trees)"
     ],
     "language": "python",
     "metadata": {},
     "outputs": [
      {
       "output_type": "stream",
       "stream": "stdout",
       "text": [
        "all files: 347 correct s-expressions:  272\n"
       ]
      }
     ],
     "prompt_number": 152
    },
    {
     "cell_type": "code",
     "collapsed": false,
     "input": [],
     "language": "python",
     "metadata": {},
     "outputs": []
    }
   ],
   "metadata": {}
  }
 ]
}