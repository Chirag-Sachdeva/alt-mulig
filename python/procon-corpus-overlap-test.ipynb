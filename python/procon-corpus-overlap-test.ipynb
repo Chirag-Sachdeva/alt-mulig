{
 "metadata": {
  "name": "",
  "signature": "sha256:4ed2ea6e21cdb4963c64d9efcbe13c4c58854509f63af858be523bba66857940"
 },
 "nbformat": 3,
 "nbformat_minor": 0,
 "worksheets": [
  {
   "cells": [
    {
     "cell_type": "markdown",
     "metadata": {},
     "source": [
      "# Is ProCon11 a subset of ProCon44?"
     ]
    },
    {
     "cell_type": "code",
     "collapsed": false,
     "input": [
      "import os\n",
      "import re\n",
      "\n",
      "PCC_ROOTDIR = os.path.expanduser('~/repos/pcc-annis-merged/')\n",
      "PROCON44_ROOTDIR = os.path.join(PCC_ROOTDIR, 'procon44')\n",
      "PROCON11_ROOTDIR = os.path.join(PCC_ROOTDIR, 'procon11')"
     ],
     "language": "python",
     "metadata": {},
     "outputs": [],
     "prompt_number": 1
    },
    {
     "cell_type": "code",
     "collapsed": false,
     "input": [
      "PROCON_ID_REGEX = re.compile('\\.(\\w+?\\d{6})')\n",
      "\n",
      "def unique_sorted_ids(absdirpath, compiled_regex):\n",
      "    ids = set()\n",
      "    for fname in os.listdir(absdirpath):\n",
      "        result = compiled_regex.search(fname)\n",
      "        if result:\n",
      "            ids.add(result.groups()[0])\n",
      "    return sorted(ids)"
     ],
     "language": "python",
     "metadata": {},
     "outputs": [],
     "prompt_number": 5
    },
    {
     "cell_type": "code",
     "collapsed": false,
     "input": [
      "def is_subset(subset, superset):\n",
      "    result = set(subset).issubset(set(superset))\n",
      "    if result is True:\n",
      "        return result\n",
      "    else:\n",
      "        for doc_id in subset:\n",
      "            if doc_id not in superset:\n",
      "                print \"Document ID '{}' not in superset!\".format(doc_id)\n",
      "        return result"
     ],
     "language": "python",
     "metadata": {},
     "outputs": [],
     "prompt_number": 8
    },
    {
     "cell_type": "code",
     "collapsed": false,
     "input": [
      "procon11_subdirs = !ls $PROCON11_ROOTDIR\n",
      "print procon11_subdirs"
     ],
     "language": "python",
     "metadata": {},
     "outputs": [
      {
       "output_type": "stream",
       "stream": "stdout",
       "text": [
        "['conano', 'coreference', 'illocution', 'primary-data', 'rst', 'syntax', 'tokenized']\n"
       ]
      }
     ],
     "prompt_number": 2
    },
    {
     "cell_type": "code",
     "collapsed": false,
     "input": [
      "procon44_subdirs = !ls $PROCON44_ROOTDIR\n",
      "print procon44_subdirs"
     ],
     "language": "python",
     "metadata": {},
     "outputs": [
      {
       "output_type": "stream",
       "stream": "stdout",
       "text": [
        "['anaphora', 'conano', 'coreference', 'random_subset', 'syntax', 'tokenized']\n"
       ]
      }
     ],
     "prompt_number": 3
    },
    {
     "cell_type": "code",
     "collapsed": false,
     "input": [
      "common_subdirs = set(procon44_subdirs).intersection(set(procon11_subdirs))\n",
      "print common_subdirs"
     ],
     "language": "python",
     "metadata": {},
     "outputs": [
      {
       "output_type": "stream",
       "stream": "stdout",
       "text": [
        "set(['tokenized', 'conano', 'coreference', 'syntax'])\n"
       ]
      }
     ],
     "prompt_number": 4
    },
    {
     "cell_type": "markdown",
     "metadata": {},
     "source": [
      "## Conano\n",
      "\n",
      "Procon11 is a subset of Procon44, but the 11 files are annotated by Chiarcos (vs. Raithel/Tabbert in Procon44). Both sets use the same document IDs but the file names aren't identical."
     ]
    },
    {
     "cell_type": "code",
     "collapsed": false,
     "input": [
      "procon11_conano_ids = unique_sorted_ids(os.path.join(PROCON11_ROOTDIR, 'conano'), PROCON_ID_REGEX)\n",
      "print len(procon11_conano_ids)\n",
      "print procon11_conano_ids"
     ],
     "language": "python",
     "metadata": {},
     "outputs": [
      {
       "output_type": "stream",
       "stream": "stdout",
       "text": [
        "11\n",
        "['baeumecon_040516', 'baeumepro_040516', 'impfenpro_041107', 'kreiselcon_041114', 'kreiselpro_041114', 'olympiacon_040523', 'olympiapro_040523', 'senatcon_040606', 'senatpro_040606', 'topographiecon_040530', 'topographiepro_040530']\n"
       ]
      }
     ],
     "prompt_number": 6
    },
    {
     "cell_type": "code",
     "collapsed": false,
     "input": [
      "procon44_conano_ids_raithel = unique_sorted_ids(os.path.join(PROCON44_ROOTDIR, 'conano/raithel'), PROCON_ID_REGEX)\n",
      "print len(procon44_conano_ids_raithel)\n",
      "print procon44_conano_ids_raithel"
     ],
     "language": "python",
     "metadata": {},
     "outputs": [
      {
       "output_type": "stream",
       "stream": "stdout",
       "text": [
        "44\n",
        "['autoscon_040718', 'autospro_040718', 'baeumecon_040516', 'baeumepro_040516', 'betriebsausflugcon_040926', 'betriebsausflugpro_040926', 'diktatecon_041003', 'diktatepro_041003', 'gedenktafelncon_040620', 'gedenktafelnpro_040620', 'gottesdienstcon_041031', 'gottesdienstpro_041031', 'guetesiegelcon_040725', 'guetesiegelpro_040725', 'hallenbaedercon_040704', 'hallenbaederpro_040704', 'handelcon_040801', 'handelpro_040801', 'impfencon041107', 'impfenpro_041107', 'kreiselcon_041114', 'kreiselpro_041114', 'kurzparkercon_041024', 'kurzparkerpro_041024', 'mahnmalcon_040627', 'mahnmalpro_040627', 'matzcon_040912', 'matzpro_040912', 'mauercon_041010', 'mauerpro_041010', 'oeffentlichkeitcon_040711', 'oeffentlichkeitpro_040711', 'olympiacon_040523', 'olympiapro_040523', 'radarfallencon_040815', 'radarfallenpro_040815', 'rauchencon_040613', 'raucherpro_040613', 'riesenradcon_040822', 'riesenradpro_040822', 'senatcon_040606', 'senatpro_040606', 'topographiecon_040530', 'topographiepro_040530']\n"
       ]
      }
     ],
     "prompt_number": 14
    },
    {
     "cell_type": "code",
     "collapsed": false,
     "input": [
      "is_subset(subset=procon11_conano_ids, superset=procon44_conano_ids_raithel)"
     ],
     "language": "python",
     "metadata": {},
     "outputs": [
      {
       "metadata": {},
       "output_type": "pyout",
       "prompt_number": 15,
       "text": [
        "True"
       ]
      }
     ],
     "prompt_number": 15
    },
    {
     "cell_type": "code",
     "collapsed": false,
     "input": [
      "procon44_conano_ids_tabbert = unique_sorted_ids(os.path.join(PROCON44_ROOTDIR, 'conano/tabbert'), PROCON_ID_REGEX)\n",
      "print procon44_conano_ids_tabbert, len(procon44_conano_ids_tabbert)"
     ],
     "language": "python",
     "metadata": {},
     "outputs": [
      {
       "output_type": "stream",
       "stream": "stdout",
       "text": [
        "['autoscon_040718', 'autospro_040718', 'baeumecon_040516', 'baeumepro_040516', 'betriebsausflugcon_040926', 'betriebsausflugpro_040926', 'diktatecon_041003', 'diktatepro_041003', 'gedenktafelncon_040620', 'gedenktafelnpro_040620', 'gottesdienstcon_041031', 'gottesdienstpro_041031', 'guetesiegelcon_040725', 'guetesiegelpro_040725', 'hallenbaedercon_040704', 'hallenbaederpro_040704', 'handelcon_040801', 'handelpro_040801', 'impfencon041107', 'impfenpro_041107', 'kreiselcon_041114', 'kreiselpro_041114', 'kurzparkercon_041024', 'kurzparkerpro_041024', 'mahnmalcon_040627', 'mahnmalpro_040627', 'matzcon_040912', 'matzpro_040912', 'mauercon_041010', 'mauerpro_041010', 'oeffentlichkeitcon_040711', 'oeffentlichkeitpro_040711', 'olympiacon_040523', 'olympiapro_040523', 'radarfallencon_040815', 'radarfallenpro_040815', 'rauchencon_040613', 'raucherpro_040613', 'riesenradcon_040822', 'riesenradpro_040822', 'senatcon_040606', 'senatpro_040606', 'topographiecon_040530', 'topographiepro_040530'] 44\n"
       ]
      }
     ],
     "prompt_number": 23
    },
    {
     "cell_type": "code",
     "collapsed": false,
     "input": [
      "is_subset(subset=procon11_conano_ids, superset=procon44_conano_ids_tabbert)"
     ],
     "language": "python",
     "metadata": {},
     "outputs": [
      {
       "metadata": {},
       "output_type": "pyout",
       "prompt_number": 19,
       "text": [
        "True"
       ]
      }
     ],
     "prompt_number": 19
    },
    {
     "cell_type": "markdown",
     "metadata": {},
     "source": [
      "## Coreference\n",
      "Procon11 is a subset of Procon44. Both sets use the same document IDs but the file names aren't identical."
     ]
    },
    {
     "cell_type": "code",
     "collapsed": false,
     "input": [
      "procon11_coref_ids = unique_sorted_ids(os.path.join(PROCON11_ROOTDIR, 'coreference'), PROCON_ID_REGEX)\n",
      "print procon11_coref_ids, len(procon11_coref_ids)"
     ],
     "language": "python",
     "metadata": {},
     "outputs": [
      {
       "output_type": "stream",
       "stream": "stdout",
       "text": [
        "['baeumecon_040516', 'baeumepro_040516', 'impfenpro_041107', 'kreiselcon_041114', 'kreiselpro_041114', 'olympiacon_040523', 'olympiapro_040523', 'senatcon_040606', 'senatpro_040606', 'topographiecon_040530', 'topographiepro_040530'] 11\n"
       ]
      }
     ],
     "prompt_number": 22
    },
    {
     "cell_type": "code",
     "collapsed": false,
     "input": [
      "procon44_coref_ids = unique_sorted_ids(os.path.join(PROCON44_ROOTDIR, 'coreference'), PROCON_ID_REGEX)\n",
      "print procon44_coref_ids, len(procon44_coref_ids)"
     ],
     "language": "python",
     "metadata": {},
     "outputs": [
      {
       "output_type": "stream",
       "stream": "stdout",
       "text": [
        "['autoscon_040718', 'autospro_040718', 'baeumecon_040516', 'baeumepro_040516', 'betriebsausflugcon_040926', 'betriebsausflugpro_040926', 'diktatecon_041003', 'diktatepro_041003', 'gedenktafelncon_040620', 'gedenktafelnpro_040620', 'gottesdienstcon_041031', 'gottesdienstpro_041031', 'guetesiegelcon_040725', 'guetesiegelpro_040725', 'hallenbaedercon_040704', 'hallenbaederpro_040704', 'handelcon_040801', 'handelpro_040801', 'impfencon_041107', 'impfenpro_041107', 'kreiselcon_041114', 'kreiselpro_041114', 'kurzparkercon_041024', 'kurzparkerpro_041024', 'mahnmalcon_040627', 'mahnmalpro_040627', 'matzcon_040912', 'matzpro_040912', 'mauercon_041010', 'mauerpro_041010', 'oeffentlichkeitcon_040711', 'oeffentlichkeitpro_040711', 'olympiacon_040523', 'olympiapro_040523', 'radarfallencon_040815', 'radarfallenpro_040815', 'rauchencon_040613', 'rauchenpro_040613', 'riesenradcon_040822', 'riesenradpro_040822', 'senatcon_040606', 'senatpro_040606', 'topographiecon_040530', 'topographiepro_040530'] 44\n"
       ]
      }
     ],
     "prompt_number": 24
    },
    {
     "cell_type": "code",
     "collapsed": false,
     "input": [
      "is_subset(subset=procon11_coref_ids, superset=procon44_coref_ids)"
     ],
     "language": "python",
     "metadata": {},
     "outputs": [
      {
       "metadata": {},
       "output_type": "pyout",
       "prompt_number": 25,
       "text": [
        "True"
       ]
      }
     ],
     "prompt_number": 25
    },
    {
     "cell_type": "markdown",
     "metadata": {},
     "source": [
      "## Syntax\n",
      "\n",
      "Procon11 is a subset of Procon44. Both sets use the same document IDs but the file names aren't identical."
     ]
    },
    {
     "cell_type": "code",
     "collapsed": false,
     "input": [
      "PROCON_SYNTAX_ID_REGEX = re.compile('_(\\w+?\\d{6})')\n",
      "\n",
      "procon11_syntax_ids = unique_sorted_ids(os.path.join(PROCON11_ROOTDIR, 'syntax'), PROCON_SYNTAX_ID_REGEX)\n",
      "print procon11_syntax_ids, len(procon11_syntax_ids)"
     ],
     "language": "python",
     "metadata": {},
     "outputs": [
      {
       "output_type": "stream",
       "stream": "stdout",
       "text": [
        "['baeumecon_040516', 'baeumepro_040516', 'impfenpro_041107', 'kreiselcon_041114', 'kreiselpro_041114', 'olympiacon_040523', 'olympiapro_040523', 'senatcon_040606', 'senatpro_040606', 'topographiecon_040530', 'topographiepro_040530'] 11\n"
       ]
      }
     ],
     "prompt_number": 39
    },
    {
     "cell_type": "code",
     "collapsed": false,
     "input": [
      "procon44_syntax_ids = unique_sorted_ids(os.path.join(PROCON44_ROOTDIR, 'syntax'), PROCON_ID_REGEX)\n",
      "print procon44_syntax_ids, len(procon44_syntax_ids)"
     ],
     "language": "python",
     "metadata": {},
     "outputs": [
      {
       "output_type": "stream",
       "stream": "stdout",
       "text": [
        "['autoscon_040718', 'autospro_040718', 'baeumecon_040516', 'baeumepro_040516', 'betriebsausflugcon_040926', 'betriebsausflugpro_040926', 'diktatecon_041003', 'diktatepro_041003', 'gedenktafelncon_040620', 'gedenktafelnpro_040620', 'gottesdienstcon_041031', 'gottesdienstpro_041031', 'guetesiegelcon_040725', 'guetesiegelpro_040725', 'hallenbaedercon_040704', 'hallenbaederpro_040704', 'handelcon_040801', 'handelpro_040801', 'impfencon041107', 'impfenpro_041107', 'kreiselcon_041114', 'kreiselpro_041114', 'kurzparkercon_041024', 'kurzparkerpro_041024', 'mahnmalcon_040627', 'mahnmalpro_040627', 'matzcon_040912', 'matzpro_040912', 'mauercon_041010', 'mauerpro_041010', 'oeffentlichkeitcon_040711', 'oeffentlichkeitpro_040711', 'olympiacon_040523', 'olympiapro_040523', 'radarfallencon_040815', 'radarfallenpro_040815', 'rauchencon_040613', 'raucherpro_040613', 'riesenradcon_040822', 'riesenradpro_040822', 'senatcon_040606', 'senatpro_040606', 'topographiecon_040530', 'topographiepro_040530'] 44\n"
       ]
      }
     ],
     "prompt_number": 41
    },
    {
     "cell_type": "code",
     "collapsed": false,
     "input": [
      "is_subset(subset=procon11_syntax_ids, superset=procon44_syntax_ids)"
     ],
     "language": "python",
     "metadata": {},
     "outputs": [
      {
       "metadata": {},
       "output_type": "pyout",
       "prompt_number": 42,
       "text": [
        "True"
       ]
      }
     ],
     "prompt_number": 42
    }
   ],
   "metadata": {}
  }
 ]
}