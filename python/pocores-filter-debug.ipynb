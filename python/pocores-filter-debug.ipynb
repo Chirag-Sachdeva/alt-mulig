{
 "metadata": {
  "name": "",
  "signature": "sha256:8d13496a16fcb95ed1ef6a4a8df40b1a4a12aebd09095bf78c098a171276ae23"
 },
 "nbformat": 3,
 "nbformat_minor": 0,
 "worksheets": [
  {
   "cells": [
    {
     "cell_type": "code",
     "collapsed": false,
     "input": [
      "import os\n",
      "\n",
      "from pocores import Pocores, print_coreference_report\n",
      "from discoursegraphs.readwrite.mmax2 import spanstring2text, spanstring2tokens\n",
      "from discoursegraphs.readwrite import ConllDocumentGraph, MMAXDocumentGraph\n",
      "from discoursegraphs import create_token_mapping, get_pointing_chains"
     ],
     "language": "python",
     "metadata": {},
     "outputs": [],
     "prompt_number": 20
    },
    {
     "cell_type": "code",
     "collapsed": false,
     "input": [
      "CONLL_DIR = os.path.expanduser('~/repos/pocores/src/pocores/test/maz176')\n",
      "MMAX_DIR = os.path.expanduser('~/repos/pcc-annis-merged/maz176/coreference')\n"
     ],
     "language": "python",
     "metadata": {},
     "outputs": [],
     "prompt_number": 3
    },
    {
     "cell_type": "code",
     "collapsed": false,
     "input": [
      "conll_paths = !ls $CONLL_DIR/*.conll2009\n",
      "document_ids = [os.path.basename(path).split('.')[0] for path in conll_paths]"
     ],
     "language": "python",
     "metadata": {},
     "outputs": [],
     "prompt_number": 8
    },
    {
     "cell_type": "code",
     "collapsed": false,
     "input": [
      "def print_false_negatives(docgraph):\n",
      "    pocores_chains = get_pointing_chains(docgraph, layer='pocores')\n",
      "    mmax_chains = get_pointing_chains(docgraph, layer='mmax')\n",
      "\n",
      "    for chain in mmax_chains:\n",
      "        for node_id in chain:\n",
      "            try:\n",
      "                span_str = docgraph.node[node_id]['mmax:span']\n",
      "            except KeyError:\n",
      "                print \"KeyError: {0} doesn't have an 'mmax:span' attribute:\\n\\t{1}\".format(node_id, docgraph.node[node_id]) \n",
      "\n",
      "            markable_was_found = any([token_id in chain\n",
      "                                   for token_id in spanstring2tokens(span_str)\n",
      "                                   for chain in pocores_chains])\n",
      "\n",
      "            try:\n",
      "                # at least one word in this markable was found by pocores\n",
      "                markable_str = spanstring2text(docgraph, span_str)\n",
      "            except KeyError:\n",
      "                print \"KeyError: {} doesn't represent a token span\".format(span_str)\n",
      "    #         print markable_str, markable_was_found\n",
      "            if not markable_was_found:\n",
      "                markable_was_considered = any(mmax2pocores[mmax_token_id] in p.candidate_report\n",
      "                                              for mmax_token_id in spanstring2tokens(span_str))\n",
      "                if not markable_was_considered:\n",
      "                    pass\n",
      "#                     print (u\"No word from the markable '{}' ({} - {}) \"\n",
      "#                            u\"was even considered as an anaphora\".format(markable_str, node_id, span_str))\n",
      "                else:\n",
      "                    for mmax_token_id in spanstring2tokens(span_str):\n",
      "                        if mmax2pocores[mmax_token_id] in p.candidate_report:\n",
      "                            report = p.candidate_report[mmax2pocores[mmax_token_id]]\n",
      "                            if report['anaphora_type'] == 'pronominal':\n",
      "                                print \"Candidate was falsely rejected.\"\n",
      "                                print p.candidate_report[mmax2pocores[mmax_token_id]]"
     ],
     "language": "python",
     "metadata": {},
     "outputs": [],
     "prompt_number": 42
    },
    {
     "cell_type": "code",
     "collapsed": false,
     "input": [
      "for doc_id in document_ids:\n",
      "    print doc_id\n",
      "    mmax_path = os.path.join(MMAX_DIR, doc_id+'.mmax')\n",
      "    conll_path = os.path.join(CONLL_DIR, doc_id+'.conll2009')\n",
      "    \n",
      "    cdg = ConllDocumentGraph(conll_path)\n",
      "    p = Pocores(cdg)\n",
      "    p.resolve_anaphora()\n",
      "    p.add_coreference_chains_to_docgraph()\n",
      "    \n",
      "    mdg = MMAXDocumentGraph(mmax_path)\n",
      "    mmax2pocores = create_token_mapping(mdg, p.document)\n",
      "    mdg.merge_graphs(p.document)\n",
      "    print_false_negatives(mdg)\n",
      "    print"
     ],
     "language": "python",
     "metadata": {},
     "outputs": [
      {
       "output_type": "stream",
       "stream": "stdout",
       "text": [
        "maz-00001\n",
        "\n"
       ]
      },
      {
       "output_type": "stream",
       "stream": "stdout",
       "text": [
        "maz-00002\n",
        "\n"
       ]
      },
      {
       "output_type": "stream",
       "stream": "stdout",
       "text": [
        "maz-10110\n",
        "\n"
       ]
      },
      {
       "output_type": "stream",
       "stream": "stdout",
       "text": [
        "maz-10175\n",
        "\n"
       ]
      },
      {
       "output_type": "stream",
       "stream": "stdout",
       "text": [
        "maz-10205\n",
        "\n"
       ]
      },
      {
       "output_type": "stream",
       "stream": "stdout",
       "text": [
        "maz-10207\n",
        "\n"
       ]
      },
      {
       "output_type": "stream",
       "stream": "stdout",
       "text": [
        "maz-10374\n",
        "\n"
       ]
      },
      {
       "output_type": "stream",
       "stream": "stdout",
       "text": [
        "maz-10423\n",
        "\n"
       ]
      },
      {
       "output_type": "stream",
       "stream": "stdout",
       "text": [
        "maz-10503\n",
        "\n"
       ]
      },
      {
       "output_type": "stream",
       "stream": "stdout",
       "text": [
        "maz-10575\n",
        "Candidate was falsely rejected."
       ]
      },
      {
       "output_type": "stream",
       "stream": "stdout",
       "text": [
        "\n",
        "defaultdict(<type 'str'>, {'anaphora_type': 'pronominal', 'filtered_candidates': [], 'filter_results': OrderedDict([('distance', (['s1_t3', 's2_t2', 's3_t2', 's3_t4', 's3_t8', 's3_t10'], 'Candidates mentioned no more than 4 sentences ago')), ('non_reflexive', (['s1_t3', 's2_t2', 's3_t2', 's3_t4', 's3_t8', 's3_t10'], \", which also don't represent reflexive personal pronouns, e.g. sich, einander, dich, mir\")), ('agreement', (['s3_t4', 's3_t10'], ', which are in morphological agreement with the anaphora')), ('binding', ([], 'and which can be bound by the anaphora'))]), 'candidates': ['s1_t3', 's2_t2', 's3_t2', 's3_t4', 's3_t8', 's3_t10']})\n",
        "\n",
        "maz-10652\n",
        "Candidate was falsely rejected."
       ]
      },
      {
       "output_type": "stream",
       "stream": "stdout",
       "text": [
        "\n",
        "defaultdict(<type 'str'>, {'anaphora_type': 'pronominal', 'filtered_candidates': [], 'filter_results': OrderedDict([('distance', (['s2_t2', 's3_t3'], 'Candidates mentioned no more than 4 sentences ago')), ('non_reflexive', (['s2_t2', 's3_t3'], \", which also don't represent reflexive personal pronouns, e.g. sich, einander, dich, mir\")), ('agreement', ([], ', which are in morphological agreement with the anaphora')), ('binding', ([], 'and which can be bound by the anaphora'))]), 'candidates': ['s2_t2', 's3_t3']})\n",
        "Candidate was falsely rejected.\n",
        "defaultdict(<type 'str'>, {'anaphora_type': 'pronominal', 'filtered_candidates': [], 'filter_results': OrderedDict([('distance', (['s2_t2', 's3_t3'], 'Candidates mentioned no more than 4 sentences ago')), ('non_reflexive', (['s2_t2', 's3_t3'], \", which also don't represent reflexive personal pronouns, e.g. sich, einander, dich, mir\")), ('agreement', ([], ', which are in morphological agreement with the anaphora')), ('binding', ([], 'and which can be bound by the anaphora'))]), 'candidates': ['s2_t2', 's3_t3']})\n",
        "\n",
        "maz-10902\n",
        "\n"
       ]
      },
      {
       "output_type": "stream",
       "stream": "stdout",
       "text": [
        "maz-11177\n",
        "\n"
       ]
      },
      {
       "output_type": "stream",
       "stream": "stdout",
       "text": [
        "maz-11279\n",
        "\n"
       ]
      },
      {
       "output_type": "stream",
       "stream": "stdout",
       "text": [
        "maz-11280\n",
        "\n"
       ]
      },
      {
       "output_type": "stream",
       "stream": "stdout",
       "text": [
        "maz-11299\n",
        "\n"
       ]
      },
      {
       "output_type": "stream",
       "stream": "stdout",
       "text": [
        "maz-11318\n",
        "\n"
       ]
      },
      {
       "output_type": "stream",
       "stream": "stdout",
       "text": [
        "maz-11507\n",
        "\n"
       ]
      },
      {
       "output_type": "stream",
       "stream": "stdout",
       "text": [
        "maz-11544\n",
        "\n"
       ]
      },
      {
       "output_type": "stream",
       "stream": "stdout",
       "text": [
        "maz-11670\n",
        "\n"
       ]
      },
      {
       "output_type": "stream",
       "stream": "stdout",
       "text": [
        "maz-11735\n",
        "\n"
       ]
      },
      {
       "output_type": "stream",
       "stream": "stdout",
       "text": [
        "maz-11766\n",
        "\n"
       ]
      },
      {
       "output_type": "stream",
       "stream": "stdout",
       "text": [
        "maz-11916\n",
        "Candidate was falsely rejected."
       ]
      },
      {
       "output_type": "stream",
       "stream": "stdout",
       "text": [
        "\n",
        "defaultdict(<type 'str'>, {'anaphora_type': 'pronominal', 'filtered_candidates': [], 'filter_results': OrderedDict([('distance', (['s1_t1', 's2_t20', 's2_t25', 's3_t1'], 'Candidates mentioned no more than 4 sentences ago')), ('non_reflexive', (['s1_t1', 's2_t20', 's2_t25', 's3_t1'], \", which also don't represent reflexive personal pronouns, e.g. sich, einander, dich, mir\")), ('agreement', ([], ', which are in morphological agreement with the anaphora')), ('binding', ([], 'and which can be bound by the anaphora'))]), 'candidates': ['s1_t1', 's2_t20', 's2_t25', 's3_t1']})\n",
        "\n",
        "maz-12084\n",
        "Candidate was falsely rejected."
       ]
      },
      {
       "output_type": "stream",
       "stream": "stdout",
       "text": [
        "\n",
        "defaultdict(<type 'str'>, {'anaphora_type': 'pronominal', 'filtered_candidates': [], 'filter_results': OrderedDict([('distance', (['s9_t2', 's9_t4', 's9_t5', 's9_t8', 's10_t4', 's10_t7', 's11_t3', 's11_t7', 's11_t10', 's12_t4'], 'Candidates mentioned no more than 4 sentences ago')), ('non_reflexive', (['s9_t2', 's9_t4', 's9_t5', 's9_t8', 's10_t4', 's10_t7', 's11_t3', 's11_t7', 's11_t10', 's12_t4'], \", which also don't represent reflexive personal pronouns, e.g. sich, einander, dich, mir\")), ('agreement', ([], ', which are in morphological agreement with the anaphora')), ('binding', ([], 'and which can be bound by the anaphora'))]), 'candidates': ['s1_t2', 's2_t1', 's3_t2', 's3_t6', 's3_t9', 's4_t4', 's5_t3', 's5_t5', 's5_t7', 's5_t9', 's5_t12', 's5_t14', 's5_t17', 's5_t20', 's5_t24', 's5_t29', 's5_t33', 's6_t1', 's6_t8', 's6_t9', 's6_t11', 's6_t13', 's6_t15', 's6_t18', 's7_t3', 's7_t4', 's7_t5', 's7_t11', 's7_t13', 's7_t15', 's7_t16', 's9_t2', 's9_t4', 's9_t5', 's9_t8', 's10_t4', 's10_t7', 's11_t3', 's11_t7', 's11_t10', 's12_t4']})\n",
        "Candidate was falsely rejected.\n",
        "defaultdict(<type 'str'>, {'anaphora_type': 'pronominal', 'filtered_candidates': [], 'filter_results': OrderedDict([('distance', (['s1_t2'], 'Candidates mentioned no more than 4 sentences ago')), ('non_reflexive', (['s1_t2'], \", which also don't represent reflexive personal pronouns, e.g. sich, einander, dich, mir\")), ('agreement', ([], ', which are in morphological agreement with the anaphora')), ('binding', ([], 'and which can be bound by the anaphora'))]), 'candidates': ['s1_t2']})\n",
        "\n",
        "maz-12188\n",
        "\n"
       ]
      },
      {
       "output_type": "stream",
       "stream": "stdout",
       "text": [
        "maz-12383\n",
        "\n"
       ]
      },
      {
       "output_type": "stream",
       "stream": "stdout",
       "text": [
        "maz-12473\n",
        "\n"
       ]
      },
      {
       "output_type": "stream",
       "stream": "stdout",
       "text": [
        "maz-12510\n",
        "\n"
       ]
      },
      {
       "output_type": "stream",
       "stream": "stdout",
       "text": [
        "maz-12576\n",
        "\n"
       ]
      },
      {
       "output_type": "stream",
       "stream": "stdout",
       "text": [
        "maz-12666\n",
        "Candidate was falsely rejected."
       ]
      },
      {
       "output_type": "stream",
       "stream": "stdout",
       "text": [
        "\n",
        "defaultdict(<type 'str'>, {'anaphora_type': 'pronominal', 'filtered_candidates': [], 'filter_results': OrderedDict([('distance', (['s1_t1', 's1_t4', 's2_t2', 's2_t4', 's2_t5', 's2_t8', 's2_t11', 's2_t13', 's2_t16', 's3_t3', 's3_t4', 's3_t6', 's3_t8', 's4_t3', 's4_t4', 's4_t8', 's4_t10', 's4_t12', 's4_t15', 's4_t19'], 'Candidates mentioned no more than 4 sentences ago')), ('non_reflexive', (['s1_t1', 's1_t4', 's2_t2', 's2_t4', 's2_t5', 's2_t8', 's2_t11', 's2_t13', 's2_t16', 's3_t3', 's3_t4', 's3_t6', 's3_t8', 's4_t3', 's4_t4', 's4_t8', 's4_t10', 's4_t12', 's4_t15', 's4_t19'], \", which also don't represent reflexive personal pronouns, e.g. sich, einander, dich, mir\")), ('agreement', ([], ', which are in morphological agreement with the anaphora')), ('binding', ([], 'and which can be bound by the anaphora'))]), 'candidates': ['s1_t1', 's1_t4', 's2_t2', 's2_t4', 's2_t5', 's2_t8', 's2_t11', 's2_t13', 's2_t16', 's3_t3', 's3_t4', 's3_t6', 's3_t8', 's4_t3', 's4_t4', 's4_t8', 's4_t10', 's4_t12', 's4_t15', 's4_t19']})\n",
        "\n",
        "maz-12976\n",
        "\n"
       ]
      },
      {
       "output_type": "stream",
       "stream": "stdout",
       "text": [
        "maz-13015\n",
        "\n"
       ]
      },
      {
       "output_type": "stream",
       "stream": "stdout",
       "text": [
        "maz-13125\n",
        "\n"
       ]
      },
      {
       "output_type": "stream",
       "stream": "stdout",
       "text": [
        "maz-13153\n",
        "\n"
       ]
      },
      {
       "output_type": "stream",
       "stream": "stdout",
       "text": [
        "maz-13311\n",
        "\n"
       ]
      },
      {
       "output_type": "stream",
       "stream": "stdout",
       "text": [
        "maz-13507\n",
        "Candidate was falsely rejected."
       ]
      },
      {
       "output_type": "stream",
       "stream": "stdout",
       "text": [
        "\n",
        "defaultdict(<type 'str'>, {'anaphora_type': 'pronominal', 'filtered_candidates': [], 'filter_results': OrderedDict([('distance', (['s1_t1', 's2_t2'], 'Candidates mentioned no more than 4 sentences ago')), ('non_reflexive', (['s1_t1', 's2_t2'], \", which also don't represent reflexive personal pronouns, e.g. sich, einander, dich, mir\")), ('agreement', ([], ', which are in morphological agreement with the anaphora')), ('binding', ([], 'and which can be bound by the anaphora'))]), 'candidates': ['s1_t1', 's2_t2']})\n",
        "\n",
        "maz-13758\n",
        "\n"
       ]
      },
      {
       "output_type": "stream",
       "stream": "stdout",
       "text": [
        "maz-13915\n",
        "Candidate was falsely rejected."
       ]
      },
      {
       "output_type": "stream",
       "stream": "stdout",
       "text": [
        "\n",
        "defaultdict(<type 'str'>, {'anaphora_type': 'pronominal', 'filtered_candidates': [], 'filter_results': OrderedDict([('distance', (['s1_t1', 's2_t2', 's2_t3', 's2_t6', 's2_t10', 's2_t12', 's3_t3', 's3_t5', 's3_t7', 's3_t11', 's3_t12', 's4_t4', 's4_t10', 's5_t3'], 'Candidates mentioned no more than 4 sentences ago')), ('non_reflexive', (['s1_t1', 's2_t2', 's2_t3', 's2_t6', 's2_t10', 's2_t12', 's3_t3', 's3_t5', 's3_t11', 's3_t12', 's4_t4', 's4_t10', 's5_t3'], \", which also don't represent reflexive personal pronouns, e.g. sich, einander, dich, mir\")), ('agreement', ([], ', which are in morphological agreement with the anaphora')), ('binding', ([], 'and which can be bound by the anaphora'))]), 'candidates': ['s1_t1', 's2_t2', 's2_t3', 's2_t6', 's2_t10', 's2_t12', 's3_t3', 's3_t5', 's3_t7', 's3_t11', 's3_t12', 's4_t4', 's4_t10', 's5_t3']})\n",
        "\n",
        "maz-13946\n",
        "Candidate was falsely rejected."
       ]
      },
      {
       "output_type": "stream",
       "stream": "stdout",
       "text": [
        "\n",
        "defaultdict(<type 'str'>, {'anaphora_type': 'pronominal', 'filtered_candidates': [], 'filter_results': OrderedDict([('distance', (['s1_t1', 's2_t3', 's2_t5', 's2_t10', 's2_t15', 's2_t17', 's2_t18', 's2_t21', 's2_t26', 's2_t29', 's2_t30', 's2_t32', 's2_t34', 's2_t36', 's2_t37', 's2_t39', 's3_t3', 's3_t5', 's3_t8', 's3_t14'], 'Candidates mentioned no more than 4 sentences ago')), ('non_reflexive', (['s1_t1', 's2_t3', 's2_t10', 's2_t15', 's2_t17', 's2_t18', 's2_t21', 's2_t26', 's2_t29', 's2_t30', 's2_t32', 's2_t34', 's2_t36', 's2_t37', 's2_t39', 's3_t3', 's3_t5', 's3_t8', 's3_t14'], \", which also don't represent reflexive personal pronouns, e.g. sich, einander, dich, mir\")), ('agreement', ([], ', which are in morphological agreement with the anaphora')), ('binding', ([], 'and which can be bound by the anaphora'))]), 'candidates': ['s1_t1', 's2_t3', 's2_t5', 's2_t10', 's2_t15', 's2_t17', 's2_t18', 's2_t21', 's2_t26', 's2_t29', 's2_t30', 's2_t32', 's2_t34', 's2_t36', 's2_t37', 's2_t39', 's3_t3', 's3_t5', 's3_t8', 's3_t14']})\n",
        "Candidate was falsely rejected.\n",
        "defaultdict(<type 'str'>, {'anaphora_type': 'pronominal', 'filtered_candidates': [], 'filter_results': OrderedDict([('distance', (['s1_t1', 's2_t3', 's2_t5'], 'Candidates mentioned no more than 4 sentences ago')), ('non_reflexive', (['s1_t1', 's2_t3'], \", which also don't represent reflexive personal pronouns, e.g. sich, einander, dich, mir\")), ('agreement', (['s2_t3'], ', which are in morphological agreement with the anaphora')), ('binding', ([], 'and which can be bound by the anaphora'))]), 'candidates': ['s1_t1', 's2_t3', 's2_t5']})\n",
        "\n",
        "maz-14047\n",
        "\n"
       ]
      },
      {
       "output_type": "stream",
       "stream": "stdout",
       "text": [
        "maz-14055\n",
        "\n"
       ]
      },
      {
       "output_type": "stream",
       "stream": "stdout",
       "text": [
        "maz-14071\n",
        "\n"
       ]
      },
      {
       "output_type": "stream",
       "stream": "stdout",
       "text": [
        "maz-14072\n",
        "\n"
       ]
      },
      {
       "output_type": "stream",
       "stream": "stdout",
       "text": [
        "maz-14172\n",
        "Candidate was falsely rejected."
       ]
      },
      {
       "output_type": "stream",
       "stream": "stdout",
       "text": [
        "\n",
        "defaultdict(<type 'str'>, {'anaphora_type': 'pronominal', 'filtered_candidates': [], 'filter_results': OrderedDict([('distance', (['s1_t3', 's2_t2', 's2_t5', 's2_t9', 's2_t11', 's2_t15', 's2_t17', 's3_t5', 's3_t6'], 'Candidates mentioned no more than 4 sentences ago')), ('non_reflexive', (['s1_t3', 's2_t2', 's2_t5', 's2_t9', 's2_t11', 's2_t15', 's2_t17', 's3_t5', 's3_t6'], \", which also don't represent reflexive personal pronouns, e.g. sich, einander, dich, mir\")), ('agreement', ([], ', which are in morphological agreement with the anaphora')), ('binding', ([], 'and which can be bound by the anaphora'))]), 'candidates': ['s1_t3', 's2_t2', 's2_t5', 's2_t9', 's2_t11', 's2_t15', 's2_t17', 's3_t5', 's3_t6']})\n",
        "KeyError: markable_1000196 doesn't have an 'mmax:span' attribute:\n",
        "\t{'layers': set(['mmax', 'mmax:markable', 'mmax:primmark'])}\n",
        "\n",
        "maz-1423\n",
        "\n"
       ]
      },
      {
       "output_type": "stream",
       "stream": "stdout",
       "text": [
        "maz-14384\n",
        "Candidate was falsely rejected."
       ]
      },
      {
       "output_type": "stream",
       "stream": "stdout",
       "text": [
        "\n",
        "defaultdict(<type 'str'>, {'anaphora_type': 'pronominal', 'filtered_candidates': [], 'filter_results': OrderedDict([('distance', (['s1_t1', 's1_t4', 's2_t3', 's2_t5'], 'Candidates mentioned no more than 4 sentences ago')), ('non_reflexive', (['s1_t1', 's1_t4', 's2_t3', 's2_t5'], \", which also don't represent reflexive personal pronouns, e.g. sich, einander, dich, mir\")), ('agreement', (['s2_t3'], ', which are in morphological agreement with the anaphora')), ('binding', ([], 'and which can be bound by the anaphora'))]), 'candidates': ['s1_t1', 's1_t4', 's2_t3', 's2_t5']})\n",
        "\n",
        "maz-14399\n",
        "\n"
       ]
      },
      {
       "output_type": "stream",
       "stream": "stdout",
       "text": [
        "maz-14422\n",
        "\n"
       ]
      },
      {
       "output_type": "stream",
       "stream": "stdout",
       "text": [
        "maz-1453\n",
        "\n"
       ]
      },
      {
       "output_type": "stream",
       "stream": "stdout",
       "text": [
        "maz-14590\n",
        "\n"
       ]
      },
      {
       "output_type": "stream",
       "stream": "stdout",
       "text": [
        "maz-14654\n",
        "\n"
       ]
      },
      {
       "output_type": "stream",
       "stream": "stdout",
       "text": [
        "maz-14792\n",
        "\n"
       ]
      },
      {
       "output_type": "stream",
       "stream": "stdout",
       "text": [
        "maz-14813\n",
        "\n"
       ]
      },
      {
       "output_type": "stream",
       "stream": "stdout",
       "text": [
        "maz-14841\n",
        "\n"
       ]
      },
      {
       "output_type": "stream",
       "stream": "stdout",
       "text": [
        "maz-14853\n",
        "\n"
       ]
      },
      {
       "output_type": "stream",
       "stream": "stdout",
       "text": [
        "maz-14881\n",
        "\n"
       ]
      },
      {
       "output_type": "stream",
       "stream": "stdout",
       "text": [
        "maz-15155\n",
        "\n"
       ]
      },
      {
       "output_type": "stream",
       "stream": "stdout",
       "text": [
        "maz-15209\n",
        "\n"
       ]
      },
      {
       "output_type": "stream",
       "stream": "stdout",
       "text": [
        "maz-15347\n",
        "\n"
       ]
      },
      {
       "output_type": "stream",
       "stream": "stdout",
       "text": [
        "maz-15545\n",
        "\n"
       ]
      },
      {
       "output_type": "stream",
       "stream": "stdout",
       "text": [
        "maz-15609\n",
        "Candidate was falsely rejected."
       ]
      },
      {
       "output_type": "stream",
       "stream": "stdout",
       "text": [
        "\n",
        "defaultdict(<type 'str'>, {'anaphora_type': 'pronominal', 'filtered_candidates': [], 'filter_results': OrderedDict([('distance', (['s1_t1', 's2_t3'], 'Candidates mentioned no more than 4 sentences ago')), ('non_reflexive', (['s1_t1', 's2_t3'], \", which also don't represent reflexive personal pronouns, e.g. sich, einander, dich, mir\")), ('agreement', ([], ', which are in morphological agreement with the anaphora')), ('binding', ([], 'and which can be bound by the anaphora'))]), 'candidates': ['s1_t1', 's2_t3']})\n",
        "\n",
        "maz-15702\n",
        "Candidate was falsely rejected."
       ]
      },
      {
       "output_type": "stream",
       "stream": "stdout",
       "text": [
        "\n",
        "defaultdict(<type 'str'>, {'anaphora_type': 'pronominal', 'filtered_candidates': [], 'filter_results': OrderedDict([('distance', (['s2_t3', 's2_t6', 's2_t8', 's2_t9'], 'Candidates mentioned no more than 4 sentences ago')), ('non_reflexive', (['s2_t3', 's2_t6', 's2_t8', 's2_t9'], \", which also don't represent reflexive personal pronouns, e.g. sich, einander, dich, mir\")), ('agreement', ([], ', which are in morphological agreement with the anaphora')), ('binding', ([], 'and which can be bound by the anaphora'))]), 'candidates': ['s2_t3', 's2_t6', 's2_t8', 's2_t9']})\n",
        "\n",
        "maz-15734\n",
        "\n"
       ]
      },
      {
       "output_type": "stream",
       "stream": "stdout",
       "text": [
        "maz-15970\n",
        "\n"
       ]
      },
      {
       "output_type": "stream",
       "stream": "stdout",
       "text": [
        "maz-16153\n",
        "Candidate was falsely rejected."
       ]
      },
      {
       "output_type": "stream",
       "stream": "stdout",
       "text": [
        "\n",
        "defaultdict(<type 'str'>, {'anaphora_type': 'pronominal', 'filtered_candidates': [], 'filter_results': OrderedDict([('distance', (['s4_t2', 's4_t5', 's4_t8', 's4_t12', 's5_t5', 's6_t5', 's6_t9', 's6_t12', 's6_t15', 's7_t4', 's7_t6', 's8_t2', 's8_t10', 's8_t14'], 'Candidates mentioned no more than 4 sentences ago')), ('non_reflexive', (['s4_t2', 's4_t5', 's4_t8', 's4_t12', 's5_t5', 's6_t5', 's6_t9', 's6_t12', 's6_t15', 's7_t4', 's7_t6', 's8_t2', 's8_t10', 's8_t14'], \", which also don't represent reflexive personal pronouns, e.g. sich, einander, dich, mir\")), ('agreement', (['s8_t10'], ', which are in morphological agreement with the anaphora')), ('binding', ([], 'and which can be bound by the anaphora'))]), 'candidates': ['s2_t2', 's2_t6', 's2_t9', 's2_t11', 's2_t16', 's2_t18', 's3_t1', 's3_t4', 's3_t6', 's3_t7', 's3_t9', 's3_t12', 's3_t13', 's4_t2', 's4_t5', 's4_t8', 's4_t12', 's5_t5', 's6_t5', 's6_t9', 's6_t12', 's6_t15', 's7_t4', 's7_t6', 's8_t2', 's8_t10', 's8_t14']})\n",
        "\n",
        "maz-16177\n",
        "\n"
       ]
      },
      {
       "output_type": "stream",
       "stream": "stdout",
       "text": [
        "maz-16250\n",
        "\n"
       ]
      },
      {
       "output_type": "stream",
       "stream": "stdout",
       "text": [
        "maz-16294\n",
        "Candidate was falsely rejected."
       ]
      },
      {
       "output_type": "stream",
       "stream": "stdout",
       "text": [
        "\n",
        "defaultdict(<type 'str'>, {'anaphora_type': 'pronominal', 'filtered_candidates': [], 'filter_results': OrderedDict([('distance', (['s2_t2', 's2_t4', 's2_t5', 's2_t11', 's2_t15', 's3_t3'], 'Candidates mentioned no more than 4 sentences ago')), ('non_reflexive', (['s2_t2', 's2_t4', 's2_t5', 's2_t11', 's2_t15'], \", which also don't represent reflexive personal pronouns, e.g. sich, einander, dich, mir\")), ('agreement', ([], ', which are in morphological agreement with the anaphora')), ('binding', ([], 'and which can be bound by the anaphora'))]), 'candidates': ['s2_t2', 's2_t4', 's2_t5', 's2_t11', 's2_t15', 's3_t3']})\n",
        "Candidate was falsely rejected.\n",
        "defaultdict(<type 'str'>, {'anaphora_type': 'pronominal', 'filtered_candidates': [], 'filter_results': OrderedDict([('distance', (['s2_t2', 's2_t4', 's2_t5', 's2_t11', 's2_t15', 's3_t3'], 'Candidates mentioned no more than 4 sentences ago')), ('non_reflexive', (['s2_t2', 's2_t4', 's2_t5', 's2_t11', 's2_t15'], \", which also don't represent reflexive personal pronouns, e.g. sich, einander, dich, mir\")), ('agreement', ([], ', which are in morphological agreement with the anaphora')), ('binding', ([], 'and which can be bound by the anaphora'))]), 'candidates': ['s2_t2', 's2_t4', 's2_t5', 's2_t11', 's2_t15', 's3_t3']})\n",
        "\n",
        "maz-16353\n",
        "\n"
       ]
      },
      {
       "output_type": "stream",
       "stream": "stdout",
       "text": [
        "maz-16360\n",
        "\n"
       ]
      },
      {
       "output_type": "stream",
       "stream": "stdout",
       "text": [
        "maz-16590\n",
        "\n"
       ]
      },
      {
       "output_type": "stream",
       "stream": "stdout",
       "text": [
        "maz-1679\n",
        "\n"
       ]
      },
      {
       "output_type": "stream",
       "stream": "stdout",
       "text": [
        "maz-16987\n",
        "\n"
       ]
      },
      {
       "output_type": "stream",
       "stream": "stdout",
       "text": [
        "maz-17062\n",
        "\n"
       ]
      },
      {
       "output_type": "stream",
       "stream": "stdout",
       "text": [
        "maz-17091\n",
        "\n"
       ]
      },
      {
       "output_type": "stream",
       "stream": "stdout",
       "text": [
        "maz-17242\n",
        "\n"
       ]
      },
      {
       "output_type": "stream",
       "stream": "stdout",
       "text": [
        "maz-17254\n",
        "\n"
       ]
      },
      {
       "output_type": "stream",
       "stream": "stdout",
       "text": [
        "maz-17300\n",
        "\n"
       ]
      },
      {
       "output_type": "stream",
       "stream": "stdout",
       "text": [
        "maz-17539\n",
        "\n"
       ]
      },
      {
       "output_type": "stream",
       "stream": "stdout",
       "text": [
        "maz-1757\n",
        "Candidate was falsely rejected."
       ]
      },
      {
       "output_type": "stream",
       "stream": "stdout",
       "text": [
        "\n",
        "defaultdict(<type 'str'>, {'anaphora_type': 'pronominal', 'filtered_candidates': [], 'filter_results': OrderedDict([('distance', (['s1_t2', 's2_t4'], 'Candidates mentioned no more than 4 sentences ago')), ('non_reflexive', (['s1_t2', 's2_t4'], \", which also don't represent reflexive personal pronouns, e.g. sich, einander, dich, mir\")), ('agreement', (['s2_t4'], ', which are in morphological agreement with the anaphora')), ('binding', ([], 'and which can be bound by the anaphora'))]), 'candidates': ['s1_t2', 's2_t4']})\n",
        "\n",
        "maz-17664\n",
        "Candidate was falsely rejected."
       ]
      },
      {
       "output_type": "stream",
       "stream": "stdout",
       "text": [
        "\n",
        "defaultdict(<type 'str'>, {'anaphora_type': 'pronominal', 'filtered_candidates': [], 'filter_results': OrderedDict([('distance', (['s1_t2', 's2_t4', 's3_t2', 's3_t7', 's3_t13', 's3_t17', 's3_t20', 's3_t23', 's3_t25', 's3_t29', 's4_t5', 's4_t7', 's5_t6'], 'Candidates mentioned no more than 4 sentences ago')), ('non_reflexive', (['s1_t2', 's2_t4', 's3_t2', 's3_t7', 's3_t13', 's3_t17', 's3_t20', 's3_t23', 's3_t25', 's3_t29', 's4_t5', 's4_t7', 's5_t6'], \", which also don't represent reflexive personal pronouns, e.g. sich, einander, dich, mir\")), ('agreement', ([], ', which are in morphological agreement with the anaphora')), ('binding', ([], 'and which can be bound by the anaphora'))]), 'candidates': ['s1_t2', 's2_t4', 's3_t2', 's3_t7', 's3_t13', 's3_t17', 's3_t20', 's3_t23', 's3_t25', 's3_t29', 's4_t5', 's4_t7', 's5_t6']})\n",
        "\n",
        "maz-17673\n",
        "\n"
       ]
      },
      {
       "output_type": "stream",
       "stream": "stdout",
       "text": [
        "maz-17698\n",
        "\n"
       ]
      },
      {
       "output_type": "stream",
       "stream": "stdout",
       "text": [
        "maz-17706\n",
        "Candidate was falsely rejected."
       ]
      },
      {
       "output_type": "stream",
       "stream": "stdout",
       "text": [
        "\n",
        "defaultdict(<type 'str'>, {'anaphora_type': 'pronominal', 'filtered_candidates': [], 'filter_results': OrderedDict([('distance', (['s15_t6', 's15_t8', 's16_t3', 's16_t4', 's16_t8', 's16_t10', 's17_t2', 's17_t4', 's17_t8', 's17_t11', 's17_t14', 's18_t3', 's18_t10', 's18_t13', 's19_t2', 's19_t5', 's19_t9'], 'Candidates mentioned no more than 4 sentences ago')), ('non_reflexive', (['s15_t6', 's15_t8', 's16_t4', 's16_t8', 's16_t10', 's17_t2', 's17_t4', 's17_t8', 's17_t11', 's17_t14', 's18_t3', 's18_t10', 's18_t13', 's19_t2', 's19_t5'], \", which also don't represent reflexive personal pronouns, e.g. sich, einander, dich, mir\")), ('agreement', ([], ', which are in morphological agreement with the anaphora')), ('binding', ([], 'and which can be bound by the anaphora'))]), 'candidates': ['s2_t2', 's2_t3', 's2_t5', 's2_t8', 's3_t3', 's3_t9', 's3_t12', 's4_t2', 's4_t4', 's5_t5', 's5_t7', 's5_t10', 's5_t11', 's6_t1', 's6_t4', 's7_t1', 's7_t5', 's7_t7', 's7_t11', 's7_t13', 's8_t4', 's8_t5', 's9_t2', 's9_t4', 's9_t7', 's10_t3', 's10_t4', 's10_t8', 's10_t9', 's11_t3', 's11_t7', 's11_t12', 's11_t13', 's11_t15', 's11_t17', 's12_t1', 's12_t5', 's14_t2', 's14_t4', 's14_t6', 's14_t9', 's14_t10', 's15_t6', 's15_t8', 's16_t3', 's16_t4', 's16_t8', 's16_t10', 's17_t2', 's17_t4', 's17_t8', 's17_t11', 's17_t14', 's18_t3', 's18_t10', 's18_t13', 's19_t2', 's19_t5', 's19_t9']})\n",
        "\n",
        "maz-17953\n",
        "KeyError: word_191..word_194 doesn't represent a token span"
       ]
      },
      {
       "output_type": "stream",
       "stream": "stdout",
       "text": [
        "\n"
       ]
      },
      {
       "ename": "KeyError",
       "evalue": "'word_193'",
       "output_type": "pyerr",
       "traceback": [
        "\u001b[1;31m---------------------------------------------------------------------------\u001b[0m\n\u001b[1;31mKeyError\u001b[0m                                  Traceback (most recent call last)",
        "\u001b[1;32m<ipython-input-43-b6bb9be64742>\u001b[0m in \u001b[0;36m<module>\u001b[1;34m()\u001b[0m\n\u001b[0;32m     12\u001b[0m     \u001b[0mmmax2pocores\u001b[0m \u001b[1;33m=\u001b[0m \u001b[0mcreate_token_mapping\u001b[0m\u001b[1;33m(\u001b[0m\u001b[0mmdg\u001b[0m\u001b[1;33m,\u001b[0m \u001b[0mp\u001b[0m\u001b[1;33m.\u001b[0m\u001b[0mdocument\u001b[0m\u001b[1;33m)\u001b[0m\u001b[1;33m\u001b[0m\u001b[0m\n\u001b[0;32m     13\u001b[0m     \u001b[0mmdg\u001b[0m\u001b[1;33m.\u001b[0m\u001b[0mmerge_graphs\u001b[0m\u001b[1;33m(\u001b[0m\u001b[0mp\u001b[0m\u001b[1;33m.\u001b[0m\u001b[0mdocument\u001b[0m\u001b[1;33m)\u001b[0m\u001b[1;33m\u001b[0m\u001b[0m\n\u001b[1;32m---> 14\u001b[1;33m     \u001b[0mprint_false_negatives\u001b[0m\u001b[1;33m(\u001b[0m\u001b[0mmdg\u001b[0m\u001b[1;33m)\u001b[0m\u001b[1;33m\u001b[0m\u001b[0m\n\u001b[0m\u001b[0;32m     15\u001b[0m     \u001b[1;32mprint\u001b[0m\u001b[1;33m\u001b[0m\u001b[0m\n",
        "\u001b[1;32m<ipython-input-42-9f30a4b91729>\u001b[0m in \u001b[0;36mprint_false_negatives\u001b[1;34m(docgraph)\u001b[0m\n\u001b[0;32m     29\u001b[0m                 \u001b[1;32melse\u001b[0m\u001b[1;33m:\u001b[0m\u001b[1;33m\u001b[0m\u001b[0m\n\u001b[0;32m     30\u001b[0m                     \u001b[1;32mfor\u001b[0m \u001b[0mmmax_token_id\u001b[0m \u001b[1;32min\u001b[0m \u001b[0mspanstring2tokens\u001b[0m\u001b[1;33m(\u001b[0m\u001b[0mspan_str\u001b[0m\u001b[1;33m)\u001b[0m\u001b[1;33m:\u001b[0m\u001b[1;33m\u001b[0m\u001b[0m\n\u001b[1;32m---> 31\u001b[1;33m                         \u001b[1;32mif\u001b[0m \u001b[0mmmax2pocores\u001b[0m\u001b[1;33m[\u001b[0m\u001b[0mmmax_token_id\u001b[0m\u001b[1;33m]\u001b[0m \u001b[1;32min\u001b[0m \u001b[0mp\u001b[0m\u001b[1;33m.\u001b[0m\u001b[0mcandidate_report\u001b[0m\u001b[1;33m:\u001b[0m\u001b[1;33m\u001b[0m\u001b[0m\n\u001b[0m\u001b[0;32m     32\u001b[0m                             \u001b[0mreport\u001b[0m \u001b[1;33m=\u001b[0m \u001b[0mp\u001b[0m\u001b[1;33m.\u001b[0m\u001b[0mcandidate_report\u001b[0m\u001b[1;33m[\u001b[0m\u001b[0mmmax2pocores\u001b[0m\u001b[1;33m[\u001b[0m\u001b[0mmmax_token_id\u001b[0m\u001b[1;33m]\u001b[0m\u001b[1;33m]\u001b[0m\u001b[1;33m\u001b[0m\u001b[0m\n\u001b[0;32m     33\u001b[0m                             \u001b[1;32mif\u001b[0m \u001b[0mreport\u001b[0m\u001b[1;33m[\u001b[0m\u001b[1;34m'anaphora_type'\u001b[0m\u001b[1;33m]\u001b[0m \u001b[1;33m==\u001b[0m \u001b[1;34m'pronominal'\u001b[0m\u001b[1;33m:\u001b[0m\u001b[1;33m\u001b[0m\u001b[0m\n",
        "\u001b[1;31mKeyError\u001b[0m: 'word_193'"
       ]
      }
     ],
     "prompt_number": 43
    },
    {
     "cell_type": "code",
     "collapsed": false,
     "input": [],
     "language": "python",
     "metadata": {},
     "outputs": []
    }
   ],
   "metadata": {}
  }
 ]
}