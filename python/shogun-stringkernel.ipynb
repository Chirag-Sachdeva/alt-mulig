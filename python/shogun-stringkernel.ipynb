{
 "metadata": {
  "name": "",
  "signature": "sha256:1fa750e6de24b24b61330e9434b76eaab6ad456ab4728ab85dd3054d2f142044"
 },
 "nbformat": 3,
 "nbformat_minor": 0,
 "worksheets": [
  {
   "cells": [
    {
     "cell_type": "code",
     "collapsed": false,
     "input": [
      "# adapted from http://stackoverflow.com/a/21675241\n",
      "\n",
      "import numpy\n",
      "\n",
      "from shogun.Features import *\n",
      "from shogun.Kernel import *\n",
      "from shogun.Classifier import *\n",
      "from shogun.Evaluation import *\n",
      "from modshogun import StringCharFeatures, RAWBYTE\n",
      "# from shogun.Kernel import SSKStringKernel\n",
      "from shogun.Kernel import StringSubsequenceKernel\n",
      "\n",
      "\n",
      "strings = ['cat', 'doom', 'car', 'boom']\n",
      "test = ['bat', 'soon']\n",
      "\n",
      "train_labels  = numpy.array([1, -1, 1, -1])\n",
      "test_labels = numpy.array([1, -1])\n",
      "\n",
      "features = StringCharFeatures(strings, RAWBYTE)\n",
      "test_features = StringCharFeatures(test, RAWBYTE)"
     ],
     "language": "python",
     "metadata": {},
     "outputs": [],
     "prompt_number": 3
    },
    {
     "cell_type": "code",
     "collapsed": false,
     "input": [
      "# 1 is n and 0.5 is lambda as described in Lodhi 2002\n",
      "# sk = SSKStringKernel(features, features, 1, 0.5)\n",
      "sk = StringSubsequenceKernel(features, features, 1, 0.5)\n",
      "\n",
      "# Train the Support Vector Machine\n",
      "labels = BinaryLabels(train_labels)\n",
      "C = 1.0\n",
      "svm = LibSVM(C, sk, labels)\n",
      "svm.train()\n",
      "\n",
      "# Prediction\n",
      "predicted_labels = svm.apply(test_features).get_labels()\n",
      "print predicted_labels"
     ],
     "language": "python",
     "metadata": {},
     "outputs": [
      {
       "output_type": "stream",
       "stream": "stdout",
       "text": [
        "[ 1. -1.]\n"
       ]
      }
     ],
     "prompt_number": 4
    },
    {
     "cell_type": "code",
     "collapsed": false,
     "input": [
      "sk.get_kernel_matrix()"
     ],
     "language": "python",
     "metadata": {},
     "outputs": [
      {
       "metadata": {},
       "output_type": "pyout",
       "prompt_number": 9,
       "text": [
        "array([[ 0.66666667,  0.        ],\n",
        "       [ 0.        ,  0.66666667],\n",
        "       [ 0.33333333,  0.        ],\n",
        "       [ 0.23570226,  0.66666667]])"
       ]
      }
     ],
     "prompt_number": 9
    },
    {
     "cell_type": "code",
     "collapsed": false,
     "input": [
      "s = StringCharFeatures(['cat'], RAWBYTE)\n",
      "t = StringCharFeatures(['bat'], RAWBYTE)\n",
      "lamda_weight = 1\n",
      "n = 1\n",
      "\n",
      "ssk = StringSubsequenceKernel(s, t, n, lamda_weight)"
     ],
     "language": "python",
     "metadata": {},
     "outputs": [],
     "prompt_number": 13
    },
    {
     "cell_type": "code",
     "collapsed": false,
     "input": [
      "s = StringCharFeatures(['cat'], RAWBYTE)\n",
      "t = StringCharFeatures(['bat'], RAWBYTE)\n",
      "for n in range(5):\n",
      "    ssk = StringSubsequenceKernel(s, t, n, lamda_weight)\n",
      "    print n, ssk.get_kernel_matrix()"
     ],
     "language": "python",
     "metadata": {},
     "outputs": [
      {
       "output_type": "stream",
       "stream": "stdout",
       "text": [
        "0 [[ 0.]]\n",
        "1 [[ 0.66666667]]\n",
        "2 [[ 0.5]]\n",
        "3 [[ 0.42857143]]\n",
        "4 [[ 0.42857143]]\n"
       ]
      }
     ],
     "prompt_number": 55
    },
    {
     "cell_type": "code",
     "collapsed": false,
     "input": [
      "s = StringCharFeatures(['cat'], RAWBYTE)\n",
      "for n in range(5):\n",
      "    ssk = StringSubsequenceKernel(s, s, n, lamda_weight)\n",
      "    print n, ssk.get_kernel_matrix()"
     ],
     "language": "python",
     "metadata": {},
     "outputs": [
      {
       "output_type": "stream",
       "stream": "stdout",
       "text": [
        "0 [[ 0.]]\n",
        "1 [[ 1.]]\n",
        "2 [[ 1.]]\n",
        "3 [[ 1.]]\n",
        "4 [[ 1.]]\n"
       ]
      }
     ],
     "prompt_number": 54
    },
    {
     "cell_type": "code",
     "collapsed": false,
     "input": [
      "ssk.kernel(0,0) # idx_a, idx_b"
     ],
     "language": "python",
     "metadata": {},
     "outputs": [
      {
       "metadata": {},
       "output_type": "pyout",
       "prompt_number": 36,
       "text": [
        "0.6666666666666667"
       ]
      }
     ],
     "prompt_number": 36
    },
    {
     "cell_type": "code",
     "collapsed": false,
     "input": [
      "ssk.get_lhs()"
     ],
     "language": "python",
     "metadata": {},
     "outputs": [
      {
       "metadata": {},
       "output_type": "pyout",
       "prompt_number": 39,
       "text": [
        "StringFeatures"
       ]
      }
     ],
     "prompt_number": 39
    },
    {
     "cell_type": "code",
     "collapsed": false,
     "input": [
      "ssk.get_feature_class()"
     ],
     "language": "python",
     "metadata": {},
     "outputs": [
      {
       "metadata": {},
       "output_type": "pyout",
       "prompt_number": 41,
       "text": [
        "30"
       ]
      }
     ],
     "prompt_number": 41
    },
    {
     "cell_type": "code",
     "collapsed": false,
     "input": [
      "ssk.get_feature_type()"
     ],
     "language": "python",
     "metadata": {},
     "outputs": [
      {
       "metadata": {},
       "output_type": "pyout",
       "prompt_number": 43,
       "text": [
        "10"
       ]
      }
     ],
     "prompt_number": 43
    },
    {
     "cell_type": "code",
     "collapsed": false,
     "input": [
      "ssk.get_kernel_col(0)"
     ],
     "language": "python",
     "metadata": {},
     "outputs": [
      {
       "metadata": {},
       "output_type": "pyout",
       "prompt_number": 47,
       "text": [
        "array([ 0.66666667])"
       ]
      }
     ],
     "prompt_number": 47
    },
    {
     "cell_type": "code",
     "collapsed": false,
     "input": [
      "ssk.get_kernel_row(0)"
     ],
     "language": "python",
     "metadata": {},
     "outputs": [
      {
       "metadata": {},
       "output_type": "pyout",
       "prompt_number": 49,
       "text": [
        "array([ 0.66666667])"
       ]
      }
     ],
     "prompt_number": 49
    },
    {
     "cell_type": "code",
     "collapsed": false,
     "input": [
      "ssk.get_kernel_matrix()"
     ],
     "language": "python",
     "metadata": {},
     "outputs": [
      {
       "metadata": {},
       "output_type": "pyout",
       "prompt_number": 50,
       "text": [
        "array([[ 0.66666667]])"
       ]
      }
     ],
     "prompt_number": 50
    },
    {
     "cell_type": "code",
     "collapsed": false,
     "input": [
      "kant1 = 'science is organized knowledge'\n",
      "kant2 = 'wisdom is organized life'\n",
      "\n",
      "s = StringCharFeatures([kant1], RAWBYTE)\n",
      "t = StringCharFeatures([kant2], RAWBYTE)\n",
      "for n in range(1, 7):\n",
      "    ssk = StringSubsequenceKernel(s, t, n, lamda_weight)\n",
      "    print n, ssk.get_kernel_matrix(), ssk.get_kernel_matrix()**2"
     ],
     "language": "python",
     "metadata": {},
     "outputs": [
      {
       "output_type": "stream",
       "stream": "stdout",
       "text": [
        "1 [[ 0.84867922]] [[ 0.72025641]]\n",
        "2 [[ 0.62349701]] [[ 0.38874853]]\n",
        "3 [[ 0.42388399]] [[ 0.17967763]]\n",
        "4 [[ 0.27714312]] [[ 0.07680831]]\n",
        "5 [[ 0.17785773]] [[ 0.03163337]]\n",
        "6 [[ 0.1135452]] [[ 0.01289251]]\n"
       ]
      }
     ],
     "prompt_number": 75
    },
    {
     "cell_type": "code",
     "collapsed": false,
     "input": [
      "# CSqrtDiagKernelNormalizer - divide kernel by square root of product of diagonal \n",
      "ssk.get_normalizer()"
     ],
     "language": "python",
     "metadata": {},
     "outputs": [
      {
       "metadata": {},
       "output_type": "pyout",
       "prompt_number": 59,
       "text": [
        "SqrtDiagKernelNormalizer"
       ]
      }
     ],
     "prompt_number": 59
    },
    {
     "cell_type": "code",
     "collapsed": false,
     "input": [
      "import math\n",
      "\n",
      "diag = 0.5\n",
      "print math.sqrt(diag)\n"
     ],
     "language": "python",
     "metadata": {},
     "outputs": [
      {
       "output_type": "stream",
       "stream": "stdout",
       "text": [
        "0.707106781187\n"
       ]
      }
     ],
     "prompt_number": 71
    },
    {
     "cell_type": "code",
     "collapsed": false,
     "input": [
      "norm = 0.707106781187\n",
      "\n",
      "print norm ** 2"
     ],
     "language": "python",
     "metadata": {},
     "outputs": [
      {
       "output_type": "stream",
       "stream": "stdout",
       "text": [
        "0.500000000001\n"
       ]
      }
     ],
     "prompt_number": 74
    },
    {
     "cell_type": "code",
     "collapsed": false,
     "input": [
      "ssk.get_kernel_diagonal()"
     ],
     "language": "python",
     "metadata": {},
     "outputs": [
      {
       "metadata": {},
       "output_type": "pyout",
       "prompt_number": 60,
       "text": [
        "array([ 0.1135452])"
       ]
      }
     ],
     "prompt_number": 60
    },
    {
     "cell_type": "code",
     "collapsed": false,
     "input": [
      "ssk.set_normalizer('IDENTITY')"
     ],
     "language": "python",
     "metadata": {},
     "outputs": [
      {
       "ename": "TypeError",
       "evalue": "in method 'Kernel_set_normalizer', argument 2 of type 'shogun::CKernelNormalizer *'",
       "output_type": "pyerr",
       "traceback": [
        "\u001b[1;31m---------------------------------------------------------------------------\u001b[0m\n\u001b[1;31mTypeError\u001b[0m                                 Traceback (most recent call last)",
        "\u001b[1;32m<ipython-input-61-40fd1c9108d0>\u001b[0m in \u001b[0;36m<module>\u001b[1;34m()\u001b[0m\n\u001b[1;32m----> 1\u001b[1;33m \u001b[0mssk\u001b[0m\u001b[1;33m.\u001b[0m\u001b[0mset_normalizer\u001b[0m\u001b[1;33m(\u001b[0m\u001b[1;34m'IDENTITY'\u001b[0m\u001b[1;33m)\u001b[0m\u001b[1;33m\u001b[0m\u001b[0m\n\u001b[0m",
        "\u001b[1;31mTypeError\u001b[0m: in method 'Kernel_set_normalizer', argument 2 of type 'shogun::CKernelNormalizer *'"
       ]
      }
     ],
     "prompt_number": 61
    },
    {
     "cell_type": "code",
     "collapsed": false,
     "input": [
      "import modshogun\n",
      "\n",
      "# from modshogun.KernelNormalizer import IdentityKernelNormalizer\n",
      "import shogun.KernelNormalizer"
     ],
     "language": "python",
     "metadata": {},
     "outputs": [
      {
       "ename": "ImportError",
       "evalue": "No module named KernelNormalizer",
       "output_type": "pyerr",
       "traceback": [
        "\u001b[1;31m---------------------------------------------------------------------------\u001b[0m\n\u001b[1;31mImportError\u001b[0m                               Traceback (most recent call last)",
        "\u001b[1;32m<ipython-input-66-d63679f195db>\u001b[0m in \u001b[0;36m<module>\u001b[1;34m()\u001b[0m\n\u001b[0;32m      2\u001b[0m \u001b[1;33m\u001b[0m\u001b[0m\n\u001b[0;32m      3\u001b[0m \u001b[1;31m# from modshogun.KernelNormalizer import IdentityKernelNormalizer\u001b[0m\u001b[1;33m\u001b[0m\u001b[1;33m\u001b[0m\u001b[0m\n\u001b[1;32m----> 4\u001b[1;33m \u001b[1;32mimport\u001b[0m \u001b[0mshogun\u001b[0m\u001b[1;33m.\u001b[0m\u001b[0mKernelNormalizer\u001b[0m\u001b[1;33m\u001b[0m\u001b[0m\n\u001b[0m",
        "\u001b[1;31mImportError\u001b[0m: No module named KernelNormalizer"
       ]
      }
     ],
     "prompt_number": 66
    }
   ],
   "metadata": {}
  }
 ]
}