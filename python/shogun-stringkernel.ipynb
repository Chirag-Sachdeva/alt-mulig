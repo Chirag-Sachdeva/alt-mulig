{
 "metadata": {
  "name": "",
  "signature": "sha256:4637f3fb71aa3b5bd529c28cd3b4e1cc61b968b210973596a7c48c7196abdbe2"
 },
 "nbformat": 3,
 "nbformat_minor": 0,
 "worksheets": [
  {
   "cells": [
    {
     "cell_type": "code",
     "collapsed": false,
     "input": [
      "# adapted from http://stackoverflow.com/a/21675241\n",
      "\n",
      "import numpy\n",
      "\n",
      "from shogun.Features import *\n",
      "from shogun.Kernel import *\n",
      "from shogun.Classifier import *\n",
      "from shogun.Evaluation import *\n",
      "from modshogun import StringCharFeatures, RAWBYTE\n",
      "# from shogun.Kernel import SSKStringKernel\n",
      "from shogun.Kernel import WeightedCommWordStringKernel\n",
      "\n",
      "\n",
      "strings = ['cat', 'doom', 'car', 'boom']\n",
      "test = ['bat', 'soon']\n",
      "\n",
      "train_labels  = numpy.array([1, -1, 1, -1])\n",
      "test_labels = numpy.array([1, -1])\n",
      "\n",
      "features = StringCharFeatures(strings, RAWBYTE)\n",
      "test_features = StringCharFeatures(test, RAWBYTE)"
     ],
     "language": "python",
     "metadata": {},
     "outputs": [],
     "prompt_number": 8
    },
    {
     "cell_type": "code",
     "collapsed": false,
     "input": [
      "# 1 is n and 0.5 is lambda as described in Lodhi 2002\n",
      "# sk = SSKStringKernel(features, features, 1, 0.5)\n",
      "wsk = WeightedCommWordStringKernel(features, test_features, True, 10)\n",
      "\n",
      "# Train the Support Vector Machine\n",
      "labels = BinaryLabels(train_labels)\n",
      "C = 1.0\n",
      "svm = LibSVM(C, sk, labels)\n",
      "svm.train()\n",
      "\n",
      "# Prediction\n",
      "predicted_labels = svm.apply(test_features).get_labels()\n",
      "print predicted_labels"
     ],
     "language": "python",
     "metadata": {},
     "outputs": [
      {
       "ename": "NotImplementedError",
       "evalue": "Wrong number or type of arguments for overloaded function 'new_WeightedCommWordStringKernel'.\n  Possible C/C++ prototypes are:\n    shogun::CWeightedCommWordStringKernel::CWeightedCommWordStringKernel()\n    shogun::CWeightedCommWordStringKernel::CWeightedCommWordStringKernel(int32_t,bool)\n    shogun::CWeightedCommWordStringKernel::CWeightedCommWordStringKernel(shogun::CStringFeatures< uint16_t > *,shogun::CStringFeatures< uint16_t > *,bool,int32_t)\n    shogun::CWeightedCommWordStringKernel::CWeightedCommWordStringKernel(shogun::CStringFeatures< uint16_t > *,shogun::CStringFeatures< uint16_t > *,bool)\n    shogun::CWeightedCommWordStringKernel::CWeightedCommWordStringKernel(shogun::CStringFeatures< uint16_t > *,shogun::CStringFeatures< uint16_t > *)\n",
       "output_type": "pyerr",
       "traceback": [
        "\u001b[1;31m---------------------------------------------------------------------------\u001b[0m\n\u001b[1;31mNotImplementedError\u001b[0m                       Traceback (most recent call last)",
        "\u001b[1;32m<ipython-input-16-b277b2de5b92>\u001b[0m in \u001b[0;36m<module>\u001b[1;34m()\u001b[0m\n\u001b[0;32m      1\u001b[0m \u001b[1;31m# 1 is n and 0.5 is lambda as described in Lodhi 2002\u001b[0m\u001b[1;33m\u001b[0m\u001b[1;33m\u001b[0m\u001b[0m\n\u001b[0;32m      2\u001b[0m \u001b[1;31m# sk = SSKStringKernel(features, features, 1, 0.5)\u001b[0m\u001b[1;33m\u001b[0m\u001b[1;33m\u001b[0m\u001b[0m\n\u001b[1;32m----> 3\u001b[1;33m \u001b[0mwsk\u001b[0m \u001b[1;33m=\u001b[0m \u001b[0mWeightedCommWordStringKernel\u001b[0m\u001b[1;33m(\u001b[0m\u001b[0mfeatures\u001b[0m\u001b[1;33m,\u001b[0m \u001b[0mtest_features\u001b[0m\u001b[1;33m,\u001b[0m \u001b[0mTrue\u001b[0m\u001b[1;33m,\u001b[0m \u001b[1;36m10\u001b[0m\u001b[1;33m)\u001b[0m\u001b[1;33m\u001b[0m\u001b[0m\n\u001b[0m\u001b[0;32m      4\u001b[0m \u001b[1;33m\u001b[0m\u001b[0m\n\u001b[0;32m      5\u001b[0m \u001b[1;31m# Train the Support Vector Machine\u001b[0m\u001b[1;33m\u001b[0m\u001b[1;33m\u001b[0m\u001b[0m\n",
        "\u001b[1;32m/usr/lib/python2.7/dist-packages/modshogun.pyc\u001b[0m in \u001b[0;36m__init__\u001b[1;34m(self, *args)\u001b[0m\n\u001b[0;32m  40440\u001b[0m         \u001b[0msize\u001b[0m\u001b[1;33m:\u001b[0m  \u001b[0mcache\u001b[0m \u001b[0msize\u001b[0m\u001b[1;33m\u001b[0m\u001b[0m\n\u001b[0;32m  40441\u001b[0m         \"\"\"\n\u001b[1;32m> 40442\u001b[1;33m         \u001b[0mthis\u001b[0m \u001b[1;33m=\u001b[0m \u001b[0m_modshogun\u001b[0m\u001b[1;33m.\u001b[0m\u001b[0mnew_WeightedCommWordStringKernel\u001b[0m\u001b[1;33m(\u001b[0m\u001b[1;33m*\u001b[0m\u001b[0margs\u001b[0m\u001b[1;33m)\u001b[0m\u001b[1;33m\u001b[0m\u001b[0m\n\u001b[0m\u001b[0;32m  40443\u001b[0m         \u001b[1;32mtry\u001b[0m\u001b[1;33m:\u001b[0m \u001b[0mself\u001b[0m\u001b[1;33m.\u001b[0m\u001b[0mthis\u001b[0m\u001b[1;33m.\u001b[0m\u001b[0mappend\u001b[0m\u001b[1;33m(\u001b[0m\u001b[0mthis\u001b[0m\u001b[1;33m)\u001b[0m\u001b[1;33m\u001b[0m\u001b[0m\n\u001b[0;32m  40444\u001b[0m         \u001b[1;32mexcept\u001b[0m\u001b[1;33m:\u001b[0m \u001b[0mself\u001b[0m\u001b[1;33m.\u001b[0m\u001b[0mthis\u001b[0m \u001b[1;33m=\u001b[0m \u001b[0mthis\u001b[0m\u001b[1;33m\u001b[0m\u001b[0m\n",
        "\u001b[1;31mNotImplementedError\u001b[0m: Wrong number or type of arguments for overloaded function 'new_WeightedCommWordStringKernel'.\n  Possible C/C++ prototypes are:\n    shogun::CWeightedCommWordStringKernel::CWeightedCommWordStringKernel()\n    shogun::CWeightedCommWordStringKernel::CWeightedCommWordStringKernel(int32_t,bool)\n    shogun::CWeightedCommWordStringKernel::CWeightedCommWordStringKernel(shogun::CStringFeatures< uint16_t > *,shogun::CStringFeatures< uint16_t > *,bool,int32_t)\n    shogun::CWeightedCommWordStringKernel::CWeightedCommWordStringKernel(shogun::CStringFeatures< uint16_t > *,shogun::CStringFeatures< uint16_t > *,bool)\n    shogun::CWeightedCommWordStringKernel::CWeightedCommWordStringKernel(shogun::CStringFeatures< uint16_t > *,shogun::CStringFeatures< uint16_t > *)\n"
       ]
      }
     ],
     "prompt_number": 16
    },
    {
     "cell_type": "code",
     "collapsed": false,
     "input": [
      "WeightedCommWordStringKernel?"
     ],
     "language": "python",
     "metadata": {},
     "outputs": [],
     "prompt_number": 13
    }
   ],
   "metadata": {}
  }
 ]
}