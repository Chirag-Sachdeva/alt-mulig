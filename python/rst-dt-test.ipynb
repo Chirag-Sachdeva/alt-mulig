{
 "metadata": {
  "name": "",
  "signature": "sha256:0de260c6607a905828679968cd42b225c355fe75276e71ff8cced512f2637edc"
 },
 "nbformat": 3,
 "nbformat_minor": 0,
 "worksheets": [
  {
   "cells": [
    {
     "cell_type": "heading",
     "level": 1,
     "metadata": {},
     "source": [
      "RST Discourse Treebank experiments"
     ]
    },
    {
     "cell_type": "code",
     "collapsed": false,
     "input": [
      "import os\n",
      "import sys\n",
      "import glob\n",
      "import discoursegraphs as dg\n",
      "\n",
      "RST_ROOT_DIR = os.path.expanduser('~/corpora/rst_discourse_treebank_rs3')\n",
      "\n",
      "RST_TEST_DIR = os.path.join(RST_ROOT_DIR, 'TEST')\n",
      "RST_TRAINING_DIR = os.path.join(RST_ROOT_DIR, 'TRAINNING')\n",
      "\n",
      "RST_TEST_FILE = os.path.join(RST_TRAINING_DIR, 'wsj_1337.rs3')"
     ],
     "language": "python",
     "metadata": {},
     "outputs": [],
     "prompt_number": 1
    },
    {
     "cell_type": "code",
     "collapsed": false,
     "input": [
      "rdg = dg.read_rs3(RST_TEST_FILE)\n",
      "#dg.get_text(rdg)"
     ],
     "language": "python",
     "metadata": {},
     "outputs": [],
     "prompt_number": 42
    },
    {
     "cell_type": "code",
     "collapsed": false,
     "input": [
      "# for folder in (RST_TEST_DIR, RST_TRAINING_DIR):\n",
      "#     for rst_file in glob.glob(os.path.join(folder, '*.rs3')):\n",
      "#         try:\n",
      "#             dg.read_rs3(rst_file)\n",
      "#         except KeyError as e:\n",
      "#             sys.stderr.write(\"failed: {}\\n\".format(rst_file))"
     ],
     "language": "python",
     "metadata": {},
     "outputs": [],
     "prompt_number": 3
    },
    {
     "cell_type": "heading",
     "level": 1,
     "metadata": {},
     "source": [
      "Find & Parse corresponding PTB/WSJ files"
     ]
    },
    {
     "cell_type": "code",
     "collapsed": false,
     "input": [
      "wsj_doc_ids = [os.path.basename(rst_file).lower().split('_')[1].split('.')[0]\n",
      "               for folder in (RST_TEST_DIR, RST_TRAINING_DIR)\n",
      "               for rst_file in glob.glob(os.path.join(folder, '*.rs3'))\n",
      "               if os.path.basename(rst_file).lower().startswith('wsj')]"
     ],
     "language": "python",
     "metadata": {},
     "outputs": [],
     "prompt_number": 4
    },
    {
     "cell_type": "code",
     "collapsed": false,
     "input": [
      "PTB_WSJ_ROOT_DIR = os.path.expanduser('~/corpora/pennTreebank/parsed/mrg/wsj')\n",
      "\n",
      "PTB_WSJ_TEST_FILE = os.path.join(PTB_WSJ_ROOT_DIR, '13/wsj_1337.mrg')"
     ],
     "language": "python",
     "metadata": {},
     "outputs": [],
     "prompt_number": 5
    },
    {
     "cell_type": "code",
     "collapsed": false,
     "input": [
      "import nltk\n",
      "\n",
      "ptb_path, ptb_filename = os.path.split(PTB_WSJ_TEST_FILE)\n",
      "document = nltk.corpus.BracketParseCorpusReader(ptb_path, [ptb_filename])\n",
      "parsed_sents_iter = document.parsed_sents()"
     ],
     "language": "python",
     "metadata": {},
     "outputs": [],
     "prompt_number": 6
    },
    {
     "cell_type": "code",
     "collapsed": false,
     "input": [
      "sent0 = parsed_sents_iter[0]"
     ],
     "language": "python",
     "metadata": {},
     "outputs": [],
     "prompt_number": 7
    },
    {
     "cell_type": "code",
     "collapsed": false,
     "input": [
      "for elem in sent0:\n",
      "    print type(elem), elem.label()"
     ],
     "language": "python",
     "metadata": {},
     "outputs": [
      {
       "output_type": "stream",
       "stream": "stdout",
       "text": [
        "<class 'nltk.tree.Tree'> NP-SBJ\n",
        "<class 'nltk.tree.Tree'> VP\n",
        "<class 'nltk.tree.Tree'> .\n"
       ]
      }
     ],
     "prompt_number": 8
    },
    {
     "cell_type": "code",
     "collapsed": false,
     "input": [
      "nltk.__version__"
     ],
     "language": "python",
     "metadata": {},
     "outputs": [
      {
       "metadata": {},
       "output_type": "pyout",
       "prompt_number": 9,
       "text": [
        "'3.0.1'"
       ]
      }
     ],
     "prompt_number": 9
    },
    {
     "cell_type": "code",
     "collapsed": false,
     "input": [
      "# %load_ext gvmagic\n",
      "# %dotstr dg.print_dot(ptbg)"
     ],
     "language": "python",
     "metadata": {},
     "outputs": [],
     "prompt_number": 10
    },
    {
     "cell_type": "code",
     "collapsed": false,
     "input": [
      "ptbg = dg.read_ptb(PTB_WSJ_TEST_FILE)"
     ],
     "language": "python",
     "metadata": {},
     "outputs": [],
     "prompt_number": 11
    },
    {
     "cell_type": "code",
     "collapsed": false,
     "input": [
      "dg.get_text(ptbg)"
     ],
     "language": "python",
     "metadata": {},
     "outputs": [
      {
       "metadata": {},
       "output_type": "pyout",
       "prompt_number": 12,
       "text": [
        "\"Tokyo stocks closed firmer Monday , with the Nikkei index making its fifth consecutive daily gain . Stocks also rose in London , while the Frankfurt market was mixed . In Tokyo , the Nikkei index added 99.14 to 35585.52 . The index moved above 35670 at midmorning , *-1 nearly reaching the record of 35689.98 set * Sept. 28 . But the market lost part of the early gains on index-linked investment trust fund selling . In early trading in Tokyo Tuesday , the Nikkei index rose 1.08 points to 35586.60 . On Monday , traders noted that some investors took profits against the backdrop of the Nikkei 's fast-paced recovery following its plunge last Monday in reaction to the Oct. 13 drop in New York stock prices . But overall buying interest remained strong through Monday , with many observers saying 0 they expect the Nikkei to continue with moderate gains this week . Turnover remained relatively small . Volume on the first section was estimated *-1 at 600 million shares , down from 1.03 billion shares Friday . The Tokyo stock price index of first section issues was up 7.81 at 2687.53 . Relatively stable foreign currency dealings Monday were viewed *-1 favorably by market players , traders said 0 *T*-2 . But institutional investors may wait a little longer *-1 to appraise the direction of the U.S. monetary policy and the dollar , traders said 0 *T*-2 . Hiroyuki Wada , general manager of the stock department at Okasan Securities , said 0 Monday 's trading was `` unfocused . '' He said 0 investors were picking individual stocks based on specific incentives and the likelihood of a wider price increase over the short term . The selective approach blurred themes such as domestic-demand issues , large-capitalization issues or high-technology shares , which *T*-1 had been providing at least some trading direction over the past few weeks , Mr. Wada said 0 *T*-2 . Investors took profits on major construction shares , which *T*-1 advanced last week , *-2 shifting their attention to some midsize companies such as Aoki Corp. , Tobishima and Maeda . Aoki gained 60 yen to 1,480 yen -LRB- $ 10.40 *U* -RRB- . Some pharmaceutical shares were popular on rumors related * to new products 0 *T*-3 to be introduced *-1 at a cancer conference that *T*-2 opened in Nagoya . Teijin was up 15 at 936 , and Kyowa Hakko gained 30 to 1,770 . Mochida advanced 40 to 4,440 . Fujisawa continued *-1 to attract investors because of strong earning prospects stemming from a new immune control agent . Fujisawa gained 50 to 2,060 . Kikkoman was up 30 to 1,600 , *-1 receiving investor interest for its land property holdings near Tokyo , a trader said 0 *T*-2 . London prices closed modestly higher in the year 's thinnest turnover , a condition that *T*-1 underscored a lack of conviction ahead of a U.K. balance of payments report Tuesday . Limited volume ahead of the September trade data showed 0 the market is nervous , but dealers added that the day 's modest gains also signaled some support for London equities . They pegged the support largely to anticipation that Britain 's current account imbalance ca n't be much worse than the near record deficits seen * in July and August . `` It 's a case of the market being too high 0 *T*-2 to buy and too afraid 0 *T*-3 to sell , '' a senior dealer with Kleinwort Benson Securities said *T*-1 . `` It *EXP*-1 's better * to wait . '' The Financial Times 100-share index finished 10.6 points higher at 2189.7 . The 30-share index closed 11.6 points higher at 1772.6 . Volume was 276.8 million shares , beneath the year 's previous low of 280.5 million shares Sept. 25 , the session before the August trade figures were released *-1 . Analysts ' expectations suggest a September current account deficit of # 1.6 billion *U* -LRB- $ 2.54 billion *U* -RRB- , compared with August 's # 2.0 billion *U* deficit . Dealers , however , said 0 forecasts are broadly divergent with estimates ranging between # 1 billion *U* and # 2 billion *U* . `` The range of expectations is so broad , '' a dealer at another major U.K. brokerage firm said *T*-1 , `` 0 the deficit may have *-2 to be nearer or above # 2 billion *U* for it to have any impact on the market . '' Lucas Industries , a British automotive and aerospace concern , rose 13 pence to 614 pence after it said 0 its pretax profit for the year rose 28 % . Share prices on the Frankfurt stock exchange closed narrowly mixed in quiet dealings after *-1 recovering most of their early losses . The DAX index eased 0.99 point *-1 to end at 1523.22 after *-1 falling 5.5 points early in the session . Brokers said 0 the declines early in the day were partly caused *-1 by losses of the ruling Christian-Democratic Union in communal elections in the state of Baden-Wuerttemberg . The start of a weeklong conference by the IG Metall metal worker union in Berlin is drawing attention to the impending wage negotiations , which *T*-1 could boost companies ' personnel costs next year , they said 0 *T*-2 . But there was little selling pressure , and even small orders at the lower levels sufficed *-1 to bring the market back to Friday 's opening levels . Traders said 0 the thin trading volume points to continued uncertainty by most investors following last Monday 's record 13 % loss . The market is still 4 % short of its level before the plunge , and analysts are n't sure how long it will take *T*-1 until the DAX has closed that gap . But Norbert Braeuer , chief trader at Hessische Landesbank Girozentrale -LRB- Helaba -RRB- , said 0 he expects share prices to move upward in the coming weeks . Banking stocks were the major gainers Monday amid hope that interest rates have peaked , as Deutsche Bank and Dresdner Bank added 4 marks each to 664 marks -LRB- $ 357 *U* -RRB- and 326 marks , respectively . Commerzbank gained 1 to 252.5 . Auto shares were mixed , as Daimler-Benz firmed 2 to 723 , Bayerische Motoren Werke lost the same amount to 554 , and Volkswagen inched down 1.4 to 451.6 . Elsewhere , prices closed higher in Amsterdam , lower in Zurich , Stockholm and Milan , mixed in Brussels and unchanged in Paris . Shares closed higher in Hong Kong , Singapore and Manila , and were lower in Sydney , Seoul and Taipei . Wellington was closed . Here are *T*-1 price trends on the world 's major stock markets , as *-2 calculated *-3 by Morgan Stanley Capital International Perspective , Geneva . * To make them directly comparable , each index is based *-1 on the close of 1969 equaling 100 . The percentage change is since year-end .\""
       ]
      }
     ],
     "prompt_number": 12
    },
    {
     "cell_type": "code",
     "collapsed": false,
     "input": [
      "shortg = dg.read_ptb(PTB_WSJ_TEST_FILE, limit=1)"
     ],
     "language": "python",
     "metadata": {},
     "outputs": [],
     "prompt_number": 13
    },
    {
     "cell_type": "code",
     "collapsed": false,
     "input": [
      "shortg.remove_node('discoursegraph:root_node')"
     ],
     "language": "python",
     "metadata": {},
     "outputs": [],
     "prompt_number": 14
    },
    {
     "cell_type": "code",
     "collapsed": false,
     "input": [
      "dg.write_dot(shortg, '/tmp/shortg.dot')"
     ],
     "language": "python",
     "metadata": {},
     "outputs": [],
     "prompt_number": 15
    },
    {
     "cell_type": "code",
     "collapsed": false,
     "input": [
      "import networkx as nx\n",
      "import matplotlib.pyplot as plt\n",
      "\n",
      "%pylab inline\n",
      "\n",
      "G = shortg\n",
      "\n",
      "plt.title(\"draw_networkx\")\n",
      "pos=nx.graphviz_layout(G,prog='dot')\n",
      "nx.draw(G,pos,with_labels=True,arrows=True)\n",
      "plt.show()\n",
      "plt.savefig('nx_test.png')"
     ],
     "language": "python",
     "metadata": {},
     "outputs": [
      {
       "output_type": "stream",
       "stream": "stdout",
       "text": [
        "Populating the interactive namespace from numpy and matplotlib\n"
       ]
      },
      {
       "metadata": {},
       "output_type": "display_data",
       "png": "[encoded data removed]",
       "text": [
        "<matplotlib.figure.Figure at 0x4aa21d0>"
       ]
      },
      {
       "metadata": {},
       "output_type": "display_data",
       "text": [
        "<matplotlib.figure.Figure at 0x4c051d0>"
       ]
      }
     ],
     "prompt_number": 16
    },
    {
     "cell_type": "code",
     "collapsed": false,
     "input": [
      "for n, ndict in shortg.nodes(data=True):\n",
      "    print n,\n",
      "\n",
      "print '\\n\\n'\n",
      "\n",
      "for s,t, edict in shortg.edges(data=True):\n",
      "    print \"({}, {})\".format(s,t),\n"
     ],
     "language": "python",
     "metadata": {},
     "outputs": [
      {
       "output_type": "stream",
       "stream": "stdout",
       "text": [
        "0 1 2 3 4 5 6 7 8 9 10 11 12 13 14 15 16 17 18 19 20 21 22 23 24 25 26 27 28 29 30 31 32 33 34 35 36 37 38 39 40 41 42 43 44 45 \n",
        "\n",
        "\n",
        "(0, 1) (1, 2) (1, 44) (1, 7) (2, 3) (2, 5) (3, 4) (5, 6) (7, 8) (7, 16) (7, 10) (7, 18) (7, 13) (8, 9) (10, 11) (11, 12) (13, 14) (14, 15) (16, 17) (18, 19) (18, 21) (19, 20) (21, 29) (21, 22) (22, 25) (22, 27) (22, 23) (23, 24) (25, 26) (27, 28) (29, 32) (29, 30) (30, 31) (32, 40) (32, 33) (32, 42) (32, 35) (33, 34) (35, 36) (35, 38) (36, 37) (38, 39) (40, 41) (42, 43) (44, 45)\n"
       ]
      }
     ],
     "prompt_number": 17
    },
    {
     "cell_type": "code",
     "collapsed": false,
     "input": [
      "for e in nx.bfs_edges(shortg, 0):\n",
      "    print e,"
     ],
     "language": "python",
     "metadata": {},
     "outputs": [
      {
       "output_type": "stream",
       "stream": "stdout",
       "text": [
        "(0, 1) (1, 2) (1, 44) (1, 7) (2, 3) (2, 5) (44, 45) (7, 8) (7, 16) (7, 10) (7, 18) (7, 13) (3, 4) (5, 6) (8, 9) (16, 17) (10, 11) (18, 19) (18, 21) (13, 14) (11, 12) (19, 20) (21, 29) (21, 22) (14, 15) (29, 32) (29, 30) (22, 25) (22, 27) (22, 23) (32, 40) (32, 33) (32, 42) (32, 35) (30, 31) (25, 26) (27, 28) (23, 24) (40, 41) (33, 34) (42, 43) (35, 36) (35, 38) (36, 37) (38, 39)\n"
       ]
      }
     ],
     "prompt_number": 18
    },
    {
     "cell_type": "code",
     "collapsed": false,
     "input": [
      "# dg.get_text(ptbg, ptbg.sentences[1]) # TODO: TypeError: expected string or buffer"
     ],
     "language": "python",
     "metadata": {},
     "outputs": [],
     "prompt_number": 19
    },
    {
     "cell_type": "code",
     "collapsed": false,
     "input": [
      "%load_ext gvmagic\n",
      "%dotstr dg.print_dot(shortg, ignore_node_labels=True)\n",
      "# %dotstr dg.print_dot(ptbg)\n"
     ],
     "language": "python",
     "metadata": {},
     "outputs": [
      {
       "metadata": {},
       "output_type": "display_data",
       "svg": [
        "<?xml version=\"1.0\" encoding=\"UTF-8\" standalone=\"no\"?>\n",
        "<!DOCTYPE svg PUBLIC \"-//W3C//DTD SVG 1.1//EN\"\n",
        " \"http://www.w3.org/Graphics/SVG/1.1/DTD/svg11.dtd\">\n",
        "<!-- Generated by graphviz version 2.26.3 (20100126.1600)\n",
        " -->\n",
        "<!-- Title: wsj_1337.mrg Pages: 1 -->\n",
        "<svg width=\"638pt\" height=\"712pt\"\n",
        " viewBox=\"0.00 0.00 638.00 712.00\" xmlns=\"http://www.w3.org/2000/svg\" xmlns:xlink=\"http://www.w3.org/1999/xlink\">\n",
        "<g id=\"graph1\" class=\"graph\" transform=\"scale(1 1) rotate(0) translate(4 708)\">\n",
        "<title>wsj_1337.mrg</title>\n",
        "<polygon fill=\"white\" stroke=\"white\" points=\"-4,5 -4,-708 635,-708 635,5 -4,5\"/>\n",
        "<!-- 0 -->\n",
        "<g id=\"node1\" class=\"node\"><title>0</title>\n",
        "<ellipse fill=\"none\" stroke=\"black\" cx=\"243\" cy=\"-685\" rx=\"27\" ry=\"18.3848\"/>\n",
        "<text text-anchor=\"middle\" x=\"243\" y=\"-681.4\" font-family=\"Times Roman,serif\" font-size=\"14.00\">0</text>\n",
        "</g>\n",
        "<!-- 1 -->\n",
        "<g id=\"node2\" class=\"node\"><title>1</title>\n",
        "<ellipse fill=\"none\" stroke=\"black\" cx=\"243\" cy=\"-611\" rx=\"27\" ry=\"18.3848\"/>\n",
        "<text text-anchor=\"middle\" x=\"243\" y=\"-607.4\" font-family=\"Times Roman,serif\" font-size=\"14.00\">1</text>\n",
        "</g>\n",
        "<!-- 0&#45;&gt;1 -->\n",
        "<g id=\"edge2\" class=\"edge\"><title>0&#45;&gt;1</title>\n",
        "<path fill=\"none\" stroke=\"black\" d=\"M243,-666.327C243,-658.264 243,-648.648 243,-639.711\"/>\n",
        "<polygon fill=\"black\" stroke=\"black\" points=\"246.5,-639.667 243,-629.667 239.5,-639.667 246.5,-639.667\"/>\n",
        "</g>\n",
        "<!-- 44 -->\n",
        "<g id=\"node4\" class=\"node\"><title>44</title>\n",
        "<ellipse fill=\"none\" stroke=\"black\" cx=\"99\" cy=\"-537\" rx=\"27\" ry=\"18.3848\"/>\n",
        "<text text-anchor=\"middle\" x=\"99\" y=\"-533.4\" font-family=\"Times Roman,serif\" font-size=\"14.00\">44</text>\n",
        "</g>\n",
        "<!-- 1&#45;&gt;44 -->\n",
        "<g id=\"edge4\" class=\"edge\"><title>1&#45;&gt;44</title>\n",
        "<path fill=\"none\" stroke=\"black\" d=\"M221.129,-599.761C196.778,-587.247 157.238,-566.928 129.772,-552.813\"/>\n",
        "<polygon fill=\"black\" stroke=\"black\" points=\"131.099,-549.56 120.604,-548.102 127.899,-555.786 131.099,-549.56\"/>\n",
        "</g>\n",
        "<!-- 7 -->\n",
        "<g id=\"node6\" class=\"node\"><title>7</title>\n",
        "<ellipse fill=\"none\" stroke=\"black\" cx=\"243\" cy=\"-537\" rx=\"27\" ry=\"18.3848\"/>\n",
        "<text text-anchor=\"middle\" x=\"243\" y=\"-533.4\" font-family=\"Times Roman,serif\" font-size=\"14.00\">7</text>\n",
        "</g>\n",
        "<!-- 1&#45;&gt;7 -->\n",
        "<g id=\"edge6\" class=\"edge\"><title>1&#45;&gt;7</title>\n",
        "<path fill=\"none\" stroke=\"black\" d=\"M243,-592.327C243,-584.264 243,-574.648 243,-565.711\"/>\n",
        "<polygon fill=\"black\" stroke=\"black\" points=\"246.5,-565.667 243,-555.667 239.5,-565.667 246.5,-565.667\"/>\n",
        "</g>\n",
        "<!-- 2 -->\n",
        "<g id=\"node8\" class=\"node\"><title>2</title>\n",
        "<ellipse fill=\"none\" stroke=\"black\" cx=\"531\" cy=\"-537\" rx=\"27\" ry=\"18.3848\"/>\n",
        "<text text-anchor=\"middle\" x=\"531\" y=\"-533.4\" font-family=\"Times Roman,serif\" font-size=\"14.00\">2</text>\n",
        "</g>\n",
        "<!-- 1&#45;&gt;2 -->\n",
        "<g id=\"edge8\" class=\"edge\"><title>1&#45;&gt;2</title>\n",
        "<path fill=\"none\" stroke=\"black\" d=\"M268.306,-604.498C319.712,-591.289 436.468,-561.289 495.467,-546.13\"/>\n",
        "<polygon fill=\"black\" stroke=\"black\" points=\"496.628,-549.445 505.442,-543.567 494.886,-542.666 496.628,-549.445\"/>\n",
        "</g>\n",
        "<!-- 45 -->\n",
        "<g id=\"node90\" class=\"node\"><title>45</title>\n",
        "<ellipse fill=\"none\" stroke=\"black\" cx=\"27\" cy=\"-463\" rx=\"27\" ry=\"18.3848\"/>\n",
        "<text text-anchor=\"middle\" x=\"27\" y=\"-459.4\" font-family=\"Times Roman,serif\" font-size=\"14.00\">45</text>\n",
        "</g>\n",
        "<!-- 44&#45;&gt;45 -->\n",
        "<g id=\"edge90\" class=\"edge\"><title>44&#45;&gt;45</title>\n",
        "<path fill=\"none\" stroke=\"black\" d=\"M83.7307,-521.307C73.6398,-510.935 60.2526,-497.176 49.0169,-485.628\"/>\n",
        "<polygon fill=\"black\" stroke=\"black\" points=\"51.4826,-483.144 42.0004,-478.417 46.4655,-488.025 51.4826,-483.144\"/>\n",
        "</g>\n",
        "<!-- 10 -->\n",
        "<g id=\"node18\" class=\"node\"><title>10</title>\n",
        "<ellipse fill=\"none\" stroke=\"black\" cx=\"99\" cy=\"-463\" rx=\"27\" ry=\"18.3848\"/>\n",
        "<text text-anchor=\"middle\" x=\"99\" y=\"-459.4\" font-family=\"Times Roman,serif\" font-size=\"14.00\">10</text>\n",
        "</g>\n",
        "<!-- 7&#45;&gt;10 -->\n",
        "<g id=\"edge18\" class=\"edge\"><title>7&#45;&gt;10</title>\n",
        "<path fill=\"none\" stroke=\"black\" d=\"M221.026,-525.928C199.17,-514.887 164.701,-497.399 135,-482 133.259,-481.097 131.472,-480.167 129.671,-479.226\"/>\n",
        "<polygon fill=\"black\" stroke=\"black\" points=\"131.156,-476.053 120.675,-474.505 127.903,-482.251 131.156,-476.053\"/>\n",
        "</g>\n",
        "<!-- 16 -->\n",
        "<g id=\"node20\" class=\"node\"><title>16</title>\n",
        "<ellipse fill=\"none\" stroke=\"black\" cx=\"171\" cy=\"-463\" rx=\"27\" ry=\"18.3848\"/>\n",
        "<text text-anchor=\"middle\" x=\"171\" y=\"-459.4\" font-family=\"Times Roman,serif\" font-size=\"14.00\">16</text>\n",
        "</g>\n",
        "<!-- 7&#45;&gt;16 -->\n",
        "<g id=\"edge20\" class=\"edge\"><title>7&#45;&gt;16</title>\n",
        "<path fill=\"none\" stroke=\"black\" d=\"M227.731,-521.307C217.64,-510.935 204.253,-497.176 193.017,-485.628\"/>\n",
        "<polygon fill=\"black\" stroke=\"black\" points=\"195.483,-483.144 186,-478.417 190.465,-488.025 195.483,-483.144\"/>\n",
        "</g>\n",
        "<!-- 8 -->\n",
        "<g id=\"node22\" class=\"node\"><title>8</title>\n",
        "<ellipse fill=\"none\" stroke=\"black\" cx=\"243\" cy=\"-463\" rx=\"27\" ry=\"18.3848\"/>\n",
        "<text text-anchor=\"middle\" x=\"243\" y=\"-459.4\" font-family=\"Times Roman,serif\" font-size=\"14.00\">8</text>\n",
        "</g>\n",
        "<!-- 7&#45;&gt;8 -->\n",
        "<g id=\"edge22\" class=\"edge\"><title>7&#45;&gt;8</title>\n",
        "<path fill=\"none\" stroke=\"black\" d=\"M243,-518.327C243,-510.264 243,-500.648 243,-491.711\"/>\n",
        "<polygon fill=\"black\" stroke=\"black\" points=\"246.5,-491.667 243,-481.667 239.5,-491.667 246.5,-491.667\"/>\n",
        "</g>\n",
        "<!-- 18 -->\n",
        "<g id=\"node24\" class=\"node\"><title>18</title>\n",
        "<ellipse fill=\"none\" stroke=\"black\" cx=\"315\" cy=\"-463\" rx=\"27\" ry=\"18.3848\"/>\n",
        "<text text-anchor=\"middle\" x=\"315\" y=\"-459.4\" font-family=\"Times Roman,serif\" font-size=\"14.00\">18</text>\n",
        "</g>\n",
        "<!-- 7&#45;&gt;18 -->\n",
        "<g id=\"edge24\" class=\"edge\"><title>7&#45;&gt;18</title>\n",
        "<path fill=\"none\" stroke=\"black\" d=\"M258.269,-521.307C268.36,-510.935 281.747,-497.176 292.983,-485.628\"/>\n",
        "<polygon fill=\"black\" stroke=\"black\" points=\"295.535,-488.025 300,-478.417 290.517,-483.144 295.535,-488.025\"/>\n",
        "</g>\n",
        "<!-- 13 -->\n",
        "<g id=\"node26\" class=\"node\"><title>13</title>\n",
        "<ellipse fill=\"none\" stroke=\"black\" cx=\"423\" cy=\"-463\" rx=\"27\" ry=\"18.3848\"/>\n",
        "<text text-anchor=\"middle\" x=\"423\" y=\"-459.4\" font-family=\"Times Roman,serif\" font-size=\"14.00\">13</text>\n",
        "</g>\n",
        "<!-- 7&#45;&gt;13 -->\n",
        "<g id=\"edge26\" class=\"edge\"><title>7&#45;&gt;13</title>\n",
        "<path fill=\"none\" stroke=\"black\" d=\"M266.163,-527.477C297.669,-514.525 354.207,-491.281 390.102,-476.525\"/>\n",
        "<polygon fill=\"black\" stroke=\"black\" points=\"391.722,-479.643 399.64,-472.603 389.061,-473.169 391.722,-479.643\"/>\n",
        "</g>\n",
        "<!-- 3 -->\n",
        "<g id=\"node10\" class=\"node\"><title>3</title>\n",
        "<ellipse fill=\"none\" stroke=\"black\" cx=\"531\" cy=\"-463\" rx=\"27\" ry=\"18.3848\"/>\n",
        "<text text-anchor=\"middle\" x=\"531\" y=\"-459.4\" font-family=\"Times Roman,serif\" font-size=\"14.00\">3</text>\n",
        "</g>\n",
        "<!-- 2&#45;&gt;3 -->\n",
        "<g id=\"edge10\" class=\"edge\"><title>2&#45;&gt;3</title>\n",
        "<path fill=\"none\" stroke=\"black\" d=\"M531,-518.327C531,-510.264 531,-500.648 531,-491.711\"/>\n",
        "<polygon fill=\"black\" stroke=\"black\" points=\"534.5,-491.667 531,-481.667 527.5,-491.667 534.5,-491.667\"/>\n",
        "</g>\n",
        "<!-- 5 -->\n",
        "<g id=\"node12\" class=\"node\"><title>5</title>\n",
        "<ellipse fill=\"none\" stroke=\"black\" cx=\"603\" cy=\"-463\" rx=\"27\" ry=\"18.3848\"/>\n",
        "<text text-anchor=\"middle\" x=\"603\" y=\"-459.4\" font-family=\"Times Roman,serif\" font-size=\"14.00\">5</text>\n",
        "</g>\n",
        "<!-- 2&#45;&gt;5 -->\n",
        "<g id=\"edge12\" class=\"edge\"><title>2&#45;&gt;5</title>\n",
        "<path fill=\"none\" stroke=\"black\" d=\"M546.269,-521.307C556.36,-510.935 569.747,-497.176 580.983,-485.628\"/>\n",
        "<polygon fill=\"black\" stroke=\"black\" points=\"583.535,-488.025 588,-478.417 578.517,-483.144 583.535,-488.025\"/>\n",
        "</g>\n",
        "<!-- 4 -->\n",
        "<g id=\"node14\" class=\"node\"><title>4</title>\n",
        "<ellipse fill=\"none\" stroke=\"black\" cx=\"531\" cy=\"-389\" rx=\"27\" ry=\"18.3848\"/>\n",
        "<text text-anchor=\"middle\" x=\"531\" y=\"-385.4\" font-family=\"Times Roman,serif\" font-size=\"14.00\">4</text>\n",
        "</g>\n",
        "<!-- 3&#45;&gt;4 -->\n",
        "<g id=\"edge14\" class=\"edge\"><title>3&#45;&gt;4</title>\n",
        "<path fill=\"none\" stroke=\"black\" d=\"M531,-444.327C531,-436.264 531,-426.648 531,-417.711\"/>\n",
        "<polygon fill=\"black\" stroke=\"black\" points=\"534.5,-417.667 531,-407.667 527.5,-417.667 534.5,-417.667\"/>\n",
        "</g>\n",
        "<!-- 6 -->\n",
        "<g id=\"node16\" class=\"node\"><title>6</title>\n",
        "<ellipse fill=\"none\" stroke=\"black\" cx=\"603\" cy=\"-389\" rx=\"27\" ry=\"18.3848\"/>\n",
        "<text text-anchor=\"middle\" x=\"603\" y=\"-385.4\" font-family=\"Times Roman,serif\" font-size=\"14.00\">6</text>\n",
        "</g>\n",
        "<!-- 5&#45;&gt;6 -->\n",
        "<g id=\"edge16\" class=\"edge\"><title>5&#45;&gt;6</title>\n",
        "<path fill=\"none\" stroke=\"black\" d=\"M603,-444.327C603,-436.264 603,-426.648 603,-417.711\"/>\n",
        "<polygon fill=\"black\" stroke=\"black\" points=\"606.5,-417.667 603,-407.667 599.5,-417.667 606.5,-417.667\"/>\n",
        "</g>\n",
        "<!-- 11 -->\n",
        "<g id=\"node30\" class=\"node\"><title>11</title>\n",
        "<ellipse fill=\"none\" stroke=\"black\" cx=\"99\" cy=\"-389\" rx=\"27\" ry=\"18.3848\"/>\n",
        "<text text-anchor=\"middle\" x=\"99\" y=\"-385.4\" font-family=\"Times Roman,serif\" font-size=\"14.00\">11</text>\n",
        "</g>\n",
        "<!-- 10&#45;&gt;11 -->\n",
        "<g id=\"edge30\" class=\"edge\"><title>10&#45;&gt;11</title>\n",
        "<path fill=\"none\" stroke=\"black\" d=\"M99,-444.327C99,-436.264 99,-426.648 99,-417.711\"/>\n",
        "<polygon fill=\"black\" stroke=\"black\" points=\"102.5,-417.667 99,-407.667 95.5001,-417.667 102.5,-417.667\"/>\n",
        "</g>\n",
        "<!-- 17 -->\n",
        "<g id=\"node38\" class=\"node\"><title>17</title>\n",
        "<ellipse fill=\"none\" stroke=\"black\" cx=\"171\" cy=\"-389\" rx=\"27\" ry=\"18.3848\"/>\n",
        "<text text-anchor=\"middle\" x=\"171\" y=\"-385.4\" font-family=\"Times Roman,serif\" font-size=\"14.00\">17</text>\n",
        "</g>\n",
        "<!-- 16&#45;&gt;17 -->\n",
        "<g id=\"edge38\" class=\"edge\"><title>16&#45;&gt;17</title>\n",
        "<path fill=\"none\" stroke=\"black\" d=\"M171,-444.327C171,-436.264 171,-426.648 171,-417.711\"/>\n",
        "<polygon fill=\"black\" stroke=\"black\" points=\"174.5,-417.667 171,-407.667 167.5,-417.667 174.5,-417.667\"/>\n",
        "</g>\n",
        "<!-- 9 -->\n",
        "<g id=\"node28\" class=\"node\"><title>9</title>\n",
        "<ellipse fill=\"none\" stroke=\"black\" cx=\"243\" cy=\"-389\" rx=\"27\" ry=\"18.3848\"/>\n",
        "<text text-anchor=\"middle\" x=\"243\" y=\"-385.4\" font-family=\"Times Roman,serif\" font-size=\"14.00\">9</text>\n",
        "</g>\n",
        "<!-- 8&#45;&gt;9 -->\n",
        "<g id=\"edge28\" class=\"edge\"><title>8&#45;&gt;9</title>\n",
        "<path fill=\"none\" stroke=\"black\" d=\"M243,-444.327C243,-436.264 243,-426.648 243,-417.711\"/>\n",
        "<polygon fill=\"black\" stroke=\"black\" points=\"246.5,-417.667 243,-407.667 239.5,-417.667 246.5,-417.667\"/>\n",
        "</g>\n",
        "<!-- 19 -->\n",
        "<g id=\"node40\" class=\"node\"><title>19</title>\n",
        "<ellipse fill=\"none\" stroke=\"black\" cx=\"315\" cy=\"-389\" rx=\"27\" ry=\"18.3848\"/>\n",
        "<text text-anchor=\"middle\" x=\"315\" y=\"-385.4\" font-family=\"Times Roman,serif\" font-size=\"14.00\">19</text>\n",
        "</g>\n",
        "<!-- 18&#45;&gt;19 -->\n",
        "<g id=\"edge40\" class=\"edge\"><title>18&#45;&gt;19</title>\n",
        "<path fill=\"none\" stroke=\"black\" d=\"M315,-444.327C315,-436.264 315,-426.648 315,-417.711\"/>\n",
        "<polygon fill=\"black\" stroke=\"black\" points=\"318.5,-417.667 315,-407.667 311.5,-417.667 318.5,-417.667\"/>\n",
        "</g>\n",
        "<!-- 21 -->\n",
        "<g id=\"node42\" class=\"node\"><title>21</title>\n",
        "<ellipse fill=\"none\" stroke=\"black\" cx=\"387\" cy=\"-389\" rx=\"27\" ry=\"18.3848\"/>\n",
        "<text text-anchor=\"middle\" x=\"387\" y=\"-385.4\" font-family=\"Times Roman,serif\" font-size=\"14.00\">21</text>\n",
        "</g>\n",
        "<!-- 18&#45;&gt;21 -->\n",
        "<g id=\"edge42\" class=\"edge\"><title>18&#45;&gt;21</title>\n",
        "<path fill=\"none\" stroke=\"black\" d=\"M330.269,-447.307C340.36,-436.935 353.747,-423.176 364.983,-411.628\"/>\n",
        "<polygon fill=\"black\" stroke=\"black\" points=\"367.535,-414.025 372,-404.417 362.517,-409.144 367.535,-414.025\"/>\n",
        "</g>\n",
        "<!-- 14 -->\n",
        "<g id=\"node34\" class=\"node\"><title>14</title>\n",
        "<ellipse fill=\"none\" stroke=\"black\" cx=\"459\" cy=\"-389\" rx=\"27\" ry=\"18.3848\"/>\n",
        "<text text-anchor=\"middle\" x=\"459\" y=\"-385.4\" font-family=\"Times Roman,serif\" font-size=\"14.00\">14</text>\n",
        "</g>\n",
        "<!-- 13&#45;&gt;14 -->\n",
        "<g id=\"edge34\" class=\"edge\"><title>13&#45;&gt;14</title>\n",
        "<path fill=\"none\" stroke=\"black\" d=\"M431.715,-445.087C435.96,-436.361 441.154,-425.684 445.866,-415.997\"/>\n",
        "<polygon fill=\"black\" stroke=\"black\" points=\"449.138,-417.272 450.366,-406.748 442.844,-414.21 449.138,-417.272\"/>\n",
        "</g>\n",
        "<!-- 12 -->\n",
        "<g id=\"node32\" class=\"node\"><title>12</title>\n",
        "<ellipse fill=\"none\" stroke=\"black\" cx=\"99\" cy=\"-315\" rx=\"27\" ry=\"18.3848\"/>\n",
        "<text text-anchor=\"middle\" x=\"99\" y=\"-311.4\" font-family=\"Times Roman,serif\" font-size=\"14.00\">12</text>\n",
        "</g>\n",
        "<!-- 11&#45;&gt;12 -->\n",
        "<g id=\"edge32\" class=\"edge\"><title>11&#45;&gt;12</title>\n",
        "<path fill=\"none\" stroke=\"black\" d=\"M99,-370.327C99,-362.264 99,-352.648 99,-343.711\"/>\n",
        "<polygon fill=\"black\" stroke=\"black\" points=\"102.5,-343.667 99,-333.667 95.5001,-343.667 102.5,-343.667\"/>\n",
        "</g>\n",
        "<!-- 15 -->\n",
        "<g id=\"node36\" class=\"node\"><title>15</title>\n",
        "<ellipse fill=\"none\" stroke=\"black\" cx=\"495\" cy=\"-315\" rx=\"27\" ry=\"18.3848\"/>\n",
        "<text text-anchor=\"middle\" x=\"495\" y=\"-311.4\" font-family=\"Times Roman,serif\" font-size=\"14.00\">15</text>\n",
        "</g>\n",
        "<!-- 14&#45;&gt;15 -->\n",
        "<g id=\"edge36\" class=\"edge\"><title>14&#45;&gt;15</title>\n",
        "<path fill=\"none\" stroke=\"black\" d=\"M467.715,-371.087C471.96,-362.361 477.154,-351.684 481.866,-341.997\"/>\n",
        "<polygon fill=\"black\" stroke=\"black\" points=\"485.138,-343.272 486.366,-332.748 478.844,-340.21 485.138,-343.272\"/>\n",
        "</g>\n",
        "<!-- 20 -->\n",
        "<g id=\"node44\" class=\"node\"><title>20</title>\n",
        "<ellipse fill=\"none\" stroke=\"black\" cx=\"243\" cy=\"-315\" rx=\"27\" ry=\"18.3848\"/>\n",
        "<text text-anchor=\"middle\" x=\"243\" y=\"-311.4\" font-family=\"Times Roman,serif\" font-size=\"14.00\">20</text>\n",
        "</g>\n",
        "<!-- 19&#45;&gt;20 -->\n",
        "<g id=\"edge44\" class=\"edge\"><title>19&#45;&gt;20</title>\n",
        "<path fill=\"none\" stroke=\"black\" d=\"M299.731,-373.307C289.64,-362.935 276.253,-349.176 265.017,-337.628\"/>\n",
        "<polygon fill=\"black\" stroke=\"black\" points=\"267.483,-335.144 258,-330.417 262.465,-340.025 267.483,-335.144\"/>\n",
        "</g>\n",
        "<!-- 29 -->\n",
        "<g id=\"node46\" class=\"node\"><title>29</title>\n",
        "<ellipse fill=\"none\" stroke=\"black\" cx=\"315\" cy=\"-315\" rx=\"27\" ry=\"18.3848\"/>\n",
        "<text text-anchor=\"middle\" x=\"315\" y=\"-311.4\" font-family=\"Times Roman,serif\" font-size=\"14.00\">29</text>\n",
        "</g>\n",
        "<!-- 21&#45;&gt;29 -->\n",
        "<g id=\"edge46\" class=\"edge\"><title>21&#45;&gt;29</title>\n",
        "<path fill=\"none\" stroke=\"black\" d=\"M371.731,-373.307C361.64,-362.935 348.253,-349.176 337.017,-337.628\"/>\n",
        "<polygon fill=\"black\" stroke=\"black\" points=\"339.483,-335.144 330,-330.417 334.465,-340.025 339.483,-335.144\"/>\n",
        "</g>\n",
        "<!-- 22 -->\n",
        "<g id=\"node48\" class=\"node\"><title>22</title>\n",
        "<ellipse fill=\"none\" stroke=\"black\" cx=\"423\" cy=\"-315\" rx=\"27\" ry=\"18.3848\"/>\n",
        "<text text-anchor=\"middle\" x=\"423\" y=\"-311.4\" font-family=\"Times Roman,serif\" font-size=\"14.00\">22</text>\n",
        "</g>\n",
        "<!-- 21&#45;&gt;22 -->\n",
        "<g id=\"edge48\" class=\"edge\"><title>21&#45;&gt;22</title>\n",
        "<path fill=\"none\" stroke=\"black\" d=\"M395.715,-371.087C399.96,-362.361 405.154,-351.684 409.866,-341.997\"/>\n",
        "<polygon fill=\"black\" stroke=\"black\" points=\"413.138,-343.272 414.366,-332.748 406.844,-340.21 413.138,-343.272\"/>\n",
        "</g>\n",
        "<!-- 30 -->\n",
        "<g id=\"node62\" class=\"node\"><title>30</title>\n",
        "<ellipse fill=\"none\" stroke=\"black\" cx=\"135\" cy=\"-241\" rx=\"27\" ry=\"18.3848\"/>\n",
        "<text text-anchor=\"middle\" x=\"135\" y=\"-237.4\" font-family=\"Times Roman,serif\" font-size=\"14.00\">30</text>\n",
        "</g>\n",
        "<!-- 29&#45;&gt;30 -->\n",
        "<g id=\"edge62\" class=\"edge\"><title>29&#45;&gt;30</title>\n",
        "<path fill=\"none\" stroke=\"black\" d=\"M293.891,-303.316C289.053,-300.79 283.893,-298.216 279,-296 242.146,-279.31 198.602,-263.152 169.122,-252.718\"/>\n",
        "<polygon fill=\"black\" stroke=\"black\" points=\"169.909,-249.285 159.315,-249.274 167.59,-255.89 169.909,-249.285\"/>\n",
        "</g>\n",
        "<!-- 32 -->\n",
        "<g id=\"node64\" class=\"node\"><title>32</title>\n",
        "<ellipse fill=\"none\" stroke=\"black\" cx=\"279\" cy=\"-241\" rx=\"27\" ry=\"18.3848\"/>\n",
        "<text text-anchor=\"middle\" x=\"279\" y=\"-237.4\" font-family=\"Times Roman,serif\" font-size=\"14.00\">32</text>\n",
        "</g>\n",
        "<!-- 29&#45;&gt;32 -->\n",
        "<g id=\"edge64\" class=\"edge\"><title>29&#45;&gt;32</title>\n",
        "<path fill=\"none\" stroke=\"black\" d=\"M306.285,-297.087C302.04,-288.361 296.846,-277.684 292.134,-267.997\"/>\n",
        "<polygon fill=\"black\" stroke=\"black\" points=\"295.156,-266.21 287.634,-258.748 288.862,-269.272 295.156,-266.21\"/>\n",
        "</g>\n",
        "<!-- 25 -->\n",
        "<g id=\"node50\" class=\"node\"><title>25</title>\n",
        "<ellipse fill=\"none\" stroke=\"black\" cx=\"423\" cy=\"-241\" rx=\"27\" ry=\"18.3848\"/>\n",
        "<text text-anchor=\"middle\" x=\"423\" y=\"-237.4\" font-family=\"Times Roman,serif\" font-size=\"14.00\">25</text>\n",
        "</g>\n",
        "<!-- 22&#45;&gt;25 -->\n",
        "<g id=\"edge50\" class=\"edge\"><title>22&#45;&gt;25</title>\n",
        "<path fill=\"none\" stroke=\"black\" d=\"M423,-296.327C423,-288.264 423,-278.648 423,-269.711\"/>\n",
        "<polygon fill=\"black\" stroke=\"black\" points=\"426.5,-269.667 423,-259.667 419.5,-269.667 426.5,-269.667\"/>\n",
        "</g>\n",
        "<!-- 23 -->\n",
        "<g id=\"node52\" class=\"node\"><title>23</title>\n",
        "<ellipse fill=\"none\" stroke=\"black\" cx=\"495\" cy=\"-241\" rx=\"27\" ry=\"18.3848\"/>\n",
        "<text text-anchor=\"middle\" x=\"495\" y=\"-237.4\" font-family=\"Times Roman,serif\" font-size=\"14.00\">23</text>\n",
        "</g>\n",
        "<!-- 22&#45;&gt;23 -->\n",
        "<g id=\"edge52\" class=\"edge\"><title>22&#45;&gt;23</title>\n",
        "<path fill=\"none\" stroke=\"black\" d=\"M438.269,-299.307C448.36,-288.935 461.747,-275.176 472.983,-263.628\"/>\n",
        "<polygon fill=\"black\" stroke=\"black\" points=\"475.535,-266.025 480,-256.417 470.517,-261.144 475.535,-266.025\"/>\n",
        "</g>\n",
        "<!-- 27 -->\n",
        "<g id=\"node54\" class=\"node\"><title>27</title>\n",
        "<ellipse fill=\"none\" stroke=\"black\" cx=\"567\" cy=\"-241\" rx=\"27\" ry=\"18.3848\"/>\n",
        "<text text-anchor=\"middle\" x=\"567\" y=\"-237.4\" font-family=\"Times Roman,serif\" font-size=\"14.00\">27</text>\n",
        "</g>\n",
        "<!-- 22&#45;&gt;27 -->\n",
        "<g id=\"edge54\" class=\"edge\"><title>22&#45;&gt;27</title>\n",
        "<path fill=\"none\" stroke=\"black\" d=\"M444.662,-303.469C449.378,-300.986 454.348,-298.39 459,-296 490.822,-279.649 499.178,-276.351 531,-260 532.744,-259.104 534.533,-258.179 536.337,-257.241\"/>\n",
        "<polygon fill=\"black\" stroke=\"black\" points=\"538.101,-260.269 545.338,-252.531 534.855,-254.067 538.101,-260.269\"/>\n",
        "</g>\n",
        "<!-- 26 -->\n",
        "<g id=\"node58\" class=\"node\"><title>26</title>\n",
        "<ellipse fill=\"none\" stroke=\"black\" cx=\"423\" cy=\"-167\" rx=\"27\" ry=\"18.3848\"/>\n",
        "<text text-anchor=\"middle\" x=\"423\" y=\"-163.4\" font-family=\"Times Roman,serif\" font-size=\"14.00\">26</text>\n",
        "</g>\n",
        "<!-- 25&#45;&gt;26 -->\n",
        "<g id=\"edge58\" class=\"edge\"><title>25&#45;&gt;26</title>\n",
        "<path fill=\"none\" stroke=\"black\" d=\"M423,-222.327C423,-214.264 423,-204.648 423,-195.711\"/>\n",
        "<polygon fill=\"black\" stroke=\"black\" points=\"426.5,-195.667 423,-185.667 419.5,-195.667 426.5,-195.667\"/>\n",
        "</g>\n",
        "<!-- 24 -->\n",
        "<g id=\"node56\" class=\"node\"><title>24</title>\n",
        "<ellipse fill=\"none\" stroke=\"black\" cx=\"495\" cy=\"-167\" rx=\"27\" ry=\"18.3848\"/>\n",
        "<text text-anchor=\"middle\" x=\"495\" y=\"-163.4\" font-family=\"Times Roman,serif\" font-size=\"14.00\">24</text>\n",
        "</g>\n",
        "<!-- 23&#45;&gt;24 -->\n",
        "<g id=\"edge56\" class=\"edge\"><title>23&#45;&gt;24</title>\n",
        "<path fill=\"none\" stroke=\"black\" d=\"M495,-222.327C495,-214.264 495,-204.648 495,-195.711\"/>\n",
        "<polygon fill=\"black\" stroke=\"black\" points=\"498.5,-195.667 495,-185.667 491.5,-195.667 498.5,-195.667\"/>\n",
        "</g>\n",
        "<!-- 28 -->\n",
        "<g id=\"node60\" class=\"node\"><title>28</title>\n",
        "<ellipse fill=\"none\" stroke=\"black\" cx=\"567\" cy=\"-167\" rx=\"27\" ry=\"18.3848\"/>\n",
        "<text text-anchor=\"middle\" x=\"567\" y=\"-163.4\" font-family=\"Times Roman,serif\" font-size=\"14.00\">28</text>\n",
        "</g>\n",
        "<!-- 27&#45;&gt;28 -->\n",
        "<g id=\"edge60\" class=\"edge\"><title>27&#45;&gt;28</title>\n",
        "<path fill=\"none\" stroke=\"black\" d=\"M567,-222.327C567,-214.264 567,-204.648 567,-195.711\"/>\n",
        "<polygon fill=\"black\" stroke=\"black\" points=\"570.5,-195.667 567,-185.667 563.5,-195.667 570.5,-195.667\"/>\n",
        "</g>\n",
        "<!-- 31 -->\n",
        "<g id=\"node66\" class=\"node\"><title>31</title>\n",
        "<ellipse fill=\"none\" stroke=\"black\" cx=\"63\" cy=\"-167\" rx=\"27\" ry=\"18.3848\"/>\n",
        "<text text-anchor=\"middle\" x=\"63\" y=\"-163.4\" font-family=\"Times Roman,serif\" font-size=\"14.00\">31</text>\n",
        "</g>\n",
        "<!-- 30&#45;&gt;31 -->\n",
        "<g id=\"edge66\" class=\"edge\"><title>30&#45;&gt;31</title>\n",
        "<path fill=\"none\" stroke=\"black\" d=\"M119.731,-225.307C109.64,-214.935 96.2526,-201.176 85.0169,-189.628\"/>\n",
        "<polygon fill=\"black\" stroke=\"black\" points=\"87.4826,-187.144 78.0004,-182.417 82.4655,-192.025 87.4826,-187.144\"/>\n",
        "</g>\n",
        "<!-- 35 -->\n",
        "<g id=\"node68\" class=\"node\"><title>35</title>\n",
        "<ellipse fill=\"none\" stroke=\"black\" cx=\"135\" cy=\"-167\" rx=\"27\" ry=\"18.3848\"/>\n",
        "<text text-anchor=\"middle\" x=\"135\" y=\"-163.4\" font-family=\"Times Roman,serif\" font-size=\"14.00\">35</text>\n",
        "</g>\n",
        "<!-- 32&#45;&gt;35 -->\n",
        "<g id=\"edge68\" class=\"edge\"><title>32&#45;&gt;35</title>\n",
        "<path fill=\"none\" stroke=\"black\" d=\"M257.026,-229.928C235.17,-218.887 200.701,-201.399 171,-186 169.259,-185.097 167.472,-184.167 165.671,-183.226\"/>\n",
        "<polygon fill=\"black\" stroke=\"black\" points=\"167.156,-180.053 156.675,-178.505 163.903,-186.251 167.156,-180.053\"/>\n",
        "</g>\n",
        "<!-- 42 -->\n",
        "<g id=\"node70\" class=\"node\"><title>42</title>\n",
        "<ellipse fill=\"none\" stroke=\"black\" cx=\"207\" cy=\"-167\" rx=\"27\" ry=\"18.3848\"/>\n",
        "<text text-anchor=\"middle\" x=\"207\" y=\"-163.4\" font-family=\"Times Roman,serif\" font-size=\"14.00\">42</text>\n",
        "</g>\n",
        "<!-- 32&#45;&gt;42 -->\n",
        "<g id=\"edge70\" class=\"edge\"><title>32&#45;&gt;42</title>\n",
        "<path fill=\"none\" stroke=\"black\" d=\"M263.731,-225.307C253.64,-214.935 240.253,-201.176 229.017,-189.628\"/>\n",
        "<polygon fill=\"black\" stroke=\"black\" points=\"231.483,-187.144 222,-182.417 226.465,-192.025 231.483,-187.144\"/>\n",
        "</g>\n",
        "<!-- 33 -->\n",
        "<g id=\"node72\" class=\"node\"><title>33</title>\n",
        "<ellipse fill=\"none\" stroke=\"black\" cx=\"279\" cy=\"-167\" rx=\"27\" ry=\"18.3848\"/>\n",
        "<text text-anchor=\"middle\" x=\"279\" y=\"-163.4\" font-family=\"Times Roman,serif\" font-size=\"14.00\">33</text>\n",
        "</g>\n",
        "<!-- 32&#45;&gt;33 -->\n",
        "<g id=\"edge72\" class=\"edge\"><title>32&#45;&gt;33</title>\n",
        "<path fill=\"none\" stroke=\"black\" d=\"M279,-222.327C279,-214.264 279,-204.648 279,-195.711\"/>\n",
        "<polygon fill=\"black\" stroke=\"black\" points=\"282.5,-195.667 279,-185.667 275.5,-195.667 282.5,-195.667\"/>\n",
        "</g>\n",
        "<!-- 40 -->\n",
        "<g id=\"node74\" class=\"node\"><title>40</title>\n",
        "<ellipse fill=\"none\" stroke=\"black\" cx=\"351\" cy=\"-167\" rx=\"27\" ry=\"18.3848\"/>\n",
        "<text text-anchor=\"middle\" x=\"351\" y=\"-163.4\" font-family=\"Times Roman,serif\" font-size=\"14.00\">40</text>\n",
        "</g>\n",
        "<!-- 32&#45;&gt;40 -->\n",
        "<g id=\"edge74\" class=\"edge\"><title>32&#45;&gt;40</title>\n",
        "<path fill=\"none\" stroke=\"black\" d=\"M294.269,-225.307C304.36,-214.935 317.747,-201.176 328.983,-189.628\"/>\n",
        "<polygon fill=\"black\" stroke=\"black\" points=\"331.535,-192.025 336,-182.417 326.517,-187.144 331.535,-192.025\"/>\n",
        "</g>\n",
        "<!-- 36 -->\n",
        "<g id=\"node78\" class=\"node\"><title>36</title>\n",
        "<ellipse fill=\"none\" stroke=\"black\" cx=\"63\" cy=\"-93\" rx=\"27\" ry=\"18.3848\"/>\n",
        "<text text-anchor=\"middle\" x=\"63\" y=\"-89.4\" font-family=\"Times Roman,serif\" font-size=\"14.00\">36</text>\n",
        "</g>\n",
        "<!-- 35&#45;&gt;36 -->\n",
        "<g id=\"edge78\" class=\"edge\"><title>35&#45;&gt;36</title>\n",
        "<path fill=\"none\" stroke=\"black\" d=\"M119.731,-151.307C109.64,-140.935 96.2526,-127.176 85.0169,-115.628\"/>\n",
        "<polygon fill=\"black\" stroke=\"black\" points=\"87.4826,-113.144 78.0004,-108.417 82.4655,-118.025 87.4826,-113.144\"/>\n",
        "</g>\n",
        "<!-- 38 -->\n",
        "<g id=\"node80\" class=\"node\"><title>38</title>\n",
        "<ellipse fill=\"none\" stroke=\"black\" cx=\"135\" cy=\"-93\" rx=\"27\" ry=\"18.3848\"/>\n",
        "<text text-anchor=\"middle\" x=\"135\" y=\"-89.4\" font-family=\"Times Roman,serif\" font-size=\"14.00\">38</text>\n",
        "</g>\n",
        "<!-- 35&#45;&gt;38 -->\n",
        "<g id=\"edge80\" class=\"edge\"><title>35&#45;&gt;38</title>\n",
        "<path fill=\"none\" stroke=\"black\" d=\"M135,-148.327C135,-140.264 135,-130.648 135,-121.711\"/>\n",
        "<polygon fill=\"black\" stroke=\"black\" points=\"138.5,-121.667 135,-111.667 131.5,-121.667 138.5,-121.667\"/>\n",
        "</g>\n",
        "<!-- 43 -->\n",
        "<g id=\"node88\" class=\"node\"><title>43</title>\n",
        "<ellipse fill=\"none\" stroke=\"black\" cx=\"207\" cy=\"-93\" rx=\"27\" ry=\"18.3848\"/>\n",
        "<text text-anchor=\"middle\" x=\"207\" y=\"-89.4\" font-family=\"Times Roman,serif\" font-size=\"14.00\">43</text>\n",
        "</g>\n",
        "<!-- 42&#45;&gt;43 -->\n",
        "<g id=\"edge88\" class=\"edge\"><title>42&#45;&gt;43</title>\n",
        "<path fill=\"none\" stroke=\"black\" d=\"M207,-148.327C207,-140.264 207,-130.648 207,-121.711\"/>\n",
        "<polygon fill=\"black\" stroke=\"black\" points=\"210.5,-121.667 207,-111.667 203.5,-121.667 210.5,-121.667\"/>\n",
        "</g>\n",
        "<!-- 34 -->\n",
        "<g id=\"node76\" class=\"node\"><title>34</title>\n",
        "<ellipse fill=\"none\" stroke=\"black\" cx=\"279\" cy=\"-93\" rx=\"27\" ry=\"18.3848\"/>\n",
        "<text text-anchor=\"middle\" x=\"279\" y=\"-89.4\" font-family=\"Times Roman,serif\" font-size=\"14.00\">34</text>\n",
        "</g>\n",
        "<!-- 33&#45;&gt;34 -->\n",
        "<g id=\"edge76\" class=\"edge\"><title>33&#45;&gt;34</title>\n",
        "<path fill=\"none\" stroke=\"black\" d=\"M279,-148.327C279,-140.264 279,-130.648 279,-121.711\"/>\n",
        "<polygon fill=\"black\" stroke=\"black\" points=\"282.5,-121.667 279,-111.667 275.5,-121.667 282.5,-121.667\"/>\n",
        "</g>\n",
        "<!-- 41 -->\n",
        "<g id=\"node86\" class=\"node\"><title>41</title>\n",
        "<ellipse fill=\"none\" stroke=\"black\" cx=\"351\" cy=\"-93\" rx=\"27\" ry=\"18.3848\"/>\n",
        "<text text-anchor=\"middle\" x=\"351\" y=\"-89.4\" font-family=\"Times Roman,serif\" font-size=\"14.00\">41</text>\n",
        "</g>\n",
        "<!-- 40&#45;&gt;41 -->\n",
        "<g id=\"edge86\" class=\"edge\"><title>40&#45;&gt;41</title>\n",
        "<path fill=\"none\" stroke=\"black\" d=\"M351,-148.327C351,-140.264 351,-130.648 351,-121.711\"/>\n",
        "<polygon fill=\"black\" stroke=\"black\" points=\"354.5,-121.667 351,-111.667 347.5,-121.667 354.5,-121.667\"/>\n",
        "</g>\n",
        "<!-- 37 -->\n",
        "<g id=\"node82\" class=\"node\"><title>37</title>\n",
        "<ellipse fill=\"none\" stroke=\"black\" cx=\"63\" cy=\"-19\" rx=\"27\" ry=\"18.3848\"/>\n",
        "<text text-anchor=\"middle\" x=\"63\" y=\"-15.4\" font-family=\"Times Roman,serif\" font-size=\"14.00\">37</text>\n",
        "</g>\n",
        "<!-- 36&#45;&gt;37 -->\n",
        "<g id=\"edge82\" class=\"edge\"><title>36&#45;&gt;37</title>\n",
        "<path fill=\"none\" stroke=\"black\" d=\"M63,-74.3267C63,-66.2639 63,-56.6477 63,-47.7115\"/>\n",
        "<polygon fill=\"black\" stroke=\"black\" points=\"66.5001,-47.6673 63,-37.6674 59.5001,-47.6674 66.5001,-47.6673\"/>\n",
        "</g>\n",
        "<!-- 39 -->\n",
        "<g id=\"node84\" class=\"node\"><title>39</title>\n",
        "<ellipse fill=\"none\" stroke=\"black\" cx=\"135\" cy=\"-19\" rx=\"27\" ry=\"18.3848\"/>\n",
        "<text text-anchor=\"middle\" x=\"135\" y=\"-15.4\" font-family=\"Times Roman,serif\" font-size=\"14.00\">39</text>\n",
        "</g>\n",
        "<!-- 38&#45;&gt;39 -->\n",
        "<g id=\"edge84\" class=\"edge\"><title>38&#45;&gt;39</title>\n",
        "<path fill=\"none\" stroke=\"black\" d=\"M135,-74.3267C135,-66.2639 135,-56.6477 135,-47.7115\"/>\n",
        "<polygon fill=\"black\" stroke=\"black\" points=\"138.5,-47.6673 135,-37.6674 131.5,-47.6674 138.5,-47.6673\"/>\n",
        "</g>\n",
        "</g>\n",
        "</svg>\n"
       ]
      }
     ],
     "prompt_number": 20
    },
    {
     "cell_type": "heading",
     "level": 1,
     "metadata": {},
     "source": [
      "Problem: RST-DT files are untokenized"
     ]
    },
    {
     "cell_type": "markdown",
     "metadata": {},
     "source": [
      "- try StanfordNLP's PTBTokenizer  \n",
      "  http://nlp.stanford.edu/software/tokenizer.shtml\n",
      "- alternatively, try  \n",
      "  https://github.com/EducationalTestingService/match"
     ]
    },
    {
     "cell_type": "markdown",
     "metadata": {},
     "source": [
      "```python\n",
      "rdg = dg.read_rs3(RST_TEST_FILE)\n",
      "pdg = dg.read_ptb(PTB_WSJ_TEST_FILE)\n",
      "rdg.merge_graphs(pdg)\n",
      "\n",
      "---------------------------------------------------------------------------\n",
      "ValueError                                Traceback (most recent call last)\n",
      "<ipython-input-20-d2261e9abd4f> in <module>()\n",
      "      1 rdg = dg.read_rs3(RST_TEST_FILE)\n",
      "      2 pdg = dg.read_ptb(PTB_WSJ_TEST_FILE)\n",
      "----> 3 rdg.merge_graphs(pdg)\n",
      "\n",
      "/usr/local/lib/python2.7/dist-packages/discoursegraphs-0.1.2-py2.7.egg/discoursegraphs/discoursegraph.pyc in merge_graphs(self, other_docgraph)\n",
      "    554         \"\"\"\n",
      "    555         # renaming the tokens of the other graph to match this one\n",
      "--> 556         rename_tokens(other_docgraph, self)\n",
      "    557         self.add_nodes_from(other_docgraph.nodes(data=True))\n",
      "    558 \n",
      "\n",
      "/usr/local/lib/python2.7/dist-packages/discoursegraphs-0.1.2-py2.7.egg/discoursegraphs/discoursegraph.pyc in rename_tokens(docgraph_with_old_names, docgraph_with_new_names)\n",
      "    602     \"\"\"\n",
      "    603     old2new = create_token_mapping(docgraph_with_old_names,\n",
      "--> 604                                    docgraph_with_new_names)\n",
      "    605     relabel_nodes(docgraph_with_old_names, old2new, copy=False)\n",
      "    606     new_token_ids = old2new.values()\n",
      "\n",
      "/usr/local/lib/python2.7/dist-packages/discoursegraphs-0.1.2-py2.7.egg/discoursegraphs/discoursegraph.pyc in create_token_mapping(docgraph_with_old_names, docgraph_with_new_names)\n",
      "    644                     docgraph_with_new_names.name, docgraph_with_new_names.ns,\n",
      "    645                     docgraph_with_old_names.name, docgraph_with_old_names.ns,\n",
      "--> 646                     new_tok, old_tok).encode('utf-8'))\n",
      "    647         else:\n",
      "    648             old2new[old_tok_id] = new_tok_id\n",
      "\n",
      "ValueError: Tokenization mismatch: wsj_1337.rs3 (rst) vs. wsj_1337.mrg (ptb)\n",
      "\tMonday, != Monday\n",
      "```"
     ]
    },
    {
     "cell_type": "heading",
     "level": 1,
     "metadata": {},
     "source": [
      "Tokenize RST-DT files with Stanford CoreNLP"
     ]
    },
    {
     "cell_type": "code",
     "collapsed": false,
     "input": [
      "import corenlp\n",
      "from corenlp import StanfordCoreNLP\n",
      "cnlp = StanfordCoreNLP()  # wait a few minutes..."
     ],
     "language": "python",
     "metadata": {},
     "outputs": [
      {
       "output_type": "stream",
       "stream": "stderr",
       "text": [
        "Loading Models: 0/5                                                            \r",
        "Loading Models: 1/5                                                            \r"
       ]
      },
      {
       "output_type": "stream",
       "stream": "stderr",
       "text": [
        "Loading Models: 2/5                                                            \r",
        "Loading Models: 3/5                                                            \r"
       ]
      },
      {
       "output_type": "stream",
       "stream": "stderr",
       "text": [
        "Loading Models: 4/5                                                            \r",
        "Loading Models: 5/5                                                            \n"
       ]
      }
     ],
     "prompt_number": 21
    },
    {
     "cell_type": "code",
     "collapsed": false,
     "input": [
      "result = cnlp.parse(\"Parse this sentence.\")"
     ],
     "language": "python",
     "metadata": {},
     "outputs": [],
     "prompt_number": 24
    },
    {
     "cell_type": "code",
     "collapsed": false,
     "input": [
      "print result"
     ],
     "language": "python",
     "metadata": {},
     "outputs": [
      {
       "output_type": "stream",
       "stream": "stdout",
       "text": [
        "{\"sentences\": [{\"parsetree\": \"(ROOT (S (VP (VB Parse) (NP (DT this) (NN sentence))) (. .)))\", \"text\": \"Parse this sentence.\", \"dependencies\": [[\"root\", \"ROOT\", \"Parse\"], [\"det\", \"sentence\", \"this\"], [\"dobj\", \"Parse\", \"sentence\"]], \"words\": [[\"Parse\", {\"NamedEntityTag\": \"O\", \"CharacterOffsetEnd\": \"5\", \"Lemma\": \"parse\", \"PartOfSpeech\": \"VB\", \"CharacterOffsetBegin\": \"0\"}], [\"this\", {\"NamedEntityTag\": \"O\", \"CharacterOffsetEnd\": \"10\", \"Lemma\": \"this\", \"PartOfSpeech\": \"DT\", \"CharacterOffsetBegin\": \"6\"}], [\"sentence\", {\"NamedEntityTag\": \"O\", \"CharacterOffsetEnd\": \"19\", \"Lemma\": \"sentence\", \"PartOfSpeech\": \"NN\", \"CharacterOffsetBegin\": \"11\"}], [\".\", {\"NamedEntityTag\": \"O\", \"CharacterOffsetEnd\": \"20\", \"Lemma\": \".\", \"PartOfSpeech\": \".\", \"CharacterOffsetBegin\": \"19\"}]]}]}\n"
       ]
      }
     ],
     "prompt_number": 25
    },
    {
     "cell_type": "code",
     "collapsed": false,
     "input": [
      "from simplejson import loads"
     ],
     "language": "python",
     "metadata": {},
     "outputs": [],
     "prompt_number": 34
    },
    {
     "cell_type": "code",
     "collapsed": false,
     "input": [
      "result_dict = loads(result)"
     ],
     "language": "python",
     "metadata": {},
     "outputs": [],
     "prompt_number": 36
    },
    {
     "cell_type": "code",
     "collapsed": false,
     "input": [
      "sentences = result_dict['sentences']\n",
      "for sentence in sentences:\n",
      "    for key, val in sentence.items():\n",
      "        print key\n",
      "        print \"\\t\", val"
     ],
     "language": "python",
     "metadata": {},
     "outputs": [
      {
       "output_type": "stream",
       "stream": "stdout",
       "text": [
        "parsetree\n",
        "\t(ROOT (S (VP (VB Parse) (NP (DT this) (NN sentence))) (. .)))\n",
        "text\n",
        "\tParse this sentence.\n",
        "dependencies\n",
        "\t[['root', 'ROOT', 'Parse'], ['det', 'sentence', 'this'], ['dobj', 'Parse', 'sentence']]\n",
        "words\n",
        "\t[['Parse', {'NamedEntityTag': 'O', 'CharacterOffsetEnd': '5', 'CharacterOffsetBegin': '0', 'PartOfSpeech': 'VB', 'Lemma': 'parse'}], ['this', {'NamedEntityTag': 'O', 'CharacterOffsetEnd': '10', 'CharacterOffsetBegin': '6', 'PartOfSpeech': 'DT', 'Lemma': 'this'}], ['sentence', {'NamedEntityTag': 'O', 'CharacterOffsetEnd': '19', 'CharacterOffsetBegin': '11', 'PartOfSpeech': 'NN', 'Lemma': 'sentence'}], ['.', {'NamedEntityTag': 'O', 'CharacterOffsetEnd': '20', 'CharacterOffsetBegin': '19', 'PartOfSpeech': '.', 'Lemma': '.'}]]\n"
       ]
      }
     ],
     "prompt_number": 41
    },
    {
     "cell_type": "code",
     "collapsed": false,
     "input": [
      "from discoursegraphs.readwrite.rst import get_edus\n",
      "\n",
      "rdg_untokenized = dg.read_rs3(RST_TEST_FILE, tokenize=False)\n",
      "\n",
      "print 'tokens: ', rdg_untokenized.tokens"
     ],
     "language": "python",
     "metadata": {},
     "outputs": []
    },
    {
     "cell_type": "code",
     "collapsed": false,
     "input": [
      "rdg_untokenized.node['rst:138']"
     ],
     "language": "python",
     "metadata": {},
     "outputs": [
      {
       "metadata": {},
       "output_type": "pyout",
       "prompt_number": 68,
       "text": [
        "{'label': u'[s]:138: before the August tr...',\n",
        " 'layers': {'rst', 'rst:segment'},\n",
        " 'rst:segment_type': 'satellite',\n",
        " 'rst:text': u'before the August trade figures were released.'}"
       ]
      }
     ],
     "prompt_number": 68
    },
    {
     "cell_type": "code",
     "collapsed": false,
     "input": [
      "for i, edu_root_node in enumerate(get_edus(rdg_untokenized), 1):\n",
      "    edu_str = rdg_untokenized.node[edu_root_node]['rst:text']\n",
      "    print i, edu_root_node\n",
      "    print edu_str\n",
      "    try:\n",
      "        result_str = cnlp.parse(edu_str.encode('utf-8'))\n",
      "        result_sentences = loads(result_str)['sentences']\n",
      "        for sentence in result_sentences:\n",
      "            print [word for (word, annotations) in sentence['words']]\n",
      "    except UnicodeDecodeError as e:\n",
      "        sys.stderr.write(\"{}:\\n{}\\n\\n\".format(e, edu_str))\n",
      "    print '\\n\\n'"
     ],
     "language": "python",
     "metadata": {},
     "outputs": [
      {
       "output_type": "stream",
       "stream": "stdout",
       "text": [
        "1 rst:5\n",
        "Tokyo stocks closed firmer Monday,\n",
        "['Tokyo', 'stocks', 'closed', 'firmer', 'Monday', ',']"
       ]
      },
      {
       "output_type": "stream",
       "stream": "stdout",
       "text": [
        "\n",
        "\n",
        "\n",
        "\n",
        "2 rst:6\n",
        "with the Nikkei index making its fifth consecutive daily gain.\n",
        "['with', 'the', 'Nikkei', 'index', 'making', 'its', 'fifth', 'consecutive', 'daily', 'gain', '.']"
       ]
      },
      {
       "output_type": "stream",
       "stream": "stdout",
       "text": [
        "\n",
        "\n",
        "\n",
        "\n",
        "3 rst:8\n",
        "Stocks also rose in London,\n",
        "['Stocks', 'also', 'rose', 'in', 'London', ',']"
       ]
      },
      {
       "output_type": "stream",
       "stream": "stdout",
       "text": [
        "\n",
        "\n",
        "\n",
        "\n",
        "4 rst:9\n",
        "while the Frankfurt market was mixed.\n",
        "['while', 'the', 'Frankfurt', 'market', 'was', 'mixed', '.']"
       ]
      },
      {
       "output_type": "stream",
       "stream": "stdout",
       "text": [
        "\n",
        "\n",
        "\n",
        "\n",
        "5 rst:13\n",
        "In Tokyo, the Nikkei index added 99.14 to 35585.52.\n",
        "['In', 'Tokyo', ',', 'the', 'Nikkei', 'index', 'added', '99.14', 'to', '35585.52', '.']"
       ]
      },
      {
       "output_type": "stream",
       "stream": "stdout",
       "text": [
        "\n",
        "\n",
        "\n",
        "\n",
        "6 rst:15\n",
        "But the market lost part of the early gains on index-linked investment trust fund selling.\n",
        "['But', 'the', 'market', 'lost', 'part', 'of', 'the', 'early', 'gains', 'on', 'index-linked', 'investment', 'trust', 'fund', 'selling', '.']"
       ]
      },
      {
       "output_type": "stream",
       "stream": "stdout",
       "text": [
        "\n",
        "\n",
        "\n",
        "\n",
        "7 rst:17\n",
        "The index moved above 35670 at midmorning,\n",
        "['The', 'index', 'moved', 'above', '35670', 'at', 'midmorning', ',']"
       ]
      },
      {
       "output_type": "stream",
       "stream": "stdout",
       "text": [
        "\n",
        "\n",
        "\n",
        "\n",
        "8 rst:18\n",
        "nearly reaching the record of 35689.98 set Sept. 28.\n",
        "['nearly', 'reaching', 'the', 'record', 'of', '35689.98', 'set', 'Sept.', '28', '.']"
       ]
      },
      {
       "output_type": "stream",
       "stream": "stdout",
       "text": [
        "\n",
        "\n",
        "\n",
        "\n",
        "9 rst:20\n",
        "In early trading in Tokyo Tuesday, the Nikkei index rose 1.08 points to 35586.60.\n",
        "['In', 'early', 'trading', 'in', 'Tokyo', 'Tuesday', ',', 'the', 'Nikkei', 'index', 'rose', '1.08', 'points', 'to', '35586.60', '.']"
       ]
      },
      {
       "output_type": "stream",
       "stream": "stdout",
       "text": [
        "\n",
        "\n",
        "\n",
        "\n",
        "10 rst:26\n",
        "On Monday, traders noted\n",
        "['On', 'Monday', ',', 'traders', 'noted']"
       ]
      },
      {
       "output_type": "stream",
       "stream": "stdout",
       "text": [
        "\n",
        "\n",
        "\n",
        "\n",
        "11 rst:27\n",
        "that some investors took profits against the backdrop of the Nikkei's fast-paced recovery\n",
        "['that', 'some', 'investors', 'took', 'profits', 'against', 'the', 'backdrop', 'of', 'the', 'Nikkei', \"'s\", 'fast-paced', 'recovery']"
       ]
      },
      {
       "output_type": "stream",
       "stream": "stdout",
       "text": [
        "\n",
        "\n",
        "\n",
        "\n",
        "12 rst:28\n",
        "following its plunge last Monday in reaction to the Oct. 13 drop in New York stock prices.\n",
        "['following', 'its', 'plunge', 'last', 'Monday', 'in', 'reaction', 'to', 'the', 'Oct.', '13', 'drop', 'in', 'New', 'York', 'stock', 'prices', '.']"
       ]
      },
      {
       "output_type": "stream",
       "stream": "stdout",
       "text": [
        "\n",
        "\n",
        "\n",
        "\n",
        "13 rst:29\n",
        "But overall buying interest remained strong through Monday,\n",
        "['But', 'overall', 'buying', 'interest', 'remained', 'strong', 'through', 'Monday', ',']"
       ]
      },
      {
       "output_type": "stream",
       "stream": "stdout",
       "text": [
        "\n",
        "\n",
        "\n",
        "\n",
        "14 rst:31\n",
        "they expect the Nikkei to continue with moderate gains this week.\n",
        "['they', 'expect', 'the', 'Nikkei', 'to', 'continue', 'with', 'moderate', 'gains', 'this', 'week', '.']"
       ]
      },
      {
       "output_type": "stream",
       "stream": "stdout",
       "text": [
        "\n",
        "\n",
        "\n",
        "\n",
        "15 rst:32\n",
        "with many observers saying\n",
        "['with', 'many', 'observers', 'saying']"
       ]
      },
      {
       "output_type": "stream",
       "stream": "stdout",
       "text": [
        "\n",
        "\n",
        "\n",
        "\n",
        "16 rst:37\n",
        "Turnover remained relatively small.\n",
        "['Turnover', 'remained', 'relatively', 'small', '.']"
       ]
      },
      {
       "output_type": "stream",
       "stream": "stdout",
       "text": [
        "\n",
        "\n",
        "\n",
        "\n",
        "17 rst:39\n",
        "Volume on the first section was estimated at 600 million shares, down from 1.03 billion shares Friday.\n",
        "['Volume', 'on', 'the', 'first', 'section', 'was', 'estimated', 'at', '600', 'million', 'shares', ',', 'down', 'from', '1.03', 'billion', 'shares', 'Friday', '.']"
       ]
      },
      {
       "output_type": "stream",
       "stream": "stdout",
       "text": [
        "\n",
        "\n",
        "\n",
        "\n",
        "18 rst:40\n",
        "The Tokyo stock price index of first section issues was up 7.81 at 2687.53.\n",
        "['The', 'Tokyo', 'stock', 'price', 'index', 'of', 'first', 'section', 'issues', 'was', 'up', '7.81', 'at', '2687.53', '.']"
       ]
      },
      {
       "output_type": "stream",
       "stream": "stdout",
       "text": [
        "\n",
        "\n",
        "\n",
        "\n",
        "19 rst:43\n",
        "Relatively stable foreign currency dealings Monday were viewed favorably by market players,\n",
        "['Relatively', 'stable', 'foreign', 'currency', 'dealings', 'Monday', 'were', 'viewed', 'favorably', 'by', 'market', 'players', ',']"
       ]
      },
      {
       "output_type": "stream",
       "stream": "stdout",
       "text": [
        "\n",
        "\n",
        "\n",
        "\n",
        "20 rst:44\n",
        "traders said.\n",
        "['traders', 'said', '.']"
       ]
      },
      {
       "output_type": "stream",
       "stream": "stdout",
       "text": [
        "\n",
        "\n",
        "\n",
        "\n",
        "21 rst:47\n",
        "But institutional investors may wait a little longer\n",
        "['But', 'institutional', 'investors', 'may', 'wait', 'a', 'little', 'longer']"
       ]
      },
      {
       "output_type": "stream",
       "stream": "stdout",
       "text": [
        "\n",
        "\n",
        "\n",
        "\n",
        "22 rst:48\n",
        "to appraise the direction of the U.S. monetary policy and the dollar,\n",
        "['to', 'appraise', 'the', 'direction', 'of', 'the', 'U.S.', 'monetary', 'policy', 'and', 'the', 'dollar', ',']"
       ]
      },
      {
       "output_type": "stream",
       "stream": "stdout",
       "text": [
        "\n",
        "\n",
        "\n",
        "\n",
        "23 rst:49\n",
        "traders said.\n",
        "['traders', 'said', '.']"
       ]
      },
      {
       "output_type": "stream",
       "stream": "stdout",
       "text": [
        "\n",
        "\n",
        "\n",
        "\n",
        "24 rst:52\n",
        "Monday's trading was unfocused.\n",
        "['Monday', \"'s\", 'trading', 'was', 'unfocused', '.']"
       ]
      },
      {
       "output_type": "stream",
       "stream": "stdout",
       "text": [
        "\n",
        "\n",
        "\n",
        "\n",
        "25 rst:53\n",
        "Hiroyuki Wada, general manager of the stock department at Okasan Securities, said\n",
        "['Hiroyuki', 'Wada', ',', 'general', 'manager', 'of', 'the', 'stock', 'department', 'at', 'Okasan', 'Securities', ',', 'said']"
       ]
      },
      {
       "output_type": "stream",
       "stream": "stdout",
       "text": [
        "\n",
        "\n",
        "\n",
        "\n",
        "26 rst:57\n",
        "He said\n",
        "['He', 'said']"
       ]
      },
      {
       "output_type": "stream",
       "stream": "stdout",
       "text": [
        "\n",
        "\n",
        "\n",
        "\n",
        "27 rst:58\n",
        "investors were picking individual stocks\n",
        "['investors', 'were', 'picking', 'individual', 'stocks']"
       ]
      },
      {
       "output_type": "stream",
       "stream": "stdout",
       "text": [
        "\n",
        "\n",
        "\n",
        "\n",
        "28 rst:59\n",
        "based on specific incentives and the likelihood of a wider price increase over the short term.\n",
        "['based', 'on', 'specific', 'incentives', 'and', 'the', 'likelihood', 'of', 'a', 'wider', 'price', 'increase', 'over', 'the', 'short', 'term', '.']"
       ]
      },
      {
       "output_type": "stream",
       "stream": "stdout",
       "text": [
        "\n",
        "\n",
        "\n",
        "\n",
        "29 rst:62\n",
        "The selective approach blurred themes such as domestic-demand issues, large-capitalization issues or high-technology shares,\n",
        "['The', 'selective', 'approach', 'blurred', 'themes', 'such', 'as', 'domestic-demand', 'issues', ',', 'large-capitalization', 'issues', 'or', 'high-technology', 'shares', ',']"
       ]
      },
      {
       "output_type": "stream",
       "stream": "stdout",
       "text": [
        "\n",
        "\n",
        "\n",
        "\n",
        "30 rst:63\n",
        "which had been providing at least some trading direction over the past few weeks,\n",
        "['which', 'had', 'been', 'providing', 'at', 'least', 'some', 'trading', 'direction', 'over', 'the', 'past', 'few', 'weeks', ',']"
       ]
      },
      {
       "output_type": "stream",
       "stream": "stdout",
       "text": [
        "\n",
        "\n",
        "\n",
        "\n",
        "31 rst:64\n",
        "Mr. Wada said.\n",
        "['Mr.', 'Wada', 'said', '.']"
       ]
      },
      {
       "output_type": "stream",
       "stream": "stdout",
       "text": [
        "\n",
        "\n",
        "\n",
        "\n",
        "32 rst:69\n",
        "Investors took profits on major construction shares,\n",
        "['Investors', 'took', 'profits', 'on', 'major', 'construction', 'shares', ',']"
       ]
      },
      {
       "output_type": "stream",
       "stream": "stdout",
       "text": [
        "\n",
        "\n",
        "\n",
        "\n",
        "33 rst:70\n",
        "which advanced last week,\n",
        "['which', 'advanced', 'last', 'week', ',']"
       ]
      },
      {
       "output_type": "stream",
       "stream": "stdout",
       "text": [
        "\n",
        "\n",
        "\n",
        "\n",
        "34 rst:71\n",
        "shifting their attention to some midsize companies such as Aoki Corp., Tobishima and Maeda.\n",
        "['shifting', 'their', 'attention', 'to', 'some', 'midsize', 'companies', 'such', 'as', 'Aoki', 'Corp.', ',', 'Tobishima', 'and', 'Maeda', '.']"
       ]
      },
      {
       "output_type": "stream",
       "stream": "stdout",
       "text": [
        "\n",
        "\n",
        "\n",
        "\n",
        "35 rst:73\n",
        "Aoki gained 60 yen to 1,480 yen\n",
        "\n",
        "\n"
       ]
      },
      {
       "output_type": "stream",
       "stream": "stdout",
       "text": [
        "\n",
        "36 rst:74\n",
        "{$10.40}.\n",
        "['-LCB-', '$', '10.40', '-RCB-', '.']"
       ]
      },
      {
       "output_type": "stream",
       "stream": "stdout",
       "text": [
        "\n",
        "\n",
        "\n",
        "\n",
        "37 rst:77\n",
        "Some pharmaceutical shares were popular on rumors\n",
        "['Some', 'pharmaceutical', 'shares', 'were', 'popular', 'on', 'rumors']"
       ]
      },
      {
       "output_type": "stream",
       "stream": "stdout",
       "text": [
        "\n",
        "\n",
        "\n",
        "\n",
        "38 rst:79\n",
        "related to new products\n",
        "['related', 'to', 'new', 'products']"
       ]
      },
      {
       "output_type": "stream",
       "stream": "stdout",
       "text": [
        "\n",
        "\n",
        "\n",
        "\n",
        "39 rst:81\n",
        "to be introduced at a cancer conference\n",
        "['to', 'be', 'introduced', 'at', 'a', 'cancer', 'conference']"
       ]
      },
      {
       "output_type": "stream",
       "stream": "stdout",
       "text": [
        "\n",
        "\n",
        "\n",
        "\n",
        "40 rst:82\n",
        "that opened in Nagoya.\n",
        "['that', 'opened', 'in', 'Nagoya', '.']"
       ]
      },
      {
       "output_type": "stream",
       "stream": "stdout",
       "text": [
        "\n",
        "\n",
        "\n",
        "\n",
        "41 rst:84\n",
        "Teijin was up 15 at 936,\n",
        "['Teijin', 'was', 'up', '15', 'at', '936', ',']"
       ]
      },
      {
       "output_type": "stream",
       "stream": "stdout",
       "text": [
        "\n",
        "\n",
        "\n",
        "\n",
        "42 rst:85\n",
        "and Kyowa Hakko gained 30 to 1,770.\n",
        "['and', 'Kyowa', 'Hakko', 'gained', '30', 'to', '1,770', '.']"
       ]
      },
      {
       "output_type": "stream",
       "stream": "stdout",
       "text": [
        "\n",
        "\n",
        "\n",
        "\n",
        "43 rst:86\n",
        "Mochida advanced 40 to 4,440.\n",
        "['Mochida', 'advanced', '40', 'to', '4,440', '.']"
       ]
      },
      {
       "output_type": "stream",
       "stream": "stdout",
       "text": [
        "\n",
        "\n",
        "\n",
        "\n",
        "44 rst:88\n",
        "Fujisawa gained 50 to 2,060.\n",
        "['Fujisawa', 'gained', '50', 'to', '2,060', '.']"
       ]
      },
      {
       "output_type": "stream",
       "stream": "stdout",
       "text": [
        "\n",
        "\n",
        "\n",
        "\n",
        "45 rst:90\n",
        "Fujisawa continued to attract investors\n",
        "['Fujisawa', 'continued', 'to', 'attract', 'investors']"
       ]
      },
      {
       "output_type": "stream",
       "stream": "stdout",
       "text": [
        "\n",
        "\n",
        "\n",
        "\n",
        "46 rst:92\n",
        "because of strong earning prospects\n",
        "['because', 'of', 'strong', 'earning', 'prospects']"
       ]
      },
      {
       "output_type": "stream",
       "stream": "stdout",
       "text": [
        "\n",
        "\n",
        "\n",
        "\n",
        "47 rst:93\n",
        "stemming from a new immune control agent.\n",
        "['stemming', 'from', 'a', 'new', 'immune', 'control', 'agent', '.']"
       ]
      },
      {
       "output_type": "stream",
       "stream": "stdout",
       "text": [
        "\n",
        "\n",
        "\n",
        "\n",
        "48 rst:96\n",
        "Kikkoman was up 30 to 1,600,\n",
        "['Kikkoman', 'was', 'up', '30', 'to', '1,600', ',']"
       ]
      },
      {
       "output_type": "stream",
       "stream": "stdout",
       "text": [
        "\n",
        "\n",
        "\n",
        "\n",
        "49 rst:97\n",
        "receiving investor interest for its land property holdings near Tokyo,\n",
        "['receiving', 'investor', 'interest', 'for', 'its', 'land', 'property', 'holdings', 'near', 'Tokyo', ',']"
       ]
      },
      {
       "output_type": "stream",
       "stream": "stdout",
       "text": [
        "\n",
        "\n",
        "\n",
        "\n",
        "50 rst:98\n",
        "a trader said.\n",
        "['a', 'trader', 'said', '.']"
       ]
      },
      {
       "output_type": "stream",
       "stream": "stdout",
       "text": [
        "\n",
        "\n",
        "\n",
        "\n",
        "51 rst:102\n",
        "London prices closed modestly higher in the year's thinnest turnover, a condition\n",
        "['London', 'prices', 'closed', 'modestly', 'higher', 'in', 'the', 'year', \"'s\", 'thinnest', 'turnover', ',', 'a', 'condition']"
       ]
      },
      {
       "output_type": "stream",
       "stream": "stdout",
       "text": [
        "\n",
        "\n",
        "\n",
        "\n",
        "52 rst:103\n",
        "that underscored a lack of conviction ahead of a U.K. balance of payments report Tuesday.\n",
        "['that', 'underscored', 'a', 'lack', 'of', 'conviction', 'ahead', 'of', 'a', 'U.K.', 'balance', 'of', 'payments', 'report', 'Tuesday', '.']"
       ]
      },
      {
       "output_type": "stream",
       "stream": "stdout",
       "text": [
        "\n",
        "\n",
        "\n",
        "\n",
        "53 rst:107\n",
        "the market is nervous,\n",
        "['the', 'market', 'is', 'nervous', ',']"
       ]
      },
      {
       "output_type": "stream",
       "stream": "stdout",
       "text": [
        "\n",
        "\n",
        "\n",
        "\n",
        "54 rst:108\n",
        "Limited volume ahead of the September trade data showed\n",
        "['Limited', 'volume', 'ahead', 'of', 'the', 'September', 'trade', 'data', 'showed']"
       ]
      },
      {
       "output_type": "stream",
       "stream": "stdout",
       "text": [
        "\n",
        "\n",
        "\n",
        "\n",
        "55 rst:110\n",
        "that the day's modest gains also signaled some support for London equities.\n",
        "['that', 'the', 'day', \"'s\", 'modest', 'gains', 'also', 'signaled', 'some', 'support', 'for', 'London', 'equities', '.']"
       ]
      },
      {
       "output_type": "stream",
       "stream": "stdout",
       "text": [
        "\n",
        "\n",
        "\n",
        "\n",
        "56 rst:111\n",
        "but dealers added\n",
        "['but', 'dealers', 'added']"
       ]
      },
      {
       "output_type": "stream",
       "stream": "stdout",
       "text": [
        "\n",
        "\n",
        "\n",
        "\n",
        "57 rst:114\n",
        "They pegged the support largely to anticipation\n",
        "['They', 'pegged', 'the', 'support', 'largely', 'to', 'anticipation']"
       ]
      },
      {
       "output_type": "stream",
       "stream": "stdout",
       "text": [
        "\n",
        "\n",
        "\n",
        "\n",
        "58 rst:116\n",
        "that Britain's current account imbalance can't be much worse than the near record deficits\n",
        "['that', 'Britain', \"'s\", 'current', 'account', 'imbalance', 'ca', \"n't\", 'be', 'much', 'worse', 'than', 'the', 'near', 'record', 'deficits']"
       ]
      },
      {
       "output_type": "stream",
       "stream": "stdout",
       "text": [
        "\n",
        "\n",
        "\n",
        "\n",
        "59 rst:117\n",
        "seen in July and August.\n",
        "['seen', 'in', 'July', 'and', 'August', '.']"
       ]
      },
      {
       "output_type": "stream",
       "stream": "stdout",
       "text": [
        "\n",
        "\n",
        "\n",
        "\n",
        "60 rst:121\n",
        "It's a case\n",
        "['It', \"'s\", 'a', 'case']"
       ]
      },
      {
       "output_type": "stream",
       "stream": "stdout",
       "text": [
        "\n",
        "\n",
        "\n",
        "\n",
        "61 rst:124\n",
        "of the market being too high\n",
        "['of', 'the', 'market', 'being', 'too', 'high']"
       ]
      },
      {
       "output_type": "stream",
       "stream": "stdout",
       "text": [
        "\n",
        "\n",
        "\n",
        "\n",
        "62 rst:125\n",
        "to buy\n",
        "['to', 'buy']"
       ]
      },
      {
       "output_type": "stream",
       "stream": "stdout",
       "text": [
        "\n",
        "\n",
        "\n",
        "\n",
        "63 rst:127\n",
        "and too afraid\n",
        "['and', 'too', 'afraid']"
       ]
      },
      {
       "output_type": "stream",
       "stream": "stdout",
       "text": [
        "\n",
        "\n",
        "\n",
        "\n",
        "64 rst:128\n",
        "to sell,\n",
        "['to', 'sell', ',']"
       ]
      },
      {
       "output_type": "stream",
       "stream": "stdout",
       "text": [
        "\n",
        "\n",
        "\n",
        "\n",
        "65 rst:129\n",
        "a senior dealer with Kleinwort Benson Securities said.\n",
        "['a', 'senior', 'dealer', 'with', 'Kleinwort', 'Benson', 'Securities', 'said', '.']"
       ]
      },
      {
       "output_type": "stream",
       "stream": "stdout",
       "text": [
        "\n",
        "\n",
        "\n",
        "\n",
        "66 rst:130\n",
        "It's better to wait.\n",
        "['It', \"'s\", 'better', 'to', 'wait', '.']"
       ]
      },
      {
       "output_type": "stream",
       "stream": "stdout",
       "text": [
        "\n",
        "\n",
        "\n",
        "\n",
        "67 rst:132\n",
        "The Financial Times 100-share index finished 10.6 points higher at 2189.7.\n",
        "['The', 'Financial', 'Times', '100-share', 'index', 'finished', '10.6', 'points', 'higher', 'at', '2189.7', '.']"
       ]
      },
      {
       "output_type": "stream",
       "stream": "stdout",
       "text": [
        "\n",
        "\n",
        "\n",
        "\n",
        "68 rst:134\n",
        "The 30-share index closed 11.6 points higher at 1772.6.\n",
        "['The', '30-share', 'index', 'closed', '11.6', 'points', 'higher', 'at', '1772.6', '.']"
       ]
      },
      {
       "output_type": "stream",
       "stream": "stdout",
       "text": [
        "\n",
        "\n",
        "\n",
        "\n",
        "69 rst:137\n",
        "Volume was 276.8 million shares, beneath the year's previous low of 280.5 million shares Sept. 25, the session\n",
        "['Volume', 'was', '276.8', 'million', 'shares', ',', 'beneath', 'the', 'year', \"'s\", 'previous', 'low', 'of', '280.5', 'million', 'shares', 'Sept.', '25', ',', 'the', 'session']"
       ]
      },
      {
       "output_type": "stream",
       "stream": "stdout",
       "text": [
        "\n",
        "\n",
        "\n",
        "\n",
        "70 rst:138\n",
        "before the August trade figures were released.\n",
        "['before', 'the', 'August', 'trade', 'figures', 'were', 'released', '.']"
       ]
      },
      {
       "output_type": "stream",
       "stream": "stderr",
       "text": [
        "'ascii' codec can't decode byte 0xc2 in position 427: ordinal not in range(128):\n",
        "Aoki gained 60 yen to 1,480 yen\n",
        "\n",
        "'ascii' codec can't decode byte 0xc2 in position 1592: ordinal not in range(128):\n",
        "Analysts' expectations suggest a September current account deficit of #1.6 billion\n",
        "\n"
       ]
      },
      {
       "output_type": "stream",
       "stream": "stdout",
       "text": [
        "\n",
        "\n",
        "\n",
        "\n",
        "71 rst:142\n",
        "Analysts' expectations suggest a September current account deficit of #1.6 billion\n",
        "\n",
        "\n"
       ]
      },
      {
       "output_type": "stream",
       "stream": "stdout",
       "text": [
        "\n",
        "72 rst:143\n",
        "{$2.54 billion},\n",
        "['-LCB-', '$', '2.54', 'billion', '-RCB-', ',']"
       ]
      },
      {
       "output_type": "stream",
       "stream": "stdout",
       "text": [
        "\n",
        "\n",
        "\n",
        "\n",
        "73 rst:144\n",
        "compared with August's #2.0 billion deficit.\n",
        "\n",
        "\n"
       ]
      },
      {
       "output_type": "stream",
       "stream": "stdout",
       "text": [
        "\n",
        "74 rst:148\n",
        "Dealers, however, said\n",
        "['Dealers', ',', 'however', ',', 'said']"
       ]
      },
      {
       "output_type": "stream",
       "stream": "stdout",
       "text": [
        "\n",
        "\n",
        "\n",
        "\n",
        "75 rst:149\n",
        "forecasts are broadly divergent\n",
        "['forecasts', 'are', 'broadly', 'divergent']"
       ]
      },
      {
       "output_type": "stream",
       "stream": "stderr",
       "text": [
        "'ascii' codec can't decode byte 0xc2 in position 758: ordinal not in range(128):\n",
        "compared with August's #2.0 billion deficit.\n",
        "\n",
        "'ascii' codec can't decode byte 0xc2 in position 693: ordinal not in range(128):\n",
        "with estimates ranging between #1 billion and #2 billion.\n",
        "\n"
       ]
      },
      {
       "output_type": "stream",
       "stream": "stdout",
       "text": [
        "\n",
        "\n",
        "\n",
        "\n",
        "76 rst:150\n",
        "with estimates ranging between #1 billion and #2 billion.\n",
        "\n",
        "\n"
       ]
      },
      {
       "output_type": "stream",
       "stream": "stdout",
       "text": [
        "\n",
        "77 rst:154\n",
        "The range of expectations is so broad,\n",
        "['The', 'range', 'of', 'expectations', 'is', 'so', 'broad', ',']"
       ]
      },
      {
       "output_type": "stream",
       "stream": "stdout",
       "text": [
        "\n",
        "\n",
        "\n",
        "\n",
        "78 rst:155\n",
        "a dealer at another major U.K. brokerage firm said,\n",
        "['a', 'dealer', 'at', 'another', 'major', 'U.K.', 'brokerage', 'firm', 'said', ',']"
       ]
      },
      {
       "output_type": "stream",
       "stream": "stdout",
       "text": [
        "\n",
        "\n",
        "\n",
        "\n",
        "79 rst:156\n",
        "for it to have any impact on the market.\n",
        "['for', 'it', 'to', 'have', 'any', 'impact', 'on', 'the', 'market', '.']"
       ]
      },
      {
       "output_type": "stream",
       "stream": "stdout",
       "text": [
        "\n",
        "\n",
        "\n",
        "\n",
        "80 rst:157\n",
        "the deficit may have to be nearer or above #2 billion\n",
        "\n",
        "\n"
       ]
      },
      {
       "output_type": "stream",
       "stream": "stderr",
       "text": [
        "'ascii' codec can't decode byte 0xc2 in position 1171: ordinal not in range(128):\n",
        "the deficit may have to be nearer or above #2 billion\n",
        "\n",
        "'ascii' codec can't decode byte 0xc2 in position 1505: ordinal not in range(128):\n",
        "Lucas Industries, a British automotive and aerospace concern, rose 13 pence to 614 pence\n",
        "\n"
       ]
      },
      {
       "output_type": "stream",
       "stream": "stdout",
       "text": [
        "\n",
        "81 rst:159\n",
        "Lucas Industries, a British automotive and aerospace concern, rose 13 pence to 614 pence\n",
        "\n",
        "\n"
       ]
      },
      {
       "output_type": "stream",
       "stream": "stdout",
       "text": [
        "\n",
        "82 rst:162\n",
        "after\n",
        "['after']"
       ]
      },
      {
       "output_type": "stream",
       "stream": "stdout",
       "text": [
        "\n",
        "\n",
        "\n",
        "\n",
        "83 rst:163\n",
        "it said\n",
        "['it', 'said']"
       ]
      },
      {
       "output_type": "stream",
       "stream": "stdout",
       "text": [
        "\n",
        "\n",
        "\n",
        "\n",
        "84 rst:164\n",
        "its pretax profit for the year rose 28%.\n",
        "['its', 'pretax', 'profit', 'for', 'the', 'year', 'rose', '28', '%', '.']"
       ]
      },
      {
       "output_type": "stream",
       "stream": "stdout",
       "text": [
        "\n",
        "\n",
        "\n",
        "\n",
        "85 rst:169\n",
        "Share prices on the Frankfurt stock exchange closed narrowly mixed in quiet dealings\n",
        "['Share', 'prices', 'on', 'the', 'Frankfurt', 'stock', 'exchange', 'closed', 'narrowly', 'mixed', 'in', 'quiet', 'dealings']"
       ]
      },
      {
       "output_type": "stream",
       "stream": "stdout",
       "text": [
        "\n",
        "\n",
        "\n",
        "\n",
        "86 rst:170\n",
        "after recovering most of their early losses.\n",
        "['after', 'recovering', 'most', 'of', 'their', 'early', 'losses', '.']"
       ]
      },
      {
       "output_type": "stream",
       "stream": "stdout",
       "text": [
        "\n",
        "\n",
        "\n",
        "\n",
        "87 rst:172\n",
        "The DAX index eased 0.99 point\n",
        "['The', 'DAX', 'index', 'eased', '0.99', 'point']"
       ]
      },
      {
       "output_type": "stream",
       "stream": "stdout",
       "text": [
        "\n",
        "\n",
        "\n",
        "\n",
        "88 rst:174\n",
        "to end at 1523.22\n",
        "['to', 'end', 'at', '1523.22']"
       ]
      },
      {
       "output_type": "stream",
       "stream": "stdout",
       "text": [
        "\n",
        "\n",
        "\n",
        "\n",
        "89 rst:175\n",
        "after falling 5.5 points early in the session.\n",
        "['after', 'falling', '5.5', 'points', 'early', 'in', 'the', 'session', '.']"
       ]
      },
      {
       "output_type": "stream",
       "stream": "stdout",
       "text": [
        "\n",
        "\n",
        "\n",
        "\n",
        "90 rst:179\n",
        "the declines early in the day were partly caused by losses of the ruling Christian-Democratic Union in communal elections in the state of Baden-Wuerttemberg.\n",
        "['the', 'declines', 'early', 'in', 'the', 'day', 'were', 'partly', 'caused', 'by', 'losses', 'of', 'the', 'ruling', 'Christian-Democratic', 'Union', 'in', 'communal', 'elections', 'in', 'the', 'state', 'of', 'Baden-Wuerttemberg', '.']"
       ]
      },
      {
       "output_type": "stream",
       "stream": "stdout",
       "text": [
        "\n",
        "\n",
        "\n",
        "\n",
        "91 rst:180\n",
        "Brokers said\n",
        "['Brokers', 'said']"
       ]
      },
      {
       "output_type": "stream",
       "stream": "stdout",
       "text": [
        "\n",
        "\n",
        "\n",
        "\n",
        "92 rst:185\n",
        "The start of a weeklong conference by the IG Metall metal worker union in Berlin is drawing attention to the impending wage negotiations,\n",
        "['The', 'start', 'of', 'a', 'weeklong', 'conference', 'by', 'the', 'IG', 'Metall', 'metal', 'worker', 'union', 'in', 'Berlin', 'is', 'drawing', 'attention', 'to', 'the', 'impending', 'wage', 'negotiations', ',']"
       ]
      },
      {
       "output_type": "stream",
       "stream": "stdout",
       "text": [
        "\n",
        "\n",
        "\n",
        "\n",
        "93 rst:186\n",
        "which could boost companies' personnel costs next year,\n",
        "['which', 'could', 'boost', 'companies', \"'\", 'personnel', 'costs', 'next', 'year', ',']"
       ]
      },
      {
       "output_type": "stream",
       "stream": "stdout",
       "text": [
        "\n",
        "\n",
        "\n",
        "\n",
        "94 rst:187\n",
        "they said.\n",
        "['they', 'said', '.']"
       ]
      },
      {
       "output_type": "stream",
       "stream": "stdout",
       "text": [
        "\n",
        "\n",
        "\n",
        "\n",
        "95 rst:188\n",
        "But there was little selling pressure,\n",
        "['But', 'there', 'was', 'little', 'selling', 'pressure', ',']"
       ]
      },
      {
       "output_type": "stream",
       "stream": "stdout",
       "text": [
        "\n",
        "\n",
        "\n",
        "\n",
        "96 rst:189\n",
        "and even small orders at the lower levels sufficed to bring the market back to Friday's opening levels.\n",
        "['and', 'even', 'small', 'orders', 'at', 'the', 'lower', 'levels', 'sufficed', 'to', 'bring', 'the', 'market', 'back', 'to', 'Friday', \"'s\", 'opening', 'levels', '.']"
       ]
      },
      {
       "output_type": "stream",
       "stream": "stdout",
       "text": [
        "\n",
        "\n",
        "\n",
        "\n",
        "97 rst:193\n",
        "Traders said\n",
        "['Traders', 'said']"
       ]
      },
      {
       "output_type": "stream",
       "stream": "stdout",
       "text": [
        "\n",
        "\n",
        "\n",
        "\n",
        "98 rst:194\n",
        "the thin trading volume points to continued uncertainty by most investors\n",
        "['the', 'thin', 'trading', 'volume', 'points', 'to', 'continued', 'uncertainty', 'by', 'most', 'investors']"
       ]
      },
      {
       "output_type": "stream",
       "stream": "stdout",
       "text": [
        "\n",
        "\n",
        "\n",
        "\n",
        "99 rst:195\n",
        "following last Monday's record 13% loss.\n",
        "['following', 'last', 'Monday', \"'s\", 'record', '13', '%', 'loss', '.']"
       ]
      },
      {
       "output_type": "stream",
       "stream": "stdout",
       "text": [
        "\n",
        "\n",
        "\n",
        "\n",
        "100 rst:198\n",
        "The market is still 4% short of its level before the plunge,\n",
        "['The', 'market', 'is', 'still', '4', '%', 'short', 'of', 'its', 'level', 'before', 'the', 'plunge', ',']"
       ]
      },
      {
       "output_type": "stream",
       "stream": "stdout",
       "text": [
        "\n",
        "\n",
        "\n",
        "\n",
        "101 rst:201\n",
        "and analysts aren't sure\n",
        "['and', 'analysts', 'are', \"n't\", 'sure']"
       ]
      },
      {
       "output_type": "stream",
       "stream": "stdout",
       "text": [
        "\n",
        "\n",
        "\n",
        "\n",
        "102 rst:202\n",
        "how long it will take\n",
        "['how', 'long', 'it', 'will', 'take']"
       ]
      },
      {
       "output_type": "stream",
       "stream": "stdout",
       "text": [
        "\n",
        "\n",
        "\n",
        "\n",
        "103 rst:203\n",
        "until the DAX has closed that gap.\n",
        "['until', 'the', 'DAX', 'has', 'closed', 'that', 'gap', '.']"
       ]
      },
      {
       "output_type": "stream",
       "stream": "stdout",
       "text": [
        "\n",
        "\n",
        "\n",
        "\n",
        "104 rst:205\n",
        "he expects share prices to move upward in the coming weeks.\n",
        "['he', 'expects', 'share', 'prices', 'to', 'move', 'upward', 'in', 'the', 'coming', 'weeks', '.']"
       ]
      },
      {
       "output_type": "stream",
       "stream": "stdout",
       "text": [
        "\n",
        "\n",
        "\n",
        "\n",
        "105 rst:208\n",
        "But Norbert Braeuer, chief trader at Hessische Landesbank Girozentrale\n",
        "['But', 'Norbert', 'Braeuer', ',', 'chief', 'trader', 'at', 'Hessische', 'Landesbank', 'Girozentrale']"
       ]
      },
      {
       "output_type": "stream",
       "stream": "stdout",
       "text": [
        "\n",
        "\n",
        "\n",
        "\n",
        "106 rst:209\n",
        "{Helaba},\n",
        "['-LCB-', 'Helaba', '-RCB-', ',']"
       ]
      },
      {
       "output_type": "stream",
       "stream": "stdout",
       "text": [
        "\n",
        "\n",
        "\n",
        "\n",
        "107 rst:210\n",
        "said\n",
        "['said']"
       ]
      },
      {
       "output_type": "stream",
       "stream": "stdout",
       "text": [
        "\n",
        "\n",
        "\n",
        "\n",
        "108 rst:214\n",
        "Banking stocks were the major gainers Monday amid hope\n",
        "['Banking', 'stocks', 'were', 'the', 'major', 'gainers', 'Monday', 'amid', 'hope']"
       ]
      },
      {
       "output_type": "stream",
       "stream": "stdout",
       "text": [
        "\n",
        "\n",
        "\n",
        "\n",
        "109 rst:215\n",
        "that interest rates have peaked,\n",
        "['that', 'interest', 'rates', 'have', 'peaked', ',']"
       ]
      },
      {
       "output_type": "stream",
       "stream": "stdout",
       "text": [
        "\n",
        "\n",
        "\n",
        "\n",
        "110 rst:219\n",
        "as Deutsche Bank and Dresdner Bank added 4 marks each to 664 marks\n",
        "['as', 'Deutsche', 'Bank', 'and', 'Dresdner', 'Bank', 'added', '4', 'marks', 'each', 'to', '664', 'marks']"
       ]
      },
      {
       "output_type": "stream",
       "stream": "stdout",
       "text": [
        "\n",
        "\n",
        "\n",
        "\n",
        "111 rst:220\n",
        "{$357}\n",
        "['-LCB-', '$', '357', '-RCB-']"
       ]
      },
      {
       "output_type": "stream",
       "stream": "stdout",
       "text": [
        "\n",
        "\n",
        "\n",
        "\n",
        "112 rst:221\n",
        "and 326 marks, respectively.\n",
        "['and', '326', 'marks', ',', 'respectively', '.']"
       ]
      },
      {
       "output_type": "stream",
       "stream": "stdout",
       "text": [
        "\n",
        "\n",
        "\n",
        "\n",
        "113 rst:222\n",
        "Commerzbank gained 1 to 252.5.\n",
        "['Commerzbank', 'gained', '1', 'to', '252.5', '.']"
       ]
      },
      {
       "output_type": "stream",
       "stream": "stdout",
       "text": [
        "\n",
        "\n",
        "\n",
        "\n",
        "114 rst:224\n",
        "Auto shares were mixed,\n",
        "['Auto', 'shares', 'were', 'mixed', ',']"
       ]
      },
      {
       "output_type": "stream",
       "stream": "stdout",
       "text": [
        "\n",
        "\n",
        "\n",
        "\n",
        "115 rst:226\n",
        "as Daimler-Benz firmed 2 to 723,\n",
        "['as', 'Daimler-Benz', 'firmed', '2', 'to', '723', ',']"
       ]
      },
      {
       "output_type": "stream",
       "stream": "stdout",
       "text": [
        "\n",
        "\n",
        "\n",
        "\n",
        "116 rst:227\n",
        "Bayerische Motoren Werke lost the same amount to 554,\n",
        "['Bayerische', 'Motoren', 'Werke', 'lost', 'the', 'same', 'amount', 'to', '554', ',']"
       ]
      },
      {
       "output_type": "stream",
       "stream": "stdout",
       "text": [
        "\n",
        "\n",
        "\n",
        "\n",
        "117 rst:228\n",
        "and Volkswagen inched down 1.4 to 451.6.\n",
        "['and', 'Volkswagen', 'inched', 'down', '1.4', 'to', '451.6', '.']"
       ]
      },
      {
       "output_type": "stream",
       "stream": "stdout",
       "text": [
        "\n",
        "\n",
        "\n",
        "\n",
        "118 rst:230\n",
        "Elsewhere, prices closed higher in Amsterdam, lower in Zurich, Stockholm and Milan, mixed in Brussels and unchanged in Paris.\n",
        "['Elsewhere', ',', 'prices', 'closed', 'higher', 'in', 'Amsterdam', ',', 'lower', 'in', 'Zurich', ',', 'Stockholm', 'and', 'Milan', ',', 'mixed', 'in', 'Brussels', 'and', 'unchanged', 'in', 'Paris', '.']"
       ]
      },
      {
       "output_type": "stream",
       "stream": "stdout",
       "text": [
        "\n",
        "\n",
        "\n",
        "\n",
        "119 rst:231\n",
        "Shares closed higher in Hong Kong, Singapore and Manila,\n",
        "['Shares', 'closed', 'higher', 'in', 'Hong', 'Kong', ',', 'Singapore', 'and', 'Manila', ',']"
       ]
      },
      {
       "output_type": "stream",
       "stream": "stdout",
       "text": [
        "\n",
        "\n",
        "\n",
        "\n",
        "120 rst:232\n",
        "and were lower in Sydney, Seoul and Taipei.\n",
        "['and', 'were', 'lower', 'in', 'Sydney', ',', 'Seoul', 'and', 'Taipei', '.']"
       ]
      },
      {
       "output_type": "stream",
       "stream": "stdout",
       "text": [
        "\n",
        "\n",
        "\n",
        "\n",
        "121 rst:233\n",
        "Wellington was closed.\n",
        "['Wellington', 'was', 'closed', '.']"
       ]
      },
      {
       "output_type": "stream",
       "stream": "stdout",
       "text": [
        "\n",
        "\n",
        "\n",
        "\n",
        "122 rst:236\n",
        "Here are price trends on the world's major stock markets,\n",
        "['Here', 'are', 'price', 'trends', 'on', 'the', 'world', \"'s\", 'major', 'stock', 'markets', ',']"
       ]
      },
      {
       "output_type": "stream",
       "stream": "stdout",
       "text": [
        "\n",
        "\n",
        "\n",
        "\n",
        "123 rst:237\n",
        "as calculated by Morgan Stanley Capital International Perspective, Geneva.\n",
        "['as', 'calculated', 'by', 'Morgan', 'Stanley', 'Capital', 'International', 'Perspective', ',', 'Geneva', '.']"
       ]
      },
      {
       "output_type": "stream",
       "stream": "stdout",
       "text": [
        "\n",
        "\n",
        "\n",
        "\n",
        "124 rst:240\n",
        "To make them directly comparable,\n",
        "['To', 'make', 'them', 'directly', 'comparable', ',']"
       ]
      },
      {
       "output_type": "stream",
       "stream": "stdout",
       "text": [
        "\n",
        "\n",
        "\n",
        "\n",
        "125 rst:242\n",
        "each index is based on the close of 1969\n",
        "['each', 'index', 'is', 'based', 'on', 'the', 'close', 'of', '1969']"
       ]
      },
      {
       "output_type": "stream",
       "stream": "stdout",
       "text": [
        "\n",
        "\n",
        "\n",
        "\n",
        "126 rst:243\n",
        "equaling 100.\n",
        "['equaling', '100', '.']"
       ]
      },
      {
       "output_type": "stream",
       "stream": "stdout",
       "text": [
        "\n",
        "\n",
        "\n",
        "\n",
        "127 rst:244\n",
        "The percentage change is since year-end.\n",
        "['The', 'percentage', 'change', 'is', 'since', 'year-end', '.']"
       ]
      },
      {
       "output_type": "stream",
       "stream": "stdout",
       "text": [
        "\n",
        "\n",
        "\n",
        "\n"
       ]
      }
     ],
     "prompt_number": 70
    },
    {
     "cell_type": "code",
     "collapsed": false,
     "input": [
      "cnlp.parse(\"Aoki gained 60 yen to 1,480 yen\") # copy and paste"
     ],
     "language": "python",
     "metadata": {},
     "outputs": [
      {
       "ename": "UnicodeDecodeError",
       "evalue": "'ascii' codec can't decode byte 0xc2 in position 427: ordinal not in range(128)",
       "output_type": "pyerr",
       "traceback": [
        "\u001b[1;31m---------------------------------------------------------------------------\u001b[0m\n\u001b[1;31mUnicodeDecodeError\u001b[0m                        Traceback (most recent call last)",
        "\u001b[1;32m<ipython-input-76-9808289f7d9b>\u001b[0m in \u001b[0;36m<module>\u001b[1;34m()\u001b[0m\n\u001b[1;32m----> 1\u001b[1;33m \u001b[0mcnlp\u001b[0m\u001b[1;33m.\u001b[0m\u001b[0mparse\u001b[0m\u001b[1;33m(\u001b[0m\u001b[1;34m\"Aoki gained 60 yen to 1,480 yen\"\u001b[0m\u001b[1;33m)\u001b[0m \u001b[1;31m# copy and paste\u001b[0m\u001b[1;33m\u001b[0m\u001b[0m\n\u001b[0m",
        "\u001b[1;32m/usr/local/lib/python2.7/dist-packages/corenlp-3.4.1-py2.7.egg/corenlp.pyc\u001b[0m in \u001b[0;36mparse\u001b[1;34m(self, text)\u001b[0m\n\u001b[0;32m    238\u001b[0m         \u001b[1;32mwith\u001b[0m \u001b[0mone\u001b[0m \u001b[0mdictionary\u001b[0m \u001b[0mentry\u001b[0m \u001b[1;32mfor\u001b[0m \u001b[0meach\u001b[0m \u001b[0mparsed\u001b[0m \u001b[0msentence\u001b[0m\u001b[1;33m,\u001b[0m \u001b[1;32min\u001b[0m \u001b[0mJSON\u001b[0m \u001b[0mformat\u001b[0m\u001b[1;33m.\u001b[0m\u001b[1;33m\u001b[0m\u001b[0m\n\u001b[0;32m    239\u001b[0m         \"\"\"\n\u001b[1;32m--> 240\u001b[1;33m         \u001b[0mresponse\u001b[0m \u001b[1;33m=\u001b[0m \u001b[0mself\u001b[0m\u001b[1;33m.\u001b[0m\u001b[0m_parse\u001b[0m\u001b[1;33m(\u001b[0m\u001b[0mtext\u001b[0m\u001b[1;33m)\u001b[0m\u001b[1;33m\u001b[0m\u001b[0m\n\u001b[0m\u001b[0;32m    241\u001b[0m         \u001b[0mlogger\u001b[0m\u001b[1;33m.\u001b[0m\u001b[0mdebug\u001b[0m\u001b[1;33m(\u001b[0m\u001b[1;34m\"Response: '%s'\"\u001b[0m \u001b[1;33m%\u001b[0m \u001b[1;33m(\u001b[0m\u001b[0mresponse\u001b[0m\u001b[1;33m)\u001b[0m\u001b[1;33m)\u001b[0m\u001b[1;33m\u001b[0m\u001b[0m\n\u001b[0;32m    242\u001b[0m         \u001b[1;32mreturn\u001b[0m \u001b[0mjson\u001b[0m\u001b[1;33m.\u001b[0m\u001b[0mdumps\u001b[0m\u001b[1;33m(\u001b[0m\u001b[0mresponse\u001b[0m\u001b[1;33m)\u001b[0m\u001b[1;33m\u001b[0m\u001b[0m\n",
        "\u001b[1;32m/usr/local/lib/python2.7/dist-packages/corenlp-3.4.1-py2.7.egg/corenlp.pyc\u001b[0m in \u001b[0;36m_parse\u001b[1;34m(self, text)\u001b[0m\n\u001b[0;32m    228\u001b[0m             \u001b[1;32mif\u001b[0m \u001b[0mVERBOSE\u001b[0m\u001b[1;33m:\u001b[0m\u001b[1;33m\u001b[0m\u001b[0m\n\u001b[0;32m    229\u001b[0m                 \u001b[0mlogger\u001b[0m\u001b[1;33m.\u001b[0m\u001b[0mdebug\u001b[0m\u001b[1;33m(\u001b[0m\u001b[0mtraceback\u001b[0m\u001b[1;33m.\u001b[0m\u001b[0mformat_exc\u001b[0m\u001b[1;33m(\u001b[0m\u001b[1;33m)\u001b[0m\u001b[1;33m)\u001b[0m\u001b[1;33m\u001b[0m\u001b[0m\n\u001b[1;32m--> 230\u001b[1;33m             \u001b[1;32mraise\u001b[0m \u001b[0me\u001b[0m\u001b[1;33m\u001b[0m\u001b[0m\n\u001b[0m\u001b[0;32m    231\u001b[0m \u001b[1;33m\u001b[0m\u001b[0m\n\u001b[0;32m    232\u001b[0m         \u001b[1;32mreturn\u001b[0m \u001b[0mresults\u001b[0m\u001b[1;33m\u001b[0m\u001b[0m\n",
        "\u001b[1;31mUnicodeDecodeError\u001b[0m: 'ascii' codec can't decode byte 0xc2 in position 427: ordinal not in range(128)"
       ]
      }
     ],
     "prompt_number": 76
    },
    {
     "cell_type": "code",
     "collapsed": false,
     "input": [
      "\"Aoki gained 60 yen to 1,480 yen\""
     ],
     "language": "python",
     "metadata": {},
     "outputs": [
      {
       "metadata": {},
       "output_type": "pyout",
       "prompt_number": 75,
       "text": [
        "'Aoki gained 60 yen to 1,480 yen'"
       ]
      }
     ],
     "prompt_number": 75
    },
    {
     "cell_type": "code",
     "collapsed": false,
     "input": [
      "cnlp.parse(\"Aoki gained 60 yen to 1,480 yen\") # hand typed"
     ],
     "language": "python",
     "metadata": {},
     "outputs": [
      {
       "ename": "UnicodeDecodeError",
       "evalue": "'ascii' codec can't decode byte 0xc2 in position 427: ordinal not in range(128)",
       "output_type": "pyerr",
       "traceback": [
        "\u001b[1;31m---------------------------------------------------------------------------\u001b[0m\n\u001b[1;31mUnicodeDecodeError\u001b[0m                        Traceback (most recent call last)",
        "\u001b[1;32m<ipython-input-77-342bb15b43e2>\u001b[0m in \u001b[0;36m<module>\u001b[1;34m()\u001b[0m\n\u001b[1;32m----> 1\u001b[1;33m \u001b[0mcnlp\u001b[0m\u001b[1;33m.\u001b[0m\u001b[0mparse\u001b[0m\u001b[1;33m(\u001b[0m\u001b[1;34m\"Aoki gained 60 yen to 1,480 yen\"\u001b[0m\u001b[1;33m)\u001b[0m\u001b[1;33m\u001b[0m\u001b[0m\n\u001b[0m",
        "\u001b[1;32m/usr/local/lib/python2.7/dist-packages/corenlp-3.4.1-py2.7.egg/corenlp.pyc\u001b[0m in \u001b[0;36mparse\u001b[1;34m(self, text)\u001b[0m\n\u001b[0;32m    238\u001b[0m         \u001b[1;32mwith\u001b[0m \u001b[0mone\u001b[0m \u001b[0mdictionary\u001b[0m \u001b[0mentry\u001b[0m \u001b[1;32mfor\u001b[0m \u001b[0meach\u001b[0m \u001b[0mparsed\u001b[0m \u001b[0msentence\u001b[0m\u001b[1;33m,\u001b[0m \u001b[1;32min\u001b[0m \u001b[0mJSON\u001b[0m \u001b[0mformat\u001b[0m\u001b[1;33m.\u001b[0m\u001b[1;33m\u001b[0m\u001b[0m\n\u001b[0;32m    239\u001b[0m         \"\"\"\n\u001b[1;32m--> 240\u001b[1;33m         \u001b[0mresponse\u001b[0m \u001b[1;33m=\u001b[0m \u001b[0mself\u001b[0m\u001b[1;33m.\u001b[0m\u001b[0m_parse\u001b[0m\u001b[1;33m(\u001b[0m\u001b[0mtext\u001b[0m\u001b[1;33m)\u001b[0m\u001b[1;33m\u001b[0m\u001b[0m\n\u001b[0m\u001b[0;32m    241\u001b[0m         \u001b[0mlogger\u001b[0m\u001b[1;33m.\u001b[0m\u001b[0mdebug\u001b[0m\u001b[1;33m(\u001b[0m\u001b[1;34m\"Response: '%s'\"\u001b[0m \u001b[1;33m%\u001b[0m \u001b[1;33m(\u001b[0m\u001b[0mresponse\u001b[0m\u001b[1;33m)\u001b[0m\u001b[1;33m)\u001b[0m\u001b[1;33m\u001b[0m\u001b[0m\n\u001b[0;32m    242\u001b[0m         \u001b[1;32mreturn\u001b[0m \u001b[0mjson\u001b[0m\u001b[1;33m.\u001b[0m\u001b[0mdumps\u001b[0m\u001b[1;33m(\u001b[0m\u001b[0mresponse\u001b[0m\u001b[1;33m)\u001b[0m\u001b[1;33m\u001b[0m\u001b[0m\n",
        "\u001b[1;32m/usr/local/lib/python2.7/dist-packages/corenlp-3.4.1-py2.7.egg/corenlp.pyc\u001b[0m in \u001b[0;36m_parse\u001b[1;34m(self, text)\u001b[0m\n\u001b[0;32m    228\u001b[0m             \u001b[1;32mif\u001b[0m \u001b[0mVERBOSE\u001b[0m\u001b[1;33m:\u001b[0m\u001b[1;33m\u001b[0m\u001b[0m\n\u001b[0;32m    229\u001b[0m                 \u001b[0mlogger\u001b[0m\u001b[1;33m.\u001b[0m\u001b[0mdebug\u001b[0m\u001b[1;33m(\u001b[0m\u001b[0mtraceback\u001b[0m\u001b[1;33m.\u001b[0m\u001b[0mformat_exc\u001b[0m\u001b[1;33m(\u001b[0m\u001b[1;33m)\u001b[0m\u001b[1;33m)\u001b[0m\u001b[1;33m\u001b[0m\u001b[0m\n\u001b[1;32m--> 230\u001b[1;33m             \u001b[1;32mraise\u001b[0m \u001b[0me\u001b[0m\u001b[1;33m\u001b[0m\u001b[0m\n\u001b[0m\u001b[0;32m    231\u001b[0m \u001b[1;33m\u001b[0m\u001b[0m\n\u001b[0;32m    232\u001b[0m         \u001b[1;32mreturn\u001b[0m \u001b[0mresults\u001b[0m\u001b[1;33m\u001b[0m\u001b[0m\n",
        "\u001b[1;31mUnicodeDecodeError\u001b[0m: 'ascii' codec can't decode byte 0xc2 in position 427: ordinal not in range(128)"
       ]
      }
     ],
     "prompt_number": 77
    },
    {
     "cell_type": "code",
     "collapsed": false,
     "input": [
      "cnlp.parse(\"Aoki gained 60\") # hand typed"
     ],
     "language": "python",
     "metadata": {},
     "outputs": [
      {
       "metadata": {},
       "output_type": "pyout",
       "prompt_number": 84,
       "text": [
        "'{\"sentences\": [{\"parsetree\": \"(ROOT (S (NP (NNP Aoki)) (VP (VBD gained) (NP (CD 60)))))\", \"text\": \"Aoki gained 60\", \"dependencies\": [[\"root\", \"ROOT\", \"gained\"], [\"nsubj\", \"gained\", \"Aoki\"], [\"dobj\", \"gained\", \"60\"]], \"words\": [[\"Aoki\", {\"NamedEntityTag\": \"PERSON\", \"CharacterOffsetEnd\": \"4\", \"Lemma\": \"Aoki\", \"PartOfSpeech\": \"NNP\", \"CharacterOffsetBegin\": \"0\"}], [\"gained\", {\"NamedEntityTag\": \"O\", \"CharacterOffsetEnd\": \"11\", \"Lemma\": \"gain\", \"PartOfSpeech\": \"VBD\", \"CharacterOffsetBegin\": \"5\"}], [\"60\", {\"NormalizedNamedEntityTag\": \"60.0\", \"Lemma\": \"60\", \"CharacterOffsetEnd\": \"14\", \"PartOfSpeech\": \"CD\", \"CharacterOffsetBegin\": \"12\", \"NamedEntityTag\": \"NUMBER\"}]]}]}'"
       ]
      }
     ],
     "prompt_number": 84
    },
    {
     "cell_type": "code",
     "collapsed": false,
     "input": [
      "cnlp.parse(\"Aoki gained 60 yen\") # hand typed"
     ],
     "language": "python",
     "metadata": {},
     "outputs": [
      {
       "ename": "UnicodeDecodeError",
       "evalue": "'ascii' codec can't decode byte 0xc2 in position 401: ordinal not in range(128)",
       "output_type": "pyerr",
       "traceback": [
        "\u001b[1;31m---------------------------------------------------------------------------\u001b[0m\n\u001b[1;31mUnicodeDecodeError\u001b[0m                        Traceback (most recent call last)",
        "\u001b[1;32m<ipython-input-85-3a9b4940b8c9>\u001b[0m in \u001b[0;36m<module>\u001b[1;34m()\u001b[0m\n\u001b[1;32m----> 1\u001b[1;33m \u001b[0mcnlp\u001b[0m\u001b[1;33m.\u001b[0m\u001b[0mparse\u001b[0m\u001b[1;33m(\u001b[0m\u001b[1;34m\"Aoki gained 60 yen\"\u001b[0m\u001b[1;33m)\u001b[0m \u001b[1;31m# hand typed\u001b[0m\u001b[1;33m\u001b[0m\u001b[0m\n\u001b[0m",
        "\u001b[1;32m/usr/local/lib/python2.7/dist-packages/corenlp-3.4.1-py2.7.egg/corenlp.pyc\u001b[0m in \u001b[0;36mparse\u001b[1;34m(self, text)\u001b[0m\n\u001b[0;32m    238\u001b[0m         \u001b[1;32mwith\u001b[0m \u001b[0mone\u001b[0m \u001b[0mdictionary\u001b[0m \u001b[0mentry\u001b[0m \u001b[1;32mfor\u001b[0m \u001b[0meach\u001b[0m \u001b[0mparsed\u001b[0m \u001b[0msentence\u001b[0m\u001b[1;33m,\u001b[0m \u001b[1;32min\u001b[0m \u001b[0mJSON\u001b[0m \u001b[0mformat\u001b[0m\u001b[1;33m.\u001b[0m\u001b[1;33m\u001b[0m\u001b[0m\n\u001b[0;32m    239\u001b[0m         \"\"\"\n\u001b[1;32m--> 240\u001b[1;33m         \u001b[0mresponse\u001b[0m \u001b[1;33m=\u001b[0m \u001b[0mself\u001b[0m\u001b[1;33m.\u001b[0m\u001b[0m_parse\u001b[0m\u001b[1;33m(\u001b[0m\u001b[0mtext\u001b[0m\u001b[1;33m)\u001b[0m\u001b[1;33m\u001b[0m\u001b[0m\n\u001b[0m\u001b[0;32m    241\u001b[0m         \u001b[0mlogger\u001b[0m\u001b[1;33m.\u001b[0m\u001b[0mdebug\u001b[0m\u001b[1;33m(\u001b[0m\u001b[1;34m\"Response: '%s'\"\u001b[0m \u001b[1;33m%\u001b[0m \u001b[1;33m(\u001b[0m\u001b[0mresponse\u001b[0m\u001b[1;33m)\u001b[0m\u001b[1;33m)\u001b[0m\u001b[1;33m\u001b[0m\u001b[0m\n\u001b[0;32m    242\u001b[0m         \u001b[1;32mreturn\u001b[0m \u001b[0mjson\u001b[0m\u001b[1;33m.\u001b[0m\u001b[0mdumps\u001b[0m\u001b[1;33m(\u001b[0m\u001b[0mresponse\u001b[0m\u001b[1;33m)\u001b[0m\u001b[1;33m\u001b[0m\u001b[0m\n",
        "\u001b[1;32m/usr/local/lib/python2.7/dist-packages/corenlp-3.4.1-py2.7.egg/corenlp.pyc\u001b[0m in \u001b[0;36m_parse\u001b[1;34m(self, text)\u001b[0m\n\u001b[0;32m    228\u001b[0m             \u001b[1;32mif\u001b[0m \u001b[0mVERBOSE\u001b[0m\u001b[1;33m:\u001b[0m\u001b[1;33m\u001b[0m\u001b[0m\n\u001b[0;32m    229\u001b[0m                 \u001b[0mlogger\u001b[0m\u001b[1;33m.\u001b[0m\u001b[0mdebug\u001b[0m\u001b[1;33m(\u001b[0m\u001b[0mtraceback\u001b[0m\u001b[1;33m.\u001b[0m\u001b[0mformat_exc\u001b[0m\u001b[1;33m(\u001b[0m\u001b[1;33m)\u001b[0m\u001b[1;33m)\u001b[0m\u001b[1;33m\u001b[0m\u001b[0m\n\u001b[1;32m--> 230\u001b[1;33m             \u001b[1;32mraise\u001b[0m \u001b[0me\u001b[0m\u001b[1;33m\u001b[0m\u001b[0m\n\u001b[0m\u001b[0;32m    231\u001b[0m \u001b[1;33m\u001b[0m\u001b[0m\n\u001b[0;32m    232\u001b[0m         \u001b[1;32mreturn\u001b[0m \u001b[0mresults\u001b[0m\u001b[1;33m\u001b[0m\u001b[0m\n",
        "\u001b[1;31mUnicodeDecodeError\u001b[0m: 'ascii' codec can't decode byte 0xc2 in position 401: ordinal not in range(128)"
       ]
      }
     ],
     "prompt_number": 85
    },
    {
     "cell_type": "code",
     "collapsed": false,
     "input": [
      "cnlp.parse(\"He won 60 yen\") # hand typed"
     ],
     "language": "python",
     "metadata": {},
     "outputs": [
      {
       "ename": "UnicodeDecodeError",
       "evalue": "'ascii' codec can't decode byte 0xc2 in position 375: ordinal not in range(128)",
       "output_type": "pyerr",
       "traceback": [
        "\u001b[1;31m---------------------------------------------------------------------------\u001b[0m\n\u001b[1;31mUnicodeDecodeError\u001b[0m                        Traceback (most recent call last)",
        "\u001b[1;32m<ipython-input-92-24acb7d4b292>\u001b[0m in \u001b[0;36m<module>\u001b[1;34m()\u001b[0m\n\u001b[1;32m----> 1\u001b[1;33m \u001b[0mcnlp\u001b[0m\u001b[1;33m.\u001b[0m\u001b[0mparse\u001b[0m\u001b[1;33m(\u001b[0m\u001b[1;34m\"He won 60 yen\"\u001b[0m\u001b[1;33m)\u001b[0m \u001b[1;31m# hand typed\u001b[0m\u001b[1;33m\u001b[0m\u001b[0m\n\u001b[0m",
        "\u001b[1;32m/usr/local/lib/python2.7/dist-packages/corenlp-3.4.1-py2.7.egg/corenlp.pyc\u001b[0m in \u001b[0;36mparse\u001b[1;34m(self, text)\u001b[0m\n\u001b[0;32m    238\u001b[0m         \u001b[1;32mwith\u001b[0m \u001b[0mone\u001b[0m \u001b[0mdictionary\u001b[0m \u001b[0mentry\u001b[0m \u001b[1;32mfor\u001b[0m \u001b[0meach\u001b[0m \u001b[0mparsed\u001b[0m \u001b[0msentence\u001b[0m\u001b[1;33m,\u001b[0m \u001b[1;32min\u001b[0m \u001b[0mJSON\u001b[0m \u001b[0mformat\u001b[0m\u001b[1;33m.\u001b[0m\u001b[1;33m\u001b[0m\u001b[0m\n\u001b[0;32m    239\u001b[0m         \"\"\"\n\u001b[1;32m--> 240\u001b[1;33m         \u001b[0mresponse\u001b[0m \u001b[1;33m=\u001b[0m \u001b[0mself\u001b[0m\u001b[1;33m.\u001b[0m\u001b[0m_parse\u001b[0m\u001b[1;33m(\u001b[0m\u001b[0mtext\u001b[0m\u001b[1;33m)\u001b[0m\u001b[1;33m\u001b[0m\u001b[0m\n\u001b[0m\u001b[0;32m    241\u001b[0m         \u001b[0mlogger\u001b[0m\u001b[1;33m.\u001b[0m\u001b[0mdebug\u001b[0m\u001b[1;33m(\u001b[0m\u001b[1;34m\"Response: '%s'\"\u001b[0m \u001b[1;33m%\u001b[0m \u001b[1;33m(\u001b[0m\u001b[0mresponse\u001b[0m\u001b[1;33m)\u001b[0m\u001b[1;33m)\u001b[0m\u001b[1;33m\u001b[0m\u001b[0m\n\u001b[0;32m    242\u001b[0m         \u001b[1;32mreturn\u001b[0m \u001b[0mjson\u001b[0m\u001b[1;33m.\u001b[0m\u001b[0mdumps\u001b[0m\u001b[1;33m(\u001b[0m\u001b[0mresponse\u001b[0m\u001b[1;33m)\u001b[0m\u001b[1;33m\u001b[0m\u001b[0m\n",
        "\u001b[1;32m/usr/local/lib/python2.7/dist-packages/corenlp-3.4.1-py2.7.egg/corenlp.pyc\u001b[0m in \u001b[0;36m_parse\u001b[1;34m(self, text)\u001b[0m\n\u001b[0;32m    228\u001b[0m             \u001b[1;32mif\u001b[0m \u001b[0mVERBOSE\u001b[0m\u001b[1;33m:\u001b[0m\u001b[1;33m\u001b[0m\u001b[0m\n\u001b[0;32m    229\u001b[0m                 \u001b[0mlogger\u001b[0m\u001b[1;33m.\u001b[0m\u001b[0mdebug\u001b[0m\u001b[1;33m(\u001b[0m\u001b[0mtraceback\u001b[0m\u001b[1;33m.\u001b[0m\u001b[0mformat_exc\u001b[0m\u001b[1;33m(\u001b[0m\u001b[1;33m)\u001b[0m\u001b[1;33m)\u001b[0m\u001b[1;33m\u001b[0m\u001b[0m\n\u001b[1;32m--> 230\u001b[1;33m             \u001b[1;32mraise\u001b[0m \u001b[0me\u001b[0m\u001b[1;33m\u001b[0m\u001b[0m\n\u001b[0m\u001b[0;32m    231\u001b[0m \u001b[1;33m\u001b[0m\u001b[0m\n\u001b[0;32m    232\u001b[0m         \u001b[1;32mreturn\u001b[0m \u001b[0mresults\u001b[0m\u001b[1;33m\u001b[0m\u001b[0m\n",
        "\u001b[1;31mUnicodeDecodeError\u001b[0m: 'ascii' codec can't decode byte 0xc2 in position 375: ordinal not in range(128)"
       ]
      }
     ],
     "prompt_number": 92
    },
    {
     "cell_type": "code",
     "collapsed": false,
     "input": [
      "cnlp.parse(\"He won 60 dollars\") # hand typed"
     ],
     "language": "python",
     "metadata": {},
     "outputs": [
      {
       "metadata": {},
       "output_type": "pyout",
       "prompt_number": 93,
       "text": [
        "'{\"sentences\": [{\"parsetree\": \"(ROOT (S (NP (PRP He)) (VP (VBD won) (NP (CD 60) (NNS dollars)))))\", \"text\": \"He won 60 dollars\", \"dependencies\": [[\"root\", \"ROOT\", \"won\"], [\"nsubj\", \"won\", \"He\"], [\"num\", \"dollars\", \"60\"], [\"dobj\", \"won\", \"dollars\"]], \"words\": [[\"He\", {\"NamedEntityTag\": \"O\", \"CharacterOffsetEnd\": \"2\", \"Lemma\": \"he\", \"PartOfSpeech\": \"PRP\", \"CharacterOffsetBegin\": \"0\"}], [\"won\", {\"NamedEntityTag\": \"O\", \"CharacterOffsetEnd\": \"6\", \"Lemma\": \"win\", \"PartOfSpeech\": \"VBD\", \"CharacterOffsetBegin\": \"3\"}], [\"60\", {\"NormalizedNamedEntityTag\": \"$60.0\", \"Lemma\": \"60\", \"CharacterOffsetEnd\": \"9\", \"PartOfSpeech\": \"CD\", \"CharacterOffsetBegin\": \"7\", \"NamedEntityTag\": \"MONEY\"}], [\"dollars\", {\"NormalizedNamedEntityTag\": \"$60.0\", \"Lemma\": \"dollar\", \"CharacterOffsetEnd\": \"17\", \"PartOfSpeech\": \"NNS\", \"CharacterOffsetBegin\": \"10\", \"NamedEntityTag\": \"MONEY\"}]]}]}'"
       ]
      }
     ],
     "prompt_number": 93
    },
    {
     "cell_type": "code",
     "collapsed": false,
     "input": [
      "cnlp.parse(\"100 yen\") # hand typed"
     ],
     "language": "python",
     "metadata": {},
     "outputs": [
      {
       "ename": "UnicodeDecodeError",
       "evalue": "'ascii' codec can't decode byte 0xc2 in position 169: ordinal not in range(128)",
       "output_type": "pyerr",
       "traceback": [
        "\u001b[1;31m---------------------------------------------------------------------------\u001b[0m\n\u001b[1;31mUnicodeDecodeError\u001b[0m                        Traceback (most recent call last)",
        "\u001b[1;32m<ipython-input-98-3ac7e971686c>\u001b[0m in \u001b[0;36m<module>\u001b[1;34m()\u001b[0m\n\u001b[1;32m----> 1\u001b[1;33m \u001b[0mcnlp\u001b[0m\u001b[1;33m.\u001b[0m\u001b[0mparse\u001b[0m\u001b[1;33m(\u001b[0m\u001b[1;34m\"100 yen\"\u001b[0m\u001b[1;33m)\u001b[0m \u001b[1;31m# hand typed\u001b[0m\u001b[1;33m\u001b[0m\u001b[0m\n\u001b[0m",
        "\u001b[1;32m/usr/local/lib/python2.7/dist-packages/corenlp-3.4.1-py2.7.egg/corenlp.pyc\u001b[0m in \u001b[0;36mparse\u001b[1;34m(self, text)\u001b[0m\n\u001b[0;32m    238\u001b[0m         \u001b[1;32mwith\u001b[0m \u001b[0mone\u001b[0m \u001b[0mdictionary\u001b[0m \u001b[0mentry\u001b[0m \u001b[1;32mfor\u001b[0m \u001b[0meach\u001b[0m \u001b[0mparsed\u001b[0m \u001b[0msentence\u001b[0m\u001b[1;33m,\u001b[0m \u001b[1;32min\u001b[0m \u001b[0mJSON\u001b[0m \u001b[0mformat\u001b[0m\u001b[1;33m.\u001b[0m\u001b[1;33m\u001b[0m\u001b[0m\n\u001b[0;32m    239\u001b[0m         \"\"\"\n\u001b[1;32m--> 240\u001b[1;33m         \u001b[0mresponse\u001b[0m \u001b[1;33m=\u001b[0m \u001b[0mself\u001b[0m\u001b[1;33m.\u001b[0m\u001b[0m_parse\u001b[0m\u001b[1;33m(\u001b[0m\u001b[0mtext\u001b[0m\u001b[1;33m)\u001b[0m\u001b[1;33m\u001b[0m\u001b[0m\n\u001b[0m\u001b[0;32m    241\u001b[0m         \u001b[0mlogger\u001b[0m\u001b[1;33m.\u001b[0m\u001b[0mdebug\u001b[0m\u001b[1;33m(\u001b[0m\u001b[1;34m\"Response: '%s'\"\u001b[0m \u001b[1;33m%\u001b[0m \u001b[1;33m(\u001b[0m\u001b[0mresponse\u001b[0m\u001b[1;33m)\u001b[0m\u001b[1;33m)\u001b[0m\u001b[1;33m\u001b[0m\u001b[0m\n\u001b[0;32m    242\u001b[0m         \u001b[1;32mreturn\u001b[0m \u001b[0mjson\u001b[0m\u001b[1;33m.\u001b[0m\u001b[0mdumps\u001b[0m\u001b[1;33m(\u001b[0m\u001b[0mresponse\u001b[0m\u001b[1;33m)\u001b[0m\u001b[1;33m\u001b[0m\u001b[0m\n",
        "\u001b[1;32m/usr/local/lib/python2.7/dist-packages/corenlp-3.4.1-py2.7.egg/corenlp.pyc\u001b[0m in \u001b[0;36m_parse\u001b[1;34m(self, text)\u001b[0m\n\u001b[0;32m    228\u001b[0m             \u001b[1;32mif\u001b[0m \u001b[0mVERBOSE\u001b[0m\u001b[1;33m:\u001b[0m\u001b[1;33m\u001b[0m\u001b[0m\n\u001b[0;32m    229\u001b[0m                 \u001b[0mlogger\u001b[0m\u001b[1;33m.\u001b[0m\u001b[0mdebug\u001b[0m\u001b[1;33m(\u001b[0m\u001b[0mtraceback\u001b[0m\u001b[1;33m.\u001b[0m\u001b[0mformat_exc\u001b[0m\u001b[1;33m(\u001b[0m\u001b[1;33m)\u001b[0m\u001b[1;33m)\u001b[0m\u001b[1;33m\u001b[0m\u001b[0m\n\u001b[1;32m--> 230\u001b[1;33m             \u001b[1;32mraise\u001b[0m \u001b[0me\u001b[0m\u001b[1;33m\u001b[0m\u001b[0m\n\u001b[0m\u001b[0;32m    231\u001b[0m \u001b[1;33m\u001b[0m\u001b[0m\n\u001b[0;32m    232\u001b[0m         \u001b[1;32mreturn\u001b[0m \u001b[0mresults\u001b[0m\u001b[1;33m\u001b[0m\u001b[0m\n",
        "\u001b[1;31mUnicodeDecodeError\u001b[0m: 'ascii' codec can't decode byte 0xc2 in position 169: ordinal not in range(128)"
       ]
      }
     ],
     "prompt_number": 98
    },
    {
     "cell_type": "code",
     "collapsed": false,
     "input": [],
     "language": "python",
     "metadata": {},
     "outputs": []
    }
   ],
   "metadata": {}
  }
 ]
}