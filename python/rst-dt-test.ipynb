{
 "metadata": {
  "name": "",
  "signature": "sha256:160600ebb051914710095acf4502b1887eeeb9cd6aed8d02feeca5937b626992"
 },
 "nbformat": 3,
 "nbformat_minor": 0,
 "worksheets": [
  {
   "cells": [
    {
     "cell_type": "heading",
     "level": 1,
     "metadata": {},
     "source": [
      "RST Discourse Treebank experiments"
     ]
    },
    {
     "cell_type": "code",
     "collapsed": false,
     "input": [
      "import os\n",
      "import sys\n",
      "import glob\n",
      "import discoursegraphs as dg\n",
      "\n",
      "RST_ROOT_DIR = os.path.expanduser('~/repos/rst_discourse_treebank_rs3')\n",
      "\n",
      "RST_TEST_FILE = os.path.join(RST_ROOT_DIR, 'untokenized', 'TRAINING', 'wsj_1337.rs3')"
     ],
     "language": "python",
     "metadata": {},
     "outputs": [],
     "prompt_number": 20
    },
    {
     "cell_type": "code",
     "collapsed": false,
     "input": [
      "rdg = dg.read_rs3(RST_TEST_FILE)\n",
      "#dg.get_text(rdg)"
     ],
     "language": "python",
     "metadata": {},
     "outputs": [],
     "prompt_number": 21
    },
    {
     "cell_type": "code",
     "collapsed": false,
     "input": [
      "# for folder in (RST_TEST_DIR, RST_TRAINING_DIR):\n",
      "#     for rst_file in glob.glob(os.path.join(folder, '*.rs3')):\n",
      "#         try:\n",
      "#             dg.read_rs3(rst_file)\n",
      "#         except KeyError as e:\n",
      "#             sys.stderr.write(\"failed: {}\\n\".format(rst_file))"
     ],
     "language": "python",
     "metadata": {},
     "outputs": [],
     "prompt_number": 22
    },
    {
     "cell_type": "heading",
     "level": 1,
     "metadata": {},
     "source": [
      "Find & Parse corresponding PTB/WSJ files"
     ]
    },
    {
     "cell_type": "code",
     "collapsed": false,
     "input": [
      "wsj_doc_ids = [os.path.basename(rst_file).lower().split('_')[1].split('.')[0]\n",
      "               for folder in (os.path.join(RST_ROOT_DIR, 'untokenized', 'TEST'),\n",
      "                              os.path.join(RST_ROOT_DIR, 'untokenized', 'TRAINING'))\n",
      "               for rst_file in glob.glob(os.path.join(folder, '*.rs3'))\n",
      "               if os.path.basename(rst_file).lower().startswith('wsj')]"
     ],
     "language": "python",
     "metadata": {},
     "outputs": [],
     "prompt_number": 23
    },
    {
     "cell_type": "code",
     "collapsed": false,
     "input": [
      "PTB_WSJ_ROOT_DIR = os.path.expanduser('~/corpora/pennTreebank/parsed/mrg/wsj')\n",
      "\n",
      "PTB_WSJ_TEST_FILE = os.path.join(PTB_WSJ_ROOT_DIR, '13/wsj_1337.mrg')"
     ],
     "language": "python",
     "metadata": {},
     "outputs": [],
     "prompt_number": 24
    },
    {
     "cell_type": "code",
     "collapsed": false,
     "input": [
      "import nltk\n",
      "\n",
      "ptb_path, ptb_filename = os.path.split(PTB_WSJ_TEST_FILE)\n",
      "document = nltk.corpus.BracketParseCorpusReader(ptb_path, [ptb_filename])\n",
      "parsed_sents_iter = document.parsed_sents()"
     ],
     "language": "python",
     "metadata": {},
     "outputs": [],
     "prompt_number": 25
    },
    {
     "cell_type": "code",
     "collapsed": false,
     "input": [
      "sent0 = parsed_sents_iter[0]"
     ],
     "language": "python",
     "metadata": {},
     "outputs": [],
     "prompt_number": 26
    },
    {
     "cell_type": "code",
     "collapsed": false,
     "input": [
      "for elem in sent0:\n",
      "    print type(elem), elem.label()"
     ],
     "language": "python",
     "metadata": {},
     "outputs": [
      {
       "output_type": "stream",
       "stream": "stdout",
       "text": [
        "<class 'nltk.tree.Tree'> NP-SBJ\n",
        "<class 'nltk.tree.Tree'> VP\n",
        "<class 'nltk.tree.Tree'> .\n"
       ]
      }
     ],
     "prompt_number": 27
    },
    {
     "cell_type": "code",
     "collapsed": false,
     "input": [
      "nltk.__version__"
     ],
     "language": "python",
     "metadata": {},
     "outputs": [
      {
       "metadata": {},
       "output_type": "pyout",
       "prompt_number": 28,
       "text": [
        "'3.0.1'"
       ]
      }
     ],
     "prompt_number": 28
    },
    {
     "cell_type": "code",
     "collapsed": false,
     "input": [
      "# %load_ext gvmagic\n",
      "# %dotstr dg.print_dot(ptbg)"
     ],
     "language": "python",
     "metadata": {},
     "outputs": [],
     "prompt_number": 29
    },
    {
     "cell_type": "code",
     "collapsed": false,
     "input": [
      "ptbg = dg.read_ptb(PTB_WSJ_TEST_FILE)"
     ],
     "language": "python",
     "metadata": {},
     "outputs": [],
     "prompt_number": 30
    },
    {
     "cell_type": "code",
     "collapsed": false,
     "input": [
      "dg.get_text(ptbg)"
     ],
     "language": "python",
     "metadata": {},
     "outputs": [
      {
       "metadata": {},
       "output_type": "pyout",
       "prompt_number": 31,
       "text": [
        "\"Tokyo stocks closed firmer Monday , with the Nikkei index making its fifth consecutive daily gain . Stocks also rose in London , while the Frankfurt market was mixed . In Tokyo , the Nikkei index added 99.14 to 35585.52 . The index moved above 35670 at midmorning , nearly reaching the record of 35689.98 set Sept. 28 . But the market lost part of the early gains on index-linked investment trust fund selling . In early trading in Tokyo Tuesday , the Nikkei index rose 1.08 points to 35586.60 . On Monday , traders noted that some investors took profits against the backdrop of the Nikkei 's fast-paced recovery following its plunge last Monday in reaction to the Oct. 13 drop in New York stock prices . But overall buying interest remained strong through Monday , with many observers saying they expect the Nikkei to continue with moderate gains this week . Turnover remained relatively small . Volume on the first section was estimated at 600 million shares , down from 1.03 billion shares Friday . The Tokyo stock price index of first section issues was up 7.81 at 2687.53 . Relatively stable foreign currency dealings Monday were viewed favorably by market players , traders said . But institutional investors may wait a little longer to appraise the direction of the U.S. monetary policy and the dollar , traders said . Hiroyuki Wada , general manager of the stock department at Okasan Securities , said Monday 's trading was `` unfocused . '' He said investors were picking individual stocks based on specific incentives and the likelihood of a wider price increase over the short term . The selective approach blurred themes such as domestic-demand issues , large-capitalization issues or high-technology shares , which had been providing at least some trading direction over the past few weeks , Mr. Wada said . Investors took profits on major construction shares , which advanced last week , shifting their attention to some midsize companies such as Aoki Corp. , Tobishima and Maeda . Aoki gained 60 yen to 1,480 yen -LRB- $ 10.40 -RRB- . Some pharmaceutical shares were popular on rumors related to new products to be introduced at a cancer conference that opened in Nagoya . Teijin was up 15 at 936 , and Kyowa Hakko gained 30 to 1,770 . Mochida advanced 40 to 4,440 . Fujisawa continued to attract investors because of strong earning prospects stemming from a new immune control agent . Fujisawa gained 50 to 2,060 . Kikkoman was up 30 to 1,600 , receiving investor interest for its land property holdings near Tokyo , a trader said . London prices closed modestly higher in the year 's thinnest turnover , a condition that underscored a lack of conviction ahead of a U.K. balance of payments report Tuesday . Limited volume ahead of the September trade data showed the market is nervous , but dealers added that the day 's modest gains also signaled some support for London equities . They pegged the support largely to anticipation that Britain 's current account imbalance ca n't be much worse than the near record deficits seen in July and August . `` It 's a case of the market being too high to buy and too afraid to sell , '' a senior dealer with Kleinwort Benson Securities said . `` It 's better to wait . '' The Financial Times 100-share index finished 10.6 points higher at 2189.7 . The 30-share index closed 11.6 points higher at 1772.6 . Volume was 276.8 million shares , beneath the year 's previous low of 280.5 million shares Sept. 25 , the session before the August trade figures were released . Analysts ' expectations suggest a September current account deficit of # 1.6 billion -LRB- $ 2.54 billion -RRB- , compared with August 's # 2.0 billion deficit . Dealers , however , said forecasts are broadly divergent with estimates ranging between # 1 billion and # 2 billion . `` The range of expectations is so broad , '' a dealer at another major U.K. brokerage firm said , `` the deficit may have to be nearer or above # 2 billion for it to have any impact on the market . '' Lucas Industries , a British automotive and aerospace concern , rose 13 pence to 614 pence after it said its pretax profit for the year rose 28 % . Share prices on the Frankfurt stock exchange closed narrowly mixed in quiet dealings after recovering most of their early losses . The DAX index eased 0.99 point to end at 1523.22 after falling 5.5 points early in the session . Brokers said the declines early in the day were partly caused by losses of the ruling Christian-Democratic Union in communal elections in the state of Baden-Wuerttemberg . The start of a weeklong conference by the IG Metall metal worker union in Berlin is drawing attention to the impending wage negotiations , which could boost companies ' personnel costs next year , they said . But there was little selling pressure , and even small orders at the lower levels sufficed to bring the market back to Friday 's opening levels . Traders said the thin trading volume points to continued uncertainty by most investors following last Monday 's record 13 % loss . The market is still 4 % short of its level before the plunge , and analysts are n't sure how long it will take until the DAX has closed that gap . But Norbert Braeuer , chief trader at Hessische Landesbank Girozentrale -LRB- Helaba -RRB- , said he expects share prices to move upward in the coming weeks . Banking stocks were the major gainers Monday amid hope that interest rates have peaked , as Deutsche Bank and Dresdner Bank added 4 marks each to 664 marks -LRB- $ 357 -RRB- and 326 marks , respectively . Commerzbank gained 1 to 252.5 . Auto shares were mixed , as Daimler-Benz firmed 2 to 723 , Bayerische Motoren Werke lost the same amount to 554 , and Volkswagen inched down 1.4 to 451.6 . Elsewhere , prices closed higher in Amsterdam , lower in Zurich , Stockholm and Milan , mixed in Brussels and unchanged in Paris . Shares closed higher in Hong Kong , Singapore and Manila , and were lower in Sydney , Seoul and Taipei . Wellington was closed . Here are price trends on the world 's major stock markets , as calculated by Morgan Stanley Capital International Perspective , Geneva . To make them directly comparable , each index is based on the close of 1969 equaling 100 . The percentage change is since year-end .\""
       ]
      }
     ],
     "prompt_number": 31
    },
    {
     "cell_type": "code",
     "collapsed": false,
     "input": [
      "shortg = dg.read_ptb(PTB_WSJ_TEST_FILE, limit=1)"
     ],
     "language": "python",
     "metadata": {},
     "outputs": [],
     "prompt_number": 32
    },
    {
     "cell_type": "code",
     "collapsed": false,
     "input": [
      "dg.write_dot(shortg, '/tmp/shortg.dot')"
     ],
     "language": "python",
     "metadata": {},
     "outputs": [],
     "prompt_number": 33
    },
    {
     "cell_type": "code",
     "collapsed": false,
     "input": [
      "import networkx as nx\n",
      "import matplotlib.pyplot as plt\n",
      "\n",
      "%pylab inline\n",
      "\n",
      "G = shortg\n",
      "\n",
      "plt.title(\"draw_networkx\")\n",
      "pos=nx.graphviz_layout(G,prog='dot')\n",
      "nx.draw(G,pos,with_labels=True,arrows=True)\n",
      "plt.show()\n",
      "plt.savefig('nx_test.png')"
     ],
     "language": "python",
     "metadata": {},
     "outputs": [
      {
       "output_type": "stream",
       "stream": "stdout",
       "text": [
        "Populating the interactive namespace from numpy and matplotlib\n"
       ]
      },
      {
       "metadata": {},
       "output_type": "display_data",
       "png": "[encoded data removed]",
       "text": [
        "<matplotlib.figure.Figure at 0x5bbb090>"
       ]
      },
      {
       "metadata": {},
       "output_type": "display_data",
       "text": [
        "<matplotlib.figure.Figure at 0x644a790>"
       ]
      }
     ],
     "prompt_number": 34
    },
    {
     "cell_type": "code",
     "collapsed": false,
     "input": [
      "for n, ndict in shortg.nodes(data=True):\n",
      "    print n,\n",
      "\n",
      "print '\\n\\n'\n",
      "\n",
      "for s,t, edict in shortg.edges(data=True):\n",
      "    print \"({}, {})\".format(s,t),\n"
     ],
     "language": "python",
     "metadata": {},
     "outputs": [
      {
       "output_type": "stream",
       "stream": "stdout",
       "text": [
        "0 1 2 3 5 7 8 10 11 13 14 16 18 19 21 22 23 25 27 29 30 32 33 35 36 38 40 42 44 \n",
        "\n",
        "\n",
        "(0, 1) (1, 2) (1, 44) (1, 7) (2, 3) (2, 5) (7, 8) (7, 16) (7, 10) (7, 18) (7, 13) (10, 11) (13, 14) (18, 19) (18, 21) (21, 29) (21, 22) (22, 25) (22, 27) (22, 23) (29, 32) (29, 30) (32, 40) (32, 33) (32, 42) (32, 35) (35, 36) (35, 38)\n"
       ]
      }
     ],
     "prompt_number": 35
    },
    {
     "cell_type": "code",
     "collapsed": false,
     "input": [
      "for e in nx.bfs_edges(shortg, 0):\n",
      "    print e,"
     ],
     "language": "python",
     "metadata": {},
     "outputs": [
      {
       "output_type": "stream",
       "stream": "stdout",
       "text": [
        "(0, 1) (1, 2) (1, 44) (1, 7) (2, 3) (2, 5) (7, 8) (7, 16) (7, 10) (7, 18) (7, 13) (10, 11) (18, 19) (18, 21) (13, 14) (21, 29) (21, 22) (29, 32) (29, 30) (22, 25) (22, 27) (22, 23) (32, 40) (32, 33) (32, 42) (32, 35) (35, 36) (35, 38)\n"
       ]
      }
     ],
     "prompt_number": 36
    },
    {
     "cell_type": "code",
     "collapsed": false,
     "input": [
      "# dg.get_text(ptbg, ptbg.sentences[1]) # TODO: TypeError: expected string or buffer"
     ],
     "language": "python",
     "metadata": {},
     "outputs": [],
     "prompt_number": 37
    },
    {
     "cell_type": "code",
     "collapsed": false,
     "input": [
      "%load_ext gvmagic\n",
      "%dotstr dg.print_dot(shortg, ignore_node_labels=True)\n",
      "# %dotstr dg.print_dot(ptbg)\n"
     ],
     "language": "python",
     "metadata": {},
     "outputs": [
      {
       "metadata": {},
       "output_type": "display_data",
       "svg": [
        "<?xml version=\"1.0\" encoding=\"UTF-8\" standalone=\"no\"?>\n",
        "<!DOCTYPE svg PUBLIC \"-//W3C//DTD SVG 1.1//EN\"\n",
        " \"http://www.w3.org/Graphics/SVG/1.1/DTD/svg11.dtd\">\n",
        "<!-- Generated by graphviz version 2.26.3 (20100126.1600)\n",
        " -->\n",
        "<!-- Title: wsj_1337.mrg Pages: 1 -->\n",
        "<svg width=\"602pt\" height=\"638pt\"\n",
        " viewBox=\"0.00 0.00 602.00 638.00\" xmlns=\"http://www.w3.org/2000/svg\" xmlns:xlink=\"http://www.w3.org/1999/xlink\">\n",
        "<g id=\"graph1\" class=\"graph\" transform=\"scale(1 1) rotate(0) translate(4 634)\">\n",
        "<title>wsj_1337.mrg</title>\n",
        "<polygon fill=\"white\" stroke=\"white\" points=\"-4,5 -4,-634 599,-634 599,5 -4,5\"/>\n",
        "<!-- 0 -->\n",
        "<g id=\"node1\" class=\"node\"><title>0</title>\n",
        "<ellipse fill=\"none\" stroke=\"black\" cx=\"279\" cy=\"-611\" rx=\"27\" ry=\"18.3848\"/>\n",
        "<text text-anchor=\"middle\" x=\"279\" y=\"-607.4\" font-family=\"Times Roman,serif\" font-size=\"14.00\">0</text>\n",
        "</g>\n",
        "<!-- 1 -->\n",
        "<g id=\"node2\" class=\"node\"><title>1</title>\n",
        "<ellipse fill=\"none\" stroke=\"black\" cx=\"279\" cy=\"-537\" rx=\"27\" ry=\"18.3848\"/>\n",
        "<text text-anchor=\"middle\" x=\"279\" y=\"-533.4\" font-family=\"Times Roman,serif\" font-size=\"14.00\">1</text>\n",
        "</g>\n",
        "<!-- 0&#45;&gt;1 -->\n",
        "<g id=\"edge2\" class=\"edge\"><title>0&#45;&gt;1</title>\n",
        "<path fill=\"none\" stroke=\"black\" d=\"M279,-592.327C279,-584.264 279,-574.648 279,-565.711\"/>\n",
        "<polygon fill=\"black\" stroke=\"black\" points=\"282.5,-565.667 279,-555.667 275.5,-565.667 282.5,-565.667\"/>\n",
        "</g>\n",
        "<!-- 2 -->\n",
        "<g id=\"node4\" class=\"node\"><title>2</title>\n",
        "<ellipse fill=\"none\" stroke=\"black\" cx=\"207\" cy=\"-463\" rx=\"27\" ry=\"18.3848\"/>\n",
        "<text text-anchor=\"middle\" x=\"207\" y=\"-459.4\" font-family=\"Times Roman,serif\" font-size=\"14.00\">2</text>\n",
        "</g>\n",
        "<!-- 1&#45;&gt;2 -->\n",
        "<g id=\"edge4\" class=\"edge\"><title>1&#45;&gt;2</title>\n",
        "<path fill=\"none\" stroke=\"black\" d=\"M263.731,-521.307C253.64,-510.935 240.253,-497.176 229.017,-485.628\"/>\n",
        "<polygon fill=\"black\" stroke=\"black\" points=\"231.483,-483.144 222,-478.417 226.465,-488.025 231.483,-483.144\"/>\n",
        "</g>\n",
        "<!-- 44 -->\n",
        "<g id=\"node6\" class=\"node\"><title>44</title>\n",
        "<ellipse fill=\"none\" stroke=\"black\" cx=\"279\" cy=\"-463\" rx=\"27\" ry=\"18.3848\"/>\n",
        "<text text-anchor=\"middle\" x=\"279\" y=\"-459.4\" font-family=\"Times Roman,serif\" font-size=\"14.00\">44</text>\n",
        "</g>\n",
        "<!-- 1&#45;&gt;44 -->\n",
        "<g id=\"edge6\" class=\"edge\"><title>1&#45;&gt;44</title>\n",
        "<path fill=\"none\" stroke=\"black\" d=\"M279,-518.327C279,-510.264 279,-500.648 279,-491.711\"/>\n",
        "<polygon fill=\"black\" stroke=\"black\" points=\"282.5,-491.667 279,-481.667 275.5,-491.667 282.5,-491.667\"/>\n",
        "</g>\n",
        "<!-- 7 -->\n",
        "<g id=\"node8\" class=\"node\"><title>7</title>\n",
        "<ellipse fill=\"none\" stroke=\"black\" cx=\"387\" cy=\"-463\" rx=\"27\" ry=\"18.3848\"/>\n",
        "<text text-anchor=\"middle\" x=\"387\" y=\"-459.4\" font-family=\"Times Roman,serif\" font-size=\"14.00\">7</text>\n",
        "</g>\n",
        "<!-- 1&#45;&gt;7 -->\n",
        "<g id=\"edge8\" class=\"edge\"><title>1&#45;&gt;7</title>\n",
        "<path fill=\"none\" stroke=\"black\" d=\"M298.308,-523.77C315.355,-512.09 340.402,-494.928 359.534,-481.819\"/>\n",
        "<polygon fill=\"black\" stroke=\"black\" points=\"361.588,-484.655 367.859,-476.115 357.631,-478.88 361.588,-484.655\"/>\n",
        "</g>\n",
        "<!-- 5 -->\n",
        "<g id=\"node10\" class=\"node\"><title>5</title>\n",
        "<ellipse fill=\"none\" stroke=\"black\" cx=\"135\" cy=\"-389\" rx=\"27\" ry=\"18.3848\"/>\n",
        "<text text-anchor=\"middle\" x=\"135\" y=\"-385.4\" font-family=\"Times Roman,serif\" font-size=\"14.00\">5</text>\n",
        "</g>\n",
        "<!-- 2&#45;&gt;5 -->\n",
        "<g id=\"edge10\" class=\"edge\"><title>2&#45;&gt;5</title>\n",
        "<path fill=\"none\" stroke=\"black\" d=\"M191.731,-447.307C181.64,-436.935 168.253,-423.176 157.017,-411.628\"/>\n",
        "<polygon fill=\"black\" stroke=\"black\" points=\"159.483,-409.144 150,-404.417 154.465,-414.025 159.483,-409.144\"/>\n",
        "</g>\n",
        "<!-- 3 -->\n",
        "<g id=\"node12\" class=\"node\"><title>3</title>\n",
        "<ellipse fill=\"none\" stroke=\"black\" cx=\"207\" cy=\"-389\" rx=\"27\" ry=\"18.3848\"/>\n",
        "<text text-anchor=\"middle\" x=\"207\" y=\"-385.4\" font-family=\"Times Roman,serif\" font-size=\"14.00\">3</text>\n",
        "</g>\n",
        "<!-- 2&#45;&gt;3 -->\n",
        "<g id=\"edge12\" class=\"edge\"><title>2&#45;&gt;3</title>\n",
        "<path fill=\"none\" stroke=\"black\" d=\"M207,-444.327C207,-436.264 207,-426.648 207,-417.711\"/>\n",
        "<polygon fill=\"black\" stroke=\"black\" points=\"210.5,-417.667 207,-407.667 203.5,-417.667 210.5,-417.667\"/>\n",
        "</g>\n",
        "<!-- 18 -->\n",
        "<g id=\"node14\" class=\"node\"><title>18</title>\n",
        "<ellipse fill=\"none\" stroke=\"black\" cx=\"279\" cy=\"-389\" rx=\"27\" ry=\"18.3848\"/>\n",
        "<text text-anchor=\"middle\" x=\"279\" y=\"-385.4\" font-family=\"Times Roman,serif\" font-size=\"14.00\">18</text>\n",
        "</g>\n",
        "<!-- 7&#45;&gt;18 -->\n",
        "<g id=\"edge14\" class=\"edge\"><title>7&#45;&gt;18</title>\n",
        "<path fill=\"none\" stroke=\"black\" d=\"M367.692,-449.77C350.645,-438.09 325.598,-420.928 306.466,-407.819\"/>\n",
        "<polygon fill=\"black\" stroke=\"black\" points=\"308.369,-404.88 298.141,-402.115 304.412,-410.655 308.369,-404.88\"/>\n",
        "</g>\n",
        "<!-- 13 -->\n",
        "<g id=\"node16\" class=\"node\"><title>13</title>\n",
        "<ellipse fill=\"none\" stroke=\"black\" cx=\"351\" cy=\"-389\" rx=\"27\" ry=\"18.3848\"/>\n",
        "<text text-anchor=\"middle\" x=\"351\" y=\"-385.4\" font-family=\"Times Roman,serif\" font-size=\"14.00\">13</text>\n",
        "</g>\n",
        "<!-- 7&#45;&gt;13 -->\n",
        "<g id=\"edge16\" class=\"edge\"><title>7&#45;&gt;13</title>\n",
        "<path fill=\"none\" stroke=\"black\" d=\"M378.285,-445.087C374.04,-436.361 368.846,-425.684 364.134,-415.997\"/>\n",
        "<polygon fill=\"black\" stroke=\"black\" points=\"367.156,-414.21 359.634,-406.748 360.862,-417.272 367.156,-414.21\"/>\n",
        "</g>\n",
        "<!-- 8 -->\n",
        "<g id=\"node18\" class=\"node\"><title>8</title>\n",
        "<ellipse fill=\"none\" stroke=\"black\" cx=\"423\" cy=\"-389\" rx=\"27\" ry=\"18.3848\"/>\n",
        "<text text-anchor=\"middle\" x=\"423\" y=\"-385.4\" font-family=\"Times Roman,serif\" font-size=\"14.00\">8</text>\n",
        "</g>\n",
        "<!-- 7&#45;&gt;8 -->\n",
        "<g id=\"edge18\" class=\"edge\"><title>7&#45;&gt;8</title>\n",
        "<path fill=\"none\" stroke=\"black\" d=\"M395.715,-445.087C399.96,-436.361 405.154,-425.684 409.866,-415.997\"/>\n",
        "<polygon fill=\"black\" stroke=\"black\" points=\"413.138,-417.272 414.366,-406.748 406.844,-414.21 413.138,-417.272\"/>\n",
        "</g>\n",
        "<!-- 16 -->\n",
        "<g id=\"node20\" class=\"node\"><title>16</title>\n",
        "<ellipse fill=\"none\" stroke=\"black\" cx=\"495\" cy=\"-389\" rx=\"27\" ry=\"18.3848\"/>\n",
        "<text text-anchor=\"middle\" x=\"495\" y=\"-385.4\" font-family=\"Times Roman,serif\" font-size=\"14.00\">16</text>\n",
        "</g>\n",
        "<!-- 7&#45;&gt;16 -->\n",
        "<g id=\"edge20\" class=\"edge\"><title>7&#45;&gt;16</title>\n",
        "<path fill=\"none\" stroke=\"black\" d=\"M406.308,-449.77C423.355,-438.09 448.402,-420.928 467.534,-407.819\"/>\n",
        "<polygon fill=\"black\" stroke=\"black\" points=\"469.588,-410.655 475.859,-402.115 465.631,-404.88 469.588,-410.655\"/>\n",
        "</g>\n",
        "<!-- 10 -->\n",
        "<g id=\"node22\" class=\"node\"><title>10</title>\n",
        "<ellipse fill=\"none\" stroke=\"black\" cx=\"567\" cy=\"-389\" rx=\"27\" ry=\"18.3848\"/>\n",
        "<text text-anchor=\"middle\" x=\"567\" y=\"-385.4\" font-family=\"Times Roman,serif\" font-size=\"14.00\">10</text>\n",
        "</g>\n",
        "<!-- 7&#45;&gt;10 -->\n",
        "<g id=\"edge22\" class=\"edge\"><title>7&#45;&gt;10</title>\n",
        "<path fill=\"none\" stroke=\"black\" d=\"M411.315,-454.726C440.241,-444.651 489.801,-426.658 531,-408 532.835,-407.169 534.707,-406.288 536.586,-405.377\"/>\n",
        "<polygon fill=\"black\" stroke=\"black\" points=\"538.539,-408.313 545.891,-400.684 535.386,-402.063 538.539,-408.313\"/>\n",
        "</g>\n",
        "<!-- 21 -->\n",
        "<g id=\"node28\" class=\"node\"><title>21</title>\n",
        "<ellipse fill=\"none\" stroke=\"black\" cx=\"207\" cy=\"-315\" rx=\"27\" ry=\"18.3848\"/>\n",
        "<text text-anchor=\"middle\" x=\"207\" y=\"-311.4\" font-family=\"Times Roman,serif\" font-size=\"14.00\">21</text>\n",
        "</g>\n",
        "<!-- 18&#45;&gt;21 -->\n",
        "<g id=\"edge28\" class=\"edge\"><title>18&#45;&gt;21</title>\n",
        "<path fill=\"none\" stroke=\"black\" d=\"M263.731,-373.307C253.64,-362.935 240.253,-349.176 229.017,-337.628\"/>\n",
        "<polygon fill=\"black\" stroke=\"black\" points=\"231.483,-335.144 222,-330.417 226.465,-340.025 231.483,-335.144\"/>\n",
        "</g>\n",
        "<!-- 19 -->\n",
        "<g id=\"node30\" class=\"node\"><title>19</title>\n",
        "<ellipse fill=\"none\" stroke=\"black\" cx=\"279\" cy=\"-315\" rx=\"27\" ry=\"18.3848\"/>\n",
        "<text text-anchor=\"middle\" x=\"279\" y=\"-311.4\" font-family=\"Times Roman,serif\" font-size=\"14.00\">19</text>\n",
        "</g>\n",
        "<!-- 18&#45;&gt;19 -->\n",
        "<g id=\"edge30\" class=\"edge\"><title>18&#45;&gt;19</title>\n",
        "<path fill=\"none\" stroke=\"black\" d=\"M279,-370.327C279,-362.264 279,-352.648 279,-343.711\"/>\n",
        "<polygon fill=\"black\" stroke=\"black\" points=\"282.5,-343.667 279,-333.667 275.5,-343.667 282.5,-343.667\"/>\n",
        "</g>\n",
        "<!-- 14 -->\n",
        "<g id=\"node26\" class=\"node\"><title>14</title>\n",
        "<ellipse fill=\"none\" stroke=\"black\" cx=\"351\" cy=\"-315\" rx=\"27\" ry=\"18.3848\"/>\n",
        "<text text-anchor=\"middle\" x=\"351\" y=\"-311.4\" font-family=\"Times Roman,serif\" font-size=\"14.00\">14</text>\n",
        "</g>\n",
        "<!-- 13&#45;&gt;14 -->\n",
        "<g id=\"edge26\" class=\"edge\"><title>13&#45;&gt;14</title>\n",
        "<path fill=\"none\" stroke=\"black\" d=\"M351,-370.327C351,-362.264 351,-352.648 351,-343.711\"/>\n",
        "<polygon fill=\"black\" stroke=\"black\" points=\"354.5,-343.667 351,-333.667 347.5,-343.667 354.5,-343.667\"/>\n",
        "</g>\n",
        "<!-- 11 -->\n",
        "<g id=\"node24\" class=\"node\"><title>11</title>\n",
        "<ellipse fill=\"none\" stroke=\"black\" cx=\"567\" cy=\"-315\" rx=\"27\" ry=\"18.3848\"/>\n",
        "<text text-anchor=\"middle\" x=\"567\" y=\"-311.4\" font-family=\"Times Roman,serif\" font-size=\"14.00\">11</text>\n",
        "</g>\n",
        "<!-- 10&#45;&gt;11 -->\n",
        "<g id=\"edge24\" class=\"edge\"><title>10&#45;&gt;11</title>\n",
        "<path fill=\"none\" stroke=\"black\" d=\"M567,-370.327C567,-362.264 567,-352.648 567,-343.711\"/>\n",
        "<polygon fill=\"black\" stroke=\"black\" points=\"570.5,-343.667 567,-333.667 563.5,-343.667 570.5,-343.667\"/>\n",
        "</g>\n",
        "<!-- 29 -->\n",
        "<g id=\"node32\" class=\"node\"><title>29</title>\n",
        "<ellipse fill=\"none\" stroke=\"black\" cx=\"171\" cy=\"-241\" rx=\"27\" ry=\"18.3848\"/>\n",
        "<text text-anchor=\"middle\" x=\"171\" y=\"-237.4\" font-family=\"Times Roman,serif\" font-size=\"14.00\">29</text>\n",
        "</g>\n",
        "<!-- 21&#45;&gt;29 -->\n",
        "<g id=\"edge32\" class=\"edge\"><title>21&#45;&gt;29</title>\n",
        "<path fill=\"none\" stroke=\"black\" d=\"M198.285,-297.087C194.04,-288.361 188.846,-277.684 184.134,-267.997\"/>\n",
        "<polygon fill=\"black\" stroke=\"black\" points=\"187.156,-266.21 179.634,-258.748 180.862,-269.272 187.156,-266.21\"/>\n",
        "</g>\n",
        "<!-- 22 -->\n",
        "<g id=\"node34\" class=\"node\"><title>22</title>\n",
        "<ellipse fill=\"none\" stroke=\"black\" cx=\"279\" cy=\"-241\" rx=\"27\" ry=\"18.3848\"/>\n",
        "<text text-anchor=\"middle\" x=\"279\" y=\"-237.4\" font-family=\"Times Roman,serif\" font-size=\"14.00\">22</text>\n",
        "</g>\n",
        "<!-- 21&#45;&gt;22 -->\n",
        "<g id=\"edge34\" class=\"edge\"><title>21&#45;&gt;22</title>\n",
        "<path fill=\"none\" stroke=\"black\" d=\"M222.269,-299.307C232.36,-288.935 245.747,-275.176 256.983,-263.628\"/>\n",
        "<polygon fill=\"black\" stroke=\"black\" points=\"259.535,-266.025 264,-256.417 254.517,-261.144 259.535,-266.025\"/>\n",
        "</g>\n",
        "<!-- 30 -->\n",
        "<g id=\"node42\" class=\"node\"><title>30</title>\n",
        "<ellipse fill=\"none\" stroke=\"black\" cx=\"99\" cy=\"-167\" rx=\"27\" ry=\"18.3848\"/>\n",
        "<text text-anchor=\"middle\" x=\"99\" y=\"-163.4\" font-family=\"Times Roman,serif\" font-size=\"14.00\">30</text>\n",
        "</g>\n",
        "<!-- 29&#45;&gt;30 -->\n",
        "<g id=\"edge42\" class=\"edge\"><title>29&#45;&gt;30</title>\n",
        "<path fill=\"none\" stroke=\"black\" d=\"M155.731,-225.307C145.64,-214.935 132.253,-201.176 121.017,-189.628\"/>\n",
        "<polygon fill=\"black\" stroke=\"black\" points=\"123.483,-187.144 114,-182.417 118.465,-192.025 123.483,-187.144\"/>\n",
        "</g>\n",
        "<!-- 32 -->\n",
        "<g id=\"node44\" class=\"node\"><title>32</title>\n",
        "<ellipse fill=\"none\" stroke=\"black\" cx=\"171\" cy=\"-167\" rx=\"27\" ry=\"18.3848\"/>\n",
        "<text text-anchor=\"middle\" x=\"171\" y=\"-163.4\" font-family=\"Times Roman,serif\" font-size=\"14.00\">32</text>\n",
        "</g>\n",
        "<!-- 29&#45;&gt;32 -->\n",
        "<g id=\"edge44\" class=\"edge\"><title>29&#45;&gt;32</title>\n",
        "<path fill=\"none\" stroke=\"black\" d=\"M171,-222.327C171,-214.264 171,-204.648 171,-195.711\"/>\n",
        "<polygon fill=\"black\" stroke=\"black\" points=\"174.5,-195.667 171,-185.667 167.5,-195.667 174.5,-195.667\"/>\n",
        "</g>\n",
        "<!-- 23 -->\n",
        "<g id=\"node36\" class=\"node\"><title>23</title>\n",
        "<ellipse fill=\"none\" stroke=\"black\" cx=\"243\" cy=\"-167\" rx=\"27\" ry=\"18.3848\"/>\n",
        "<text text-anchor=\"middle\" x=\"243\" y=\"-163.4\" font-family=\"Times Roman,serif\" font-size=\"14.00\">23</text>\n",
        "</g>\n",
        "<!-- 22&#45;&gt;23 -->\n",
        "<g id=\"edge36\" class=\"edge\"><title>22&#45;&gt;23</title>\n",
        "<path fill=\"none\" stroke=\"black\" d=\"M270.285,-223.087C266.04,-214.361 260.846,-203.684 256.134,-193.997\"/>\n",
        "<polygon fill=\"black\" stroke=\"black\" points=\"259.156,-192.21 251.634,-184.748 252.862,-195.272 259.156,-192.21\"/>\n",
        "</g>\n",
        "<!-- 27 -->\n",
        "<g id=\"node38\" class=\"node\"><title>27</title>\n",
        "<ellipse fill=\"none\" stroke=\"black\" cx=\"315\" cy=\"-167\" rx=\"27\" ry=\"18.3848\"/>\n",
        "<text text-anchor=\"middle\" x=\"315\" y=\"-163.4\" font-family=\"Times Roman,serif\" font-size=\"14.00\">27</text>\n",
        "</g>\n",
        "<!-- 22&#45;&gt;27 -->\n",
        "<g id=\"edge38\" class=\"edge\"><title>22&#45;&gt;27</title>\n",
        "<path fill=\"none\" stroke=\"black\" d=\"M287.715,-223.087C291.96,-214.361 297.154,-203.684 301.866,-193.997\"/>\n",
        "<polygon fill=\"black\" stroke=\"black\" points=\"305.138,-195.272 306.366,-184.748 298.844,-192.21 305.138,-195.272\"/>\n",
        "</g>\n",
        "<!-- 25 -->\n",
        "<g id=\"node40\" class=\"node\"><title>25</title>\n",
        "<ellipse fill=\"none\" stroke=\"black\" cx=\"387\" cy=\"-167\" rx=\"27\" ry=\"18.3848\"/>\n",
        "<text text-anchor=\"middle\" x=\"387\" y=\"-163.4\" font-family=\"Times Roman,serif\" font-size=\"14.00\">25</text>\n",
        "</g>\n",
        "<!-- 22&#45;&gt;25 -->\n",
        "<g id=\"edge40\" class=\"edge\"><title>22&#45;&gt;25</title>\n",
        "<path fill=\"none\" stroke=\"black\" d=\"M298.308,-227.77C315.355,-216.09 340.402,-198.928 359.534,-185.819\"/>\n",
        "<polygon fill=\"black\" stroke=\"black\" points=\"361.588,-188.655 367.859,-180.115 357.631,-182.88 361.588,-188.655\"/>\n",
        "</g>\n",
        "<!-- 35 -->\n",
        "<g id=\"node46\" class=\"node\"><title>35</title>\n",
        "<ellipse fill=\"none\" stroke=\"black\" cx=\"63\" cy=\"-93\" rx=\"27\" ry=\"18.3848\"/>\n",
        "<text text-anchor=\"middle\" x=\"63\" y=\"-89.4\" font-family=\"Times Roman,serif\" font-size=\"14.00\">35</text>\n",
        "</g>\n",
        "<!-- 32&#45;&gt;35 -->\n",
        "<g id=\"edge46\" class=\"edge\"><title>32&#45;&gt;35</title>\n",
        "<path fill=\"none\" stroke=\"black\" d=\"M151.692,-153.77C134.645,-142.09 109.598,-124.928 90.4656,-111.819\"/>\n",
        "<polygon fill=\"black\" stroke=\"black\" points=\"92.3687,-108.88 82.1411,-106.115 88.4121,-114.655 92.3687,-108.88\"/>\n",
        "</g>\n",
        "<!-- 42 -->\n",
        "<g id=\"node48\" class=\"node\"><title>42</title>\n",
        "<ellipse fill=\"none\" stroke=\"black\" cx=\"135\" cy=\"-93\" rx=\"27\" ry=\"18.3848\"/>\n",
        "<text text-anchor=\"middle\" x=\"135\" y=\"-89.4\" font-family=\"Times Roman,serif\" font-size=\"14.00\">42</text>\n",
        "</g>\n",
        "<!-- 32&#45;&gt;42 -->\n",
        "<g id=\"edge48\" class=\"edge\"><title>32&#45;&gt;42</title>\n",
        "<path fill=\"none\" stroke=\"black\" d=\"M162.285,-149.087C158.04,-140.361 152.846,-129.684 148.134,-119.997\"/>\n",
        "<polygon fill=\"black\" stroke=\"black\" points=\"151.156,-118.21 143.634,-110.748 144.862,-121.272 151.156,-118.21\"/>\n",
        "</g>\n",
        "<!-- 40 -->\n",
        "<g id=\"node50\" class=\"node\"><title>40</title>\n",
        "<ellipse fill=\"none\" stroke=\"black\" cx=\"207\" cy=\"-93\" rx=\"27\" ry=\"18.3848\"/>\n",
        "<text text-anchor=\"middle\" x=\"207\" y=\"-89.4\" font-family=\"Times Roman,serif\" font-size=\"14.00\">40</text>\n",
        "</g>\n",
        "<!-- 32&#45;&gt;40 -->\n",
        "<g id=\"edge50\" class=\"edge\"><title>32&#45;&gt;40</title>\n",
        "<path fill=\"none\" stroke=\"black\" d=\"M179.715,-149.087C183.96,-140.361 189.154,-129.684 193.866,-119.997\"/>\n",
        "<polygon fill=\"black\" stroke=\"black\" points=\"197.138,-121.272 198.366,-110.748 190.844,-118.21 197.138,-121.272\"/>\n",
        "</g>\n",
        "<!-- 33 -->\n",
        "<g id=\"node52\" class=\"node\"><title>33</title>\n",
        "<ellipse fill=\"none\" stroke=\"black\" cx=\"279\" cy=\"-93\" rx=\"27\" ry=\"18.3848\"/>\n",
        "<text text-anchor=\"middle\" x=\"279\" y=\"-89.4\" font-family=\"Times Roman,serif\" font-size=\"14.00\">33</text>\n",
        "</g>\n",
        "<!-- 32&#45;&gt;33 -->\n",
        "<g id=\"edge52\" class=\"edge\"><title>32&#45;&gt;33</title>\n",
        "<path fill=\"none\" stroke=\"black\" d=\"M190.308,-153.77C207.355,-142.09 232.402,-124.928 251.534,-111.819\"/>\n",
        "<polygon fill=\"black\" stroke=\"black\" points=\"253.588,-114.655 259.859,-106.115 249.631,-108.88 253.588,-114.655\"/>\n",
        "</g>\n",
        "<!-- 38 -->\n",
        "<g id=\"node54\" class=\"node\"><title>38</title>\n",
        "<ellipse fill=\"none\" stroke=\"black\" cx=\"27\" cy=\"-19\" rx=\"27\" ry=\"18.3848\"/>\n",
        "<text text-anchor=\"middle\" x=\"27\" y=\"-15.4\" font-family=\"Times Roman,serif\" font-size=\"14.00\">38</text>\n",
        "</g>\n",
        "<!-- 35&#45;&gt;38 -->\n",
        "<g id=\"edge54\" class=\"edge\"><title>35&#45;&gt;38</title>\n",
        "<path fill=\"none\" stroke=\"black\" d=\"M54.2854,-75.0867C50.0403,-66.3607 44.8464,-55.6843 40.1337,-45.9971\"/>\n",
        "<polygon fill=\"black\" stroke=\"black\" points=\"43.1564,-44.2096 35.6343,-36.7484 36.8617,-47.2719 43.1564,-44.2096\"/>\n",
        "</g>\n",
        "<!-- 36 -->\n",
        "<g id=\"node56\" class=\"node\"><title>36</title>\n",
        "<ellipse fill=\"none\" stroke=\"black\" cx=\"99\" cy=\"-19\" rx=\"27\" ry=\"18.3848\"/>\n",
        "<text text-anchor=\"middle\" x=\"99\" y=\"-15.4\" font-family=\"Times Roman,serif\" font-size=\"14.00\">36</text>\n",
        "</g>\n",
        "<!-- 35&#45;&gt;36 -->\n",
        "<g id=\"edge56\" class=\"edge\"><title>35&#45;&gt;36</title>\n",
        "<path fill=\"none\" stroke=\"black\" d=\"M71.7146,-75.0867C75.9597,-66.3607 81.1536,-55.6843 85.8663,-45.9971\"/>\n",
        "<polygon fill=\"black\" stroke=\"black\" points=\"89.1383,-47.2719 90.3657,-36.7484 82.8436,-44.2096 89.1383,-47.2719\"/>\n",
        "</g>\n",
        "</g>\n",
        "</svg>\n"
       ]
      }
     ],
     "prompt_number": 38
    },
    {
     "cell_type": "heading",
     "level": 1,
     "metadata": {},
     "source": [
      "Problem: RST-DT files are untokenized"
     ]
    },
    {
     "cell_type": "markdown",
     "metadata": {},
     "source": [
      "- try StanfordNLP's PTBTokenizer  \n",
      "  http://nlp.stanford.edu/software/tokenizer.shtml\n",
      "- alternatively, try  \n",
      "  https://github.com/EducationalTestingService/match"
     ]
    },
    {
     "cell_type": "markdown",
     "metadata": {},
     "source": [
      "```python\n",
      "rdg = dg.read_rs3(RST_TEST_FILE)\n",
      "pdg = dg.read_ptb(PTB_WSJ_TEST_FILE)\n",
      "rdg.merge_graphs(pdg)\n",
      "\n",
      "---------------------------------------------------------------------------\n",
      "ValueError                                Traceback (most recent call last)\n",
      "<ipython-input-20-d2261e9abd4f> in <module>()\n",
      "      1 rdg = dg.read_rs3(RST_TEST_FILE)\n",
      "      2 pdg = dg.read_ptb(PTB_WSJ_TEST_FILE)\n",
      "----> 3 rdg.merge_graphs(pdg)\n",
      "\n",
      "/usr/local/lib/python2.7/dist-packages/discoursegraphs-0.1.2-py2.7.egg/discoursegraphs/discoursegraph.pyc in merge_graphs(self, other_docgraph)\n",
      "    554         \"\"\"\n",
      "    555         # renaming the tokens of the other graph to match this one\n",
      "--> 556         rename_tokens(other_docgraph, self)\n",
      "    557         self.add_nodes_from(other_docgraph.nodes(data=True))\n",
      "    558 \n",
      "\n",
      "/usr/local/lib/python2.7/dist-packages/discoursegraphs-0.1.2-py2.7.egg/discoursegraphs/discoursegraph.pyc in rename_tokens(docgraph_with_old_names, docgraph_with_new_names)\n",
      "    602     \"\"\"\n",
      "    603     old2new = create_token_mapping(docgraph_with_old_names,\n",
      "--> 604                                    docgraph_with_new_names)\n",
      "    605     relabel_nodes(docgraph_with_old_names, old2new, copy=False)\n",
      "    606     new_token_ids = old2new.values()\n",
      "\n",
      "/usr/local/lib/python2.7/dist-packages/discoursegraphs-0.1.2-py2.7.egg/discoursegraphs/discoursegraph.pyc in create_token_mapping(docgraph_with_old_names, docgraph_with_new_names)\n",
      "    644                     docgraph_with_new_names.name, docgraph_with_new_names.ns,\n",
      "    645                     docgraph_with_old_names.name, docgraph_with_old_names.ns,\n",
      "--> 646                     new_tok, old_tok).encode('utf-8'))\n",
      "    647         else:\n",
      "    648             old2new[old_tok_id] = new_tok_id\n",
      "\n",
      "ValueError: Tokenization mismatch: wsj_1337.rs3 (rst) vs. wsj_1337.mrg (ptb)\n",
      "\tMonday, != Monday\n",
      "```"
     ]
    },
    {
     "cell_type": "heading",
     "level": 1,
     "metadata": {},
     "source": [
      "Tokenize RST-DT files with Stanford CoreNLP"
     ]
    },
    {
     "cell_type": "code",
     "collapsed": false,
     "input": [
      "from simplejson import loads\n",
      "\n",
      "import corenlp\n",
      "from corenlp import StanfordCoreNLP\n",
      "cnlp = StanfordCoreNLP()  # wait a few minutes..."
     ],
     "language": "python",
     "metadata": {},
     "outputs": [
      {
       "output_type": "stream",
       "stream": "stderr",
       "text": [
        "Loading Models: 0/5                                                            \r",
        "Loading Models: 1/5                                                            \r"
       ]
      },
      {
       "output_type": "stream",
       "stream": "stderr",
       "text": [
        "Loading Models: 2/5                                                            \r",
        "Loading Models: 3/5                                                            \r"
       ]
      },
      {
       "output_type": "stream",
       "stream": "stderr",
       "text": [
        "Loading Models: 4/5                                                            \r",
        "Loading Models: 5/5                                                            \n"
       ]
      }
     ],
     "prompt_number": 39
    },
    {
     "cell_type": "code",
     "collapsed": false,
     "input": [
      "from discoursegraphs.readwrite.rst import get_edus\n",
      "\n",
      "rdg_untokenized = dg.read_rs3(RST_TEST_FILE, tokenize=False)"
     ],
     "language": "python",
     "metadata": {},
     "outputs": [],
     "prompt_number": 40
    },
    {
     "cell_type": "code",
     "collapsed": false,
     "input": [
      "rdg_untokenized.node['rst:138']"
     ],
     "language": "python",
     "metadata": {},
     "outputs": [
      {
       "metadata": {},
       "output_type": "pyout",
       "prompt_number": 41,
       "text": [
        "{'label': u'[s]:138: before the August tr...',\n",
        " 'layers': {'rst', 'rst:segment'},\n",
        " 'rst:segment_type': 'satellite',\n",
        " 'rst:text': u'before the August trade figures were released.'}"
       ]
      }
     ],
     "prompt_number": 41
    },
    {
     "cell_type": "code",
     "collapsed": false,
     "input": [
      "# for edu_root_node in get_edus(rdg_untokenized):\n",
      "#     edu_str = rdg_untokenized.node[edu_root_node]['rst:text']\n",
      "# #     print edu_root_node\n",
      "# #     print edu_str\n",
      "#     result_str = cnlp.parse(edu_str.encode('utf-8'))\n",
      "#     result_sentences = loads(result_str)['sentences']\n",
      "#     for sentence in result_sentences:\n",
      "#         tokenized_sentence = u' '.join(word for (word, annotations) in sentence['words'])\n"
     ],
     "language": "python",
     "metadata": {},
     "outputs": [],
     "prompt_number": 42
    },
    {
     "cell_type": "code",
     "collapsed": false,
     "input": [
      "%time\n",
      "from lxml import etree\n",
      "import simplejson\n",
      "import codecs\n",
      "\n",
      "for folder in ('TEST', 'TRAINING'):\n",
      "    for rst_file in glob.glob(os.path.join(RST_ROOT_DIR, 'untokenized', folder, '*.rs3')):\n",
      "        tree = etree.parse(rst_file)\n",
      "        for segment in tree.iter('segment'):\n",
      "            untokenized_segment = segment.text\n",
      "#             print untokenized_segment\n",
      "            corenlp_result = cnlp.parse(untokenized_segment)\n",
      "            segment.text = u' '.join(word\n",
      "                                     for sentence in simplejson.loads(corenlp_result)['sentences']\n",
      "                                     for (word, annotations) in sentence['words'])\n",
      "#             print segment.text, '\\n\\n'\n",
      "        output_dir = os.path.join(RST_ROOT_DIR, 'tokenized', folder)\n",
      "        dg.util.create_dir(output_dir)\n",
      "        with codecs.open(os.path.join(output_dir, os.path.basename(rst_file)), 'w', encoding='utf-8') as outfile:\n",
      "            outfile.write(etree.tounicode(tree, pretty_print=True))"
     ],
     "language": "python",
     "metadata": {},
     "outputs": [
      {
       "output_type": "stream",
       "stream": "stdout",
       "text": [
        "CPU times: user 0 ns, sys: 0 ns, total: 0 ns\n",
        "Wall time: 5.01 \u00b5s\n"
       ]
      }
     ],
     "prompt_number": 44
    },
    {
     "cell_type": "code",
     "collapsed": false,
     "input": [],
     "language": "python",
     "metadata": {},
     "outputs": []
    }
   ],
   "metadata": {}
  }
 ]
}