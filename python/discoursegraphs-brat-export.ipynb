{
 "metadata": {
  "name": "",
  "signature": "sha256:f495fce1adc41bd5c75c4b8ee94ca2528d53648b771eaa1605e2d120a36d2643"
 },
 "nbformat": 3,
 "nbformat_minor": 0,
 "worksheets": [
  {
   "cells": [
    {
     "cell_type": "code",
     "collapsed": false,
     "input": [
      "import os\n",
      "import sys\n",
      "import glob\n",
      "import discoursegraphs as dg"
     ],
     "language": "python",
     "metadata": {},
     "outputs": [],
     "prompt_number": 7
    },
    {
     "cell_type": "code",
     "collapsed": false,
     "input": [
      "MMAX_TESTFILE = os.path.expanduser('~/corpora/potsdam-commentary-corpus-2.0.0/coreference/maz-1423.mmax')\n",
      "mdg = dg.read_mmax2(MMAX_TESTFILE)"
     ],
     "language": "python",
     "metadata": {},
     "outputs": [],
     "prompt_number": 9
    },
    {
     "cell_type": "code",
     "collapsed": false,
     "input": [
      "MMAX_DIR = os.path.expanduser('~/corpora/potsdam-commentary-corpus-2.0.0/coreference/')\n",
      "CONLL_DIR = os.path.expanduser('/home/arne/repos/pcc-annis-merged/maz176/pocores/expected-coreference-conll/')"
     ],
     "language": "python",
     "metadata": {},
     "outputs": [],
     "prompt_number": 13
    },
    {
     "cell_type": "code",
     "collapsed": false,
     "input": [
      "# for mmax_file in glob.glob(os.path.join(MMAX_DIR, '*.mmax')):\n",
      "#     dg.write_brat(mdg, '/tmp/brat/mmax2brat', show_relations=False)"
     ],
     "language": "python",
     "metadata": {},
     "outputs": [],
     "prompt_number": 12
    },
    {
     "cell_type": "code",
     "collapsed": false,
     "input": [
      "# for conll_file in glob.glob(os.path.join(CONLL_DIR, '*.expected')):\n",
      "#     cdg = dg.read_conll(conll_file)\n",
      "#     dg.write_brat(cdg, '/tmp/brat/conll2brat', show_relations=False)"
     ],
     "language": "python",
     "metadata": {},
     "outputs": [],
     "prompt_number": 18
    },
    {
     "cell_type": "code",
     "collapsed": false,
     "input": [
      "CONLL_TESTFILE = os.path.join(CONLL_DIR, 'maz-1423.expected')"
     ],
     "language": "python",
     "metadata": {},
     "outputs": [],
     "prompt_number": 19
    },
    {
     "cell_type": "code",
     "collapsed": false,
     "input": [
      "cdg = dg.read_conll(CONLL_TESTFILE)"
     ],
     "language": "python",
     "metadata": {},
     "outputs": [],
     "prompt_number": 20
    },
    {
     "cell_type": "code",
     "collapsed": false,
     "input": [
      "dg.info(cdg)"
     ],
     "language": "python",
     "metadata": {},
     "outputs": [
      {
       "output_type": "stream",
       "stream": "stdout",
       "text": [
        "Name: maz-1423.expected\n",
        "Type: ConllDocumentGraph\n",
        "Number of nodes: 218\n",
        "Number of edges: 201\n",
        "Average in degree:   0.9220\n",
        "Average out degree:   0.9220 \n",
        "\n",
        "Node statistics\n",
        "===============\n",
        "\n",
        "number of nodes with layers\n",
        "\tconll - 217\n",
        "\tconll:token - 185\n",
        "\tconll:sentence - 16\n",
        "\tdiscoursegraph - 1\n",
        "\n",
        "number of nodes with attributes\n",
        "\tlayers - 218\n",
        "\tplemma - 185\n",
        "\tword_pos - 185\n",
        "\tconll:token - 185\n",
        "\thead - 185\n",
        "\tpred - 185\n",
        "\tpos - 185\n",
        "\tfillpred - 185\n",
        "\tpfeat - 185\n",
        "\tlemma - 185\n",
        "\ttoken - 185\n",
        "\tphead - 185\n",
        "\tlabel - 185\n",
        "\tsent_pos - 185\n",
        "\tppos - 185\n",
        "\tpdeprel - 185\n",
        "\tfeat - 185\n",
        "\tdeprel - 185\n",
        "\tword_id - 185\n",
        "\ttokens - 16\n",
        "\tmetadata - 1\n",
        "\n",
        "Edge statistics\n",
        "===============\n",
        "\n",
        "number of edges with layers\n",
        "\tconll - 201\n",
        "\tconll:dependency - 185\n",
        "\tconll:sentence - 16\n",
        "\n",
        "number of edges with attributes\n",
        "\tlayers - 201\n",
        "\tedge_type - 201\n",
        "\trelation_type - 185\n",
        "\tlabel - 185\n",
        "\n",
        "most common source edges\n",
        "\ts1_t_ - 24\n",
        "\ts13_t_ - 20\n",
        "\ts14_t_ - 20\n",
        "\tconll:root_node - 16\n",
        "\ts6_t_ - 15\n",
        "\n",
        "most common target edges\n",
        "\ts7_t12 - 1\n",
        "\ts7_t10 - 1\n",
        "\ts7_t11 - 1\n",
        "\ts7_t4 - 1\n",
        "\ts7_t5 - 1\n"
       ]
      }
     ],
     "prompt_number": 21
    },
    {
     "cell_type": "code",
     "collapsed": false,
     "input": [
      "dg.get_pointing_chains(cdg)"
     ],
     "language": "python",
     "metadata": {},
     "outputs": [
      {
       "metadata": {},
       "output_type": "pyout",
       "prompt_number": 22,
       "text": [
        "[]"
       ]
      }
     ],
     "prompt_number": 22
    },
    {
     "cell_type": "code",
     "collapsed": false,
     "input": [],
     "language": "python",
     "metadata": {},
     "outputs": []
    }
   ],
   "metadata": {}
  }
 ]
}