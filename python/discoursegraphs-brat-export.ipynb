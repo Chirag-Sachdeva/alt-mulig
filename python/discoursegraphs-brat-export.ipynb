{
 "metadata": {
  "name": "",
  "signature": "sha256:b658a6b1d680bf09cbacbc51f79fae7c33116f855e3f1830e0242b94c5d5bfcd"
 },
 "nbformat": 3,
 "nbformat_minor": 0,
 "worksheets": [
  {
   "cells": [
    {
     "cell_type": "code",
     "collapsed": false,
     "input": [
      "import os\n",
      "import discoursegraphs as dg"
     ],
     "language": "python",
     "metadata": {},
     "outputs": [],
     "prompt_number": 8
    },
    {
     "cell_type": "code",
     "collapsed": false,
     "input": [
      "MMAX_TESTFILE = os.path.expanduser('~/corpora/potsdam-commentary-corpus-2.0.0/coreference/maz-1423.mmax')"
     ],
     "language": "python",
     "metadata": {},
     "outputs": [],
     "prompt_number": 9
    },
    {
     "cell_type": "code",
     "collapsed": false,
     "input": [
      "mdg = dg.read_mmax2(MMAX_TESTFILE)"
     ],
     "language": "python",
     "metadata": {},
     "outputs": [],
     "prompt_number": 10
    },
    {
     "cell_type": "code",
     "collapsed": false,
     "input": [
      "# dg.info(mdg)"
     ],
     "language": "python",
     "metadata": {},
     "outputs": [],
     "prompt_number": 11
    },
    {
     "cell_type": "heading",
     "level": 2,
     "metadata": {},
     "source": [
      "How to get the entities efficiently?"
     ]
    },
    {
     "cell_type": "code",
     "collapsed": false,
     "input": [
      "dg.get_pointing_chains(mdg)"
     ],
     "language": "python",
     "metadata": {},
     "outputs": [
      {
       "metadata": {},
       "output_type": "pyout",
       "prompt_number": 12,
       "text": [
        "[['markable_22',\n",
        "  'markable_19',\n",
        "  'markable_17',\n",
        "  'markable_14',\n",
        "  'markable_12',\n",
        "  'markable_11'],\n",
        " ['markable_21', 'markable_10', 'markable_8', 'markable_7', 'markable_2']]"
       ]
      }
     ],
     "prompt_number": 12
    },
    {
     "cell_type": "code",
     "collapsed": false,
     "input": [
      "import itertools"
     ],
     "language": "python",
     "metadata": {},
     "outputs": [],
     "prompt_number": 13
    },
    {
     "cell_type": "code",
     "collapsed": false,
     "input": [],
     "language": "python",
     "metadata": {},
     "outputs": [],
     "prompt_number": 13
    },
    {
     "cell_type": "code",
     "collapsed": false,
     "input": [
      "dg.get_pointing_chains(mdg, 'mmax')"
     ],
     "language": "python",
     "metadata": {},
     "outputs": [
      {
       "metadata": {},
       "output_type": "pyout",
       "prompt_number": 14,
       "text": [
        "[['markable_22',\n",
        "  'markable_19',\n",
        "  'markable_17',\n",
        "  'markable_14',\n",
        "  'markable_12',\n",
        "  'markable_11'],\n",
        " ['markable_21', 'markable_10', 'markable_8', 'markable_7', 'markable_2']]"
       ]
      }
     ],
     "prompt_number": 14
    },
    {
     "cell_type": "code",
     "collapsed": false,
     "input": [
      "dg.get_pointing_chains(mdg, 'discoursegraph')"
     ],
     "language": "python",
     "metadata": {},
     "outputs": [
      {
       "metadata": {},
       "output_type": "pyout",
       "prompt_number": 15,
       "text": [
        "[]"
       ]
      }
     ],
     "prompt_number": 15
    },
    {
     "cell_type": "code",
     "collapsed": false,
     "input": [
      "import itertools\n",
      "from unidecode import unidecode\n",
      "from discoursegraphs.readwrite.mmax2 import spanstring2text, spanstring2tokens\n",
      "\n",
      "\n",
      "def brat_output(docgraph, layer=None):\n",
      "    \"\"\"\n",
      "    converts a document graph with pointing chains into a string representation\n",
      "    of a brat *.ann file.\n",
      "    \n",
      "    Parameters\n",
      "    ----------\n",
      "    docgraph : DiscourseDocumentGraph\n",
      "        a document graph which might contain pointing chains (e.g. coreference links)\n",
      "    layer : str or None\n",
      "        the name of the layer that contains the pointing chains (e.g. 'mmax' or 'pocores').\n",
      "        If unspecified, all pointing chains in the document will be considered\n",
      "\n",
      "    Returns\n",
      "    -------\n",
      "    ret_str : unicode\n",
      "        the content of a brat *.ann file\n",
      "    anno_conf : unicode\n",
      "        the content of a brat annotation.conf file\n",
      "    \"\"\"\n",
      "    ret_str = u''\n",
      "    markables = sorted(itertools.chain(*dg.get_pointing_chains(docgraph, layer=layer)),\n",
      "                       key=dg.util.natural_sort_key)\n",
      "    markable_strings = []\n",
      "    \n",
      "    # map from a token ID to a (markable ID, markable text, span length) tuple of its span,\n",
      "    # iff it is the first token of that span. Otherwise, it just maps to the markable ID\n",
      "    token2markable = {}\n",
      "    for markable in markables:\n",
      "        span_tokens = spanstring2tokens(docgraph, docgraph.node[markable][docgraph.ns+':span'])\n",
      "        span_text = dg.tokens2text(docgraph, span_tokens)\n",
      "        markable_strings.append(span_text)\n",
      "        token2markable[span_tokens[0]] = (markable, span_text, len(span_text))\n",
      "\n",
      "        if len(span_tokens) > 1:\n",
      "            for token_id in span_tokens[1:]:\n",
      "                token2markable[token_id] = markable\n",
      "\n",
      "    onset = 0\n",
      "    for i, token_id in enumerate(docgraph.tokens, 1):\n",
      "        tok_len = len(docgraph.get_token(token_id))\n",
      "        if token_id in token2markable:\n",
      "            if isinstance(token2markable[token_id], tuple):\n",
      "                markable, mark_text, mark_len = token2markable[token_id]\n",
      "                ret_str += u\"T{}\\t{} {} {}\\t{}\\n\".format(\n",
      "                    i, unidecode(mark_text), onset, onset+mark_len,\n",
      "                    mark_text)\n",
      "            else: # if the token is not the first token of the markable\n",
      "                pass\n",
      "        onset += tok_len+1\n",
      "    return ret_str, create_annotation_conf(markable_strings)"
     ],
     "language": "python",
     "metadata": {},
     "outputs": [],
     "prompt_number": 16
    },
    {
     "cell_type": "code",
     "collapsed": false,
     "input": [
      "def create_annotation_conf(markable_strings):\n",
      "    \"\"\"\n",
      "    given a list of markable strings, creates a brat\n",
      "    annotation.conf file (as a string)\n",
      "    \"\"\"\n",
      "    ret_str = u'[entities]\\n\\n'\n",
      "    for markable_string in markable_strings:     \n",
      "        ret_str += unidecode(markable_string) + '\\n'\n",
      "    ret_str += '\\n[relations]\\n\\n[events]\\n\\n[attributes]'\n",
      "    return ret_str"
     ],
     "language": "python",
     "metadata": {},
     "outputs": [],
     "prompt_number": 17
    },
    {
     "cell_type": "code",
     "collapsed": false,
     "input": [
      "# print create_annotation_conf(mdg)\n",
      "ann, anno_conf = brat_output(mdg)\n",
      "print ann\n",
      "print anno_conf"
     ],
     "language": "python",
     "metadata": {},
     "outputs": [
      {
       "output_type": "stream",
       "stream": "stdout",
       "text": [
        "T8\tdie neue Wittstocker Stadthalle 42 73\tdie neue Wittstocker Stadthalle\n",
        "T10\tWittstocker 51 62\tWittstocker\n",
        "T60\tfur den schmucken Veranstaltungsort 375 410\tf\u00fcr den schmucken Veranstaltungsort\n",
        "T73\tdie Halle 451 460\tdie Halle\n",
        "T94\tDie Halle 578 587\tDie Halle\n",
        "T101\tin der Region 616 629\tin der Region\n",
        "T116\tWittstock 712 721\tWittstock\n",
        "T149\tWittstock 896 905\tWittstock\n",
        "T160\tdie Dosse-Stadt 960 975\tdie Dosse-Stadt\n",
        "T177\tdie Halle 1094 1103\tdie Halle\n",
        "T180\tWittstock 1110 1119\tWittstock\n",
        "\n",
        "[entities]\n",
        "\n",
        "die neue Wittstocker Stadthalle\n",
        "fur den schmucken Veranstaltungsort\n",
        "die Halle\n",
        "Die Halle\n",
        "Wittstocker\n",
        "in der Region\n",
        "Wittstock\n",
        "Wittstock\n",
        "die Dosse-Stadt\n",
        "die Halle\n",
        "Wittstock\n",
        "\n",
        "[relations]\n",
        "\n",
        "[events]\n",
        "\n",
        "[attributes]\n"
       ]
      }
     ],
     "prompt_number": 18
    },
    {
     "cell_type": "code",
     "collapsed": false,
     "input": [
      "import brewer2mpl\n",
      "\n",
      "def create_visual_conf(docgraph, layer=None):\n",
      "    \"\"\"\n",
      "    creates a visual.conf file (as a string)\n",
      "    for the given document graph.\n",
      "    \"\"\"\n",
      "    ret_str = u'[drawing]\\n\\n'\n",
      "    \n",
      "    pointing_chains = dg.get_pointing_chains(docgraph, layer=layer)\n",
      "    num_of_entities = len(pointing_chains)\n",
      "    mapsize = min(num_of_entities, 12)\n",
      "    colormap = brewer2mpl.get_map(name='Paired', map_type='Qualitative', number=mapsize)\n",
      "    colors = range(mapsize) * int(math.ceil(num_of_entities / float(mapsize)))\n",
      "\n",
      "    for chain in pointing_chains:\n",
      "        background_color = colormap.hex_colors[colors[i]]\n",
      "        for markable in chain:\n",
      "            span_tokens = spanstring2tokens(docgraph, docgraph.node[markable][docgraph.ns+':span'])\n",
      "            span_text = dg.tokens2text(docgraph, span_tokens)\n",
      "            ascii_markable = unidecode(span_text)\n",
      "            ret_str += u'{}\\tbgColor:{}\\n'.format(ascii_markable,\n",
      "                                                  background_color)\n",
      "    ret_str += '\\n[labels]'\n",
      "    return ret_str"
     ],
     "language": "python",
     "metadata": {},
     "outputs": [],
     "prompt_number": 19
    },
    {
     "cell_type": "code",
     "collapsed": false,
     "input": [
      "create_visual_conf(mdg)"
     ],
     "language": "python",
     "metadata": {},
     "outputs": [
      {
       "ename": "ValueError",
       "evalue": "Invalid number for map type 'Qualitative' and name 'Paired'.\nValid numbers are : [3, 4, 5, 6, 7, 8, 9, 10, 11, 12]",
       "output_type": "pyerr",
       "traceback": [
        "\u001b[1;31m---------------------------------------------------------------------------\u001b[0m\n\u001b[1;31mValueError\u001b[0m                                Traceback (most recent call last)",
        "\u001b[1;32m<ipython-input-20-848a873d5269>\u001b[0m in \u001b[0;36m<module>\u001b[1;34m()\u001b[0m\n\u001b[1;32m----> 1\u001b[1;33m \u001b[0mcreate_visual_conf\u001b[0m\u001b[1;33m(\u001b[0m\u001b[0mmdg\u001b[0m\u001b[1;33m)\u001b[0m\u001b[1;33m\u001b[0m\u001b[0m\n\u001b[0m",
        "\u001b[1;32m<ipython-input-19-a7198a464287>\u001b[0m in \u001b[0;36mcreate_visual_conf\u001b[1;34m(docgraph, layer)\u001b[0m\n\u001b[0;32m     11\u001b[0m     \u001b[0mnum_of_entities\u001b[0m \u001b[1;33m=\u001b[0m \u001b[0mlen\u001b[0m\u001b[1;33m(\u001b[0m\u001b[0mpointing_chains\u001b[0m\u001b[1;33m)\u001b[0m\u001b[1;33m\u001b[0m\u001b[0m\n\u001b[0;32m     12\u001b[0m     \u001b[0mmapsize\u001b[0m \u001b[1;33m=\u001b[0m \u001b[0mmin\u001b[0m\u001b[1;33m(\u001b[0m\u001b[0mnum_of_entities\u001b[0m\u001b[1;33m,\u001b[0m \u001b[1;36m12\u001b[0m\u001b[1;33m)\u001b[0m\u001b[1;33m\u001b[0m\u001b[0m\n\u001b[1;32m---> 13\u001b[1;33m     \u001b[0mcolormap\u001b[0m \u001b[1;33m=\u001b[0m \u001b[0mbrewer2mpl\u001b[0m\u001b[1;33m.\u001b[0m\u001b[0mget_map\u001b[0m\u001b[1;33m(\u001b[0m\u001b[0mname\u001b[0m\u001b[1;33m=\u001b[0m\u001b[1;34m'Paired'\u001b[0m\u001b[1;33m,\u001b[0m \u001b[0mmap_type\u001b[0m\u001b[1;33m=\u001b[0m\u001b[1;34m'Qualitative'\u001b[0m\u001b[1;33m,\u001b[0m \u001b[0mnumber\u001b[0m\u001b[1;33m=\u001b[0m\u001b[0mmapsize\u001b[0m\u001b[1;33m)\u001b[0m\u001b[1;33m\u001b[0m\u001b[0m\n\u001b[0m\u001b[0;32m     14\u001b[0m     \u001b[0mcolors\u001b[0m \u001b[1;33m=\u001b[0m \u001b[0mrange\u001b[0m\u001b[1;33m(\u001b[0m\u001b[0mmapsize\u001b[0m\u001b[1;33m)\u001b[0m \u001b[1;33m*\u001b[0m \u001b[0mint\u001b[0m\u001b[1;33m(\u001b[0m\u001b[0mmath\u001b[0m\u001b[1;33m.\u001b[0m\u001b[0mceil\u001b[0m\u001b[1;33m(\u001b[0m\u001b[0mnum_of_entities\u001b[0m \u001b[1;33m/\u001b[0m \u001b[0mfloat\u001b[0m\u001b[1;33m(\u001b[0m\u001b[0mmapsize\u001b[0m\u001b[1;33m)\u001b[0m\u001b[1;33m)\u001b[0m\u001b[1;33m)\u001b[0m\u001b[1;33m\u001b[0m\u001b[0m\n\u001b[0;32m     15\u001b[0m \u001b[1;33m\u001b[0m\u001b[0m\n",
        "\u001b[1;32m/usr/local/lib/python2.7/dist-packages/brewer2mpl/brewer2mpl.pyc\u001b[0m in \u001b[0;36mget_map\u001b[1;34m(name, map_type, number, reverse)\u001b[0m\n\u001b[0;32m    286\u001b[0m         \u001b[0mvalid_numbers\u001b[0m\u001b[1;33m.\u001b[0m\u001b[0msort\u001b[0m\u001b[1;33m(\u001b[0m\u001b[1;33m)\u001b[0m\u001b[1;33m\u001b[0m\u001b[0m\n\u001b[0;32m    287\u001b[0m         \u001b[0ms\u001b[0m \u001b[1;33m+=\u001b[0m \u001b[1;34m'Valid numbers are : {0}'\u001b[0m\u001b[1;33m.\u001b[0m\u001b[0mformat\u001b[0m\u001b[1;33m(\u001b[0m\u001b[0mvalid_numbers\u001b[0m\u001b[1;33m)\u001b[0m\u001b[1;33m\u001b[0m\u001b[0m\n\u001b[1;32m--> 288\u001b[1;33m         \u001b[1;32mraise\u001b[0m \u001b[0mValueError\u001b[0m\u001b[1;33m(\u001b[0m\u001b[0ms\u001b[0m\u001b[1;33m)\u001b[0m\u001b[1;33m\u001b[0m\u001b[0m\n\u001b[0m\u001b[0;32m    289\u001b[0m \u001b[1;33m\u001b[0m\u001b[0m\n\u001b[0;32m    290\u001b[0m     \u001b[0mcolors\u001b[0m \u001b[1;33m=\u001b[0m \u001b[0mCOLOR_MAPS\u001b[0m\u001b[1;33m[\u001b[0m\u001b[0mmap_type\u001b[0m\u001b[1;33m]\u001b[0m\u001b[1;33m[\u001b[0m\u001b[0mname\u001b[0m\u001b[1;33m]\u001b[0m\u001b[1;33m[\u001b[0m\u001b[0mnumber\u001b[0m\u001b[1;33m]\u001b[0m\u001b[1;33m[\u001b[0m\u001b[1;34m'Colors'\u001b[0m\u001b[1;33m]\u001b[0m\u001b[1;33m\u001b[0m\u001b[0m\n",
        "\u001b[1;31mValueError\u001b[0m: Invalid number for map type 'Qualitative' and name 'Paired'.\nValid numbers are : [3, 4, 5, 6, 7, 8, 9, 10, 11, 12]"
       ]
      }
     ],
     "prompt_number": 20
    },
    {
     "cell_type": "code",
     "collapsed": false,
     "input": [
      "brewer2mpl.get_map?"
     ],
     "language": "python",
     "metadata": {},
     "outputs": []
    }
   ],
   "metadata": {}
  }
 ]
}