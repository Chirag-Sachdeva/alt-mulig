{
 "metadata": {
  "name": "",
  "signature": "sha256:13cb41f36560a8301d425a8d961d3a227e63de7ddfbeba2d850a4a000642f238"
 },
 "nbformat": 3,
 "nbformat_minor": 0,
 "worksheets": [
  {
   "cells": [
    {
     "cell_type": "code",
     "collapsed": false,
     "input": [
      "import os\n",
      "import discoursegraphs as dg"
     ],
     "language": "python",
     "metadata": {},
     "outputs": [],
     "prompt_number": 2
    },
    {
     "cell_type": "code",
     "collapsed": false,
     "input": [
      "MMAX_TESTFILE = os.path.expanduser('~/corpora/potsdam-commentary-corpus-2.0.0/coreference/maz-1423.mmax')"
     ],
     "language": "python",
     "metadata": {},
     "outputs": [],
     "prompt_number": 3
    },
    {
     "cell_type": "code",
     "collapsed": false,
     "input": [
      "mdg = dg.read_mmax2(MMAX_TESTFILE)"
     ],
     "language": "python",
     "metadata": {},
     "outputs": [],
     "prompt_number": 5
    },
    {
     "cell_type": "code",
     "collapsed": false,
     "input": [
      "dg.info(mdg)"
     ],
     "language": "python",
     "metadata": {},
     "outputs": [
      {
       "output_type": "stream",
       "stream": "stdout",
       "text": [
        "Name: maz-1423.mmax\n",
        "Type: MMAXDocumentGraph\n",
        "Number of nodes: 224\n",
        "Number of edges: 57\n",
        "Average in degree:   0.2545\n",
        "Average out degree:   0.2545 \n",
        "\n",
        "Node statistics\n",
        "===============\n",
        "\n",
        "number of nodes with layers\n",
        "\tmmax - 207\n",
        "\tmmax:token - 185\n",
        "\tmmax:markable - 21\n",
        "\tmmax:primmark - 21\n",
        "\tmmax:sentence - 16\n",
        "\tdiscoursegraph - 1\n",
        "\n",
        "number of nodes with attributes\n",
        "\tlayers - 224\n",
        "\tlabel - 206\n",
        "\tmmax:token - 185\n",
        "\tmmax:dir_speech - 21\n",
        "\tmmax:type - 21\n",
        "\tmmax:span - 21\n",
        "\tmmax:id - 21\n",
        "\tmmax:grammatical_role - 21\n",
        "\tmmax:ambiguity - 21\n",
        "\tmmax:np_form - 21\n",
        "\tmmax:phrase_type - 21\n",
        "\tmmax:complex_np - 21\n",
        "\tmmax:referentiality - 21\n",
        "\tmmax:anaphor_antecedent - 21\n",
        "\ttokens - 16\n",
        "\tmmax:anaphor_type - 9\n",
        "\tmetadata - 1\n",
        "\n",
        "Edge statistics\n",
        "===============\n",
        "\n",
        "number of edges with layers\n",
        "\tmmax - 57\n",
        "\tmmax:primmark - 57\n",
        "\tmmax:markable - 57\n",
        "\n",
        "number of edges with attributes\n",
        "\tlayers - 57\n",
        "\tedge_type - 57\n",
        "\tlabel - 57\n",
        "\n",
        "most common source edges\n",
        "\tmarkable_16 - 6\n",
        "\tmarkable_7 - 5\n",
        "\tmarkable_12 - 4\n",
        "\tmarkable_2 - 4\n",
        "\tmarkable_3 - 4\n",
        "\n",
        "most common target edges\n",
        "\tword_10 - 2\n",
        "\tword_149 - 1\n",
        "\tword_9 - 1\n",
        "\tword_8 - 1\n",
        "\tword_101 - 1\n"
       ]
      }
     ],
     "prompt_number": 6
    },
    {
     "cell_type": "heading",
     "level": 2,
     "metadata": {},
     "source": [
      "How to get the entities efficiently?"
     ]
    },
    {
     "cell_type": "code",
     "collapsed": false,
     "input": [
      "dg.get_pointing_chains(mdg)"
     ],
     "language": "python",
     "metadata": {},
     "outputs": [
      {
       "metadata": {},
       "output_type": "pyout",
       "prompt_number": 7,
       "text": [
        "[['markable_22',\n",
        "  'markable_19',\n",
        "  'markable_17',\n",
        "  'markable_14',\n",
        "  'markable_12',\n",
        "  'markable_11'],\n",
        " ['markable_21', 'markable_10', 'markable_8', 'markable_7', 'markable_2']]"
       ]
      }
     ],
     "prompt_number": 7
    },
    {
     "cell_type": "code",
     "collapsed": false,
     "input": [
      "import itertools"
     ],
     "language": "python",
     "metadata": {},
     "outputs": [],
     "prompt_number": 18
    },
    {
     "cell_type": "code",
     "collapsed": false,
     "input": [],
     "language": "python",
     "metadata": {},
     "outputs": [
      {
       "metadata": {},
       "output_type": "pyout",
       "prompt_number": 26,
       "text": [
        "{'markable_10': 'markable_21',\n",
        " 'markable_11': 'markable_22',\n",
        " 'markable_12': 'markable_22',\n",
        " 'markable_14': 'markable_22',\n",
        " 'markable_17': 'markable_22',\n",
        " 'markable_19': 'markable_22',\n",
        " 'markable_2': 'markable_21',\n",
        " 'markable_21': 'markable_21',\n",
        " 'markable_22': 'markable_22',\n",
        " 'markable_7': 'markable_21',\n",
        " 'markable_8': 'markable_21'}"
       ]
      }
     ],
     "prompt_number": 26
    },
    {
     "cell_type": "code",
     "collapsed": false,
     "input": [
      "dg.get_pointing_chains(mdg, 'mmax')"
     ],
     "language": "python",
     "metadata": {},
     "outputs": [
      {
       "metadata": {},
       "output_type": "pyout",
       "prompt_number": 8,
       "text": [
        "[['markable_22',\n",
        "  'markable_19',\n",
        "  'markable_17',\n",
        "  'markable_14',\n",
        "  'markable_12',\n",
        "  'markable_11'],\n",
        " ['markable_21', 'markable_10', 'markable_8', 'markable_7', 'markable_2']]"
       ]
      }
     ],
     "prompt_number": 8
    },
    {
     "cell_type": "code",
     "collapsed": false,
     "input": [
      "dg.get_pointing_chains(mdg, 'discoursegraph')"
     ],
     "language": "python",
     "metadata": {},
     "outputs": [
      {
       "metadata": {},
       "output_type": "pyout",
       "prompt_number": 10,
       "text": [
        "[]"
       ]
      }
     ],
     "prompt_number": 10
    },
    {
     "cell_type": "code",
     "collapsed": false,
     "input": [
      "# def brat_output(pocores):\n",
      "#     ret_str = u''\n",
      "#     cid = 1\n",
      "#     candidates_to_cid = {}\n",
      "#     for can in pocores._get_candidates():\n",
      "#         candidates_to_cid[can] = cid\n",
      "#         cid += 1\n",
      "\n",
      "#     onset = 0\n",
      "#     for i, token_id in enumerate(pocores.document.tokens):\n",
      "#         tok_len = len(pocores._get_word(token_id))\n",
      "#         if token_id in pocores.mentions:\n",
      "#             entity_str = \\\n",
      "#                 unidecode(pocores._get_word(pocores.mentions[token_id]))\n",
      "#             ret_str += u\"T{}\\t{} {} {}\\t{}\\n\".format(\n",
      "#                 candidates_to_cid[token_id], entity_str, onset, onset+tok_len,\n",
      "#                 pocores._get_word(token_id))\n",
      "#         onset += tok_len+1\n",
      "#     return ret_str\n",
      "\n",
      "docgraph = mdg\n",
      "\n",
      "ret_str = u''\n",
      "cid = 1\n",
      "candidates_to_cid = {}\n",
      "\n",
      "markables = sorted(itertools.chain(*dg.get_pointing_chains(mdg, layer=None)),\n",
      "                   key=dg.util.natural_sort_key)\n",
      "\n",
      "for markble in markables:\n",
      "    candidates_to_cid[markble] = cid\n",
      "    cid += 1\n",
      "\n",
      "mentions = {}\n",
      "for chain in dg.get_pointing_chains(mdg):\n",
      "    entity = chain[0]\n",
      "    for mention in chain:\n",
      "        mentions[mention] = entity\n",
      "    \n",
      "onset = 0\n",
      "for i, token_id in enumerate(docgraph.tokens):\n",
      "    tok_len = len(docgraph.get_token(token_id))\n",
      "    if token_id in mentions:\n",
      "        entity_str = \\\n",
      "            unidecode(docgraph.get_token(mentions[token_id]))\n",
      "        ret_str += u\"T{}\\t{} {} {}\\t{}\\n\".format(\n",
      "            candidates_to_cid[token_id], entity_str, onset, onset+tok_len,\n",
      "            docgraph.get_token(token_id))\n",
      "    onset += tok_len+1\n",
      "\n",
      "print ret_str"
     ],
     "language": "python",
     "metadata": {},
     "outputs": [
      {
       "output_type": "stream",
       "stream": "stdout",
       "text": [
        "\n"
       ]
      }
     ],
     "prompt_number": 29
    },
    {
     "cell_type": "code",
     "collapsed": false,
     "input": [],
     "language": "python",
     "metadata": {},
     "outputs": []
    }
   ],
   "metadata": {}
  }
 ]
}