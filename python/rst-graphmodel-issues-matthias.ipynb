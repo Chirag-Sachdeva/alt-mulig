{
 "metadata": {
  "name": "",
  "signature": "sha256:efbb84052d558a69e46a40ca77cdc9172adfd12f6c486651bb43c2cde0ece17b"
 },
 "nbformat": 3,
 "nbformat_minor": 0,
 "worksheets": [
  {
   "cells": [
    {
     "cell_type": "markdown",
     "metadata": {},
     "source": [
      "# two potential errors in discoursegraphs RS3 parsing"
     ]
    },
    {
     "cell_type": "markdown",
     "metadata": {},
     "source": [
      "## Issue 1: Are all multinuc roots nucleii?\n",
      "\n",
      "1) oft (nicht sicher ob evtl. sogar immer) sind die abstrakten Knoten\n",
      "\u00fcber multinuklearen Relationen selbst als Nuklei gelabelt, selbst wenn\n",
      "sie eigentlich Satelliten eines anderen Nukleus sind. (siehe u.a. Anhang\n",
      "(maz-4636/maz-4636.png))"
     ]
    },
    {
     "cell_type": "code",
     "collapsed": false,
     "input": [
      "import os\n",
      "import discoursegraphs as dg\n",
      "\n",
      "DOC_ID = 'maz-4636'\n",
      "RST_ROOTDIR = os.path.expanduser('~/corpora/potsdam-commentary-corpus-2.0.0/rst')\n",
      "RST_TESTFILE = os.path.join(RST_ROOTDIR, '{}.rs3'.format(DOC_ID))"
     ],
     "language": "python",
     "metadata": {},
     "outputs": [],
     "prompt_number": 1
    },
    {
     "cell_type": "code",
     "collapsed": false,
     "input": [
      "RST_TESTFILE"
     ],
     "language": "python",
     "metadata": {},
     "outputs": [
      {
       "metadata": {},
       "output_type": "pyout",
       "prompt_number": 2,
       "text": [
        "'/home/arne/corpora/potsdam-commentary-corpus-2.0.0/rst/maz-4636.rs3'"
       ]
      }
     ],
     "prompt_number": 2
    },
    {
     "cell_type": "code",
     "collapsed": false,
     "input": [
      "with open(RST_TESTFILE) as rstfile:\n",
      "    print rstfile.read()"
     ],
     "language": "python",
     "metadata": {},
     "outputs": [
      {
       "output_type": "stream",
       "stream": "stdout",
       "text": [
        "<rst>\n",
        "  <header>\n",
        "    <relations>\n",
        "      <rel name=\"antithesis\" type=\"rst\" />\n",
        "      <rel name=\"background\" type=\"rst\" />\n",
        "      <rel name=\"circumstance\" type=\"rst\" />\n",
        "      <rel name=\"concession\" type=\"rst\" />\n",
        "      <rel name=\"condition\" type=\"rst\" />\n",
        "      <rel name=\"elaboration\" type=\"rst\" />\n",
        "      <rel name=\"e-elaboration\" type=\"rst\" />\n",
        "      <rel name=\"enablement\" type=\"rst\" />\n",
        "      <rel name=\"evaluation-s\" type=\"rst\" />\n",
        "      <rel name=\"evidence\" type=\"rst\" />\n",
        "      <rel name=\"interpretation\" type=\"rst\" />\n",
        "      <rel name=\"justify\" type=\"rst\" />\n",
        "      <rel name=\"means\" type=\"rst\" />\n",
        "      <rel name=\"motivation\" type=\"rst\" />\n",
        "      <rel name=\"cause\" type=\"rst\" />\n",
        "      <rel name=\"result\" type=\"rst\" />\n",
        "      <rel name=\"otherwise\" type=\"rst\" />\n",
        "      <rel name=\"preparation\" type=\"rst\" />\n",
        "      <rel name=\"purpose\" type=\"rst\" />\n",
        "      <rel name=\"restatement\" type=\"rst\" />\n",
        "      <rel name=\"solutionhood\" type=\"rst\" />\n",
        "      <rel name=\"summary\" type=\"rst\" />\n",
        "      <rel name=\"unconditional\" type=\"rst\" />\n",
        "      <rel name=\"unless\" type=\"rst\" />\n",
        "      <rel name=\"unstated-relation\" type=\"rst\" />\n",
        "      <rel name=\"evaluation-n\" type=\"rst\" />\n",
        "      <rel name=\"reason\" type=\"rst\" />\n",
        "      <rel name=\"conjunction\" type=\"multinuc\" />\n",
        "      <rel name=\"contrast\" type=\"multinuc\" />\n",
        "      <rel name=\"disjunction\" type=\"multinuc\" />\n",
        "      <rel name=\"joint\" type=\"multinuc\" />\n",
        "      <rel name=\"list\" type=\"multinuc\" />\n",
        "      <rel name=\"restatement-mn\" type=\"multinuc\" />\n",
        "      <rel name=\"sequence\" type=\"multinuc\" />\n",
        "    </relations>\n",
        "  </header>\n",
        "  <body>\n",
        "    <segment id=\"1\">\n",
        "\n",
        "Nicht erst seit gestern</segment>\n",
        "    <segment id=\"2\" parent=\"16\" relname=\"evaluation-s\">\n",
        "\n",
        "Erst einmal tief durchatmen .</segment>\n",
        "    <segment id=\"3\" parent=\"16\" relname=\"list\">  Im benachbarten Berlin hat es keinen Anschlag mit Milzbrand-Erregern gegeben .</segment>\n",
        "    <segment id=\"4\" parent=\"16\" relname=\"list\">  In Bayern auch nicht .</segment>\n",
        "    <segment id=\"5\" parent=\"18\" relname=\"concession\">  Aber die Bilder von M\u00e4nnern in Mondanz\u00fcgen und Atemschutzmasken haben durchaus etwas von Ausnahmezustand , ja Katastrophenalarm .</segment>\n",
        "    <segment id=\"6\" parent=\"18\" relname=\"span\">  Dennoch ist Panikmache unverantwortlich .</segment>\n",
        "    <segment id=\"7\" parent=\"6\" relname=\"reason\">  Was wir sehen , ist der spektakul\u00e4re , aber routinierte Einsatz von Profis .</segment>\n",
        "    <segment id=\"8\" parent=\"24\" relname=\"span\">\n",
        "\n",
        "Zu einer Zeit , in der alles Denkbare auch machbar erscheint , ist es beruhigend zu wissen , dass die Rettungskr\u00e4fte sich nicht erst seit gestern damit befassen , wie sie die B\u00fcrger vor Katastrophen sch\u00fctzen k\u00f6nnen .</segment>\n",
        "    <segment id=\"9\" parent=\"32\" relname=\"span\">  Ein eingespieltes Team von Spezialisten h\u00e4lt Ausr\u00fcstung und Fachleute bereit ,</segment>\n",
        "    <segment id=\"31\" parent=\"9\" relname=\"purpose\"> um schnell und umfassend handeln zu k\u00f6nnen .</segment>\n",
        "    <segment id=\"21\" parent=\"22\" relname=\"span\">  Dass sie unter normalen Umst\u00e4nden kaum in Erscheinung treten , ist ihrem steten Bem\u00fchen um Vorbeugung zu danken -</segment>\n",
        "    <segment id=\"10\" parent=\"21\" relname=\"elaboration\"> zum Beispiel im Brandschutz , wo die Feuerwehr schon in der Planung eines Geb\u00e4udes mitwirkt .</segment>\n",
        "    <segment id=\"11\" parent=\"28\" relname=\"span\">\n",
        "\n",
        "Trotzdem sollte der Zivilschutz verbessert werden .</segment>\n",
        "    <segment id=\"12\" parent=\"27\" relname=\"span\">  Manches Vehikel im Ger\u00e4tehaus geh\u00f6rt l\u00e4ngst ins Technikmuseum .</segment>\n",
        "    <segment id=\"13\" parent=\"14\" relname=\"circumstance\">  Wenn landesweit die Polizei aufger\u00fcstet wird ,</segment>\n",
        "    <segment id=\"14\" parent=\"25\" relname=\"span\"> sollten die Rettungskr\u00e4fte nicht das Nachsehen haben .</segment>\n",
        "    <segment id=\"15\" parent=\"25\" relname=\"evaluation-s\">  Falls es doch einmal kein mieser Scherz war .</segment>\n",
        "<group id=\"16\" type=\"multinuc\" parent=\"17\" relname=\"span\" />\n",
        "<group id=\"17\" type=\"span\" parent=\"19\" relname=\"background\" />\n",
        "<group id=\"18\" type=\"span\" parent=\"19\" relname=\"span\" />\n",
        "<group id=\"19\" type=\"span\" parent=\"20\" relname=\"span\" />\n",
        "<group id=\"20\" type=\"span\" parent=\"29\" relname=\"background\" />\n",
        "<group id=\"22\" type=\"span\" parent=\"23\" relname=\"joint\" />\n",
        "<group id=\"23\" type=\"multinuc\" parent=\"8\" relname=\"evidence\" />\n",
        "<group id=\"24\" type=\"span\" parent=\"29\" relname=\"contrast\" />\n",
        "<group id=\"25\" type=\"span\" parent=\"26\" relname=\"span\" />\n",
        "<group id=\"26\" type=\"span\" parent=\"12\" relname=\"elaboration\" />\n",
        "<group id=\"27\" type=\"span\" parent=\"11\" relname=\"reason\" />\n",
        "<group id=\"28\" type=\"span\" parent=\"29\" relname=\"contrast\" />\n",
        "<group id=\"29\" type=\"multinuc\" parent=\"30\" relname=\"span\" />\n",
        "<group id=\"30\" type=\"span\" />\n",
        "<group id=\"32\" type=\"span\" parent=\"23\" relname=\"joint\" />\n",
        "  </body>\n",
        "</rst>\n",
        "\n"
       ]
      }
     ],
     "prompt_number": 3
    },
    {
     "cell_type": "code",
     "collapsed": false,
     "input": [
      "rdg = dg.read_rs3(RST_TESTFILE)"
     ],
     "language": "python",
     "metadata": {},
     "outputs": [],
     "prompt_number": 4
    },
    {
     "cell_type": "code",
     "collapsed": false,
     "input": [
      "rdg.node['rst:8']"
     ],
     "language": "python",
     "metadata": {},
     "outputs": [
      {
       "metadata": {},
       "output_type": "pyout",
       "prompt_number": 5,
       "text": [
        "{'label': u'[s]:8: Zu einer Zeit , in d...',\n",
        " 'layers': {'rst', 'rst:segment'},\n",
        " 'rst:rel_name': 'evidence',\n",
        " 'rst:segment_type': 'nucleus',\n",
        " 'rst:text': u'Zu einer Zeit , in der alles Denkbare auch machbar erscheint , ist es beruhigend zu wissen , dass die Rettungskr\\xe4fte sich nicht erst seit gestern damit befassen , wie sie die B\\xfcrger vor Katastrophen sch\\xfctzen k\\xf6nnen .'}"
       ]
      }
     ],
     "prompt_number": 5
    },
    {
     "cell_type": "code",
     "collapsed": false,
     "input": [
      "rdg.node['rst:23']"
     ],
     "language": "python",
     "metadata": {},
     "outputs": [
      {
       "metadata": {},
       "output_type": "pyout",
       "prompt_number": 6,
       "text": [
        "{'label': 'rst:group:multinuc:23',\n",
        " 'layers': {'rst', 'rst:group'},\n",
        " 'rst:group_type': 'multinuc',\n",
        " 'rst:rel_name': 'joint',\n",
        " 'rst:segment_type': 'satellite'}"
       ]
      }
     ],
     "prompt_number": 6
    },
    {
     "cell_type": "code",
     "collapsed": false,
     "input": [
      "for node, node_attrs in rdg.nodes_iter(data=True):\n",
      "    if node_attrs.get('rst:group_type') == 'multinuc':\n",
      "        print node, node_attrs['rst:segment_type']"
     ],
     "language": "python",
     "metadata": {},
     "outputs": [
      {
       "output_type": "stream",
       "stream": "stdout",
       "text": [
        "rst:16 nucleus\n",
        "rst:29 nucleus\n",
        "rst:23 satellite\n"
       ]
      }
     ],
     "prompt_number": 7
    },
    {
     "cell_type": "markdown",
     "metadata": {},
     "source": [
      "### distribution of N/S over all multinuc root nodes"
     ]
    },
    {
     "cell_type": "code",
     "collapsed": false,
     "input": [
      "import glob\n",
      "import sys\n",
      "from collections import Counter\n",
      "\n",
      "multinuc_segment_types = Counter()\n",
      "\n",
      "for rst_file in glob.glob(os.path.join(RST_ROOTDIR, '*.rs3')):\n",
      "    rdg = dg.read_rs3(rst_file)\n",
      "    for node, node_attrs in rdg.nodes_iter(data=True):\n",
      "        if node_attrs.get('rst:group_type') == 'multinuc':\n",
      "            node_segment_type = node_attrs['rst:segment_type']  \n",
      "            multinuc_segment_types[node_attrs['rst:segment_type']] += 1\n",
      "            \n",
      "            "
     ],
     "language": "python",
     "metadata": {},
     "outputs": [],
     "prompt_number": 8
    },
    {
     "cell_type": "code",
     "collapsed": false,
     "input": [
      "# multinuc_segment_types\n",
      "\n",
      "# before changing __get_segment_types()\n",
      "# Counter({'nucleus': 317, 'satellite': 230})"
     ],
     "language": "python",
     "metadata": {},
     "outputs": [],
     "prompt_number": 17
    },
    {
     "cell_type": "code",
     "collapsed": false,
     "input": [
      "multinuc_segment_types"
     ],
     "language": "python",
     "metadata": {},
     "outputs": [
      {
       "metadata": {},
       "output_type": "pyout",
       "prompt_number": 9,
       "text": [
        "Counter({'nucleus': 280, 'satellite': 237, 'span': 30})"
       ]
      }
     ],
     "prompt_number": 9
    },
    {
     "cell_type": "markdown",
     "metadata": {},
     "source": [
      "## Issue 2: when are EDUs labeled as span?\n",
      "\n",
      "2) das Label span wird manchmal unnachvollziehbar an Segmente vergeben.\n",
      "Zum Beispiel ist in maz-13758 eine EDU n\u00e4mlich \"rst:9\" als span gelablet\n",
      "ist. "
     ]
    },
    {
     "cell_type": "code",
     "collapsed": false,
     "input": [
      "print maz_13758\n",
      "print open(maz_13758).read()"
     ],
     "language": "python",
     "metadata": {},
     "outputs": [
      {
       "output_type": "stream",
       "stream": "stdout",
       "text": [
        "/home/arne/corpora/potsdam-commentary-corpus-2.0.0/rst/maz-13758.rs3\n",
        "<rst>\n",
        "  <header>\n",
        "    <relations>\n",
        "      <rel name=\"antithesis\" type=\"rst\" />\n",
        "      <rel name=\"background\" type=\"rst\" />\n",
        "      <rel name=\"circumstance\" type=\"rst\" />\n",
        "      <rel name=\"concession\" type=\"rst\" />\n",
        "      <rel name=\"condition\" type=\"rst\" />\n",
        "      <rel name=\"elaboration\" type=\"rst\" />\n",
        "      <rel name=\"e-elaboration\" type=\"rst\" />\n",
        "      <rel name=\"enablement\" type=\"rst\" />\n",
        "      <rel name=\"evaluation-s\" type=\"rst\" />\n",
        "      <rel name=\"evidence\" type=\"rst\" />\n",
        "      <rel name=\"interpretation\" type=\"rst\" />\n",
        "      <rel name=\"justify\" type=\"rst\" />\n",
        "      <rel name=\"means\" type=\"rst\" />\n",
        "      <rel name=\"motivation\" type=\"rst\" />\n",
        "      <rel name=\"cause\" type=\"rst\" />\n",
        "      <rel name=\"result\" type=\"rst\" />\n",
        "      <rel name=\"otherwise\" type=\"rst\" />\n",
        "      <rel name=\"preparation\" type=\"rst\" />\n",
        "      <rel name=\"purpose\" type=\"rst\" />\n",
        "      <rel name=\"restatement\" type=\"rst\" />\n",
        "      <rel name=\"solutionhood\" type=\"rst\" />\n",
        "      <rel name=\"summary\" type=\"rst\" />\n",
        "      <rel name=\"unconditional\" type=\"rst\" />\n",
        "      <rel name=\"unless\" type=\"rst\" />\n",
        "      <rel name=\"unstated-relation\" type=\"rst\" />\n",
        "      <rel name=\"evaluation-n\" type=\"rst\" />\n",
        "      <rel name=\"reason\" type=\"rst\" />\n",
        "      <rel name=\"\" type=\"rst\" />\n",
        "      <rel name=\"conjunction\" type=\"multinuc\" />\n",
        "      <rel name=\"contrast\" type=\"multinuc\" />\n",
        "      <rel name=\"disjunction\" type=\"multinuc\" />\n",
        "      <rel name=\"joint\" type=\"multinuc\" />\n",
        "      <rel name=\"list\" type=\"multinuc\" />\n",
        "      <rel name=\"restatement-mn\" type=\"multinuc\" />\n",
        "      <rel name=\"sequence\" type=\"multinuc\" />\n",
        "    </relations>\n",
        "  </header>\n",
        "  <body>\n",
        "    <segment id=\"1\">\n",
        "\n",
        "Keine Garantie</segment>\n",
        "    <segment id=\"10\" parent=\"22\" relname=\"circumstance\">\n",
        "\n",
        "Euphorische Beifallsst\u00fcrme gab es in Fr\u00f6hden nicht f\u00fcr die Dorferneuerungsplanung .</segment>\n",
        "    <segment id=\"2\" parent=\"22\" relname=\"span\">  Das war auch kaum zu erwarten ,</segment>\n",
        "    <segment id=\"12\" parent=\"21\" relname=\"span\"> handelt es sich doch um ein Gemeinschaftswerk ,</segment>\n",
        "    <segment id=\"20\" parent=\"12\" relname=\"e-elaboration\"> an dem die Einwohner mitgewirkt haben .</segment>\n",
        "    <segment id=\"3\" parent=\"23\" relname=\"span\">  Deshalb blieben auch kaum Fragen offen ,</segment>\n",
        "    <segment id=\"13\" parent=\"3\" relname=\"e-elaboration\"> zumindest nicht solche , die die Gestaltung der beiden J\u00fcterboger Ortsteile betrifft .</segment>\n",
        "    <segment id=\"4\" parent=\"26\" relname=\"span\">\n",
        "\n",
        "Das Interesse an der Planung war gro\u00df ,</segment>\n",
        "    <segment id=\"14\" parent=\"4\" relname=\"evidence\"> die Beteiligung an den Arbeitskreisen hat es gezeigt .</segment>\n",
        "    <segment id=\"5\" parent=\"27\" relname=\"span\">  Doch die Freude h\u00e4lt sich in Grenzen ,</segment>\n",
        "    <segment id=\"15\" parent=\"5\" relname=\"cause\"> denn inzwischen wei\u00df jeder , dass die F\u00f6rdermittelgie\u00dfkanne nur noch tr\u00f6pfchenweise austeilt .</segment>\n",
        "    <segment id=\"6\" parent=\"28\" relname=\"list\">  Wer auf das Ja-Wort aus Brieselang warten kann ,</segment>\n",
        "    <segment id=\"16\" parent=\"28\" relname=\"list\"> keine Scheu vor seitenlangen Frageb\u00f6gen hat</segment>\n",
        "    <segment id=\"17\" parent=\"28\" relname=\"list\"> und in Kauf nimmt , dass er wahrscheinlich nicht billiger wegkommt , als wenn er nach eigenen Vorstellungen die Fassade gestrichen h\u00e4tte -</segment>\n",
        "    <segment id=\"18\" parent=\"29\" relname=\"span\"> dem kann bescheinigt werden , dass ihm sein Dorf und dessen Erscheinungsbild am Herzen liegt .</segment>\n",
        "    <segment id=\"7\" parent=\"30\" relname=\"span\">  Schweren Herzens wird sich die Stadt von ihrem Geld trennen ,</segment>\n",
        "    <segment id=\"19\" parent=\"7\" relname=\"circumstance\"> wenn es n\u00e4mlich darum geht , die Eigenanteile f\u00fcr bestimmte Vorhaben zur Verf\u00fcgung zu stellen .</segment>\n",
        "    <segment id=\"8\" parent=\"9\" relname=\"reason\">\n",
        "\n",
        "Die Dorferneuerungsplanung ist l\u00e4ngst keine Garantie mehr f\u00fcr grenzenlosen Geldsegen .</segment>\n",
        "    <segment id=\"9\" parent=\"11\" relname=\"span\">  So k\u00f6nnte es passieren , dass viele sch\u00f6ne Vorhaben nur Visionen bleiben .</segment>\n",
        "<group id=\"21\" type=\"span\" parent=\"2\" relname=\"reason\" />\n",
        "<group id=\"22\" type=\"span\" parent=\"24\" relname=\"span\" />\n",
        "<group id=\"23\" type=\"span\" parent=\"25\" relname=\"span\" />\n",
        "<group id=\"24\" type=\"span\" parent=\"23\" relname=\"reason\" />\n",
        "<group id=\"25\" type=\"span\" parent=\"32\" relname=\"background\" />\n",
        "<group id=\"26\" type=\"span\" parent=\"27\" relname=\"concession\" />\n",
        "<group id=\"27\" type=\"span\" parent=\"32\" relname=\"span\" />\n",
        "<group id=\"28\" type=\"multinuc\" parent=\"18\" relname=\"condition\" />\n",
        "<group id=\"29\" type=\"span\" parent=\"31\" relname=\"joint\" />\n",
        "<group id=\"11\" type=\"span\" parent=\"32\" relname=\"summary\" />\n",
        "<group id=\"30\" type=\"span\" parent=\"31\" relname=\"joint\" />\n",
        "<group id=\"31\" type=\"multinuc\" parent=\"27\" relname=\"elaboration\" />\n",
        "<group id=\"32\" type=\"span\" parent=\"33\" relname=\"span\" />\n",
        "<group id=\"33\" type=\"span\" />\n",
        "  </body>\n",
        "</rst>\n",
        "\n"
       ]
      }
     ],
     "prompt_number": 43
    },
    {
     "cell_type": "code",
     "collapsed": false,
     "input": [
      "from discoursegraphs.readwrite.rst import get_edus\n",
      "\n",
      "edu_segment_types = Counter()\n",
      "\n",
      "for rst_file in glob.glob(os.path.join(RST_ROOTDIR, '*.rs3')):\n",
      "    rdg = dg.read_rs3(rst_file)\n",
      "    for edu_node_id in get_edus(rdg):\n",
      "        edu_segment_types[rdg.node[edu_node_id]['rst:segment_type']] += 1\n",
      "\n",
      "edu_segment_types\n",
      "# before changing __add_segment()\n",
      "# Counter({'nucleus': 1395, 'satellite': 1117, 'span': 330, 'isolated': 176})"
     ],
     "language": "python",
     "metadata": {},
     "outputs": [
      {
       "metadata": {},
       "output_type": "pyout",
       "prompt_number": 44,
       "text": [
        "Counter({'nucleus': 1395, 'satellite': 1117, 'span': 330, 'isolated': 176})"
       ]
      }
     ],
     "prompt_number": 44
    },
    {
     "cell_type": "code",
     "collapsed": false,
     "input": [
      "# find docs w/ least # of EDUs\n",
      "\n",
      "from collections import defaultdict\n",
      "\n",
      "edu_count = defaultdict(list)\n",
      "\n",
      "for rst_file in glob.glob(os.path.join(RST_ROOTDIR, '*.rs3')):\n",
      "    rdg = dg.read_rs3(rst_file)\n",
      "    edu_count[len(get_edus(rdg))].append(rst_file)"
     ],
     "language": "python",
     "metadata": {},
     "outputs": []
    },
    {
     "cell_type": "code",
     "collapsed": false,
     "input": [
      "print edu_count.keys()\n",
      "edu_count[11]"
     ],
     "language": "python",
     "metadata": {},
     "outputs": [
      {
       "output_type": "stream",
       "stream": "stdout",
       "text": [
        "[11, 12, 13, 14, 15, 16, 17, 18, 19, 20, 21, 22, 23, 24, 25]\n"
       ]
      },
      {
       "metadata": {},
       "output_type": "pyout",
       "prompt_number": 48,
       "text": [
        "['/home/arne/corpora/potsdam-commentary-corpus-2.0.0/rst/maz-6539.rs3',\n",
        " '/home/arne/corpora/potsdam-commentary-corpus-2.0.0/rst/maz-1818.rs3',\n",
        " '/home/arne/corpora/potsdam-commentary-corpus-2.0.0/rst/maz-7220.rs3']"
       ]
      }
     ],
     "prompt_number": 48
    },
    {
     "cell_type": "code",
     "collapsed": false,
     "input": [
      "print open('/home/arne/corpora/potsdam-commentary-corpus-2.0.0/rst/maz-6539.rs3').read()"
     ],
     "language": "python",
     "metadata": {},
     "outputs": [
      {
       "output_type": "stream",
       "stream": "stdout",
       "text": [
        "<rst>\n",
        "  <header>\n",
        "    <relations>\n",
        "      <rel name=\"antithesis\" type=\"rst\" />\n",
        "      <rel name=\"background\" type=\"rst\" />\n",
        "      <rel name=\"circumstance\" type=\"rst\" />\n",
        "      <rel name=\"concession\" type=\"rst\" />\n",
        "      <rel name=\"condition\" type=\"rst\" />\n",
        "      <rel name=\"elaboration\" type=\"rst\" />\n",
        "      <rel name=\"e-elaboration\" type=\"rst\" />\n",
        "      <rel name=\"enablement\" type=\"rst\" />\n",
        "      <rel name=\"evaluation-s\" type=\"rst\" />\n",
        "      <rel name=\"evidence\" type=\"rst\" />\n",
        "      <rel name=\"interpretation\" type=\"rst\" />\n",
        "      <rel name=\"justify\" type=\"rst\" />\n",
        "      <rel name=\"means\" type=\"rst\" />\n",
        "      <rel name=\"motivation\" type=\"rst\" />\n",
        "      <rel name=\"cause\" type=\"rst\" />\n",
        "      <rel name=\"result\" type=\"rst\" />\n",
        "      <rel name=\"otherwise\" type=\"rst\" />\n",
        "      <rel name=\"preparation\" type=\"rst\" />\n",
        "      <rel name=\"purpose\" type=\"rst\" />\n",
        "      <rel name=\"restatement\" type=\"rst\" />\n",
        "      <rel name=\"solutionhood\" type=\"rst\" />\n",
        "      <rel name=\"summary\" type=\"rst\" />\n",
        "      <rel name=\"unconditional\" type=\"rst\" />\n",
        "      <rel name=\"unless\" type=\"rst\" />\n",
        "      <rel name=\"unstated-relation\" type=\"rst\" />\n",
        "      <rel name=\"evaluation-n\" type=\"rst\" />\n",
        "      <rel name=\"reason\" type=\"rst\" />\n",
        "      <rel name=\"\" type=\"rst\" />\n",
        "      <rel name=\"conjunction\" type=\"multinuc\" />\n",
        "      <rel name=\"contrast\" type=\"multinuc\" />\n",
        "      <rel name=\"disjunction\" type=\"multinuc\" />\n",
        "      <rel name=\"joint\" type=\"multinuc\" />\n",
        "      <rel name=\"list\" type=\"multinuc\" />\n",
        "      <rel name=\"restatement-mn\" type=\"multinuc\" />\n",
        "      <rel name=\"sequence\" type=\"multinuc\" />\n",
        "    </relations>\n",
        "  </header>\n",
        "  <body>\n",
        "    <segment id=\"1\">\n",
        "\n",
        "Riesenstaatsmann</segment>\n",
        "    <segment id=\"8\" parent=\"14\" relname=\"preparation\">\n",
        "\n",
        "Alles h\u00e4ngt wieder einmal mit allem zusammen .</segment>\n",
        "    <segment id=\"2\" parent=\"13\" relname=\"span\">  Der Kanzler gibt seinen Berliner Genossen den entscheidenden Fingerzeig in Richtung rot-gelb-gr\u00fcner Ampel-Koalition ,</segment>\n",
        "    <segment id=\"9\" parent=\"2\" relname=\"reason\"> weil er sich die Liberalen als m\u00f6glichen Koalitionspartner f\u00fcr die Bundestagswahl im kommenden Jahr warmhalten m\u00f6chte .</segment>\n",
        "    <segment id=\"3\" parent=\"4\" relname=\"span\">  Und FDP-Luftikus J\u00fcrgen W. M\u00f6llemann bereist seinerseits schon jetzt eifrig den Nahen Osten ,</segment>\n",
        "    <segment id=\"10\" parent=\"3\" relname=\"purpose\"> um f\u00fcr diesen Fall ger\u00fcstet zu sein und sich als neuer liberaler Au\u00dfenminister zu empfehlen .</segment>\n",
        "    <segment id=\"5\" parent=\"15\" relname=\"conjunction\">  &quot; Riesenstaatsmann M\u00fcmmelmann &quot; , wie Franz-Josef Strau\u00df den schnauzb\u00e4rtigen Fallschirmspringer aus M\u00fcnster einmal titulierte , ist auch schon voll im Gesch\u00e4ft</segment>\n",
        "    <segment id=\"11\" parent=\"15\" relname=\"conjunction\"> und wird nicht m\u00fcde , Israels Politik der &quot; pr\u00e4ventiven Liquidierungen &quot; als &quot; Staatsterrorismus &quot; zu gei\u00dfeln .</segment>\n",
        "    <segment id=\"6\" parent=\"12\" relname=\"concession\">  Unter rechtsstaatlichen Gesichtspunkten sollte diese Methode der Hinrichtungen auf Verdacht in der Tat besser nicht Schule machen ,</segment>\n",
        "    <segment id=\"12\" parent=\"16\" relname=\"span\"> doch ist ein M\u00f6chtegern-Chefdiplomat wom\u00f6glich besser beraten , nicht schon vor Amtsantritt verbrannte Erde ausgerechnet in Israel zu hinterlassen .</segment>\n",
        "    <segment id=\"7\" parent=\"16\" relname=\"reason\">  Das mit Gl\u00fcck und einigem Geschick von Au\u00dfenminister Joschka Fischer erarbeitete Gewicht Deutschlands in der Krisenregion sollte auch ein Oppositionspolitiker nicht leichtfertig verspielen .</segment>\n",
        "<group id=\"13\" type=\"span\" parent=\"14\" relname=\"conjunction\" />\n",
        "<group id=\"14\" type=\"multinuc\" parent=\"19\" relname=\"span\" />\n",
        "<group id=\"4\" type=\"span\" parent=\"14\" relname=\"conjunction\" />\n",
        "<group id=\"15\" type=\"multinuc\" parent=\"17\" relname=\"evaluation-n\" />\n",
        "<group id=\"16\" type=\"span\" parent=\"17\" relname=\"span\" />\n",
        "<group id=\"17\" type=\"span\" parent=\"18\" relname=\"span\" />\n",
        "<group id=\"18\" type=\"span\" parent=\"20\" relname=\"span\" />\n",
        "<group id=\"19\" type=\"span\" parent=\"18\" relname=\"background\" />\n",
        "<group id=\"20\" type=\"span\" />\n",
        "  </body>\n",
        "</rst>\n",
        "\n"
       ]
      }
     ],
     "prompt_number": 49
    },
    {
     "cell_type": "code",
     "collapsed": false,
     "input": [
      "maz_13758 = os.path.join(RST_ROOTDIR, 'maz-13758.rs3')\n",
      "rdg = dg.read_rs3(maz_13758)\n",
      "for edu_node_id in get_edus(rdg):\n",
      "    print edu_node_id, rdg.node[edu_node_id]['rst:segment_type']"
     ],
     "language": "python",
     "metadata": {},
     "outputs": [
      {
       "output_type": "stream",
       "stream": "stdout",
       "text": [
        "rst:1 isolated\n",
        "rst:10 satellite\n",
        "rst:2 nucleus\n",
        "rst:12 nucleus\n",
        "rst:20 satellite\n",
        "rst:3 nucleus\n",
        "rst:13 satellite\n",
        "rst:4 nucleus\n",
        "rst:14 satellite\n",
        "rst:5 nucleus\n",
        "rst:15 satellite\n",
        "rst:6 nucleus\n",
        "rst:16 nucleus\n",
        "rst:17 nucleus\n",
        "rst:18 nucleus\n",
        "rst:7 nucleus\n",
        "rst:19 satellite\n",
        "rst:8 satellite\n",
        "rst:9 span\n"
       ]
      }
     ],
     "prompt_number": 41
    },
    {
     "cell_type": "markdown",
     "metadata": {},
     "source": [
      "## Issue 3: are all root nodes labeled as spans?"
     ]
    },
    {
     "cell_type": "code",
     "collapsed": false,
     "input": [
      "for rst_file in glob.glob(os.path.join(RST_ROOTDIR, '*.rs3')):\n",
      "    rdg = dg.read_rs3(rst_file)\n",
      "    group_type = rdg.node[rdg.root]['rst:group_type']\n",
      "    if group_type != 'span':\n",
      "        print os.path.basename(rst_file), group_type"
     ],
     "language": "python",
     "metadata": {},
     "outputs": [
      {
       "output_type": "stream",
       "stream": "stdout",
       "text": [
        "maz-2316.rs3 multinuc\n",
        "maz-18912.rs3 multinuc\n",
        "maz-16353.rs3 multinuc\n",
        "maz-17242.rs3"
       ]
      },
      {
       "output_type": "stream",
       "stream": "stdout",
       "text": [
        " multinuc\n",
        "maz-4794.rs3 multinuc\n",
        "maz-9612.rs3 multinuc\n",
        "maz-4959.rs3"
       ]
      },
      {
       "output_type": "stream",
       "stream": "stdout",
       "text": [
        " multinuc\n",
        "maz-19012.rs3 multinuc\n",
        "maz-17953.rs3"
       ]
      },
      {
       "output_type": "stream",
       "stream": "stdout",
       "text": [
        " multinuc\n",
        "maz-10205.rs3 multinuc\n",
        "maz-8981.rs3"
       ]
      },
      {
       "output_type": "stream",
       "stream": "stdout",
       "text": [
        " multinuc\n",
        "maz-12473.rs3 multinuc\n",
        "maz-3277.rs3 multinuc\n",
        "maz-15545.rs3"
       ]
      },
      {
       "output_type": "stream",
       "stream": "stdout",
       "text": [
        " multinuc\n",
        "maz-6193.rs3"
       ]
      },
      {
       "output_type": "stream",
       "stream": "stdout",
       "text": [
        " multinuc\n",
        "maz-4282.rs3 multinuc\n",
        "maz-17254.rs3"
       ]
      },
      {
       "output_type": "stream",
       "stream": "stdout",
       "text": [
        " multinuc\n",
        "maz-4031.rs3 multinuc\n",
        "maz-18712.rs3 multinuc\n",
        "maz-00001.rs3 multinuc\n",
        "maz-13125.rs3 multinuc\n",
        "maz-7220.rs3"
       ]
      },
      {
       "output_type": "stream",
       "stream": "stdout",
       "text": [
        " multinuc\n",
        "maz-12510.rs3 multinuc\n",
        "maz-13153.rs3"
       ]
      },
      {
       "output_type": "stream",
       "stream": "stdout",
       "text": [
        " multinuc\n"
       ]
      }
     ],
     "prompt_number": 27
    },
    {
     "cell_type": "code",
     "collapsed": false,
     "input": [],
     "language": "python",
     "metadata": {},
     "outputs": []
    }
   ],
   "metadata": {}
  }
 ]
}