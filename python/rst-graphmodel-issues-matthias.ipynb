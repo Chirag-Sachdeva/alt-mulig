{
 "metadata": {
  "name": "",
  "signature": "sha256:077a09d6032b01b598b0f1e6eaf77412f21461b524d7cac3f7e9f07ce8f66b8e"
 },
 "nbformat": 3,
 "nbformat_minor": 0,
 "worksheets": [
  {
   "cells": [
    {
     "cell_type": "markdown",
     "metadata": {},
     "source": [
      "# two potential errors in discoursegraphs RS3 parsing"
     ]
    },
    {
     "cell_type": "markdown",
     "metadata": {},
     "source": [
      "1) oft (nicht sicher ob evtl. sogar immer) sind die abstrakten Knoten\n",
      "\u00fcber multinuklearen Relationen selbst als Nuklei gelabelt, selbst wenn\n",
      "sie eigentlich Satelliten eines anderen Nukleus sind. (siehe u.a. Anhang\n",
      "(maz-4636/maz-4636.png))"
     ]
    },
    {
     "cell_type": "code",
     "collapsed": false,
     "input": [
      "import os\n",
      "import discoursegraphs as dg\n",
      "\n",
      "DOC_ID = 'maz-4636'\n",
      "MAZ_ROOTDIR = os.path.expanduser('~/corpora/potsdam-commentary-corpus-2.0.0/')\n",
      "RST_TESTFILE = os.path.join(MAZ_ROOTDIR, 'rst/{}.rs3'.format(DOC_ID))"
     ],
     "language": "python",
     "metadata": {},
     "outputs": [
      {
       "output_type": "stream",
       "stream": "stdout",
       "text": [
        "Couldn't import dot_parser, loading of dot files will not be possible.\n"
       ]
      }
     ],
     "prompt_number": 1
    },
    {
     "cell_type": "code",
     "collapsed": false,
     "input": [
      "RST_TESTFILE"
     ],
     "language": "python",
     "metadata": {},
     "outputs": [
      {
       "metadata": {},
       "output_type": "pyout",
       "prompt_number": 4,
       "text": [
        "'/home/arne/corpora/potsdam-commentary-corpus-2.0.0/rst/maz-4636.rs3'"
       ]
      }
     ],
     "prompt_number": 4
    },
    {
     "cell_type": "code",
     "collapsed": false,
     "input": [
      "%cat $RST_TESTFILE"
     ],
     "language": "python",
     "metadata": {},
     "outputs": [
      {
       "output_type": "stream",
       "stream": "stdout",
       "text": [
        "<rst>\r\n",
        "  <header>\r\n",
        "    <relations>\r\n",
        "      <rel name=\"antithesis\" type=\"rst\" />\r\n",
        "      <rel name=\"background\" type=\"rst\" />\r\n",
        "      <rel name=\"circumstance\" type=\"rst\" />\r\n",
        "      <rel name=\"concession\" type=\"rst\" />\r\n",
        "      <rel name=\"condition\" type=\"rst\" />\r\n",
        "      <rel name=\"elaboration\" type=\"rst\" />\r\n",
        "      <rel name=\"e-elaboration\" type=\"rst\" />\r\n",
        "      <rel name=\"enablement\" type=\"rst\" />\r\n",
        "      <rel name=\"evaluation-s\" type=\"rst\" />\r\n",
        "      <rel name=\"evidence\" type=\"rst\" />\r\n",
        "      <rel name=\"interpretation\" type=\"rst\" />\r\n",
        "      <rel name=\"justify\" type=\"rst\" />\r\n",
        "      <rel name=\"means\" type=\"rst\" />\r\n",
        "      <rel name=\"motivation\" type=\"rst\" />\r\n",
        "      <rel name=\"cause\" type=\"rst\" />\r\n",
        "      <rel name=\"result\" type=\"rst\" />\r\n",
        "      <rel name=\"otherwise\" type=\"rst\" />\r\n",
        "      <rel name=\"preparation\" type=\"rst\" />\r\n",
        "      <rel name=\"purpose\" type=\"rst\" />\r\n",
        "      <rel name=\"restatement\" type=\"rst\" />\r\n",
        "      <rel name=\"solutionhood\" type=\"rst\" />\r\n",
        "      <rel name=\"summary\" type=\"rst\" />\r\n",
        "      <rel name=\"unconditional\" type=\"rst\" />\r\n",
        "      <rel name=\"unless\" type=\"rst\" />\r\n",
        "      <rel name=\"unstated-relation\" type=\"rst\" />\r\n",
        "      <rel name=\"evaluation-n\" type=\"rst\" />\r\n",
        "      <rel name=\"reason\" type=\"rst\" />\r\n",
        "      <rel name=\"conjunction\" type=\"multinuc\" />\r\n",
        "      <rel name=\"contrast\" type=\"multinuc\" />\r\n",
        "      <rel name=\"disjunction\" type=\"multinuc\" />\r\n",
        "      <rel name=\"joint\" type=\"multinuc\" />\r\n",
        "      <rel name=\"list\" type=\"multinuc\" />\r\n",
        "      <rel name=\"restatement-mn\" type=\"multinuc\" />\r\n",
        "      <rel name=\"sequence\" type=\"multinuc\" />\r\n",
        "    </relations>\r\n",
        "  </header>\r\n",
        "  <body>\r\n",
        "    <segment id=\"1\">\r\n",
        "\r\n",
        "Nicht erst seit gestern</segment>\r\n",
        "    <segment id=\"2\" parent=\"16\" relname=\"evaluation-s\">\r\n",
        "\r\n",
        "Erst einmal tief durchatmen .</segment>\r\n",
        "    <segment id=\"3\" parent=\"16\" relname=\"list\">  Im benachbarten Berlin hat es keinen Anschlag mit Milzbrand-Erregern gegeben .</segment>\r\n",
        "    <segment id=\"4\" parent=\"16\" relname=\"list\">  In Bayern auch nicht .</segment>\r\n",
        "    <segment id=\"5\" parent=\"18\" relname=\"concession\">  Aber die Bilder von M\u00e4nnern in Mondanz\u00fcgen und Atemschutzmasken haben durchaus etwas von Ausnahmezustand , ja Katastrophenalarm .</segment>\r\n",
        "    <segment id=\"6\" parent=\"18\" relname=\"span\">  Dennoch ist Panikmache unverantwortlich .</segment>\r\n",
        "    <segment id=\"7\" parent=\"6\" relname=\"reason\">  Was wir sehen , ist der spektakul\u00e4re , aber routinierte Einsatz von Profis .</segment>\r\n",
        "    <segment id=\"8\" parent=\"24\" relname=\"span\">\r\n",
        "\r\n",
        "Zu einer Zeit , in der alles Denkbare auch machbar erscheint , ist es beruhigend zu wissen , dass die Rettungskr\u00e4fte sich nicht erst seit gestern damit befassen , wie sie die B\u00fcrger vor Katastrophen sch\u00fctzen k\u00f6nnen .</segment>\r\n",
        "    <segment id=\"9\" parent=\"32\" relname=\"span\">  Ein eingespieltes Team von Spezialisten h\u00e4lt Ausr\u00fcstung und Fachleute bereit ,</segment>\r\n",
        "    <segment id=\"31\" parent=\"9\" relname=\"purpose\"> um schnell und umfassend handeln zu k\u00f6nnen .</segment>\r\n",
        "    <segment id=\"21\" parent=\"22\" relname=\"span\">  Dass sie unter normalen Umst\u00e4nden kaum in Erscheinung treten , ist ihrem steten Bem\u00fchen um Vorbeugung zu danken -</segment>\r\n",
        "    <segment id=\"10\" parent=\"21\" relname=\"elaboration\"> zum Beispiel im Brandschutz , wo die Feuerwehr schon in der Planung eines Geb\u00e4udes mitwirkt .</segment>\r\n",
        "    <segment id=\"11\" parent=\"28\" relname=\"span\">\r\n",
        "\r\n",
        "Trotzdem sollte der Zivilschutz verbessert werden .</segment>\r\n",
        "    <segment id=\"12\" parent=\"27\" relname=\"span\">  Manches Vehikel im Ger\u00e4tehaus geh\u00f6rt l\u00e4ngst ins Technikmuseum .</segment>\r\n",
        "    <segment id=\"13\" parent=\"14\" relname=\"circumstance\">  Wenn landesweit die Polizei aufger\u00fcstet wird ,</segment>\r\n",
        "    <segment id=\"14\" parent=\"25\" relname=\"span\"> sollten die Rettungskr\u00e4fte nicht das Nachsehen haben .</segment>\r\n",
        "    <segment id=\"15\" parent=\"25\" relname=\"evaluation-s\">  Falls es doch einmal kein mieser Scherz war .</segment>\r\n",
        "<group id=\"16\" type=\"multinuc\" parent=\"17\" relname=\"span\" />\r\n",
        "<group id=\"17\" type=\"span\" parent=\"19\" relname=\"background\" />\r\n",
        "<group id=\"18\" type=\"span\" parent=\"19\" relname=\"span\" />\r\n",
        "<group id=\"19\" type=\"span\" parent=\"20\" relname=\"span\" />\r\n",
        "<group id=\"20\" type=\"span\" parent=\"29\" relname=\"background\" />\r\n",
        "<group id=\"22\" type=\"span\" parent=\"23\" relname=\"joint\" />\r\n",
        "<group id=\"23\" type=\"multinuc\" parent=\"8\" relname=\"evidence\" />\r\n",
        "<group id=\"24\" type=\"span\" parent=\"29\" relname=\"contrast\" />\r\n",
        "<group id=\"25\" type=\"span\" parent=\"26\" relname=\"span\" />\r\n",
        "<group id=\"26\" type=\"span\" parent=\"12\" relname=\"elaboration\" />\r\n",
        "<group id=\"27\" type=\"span\" parent=\"11\" relname=\"reason\" />\r\n",
        "<group id=\"28\" type=\"span\" parent=\"29\" relname=\"contrast\" />\r\n",
        "<group id=\"29\" type=\"multinuc\" parent=\"30\" relname=\"span\" />\r\n",
        "<group id=\"30\" type=\"span\" />\r\n",
        "<group id=\"32\" type=\"span\" parent=\"23\" relname=\"joint\" />\r\n",
        "  </body>\r\n",
        "</rst>\r\n"
       ]
      }
     ],
     "prompt_number": 3
    },
    {
     "cell_type": "code",
     "collapsed": false,
     "input": [
      "rdg = dg.read_rs3(RST_TESTFILE)"
     ],
     "language": "python",
     "metadata": {},
     "outputs": [],
     "prompt_number": 5
    },
    {
     "cell_type": "code",
     "collapsed": false,
     "input": [
      "rdg.node['rst:8']"
     ],
     "language": "python",
     "metadata": {},
     "outputs": [
      {
       "metadata": {},
       "output_type": "pyout",
       "prompt_number": 7,
       "text": [
        "{'label': u'[s]:8: Zu einer Zeit , in d...',\n",
        " 'layers': {'rst', 'rst:segment'},\n",
        " 'rst:rel_name': 'evidence',\n",
        " 'rst:segment_type': 'nucleus',\n",
        " 'rst:text': u'Zu einer Zeit , in der alles Denkbare auch machbar erscheint , ist es beruhigend zu wissen , dass die Rettungskr\\xe4fte sich nicht erst seit gestern damit befassen , wie sie die B\\xfcrger vor Katastrophen sch\\xfctzen k\\xf6nnen .'}"
       ]
      }
     ],
     "prompt_number": 7
    },
    {
     "cell_type": "code",
     "collapsed": false,
     "input": [
      "rdg.node['rst:23']"
     ],
     "language": "python",
     "metadata": {},
     "outputs": [
      {
       "metadata": {},
       "output_type": "pyout",
       "prompt_number": 6,
       "text": [
        "{'label': 'rst:group:multinuc:23',\n",
        " 'layers': {'rst', 'rst:group'},\n",
        " 'rst:group_type': 'multinuc',\n",
        " 'rst:rel_name': 'joint',\n",
        " 'rst:segment_type': 'nucleus'}"
       ]
      }
     ],
     "prompt_number": 6
    },
    {
     "cell_type": "code",
     "collapsed": false,
     "input": [
      "print list(dg.readwrite.rst.get_rst_relation_root_nodes(rdg, data=False))"
     ],
     "language": "python",
     "metadata": {},
     "outputs": [
      {
       "output_type": "stream",
       "stream": "stdout",
       "text": [
        "['rst:16', 'rst:14', 'rst:12', 'rst:11', 'rst:18', 'rst:19', 'rst:6', 'rst:8', 'rst:9', 'rst:29', 'rst:25', 'rst:23', 'rst:21']\n"
       ]
      }
     ],
     "prompt_number": 21
    },
    {
     "cell_type": "code",
     "collapsed": false,
     "input": [
      "rst_rels = dg.readwrite.rst.get_rst_relations(rdg)"
     ],
     "language": "python",
     "metadata": {},
     "outputs": [],
     "prompt_number": 16
    },
    {
     "cell_type": "code",
     "collapsed": false,
     "input": [
      "dg.readwrite.rst.get_rst_spans(rdg)"
     ],
     "language": "python",
     "metadata": {},
     "outputs": [
      {
       "metadata": {},
       "output_type": "pyout",
       "prompt_number": 33,
       "text": [
        "[('rst:16-rst:4-rst:3', 'N1', 'list', 20, 24),\n",
        " ('rst:16-rst:4-rst:3', 'N2', 'list', 9, 19),\n",
        " ('rst:16-rst:2', 'N', 'evaluation-s', 9, 24),\n",
        " ('rst:16-rst:2', 'S', 'evaluation-s', 4, 8),\n",
        " ('rst:14-rst:13', 'N', 'circumstance', 177, 184),\n",
        " ('rst:14-rst:13', 'S', 'circumstance', 170, 176),\n",
        " ('rst:12-rst:26', 'N', 'elaboration', 161, 169),\n",
        " ('rst:12-rst:26', 'S', 'elaboration', 170, 193),\n",
        " ('rst:29-rst:28-rst:24', 'N1', 'contrast', 154, 193),\n",
        " ('rst:29-rst:28-rst:24', 'N2', 'contrast', 62, 153),\n",
        " ('rst:29-rst:20', 'N', 'background', 62, 193),\n",
        " ('rst:29-rst:20', 'S', 'background', 4, 61),\n",
        " ('rst:11-rst:27', 'N', 'reason', 154, 160),\n",
        " ('rst:11-rst:27', 'S', 'reason', 161, 193),\n",
        " ('rst:14-rst:15', 'N', 'evaluation-s', 170, 184),\n",
        " ('rst:14-rst:15', 'S', 'evaluation-s', 185, 193),\n",
        " ('rst:23-rst:32-rst:22', 'N1', 'joint', 100, 118),\n",
        " ('rst:23-rst:32-rst:22', 'N2', 'joint', 119, 153),\n",
        " ('rst:6-rst:5', 'N', 'concession', 43, 61),\n",
        " ('rst:6-rst:5', 'S', 'concession', 25, 42),\n",
        " ('rst:18-rst:17', 'N', 'background', 25, 61),\n",
        " ('rst:18-rst:17', 'S', 'background', 4, 24),\n",
        " ('rst:6-rst:7', 'N', 'reason', 43, 47),\n",
        " ('rst:6-rst:7', 'S', 'reason', 48, 61),\n",
        " ('rst:21-rst:10', 'N', 'elaboration', 119, 137),\n",
        " ('rst:21-rst:10', 'S', 'elaboration', 138, 153),\n",
        " ('rst:8-rst:23', 'N', 'evidence', 62, 99),\n",
        " ('rst:8-rst:23', 'S', 'evidence', 100, 153),\n",
        " ('rst:9-rst:31', 'N', 'purpose', 100, 110),\n",
        " ('rst:9-rst:31', 'S', 'purpose', 111, 118)]"
       ]
      }
     ],
     "prompt_number": 33
    },
    {
     "cell_type": "markdown",
     "metadata": {},
     "source": [
      "2) das Label span wird manchmal unnachvollziehbar an Segmente vergeben.\n",
      "Zum Beispiel ist in maz-13758 eine EDU n\u00e4mlich \"rst:9\" als span gelablet\n",
      "ist. "
     ]
    }
   ],
   "metadata": {}
  }
 ]
}