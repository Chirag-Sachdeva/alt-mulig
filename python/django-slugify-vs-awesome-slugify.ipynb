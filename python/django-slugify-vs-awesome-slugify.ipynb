{
 "cells": [
  {
   "cell_type": "markdown",
   "metadata": {},
   "source": [
    "# django-slugify vs. awesome-slugify\n",
    "\n",
    "This proves why awesome-slugify is awesome."
   ]
  },
  {
   "cell_type": "code",
   "execution_count": 2,
   "metadata": {
    "collapsed": true
   },
   "outputs": [],
   "source": [
    "from django.utils.text import slugify as django_slugify"
   ]
  },
  {
   "cell_type": "code",
   "execution_count": 3,
   "metadata": {
    "collapsed": true
   },
   "outputs": [],
   "source": [
    "from slugify import slugify_de as awesome_slugify"
   ]
  },
  {
   "cell_type": "code",
   "execution_count": 4,
   "metadata": {
    "collapsed": true
   },
   "outputs": [],
   "source": [
    "german_name = u\"Ärnst-Günthör Strauß\""
   ]
  },
  {
   "cell_type": "code",
   "execution_count": 15,
   "metadata": {
    "collapsed": false
   },
   "outputs": [
    {
     "name": "stdout",
     "output_type": "stream",
     "text": [
      "django:  arnst-gunthor-strau\n",
      "awesome: Aernst-Guenthoer-Strauss\n"
     ]
    }
   ],
   "source": [
    "print \"django: \", django_slugify(german_name)\n",
    "print \"awesome:\", awesome_slugify(german_name)"
   ]
  },
  {
   "cell_type": "code",
   "execution_count": 7,
   "metadata": {
    "collapsed": true
   },
   "outputs": [],
   "source": [
    "random_accents = u\"Àddîñg-Éñgłïśh-áçćèńtš Íš-śīłłÿ\""
   ]
  },
  {
   "cell_type": "code",
   "execution_count": 16,
   "metadata": {
    "collapsed": false
   },
   "outputs": [
    {
     "name": "stdout",
     "output_type": "stream",
     "text": [
      "django:  adding-engish-accents-is-siy\n",
      "awesome: Adding-English-accents-Is-silly\n"
     ]
    }
   ],
   "source": [
    "print \"django: \", django_slugify(random_accents)\n",
    "print \"awesome:\", awesome_slugify(random_accents)"
   ]
  },
  {
   "cell_type": "code",
   "execution_count": 17,
   "metadata": {
    "collapsed": true
   },
   "outputs": [],
   "source": [
    "russian_name = u\"Владимир Путин\""
   ]
  },
  {
   "cell_type": "code",
   "execution_count": 18,
   "metadata": {
    "collapsed": false
   },
   "outputs": [
    {
     "name": "stdout",
     "output_type": "stream",
     "text": [
      "django:  \n",
      "awesome: Vladimir-Putin\n"
     ]
    }
   ],
   "source": [
    "print \"django: \", django_slugify(russian_name)\n",
    "print \"awesome:\", awesome_slugify(russian_name)"
   ]
  },
  {
   "cell_type": "code",
   "execution_count": 19,
   "metadata": {
    "collapsed": true
   },
   "outputs": [],
   "source": [
    "chinese_name = u\"毛澤東\" "
   ]
  },
  {
   "cell_type": "code",
   "execution_count": 20,
   "metadata": {
    "collapsed": false
   },
   "outputs": [
    {
     "name": "stdout",
     "output_type": "stream",
     "text": [
      "django:  \n",
      "awesome: Mao-Ze-Dong\n"
     ]
    }
   ],
   "source": [
    "print \"django: \", django_slugify(chinese_name)\n",
    "print \"awesome:\", awesome_slugify(chinese_name)"
   ]
  }
 ],
 "metadata": {
  "kernelspec": {
   "display_name": "Python 2",
   "language": "python",
   "name": "python2"
  },
  "language_info": {
   "codemirror_mode": {
    "name": "ipython",
    "version": 2
   },
   "file_extension": ".py",
   "mimetype": "text/x-python",
   "name": "python",
   "nbconvert_exporter": "python",
   "pygments_lexer": "ipython2",
   "version": "2.7.6"
  }
 },
 "nbformat": 4,
 "nbformat_minor": 0
}
