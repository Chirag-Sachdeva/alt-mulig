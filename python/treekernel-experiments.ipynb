{
 "metadata": {
  "name": "",
  "signature": "sha256:dcf64e1de96720b91711e471a91d423325938b47809fb7ec7c07ad5fd3439b12"
 },
 "nbformat": 3,
 "nbformat_minor": 0,
 "worksheets": [
  {
   "cells": [
    {
     "cell_type": "code",
     "collapsed": false,
     "input": [
      "# %install_ext https://raw.github.com/tkf/ipython-hierarchymagic/master/hierarchymagic.py\n",
      "# install once to plot graphviz/dot inline\n",
      "# load: %load_ext hierarchymagic\n",
      "# usage: %%dot\n",
      "\n",
      "# %load_ext hierarchymagic"
     ],
     "language": "python",
     "metadata": {},
     "outputs": [],
     "prompt_number": 1
    },
    {
     "cell_type": "code",
     "collapsed": false,
     "input": [
      "import networkx as nx\n",
      "from discoursekernels import tree_kernel"
     ],
     "language": "python",
     "metadata": {},
     "outputs": [],
     "prompt_number": 2
    },
    {
     "cell_type": "code",
     "collapsed": false,
     "input": [
      "tree = tree_kernel.generate_example_tree()\n",
      "\n",
      "print tree.nodes()\n",
      "print tree.edges()"
     ],
     "language": "python",
     "metadata": {},
     "outputs": [
      {
       "output_type": "stream",
       "stream": "stdout",
       "text": [
        "['ate', 'N-2', 'D', 'Jeff', 'N-1', 'VP', 'S', 'apple', 'V', 'the', 'NP-1', 'NP-2']\n",
        "[('N-2', 'apple'), ('D', 'the'), ('N-1', 'Jeff'), ('VP', 'NP-2'), ('VP', 'V'), ('S', 'VP'), ('S', 'NP-1'), ('V', 'ate'), ('NP-1', 'N-1'), ('NP-2', 'N-2'), ('NP-2', 'D')]\n"
       ]
      }
     ],
     "prompt_number": 3
    },
    {
     "cell_type": "code",
     "collapsed": false,
     "input": [
      "tree_kernel.count_proper_corooted_subtrees(tree, root_node='S')"
     ],
     "language": "python",
     "metadata": {},
     "outputs": [
      {
       "metadata": {},
       "output_type": "pyout",
       "prompt_number": 4,
       "text": [
        "33"
       ]
      }
     ],
     "prompt_number": 4
    },
    {
     "cell_type": "code",
     "collapsed": false,
     "input": [
      "for source_node_id, target_node_id in nx.dfs_edges(tree, 'S'):\n",
      "    print source_node_id, tree.successors(source_node_id)"
     ],
     "language": "python",
     "metadata": {},
     "outputs": [
      {
       "output_type": "stream",
       "stream": "stdout",
       "text": [
        "S ['VP', 'NP-1']\n",
        "VP ['NP-2', 'V']\n",
        "NP-2 ['N-2', 'D']\n",
        "N-2 ['apple']\n",
        "NP-2 ['N-2', 'D']\n",
        "D ['the']\n",
        "VP ['NP-2', 'V']\n",
        "V ['ate']\n",
        "S ['VP', 'NP-1']\n",
        "NP-1 ['N-1']\n",
        "N-1 ['Jeff']\n"
       ]
      }
     ],
     "prompt_number": 5
    },
    {
     "cell_type": "code",
     "collapsed": false,
     "input": [
      "from networkx import write_dot\n",
      "import sys\n",
      "\n",
      "def print_dot(graph):\n",
      "    tmp_file = '/tmp/print_dot.dot'\n",
      "    tmp_file2 = '/tmp/print_dot2.dot'\n",
      "    write_dot(graph, tmp_file)\n",
      "    !(echo '%%dot' && cat $tmp_file) > $tmp_file2\n",
      "#    %load /tmp/print_dot2.dot\n",
      "    !cat /tmp/print_dot2.dot"
     ],
     "language": "python",
     "metadata": {},
     "outputs": [],
     "prompt_number": 6
    },
    {
     "cell_type": "raw",
     "metadata": {},
     "source": [
      "%%dot\n",
      "strict digraph  {\n",
      "\t\"N-2\" -> apple;\n",
      "\tD -> the;\n",
      "\t\"N-1\" -> Jeff;\n",
      "\tVP -> \"NP-2\";\n",
      "\tVP -> V;\n",
      "\tS -> \"NP-1\";\n",
      "\tS -> VP;\n",
      "\tV -> ate;\n",
      "\t\"NP-1\" -> \"N-1\";\n",
      "\t\"NP-2\" -> \"N-2\";\n",
      "\t\"NP-2\" -> D;\n",
      "}"
     ]
    },
    {
     "cell_type": "code",
     "collapsed": false,
     "input": [
      "# tree_kernel.get_syntax_subtrees(tree)"
     ],
     "language": "python",
     "metadata": {},
     "outputs": [],
     "prompt_number": 8
    },
    {
     "cell_type": "markdown",
     "metadata": {},
     "source": [
      "# valid subtrees"
     ]
    },
    {
     "cell_type": "code",
     "collapsed": false,
     "input": [
      "vs1 = nx.DiGraph()\n",
      "vs1.add_edges_from([('NP-2', 'D'), ('NP-2', 'N-2'), ('D', 'the'), ('N-2', 'apple')])\n",
      "print_dot(vs1)"
     ],
     "language": "python",
     "metadata": {},
     "outputs": [
      {
       "output_type": "stream",
       "stream": "stdout",
       "text": [
        "%%dot\r\n",
        "strict digraph  {\r\n",
        "\t\"N-2\" -> apple;\r\n",
        "\tD -> the;\r\n",
        "\t\"NP-2\" -> \"N-2\";\r\n",
        "\t\"NP-2\" -> D;\r\n",
        "}\r\n"
       ]
      }
     ],
     "prompt_number": 9
    },
    {
     "cell_type": "code",
     "collapsed": false,
     "input": [
      "vs2 = nx.DiGraph()\n",
      "vs2.add_edges_from([('NP-2', 'D'), ('NP-2', 'N-2')])\n",
      "print_dot(vs2)"
     ],
     "language": "python",
     "metadata": {},
     "outputs": [
      {
       "output_type": "stream",
       "stream": "stdout",
       "text": [
        "%%dot\r\n",
        "strict digraph  {\r\n",
        "\t\"NP-2\" -> \"N-2\";\r\n",
        "\t\"NP-2\" -> D;\r\n",
        "}\r\n"
       ]
      }
     ],
     "prompt_number": 14
    },
    {
     "cell_type": "code",
     "collapsed": false,
     "input": [
      "vs3 = nx.DiGraph()\n",
      "vs3.add_edges_from([('D', 'the')])\n",
      "print_dot(vs3)"
     ],
     "language": "python",
     "metadata": {},
     "outputs": [
      {
       "output_type": "stream",
       "stream": "stdout",
       "text": [
        "%%dot\r\n",
        "strict digraph  {\r\n",
        "\tD -> the;\r\n",
        "}\r\n"
       ]
      }
     ],
     "prompt_number": 19
    },
    {
     "cell_type": "code",
     "collapsed": false,
     "input": [
      "vs4 = nx.DiGraph()\n",
      "vs4.add_edges_from([('N-2', 'apple')])\n",
      "print_dot(vs4)"
     ],
     "language": "python",
     "metadata": {},
     "outputs": [
      {
       "output_type": "stream",
       "stream": "stdout",
       "text": [
        "%%dot\r\n",
        "strict digraph  {\r\n",
        "\t\"N-2\" -> apple;\r\n",
        "}\r\n"
       ]
      }
     ],
     "prompt_number": 24
    },
    {
     "cell_type": "code",
     "collapsed": false,
     "input": [
      "vs5 = nx.DiGraph()\n",
      "vs5.add_edges_from([('NP-2', 'D'), ('NP-2', 'N-2'), ('D', 'the')])\n",
      "print_dot(vs5)"
     ],
     "language": "python",
     "metadata": {},
     "outputs": [
      {
       "output_type": "stream",
       "stream": "stdout",
       "text": [
        "%%dot\r\n",
        "strict digraph  {\r\n",
        "\tD -> the;\r\n",
        "\t\"NP-2\" -> \"N-2\";\r\n",
        "\t\"NP-2\" -> D;\r\n",
        "}\r\n"
       ]
      }
     ],
     "prompt_number": 29
    },
    {
     "cell_type": "code",
     "collapsed": false,
     "input": [
      "vs6 = nx.DiGraph()\n",
      "vs6.add_edges_from([('NP-2', 'D'), ('NP-2', 'N-2'), ('N-2', 'apple')])\n",
      "print_dot(vs6)"
     ],
     "language": "python",
     "metadata": {},
     "outputs": [
      {
       "output_type": "stream",
       "stream": "stdout",
       "text": [
        "%%dot\r\n",
        "strict digraph  {\r\n",
        "\t\"N-2\" -> apple;\r\n",
        "\t\"NP-2\" -> \"N-2\";\r\n",
        "\t\"NP-2\" -> D;\r\n",
        "}\r\n"
       ]
      }
     ],
     "prompt_number": 34
    },
    {
     "cell_type": "markdown",
     "metadata": {},
     "source": [
      "# invalid subtrees"
     ]
    },
    {
     "cell_type": "code",
     "collapsed": false,
     "input": [
      "is1 = nx.DiGraph()\n",
      "is1.add_node('NP-2')\n",
      "is1.add_edges_from([('D', 'the'), ('N-2', 'apple')])\n",
      "print_dot(is1)"
     ],
     "language": "python",
     "metadata": {},
     "outputs": [
      {
       "output_type": "stream",
       "stream": "stdout",
       "text": [
        "%%dot\r\n",
        "strict digraph  {\r\n",
        "\t\"N-2\" -> apple;\r\n",
        "\tD -> the;\r\n",
        "\t\"NP-2\";\r\n",
        "}\r\n"
       ]
      }
     ],
     "prompt_number": 39
    },
    {
     "cell_type": "code",
     "collapsed": false,
     "input": [
      "is2 = nx.DiGraph()\n",
      "is2.add_node('D')\n",
      "print_dot(is2)"
     ],
     "language": "python",
     "metadata": {},
     "outputs": [
      {
       "output_type": "stream",
       "stream": "stdout",
       "text": [
        "%%dot\r\n",
        "strict digraph  {\r\n",
        "\tD;\r\n",
        "}\r\n"
       ]
      }
     ],
     "prompt_number": 44
    },
    {
     "cell_type": "code",
     "collapsed": false,
     "input": [
      "is3 = nx.DiGraph()\n",
      "is3.add_nodes_from(['D', 'N-2'])\n",
      "print_dot(is3)"
     ],
     "language": "python",
     "metadata": {},
     "outputs": [
      {
       "output_type": "stream",
       "stream": "stdout",
       "text": [
        "%%dot\r\n",
        "strict digraph  {\r\n",
        "\t\"N-2\";\r\n",
        "\tD;\r\n",
        "}\r\n"
       ]
      }
     ],
     "prompt_number": 49
    },
    {
     "cell_type": "code",
     "collapsed": false,
     "input": [
      "is4 = nx.DiGraph()\n",
      "is4.add_edges_from([('NP-2', 'D'), ('D', 'the')])\n",
      "print_dot(is4)"
     ],
     "language": "python",
     "metadata": {},
     "outputs": [
      {
       "output_type": "stream",
       "stream": "stdout",
       "text": [
        "%%dot\r\n",
        "strict digraph  {\r\n",
        "\tD -> the;\r\n",
        "\t\"NP-2\" -> D;\r\n",
        "}\r\n"
       ]
      }
     ],
     "prompt_number": 54
    },
    {
     "cell_type": "code",
     "collapsed": false,
     "input": [
      "is5 = nx.DiGraph()\n",
      "is5.add_nodes_from(['the'])\n",
      "print_dot(is5)"
     ],
     "language": "python",
     "metadata": {},
     "outputs": [
      {
       "output_type": "stream",
       "stream": "stdout",
       "text": [
        "%%dot\r\n",
        "strict digraph  {\r\n",
        "\tthe;\r\n",
        "}\r\n"
       ]
      }
     ],
     "prompt_number": 59
    },
    {
     "cell_type": "code",
     "collapsed": false,
     "input": [
      "is6 = nx.DiGraph()\n",
      "is6.add_nodes_from(['the', 'apple'])\n",
      "print_dot(is6)"
     ],
     "language": "python",
     "metadata": {},
     "outputs": [
      {
       "output_type": "stream",
       "stream": "stdout",
       "text": [
        "%%dot\r\n",
        "strict digraph  {\r\n",
        "\tthe;\r\n",
        "\tapple;\r\n",
        "}\r\n"
       ]
      }
     ],
     "prompt_number": 64
    },
    {
     "cell_type": "code",
     "collapsed": false,
     "input": [
      "is7 = nx.DiGraph()\n",
      "is7.add_edges_from([('the', 'apple')])\n",
      "print_dot(is7)"
     ],
     "language": "python",
     "metadata": {},
     "outputs": [
      {
       "output_type": "stream",
       "stream": "stdout",
       "text": [
        "%%dot\r\n",
        "strict digraph  {\r\n",
        "\tthe -> apple;\r\n",
        "}\r\n"
       ]
      }
     ],
     "prompt_number": 69
    },
    {
     "cell_type": "code",
     "collapsed": false,
     "input": [
      "tree_kernel.get_production_rules(tree)"
     ],
     "language": "python",
     "metadata": {},
     "outputs": [
      {
       "metadata": {},
       "output_type": "pyout",
       "prompt_number": 74,
       "text": [
        "{('D', ('the',)),\n",
        " ('N-1', ('Jeff',)),\n",
        " ('N-2', ('apple',)),\n",
        " ('NP-1', ('N-1',)),\n",
        " ('NP-2', ('N-2', 'D')),\n",
        " ('S', ('VP', 'NP-1')),\n",
        " ('V', ('ate',)),\n",
        " ('VP', ('NP-2', 'V'))}"
       ]
      }
     ],
     "prompt_number": 74
    },
    {
     "cell_type": "code",
     "collapsed": false,
     "input": [
      "valid_subtrees = (vs1, vs2, vs3, vs4, vs5, vs6)\n",
      "invalid_subtrees = (is1, is2, is3, is4, is5, is6, is7)\n",
      "\n",
      "for i, valid_subtree in enumerate(valid_subtrees, 1):\n",
      "    print i, tree_kernel.contains_only_complete_productions(tree, valid_subtree)\n",
      "\n",
      "# for i, invalid_subtree in enumerate(invalid_subtrees, 1):\n",
      "#     print i, tree_kernel.contains_only_complete_productions(tree, invalid_subtree)"
     ],
     "language": "python",
     "metadata": {},
     "outputs": [
      {
       "output_type": "stream",
       "stream": "stdout",
       "text": [
        "1 tree rules:\n",
        "set([('NP-2', ('N-2', 'D')), ('S', ('VP', 'NP-1')), ('N-2', ('apple',)), ('N-1', ('Jeff',)), ('VP', ('NP-2', 'V')), ('V', ('ate',)), ('D', ('the',)), ('NP-1', ('N-1',))]) \n",
        "\n",
        "\n",
        "subtree rule: ('N-2', ('apple',))\n",
        "subtree rule: ('NP-2', ('N-2', 'D'))\n",
        "subtree rule: ('D', ('the',))\n",
        "None\n",
        "2 tree rules:\n",
        "set([('NP-2', ('N-2', 'D')), ('S', ('VP', 'NP-1')), ('N-2', ('apple',)), ('N-1', ('Jeff',)), ('VP', ('NP-2', 'V')), ('V', ('ate',)), ('D', ('the',)), ('NP-1', ('N-1',))]) \n",
        "\n",
        "\n",
        "subtree rule: ('NP-2', ('N-2', 'D'))\n",
        "None\n",
        "3 tree rules:\n",
        "set([('NP-2', ('N-2', 'D')), ('S', ('VP', 'NP-1')), ('N-2', ('apple',)), ('N-1', ('Jeff',)), ('VP', ('NP-2', 'V')), ('V', ('ate',)), ('D', ('the',)), ('NP-1', ('N-1',))]) \n",
        "\n",
        "\n",
        "subtree rule: ('D', ('the',))\n",
        "None\n",
        "4 tree rules:\n",
        "set([('NP-2', ('N-2', 'D')), ('S', ('VP', 'NP-1')), ('N-2', ('apple',)), ('N-1', ('Jeff',)), ('VP', ('NP-2', 'V')), ('V', ('ate',)), ('D', ('the',)), ('NP-1', ('N-1',))]) \n",
        "\n",
        "\n",
        "subtree rule: ('N-2', ('apple',))\n",
        "None\n",
        "5 tree rules:\n",
        "set([('NP-2', ('N-2', 'D')), ('S', ('VP', 'NP-1')), ('N-2', ('apple',)), ('N-1', ('Jeff',)), ('VP', ('NP-2', 'V')), ('V', ('ate',)), ('D', ('the',)), ('NP-1', ('N-1',))]) \n",
        "\n",
        "\n",
        "subtree rule: ('D', ('the',))\n",
        "subtree rule: ('NP-2', ('N-2', 'D'))\n",
        "None\n",
        "6 tree rules:\n",
        "set([('NP-2', ('N-2', 'D')), ('S', ('VP', 'NP-1')), ('N-2', ('apple',)), ('N-1', ('Jeff',)), ('VP', ('NP-2', 'V')), ('V', ('ate',)), ('D', ('the',)), ('NP-1', ('N-1',))]) \n",
        "\n",
        "\n",
        "subtree rule: ('N-2', ('apple',))\n",
        "subtree rule: ('NP-2', ('N-2', 'D'))\n",
        "None\n"
       ]
      }
     ],
     "prompt_number": 75
    },
    {
     "cell_type": "code",
     "collapsed": false,
     "input": [
      "# this does only find complete subtrees, not general subtrees\n",
      "\n",
      "from networkx.algorithms.traversal.depth_first_search import dfs_tree\n",
      "\n",
      "# for i, node_id in enumerate(tree.nodes_iter()):\n",
      "#     write_dot(dfs_tree(tree, node_id), '/tmp/subgraph-{}.dot'.format(i))"
     ],
     "language": "python",
     "metadata": {},
     "outputs": [],
     "prompt_number": 76
    },
    {
     "cell_type": "code",
     "collapsed": false,
     "input": [],
     "language": "python",
     "metadata": {},
     "outputs": [],
     "prompt_number": 76
    }
   ],
   "metadata": {}
  }
 ]
}