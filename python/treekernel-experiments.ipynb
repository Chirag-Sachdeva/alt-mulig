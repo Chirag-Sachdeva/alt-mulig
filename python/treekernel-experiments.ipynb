{
 "metadata": {
  "name": "",
  "signature": "sha256:b85900623867ed756cfc01af1d16c2f35cf90d63b52f95f488c0c43427e9214b"
 },
 "nbformat": 3,
 "nbformat_minor": 0,
 "worksheets": [
  {
   "cells": [
    {
     "cell_type": "code",
     "collapsed": false,
     "input": [
      "import networkx as nx\n",
      "from discoursekernels import tree_kernel"
     ],
     "language": "python",
     "metadata": {},
     "outputs": [],
     "prompt_number": 1
    },
    {
     "cell_type": "code",
     "collapsed": false,
     "input": [
      "tree = tree_kernel.generate_example_tree()\n",
      "\n",
      "print tree.nodes()\n",
      "print tree.edges()"
     ],
     "language": "python",
     "metadata": {},
     "outputs": [
      {
       "output_type": "stream",
       "stream": "stdout",
       "text": [
        "['ate', 'N-2', 'D', 'Jeff', 'N-1', 'VP', 'S', 'apple', 'V', 'the', 'NP-1', 'NP-2']\n",
        "[('N-2', 'apple'), ('D', 'the'), ('N-1', 'Jeff'), ('VP', 'NP-2'), ('VP', 'V'), ('S', 'VP'), ('S', 'NP-1'), ('V', 'ate'), ('NP-1', 'N-1'), ('NP-2', 'N-2'), ('NP-2', 'D')]\n"
       ]
      }
     ],
     "prompt_number": 2
    },
    {
     "cell_type": "code",
     "collapsed": false,
     "input": [
      "tree_kernel.count_proper_corooted_subtrees(tree, root_node='S')"
     ],
     "language": "python",
     "metadata": {},
     "outputs": [
      {
       "metadata": {},
       "output_type": "pyout",
       "prompt_number": 3,
       "text": [
        "33"
       ]
      }
     ],
     "prompt_number": 3
    },
    {
     "cell_type": "code",
     "collapsed": false,
     "input": [
      "for source_node_id, target_node_id in nx.dfs_edges(tree, 'S'):\n",
      "    print source_node_id, tree.successors(source_node_id)"
     ],
     "language": "python",
     "metadata": {},
     "outputs": [
      {
       "output_type": "stream",
       "stream": "stdout",
       "text": [
        "S ['VP', 'NP-1']\n",
        "VP ['NP-2', 'V']\n",
        "NP-2 ['N-2', 'D']\n",
        "N-2 ['apple']\n",
        "NP-2 ['N-2', 'D']\n",
        "D ['the']\n",
        "VP ['NP-2', 'V']\n",
        "V ['ate']\n",
        "S ['VP', 'NP-1']\n",
        "NP-1 ['N-1']\n",
        "N-1 ['Jeff']\n"
       ]
      }
     ],
     "prompt_number": 4
    },
    {
     "cell_type": "code",
     "collapsed": false,
     "input": [
      "tree_kernel.get_syntax_subtrees(tree)"
     ],
     "language": "python",
     "metadata": {},
     "outputs": [
      {
       "ename": "TypeError",
       "evalue": "is_subtree() takes exactly 3 arguments (4 given)",
       "output_type": "pyerr",
       "traceback": [
        "\u001b[1;31m---------------------------------------------------------------------------\u001b[0m\n\u001b[1;31mTypeError\u001b[0m                                 Traceback (most recent call last)",
        "\u001b[1;32m<ipython-input-6-43e1b47db994>\u001b[0m in \u001b[0;36m<module>\u001b[1;34m()\u001b[0m\n\u001b[1;32m----> 1\u001b[1;33m \u001b[0mtree_kernel\u001b[0m\u001b[1;33m.\u001b[0m\u001b[0mget_syntax_subtrees\u001b[0m\u001b[1;33m(\u001b[0m\u001b[0mtree\u001b[0m\u001b[1;33m)\u001b[0m\u001b[1;33m\u001b[0m\u001b[0m\n\u001b[0m",
        "\u001b[1;32m/usr/local/lib/python2.7/dist-packages/discoursekernels-0.1.0-py2.7.egg/discoursekernels/tree_kernel.pyc\u001b[0m in \u001b[0;36mget_syntax_subtrees\u001b[1;34m(tree, root_node)\u001b[0m\n\u001b[0;32m    135\u001b[0m         \u001b[1;31m# cf. http://stackoverflow.com/questions/7892144/subtree-with-networkx\u001b[0m\u001b[1;33m\u001b[0m\u001b[1;33m\u001b[0m\u001b[0m\n\u001b[0;32m    136\u001b[0m         \u001b[0mchild_subgraph\u001b[0m \u001b[1;33m=\u001b[0m \u001b[0mdfs_tree\u001b[0m\u001b[1;33m(\u001b[0m\u001b[0mtree\u001b[0m\u001b[1;33m,\u001b[0m \u001b[0mchild_node\u001b[0m\u001b[1;33m)\u001b[0m\u001b[1;33m\u001b[0m\u001b[0m\n\u001b[1;32m--> 137\u001b[1;33m         \u001b[1;32mif\u001b[0m \u001b[0mis_subtree\u001b[0m\u001b[1;33m(\u001b[0m\u001b[0mtree\u001b[0m\u001b[1;33m,\u001b[0m \u001b[0mchild_subgraph\u001b[0m\u001b[1;33m,\u001b[0m \u001b[0mchild_node\u001b[0m\u001b[1;33m)\u001b[0m\u001b[1;33m:\u001b[0m\u001b[1;33m\u001b[0m\u001b[0m\n\u001b[0m\u001b[0;32m    138\u001b[0m             \u001b[0msubtrees\u001b[0m\u001b[1;33m.\u001b[0m\u001b[0mappend\u001b[0m\u001b[1;33m(\u001b[0m\u001b[0mchild_subgraph\u001b[0m\u001b[1;33m)\u001b[0m\u001b[1;33m\u001b[0m\u001b[0m\n\u001b[0;32m    139\u001b[0m     \u001b[1;32mreturn\u001b[0m \u001b[0msubtrees\u001b[0m\u001b[1;33m\u001b[0m\u001b[0m\n",
        "\u001b[1;31mTypeError\u001b[0m: is_subtree() takes exactly 3 arguments (4 given)"
       ]
      }
     ],
     "prompt_number": 6
    }
   ],
   "metadata": {}
  }
 ]
}