{
 "metadata": {
  "name": "",
  "signature": "sha256:942c90af9fc8740bb001f46ba11cc9fc09aa8f1fbe6040b27653a03591664c34"
 },
 "nbformat": 3,
 "nbformat_minor": 0,
 "worksheets": [
  {
   "cells": [
    {
     "cell_type": "code",
     "collapsed": false,
     "input": [
      "# %install_ext https://raw.github.com/tkf/ipython-hierarchymagic/master/hierarchymagic.py\n",
      "# install once to plot graphviz/dot inline\n",
      "# load: %load_ext hierarchymagic\n",
      "# usage: %%dot\n",
      "\n",
      "# %load_ext hierarchymagic"
     ],
     "language": "python",
     "metadata": {},
     "outputs": [],
     "prompt_number": 1
    },
    {
     "cell_type": "code",
     "collapsed": false,
     "input": [
      "import networkx as nx\n",
      "from discoursekernels import tree_kernel, test_tree_kernel"
     ],
     "language": "python",
     "metadata": {},
     "outputs": [],
     "prompt_number": 4
    },
    {
     "cell_type": "code",
     "collapsed": false,
     "input": [
      "tree = test_tree_kernel.example_tree()\n",
      "\n",
      "print tree.nodes()\n",
      "print tree.edges()"
     ],
     "language": "python",
     "metadata": {},
     "outputs": [
      {
       "output_type": "stream",
       "stream": "stdout",
       "text": [
        "['ate', 'N-2', 'D', 'Jeff', 'N-1', 'VP', 'S', 'apple', 'V', 'the', 'NP-1', 'NP-2']\n",
        "[('N-2', 'apple'), ('D', 'the'), ('N-1', 'Jeff'), ('VP', 'NP-2'), ('VP', 'V'), ('S', 'VP'), ('S', 'NP-1'), ('V', 'ate'), ('NP-1', 'N-1'), ('NP-2', 'N-2'), ('NP-2', 'D')]\n"
       ]
      }
     ],
     "prompt_number": 5
    },
    {
     "cell_type": "code",
     "collapsed": false,
     "input": [
      "tree_kernel.count_proper_corooted_subtrees(tree, root_node='S')"
     ],
     "language": "python",
     "metadata": {},
     "outputs": [
      {
       "metadata": {},
       "output_type": "pyout",
       "prompt_number": 6,
       "text": [
        "33"
       ]
      }
     ],
     "prompt_number": 6
    },
    {
     "cell_type": "code",
     "collapsed": false,
     "input": [
      "for source_node_id, target_node_id in nx.dfs_edges(tree, 'S'):\n",
      "    print source_node_id, tree.successors(source_node_id)"
     ],
     "language": "python",
     "metadata": {},
     "outputs": [
      {
       "output_type": "stream",
       "stream": "stdout",
       "text": [
        "S ['VP', 'NP-1']\n",
        "VP ['NP-2', 'V']\n",
        "NP-2 ['N-2', 'D']\n",
        "N-2 ['apple']\n",
        "NP-2 ['N-2', 'D']\n",
        "D ['the']\n",
        "VP ['NP-2', 'V']\n",
        "V ['ate']\n",
        "S ['VP', 'NP-1']\n",
        "NP-1 ['N-1']\n",
        "N-1 ['Jeff']\n"
       ]
      }
     ],
     "prompt_number": 7
    },
    {
     "cell_type": "code",
     "collapsed": false,
     "input": [
      "tree_kernel.get_production_rules(tree)"
     ],
     "language": "python",
     "metadata": {},
     "outputs": [
      {
       "metadata": {},
       "output_type": "pyout",
       "prompt_number": 8,
       "text": [
        "{('D', ('the',)),\n",
        " ('N-1', ('Jeff',)),\n",
        " ('N-2', ('apple',)),\n",
        " ('NP-1', ('N-1',)),\n",
        " ('NP-2', ('N-2', 'D')),\n",
        " ('S', ('VP', 'NP-1')),\n",
        " ('V', ('ate',)),\n",
        " ('VP', ('NP-2', 'V'))}"
       ]
      }
     ],
     "prompt_number": 8
    },
    {
     "cell_type": "code",
     "collapsed": false,
     "input": [
      "from networkx import write_dot\n",
      "import sys\n",
      "\n",
      "def print_dot(graph):\n",
      "    tmp_file = '/tmp/print_dot.dot'\n",
      "    tmp_file2 = '/tmp/print_dot2.dot'\n",
      "    write_dot(graph, tmp_file)\n",
      "    !(echo '%%dot' && cat $tmp_file) > $tmp_file2\n",
      "#    %load /tmp/print_dot2.dot\n",
      "    !cat /tmp/print_dot2.dot"
     ],
     "language": "python",
     "metadata": {},
     "outputs": []
    },
    {
     "cell_type": "code",
     "collapsed": false,
     "input": [
      "undirected_graph = nx.Graph(tree)\n",
      "list(nx.connected_component_subgraphs(undirected_graph))"
     ],
     "language": "python",
     "metadata": {},
     "outputs": [
      {
       "metadata": {},
       "output_type": "pyout",
       "prompt_number": 14,
       "text": [
        "[<networkx.classes.graph.Graph at 0x423e6d0>]"
       ]
      }
     ],
     "prompt_number": 14
    },
    {
     "cell_type": "code",
     "collapsed": false,
     "input": [
      "# this does only find complete subtrees, not general subtrees\n",
      "\n",
      "from networkx.algorithms.traversal.depth_first_search import dfs_tree\n",
      "\n",
      "# for i, node_id in enumerate(tree.nodes_iter()):\n",
      "#     write_dot(dfs_tree(tree, node_id), '/tmp/subgraph-{}.dot'.format(i))"
     ],
     "language": "python",
     "metadata": {},
     "outputs": []
    },
    {
     "cell_type": "code",
     "collapsed": false,
     "input": [
      "for child_node in tree.nodes_iter():\n",
      "        # cf. http://stackoverflow.com/questions/7892144/subtree-with-networkx\n",
      "    child_subtree = nx.dfs_tree(tree, child_node)\n",
      "    print child_node, nx.to_edgelist(child_subtree), '\\n'"
     ],
     "language": "python",
     "metadata": {},
     "outputs": [
      {
       "output_type": "stream",
       "stream": "stdout",
       "text": [
        "ate [] \n",
        "\n",
        "N-2 [('N-2', 'apple', {})] \n",
        "\n",
        "D [('D', 'the', {})] \n",
        "\n",
        "Jeff [] \n",
        "\n",
        "N-1 [('N-1', 'Jeff', {})] \n",
        "\n",
        "VP [('N-2', 'apple', {}), ('VP', 'V', {}), ('VP', 'NP-2', {}), ('V', 'ate', {}), ('NP-2', 'N-2', {}), ('NP-2', 'D', {}), ('D', 'the', {})] \n",
        "\n",
        "S [('N-2', 'apple', {}), ('N-1', 'Jeff', {}), ('VP', 'V', {}), ('VP', 'NP-2', {}), ('S', 'VP', {}), ('S', 'NP-1', {}), ('V', 'ate', {}), ('NP-2', 'N-2', {}), ('NP-2', 'D', {}), ('NP-1', 'N-1', {}), ('D', 'the', {})] \n",
        "\n",
        "apple [] \n",
        "\n",
        "V [('V', 'ate', {})] \n",
        "\n",
        "the [] \n",
        "\n",
        "NP-1 [('NP-1', 'N-1', {}), ('N-1', 'Jeff', {})] \n",
        "\n",
        "NP-2 [('N-2', 'apple', {}), ('D', 'the', {}), ('NP-2', 'N-2', {}), ('NP-2', 'D', {})] \n",
        "\n"
       ]
      }
     ],
     "prompt_number": 20
    },
    {
     "cell_type": "code",
     "collapsed": false,
     "input": [
      "for child_node in tree.nodes_iter():\n",
      "        # cf. http://stackoverflow.com/questions/7892144/subtree-with-networkx\n",
      "    child_subtree = nx.dfs_edges(tree, child_node)\n",
      "    print tuple(child_subtree)"
     ],
     "language": "python",
     "metadata": {},
     "outputs": [
      {
       "output_type": "stream",
       "stream": "stdout",
       "text": [
        "()\n",
        "(('N-2', 'apple'),)\n",
        "(('D', 'the'),)\n",
        "()\n",
        "(('N-1', 'Jeff'),)\n",
        "(('VP', 'NP-2'), ('NP-2', 'N-2'), ('N-2', 'apple'), ('NP-2', 'D'), ('D', 'the'), ('VP', 'V'), ('V', 'ate'))\n",
        "(('S', 'VP'), ('VP', 'NP-2'), ('NP-2', 'N-2'), ('N-2', 'apple'), ('NP-2', 'D'), ('D', 'the'), ('VP', 'V'), ('V', 'ate'), ('S', 'NP-1'), ('NP-1', 'N-1'), ('N-1', 'Jeff'))\n",
        "()\n",
        "(('V', 'ate'),)\n",
        "()\n",
        "(('NP-1', 'N-1'), ('N-1', 'Jeff'))\n",
        "(('NP-2', 'N-2'), ('N-2', 'apple'), ('NP-2', 'D'), ('D', 'the'))\n"
       ]
      }
     ],
     "prompt_number": 27
    },
    {
     "cell_type": "code",
     "collapsed": false,
     "input": [
      "import itertools\n",
      "import cytoolz\n",
      "\n",
      "a = range(10)\n",
      "\n",
      "for i, elem in enumerate(a, 1):\n",
      "    print list(cytoolz.take(i, a))"
     ],
     "language": "python",
     "metadata": {},
     "outputs": [
      {
       "output_type": "stream",
       "stream": "stdout",
       "text": [
        "[0]\n",
        "[0, 1]\n",
        "[0, 1, 2]\n",
        "[0, 1, 2, 3]\n",
        "[0, 1, 2, 3, 4]\n",
        "[0, 1, 2, 3, 4, 5]\n",
        "[0, 1, 2, 3, 4, 5, 6]\n",
        "[0, 1, 2, 3, 4, 5, 6, 7]\n",
        "[0, 1, 2, 3, 4, 5, 6, 7, 8]\n",
        "[0, 1, 2, 3, 4, 5, 6, 7, 8, 9]\n"
       ]
      }
     ],
     "prompt_number": 35
    },
    {
     "cell_type": "code",
     "collapsed": false,
     "input": [],
     "language": "python",
     "metadata": {},
     "outputs": []
    }
   ],
   "metadata": {}
  }
 ]
}