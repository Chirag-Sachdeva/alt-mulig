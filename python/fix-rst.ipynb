{
 "metadata": {
  "name": "",
  "signature": "sha256:a0eb28c6513fbfb1b4ca922d30042e0301b6800a4a3c5d3f7ced1b67cc4af958"
 },
 "nbformat": 3,
 "nbformat_minor": 0,
 "worksheets": [
  {
   "cells": [
    {
     "cell_type": "code",
     "collapsed": false,
     "input": [
      "%matplotlib inline\n",
      "\n",
      "# %install_ext https://raw.github.com/cjdrake/ipython-magic/master/gvmagic.py\n",
      "%load_ext gvmagic\n",
      "\n",
      "import os\n",
      "from discoursegraphs import tokens2text, EdgeTypes, get_span, print_dot, istoken\n",
      "from discoursegraphs import select_neighbors_by_layer, select_nodes_by_layer\n",
      "from discoursegraphs.readwrite import RSTGraph\n",
      "from discoursegraphs.readwrite.rst import get_rst_relation_root_nodes, get_rst_relations, get_rst_spans\n",
      "from discoursegraphs.util import TokenMapper, natural_sort_key\n",
      "\n",
      "PCC_ROOTDIR = os.path.expanduser('~/corpora/potsdam-commentary-corpus-2.0.0/')\n",
      "RST_DIR = os.path.join(PCC_ROOTDIR, 'rst')"
     ],
     "language": "python",
     "metadata": {},
     "outputs": [
      {
       "ename": "SyntaxError",
       "evalue": "invalid syntax (rst.py, line 434)",
       "output_type": "pyerr",
       "traceback": [
        "\u001b[1;36m  File \u001b[1;32m\"/usr/local/lib/python2.7/dist-packages/discoursegraphs-0.1.2-py2.7.egg/discoursegraphs/readwrite/rst.py\"\u001b[1;36m, line \u001b[1;32m434\u001b[0m\n\u001b[1;33m    print \"23\"\u001b[0m\n\u001b[1;37m             ^\u001b[0m\n\u001b[1;31mSyntaxError\u001b[0m\u001b[1;31m:\u001b[0m invalid syntax\n"
       ]
      }
     ],
     "prompt_number": 1
    },
    {
     "cell_type": "code",
     "collapsed": false,
     "input": [
      "DOC_ID = 'maz-10205'\n",
      "NODE_ID = 'rst:5'\n",
      "rst_graph = RSTGraph(os.path.join(RST_DIR, DOC_ID+'.rs3'))\n",
      "\n",
      "print rst_graph.node[NODE_ID], '\\n\\n'\n",
      "print rst_graph.neighbors(NODE_ID)\n",
      "print list(select_neighbors_by_layer(rst_graph, NODE_ID, layer={'rst:segment', 'rst:group'}))\n",
      "\n",
      "for dominated_node in rst_graph[NODE_ID]:\n",
      "    print dominated_node, rst_graph.node[dominated_node]['layers']"
     ],
     "language": "python",
     "metadata": {},
     "outputs": []
    },
    {
     "cell_type": "code",
     "collapsed": false,
     "input": [
      "DOC_ID = 'maz-00002'\n",
      "\n",
      "rst_graph = RSTGraph(os.path.join(RST_DIR, DOC_ID+'.rs3'))\n",
      "\n",
      "for node_id, node_attrs in select_nodes_by_layer(rst_graph, layer={'rst:segment', 'rst:group'}, data=True):\n",
      "    if 'rst:segment_type' not in node_attrs:\n",
      "        print node_id, node_attrs"
     ],
     "language": "python",
     "metadata": {},
     "outputs": []
    },
    {
     "cell_type": "code",
     "collapsed": false,
     "input": [
      "DOC_ID = 'maz-00002'\n",
      "\n",
      "rst_graph = RSTGraph(os.path.join(RST_DIR, DOC_ID+'.rs3'))\n",
      "rst_graph_untokenized = RSTGraph(os.path.join(RST_DIR, DOC_ID+'.rs3'), tokenize=False)"
     ],
     "language": "python",
     "metadata": {},
     "outputs": []
    },
    {
     "cell_type": "code",
     "collapsed": false,
     "input": [
      "from discoursegraphs import info, print_dot"
     ],
     "language": "python",
     "metadata": {},
     "outputs": []
    },
    {
     "cell_type": "code",
     "collapsed": false,
     "input": [
      "%dotstr print_dot(rst_graph_untokenized)\n",
      "\n",
      "# info(rst_graph_untokenized)"
     ],
     "language": "python",
     "metadata": {},
     "outputs": []
    },
    {
     "cell_type": "code",
     "collapsed": false,
     "input": [
      "def tokens2abbrev_string(docgraph, token_ids):\n",
      "    text = tokens2text(docgraph, token_ids)\n",
      "    return u\"{0} ... {1}\".format(text[:20], text[-20:])"
     ],
     "language": "python",
     "metadata": {},
     "outputs": []
    },
    {
     "cell_type": "code",
     "collapsed": false,
     "input": [
      "# get spans from rst relation root nodes\n",
      "\n",
      "DOC_ID = 'maz-00002'\n",
      "rst_graph = RSTGraph(os.path.join(RST_DIR, DOC_ID+'.rs3'))\n",
      "rst_graph_untokenized = RSTGraph(os.path.join(RST_DIR, DOC_ID+'.rs3'), tokenize=False)\n",
      "\n",
      "for dom_node, relname, toks in get_rst_relation_root_nodes(rst_graph):\n",
      "    print dom_node, relname, tokens2text(rst_graph, toks)\n",
      "    neighbors = list(select_neighbors_by_layer(rst_graph, dom_node, layer={'rst:segment', 'rst:group'}))\n",
      "    print \"\\tdominated: \", neighbors, '\\t'\n",
      "    multinuc_nuc_count = 1\n",
      "    \n",
      "    directly_dominated_tokens = sorted([node for node in rst_graph.neighbors(dom_node)\n",
      "                                        if istoken(rst_graph, node)], key=natural_sort_key)\n",
      "    if directly_dominated_tokens:\n",
      "        print '\\tN-self', tokens2abbrev_string(rst_graph, directly_dominated_tokens)\n",
      "    \n",
      "    for neighbor in neighbors:\n",
      "        for edge in rst_graph[dom_node][neighbor]:  # multidigraph\n",
      "            edge_attrs = rst_graph[dom_node][neighbor][edge]\n",
      "            \n",
      "            # a span always signifies the nucleus of a relation\n",
      "            if edge_attrs['edge_type'] == EdgeTypes.spanning_relation:\n",
      "                print \"\\tN-span:\", neighbor, tokens2abbrev_string(rst_graph, get_span(rst_graph, neighbor))\n",
      "            elif edge_attrs['rst:rel_type'] == 'rst':\n",
      "                print '\\tS', edge_attrs['rst:rel_name'], tokens2abbrev_string(rst_graph, get_span(rst_graph, neighbor))\n",
      "            elif edge_attrs['rst:rel_type'] == 'multinuc':\n",
      "                print '\\tN{}'.format(multinuc_nuc_count), \\\n",
      "                    edge_attrs['rst:rel_name'], tokens2abbrev_string(rst_graph, get_span(rst_graph, neighbor))\n",
      "                multinuc_nuc_count += 1\n",
      "            else:\n",
      "                print '\\tUNKNOWN', neighbor, edge_attrs\n",
      "    print '\\n\\n'"
     ],
     "language": "python",
     "metadata": {},
     "outputs": []
    },
    {
     "cell_type": "code",
     "collapsed": false,
     "input": [
      "# get spans from rst relation root nodes\n",
      "\n",
      "from collections import defaultdict\n",
      "\n",
      "rst_files = !ls $RST_DIR/*.rs3\n",
      "\n",
      "all_relations = {}\n",
      "for rst_file in rst_files:\n",
      "    rst_relations = defaultdict(lambda : defaultdict(str))\n",
      "    rst_graph = RSTGraph(rst_file)\n",
      "\n",
      "    for dom_node, relname, toks in get_rst_relation_root_nodes(rst_graph):\n",
      "#         print dom_node, relname, tokens2text(rst_graph, toks)\n",
      "        neighbors = list(select_neighbors_by_layer(rst_graph, dom_node, layer={'rst:segment', 'rst:group'}))\n",
      "#         print \"\\tdominated: \", neighbors, '\\t'\n",
      "        multinuc_nuc_count = 1\n",
      "\n",
      "        directly_dominated_tokens = sorted([node for node in rst_graph.neighbors(dom_node)\n",
      "                                            if istoken(rst_graph, node)], key=natural_sort_key)\n",
      "        if directly_dominated_tokens:\n",
      "#             print '\\tN-self', tokens2abbrev_string(rst_graph, directly_dominated_tokens)\n",
      "            rst_relations[dom_node]['tokens'] = directly_dominated_tokens\n",
      "\n",
      "        for neighbor in neighbors:\n",
      "            for edge in rst_graph[dom_node][neighbor]:  # multidigraph\n",
      "                edge_attrs = rst_graph[dom_node][neighbor][edge]\n",
      "\n",
      "                # a span always signifies the nucleus of a relation; there can be only one\n",
      "                if edge_attrs['edge_type'] == EdgeTypes.spanning_relation:\n",
      "#                     print \"\\tN-span:\", neighbor, tokens2abbrev_string(rst_graph, get_span(rst_graph, neighbor))\n",
      "                    rst_relations[dom_node]['nucleus'] = (neighbor, get_span(rst_graph, neighbor))\n",
      "                elif edge_attrs['rst:rel_type'] == 'rst':\n",
      "#                     print '\\tS', edge_attrs['rst:rel_name'], tokens2abbrev_string(rst_graph, get_span(rst_graph, neighbor))\n",
      "                    satellite = (neighbor, edge_attrs['rst:rel_name'], get_span(rst_graph, neighbor))\n",
      "                    if 'satellites' in rst_relations[dom_node]:\n",
      "                        rst_relations[dom_node]['satellites'].append(satellite)\n",
      "                    else:\n",
      "                        rst_relations[dom_node]['satellites'] = [satellite]\n",
      "                elif edge_attrs['rst:rel_type'] == 'multinuc':\n",
      "                    nucleus = (neighbor, edge_attrs['rst:rel_name'], get_span(rst_graph, neighbor))\n",
      "#                     print '\\tN{}'.format(multinuc_nuc_count), \\\n",
      "#                         edge_attrs['rst:rel_name'], tokens2abbrev_string(rst_graph, get_span(rst_graph, neighbor))\n",
      "                    if 'multinuc' in rst_relations[dom_node]:\n",
      "                        rst_relations[dom_node]['multinuc'].append(nucleus)\n",
      "                    else:\n",
      "                        rst_relations[dom_node]['multinuc'] = [nucleus]\n",
      "                    multinuc_nuc_count += 1\n",
      "                else:\n",
      "                    raise NotImplementedError(\"unknown type of RST segment domination\")\n",
      "#                     unknown = (neighbor, edge_attrs)\n",
      "# #                     print '\\tUNKNOWN', neighbor, edge_attrs\n",
      "#                     if 'unknown' in rst_relations[dom_node]:\n",
      "#                         rst_relations[dom_node]['unknown'].append(unknown)\n",
      "#                     else:\n",
      "#                         rst_relations[dom_node]['unknown'] = [unknown]\n",
      "                    \n",
      "#         print '\\n\\n'\n",
      "    all_relations[os.path.basename(rst_file)] = rst_relations"
     ],
     "language": "python",
     "metadata": {},
     "outputs": []
    },
    {
     "cell_type": "code",
     "collapsed": false,
     "input": [
      "rel_combs = set()\n",
      "\n",
      "for rst_file in all_relations:\n",
      "    for dom_node in all_relations[rst_file]:\n",
      "        rel_combs.add(tuple(all_relations[rst_file][dom_node].keys()))"
     ],
     "language": "python",
     "metadata": {},
     "outputs": []
    },
    {
     "cell_type": "code",
     "collapsed": false,
     "input": [
      "rel_combs"
     ],
     "language": "python",
     "metadata": {},
     "outputs": []
    },
    {
     "cell_type": "code",
     "collapsed": false,
     "input": [
      "%dotstr print_dot(rst_graph_untokenized)"
     ],
     "language": "python",
     "metadata": {},
     "outputs": []
    },
    {
     "cell_type": "code",
     "collapsed": false,
     "input": [
      "rst_files = !ls $RST_DIR/*.rs3\n",
      "\n",
      "all_relations = {}\n",
      "for rst_file in rst_files:\n",
      "    rst_graph = RSTGraph(rst_file)\n",
      "    all_relations[os.path.basename(rst_file)] = get_rst_relations(rst_graph)"
     ],
     "language": "python",
     "metadata": {},
     "outputs": []
    },
    {
     "cell_type": "code",
     "collapsed": false,
     "input": [
      "def get_segment_token_offsets(segment_token_list, token_map):\n",
      "    \"\"\"\n",
      "    Parameters\n",
      "    ----------\n",
      "    segment_token_list : list of str\n",
      "        sorted list of token IDs (i.e. the tokens\n",
      "        that this segment spans)\n",
      "    token_map : dict of (str, int)\n",
      "        a map from token IDs to token indices\n",
      "    \n",
      "    Returns\n",
      "    -------\n",
      "    first_token_index : int\n",
      "        index of the first token of the segment\n",
      "    last_token_index : int\n",
      "        index of the last token of the segment\n",
      "    \"\"\"\n",
      "    token_indices = [token_map[token_id] for token_id in segment_token_list]\n",
      "    # we need to foolproof this for nasty RS3 files or other input formats\n",
      "    # with unordered or wrongly orderd indices\n",
      "    return min(token_indices), max(token_indices)"
     ],
     "language": "python",
     "metadata": {},
     "outputs": [],
     "prompt_number": 7
    },
    {
     "cell_type": "code",
     "collapsed": false,
     "input": [
      "def token_offsets2text(docgraph, token_mapper, token_onset, token_offset):\n",
      "    token_indices = xrange(token_onset, token_offset+1)\n",
      "    token_ids = (token_mapper.index2id[token_index] for token_index in token_indices)\n",
      "    return tokens2text(docgraph, token_ids)"
     ],
     "language": "python",
     "metadata": {},
     "outputs": []
    },
    {
     "cell_type": "code",
     "collapsed": false,
     "input": [
      "import sys\n",
      "from discoursegraphs.readwrite import RSTGraph\n",
      "from discoursegraphs.util import TokenMapper\n",
      "from discoursegraphs.readwrite.rst import get_rst_relations\n",
      "\n",
      "PCC_ROOTDIR = os.path.expanduser('~/corpora/potsdam-commentary-corpus-2.0.0/')\n",
      "RST_DIR = os.path.join(PCC_ROOTDIR, 'rst')\n",
      "DOC_ID = 'maz-00002'\n",
      "docgraph = RSTGraph(os.path.join(RST_DIR, DOC_ID+'.rs3'))\n",
      "\n",
      "is_sane = lambda start, end: end >= start\n",
      "token_map = TokenMapper(docgraph).id2index\n",
      "rst_relations = get_rst_relations(docgraph)\n",
      "\n",
      "for dom_node in rst_relations:        \n",
      "    if 'multinuc' in rst_relations[dom_node]:\n",
      "        nuc_count = 1\n",
      "        multinuc_start, multinuc_end = sys.maxint, 0\n",
      "        multinuc_spans = rst_relations[dom_node]['multinuc']\n",
      "        multinuc_rel_id = \"{0}-{1}\".format(\n",
      "            dom_node, '-'.join(target for target, _rel, _toks in multinuc_spans))\n",
      "\n",
      "        for nucleus, relname, toks in multinuc_spans:\n",
      "            nuc_start, nuc_end = get_segment_token_offsets(toks, token_map)\n",
      "            assert is_sane(nuc_start, nuc_end)\n",
      "            print \"{0}:N{1},{2},{3},{4}\".format(multinuc_rel_id, nuc_count, relname, nuc_start, nuc_end)\n",
      "            nuc_count += 1\n",
      "            # determine the token offsets of the whole multinuc relation iteratively\n",
      "            if nuc_start < multinuc_start:\n",
      "                multinuc_start = nuc_start\n",
      "            if nuc_end > multinuc_end:\n",
      "                multinuc_end = nuc_end\n",
      "        assert is_sane(multinuc_start, multinuc_end)\n",
      "\n",
      "    if 'satellites' in rst_relations[dom_node]:\n",
      "        # find the nucleus\n",
      "        if 'nucleus' in rst_relations[dom_node]:\n",
      "            nuc_id, nuc_toks = rst_relations[dom_node]['nucleus']\n",
      "            nuc_start, nuc_end = get_segment_token_offsets(nuc_toks, token_map)\n",
      "            assert is_sane(nuc_start, nuc_end)\n",
      "        elif 'multinuc' in rst_relations[dom_node]:\n",
      "            nuc_id = multinuc_rel_id # multinuc as a whole is the nucleus\n",
      "            nuc_start, nuc_end = multinuc_start, multinuc_end\n",
      "        elif 'tokens' in rst_relations[dom_node]:\n",
      "            nuc_id = dom_node # dominating segment node directly dominates these tokens\n",
      "            nuc_start, nuc_end = get_segment_token_offsets(rst_relations[dom_node]['tokens'], token_map)\n",
      "            assert is_sane(nuc_start, nuc_end)\n",
      "        else:\n",
      "            raise ValueError(\"Can't find a nucleus for these satellites: {}\".format(rst_relations[dom_node]['satellites']))\n",
      "\n",
      "        sat_spans = rst_relations[dom_node]['satellites']\n",
      "        for satellite, relname, sat_toks in sat_spans:            \n",
      "            sat_start, sat_end = get_segment_token_offsets(sat_toks, token_map)\n",
      "            assert is_sane(sat_start, sat_end)\n",
      "            print \"{0}-{1}:N,{2},{3},{4}\".format(nuc_id, satellite, relname, nuc_start, nuc_end) # print nucleus\n",
      "            print \"{0}-{1}:S,{2},{3},{4}\".format(nuc_id, satellite, relname, sat_start, sat_end)  # print satellite\n"
     ],
     "language": "python",
     "metadata": {},
     "outputs": [
      {
       "output_type": "stream",
       "stream": "stdout",
       "text": [
        "rst:16-rst:15:N,condition,116,122\n",
        "rst:16-rst:15:S,condition,109,115\n",
        "rst:14-rst:30:N,reason,103,108\n",
        "rst:14-rst:30:S,reason,109,153\n",
        "rst:33-rst:31-rst:32:N1,contrast,103,153\n",
        "rst:33-rst:31-rst:32:N2,contrast,31,102\n",
        "rst:33-rst:31-rst:32-rst:21:N,background,31,153\n",
        "rst:33-rst:31-rst:32-rst:21:S,background,2,30\n",
        "rst:12-rst:13:N,elaboration,87,92\n",
        "rst:12-rst:13:S,elaboration,93,102\n",
        "rst:10-rst:11:N,elaboration,71,81\n",
        "rst:10-rst:11:S,elaboration,82,86\n",
        "rst:18-rst:29:N,reason,123,153\n",
        "rst:18-rst:29:S,reason,109,122\n",
        "rst:10-rst:24:N,evaluation-s,71,86\n",
        "rst:10-rst:24:S,evaluation-s,87,102\n",
        "rst:22-rst:7-rst:8:N1,conjunction,41,51\n",
        "rst:22-rst:7-rst:8:N2,conjunction,52,61\n",
        "rst:22-rst:7-rst:8-rst:26:N,elaboration,41,61\n",
        "rst:22-rst:7-rst:8-rst:26:S,elaboration,62,102\n",
        "rst:18-rst:17:N,preparation,130,153\n",
        "rst:18-rst:17:S,preparation,123,129\n",
        "rst:20-rst:4-rst:3-rst:2:N1,list,20,24\n",
        "rst:20-rst:4-rst:3-rst:2:N2,list,15,19\n",
        "rst:20-rst:4-rst:3-rst:2:N3,list,8,14\n",
        "rst:20-rst:4-rst:3-rst:2-rst:5:N,evaluation-s,8,24\n",
        "rst:20-rst:4-rst:3-rst:2-rst:5:S,evaluation-s,25,30\n",
        "rst:20-rst:4-rst:3-rst:2-rst:19:N,preparation,8,24\n",
        "rst:20-rst:4-rst:3-rst:2-rst:19:S,preparation,2,7\n",
        "rst:6-rst:27:N,evidence,31,40\n",
        "rst:6-rst:27:S,evidence,41,102\n",
        "rst:9-rst:25:N,reason,62,70\n",
        "rst:9-rst:25:S,reason,71,102\n"
       ]
      }
     ],
     "prompt_number": 11
    },
    {
     "cell_type": "code",
     "collapsed": false,
     "input": [],
     "language": "python",
     "metadata": {},
     "outputs": []
    }
   ],
   "metadata": {}
  }
 ]
}