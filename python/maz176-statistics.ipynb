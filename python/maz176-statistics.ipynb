{
 "cells": [
  {
   "cell_type": "markdown",
   "metadata": {},
   "source": [
    "# MAZ176 statistics\n",
    "\n",
    "Author: Arne Neumann\n",
    "\n",
    "Date: 2014-10-13"
   ]
  },
  {
   "cell_type": "code",
   "execution_count": 33,
   "metadata": {
    "collapsed": false
   },
   "outputs": [],
   "source": [
    "%matplotlib inline\n",
    "\n",
    "import os\n",
    "from collections import Counter\n",
    "from operator import itemgetter\n",
    "\n",
    "import pandas as pd\n",
    "from networkx import Graph\n",
    "from networkx.algorithms.components.connected import connected_components\n",
    "from discoursegraphs import select_edges_by, get_pointing_chains\n",
    "from discoursegraphs.readwrite import ConanoDocumentGraph, MMAXDocumentGraph, RSTGraph, TigerDocumentGraph\n",
    "\n",
    "MAZ_ROOTDIR = os.path.expanduser('~/repos/pcc-annis-merged/maz176/')"
   ]
  },
  {
   "cell_type": "markdown",
   "metadata": {},
   "source": [
    "# Number of Connectors"
   ]
  },
  {
   "cell_type": "code",
   "execution_count": 34,
   "metadata": {
    "collapsed": false
   },
   "outputs": [],
   "source": [
    "CONANO_DIR = os.path.join(MAZ_ROOTDIR, 'connectors')\n",
    "conano_files = !ls $CONANO_DIR/*.xml"
   ]
  },
  {
   "cell_type": "markdown",
   "metadata": {},
   "source": [
    "## Number of Connectors by Connector Type"
   ]
  },
  {
   "cell_type": "code",
   "execution_count": 35,
   "metadata": {
    "collapsed": false
   },
   "outputs": [],
   "source": [
    "all_connectors = Counter()\n",
    "\n",
    "for conano_file in conano_files:\n",
    "    cdg = ConanoDocumentGraph(conano_file)\n",
    "    for token_id in cdg.tokens:\n",
    "        if 'conano:connective' in cdg.node[token_id]['layers']:\n",
    "            all_connectors[cdg.node[token_id]['relation']] += 1"
   ]
  },
  {
   "cell_type": "code",
   "execution_count": 36,
   "metadata": {
    "collapsed": false
   },
   "outputs": [
    {
     "data": {
      "text/html": [
       "<div style=\"max-height:1000px;max-width:1500px;overflow:auto;\">\n",
       "<table border=\"1\" class=\"dataframe\">\n",
       "  <thead>\n",
       "    <tr style=\"text-align: right;\">\n",
       "      <th></th>\n",
       "      <th>connectors</th>\n",
       "      <th>counts</th>\n",
       "    </tr>\n",
       "  </thead>\n",
       "  <tbody>\n",
       "    <tr>\n",
       "      <th>0 </th>\n",
       "      <td>     addition</td>\n",
       "      <td> 365</td>\n",
       "    </tr>\n",
       "    <tr>\n",
       "      <th>1 </th>\n",
       "      <td>  consequence</td>\n",
       "      <td> 200</td>\n",
       "    </tr>\n",
       "    <tr>\n",
       "      <th>2 </th>\n",
       "      <td>   concession</td>\n",
       "      <td> 175</td>\n",
       "    </tr>\n",
       "    <tr>\n",
       "      <th>3 </th>\n",
       "      <td>     contrast</td>\n",
       "      <td> 171</td>\n",
       "    </tr>\n",
       "    <tr>\n",
       "      <th>4 </th>\n",
       "      <td>    condition</td>\n",
       "      <td> 105</td>\n",
       "    </tr>\n",
       "    <tr>\n",
       "      <th>5 </th>\n",
       "      <td>   successive</td>\n",
       "      <td>  52</td>\n",
       "    </tr>\n",
       "    <tr>\n",
       "      <th>6 </th>\n",
       "      <td>  alternation</td>\n",
       "      <td>  35</td>\n",
       "    </tr>\n",
       "    <tr>\n",
       "      <th>7 </th>\n",
       "      <td>      purpose</td>\n",
       "      <td>  23</td>\n",
       "    </tr>\n",
       "    <tr>\n",
       "      <th>8 </th>\n",
       "      <td> simultaneous</td>\n",
       "      <td>  21</td>\n",
       "    </tr>\n",
       "    <tr>\n",
       "      <th>9 </th>\n",
       "      <td>     temporal</td>\n",
       "      <td>  10</td>\n",
       "    </tr>\n",
       "    <tr>\n",
       "      <th>10</th>\n",
       "      <td>  elaboration</td>\n",
       "      <td>   5</td>\n",
       "    </tr>\n",
       "    <tr>\n",
       "      <th>11</th>\n",
       "      <td>       manner</td>\n",
       "      <td>   4</td>\n",
       "    </tr>\n",
       "    <tr>\n",
       "      <th>12</th>\n",
       "      <td>             </td>\n",
       "      <td>   3</td>\n",
       "    </tr>\n",
       "    <tr>\n",
       "      <th>13</th>\n",
       "      <td>     sequence</td>\n",
       "      <td>   2</td>\n",
       "    </tr>\n",
       "    <tr>\n",
       "      <th>14</th>\n",
       "      <td> circumstance</td>\n",
       "      <td>   1</td>\n",
       "    </tr>\n",
       "    <tr>\n",
       "      <th>15</th>\n",
       "      <td>        joint</td>\n",
       "      <td>   1</td>\n",
       "    </tr>\n",
       "    <tr>\n",
       "      <th>16</th>\n",
       "      <td>   concessive</td>\n",
       "      <td>   1</td>\n",
       "    </tr>\n",
       "    <tr>\n",
       "      <th>17</th>\n",
       "      <td>   succession</td>\n",
       "      <td>   1</td>\n",
       "    </tr>\n",
       "    <tr>\n",
       "      <th>18</th>\n",
       "      <td>        cause</td>\n",
       "      <td>   1</td>\n",
       "    </tr>\n",
       "  </tbody>\n",
       "</table>\n",
       "</div>"
      ],
      "text/plain": [
       "      connectors  counts\n",
       "0       addition     365\n",
       "1    consequence     200\n",
       "2     concession     175\n",
       "3       contrast     171\n",
       "4      condition     105\n",
       "5     successive      52\n",
       "6    alternation      35\n",
       "7        purpose      23\n",
       "8   simultaneous      21\n",
       "9       temporal      10\n",
       "10   elaboration       5\n",
       "11        manner       4\n",
       "12                     3\n",
       "13      sequence       2\n",
       "14  circumstance       1\n",
       "15         joint       1\n",
       "16    concessive       1\n",
       "17    succession       1\n",
       "18         cause       1"
      ]
     },
     "execution_count": 36,
     "metadata": {},
     "output_type": "execute_result"
    }
   ],
   "source": [
    "connector_counts = sorted(all_connectors.iteritems(), key=itemgetter(1), reverse=True)\n",
    "connector_df = pd.DataFrame(connector_counts, columns=['connectors', 'counts'])\n",
    "connector_df"
   ]
  },
  {
   "cell_type": "code",
   "execution_count": 37,
   "metadata": {
    "collapsed": false
   },
   "outputs": [
    {
     "data": {
      "text/plain": [
       "<matplotlib.axes.AxesSubplot at 0x799c950>"
      ]
     },
     "execution_count": 37,
     "metadata": {},
     "output_type": "execute_result"
    },
    {
     "data": {
      "image/png": "[encoded data removed]",
      "text/plain": [
       "<matplotlib.figure.Figure at 0x78eec90>"
      ]
     },
     "metadata": {},
     "output_type": "display_data"
    }
   ],
   "source": [
    "connector_df.plot(kind='bar', x='connectors', y='counts')"
   ]
  },
  {
   "cell_type": "markdown",
   "metadata": {},
   "source": [
    "## Number of Connectors by Connector Token"
   ]
  },
  {
   "cell_type": "code",
   "execution_count": 38,
   "metadata": {
    "collapsed": false
   },
   "outputs": [],
   "source": [
    "connector_tokens = Counter()\n",
    "\n",
    "for conano_file in conano_files:\n",
    "    cdg = ConanoDocumentGraph(conano_file)\n",
    "    for token_id in cdg.tokens:\n",
    "        if 'conano:connective' in cdg.node[token_id]['layers']:\n",
    "            # count tokens normalized to lower case\n",
    "            connector_tokens[cdg.get_token(token_id).lower()] += 1"
   ]
  },
  {
   "cell_type": "code",
   "execution_count": 39,
   "metadata": {
    "collapsed": false
   },
   "outputs": [
    {
     "data": {
      "text/html": [
       "<div style=\"max-height:1000px;max-width:1500px;overflow:auto;\">\n",
       "<table border=\"1\" class=\"dataframe\">\n",
       "  <thead>\n",
       "    <tr style=\"text-align: right;\">\n",
       "      <th></th>\n",
       "      <th>connectors</th>\n",
       "      <th>counts</th>\n",
       "    </tr>\n",
       "  </thead>\n",
       "  <tbody>\n",
       "    <tr>\n",
       "      <th>0  </th>\n",
       "      <td>          und</td>\n",
       "      <td> 248</td>\n",
       "    </tr>\n",
       "    <tr>\n",
       "      <th>1  </th>\n",
       "      <td>         wenn</td>\n",
       "      <td>  93</td>\n",
       "    </tr>\n",
       "    <tr>\n",
       "      <th>2  </th>\n",
       "      <td>         aber</td>\n",
       "      <td>  89</td>\n",
       "    </tr>\n",
       "    <tr>\n",
       "      <th>3  </th>\n",
       "      <td>         doch</td>\n",
       "      <td>  87</td>\n",
       "    </tr>\n",
       "    <tr>\n",
       "      <th>4  </th>\n",
       "      <td>         denn</td>\n",
       "      <td>  51</td>\n",
       "    </tr>\n",
       "    <tr>\n",
       "      <th>5  </th>\n",
       "      <td>         auch</td>\n",
       "      <td>  41</td>\n",
       "    </tr>\n",
       "    <tr>\n",
       "      <th>6  </th>\n",
       "      <td>         dann</td>\n",
       "      <td>  40</td>\n",
       "    </tr>\n",
       "    <tr>\n",
       "      <th>7  </th>\n",
       "      <td>         oder</td>\n",
       "      <td>  29</td>\n",
       "    </tr>\n",
       "    <tr>\n",
       "      <th>8  </th>\n",
       "      <td>           so</td>\n",
       "      <td>  26</td>\n",
       "    </tr>\n",
       "    <tr>\n",
       "      <th>9  </th>\n",
       "      <td>      sondern</td>\n",
       "      <td>  25</td>\n",
       "    </tr>\n",
       "    <tr>\n",
       "      <th>10 </th>\n",
       "      <td>         zwar</td>\n",
       "      <td>  23</td>\n",
       "    </tr>\n",
       "    <tr>\n",
       "      <th>11 </th>\n",
       "      <td>         weil</td>\n",
       "      <td>  22</td>\n",
       "    </tr>\n",
       "    <tr>\n",
       "      <th>12 </th>\n",
       "      <td>      deshalb</td>\n",
       "      <td>  22</td>\n",
       "    </tr>\n",
       "    <tr>\n",
       "      <th>13 </th>\n",
       "      <td>           um</td>\n",
       "      <td>  19</td>\n",
       "    </tr>\n",
       "    <tr>\n",
       "      <th>14 </th>\n",
       "      <td>          als</td>\n",
       "      <td>  17</td>\n",
       "    </tr>\n",
       "    <tr>\n",
       "      <th>15 </th>\n",
       "      <td>         also</td>\n",
       "      <td>  17</td>\n",
       "    </tr>\n",
       "    <tr>\n",
       "      <th>16 </th>\n",
       "      <td>       jedoch</td>\n",
       "      <td>  14</td>\n",
       "    </tr>\n",
       "    <tr>\n",
       "      <th>17 </th>\n",
       "      <td>          zum</td>\n",
       "      <td>  14</td>\n",
       "    </tr>\n",
       "    <tr>\n",
       "      <th>18 </th>\n",
       "      <td>        damit</td>\n",
       "      <td>  14</td>\n",
       "    </tr>\n",
       "    <tr>\n",
       "      <th>19 </th>\n",
       "      <td>   allerdings</td>\n",
       "      <td>  13</td>\n",
       "    </tr>\n",
       "    <tr>\n",
       "      <th>20 </th>\n",
       "      <td>      nämlich</td>\n",
       "      <td>  13</td>\n",
       "    </tr>\n",
       "    <tr>\n",
       "      <th>21 </th>\n",
       "      <td>      dennoch</td>\n",
       "      <td>  11</td>\n",
       "    </tr>\n",
       "    <tr>\n",
       "      <th>22 </th>\n",
       "      <td>        wegen</td>\n",
       "      <td>  10</td>\n",
       "    </tr>\n",
       "    <tr>\n",
       "      <th>23 </th>\n",
       "      <td>     beispiel</td>\n",
       "      <td>   9</td>\n",
       "    </tr>\n",
       "    <tr>\n",
       "      <th>24 </th>\n",
       "      <td>        dabei</td>\n",
       "      <td>   9</td>\n",
       "    </tr>\n",
       "    <tr>\n",
       "      <th>25 </th>\n",
       "      <td>       obwohl</td>\n",
       "      <td>   8</td>\n",
       "    </tr>\n",
       "    <tr>\n",
       "      <th>26 </th>\n",
       "      <td>           da</td>\n",
       "      <td>   8</td>\n",
       "    </tr>\n",
       "    <tr>\n",
       "      <th>27 </th>\n",
       "      <td>  schließlich</td>\n",
       "      <td>   8</td>\n",
       "    </tr>\n",
       "    <tr>\n",
       "      <th>28 </th>\n",
       "      <td>        statt</td>\n",
       "      <td>   7</td>\n",
       "    </tr>\n",
       "    <tr>\n",
       "      <th>29 </th>\n",
       "      <td>        trotz</td>\n",
       "      <td>   7</td>\n",
       "    </tr>\n",
       "    <tr>\n",
       "      <th>...</th>\n",
       "      <td>...</td>\n",
       "      <td>...</td>\n",
       "    </tr>\n",
       "    <tr>\n",
       "      <th>85 </th>\n",
       "      <td>    obendrein</td>\n",
       "      <td>   1</td>\n",
       "    </tr>\n",
       "    <tr>\n",
       "      <th>86 </th>\n",
       "      <td>      seither</td>\n",
       "      <td>   1</td>\n",
       "    </tr>\n",
       "    <tr>\n",
       "      <th>87 </th>\n",
       "      <td>        zuvor</td>\n",
       "      <td>   1</td>\n",
       "    </tr>\n",
       "    <tr>\n",
       "      <th>88 </th>\n",
       "      <td>           z.</td>\n",
       "      <td>   1</td>\n",
       "    </tr>\n",
       "    <tr>\n",
       "      <th>89 </th>\n",
       "      <td>       ebenso</td>\n",
       "      <td>   1</td>\n",
       "    </tr>\n",
       "    <tr>\n",
       "      <th>90 </th>\n",
       "      <td>     entgegen</td>\n",
       "      <td>   1</td>\n",
       "    </tr>\n",
       "    <tr>\n",
       "      <th>91 </th>\n",
       "      <td> gleichzeitig</td>\n",
       "      <td>   1</td>\n",
       "    </tr>\n",
       "    <tr>\n",
       "      <th>92 </th>\n",
       "      <td>       vorher</td>\n",
       "      <td>   1</td>\n",
       "    </tr>\n",
       "    <tr>\n",
       "      <th>93 </th>\n",
       "      <td>         drum</td>\n",
       "      <td>   1</td>\n",
       "    </tr>\n",
       "    <tr>\n",
       "      <th>94 </th>\n",
       "      <td>      anstatt</td>\n",
       "      <td>   1</td>\n",
       "    </tr>\n",
       "    <tr>\n",
       "      <th>95 </th>\n",
       "      <td>      obschon</td>\n",
       "      <td>   1</td>\n",
       "    </tr>\n",
       "    <tr>\n",
       "      <th>96 </th>\n",
       "      <td>     aufgrund</td>\n",
       "      <td>   1</td>\n",
       "    </tr>\n",
       "    <tr>\n",
       "      <th>97 </th>\n",
       "      <td>          ehe</td>\n",
       "      <td>   1</td>\n",
       "    </tr>\n",
       "    <tr>\n",
       "      <th>98 </th>\n",
       "      <td>        darum</td>\n",
       "      <td>   1</td>\n",
       "    </tr>\n",
       "    <tr>\n",
       "      <th>99 </th>\n",
       "      <td>       danach</td>\n",
       "      <td>   1</td>\n",
       "    </tr>\n",
       "    <tr>\n",
       "      <th>100</th>\n",
       "      <td>       laufen</td>\n",
       "      <td>   1</td>\n",
       "    </tr>\n",
       "    <tr>\n",
       "      <th>101</th>\n",
       "      <td>       sofern</td>\n",
       "      <td>   1</td>\n",
       "    </tr>\n",
       "    <tr>\n",
       "      <th>102</th>\n",
       "      <td>        grund</td>\n",
       "      <td>   1</td>\n",
       "    </tr>\n",
       "    <tr>\n",
       "      <th>103</th>\n",
       "      <td>  andernfalls</td>\n",
       "      <td>   1</td>\n",
       "    </tr>\n",
       "    <tr>\n",
       "      <th>104</th>\n",
       "      <td>    daraufhin</td>\n",
       "      <td>   1</td>\n",
       "    </tr>\n",
       "    <tr>\n",
       "      <th>105</th>\n",
       "      <td>          bei</td>\n",
       "      <td>   1</td>\n",
       "    </tr>\n",
       "    <tr>\n",
       "      <th>106</th>\n",
       "      <td>    ebenfalls</td>\n",
       "      <td>   1</td>\n",
       "    </tr>\n",
       "    <tr>\n",
       "      <th>107</th>\n",
       "      <td>       sobald</td>\n",
       "      <td>   1</td>\n",
       "    </tr>\n",
       "    <tr>\n",
       "      <th>108</th>\n",
       "      <td>          sei</td>\n",
       "      <td>   1</td>\n",
       "    </tr>\n",
       "    <tr>\n",
       "      <th>109</th>\n",
       "      <td>        dafür</td>\n",
       "      <td>   1</td>\n",
       "    </tr>\n",
       "    <tr>\n",
       "      <th>110</th>\n",
       "      <td>       mithin</td>\n",
       "      <td>   1</td>\n",
       "    </tr>\n",
       "    <tr>\n",
       "      <th>111</th>\n",
       "      <td>   allenfalls</td>\n",
       "      <td>   1</td>\n",
       "    </tr>\n",
       "    <tr>\n",
       "      <th>112</th>\n",
       "      <td>   angesichts</td>\n",
       "      <td>   1</td>\n",
       "    </tr>\n",
       "    <tr>\n",
       "      <th>113</th>\n",
       "      <td> anderenfalls</td>\n",
       "      <td>   1</td>\n",
       "    </tr>\n",
       "    <tr>\n",
       "      <th>114</th>\n",
       "      <td>       ferner</td>\n",
       "      <td>   1</td>\n",
       "    </tr>\n",
       "  </tbody>\n",
       "</table>\n",
       "<p>115 rows × 2 columns</p>\n",
       "</div>"
      ],
      "text/plain": [
       "       connectors  counts\n",
       "0             und     248\n",
       "1            wenn      93\n",
       "2            aber      89\n",
       "3            doch      87\n",
       "4            denn      51\n",
       "5            auch      41\n",
       "6            dann      40\n",
       "7            oder      29\n",
       "8              so      26\n",
       "9         sondern      25\n",
       "10           zwar      23\n",
       "11           weil      22\n",
       "12        deshalb      22\n",
       "13             um      19\n",
       "14            als      17\n",
       "15           also      17\n",
       "16         jedoch      14\n",
       "17            zum      14\n",
       "18          damit      14\n",
       "19     allerdings      13\n",
       "20        nämlich      13\n",
       "21        dennoch      11\n",
       "22          wegen      10\n",
       "23       beispiel       9\n",
       "24          dabei       9\n",
       "25         obwohl       8\n",
       "26             da       8\n",
       "27    schließlich       8\n",
       "28          statt       7\n",
       "29          trotz       7\n",
       "..            ...     ...\n",
       "85      obendrein       1\n",
       "86        seither       1\n",
       "87          zuvor       1\n",
       "88             z.       1\n",
       "89         ebenso       1\n",
       "90       entgegen       1\n",
       "91   gleichzeitig       1\n",
       "92         vorher       1\n",
       "93           drum       1\n",
       "94        anstatt       1\n",
       "95        obschon       1\n",
       "96       aufgrund       1\n",
       "97            ehe       1\n",
       "98          darum       1\n",
       "99         danach       1\n",
       "100        laufen       1\n",
       "101        sofern       1\n",
       "102         grund       1\n",
       "103   andernfalls       1\n",
       "104     daraufhin       1\n",
       "105           bei       1\n",
       "106     ebenfalls       1\n",
       "107        sobald       1\n",
       "108           sei       1\n",
       "109         dafür       1\n",
       "110        mithin       1\n",
       "111    allenfalls       1\n",
       "112    angesichts       1\n",
       "113  anderenfalls       1\n",
       "114        ferner       1\n",
       "\n",
       "[115 rows x 2 columns]"
      ]
     },
     "execution_count": 39,
     "metadata": {},
     "output_type": "execute_result"
    }
   ],
   "source": [
    "connector_token_counts = sorted(connector_tokens.iteritems(), key=itemgetter(1), reverse=True)\n",
    "connector_token_df = pd.DataFrame(connector_token_counts, columns=['connectors', 'counts'])\n",
    "connector_token_df"
   ]
  },
  {
   "cell_type": "code",
   "execution_count": 40,
   "metadata": {
    "collapsed": false
   },
   "outputs": [
    {
     "data": {
      "text/plain": [
       "<matplotlib.axes.AxesSubplot at 0x7997ad0>"
      ]
     },
     "execution_count": 40,
     "metadata": {},
     "output_type": "execute_result"
    },
    {
     "data": {
      "image/png": "[encoded data removed]",
      "text/plain": [
       "<matplotlib.figure.Figure at 0x7d2add0>"
      ]
     },
     "metadata": {},
     "output_type": "display_data"
    }
   ],
   "source": [
    "import matplotlib.pylab as pylab\n",
    "pylab.rcParams['figure.figsize'] = 15, 5\n",
    "\n",
    "connector_token_df[connector_token_df.counts > 4].plot(kind='bar', x='connectors', title='Connector tokens occurring five times or more')"
   ]
  },
  {
   "cell_type": "markdown",
   "metadata": {},
   "source": [
    "## Number of Connectors by Connector POS"
   ]
  },
  {
   "cell_type": "code",
   "execution_count": 41,
   "metadata": {
    "collapsed": false
   },
   "outputs": [],
   "source": [
    "TIGER_DIR = os.path.join(MAZ_ROOTDIR, 'syntax')\n",
    "\n",
    "connector_pos = Counter()\n",
    "\n",
    "for conano_file in conano_files:\n",
    "    cdg = ConanoDocumentGraph(conano_file)\n",
    "    maz_id = os.path.basename(conano_file).split('.')[0]\n",
    "    tdg = TigerDocumentGraph(os.path.join(TIGER_DIR, maz_id+'.xml'))\n",
    "    cdg.merge_graphs(tdg)\n",
    "    for token_id in cdg.tokens:\n",
    "        if 'conano:connective' in cdg.node[token_id]['layers']:\n",
    "            connector_pos[cdg.node[token_id]['tiger:pos']] += 1"
   ]
  },
  {
   "cell_type": "code",
   "execution_count": 42,
   "metadata": {
    "collapsed": false
   },
   "outputs": [
    {
     "data": {
      "text/html": [
       "<div style=\"max-height:1000px;max-width:1500px;overflow:auto;\">\n",
       "<table border=\"1\" class=\"dataframe\">\n",
       "  <thead>\n",
       "    <tr style=\"text-align: right;\">\n",
       "      <th></th>\n",
       "      <th>connector-pos</th>\n",
       "      <th>counts</th>\n",
       "    </tr>\n",
       "  </thead>\n",
       "  <tbody>\n",
       "    <tr>\n",
       "      <th>0 </th>\n",
       "      <td>     KON</td>\n",
       "      <td> 463</td>\n",
       "    </tr>\n",
       "    <tr>\n",
       "      <th>1 </th>\n",
       "      <td>     ADV</td>\n",
       "      <td> 340</td>\n",
       "    </tr>\n",
       "    <tr>\n",
       "      <th>2 </th>\n",
       "      <td>    KOUS</td>\n",
       "      <td> 188</td>\n",
       "    </tr>\n",
       "    <tr>\n",
       "      <th>3 </th>\n",
       "      <td>   PROAV</td>\n",
       "      <td>  70</td>\n",
       "    </tr>\n",
       "    <tr>\n",
       "      <th>4 </th>\n",
       "      <td>    APPR</td>\n",
       "      <td>  33</td>\n",
       "    </tr>\n",
       "    <tr>\n",
       "      <th>5 </th>\n",
       "      <td>    KOUI</td>\n",
       "      <td>  29</td>\n",
       "    </tr>\n",
       "    <tr>\n",
       "      <th>6 </th>\n",
       "      <td> APPRART</td>\n",
       "      <td>  15</td>\n",
       "    </tr>\n",
       "    <tr>\n",
       "      <th>7 </th>\n",
       "      <td>      NN</td>\n",
       "      <td>  11</td>\n",
       "    </tr>\n",
       "    <tr>\n",
       "      <th>8 </th>\n",
       "      <td>    PWAV</td>\n",
       "      <td>   7</td>\n",
       "    </tr>\n",
       "    <tr>\n",
       "      <th>9 </th>\n",
       "      <td>   PTKZU</td>\n",
       "      <td>   6</td>\n",
       "    </tr>\n",
       "    <tr>\n",
       "      <th>10</th>\n",
       "      <td>     PIS</td>\n",
       "      <td>   5</td>\n",
       "    </tr>\n",
       "    <tr>\n",
       "      <th>11</th>\n",
       "      <td>   KOKOM</td>\n",
       "      <td>   2</td>\n",
       "    </tr>\n",
       "    <tr>\n",
       "      <th>12</th>\n",
       "      <td>    APZR</td>\n",
       "      <td>   2</td>\n",
       "    </tr>\n",
       "    <tr>\n",
       "      <th>13</th>\n",
       "      <td>     PDS</td>\n",
       "      <td>   1</td>\n",
       "    </tr>\n",
       "    <tr>\n",
       "      <th>14</th>\n",
       "      <td>    ADJD</td>\n",
       "      <td>   1</td>\n",
       "    </tr>\n",
       "    <tr>\n",
       "      <th>15</th>\n",
       "      <td>   VAFIN</td>\n",
       "      <td>   1</td>\n",
       "    </tr>\n",
       "    <tr>\n",
       "      <th>16</th>\n",
       "      <td>    PPER</td>\n",
       "      <td>   1</td>\n",
       "    </tr>\n",
       "    <tr>\n",
       "      <th>17</th>\n",
       "      <td>   VVFIN</td>\n",
       "      <td>   1</td>\n",
       "    </tr>\n",
       "  </tbody>\n",
       "</table>\n",
       "</div>"
      ],
      "text/plain": [
       "   connector-pos  counts\n",
       "0            KON     463\n",
       "1            ADV     340\n",
       "2           KOUS     188\n",
       "3          PROAV      70\n",
       "4           APPR      33\n",
       "5           KOUI      29\n",
       "6        APPRART      15\n",
       "7             NN      11\n",
       "8           PWAV       7\n",
       "9          PTKZU       6\n",
       "10           PIS       5\n",
       "11         KOKOM       2\n",
       "12          APZR       2\n",
       "13           PDS       1\n",
       "14          ADJD       1\n",
       "15         VAFIN       1\n",
       "16          PPER       1\n",
       "17         VVFIN       1"
      ]
     },
     "execution_count": 42,
     "metadata": {},
     "output_type": "execute_result"
    }
   ],
   "source": [
    "connector_pos_counts = sorted(connector_pos.iteritems(), key=itemgetter(1), reverse=True)\n",
    "connector_pos_df = pd.DataFrame(connector_pos_counts, columns=['connector-pos', 'counts'])\n",
    "connector_pos_df"
   ]
  },
  {
   "cell_type": "code",
   "execution_count": 43,
   "metadata": {
    "collapsed": false
   },
   "outputs": [
    {
     "data": {
      "text/plain": [
       "<matplotlib.axes.AxesSubplot at 0x8344290>"
      ]
     },
     "execution_count": 43,
     "metadata": {},
     "output_type": "execute_result"
    },
    {
     "data": {
      "image/png": "[encoded data removed]",
      "text/plain": [
       "<matplotlib.figure.Figure at 0x7ec6a50>"
      ]
     },
     "metadata": {},
     "output_type": "display_data"
    }
   ],
   "source": [
    "pylab.rcParams['figure.figsize'] = 10, 5\n",
    "connector_pos_df.plot(kind='bar', x='connector-pos', y='counts')"
   ]
  },
  {
   "cell_type": "markdown",
   "metadata": {},
   "source": [
    "## Total number of connectives"
   ]
  },
  {
   "cell_type": "code",
   "execution_count": 44,
   "metadata": {
    "collapsed": false
   },
   "outputs": [
    {
     "data": {
      "text/plain": [
       "1176"
      ]
     },
     "execution_count": 44,
     "metadata": {},
     "output_type": "execute_result"
    }
   ],
   "source": [
    "sum(connector_df['counts'])"
   ]
  },
  {
   "cell_type": "markdown",
   "metadata": {},
   "source": [
    "# Number of RST relations by type"
   ]
  },
  {
   "cell_type": "code",
   "execution_count": 45,
   "metadata": {
    "collapsed": false
   },
   "outputs": [],
   "source": [
    "RST_DIR = os.path.join(MAZ_ROOTDIR, 'rst')\n",
    "rst_files = !ls $RST_DIR/*.rs3"
   ]
  },
  {
   "cell_type": "code",
   "execution_count": 46,
   "metadata": {
    "collapsed": false
   },
   "outputs": [],
   "source": [
    "all_rst_relations = Counter()\n",
    "\n",
    "for rst_file in rst_files:\n",
    "    rdg = RSTGraph(rst_file)\n",
    "    for source, target, edge_attribs in select_edges_by(rdg, layer='rst:relation', data=True):\n",
    "        all_rst_relations[edge_attribs['rst:relname']] += 1"
   ]
  },
  {
   "cell_type": "code",
   "execution_count": 47,
   "metadata": {
    "collapsed": false
   },
   "outputs": [
    {
     "data": {
      "text/html": [
       "<div style=\"max-height:1000px;max-width:1500px;overflow:auto;\">\n",
       "<table border=\"1\" class=\"dataframe\">\n",
       "  <thead>\n",
       "    <tr style=\"text-align: right;\">\n",
       "      <th></th>\n",
       "      <th>RST relations</th>\n",
       "      <th>counts</th>\n",
       "    </tr>\n",
       "  </thead>\n",
       "  <tbody>\n",
       "    <tr>\n",
       "      <th>0 </th>\n",
       "      <td>           span</td>\n",
       "      <td> 1890</td>\n",
       "    </tr>\n",
       "    <tr>\n",
       "      <th>1 </th>\n",
       "      <td>          joint</td>\n",
       "      <td>  452</td>\n",
       "    </tr>\n",
       "    <tr>\n",
       "      <th>2 </th>\n",
       "      <td>           list</td>\n",
       "      <td>  353</td>\n",
       "    </tr>\n",
       "    <tr>\n",
       "      <th>3 </th>\n",
       "      <td>         reason</td>\n",
       "      <td>  267</td>\n",
       "    </tr>\n",
       "    <tr>\n",
       "      <th>4 </th>\n",
       "      <td>    conjunction</td>\n",
       "      <td>  234</td>\n",
       "    </tr>\n",
       "    <tr>\n",
       "      <th>5 </th>\n",
       "      <td> interpretation</td>\n",
       "      <td>  231</td>\n",
       "    </tr>\n",
       "    <tr>\n",
       "      <th>6 </th>\n",
       "      <td>    elaboration</td>\n",
       "      <td>  204</td>\n",
       "    </tr>\n",
       "    <tr>\n",
       "      <th>7 </th>\n",
       "      <td>     background</td>\n",
       "      <td>  163</td>\n",
       "    </tr>\n",
       "    <tr>\n",
       "      <th>8 </th>\n",
       "      <td>     concession</td>\n",
       "      <td>  125</td>\n",
       "    </tr>\n",
       "    <tr>\n",
       "      <th>9 </th>\n",
       "      <td>     antithesis</td>\n",
       "      <td>  123</td>\n",
       "    </tr>\n",
       "    <tr>\n",
       "      <th>10</th>\n",
       "      <td>      condition</td>\n",
       "      <td>  116</td>\n",
       "    </tr>\n",
       "    <tr>\n",
       "      <th>11</th>\n",
       "      <td>   circumstance</td>\n",
       "      <td>  113</td>\n",
       "    </tr>\n",
       "    <tr>\n",
       "      <th>12</th>\n",
       "      <td>  e-elaboration</td>\n",
       "      <td>  111</td>\n",
       "    </tr>\n",
       "    <tr>\n",
       "      <th>13</th>\n",
       "      <td>          cause</td>\n",
       "      <td>  101</td>\n",
       "    </tr>\n",
       "    <tr>\n",
       "      <th>14</th>\n",
       "      <td>       evidence</td>\n",
       "      <td>   99</td>\n",
       "    </tr>\n",
       "    <tr>\n",
       "      <th>15</th>\n",
       "      <td>       contrast</td>\n",
       "      <td>   98</td>\n",
       "    </tr>\n",
       "    <tr>\n",
       "      <th>16</th>\n",
       "      <td>    preparation</td>\n",
       "      <td>   87</td>\n",
       "    </tr>\n",
       "    <tr>\n",
       "      <th>17</th>\n",
       "      <td>   evaluation-s</td>\n",
       "      <td>   80</td>\n",
       "    </tr>\n",
       "    <tr>\n",
       "      <th>18</th>\n",
       "      <td>       sequence</td>\n",
       "      <td>   65</td>\n",
       "    </tr>\n",
       "    <tr>\n",
       "      <th>19</th>\n",
       "      <td>         result</td>\n",
       "      <td>   46</td>\n",
       "    </tr>\n",
       "    <tr>\n",
       "      <th>20</th>\n",
       "      <td>   evaluation-n</td>\n",
       "      <td>   38</td>\n",
       "    </tr>\n",
       "    <tr>\n",
       "      <th>21</th>\n",
       "      <td>        purpose</td>\n",
       "      <td>   30</td>\n",
       "    </tr>\n",
       "    <tr>\n",
       "      <th>22</th>\n",
       "      <td>    disjunction</td>\n",
       "      <td>   20</td>\n",
       "    </tr>\n",
       "    <tr>\n",
       "      <th>23</th>\n",
       "      <td>    restatement</td>\n",
       "      <td>   17</td>\n",
       "    </tr>\n",
       "    <tr>\n",
       "      <th>24</th>\n",
       "      <td>          means</td>\n",
       "      <td>   11</td>\n",
       "    </tr>\n",
       "    <tr>\n",
       "      <th>25</th>\n",
       "      <td>        summary</td>\n",
       "      <td>    9</td>\n",
       "    </tr>\n",
       "    <tr>\n",
       "      <th>26</th>\n",
       "      <td>   solutionhood</td>\n",
       "      <td>    7</td>\n",
       "    </tr>\n",
       "    <tr>\n",
       "      <th>27</th>\n",
       "      <td>        justify</td>\n",
       "      <td>    4</td>\n",
       "    </tr>\n",
       "    <tr>\n",
       "      <th>28</th>\n",
       "      <td>      otherwise</td>\n",
       "      <td>    3</td>\n",
       "    </tr>\n",
       "    <tr>\n",
       "      <th>29</th>\n",
       "      <td>     enablement</td>\n",
       "      <td>    2</td>\n",
       "    </tr>\n",
       "    <tr>\n",
       "      <th>30</th>\n",
       "      <td>     motivation</td>\n",
       "      <td>    1</td>\n",
       "    </tr>\n",
       "    <tr>\n",
       "      <th>31</th>\n",
       "      <td>         unless</td>\n",
       "      <td>    1</td>\n",
       "    </tr>\n",
       "  </tbody>\n",
       "</table>\n",
       "</div>"
      ],
      "text/plain": [
       "     RST relations  counts\n",
       "0             span    1890\n",
       "1            joint     452\n",
       "2             list     353\n",
       "3           reason     267\n",
       "4      conjunction     234\n",
       "5   interpretation     231\n",
       "6      elaboration     204\n",
       "7       background     163\n",
       "8       concession     125\n",
       "9       antithesis     123\n",
       "10       condition     116\n",
       "11    circumstance     113\n",
       "12   e-elaboration     111\n",
       "13           cause     101\n",
       "14        evidence      99\n",
       "15        contrast      98\n",
       "16     preparation      87\n",
       "17    evaluation-s      80\n",
       "18        sequence      65\n",
       "19          result      46\n",
       "20    evaluation-n      38\n",
       "21         purpose      30\n",
       "22     disjunction      20\n",
       "23     restatement      17\n",
       "24           means      11\n",
       "25         summary       9\n",
       "26    solutionhood       7\n",
       "27         justify       4\n",
       "28       otherwise       3\n",
       "29      enablement       2\n",
       "30      motivation       1\n",
       "31          unless       1"
      ]
     },
     "execution_count": 47,
     "metadata": {},
     "output_type": "execute_result"
    }
   ],
   "source": [
    "rst_relations_count = sorted(all_rst_relations.iteritems(), key=itemgetter(1), reverse=True)\n",
    "rst_relations_df = pd.DataFrame(rst_relations_count, columns=['RST relations', 'counts'])\n",
    "rst_relations_df"
   ]
  },
  {
   "cell_type": "markdown",
   "metadata": {},
   "source": [
    "## RST relations by type (incl. generic 'span' relation)"
   ]
  },
  {
   "cell_type": "code",
   "execution_count": 48,
   "metadata": {
    "collapsed": false
   },
   "outputs": [
    {
     "data": {
      "text/plain": [
       "<matplotlib.axes.AxesSubplot at 0x834a190>"
      ]
     },
     "execution_count": 48,
     "metadata": {},
     "output_type": "execute_result"
    },
    {
     "data": {
      "image/png": "[encoded data removed]",
      "text/plain": [
       "<matplotlib.figure.Figure at 0x7d0d990>"
      ]
     },
     "metadata": {},
     "output_type": "display_data"
    }
   ],
   "source": [
    "pylab.rcParams['figure.figsize'] = 15, 5\n",
    "rst_relations_df.plot(kind='bar', x='RST relations', y='counts')"
   ]
  },
  {
   "cell_type": "markdown",
   "metadata": {},
   "source": [
    "## RST relations by type (excl. generic 'span' relation)"
   ]
  },
  {
   "cell_type": "code",
   "execution_count": 49,
   "metadata": {
    "collapsed": false
   },
   "outputs": [
    {
     "data": {
      "text/plain": [
       "<matplotlib.axes.AxesSubplot at 0x8c492d0>"
      ]
     },
     "execution_count": 49,
     "metadata": {},
     "output_type": "execute_result"
    },
    {
     "data": {
      "image/png": "[encoded data removed]",
      "text/plain": [
       "<matplotlib.figure.Figure at 0x8926410>"
      ]
     },
     "metadata": {},
     "output_type": "display_data"
    }
   ],
   "source": [
    "rst_relations_df[1:].plot(kind='bar', x='RST relations', y='counts')"
   ]
  },
  {
   "cell_type": "markdown",
   "metadata": {},
   "source": [
    "## Total number of RST relations (incl. generic 'span' relation)"
   ]
  },
  {
   "cell_type": "code",
   "execution_count": 50,
   "metadata": {
    "collapsed": false
   },
   "outputs": [
    {
     "data": {
      "text/plain": [
       "5101"
      ]
     },
     "execution_count": 50,
     "metadata": {},
     "output_type": "execute_result"
    }
   ],
   "source": [
    "sum(rst_relations_df['counts'])"
   ]
  },
  {
   "cell_type": "markdown",
   "metadata": {},
   "source": [
    "## Total number of RST relations (excl. generic 'span' relation)"
   ]
  },
  {
   "cell_type": "code",
   "execution_count": 51,
   "metadata": {
    "collapsed": false
   },
   "outputs": [
    {
     "data": {
      "text/plain": [
       "3211"
      ]
     },
     "execution_count": 51,
     "metadata": {},
     "output_type": "execute_result"
    }
   ],
   "source": [
    "sum(rst_relations_df['counts'][1:])"
   ]
  },
  {
   "cell_type": "markdown",
   "metadata": {},
   "source": [
    "# Coreference counts"
   ]
  },
  {
   "cell_type": "code",
   "execution_count": 52,
   "metadata": {
    "collapsed": false
   },
   "outputs": [],
   "source": [
    "COREF_DIR = os.path.join(MAZ_ROOTDIR, 'coreference')\n",
    "coref_files = !ls $COREF_DIR/*.mmax"
   ]
  },
  {
   "cell_type": "markdown",
   "metadata": {},
   "source": [
    "## Number of binary coreference relations"
   ]
  },
  {
   "cell_type": "code",
   "execution_count": 53,
   "metadata": {
    "collapsed": false
   },
   "outputs": [],
   "source": [
    "binary_coref_relations = 0\n",
    "binary_coref_relation_types = Counter()\n",
    "\n",
    "for coref_file in coref_files:\n",
    "    mdg = MMAXDocumentGraph(coref_file)\n",
    "    for source, target, edge_attribs in select_edges_by(mdg, edge_type='points_to', data=True):\n",
    "        binary_coref_relations += 1\n",
    "        binary_coref_relation_types[edge_attribs['label']] += 1"
   ]
  },
  {
   "cell_type": "markdown",
   "metadata": {},
   "source": [
    "### Total number of binary coreference relations"
   ]
  },
  {
   "cell_type": "code",
   "execution_count": 54,
   "metadata": {
    "collapsed": false
   },
   "outputs": [
    {
     "data": {
      "text/plain": [
       "1664"
      ]
     },
     "execution_count": 54,
     "metadata": {},
     "output_type": "execute_result"
    }
   ],
   "source": [
    "binary_coref_relations"
   ]
  },
  {
   "cell_type": "markdown",
   "metadata": {},
   "source": [
    "### Number of binary coreference relations by subtype"
   ]
  },
  {
   "cell_type": "code",
   "execution_count": 55,
   "metadata": {
    "collapsed": false
   },
   "outputs": [
    {
     "data": {
      "text/plain": [
       "[('mmax:antecedent', 1446),\n",
       " ('mmaxsecmark:antecedent', 197),\n",
       " ('mmaxgroups:antecedent', 21)]"
      ]
     },
     "execution_count": 55,
     "metadata": {},
     "output_type": "execute_result"
    }
   ],
   "source": [
    "sorted(binary_coref_relation_types.iteritems(), key=itemgetter(1), reverse=True)"
   ]
  },
  {
   "cell_type": "markdown",
   "metadata": {},
   "source": [
    "## Number of coreference chains\n",
    "\n",
    "Please note that the number of coreference chains is somewhat skewed.\n",
    "MMAX allows markables to point to more than one markable/target/antecedent.\n",
    "This features was used when MAZ176 was annotated.\n",
    "\n",
    "As an example, consider a coreference chain in which A points to B and B points\n",
    "to both C and D (i.e. ``A -> B -> {C, D}``). The algorithm used here will interpret this as two separate\n",
    "coreference chains (A-B-C and A-B-D).\n"
   ]
  },
  {
   "cell_type": "markdown",
   "metadata": {},
   "source": [
    "cf. https://github.com/arne-cl/discoursegraphs/issues/40"
   ]
  },
  {
   "cell_type": "code",
   "execution_count": 56,
   "metadata": {
    "collapsed": false
   },
   "outputs": [
    {
     "name": "stdout",
     "output_type": "stream",
     "text": [
      "934\n"
     ]
    }
   ],
   "source": [
    "coref_chains = 0\n",
    "\n",
    "for coref_file in coref_files:\n",
    "    mdg = MMAXDocumentGraph(coref_file)\n",
    "    coref_chains += len(get_pointing_chains(mdg))\n",
    "\n",
    "print coref_chains"
   ]
  },
  {
   "cell_type": "markdown",
   "metadata": {},
   "source": [
    "## Number of connected coreference components\n",
    "\n",
    "To avoid the abovementioned problem, we can calculate the\n",
    "number of connected components from a graph constructed using all\n",
    "binary coreference relations. In this setting, ``A -> B -> {C, D}``\n",
    "will be counted as one connected component."
   ]
  },
  {
   "cell_type": "code",
   "execution_count": 57,
   "metadata": {
    "collapsed": false
   },
   "outputs": [
    {
     "name": "stdout",
     "output_type": "stream",
     "text": [
      "890\n"
     ]
    }
   ],
   "source": [
    "from networkx import Graph\n",
    "from networkx.algorithms.components.connected import connected_components\n",
    "\n",
    "coref_connected_components = 0\n",
    "\n",
    "for coref_file in coref_files:\n",
    "    coref_digraph = Graph()\n",
    "    mdg = MMAXDocumentGraph(coref_file)\n",
    "    for source, target, edge_attribs in select_edges_by(mdg, edge_type='points_to', data=True):\n",
    "        coref_digraph.add_edge(source, target, edge_attribs)\n",
    "    coref_connected_components += len(list(connected_components(coref_digraph)))\n",
    "    \n",
    "print coref_connected_components"
   ]
  },
  {
   "cell_type": "markdown",
   "metadata": {},
   "source": [
    "# Reproducability information"
   ]
  },
  {
   "cell_type": "code",
   "execution_count": 58,
   "metadata": {
    "collapsed": false
   },
   "outputs": [
    {
     "name": "stdout",
     "output_type": "stream",
     "text": [
      "The version_information extension is already loaded. To reload it, use:\n",
      "  %reload_ext version_information\n"
     ]
    },
    {
     "data": {
      "application/json": {
       "Software versions": [
        {
         "module": "Python",
         "version": "2.7.3 64bit [GCC 4.7.2]"
        },
        {
         "module": "IPython",
         "version": "2.1.0"
        },
        {
         "module": "OS",
         "version": "Linux 3.5.0 51 generic x86_64 with LinuxMint 14 nadia"
        },
        {
         "module": "networkx",
         "version": "1.9"
        },
        {
         "module": "pandas",
         "version": "0.14.1"
        }
       ]
      },
      "text/html": [
       "<table><tr><th>Software</th><th>Version</th></tr><tr><td>Python</td><td>2.7.3 64bit [GCC 4.7.2]</td></tr><tr><td>IPython</td><td>2.1.0</td></tr><tr><td>OS</td><td>Linux 3.5.0 51 generic x86_64 with LinuxMint 14 nadia</td></tr><tr><td>networkx</td><td>1.9</td></tr><tr><td>pandas</td><td>0.14.1</td></tr><tr><td colspan='2'>Mon Oct 13 13:28:03 2014 CEST</td></tr></table>"
      ],
      "text/latex": [
       "\\begin{tabular}{|l|l|}\\hline\n",
       "{\\bf Software} & {\\bf Version} \\\\ \\hline\\hline\n",
       "Python & 2.7.3 64bit [GCC 4.7.2] \\\\ \\hline\n",
       "IPython & 2.1.0 \\\\ \\hline\n",
       "OS & Linux 3.5.0 51 generic x86\\letterunderscore{}64 with LinuxMint 14 nadia \\\\ \\hline\n",
       "networkx & 1.9 \\\\ \\hline\n",
       "pandas & 0.14.1 \\\\ \\hline\n",
       "\\hline \\multicolumn{2}{|l|}{Mon Oct 13 13:28:03 2014 CEST} \\\\ \\hline\n",
       "\\end{tabular}\n"
      ],
      "text/plain": [
       "Software versions\n",
       "Python 2.7.3 64bit [GCC 4.7.2]\n",
       "IPython 2.1.0\n",
       "OS Linux 3.5.0 51 generic x86_64 with LinuxMint 14 nadia\n",
       "networkx 1.9\n",
       "pandas 0.14.1\n",
       "Mon Oct 13 13:28:03 2014 CEST"
      ]
     },
     "execution_count": 58,
     "metadata": {},
     "output_type": "execute_result"
    }
   ],
   "source": [
    "%load_ext version_information\n",
    "%version_information networkx, pandas"
   ]
  },
  {
   "cell_type": "markdown",
   "metadata": {},
   "source": [
    "discoursegraphs git commit: 99b7cfb020d7893149aa75ed06af724b7698d784\n",
    "\n",
    "pcc-annis-merged git commit: c4e87322af33850cada32f449170b91a2240a620"
   ]
  }
 ],
 "metadata": {
  "kernelspec": {
   "display_name": "Python 2",
   "language": "python",
   "name": "python2"
  },
  "language_info": {
   "codemirror_mode": {
    "name": "ipython",
    "version": 2
   },
   "file_extension": ".py",
   "mimetype": "text/x-python",
   "name": "python",
   "nbconvert_exporter": "python",
   "pygments_lexer": "ipython2",
   "version": "2.7.6"
  }
 },
 "nbformat": 4,
 "nbformat_minor": 0
}
