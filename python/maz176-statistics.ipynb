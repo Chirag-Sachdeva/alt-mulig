{
 "metadata": {
  "name": "",
  "signature": "sha256:a9656375206462f43e7b8488cb0b2099a840f27d95ce6db295057152447a5bae"
 },
 "nbformat": 3,
 "nbformat_minor": 0,
 "worksheets": [
  {
   "cells": [
    {
     "cell_type": "code",
     "collapsed": false,
     "input": [
      "import os\n",
      "import discoursegraphs\n",
      "from discoursegraphs.readwrite import ConanoDocumentGraph\n",
      "\n",
      "MAZ_ROOTDIR = os.path.expanduser('~/repos/pcc-annis-merged/maz176/')"
     ],
     "language": "python",
     "metadata": {},
     "outputs": [],
     "prompt_number": 1
    },
    {
     "cell_type": "markdown",
     "metadata": {},
     "source": [
      "# Number of Connectors by Type"
     ]
    },
    {
     "cell_type": "code",
     "collapsed": false,
     "input": [
      "CONANO_TESTFILE = os.path.join(MAZ_ROOTDIR, 'connectors', 'maz-1423.xml')\n",
      "\n",
      "cdg = ConanoDocumentGraph(CONANO_TESTFILE)"
     ],
     "language": "python",
     "metadata": {},
     "outputs": [],
     "prompt_number": 2
    },
    {
     "cell_type": "code",
     "collapsed": false,
     "input": [
      "from collections import Counter\n",
      "\n",
      "connectors = Counter()\n",
      "\n",
      "for token_id in cdg.tokens:\n",
      "    if 'conano:connective' in cdg.node[token_id]['layers']:\n",
      "        print token_id, cdg.node[token_id]['conano:token'], cdg.node[token_id]['relation']\n",
      "        connectors[cdg.node[token_id]['relation']] += 1"
     ],
     "language": "python",
     "metadata": {},
     "outputs": [
      {
       "output_type": "stream",
       "stream": "stdout",
       "text": [
        "token-48 dennoch concession\n",
        "token-81 Je \n",
        "token-86 desto \n",
        "token-99 Und addition\n",
        "token-107 Auch addition\n",
        "token-116 dagegen contrast\n"
       ]
      }
     ],
     "prompt_number": 13
    },
    {
     "cell_type": "code",
     "collapsed": false,
     "input": [
      "connectors"
     ],
     "language": "python",
     "metadata": {},
     "outputs": [
      {
       "metadata": {},
       "output_type": "pyout",
       "prompt_number": 14,
       "text": [
        "Counter({'': 2, 'addition': 2, 'concession': 1, 'contrast': 1})"
       ]
      }
     ],
     "prompt_number": 14
    },
    {
     "cell_type": "code",
     "collapsed": false,
     "input": [
      "CONANO_DIR = os.path.join(MAZ_ROOTDIR, 'connectors')\n",
      "\n",
      "conano_files = !ls $CONANO_DIR/*.xml"
     ],
     "language": "python",
     "metadata": {},
     "outputs": [],
     "prompt_number": 16
    },
    {
     "cell_type": "code",
     "collapsed": false,
     "input": [
      "all_connectors = Counter()\n",
      "\n",
      "for conano_file in conano_files:\n",
      "    cdg = ConanoDocumentGraph(conano_file)\n",
      "    for token_id in cdg.tokens:\n",
      "        if 'conano:connective' in cdg.node[token_id]['layers']:\n",
      "            all_connectors[cdg.node[token_id]['relation']] += 1"
     ],
     "language": "python",
     "metadata": {},
     "outputs": [],
     "prompt_number": 18
    },
    {
     "cell_type": "code",
     "collapsed": false,
     "input": [
      "all_connectors"
     ],
     "language": "python",
     "metadata": {},
     "outputs": [
      {
       "metadata": {},
       "output_type": "pyout",
       "prompt_number": 19,
       "text": [
        "Counter({'addition': 365, 'consequence': 200, 'concession': 175, 'contrast': 171, 'condition': 105, 'successive': 52, 'alternation': 35, 'purpose': 23, 'simultaneous': 21, 'temporal': 10, 'elaboration': 5, 'manner': 4, '': 3, 'sequence': 2, 'circumstance': 1, 'joint': 1, 'concessive': 1, 'succession': 1, 'cause': 1})"
       ]
      }
     ],
     "prompt_number": 19
    }
   ],
   "metadata": {}
  }
 ]
}