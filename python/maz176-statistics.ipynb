{
 "metadata": {
  "name": "",
  "signature": "sha256:11b1a3e5bfdb875013f02df9909c9d54394c064a90c919b308326bfb34805c41"
 },
 "nbformat": 3,
 "nbformat_minor": 0,
 "worksheets": [
  {
   "cells": [
    {
     "cell_type": "markdown",
     "metadata": {},
     "source": [
      "# MAZ176 statistics\n",
      "\n",
      "Author: Arne Neumann\n",
      "\n",
      "Date: 2014-10-09"
     ]
    },
    {
     "cell_type": "code",
     "collapsed": false,
     "input": [
      "%matplotlib inline\n",
      "\n",
      "import os\n",
      "from collections import Counter\n",
      "from operator import itemgetter\n",
      "\n",
      "import pandas as pd\n",
      "from networkx import Graph\n",
      "from networkx.algorithms.components.connected import connected_components\n",
      "from discoursegraphs import select_edges_by, get_pointing_chains\n",
      "from discoursegraphs.readwrite import ConanoDocumentGraph, MMAXDocumentGraph, RSTGraph\n",
      "\n",
      "MAZ_ROOTDIR = os.path.expanduser('~/repos/pcc-annis-merged/maz176/')"
     ],
     "language": "python",
     "metadata": {},
     "outputs": [],
     "prompt_number": 116
    },
    {
     "cell_type": "markdown",
     "metadata": {},
     "source": [
      "# Number of Connectors by Type"
     ]
    },
    {
     "cell_type": "code",
     "collapsed": false,
     "input": [
      "CONANO_DIR = os.path.join(MAZ_ROOTDIR, 'connectors')\n",
      "conano_files = !ls $CONANO_DIR/*.xml"
     ],
     "language": "python",
     "metadata": {},
     "outputs": [],
     "prompt_number": 62
    },
    {
     "cell_type": "code",
     "collapsed": false,
     "input": [
      "all_connectors = Counter()\n",
      "\n",
      "for conano_file in conano_files:\n",
      "    cdg = ConanoDocumentGraph(conano_file)\n",
      "    for token_id in cdg.tokens:\n",
      "        if 'conano:connective' in cdg.node[token_id]['layers']:\n",
      "            all_connectors[cdg.node[token_id]['relation']] += 1"
     ],
     "language": "python",
     "metadata": {},
     "outputs": [],
     "prompt_number": 63
    },
    {
     "cell_type": "code",
     "collapsed": false,
     "input": [
      "connector_counts = sorted(all_connectors.iteritems(), key=itemgetter(1), reverse=True)\n",
      "connector_df = pd.DataFrame(connector_counts, columns=['connectors', 'counts'])\n",
      "connector_df"
     ],
     "language": "python",
     "metadata": {},
     "outputs": [
      {
       "html": [
        "<div style=\"max-height:1000px;max-width:1500px;overflow:auto;\">\n",
        "<table border=\"1\" class=\"dataframe\">\n",
        "  <thead>\n",
        "    <tr style=\"text-align: right;\">\n",
        "      <th></th>\n",
        "      <th>connectors</th>\n",
        "      <th>counts</th>\n",
        "    </tr>\n",
        "  </thead>\n",
        "  <tbody>\n",
        "    <tr>\n",
        "      <th>0 </th>\n",
        "      <td>     addition</td>\n",
        "      <td> 365</td>\n",
        "    </tr>\n",
        "    <tr>\n",
        "      <th>1 </th>\n",
        "      <td>  consequence</td>\n",
        "      <td> 200</td>\n",
        "    </tr>\n",
        "    <tr>\n",
        "      <th>2 </th>\n",
        "      <td>   concession</td>\n",
        "      <td> 175</td>\n",
        "    </tr>\n",
        "    <tr>\n",
        "      <th>3 </th>\n",
        "      <td>     contrast</td>\n",
        "      <td> 171</td>\n",
        "    </tr>\n",
        "    <tr>\n",
        "      <th>4 </th>\n",
        "      <td>    condition</td>\n",
        "      <td> 105</td>\n",
        "    </tr>\n",
        "    <tr>\n",
        "      <th>5 </th>\n",
        "      <td>   successive</td>\n",
        "      <td>  52</td>\n",
        "    </tr>\n",
        "    <tr>\n",
        "      <th>6 </th>\n",
        "      <td>  alternation</td>\n",
        "      <td>  35</td>\n",
        "    </tr>\n",
        "    <tr>\n",
        "      <th>7 </th>\n",
        "      <td>      purpose</td>\n",
        "      <td>  23</td>\n",
        "    </tr>\n",
        "    <tr>\n",
        "      <th>8 </th>\n",
        "      <td> simultaneous</td>\n",
        "      <td>  21</td>\n",
        "    </tr>\n",
        "    <tr>\n",
        "      <th>9 </th>\n",
        "      <td>     temporal</td>\n",
        "      <td>  10</td>\n",
        "    </tr>\n",
        "    <tr>\n",
        "      <th>10</th>\n",
        "      <td>  elaboration</td>\n",
        "      <td>   5</td>\n",
        "    </tr>\n",
        "    <tr>\n",
        "      <th>11</th>\n",
        "      <td>       manner</td>\n",
        "      <td>   4</td>\n",
        "    </tr>\n",
        "    <tr>\n",
        "      <th>12</th>\n",
        "      <td>             </td>\n",
        "      <td>   3</td>\n",
        "    </tr>\n",
        "    <tr>\n",
        "      <th>13</th>\n",
        "      <td>     sequence</td>\n",
        "      <td>   2</td>\n",
        "    </tr>\n",
        "    <tr>\n",
        "      <th>14</th>\n",
        "      <td> circumstance</td>\n",
        "      <td>   1</td>\n",
        "    </tr>\n",
        "    <tr>\n",
        "      <th>15</th>\n",
        "      <td>        joint</td>\n",
        "      <td>   1</td>\n",
        "    </tr>\n",
        "    <tr>\n",
        "      <th>16</th>\n",
        "      <td>   concessive</td>\n",
        "      <td>   1</td>\n",
        "    </tr>\n",
        "    <tr>\n",
        "      <th>17</th>\n",
        "      <td>   succession</td>\n",
        "      <td>   1</td>\n",
        "    </tr>\n",
        "    <tr>\n",
        "      <th>18</th>\n",
        "      <td>        cause</td>\n",
        "      <td>   1</td>\n",
        "    </tr>\n",
        "  </tbody>\n",
        "</table>\n",
        "</div>"
       ],
       "metadata": {},
       "output_type": "pyout",
       "prompt_number": 132,
       "text": [
        "      connectors  counts\n",
        "0       addition     365\n",
        "1    consequence     200\n",
        "2     concession     175\n",
        "3       contrast     171\n",
        "4      condition     105\n",
        "5     successive      52\n",
        "6    alternation      35\n",
        "7        purpose      23\n",
        "8   simultaneous      21\n",
        "9       temporal      10\n",
        "10   elaboration       5\n",
        "11        manner       4\n",
        "12                     3\n",
        "13      sequence       2\n",
        "14  circumstance       1\n",
        "15         joint       1\n",
        "16    concessive       1\n",
        "17    succession       1\n",
        "18         cause       1"
       ]
      }
     ],
     "prompt_number": 132
    },
    {
     "cell_type": "code",
     "collapsed": false,
     "input": [
      "connector_df.plot(kind='bar', x='connectors', y='counts')"
     ],
     "language": "python",
     "metadata": {},
     "outputs": [
      {
       "metadata": {},
       "output_type": "pyout",
       "prompt_number": 133,
       "text": [
        "<matplotlib.axes.AxesSubplot at 0x5724690>"
       ]
      },
      {
       "metadata": {},
       "output_type": "display_data",
       "png": "[encoded data removed]",
       "text": [
        "<matplotlib.figure.Figure at 0x5abfb10>"
       ]
      }
     ],
     "prompt_number": 133
    },
    {
     "cell_type": "markdown",
     "metadata": {},
     "source": [
      "## Total number of connectives"
     ]
    },
    {
     "cell_type": "code",
     "collapsed": false,
     "input": [
      "sum(connector_df['counts'])"
     ],
     "language": "python",
     "metadata": {},
     "outputs": [
      {
       "metadata": {},
       "output_type": "pyout",
       "prompt_number": 142,
       "text": [
        "1176"
       ]
      }
     ],
     "prompt_number": 142
    },
    {
     "cell_type": "markdown",
     "metadata": {},
     "source": [
      "# Number of RST relations by type"
     ]
    },
    {
     "cell_type": "code",
     "collapsed": false,
     "input": [
      "RST_DIR = os.path.join(MAZ_ROOTDIR, 'rst')\n",
      "rst_files = !ls $RST_DIR/*.rs3"
     ],
     "language": "python",
     "metadata": {},
     "outputs": [],
     "prompt_number": 65
    },
    {
     "cell_type": "code",
     "collapsed": false,
     "input": [
      "all_rst_relations = Counter()\n",
      "\n",
      "for rst_file in rst_files:\n",
      "    rdg = RSTGraph(rst_file)\n",
      "    for source, target, edge_attribs in select_edges_by(rdg, layer='rst:relation', data=True):\n",
      "        all_rst_relations[edge_attribs['rst:relname']] += 1"
     ],
     "language": "python",
     "metadata": {},
     "outputs": [],
     "prompt_number": 66
    },
    {
     "cell_type": "code",
     "collapsed": false,
     "input": [
      "rst_relations_count = sorted(all_rst_relations.iteritems(), key=itemgetter(1), reverse=True)\n",
      "rst_relations_df = pd.DataFrame(rst_relations_count, columns=['RST relations', 'counts'])\n",
      "rst_relations_df"
     ],
     "language": "python",
     "metadata": {},
     "outputs": [
      {
       "html": [
        "<div style=\"max-height:1000px;max-width:1500px;overflow:auto;\">\n",
        "<table border=\"1\" class=\"dataframe\">\n",
        "  <thead>\n",
        "    <tr style=\"text-align: right;\">\n",
        "      <th></th>\n",
        "      <th>RST relations</th>\n",
        "      <th>counts</th>\n",
        "    </tr>\n",
        "  </thead>\n",
        "  <tbody>\n",
        "    <tr>\n",
        "      <th>0 </th>\n",
        "      <td>           span</td>\n",
        "      <td> 1890</td>\n",
        "    </tr>\n",
        "    <tr>\n",
        "      <th>1 </th>\n",
        "      <td>          joint</td>\n",
        "      <td>  452</td>\n",
        "    </tr>\n",
        "    <tr>\n",
        "      <th>2 </th>\n",
        "      <td>           list</td>\n",
        "      <td>  353</td>\n",
        "    </tr>\n",
        "    <tr>\n",
        "      <th>3 </th>\n",
        "      <td>         reason</td>\n",
        "      <td>  267</td>\n",
        "    </tr>\n",
        "    <tr>\n",
        "      <th>4 </th>\n",
        "      <td>    conjunction</td>\n",
        "      <td>  234</td>\n",
        "    </tr>\n",
        "    <tr>\n",
        "      <th>5 </th>\n",
        "      <td> interpretation</td>\n",
        "      <td>  231</td>\n",
        "    </tr>\n",
        "    <tr>\n",
        "      <th>6 </th>\n",
        "      <td>    elaboration</td>\n",
        "      <td>  204</td>\n",
        "    </tr>\n",
        "    <tr>\n",
        "      <th>7 </th>\n",
        "      <td>     background</td>\n",
        "      <td>  163</td>\n",
        "    </tr>\n",
        "    <tr>\n",
        "      <th>8 </th>\n",
        "      <td>     concession</td>\n",
        "      <td>  125</td>\n",
        "    </tr>\n",
        "    <tr>\n",
        "      <th>9 </th>\n",
        "      <td>     antithesis</td>\n",
        "      <td>  123</td>\n",
        "    </tr>\n",
        "    <tr>\n",
        "      <th>10</th>\n",
        "      <td>      condition</td>\n",
        "      <td>  116</td>\n",
        "    </tr>\n",
        "    <tr>\n",
        "      <th>11</th>\n",
        "      <td>   circumstance</td>\n",
        "      <td>  113</td>\n",
        "    </tr>\n",
        "    <tr>\n",
        "      <th>12</th>\n",
        "      <td>  e-elaboration</td>\n",
        "      <td>  111</td>\n",
        "    </tr>\n",
        "    <tr>\n",
        "      <th>13</th>\n",
        "      <td>          cause</td>\n",
        "      <td>  101</td>\n",
        "    </tr>\n",
        "    <tr>\n",
        "      <th>14</th>\n",
        "      <td>       evidence</td>\n",
        "      <td>   99</td>\n",
        "    </tr>\n",
        "    <tr>\n",
        "      <th>15</th>\n",
        "      <td>       contrast</td>\n",
        "      <td>   98</td>\n",
        "    </tr>\n",
        "    <tr>\n",
        "      <th>16</th>\n",
        "      <td>    preparation</td>\n",
        "      <td>   87</td>\n",
        "    </tr>\n",
        "    <tr>\n",
        "      <th>17</th>\n",
        "      <td>   evaluation-s</td>\n",
        "      <td>   80</td>\n",
        "    </tr>\n",
        "    <tr>\n",
        "      <th>18</th>\n",
        "      <td>       sequence</td>\n",
        "      <td>   65</td>\n",
        "    </tr>\n",
        "    <tr>\n",
        "      <th>19</th>\n",
        "      <td>         result</td>\n",
        "      <td>   46</td>\n",
        "    </tr>\n",
        "    <tr>\n",
        "      <th>20</th>\n",
        "      <td>   evaluation-n</td>\n",
        "      <td>   38</td>\n",
        "    </tr>\n",
        "    <tr>\n",
        "      <th>21</th>\n",
        "      <td>        purpose</td>\n",
        "      <td>   30</td>\n",
        "    </tr>\n",
        "    <tr>\n",
        "      <th>22</th>\n",
        "      <td>    disjunction</td>\n",
        "      <td>   20</td>\n",
        "    </tr>\n",
        "    <tr>\n",
        "      <th>23</th>\n",
        "      <td>    restatement</td>\n",
        "      <td>   17</td>\n",
        "    </tr>\n",
        "    <tr>\n",
        "      <th>24</th>\n",
        "      <td>          means</td>\n",
        "      <td>   11</td>\n",
        "    </tr>\n",
        "    <tr>\n",
        "      <th>25</th>\n",
        "      <td>        summary</td>\n",
        "      <td>    9</td>\n",
        "    </tr>\n",
        "    <tr>\n",
        "      <th>26</th>\n",
        "      <td>   solutionhood</td>\n",
        "      <td>    7</td>\n",
        "    </tr>\n",
        "    <tr>\n",
        "      <th>27</th>\n",
        "      <td>        justify</td>\n",
        "      <td>    4</td>\n",
        "    </tr>\n",
        "    <tr>\n",
        "      <th>28</th>\n",
        "      <td>      otherwise</td>\n",
        "      <td>    3</td>\n",
        "    </tr>\n",
        "    <tr>\n",
        "      <th>29</th>\n",
        "      <td>     enablement</td>\n",
        "      <td>    2</td>\n",
        "    </tr>\n",
        "    <tr>\n",
        "      <th>30</th>\n",
        "      <td>     motivation</td>\n",
        "      <td>    1</td>\n",
        "    </tr>\n",
        "    <tr>\n",
        "      <th>31</th>\n",
        "      <td>         unless</td>\n",
        "      <td>    1</td>\n",
        "    </tr>\n",
        "  </tbody>\n",
        "</table>\n",
        "</div>"
       ],
       "metadata": {},
       "output_type": "pyout",
       "prompt_number": 135,
       "text": [
        "     RST relations  counts\n",
        "0             span    1890\n",
        "1            joint     452\n",
        "2             list     353\n",
        "3           reason     267\n",
        "4      conjunction     234\n",
        "5   interpretation     231\n",
        "6      elaboration     204\n",
        "7       background     163\n",
        "8       concession     125\n",
        "9       antithesis     123\n",
        "10       condition     116\n",
        "11    circumstance     113\n",
        "12   e-elaboration     111\n",
        "13           cause     101\n",
        "14        evidence      99\n",
        "15        contrast      98\n",
        "16     preparation      87\n",
        "17    evaluation-s      80\n",
        "18        sequence      65\n",
        "19          result      46\n",
        "20    evaluation-n      38\n",
        "21         purpose      30\n",
        "22     disjunction      20\n",
        "23     restatement      17\n",
        "24           means      11\n",
        "25         summary       9\n",
        "26    solutionhood       7\n",
        "27         justify       4\n",
        "28       otherwise       3\n",
        "29      enablement       2\n",
        "30      motivation       1\n",
        "31          unless       1"
       ]
      }
     ],
     "prompt_number": 135
    },
    {
     "cell_type": "markdown",
     "metadata": {},
     "source": [
      "## RST relations by type (incl. generic 'span' relation)"
     ]
    },
    {
     "cell_type": "code",
     "collapsed": false,
     "input": [
      "rst_relations_df.plot(kind='bar', x='RST relations', y='counts')"
     ],
     "language": "python",
     "metadata": {},
     "outputs": [
      {
       "metadata": {},
       "output_type": "pyout",
       "prompt_number": 137,
       "text": [
        "<matplotlib.axes.AxesSubplot at 0x613ad90>"
       ]
      },
      {
       "metadata": {},
       "output_type": "display_data",
       "png": "[encoded data removed]",
       "text": [
        "<matplotlib.figure.Figure at 0x6141750>"
       ]
      }
     ],
     "prompt_number": 137
    },
    {
     "cell_type": "markdown",
     "metadata": {},
     "source": [
      "## RST relations by type (excl. generic 'span' relation)"
     ]
    },
    {
     "cell_type": "code",
     "collapsed": false,
     "input": [
      "rst_relations_df[1:].plot(kind='bar', x='RST relations', y='counts')"
     ],
     "language": "python",
     "metadata": {},
     "outputs": [
      {
       "metadata": {},
       "output_type": "pyout",
       "prompt_number": 151,
       "text": [
        "<matplotlib.axes.AxesSubplot at 0x612edd0>"
       ]
      },
      {
       "metadata": {},
       "output_type": "display_data",
       "png": "[encoded data removed]",
       "text": [
        "<matplotlib.figure.Figure at 0x655e390>"
       ]
      }
     ],
     "prompt_number": 151
    },
    {
     "cell_type": "markdown",
     "metadata": {},
     "source": [
      "## Total number of RST relations (incl. generic 'span' relation)"
     ]
    },
    {
     "cell_type": "code",
     "collapsed": false,
     "input": [
      "sum(rst_relations_df['counts'])"
     ],
     "language": "python",
     "metadata": {},
     "outputs": [
      {
       "metadata": {},
       "output_type": "pyout",
       "prompt_number": 146,
       "text": [
        "5101"
       ]
      }
     ],
     "prompt_number": 146
    },
    {
     "cell_type": "markdown",
     "metadata": {},
     "source": [
      "## Total number of RST relations (excl. generic 'span' relation)"
     ]
    },
    {
     "cell_type": "code",
     "collapsed": false,
     "input": [
      "sum(rst_relations_df['counts'][1:])"
     ],
     "language": "python",
     "metadata": {},
     "outputs": [
      {
       "metadata": {},
       "output_type": "pyout",
       "prompt_number": 150,
       "text": [
        "3211"
       ]
      }
     ],
     "prompt_number": 150
    },
    {
     "cell_type": "markdown",
     "metadata": {},
     "source": [
      "# Coreference counts"
     ]
    },
    {
     "cell_type": "code",
     "collapsed": false,
     "input": [
      "COREF_DIR = os.path.join(MAZ_ROOTDIR, 'coreference')\n",
      "coref_files = !ls $COREF_DIR/*.mmax"
     ],
     "language": "python",
     "metadata": {},
     "outputs": [],
     "prompt_number": 68
    },
    {
     "cell_type": "markdown",
     "metadata": {},
     "source": [
      "## Number of binary coreference relations"
     ]
    },
    {
     "cell_type": "code",
     "collapsed": false,
     "input": [
      "binary_coref_relations = 0\n",
      "binary_coref_relation_types = Counter()\n",
      "\n",
      "for coref_file in coref_files:\n",
      "    mdg = MMAXDocumentGraph(coref_file)\n",
      "    for source, target, edge_attribs in select_edges_by(mdg, edge_type='points_to', data=True):\n",
      "        binary_coref_relations += 1\n",
      "        binary_coref_relation_types[edge_attribs['label']] += 1"
     ],
     "language": "python",
     "metadata": {},
     "outputs": [],
     "prompt_number": 69
    },
    {
     "cell_type": "markdown",
     "metadata": {},
     "source": [
      "### Total number of binary coreference relations"
     ]
    },
    {
     "cell_type": "code",
     "collapsed": false,
     "input": [
      "binary_coref_relations"
     ],
     "language": "python",
     "metadata": {},
     "outputs": [
      {
       "metadata": {},
       "output_type": "pyout",
       "prompt_number": 70,
       "text": [
        "1664"
       ]
      }
     ],
     "prompt_number": 70
    },
    {
     "cell_type": "markdown",
     "metadata": {},
     "source": [
      "### Number of binary coreference relations by subtype"
     ]
    },
    {
     "cell_type": "code",
     "collapsed": false,
     "input": [
      "sorted(binary_coref_relation_types.iteritems(), key=itemgetter(1), reverse=True)"
     ],
     "language": "python",
     "metadata": {},
     "outputs": [
      {
       "metadata": {},
       "output_type": "pyout",
       "prompt_number": 71,
       "text": [
        "[('mmax:antecedent', 1446),\n",
        " ('mmaxsecmark:antecedent', 197),\n",
        " ('mmaxgroups:antecedent', 21)]"
       ]
      }
     ],
     "prompt_number": 71
    },
    {
     "cell_type": "markdown",
     "metadata": {},
     "source": [
      "## Number of coreference chains\n",
      "\n",
      "Please note that the number of coreference chains is somewhat skewed.\n",
      "MMAX allows markables to point to more than one markable/target/antecedent.\n",
      "This features was used when MAZ176 was annotated.\n",
      "\n",
      "As an example, consider a coreference chain in which A points to B and B points\n",
      "to both C and D (i.e. ``A -> B -> {C, D}``). The algorithm used here will interpret this as two separate\n",
      "coreference chains (A-B-C and A-B-D).\n"
     ]
    },
    {
     "cell_type": "markdown",
     "metadata": {},
     "source": [
      "cf. https://github.com/arne-cl/discoursegraphs/issues/40"
     ]
    },
    {
     "cell_type": "code",
     "collapsed": false,
     "input": [
      "coref_chains = 0\n",
      "\n",
      "for coref_file in coref_files:\n",
      "    mdg = MMAXDocumentGraph(coref_file)\n",
      "    coref_chains += len(get_pointing_chains(mdg))\n",
      "\n",
      "print coref_chains"
     ],
     "language": "python",
     "metadata": {},
     "outputs": [
      {
       "output_type": "stream",
       "stream": "stdout",
       "text": [
        "934\n"
       ]
      }
     ],
     "prompt_number": 77
    },
    {
     "cell_type": "markdown",
     "metadata": {},
     "source": [
      "## Number of connected coreference components\n",
      "\n",
      "To avoid the abovementioned problem, we can calculate the\n",
      "number of connected components from a graph constructed using all\n",
      "binary coreference relations. In this setting, ``A -> B -> {C, D}``\n",
      "will be counted as one connected component."
     ]
    },
    {
     "cell_type": "code",
     "collapsed": false,
     "input": [
      "from networkx import Graph\n",
      "from networkx.algorithms.components.connected import connected_components\n",
      "\n",
      "coref_connected_components = 0\n",
      "\n",
      "for coref_file in coref_files:\n",
      "    coref_digraph = Graph()\n",
      "    mdg = MMAXDocumentGraph(coref_file)\n",
      "    for source, target, edge_attribs in select_edges_by(mdg, edge_type='points_to', data=True):\n",
      "        coref_digraph.add_edge(source, target, edge_attribs)\n",
      "    coref_connected_components += len(list(connected_components(coref_digraph)))\n",
      "    \n",
      "print coref_connected_components"
     ],
     "language": "python",
     "metadata": {},
     "outputs": [
      {
       "output_type": "stream",
       "stream": "stdout",
       "text": [
        "890\n"
       ]
      }
     ],
     "prompt_number": 105
    },
    {
     "cell_type": "markdown",
     "metadata": {},
     "source": [
      "# Reproducability information"
     ]
    },
    {
     "cell_type": "code",
     "collapsed": false,
     "input": [
      "%load_ext version_information\n",
      "%version_information networkx, pandas"
     ],
     "language": "python",
     "metadata": {},
     "outputs": [
      {
       "output_type": "stream",
       "stream": "stdout",
       "text": [
        "The version_information extension is already loaded. To reload it, use:\n",
        "  %reload_ext version_information\n"
       ]
      },
      {
       "html": [
        "<table><tr><th>Software</th><th>Version</th></tr><tr><td>Python</td><td>2.7.3 64bit [GCC 4.7.2]</td></tr><tr><td>IPython</td><td>2.1.0</td></tr><tr><td>OS</td><td>Linux 3.5.0 51 generic x86_64 with LinuxMint 14 nadia</td></tr><tr><td>networkx</td><td>1.9</td></tr><tr><td>pandas</td><td>0.14.1</td></tr><tr><td colspan='2'>Thu Oct 09 15:21:59 2014 CEST</td></tr></table>"
       ],
       "json": [
        "{\"Software versions\": [{\"version\": \"2.7.3 64bit [GCC 4.7.2]\", \"module\": \"Python\"}, {\"version\": \"2.1.0\", \"module\": \"IPython\"}, {\"version\": \"Linux 3.5.0 51 generic x86_64 with LinuxMint 14 nadia\", \"module\": \"OS\"}, {\"version\": \"1.9\", \"module\": \"networkx\"}, {\"version\": \"0.14.1\", \"module\": \"pandas\"}]}"
       ],
       "latex": [
        "\\begin{tabular}{|l|l|}\\hline\n",
        "{\\bf Software} & {\\bf Version} \\\\ \\hline\\hline\n",
        "Python & 2.7.3 64bit [GCC 4.7.2] \\\\ \\hline\n",
        "IPython & 2.1.0 \\\\ \\hline\n",
        "OS & Linux 3.5.0 51 generic x86\\letterunderscore{}64 with LinuxMint 14 nadia \\\\ \\hline\n",
        "networkx & 1.9 \\\\ \\hline\n",
        "pandas & 0.14.1 \\\\ \\hline\n",
        "\\hline \\multicolumn{2}{|l|}{Thu Oct 09 15:21:59 2014 CEST} \\\\ \\hline\n",
        "\\end{tabular}\n"
       ],
       "metadata": {},
       "output_type": "pyout",
       "prompt_number": 156,
       "text": [
        "Software versions\n",
        "Python 2.7.3 64bit [GCC 4.7.2]\n",
        "IPython 2.1.0\n",
        "OS Linux 3.5.0 51 generic x86_64 with LinuxMint 14 nadia\n",
        "networkx 1.9\n",
        "pandas 0.14.1\n",
        "Thu Oct 09 15:21:59 2014 CEST"
       ]
      }
     ],
     "prompt_number": 156
    },
    {
     "cell_type": "markdown",
     "metadata": {},
     "source": [
      "discoursegraphs git commit: 23f87dcf3b8597053c603e2a276b423159fa66f0\n",
      "\n",
      "pcc-annis-merged git commit: c4e87322af33850cada32f449170b91a2240a620"
     ]
    }
   ],
   "metadata": {}
  }
 ]
}