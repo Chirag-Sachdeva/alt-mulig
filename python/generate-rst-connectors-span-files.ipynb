{
 "metadata": {
  "name": "",
  "signature": "sha256:3eb865e4cd0dec02dbdb3fd03d5333bff882b2b06ee39d138bfd44a2b03f2020"
 },
 "nbformat": 3,
 "nbformat_minor": 0,
 "worksheets": [
  {
   "cells": [
    {
     "cell_type": "markdown",
     "metadata": {},
     "source": [
      "# Generate token span ranges for RST segments and Conano (connector) int/ext units"
     ]
    },
    {
     "cell_type": "code",
     "collapsed": false,
     "input": [
      "import os\n",
      "import itertools\n",
      "\n",
      "import pandas as pd\n",
      "from discoursegraphs.readwrite import RSTGraph, ConanoDocumentGraph\n",
      "from discoursegraphs.readwrite.rst import get_rst_relations, get_segment_spans_from_rst_relation\n",
      "from discoursegraphs.util import TokenMapper\n",
      "\n",
      "PCC_ROOTDIR = os.path.expanduser('~/corpora/potsdam-commentary-corpus-2.0.0/')\n",
      "RST_DIR = os.path.join(PCC_ROOTDIR, 'rst')\n",
      "CONANO_DIR = os.path.join(PCC_ROOTDIR, 'connectors')"
     ],
     "language": "python",
     "metadata": {},
     "outputs": [],
     "prompt_number": 4
    },
    {
     "cell_type": "code",
     "collapsed": false,
     "input": [
      "rst_graph = RSTGraph(os.path.join(RST_DIR, 'maz-00001.rs3'))\n",
      "rst_graph_untokenized = RSTGraph(os.path.join(RST_DIR, 'maz-00001.rs3'), tokenize=False)\n",
      "# get_segment_spans_from_rst_relation(rst_graph, 'rst:40')"
     ],
     "language": "python",
     "metadata": {},
     "outputs": [],
     "prompt_number": 5
    },
    {
     "cell_type": "code",
     "collapsed": false,
     "input": [
      "rst_files = !ls $RST_DIR/*.rs3\n",
      "conano_files = !ls $CONANO_DIR/*.xml"
     ],
     "language": "python",
     "metadata": {},
     "outputs": [],
     "prompt_number": 8
    },
    {
     "cell_type": "code",
     "collapsed": false,
     "input": [
      "def get_segment_token_offsets(segment_token_list, token_map):\n",
      "    \"\"\"\n",
      "    Parameters\n",
      "    ----------\n",
      "    segment_token_list : list of str\n",
      "        sorted list of token IDs (i.e. the tokens\n",
      "        that this segment spans)\n",
      "    token_mapper : dict of (str, int)\n",
      "        a map from token IDs to token indices\n",
      "    \n",
      "    Returns\n",
      "    -------\n",
      "    first_token_index : int\n",
      "        index of the first token of the segment\n",
      "    last_token_index : int\n",
      "        index of the last token of the segment\n",
      "    \"\"\"\n",
      "    return token_map[segment_token_list[0]], token_map[segment_token_list[-1]]"
     ],
     "language": "python",
     "metadata": {},
     "outputs": [],
     "prompt_number": 9
    },
    {
     "cell_type": "code",
     "collapsed": false,
     "input": [
      "def get_rst_spans(docgraph):\n",
      "    \"\"\"\n",
      "    \"\"\"\n",
      "    token_map = TokenMapper(docgraph).id2index\n",
      "\n",
      "    for dom_node_id, rel_name, token_ids in get_rst_relations(docgraph):\n",
      "        segments = get_segment_spans_from_rst_relation(docgraph, dom_node_id)\n",
      "        for segment_pair in itertools.combinations(segments, 2):\n",
      "            for seg_id in segment_pair:\n",
      "                start, end = get_segment_token_offsets(segments[seg_id], token_map)\n",
      "                yield (dom_node_id+':'+seg_id, rel_name, start, end)"
     ],
     "language": "python",
     "metadata": {},
     "outputs": [],
     "prompt_number": 10
    },
    {
     "cell_type": "code",
     "collapsed": false,
     "input": [
      "from discoursegraphs.readwrite.conano import get_conano_units, get_connective\n",
      "\n",
      "def get_conano_spans(docgraph):\n",
      "    \"\"\"\n",
      "    \"\"\"\n",
      "    token_map = TokenMapper(docgraph).id2index\n",
      "\n",
      "    for unit_id, token_ids in get_conano_units(docgraph):\n",
      "        first_tok, last_tok = get_segment_token_offsets(token_ids, token_map)\n",
      "        yield (unit_id, get_connective(docgraph, unit_id),\n",
      "               first_tok, last_tok)"
     ],
     "language": "python",
     "metadata": {},
     "outputs": [],
     "prompt_number": 11
    },
    {
     "cell_type": "code",
     "collapsed": false,
     "input": [
      "from discoursegraphs import select_nodes_by_layer\n",
      "\n",
      "for rst_file in rst_files:\n",
      "    rst_graph = RSTGraph(rst_file)\n",
      "    doc_id = rst_graph.name.split('.')[0]\n",
      "    conano_graph = ConanoDocumentGraph(os.path.join(CONANO_DIR, doc_id+'.xml'))\n",
      "    \n",
      "    rst_spans = get_rst_spans(rst_graph)\n",
      "    try:\n",
      "        rst_span_df = pd.DataFrame(rst_spans, columns=['segment-id', 'relation-name', 'start-token', 'end-token'])\n",
      "        rst_span_df.to_csv('/tmp/rst_vs_connectors/{}_rst_spans.csv'.format(doc_id), index=False)\n",
      "    except Exception as e:\n",
      "        print \"{}: contains wrong RST spans\".format(doc_id), e\n",
      "\n",
      "    try:\n",
      "        conano_spans = get_conano_spans(conano_graph)\n",
      "        conano_span_df = pd.DataFrame(conano_spans, columns=['unit-id', 'connective', 'start-token', 'end-token'])\n",
      "        conano_span_df.to_csv('/tmp/rst_vs_connectors/{}_conano_spans.csv'.format(doc_id), index=False, encoding=\"utf-8\")\n",
      "    except Exception as e:\n",
      "        print \"{}: contains wrong Conano spans\".format(doc_id), e\n",
      "\n",
      "    "
     ],
     "language": "python",
     "metadata": {},
     "outputs": [
      {
       "output_type": "stream",
       "stream": "stdout",
       "text": [
        "maz-00001: contains wrong RST spans 'rst:segment_type'\n",
        "maz-5144: contains wrong RST spans"
       ]
      },
      {
       "output_type": "stream",
       "stream": "stdout",
       "text": [
        " 'rst:segment_type'\n",
        "maz-8361: contains wrong Conano spans"
       ]
      },
      {
       "output_type": "stream",
       "stream": "stdout",
       "text": [
        " maximum recursion depth exceeded\n",
        "maz-8509: contains wrong RST spans"
       ]
      },
      {
       "output_type": "stream",
       "stream": "stdout",
       "text": [
        " 'rst:segment_type'\n"
       ]
      }
     ],
     "prompt_number": 17
    },
    {
     "cell_type": "code",
     "collapsed": false,
     "input": [
      "bad_rst_doc_ids = ['maz-00001', 'maz-5144', 'maz-8509']"
     ],
     "language": "python",
     "metadata": {},
     "outputs": [],
     "prompt_number": 18
    },
    {
     "cell_type": "code",
     "collapsed": false,
     "input": [
      "rst_graph = RSTGraph(os.path.join(RST_DIR, bad_rst_doc_ids[0]+'.rs3'))"
     ],
     "language": "python",
     "metadata": {},
     "outputs": [],
     "prompt_number": 20
    },
    {
     "cell_type": "code",
     "collapsed": false,
     "input": [
      "rst_spans = get_rst_spans(rst_graph)"
     ],
     "language": "python",
     "metadata": {},
     "outputs": [],
     "prompt_number": 21
    },
    {
     "cell_type": "code",
     "collapsed": false,
     "input": [
      "for node_id, node_attrs in select_nodes_by_layer(rst_graph, layer={'rst:segment', 'rst:group'}, data=True):\n",
      "    if 'rst:segment_type' not in node_attrs:\n",
      "        print node_id, node_attrs"
     ],
     "language": "python",
     "metadata": {},
     "outputs": [
      {
       "output_type": "stream",
       "stream": "stdout",
       "text": [
        "rst:31 {'layers': set(['rst', 'rst:group']), 'rst:group_type': 'span', 'rst:rel_name': '', 'label': 'rst:group:span:31'}\n"
       ]
      }
     ],
     "prompt_number": 26
    },
    {
     "cell_type": "code",
     "collapsed": false,
     "input": [],
     "language": "python",
     "metadata": {},
     "outputs": []
    }
   ],
   "metadata": {}
  }
 ]
}