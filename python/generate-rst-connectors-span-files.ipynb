{
 "metadata": {
  "name": "",
  "signature": "sha256:d79ab017690f4d6d745867408acd1a7fcd01c5188f4cdf0b05d2991bb1fbd62a"
 },
 "nbformat": 3,
 "nbformat_minor": 0,
 "worksheets": [
  {
   "cells": [
    {
     "cell_type": "markdown",
     "metadata": {},
     "source": [
      "# Generate token span ranges for RST segments and Conano (connector) int/ext units"
     ]
    },
    {
     "cell_type": "code",
     "collapsed": false,
     "input": [
      "import os\n",
      "import itertools\n",
      "\n",
      "import pandas as pd\n",
      "from discoursegraphs.readwrite import RSTGraph, ConanoDocumentGraph\n",
      "from discoursegraphs.readwrite.rst import get_rst_relations, get_segment_spans_from_rst_relation\n",
      "from discoursegraphs.util import TokenMapper\n",
      "\n",
      "PCC_ROOTDIR = os.path.expanduser('~/corpora/potsdam-commentary-corpus-2.0.0/')\n",
      "RST_DIR = os.path.join(PCC_ROOTDIR, 'rst')\n",
      "CONANO_DIR = os.path.join(PCC_ROOTDIR, 'connectors')"
     ],
     "language": "python",
     "metadata": {},
     "outputs": [],
     "prompt_number": 4
    },
    {
     "cell_type": "code",
     "collapsed": false,
     "input": [
      "rst_graph = RSTGraph(os.path.join(RST_DIR, 'maz-00001.rs3'))\n",
      "rst_graph_untokenized = RSTGraph(os.path.join(RST_DIR, 'maz-00001.rs3'), tokenize=False)\n",
      "# get_segment_spans_from_rst_relation(rst_graph, 'rst:40')"
     ],
     "language": "python",
     "metadata": {},
     "outputs": [],
     "prompt_number": 5
    },
    {
     "cell_type": "code",
     "collapsed": false,
     "input": [
      "from discoursegraphs import select_nodes_by_layer\n",
      "\n",
      "rel_attr = 'rst:rel_name'\n",
      "for node_id, node_attrs in rst_graph.nodes_iter(data=True):\n",
      "    if node_attrs.get(rel_attr):  # if rel_attr in node_attrs and is not empty\n",
      "#         if node_attrs[rel_attr] in rst_graph.relations:\n",
      "            print node_id, node_attrs[rel_attr] #, get_span(rst_graph, node_id)\n"
     ],
     "language": "python",
     "metadata": {},
     "outputs": [
      {
       "output_type": "stream",
       "stream": "stdout",
       "text": [
        "rst:13 elaboration\n",
        "rst:11 reason\n",
        "rst:18 condition\n",
        "rst:22 interpretation\n",
        "rst:21 conjunction\n",
        "rst:30 result\n",
        "rst:32 conjunction\n",
        "rst:35 list\n",
        "rst:37 joint\n",
        "rst:4 evaluation-n\n",
        "rst:6 reason\n",
        "rst:7 evidence\n",
        "rst:3 cause\n",
        "rst:9 reason\n",
        "rst:29 conjunction\n",
        "rst:25 interpretation\n",
        "rst:24 reason\n"
       ]
      }
     ],
     "prompt_number": 6
    },
    {
     "cell_type": "code",
     "collapsed": false,
     "input": [
      "%matplotlib inline\n",
      "%load_ext gvmagic\n",
      "\n",
      "from discoursegraphs import print_dot\n",
      "\n",
      "# %dotstr print_dot(rst_graph_untokenized)\n",
      "\n",
      "# list(get_rst_relations(rst_graph, data=True))"
     ],
     "language": "python",
     "metadata": {},
     "outputs": [],
     "prompt_number": 7
    },
    {
     "cell_type": "code",
     "collapsed": false,
     "input": [
      "rst_files = !ls $RST_DIR/*.rs3\n",
      "conano_files = !ls $CONANO_DIR/*.xml"
     ],
     "language": "python",
     "metadata": {},
     "outputs": [],
     "prompt_number": 8
    },
    {
     "cell_type": "code",
     "collapsed": false,
     "input": [
      "def get_segment_token_offsets(segment_token_list, token_map):\n",
      "    \"\"\"\n",
      "    Parameters\n",
      "    ----------\n",
      "    segment_token_list : list of str\n",
      "        sorted list of token IDs (i.e. the tokens\n",
      "        that this segment spans)\n",
      "    token_mapper : dict of (str, int)\n",
      "        a map from token IDs to token indices\n",
      "    \n",
      "    Returns\n",
      "    -------\n",
      "    first_token_index : int\n",
      "        index of the first token of the segment\n",
      "    last_token_index : int\n",
      "        index of the last token of the segment\n",
      "    \"\"\"\n",
      "    return token_map[segment_token_list[0]], token_map[segment_token_list[-1]]"
     ],
     "language": "python",
     "metadata": {},
     "outputs": [],
     "prompt_number": 9
    },
    {
     "cell_type": "code",
     "collapsed": false,
     "input": [
      "def get_rst_spans(docgraph):\n",
      "    \"\"\"\n",
      "    \"\"\"\n",
      "    token_map = TokenMapper(docgraph).id2index\n",
      "\n",
      "    for dom_node_id, rel_name, token_ids in get_rst_relations(docgraph):\n",
      "        segments = get_segment_spans_from_rst_relation(docgraph, dom_node_id)\n",
      "        for segment_pair in itertools.combinations(segments, 2):\n",
      "            for seg_id in segment_pair:\n",
      "                start, end = get_segment_token_offsets(segments[seg_id], token_map)\n",
      "                yield (dom_node_id+':'+seg_id, rel_name, start, end)"
     ],
     "language": "python",
     "metadata": {},
     "outputs": [],
     "prompt_number": 10
    },
    {
     "cell_type": "code",
     "collapsed": false,
     "input": [
      "from discoursegraphs.readwrite.conano import get_conano_units, get_connective\n",
      "\n",
      "def get_conano_spans(docgraph):\n",
      "    \"\"\"\n",
      "    \"\"\"\n",
      "    token_map = TokenMapper(docgraph).id2index\n",
      "\n",
      "    for unit_id, token_ids in get_conano_units(docgraph):\n",
      "        first_tok, last_tok = get_segment_token_offsets(token_ids, token_map)\n",
      "        yield (unit_id, get_connective(docgraph, unit_id),\n",
      "               first_tok, last_tok)"
     ],
     "language": "python",
     "metadata": {},
     "outputs": [],
     "prompt_number": 11
    },
    {
     "cell_type": "code",
     "collapsed": false,
     "input": [
      "from discoursegraphs import select_nodes_by_layer\n",
      "\n",
      "for rst_file in rst_files:\n",
      "    rst_graph = RSTGraph(rst_file)\n",
      "    doc_id = rst_graph.name.split('.')[0]\n",
      "    conano_graph = ConanoDocumentGraph(os.path.join(CONANO_DIR, doc_id+'.xml'))\n",
      "    \n",
      "    rst_spans = get_rst_spans(rst_graph)\n",
      "    try:\n",
      "        rst_span_df = pd.DataFrame(rst_spans, columns=['segment-id', 'relation-name', 'start-token', 'end-token'])\n",
      "        rst_span_df.to_csv('/tmp/rst_vs_connectors/{}_rst_spans.csv'.format(doc_id), index=False)\n",
      "    except Exception as e:\n",
      "        print \"{}: contains wrong RST spans\".format(doc_id), e\n",
      "\n",
      "    try:\n",
      "        conano_spans = get_conano_spans(conano_graph)\n",
      "        conano_span_df = pd.DataFrame(conano_spans, columns=['unit-id', 'connective', 'start-token', 'end-token'])\n",
      "        conano_span_df.to_csv('/tmp/rst_vs_connectors/{}_conano_spans.csv'.format(doc_id), index=False, encoding=\"utf-8\")\n",
      "    except Exception as e:\n",
      "        print \"{}: contains wrong Conano spans\".format(doc_id), e\n",
      "\n",
      "    "
     ],
     "language": "python",
     "metadata": {},
     "outputs": [
      {
       "output_type": "stream",
       "stream": "stdout",
       "text": [
        "maz-00001: contains wrong RST spans 'rst:segment_type'\n",
        "maz-5144: contains wrong RST spans"
       ]
      },
      {
       "output_type": "stream",
       "stream": "stdout",
       "text": [
        " 'rst:segment_type'\n",
        "maz-8361: contains wrong Conano spans"
       ]
      },
      {
       "output_type": "stream",
       "stream": "stdout",
       "text": [
        " maximum recursion depth exceeded\n",
        "maz-8509: contains wrong RST spans"
       ]
      },
      {
       "output_type": "stream",
       "stream": "stdout",
       "text": [
        " 'rst:segment_type'\n"
       ]
      }
     ],
     "prompt_number": 15
    },
    {
     "cell_type": "code",
     "collapsed": false,
     "input": [],
     "language": "python",
     "metadata": {},
     "outputs": [],
     "prompt_number": 12
    }
   ],
   "metadata": {}
  }
 ]
}