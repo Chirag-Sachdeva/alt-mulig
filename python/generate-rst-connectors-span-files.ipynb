{
 "metadata": {
  "name": "",
  "signature": "sha256:85cd6b53d1eeda5de5ce7ab86bfe67c2e6f87a85862f83e1bbb61308ea6bdc43"
 },
 "nbformat": 3,
 "nbformat_minor": 0,
 "worksheets": [
  {
   "cells": [
    {
     "cell_type": "markdown",
     "metadata": {},
     "source": [
      "# Generate token span ranges for RST segments and Conano (connector) int/ext units"
     ]
    },
    {
     "cell_type": "code",
     "collapsed": false,
     "input": [
      "import os\n",
      "import itertools\n",
      "\n",
      "import pandas as pd\n",
      "from discoursegraphs.readwrite import RSTGraph, ConanoDocumentGraph\n",
      "from discoursegraphs.readwrite.rst import get_rst_relation_root_nodes, get_rst_relations, get_rst_spans\n",
      "from discoursegraphs.util import TokenMapper\n",
      "\n",
      "PCC_ROOTDIR = os.path.expanduser('~/corpora/potsdam-commentary-corpus-2.0.0/')\n",
      "RST_DIR = os.path.join(PCC_ROOTDIR, 'rst')\n",
      "CONANO_DIR = os.path.join(PCC_ROOTDIR, 'connectors')"
     ],
     "language": "python",
     "metadata": {},
     "outputs": [],
     "prompt_number": 2
    },
    {
     "cell_type": "code",
     "collapsed": false,
     "input": [
      "rst_graph = RSTGraph(os.path.join(RST_DIR, 'maz-00001.rs3'))\n",
      "rst_graph_untokenized = RSTGraph(os.path.join(RST_DIR, 'maz-00001.rs3'), tokenize=False)\n",
      "# get_segment_spans_from_rst_relation(rst_graph, 'rst:40')"
     ],
     "language": "python",
     "metadata": {},
     "outputs": [],
     "prompt_number": 4
    },
    {
     "cell_type": "code",
     "collapsed": false,
     "input": [
      "rst_files = !ls $RST_DIR/*.rs3\n",
      "conano_files = !ls $CONANO_DIR/*.xml"
     ],
     "language": "python",
     "metadata": {},
     "outputs": [],
     "prompt_number": 5
    },
    {
     "cell_type": "code",
     "collapsed": false,
     "input": [
      "def get_segment_token_offsets(segment_token_list, token_map):\n",
      "    \"\"\"\n",
      "    Parameters\n",
      "    ----------\n",
      "    segment_token_list : list of str\n",
      "        sorted list of token IDs (i.e. the tokens\n",
      "        that this segment spans)\n",
      "    token_mapper : dict of (str, int)\n",
      "        a map from token IDs to token indices\n",
      "    \n",
      "    Returns\n",
      "    -------\n",
      "    first_token_index : int\n",
      "        index of the first token of the segment\n",
      "    last_token_index : int\n",
      "        index of the last token of the segment\n",
      "    \"\"\"\n",
      "    return token_map[segment_token_list[0]], token_map[segment_token_list[-1]]"
     ],
     "language": "python",
     "metadata": {},
     "outputs": [],
     "prompt_number": 6
    },
    {
     "cell_type": "code",
     "collapsed": false,
     "input": [
      "def get_rst_spans(docgraph):\n",
      "    \"\"\"\n",
      "    \"\"\"\n",
      "    token_map = TokenMapper(docgraph).id2index\n",
      "\n",
      "    for dom_node_id, rel_name, token_ids in get_rst_relations(docgraph):\n",
      "        segments = get_segment_spans_from_rst_relation(docgraph, dom_node_id)\n",
      "        for segment_pair in itertools.combinations(segments, 2):\n",
      "            for seg_id in segment_pair:\n",
      "                start, end = get_segment_token_offsets(segments[seg_id], token_map)\n",
      "                yield (dom_node_id+':'+seg_id, rel_name, start, end)"
     ],
     "language": "python",
     "metadata": {},
     "outputs": [],
     "prompt_number": 7
    },
    {
     "cell_type": "code",
     "collapsed": false,
     "input": [
      "from discoursegraphs.readwrite.conano import get_conano_units, get_connective\n",
      "\n",
      "def get_conano_spans(docgraph):\n",
      "    \"\"\"\n",
      "    \"\"\"\n",
      "    token_map = TokenMapper(docgraph).id2index\n",
      "\n",
      "    for unit_id, token_ids in get_conano_units(docgraph):\n",
      "        first_tok, last_tok = get_segment_token_offsets(token_ids, token_map)\n",
      "        yield (unit_id, get_connective(docgraph, unit_id),\n",
      "               first_tok, last_tok)"
     ],
     "language": "python",
     "metadata": {},
     "outputs": [],
     "prompt_number": 8
    },
    {
     "cell_type": "code",
     "collapsed": false,
     "input": [
      "from discoursegraphs import select_nodes_by_layer\n",
      "\n",
      "for rst_file in rst_files:\n",
      "    rst_graph = RSTGraph(rst_file)\n",
      "    doc_id = rst_graph.name.split('.')[0]\n",
      "#     conano_graph = ConanoDocumentGraph(os.path.join(CONANO_DIR, doc_id+'.xml'))\n",
      "    \n",
      "#     rst_spans = get_rst_spans(rst_graph)\n",
      "#     try:\n",
      "#         rst_span_df = pd.DataFrame(rst_spans, columns=['segment-id', 'relation-name', 'start-token', 'end-token'])\n",
      "#         rst_span_df.to_csv('/tmp/{}_rst_spans.csv'.format(doc_id), index=False)\n",
      "#     except Exception as e:\n",
      "#         print \"{}: contains wrong RST spans\".format(doc_id), e\n",
      "\n",
      "#     try:\n",
      "#         conano_spans = get_conano_spans(conano_graph)\n",
      "#         conano_span_df = pd.DataFrame(conano_spans, columns=['unit-id', 'connective', 'start-token', 'end-token'])\n",
      "#         conano_span_df.to_csv('/tmp/{}_conano_spans.csv'.format(doc_id), index=False, encoding=\"utf-8\")\n",
      "#     except Exception as e:\n",
      "#         print \"{}: contains wrong Conano spans\".format(doc_id), e\n",
      "\n",
      "    "
     ],
     "language": "python",
     "metadata": {},
     "outputs": [],
     "prompt_number": 9
    },
    {
     "cell_type": "markdown",
     "metadata": {},
     "source": [
      "# Test RST assumptions\n",
      "\n",
      "## are all **segment** dom_nodes from get_rst_relations() nucleii?"
     ]
    },
    {
     "cell_type": "code",
     "collapsed": false,
     "input": [
      "from collections import Counter\n",
      "\n",
      "dom_segment_types = Counter()\n",
      "\n",
      "for rst_file in rst_files[:2]:\n",
      "    rst_graph = RSTGraph(rst_file)\n",
      "    for dom_node, relname, toks in get_rst_relation_root_nodes(rst_graph):\n",
      "        if 'rst:segment' in rst_graph.node[dom_node]['layers']:\n",
      "            dom_segment_types[rst_graph.node[dom_node]['rst:segment_type']] += 1\n",
      "            if rst_graph.node[dom_node]['rst:segment_type'] == 'span':\n",
      "                print os.path.basename(rst_file), dom_node"
     ],
     "language": "python",
     "metadata": {},
     "outputs": [
      {
       "output_type": "stream",
       "stream": "stdout",
       "text": [
        "maz-00002.rs3 rst:16\n",
        "maz-00002.rs3 rst:18\n"
       ]
      }
     ],
     "prompt_number": 13
    },
    {
     "cell_type": "code",
     "collapsed": false,
     "input": [
      "dom_segment_types # nuc and span"
     ],
     "language": "python",
     "metadata": {},
     "outputs": []
    },
    {
     "cell_type": "markdown",
     "metadata": {},
     "source": [
      "## No, lots of them are 'span' nodes"
     ]
    },
    {
     "cell_type": "markdown",
     "metadata": {},
     "source": [
      "## are all *group* dom_nodes from get_rst_relations() nucleii?"
     ]
    },
    {
     "cell_type": "code",
     "collapsed": false,
     "input": [
      "dom_segment_types = Counter()\n",
      "\n",
      "for rst_file in rst_files:\n",
      "    rst_graph = RSTGraph(rst_file)\n",
      "    for dom_node, relname, toks in get_rst_relation_root_nodes(rst_graph):\n",
      "        if 'rst:group' in rst_graph.node[dom_node]['layers']:\n",
      "            dom_segment_types[rst_graph.node[dom_node]['rst:segment_type']] += 1"
     ],
     "language": "python",
     "metadata": {},
     "outputs": [],
     "prompt_number": 14
    },
    {
     "cell_type": "code",
     "collapsed": false,
     "input": [
      "dom_segment_types"
     ],
     "language": "python",
     "metadata": {},
     "outputs": [
      {
       "metadata": {},
       "output_type": "pyout",
       "prompt_number": 15,
       "text": [
        "Counter({'nucleus': 954, 'satellite': 230})"
       ]
      }
     ],
     "prompt_number": 15
    },
    {
     "cell_type": "markdown",
     "metadata": {},
     "source": [
      "## No."
     ]
    },
    {
     "cell_type": "markdown",
     "metadata": {},
     "source": [
      "## are there dom_nodes that dominate only one node, which is a span?"
     ]
    },
    {
     "cell_type": "code",
     "collapsed": false,
     "input": [
      "dominated_segment_types = Counter()\n",
      "\n",
      "for rst_file in rst_files[:1]:\n",
      "    rst_graph = RSTGraph(rst_file)\n",
      "    for dom_node, relname, toks in get_rst_relations(rst_graph):\n",
      "        if 'rst:group' in rst_graph.node[dom_node]['layers']:\n",
      "            for neighbor, neighbor_attrs in select_neighbors_by_layer(rst_graph,\n",
      "                                                                      dom_node,\n",
      "                                                                      layer={'rst:segment', 'rst:group'},\n",
      "                                                                      data=True):\n",
      "                dominated_segment_types[neighbor_attrs['rst:segment_type']] += 1\n",
      "                if neighbor_attrs['rst:segment_type'] == 'span':\n",
      "                    print os.path.basename(rst_file), dom_node, relname"
     ],
     "language": "python",
     "metadata": {},
     "outputs": []
    },
    {
     "cell_type": "code",
     "collapsed": false,
     "input": [
      "dominated_segment_types"
     ],
     "language": "python",
     "metadata": {},
     "outputs": []
    },
    {
     "cell_type": "markdown",
     "metadata": {},
     "source": [
      "## Yes, unfortunately!"
     ]
    },
    {
     "cell_type": "markdown",
     "metadata": {},
     "source": [
      "## do all segment dom_nodes dominate exactly one group/segment?"
     ]
    },
    {
     "cell_type": "code",
     "collapsed": false,
     "input": [
      "from collections import defaultdict\n",
      "import os\n",
      "from discoursegraphs import select_neighbors_by_layer\n",
      "\n",
      "dominated_segment_count = defaultdict(list)\n",
      "\n",
      "for rst_file in rst_files:\n",
      "    rst_graph = RSTGraph(rst_file)\n",
      "    for dom_node, relname, toks in get_rst_relations(rst_graph):\n",
      "        if 'rst:segment' in rst_graph.node[dom_node]['layers']:\n",
      "            rst_neighbors = list(select_neighbors_by_layer(rst_graph, dom_node, layer={'rst:segment', 'rst:group'}))\n",
      "            dominated_segment_count[len(rst_neighbors)].append( (os.path.basename(rst_file), dom_node) )"
     ],
     "language": "python",
     "metadata": {},
     "outputs": []
    },
    {
     "cell_type": "code",
     "collapsed": false,
     "input": [
      "dominated_segment_count.keys()"
     ],
     "language": "python",
     "metadata": {},
     "outputs": []
    },
    {
     "cell_type": "markdown",
     "metadata": {},
     "source": [
      "## Noooooooo!"
     ]
    },
    {
     "cell_type": "code",
     "collapsed": false,
     "input": [
      "for dom_num in dominated_segment_count:\n",
      "    print dom_num, \"count: \", len(dominated_segment_count[dom_num])"
     ],
     "language": "python",
     "metadata": {},
     "outputs": []
    },
    {
     "cell_type": "code",
     "collapsed": false,
     "input": [
      "dominated_segment_count[2][0]"
     ],
     "language": "python",
     "metadata": {},
     "outputs": []
    },
    {
     "cell_type": "code",
     "collapsed": false,
     "input": [
      "DOC_ID = 'maz-10205'\n",
      "NODE_ID = 'rst:5'\n",
      "rst_graph = RSTGraph(os.path.join(RST_DIR, DOC_ID+'.rs3'))\n",
      "\n",
      "print rst_graph.node[NODE_ID], '\\n\\n'\n",
      "print list(select_neighbors_by_layer(rst_graph, NODE_ID, layer={'rst:segment', 'rst:group'}))\n",
      "\n",
      "for dominated_node in rst_graph[NODE_ID]:\n",
      "    print dominated_node, rst_graph.node[dominated_node]['layers']"
     ],
     "language": "python",
     "metadata": {},
     "outputs": []
    },
    {
     "cell_type": "markdown",
     "metadata": {},
     "source": [
      "## does each RST dominating node have max. 1 outgoing spanning relation?"
     ]
    },
    {
     "cell_type": "code",
     "collapsed": false,
     "input": [
      "from discoursegraphs import EdgeTypes\n",
      "\n",
      "dominated_span_count = Counter()\n",
      "\n",
      "for rst_file in rst_files:\n",
      "    rst_graph = RSTGraph(rst_file)\n",
      "    for dom_node, relname, toks in get_rst_relations(rst_graph, data=True):\n",
      "#         print dom_node, relname\n",
      "        span_neighbors = []\n",
      "        for neighbor in select_neighbors_by_layer(rst_graph, dom_node, layer={'rst:segment', 'rst:group'}):\n",
      "            for edge in rst_graph.edge[dom_node][neighbor]:  # this is a multi-digraph\n",
      "                if rst_graph.edge[dom_node][neighbor][edge]['edge_type'] == EdgeTypes.spanning_relation:\n",
      "                    span_neighbors.append(neighbor)\n",
      "        dominated_span_count[len(span_neighbors)] += 1"
     ],
     "language": "python",
     "metadata": {},
     "outputs": []
    },
    {
     "cell_type": "code",
     "collapsed": false,
     "input": [
      "dominated_span_count"
     ],
     "language": "python",
     "metadata": {},
     "outputs": []
    },
    {
     "cell_type": "markdown",
     "metadata": {},
     "source": [
      "## RST segments/groups with empty segment_type or segment_type 'span'?"
     ]
    },
    {
     "cell_type": "code",
     "collapsed": false,
     "input": [
      "from collections import Counter\n",
      "\n",
      "segtype_counter = Counter()\n",
      "\n",
      "for rst_file in rst_files:\n",
      "    rst_graph = RSTGraph(rst_file)\n",
      "    for node_id, node_attrs in select_nodes_by_layer(rst_graph, layer={'rst:segment', 'rst:group'}, data=True):\n",
      "        segtype_counter[node_attrs['rst:segment_type']] += 1\n",
      "#             print os.path.basename(rst_file), node_id, node_attrs"
     ],
     "language": "python",
     "metadata": {},
     "outputs": []
    },
    {
     "cell_type": "code",
     "collapsed": false,
     "input": [
      "segtype_counter"
     ],
     "language": "python",
     "metadata": {},
     "outputs": []
    },
    {
     "cell_type": "markdown",
     "metadata": {},
     "source": [
      "## NO, it's fine now."
     ]
    },
    {
     "cell_type": "markdown",
     "metadata": {},
     "source": [
      "## how are multinuc relations signalled (edge attribs, dom node attribs, dominated node attrs)?"
     ]
    },
    {
     "cell_type": "code",
     "collapsed": false,
     "input": [
      "DOC_ID = 'maz-00002'\n",
      "\n",
      "rst_graph = RSTGraph(os.path.join(RST_DIR, DOC_ID+'.rs3'))\n",
      "\n",
      "rst_graph.node['rst:20']"
     ],
     "language": "python",
     "metadata": {},
     "outputs": []
    },
    {
     "cell_type": "code",
     "collapsed": false,
     "input": [
      "rst_graph['rst:20']"
     ],
     "language": "python",
     "metadata": {},
     "outputs": []
    },
    {
     "cell_type": "code",
     "collapsed": false,
     "input": [
      "for neighbor in rst_graph.neighbors('rst:20'):\n",
      "    print neighbor, rst_graph.node[neighbor]"
     ],
     "language": "python",
     "metadata": {},
     "outputs": []
    },
    {
     "cell_type": "markdown",
     "metadata": {},
     "source": [
      "## can multinucs dominate spans additionaly?"
     ]
    },
    {
     "cell_type": "code",
     "collapsed": false,
     "input": [
      "for rst_file in rst_files:\n",
      "    rst_graph = RSTGraph(rst_file)\n",
      "    for dom_node, relname, toks in get_rst_relations(rst_graph):\n",
      "        if 'rst:group' in rst_graph.node[dom_node]['layers'] \\\n",
      "        and rst_graph.node[dom_node]['rst:group_type'] == 'multinuc':\n",
      "            for target in rst_graph[dom_node]:\n",
      "                for edge in rst_graph[dom_node][target]:\n",
      "                    if rst_graph[dom_node][target][edge]['rst:rel_name'] == 'span':\n",
      "                        print dom_node"
     ],
     "language": "python",
     "metadata": {},
     "outputs": []
    },
    {
     "cell_type": "markdown",
     "metadata": {},
     "source": [
      "## No."
     ]
    },
    {
     "cell_type": "markdown",
     "metadata": {},
     "source": [
      "## Are there RST relations with non-adjacent segments?"
     ]
    },
    {
     "cell_type": "code",
     "collapsed": false,
     "input": [
      "import sys\n",
      "from collections import defaultdict\n",
      "\n",
      "def are_rst_spans_continuous(rst_spans):\n",
      "    \n",
      "    span_dict = defaultdict(list)\n",
      "    for rel_id, seg_id, relname, start, end in rst_spans:\n",
      "        span_dict[rel_id].append( (start, end) )\n",
      "    \n",
      "    for rel in span_dict:\n",
      "        rel_start, rel_end = sys.maxint, 0\n",
      "        rel_elements = set()\n",
      "        for start, end in span_dict[rel]:\n",
      "            [rel_elements.add(tok_idx) for tok_idx in range(start, end+1)]\n",
      "            if start < rel_start: rel_start = start\n",
      "            if end > rel_end: rel_end = end\n",
      "        if not all(rel_idx in rel_elements for rel_idx in range(rel_start, rel_end+1)):\n",
      "            return False\n",
      "    return True"
     ],
     "language": "python",
     "metadata": {},
     "outputs": [],
     "prompt_number": 4
    },
    {
     "cell_type": "code",
     "collapsed": false,
     "input": [
      "PCC_ROOTDIR = os.path.expanduser('~/corpora/potsdam-commentary-corpus-2.0.0/')\n",
      "RST_DIR = os.path.join(PCC_ROOTDIR, 'rst')\n",
      "rst_files = !ls $RST_DIR/*.rs3\n",
      "\n",
      "for rst_file in rst_files:\n",
      "    rst_graph = RSTGraph(rst_file)\n",
      "    rst_spans = get_rst_spans(rst_graph)\n",
      "    if not are_rst_spans_continuous(rst_spans):\n",
      "        print os.path.basename(rst_file)"
     ],
     "language": "python",
     "metadata": {},
     "outputs": [
      {
       "output_type": "stream",
       "stream": "stdout",
       "text": [
        "maz-10207.rs3\n",
        "maz-11299.rs3"
       ]
      },
      {
       "output_type": "stream",
       "stream": "stdout",
       "text": [
        "\n",
        "maz-11766.rs3"
       ]
      },
      {
       "output_type": "stream",
       "stream": "stdout",
       "text": [
        "\n",
        "maz-12188.rs3"
       ]
      },
      {
       "output_type": "stream",
       "stream": "stdout",
       "text": [
        "\n",
        "maz-13915.rs3"
       ]
      },
      {
       "output_type": "stream",
       "stream": "stdout",
       "text": [
        "\n",
        "maz-14654.rs3"
       ]
      },
      {
       "output_type": "stream",
       "stream": "stdout",
       "text": [
        "\n",
        "maz-15609.rs3"
       ]
      },
      {
       "output_type": "stream",
       "stream": "stdout",
       "text": [
        "\n",
        "maz-18750.rs3"
       ]
      },
      {
       "output_type": "stream",
       "stream": "stdout",
       "text": [
        "\n",
        "maz-19436.rs3"
       ]
      },
      {
       "output_type": "stream",
       "stream": "stdout",
       "text": [
        "\n",
        "maz-3367.rs3"
       ]
      },
      {
       "output_type": "stream",
       "stream": "stdout",
       "text": [
        "\n",
        "maz-4031.rs3"
       ]
      },
      {
       "output_type": "stream",
       "stream": "stdout",
       "text": [
        "\n",
        "maz-4403.rs3"
       ]
      },
      {
       "output_type": "stream",
       "stream": "stdout",
       "text": [
        "\n",
        "maz-4472.rs3"
       ]
      },
      {
       "output_type": "stream",
       "stream": "stdout",
       "text": [
        "\n",
        "maz-5012.rs3"
       ]
      },
      {
       "output_type": "stream",
       "stream": "stdout",
       "text": [
        "\n",
        "maz-6165.rs3"
       ]
      },
      {
       "output_type": "stream",
       "stream": "stdout",
       "text": [
        "\n",
        "maz-6728.rs3"
       ]
      },
      {
       "output_type": "stream",
       "stream": "stdout",
       "text": [
        "\n",
        "maz-6918.rs3\n",
        "maz-8288.rs3"
       ]
      },
      {
       "output_type": "stream",
       "stream": "stdout",
       "text": [
        "\n",
        "maz-8563.rs3"
       ]
      },
      {
       "output_type": "stream",
       "stream": "stdout",
       "text": [
        "\n",
        "maz-8838.rs3"
       ]
      },
      {
       "output_type": "stream",
       "stream": "stdout",
       "text": [
        "\n",
        "maz-9335.rs3"
       ]
      },
      {
       "output_type": "stream",
       "stream": "stdout",
       "text": [
        "\n",
        "maz-9891.rs3"
       ]
      },
      {
       "output_type": "stream",
       "stream": "stdout",
       "text": [
        "\n"
       ]
      }
     ],
     "prompt_number": 5
    },
    {
     "cell_type": "markdown",
     "metadata": {},
     "source": [
      "## Yes, there are RST relations with non-adjacent segments\n",
      "\n",
      "See maz-10207.rs3 *interpretation* relations in the beginning...\n",
      "(it's legal according to the rs3 file (which lists *interpretation* as an *rst* relation, not a *multinuc*"
     ]
    },
    {
     "cell_type": "markdown",
     "metadata": {},
     "source": [
      "## Are there any overlapping segments within RST relations?"
     ]
    },
    {
     "cell_type": "code",
     "collapsed": false,
     "input": [],
     "language": "python",
     "metadata": {},
     "outputs": []
    }
   ],
   "metadata": {}
  }
 ]
}