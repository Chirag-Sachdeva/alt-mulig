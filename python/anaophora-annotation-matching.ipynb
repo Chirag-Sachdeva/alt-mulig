{
 "metadata": {
  "name": "",
  "signature": "sha256:8f730100596eb4ebb66c790b039f1762300f1b2a286f0a3c694502505ee151c0"
 },
 "nbformat": 3,
 "nbformat_minor": 0,
 "worksheets": [
  {
   "cells": [
    {
     "cell_type": "markdown",
     "metadata": {},
     "source": [
      "# Comparison of anaphoricity annotations (Dittrich vs. Tosik)"
     ]
    },
    {
     "cell_type": "code",
     "collapsed": false,
     "input": [
      "import os\n",
      "from glob import glob\n",
      "from collections import defaultdict\n",
      "from discoursegraphs.readwrite import AnaphoraDocumentGraph\n",
      "from discoursegraphs import print_dot, info, select_nodes_by_layer"
     ],
     "language": "python",
     "metadata": {},
     "outputs": [],
     "prompt_number": 1
    },
    {
     "cell_type": "code",
     "collapsed": false,
     "input": [
      "TOSIK_DIR = os.path.expanduser('~/repos/pcc-annis-merged/maz176/anaphora/tosik/')\n",
      "DITTRICH_DIR = os.path.expanduser('~/repos/pcc-annis-merged/maz176/anaphora/dittrich/')"
     ],
     "language": "python",
     "metadata": {},
     "outputs": [],
     "prompt_number": 2
    },
    {
     "cell_type": "code",
     "collapsed": false,
     "input": [
      "def have_same_annotation(graph1, graph2, node_id):\n",
      "    return graph1.node[node_id][graph1.ns+':annotation'] == \\\n",
      "        graph2.node[node_id][graph2.ns+':annotation']"
     ],
     "language": "python",
     "metadata": {},
     "outputs": [],
     "prompt_number": 3
    },
    {
     "cell_type": "code",
     "collapsed": false,
     "input": [
      "def get_anaphoricity(graph, token_id):\n",
      "    return graph.node[token_id][graph.ns+':annotation'], graph.node[token_id][graph.ns+':certainty']"
     ],
     "language": "python",
     "metadata": {},
     "outputs": [],
     "prompt_number": 4
    },
    {
     "cell_type": "code",
     "collapsed": false,
     "input": [
      "def anaphoricity_agreement(annotator1_dir, annotator2_dir, anaphora):\n",
      "    \"\"\"\n",
      "    calculates the inter-annotator agreement between two annotators for\n",
      "    'das'/'es' anaphoricity annotation.\n",
      "    \n",
      "    Parameters\n",
      "    ----------\n",
      "    annotator1_dir : str\n",
      "        root directory of the annotation files of the first annotator\n",
      "    annotator2_dir : str\n",
      "        root directory of the annotation files of the second annotator\n",
      "    anaphora : str\n",
      "        'das' or 'es'\n",
      "    \"\"\"\n",
      "    annotator1_files = glob(os.path.join(annotator1_dir, anaphora, '*.txt'))\n",
      "    annotator2_files = glob(os.path.join(annotator2_dir, anaphora, '*.txt'))\n",
      "\n",
      "    num_of_annotated_tokens = 0\n",
      "    num_of_identical_annotations = 0\n",
      "    \n",
      "    annotations = defaultdict(lambda: defaultdict(dict))\n",
      "\n",
      "    for annotator1_file in annotator1_files:\n",
      "        annotator1_graph = AnaphoraDocumentGraph(annotator1_file, namespace='annotator1')\n",
      "        fname = os.path.basename(annotator1_file)\n",
      "        annotator2_graph = AnaphoraDocumentGraph(os.path.join(annotator2_dir, anaphora, fname), namespace='annotator2')\n",
      "\n",
      "        annotator1_anaphora = set(select_nodes_by_layer(annotator1_graph, 'annotator1:annotated'))\n",
      "        annotator2_anaphora = set(select_nodes_by_layer(annotator2_graph, 'annotator2:annotated'))\n",
      "        assert annotator1_anaphora == annotator2_anaphora\n",
      "\n",
      "        num_of_annotated_tokens += len(annotator1_anaphora)\n",
      "        for node_id in annotator1_anaphora:\n",
      "            if have_same_annotation(annotator1_graph, annotator2_graph, node_id):\n",
      "                num_of_identical_annotations += 1\n",
      "            \n",
      "            ns1, ns2 = annotator1_graph.ns, annotator2_graph.ns\n",
      "            annotations[(fname, node_id)][ns1] = get_anaphoricity(annotator1_graph, node_id)\n",
      "            annotations[(fname, node_id)][ns2] = get_anaphoricity(annotator2_graph, node_id)\n",
      "                                            \n",
      "    title = \"'{}' ANNOTATION\".format(anaphora.upper())\n",
      "    print \"{0}\\n{1}\\n\".format(title, len(title)*'=')\n",
      "    print \"annotated tokens: \", num_of_annotated_tokens\n",
      "    print \"identically annotatated tokens: \", num_of_identical_annotations\n",
      "    print \"agreement: \", num_of_identical_annotations / float(num_of_annotated_tokens) * 100\n",
      "    return annotations"
     ],
     "language": "python",
     "metadata": {},
     "outputs": [],
     "prompt_number": 5
    },
    {
     "cell_type": "markdown",
     "metadata": {},
     "source": [
      "## Comparison of 'es' annotations\n",
      "\n",
      "* agreement is much worse than for 'das'"
     ]
    },
    {
     "cell_type": "code",
     "collapsed": false,
     "input": [
      "es_annotations = anaphoricity_agreement(TOSIK_DIR, DITTRICH_DIR, 'es')"
     ],
     "language": "python",
     "metadata": {},
     "outputs": [
      {
       "output_type": "stream",
       "stream": "stdout",
       "text": [
        "'ES' ANNOTATION\n",
        "===============\n",
        "\n",
        "annotated tokens:  284\n",
        "identically annotatated tokens:  219\n",
        "agreement:  77.1126760563\n"
       ]
      }
     ],
     "prompt_number": 6
    },
    {
     "cell_type": "markdown",
     "metadata": {},
     "source": [
      "* distinguishing between **pleonastic** and **abstract** es seems hard"
     ]
    },
    {
     "cell_type": "code",
     "collapsed": false,
     "input": [
      "diverging_annotations = defaultdict(lambda: defaultdict(dict))\n",
      "\n",
      "for anno in es_annotations:\n",
      "    # if annotations are different\n",
      "    anno1 = es_annotations[anno]['annotator1'][0]\n",
      "    anno2 = es_annotations[anno]['annotator2'][0]\n",
      "    if anno1 != anno2:\n",
      "        if anno2 in diverging_annotations[anno1]:\n",
      "            diverging_annotations[anno1][anno2] += 1\n",
      "        else:\n",
      "            diverging_annotations[anno1][anno2] = 1"
     ],
     "language": "python",
     "metadata": {},
     "outputs": [],
     "prompt_number": 7
    },
    {
     "cell_type": "code",
     "collapsed": false,
     "input": [
      "for anno1 in diverging_annotations:\n",
      "    print anno1, diverging_annotations[anno1]"
     ],
     "language": "python",
     "metadata": {},
     "outputs": [
      {
       "output_type": "stream",
       "stream": "stdout",
       "text": [
        "pleonastic defaultdict(<type 'dict'>, {'abstract': 7})\n",
        "abstract defaultdict(<type 'dict'>, {'pleonastic': 46, 'nominal': 3})\n",
        "nominal defaultdict(<type 'dict'>, {'pleonastic': 4, 'abstract': 5})\n"
       ]
      }
     ],
     "prompt_number": 8
    },
    {
     "cell_type": "code",
     "collapsed": false,
     "input": [
      "diverging_annotations = defaultdict(lambda: defaultdict(dict))\n",
      "\n",
      "for anno in es_annotations:\n",
      "    # if annotations are different\n",
      "    anno1 = es_annotations[anno]['annotator1'][0]\n",
      "    anno2 = es_annotations[anno]['annotator2'][0]\n",
      "    if anno1 != anno2:\n",
      "        if anno1 in diverging_annotations[anno2]:\n",
      "            diverging_annotations[anno2][anno1] += 1\n",
      "        else:\n",
      "            diverging_annotations[anno2][anno1] = 1\n",
      "            \n",
      "for anno2 in diverging_annotations:\n",
      "    print anno2, diverging_annotations[anno2]"
     ],
     "language": "python",
     "metadata": {},
     "outputs": [
      {
       "output_type": "stream",
       "stream": "stdout",
       "text": [
        "pleonastic defaultdict(<type 'dict'>, {'abstract': 46, 'nominal': 4})\n",
        "abstract defaultdict(<type 'dict'>, {'pleonastic': 7, 'nominal': 5})\n",
        "nominal defaultdict(<type 'dict'>, {'abstract': 3})\n"
       ]
      }
     ],
     "prompt_number": 9
    },
    {
     "cell_type": "markdown",
     "metadata": {},
     "source": [
      "## Comparison of 'das' annotations"
     ]
    },
    {
     "cell_type": "code",
     "collapsed": false,
     "input": [
      "das_annotations = anaphoricity_agreement(TOSIK_DIR, DITTRICH_DIR, 'das')"
     ],
     "language": "python",
     "metadata": {},
     "outputs": [
      {
       "output_type": "stream",
       "stream": "stdout",
       "text": [
        "'DAS' ANNOTATION\n",
        "================\n",
        "\n",
        "annotated tokens:  374\n",
        "identically annotatated tokens:  343\n",
        "agreement:  91.7112299465\n"
       ]
      }
     ],
     "prompt_number": 10
    },
    {
     "cell_type": "code",
     "collapsed": false,
     "input": [
      "diverging_annotations = defaultdict(lambda: defaultdict(dict))\n",
      "\n",
      "for anno in das_annotations:\n",
      "    # if annotations are different\n",
      "    anno1 = das_annotations[anno]['annotator1'][0]\n",
      "    anno2 = das_annotations[anno]['annotator2'][0]\n",
      "    if anno1 != anno2:\n",
      "        if anno2 in diverging_annotations[anno1]:\n",
      "            diverging_annotations[anno1][anno2] += 1\n",
      "        else:\n",
      "            diverging_annotations[anno1][anno2] = 1\n",
      "\n",
      "for anno1 in diverging_annotations:\n",
      "    print anno1, '-->', diverging_annotations[anno1]"
     ],
     "language": "python",
     "metadata": {},
     "outputs": [
      {
       "output_type": "stream",
       "stream": "stdout",
       "text": [
        "relative --> defaultdict(<type 'dict'>, {'pleonastic': 11, 'nominal': 6})\n",
        "abstract --> defaultdict(<type 'dict'>, {'pleonastic': 7, 'nominal': 6})\n",
        "nominal --> defaultdict(<type 'dict'>, {'pleonastic': 1})\n"
       ]
      }
     ],
     "prompt_number": 11
    },
    {
     "cell_type": "code",
     "collapsed": false,
     "input": [
      "diverging_annotations = defaultdict(lambda: defaultdict(dict))\n",
      "\n",
      "for anno in das_annotations:\n",
      "    # if annotations are different\n",
      "    anno1 = das_annotations[anno]['annotator1'][0]\n",
      "    anno2 = das_annotations[anno]['annotator2'][0]\n",
      "    if anno1 != anno2:\n",
      "        if anno1 in diverging_annotations[anno2]:\n",
      "            diverging_annotations[anno2][anno1] += 1\n",
      "        else:\n",
      "            diverging_annotations[anno2][anno1] = 1\n",
      "\n",
      "for anno2 in diverging_annotations:\n",
      "    print anno2, '-->', diverging_annotations[anno2]"
     ],
     "language": "python",
     "metadata": {},
     "outputs": [
      {
       "output_type": "stream",
       "stream": "stdout",
       "text": [
        "pleonastic --> defaultdict(<type 'dict'>, {'relative': 11, 'abstract': 7, 'nominal': 1})\n",
        "nominal --> defaultdict(<type 'dict'>, {'relative': 6, 'abstract': 6})\n"
       ]
      }
     ],
     "prompt_number": 12
    },
    {
     "cell_type": "code",
     "collapsed": false,
     "input": [
      "%matplotlib inline\n",
      "\n",
      "import numpy as np\n",
      "import pandas as pd"
     ],
     "language": "python",
     "metadata": {},
     "outputs": [],
     "prompt_number": 19
    },
    {
     "cell_type": "code",
     "collapsed": false,
     "input": [
      "def generate_disagreement_matrices(annotations):\n",
      "    \"\"\"\n",
      "    Parameters\n",
      "    ----------\n",
      "    annotations : defaultdict(dict) or dict of dicts\n",
      "        maps from a (filename str, token_id int) tuple to a\n",
      "        dict with the keys 'annotator1' and 'annotator2' and\n",
      "        (annotation str, certainty float) tuples as values.\n",
      "    \"\"\"\n",
      "\n",
      "    one2two = defaultdict(lambda: defaultdict(dict))\n",
      "    two2one = defaultdict(lambda: defaultdict(dict))\n",
      "\n",
      "    for anno in annotations:\n",
      "        anno1 = annotations[anno]['annotator1'][0]\n",
      "        anno2 = annotations[anno]['annotator2'][0]\n",
      "        if anno1 != anno2:\n",
      "            if anno2 in one2two[anno1]:\n",
      "                one2two[anno1][anno2] += 1\n",
      "            else:\n",
      "                one2two[anno1][anno2] = 1\n",
      "            \n",
      "            if anno1 in two2one[anno2]:\n",
      "                two2one[anno2][anno1] += 1\n",
      "            else:\n",
      "                two2one[anno2][anno1] = 1\n",
      "\n",
      "    return one2two, two2one"
     ],
     "language": "python",
     "metadata": {},
     "outputs": [],
     "prompt_number": 59
    },
    {
     "cell_type": "code",
     "collapsed": false,
     "input": [
      "das_annotations = anaphoricity_agreement(TOSIK_DIR, DITTRICH_DIR, 'das')\n",
      "one2two, two2one = generate_disagreement_matrices(das_annotations)"
     ],
     "language": "python",
     "metadata": {},
     "outputs": [
      {
       "output_type": "stream",
       "stream": "stdout",
       "text": [
        "'DAS' ANNOTATION\n",
        "================\n",
        "\n",
        "annotated tokens:  374\n",
        "identically annotatated tokens:  343\n",
        "agreement:  91.7112299465\n"
       ]
      }
     ],
     "prompt_number": 61
    },
    {
     "cell_type": "code",
     "collapsed": false,
     "input": [
      "one2two\n",
      "\n",
      "rows = one2two.keys()\n",
      "print rows\n",
      "\n",
      "cols = set(k for v in one2two.values() for k in v.keys())\n",
      "print cols"
     ],
     "language": "python",
     "metadata": {},
     "outputs": [
      {
       "output_type": "stream",
       "stream": "stdout",
       "text": [
        "['relative', 'abstract', 'nominal']\n",
        "set(['pleonastic', 'nominal'])\n"
       ]
      }
     ],
     "prompt_number": 75
    },
    {
     "cell_type": "code",
     "collapsed": false,
     "input": [
      "one2two_df = pd.DataFrame(np.zeros((len(rows), len(cols)), dtype=np.int), columns=cols, index=rows)\n",
      "one2two_df"
     ],
     "language": "python",
     "metadata": {},
     "outputs": [
      {
       "html": [
        "<div style=\"max-height:1000px;max-width:1500px;overflow:auto;\">\n",
        "<table border=\"1\" class=\"dataframe\">\n",
        "  <thead>\n",
        "    <tr style=\"text-align: right;\">\n",
        "      <th></th>\n",
        "      <th>pleonastic</th>\n",
        "      <th>nominal</th>\n",
        "    </tr>\n",
        "  </thead>\n",
        "  <tbody>\n",
        "    <tr>\n",
        "      <th>relative</th>\n",
        "      <td> 0</td>\n",
        "      <td> 0</td>\n",
        "    </tr>\n",
        "    <tr>\n",
        "      <th>abstract</th>\n",
        "      <td> 0</td>\n",
        "      <td> 0</td>\n",
        "    </tr>\n",
        "    <tr>\n",
        "      <th>nominal</th>\n",
        "      <td> 0</td>\n",
        "      <td> 0</td>\n",
        "    </tr>\n",
        "  </tbody>\n",
        "</table>\n",
        "</div>"
       ],
       "metadata": {},
       "output_type": "pyout",
       "prompt_number": 89,
       "text": [
        "          pleonastic  nominal\n",
        "relative           0        0\n",
        "abstract           0        0\n",
        "nominal            0        0"
       ]
      }
     ],
     "prompt_number": 89
    },
    {
     "cell_type": "code",
     "collapsed": false,
     "input": [
      "for anno in one2two:\n",
      "    for disagree_anno, disagree_count in one2two[anno].items():\n",
      "        one2two_df[disagree_anno][anno] = disagree_count"
     ],
     "language": "python",
     "metadata": {},
     "outputs": [],
     "prompt_number": 97
    },
    {
     "cell_type": "code",
     "collapsed": false,
     "input": [
      "one2two_plot = one2two_df.plot(kind='bar', stacked=True)\n",
      "one2two_plot.set_xlabel(\"Annotator 1 annotated ...\")\n",
      "one2two_plot.set_ylabel(\"but Annotator 2 disagreed\")"
     ],
     "language": "python",
     "metadata": {},
     "outputs": [
      {
       "metadata": {},
       "output_type": "pyout",
       "prompt_number": 108,
       "text": [
        "<matplotlib.text.Text at 0x57d5a90>"
       ]
      },
      {
       "metadata": {},
       "output_type": "display_data",
       "png": "[encoded data removed]",
       "text": [
        "<matplotlib.figure.Figure at 0x57a1390>"
       ]
      }
     ],
     "prompt_number": 108
    },
    {
     "cell_type": "code",
     "collapsed": false,
     "input": [
      "two2one\n",
      "rows = two2one.keys()\n",
      "cols = set(k for v in two2one.values() for k in v.keys())\n",
      "two2one_df = pd.DataFrame(np.zeros((len(rows), len(cols)), dtype=np.int), columns=cols, index=rows)\n",
      "for anno in two2one:\n",
      "    for disagree_anno, disagree_count in two2one[anno].items():\n",
      "        two2one_df[disagree_anno][anno] = disagree_count\n",
      "\n",
      "two2one_plot = two2one_df.plot(kind='bar', stacked=True)\n",
      "two2one_plot.set_xlabel(\"Annotator 2 annotated ...\")\n",
      "two2one_plot.set_ylabel(\"but Annotator 1 disagreed\")"
     ],
     "language": "python",
     "metadata": {},
     "outputs": [
      {
       "metadata": {},
       "output_type": "pyout",
       "prompt_number": 109,
       "text": [
        "<matplotlib.text.Text at 0x58d6a50>"
       ]
      },
      {
       "metadata": {},
       "output_type": "display_data",
       "png": "[encoded data removed]",
       "text": [
        "<matplotlib.figure.Figure at 0x57d9110>"
       ]
      }
     ],
     "prompt_number": 109
    },
    {
     "cell_type": "heading",
     "level": 1,
     "metadata": {},
     "source": [
      "Possible improvements"
     ]
    },
    {
     "cell_type": "markdown",
     "metadata": {},
     "source": [
      "* include statistics for agreement grouped by n/a/p/r annotation\n",
      "* add titles to plots to differenciate betw. 'das' and 'es'\n",
      "* allow comparisons for more than 2 annotators\n",
      "* add annotator names early in the process and add them to all plots\n",
      "* try subplots?\n",
      "\n",
      "* try out different visualizations\n",
      "  * chord diagrams (d3)\n",
      "    * http://bl.ocks.org/mbostock/4062006\n",
      "    * http://bl.ocks.org/mbostock/1308257\n",
      "  * parallel sets (d3 or java app)\n",
      "    * http://www.jasondavies.com/parallel-sets/\n",
      "    * https://eagereyes.org/parallel-sets"
     ]
    },
    {
     "cell_type": "code",
     "collapsed": false,
     "input": [],
     "language": "python",
     "metadata": {},
     "outputs": []
    }
   ],
   "metadata": {}
  }
 ]
}