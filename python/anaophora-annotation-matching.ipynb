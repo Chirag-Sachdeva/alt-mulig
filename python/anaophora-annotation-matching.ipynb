{
 "metadata": {
  "name": "",
  "signature": "sha256:2a127f9efed21a0b3a500f930af6bf652643b483d21bf173e6b398acc7556e97"
 },
 "nbformat": 3,
 "nbformat_minor": 0,
 "worksheets": [
  {
   "cells": [
    {
     "cell_type": "markdown",
     "metadata": {},
     "source": [
      "# Comparison of anaphoricity annotations (Dittrich vs. Tosik)"
     ]
    },
    {
     "cell_type": "code",
     "collapsed": false,
     "input": [
      "import os\n",
      "from glob import glob\n",
      "from collections import defaultdict\n",
      "from discoursegraphs.readwrite import AnaphoraDocumentGraph\n",
      "from discoursegraphs import print_dot, info, select_nodes_by_layer"
     ],
     "language": "python",
     "metadata": {},
     "outputs": [],
     "prompt_number": 45
    },
    {
     "cell_type": "code",
     "collapsed": false,
     "input": [
      "TOSIK_DIR = os.path.expanduser('~/repos/pcc-annis-merged/maz176/anaphora/tosik/')\n",
      "DITTRICH_DIR = os.path.expanduser('~/repos/pcc-annis-merged/maz176/anaphora/dittrich/')"
     ],
     "language": "python",
     "metadata": {},
     "outputs": [],
     "prompt_number": 46
    },
    {
     "cell_type": "code",
     "collapsed": false,
     "input": [
      "def have_same_annotation(graph1, graph2, node_id):\n",
      "    return graph1.node[node_id][graph1.ns+':annotation'] == \\\n",
      "        graph2.node[node_id][graph2.ns+':annotation']"
     ],
     "language": "python",
     "metadata": {},
     "outputs": [],
     "prompt_number": 47
    },
    {
     "cell_type": "code",
     "collapsed": false,
     "input": [
      "def get_anaphoricity(graph, token_id):\n",
      "    return graph.node[token_id][graph.ns+':annotation'], graph.node[token_id][graph.ns+':certainty']"
     ],
     "language": "python",
     "metadata": {},
     "outputs": [],
     "prompt_number": 48
    },
    {
     "cell_type": "code",
     "collapsed": false,
     "input": [
      "def anaphoricity_agreement(annotator1_dir, annotator2_dir, anaphora):\n",
      "    \"\"\"\n",
      "    calculates the inter-annotator agreement between two annotators for\n",
      "    'das'/'es' anaphoricity annotation.\n",
      "    \n",
      "    Parameters\n",
      "    ----------\n",
      "    annotator1_dir : str\n",
      "        root directory of the annotation files of the first annotator\n",
      "    annotator2_dir : str\n",
      "        root directory of the annotation files of the second annotator\n",
      "    anaphora : str\n",
      "        'das' or 'es'\n",
      "    \"\"\"\n",
      "    annotator1_files = glob(os.path.join(annotator1_dir, anaphora, '*.txt'))\n",
      "    annotator2_files = glob(os.path.join(annotator2_dir, anaphora, '*.txt'))\n",
      "\n",
      "    num_of_annotated_tokens = 0\n",
      "    num_of_identical_annotations = 0\n",
      "    \n",
      "    annotations = defaultdict(lambda: defaultdict(dict))\n",
      "\n",
      "    for annotator1_file in annotator1_files:\n",
      "        annotator1_graph = AnaphoraDocumentGraph(annotator1_file, namespace='annotator1')\n",
      "        fname = os.path.basename(annotator1_file)\n",
      "        annotator2_graph = AnaphoraDocumentGraph(os.path.join(annotator2_dir, anaphora, fname), namespace='annotator2')\n",
      "\n",
      "        annotator1_anaphora = set(select_nodes_by_layer(annotator1_graph, 'annotator1:annotated'))\n",
      "        annotator2_anaphora = set(select_nodes_by_layer(annotator2_graph, 'annotator2:annotated'))\n",
      "        assert annotator1_anaphora == annotator2_anaphora\n",
      "\n",
      "        num_of_annotated_tokens += len(annotator1_anaphora)\n",
      "        for node_id in annotator1_anaphora:\n",
      "            if have_same_annotation(annotator1_graph, annotator2_graph, node_id):\n",
      "                num_of_identical_annotations += 1\n",
      "            \n",
      "            ns1, ns2 = annotator1_graph.ns, annotator2_graph.ns\n",
      "            annotations[(fname, node_id)][ns1] = get_anaphoricity(annotator1_graph, node_id)\n",
      "            annotations[(fname, node_id)][ns2] = get_anaphoricity(annotator2_graph, node_id)\n",
      "                                            \n",
      "    title = \"'{}' ANNOTATION\".format(anaphora.upper())\n",
      "    print \"{0}\\n{1}\\n\".format(title, len(title)*'=')\n",
      "    print \"annotated tokens: \", num_of_annotated_tokens\n",
      "    print \"identically annotatated tokens: \", num_of_identical_annotations\n",
      "    print \"agreement: \", num_of_identical_annotations / float(num_of_annotated_tokens) * 100\n",
      "    return annotations"
     ],
     "language": "python",
     "metadata": {},
     "outputs": [],
     "prompt_number": 49
    },
    {
     "cell_type": "markdown",
     "metadata": {},
     "source": [
      "## Comparison of 'es' annotations\n",
      "\n",
      "* agreement is much worse than for 'das'"
     ]
    },
    {
     "cell_type": "code",
     "collapsed": false,
     "input": [
      "es_annotations = anaphoricity_agreement(TOSIK_DIR, DITTRICH_DIR, 'es')"
     ],
     "language": "python",
     "metadata": {},
     "outputs": [
      {
       "output_type": "stream",
       "stream": "stdout",
       "text": [
        "'ES' ANNOTATION\n",
        "===============\n",
        "\n",
        "annotated tokens:  284\n",
        "identically annotatated tokens:  219\n",
        "agreement:  77.1126760563\n"
       ]
      }
     ],
     "prompt_number": 50
    },
    {
     "cell_type": "markdown",
     "metadata": {},
     "source": [
      "* distinguishing between **pleonastic** and **abstract** es seems hard"
     ]
    },
    {
     "cell_type": "code",
     "collapsed": false,
     "input": [
      "diverging_annotations = defaultdict(lambda: defaultdict(dict))\n",
      "\n",
      "for anno in es_annotations:\n",
      "    # if annotations are different\n",
      "    anno1 = es_annotations[anno]['annotator1'][0]\n",
      "    anno2 = es_annotations[anno]['annotator2'][0]\n",
      "    if anno1 != anno2:\n",
      "        if anno2 in diverging_annotations[anno1]:\n",
      "            diverging_annotations[anno1][anno2] += 1\n",
      "        else:\n",
      "            diverging_annotations[anno1][anno2] = 1"
     ],
     "language": "python",
     "metadata": {},
     "outputs": [],
     "prompt_number": 51
    },
    {
     "cell_type": "code",
     "collapsed": false,
     "input": [
      "for anno1 in diverging_annotations:\n",
      "    print anno1, diverging_annotations[anno1]"
     ],
     "language": "python",
     "metadata": {},
     "outputs": [
      {
       "output_type": "stream",
       "stream": "stdout",
       "text": [
        "pleonastic defaultdict(<type 'dict'>, {'abstract': 7})\n",
        "abstract defaultdict(<type 'dict'>, {'pleonastic': 46, 'nominal': 3})\n",
        "nominal defaultdict(<type 'dict'>, {'pleonastic': 4, 'abstract': 5})\n"
       ]
      }
     ],
     "prompt_number": 52
    },
    {
     "cell_type": "code",
     "collapsed": false,
     "input": [
      "diverging_annotations = defaultdict(lambda: defaultdict(dict))\n",
      "\n",
      "for anno in es_annotations:\n",
      "    # if annotations are different\n",
      "    anno1 = es_annotations[anno]['annotator1'][0]\n",
      "    anno2 = es_annotations[anno]['annotator2'][0]\n",
      "    if anno1 != anno2:\n",
      "        if anno1 in diverging_annotations[anno2]:\n",
      "            diverging_annotations[anno2][anno1] += 1\n",
      "        else:\n",
      "            diverging_annotations[anno2][anno1] = 1\n",
      "            \n",
      "for anno2 in diverging_annotations:\n",
      "    print anno2, diverging_annotations[anno2]"
     ],
     "language": "python",
     "metadata": {},
     "outputs": [
      {
       "output_type": "stream",
       "stream": "stdout",
       "text": [
        "pleonastic defaultdict(<type 'dict'>, {'abstract': 46, 'nominal': 4})\n",
        "abstract defaultdict(<type 'dict'>, {'pleonastic': 7, 'nominal': 5})\n",
        "nominal defaultdict(<type 'dict'>, {'abstract': 3})\n"
       ]
      }
     ],
     "prompt_number": 53
    },
    {
     "cell_type": "markdown",
     "metadata": {},
     "source": [
      "## Comparison of 'das' annotations"
     ]
    },
    {
     "cell_type": "code",
     "collapsed": false,
     "input": [
      "das_annotations = anaphoricity_agreement(TOSIK_DIR, DITTRICH_DIR, 'das')"
     ],
     "language": "python",
     "metadata": {},
     "outputs": [
      {
       "output_type": "stream",
       "stream": "stdout",
       "text": [
        "'DAS' ANNOTATION\n",
        "================\n",
        "\n",
        "annotated tokens:  374\n",
        "identically annotatated tokens:  343\n",
        "agreement:  91.7112299465\n"
       ]
      }
     ],
     "prompt_number": 54
    },
    {
     "cell_type": "code",
     "collapsed": false,
     "input": [
      "diverging_annotations = defaultdict(lambda: defaultdict(dict))\n",
      "\n",
      "for anno in das_annotations:\n",
      "    # if annotations are different\n",
      "    anno1 = das_annotations[anno]['annotator1'][0]\n",
      "    anno2 = das_annotations[anno]['annotator2'][0]\n",
      "    if anno1 != anno2:\n",
      "        if anno2 in diverging_annotations[anno1]:\n",
      "            diverging_annotations[anno1][anno2] += 1\n",
      "        else:\n",
      "            diverging_annotations[anno1][anno2] = 1\n",
      "\n",
      "for anno1 in diverging_annotations:\n",
      "    print anno1, '-->', diverging_annotations[anno1]"
     ],
     "language": "python",
     "metadata": {},
     "outputs": [
      {
       "output_type": "stream",
       "stream": "stdout",
       "text": [
        "relative --> defaultdict(<type 'dict'>, {'pleonastic': 11, 'nominal': 6})\n",
        "abstract --> defaultdict(<type 'dict'>, {'pleonastic': 7, 'nominal': 6})\n",
        "nominal --> defaultdict(<type 'dict'>, {'pleonastic': 1})\n"
       ]
      }
     ],
     "prompt_number": 55
    },
    {
     "cell_type": "code",
     "collapsed": false,
     "input": [
      "diverging_annotations = defaultdict(lambda: defaultdict(dict))\n",
      "\n",
      "for anno in das_annotations:\n",
      "    # if annotations are different\n",
      "    anno1 = das_annotations[anno]['annotator1'][0]\n",
      "    anno2 = das_annotations[anno]['annotator2'][0]\n",
      "    if anno1 != anno2:\n",
      "        if anno1 in diverging_annotations[anno2]:\n",
      "            diverging_annotations[anno2][anno1] += 1\n",
      "        else:\n",
      "            diverging_annotations[anno2][anno1] = 1\n",
      "\n",
      "for anno2 in diverging_annotations:\n",
      "    print anno2, '-->', diverging_annotations[anno2]"
     ],
     "language": "python",
     "metadata": {},
     "outputs": [
      {
       "output_type": "stream",
       "stream": "stdout",
       "text": [
        "pleonastic --> defaultdict(<type 'dict'>, {'relative': 11, 'abstract': 7, 'nominal': 1})\n",
        "nominal --> defaultdict(<type 'dict'>, {'relative': 6, 'abstract': 6})\n"
       ]
      }
     ],
     "prompt_number": 56
    }
   ],
   "metadata": {}
  }
 ]
}