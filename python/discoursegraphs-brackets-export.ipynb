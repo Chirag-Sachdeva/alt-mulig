{
 "metadata": {
  "name": "",
  "signature": "sha256:e622e24c72283f0b3ef9b21c04b4a84b4a0e98e7265165344b0469da8c89130d"
 },
 "nbformat": 3,
 "nbformat_minor": 0,
 "worksheets": [
  {
   "cells": [
    {
     "cell_type": "code",
     "collapsed": false,
     "input": [
      "import os\n",
      "import discoursegraphs as dg\n",
      "\n",
      "MMAX_TESTFILE = os.path.expanduser('~/corpora/potsdam-commentary-corpus-2.0.0/coreference/maz-1423.mmax')\n",
      "mdg = dg.read_mmax2(MMAX_TESTFILE)"
     ],
     "language": "python",
     "metadata": {},
     "outputs": [],
     "prompt_number": 1
    },
    {
     "cell_type": "code",
     "collapsed": false,
     "input": [
      "import itertools\n",
      "from collections import defaultdict\n",
      "from discoursegraphs.readwrite.mmax2 import spanstring2tokens\n"
     ],
     "language": "python",
     "metadata": {},
     "outputs": [],
     "prompt_number": 2
    },
    {
     "cell_type": "code",
     "collapsed": false,
     "input": [
      "def gen_bracket_mappings(docgraph):\n",
      "    pointing_chains = dg.get_pointing_chains(docgraph, layer=None)\n",
      "    markables = sorted(itertools.chain(*pointing_chains),\n",
      "                       key=dg.util.natural_sort_key)\n",
      "\n",
      "    markable2chain = {}\n",
      "    for chain in pointing_chains:\n",
      "        chain_id = chain[0] # first markable in a chain\n",
      "        for markable in chain:\n",
      "            markable2chain[markable] = chain_id\n",
      "\n",
      "    token2markable = defaultdict(list)\n",
      "    opening = defaultdict(list)\n",
      "    closing = defaultdict(list)\n",
      "    for markable in markables:\n",
      "        span_tokens = spanstring2tokens(docgraph, docgraph.node[markable][docgraph.ns+':span'])\n",
      "        opening[span_tokens[0]].append(markable)\n",
      "        closing[span_tokens[-1]].append(markable)\n",
      "        for tok_id in span_tokens:\n",
      "            token2markable[tok_id].append(markable)\n",
      "    return opening, closing, markable2chain, token2markable"
     ],
     "language": "python",
     "metadata": {},
     "outputs": [],
     "prompt_number": 3
    },
    {
     "cell_type": "heading",
     "level": 2,
     "metadata": {},
     "source": [
      "TODO: determine order of opening bracket for proper stack handling!"
     ]
    },
    {
     "cell_type": "code",
     "collapsed": false,
     "input": [
      "def gen_closing_string(closing_dict, markable2chain, token_id, stack):\n",
      "    num_of_closing_brackets = len(closing_dict[token_id])\n",
      "    closing_markable_ids = [stack.pop() for i in range(num_of_closing_brackets)]\n",
      "    return u''.join(u']_{}'.format(markable2chain[closing_id]) for closing_id in closing_markable_ids)\n",
      "\n",
      "def gen_bracketed_output(docgraph):\n",
      "    opening, closing, markable2chain, token2markable = gen_bracket_mappings(docgraph)\n",
      "    \n",
      "    ret_str = u''\n",
      "    stack = []\n",
      "    for token_id in docgraph.tokens:\n",
      "        token_str = docgraph.get_token(token_id)\n",
      "        if token_id in opening:\n",
      "            num_of_opening_brackets = len(opening[token_id])\n",
      "            stack.extend(opening[token_id])\n",
      "            opening_str = u'[' * num_of_opening_brackets\n",
      "\n",
      "            if token_id in closing:\n",
      "                # token is both the first and last element of 1+ markables\n",
      "                closing_str = gen_closing_string(closing, markable2chain, token_id, stack)\n",
      "                ret_str += u'{0}{1}{2} '.format(opening_str, token_str, closing_str)\n",
      "            else: # token is the first element of 1+ markables\n",
      "                ret_str += u'{0}{1} '.format(opening_str, token_str)\n",
      "        elif token_id in closing:\n",
      "            closing_str = gen_closing_string(closing, markable2chain, token_id, stack)\n",
      "            ret_str += u'{0}{1} '.format(token_str, closing_str)\n",
      "        else:\n",
      "            ret_str += u'{} '.format(token_str)\n",
      "    return ret_str"
     ],
     "language": "python",
     "metadata": {},
     "outputs": [],
     "prompt_number": 10
    },
    {
     "cell_type": "code",
     "collapsed": false,
     "input": [
      "print gen_bracketed_output(mdg)"
     ],
     "language": "python",
     "metadata": {},
     "outputs": [
      {
       "output_type": "stream",
       "stream": "stdout",
       "text": [
        "Zum Angew\u00f6hnen Die Diskussion , wie teuer [die neue [Wittstocker]_markable_22 Stadthalle]_markable_21 f\u00fcr Vereine und Veranstalter wird , hat einige Zeit in Anspruch genommen . Bei der j\u00fcngsten Sitzung haben die Stadtverordneten entschieden . Vor allem kommerzielle Veranstalter werden ab 2002 gut zur Kasse gebeten . Die Einnahmen sind dennoch nur ein Tropfen auf den hei\u00dfen Stein . Die Betriebskosten [f\u00fcr den schmucken Veranstaltungsort]_markable_21 sind hoch . Jetzt wird es darum gehen , [die Halle]_markable_21 so oft wie m\u00f6glich zu f\u00fcllen . Je mehr Veranstaltungen stattfinden , desto weniger wird der Stadthaushalt belastet . [Die Halle]_markable_21 muss ausgelastet sein . Und [in der Region]_markable_22 gibt es Konkurrenz . Auch die Nachbarst\u00e4dte bieten Veranstaltern gen\u00fcgend Platz . [Wittstock]_markable_22 dagegen muss sich erst einen Namen machen . Das Oktoberfest hat gezeigt , dass es eine Anlaufzeit braucht . Die G\u00e4ste aus nah und fern m\u00fcssen sich erst daran gew\u00f6hnen , nach [Wittstock]_markable_22 und Richtung Gymnasium zu pilgern . Fest steht , dass [die Dosse-Stadt]_markable_22 als Mittelzentrum ohne einen ansehnlichen Veranstaltungsort mit ausreichend Platz f\u00fcrs Publikum nicht auskommt . Ohne [die Halle]_markable_21 w\u00fcrde [Wittstock]_markable_22 bald ins Hintertreffen geraten . \n"
       ]
      }
     ],
     "prompt_number": 11
    },
    {
     "cell_type": "code",
     "collapsed": false,
     "input": [
      "opening, closing, markable2chain, token2markable = gen_bracket_mappings(mdg)"
     ],
     "language": "python",
     "metadata": {},
     "outputs": [],
     "prompt_number": 8
    },
    {
     "cell_type": "code",
     "collapsed": false,
     "input": [
      "markable2chain"
     ],
     "language": "python",
     "metadata": {},
     "outputs": [
      {
       "metadata": {},
       "output_type": "pyout",
       "prompt_number": 9,
       "text": [
        "{'markable_10': 'markable_21',\n",
        " 'markable_11': 'markable_22',\n",
        " 'markable_12': 'markable_22',\n",
        " 'markable_14': 'markable_22',\n",
        " 'markable_17': 'markable_22',\n",
        " 'markable_19': 'markable_22',\n",
        " 'markable_2': 'markable_21',\n",
        " 'markable_21': 'markable_21',\n",
        " 'markable_22': 'markable_22',\n",
        " 'markable_7': 'markable_21',\n",
        " 'markable_8': 'markable_21'}"
       ]
      }
     ],
     "prompt_number": 9
    },
    {
     "cell_type": "code",
     "collapsed": false,
     "input": [],
     "language": "python",
     "metadata": {},
     "outputs": []
    }
   ],
   "metadata": {}
  }
 ]
}