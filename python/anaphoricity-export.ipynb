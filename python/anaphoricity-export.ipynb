{
 "metadata": {
  "name": "",
  "signature": "sha256:ec8f085daadc4eb0eae8cc88f7177d4f863b6b4e20a3ad170efd117ac1545447"
 },
 "nbformat": 3,
 "nbformat_minor": 0,
 "worksheets": [
  {
   "cells": [
    {
     "cell_type": "code",
     "collapsed": false,
     "input": [
      "import os\n",
      "import glob\n",
      "import discoursegraphs as dg"
     ],
     "language": "python",
     "metadata": {},
     "outputs": [],
     "prompt_number": 21
    },
    {
     "cell_type": "code",
     "collapsed": false,
     "input": [
      "ANAPHORICITY_DIR = os.path.expanduser('/home/arne/repos/pcc-annis-merged/maz176/anaphora/kobold/')"
     ],
     "language": "python",
     "metadata": {},
     "outputs": [],
     "prompt_number": 22
    },
    {
     "cell_type": "code",
     "collapsed": false,
     "input": [
      "anaphoricity_files = glob.glob(os.path.join(ANAPHORICITY_DIR, '*.txt'))"
     ],
     "language": "python",
     "metadata": {},
     "outputs": [],
     "prompt_number": 23
    },
    {
     "cell_type": "code",
     "collapsed": false,
     "input": [
      "anaphoricity_files[0]"
     ],
     "language": "python",
     "metadata": {},
     "outputs": [
      {
       "metadata": {},
       "output_type": "pyout",
       "prompt_number": 24,
       "text": [
        "'/home/arne/repos/pcc-annis-merged/maz176/anaphora/kobold/maz-12576.txt'"
       ]
      }
     ],
     "prompt_number": 24
    },
    {
     "cell_type": "code",
     "collapsed": false,
     "input": [
      "adg = dg.read_anaphoricity(anaphoricity_files[0])"
     ],
     "language": "python",
     "metadata": {},
     "outputs": [],
     "prompt_number": 25
    },
    {
     "cell_type": "code",
     "collapsed": false,
     "input": [
      "list(dg.select_nodes_by_layer(adg, adg.ns+':annotated'))"
     ],
     "language": "python",
     "metadata": {},
     "outputs": [
      {
       "metadata": {},
       "output_type": "pyout",
       "prompt_number": 26,
       "text": [
        "[30, 52, 107, 185]"
       ]
      }
     ],
     "prompt_number": 26
    },
    {
     "cell_type": "code",
     "collapsed": false,
     "input": [
      "adg.node[60]"
     ],
     "language": "python",
     "metadata": {},
     "outputs": [
      {
       "metadata": {},
       "output_type": "pyout",
       "prompt_number": 27,
       "text": [
        "{'anaphoricity:token': u'daf\\xfcr',\n",
        " 'label': u'daf\\xfcr',\n",
        " 'layers': {'anaphoricity', 'anaphoricity:token'}}"
       ]
      }
     ],
     "prompt_number": 27
    },
    {
     "cell_type": "code",
     "collapsed": false,
     "input": [],
     "language": "python",
     "metadata": {},
     "outputs": [],
     "prompt_number": 27
    },
    {
     "cell_type": "code",
     "collapsed": false,
     "input": [
      "# from discoursegraphs.readwrite.anaphoricity import ANNOTATIONS\n",
      "\n",
      "# def gen_anaphoricity_str(docgraph, anaphora='es'):\n",
      "#     assert anaphora in ('das', 'es')\n",
      "#     ret_str = u''\n",
      "# #     annotated_token_ids = list(dg.select_nodes_by_layer(docgraph, docgraph.ns+':annotated'))\n",
      "#     annotated_token_ids = [tok_id for tok_id in dg.select_nodes_by_layer(docgraph, docgraph.ns+':annotated')\n",
      "#                            if docgraph.get_token(tok_id).lower() == anaphora]\n",
      "#     for token_id in docgraph.tokens:\n",
      "#         if token_id in annotated_token_ids:\n",
      "#             certainty_str = '' if docgraph.ns+':certainty' == '1.0' else '?'\n",
      "#             ret_str += u'{}/{}{} '.format(\n",
      "#                 docgraph.get_token(token_id),\n",
      "#                 ANNOTATIONS[docgraph.node[token_id][docgraph.ns+':annotation']],\n",
      "#                 certainty_str)\n",
      "#         else:\n",
      "#             ret_str += u'{} '.format(docgraph.get_token(token_id))\n",
      "#     return ret_str"
     ],
     "language": "python",
     "metadata": {},
     "outputs": [],
     "prompt_number": 28
    },
    {
     "cell_type": "code",
     "collapsed": false,
     "input": [
      "# print gen_anaphoricity_str(adg)"
     ],
     "language": "python",
     "metadata": {},
     "outputs": [],
     "prompt_number": 29
    },
    {
     "cell_type": "code",
     "collapsed": false,
     "input": [
      "for anaphoricity_file in anaphoricity_files:\n",
      "    adg = dg.read_anaphoricity(anaphoricity_file)\n",
      "    fname = os.path.basename(anaphoricity_file)\n",
      "    dg.readwrite.anaphoricity.write_anaphoricity(adg,\n",
      "                                                 os.path.join(ANAPHORICITY_DIR, 'das', fname),\n",
      "                                                 anaphora='das')\n",
      "    dg.readwrite.anaphoricity.write_anaphoricity(adg,\n",
      "                                             os.path.join(ANAPHORICITY_DIR, 'es', fname),\n",
      "                                             anaphora='es') "
     ],
     "language": "python",
     "metadata": {},
     "outputs": [],
     "prompt_number": 31
    },
    {
     "cell_type": "code",
     "collapsed": false,
     "input": [],
     "language": "python",
     "metadata": {},
     "outputs": [],
     "prompt_number": 30
    }
   ],
   "metadata": {}
  }
 ]
}