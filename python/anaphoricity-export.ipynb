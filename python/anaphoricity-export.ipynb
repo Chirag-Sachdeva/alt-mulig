{
 "metadata": {
  "name": "",
  "signature": "sha256:16051037b79a607b734152a724bb2ccbd694e58dad16565dd9584586876fb0de"
 },
 "nbformat": 3,
 "nbformat_minor": 0,
 "worksheets": [
  {
   "cells": [
    {
     "cell_type": "code",
     "collapsed": false,
     "input": [
      "import os\n",
      "import glob\n",
      "import discoursegraphs as dg"
     ],
     "language": "python",
     "metadata": {},
     "outputs": [],
     "prompt_number": 1
    },
    {
     "cell_type": "code",
     "collapsed": false,
     "input": [
      "ANAPHORICITY_DIR = os.path.expanduser('/home/arne/repos/pcc-annis-merged/maz176/anaphora/kobold/')"
     ],
     "language": "python",
     "metadata": {},
     "outputs": [],
     "prompt_number": 15
    },
    {
     "cell_type": "code",
     "collapsed": false,
     "input": [
      "anaphoricity_files = glob.glob(os.path.join(ANAPHORICITY_DIR, '*.txt'))"
     ],
     "language": "python",
     "metadata": {},
     "outputs": [],
     "prompt_number": 16
    },
    {
     "cell_type": "code",
     "collapsed": false,
     "input": [
      "anaphoricity_files[0]"
     ],
     "language": "python",
     "metadata": {},
     "outputs": [
      {
       "metadata": {},
       "output_type": "pyout",
       "prompt_number": 17,
       "text": [
        "'/home/arne/repos/pcc-annis-merged/maz176/anaphora/kobold/maz-13153.txt'"
       ]
      }
     ],
     "prompt_number": 17
    },
    {
     "cell_type": "code",
     "collapsed": false,
     "input": [
      "adg = dg.read_anaphoricity(anaphoricity_files[0])"
     ],
     "language": "python",
     "metadata": {},
     "outputs": [],
     "prompt_number": 5
    },
    {
     "cell_type": "code",
     "collapsed": false,
     "input": [
      "list(dg.select_nodes_by_layer(adg, adg.ns+':annotated'))"
     ],
     "language": "python",
     "metadata": {},
     "outputs": [
      {
       "metadata": {},
       "output_type": "pyout",
       "prompt_number": 7,
       "text": [
        "[60, 101]"
       ]
      }
     ],
     "prompt_number": 7
    },
    {
     "cell_type": "code",
     "collapsed": false,
     "input": [
      "adg.node[60]"
     ],
     "language": "python",
     "metadata": {},
     "outputs": [
      {
       "metadata": {},
       "output_type": "pyout",
       "prompt_number": 8,
       "text": [
        "{'anaphoricity:annotation': 'abstract',\n",
        " 'anaphoricity:certainty': '1.0',\n",
        " 'anaphoricity:token': u'es',\n",
        " 'label': u'es_abstract',\n",
        " 'layers': {'anaphoricity', 'anaphoricity:annotated', 'anaphoricity:token'}}"
       ]
      }
     ],
     "prompt_number": 8
    },
    {
     "cell_type": "code",
     "collapsed": false,
     "input": [
      "annotated_token_ids = list(dg.select_nodes_by_layer(adg, adg.ns+':annotated'))"
     ],
     "language": "python",
     "metadata": {},
     "outputs": [],
     "prompt_number": 9
    },
    {
     "cell_type": "code",
     "collapsed": false,
     "input": [
      "from discoursegraphs.readwrite.anaphoricity import ANNOTATIONS"
     ],
     "language": "python",
     "metadata": {},
     "outputs": [],
     "prompt_number": 11
    },
    {
     "cell_type": "code",
     "collapsed": false,
     "input": [
      "for token_id in adg.tokens:\n",
      "    if token_id in annotated_token_ids:\n",
      "        certainty_str = '' if adg.ns+':certainty' == '1.0' else '?'\n",
      "        print \"{}/{}{}\".format(adg.get_token(token_id),\n",
      "                             ANNOTATIONS[adg.node[token_id][adg.ns+':annotation']],\n",
      "                             certainty_str),\n",
      "    else:\n",
      "        print adg.get_token(token_id),"
     ],
     "language": "python",
     "metadata": {},
     "outputs": [
      {
       "output_type": "stream",
       "stream": "stdout",
       "text": [
        "Nachahmenswert Integration ist ein wichtiges Anliegen . Ja , heutzutage ist es sogar wichtiger denn je , dass gesellschaftliche Gruppen nicht ausgegrenzt werden . Angesichts der seit Jahren obwaltenden rechtsradikalen Umtriebe sind insbesondere die Bem\u00fchungen um die Integration hier lebender Nicht-Deutscher und Aussiedler wichtig . Und wie k\u00f6nnte so etwas besser funktionieren als \u00fcber gemeinsame sportliche Aktivit\u00e4ten ? So ist es/a? aller Ehren wert , wenn der Verein Freizeitpark Wittenberge die Integrationsprogramme der Brandenburgischen Sportjugend seit Jahren intensiv unterst\u00fctzt . Und zwar so intensiv , dass deren Funktion\u00e4re bereits eine Vorliebe f\u00fcr die Prignitz entwickelt haben . Aber dar\u00fcber hinaus gibt es/p? in diesem Kreis ebenso ehrenamtliches Engagement im Dienste dieser guten Sache . Einer , der sie sich zu eigen gemacht hat , erhielt am Sonnabend eine Auszeichnung : Der Pritzwalker Harry St\u00fcwe , regelm\u00e4\u00dfigen Lesern unserer Lokal-Sportseiten bestens bekannt , wird in der Urkunde eine sch\u00f6ne Best\u00e4tigung f\u00fcr sein Engagement sehen . Und zum Weitermachen : Solche Aktivit\u00e4ten sind nicht nur nachahmenswert , sondern auch ein Aush\u00e4ngeschild f\u00fcr die Region . Sie bed\u00fcrfen unser aller Unterst\u00fctzung .\n"
       ]
      }
     ],
     "prompt_number": 14
    },
    {
     "cell_type": "code",
     "collapsed": false,
     "input": [],
     "language": "python",
     "metadata": {},
     "outputs": []
    }
   ],
   "metadata": {}
  }
 ]
}