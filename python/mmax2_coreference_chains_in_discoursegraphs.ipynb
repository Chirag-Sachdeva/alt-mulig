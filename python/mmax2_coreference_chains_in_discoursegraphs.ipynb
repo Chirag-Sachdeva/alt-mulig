{
 "metadata": {
  "name": "",
  "signature": "sha256:1d23d11fcf12645aa8a1a0a4d0be994d14d7fb5a3b14c7edd2a19b5d1349be3f"
 },
 "nbformat": 3,
 "nbformat_minor": 0,
 "worksheets": [
  {
   "cells": [
    {
     "cell_type": "markdown",
     "metadata": {},
     "source": [
      "# Playing with MMAX2 coreference data in DiscourseGraphs"
     ]
    },
    {
     "cell_type": "code",
     "collapsed": false,
     "input": [
      "from discoursegraphs.readwrite import MMAXDocumentGraph\n",
      "from discoursegraphs import get_pointing_chains\n",
      "\n",
      "MMAX_FILE = '/home/arne/repos/pcc-annis-merged/maz176/coreference/maz-1423.mmax'"
     ],
     "language": "python",
     "metadata": {},
     "outputs": [],
     "prompt_number": 1
    },
    {
     "cell_type": "code",
     "collapsed": false,
     "input": [
      "mdg = MMAXDocumentGraph(MMAX_FILE)"
     ],
     "language": "python",
     "metadata": {},
     "outputs": [],
     "prompt_number": 2
    },
    {
     "cell_type": "markdown",
     "metadata": {},
     "source": [
      "## Extracting coreference chains"
     ]
    },
    {
     "cell_type": "code",
     "collapsed": false,
     "input": [
      "get_pointing_chains(mdg)"
     ],
     "language": "python",
     "metadata": {},
     "outputs": [
      {
       "metadata": {},
       "output_type": "pyout",
       "prompt_number": 3,
       "text": [
        "[['markable_22',\n",
        "  'markable_19',\n",
        "  'markable_17',\n",
        "  'markable_14',\n",
        "  'markable_12',\n",
        "  'markable_11'],\n",
        " ['markable_21', 'markable_10', 'markable_8', 'markable_7', 'markable_2']]"
       ]
      }
     ],
     "prompt_number": 3
    },
    {
     "cell_type": "code",
     "collapsed": false,
     "input": [
      "for chain in get_pointing_chains(mdg):\n",
      "    for node_id in chain:\n",
      "        print node_id, mdg.node[node_id], '\\n'"
     ],
     "language": "python",
     "metadata": {},
     "outputs": [
      {
       "output_type": "stream",
       "stream": "stdout",
       "text": [
        "markable_22 {'mmax:dir_speech': 'text_level', 'mmax:np_form': 'ne', 'layers': set(['mmax', 'mmax:markable', 'mmax:primmark']), 'mmax:type': 'anaphoric', 'mmax:id': 'markable_22', 'mmax:anaphor_type': 'anaphor_nominal', 'mmax:grammatical_role': 'sbj', 'mmax:phrase_type': 'np', 'mmax:ambiguity': 'not_ambig', 'label': 'markable_22:primmark', 'mmax:span': 'word_180', 'mmax:anaphor_antecedent': 'markable_19', 'mmax:referentiality': 'referring', 'mmax:complex_np': 'no'} \n",
        "\n",
        "markable_19 {'mmax:dir_speech': 'text_level', 'mmax:np_form': 'ne', 'layers': set(['mmax', 'mmax:markable', 'mmax:primmark']), 'mmax:type': 'anaphoric', 'mmax:id': 'markable_19', 'mmax:anaphor_type': 'anaphor_nominal', 'mmax:grammatical_role': 'sbj', 'mmax:phrase_type': 'np', 'mmax:ambiguity': 'not_ambig', 'label': 'markable_19:primmark', 'mmax:span': 'word_160..word_161', 'mmax:anaphor_antecedent': 'markable_17', 'mmax:referentiality': 'referring', 'mmax:complex_np': 'no'} \n",
        "\n",
        "markable_17 {'mmax:dir_speech': 'text_level', 'mmax:np_form': 'ne', 'layers': set(['mmax', 'mmax:markable', 'mmax:primmark']), 'mmax:type': 'anaphoric', 'mmax:id': 'markable_17', 'mmax:anaphor_type': 'anaphor_nominal', 'mmax:grammatical_role': 'indir-obj', 'mmax:phrase_type': 'np', 'mmax:ambiguity': 'not_ambig', 'label': 'markable_17:primmark', 'mmax:span': 'word_149', 'mmax:anaphor_antecedent': 'markable_14', 'mmax:referentiality': 'referring', 'mmax:complex_np': 'no'} \n",
        "\n",
        "markable_14 {'layers': set(['mmax', 'mmax:primmark', 'mmax:markable']), 'mmax:dir_speech': 'text_level', 'mmax:type': 'anaphoric', 'mmax:id': 'markable_14', 'mmax:anaphor_type': 'anaphor_nominal', 'mmax:grammatical_role': 'sbj', 'mmax:ambiguity': 'not_ambig', 'label': 'markable_14:primmark', 'mmax:span': 'word_116', 'mmax:anaphor_antecedent': 'markable_12', 'mmax:phrase_type': 'np', 'mmax:np_form': 'ne', 'mmax:referentiality': 'referring', 'mmax:complex_np': 'no'} \n",
        "\n",
        "markable_12 {'mmax:dir_speech': 'text_level', 'mmax:np_form': 'defnp', 'layers': set(['mmax', 'mmax:markable', 'mmax:primmark']), 'mmax:type': 'anaphoric', 'mmax:id': 'markable_12', 'mmax:anaphor_type': 'anaphor_nominal', 'mmax:grammatical_role': 'other', 'mmax:phrase_type': 'pp', 'mmax:ambiguity': 'not_ambig', 'label': 'markable_12:primmark', 'mmax:span': 'word_101..word_103', 'mmax:anaphor_antecedent': 'markable_11', 'mmax:referentiality': 'referring', 'mmax:complex_np': 'no'} \n",
        "\n",
        "markable_11 {'layers': set(['mmax', 'mmax:primmark', 'mmax:markable']), 'mmax:dir_speech': 'text_level', 'mmax:type': 'none', 'mmax:id': 'markable_11', 'mmax:grammatical_role': 'other', 'mmax:ambiguity': 'not_ambig', 'label': 'markable_11:primmark', 'mmax:span': 'word_10', 'mmax:anaphor_antecedent': 'empty', 'mmax:phrase_type': 'np', 'mmax:np_form': 'ne', 'mmax:referentiality': 'discourse-new', 'mmax:complex_np': 'no'} \n",
        "\n",
        "markable_21 {'mmax:dir_speech': 'text_level', 'mmax:np_form': 'defnp', 'layers': set(['mmax', 'mmax:markable', 'mmax:primmark']), 'mmax:type': 'anaphoric', 'mmax:id': 'markable_21', 'mmax:anaphor_type': 'anaphor_nominal', 'mmax:grammatical_role': 'dir-obj', 'mmax:phrase_type': 'np', 'mmax:ambiguity': 'not_ambig', 'label': 'markable_21:primmark', 'mmax:span': 'word_177..word_178', 'mmax:anaphor_antecedent': 'markable_10', 'mmax:referentiality': 'referring', 'mmax:complex_np': 'no'} \n",
        "\n",
        "markable_10 {'layers': set(['mmax', 'mmax:primmark', 'mmax:markable']), 'mmax:dir_speech': 'text_level', 'mmax:type': 'anaphoric', 'mmax:id': 'markable_10', 'mmax:anaphor_type': 'anaphor_nominal', 'mmax:grammatical_role': 'sbj', 'mmax:ambiguity': 'not_ambig', 'label': 'markable_10:primmark', 'mmax:span': 'word_94..word_95', 'mmax:anaphor_antecedent': 'markable_8', 'mmax:phrase_type': 'np', 'mmax:np_form': 'defnp', 'mmax:referentiality': 'referring', 'mmax:complex_np': 'no'} \n",
        "\n",
        "markable_8 {'mmax:dir_speech': 'text_level', 'mmax:np_form': 'defnp', 'layers': set(['mmax', 'mmax:markable', 'mmax:primmark']), 'mmax:type': 'anaphoric', 'mmax:id': 'markable_8', 'mmax:anaphor_type': 'anaphor_nominal', 'mmax:grammatical_role': 'dir-obj', 'mmax:phrase_type': 'np', 'mmax:ambiguity': 'not_ambig', 'label': 'markable_8:primmark', 'mmax:span': 'word_73..word_74', 'mmax:anaphor_antecedent': 'markable_7', 'mmax:referentiality': 'referring', 'mmax:complex_np': 'no'} \n",
        "\n",
        "markable_7 {'layers': set(['mmax', 'mmax:primmark', 'mmax:markable']), 'mmax:dir_speech': 'text_level', 'mmax:type': 'anaphoric', 'mmax:id': 'markable_7', 'mmax:anaphor_type': 'anaphor_nominal', 'mmax:grammatical_role': 'other', 'mmax:ambiguity': 'not_ambig', 'label': 'markable_7:primmark', 'mmax:span': 'word_60..word_63', 'mmax:anaphor_antecedent': 'markable_2', 'mmax:phrase_type': 'pp', 'mmax:np_form': 'defnp', 'mmax:referentiality': 'referring', 'mmax:complex_np': 'no'} \n",
        "\n",
        "markable_2 {'layers': set(['mmax', 'mmax:primmark', 'mmax:markable']), 'mmax:dir_speech': 'text_level', 'mmax:type': 'none', 'mmax:id': 'markable_2', 'mmax:grammatical_role': 'sbj', 'mmax:ambiguity': 'not_ambig', 'label': 'markable_2:primmark', 'mmax:span': 'word_8..word_11', 'mmax:anaphor_antecedent': 'empty', 'mmax:phrase_type': 'np', 'mmax:np_form': 'defnp', 'mmax:referentiality': 'discourse-new', 'mmax:complex_np': 'no'} \n",
        "\n"
       ]
      }
     ],
     "prompt_number": 4
    },
    {
     "cell_type": "code",
     "collapsed": false,
     "input": [
      "from discoursegraphs.readwrite.mmax2 import spanstring2text\n",
      "\n",
      "for chain in get_pointing_chains(mdg):\n",
      "    for node_id in chain:\n",
      "        print node_id, spanstring2text(mdg, mdg.node[node_id]['mmax:span'])\n",
      "    print '\\n'"
     ],
     "language": "python",
     "metadata": {},
     "outputs": [
      {
       "output_type": "stream",
       "stream": "stdout",
       "text": [
        "markable_22 Wittstock\n",
        "markable_19 die Dosse-Stadt\n",
        "markable_17 Wittstock\n",
        "markable_14 Wittstock\n",
        "markable_12 in der Region\n",
        "markable_11 Wittstocker\n",
        "\n",
        "\n",
        "markable_21 die Halle\n",
        "markable_10 Die Halle\n",
        "markable_8 die Halle\n",
        "markable_7 f\u00fcr den schmucken Veranstaltungsort\n",
        "markable_2 die neue Wittstocker Stadthalle\n",
        "\n",
        "\n"
       ]
      }
     ],
     "prompt_number": 5
    },
    {
     "cell_type": "code",
     "collapsed": false,
     "input": [
      "for chain in get_pointing_chains(mdg):\n",
      "    for node_id in chain:\n",
      "            print mdg.in_edges(node_id, data=True)\n",
      "            print mdg.out_edges(node_id, data=True)"
     ],
     "language": "python",
     "metadata": {},
     "outputs": [
      {
       "output_type": "stream",
       "stream": "stdout",
       "text": [
        "[]\n",
        "[('markable_22', 'markable_19', {'layers': set(['mmax', 'mmax:markable', 'mmax:primmark']), 'edge_type': 'points_to', 'label': 'mmax:antecedent'}), ('markable_22', 'word_180', {'layers': set(['mmax', 'mmax:markable', 'mmax:primmark']), 'edge_type': 'spans', 'label': 'mmax:primmark'})]\n",
        "[('markable_22', 'markable_19', {'layers': set(['mmax', 'mmax:markable', 'mmax:primmark']), 'edge_type': 'points_to', 'label': 'mmax:antecedent'})]\n",
        "[('markable_19', 'markable_17', {'layers': set(['mmax', 'mmax:markable', 'mmax:primmark']), 'edge_type': 'points_to', 'label': 'mmax:antecedent'}), ('markable_19', 'word_160', {'layers': set(['mmax', 'mmax:markable', 'mmax:primmark']), 'edge_type': 'spans', 'label': 'mmax:primmark'}), ('markable_19', 'word_161', {'layers': set(['mmax', 'mmax:markable', 'mmax:primmark']), 'edge_type': 'spans', 'label': 'mmax:primmark'})]\n",
        "[('markable_19', 'markable_17', {'layers': set(['mmax', 'mmax:markable', 'mmax:primmark']), 'edge_type': 'points_to', 'label': 'mmax:antecedent'})]\n",
        "[('markable_17', 'word_149', {'layers': set(['mmax', 'mmax:markable', 'mmax:primmark']), 'edge_type': 'spans', 'label': 'mmax:primmark'}), ('markable_17', 'markable_14', {'layers': set(['mmax', 'mmax:markable', 'mmax:primmark']), 'edge_type': 'points_to', 'label': 'mmax:antecedent'})]\n",
        "[('markable_17', 'markable_14', {'layers': set(['mmax', 'mmax:markable', 'mmax:primmark']), 'edge_type': 'points_to', 'label': 'mmax:antecedent'})]\n",
        "[('markable_14', 'markable_12', {'layers': set(['mmax', 'mmax:markable', 'mmax:primmark']), 'edge_type': 'points_to', 'label': 'mmax:antecedent'}), ('markable_14', 'word_116', {'layers': set(['mmax', 'mmax:markable', 'mmax:primmark']), 'edge_type': 'spans', 'label': 'mmax:primmark'})]\n",
        "[('markable_14', 'markable_12', {'layers': set(['mmax', 'mmax:markable', 'mmax:primmark']), 'edge_type': 'points_to', 'label': 'mmax:antecedent'})]\n",
        "[('markable_12', 'markable_11', {'layers': set(['mmax', 'mmax:markable', 'mmax:primmark']), 'edge_type': 'points_to', 'label': 'mmax:antecedent'}), ('markable_12', 'word_101', {'layers': set(['mmax', 'mmax:markable', 'mmax:primmark']), 'edge_type': 'spans', 'label': 'mmax:primmark'}), ('markable_12', 'word_102', {'layers': set(['mmax', 'mmax:markable', 'mmax:primmark']), 'edge_type': 'spans', 'label': 'mmax:primmark'}), ('markable_12', 'word_103', {'layers': set(['mmax', 'mmax:markable', 'mmax:primmark']), 'edge_type': 'spans', 'label': 'mmax:primmark'})]\n",
        "[('markable_12', 'markable_11', {'layers': set(['mmax', 'mmax:markable', 'mmax:primmark']), 'edge_type': 'points_to', 'label': 'mmax:antecedent'})]\n",
        "[('markable_11', 'word_10', {'layers': set(['mmax', 'mmax:markable', 'mmax:primmark']), 'edge_type': 'spans', 'label': 'mmax:primmark'})]\n",
        "[]\n",
        "[('markable_21', 'word_178', {'layers': set(['mmax', 'mmax:markable', 'mmax:primmark']), 'edge_type': 'spans', 'label': 'mmax:primmark'}), ('markable_21', 'markable_10', {'layers': set(['mmax', 'mmax:markable', 'mmax:primmark']), 'edge_type': 'points_to', 'label': 'mmax:antecedent'}), ('markable_21', 'word_177', {'layers': set(['mmax', 'mmax:markable', 'mmax:primmark']), 'edge_type': 'spans', 'label': 'mmax:primmark'})]\n",
        "[('markable_21', 'markable_10', {'layers': set(['mmax', 'mmax:markable', 'mmax:primmark']), 'edge_type': 'points_to', 'label': 'mmax:antecedent'})]\n",
        "[('markable_10', 'markable_8', {'layers': set(['mmax', 'mmax:markable', 'mmax:primmark']), 'edge_type': 'points_to', 'label': 'mmax:antecedent'}), ('markable_10', 'word_95', {'layers': set(['mmax', 'mmax:markable', 'mmax:primmark']), 'edge_type': 'spans', 'label': 'mmax:primmark'}), ('markable_10', 'word_94', {'layers': set(['mmax', 'mmax:markable', 'mmax:primmark']), 'edge_type': 'spans', 'label': 'mmax:primmark'})]\n",
        "[('markable_10', 'markable_8', {'layers': set(['mmax', 'mmax:markable', 'mmax:primmark']), 'edge_type': 'points_to', 'label': 'mmax:antecedent'})]\n",
        "[('markable_8', 'word_73', {'layers': set(['mmax', 'mmax:markable', 'mmax:primmark']), 'edge_type': 'spans', 'label': 'mmax:primmark'}), ('markable_8', 'word_74', {'layers': set(['mmax', 'mmax:markable', 'mmax:primmark']), 'edge_type': 'spans', 'label': 'mmax:primmark'}), ('markable_8', 'markable_7', {'layers': set(['mmax', 'mmax:markable', 'mmax:primmark']), 'edge_type': 'points_to', 'label': 'mmax:antecedent'})]\n",
        "[('markable_8', 'markable_7', {'layers': set(['mmax', 'mmax:markable', 'mmax:primmark']), 'edge_type': 'points_to', 'label': 'mmax:antecedent'})]\n",
        "[('markable_7', 'markable_2', {'layers': set(['mmax', 'mmax:markable', 'mmax:primmark']), 'edge_type': 'points_to', 'label': 'mmax:antecedent'}), ('markable_7', 'word_62', {'layers': set(['mmax', 'mmax:markable', 'mmax:primmark']), 'edge_type': 'spans', 'label': 'mmax:primmark'}), ('markable_7', 'word_63', {'layers': set(['mmax', 'mmax:markable', 'mmax:primmark']), 'edge_type': 'spans', 'label': 'mmax:primmark'}), ('markable_7', 'word_60', {'layers': set(['mmax', 'mmax:markable', 'mmax:primmark']), 'edge_type': 'spans', 'label': 'mmax:primmark'}), ('markable_7', 'word_61', {'layers': set(['mmax', 'mmax:markable', 'mmax:primmark']), 'edge_type': 'spans', 'label': 'mmax:primmark'})]\n",
        "[('markable_7', 'markable_2', {'layers': set(['mmax', 'mmax:markable', 'mmax:primmark']), 'edge_type': 'points_to', 'label': 'mmax:antecedent'})]\n",
        "[('markable_2', 'word_10', {'layers': set(['mmax', 'mmax:markable', 'mmax:primmark']), 'edge_type': 'spans', 'label': 'mmax:primmark'}), ('markable_2', 'word_9', {'layers': set(['mmax', 'mmax:markable', 'mmax:primmark']), 'edge_type': 'spans', 'label': 'mmax:primmark'}), ('markable_2', 'word_8', {'layers': set(['mmax', 'mmax:markable', 'mmax:primmark']), 'edge_type': 'spans', 'label': 'mmax:primmark'}), ('markable_2', 'word_11', {'layers': set(['mmax', 'mmax:markable', 'mmax:primmark']), 'edge_type': 'spans', 'label': 'mmax:primmark'})]\n"
       ]
      }
     ],
     "prompt_number": 6
    },
    {
     "cell_type": "markdown",
     "metadata": {},
     "source": [
      "## Handling sentence annotatations"
     ]
    },
    {
     "cell_type": "code",
     "collapsed": false,
     "input": [
      "mdg_with_sents = MMAXDocumentGraph(MMAX_FILE, ignore_sentence_annotations=False)"
     ],
     "language": "python",
     "metadata": {},
     "outputs": [],
     "prompt_number": 14
    },
    {
     "cell_type": "code",
     "collapsed": false,
     "input": [
      "# only nodes that represent a sentence are part of the 'mmax:sentence' layer\n",
      "\n",
      "for node_id, node_attr in mdg_with_sents.nodes(data=True):\n",
      "    if 'mmax:sentence' in node_attr['layers']:\n",
      "        print node_id, node_attr"
     ],
     "language": "python",
     "metadata": {},
     "outputs": [
      {
       "output_type": "stream",
       "stream": "stdout",
       "text": [
        "markable_50012 {'mmax:span': 'word_125..word_135', 'mmax:id': 'markable_50012', 'label': 'markable_50012:sentence', 'layers': set(['mmax', 'mmax:markable', 'mmax:sentence'])}\n",
        "markable_50013 {'mmax:span': 'word_136..word_155', 'mmax:id': 'markable_50013', 'label': 'markable_50013:sentence', 'layers': set(['mmax', 'mmax:markable', 'mmax:sentence'])}\n",
        "markable_50010 {'mmax:span': 'word_108..word_115', 'mmax:id': 'markable_50010', 'label': 'markable_50010:sentence', 'layers': set(['mmax', 'mmax:markable', 'mmax:sentence'])}\n",
        "markable_50011 {'mmax:span': 'word_116..word_124', 'mmax:id': 'markable_50011', 'label': 'markable_50011:sentence', 'layers': set(['mmax', 'mmax:markable', 'mmax:sentence'])}\n",
        "markable_5008 {'mmax:span': 'word_94..word_99', 'mmax:id': 'markable_5008', 'label': 'markable_5008:sentence', 'layers': set(['mmax', 'mmax:markable', 'mmax:sentence'])}\n",
        "markable_5009 {'mmax:span': 'word_100..word_107', 'mmax:id': 'markable_5009', 'label': 'markable_5009:sentence', 'layers': set(['mmax', 'mmax:markable', 'mmax:sentence'])}\n",
        "markable_50015 {'mmax:span': 'word_176..word_185', 'mmax:id': 'markable_50015', 'label': 'markable_50015:sentence', 'layers': set(['mmax', 'mmax:markable', 'mmax:sentence'])}\n",
        "markable_5005 {'mmax:span': 'word_58..word_66', 'mmax:id': 'markable_5005', 'label': 'markable_5005:sentence', 'layers': set(['mmax', 'mmax:markable', 'mmax:sentence'])}\n",
        "markable_50014 {'mmax:span': 'word_156..word_175', 'mmax:id': 'markable_50014', 'label': 'markable_50014:sentence', 'layers': set(['mmax', 'mmax:markable', 'mmax:sentence'])}\n",
        "markable_5000 {'mmax:span': 'word_1..word_2', 'mmax:id': 'markable_5000', 'label': 'markable_5000:sentence', 'layers': set(['mmax', 'mmax:markable', 'mmax:sentence'])}\n",
        "markable_5001 {'mmax:span': 'word_3..word_24', 'mmax:id': 'markable_5001', 'label': 'markable_5001:sentence', 'layers': set(['mmax', 'mmax:markable', 'mmax:sentence'])}\n",
        "markable_5002 {'mmax:span': 'word_25..word_33', 'mmax:id': 'markable_5002', 'label': 'markable_5002:sentence', 'layers': set(['mmax', 'mmax:markable', 'mmax:sentence'])}\n",
        "markable_5003 {'mmax:span': 'word_34..word_45', 'mmax:id': 'markable_5003', 'label': 'markable_5003:sentence', 'layers': set(['mmax', 'mmax:markable', 'mmax:sentence'])}\n",
        "markable_5006 {'mmax:span': 'word_67..word_81', 'mmax:id': 'markable_5006', 'label': 'markable_5006:sentence', 'layers': set(['mmax', 'mmax:markable', 'mmax:sentence'])}\n",
        "markable_5007 {'mmax:span': 'word_82..word_93', 'mmax:id': 'markable_5007', 'label': 'markable_5007:sentence', 'layers': set(['mmax', 'mmax:markable', 'mmax:sentence'])}\n",
        "markable_5004 {'mmax:span': 'word_46..word_57', 'mmax:id': 'markable_5004', 'label': 'markable_5004:sentence', 'layers': set(['mmax', 'mmax:markable', 'mmax:sentence'])}\n"
       ]
      }
     ],
     "prompt_number": 17
    }
   ],
   "metadata": {}
  }
 ]
}