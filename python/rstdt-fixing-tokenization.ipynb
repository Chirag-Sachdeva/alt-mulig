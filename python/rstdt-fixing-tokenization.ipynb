{
 "cells": [
  {
   "cell_type": "markdown",
   "metadata": {},
   "source": [
    "# Problem: RST-DT files aren't tokenized, their corresponding PTB files are\n",
    "\n",
    "* off-the-shelf tokenizers don't reproduce PTB tokenization exactly\n",
    "* let's try the preprocessing provided by the [Educational Testing Service](https://github.com/EducationalTestingService)'s (ETS) [RST discourse parser](https://github.com/EducationalTestingService/discourse-parsing)\n",
    "\n",
    "## ETS discourse-parser\n",
    "\n",
    "* offers a script `convert_rst_discourse_tb`, in `discourseparsing.convert_rst_discourse_tb:main`,  \n",
    "  which fixes the preprocesses the RST-DT files, so that nltk's tokenizer produces  \n",
    "  the same tokenization that PTB uses\n",
    "* NOTE: their code uses Python 3"
   ]
  },
  {
   "cell_type": "markdown",
   "metadata": {},
   "source": [
    "Their code includes:\n",
    "\n",
    "* some magic preprocessing\n",
    "\n",
    "```python\n",
    "with open(path_dis) as f:\n",
    "    rst_tree_str = f.read().strip()\n",
    "    rst_tree_str = fix_rst_treebank_tree_str(rst_tree_str)\n",
    "    rst_tree_str = convert_parens_in_rst_tree_str(rst_tree_str)\n",
    "    rst_tree = ParentedTree.fromstring(rst_tree_str)\n",
    "    reformat_rst_tree(rst_tree)\n",
    "```\n",
    "\n",
    "* some file mappings\n",
    "\n",
    "```python\n",
    "# file mapping from the RSTDTB documentation\n",
    "file_mapping = {'file1.edus': 'wsj_0764.out.edus',\n",
    "                'file2.edus': 'wsj_0430.out.edus',\n",
    "                'file3.edus': 'wsj_0766.out.edus',\n",
    "                'file4.edus': 'wsj_0778.out.edus',\n",
    "                'file5.edus': 'wsj_2172.out.edus'}\n",
    "```\n",
    "\n",
    "* some whitespace trickery\n",
    "\n",
    "```python\n",
    "edu = re.sub(r'>\\s*', r'', edu).replace('&amp;', '&')\n",
    "edu = re.sub(r'---', r'--', edu)\n",
    "edu = edu.replace('. . .', '...')\n",
    "...\n",
    "```\n",
    "\n",
    "* and a lot of \"annoying edge cases\"\n",
    "\n",
    "```python\n",
    "if path_basename == 'file1.edus':\n",
    "    edu = edu.replace('founded by',\n",
    "                      'founded by his grandfather.')\n",
    "elif (path_basename == 'wsj_0660.out.edus'\n",
    "      or path_basename == 'wsj_1368.out.edus'\n",
    "      or path_basename == \"wsj_1371.out.edus\"):\n",
    "    edu = edu.replace('S.p. A.', 'S.p.A.')\n",
    "elif path_basename == 'wsj_1329.out.edus':\n",
    "    edu = edu.replace('G.m.b. H.', 'G.m.b.H.')\n",
    "...\n",
    "```"
   ]
  },
  {
   "cell_type": "markdown",
   "metadata": {},
   "source": [
    "# TODO: parse all files with discoursegraphs, then fix the \"annoying edge cases\""
   ]
  },
  {
   "cell_type": "code",
   "execution_count": 1,
   "metadata": {
    "collapsed": false
   },
   "outputs": [],
   "source": [
    "import os\n",
    "import re\n",
    "\n",
    "from nltk.tree import ParentedTree\n",
    "import sexpdata\n",
    "\n",
    "import discoursegraphs as dg\n",
    "\n",
    "RSTDT_ROOTDIR = os.path.expanduser('~/repos/rst_discourse_treebank/data/RSTtrees-WSJ-main-1.0')\n",
    "RSTDT_TEST_FILE = os.path.join(RSTDT_ROOTDIR, 'TEST', 'wsj_1306.out.dis')"
   ]
  },
  {
   "cell_type": "code",
   "execution_count": 2,
   "metadata": {
    "collapsed": true
   },
   "outputs": [],
   "source": [
    "_ptb_paren_mapping = {'(': r'-LRB-',\n",
    "                      ')': r'-RRB-',\n",
    "                      '[': r'-LSB-',\n",
    "                      ']': r'-RSB-',\n",
    "                      '{': r'-LCB-',\n",
    "                      '}': r'-RCB-'}"
   ]
  },
  {
   "cell_type": "code",
   "execution_count": 3,
   "metadata": {
    "collapsed": true
   },
   "outputs": [],
   "source": [
    "def fix_rst_treebank_tree_str(rst_tree_str):\n",
    "    '''\n",
    "    This removes some unexplained comments in two files that cannot be parsed.\n",
    "    - data/RSTtrees-WSJ-main-1.0/TRAINING/wsj_2353.out.dis\n",
    "    - data/RSTtrees-WSJ-main-1.0/TRAINING/wsj_2367.out.dis\n",
    "    '''\n",
    "    return re.sub(r'\\)//TT_ERR', ')', rst_tree_str)"
   ]
  },
  {
   "cell_type": "code",
   "execution_count": 4,
   "metadata": {
    "collapsed": true
   },
   "outputs": [],
   "source": [
    "def convert_parens_in_rst_tree_str(rst_tree_str):\n",
    "    '''\n",
    "    This converts any brackets and parentheses in the EDUs of the RST discourse\n",
    "    treebank to look like Penn Treebank tokens (e.g., -LRB-),\n",
    "    so that the NLTK tree API doesn't crash when trying to read in the\n",
    "    RST trees.\n",
    "    '''\n",
    "    for bracket_type, bracket_replacement in _ptb_paren_mapping.items():\n",
    "        rst_tree_str = \\\n",
    "            re.sub('(_![^_(?=!)]*)\\\\{}([^_(?=!)]*_!)'.format(bracket_type),\n",
    "                   '\\\\g<1>{}\\\\g<2>'.format(bracket_replacement),\n",
    "                   rst_tree_str)\n",
    "    return rst_tree_str"
   ]
  },
  {
   "cell_type": "code",
   "execution_count": 5,
   "metadata": {
    "collapsed": false
   },
   "outputs": [],
   "source": [
    "def disfile2tree(dis_filepath):\n",
    "    with open(dis_filepath) as f:\n",
    "        rst_tree_str = f.read().strip()\n",
    "        rst_tree_str = fix_rst_treebank_tree_str(rst_tree_str)\n",
    "        rst_tree_str = convert_parens_in_rst_tree_str(rst_tree_str)\n",
    "        return ParentedTree.fromstring(rst_tree_str)    "
   ]
  },
  {
   "cell_type": "code",
   "execution_count": 7,
   "metadata": {
    "collapsed": true
   },
   "outputs": [],
   "source": [
    "tree = disfile2tree(RSTDT_TEST_FILE)"
   ]
  },
  {
   "cell_type": "code",
   "execution_count": 24,
   "metadata": {
    "collapsed": false
   },
   "outputs": [],
   "source": [
    "SUBTREE_TYPES = ('Root', 'Nucleus', 'Satellite')\n",
    "NODE_TYPES = ('leaf', 'span')\n",
    "\n",
    "def is_tree(tree):\n",
    "    \"\"\"returns true, iff the given element is a (sub)tree (and not a leaf or span node)\"\"\"\n",
    "    return tree.label() in SUBTREE_TYPES"
   ]
  },
  {
   "cell_type": "code",
   "execution_count": 37,
   "metadata": {
    "collapsed": false
   },
   "outputs": [
    {
     "name": "stdout",
     "output_type": "stream",
     "text": [
      "\n"
     ]
    }
   ],
   "source": [
    "def get_node_type(tree):\n",
    "    \"\"\"returns the node type (leaf or span) of a subtree (i.e. Nucleus or Satellite)\"\"\"\n",
    "    node_type = tree[0].label()\n",
    "    assert node_type in ('leaf', 'span')\n",
    "    return node_type"
   ]
  },
  {
   "cell_type": "code",
   "execution_count": 57,
   "metadata": {
    "collapsed": false
   },
   "outputs": [
    {
     "name": "stdout",
     "output_type": "stream",
     "text": [
      "\n"
     ]
    }
   ],
   "source": [
    "class Mock(object):\n",
    "    ns = 'rst'\n",
    "\n",
    "def get_node_id(self, nuc_or_sat):\n",
    "    node_type = get_node_type(nuc_or_sat)\n",
    "    if node_type == 'leaf':\n",
    "        leaf_id = nuc_or_sat[0].leaves()[0]\n",
    "        return '{}:{}'.format(self.ns, leaf_id)\n",
    "    else: # node_type == 'span'\n",
    "        span_start = nuc_or_sat[0].leaves()[0]\n",
    "        span_end = nuc_or_sat[0].leaves()[1]\n",
    "        return '{}:span:{}-{}'.format(self.ns, span_start, span_end)"
   ]
  },
  {
   "cell_type": "code",
   "execution_count": 60,
   "metadata": {
    "collapsed": false
   },
   "outputs": [
    {
     "name": "stdout",
     "output_type": "stream",
     "text": [
      "True span rst:span:21-47\n",
      "True span rst:span:1-20\n",
      "True span rst:span:21-47\n"
     ]
    }
   ],
   "source": [
    "mock = Mock()\n",
    "\n",
    "print is_tree(tree), get_node_type(tree), get_node_id(mocky, subelem)\n",
    "for subelem in tree:\n",
    "    if is_tree(subelem):\n",
    "        print is_tree(subelem), get_node_type(subelem), get_node_id(mock, subelem)"
   ]
  },
  {
   "cell_type": "code",
   "execution_count": null,
   "metadata": {
    "collapsed": true
   },
   "outputs": [],
   "source": []
  },
  {
   "cell_type": "code",
   "execution_count": 53,
   "metadata": {
    "collapsed": false
   },
   "outputs": [
    {
     "data": {
      "text/plain": [
       "'rst'"
      ]
     },
     "execution_count": 53,
     "metadata": {},
     "output_type": "execute_result"
    }
   ],
   "source": []
  },
  {
   "cell_type": "code",
   "execution_count": 68,
   "metadata": {
    "collapsed": true
   },
   "outputs": [],
   "source": [
    "def treeprint(tree, tab=0):\n",
    "    for elem in tree:\n",
    "        if is_tree(elem):\n",
    "            print \"{}{}\".format('   '*tab, get_node_id(mock, elem))\n",
    "            treeprint(elem, tab=tab+1)"
   ]
  },
  {
   "cell_type": "code",
   "execution_count": 69,
   "metadata": {
    "collapsed": false
   },
   "outputs": [
    {
     "name": "stdout",
     "output_type": "stream",
     "text": [
      "rst:span:1-20\n",
      "   rst:span:1-14\n",
      "      rst:span:1-8\n",
      "         rst:span:1-4\n",
      "            rst:span:1-3\n",
      "               rst:1\n",
      "               rst:span:2-3\n",
      "                  rst:2\n",
      "                  rst:3\n",
      "            rst:4\n",
      "         rst:span:5-8\n",
      "            rst:span:5-6\n",
      "               rst:5\n",
      "               rst:6\n",
      "            rst:span:7-8\n",
      "               rst:7\n",
      "               rst:8\n",
      "      rst:span:9-14\n",
      "         rst:span:9-11\n",
      "            rst:9\n",
      "            rst:span:10-11\n",
      "               rst:10\n",
      "               rst:11\n",
      "         rst:span:12-14\n",
      "            rst:12\n",
      "            rst:span:13-14\n",
      "               rst:13\n",
      "               rst:14\n",
      "   rst:span:15-20\n",
      "      rst:span:15-17\n",
      "         rst:15\n",
      "         rst:span:16-17\n",
      "            rst:16\n",
      "            rst:17\n",
      "      rst:span:18-20\n",
      "         rst:span:18-19\n",
      "            rst:18\n",
      "            rst:19\n",
      "         rst:20\n",
      "rst:span:21-47\n",
      "   rst:span:21-30\n",
      "      rst:span:21-27\n",
      "         rst:span:21-23\n",
      "            rst:21\n",
      "            rst:span:22-23\n",
      "               rst:22\n",
      "               rst:23\n",
      "         rst:span:24-27\n",
      "            rst:span:24-25\n",
      "               rst:24\n",
      "               rst:25\n",
      "            rst:span:26-27\n",
      "               rst:26\n",
      "               rst:27\n",
      "      rst:span:28-30\n",
      "         rst:28\n",
      "         rst:span:29-30\n",
      "            rst:29\n",
      "            rst:30\n",
      "   rst:span:31-47\n",
      "      rst:span:31-36\n",
      "         rst:span:31-33\n",
      "            rst:31\n",
      "            rst:span:32-33\n",
      "               rst:32\n",
      "               rst:33\n",
      "         rst:span:34-36\n",
      "            rst:span:34-35\n",
      "               rst:34\n",
      "               rst:35\n",
      "            rst:36\n",
      "      rst:span:37-47\n",
      "         rst:37\n",
      "         rst:span:38-47\n",
      "            rst:span:38-40\n",
      "               rst:38\n",
      "               rst:span:39-40\n",
      "                  rst:39\n",
      "                  rst:40\n",
      "            rst:span:41-42\n",
      "               rst:41\n",
      "               rst:42\n",
      "            rst:span:43-44\n",
      "               rst:43\n",
      "               rst:44\n",
      "            rst:span:45-47\n",
      "               rst:45\n",
      "               rst:span:46-47\n",
      "                  rst:46\n",
      "                  rst:47\n"
     ]
    }
   ],
   "source": [
    "treeprint(tree)"
   ]
  },
  {
   "cell_type": "code",
   "execution_count": 49,
   "metadata": {
    "collapsed": false
   },
   "outputs": [],
   "source": [
    "span = tree[1][0]"
   ]
  },
  {
   "cell_type": "code",
   "execution_count": 51,
   "metadata": {
    "collapsed": false
   },
   "outputs": [
    {
     "data": {
      "text/plain": [
       "['1', '20']"
      ]
     },
     "execution_count": 51,
     "metadata": {},
     "output_type": "execute_result"
    }
   ],
   "source": [
    "span.leaves()"
   ]
  },
  {
   "cell_type": "code",
   "execution_count": 15,
   "metadata": {
    "collapsed": false
   },
   "outputs": [],
   "source": [
    "# for folder in ('TEST', 'TRAINING'):\n",
    "#     for rstfile in dg.util.find_files(os.path.join(RSTDT_ROOTDIR, folder), '*.dis'):\n",
    "#         with open(rstfile) as f:\n",
    "#             dg.read_dis(rstfile)"
   ]
  },
  {
   "cell_type": "code",
   "execution_count": null,
   "metadata": {
    "collapsed": true
   },
   "outputs": [],
   "source": []
  }
 ],
 "metadata": {
  "kernelspec": {
   "display_name": "Python 2",
   "language": "python",
   "name": "python2"
  },
  "language_info": {
   "codemirror_mode": {
    "name": "ipython",
    "version": 2
   },
   "file_extension": ".py",
   "mimetype": "text/x-python",
   "name": "python",
   "nbconvert_exporter": "python",
   "pygments_lexer": "ipython2",
   "version": "2.7.5+"
  }
 },
 "nbformat": 4,
 "nbformat_minor": 0
}
