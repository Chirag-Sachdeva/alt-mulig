{
 "cells": [
  {
   "cell_type": "markdown",
   "metadata": {},
   "source": [
    "# Problem: RST-DT files aren't tokenized, their corresponding PTB files are\n",
    "\n",
    "* off-the-shelf tokenizers don't reproduce PTB tokenization exactly\n",
    "* let's try the preprocessing provided by the [Educational Testing Service](https://github.com/EducationalTestingService)'s (ETS) [RST discourse parser](https://github.com/EducationalTestingService/discourse-parsing)\n",
    "\n",
    "## ETS discourse-parser\n",
    "\n",
    "* offers a script `convert_rst_discourse_tb`, in `discourseparsing.convert_rst_discourse_tb:main`,  \n",
    "  which fixes the preprocesses the RST-DT files, so that nltk's tokenizer produces  \n",
    "  the same tokenization that PTB uses\n",
    "* NOTE: their code uses Python 3"
   ]
  },
  {
   "cell_type": "markdown",
   "metadata": {},
   "source": [
    "Their code includes:\n",
    "\n",
    "* some magic preprocessing\n",
    "\n",
    "```python\n",
    "with open(path_dis) as f:\n",
    "    rst_tree_str = f.read().strip()\n",
    "    rst_tree_str = fix_rst_treebank_tree_str(rst_tree_str)\n",
    "    rst_tree_str = convert_parens_in_rst_tree_str(rst_tree_str)\n",
    "    rst_tree = ParentedTree.fromstring(rst_tree_str)\n",
    "    reformat_rst_tree(rst_tree)\n",
    "```\n",
    "\n",
    "* some file mappings\n",
    "\n",
    "```python\n",
    "# file mapping from the RSTDTB documentation\n",
    "file_mapping = {'file1.edus': 'wsj_0764.out.edus',\n",
    "                'file2.edus': 'wsj_0430.out.edus',\n",
    "                'file3.edus': 'wsj_0766.out.edus',\n",
    "                'file4.edus': 'wsj_0778.out.edus',\n",
    "                'file5.edus': 'wsj_2172.out.edus'}\n",
    "```\n",
    "\n",
    "* some whitespace trickery\n",
    "\n",
    "```python\n",
    "edu = re.sub(r'>\\s*', r'', edu).replace('&amp;', '&')\n",
    "edu = re.sub(r'---', r'--', edu)\n",
    "edu = edu.replace('. . .', '...')\n",
    "...\n",
    "```\n",
    "\n",
    "* and a lot of \"annoying edge cases\"\n",
    "\n",
    "```python\n",
    "if path_basename == 'file1.edus':\n",
    "    edu = edu.replace('founded by',\n",
    "                      'founded by his grandfather.')\n",
    "elif (path_basename == 'wsj_0660.out.edus'\n",
    "      or path_basename == 'wsj_1368.out.edus'\n",
    "      or path_basename == \"wsj_1371.out.edus\"):\n",
    "    edu = edu.replace('S.p. A.', 'S.p.A.')\n",
    "elif path_basename == 'wsj_1329.out.edus':\n",
    "    edu = edu.replace('G.m.b. H.', 'G.m.b.H.')\n",
    "...\n",
    "```"
   ]
  },
  {
   "cell_type": "markdown",
   "metadata": {},
   "source": [
    "# TODO: parse all files with discoursegraphs, then fix the \"annoying edge cases\""
   ]
  },
  {
   "cell_type": "code",
   "execution_count": 1,
   "metadata": {
    "collapsed": false
   },
   "outputs": [
    {
     "name": "stdout",
     "output_type": "stream",
     "text": [
      "Couldn't import dot_parser, loading of dot files will not be possible.\n"
     ]
    }
   ],
   "source": [
    "import os\n",
    "import re\n",
    "\n",
    "from nltk.tree import ParentedTree\n",
    "import sexpdata\n",
    "\n",
    "import discoursegraphs as dg\n",
    "\n",
    "RSTDT_ROOTDIR = os.path.expanduser('~/repos/rst_discourse_treebank/data/RSTtrees-WSJ-main-1.0')\n",
    "RSTDT_TEST_FILE = os.path.join(RSTDT_ROOTDIR, 'TEST', 'wsj_1306.out.dis')"
   ]
  },
  {
   "cell_type": "code",
   "execution_count": 2,
   "metadata": {
    "collapsed": true
   },
   "outputs": [],
   "source": [
    "_ptb_paren_mapping = {'(': r'-LRB-',\n",
    "                      ')': r'-RRB-',\n",
    "                      '[': r'-LSB-',\n",
    "                      ']': r'-RSB-',\n",
    "                      '{': r'-LCB-',\n",
    "                      '}': r'-RCB-'}"
   ]
  },
  {
   "cell_type": "code",
   "execution_count": 3,
   "metadata": {
    "collapsed": true
   },
   "outputs": [],
   "source": [
    "def fix_rst_treebank_tree_str(rst_tree_str):\n",
    "    '''\n",
    "    This removes some unexplained comments in two files that cannot be parsed.\n",
    "    - data/RSTtrees-WSJ-main-1.0/TRAINING/wsj_2353.out.dis\n",
    "    - data/RSTtrees-WSJ-main-1.0/TRAINING/wsj_2367.out.dis\n",
    "    '''\n",
    "    return re.sub(r'\\)//TT_ERR', ')', rst_tree_str)"
   ]
  },
  {
   "cell_type": "code",
   "execution_count": 4,
   "metadata": {
    "collapsed": true
   },
   "outputs": [],
   "source": [
    "def convert_parens_in_rst_tree_str(rst_tree_str):\n",
    "    '''\n",
    "    This converts any brackets and parentheses in the EDUs of the RST discourse\n",
    "    treebank to look like Penn Treebank tokens (e.g., -LRB-),\n",
    "    so that the NLTK tree API doesn't crash when trying to read in the\n",
    "    RST trees.\n",
    "    '''\n",
    "    for bracket_type, bracket_replacement in _ptb_paren_mapping.items():\n",
    "        rst_tree_str = \\\n",
    "            re.sub('(_![^_(?=!)]*)\\\\{}([^_(?=!)]*_!)'.format(bracket_type),\n",
    "                   '\\\\g<1>{}\\\\g<2>'.format(bracket_replacement),\n",
    "                   rst_tree_str)\n",
    "    return rst_tree_str"
   ]
  },
  {
   "cell_type": "code",
   "execution_count": 5,
   "metadata": {
    "collapsed": false
   },
   "outputs": [],
   "source": [
    "def disfile2tree(dis_filepath):\n",
    "    with open(dis_filepath) as f:\n",
    "        rst_tree_str = f.read().strip()\n",
    "        rst_tree_str = fix_rst_treebank_tree_str(rst_tree_str)\n",
    "        rst_tree_str = convert_parens_in_rst_tree_str(rst_tree_str)\n",
    "        return ParentedTree.fromstring(rst_tree_str)    "
   ]
  },
  {
   "cell_type": "code",
   "execution_count": 6,
   "metadata": {
    "collapsed": true
   },
   "outputs": [],
   "source": [
    "tree = disfile2tree(RSTDT_TEST_FILE)"
   ]
  },
  {
   "cell_type": "code",
   "execution_count": 7,
   "metadata": {
    "collapsed": false
   },
   "outputs": [],
   "source": [
    "SUBTREE_TYPES = ('Root', 'Nucleus', 'Satellite')\n",
    "NODE_TYPES = ('leaf', 'span')\n",
    "\n",
    "def is_tree(tree):\n",
    "    \"\"\"\n",
    "    returns true, iff the given element is a (sub)tree (and not a leaf or span node)\n",
    "    \n",
    "    Parameters\n",
    "    ----------\n",
    "    tree : nltk.tree.ParentedTree\n",
    "        a tree representing a rhetorical structure (or a part of it)\n",
    "    \"\"\"\n",
    "    return tree.label() in SUBTREE_TYPES"
   ]
  },
  {
   "cell_type": "code",
   "execution_count": 8,
   "metadata": {
    "collapsed": false
   },
   "outputs": [],
   "source": [
    "def get_node_type(tree):\n",
    "    \"\"\"\n",
    "    returns the node type (leaf or span) of a subtree (i.e. Nucleus or Satellite)\n",
    "\n",
    "    Parameters\n",
    "    ----------\n",
    "    tree : nltk.tree.ParentedTree\n",
    "        a tree representing a rhetorical structure (or a part of it)    \n",
    "    \"\"\"\n",
    "    node_type = tree[0].label()\n",
    "    assert node_type in ('leaf', 'span')\n",
    "    return node_type"
   ]
  },
  {
   "cell_type": "code",
   "execution_count": 9,
   "metadata": {
    "collapsed": false
   },
   "outputs": [],
   "source": [
    "class Mock(object):\n",
    "    ns = 'rst'\n",
    "\n",
    "def get_node_id(self, nuc_or_sat):\n",
    "    node_type = get_node_type(nuc_or_sat)\n",
    "    if node_type == 'leaf':\n",
    "        leaf_id = nuc_or_sat[0].leaves()[0]\n",
    "        return '{}:{}'.format(self.ns, leaf_id)\n",
    "    else: # node_type == 'span'\n",
    "        span_start = nuc_or_sat[0].leaves()[0]\n",
    "        span_end = nuc_or_sat[0].leaves()[1]\n",
    "        return '{}:span:{}-{}'.format(self.ns, span_start, span_end)"
   ]
  },
  {
   "cell_type": "code",
   "execution_count": 10,
   "metadata": {
    "collapsed": false
   },
   "outputs": [
    {
     "name": "stdout",
     "output_type": "stream",
     "text": [
      "True span rst:span:1-47\n",
      "True span rst:span:1-20\n",
      "True span rst:span:21-47\n"
     ]
    }
   ],
   "source": [
    "mock = Mock()\n",
    "\n",
    "print is_tree(tree), get_node_type(tree), get_node_id(mock, tree)\n",
    "for subelem in tree:\n",
    "    if is_tree(subelem):\n",
    "        print is_tree(subelem), get_node_type(subelem), get_node_id(mock, subelem)"
   ]
  },
  {
   "cell_type": "code",
   "execution_count": 11,
   "metadata": {
    "collapsed": true
   },
   "outputs": [],
   "source": [
    "def get_tree_type(tree):\n",
    "    \"\"\"returns the type of the (sub)tree: Root, Nucleus or Satellite\"\"\"\n",
    "    tree_type = tree.label()\n",
    "    assert tree_type in SUBTREE_TYPES\n",
    "    return tree_type"
   ]
  },
  {
   "cell_type": "code",
   "execution_count": null,
   "metadata": {
    "collapsed": false
   },
   "outputs": [],
   "source": []
  },
  {
   "cell_type": "code",
   "execution_count": 12,
   "metadata": {
    "collapsed": true
   },
   "outputs": [],
   "source": [
    "def get_relation_type(self, tree):\n",
    "    \"\"\"\n",
    "    returns the RST relation type attached to the parent node of an RST relation,\n",
    "    e.g. `span`, `elaboration` or `antithesis`.\n",
    "    \"\"\"\n",
    "    return tree[1][0]"
   ]
  },
  {
   "cell_type": "code",
   "execution_count": 13,
   "metadata": {
    "collapsed": true
   },
   "outputs": [],
   "source": [
    "def treeprint(tree, tab=0):\n",
    "    for elem in tree:\n",
    "        if is_tree(elem):\n",
    "            print \"{}{} {}\".format('   '*tab,\n",
    "                                   get_node_id(mock, elem),\n",
    "                                   get_relation_type(mock, elem))\n",
    "            treeprint(elem, tab=tab+1)"
   ]
  },
  {
   "cell_type": "code",
   "execution_count": 14,
   "metadata": {
    "collapsed": false
   },
   "outputs": [
    {
     "name": "stdout",
     "output_type": "stream",
     "text": [
      "Nucleus\n"
     ]
    }
   ],
   "source": [
    "nuc = tree[1]\n",
    "print get_tree_type(nuc)"
   ]
  },
  {
   "cell_type": "code",
   "execution_count": 15,
   "metadata": {
    "collapsed": false
   },
   "outputs": [],
   "source": [
    "reltype = nuc[1]"
   ]
  },
  {
   "cell_type": "code",
   "execution_count": 16,
   "metadata": {
    "collapsed": false
   },
   "outputs": [
    {
     "name": "stdout",
     "output_type": "stream",
     "text": [
      "<type 'str'>\n"
     ]
    }
   ],
   "source": [
    "print type(reltype[0])"
   ]
  },
  {
   "cell_type": "code",
   "execution_count": 17,
   "metadata": {
    "collapsed": false
   },
   "outputs": [
    {
     "name": "stdout",
     "output_type": "stream",
     "text": [
      "rst:span:1-20 span\n",
      "   rst:span:1-14 span\n",
      "      rst:span:1-8 span\n",
      "         rst:span:1-4 Inverted-Sequence\n",
      "            rst:span:1-3 span\n",
      "               rst:1 attribution\n",
      "               rst:span:2-3 span\n",
      "                  rst:2 span\n",
      "                  rst:3 elaboration-object-attribute-e\n",
      "            rst:4 elaboration-additional\n",
      "         rst:span:5-8 Inverted-Sequence\n",
      "            rst:span:5-6 span\n",
      "               rst:5 attribution\n",
      "               rst:6 span\n",
      "            rst:span:7-8 reason\n",
      "               rst:7 attribution\n",
      "               rst:8 span\n",
      "      rst:span:9-14 circumstance\n",
      "         rst:span:9-11 span\n",
      "            rst:9 span\n",
      "            rst:span:10-11 elaboration-object-attribute-e\n",
      "               rst:10 span\n",
      "               rst:11 elaboration-object-attribute-e\n",
      "         rst:span:12-14 elaboration-additional\n",
      "            rst:12 span\n",
      "            rst:span:13-14 consequence-s\n",
      "               rst:13 span\n",
      "               rst:14 elaboration-object-attribute-e\n",
      "   rst:span:15-20 reason\n",
      "      rst:span:15-17 span\n",
      "         rst:15 attribution\n",
      "         rst:span:16-17 span\n",
      "            rst:16 span\n",
      "            rst:17 elaboration-object-attribute-e\n",
      "      rst:span:18-20 explanation-argumentative\n",
      "         rst:span:18-19 span\n",
      "            rst:18 span\n",
      "            rst:19 reason\n",
      "         rst:20 attribution\n",
      "rst:span:21-47 evaluation-s\n",
      "   rst:span:21-30 span\n",
      "      rst:span:21-27 span\n",
      "         rst:span:21-23 span\n",
      "            rst:21 attribution\n",
      "            rst:span:22-23 span\n",
      "               rst:22 antithesis\n",
      "               rst:23 span\n",
      "         rst:span:24-27 elaboration-additional\n",
      "            rst:span:24-25 antithesis\n",
      "               rst:24 span\n",
      "               rst:25 attribution\n",
      "            rst:span:26-27 span\n",
      "               rst:26 span\n",
      "               rst:27 elaboration-object-attribute-e\n",
      "      rst:span:28-30 elaboration-additional\n",
      "         rst:28 span\n",
      "         rst:span:29-30 temporal-same-time\n",
      "            rst:29 span\n",
      "            rst:30 elaboration-set-member-e\n",
      "   rst:span:31-47 elaboration-general-specific\n",
      "      rst:span:31-36 Contrast\n",
      "         rst:span:31-33 span\n",
      "            rst:31 attribution\n",
      "            rst:span:32-33 span\n",
      "               rst:32 span\n",
      "               rst:33 temporal-after\n",
      "         rst:span:34-36 comment\n",
      "            rst:span:34-35 span\n",
      "               rst:34 span\n",
      "               rst:35 attribution\n",
      "            rst:36 elaboration-object-attribute-e\n",
      "      rst:span:37-47 Contrast\n",
      "         rst:37 span\n",
      "         rst:span:38-47 elaboration-general-specific\n",
      "            rst:span:38-40 List\n",
      "               rst:38 attribution\n",
      "               rst:span:39-40 span\n",
      "                  rst:39 Sequence\n",
      "                  rst:40 Sequence\n",
      "            rst:span:41-42 List\n",
      "               rst:41 attribution\n",
      "               rst:42 span\n",
      "            rst:span:43-44 List\n",
      "               rst:43 attribution\n",
      "               rst:44 span\n",
      "            rst:span:45-47 List\n",
      "               rst:45 attribution\n",
      "               rst:span:46-47 span\n",
      "                  rst:46 span\n",
      "                  rst:47 concession\n"
     ]
    }
   ],
   "source": [
    "treeprint(tree)"
   ]
  },
  {
   "cell_type": "code",
   "execution_count": 18,
   "metadata": {
    "collapsed": false
   },
   "outputs": [],
   "source": [
    "span = tree[1][0]"
   ]
  },
  {
   "cell_type": "code",
   "execution_count": 19,
   "metadata": {
    "collapsed": false
   },
   "outputs": [
    {
     "data": {
      "text/plain": [
       "['1', '20']"
      ]
     },
     "execution_count": 19,
     "metadata": {},
     "output_type": "execute_result"
    }
   ],
   "source": [
    "span.leaves()"
   ]
  },
  {
   "cell_type": "code",
   "execution_count": 20,
   "metadata": {
    "collapsed": false
   },
   "outputs": [
    {
     "ename": "ValueError",
     "evalue": "Unexpected child combinations: defaultdict(<type 'list'>, {'Satellite': [0], 'Nucleus': []})\n",
     "output_type": "error",
     "traceback": [
      "\u001b[1;31m---------------------------------------------------------------------------\u001b[0m",
      "\u001b[1;31mValueError\u001b[0m                                Traceback (most recent call last)",
      "\u001b[1;32m<ipython-input-20-972a2126c2d0>\u001b[0m in \u001b[0;36m<module>\u001b[1;34m()\u001b[0m\n\u001b[0;32m      2\u001b[0m     \u001b[1;32mfor\u001b[0m \u001b[0mrstfile\u001b[0m \u001b[1;32min\u001b[0m \u001b[0mdg\u001b[0m\u001b[1;33m.\u001b[0m\u001b[0mutil\u001b[0m\u001b[1;33m.\u001b[0m\u001b[0mfind_files\u001b[0m\u001b[1;33m(\u001b[0m\u001b[0mos\u001b[0m\u001b[1;33m.\u001b[0m\u001b[0mpath\u001b[0m\u001b[1;33m.\u001b[0m\u001b[0mjoin\u001b[0m\u001b[1;33m(\u001b[0m\u001b[0mRSTDT_ROOTDIR\u001b[0m\u001b[1;33m,\u001b[0m \u001b[0mfolder\u001b[0m\u001b[1;33m)\u001b[0m\u001b[1;33m,\u001b[0m \u001b[1;34m'*.dis'\u001b[0m\u001b[1;33m)\u001b[0m\u001b[1;33m:\u001b[0m\u001b[1;33m\u001b[0m\u001b[0m\n\u001b[0;32m      3\u001b[0m         \u001b[1;32mwith\u001b[0m \u001b[0mopen\u001b[0m\u001b[1;33m(\u001b[0m\u001b[0mrstfile\u001b[0m\u001b[1;33m)\u001b[0m \u001b[1;32mas\u001b[0m \u001b[0mf\u001b[0m\u001b[1;33m:\u001b[0m\u001b[1;33m\u001b[0m\u001b[0m\n\u001b[1;32m----> 4\u001b[1;33m             \u001b[0mdg\u001b[0m\u001b[1;33m.\u001b[0m\u001b[0mread_dis\u001b[0m\u001b[1;33m(\u001b[0m\u001b[0mrstfile\u001b[0m\u001b[1;33m)\u001b[0m\u001b[1;33m\u001b[0m\u001b[0m\n\u001b[0m",
      "\u001b[1;32m/usr/local/lib/python2.7/dist-packages/discoursegraphs-0.1.2-py2.7.egg/discoursegraphs/readwrite/rst/dis.pyc\u001b[0m in \u001b[0;36m__init__\u001b[1;34m(self, dis_filepath, name, namespace, tokenize, precedence)\u001b[0m\n\u001b[0;32m     76\u001b[0m         \u001b[0mself\u001b[0m\u001b[1;33m.\u001b[0m\u001b[0mtokens\u001b[0m \u001b[1;33m=\u001b[0m \u001b[1;33m[\u001b[0m\u001b[1;33m]\u001b[0m\u001b[1;33m\u001b[0m\u001b[0m\n\u001b[0;32m     77\u001b[0m         \u001b[0mself\u001b[0m\u001b[1;33m.\u001b[0m\u001b[0mrst_tree\u001b[0m \u001b[1;33m=\u001b[0m \u001b[0mself\u001b[0m\u001b[1;33m.\u001b[0m\u001b[0mdisfile2tree\u001b[0m\u001b[1;33m(\u001b[0m\u001b[0mdis_filepath\u001b[0m\u001b[1;33m)\u001b[0m\u001b[1;33m\u001b[0m\u001b[0m\n\u001b[1;32m---> 78\u001b[1;33m         \u001b[0mself\u001b[0m\u001b[1;33m.\u001b[0m\u001b[0mparse_rst_tree\u001b[0m\u001b[1;33m(\u001b[0m\u001b[0mself\u001b[0m\u001b[1;33m.\u001b[0m\u001b[0mrst_tree\u001b[0m\u001b[1;33m)\u001b[0m\u001b[1;33m\u001b[0m\u001b[0m\n\u001b[0m\u001b[0;32m     79\u001b[0m \u001b[1;33m\u001b[0m\u001b[0m\n\u001b[0;32m     80\u001b[0m     \u001b[1;32mdef\u001b[0m \u001b[0mdisfile2tree\u001b[0m\u001b[1;33m(\u001b[0m\u001b[0mself\u001b[0m\u001b[1;33m,\u001b[0m \u001b[0mdis_filepath\u001b[0m\u001b[1;33m)\u001b[0m\u001b[1;33m:\u001b[0m\u001b[1;33m\u001b[0m\u001b[0m\n",
      "\u001b[1;32m/usr/local/lib/python2.7/dist-packages/discoursegraphs-0.1.2-py2.7.egg/discoursegraphs/readwrite/rst/dis.pyc\u001b[0m in \u001b[0;36mparse_rst_tree\u001b[1;34m(self, rst_tree, indent)\u001b[0m\n\u001b[0;32m     92\u001b[0m             \u001b[0mspan\u001b[0m\u001b[1;33m,\u001b[0m \u001b[0mchildren\u001b[0m \u001b[1;33m=\u001b[0m \u001b[0mrst_tree\u001b[0m\u001b[1;33m[\u001b[0m\u001b[1;36m0\u001b[0m\u001b[1;33m]\u001b[0m\u001b[1;33m,\u001b[0m \u001b[0mrst_tree\u001b[0m\u001b[1;33m[\u001b[0m\u001b[1;36m1\u001b[0m\u001b[1;33m:\u001b[0m\u001b[1;33m]\u001b[0m\u001b[1;33m\u001b[0m\u001b[0m\n\u001b[0;32m     93\u001b[0m             \u001b[1;32mfor\u001b[0m \u001b[0mchild\u001b[0m \u001b[1;32min\u001b[0m \u001b[0mchildren\u001b[0m\u001b[1;33m:\u001b[0m\u001b[1;33m\u001b[0m\u001b[0m\n\u001b[1;32m---> 94\u001b[1;33m                 \u001b[0mself\u001b[0m\u001b[1;33m.\u001b[0m\u001b[0mparse_rst_tree\u001b[0m\u001b[1;33m(\u001b[0m\u001b[0mchild\u001b[0m\u001b[1;33m,\u001b[0m \u001b[0mindent\u001b[0m\u001b[1;33m=\u001b[0m\u001b[0mindent\u001b[0m\u001b[1;33m+\u001b[0m\u001b[1;36m1\u001b[0m\u001b[1;33m)\u001b[0m\u001b[1;33m\u001b[0m\u001b[0m\n\u001b[0m\u001b[0;32m     95\u001b[0m \u001b[1;33m\u001b[0m\u001b[0m\n\u001b[0;32m     96\u001b[0m         \u001b[1;32melse\u001b[0m\u001b[1;33m:\u001b[0m \u001b[1;31m# tree_type in ('Nucleus', 'Satellite')\u001b[0m\u001b[1;33m\u001b[0m\u001b[0m\n",
      "\u001b[1;32m/usr/local/lib/python2.7/dist-packages/discoursegraphs-0.1.2-py2.7.egg/discoursegraphs/readwrite/rst/dis.pyc\u001b[0m in \u001b[0;36mparse_rst_tree\u001b[1;34m(self, rst_tree, indent)\u001b[0m\n\u001b[0;32m    144\u001b[0m \u001b[1;33m\u001b[0m\u001b[0m\n\u001b[0;32m    145\u001b[0m                 \u001b[1;32mfor\u001b[0m \u001b[0mchild\u001b[0m \u001b[1;32min\u001b[0m \u001b[0mchildren\u001b[0m\u001b[1;33m:\u001b[0m\u001b[1;33m\u001b[0m\u001b[0m\n\u001b[1;32m--> 146\u001b[1;33m                     \u001b[0mself\u001b[0m\u001b[1;33m.\u001b[0m\u001b[0mparse_rst_tree\u001b[0m\u001b[1;33m(\u001b[0m\u001b[0mchild\u001b[0m\u001b[1;33m,\u001b[0m \u001b[0mindent\u001b[0m\u001b[1;33m=\u001b[0m\u001b[0mindent\u001b[0m\u001b[1;33m+\u001b[0m\u001b[1;36m1\u001b[0m\u001b[1;33m)\u001b[0m\u001b[1;33m\u001b[0m\u001b[0m\n\u001b[0m\u001b[0;32m    147\u001b[0m \u001b[1;33m\u001b[0m\u001b[0m\n\u001b[0;32m    148\u001b[0m     \u001b[1;32mdef\u001b[0m \u001b[0mget_child_types\u001b[0m\u001b[1;33m(\u001b[0m\u001b[0mself\u001b[0m\u001b[1;33m,\u001b[0m \u001b[0mchildren\u001b[0m\u001b[1;33m)\u001b[0m\u001b[1;33m:\u001b[0m\u001b[1;33m\u001b[0m\u001b[0m\n",
      "\u001b[1;32m/usr/local/lib/python2.7/dist-packages/discoursegraphs-0.1.2-py2.7.egg/discoursegraphs/readwrite/rst/dis.pyc\u001b[0m in \u001b[0;36mparse_rst_tree\u001b[1;34m(self, rst_tree, indent)\u001b[0m\n\u001b[0;32m    141\u001b[0m                                   edge_type=EdgeTypes.dominance_relation)\n\u001b[0;32m    142\u001b[0m                 \u001b[1;32melse\u001b[0m\u001b[1;33m:\u001b[0m\u001b[1;33m\u001b[0m\u001b[0m\n\u001b[1;32m--> 143\u001b[1;33m                     \u001b[1;32mraise\u001b[0m \u001b[0mValueError\u001b[0m\u001b[1;33m(\u001b[0m\u001b[1;34m\"Unexpected child combinations: {}\\n\"\u001b[0m\u001b[1;33m.\u001b[0m\u001b[0mformat\u001b[0m\u001b[1;33m(\u001b[0m\u001b[0mchild_types\u001b[0m\u001b[1;33m)\u001b[0m\u001b[1;33m)\u001b[0m\u001b[1;33m\u001b[0m\u001b[0m\n\u001b[0m\u001b[0;32m    144\u001b[0m \u001b[1;33m\u001b[0m\u001b[0m\n\u001b[0;32m    145\u001b[0m                 \u001b[1;32mfor\u001b[0m \u001b[0mchild\u001b[0m \u001b[1;32min\u001b[0m \u001b[0mchildren\u001b[0m\u001b[1;33m:\u001b[0m\u001b[1;33m\u001b[0m\u001b[0m\n",
      "\u001b[1;31mValueError\u001b[0m: Unexpected child combinations: defaultdict(<type 'list'>, {'Satellite': [0], 'Nucleus': []})\n"
     ]
    }
   ],
   "source": [
    "for folder in ('TEST', 'TRAINING'):\n",
    "    for rstfile in dg.util.find_files(os.path.join(RSTDT_ROOTDIR, folder), '*.dis'):\n",
    "        with open(rstfile) as f:\n",
    "            dg.read_dis(rstfile)"
   ]
  },
  {
   "cell_type": "code",
   "execution_count": null,
   "metadata": {
    "collapsed": true
   },
   "outputs": [],
   "source": []
  }
 ],
 "metadata": {
  "kernelspec": {
   "display_name": "Python 2",
   "language": "python",
   "name": "python2"
  },
  "language_info": {
   "codemirror_mode": {
    "name": "ipython",
    "version": 2
   },
   "file_extension": ".py",
   "mimetype": "text/x-python",
   "name": "python",
   "nbconvert_exporter": "python",
   "pygments_lexer": "ipython2",
   "version": "2.7.3"
  }
 },
 "nbformat": 4,
 "nbformat_minor": 0
}
