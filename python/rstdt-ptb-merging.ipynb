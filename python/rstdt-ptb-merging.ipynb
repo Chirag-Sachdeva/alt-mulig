{
 "metadata": {
  "name": "",
  "signature": "sha256:ad2007925f428762b01fbe8c0f68cac33bd467a3679e39d81e6e8738f5bbf27a"
 },
 "nbformat": 3,
 "nbformat_minor": 0,
 "worksheets": [
  {
   "cells": [
    {
     "cell_type": "code",
     "collapsed": false,
     "input": [
      "import os\n",
      "import discoursegraphs as dg\n",
      "\n",
      "PTB_WSJ_ROOT_DIR = os.path.expanduser('~/corpora/pennTreebank/parsed/mrg/wsj')\n",
      "RST_ROOT_DIR = os.path.expanduser('~/repos/rst_discourse_treebank_rs3/tokenized/')\n",
      "\n",
      "RST_TEST_FILE = os.path.join(RST_ROOT_DIR, 'TEST', 'wsj_1197.rs3')\n",
      "PTB_WSJ_TEST_FILE = os.path.join(PTB_WSJ_ROOT_DIR, '11/wsj_1197.mrg')"
     ],
     "language": "python",
     "metadata": {},
     "outputs": [],
     "prompt_number": 1
    },
    {
     "cell_type": "code",
     "collapsed": false,
     "input": [
      "rdg = dg.read_rs3(RST_TEST_FILE)"
     ],
     "language": "python",
     "metadata": {},
     "outputs": [],
     "prompt_number": 2
    },
    {
     "cell_type": "code",
     "collapsed": false,
     "input": [
      "pdg = dg.read_ptb(PTB_WSJ_TEST_FILE, ignore_traces=False)"
     ],
     "language": "python",
     "metadata": {},
     "outputs": [],
     "prompt_number": 3
    },
    {
     "cell_type": "code",
     "collapsed": false,
     "input": [
      "dg.get_text(pdg)"
     ],
     "language": "python",
     "metadata": {},
     "outputs": [
      {
       "metadata": {},
       "output_type": "pyout",
       "prompt_number": 4,
       "text": [
        "\"Homestake Mining Co. , San Francisco , blamed the continued slump in gold prices for an 83 % plunge in third-quarter net income to $ 2 million , or two cents a share , from $ 11.2 million , or 12 cents a share , a year earlier . Revenue rose 5 % to $ 110.4 million from $ 105.4 million . In New York Stock Exchange composite trading , Homestake closed at $ 15.25 , down 25 cents . `` A significant increase in gold sales to 248,279 ounces for the quarter from 188,726 in the third quarter of 1988 was more than offset by the continued decline in average gold price realization to $ 367 from $ 429 per ounce , '' the company said . For the nine months , the mining company posted a 40 % drop in profit to $ 30.1 million , or 31 cents a share , from $ 50.6 million , or 52 cents a share , on a 6 % rise in revenue to $ 323.2 million from $ 305.7 million .\""
       ]
      }
     ],
     "prompt_number": 4
    },
    {
     "cell_type": "code",
     "collapsed": false,
     "input": [
      "dg.get_text(rdg)"
     ],
     "language": "python",
     "metadata": {},
     "outputs": [
      {
       "metadata": {},
       "output_type": "pyout",
       "prompt_number": 5,
       "text": [
        "u'Homestake Mining Co. , San Francisco , blamed the continued slump in gold prices for an 83 % plunge in third-quarter net income to $ 2 million , or two cents a share , from $ 11.2 million , or 12 cents a share , a year earlier . Revenue rose 5 % to $ 110.4 million from $ 105.4 million . In New York Stock Exchange composite trading , Homestake closed at $ 15.25 , down 25 cents . A significant increase in gold sales to 248,279 ounces for the quarter from 188,726 in the third quarter of 1988 was more than offset by the continued decline in average gold price realization to $ 367 from $ 429 per ounce , the company said . For the nine months , the mining company posted a 40 % drop in profit to $ 30.1 million , or 31 cents a share , from $ 50.6 million , or 52 cents a share , on a 6 % rise in revenue to $ 323.2 million from $ 305.7 million .'"
       ]
      }
     ],
     "prompt_number": 5
    },
    {
     "cell_type": "code",
     "collapsed": false,
     "input": [
      "rdg.merge_graphs(pdg, verbose=False)"
     ],
     "language": "python",
     "metadata": {},
     "outputs": [
      {
       "ename": "ValueError",
       "evalue": "Tokenization mismatch: wsj_1197.rs3 (rst) vs. wsj_1197.mrg (ptb)\n\tA != ``",
       "output_type": "pyerr",
       "traceback": [
        "\u001b[1;31m---------------------------------------------------------------------------\u001b[0m\n\u001b[1;31mValueError\u001b[0m                                Traceback (most recent call last)",
        "\u001b[1;32m<ipython-input-7-6169cbd9967b>\u001b[0m in \u001b[0;36m<module>\u001b[1;34m()\u001b[0m\n\u001b[1;32m----> 1\u001b[1;33m \u001b[0mrdg\u001b[0m\u001b[1;33m.\u001b[0m\u001b[0mmerge_graphs\u001b[0m\u001b[1;33m(\u001b[0m\u001b[0mpdg\u001b[0m\u001b[1;33m,\u001b[0m \u001b[0mverbose\u001b[0m\u001b[1;33m=\u001b[0m\u001b[0mFalse\u001b[0m\u001b[1;33m)\u001b[0m\u001b[1;33m\u001b[0m\u001b[0m\n\u001b[0m",
        "\u001b[1;32m/usr/local/lib/python2.7/dist-packages/discoursegraphs-0.1.2-py2.7.egg/discoursegraphs/discoursegraph.pyc\u001b[0m in \u001b[0;36mmerge_graphs\u001b[1;34m(self, other_docgraph, verbose)\u001b[0m\n\u001b[0;32m    555\u001b[0m         \"\"\"\n\u001b[0;32m    556\u001b[0m         \u001b[1;31m# renaming the tokens of the other graph to match this one\u001b[0m\u001b[1;33m\u001b[0m\u001b[1;33m\u001b[0m\u001b[0m\n\u001b[1;32m--> 557\u001b[1;33m         \u001b[0mrename_tokens\u001b[0m\u001b[1;33m(\u001b[0m\u001b[0mother_docgraph\u001b[0m\u001b[1;33m,\u001b[0m \u001b[0mself\u001b[0m\u001b[1;33m,\u001b[0m \u001b[0mverbose\u001b[0m\u001b[1;33m=\u001b[0m\u001b[0mverbose\u001b[0m\u001b[1;33m)\u001b[0m\u001b[1;33m\u001b[0m\u001b[0m\n\u001b[0m\u001b[0;32m    558\u001b[0m         \u001b[0mself\u001b[0m\u001b[1;33m.\u001b[0m\u001b[0madd_nodes_from\u001b[0m\u001b[1;33m(\u001b[0m\u001b[0mother_docgraph\u001b[0m\u001b[1;33m.\u001b[0m\u001b[0mnodes\u001b[0m\u001b[1;33m(\u001b[0m\u001b[0mdata\u001b[0m\u001b[1;33m=\u001b[0m\u001b[0mTrue\u001b[0m\u001b[1;33m)\u001b[0m\u001b[1;33m)\u001b[0m\u001b[1;33m\u001b[0m\u001b[0m\n\u001b[0;32m    559\u001b[0m \u001b[1;33m\u001b[0m\u001b[0m\n",
        "\u001b[1;32m/usr/local/lib/python2.7/dist-packages/discoursegraphs-0.1.2-py2.7.egg/discoursegraphs/discoursegraph.pyc\u001b[0m in \u001b[0;36mrename_tokens\u001b[1;34m(docgraph_with_old_names, docgraph_with_new_names, verbose)\u001b[0m\n\u001b[0;32m    603\u001b[0m     \"\"\"\n\u001b[0;32m    604\u001b[0m     old2new = create_token_mapping(docgraph_with_old_names,\n\u001b[1;32m--> 605\u001b[1;33m                                    docgraph_with_new_names, verbose=verbose)\n\u001b[0m\u001b[0;32m    606\u001b[0m     \u001b[0mrelabel_nodes\u001b[0m\u001b[1;33m(\u001b[0m\u001b[0mdocgraph_with_old_names\u001b[0m\u001b[1;33m,\u001b[0m \u001b[0mold2new\u001b[0m\u001b[1;33m,\u001b[0m \u001b[0mcopy\u001b[0m\u001b[1;33m=\u001b[0m\u001b[0mFalse\u001b[0m\u001b[1;33m)\u001b[0m\u001b[1;33m\u001b[0m\u001b[0m\n\u001b[0;32m    607\u001b[0m     \u001b[0mnew_token_ids\u001b[0m \u001b[1;33m=\u001b[0m \u001b[0mold2new\u001b[0m\u001b[1;33m.\u001b[0m\u001b[0mvalues\u001b[0m\u001b[1;33m(\u001b[0m\u001b[1;33m)\u001b[0m\u001b[1;33m\u001b[0m\u001b[0m\n",
        "\u001b[1;32m/usr/local/lib/python2.7/dist-packages/discoursegraphs-0.1.2-py2.7.egg/discoursegraphs/discoursegraph.pyc\u001b[0m in \u001b[0;36mcreate_token_mapping\u001b[1;34m(docgraph_with_old_names, docgraph_with_new_names, verbose)\u001b[0m\n\u001b[0;32m    646\u001b[0m                     \u001b[0mdocgraph_with_new_names\u001b[0m\u001b[1;33m.\u001b[0m\u001b[0mname\u001b[0m\u001b[1;33m,\u001b[0m \u001b[0mdocgraph_with_new_names\u001b[0m\u001b[1;33m.\u001b[0m\u001b[0mns\u001b[0m\u001b[1;33m,\u001b[0m\u001b[1;33m\u001b[0m\u001b[0m\n\u001b[0;32m    647\u001b[0m                     \u001b[0mdocgraph_with_old_names\u001b[0m\u001b[1;33m.\u001b[0m\u001b[0mname\u001b[0m\u001b[1;33m,\u001b[0m \u001b[0mdocgraph_with_old_names\u001b[0m\u001b[1;33m.\u001b[0m\u001b[0mns\u001b[0m\u001b[1;33m,\u001b[0m\u001b[1;33m\u001b[0m\u001b[0m\n\u001b[1;32m--> 648\u001b[1;33m                     new_tok, old_tok).encode('utf-8'))\n\u001b[0m\u001b[0;32m    649\u001b[0m         \u001b[1;32melse\u001b[0m\u001b[1;33m:\u001b[0m\u001b[1;33m\u001b[0m\u001b[0m\n\u001b[0;32m    650\u001b[0m             \u001b[0mold2new\u001b[0m\u001b[1;33m[\u001b[0m\u001b[0mold_tok_id\u001b[0m\u001b[1;33m]\u001b[0m \u001b[1;33m=\u001b[0m \u001b[0mnew_tok_id\u001b[0m\u001b[1;33m\u001b[0m\u001b[0m\n",
        "\u001b[1;31mValueError\u001b[0m: Tokenization mismatch: wsj_1197.rs3 (rst) vs. wsj_1197.mrg (ptb)\n\tA != ``"
       ]
      }
     ],
     "prompt_number": 7
    },
    {
     "cell_type": "code",
     "collapsed": false,
     "input": [
      "import re\n",
      "import glob\n",
      "import sys\n",
      "\n",
      "WSJ_SUBDIR_REGEX = re.compile('wsj_(\\d{2})')\n",
      "WSJ_DOCID_REGEX = re.compile('wsj_(\\d{4})')\n",
      "\n",
      "for folder in ('TEST', 'TRAINING'):\n",
      "    for rst_file in glob.glob(os.path.join(RST_ROOT_DIR, folder, '*.rs3')):\n",
      "        print rst_file\n",
      "        try:\n",
      "            rdg = dg.read_rs3(rst_file)\n",
      "            rst_fname = os.path.basename(rst_file).lower()\n",
      "            try:\n",
      "                doc_id = WSJ_DOCID_REGEX.match(rst_fname).groups()[0]\n",
      "                wsj_subdir = WSJ_SUBDIR_REGEX.match(rst_fname).groups()[0]\n",
      "\n",
      "                ptb_file = os.path.join(PTB_WSJ_ROOT_DIR, wsj_subdir, 'wsj_{}.mrg'.format(doc_id))\n",
      "                pdg = dg.read_ptb(ptb_file)\n",
      "                \n",
      "                rdg.merge_graphs(pdg)\n",
      "            except AttributeError as e:\n",
      "                sys.stderr.write(\"Error in {}: {}\\n\".format(rst_file, e))\n",
      "            except ValueError as e:\n",
      "                sys.stderr.write(\"Can't merge {}: {}\\n\".format(rst_file, e))\n",
      "        except KeyError as e:\n",
      "            sys.stderr.write(\"failed: {}\\n\".format(rst_file))"
     ],
     "language": "python",
     "metadata": {},
     "outputs": [
      {
       "output_type": "stream",
       "stream": "stderr",
       "text": [
        "Can't merge /home/arne/repos/rst_discourse_treebank_rs3/tokenized/TEST/wsj_1197.rs3: Tokenization mismatch: wsj_1197.rs3 (rst) vs. wsj_1197.mrg (ptb)\n",
        "\tA != ``\n",
        "Can't merge /home/arne/repos/rst_discourse_treebank_rs3/tokenized/TEST/wsj_0616.rs3: Tokenization mismatch: wsj_0616.rs3 (rst) vs. wsj_0616.mrg (ptb)\n",
        "\tBanco != As\n"
       ]
      },
      {
       "output_type": "stream",
       "stream": "stdout",
       "text": [
        "/home/arne/repos/rst_discourse_treebank_rs3/tokenized/TEST/wsj_1197.rs3\n",
        "/home/arne/repos/rst_discourse_treebank_rs3/tokenized/TEST/wsj_0616.rs3\n",
        "/home/arne/repos/rst_discourse_treebank_rs3/tokenized/TEST/wsj_1142.rs3"
       ]
      },
      {
       "output_type": "stream",
       "stream": "stdout",
       "text": [
        "\n",
        "/home/arne/repos/rst_discourse_treebank_rs3/tokenized/TEST/wsj_1126.rs3"
       ]
      },
      {
       "output_type": "stream",
       "stream": "stderr",
       "text": [
        "Can't merge /home/arne/repos/rst_discourse_treebank_rs3/tokenized/TEST/wsj_1142.rs3: Tokenization mismatch: wsj_1142.rs3 (rst) vs. wsj_1142.mrg (ptb)\n",
        "\tthe != After\n",
        "Can't merge /home/arne/repos/rst_discourse_treebank_rs3/tokenized/TEST/wsj_1126.rs3: Tokenization mismatch: wsj_1126.rs3 (rst) vs. wsj_1126.mrg (ptb)\n",
        "\tthat != Sheraton\n",
        "Can't merge /home/arne/repos/rst_discourse_treebank_rs3/tokenized/TEST/wsj_1346.rs3: Tokenization mismatch: wsj_1346.rs3 (rst) vs. wsj_1346.mrg (ptb)\n",
        "\tsubstantial != ``\n"
       ]
      },
      {
       "output_type": "stream",
       "stream": "stdout",
       "text": [
        "\n",
        "/home/arne/repos/rst_discourse_treebank_rs3/tokenized/TEST/wsj_1346.rs3\n",
        "/home/arne/repos/rst_discourse_treebank_rs3/tokenized/TEST/wsj_0689.rs3"
       ]
      },
      {
       "output_type": "stream",
       "stream": "stdout",
       "text": [
        "\n",
        "/home/arne/repos/rst_discourse_treebank_rs3/tokenized/TEST/wsj_2354.rs3"
       ]
      },
      {
       "output_type": "stream",
       "stream": "stderr",
       "text": [
        "Can't merge /home/arne/repos/rst_discourse_treebank_rs3/tokenized/TEST/wsj_0689.rs3: Tokenization mismatch: wsj_0689.rs3 (rst) vs. wsj_0689.mrg (ptb)\n",
        "\ta != With\n",
        "Can't merge /home/arne/repos/rst_discourse_treebank_rs3/tokenized/TEST/wsj_2354.rs3: Tokenization mismatch: wsj_2354.rs3 (rst) vs. wsj_2354.mrg (ptb)\n",
        "\twe != ``\n",
        "Can't merge /home/arne/repos/rst_discourse_treebank_rs3/tokenized/TEST/wsj_0627.rs3: Tokenization mismatch: wsj_0627.rs3 (rst) vs. wsj_0627.mrg (ptb)\n",
        "\tBut != On\n"
       ]
      },
      {
       "output_type": "stream",
       "stream": "stdout",
       "text": [
        "\n",
        "/home/arne/repos/rst_discourse_treebank_rs3/tokenized/TEST/wsj_0627.rs3\n",
        "/home/arne/repos/rst_discourse_treebank_rs3/tokenized/TEST/wsj_0667.rs3"
       ]
      },
      {
       "output_type": "stream",
       "stream": "stdout",
       "text": [
        "\n",
        "/home/arne/repos/rst_discourse_treebank_rs3/tokenized/TEST/wsj_1183.rs3\n",
        "/home/arne/repos/rst_discourse_treebank_rs3/tokenized/TEST/wsj_2375.rs3"
       ]
      },
      {
       "output_type": "stream",
       "stream": "stderr",
       "text": [
        "failed: /home/arne/repos/rst_discourse_treebank_rs3/tokenized/TEST/wsj_0667.rs3\n",
        "Can't merge /home/arne/repos/rst_discourse_treebank_rs3/tokenized/TEST/wsj_1183.rs3: Tokenization mismatch: wsj_1183.rs3 (rst) vs. wsj_1183.mrg (ptb)\n",
        "\tit != ALBERTA\n",
        "Can't merge /home/arne/repos/rst_discourse_treebank_rs3/tokenized/TEST/wsj_2375.rs3: Tokenization mismatch: wsj_2375.rs3 (rst) vs. wsj_2375.mrg (ptb)\n",
        "\tthat != New\n",
        "Can't merge /home/arne/repos/rst_discourse_treebank_rs3/tokenized/TEST/wsj_1169.rs3: Tokenization mismatch: wsj_1169.rs3 (rst) vs. wsj_1169.mrg (ptb)\n",
        "\tit != The\n",
        "Can't merge /home/arne/repos/rst_discourse_treebank_rs3/tokenized/TEST/wsj_2373.rs3: Tokenization mismatch: wsj_2373.rs3 (rst) vs. wsj_2373.mrg (ptb)\n",
        "\t-LCB- != -LRB-\n",
        "Can't merge /home/arne/repos/rst_discourse_treebank_rs3/tokenized/TEST/wsj_1306.rs3: Tokenization mismatch: wsj_1306.rs3 (rst) vs. wsj_1306.mrg (ptb)\n",
        "\tthat != Last\n"
       ]
      },
      {
       "output_type": "stream",
       "stream": "stdout",
       "text": [
        "\n",
        "/home/arne/repos/rst_discourse_treebank_rs3/tokenized/TEST/wsj_1169.rs3\n",
        "/home/arne/repos/rst_discourse_treebank_rs3/tokenized/TEST/wsj_2373.rs3\n",
        "/home/arne/repos/rst_discourse_treebank_rs3/tokenized/TEST/wsj_1306.rs3\n",
        "/home/arne/repos/rst_discourse_treebank_rs3/tokenized/TEST/wsj_1189.rs3"
       ]
      },
      {
       "output_type": "stream",
       "stream": "stdout",
       "text": [
        "\n",
        "/home/arne/repos/rst_discourse_treebank_rs3/tokenized/TEST/wsj_1331.rs3"
       ]
      },
      {
       "output_type": "stream",
       "stream": "stderr",
       "text": [
        "Can't merge /home/arne/repos/rst_discourse_treebank_rs3/tokenized/TEST/wsj_1189.rs3: Tokenization mismatch: wsj_1189.rs3 (rst) vs. wsj_1189.mrg (ptb)\n",
        "\twhy != and\n",
        "Can't merge /home/arne/repos/rst_discourse_treebank_rs3/tokenized/TEST/wsj_1331.rs3: Tokenization mismatch: wsj_1331.rs3 (rst) vs. wsj_1331.mrg (ptb)\n",
        "\tthat != when\n"
       ]
      },
      {
       "output_type": "stream",
       "stream": "stdout",
       "text": [
        "\n",
        "/home/arne/repos/rst_discourse_treebank_rs3/tokenized/TEST/wsj_1387.rs3"
       ]
      },
      {
       "output_type": "stream",
       "stream": "stdout",
       "text": [
        "\n",
        "/home/arne/repos/rst_discourse_treebank_rs3/tokenized/TEST/wsj_1113.rs3"
       ]
      },
      {
       "output_type": "stream",
       "stream": "stderr",
       "text": [
        "Can't merge /home/arne/repos/rst_discourse_treebank_rs3/tokenized/TEST/wsj_1387.rs3: Tokenization mismatch: wsj_1387.rs3 (rst) vs. wsj_1387.mrg (ptb)\n",
        "\tBut != Yet\n",
        "Can't merge /home/arne/repos/rst_discourse_treebank_rs3/tokenized/TEST/wsj_1113.rs3: Tokenization mismatch: wsj_1113.rs3 (rst) vs. wsj_1113.mrg (ptb)\n",
        "\tit != Falcon\n",
        "failed: /home/arne/repos/rst_discourse_treebank_rs3/tokenized/TEST/wsj_1129.rs3\n",
        "Can't merge /home/arne/repos/rst_discourse_treebank_rs3/tokenized/TEST/wsj_0644.rs3: Tokenization mismatch: wsj_0644.rs3 (rst) vs. wsj_0644.mrg (ptb)\n",
        "\tbut != who\n",
        "Can't merge /home/arne/repos/rst_discourse_treebank_rs3/tokenized/TEST/wsj_1325.rs3: Tokenization mismatch: wsj_1325.rs3 (rst) vs. wsj_1325.mrg (ptb)\n",
        "\tits != Dana\n",
        "Can't merge /home/arne/repos/rst_discourse_treebank_rs3/tokenized/TEST/wsj_1307.rs3: Tokenization mismatch: wsj_1307.rs3 (rst) vs. wsj_1307.mrg (ptb)\n",
        "\thighly != ``\n"
       ]
      },
      {
       "output_type": "stream",
       "stream": "stdout",
       "text": [
        "\n",
        "/home/arne/repos/rst_discourse_treebank_rs3/tokenized/TEST/wsj_1129.rs3\n",
        "/home/arne/repos/rst_discourse_treebank_rs3/tokenized/TEST/wsj_0644.rs3\n",
        "/home/arne/repos/rst_discourse_treebank_rs3/tokenized/TEST/wsj_1325.rs3\n",
        "/home/arne/repos/rst_discourse_treebank_rs3/tokenized/TEST/wsj_1307.rs3\n",
        "/home/arne/repos/rst_discourse_treebank_rs3/tokenized/TEST/wsj_0654.rs3"
       ]
      },
      {
       "output_type": "stream",
       "stream": "stdout",
       "text": [
        "\n",
        "/home/arne/repos/rst_discourse_treebank_rs3/tokenized/TEST/wsj_0684.rs3\n",
        "/home/arne/repos/rst_discourse_treebank_rs3/tokenized/TEST/wsj_2336.rs3\n",
        "/home/arne/repos/rst_discourse_treebank_rs3/tokenized/TEST/wsj_1354.rs3\n",
        "/home/arne/repos/rst_discourse_treebank_rs3/tokenized/TEST/wsj_0607.rs3\n",
        "/home/arne/repos/rst_discourse_treebank_rs3/tokenized/TEST/wsj_0632.rs3"
       ]
      },
      {
       "output_type": "stream",
       "stream": "stderr",
       "text": [
        "Can't merge /home/arne/repos/rst_discourse_treebank_rs3/tokenized/TEST/wsj_0654.rs3: Tokenization mismatch: wsj_0654.rs3 (rst) vs. wsj_0654.mrg (ptb)\n",
        "\tour != ``\n",
        "failed: /home/arne/repos/rst_discourse_treebank_rs3/tokenized/TEST/wsj_0684.rs3\n",
        "Can't merge /home/arne/repos/rst_discourse_treebank_rs3/tokenized/TEST/wsj_2336.rs3: Tokenization mismatch: wsj_2336.rs3 (rst) vs. wsj_2336.mrg (ptb)\n",
        "\t. != was\n",
        "Can't merge /home/arne/repos/rst_discourse_treebank_rs3/tokenized/TEST/wsj_1354.rs3: Tokenization mismatch: wsj_1354.rs3 (rst) vs. wsj_1354.mrg (ptb)\n",
        "\tcomfortable != ``\n",
        "Can't merge /home/arne/repos/rst_discourse_treebank_rs3/tokenized/TEST/wsj_0607.rs3: Tokenization mismatch: wsj_0607.rs3 (rst) vs. wsj_0607.mrg (ptb)\n",
        "\tNasdaq/National != Nasdaq\\/National\n",
        "Can't merge /home/arne/repos/rst_discourse_treebank_rs3/tokenized/TEST/wsj_0632.rs3: Tokenization mismatch: wsj_0632.rs3 (rst) vs. wsj_0632.mrg (ptb)\n",
        "\tthat != and\n"
       ]
      },
      {
       "output_type": "stream",
       "stream": "stdout",
       "text": [
        "\n",
        "/home/arne/repos/rst_discourse_treebank_rs3/tokenized/TEST/wsj_1146.rs3"
       ]
      },
      {
       "output_type": "stream",
       "stream": "stdout",
       "text": [
        "\n",
        "/home/arne/repos/rst_discourse_treebank_rs3/tokenized/TEST/wsj_1380.rs3"
       ]
      },
      {
       "output_type": "stream",
       "stream": "stderr",
       "text": [
        "Can't merge /home/arne/repos/rst_discourse_treebank_rs3/tokenized/TEST/wsj_1146.rs3: Tokenization mismatch: wsj_1146.rs3 (rst) vs. wsj_1146.mrg (ptb)\n",
        "\tOnce != The\n",
        "Can't merge /home/arne/repos/rst_discourse_treebank_rs3/tokenized/TEST/wsj_1380.rs3: Tokenization mismatch: wsj_1380.rs3 (rst) vs. wsj_1380.mrg (ptb)\n",
        "\tCo. != Co\n",
        "Can't merge /home/arne/repos/rst_discourse_treebank_rs3/tokenized/TEST/wsj_0655.rs3: Tokenization mismatch: wsj_0655.rs3 (rst) vs. wsj_0655.mrg (ptb)\n",
        "\tthat != ``\n"
       ]
      },
      {
       "output_type": "stream",
       "stream": "stdout",
       "text": [
        "\n",
        "/home/arne/repos/rst_discourse_treebank_rs3/tokenized/TEST/wsj_0655.rs3\n",
        "/home/arne/repos/rst_discourse_treebank_rs3/tokenized/TEST/wsj_1148.rs3"
       ]
      },
      {
       "output_type": "stream",
       "stream": "stderr",
       "text": [
        "Can't merge /home/arne/repos/rst_discourse_treebank_rs3/tokenized/TEST/wsj_1148.rs3: Tokenization mismatch: wsj_1148.rs3 (rst) vs. wsj_1148.mrg (ptb)\n",
        "\tMobil != This\n",
        "Can't merge /home/arne/repos/rst_discourse_treebank_rs3/tokenized/TEST/wsj_2386.rs3: Tokenization mismatch: wsj_2386.rs3 (rst) vs. wsj_2386.mrg (ptb)\n",
        "\tthey != and\n"
       ]
      },
      {
       "output_type": "stream",
       "stream": "stdout",
       "text": [
        "\n",
        "/home/arne/repos/rst_discourse_treebank_rs3/tokenized/TEST/wsj_2386.rs3\n",
        "/home/arne/repos/rst_discourse_treebank_rs3/tokenized/TEST/wsj_0602.rs3"
       ]
      },
      {
       "output_type": "stream",
       "stream": "stdout",
       "text": [
        "\n",
        "/home/arne/repos/rst_discourse_treebank_rs3/tokenized/TEST/wsj_1376.rs3"
       ]
      },
      {
       "output_type": "stream",
       "stream": "stderr",
       "text": [
        "Can't merge /home/arne/repos/rst_discourse_treebank_rs3/tokenized/TEST/wsj_0602.rs3: Tokenization mismatch: wsj_0602.rs3 (rst) vs. wsj_0602.mrg (ptb)\n",
        "\t1/2 != 1\\/2\n",
        "Can't merge /home/arne/repos/rst_discourse_treebank_rs3/tokenized/TEST/wsj_1376.rs3: Tokenization mismatch: wsj_1376.rs3 (rst) vs. wsj_1376.mrg (ptb)\n",
        "\t-LCB- != -LRB-\n"
       ]
      },
      {
       "output_type": "stream",
       "stream": "stdout",
       "text": [
        "\n",
        "/home/arne/repos/rst_discourse_treebank_rs3/tokenized/TEST/wsj_2385.rs3"
       ]
      },
      {
       "output_type": "stream",
       "stream": "stdout",
       "text": [
        "\n",
        "/home/arne/repos/rst_discourse_treebank_rs3/tokenized/TEST/wsj_1365.rs3\n",
        "/home/arne/repos/rst_discourse_treebank_rs3/tokenized/TEST/wsj_0623.rs3"
       ]
      },
      {
       "output_type": "stream",
       "stream": "stderr",
       "text": [
        "Can't merge /home/arne/repos/rst_discourse_treebank_rs3/tokenized/TEST/wsj_2385.rs3: Tokenization mismatch: wsj_2385.rs3 (rst) vs. wsj_2385.mrg (ptb)\n",
        "\tInc. != Inc\n",
        "Can't merge /home/arne/repos/rst_discourse_treebank_rs3/tokenized/TEST/wsj_1365.rs3: Tokenization mismatch: wsj_1365.rs3 (rst) vs. wsj_1365.mrg (ptb)\n",
        "\tthe != ``\n",
        "Can't merge /home/arne/repos/rst_discourse_treebank_rs3/tokenized/TEST/wsj_0623.rs3: Tokenization mismatch: wsj_0623.rs3 (rst) vs. wsj_0623.mrg (ptb)\n",
        "\tconsider != The\n"
       ]
      },
      {
       "output_type": "stream",
       "stream": "stdout",
       "text": [
        "\n",
        "/home/arne/repos/rst_discourse_treebank_rs3/tokenized/TRAINING/wsj_1140.rs3\n",
        "/home/arne/repos/rst_discourse_treebank_rs3/tokenized/TRAINING/wsj_1397.rs3"
       ]
      },
      {
       "output_type": "stream",
       "stream": "stderr",
       "text": [
        "Can't merge /home/arne/repos/rst_discourse_treebank_rs3/tokenized/TRAINING/wsj_1140.rs3: Tokenization mismatch: wsj_1140.rs3 (rst) vs. wsj_1140.mrg (ptb)\n",
        "\tthe != As\n",
        "Can't merge /home/arne/repos/rst_discourse_treebank_rs3/tokenized/TRAINING/wsj_1397.rs3: Tokenization mismatch: wsj_1397.rs3 (rst) vs. wsj_1397.mrg (ptb)\n",
        "\tFavorite != ``\n"
       ]
      },
      {
       "output_type": "stream",
       "stream": "stdout",
       "text": [
        "\n",
        "/home/arne/repos/rst_discourse_treebank_rs3/tokenized/TRAINING/wsj_0675.rs3"
       ]
      },
      {
       "output_type": "stream",
       "stream": "stdout",
       "text": [
        "\n",
        "/home/arne/repos/rst_discourse_treebank_rs3/tokenized/TRAINING/wsj_1173.rs3"
       ]
      },
      {
       "output_type": "stream",
       "stream": "stderr",
       "text": [
        "Can't merge /home/arne/repos/rst_discourse_treebank_rs3/tokenized/TRAINING/wsj_0675.rs3: Tokenization mismatch: wsj_0675.rs3 (rst) vs. wsj_0675.mrg (ptb)\n",
        "\tBear != Bowing\n",
        "Can't merge /home/arne/repos/rst_discourse_treebank_rs3/tokenized/TRAINING/wsj_1173.rs3: Tokenization mismatch: wsj_1173.rs3 (rst) vs. wsj_1173.mrg (ptb)\n",
        "\t-LCB- != -LRB-\n",
        "Can't merge /home/arne/repos/rst_discourse_treebank_rs3/tokenized/TRAINING/wsj_0626.rs3: Tokenization mismatch: wsj_0626.rs3 (rst) vs. wsj_0626.mrg (ptb)\n",
        "\tit != American\n",
        "Can't merge /home/arne/repos/rst_discourse_treebank_rs3/tokenized/TRAINING/wsj_1348.rs3: Tokenization mismatch: wsj_1348.rs3 (rst) vs. wsj_1348.mrg (ptb)\n",
        "\tit != Meson\n",
        "Can't merge /home/arne/repos/rst_discourse_treebank_rs3/tokenized/TRAINING/wsj_1176.rs3: Tokenization mismatch: wsj_1176.rs3 (rst) vs. wsj_1176.mrg (ptb)\n",
        "\tDunkin' != Dunkin\n",
        "Can't merge /home/arne/repos/rst_discourse_treebank_rs3/tokenized/TRAINING/wsj_2366.rs3: Tokenization mismatch: wsj_2366.rs3 (rst) vs. wsj_2366.mrg (ptb)\n",
        "\tare != to\n"
       ]
      },
      {
       "output_type": "stream",
       "stream": "stdout",
       "text": [
        "\n",
        "/home/arne/repos/rst_discourse_treebank_rs3/tokenized/TRAINING/wsj_0626.rs3\n",
        "/home/arne/repos/rst_discourse_treebank_rs3/tokenized/TRAINING/wsj_1348.rs3\n",
        "/home/arne/repos/rst_discourse_treebank_rs3/tokenized/TRAINING/wsj_1176.rs3\n",
        "/home/arne/repos/rst_discourse_treebank_rs3/tokenized/TRAINING/wsj_2366.rs3\n",
        "/home/arne/repos/rst_discourse_treebank_rs3/tokenized/TRAINING/wsj_1976.rs3"
       ]
      },
      {
       "output_type": "stream",
       "stream": "stdout",
       "text": [
        "\n",
        "/home/arne/repos/rst_discourse_treebank_rs3/tokenized/TRAINING/WSJ_1384.rs3\n",
        "/home/arne/repos/rst_discourse_treebank_rs3/tokenized/TRAINING/wsj_2394.rs3\n",
        "/home/arne/repos/rst_discourse_treebank_rs3/tokenized/TRAINING/wsj_0653.rs3"
       ]
      },
      {
       "output_type": "stream",
       "stream": "stderr",
       "text": [
        "failed: /home/arne/repos/rst_discourse_treebank_rs3/tokenized/TRAINING/wsj_1976.rs3\n",
        "failed: /home/arne/repos/rst_discourse_treebank_rs3/tokenized/TRAINING/WSJ_1384.rs3\n",
        "Can't merge /home/arne/repos/rst_discourse_treebank_rs3/tokenized/TRAINING/wsj_2394.rs3: Tokenization mismatch: wsj_2394.rs3 (rst) vs. wsj_2394.mrg (ptb)\n",
        "\tit != Avis\n",
        "Can't merge /home/arne/repos/rst_discourse_treebank_rs3/tokenized/TRAINING/wsj_0653.rs3: Tokenization mismatch: wsj_0653.rs3 (rst) vs. wsj_0653.mrg (ptb)\n",
        "\tit != In\n"
       ]
      },
      {
       "output_type": "stream",
       "stream": "stderr",
       "text": [
        "failed: /home/arne/repos/rst_discourse_treebank_rs3/tokenized/TRAINING/wsj_1175.rs3\n",
        "Can't merge /home/arne/repos/rst_discourse_treebank_rs3/tokenized/TRAINING/wsj_2380.rs3: Tokenization mismatch: wsj_2380.rs3 (rst) vs. wsj_2380.mrg (ptb)\n",
        "\t1/2 != 1\\/2\n"
       ]
      },
      {
       "output_type": "stream",
       "stream": "stdout",
       "text": [
        "\n",
        "/home/arne/repos/rst_discourse_treebank_rs3/tokenized/TRAINING/wsj_1175.rs3\n",
        "/home/arne/repos/rst_discourse_treebank_rs3/tokenized/TRAINING/wsj_2380.rs3\n",
        "/home/arne/repos/rst_discourse_treebank_rs3/tokenized/TRAINING/wsj_0613.rs3"
       ]
      },
      {
       "output_type": "stream",
       "stream": "stderr",
       "text": [
        "Can't merge /home/arne/repos/rst_discourse_treebank_rs3/tokenized/TRAINING/wsj_0613.rs3: Tokenization mismatch: wsj_0613.rs3 (rst) vs. wsj_0613.mrg (ptb)\n",
        "\tto != ``\n",
        "Can't merge /home/arne/repos/rst_discourse_treebank_rs3/tokenized/TRAINING/wsj_2362.rs3: Tokenization mismatch: wsj_2362.rs3 (rst) vs. wsj_2362.mrg (ptb)\n",
        "\t-LCB- != -LRB-\n"
       ]
      },
      {
       "output_type": "stream",
       "stream": "stdout",
       "text": [
        "\n",
        "/home/arne/repos/rst_discourse_treebank_rs3/tokenized/TRAINING/wsj_2362.rs3\n",
        "/home/arne/repos/rst_discourse_treebank_rs3/tokenized/TRAINING/wsj_0691.rs3"
       ]
      },
      {
       "output_type": "stream",
       "stream": "stderr",
       "text": [
        "failed: /home/arne/repos/rst_discourse_treebank_rs3/tokenized/TRAINING/wsj_0691.rs3\n",
        "Can't merge /home/arne/repos/rst_discourse_treebank_rs3/tokenized/TRAINING/wsj_0672.rs3: Tokenization mismatch: wsj_0672.rs3 (rst) vs. wsj_0672.mrg (ptb)\n",
        "\tthe != If\n",
        "Can't merge /home/arne/repos/rst_discourse_treebank_rs3/tokenized/TRAINING/wsj_2365.rs3: Tokenization mismatch: wsj_2365.rs3 (rst) vs. wsj_2365.mrg (ptb)\n",
        "\tIt != ``\n"
       ]
      },
      {
       "output_type": "stream",
       "stream": "stdout",
       "text": [
        "\n",
        "/home/arne/repos/rst_discourse_treebank_rs3/tokenized/TRAINING/wsj_0672.rs3\n",
        "/home/arne/repos/rst_discourse_treebank_rs3/tokenized/TRAINING/wsj_2365.rs3\n",
        "/home/arne/repos/rst_discourse_treebank_rs3/tokenized/TRAINING/wsj_0612.rs3"
       ]
      },
      {
       "output_type": "stream",
       "stream": "stderr",
       "text": [
        "Can't merge /home/arne/repos/rst_discourse_treebank_rs3/tokenized/TRAINING/wsj_0612.rs3: Tokenization mismatch: wsj_0612.rs3 (rst) vs. wsj_0612.mrg (ptb)\n",
        "\t3/8 != 3\\/8\n",
        "Can't merge /home/arne/repos/rst_discourse_treebank_rs3/tokenized/TRAINING/wsj_2348.rs3: Tokenization mismatch: wsj_2348.rs3 (rst) vs. wsj_2348.mrg (ptb)\n",
        "\t. != since\n"
       ]
      },
      {
       "output_type": "stream",
       "stream": "stdout",
       "text": [
        "\n",
        "/home/arne/repos/rst_discourse_treebank_rs3/tokenized/TRAINING/wsj_2348.rs3\n",
        "/home/arne/repos/rst_discourse_treebank_rs3/tokenized/TRAINING/wsj_0600.rs3"
       ]
      },
      {
       "output_type": "stream",
       "stream": "stderr",
       "text": [
        "failed: /home/arne/repos/rst_discourse_treebank_rs3/tokenized/TRAINING/wsj_0600.rs3\n",
        "Can't merge /home/arne/repos/rst_discourse_treebank_rs3/tokenized/TRAINING/wsj_2344.rs3: Tokenization mismatch: wsj_2344.rs3 (rst) vs. wsj_2344.mrg (ptb)\n",
        "\tmade != ``\n",
        "Can't merge /home/arne/repos/rst_discourse_treebank_rs3/tokenized/TRAINING/wsj_0666.rs3: Tokenization mismatch: wsj_0666.rs3 (rst) vs. wsj_0666.mrg (ptb)\n",
        "\tPut != ``\n"
       ]
      },
      {
       "output_type": "stream",
       "stream": "stdout",
       "text": [
        "\n",
        "/home/arne/repos/rst_discourse_treebank_rs3/tokenized/TRAINING/wsj_2344.rs3\n",
        "/home/arne/repos/rst_discourse_treebank_rs3/tokenized/TRAINING/wsj_0666.rs3\n",
        "/home/arne/repos/rst_discourse_treebank_rs3/tokenized/TRAINING/wsj_1334.rs3"
       ]
      },
      {
       "output_type": "stream",
       "stream": "stdout",
       "text": [
        "\n",
        "/home/arne/repos/rst_discourse_treebank_rs3/tokenized/TRAINING/WSJ_1381.rs3\n",
        "/home/arne/repos/rst_discourse_treebank_rs3/tokenized/TRAINING/wsj_0685.rs3"
       ]
      },
      {
       "output_type": "stream",
       "stream": "stderr",
       "text": [
        "Can't merge /home/arne/repos/rst_discourse_treebank_rs3/tokenized/TRAINING/wsj_1334.rs3: Tokenization mismatch: wsj_1334.rs3 (rst) vs. wsj_1334.mrg (ptb)\n",
        "\tit != In\n",
        "Can't merge /home/arne/repos/rst_discourse_treebank_rs3/tokenized/TRAINING/WSJ_1381.rs3: Tokenization mismatch: WSJ_1381.rs3 (rst) vs. wsj_1381.mrg (ptb)\n",
        "\tthe != Although\n",
        "Can't merge /home/arne/repos/rst_discourse_treebank_rs3/tokenized/TRAINING/wsj_0685.rs3: Tokenization mismatch: wsj_0685.rs3 (rst) vs. wsj_0685.mrg (ptb)\n",
        "\tthe != CNW\n",
        "Can't merge /home/arne/repos/rst_discourse_treebank_rs3/tokenized/TRAINING/wsj_1184.rs3: Tokenization mismatch: wsj_1184.rs3 (rst) vs. wsj_1184.mrg (ptb)\n",
        "\tmisleading != ``\n"
       ]
      },
      {
       "output_type": "stream",
       "stream": "stdout",
       "text": [
        "\n",
        "/home/arne/repos/rst_discourse_treebank_rs3/tokenized/TRAINING/wsj_1184.rs3\n",
        "/home/arne/repos/rst_discourse_treebank_rs3/tokenized/TRAINING/wsj_2360.rs3"
       ]
      },
      {
       "output_type": "stream",
       "stream": "stdout",
       "text": [
        "\n",
        "/home/arne/repos/rst_discourse_treebank_rs3/tokenized/TRAINING/wsj_0656.rs3"
       ]
      },
      {
       "output_type": "stream",
       "stream": "stderr",
       "text": [
        "Can't merge /home/arne/repos/rst_discourse_treebank_rs3/tokenized/TRAINING/wsj_2360.rs3: Tokenization mismatch: wsj_2360.rs3 (rst) vs. wsj_2360.mrg (ptb)\n",
        "\tapparent != ``\n",
        "Can't merge /home/arne/repos/rst_discourse_treebank_rs3/tokenized/TRAINING/wsj_0656.rs3: Tokenization mismatch: wsj_0656.rs3 (rst) vs. wsj_0656.mrg (ptb)\n",
        "\the != Milton\n",
        "Can't merge /home/arne/repos/rst_discourse_treebank_rs3/tokenized/TRAINING/wsj_0629.rs3: Tokenization mismatch: wsj_0629.rs3 (rst) vs. wsj_0629.mrg (ptb)\n",
        "\tBut != In\n"
       ]
      },
      {
       "output_type": "stream",
       "stream": "stdout",
       "text": [
        "\n",
        "/home/arne/repos/rst_discourse_treebank_rs3/tokenized/TRAINING/wsj_0629.rs3\n",
        "/home/arne/repos/rst_discourse_treebank_rs3/tokenized/TRAINING/wsj_0652.rs3"
       ]
      },
      {
       "output_type": "stream",
       "stream": "stdout",
       "text": [
        "\n",
        "/home/arne/repos/rst_discourse_treebank_rs3/tokenized/TRAINING/wsj_1973.rs3\n",
        "/home/arne/repos/rst_discourse_treebank_rs3/tokenized/TRAINING/wsj_1924.rs3"
       ]
      },
      {
       "output_type": "stream",
       "stream": "stderr",
       "text": [
        "Can't merge /home/arne/repos/rst_discourse_treebank_rs3/tokenized/TRAINING/wsj_0652.rs3: Tokenization mismatch: wsj_0652.rs3 (rst) vs. wsj_0652.mrg (ptb)\n",
        "\ta != Wilfred\n",
        "Can't merge /home/arne/repos/rst_discourse_treebank_rs3/tokenized/TRAINING/wsj_1973.rs3: Tokenization mismatch: wsj_1973.rs3 (rst) vs. wsj_1973.mrg (ptb)\n",
        "\trevenue != The\n",
        "Can't merge /home/arne/repos/rst_discourse_treebank_rs3/tokenized/TRAINING/wsj_1924.rs3: Tokenization mismatch: wsj_1924.rs3 (rst) vs. wsj_1924.mrg (ptb)\n",
        "\tthe != The\n"
       ]
      },
      {
       "output_type": "stream",
       "stream": "stdout",
       "text": [
        "\n",
        "/home/arne/repos/rst_discourse_treebank_rs3/tokenized/TRAINING/file4.rs3"
       ]
      },
      {
       "output_type": "stream",
       "stream": "stderr",
       "text": [
        "Error in /home/arne/repos/rst_discourse_treebank_rs3/tokenized/TRAINING/file4.rs3: 'NoneType' object has no attribute 'groups'\n",
        "Can't merge /home/arne/repos/rst_discourse_treebank_rs3/tokenized/TRAINING/WSJ_1368.rs3: Tokenization mismatch: WSJ_1368.rs3 (rst) vs. wsj_1368.mrg (ptb)\n",
        "\tIt != ``\n"
       ]
      },
      {
       "output_type": "stream",
       "stream": "stdout",
       "text": [
        "\n",
        "/home/arne/repos/rst_discourse_treebank_rs3/tokenized/TRAINING/WSJ_1368.rs3\n",
        "/home/arne/repos/rst_discourse_treebank_rs3/tokenized/TRAINING/wsj_2309.rs3"
       ]
      },
      {
       "output_type": "stream",
       "stream": "stderr",
       "text": [
        "Can't merge /home/arne/repos/rst_discourse_treebank_rs3/tokenized/TRAINING/wsj_2309.rs3: Tokenization mismatch: wsj_2309.rs3 (rst) vs. wsj_2309.mrg (ptb)\n",
        "\t-LCB- != -LRB-\n",
        "Can't merge /home/arne/repos/rst_discourse_treebank_rs3/tokenized/TRAINING/wsj_1105.rs3: Tokenization mismatch: wsj_1105.rs3 (rst) vs. wsj_1105.mrg (ptb)\n",
        "\tits != Sears\n"
       ]
      },
      {
       "output_type": "stream",
       "stream": "stdout",
       "text": [
        "\n",
        "/home/arne/repos/rst_discourse_treebank_rs3/tokenized/TRAINING/wsj_1105.rs3\n",
        "/home/arne/repos/rst_discourse_treebank_rs3/tokenized/TRAINING/file2.rs3"
       ]
      },
      {
       "output_type": "stream",
       "stream": "stderr",
       "text": [
        "Error in /home/arne/repos/rst_discourse_treebank_rs3/tokenized/TRAINING/file2.rs3: 'NoneType' object has no attribute 'groups'\n",
        "Can't merge /home/arne/repos/rst_discourse_treebank_rs3/tokenized/TRAINING/wsj_1356.rs3: Tokenization mismatch: wsj_1356.rs3 (rst) vs. wsj_1356.mrg (ptb)\n",
        "\tits != A.H.\n",
        "Can't merge /home/arne/repos/rst_discourse_treebank_rs3/tokenized/TRAINING/wsj_2338.rs3: Tokenization mismatch: wsj_2338.rs3 (rst) vs. wsj_2338.mrg (ptb)\n",
        "\tit != The\n"
       ]
      },
      {
       "output_type": "stream",
       "stream": "stdout",
       "text": [
        "\n",
        "/home/arne/repos/rst_discourse_treebank_rs3/tokenized/TRAINING/wsj_1356.rs3\n",
        "/home/arne/repos/rst_discourse_treebank_rs3/tokenized/TRAINING/wsj_2338.rs3\n",
        "/home/arne/repos/rst_discourse_treebank_rs3/tokenized/TRAINING/wsj_1166.rs3"
       ]
      },
      {
       "output_type": "stream",
       "stream": "stdout",
       "text": [
        "\n",
        "/home/arne/repos/rst_discourse_treebank_rs3/tokenized/TRAINING/wsj_0683.rs3\n",
        "/home/arne/repos/rst_discourse_treebank_rs3/tokenized/TRAINING/wsj_2367.rs3"
       ]
      },
      {
       "output_type": "stream",
       "stream": "stderr",
       "text": [
        "Can't merge /home/arne/repos/rst_discourse_treebank_rs3/tokenized/TRAINING/wsj_1166.rs3: Tokenization mismatch: wsj_1166.rs3 (rst) vs. wsj_1166.mrg (ptb)\n",
        "\trates != ``\n",
        "Can't merge /home/arne/repos/rst_discourse_treebank_rs3/tokenized/TRAINING/wsj_0683.rs3: Tokenization mismatch: wsj_0683.rs3 (rst) vs. wsj_0683.mrg (ptb)\n",
        "\ttemperatures != and\n",
        "Can't merge /home/arne/repos/rst_discourse_treebank_rs3/tokenized/TRAINING/wsj_2367.rs3: Tokenization mismatch: wsj_2367.rs3 (rst) vs. wsj_2367.mrg (ptb)\n",
        "\tstands != rhymes\n"
       ]
      },
      {
       "output_type": "stream",
       "stream": "stdout",
       "text": [
        "\n",
        "/home/arne/repos/rst_discourse_treebank_rs3/tokenized/TRAINING/wsj_1198.rs3"
       ]
      },
      {
       "output_type": "stream",
       "stream": "stderr",
       "text": [
        "failed: /home/arne/repos/rst_discourse_treebank_rs3/tokenized/TRAINING/wsj_1198.rs3\n",
        "Can't merge /home/arne/repos/rst_discourse_treebank_rs3/tokenized/TRAINING/wsj_0698.rs3: Tokenization mismatch: wsj_0698.rs3 (rst) vs. wsj_0698.mrg (ptb)\n",
        "\tit != Appalachian\n",
        "Can't merge /home/arne/repos/rst_discourse_treebank_rs3/tokenized/TRAINING/WSJ_1385.rs3: Tokenization mismatch: WSJ_1385.rs3 (rst) vs. wsj_1385.mrg (ptb)\n",
        "\tit != The\n",
        "Can't merge /home/arne/repos/rst_discourse_treebank_rs3/tokenized/TRAINING/wsj_1389.rs3: Tokenization mismatch: wsj_1389.rs3 (rst) vs. wsj_1389.mrg (ptb)\n",
        "\tthe != if\n"
       ]
      },
      {
       "output_type": "stream",
       "stream": "stdout",
       "text": [
        "\n",
        "/home/arne/repos/rst_discourse_treebank_rs3/tokenized/TRAINING/wsj_0698.rs3\n",
        "/home/arne/repos/rst_discourse_treebank_rs3/tokenized/TRAINING/WSJ_1385.rs3\n",
        "/home/arne/repos/rst_discourse_treebank_rs3/tokenized/TRAINING/wsj_1389.rs3\n",
        "/home/arne/repos/rst_discourse_treebank_rs3/tokenized/TRAINING/wsj_2398.rs3"
       ]
      },
      {
       "output_type": "stream",
       "stream": "stdout",
       "text": [
        "\n",
        "/home/arne/repos/rst_discourse_treebank_rs3/tokenized/TRAINING/wsj_2315.rs3"
       ]
      },
      {
       "output_type": "stream",
       "stream": "stderr",
       "text": [
        "Can't merge /home/arne/repos/rst_discourse_treebank_rs3/tokenized/TRAINING/wsj_2398.rs3: Tokenization mismatch: wsj_2398.rs3 (rst) vs. wsj_2398.mrg (ptb)\n",
        "\tFor != ``\n",
        "Can't merge /home/arne/repos/rst_discourse_treebank_rs3/tokenized/TRAINING/wsj_2315.rs3: Tokenization mismatch: wsj_2315.rs3 (rst) vs. wsj_2315.mrg (ptb)\n",
        "\tRJR != The\n",
        "Can't merge /home/arne/repos/rst_discourse_treebank_rs3/tokenized/TRAINING/wsj_1395.rs3: Tokenization mismatch: wsj_1395.rs3 (rst) vs. wsj_1395.mrg (ptb)\n",
        "\tit != Harsco\n",
        "Can't merge /home/arne/repos/rst_discourse_treebank_rs3/tokenized/TRAINING/wsj_0663.rs3: Tokenization mismatch: wsj_0663.rs3 (rst) vs. wsj_0663.mrg (ptb)\n",
        "\t-LCB- != -LRB-\n"
       ]
      },
      {
       "output_type": "stream",
       "stream": "stdout",
       "text": [
        "\n",
        "/home/arne/repos/rst_discourse_treebank_rs3/tokenized/TRAINING/wsj_1395.rs3\n",
        "/home/arne/repos/rst_discourse_treebank_rs3/tokenized/TRAINING/wsj_0663.rs3\n",
        "/home/arne/repos/rst_discourse_treebank_rs3/tokenized/TRAINING/WSJ_1379.rs3"
       ]
      },
      {
       "output_type": "stream",
       "stream": "stdout",
       "text": [
        "\n",
        "/home/arne/repos/rst_discourse_treebank_rs3/tokenized/TRAINING/wsj_0657.rs3\n",
        "/home/arne/repos/rst_discourse_treebank_rs3/tokenized/TRAINING/wsj_2347.rs3"
       ]
      },
      {
       "output_type": "stream",
       "stream": "stderr",
       "text": [
        "Can't merge /home/arne/repos/rst_discourse_treebank_rs3/tokenized/TRAINING/WSJ_1379.rs3: Tokenization mismatch: WSJ_1379.rs3 (rst) vs. wsj_1379.mrg (ptb)\n",
        "\tThe != ``\n",
        "Can't merge /home/arne/repos/rst_discourse_treebank_rs3/tokenized/TRAINING/wsj_0657.rs3: Tokenization mismatch: wsj_0657.rs3 (rst) vs. wsj_0657.mrg (ptb)\n",
        "\t-LCB- != -LRB-\n",
        "Can't merge /home/arne/repos/rst_discourse_treebank_rs3/tokenized/TRAINING/wsj_2347.rs3: Tokenization mismatch: wsj_2347.rs3 (rst) vs. wsj_2347.mrg (ptb)\n",
        "\tEach != ``\n"
       ]
      },
      {
       "output_type": "stream",
       "stream": "stdout",
       "text": [
        "\n",
        "/home/arne/repos/rst_discourse_treebank_rs3/tokenized/TRAINING/wsj_1149.rs3"
       ]
      },
      {
       "output_type": "stream",
       "stream": "stdout",
       "text": [
        "\n",
        "/home/arne/repos/rst_discourse_treebank_rs3/tokenized/TRAINING/wsj_1333.rs3"
       ]
      },
      {
       "output_type": "stream",
       "stream": "stdout",
       "text": [
        "\n",
        "/home/arne/repos/rst_discourse_treebank_rs3/tokenized/TRAINING/wsj_0614.rs3\n"
       ]
      },
      {
       "output_type": "stream",
       "stream": "stderr",
       "text": [
        "Can't merge /home/arne/repos/rst_discourse_treebank_rs3/tokenized/TRAINING/wsj_1149.rs3: Tokenization mismatch: wsj_1149.rs3 (rst) vs. wsj_1149.mrg (ptb)\n",
        "\tmonster != ``\n",
        "Can't merge /home/arne/repos/rst_discourse_treebank_rs3/tokenized/TRAINING/wsj_1333.rs3: Tokenization mismatch: wsj_1333.rs3 (rst) vs. wsj_1333.mrg (ptb)\n",
        "\tfiscal != Varian\n"
       ]
      },
      {
       "ename": "StopIteration",
       "evalue": "",
       "output_type": "pyerr",
       "traceback": [
        "\u001b[1;31m---------------------------------------------------------------------------\u001b[0m\n\u001b[1;31mStopIteration\u001b[0m                             Traceback (most recent call last)",
        "\u001b[1;32m<ipython-input-35-4b8c616c1031>\u001b[0m in \u001b[0;36m<module>\u001b[1;34m()\u001b[0m\n\u001b[0;32m     19\u001b[0m                 \u001b[0mpdg\u001b[0m \u001b[1;33m=\u001b[0m \u001b[0mdg\u001b[0m\u001b[1;33m.\u001b[0m\u001b[0mread_ptb\u001b[0m\u001b[1;33m(\u001b[0m\u001b[0mptb_file\u001b[0m\u001b[1;33m)\u001b[0m\u001b[1;33m\u001b[0m\u001b[0m\n\u001b[0;32m     20\u001b[0m \u001b[1;33m\u001b[0m\u001b[0m\n\u001b[1;32m---> 21\u001b[1;33m                 \u001b[0mrdg\u001b[0m\u001b[1;33m.\u001b[0m\u001b[0mmerge_graphs\u001b[0m\u001b[1;33m(\u001b[0m\u001b[0mpdg\u001b[0m\u001b[1;33m)\u001b[0m\u001b[1;33m\u001b[0m\u001b[0m\n\u001b[0m\u001b[0;32m     22\u001b[0m             \u001b[1;32mexcept\u001b[0m \u001b[0mAttributeError\u001b[0m \u001b[1;32mas\u001b[0m \u001b[0me\u001b[0m\u001b[1;33m:\u001b[0m\u001b[1;33m\u001b[0m\u001b[0m\n\u001b[0;32m     23\u001b[0m                 \u001b[0msys\u001b[0m\u001b[1;33m.\u001b[0m\u001b[0mstderr\u001b[0m\u001b[1;33m.\u001b[0m\u001b[0mwrite\u001b[0m\u001b[1;33m(\u001b[0m\u001b[1;34m\"Error in {}: {}\\n\"\u001b[0m\u001b[1;33m.\u001b[0m\u001b[0mformat\u001b[0m\u001b[1;33m(\u001b[0m\u001b[0mrst_file\u001b[0m\u001b[1;33m,\u001b[0m \u001b[0me\u001b[0m\u001b[1;33m)\u001b[0m\u001b[1;33m)\u001b[0m\u001b[1;33m\u001b[0m\u001b[0m\n",
        "\u001b[1;32m/usr/local/lib/python2.7/dist-packages/discoursegraphs-0.1.2-py2.7.egg/discoursegraphs/discoursegraph.pyc\u001b[0m in \u001b[0;36mmerge_graphs\u001b[1;34m(self, other_docgraph, verbose)\u001b[0m\n\u001b[0;32m    555\u001b[0m         \"\"\"\n\u001b[0;32m    556\u001b[0m         \u001b[1;31m# renaming the tokens of the other graph to match this one\u001b[0m\u001b[1;33m\u001b[0m\u001b[1;33m\u001b[0m\u001b[0m\n\u001b[1;32m--> 557\u001b[1;33m         \u001b[0mrename_tokens\u001b[0m\u001b[1;33m(\u001b[0m\u001b[0mother_docgraph\u001b[0m\u001b[1;33m,\u001b[0m \u001b[0mself\u001b[0m\u001b[1;33m,\u001b[0m \u001b[0mverbose\u001b[0m\u001b[1;33m=\u001b[0m\u001b[0mverbose\u001b[0m\u001b[1;33m)\u001b[0m\u001b[1;33m\u001b[0m\u001b[0m\n\u001b[0m\u001b[0;32m    558\u001b[0m         \u001b[0mself\u001b[0m\u001b[1;33m.\u001b[0m\u001b[0madd_nodes_from\u001b[0m\u001b[1;33m(\u001b[0m\u001b[0mother_docgraph\u001b[0m\u001b[1;33m.\u001b[0m\u001b[0mnodes\u001b[0m\u001b[1;33m(\u001b[0m\u001b[0mdata\u001b[0m\u001b[1;33m=\u001b[0m\u001b[0mTrue\u001b[0m\u001b[1;33m)\u001b[0m\u001b[1;33m)\u001b[0m\u001b[1;33m\u001b[0m\u001b[0m\n\u001b[0;32m    559\u001b[0m \u001b[1;33m\u001b[0m\u001b[0m\n",
        "\u001b[1;32m/usr/local/lib/python2.7/dist-packages/discoursegraphs-0.1.2-py2.7.egg/discoursegraphs/discoursegraph.pyc\u001b[0m in \u001b[0;36mrename_tokens\u001b[1;34m(docgraph_with_old_names, docgraph_with_new_names, verbose)\u001b[0m\n\u001b[0;32m    603\u001b[0m     \"\"\"\n\u001b[0;32m    604\u001b[0m     old2new = create_token_mapping(docgraph_with_old_names,\n\u001b[1;32m--> 605\u001b[1;33m                                    docgraph_with_new_names, verbose=verbose)\n\u001b[0m\u001b[0;32m    606\u001b[0m     \u001b[0mrelabel_nodes\u001b[0m\u001b[1;33m(\u001b[0m\u001b[0mdocgraph_with_old_names\u001b[0m\u001b[1;33m,\u001b[0m \u001b[0mold2new\u001b[0m\u001b[1;33m,\u001b[0m \u001b[0mcopy\u001b[0m\u001b[1;33m=\u001b[0m\u001b[0mFalse\u001b[0m\u001b[1;33m)\u001b[0m\u001b[1;33m\u001b[0m\u001b[0m\n\u001b[0;32m    607\u001b[0m     \u001b[0mnew_token_ids\u001b[0m \u001b[1;33m=\u001b[0m \u001b[0mold2new\u001b[0m\u001b[1;33m.\u001b[0m\u001b[0mvalues\u001b[0m\u001b[1;33m(\u001b[0m\u001b[1;33m)\u001b[0m\u001b[1;33m\u001b[0m\u001b[0m\n",
        "\u001b[1;32m/usr/local/lib/python2.7/dist-packages/discoursegraphs-0.1.2-py2.7.egg/discoursegraphs/discoursegraph.pyc\u001b[0m in \u001b[0;36mcreate_token_mapping\u001b[1;34m(docgraph_with_old_names, docgraph_with_new_names, verbose)\u001b[0m\n\u001b[0;32m    639\u001b[0m     \u001b[0mold2new\u001b[0m \u001b[1;33m=\u001b[0m \u001b[1;33m{\u001b[0m\u001b[1;33m}\u001b[0m\u001b[1;33m\u001b[0m\u001b[0m\n\u001b[0;32m    640\u001b[0m     \u001b[1;32mfor\u001b[0m \u001b[0mi\u001b[0m\u001b[1;33m,\u001b[0m \u001b[1;33m(\u001b[0m\u001b[0mnew_tok_id\u001b[0m\u001b[1;33m,\u001b[0m \u001b[0mnew_tok\u001b[0m\u001b[1;33m)\u001b[0m \u001b[1;32min\u001b[0m \u001b[0menumerate\u001b[0m\u001b[1;33m(\u001b[0m\u001b[0mnew_token_gen\u001b[0m\u001b[1;33m)\u001b[0m\u001b[1;33m:\u001b[0m\u001b[1;33m\u001b[0m\u001b[0m\n\u001b[1;32m--> 641\u001b[1;33m         \u001b[0mold_tok_id\u001b[0m\u001b[1;33m,\u001b[0m \u001b[0mold_tok\u001b[0m \u001b[1;33m=\u001b[0m \u001b[0mold_token_gen\u001b[0m\u001b[1;33m.\u001b[0m\u001b[0mnext\u001b[0m\u001b[1;33m(\u001b[0m\u001b[1;33m)\u001b[0m\u001b[1;33m\u001b[0m\u001b[0m\n\u001b[0m\u001b[0;32m    642\u001b[0m         \u001b[1;32mif\u001b[0m \u001b[0mnew_tok\u001b[0m \u001b[1;33m!=\u001b[0m \u001b[0mold_tok\u001b[0m\u001b[1;33m:\u001b[0m  \u001b[1;31m# token mismatch\u001b[0m\u001b[1;33m\u001b[0m\u001b[0m\n\u001b[0;32m    643\u001b[0m             raise ValueError(\n",
        "\u001b[1;31mStopIteration\u001b[0m: "
       ]
      }
     ],
     "prompt_number": 35
    }
   ],
   "metadata": {}
  }
 ]
}