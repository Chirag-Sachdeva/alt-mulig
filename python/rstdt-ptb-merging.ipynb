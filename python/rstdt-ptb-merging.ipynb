{
 "metadata": {
  "name": "",
  "signature": "sha256:d4c793a3bd45eebed693f23b1640411073ac865233c1d5a4d1fb17afe7a38a69"
 },
 "nbformat": 3,
 "nbformat_minor": 0,
 "worksheets": [
  {
   "cells": [
    {
     "cell_type": "code",
     "collapsed": false,
     "input": [
      "import os\n",
      "import re\n",
      "import discoursegraphs as dg\n",
      "\n",
      "PTB_WSJ_ROOT_DIR = os.path.expanduser('~/corpora/pennTreebank/parsed/mrg/wsj')\n",
      "RST_ROOT_DIR = os.path.expanduser('~/repos/rst_discourse_treebank_rs3/tokenized/')\n",
      "\n",
      "RST_TEST_FILE = os.path.join(RST_ROOT_DIR, 'TEST', 'wsj_1197.rs3')\n",
      "PTB_WSJ_TEST_FILE = os.path.join(PTB_WSJ_ROOT_DIR, '11/wsj_1197.mrg')\n",
      "\n",
      "WSJ_SUBDIR_REGEX = re.compile('wsj_(\\d{2})')\n",
      "WSJ_DOCID_REGEX = re.compile('wsj_(\\d{4})')"
     ],
     "language": "python",
     "metadata": {},
     "outputs": [],
     "prompt_number": 1
    },
    {
     "cell_type": "code",
     "collapsed": false,
     "input": [
      "rdg = dg.read_rs3(RST_TEST_FILE)\n",
      "pdg = dg.read_ptb(PTB_WSJ_TEST_FILE)"
     ],
     "language": "python",
     "metadata": {},
     "outputs": [],
     "prompt_number": 2
    },
    {
     "cell_type": "code",
     "collapsed": false,
     "input": [
      "dg.get_text(pdg)"
     ],
     "language": "python",
     "metadata": {},
     "outputs": [
      {
       "metadata": {},
       "output_type": "pyout",
       "prompt_number": 3,
       "text": [
        "\"Homestake Mining Co. , San Francisco , blamed the continued slump in gold prices for an 83 % plunge in third-quarter net income to $ 2 million , or two cents a share , from $ 11.2 million , or 12 cents a share , a year earlier . Revenue rose 5 % to $ 110.4 million from $ 105.4 million . In New York Stock Exchange composite trading , Homestake closed at $ 15.25 , down 25 cents . `` A significant increase in gold sales to 248,279 ounces for the quarter from 188,726 in the third quarter of 1988 was more than offset by the continued decline in average gold price realization to $ 367 from $ 429 per ounce , '' the company said . For the nine months , the mining company posted a 40 % drop in profit to $ 30.1 million , or 31 cents a share , from $ 50.6 million , or 52 cents a share , on a 6 % rise in revenue to $ 323.2 million from $ 305.7 million .\""
       ]
      }
     ],
     "prompt_number": 3
    },
    {
     "cell_type": "code",
     "collapsed": false,
     "input": [
      "pdg = dg.read_ptb(PTB_WSJ_TEST_FILE, ignore_traces=False)"
     ],
     "language": "python",
     "metadata": {},
     "outputs": [],
     "prompt_number": 4
    },
    {
     "cell_type": "code",
     "collapsed": false,
     "input": [
      "dg.get_text(rdg)"
     ],
     "language": "python",
     "metadata": {},
     "outputs": [
      {
       "metadata": {},
       "output_type": "pyout",
       "prompt_number": 5,
       "text": [
        "u'Homestake Mining Co. , San Francisco , blamed the continued slump in gold prices for an 83 % plunge in third-quarter net income to $ 2 million , or two cents a share , from $ 11.2 million , or 12 cents a share , a year earlier . Revenue rose 5 % to $ 110.4 million from $ 105.4 million . In New York Stock Exchange composite trading , Homestake closed at $ 15.25 , down 25 cents . A significant increase in gold sales to 248,279 ounces for the quarter from 188,726 in the third quarter of 1988 was more than offset by the continued decline in average gold price realization to $ 367 from $ 429 per ounce , the company said . For the nine months , the mining company posted a 40 % drop in profit to $ 30.1 million , or 31 cents a share , from $ 50.6 million , or 52 cents a share , on a 6 % rise in revenue to $ 323.2 million from $ 305.7 million .'"
       ]
      }
     ],
     "prompt_number": 5
    },
    {
     "cell_type": "code",
     "collapsed": false,
     "input": [
      "# rdg.merge_graphs(pdg, verbose=False)"
     ],
     "language": "python",
     "metadata": {},
     "outputs": [],
     "prompt_number": 6
    },
    {
     "cell_type": "code",
     "collapsed": false,
     "input": [
      "\n",
      "# PTB_WSJ_ROOT_DIR = os.path.expanduser('~/corpora/pennTreebank/parsed/mrg/wsj')\n",
      "RST_ORIG_ROOT_DIR = os.path.expanduser('~/repos/rst_discourse_treebank_rs3/untokenized/')\n",
      "\n",
      "def fix_wsj_document(wsj_id):\n",
      "    assert isinstance(wsj_id, (str, int))\n",
      "    if isinstance(wsj_id, int):\n",
      "        wsj_id = str(wsj_id)\n",
      "\n",
      "    rst_subdirs = ('TEST', 'TRAINING')\n",
      "    for rst_subdir in rst_subdirs:\n",
      "        potential_filepath = os.path.join(RST_ORIG_ROOT_DIR, rst_subdir, 'wsj_{}.rs3').format(wsj_id)\n",
      "        if os.path.exists(potential_filepath):\n",
      "            rst_filepath = potential_filepath\n",
      "            break\n",
      "    if 'rst_filepath' not in locals():\n",
      "        raise IOError(\"There's no rs3 file with ID '{}'\".format(wsj_id))\n",
      "\n",
      "    ptb_subdir = wsj_id[:2]\n",
      "    ptb_filepath = os.path.join(PTB_WSJ_ROOT_DIR, ptb_subdir, 'wsj_{}.mrg').format(wsj_id)\n",
      "    assert os.path.exists(ptb_filepath)\n",
      "    return rst_filepath, ptb_filepath"
     ],
     "language": "python",
     "metadata": {},
     "outputs": [],
     "prompt_number": 11
    },
    {
     "cell_type": "heading",
     "level": 1,
     "metadata": {},
     "source": [
      "Mismatches between *.rs3 (RST-DT) and *.mrg (PTB)"
     ]
    },
    {
     "cell_type": "markdown",
     "metadata": {},
     "source": [
      "* after tokenizing the untokenized RST-DT rs3 files,  \n",
      "  some minor tokenization issues (e.g. missing quotation marks, escaping characters, bracket names ...) remain\n",
      "* **major issue**: RST segment order often doesn't match the order in PTB sentences"
     ]
    },
    {
     "cell_type": "code",
     "collapsed": false,
     "input": [
      "import re\n",
      "import glob\n",
      "import sys\n",
      "\n",
      "for folder in ('TEST', 'TRAINING'):\n",
      "    for rst_file in glob.glob(os.path.join(RST_ROOT_DIR, folder, '*.rs3')):\n",
      "        try:\n",
      "            rdg = dg.read_rs3(rst_file)\n",
      "            rst_fname = os.path.basename(rst_file).lower()\n",
      "            try:\n",
      "                doc_id = WSJ_DOCID_REGEX.match(rst_fname).groups()[0]\n",
      "                wsj_subdir = WSJ_SUBDIR_REGEX.match(rst_fname).groups()[0]\n",
      "\n",
      "                ptb_file = os.path.join(PTB_WSJ_ROOT_DIR, wsj_subdir, 'wsj_{}.mrg'.format(doc_id))\n",
      "                pdg = dg.read_ptb(ptb_file)\n",
      "                \n",
      "                rdg.merge_graphs(pdg)\n",
      "                print \"merged: {}\\n\".format(rst_file)\n",
      "            except AttributeError as e:\n",
      "                sys.stderr.write(\"Error in {}: {}\\n\".format(os.path.basename(rst_file), e))\n",
      "            except ValueError as e:\n",
      "#                 sys.stderr.write(\"Error in {}: {}\\n\".format(os.path.basename(rst_file), e))\n",
      "                print \"geany {} {}\\n\".format(*fix_wsj_document(doc_id))\n",
      "                try:\n",
      "                    rdg.merge_graphs(pdg, verbose=True)\n",
      "                except ValueError as e:\n",
      "                    print e\n",
      "                except StopIteration as e:\n",
      "                    print e\n",
      "                except IndexError as e:\n",
      "                    print e\n",
      "                    \n",
      "            except StopIteration as e:\n",
      "                sys.stderr.write(\"Error in {}: {}\\n\".format(os.path.basename(rst_file), e))\n",
      "\n",
      "        except KeyError as e:\n",
      "            sys.stderr.write(\"Error in {}: {}\\n\".format(os.path.basename(rst_file), e))"
     ],
     "language": "python",
     "metadata": {},
     "outputs": [
      {
       "output_type": "stream",
       "stream": "stdout",
       "text": [
        "geany /home/arne/repos/rst_discourse_treebank_rs3/untokenized/TEST/wsj_1148.rs3 /home/arne/corpora/pennTreebank/parsed/mrg/wsj/11/wsj_1148.mrg\n",
        "\n",
        "Tokenization mismatch:\n",
        "wsj_1148.mrg (Index: 101): in New Orleans and Denver . [[This]] would be a second round\n",
        "wsj_1148.rs3 (Index: 101): in New Orleans and Denver . [[Mobil]] 's latest move could signal\n",
        "\n",
        "geany /home/arne/repos/rst_discourse_treebank_rs3/untokenized/TEST/wsj_1387.rs3 /home/arne/corpora/pennTreebank/parsed/mrg/wsj/13/wsj_1387.mrg\n"
       ]
      },
      {
       "output_type": "stream",
       "stream": "stdout",
       "text": [
        "\n",
        "Tokenization mismatch:\n",
        "wsj_1387.mrg (Index: 0):  [[Yet]] another political scandal is racking\n",
        "wsj_1387.rs3 (Index: 0):  [[But]] this time it 's hurting\n",
        "\n",
        "geany /home/arne/repos/rst_discourse_treebank_rs3/untokenized/TEST/wsj_1169.rs3 /home/arne/corpora/pennTreebank/parsed/mrg/wsj/11/wsj_1169.mrg\n",
        "\n",
        "Tokenization mismatch:\n",
        "wsj_1169.mrg (Index: 20): parts , including ceramic condensers . [[The]] Tokyo maker of ceramic capacitors\n",
        "wsj_1169.rs3 (Index: 20): parts , including ceramic condensers . [[it]] purchased a plant in Plymouth\n",
        "\n",
        "geany /home/arne/repos/rst_discourse_treebank_rs3/untokenized/TEST/wsj_0644.rs3 /home/arne/corpora/pennTreebank/parsed/mrg/wsj/06/wsj_0644.mrg\n",
        "\n",
        "Tokenization mismatch:\n",
        "wsj_0644.mrg (Index: 40): Thomas A. Bullock , 66 , [[who]] is retiring as chairman but\n",
        "wsj_0644.rs3 (Index: 40): Thomas A. Bullock , 66 , [[but]] will continue as a director\n",
        "\n",
        "geany /home/arne/repos/rst_discourse_treebank_rs3/untokenized/TEST/wsj_1189.rs3 /home/arne/corpora/pennTreebank/parsed/mrg/wsj/11/wsj_1189.mrg\n"
       ]
      },
      {
       "output_type": "stream",
       "stream": "stdout",
       "text": [
        "\n",
        "Tokenization mismatch:\n",
        "wsj_1189.mrg (Index: 60): on the financial position of applicants [[and]] thus ca n't determine why\n",
        "wsj_1189.rs3 (Index: 60): on the financial position of applicants [[why]] blacks are rejected more often\n",
        "\n",
        "geany /home/arne/repos/rst_discourse_treebank_rs3/untokenized/TEST/wsj_1183.rs3 /home/arne/corpora/pennTreebank/parsed/mrg/wsj/11/wsj_1183.mrg\n",
        "\n",
        "Tokenization mismatch:\n",
        "wsj_1183.mrg (Index: 0):  [[ALBERTA]] ENERGY Co. , Calgary ,\n",
        "wsj_1183.rs3 (Index: 0):  [[it]] filed a preliminary prospectus for\n",
        "\n",
        "geany /home/arne/repos/rst_discourse_treebank_rs3/untokenized/TEST/wsj_1126.rs3 /home/arne/corpora/pennTreebank/parsed/mrg/wsj/11/wsj_1126.mrg\n"
       ]
      },
      {
       "output_type": "stream",
       "stream": "stdout",
       "text": [
        "\n",
        "Tokenization mismatch:\n",
        "wsj_1126.mrg (Index: 0):  [[Sheraton]] Corp. and Pan American World\n",
        "wsj_1126.rs3 (Index: 0):  [[that]] they and two Soviet partners\n",
        "\n",
        "geany /home/arne/repos/rst_discourse_treebank_rs3/untokenized/TEST/wsj_2385.rs3 /home/arne/corpora/pennTreebank/parsed/mrg/wsj/23/wsj_2385.mrg\n"
       ]
      },
      {
       "output_type": "stream",
       "stream": "stdout",
       "text": [
        "\n",
        "Tokenization mismatch:\n",
        "wsj_2385.mrg (Index: 84): common shares , via Salomon Brothers [[Inc]] . Baldwin Technology Co. --\n",
        "wsj_2385.rs3 (Index: 84): common shares , via Salomon Brothers [[Inc.]] . Baldwin Technology Co. --\n",
        "\n",
        "geany /home/arne/repos/rst_discourse_treebank_rs3/untokenized/TEST/wsj_1365.rs3 /home/arne/corpora/pennTreebank/parsed/mrg/wsj/13/wsj_1365.mrg\n"
       ]
      },
      {
       "output_type": "stream",
       "stream": "stdout",
       "text": [
        "\n",
        "Tokenization mismatch:\n",
        "wsj_1365.mrg (Index: 42): requirements that federal prosecutors avoid disrupting [[``]] the normal business functions ''\n",
        "wsj_1365.rs3 (Index: 42): requirements that federal prosecutors avoid disrupting [[the]] normal business functions of companies\n",
        "\n",
        "geany /home/arne/repos/rst_discourse_treebank_rs3/untokenized/TEST/wsj_0689.rs3 /home/arne/corpora/pennTreebank/parsed/mrg/wsj/06/wsj_0689.mrg\n"
       ]
      },
      {
       "output_type": "stream",
       "stream": "stdout",
       "text": [
        "\n",
        "Tokenization mismatch:\n",
        "wsj_0689.mrg (Index: 24): return worth getting excited about . [[With]] $ 150 billion of CDs\n",
        "wsj_0689.rs3 (Index: 24): return worth getting excited about . [[a]] lot of people have been\n",
        "\n",
        "geany /home/arne/repos/rst_discourse_treebank_rs3/untokenized/TEST/wsj_1307.rs3 /home/arne/corpora/pennTreebank/parsed/mrg/wsj/13/wsj_1307.mrg\n"
       ]
      },
      {
       "output_type": "stream",
       "stream": "stdout",
       "text": [
        "\n",
        "Tokenization mismatch:\n",
        "wsj_1307.mrg (Index: 77): assassination . With due respect to [[``]] highly classified correspondence '' and\n",
        "wsj_1307.rs3 (Index: 77): assassination . With due respect to [[highly]] classified correspondence and other buzzwords\n",
        "\n",
        "geany /home/arne/repos/rst_discourse_treebank_rs3/untokenized/TEST/wsj_0627.rs3 /home/arne/corpora/pennTreebank/parsed/mrg/wsj/06/wsj_0627.mrg\n"
       ]
      },
      {
       "output_type": "stream",
       "stream": "stdout",
       "text": [
        "\n",
        "Tokenization mismatch:\n",
        "wsj_0627.mrg (Index: 14): to be the most confusing . [[On]] the surface , the overall\n",
        "wsj_0627.rs3 (Index: 14): to be the most confusing . [[But]] the actual head count of\n",
        "\n",
        "geany /home/arne/repos/rst_discourse_treebank_rs3/untokenized/TEST/wsj_0654.rs3 /home/arne/corpora/pennTreebank/parsed/mrg/wsj/06/wsj_0654.mrg\n",
        "\n",
        "Tokenization mismatch:\n",
        "wsj_0654.mrg (Index: 189): since the leveraged buy-out , but [[``]] our performance since the -LCB-\n",
        "wsj_0654.rs3 (Index: 189): since the leveraged buy-out , but [[our]] performance since the -LCB- buy-out\n",
        "\n",
        "geany /home/arne/repos/rst_discourse_treebank_rs3/untokenized/TEST/wsj_1346.rs3 /home/arne/corpora/pennTreebank/parsed/mrg/wsj/13/wsj_1346.mrg\n"
       ]
      },
      {
       "output_type": "stream",
       "stream": "stdout",
       "text": [
        "\n",
        "Tokenization mismatch:\n",
        "wsj_1346.mrg (Index: 119): month after the company projected a [[``]] substantial '' third-period loss ,\n",
        "wsj_1346.rs3 (Index: 119): month after the company projected a [[substantial]] third-period loss , the stock\n",
        "\n",
        "geany /home/arne/repos/rst_discourse_treebank_rs3/untokenized/TEST/wsj_1306.rs3 /home/arne/corpora/pennTreebank/parsed/mrg/wsj/13/wsj_1306.mrg\n"
       ]
      },
      {
       "output_type": "stream",
       "stream": "stdout",
       "text": [
        "\n",
        "Tokenization mismatch:\n",
        "wsj_1306.mrg (Index: 37): second setback for U.S. Memories . [[Last]] month , Apple Computer Inc.\n",
        "wsj_1306.rs3 (Index: 37): second setback for U.S. Memories . [[that]] it would n't invest in\n",
        "\n",
        "geany /home/arne/repos/rst_discourse_treebank_rs3/untokenized/TEST/wsj_1325.rs3 /home/arne/corpora/pennTreebank/parsed/mrg/wsj/13/wsj_1325.mrg\n",
        "\n",
        "Tokenization mismatch:\n",
        "wsj_1325.mrg (Index: 0):  [[Dana]] Corp. said its third-quarter net\n",
        "wsj_1325.rs3 (Index: 0):  [[its]] third-quarter net income fell 27\n",
        "\n",
        "geany /home/arne/repos/rst_discourse_treebank_rs3/untokenized/TEST/wsj_0602.rs3 /home/arne/corpora/pennTreebank/parsed/mrg/wsj/06/wsj_0602.mrg\n"
       ]
      },
      {
       "output_type": "stream",
       "stream": "stdout",
       "text": [
        "\n",
        "Tokenization mismatch:\n",
        "wsj_0602.mrg (Index: 33): transactions . PRIME RATE : 10 [[1\\/2]] % . The base rate\n",
        "wsj_0602.rs3 (Index: 33): transactions . PRIME RATE : 10 [[1/2]] % . The base rate\n",
        "\n",
        "geany /home/arne/repos/rst_discourse_treebank_rs3/untokenized/TEST/wsj_0607.rs3 /home/arne/corpora/pennTreebank/parsed/mrg/wsj/06/wsj_0607.mrg\n",
        "\n",
        "Tokenization mismatch:\n",
        "wsj_0607.mrg (Index: 19): and one began trading on the [[Nasdaq\\/National]] Market System last week .\n",
        "wsj_0607.rs3 (Index: 19): and one began trading on the [[Nasdaq/National]] Market System last week .\n",
        "\n",
        "geany /home/arne/repos/rst_discourse_treebank_rs3/untokenized/TEST/wsj_1376.rs3 /home/arne/corpora/pennTreebank/parsed/mrg/wsj/13/wsj_1376.mrg\n"
       ]
      },
      {
       "output_type": "stream",
       "stream": "stdout",
       "text": [
        "\n",
        "Tokenization mismatch:\n",
        "wsj_1376.mrg (Index: 52): ring as big as the Ritz [[-LRB-]] `` my day diamond ,\n",
        "wsj_1376.rs3 (Index: 52): ring as big as the Ritz [[-LCB-]] my day diamond , darling\n",
        "\n",
        "geany /home/arne/repos/rst_discourse_treebank_rs3/untokenized/TEST/wsj_2373.rs3 /home/arne/corpora/pennTreebank/parsed/mrg/wsj/23/wsj_2373.mrg\n",
        "\n",
        "Tokenization mismatch:\n",
        "wsj_2373.mrg (Index: 14): piece on how long unemployment lasts [[-LRB-]] People Patterns , Sept. 20\n",
        "wsj_2373.rs3 (Index: 14): piece on how long unemployment lasts [[-LCB-]] People Patterns , Sept. 20\n",
        "\n",
        "geany /home/arne/repos/rst_discourse_treebank_rs3/untokenized/TEST/wsj_1142.rs3 /home/arne/corpora/pennTreebank/parsed/mrg/wsj/11/wsj_1142.mrg\n"
       ]
      },
      {
       "output_type": "stream",
       "stream": "stdout",
       "text": [
        "\n",
        "Tokenization mismatch:\n",
        "wsj_1142.mrg (Index: 65): behind in the subsequent rally . [[After]] plummeting 1.8 % at one\n",
        "wsj_1142.rs3 (Index: 65): behind in the subsequent rally . [[the]] composite rebounded a little ,\n",
        "\n",
        "geany /home/arne/repos/rst_discourse_treebank_rs3/untokenized/TEST/wsj_0655.rs3 /home/arne/corpora/pennTreebank/parsed/mrg/wsj/06/wsj_0655.mrg\n"
       ]
      },
      {
       "output_type": "stream",
       "stream": "stdout",
       "text": [
        "\n",
        "Tokenization mismatch:\n",
        "wsj_0655.mrg (Index: 58): here Saturday , saying only that [[``]] if there 's an all-out\n",
        "wsj_0655.rs3 (Index: 58): here Saturday , saying only that [[that]] 's going to change the\n",
        "\n",
        "geany /home/arne/repos/rst_discourse_treebank_rs3/untokenized/TEST/wsj_0616.rs3 /home/arne/corpora/pennTreebank/parsed/mrg/wsj/06/wsj_0616.mrg\n"
       ]
      },
      {
       "output_type": "stream",
       "stream": "stdout",
       "text": [
        "\n",
        "Tokenization mismatch:\n",
        "wsj_0616.mrg (Index: 0):  [[As]] competition heats up in Spain\n",
        "wsj_0616.rs3 (Index: 0):  [[Banco]] Exterior de Espana is seeking\n",
        "\n",
        "geany /home/arne/repos/rst_discourse_treebank_rs3/untokenized/TEST/wsj_1380.rs3 /home/arne/corpora/pennTreebank/parsed/mrg/wsj/13/wsj_1380.mrg\n",
        "\n",
        "Tokenization mismatch:\n",
        "wsj_1380.mrg (Index: 260): last month was Morgan Stanley & [[Co]] . Of Morgan Stanley 's\n",
        "wsj_1380.rs3 (Index: 260): last month was Morgan Stanley & [[Co.]] . Of Morgan Stanley 's\n",
        "\n",
        "geany /home/arne/repos/rst_discourse_treebank_rs3/untokenized/TEST/wsj_0632.rs3 /home/arne/corpora/pennTreebank/parsed/mrg/wsj/06/wsj_0632.mrg\n"
       ]
      },
      {
       "output_type": "stream",
       "stream": "stdout",
       "text": [
        "\n",
        "Tokenization mismatch:\n",
        "wsj_0632.mrg (Index: 77): similar go-ahead earlier in October , [[and]] on Friday , Jaguar announced\n",
        "wsj_0632.rs3 (Index: 77): similar go-ahead earlier in October , [[that]] the No. 2 U.S. auto\n",
        "\n",
        "geany /home/arne/repos/rst_discourse_treebank_rs3/untokenized/TEST/wsj_2375.rs3 /home/arne/corpora/pennTreebank/parsed/mrg/wsj/23/wsj_2375.mrg\n",
        "\n",
        "Tokenization mismatch:\n",
        "wsj_2375.mrg (Index: 76): holder of so-called junk bonds . [[New]] federal legislation requires that all\n",
        "wsj_2375.rs3 (Index: 76): holder of so-called junk bonds . [[that]] all thrifts divest themselves of\n",
        "\n",
        "geany /home/arne/repos/rst_discourse_treebank_rs3/untokenized/TEST/wsj_2336.rs3 /home/arne/corpora/pennTreebank/parsed/mrg/wsj/23/wsj_2336.mrg\n"
       ]
      },
      {
       "output_type": "stream",
       "stream": "stderr",
       "text": [
        "Error in wsj_0684.rs3: 'Node 130 is not in the graph'\n",
        "Error in wsj_0667.rs3: 'Node 409 is not in the graph'\n"
       ]
      },
      {
       "output_type": "stream",
       "stream": "stdout",
       "text": [
        "\n",
        "Tokenization mismatch:\n",
        "wsj_2336.mrg (Index: 27): U.S. patent held by Pharmacia Inc. [[was]] `` without merit . ''\n",
        "wsj_2336.rs3 (Index: 27): U.S. patent held by Pharmacia Inc. [[.]] was without merit . that\n",
        "\n",
        "geany /home/arne/repos/rst_discourse_treebank_rs3/untokenized/TEST/wsj_1146.rs3 /home/arne/corpora/pennTreebank/parsed/mrg/wsj/11/wsj_1146.mrg\n"
       ]
      },
      {
       "output_type": "stream",
       "stream": "stdout",
       "text": [
        "\n",
        "Tokenization mismatch:\n",
        "wsj_1146.mrg (Index: 0):  [[The]] Polish rat will eat well\n",
        "wsj_1146.rs3 (Index: 0):  [[Once]] again , the indomitable peasant\n",
        "\n",
        "geany /home/arne/repos/rst_discourse_treebank_rs3/untokenized/TEST/wsj_1197.rs3 /home/arne/corpora/pennTreebank/parsed/mrg/wsj/11/wsj_1197.mrg\n",
        "\n",
        "Tokenization mismatch:\n",
        "wsj_1197.mrg (Index: 80): 15.25 , down 25 cents . [[``]] A significant increase in gold\n",
        "wsj_1197.rs3 (Index: 80): 15.25 , down 25 cents . [[A]] significant increase in gold sales\n",
        "\n",
        "geany /home/arne/repos/rst_discourse_treebank_rs3/untokenized/TEST/wsj_2354.rs3 /home/arne/corpora/pennTreebank/parsed/mrg/wsj/23/wsj_2354.mrg\n"
       ]
      },
      {
       "output_type": "stream",
       "stream": "stdout",
       "text": [
        "\n",
        "Tokenization mismatch:\n",
        "wsj_2354.mrg (Index: 3): Call it the [[``]] we 're too broke to\n",
        "wsj_2354.rs3 (Index: 3): Call it the [[we]] 're too broke to fight\n",
        "\n",
        "geany /home/arne/repos/rst_discourse_treebank_rs3/untokenized/TEST/wsj_2386.rs3 /home/arne/corpora/pennTreebank/parsed/mrg/wsj/23/wsj_2386.mrg\n"
       ]
      },
      {
       "output_type": "stream",
       "stream": "stdout",
       "text": [
        "\n",
        "Tokenization mismatch:\n",
        "wsj_2386.mrg (Index: 22): to be taking a philosophical approach [[and]] said they were resigned to\n",
        "wsj_2386.rs3 (Index: 22): to be taking a philosophical approach [[they]] were resigned to riding out\n",
        "\n",
        "geany /home/arne/repos/rst_discourse_treebank_rs3/untokenized/TEST/wsj_1331.rs3 /home/arne/corpora/pennTreebank/parsed/mrg/wsj/13/wsj_1331.mrg\n"
       ]
      },
      {
       "output_type": "stream",
       "stream": "stdout",
       "text": [
        "\n",
        "Tokenization mismatch:\n",
        "wsj_1331.mrg (Index: 232): in a mistrial after four weeks [[when]] U.S. District Judge Mary Johnson\n",
        "wsj_1331.rs3 (Index: 232): in a mistrial after four weeks [[that]] a prosecutor improperly , but\n",
        "\n",
        "geany /home/arne/repos/rst_discourse_treebank_rs3/untokenized/TEST/wsj_1354.rs3 /home/arne/corpora/pennTreebank/parsed/mrg/wsj/13/wsj_1354.mrg\n",
        "\n",
        "Tokenization mismatch:\n",
        "wsj_1354.mrg (Index: 44): accessories supplier , said he was [[``]] comfortable '' with analysts '\n",
        "wsj_1354.rs3 (Index: 44): accessories supplier , said he was [[comfortable]] with analysts ' expectations that\n",
        "\n",
        "geany /home/arne/repos/rst_discourse_treebank_rs3/untokenized/TEST/wsj_1113.rs3 /home/arne/corpora/pennTreebank/parsed/mrg/wsj/11/wsj_1113.mrg\n",
        "\n",
        "Tokenization mismatch:\n",
        "wsj_1113.mrg (Index: 0):  [[Falcon]] Holding Group Inc. said it\n",
        "wsj_1113.rs3 (Index: 0):  [[it]] agreed to acquire about 54,000\n",
        "\n",
        "geany /home/arne/repos/rst_discourse_treebank_rs3/untokenized/TEST/wsj_0623.rs3 /home/arne/corpora/pennTreebank/parsed/mrg/wsj/06/wsj_0623.mrg\n"
       ]
      },
      {
       "output_type": "stream",
       "stream": "stdout",
       "text": [
        "\n",
        "Tokenization mismatch:\n",
        "wsj_0623.mrg (Index: 16): It was down a little . [[The]] next time you hear a\n",
        "wsj_0623.rs3 (Index: 16): It was down a little . [[consider]] what Congress did Friday .\n",
        "\n",
        "geany /home/arne/repos/rst_discourse_treebank_rs3/untokenized/TRAINING/wsj_0630.rs3 /home/arne/corpora/pennTreebank/parsed/mrg/wsj/06/wsj_0630.mrg\n",
        "\n",
        "Tokenization mismatch:\n",
        "wsj_0630.mrg (Index: 16): concern , said Friday that Bond [[Corp]] . Holdings Ltd. is ``\n",
        "wsj_0630.rs3 (Index: 16): concern , said Friday that Bond [[Corp.]] . Holdings Ltd. is committed\n",
        "\n",
        "geany /home/arne/repos/rst_discourse_treebank_rs3/untokenized/TRAINING/wsj_2321.rs3 /home/arne/corpora/pennTreebank/parsed/mrg/wsj/23/wsj_2321.mrg\n"
       ]
      },
      {
       "output_type": "stream",
       "stream": "stdout",
       "text": [
        "\n",
        "Tokenization mismatch:\n",
        "wsj_2321.mrg (Index: 0):  [[With]] economic tension between the U.S.\n",
        "wsj_2321.rs3 (Index: 0):  [[many]] Japanese had feared last week\n",
        "\n",
        "geany /home/arne/repos/rst_discourse_treebank_rs3/untokenized/TRAINING/wsj_2303.rs3 /home/arne/corpora/pennTreebank/parsed/mrg/wsj/23/wsj_2303.mrg\n"
       ]
      },
      {
       "output_type": "stream",
       "stream": "stdout",
       "text": [
        "\n",
        "Tokenization mismatch:\n",
        "wsj_2303.mrg (Index: 0):  [[A]] consortium of private investors operating\n",
        "wsj_2303.rs3 (Index: 0):  [[it]] has made a $ 409\n",
        "\n",
        "geany /home/arne/repos/rst_discourse_treebank_rs3/untokenized/TRAINING/wsj_1159.rs3 /home/arne/corpora/pennTreebank/parsed/mrg/wsj/11/wsj_1159.mrg\n"
       ]
      },
      {
       "output_type": "stream",
       "stream": "stdout",
       "text": [
        "\n",
        "Tokenization mismatch:\n",
        "wsj_1159.mrg (Index: 65): racketeering defendants prior to trial . [[But]] David Runkel , chief Justice\n",
        "wsj_1159.rs3 (Index: 65): racketeering defendants prior to trial . [[the]] guidelines are a codification and\n",
        "\n",
        "geany /home/arne/repos/rst_discourse_treebank_rs3/untokenized/TRAINING/wsj_0622.rs3 /home/arne/corpora/pennTreebank/parsed/mrg/wsj/06/wsj_0622.mrg\n",
        "\n",
        "Tokenization mismatch:\n",
        "wsj_0622.mrg (Index: 0):  [[The]] Treasury Department said the U.S.\n",
        "wsj_0622.rs3 (Index: 0):  [[the]] U.S. trade deficit may worsen\n",
        "\n",
        "geany /home/arne/repos/rst_discourse_treebank_rs3/untokenized/TRAINING/wsj_2309.rs3 /home/arne/corpora/pennTreebank/parsed/mrg/wsj/23/wsj_2309.mrg\n"
       ]
      },
      {
       "output_type": "stream",
       "stream": "stdout",
       "text": [
        "\n",
        "Tokenization mismatch:\n",
        "wsj_2309.mrg (Index: 23): more than one billion Canadian dollars [[-LRB-]] US$ 851 million -RRB- ,\n",
        "wsj_2309.rs3 (Index: 23): more than one billion Canadian dollars [[-LCB-]] US$ 851 million -RCB- ,\n",
        "\n"
       ]
      },
      {
       "output_type": "stream",
       "stream": "stderr",
       "text": [
        "Error in wsj_1129.rs3: 'Node 129 is not in the graph'\n"
       ]
      },
      {
       "ename": "IOError",
       "evalue": "There's no rs3 file with ID '1379'",
       "output_type": "pyerr",
       "traceback": [
        "\u001b[1;31m---------------------------------------------------------------------------\u001b[0m\n\u001b[1;31mIOError\u001b[0m                                   Traceback (most recent call last)",
        "\u001b[1;32m<ipython-input-12-eafe25ee41a7>\u001b[0m in \u001b[0;36m<module>\u001b[1;34m()\u001b[0m\n\u001b[0;32m     21\u001b[0m             \u001b[1;32mexcept\u001b[0m \u001b[0mValueError\u001b[0m \u001b[1;32mas\u001b[0m \u001b[0me\u001b[0m\u001b[1;33m:\u001b[0m\u001b[1;33m\u001b[0m\u001b[0m\n\u001b[0;32m     22\u001b[0m \u001b[1;31m#                 sys.stderr.write(\"Error in {}: {}\\n\".format(os.path.basename(rst_file), e))\u001b[0m\u001b[1;33m\u001b[0m\u001b[1;33m\u001b[0m\u001b[0m\n\u001b[1;32m---> 23\u001b[1;33m                 \u001b[1;32mprint\u001b[0m \u001b[1;34m\"geany {} {}\\n\"\u001b[0m\u001b[1;33m.\u001b[0m\u001b[0mformat\u001b[0m\u001b[1;33m(\u001b[0m\u001b[1;33m*\u001b[0m\u001b[0mfix_wsj_document\u001b[0m\u001b[1;33m(\u001b[0m\u001b[0mdoc_id\u001b[0m\u001b[1;33m)\u001b[0m\u001b[1;33m)\u001b[0m\u001b[1;33m\u001b[0m\u001b[0m\n\u001b[0m\u001b[0;32m     24\u001b[0m                 \u001b[1;32mtry\u001b[0m\u001b[1;33m:\u001b[0m\u001b[1;33m\u001b[0m\u001b[0m\n\u001b[0;32m     25\u001b[0m                     \u001b[0mrdg\u001b[0m\u001b[1;33m.\u001b[0m\u001b[0mmerge_graphs\u001b[0m\u001b[1;33m(\u001b[0m\u001b[0mpdg\u001b[0m\u001b[1;33m,\u001b[0m \u001b[0mverbose\u001b[0m\u001b[1;33m=\u001b[0m\u001b[0mTrue\u001b[0m\u001b[1;33m)\u001b[0m\u001b[1;33m\u001b[0m\u001b[0m\n",
        "\u001b[1;32m<ipython-input-11-967d55283cf1>\u001b[0m in \u001b[0;36mfix_wsj_document\u001b[1;34m(wsj_id)\u001b[0m\n\u001b[0;32m     15\u001b[0m             \u001b[1;32mbreak\u001b[0m\u001b[1;33m\u001b[0m\u001b[0m\n\u001b[0;32m     16\u001b[0m     \u001b[1;32mif\u001b[0m \u001b[1;34m'rst_filepath'\u001b[0m \u001b[1;32mnot\u001b[0m \u001b[1;32min\u001b[0m \u001b[0mlocals\u001b[0m\u001b[1;33m(\u001b[0m\u001b[1;33m)\u001b[0m\u001b[1;33m:\u001b[0m\u001b[1;33m\u001b[0m\u001b[0m\n\u001b[1;32m---> 17\u001b[1;33m         \u001b[1;32mraise\u001b[0m \u001b[0mIOError\u001b[0m\u001b[1;33m(\u001b[0m\u001b[1;34m\"There's no rs3 file with ID '{}'\"\u001b[0m\u001b[1;33m.\u001b[0m\u001b[0mformat\u001b[0m\u001b[1;33m(\u001b[0m\u001b[0mwsj_id\u001b[0m\u001b[1;33m)\u001b[0m\u001b[1;33m)\u001b[0m\u001b[1;33m\u001b[0m\u001b[0m\n\u001b[0m\u001b[0;32m     18\u001b[0m \u001b[1;33m\u001b[0m\u001b[0m\n\u001b[0;32m     19\u001b[0m     \u001b[0mptb_subdir\u001b[0m \u001b[1;33m=\u001b[0m \u001b[0mwsj_id\u001b[0m\u001b[1;33m[\u001b[0m\u001b[1;33m:\u001b[0m\u001b[1;36m2\u001b[0m\u001b[1;33m]\u001b[0m\u001b[1;33m\u001b[0m\u001b[0m\n",
        "\u001b[1;31mIOError\u001b[0m: There's no rs3 file with ID '1379'"
       ]
      }
     ],
     "prompt_number": 12
    },
    {
     "cell_type": "code",
     "collapsed": false,
     "input": [],
     "language": "python",
     "metadata": {},
     "outputs": [],
     "prompt_number": 8
    }
   ],
   "metadata": {}
  }
 ]
}