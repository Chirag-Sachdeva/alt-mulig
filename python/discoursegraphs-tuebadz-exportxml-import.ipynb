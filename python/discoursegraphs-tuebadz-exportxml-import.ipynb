{
 "metadata": {
  "name": "",
  "signature": "sha256:248aab7a8eeb126787204605314d9b63d7637ef5b7ac60d3fd2eac407ae25419"
 },
 "nbformat": 3,
 "nbformat_minor": 0,
 "worksheets": [
  {
   "cells": [
    {
     "cell_type": "markdown",
     "metadata": {},
     "source": [
      "# ongoing implementation of ExportXML importer (discoursegraphs branch: exportxml)"
     ]
    },
    {
     "cell_type": "code",
     "collapsed": false,
     "input": [
      "import os\n",
      "from lxml import etree\n",
      "import igraph as ig\n",
      "\n",
      "import discoursegraphs as dg\n",
      "\n",
      "TUEBADZ_FILE = os.path.expanduser(\n",
      "    '~/corpora/tueba/tuebadz-5.0/data/XML/tuebadz-5.0.anaphora.export.xml')"
     ],
     "language": "python",
     "metadata": {},
     "outputs": [
      {
       "output_type": "stream",
       "stream": "stdout",
       "text": [
        "Couldn't import dot_parser, loading of dot files will not be possible.\n"
       ]
      }
     ],
     "prompt_number": 4
    },
    {
     "cell_type": "heading",
     "level": 1,
     "metadata": {},
     "source": [
      "ExportXML format"
     ]
    },
    {
     "cell_type": "heading",
     "level": 2,
     "metadata": {},
     "source": [
      "example sentences"
     ]
    },
    {
     "cell_type": "code",
     "collapsed": false,
     "input": [
      "from collections import Counter\n",
      "\n",
      "tree = etree.parse(TUEBADZ_FILE)\n",
      "sentence_origins = Counter()\n",
      "\n",
      "sentences_iter = tree.iterfind('sentence')"
     ],
     "language": "python",
     "metadata": {},
     "outputs": [],
     "prompt_number": 5
    },
    {
     "cell_type": "code",
     "collapsed": false,
     "input": [
      "s0 = sentences_iter.next()"
     ],
     "language": "python",
     "metadata": {},
     "outputs": [],
     "prompt_number": 6
    },
    {
     "cell_type": "code",
     "collapsed": false,
     "input": [
      "print etree.tostring(s0)"
     ],
     "language": "python",
     "metadata": {},
     "outputs": [
      {
       "output_type": "stream",
       "stream": "stdout",
       "text": [
        "<sentence origin=\"T990507.2\" comment=\"%% HEADLINE\" date=\"2008020714:44:17\" editor=\"hschulz\">\n",
        "    <node cat=\"SIMPX\" parent=\"0\" comment=\"\" func=\"--\" id=\"s_1_n_506\">\n",
        "      <node cat=\"LK\" comment=\"\" func=\"-\" id=\"s_1_n_503\">\n",
        "        <node cat=\"VXFIN\" comment=\"\" func=\"HD\" id=\"s_1_n_500\">\n",
        "          <word comment=\"\" form=\"Veruntreute\" func=\"HD\" pos=\"VVFIN\" morph=\"3sit\" id=\"s_1_n_0\"/>\n",
        "        </node>\n",
        "      </node>\n",
        "      <node cat=\"MF\" comment=\"\" func=\"-\" id=\"s_1_n_505\">\n",
        "        <node cat=\"NX\" comment=\"\" func=\"ON\" id=\"s_1_n_504\">\n",
        "          <word comment=\"\" form=\"die\" func=\"-\" pos=\"ART\" morph=\"nsf\" id=\"s_1_n_1\"/>\n",
        "          <node cat=\"EN-ADD\" comment=\"\" func=\"HD\" id=\"s_1_n_501\">\n",
        "            <word comment=\"\" form=\"AWO\" func=\"-\" pos=\"NN\" morph=\"nsf\" id=\"s_1_n_2\"/>\n",
        "          </node>\n",
        "        </node>\n",
        "        <node cat=\"NX\" comment=\"\" func=\"OA\" id=\"s_1_n_502\">\n",
        "          <word comment=\"\" form=\"Spendengeld\" func=\"HD\" pos=\"NN\" morph=\"asn\" id=\"s_1_n_3\"/>\n",
        "        </node>\n",
        "      </node>\n",
        "    </node>\n",
        "    <word parent=\"0\" comment=\"\" form=\"?\" func=\"--\" pos=\"$.\" morph=\"--\" id=\"s_1_n_4\"/>\n",
        "  </sentence>\n",
        "  \n"
       ]
      }
     ],
     "prompt_number": 7
    },
    {
     "cell_type": "heading",
     "level": 2,
     "metadata": {},
     "source": [
      "ExportXML ``<element>`` counts"
     ]
    },
    {
     "cell_type": "code",
     "collapsed": false,
     "input": [
      "from collections import Counter\n",
      "\n",
      "element_count = Counter()\n",
      "\n",
      "for element in tree.iter():\n",
      "    element_count[element.tag] += 1\n",
      "\n",
      "element_count.most_common()"
     ],
     "language": "python",
     "metadata": {},
     "outputs": [
      {
       "metadata": {},
       "output_type": "pyout",
       "prompt_number": 8,
       "text": [
        "[('node', 947810),\n",
        " ('word', 794079),\n",
        " ('relation', 56273),\n",
        " ('anaphora', 56273),\n",
        " ('sentence', 45200),\n",
        " ('secedge', 4647),\n",
        " ('originDef', 2213),\n",
        " ('morphDef', 437),\n",
        " ('posDef', 56),\n",
        " ('edgeDef', 50),\n",
        " ('nodeDef', 29),\n",
        " ('editorDef', 26),\n",
        " ('secedgeDef', 7),\n",
        " ('comment', 6),\n",
        " ('posList', 1),\n",
        " ('secedgeList', 1),\n",
        " ('editorList', 1),\n",
        " ('edgeList', 1),\n",
        " ('originList', 1),\n",
        " ('format', 1),\n",
        " ('morphList', 1),\n",
        " ('nodeList', 1),\n",
        " ('export', 1)]"
       ]
      }
     ],
     "prompt_number": 8
    },
    {
     "cell_type": "heading",
     "level": 3,
     "metadata": {},
     "source": [
      "What about `<relation>` and `<anaphora>`?"
     ]
    },
    {
     "cell_type": "code",
     "collapsed": false,
     "input": [
      "from collections import Counter, defaultdict\n",
      "\n",
      "def count_element_positions(tree, element):\n",
      "    element_positions = defaultdict(Counter)\n",
      "\n",
      "    for elem_instance in tree.iter(element):\n",
      "        element_positions['parent'][elem_instance.getparent().tag] += 1\n",
      "        for child in elem_instance.getchildren():\n",
      "            element_positions['children'][child.tag] += 1\n",
      "    return element_positions"
     ],
     "language": "python",
     "metadata": {},
     "outputs": [],
     "prompt_number": 9
    },
    {
     "cell_type": "code",
     "collapsed": false,
     "input": [
      "count_element_positions(tree, 'relation')"
     ],
     "language": "python",
     "metadata": {},
     "outputs": [
      {
       "metadata": {},
       "output_type": "pyout",
       "prompt_number": 10,
       "text": [
        "defaultdict(<class 'collections.Counter'>, {'parent': Counter({'anaphora': 56273})})"
       ]
      }
     ],
     "prompt_number": 10
    },
    {
     "cell_type": "code",
     "collapsed": false,
     "input": [
      "count_element_positions(tree, 'anaphora')"
     ],
     "language": "python",
     "metadata": {},
     "outputs": [
      {
       "metadata": {},
       "output_type": "pyout",
       "prompt_number": 11,
       "text": [
        "defaultdict(<class 'collections.Counter'>, {'children': Counter({'relation': 56273}), 'parent': Counter({'node': 49713, 'word': 6560})})"
       ]
      }
     ],
     "prompt_number": 11
    },
    {
     "cell_type": "code",
     "collapsed": false,
     "input": [
      "anaphora_iter = tree.iter('anaphora')\n",
      "\n",
      "for i in range(3):\n",
      "    print etree.tostring(anaphora_iter.next())"
     ],
     "language": "python",
     "metadata": {},
     "outputs": [
      {
       "output_type": "stream",
       "stream": "stdout",
       "text": [
        "<anaphora>\n",
        "              <relation type=\"coreferential\" antecedent=\"s_1_n_504\"/>\n",
        "            </anaphora>\n",
        "            \n",
        "<anaphora>\n",
        "                  <relation type=\"anaphoric\" antecedent=\"s_4_n_527\"/>\n",
        "                </anaphora>\n",
        "              \n",
        "<anaphora>\n",
        "                <relation type=\"coreferential\" antecedent=\"s_4_n_527\"/>\n",
        "              </anaphora>\n",
        "              \n"
       ]
      }
     ],
     "prompt_number": 12
    },
    {
     "cell_type": "code",
     "collapsed": false,
     "input": [
      "anaphora_iter = tree.iter('anaphora')\n",
      "word_anaphora = [a for a in anaphora_iter if a.getparent().tag == 'word']\n",
      "for word_ana in word_anaphora[:3]:\n",
      "    print etree.tostring(word_ana)\n",
      "        "
     ],
     "language": "python",
     "metadata": {},
     "outputs": [
      {
       "output_type": "stream",
       "stream": "stdout",
       "text": [
        "<anaphora>\n",
        "                  <relation type=\"anaphoric\" antecedent=\"s_4_n_527\"/>\n",
        "                </anaphora>\n",
        "              \n",
        "<anaphora>\n",
        "                    <relation type=\"anaphoric\" antecedent=\"s_19_n_518\"/>\n",
        "                  </anaphora>\n",
        "                \n",
        "<anaphora>\n",
        "                  <relation type=\"anaphoric\" antecedent=\"s_25_n_505\"/>\n",
        "                </anaphora>\n",
        "              \n"
       ]
      }
     ],
     "prompt_number": 13
    },
    {
     "cell_type": "markdown",
     "metadata": {},
     "source": [
      "## unusual examples\n",
      "\n",
      "### expletive\n",
      "\n",
      "```\n",
      "~/corpora/tueba/tuebadz-5.0/data/XML $ ack-grep -A 5 s_11429_n_506 tuebadz-5.0.anaphora.export.xml\n",
      "        <node cat=\"NX\" comment=\"\" func=\"ON\" id=\"s_11429_n_506\">\n",
      "          <anaphora>\n",
      "            <relation type=\"expletive\" antecedent=\"\"/>\n",
      "          </anaphora>\n",
      "          <word comment=\"\" form=\"Es\" func=\"HD\" pos=\"PPER\" morph=\"nsn3\" id=\"s_11429_n_10\"/>\n",
      "        </node>\n",
      "```\n",
      "\n",
      "### split antecedent\n",
      "\n",
      "```\n",
      "27434-          <node cat=\"MF\" comment=\"\" func=\"-\" id=\"s_382_n_511\">\n",
      "27435-            <node cat=\"NX\" comment=\"\" func=\"ON\" id=\"s_382_n_501\">\n",
      "27436-              <anaphora>\n",
      "27437:                <relation type=\"split_antecedent\" antecedent=\"s_381_n_9,s_378_n_510\"/>\n",
      "27438-              </anaphora>\n",
      "27439-              <word comment=\"\" form=\"die\" func=\"-\" pos=\"ART\" morph=\"npm\" id=\"s_382_n_1\"/>\n",
      "27440-              <word comment=\"\" form=\"Partner\" func=\"HD\" pos=\"NN\" morph=\"npm\" id=\"s_382_n_2\"/>\n",
      "27441-            </node>\n",
      "27442-            <node cat=\"ADVX\" comment=\"\" func=\"OADVP\" id=\"s_382_n_502\">\n",
      "27443-              <word comment=\"\" form=\"miteinander\" func=\"HD\" pos=\"ADV\" morph=\"--\" id=\"s_382_n_3\"/>\n",
      "27444-            </node>\n",
      "27445-          </node>\n",
      "```"
     ]
    },
    {
     "cell_type": "code",
     "collapsed": false,
     "input": [
      "anaphora_iter = tree.iter('anaphora')\n",
      "for anaphora in anaphora_iter:\n",
      "    # there's only one <relation> child element\n",
      "    antecedent = anaphora.getchildren()[0].attrib['antecedent']"
     ],
     "language": "python",
     "metadata": {},
     "outputs": [],
     "prompt_number": 14
    },
    {
     "cell_type": "markdown",
     "metadata": {},
     "source": [
      "## ExportXML <element> meanings\n",
      "\n",
      "* `<node>`: a node in a syntax tree\n",
      "* `<word>`: a token in a sentence / syntax tree\n",
      "* `<relation>`: a child of an `<anaphora>` element; it's always a leaf node  \n",
      "   it has a `type` attrib (relation type) and an `antecedent` attrib (antecedent's node ID)  \n",
      "   NB: if an anaphora has no antecedent, (e.g. if it's an `expletive` relation) the `antecedent` attrib  \n",
      "   is an empty string!\n",
      "* `<anaphora>`: a child of a `<node>` or `<word>` element; always has one `<relation>` child;  \n",
      "  the element itself contains no information\n",
      "* `<sentence>`: a sentence / syntax tree\n",
      "\n",
      "```\n",
      " ('secedge', 4647),\n",
      " ('originDef', 2213),\n",
      " ('morphDef', 437),\n",
      " ('posDef', 56),\n",
      " ('edgeDef', 50),\n",
      " ('nodeDef', 29),\n",
      " ('editorDef', 26),\n",
      " ('secedgeDef', 7),\n",
      " ('comment', 6),\n",
      "\n",
      "\n",
      " ('posList', 1),\n",
      " ('secedgeList', 1),\n",
      " ('editorList', 1),\n",
      " ('edgeList', 1),\n",
      " ('originList', 1),\n",
      " ('format', 1),\n",
      " ('morphList', 1),\n",
      " ('nodeList', 1),\n",
      " ('export', 1)]\n",
      "```"
     ]
    },
    {
     "cell_type": "code",
     "collapsed": false,
     "input": [
      "def parse_anaphora(anaphora, source_id):\n",
      "    \"\"\"\n",
      "    Parameters\n",
      "    ----------\n",
      "    anaphora : etree.Element\n",
      "        an <anaphora> element\n",
      "    source_id : str\n",
      "        the node ID of the anaphora (points either to a <node> or a <word>)\n",
      "    \n",
      "    Returns\n",
      "    -------\n",
      "    antecedent : str\n",
      "        node ID of the antecedent, e.g. ``s_4_n_527``\n",
      "    relation_type : str\n",
      "        anaphoric relation type, e.g. ``anaphoric`` or ``coreferential``\n",
      "    \"\"\"\n",
      "    # there's only one <relation> child element\n",
      "    relation = anaphora.getchildren()[0]\n",
      "    return relation.attrib['antecedent'], relation.attrib['type']\n",
      "    \n",
      "\n",
      "def exportxml2igraph(exportxml_file):\n",
      "    \"\"\"\n",
      "    TODO: add <node> and <word> attributes\n",
      "    \"\"\"\n",
      "    # in igraph, adding a single edge is prohibitively slow,\n",
      "    # as the whole index of the graph has to be rebuild!\n",
      "    # http://stackoverflow.com/questions/13974279/igraph-why-is-add-edge-function-so-slow-ompared-to-add-edges\n",
      "    # to speed this up, store the edges in a list & call add_edges() once!\n",
      "    edges = []\n",
      "    relations = {}\n",
      "    idocgraph = ig.Graph(directed=True)\n",
      "    \n",
      "    treeiter = etree.iterparse(TUEBADZ_FILE, tag='sentence')\n",
      "    for _action, sentence in treeiter:\n",
      "        sent_root_id = sentence.attrib['origin']\n",
      "        idocgraph.add_vertex(sent_root_id, label=sent_root_id)\n",
      "        \n",
      "        for element in sentence.iter('node', 'word', 'anaphora'):\n",
      "            parent_element = element.getparent()\n",
      "            # some <anaphora> are children of <word> elements\n",
      "            if parent_element.tag in ('node', 'word'):\n",
      "                parent_id = parent_element.attrib['id']\n",
      "            elif parent_element.tag == 'sentence':\n",
      "                parent_id = parent_element.attrib['origin']\n",
      "            else:\n",
      "                sys.stderr.write(\"Unexpected parent '{}' of element '{}'\\n\".format(parent_element, element))\n",
      "            element_id = element.attrib.get('id') # <anaphora> doesn't have an ID\n",
      "\n",
      "            if element.tag == 'node':\n",
      "                idocgraph.add_vertex(element_id, label=element.attrib['cat'])\n",
      "                edges.append((parent_id, element_id))\n",
      "            elif element.tag == 'word':\n",
      "                idocgraph.add_vertex(element_id, label=element.attrib['form'])\n",
      "                edges.append((parent_id, element_id))\n",
      "\n",
      "            else: # element.tag == 'anaphora'\n",
      "                # <anaphora> doesn't have an ID, but it's tied to its parent element\n",
      "                antecedent_str, relation_type = parse_anaphora(element, parent_id)\n",
      "                if antecedent_str:\n",
      "                    # there might be more than one antecedent\n",
      "                    for antecedent_id in antecedent_str.split(','):\n",
      "                        edge = (parent_id, antecedent_id)\n",
      "                        edges.append(edge)\n",
      "                        relations[edge] = relation_type\n",
      "                else:\n",
      "                    # there's no antecedent in case of an expletive anaphoric relation\n",
      "                    relations[(parent_id, None)] = relation_type\n",
      "      \n",
      "    idocgraph.add_edges(edges)\n",
      "\n",
      "    # igraph doesn't store nodes/edge names in a dict, so a lookup would be O(n)\n",
      "    node_name2id = {node['name']: node.index for node in idocgraph.vs}\n",
      "    edge_endpoints2id = {(edge.source, edge.target): edge.index\n",
      "                         for edge in idocgraph.es}\n",
      "\n",
      "    for (source, target) in relations:\n",
      "        relation_type = relations[(source, target)]\n",
      "        if target:\n",
      "            edge_endpoints = (node_name2id[source], node_name2id[target])\n",
      "            idocgraph.es[edge_endpoints2id[edge_endpoints]]['exportxml:relation_type'] = relation_type\n",
      "#             idocgraph.es[idocgraph.get_eid(source, target)]['exportxml:relation_type'] = relation_type\n",
      "\n",
      "        else:\n",
      "            # there's no antecedent in case of an expletive anaphoric relation\n",
      "            \n",
      "            idocgraph.vs[node_name2id[source]]['exportxml:anaphora_type'] = relation_type\n",
      "#             idocgraph.vs.select(name=source)['exportxml:anaphora_type'] = relation_type\n",
      "    return idocgraph\n",
      "\n",
      "            "
     ],
     "language": "python",
     "metadata": {},
     "outputs": [],
     "prompt_number": 15
    },
    {
     "cell_type": "code",
     "collapsed": false,
     "input": [
      "%%time\n",
      "tuebagraph = exportxml2igraph(TUEBADZ_FILE)"
     ],
     "language": "python",
     "metadata": {},
     "outputs": [
      {
       "output_type": "stream",
       "stream": "stdout",
       "text": [
        "CPU times: user 17 s, sys: 856 ms, total: 17.9 s\n",
        "Wall time: 18 s\n"
       ]
      }
     ],
     "prompt_number": 16
    },
    {
     "cell_type": "code",
     "collapsed": false,
     "input": [
      "tuebagraph.ecount()"
     ],
     "language": "python",
     "metadata": {},
     "outputs": [
      {
       "metadata": {},
       "output_type": "pyout",
       "prompt_number": 17,
       "text": [
        "1794461"
       ]
      }
     ],
     "prompt_number": 17
    },
    {
     "cell_type": "code",
     "collapsed": false,
     "input": [
      "tuebagraph.vcount()"
     ],
     "language": "python",
     "metadata": {},
     "outputs": [
      {
       "metadata": {},
       "output_type": "pyout",
       "prompt_number": 18,
       "text": [
        "1787089"
       ]
      }
     ],
     "prompt_number": 18
    },
    {
     "cell_type": "code",
     "collapsed": false,
     "input": [
      "import igraph as ig\n",
      "\n",
      "foo = ig.Graph(directed=True)\n",
      "foo.add_vertices(['1','2','3','4'])\n",
      "foo.add_edges([('1', '1'), ('1', '2'), ('3', '4')])"
     ],
     "language": "python",
     "metadata": {},
     "outputs": [],
     "prompt_number": 19
    },
    {
     "cell_type": "code",
     "collapsed": false,
     "input": [
      "# for e in foo.es:\n",
      "#     print e, e.index, e.source, e.target\n",
      "foo.es[0]"
     ],
     "language": "python",
     "metadata": {},
     "outputs": [
      {
       "metadata": {},
       "output_type": "pyout",
       "prompt_number": 20,
       "text": [
        "igraph.Edge(<igraph.Graph object at 0x5975af8>, 0, {})"
       ]
      }
     ],
     "prompt_number": 20
    },
    {
     "cell_type": "code",
     "collapsed": false,
     "input": [
      "for v in foo.vs:\n",
      "    print v, v.index, v['name']"
     ],
     "language": "python",
     "metadata": {},
     "outputs": [
      {
       "output_type": "stream",
       "stream": "stdout",
       "text": [
        "igraph.Vertex(<igraph.Graph object at 0x5975af8>,0,{'name': '1'}) 0 1\n",
        "igraph.Vertex(<igraph.Graph object at 0x5975af8>,1,{'name': '2'}) 1 2\n",
        "igraph.Vertex(<igraph.Graph object at 0x5975af8>,2,{'name': '3'}) 2 3\n",
        "igraph.Vertex(<igraph.Graph object at 0x5975af8>,3,{'name': '4'}) 3 4\n"
       ]
      }
     ],
     "prompt_number": 21
    },
    {
     "cell_type": "code",
     "collapsed": false,
     "input": [
      "foo.vs.select(name='2')"
     ],
     "language": "python",
     "metadata": {},
     "outputs": [
      {
       "metadata": {},
       "output_type": "pyout",
       "prompt_number": 22,
       "text": [
        "<igraph.VertexSeq at 0xab9a83c0>"
       ]
      }
     ],
     "prompt_number": 22
    },
    {
     "cell_type": "code",
     "collapsed": false,
     "input": [
      "foo.vs[0]"
     ],
     "language": "python",
     "metadata": {},
     "outputs": [
      {
       "metadata": {},
       "output_type": "pyout",
       "prompt_number": 23,
       "text": [
        "igraph.Vertex(<igraph.Graph object at 0x5975af8>,0,{'name': '1'})"
       ]
      }
     ],
     "prompt_number": 23
    },
    {
     "cell_type": "code",
     "collapsed": false,
     "input": [
      "list(foo.es.select(_source='3', _target='4'))"
     ],
     "language": "python",
     "metadata": {},
     "outputs": [
      {
       "metadata": {},
       "output_type": "pyout",
       "prompt_number": 24,
       "text": [
        "[]"
       ]
      }
     ],
     "prompt_number": 24
    },
    {
     "cell_type": "code",
     "collapsed": false,
     "input": [
      "from collections import defaultdict\n",
      "\n",
      "def exportxml2dict(exportxml_file):\n",
      "    nodes = []\n",
      "    edges = []\n",
      "    \n",
      "    itree = etree.iterparse(TUEBADZ_FILE, tag='sentence')\n",
      "    for _action, sentence in itree:\n",
      "        sent_root_id = sentence.attrib['origin']\n",
      "        nodes.append( (sent_root_id, sent_root_id) )\n",
      "        \n",
      "        for element in sentence.iter('node', 'word'):\n",
      "            parent_element = element.getparent()\n",
      "            if parent_element.tag == 'node':\n",
      "                parent_id = parent_element.attrib['id']\n",
      "            elif parent_element.tag == 'sentence':\n",
      "                parent_id = parent_element.attrib['origin']\n",
      "            else:\n",
      "                sys.stderr.write(\"Unexpected parent '{}' of element '{}'\\n\".format(parent_element, element))\n",
      "            element_id = element.attrib.get('id') # <anaphora> doesn't have an ID\n",
      "\n",
      "            if element.tag == 'node':\n",
      "                element_label = element.attrib['cat']\n",
      "            elif element.tag == 'word':\n",
      "                element_label = element.attrib['form']\n",
      "            else:\n",
      "                continue # for now, ignore other elements (e.g. <anaphora>)\n",
      "\n",
      "            nodes.append( (element_id, element_label) )\n",
      "            edges.append( (parent_id, element_id) )\n",
      "    return nodes, edges"
     ],
     "language": "python",
     "metadata": {},
     "outputs": [],
     "prompt_number": 25
    },
    {
     "cell_type": "heading",
     "level": 1,
     "metadata": {},
     "source": [
      "Speed comparison"
     ]
    },
    {
     "cell_type": "code",
     "collapsed": false,
     "input": [
      "%%time\n",
      "nodes, edges = exportxml2dict(TUEBADZ_FILE) # 6.63s"
     ],
     "language": "python",
     "metadata": {},
     "outputs": [
      {
       "output_type": "stream",
       "stream": "stdout",
       "text": [
        "CPU times: user 5.99 s, sys: 620 ms, total: 6.61 s\n",
        "Wall time: 6.63 s\n"
       ]
      }
     ],
     "prompt_number": 26
    },
    {
     "cell_type": "heading",
     "level": 2,
     "metadata": {},
     "source": [
      "igraph: preprocessed node/edge lists, edges batch insert (total: 12.81 s)"
     ]
    },
    {
     "cell_type": "markdown",
     "metadata": {},
     "source": [
      "- create node/edge lists\n",
      "- add nodes one by one\n",
      "- add edges in one go"
     ]
    },
    {
     "cell_type": "markdown",
     "metadata": {},
     "source": [
      "```\n",
      "%%time\n",
      "\n",
      "idocgraph = ig.Graph()\n",
      "for node_id, node_label in nodes:\n",
      "    idocgraph.add_vertex(node_id, label=node_label)\n",
      "idocgraph.add_edges(edges)\n",
      "```\n",
      "\n",
      "CPU times: user 6.06 s, sys: 112 ms, total: 6.18 s\n",
      "Wall time: 6.18 s\n"
     ]
    },
    {
     "cell_type": "heading",
     "level": 2,
     "metadata": {},
     "source": [
      "igraph: preprocessed node/edge lists, nodes & edges batch insert (total: 7.85 s)"
     ]
    },
    {
     "cell_type": "markdown",
     "metadata": {},
     "source": [
      "- create node/edge lists\n",
      "- add nodes in one go (without labels)\n",
      "- add edges in one go"
     ]
    },
    {
     "cell_type": "markdown",
     "metadata": {},
     "source": [
      "```python\n",
      "%%time\n",
      "\n",
      "idocgraph = ig.Graph()\n",
      "node_ids = (node_id for (node_id, node_label) in nodes)\n",
      "idocgraph.add_vertices(node_ids)\n",
      "idocgraph.add_edges(edges)\n",
      "```\n",
      "\n",
      "CPU times: user 1.16 s, sys: 60 ms, total: 1.22 s\n",
      "Wall time: 1.22 s"
     ]
    },
    {
     "cell_type": "heading",
     "level": 2,
     "metadata": {},
     "source": [
      "igraph: preprocessed node/edge lists, nodes/edges inserted iteratively (intractable)"
     ]
    },
    {
     "cell_type": "markdown",
     "metadata": {},
     "source": [
      "- added each node and edge one by one\n",
      "- took too long (killed after 10mins)"
     ]
    },
    {
     "cell_type": "markdown",
     "metadata": {},
     "source": [
      "```python\n",
      "%%time\n",
      "\n",
      "idocgraph = ig.Graph()\n",
      "for node_id, node_label in nodes:\n",
      "    idocgraph.add_vertex(node_id, label=node_label)\n",
      "for source, target in edges:\n",
      "    # for each added edge, the whole index of the graph has to be rebuild!\n",
      "    # never do this for large graphs!\n",
      "    # http://stackoverflow.com/questions/13974279/igraph-why-is-add-edge-function-so-slow-ompared-to-add-edges\n",
      "    idocgraph.add_edge(source, target)\n",
      "```"
     ]
    },
    {
     "cell_type": "heading",
     "level": 2,
     "metadata": {},
     "source": [
      "igraph: combined preprocessing/inserting of nodes, edge caching/batch insert (total: 20.7s)"
     ]
    },
    {
     "cell_type": "markdown",
     "metadata": {},
     "source": [
      "```python\n",
      "%%time\n",
      "tueba_igraph = exportxml2igraph(TUEBADZ_FILE)\n",
      "```\n",
      "\n",
      "CPU times: user 20.7 s, sys: 156 ms, total: 20.9 s\n",
      "Wall time: 20.9 s"
     ]
    },
    {
     "cell_type": "code",
     "collapsed": false,
     "input": [
      "def exportxml2docgraph(exportxml_file):\n",
      "    edges = []\n",
      "    docgraph = dg.DiscourseDocumentGraph()\n",
      "    edge_attribs = {'layers': {docgraph.ns}} # default edge attributes\n",
      "    \n",
      "    treeiter = etree.iterparse(TUEBADZ_FILE, tag='sentence')\n",
      "    for _action, sentence in treeiter:\n",
      "        sent_root_id = sentence.attrib['origin']\n",
      "        docgraph.add_node(sent_root_id, label=sent_root_id)\n",
      "        \n",
      "        for element in sentence.iter('node', 'word'):\n",
      "            parent_element = element.getparent()\n",
      "            if parent_element.tag == 'node':\n",
      "                parent_id = parent_element.attrib['id']\n",
      "            elif parent_element.tag == 'sentence':\n",
      "                parent_id = parent_element.attrib['origin']\n",
      "            else:\n",
      "                sys.stderr.write(\"Unexpected parent '{}' of element '{}'\\n\".format(parent_element, element))\n",
      "            element_id = element.attrib.get('id') # <anaphora> doesn't have an ID\n",
      "\n",
      "            if element.tag == 'node':\n",
      "                element_label = element.attrib['cat']\n",
      "            elif element.tag == 'word':\n",
      "                element_label = element.attrib['form']\n",
      "            else:\n",
      "                continue # for now, ignore other elements (e.g. <anaphora>)\n",
      "\n",
      "            docgraph.add_node(element_id, label=element_label)\n",
      "            edges.append((parent_id, element_id, edge_attribs))\n",
      "    docgraph.add_edges_from(edges)\n",
      "    return docgraph"
     ],
     "language": "python",
     "metadata": {},
     "outputs": [],
     "prompt_number": 27
    },
    {
     "cell_type": "heading",
     "level": 2,
     "metadata": {},
     "source": [
      "networkx: combined preprocessing/inserting of nodes, edge caching/batch insert (intractable)"
     ]
    },
    {
     "cell_type": "markdown",
     "metadata": {},
     "source": [
      "- killed process after 12 hours"
     ]
    },
    {
     "cell_type": "markdown",
     "metadata": {},
     "source": [
      "# use multiple cores by splitting exportxml file into 'documents'"
     ]
    },
    {
     "cell_type": "code",
     "collapsed": false,
     "input": [
      "from lxml import etree\n",
      "\n",
      "treeiter = etree.iterparse(TUEBADZ_FILE, tag='sentence')"
     ],
     "language": "python",
     "metadata": {},
     "outputs": [],
     "prompt_number": 28
    },
    {
     "cell_type": "code",
     "collapsed": false,
     "input": [
      "from collections import defaultdict\n",
      "\n",
      "documents = defaultdict(list)"
     ],
     "language": "python",
     "metadata": {},
     "outputs": [],
     "prompt_number": 29
    },
    {
     "cell_type": "code",
     "collapsed": false,
     "input": [
      "%%time\n",
      "\n",
      "for _action, sentence in treeiter:\n",
      "    documents[sentence.attrib['origin']].append(sentence)"
     ],
     "language": "python",
     "metadata": {},
     "outputs": [
      {
       "output_type": "stream",
       "stream": "stdout",
       "text": [
        "CPU times: user 6.23 s, sys: 188 ms, total: 6.42 s\n",
        "Wall time: 6.44 s\n"
       ]
      }
     ],
     "prompt_number": 30
    },
    {
     "cell_type": "code",
     "collapsed": false,
     "input": [
      "len(documents.keys())"
     ],
     "language": "python",
     "metadata": {},
     "outputs": [
      {
       "metadata": {},
       "output_type": "pyout",
       "prompt_number": 31,
       "text": [
        "2213"
       ]
      }
     ],
     "prompt_number": 31
    }
   ],
   "metadata": {}
  }
 ]
}