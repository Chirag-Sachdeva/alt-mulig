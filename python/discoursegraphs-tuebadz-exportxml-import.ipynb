{
 "metadata": {
  "name": "",
  "signature": "sha256:185f79ccbbf508125a0b67372230516a91af295cd98ccdfc2fbe6997566ad2c2"
 },
 "nbformat": 3,
 "nbformat_minor": 0,
 "worksheets": [
  {
   "cells": [
    {
     "cell_type": "markdown",
     "metadata": {},
     "source": [
      "[PALinkA](http://web.archive.org/web/20131002091638/http://clg.wlv.ac.uk/projects/PALinkA/) is an old annotation tool for spans and links between them.  \n",
      "It was used to annotate coreferences for the [T\u00fcba-D/Z](http://www.sfs.uni-tuebingen.de/en/ascl/resources/corpora/tueba-dz.html) treebank of German newspaper articles."
     ]
    },
    {
     "cell_type": "code",
     "collapsed": false,
     "input": [
      "import os\n",
      "from lxml import etree\n",
      "\n",
      "TUEBADZ_FILE = os.path.expanduser(\n",
      "    '~/corpora/tueba/tuebadz-5.0/data/XML/tuebadz-5.0.anaphora.export.xml')"
     ],
     "language": "python",
     "metadata": {},
     "outputs": [],
     "prompt_number": 9
    },
    {
     "cell_type": "code",
     "collapsed": false,
     "input": [
      "tree = etree.parse(TUEBADZ_FILE)"
     ],
     "language": "python",
     "metadata": {},
     "outputs": [],
     "prompt_number": 10
    },
    {
     "cell_type": "code",
     "collapsed": false,
     "input": [
      "sentences = list(tree.iterfind('sentence'))"
     ],
     "language": "python",
     "metadata": {},
     "outputs": [],
     "prompt_number": 13
    },
    {
     "cell_type": "code",
     "collapsed": false,
     "input": [
      "s0 = sentences[0]"
     ],
     "language": "python",
     "metadata": {},
     "outputs": [],
     "prompt_number": 15
    },
    {
     "cell_type": "code",
     "collapsed": false,
     "input": [
      "print etree.tostring(s0)"
     ],
     "language": "python",
     "metadata": {},
     "outputs": [
      {
       "output_type": "stream",
       "stream": "stdout",
       "text": [
        "<sentence origin=\"T990507.2\" comment=\"%% HEADLINE\" date=\"2008020714:44:17\" editor=\"hschulz\">\n",
        "    <node cat=\"SIMPX\" parent=\"0\" comment=\"\" func=\"--\" id=\"s_1_n_506\">\n",
        "      <node cat=\"LK\" comment=\"\" func=\"-\" id=\"s_1_n_503\">\n",
        "        <node cat=\"VXFIN\" comment=\"\" func=\"HD\" id=\"s_1_n_500\">\n",
        "          <word comment=\"\" form=\"Veruntreute\" func=\"HD\" pos=\"VVFIN\" morph=\"3sit\" id=\"s_1_n_0\"/>\n",
        "        </node>\n",
        "      </node>\n",
        "      <node cat=\"MF\" comment=\"\" func=\"-\" id=\"s_1_n_505\">\n",
        "        <node cat=\"NX\" comment=\"\" func=\"ON\" id=\"s_1_n_504\">\n",
        "          <word comment=\"\" form=\"die\" func=\"-\" pos=\"ART\" morph=\"nsf\" id=\"s_1_n_1\"/>\n",
        "          <node cat=\"EN-ADD\" comment=\"\" func=\"HD\" id=\"s_1_n_501\">\n",
        "            <word comment=\"\" form=\"AWO\" func=\"-\" pos=\"NN\" morph=\"nsf\" id=\"s_1_n_2\"/>\n",
        "          </node>\n",
        "        </node>\n",
        "        <node cat=\"NX\" comment=\"\" func=\"OA\" id=\"s_1_n_502\">\n",
        "          <word comment=\"\" form=\"Spendengeld\" func=\"HD\" pos=\"NN\" morph=\"asn\" id=\"s_1_n_3\"/>\n",
        "        </node>\n",
        "      </node>\n",
        "    </node>\n",
        "    <word parent=\"0\" comment=\"\" form=\"?\" func=\"--\" pos=\"$.\" morph=\"--\" id=\"s_1_n_4\"/>\n",
        "  </sentence>\n",
        "  \n"
       ]
      }
     ],
     "prompt_number": 17
    },
    {
     "cell_type": "code",
     "collapsed": false,
     "input": [
      "import discoursegraphs as dg\n",
      "\n",
      "sentence = s0\n",
      "\n",
      "docgraph = dg.DiscourseDocumentGraph(name=sent_root_id)\n",
      "\n",
      "# for node in sentence.iterfind('node'):\n",
      "#     sg.add_node(node.attrib['id'], label=node.attrib['cat'])\n",
      "#     sg.add_edge(sent_root_id, node.attrib['id'])"
     ],
     "language": "python",
     "metadata": {},
     "outputs": [],
     "prompt_number": 40
    },
    {
     "cell_type": "code",
     "collapsed": false,
     "input": [
      "def add_sentence_structure(docgraph, sentence):\n",
      "    assert sentence.tag in ('sentence', 'node')\n",
      "    if sentence.tag == 'sentence':\n",
      "        root_id = sentence.attrib['origin']\n",
      "    else: # if it's a (nested) node\n",
      "        root_id = sentence.attrib['id']\n",
      "        \n",
      "    for node in sentence.iterfind('node'):\n",
      "        docgraph.add_node(node.attrib['id'], label=node.attrib['cat'])\n",
      "        docgraph.add_edge(root_id, node.attrib['id'])\n",
      "        add_sentence_structure(docgraph, node)\n",
      "    for word in sentence.iterfind('word'):\n",
      "        docgraph.add_node(word.attrib['id'], label=word.attrib['form'])\n",
      "        docgraph.add_edge(root_id, word.attrib['id'])\n"
     ],
     "language": "python",
     "metadata": {},
     "outputs": [],
     "prompt_number": 41
    },
    {
     "cell_type": "code",
     "collapsed": false,
     "input": [
      "add_sentence_structure(docgraph, sentence)"
     ],
     "language": "python",
     "metadata": {},
     "outputs": [],
     "prompt_number": 42
    },
    {
     "cell_type": "code",
     "collapsed": false,
     "input": [
      "%load_ext gvmagic"
     ],
     "language": "python",
     "metadata": {},
     "outputs": [],
     "prompt_number": 38
    },
    {
     "cell_type": "code",
     "collapsed": false,
     "input": [
      "%dotstr dg.print_dot(docgraph)"
     ],
     "language": "python",
     "metadata": {},
     "outputs": [
      {
       "metadata": {},
       "output_type": "display_data",
       "svg": [
        "<?xml version=\"1.0\" encoding=\"UTF-8\" standalone=\"no\"?>\n",
        "<!DOCTYPE svg PUBLIC \"-//W3C//DTD SVG 1.1//EN\"\n",
        " \"http://www.w3.org/Graphics/SVG/1.1/DTD/svg11.dtd\">\n",
        "<!-- Generated by graphviz version 2.26.3 (20100126.1600)\n",
        " -->\n",
        "<!-- Title: T990507.2 Pages: 1 -->\n",
        "<svg width=\"638pt\" height=\"416pt\"\n",
        " viewBox=\"0.00 0.00 638.00 416.00\" xmlns=\"http://www.w3.org/2000/svg\" xmlns:xlink=\"http://www.w3.org/1999/xlink\">\n",
        "<g id=\"graph1\" class=\"graph\" transform=\"scale(1 1) rotate(0) translate(4 412)\">\n",
        "<title>T990507.2</title>\n",
        "<polygon fill=\"white\" stroke=\"white\" points=\"-4,5 -4,-412 635,-412 635,5 -4,5\"/>\n",
        "<!-- s_1_n_4 -->\n",
        "<g id=\"node1\" class=\"node\"><title>s_1_n_4</title>\n",
        "<ellipse fill=\"none\" stroke=\"black\" cx=\"228\" cy=\"-315\" rx=\"27\" ry=\"18.3848\"/>\n",
        "<text text-anchor=\"middle\" x=\"228\" y=\"-311.4\" font-family=\"Times Roman,serif\" font-size=\"14.00\">?</text>\n",
        "</g>\n",
        "<!-- s_1_n_2 -->\n",
        "<g id=\"node2\" class=\"node\"><title>s_1_n_2</title>\n",
        "<ellipse fill=\"none\" stroke=\"black\" cx=\"124\" cy=\"-19\" rx=\"36.7696\" ry=\"18.3848\"/>\n",
        "<text text-anchor=\"middle\" x=\"124\" y=\"-15.4\" font-family=\"Times Roman,serif\" font-size=\"14.00\">AWO</text>\n",
        "</g>\n",
        "<!-- s_1_n_3 -->\n",
        "<g id=\"node3\" class=\"node\"><title>s_1_n_3</title>\n",
        "<ellipse fill=\"none\" stroke=\"black\" cx=\"268\" cy=\"-93\" rx=\"74.2462\" ry=\"18.3848\"/>\n",
        "<text text-anchor=\"middle\" x=\"268\" y=\"-89.4\" font-family=\"Times Roman,serif\" font-size=\"14.00\">Spendengeld</text>\n",
        "</g>\n",
        "<!-- s_1_n_0 -->\n",
        "<g id=\"node4\" class=\"node\"><title>s_1_n_0</title>\n",
        "<ellipse fill=\"none\" stroke=\"black\" cx=\"431\" cy=\"-93\" rx=\"70.9184\" ry=\"18.3848\"/>\n",
        "<text text-anchor=\"middle\" x=\"431\" y=\"-89.4\" font-family=\"Times Roman,serif\" font-size=\"14.00\">Veruntreute</text>\n",
        "</g>\n",
        "<!-- s_1_n_1 -->\n",
        "<g id=\"node5\" class=\"node\"><title>s_1_n_1</title>\n",
        "<ellipse fill=\"none\" stroke=\"black\" cx=\"27\" cy=\"-93\" rx=\"27\" ry=\"18.3848\"/>\n",
        "<text text-anchor=\"middle\" x=\"27\" y=\"-89.4\" font-family=\"Times Roman,serif\" font-size=\"14.00\">die</text>\n",
        "</g>\n",
        "<!-- s_1_n_505 -->\n",
        "<g id=\"node6\" class=\"node\"><title>s_1_n_505</title>\n",
        "<ellipse fill=\"none\" stroke=\"black\" cx=\"268\" cy=\"-241\" rx=\"27\" ry=\"18.3848\"/>\n",
        "<text text-anchor=\"middle\" x=\"268\" y=\"-237.4\" font-family=\"Times Roman,serif\" font-size=\"14.00\">MF</text>\n",
        "</g>\n",
        "<!-- s_1_n_504 -->\n",
        "<g id=\"node7\" class=\"node\"><title>s_1_n_504</title>\n",
        "<ellipse fill=\"none\" stroke=\"black\" cx=\"124\" cy=\"-167\" rx=\"27\" ry=\"18.3848\"/>\n",
        "<text text-anchor=\"middle\" x=\"124\" y=\"-163.4\" font-family=\"Times Roman,serif\" font-size=\"14.00\">NX</text>\n",
        "</g>\n",
        "<!-- s_1_n_505&#45;&gt;s_1_n_504 -->\n",
        "<g id=\"edge2\" class=\"edge\"><title>s_1_n_505&#45;&gt;s_1_n_504</title>\n",
        "<path fill=\"none\" stroke=\"black\" d=\"M246.129,-229.761C221.778,-217.247 182.238,-196.928 154.772,-182.813\"/>\n",
        "<polygon fill=\"black\" stroke=\"black\" points=\"156.099,-179.56 145.604,-178.102 152.899,-185.786 156.099,-179.56\"/>\n",
        "</g>\n",
        "<!-- s_1_n_502 -->\n",
        "<g id=\"node9\" class=\"node\"><title>s_1_n_502</title>\n",
        "<ellipse fill=\"none\" stroke=\"black\" cx=\"268\" cy=\"-167\" rx=\"27\" ry=\"18.3848\"/>\n",
        "<text text-anchor=\"middle\" x=\"268\" y=\"-163.4\" font-family=\"Times Roman,serif\" font-size=\"14.00\">NX</text>\n",
        "</g>\n",
        "<!-- s_1_n_505&#45;&gt;s_1_n_502 -->\n",
        "<g id=\"edge4\" class=\"edge\"><title>s_1_n_505&#45;&gt;s_1_n_502</title>\n",
        "<path fill=\"none\" stroke=\"black\" d=\"M268,-222.327C268,-214.264 268,-204.648 268,-195.711\"/>\n",
        "<polygon fill=\"black\" stroke=\"black\" points=\"271.5,-195.667 268,-185.667 264.5,-195.667 271.5,-195.667\"/>\n",
        "</g>\n",
        "<!-- s_1_n_504&#45;&gt;s_1_n_1 -->\n",
        "<g id=\"edge6\" class=\"edge\"><title>s_1_n_504&#45;&gt;s_1_n_1</title>\n",
        "<path fill=\"none\" stroke=\"black\" d=\"M105.755,-153.081C90.9872,-141.815 69.9882,-125.795 53.3872,-113.13\"/>\n",
        "<polygon fill=\"black\" stroke=\"black\" points=\"55.2366,-110.139 45.1631,-106.856 50.9908,-115.705 55.2366,-110.139\"/>\n",
        "</g>\n",
        "<!-- s_1_n_501 -->\n",
        "<g id=\"node12\" class=\"node\"><title>s_1_n_501</title>\n",
        "<ellipse fill=\"none\" stroke=\"black\" cx=\"124\" cy=\"-93\" rx=\"51.8276\" ry=\"18.3848\"/>\n",
        "<text text-anchor=\"middle\" x=\"124\" y=\"-89.4\" font-family=\"Times Roman,serif\" font-size=\"14.00\">EN&#45;ADD</text>\n",
        "</g>\n",
        "<!-- s_1_n_504&#45;&gt;s_1_n_501 -->\n",
        "<g id=\"edge8\" class=\"edge\"><title>s_1_n_504&#45;&gt;s_1_n_501</title>\n",
        "<path fill=\"none\" stroke=\"black\" d=\"M124,-148.327C124,-140.264 124,-130.648 124,-121.711\"/>\n",
        "<polygon fill=\"black\" stroke=\"black\" points=\"127.5,-121.667 124,-111.667 120.5,-121.667 127.5,-121.667\"/>\n",
        "</g>\n",
        "<!-- s_1_n_502&#45;&gt;s_1_n_3 -->\n",
        "<g id=\"edge20\" class=\"edge\"><title>s_1_n_502&#45;&gt;s_1_n_3</title>\n",
        "<path fill=\"none\" stroke=\"black\" d=\"M268,-148.327C268,-140.264 268,-130.648 268,-121.711\"/>\n",
        "<polygon fill=\"black\" stroke=\"black\" points=\"271.5,-121.667 268,-111.667 264.5,-121.667 271.5,-121.667\"/>\n",
        "</g>\n",
        "<!-- s_1_n_501&#45;&gt;s_1_n_2 -->\n",
        "<g id=\"edge14\" class=\"edge\"><title>s_1_n_501&#45;&gt;s_1_n_2</title>\n",
        "<path fill=\"none\" stroke=\"black\" d=\"M124,-74.3267C124,-66.2639 124,-56.6477 124,-47.7115\"/>\n",
        "<polygon fill=\"black\" stroke=\"black\" points=\"127.5,-47.6673 124,-37.6674 120.5,-47.6674 127.5,-47.6673\"/>\n",
        "</g>\n",
        "<!-- s_1_n_506 -->\n",
        "<g id=\"node14\" class=\"node\"><title>s_1_n_506</title>\n",
        "<ellipse fill=\"none\" stroke=\"black\" cx=\"317\" cy=\"-315\" rx=\"43.8406\" ry=\"18.3848\"/>\n",
        "<text text-anchor=\"middle\" x=\"317\" y=\"-311.4\" font-family=\"Times Roman,serif\" font-size=\"14.00\">SIMPX</text>\n",
        "</g>\n",
        "<!-- s_1_n_506&#45;&gt;s_1_n_505 -->\n",
        "<g id=\"edge12\" class=\"edge\"><title>s_1_n_506&#45;&gt;s_1_n_505</title>\n",
        "<path fill=\"none\" stroke=\"black\" d=\"M305.138,-297.087C299.048,-287.889 291.524,-276.526 284.843,-266.437\"/>\n",
        "<polygon fill=\"black\" stroke=\"black\" points=\"287.687,-264.391 279.247,-257.986 281.85,-268.256 287.687,-264.391\"/>\n",
        "</g>\n",
        "<!-- s_1_n_503 -->\n",
        "<g id=\"node15\" class=\"node\"><title>s_1_n_503</title>\n",
        "<ellipse fill=\"none\" stroke=\"black\" cx=\"366\" cy=\"-241\" rx=\"27\" ry=\"18.3848\"/>\n",
        "<text text-anchor=\"middle\" x=\"366\" y=\"-237.4\" font-family=\"Times Roman,serif\" font-size=\"14.00\">LK</text>\n",
        "</g>\n",
        "<!-- s_1_n_506&#45;&gt;s_1_n_503 -->\n",
        "<g id=\"edge10\" class=\"edge\"><title>s_1_n_506&#45;&gt;s_1_n_503</title>\n",
        "<path fill=\"none\" stroke=\"black\" d=\"M328.862,-297.087C334.952,-287.889 342.476,-276.526 349.157,-266.437\"/>\n",
        "<polygon fill=\"black\" stroke=\"black\" points=\"352.15,-268.256 354.753,-257.986 346.313,-264.391 352.15,-268.256\"/>\n",
        "</g>\n",
        "<!-- s_1_n_500 -->\n",
        "<g id=\"node19\" class=\"node\"><title>s_1_n_500</title>\n",
        "<ellipse fill=\"none\" stroke=\"black\" cx=\"393\" cy=\"-167\" rx=\"41.9273\" ry=\"18.3848\"/>\n",
        "<text text-anchor=\"middle\" x=\"393\" y=\"-163.4\" font-family=\"Times Roman,serif\" font-size=\"14.00\">VXFIN</text>\n",
        "</g>\n",
        "<!-- s_1_n_503&#45;&gt;s_1_n_500 -->\n",
        "<g id=\"edge18\" class=\"edge\"><title>s_1_n_503&#45;&gt;s_1_n_500</title>\n",
        "<path fill=\"none\" stroke=\"black\" d=\"M372.674,-222.708C375.725,-214.347 379.406,-204.257 382.793,-194.974\"/>\n",
        "<polygon fill=\"black\" stroke=\"black\" points=\"386.169,-195.932 386.309,-185.338 379.593,-193.533 386.169,-195.932\"/>\n",
        "</g>\n",
        "<!-- s_1_n_500&#45;&gt;s_1_n_0 -->\n",
        "<g id=\"edge16\" class=\"edge\"><title>s_1_n_500&#45;&gt;s_1_n_0</title>\n",
        "<path fill=\"none\" stroke=\"black\" d=\"M402.393,-148.708C406.778,-140.169 412.089,-129.827 416.939,-120.383\"/>\n",
        "<polygon fill=\"black\" stroke=\"black\" points=\"420.128,-121.833 421.583,-111.338 413.902,-118.635 420.128,-121.833\"/>\n",
        "</g>\n",
        "<!-- discoursegraph:root_node -->\n",
        "<g id=\"node23\" class=\"node\"><title>discoursegraph:root_node</title>\n",
        "<ellipse fill=\"none\" stroke=\"black\" cx=\"493\" cy=\"-389\" rx=\"137.179\" ry=\"18.3848\"/>\n",
        "<text text-anchor=\"middle\" x=\"493\" y=\"-385.4\" font-family=\"Times Roman,serif\" font-size=\"14.00\">discoursegraph:root_node</text>\n",
        "</g>\n",
        "<!-- T990507.2 -->\n",
        "<g id=\"node24\" class=\"node\"><title>T990507.2</title>\n",
        "<ellipse fill=\"none\" stroke=\"black\" cx=\"272\" cy=\"-389\" rx=\"65.7609\" ry=\"18.3848\"/>\n",
        "<text text-anchor=\"middle\" x=\"272\" y=\"-385.4\" font-family=\"Times Roman,serif\" font-size=\"14.00\">T990507.2</text>\n",
        "</g>\n",
        "<!-- T990507.2&#45;&gt;s_1_n_4 -->\n",
        "<g id=\"edge22\" class=\"edge\"><title>T990507.2&#45;&gt;s_1_n_4</title>\n",
        "<path fill=\"none\" stroke=\"black\" d=\"M261.124,-370.708C255.785,-361.729 249.26,-350.756 243.418,-340.93\"/>\n",
        "<polygon fill=\"black\" stroke=\"black\" points=\"246.417,-339.126 238.298,-332.319 240.4,-342.703 246.417,-339.126\"/>\n",
        "</g>\n",
        "<!-- T990507.2&#45;&gt;s_1_n_506 -->\n",
        "<g id=\"edge24\" class=\"edge\"><title>T990507.2&#45;&gt;s_1_n_506</title>\n",
        "<path fill=\"none\" stroke=\"black\" d=\"M283.124,-370.708C288.41,-362.015 294.832,-351.454 300.658,-341.873\"/>\n",
        "<polygon fill=\"black\" stroke=\"black\" points=\"303.799,-343.445 306.004,-333.082 297.818,-339.807 303.799,-343.445\"/>\n",
        "</g>\n",
        "</g>\n",
        "</svg>\n"
       ]
      }
     ],
     "prompt_number": 43
    },
    {
     "cell_type": "code",
     "collapsed": false,
     "input": [
      "\n",
      "from collections import Counter\n",
      "\n",
      "element_types = Counter()\n",
      "for element in tree.iter():\n",
      "    element_types[element.tag] += 1\n",
      "\n",
      "element_types.most_common()"
     ],
     "language": "python",
     "metadata": {},
     "outputs": [],
     "prompt_number": 18
    },
    {
     "cell_type": "code",
     "collapsed": false,
     "input": [],
     "language": "python",
     "metadata": {},
     "outputs": []
    }
   ],
   "metadata": {}
  }
 ]
}