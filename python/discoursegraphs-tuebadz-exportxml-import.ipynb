{
 "metadata": {
  "name": "",
  "signature": "sha256:b3a26dc602d2e42f3aabe23f6b3f1183997e4d81be52392b69df44d3968776b2"
 },
 "nbformat": 3,
 "nbformat_minor": 0,
 "worksheets": [
  {
   "cells": [
    {
     "cell_type": "code",
     "collapsed": false,
     "input": [
      "import os\n",
      "from lxml import etree\n",
      "import igraph as ig\n",
      "\n",
      "import discoursegraphs as dg\n",
      "\n",
      "TUEBADZ_FILE = os.path.expanduser(\n",
      "    '~/corpora/tueba/tuebadz-5.0/data/XML/tuebadz-5.0.anaphora.export.xml')"
     ],
     "language": "python",
     "metadata": {},
     "outputs": [],
     "prompt_number": 5
    },
    {
     "cell_type": "code",
     "collapsed": false,
     "input": [
      "tree = etree.parse(TUEBADZ_FILE)\n",
      "sentences = list(tree.iterfind('sentence'))\n",
      "s0 = sentences[0]\n",
      "\n",
      "print etree.tostring(s0)"
     ],
     "language": "python",
     "metadata": {},
     "outputs": [
      {
       "output_type": "stream",
       "stream": "stdout",
       "text": [
        "<sentence origin=\"T990507.2\" comment=\"%% HEADLINE\" date=\"2008020714:44:17\" editor=\"hschulz\">\n",
        "    <node cat=\"SIMPX\" parent=\"0\" comment=\"\" func=\"--\" id=\"s_1_n_506\">\n",
        "      <node cat=\"LK\" comment=\"\" func=\"-\" id=\"s_1_n_503\">\n",
        "        <node cat=\"VXFIN\" comment=\"\" func=\"HD\" id=\"s_1_n_500\">\n",
        "          <word comment=\"\" form=\"Veruntreute\" func=\"HD\" pos=\"VVFIN\" morph=\"3sit\" id=\"s_1_n_0\"/>\n",
        "        </node>\n",
        "      </node>\n",
        "      <node cat=\"MF\" comment=\"\" func=\"-\" id=\"s_1_n_505\">\n",
        "        <node cat=\"NX\" comment=\"\" func=\"ON\" id=\"s_1_n_504\">\n",
        "          <word comment=\"\" form=\"die\" func=\"-\" pos=\"ART\" morph=\"nsf\" id=\"s_1_n_1\"/>\n",
        "          <node cat=\"EN-ADD\" comment=\"\" func=\"HD\" id=\"s_1_n_501\">\n",
        "            <word comment=\"\" form=\"AWO\" func=\"-\" pos=\"NN\" morph=\"nsf\" id=\"s_1_n_2\"/>\n",
        "          </node>\n",
        "        </node>\n",
        "        <node cat=\"NX\" comment=\"\" func=\"OA\" id=\"s_1_n_502\">\n",
        "          <word comment=\"\" form=\"Spendengeld\" func=\"HD\" pos=\"NN\" morph=\"asn\" id=\"s_1_n_3\"/>\n",
        "        </node>\n",
        "      </node>\n",
        "    </node>\n",
        "    <word parent=\"0\" comment=\"\" form=\"?\" func=\"--\" pos=\"$.\" morph=\"--\" id=\"s_1_n_4\"/>\n",
        "  </sentence>\n",
        "  \n"
       ]
      }
     ],
     "prompt_number": 6
    },
    {
     "cell_type": "code",
     "collapsed": false,
     "input": [
      "def exportxml2igraph(exportxml_file):\n",
      "    # in igraph, adding a single edge is prohibitively slow,\n",
      "    # as the whole index of the graph has to be rebuild!\n",
      "    # http://stackoverflow.com/questions/13974279/igraph-why-is-add-edge-function-so-slow-ompared-to-add-edges\n",
      "    # to speed this up, store the edges in a list & call add_edges() once!\n",
      "    edges = []\n",
      "    idocgraph = ig.Graph()\n",
      "    \n",
      "    treeiter = etree.iterparse(TUEBADZ_FILE, tag='sentence')\n",
      "    for _action, sentence in treeiter:\n",
      "        sent_root_id = sentence.attrib['origin']\n",
      "        idocgraph.add_vertex(sent_root_id, label=sent_root_id)\n",
      "        \n",
      "        for element in sentence.iter('node', 'word'):\n",
      "            parent_element = element.getparent()\n",
      "            if parent_element.tag == 'node':\n",
      "                parent_id = parent_element.attrib['id']\n",
      "            elif parent_element.tag == 'sentence':\n",
      "                parent_id = parent_element.attrib['origin']\n",
      "            else:\n",
      "                sys.stderr.write(\"Unexpected parent '{}' of element '{}'\\n\".format(parent_element, element))\n",
      "            element_id = element.attrib.get('id') # <anaphora> doesn't have an ID\n",
      "\n",
      "            if element.tag == 'node':\n",
      "                element_label = element.attrib['cat']\n",
      "            elif element.tag == 'word':\n",
      "                element_label = element.attrib['form']\n",
      "            else:\n",
      "                continue # for now, ignore other elements (e.g. <anaphora>)\n",
      "\n",
      "            idocgraph.add_vertex(element_id, label=element_label)\n",
      "            edges.append((parent_id, element_id))\n",
      "    idocgraph.add_edges(edges)\n",
      "    return idocgraph\n",
      "\n",
      "            "
     ],
     "language": "python",
     "metadata": {},
     "outputs": [],
     "prompt_number": 35
    },
    {
     "cell_type": "code",
     "collapsed": false,
     "input": [
      "from collections import defaultdict\n",
      "\n",
      "def exportxml2dict(exportxml_file):\n",
      "    nodes = []\n",
      "    edges = []\n",
      "    \n",
      "    itree = etree.iterparse(TUEBADZ_FILE, tag='sentence')\n",
      "    for _action, sentence in itree:\n",
      "        sent_root_id = sentence.attrib['origin']\n",
      "        nodes.append( (sent_root_id, sent_root_id) )\n",
      "        \n",
      "        for element in sentence.iter('node', 'word'):\n",
      "            parent_element = element.getparent()\n",
      "            if parent_element.tag == 'node':\n",
      "                parent_id = parent_element.attrib['id']\n",
      "            elif parent_element.tag == 'sentence':\n",
      "                parent_id = parent_element.attrib['origin']\n",
      "            else:\n",
      "                sys.stderr.write(\"Unexpected parent '{}' of element '{}'\\n\".format(parent_element, element))\n",
      "            element_id = element.attrib.get('id') # <anaphora> doesn't have an ID\n",
      "\n",
      "            if element.tag == 'node':\n",
      "                element_label = element.attrib['cat']\n",
      "            elif element.tag == 'word':\n",
      "                element_label = element.attrib['form']\n",
      "            else:\n",
      "                continue # for now, ignore other elements (e.g. <anaphora>)\n",
      "\n",
      "            nodes.append( (element_id, element_label) )\n",
      "            edges.append( (parent_id, element_id) )\n",
      "    return nodes, edges"
     ],
     "language": "python",
     "metadata": {},
     "outputs": [],
     "prompt_number": 37
    },
    {
     "cell_type": "heading",
     "level": 1,
     "metadata": {},
     "source": [
      "Speed comparison"
     ]
    },
    {
     "cell_type": "code",
     "collapsed": false,
     "input": [
      "%%time\n",
      "nodes, edges = exportxml2dict(TUEBADZ_FILE) # 6.63s"
     ],
     "language": "python",
     "metadata": {},
     "outputs": [
      {
       "output_type": "stream",
       "stream": "stdout",
       "text": [
        "CPU times: user 6.08 s, sys: 528 ms, total: 6.61 s\n",
        "Wall time: 6.63 s\n"
       ]
      }
     ],
     "prompt_number": 17
    },
    {
     "cell_type": "heading",
     "level": 2,
     "metadata": {},
     "source": [
      "igraph: preprocessed node/edge lists, edges batch insert (total: 12.81 s)"
     ]
    },
    {
     "cell_type": "markdown",
     "metadata": {},
     "source": [
      "- create node/edge lists\n",
      "- add nodes one by one\n",
      "- add edges in one go"
     ]
    },
    {
     "cell_type": "markdown",
     "metadata": {},
     "source": [
      "```\n",
      "%%time\n",
      "\n",
      "idocgraph = ig.Graph()\n",
      "for node_id, node_label in nodes:\n",
      "    idocgraph.add_vertex(node_id, label=node_label)\n",
      "idocgraph.add_edges(edges)\n",
      "```\n",
      "\n",
      "CPU times: user 6.06 s, sys: 112 ms, total: 6.18 s\n",
      "Wall time: 6.18 s\n"
     ]
    },
    {
     "cell_type": "heading",
     "level": 2,
     "metadata": {},
     "source": [
      "igraph: preprocessed node/edge lists, nodes & edges batch insert (total: 7.85 s)"
     ]
    },
    {
     "cell_type": "markdown",
     "metadata": {},
     "source": [
      "- create node/edge lists\n",
      "- add nodes in one go (without labels)\n",
      "- add edges in one go"
     ]
    },
    {
     "cell_type": "markdown",
     "metadata": {},
     "source": [
      "```python\n",
      "%%time\n",
      "\n",
      "idocgraph = ig.Graph()\n",
      "node_ids = (node_id for (node_id, node_label) in nodes)\n",
      "idocgraph.add_vertices(node_ids)\n",
      "idocgraph.add_edges(edges)\n",
      "```\n",
      "\n",
      "CPU times: user 1.16 s, sys: 60 ms, total: 1.22 s\n",
      "Wall time: 1.22 s"
     ]
    },
    {
     "cell_type": "heading",
     "level": 2,
     "metadata": {},
     "source": [
      "igraph: preprocessed node/edge lists, nodes/edges inserted iteratively (intractable)"
     ]
    },
    {
     "cell_type": "markdown",
     "metadata": {},
     "source": [
      "- added each node and edge one by one\n",
      "- took too long (killed after 10mins)"
     ]
    },
    {
     "cell_type": "markdown",
     "metadata": {},
     "source": [
      "```python\n",
      "%%time\n",
      "\n",
      "idocgraph = ig.Graph()\n",
      "for node_id, node_label in nodes:\n",
      "    idocgraph.add_vertex(node_id, label=node_label)\n",
      "for source, target in edges:\n",
      "    # for each added edge, the whole index of the graph has to be rebuild!\n",
      "    # never do this for large graphs!\n",
      "    # http://stackoverflow.com/questions/13974279/igraph-why-is-add-edge-function-so-slow-ompared-to-add-edges\n",
      "    idocgraph.add_edge(source, target)\n",
      "```"
     ]
    },
    {
     "cell_type": "heading",
     "level": 2,
     "metadata": {},
     "source": [
      "igraph: combined preprocessing/inserting of nodes, edge caching/batch insert (total: 20.7s)"
     ]
    },
    {
     "cell_type": "markdown",
     "metadata": {},
     "source": [
      "```python\n",
      "%%time\n",
      "tueba_igraph = exportxml2igraph(TUEBADZ_FILE)\n",
      "```\n",
      "\n",
      "CPU times: user 20.7 s, sys: 156 ms, total: 20.9 s\n",
      "Wall time: 20.9 s"
     ]
    },
    {
     "cell_type": "code",
     "collapsed": false,
     "input": [
      "def exportxml2docgraph(exportxml_file):\n",
      "    edges = []\n",
      "    docgraph = dg.DiscourseDocumentGraph()\n",
      "    edge_attribs = {'layers': {docgraph.ns}} # default edge attributes\n",
      "    \n",
      "    treeiter = etree.iterparse(TUEBADZ_FILE, tag='sentence')\n",
      "    for _action, sentence in treeiter:\n",
      "        sent_root_id = sentence.attrib['origin']\n",
      "        docgraph.add_node(sent_root_id, label=sent_root_id)\n",
      "        \n",
      "        for element in sentence.iter('node', 'word'):\n",
      "            parent_element = element.getparent()\n",
      "            if parent_element.tag == 'node':\n",
      "                parent_id = parent_element.attrib['id']\n",
      "            elif parent_element.tag == 'sentence':\n",
      "                parent_id = parent_element.attrib['origin']\n",
      "            else:\n",
      "                sys.stderr.write(\"Unexpected parent '{}' of element '{}'\\n\".format(parent_element, element))\n",
      "            element_id = element.attrib.get('id') # <anaphora> doesn't have an ID\n",
      "\n",
      "            if element.tag == 'node':\n",
      "                element_label = element.attrib['cat']\n",
      "            elif element.tag == 'word':\n",
      "                element_label = element.attrib['form']\n",
      "            else:\n",
      "                continue # for now, ignore other elements (e.g. <anaphora>)\n",
      "\n",
      "            docgraph.add_node(element_id, label=element_label)\n",
      "            edges.append((parent_id, element_id, edge_attribs))\n",
      "    docgraph.add_edges_from(edges)\n",
      "    return docgraph"
     ],
     "language": "python",
     "metadata": {},
     "outputs": [],
     "prompt_number": 2
    },
    {
     "cell_type": "heading",
     "level": 2,
     "metadata": {},
     "source": [
      "networkx: combined preprocessing/inserting of nodes, edge caching/batch insert (intractable)"
     ]
    },
    {
     "cell_type": "markdown",
     "metadata": {},
     "source": [
      "- killed process after 12 hours"
     ]
    },
    {
     "cell_type": "code",
     "collapsed": false,
     "input": [],
     "language": "python",
     "metadata": {},
     "outputs": []
    }
   ],
   "metadata": {}
  }
 ]
}