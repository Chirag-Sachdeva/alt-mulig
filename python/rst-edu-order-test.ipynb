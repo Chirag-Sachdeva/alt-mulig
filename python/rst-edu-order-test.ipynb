{
 "metadata": {
  "name": "",
  "signature": "sha256:9013bdc0cba3dff8ea95c1a854d386dc7150ed073d14298e067617f1c0ec8e2d"
 },
 "nbformat": 3,
 "nbformat_minor": 0,
 "worksheets": [
  {
   "cells": [
    {
     "cell_type": "markdown",
     "metadata": {},
     "source": [
      "# Is the order of EDUs in the discoursegraph always the same  \n",
      "# as in the corresponding *.rs3 files?"
     ]
    },
    {
     "cell_type": "code",
     "collapsed": false,
     "input": [
      "import os\n",
      "import glob\n",
      "import discoursegraphs as dg\n",
      "from lxml import etree"
     ],
     "language": "python",
     "metadata": {},
     "outputs": [],
     "prompt_number": 1
    },
    {
     "cell_type": "code",
     "collapsed": false,
     "input": [
      "from discoursegraphs.readwrite.rst import get_edus"
     ],
     "language": "python",
     "metadata": {},
     "outputs": [],
     "prompt_number": 13
    },
    {
     "cell_type": "code",
     "collapsed": false,
     "input": [
      "RST_DIR = os.path.expanduser('~/corpora/potsdam-commentary-corpus-2.0.0/rst/')\n",
      "\n",
      "RST_TEST_FILE = os.path.join(RST_DIR, 'maz-1423.rs3')"
     ],
     "language": "python",
     "metadata": {},
     "outputs": [],
     "prompt_number": 31
    },
    {
     "cell_type": "code",
     "collapsed": false,
     "input": [
      "def extract_edus(rst_file, result_type='id'):\n",
      "    '''extract EDUs directly from a *.rs3 file'''\n",
      "    results = []\n",
      "    tree = etree.parse(rst_file)\n",
      "    for segment in tree.iter('segment'):\n",
      "        if result_type == 'id':\n",
      "            results.append('rst:{}'.format(segment.attrib['id']))\n",
      "        elif result_type == 'text':\n",
      "            results.append(segment.text.strip())\n",
      "        else:\n",
      "            raise ValueError('Unknown result_type: {}'.format(result_type))\n",
      "    return results"
     ],
     "language": "python",
     "metadata": {},
     "outputs": [],
     "prompt_number": 32
    },
    {
     "cell_type": "code",
     "collapsed": false,
     "input": [
      "for rst_file in glob.glob(os.path.join(RST_DIR, '*.rs3')):\n",
      "    rdg = dg.read_rs3(rst_file)\n",
      "    print rdg.name\n",
      "    if not get_edus(rdg) == extract_edus(rst_file):\n",
      "        sys.stderr.write(\"RST EDU fail in: {}\".format(rst_file))\n",
      "    \n",
      "    edu_strings_from_xml = extract_edus(rst_file, result_type='text')\n",
      "    edu_strings_from_graph = [rdg.node[edu]['rst:text'] for edu in get_edus(rdg)]\n",
      "    if not edu_strings_from_xml == edu_strings_from_xml:\n",
      "        sys.stderr.write(\"RST EDU fail in: {}\".format(rst_file))"
     ],
     "language": "python",
     "metadata": {},
     "outputs": [
      {
       "output_type": "stream",
       "stream": "stdout",
       "text": [
        "maz-16987.rs3\n",
        "maz-18945.rs3\n",
        "maz-18354.rs3\n",
        "maz-15734.rs3\n",
        "maz-9884.rs3\n",
        "maz-10374.rs3\n",
        "maz-14422.rs3\n",
        "maz-1453.rs3\n",
        "maz-18750.rs3"
       ]
      },
      {
       "output_type": "stream",
       "stream": "stdout",
       "text": [
        "\n",
        "maz-2316.rs3\n",
        "maz-8838.rs3\n",
        "maz-6488.rs3\n",
        "maz-18912.rs3\n",
        "maz-17539.rs3\n",
        "maz-11318.rs3\n",
        "maz-9538.rs3\n",
        "maz-16353.rs3"
       ]
      },
      {
       "output_type": "stream",
       "stream": "stdout",
       "text": [
        "\n",
        "maz-14654.rs3\n",
        "maz-14071.rs3\n",
        "maz-17242.rs3\n",
        "maz-4794.rs3\n",
        "maz-11280.rs3\n",
        "maz-19295.rs3\n",
        "maz-9782.rs3\n",
        "maz-6539.rs3\n",
        "maz-13915.rs3"
       ]
      },
      {
       "output_type": "stream",
       "stream": "stdout",
       "text": [
        "\n",
        "maz-5012.rs3\n",
        "maz-9612.rs3\n",
        "maz-11670.rs3\n",
        "maz-14072.rs3\n",
        "maz-3415.rs3\n",
        "maz-17673.rs3\n",
        "maz-14813.rs3\n",
        "maz-15347.rs3"
       ]
      },
      {
       "output_type": "stream",
       "stream": "stdout",
       "text": [
        "\n",
        "maz-7969.rs3\n",
        "maz-17664.rs3\n",
        "maz-16177.rs3\n",
        "maz-9335.rs3\n",
        "maz-18333.rs3\n",
        "maz-14384.rs3\n",
        "maz-8288.rs3\n",
        "maz-14792.rs3"
       ]
      },
      {
       "output_type": "stream",
       "stream": "stdout",
       "text": [
        "\n",
        "maz-18454.rs3\n",
        "maz-8134.rs3\n",
        "maz-4959.rs3\n",
        "maz-11299.rs3\n",
        "maz-19436.rs3\n",
        "maz-19012.rs3\n",
        "maz-6046.rs3"
       ]
      },
      {
       "output_type": "stream",
       "stream": "stdout",
       "text": [
        "\n",
        "maz-9521.rs3\n",
        "maz-4181.rs3\n",
        "maz-11735.rs3\n",
        "maz-4428.rs3"
       ]
      },
      {
       "output_type": "stream",
       "stream": "stdout",
       "text": [
        "\n",
        "maz-8563.rs3\n",
        "maz-13015.rs3\n",
        "maz-1757.rs3\n",
        "maz-17953.rs3\n",
        "maz-15155.rs3\n",
        "maz-17062.rs3\n",
        "maz-8509.rs3\n",
        "maz-15970.rs3"
       ]
      },
      {
       "output_type": "stream",
       "stream": "stdout",
       "text": [
        "\n",
        "maz-5297.rs3\n",
        "maz-11177.rs3\n",
        "maz-14055.rs3\n",
        "maz-16153.rs3\n",
        "maz-10205.rs3\n",
        "maz-14590.rs3\n",
        "maz-9207.rs3\n",
        "maz-16294.rs3"
       ]
      },
      {
       "output_type": "stream",
       "stream": "stdout",
       "text": [
        "\n",
        "maz-18914.rs3\n",
        "maz-13507.rs3\n",
        "maz-16250.rs3\n",
        "maz-8981.rs3\n",
        "maz-12473.rs3\n",
        "maz-7690.rs3\n",
        "maz-11766.rs3\n",
        "maz-19501.rs3"
       ]
      },
      {
       "output_type": "stream",
       "stream": "stdout",
       "text": [
        "\n",
        "maz-3080.rs3\n",
        "maz-6993.rs3\n",
        "maz-5873.rs3\n",
        "maz-3277.rs3\n",
        "maz-4636.rs3\n",
        "maz-3377.rs3\n",
        "maz-18160.rs3\n",
        "maz-12084.rs3"
       ]
      },
      {
       "output_type": "stream",
       "stream": "stdout",
       "text": [
        "\n",
        "maz-17706.rs3\n",
        "maz-1423.rs3\n",
        "maz-17300.rs3\n",
        "maz-15545.rs3\n",
        "maz-5007.rs3\n",
        "maz-1818.rs3\n",
        "maz-1679.rs3\n",
        "maz-11507.rs3"
       ]
      },
      {
       "output_type": "stream",
       "stream": "stdout",
       "text": [
        "\n",
        "maz-6159.rs3\n",
        "maz-5876.rs3\n",
        "maz-7071.rs3\n",
        "maz-3110.rs3\n",
        "maz-13311.rs3\n",
        "maz-15209.rs3\n",
        "maz-15609.rs3\n",
        "maz-17698.rs3"
       ]
      },
      {
       "output_type": "stream",
       "stream": "stdout",
       "text": [
        "\n",
        "maz-10503.rs3\n",
        "maz-19372.rs3\n",
        "maz-18480.rs3\n",
        "maz-11279.rs3\n",
        "maz-16590.rs3\n",
        "maz-6728.rs3\n",
        "maz-13946.rs3\n",
        "maz-17091.rs3"
       ]
      },
      {
       "output_type": "stream",
       "stream": "stdout",
       "text": [
        "\n",
        "maz-5010.rs3\n",
        "maz-18377.rs3\n",
        "maz-3547.rs3\n",
        "maz-8665.rs3\n",
        "maz-9650.rs3\n",
        "maz-6193.rs3\n",
        "maz-14399.rs3\n",
        "maz-12976.rs3\n",
        "maz-2669.rs3"
       ]
      },
      {
       "output_type": "stream",
       "stream": "stdout",
       "text": [
        "\n",
        "maz-7053.rs3\n",
        "maz-4282.rs3\n",
        "maz-19150.rs3\n",
        "maz-3073.rs3\n",
        "maz-14853.rs3\n",
        "maz-16360.rs3\n",
        "maz-2609.rs3\n",
        "maz-5039.rs3"
       ]
      },
      {
       "output_type": "stream",
       "stream": "stdout",
       "text": [
        "\n",
        "maz-18171.rs3\n",
        "maz-14047.rs3\n",
        "maz-19442.rs3\n",
        "maz-14841.rs3\n",
        "maz-17254.rs3\n",
        "maz-00002.rs3\n",
        "maz-2611.rs3\n",
        "maz-4031.rs3"
       ]
      },
      {
       "output_type": "stream",
       "stream": "stdout",
       "text": [
        "\n",
        "maz-6165.rs3\n",
        "maz-3367.rs3\n",
        "maz-10652.rs3\n",
        "maz-18712.rs3\n",
        "maz-00001.rs3\n",
        "maz-13125.rs3\n",
        "maz-12666.rs3"
       ]
      },
      {
       "output_type": "stream",
       "stream": "stdout",
       "text": [
        "\n",
        "maz-4472.rs3\n",
        "maz-12383.rs3\n",
        "maz-14881.rs3\n",
        "maz-5715.rs3\n",
        "maz-13758.rs3"
       ]
      },
      {
       "output_type": "stream",
       "stream": "stdout",
       "text": [
        "\n",
        "maz-9852.rs3\n",
        "maz-8586.rs3\n",
        "maz-10207.rs3\n",
        "maz-10423.rs3\n",
        "maz-7220.rs3\n",
        "maz-5932.rs3\n",
        "maz-5144.rs3\n",
        "maz-18006.rs3\n",
        "maz-10175.rs3"
       ]
      },
      {
       "output_type": "stream",
       "stream": "stdout",
       "text": [
        "\n",
        "maz-15702.rs3\n",
        "maz-6918.rs3\n",
        "maz-19074.rs3\n",
        "maz-12510.rs3\n",
        "maz-12576.rs3\n",
        "maz-8727.rs3\n",
        "maz-7967.rs3\n",
        "maz-12188.rs3"
       ]
      },
      {
       "output_type": "stream",
       "stream": "stdout",
       "text": [
        "\n",
        "maz-5701.rs3\n",
        "maz-11544.rs3\n",
        "maz-9891.rs3\n",
        "maz-13153.rs3\n",
        "maz-14172.rs3\n",
        "maz-9725.rs3\n",
        "maz-5709.rs3\n",
        "maz-10110.rs3\n",
        "maz-10902.rs3"
       ]
      },
      {
       "output_type": "stream",
       "stream": "stdout",
       "text": [
        "\n",
        "maz-10575.rs3\n",
        "maz-4403.rs3\n",
        "maz-8361.rs3\n",
        "maz-11916.rs3\n"
       ]
      }
     ],
     "prompt_number": 33
    },
    {
     "cell_type": "code",
     "collapsed": false,
     "input": [],
     "language": "python",
     "metadata": {},
     "outputs": []
    }
   ],
   "metadata": {}
  }
 ]
}