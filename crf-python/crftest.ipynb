{
 "metadata": {
  "name": "",
  "signature": "sha256:59d149a26e8070d5e40e7658337f673c20067836e3629126fae3f92b355c8828"
 },
 "nbformat": 3,
 "nbformat_minor": 0,
 "worksheets": [
  {
   "cells": [
    {
     "cell_type": "code",
     "collapsed": false,
     "input": [
      "import crfutils\n",
      "\n",
      "from ner import feature_extractor, fields, separator"
     ],
     "language": "python",
     "metadata": {},
     "outputs": [],
     "prompt_number": 3
    },
    {
     "cell_type": "code",
     "collapsed": false,
     "input": [
      "demo_file = open('demo.in', 'r')\n",
      "out_file = open('output.txt', 'wb')"
     ],
     "language": "python",
     "metadata": {},
     "outputs": [],
     "prompt_number": 6
    },
    {
     "cell_type": "code",
     "collapsed": false,
     "input": [
      "crfutils.main(feature_extractor, fields=fields, sep=separator,\n",
      "              infile=demo_file, outfile=out_file)"
     ],
     "language": "python",
     "metadata": {},
     "outputs": [
      {
       "output_type": "stream",
       "stream": "stderr",
       "text": [
        "Usage: -c [options]\n",
        "This utility reads a data set from STDIN, and outputs attributes to STDOUT.\n",
        "Each line of a data set must consist of field values separated by SEPARATOR\n",
        "characters. The names and order of field values can be specified by -f option.\n",
        "The separator character can be specified with -s option. Instead of outputting\n",
        "attributes, this utility tags the input data when a model file is specified by\n",
        "-t option (CRFsuite Python module must be installed).\n",
        "\n",
        "-c: error: no such option: --IPKernelApp.parent_appname\n"
       ]
      },
      {
       "ename": "SystemExit",
       "evalue": "2",
       "output_type": "pyerr",
       "traceback": [
        "An exception has occurred, use %tb to see the full traceback.\n",
        "\u001b[1;31mSystemExit\u001b[0m\u001b[1;31m:\u001b[0m 2\n"
       ]
      },
      {
       "output_type": "stream",
       "stream": "stderr",
       "text": [
        "To exit: use 'exit', 'quit', or Ctrl-D.\n"
       ]
      }
     ],
     "prompt_number": 8
    }
   ],
   "metadata": {}
  }
 ]
}