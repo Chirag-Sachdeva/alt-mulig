{
 "metadata": {
  "name": "",
  "signature": "sha256:3bbac2e2e54da061d48c99430810696b8dd631a2d373e69ede68524ba77408b5"
 },
 "nbformat": 3,
 "nbformat_minor": 0,
 "worksheets": [
  {
   "cells": [
    {
     "cell_type": "code",
     "collapsed": false,
     "input": [
      "def k_suffix_kernel(k, s, t):\n",
      "    \"\"\"\n",
      "    calculates k-suffix kernel of input strings s and t::\n",
      "    \n",
      "        K_{k}^{S}(s,t)=\n",
      "        \\begin{cases}\n",
      "        1 \\text{ if } s=s_{1}u, t=t_{1}u, \\text{ for } u \\in \\Sigma^{k} & \\\\\n",
      "        0 \\textrm{ otherwise}\n",
      "        \\end{cases}\n",
      "        \n",
      "        (Shawe-Taylor and Cristianini 2004, p.349)\n",
      "    \n",
      "    Parameters\n",
      "    ----------\n",
      "    k : int\n",
      "        suffix length\n",
      "    s : str\n",
      "        input string 1\n",
      "    t : str\n",
      "        input string 2\n",
      "    \n",
      "    Returns\n",
      "    -------\n",
      "    product : int\n",
      "        returns 1, iff the strings s and t have the same suffix (of length k).\n",
      "        otherwise, returns 0.\n",
      "    \"\"\"\n",
      "    assert min(len(s), len(t)) >= k, \\\n",
      "        \"strings must be at least as long as the given suffix length k\"\n",
      "    s_suffix = s[-k:] # suffix of length k\n",
      "    t_suffix = t[-k:]\n",
      "    return 1 if s_suffix == t_suffix else 0    "
     ],
     "language": "python",
     "metadata": {},
     "outputs": [],
     "prompt_number": 19
    },
    {
     "cell_type": "code",
     "collapsed": false,
     "input": [
      "a = 'aaa'\n",
      "a[-4:]"
     ],
     "language": "python",
     "metadata": {},
     "outputs": [
      {
       "metadata": {},
       "output_type": "pyout",
       "prompt_number": 20,
       "text": [
        "'aaa'"
       ]
      }
     ],
     "prompt_number": 20
    },
    {
     "cell_type": "code",
     "collapsed": false,
     "input": [
      "k_suffix_kernel(3, 'cat', 'cat')"
     ],
     "language": "python",
     "metadata": {},
     "outputs": [
      {
       "metadata": {},
       "output_type": "pyout",
       "prompt_number": 33,
       "text": [
        "1"
       ]
      }
     ],
     "prompt_number": 33
    },
    {
     "cell_type": "markdown",
     "metadata": {},
     "source": [
      "def p_spectrum_kernel(p, s, t):\n",
      "    \"\"\"\n",
      "    calculates the inner product of the p-spectra of\n",
      "    the strings s and t.\n",
      "    \n",
      "    The p-spectrum of a sequence is defined as the\n",
      "    histogram of frequencies of all its (contiguous)\n",
      "    substrings of length p::\n",
      "    \n",
      "        \\sum\\limits^{|s|-p+1}_{i=1} \\sum\\limits^{|t|-p+1}_{j=1} K^{S}_{p}(s(i:i+p), t(j:j+p))\n",
      "    \n",
      "        (Shawe-Taylor and Cristianini 2004, p.349)\n",
      "    \n",
      "    Paramters\n",
      "    ---------\n",
      "    p : int\n",
      "        length of contiguous substrings to be found\n",
      "    s : str\n",
      "        input string 1\n",
      "    t : str\n",
      "        input string 2       \n",
      "    \"\"\"\n",
      "    result = 0\n",
      "    for i in xrange(len(s)-p+1):\n",
      "        for j in xrange(len(s)-p+1):\n",
      "            result += k_suffix_kernel(p, s[i:i+p], t[j:j+p])\n",
      "    return result"
     ]
    },
    {
     "cell_type": "code",
     "collapsed": false,
     "input": [
      "p_spectrum_kernel(2, 'cat', 'cat')"
     ],
     "language": "python",
     "metadata": {},
     "outputs": [
      {
       "metadata": {},
       "output_type": "pyout",
       "prompt_number": 14,
       "text": [
        "2"
       ]
      }
     ],
     "prompt_number": 14
    },
    {
     "cell_type": "code",
     "collapsed": false,
     "input": [
      "p_spectrum_kernel(3, 'statistics', 'computation')"
     ],
     "language": "python",
     "metadata": {},
     "outputs": [
      {
       "metadata": {},
       "output_type": "pyout",
       "prompt_number": 23,
       "text": [
        "2"
       ]
      }
     ],
     "prompt_number": 23
    },
    {
     "cell_type": "code",
     "collapsed": false,
     "input": [
      "p_spectrum_kernel(1, 'cat', 'cat')"
     ],
     "language": "python",
     "metadata": {},
     "outputs": [
      {
       "metadata": {},
       "output_type": "pyout",
       "prompt_number": 24,
       "text": [
        "3"
       ]
      }
     ],
     "prompt_number": 24
    },
    {
     "cell_type": "code",
     "collapsed": false,
     "input": [
      "p_spectrum_kernel(2, 'cat', 'cat')"
     ],
     "language": "python",
     "metadata": {},
     "outputs": [
      {
       "metadata": {},
       "output_type": "pyout",
       "prompt_number": 25,
       "text": [
        "2"
       ]
      }
     ],
     "prompt_number": 25
    },
    {
     "cell_type": "code",
     "collapsed": false,
     "input": [
      "p_spectrum_kernel(3, 'cat', 'cat')"
     ],
     "language": "python",
     "metadata": {},
     "outputs": [
      {
       "metadata": {},
       "output_type": "pyout",
       "prompt_number": 26,
       "text": [
        "1"
       ]
      }
     ],
     "prompt_number": 26
    },
    {
     "cell_type": "code",
     "collapsed": false,
     "input": [
      "p_spectrum_kernel(4, 'cat', 'cat')"
     ],
     "language": "python",
     "metadata": {},
     "outputs": [
      {
       "metadata": {},
       "output_type": "pyout",
       "prompt_number": 27,
       "text": [
        "0"
       ]
      }
     ],
     "prompt_number": 27
    },
    {
     "cell_type": "code",
     "collapsed": false,
     "input": [
      "cat = 'cat'\n",
      "p = 3\n",
      "cat[:len(cat)-p+1]"
     ],
     "language": "python",
     "metadata": {},
     "outputs": [
      {
       "metadata": {},
       "output_type": "pyout",
       "prompt_number": 28,
       "text": [
        "'c'"
       ]
      }
     ],
     "prompt_number": 28
    },
    {
     "cell_type": "code",
     "collapsed": false,
     "input": [
      "cat[:-p+2]"
     ],
     "language": "python",
     "metadata": {},
     "outputs": [
      {
       "metadata": {},
       "output_type": "pyout",
       "prompt_number": 29,
       "text": [
        "'ca'"
       ]
      }
     ],
     "prompt_number": 29
    }
   ],
   "metadata": {}
  }
 ]
}