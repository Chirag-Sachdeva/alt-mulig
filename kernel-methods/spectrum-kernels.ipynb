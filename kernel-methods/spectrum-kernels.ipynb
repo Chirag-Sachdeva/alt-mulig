{
 "metadata": {
  "name": "",
  "signature": "sha256:25858932a50fcd27847c86fc24e743161dbb8019bd5712f272cc623849a5aed7"
 },
 "nbformat": 3,
 "nbformat_minor": 0,
 "worksheets": [
  {
   "cells": [
    {
     "cell_type": "code",
     "collapsed": false,
     "input": [
      "def k_suffix_kernel(k, s, t):\n",
      "    \"\"\"\n",
      "    calculates k-suffix kernel of input strings s and t::\n",
      "    \n",
      "        K_{k}^{S}(s,t)=\n",
      "        \\begin{cases}\n",
      "        1 \\text{ if } s=s_{1}u, t=t_{1}u, \\text{ for } u \\in \\Sigma^{k} & \\\\\n",
      "        0 \\textrm{ otherwise}\n",
      "        \\end{cases}\n",
      "        \n",
      "        (Shawe-Taylor and Cristianini 2004, p.349)\n",
      "    \n",
      "    Parameters\n",
      "    ----------\n",
      "    k : int\n",
      "        suffix length\n",
      "    s : str\n",
      "        input string 1\n",
      "    t : str\n",
      "        input string 2\n",
      "    \n",
      "    Returns\n",
      "    -------\n",
      "    product : int\n",
      "        returns 1, iff the strings s and t have the same suffix (of length k).\n",
      "        otherwise, returns 0.\n",
      "    \"\"\"\n",
      "    assert min(len(s), len(t)) >= k, \\\n",
      "        \"strings must be at least as long as the given suffix length k\"\n",
      "    s_suffix = s[-k:] # suffix of length k\n",
      "    t_suffix = t[-k:]\n",
      "    return 1 if s_suffix == t_suffix else 0    "
     ],
     "language": "python",
     "metadata": {},
     "outputs": [],
     "prompt_number": 19
    },
    {
     "cell_type": "code",
     "collapsed": false,
     "input": [
      "k_suffix_kernel(3, 'cat', 'cat')"
     ],
     "language": "python",
     "metadata": {},
     "outputs": [
      {
       "metadata": {},
       "output_type": "pyout",
       "prompt_number": 33,
       "text": [
        "1"
       ]
      }
     ],
     "prompt_number": 33
    },
    {
     "cell_type": "code",
     "collapsed": false,
     "input": [
      "def p_spectrum_kernel(p, s, t):\n",
      "    \"\"\"\n",
      "    calculates the inner product of the p-spectra of\n",
      "    the strings s and t.\n",
      "    \n",
      "    The p-spectrum of a sequence is defined as the\n",
      "    histogram of frequencies of all its (contiguous)\n",
      "    substrings of length p::\n",
      "    \n",
      "        \\sum\\limits^{|s|-p+1}_{i=1} \\sum\\limits^{|t|-p+1}_{j=1} K^{S}_{p}(s(i:i+p), t(j:j+p))\n",
      "    \n",
      "        (Shawe-Taylor and Cristianini 2004, p.349)\n",
      "    \n",
      "    Paramters\n",
      "    ---------\n",
      "    p : int\n",
      "        length of contiguous substrings to be found\n",
      "    s : str\n",
      "        input string 1\n",
      "    t : str\n",
      "        input string 2       \n",
      "    \"\"\"\n",
      "    result = 0\n",
      "    for i in xrange(len(s)-p+1):\n",
      "        for j in xrange(len(s)-p+1):\n",
      "            result += k_suffix_kernel(p, s[i:i+p], t[j:j+p])\n",
      "    return result"
     ],
     "language": "python",
     "metadata": {},
     "outputs": []
    },
    {
     "cell_type": "code",
     "collapsed": false,
     "input": [
      "p_spectrum_kernel(2, 'cat', 'cat')"
     ],
     "language": "python",
     "metadata": {},
     "outputs": [
      {
       "metadata": {},
       "output_type": "pyout",
       "prompt_number": 14,
       "text": [
        "2"
       ]
      }
     ],
     "prompt_number": 14
    },
    {
     "cell_type": "code",
     "collapsed": false,
     "input": [
      "p_spectrum_kernel(3, 'statistics', 'computation')"
     ],
     "language": "python",
     "metadata": {},
     "outputs": [
      {
       "metadata": {},
       "output_type": "pyout",
       "prompt_number": 23,
       "text": [
        "2"
       ]
      }
     ],
     "prompt_number": 23
    },
    {
     "cell_type": "code",
     "collapsed": false,
     "input": [
      "p_spectrum_kernel(1, 'cat', 'cat')"
     ],
     "language": "python",
     "metadata": {},
     "outputs": [
      {
       "metadata": {},
       "output_type": "pyout",
       "prompt_number": 24,
       "text": [
        "3"
       ]
      }
     ],
     "prompt_number": 24
    },
    {
     "cell_type": "code",
     "collapsed": false,
     "input": [
      "p_spectrum_kernel(2, 'cat', 'cat')"
     ],
     "language": "python",
     "metadata": {},
     "outputs": [
      {
       "metadata": {},
       "output_type": "pyout",
       "prompt_number": 25,
       "text": [
        "2"
       ]
      }
     ],
     "prompt_number": 25
    },
    {
     "cell_type": "code",
     "collapsed": false,
     "input": [
      "p_spectrum_kernel(3, 'cat', 'cat')"
     ],
     "language": "python",
     "metadata": {},
     "outputs": [
      {
       "metadata": {},
       "output_type": "pyout",
       "prompt_number": 26,
       "text": [
        "1"
       ]
      }
     ],
     "prompt_number": 26
    },
    {
     "cell_type": "code",
     "collapsed": false,
     "input": [
      "p_spectrum_kernel(4, 'cat', 'cat')"
     ],
     "language": "python",
     "metadata": {},
     "outputs": [
      {
       "metadata": {},
       "output_type": "pyout",
       "prompt_number": 27,
       "text": [
        "0"
       ]
      }
     ],
     "prompt_number": 27
    },
    {
     "cell_type": "markdown",
     "metadata": {},
     "source": [
      "function [result] = blended_spectrum_bf(s,t,p)\n",
      "%BLENDED_SPECTRUM_BF\n",
      "%        -Finds the contiguous subsequence match count between strings s and t\n",
      "%         by using a brute-force approach, for all substrings of length <= p.\n",
      "%        -This program does not take into account gap penalties.\n",
      "%         *(There is also a dynamic programming implementation of this algorithm.\n",
      "%           Type help blended_spectrum for info.)\n",
      "%\n",
      "%         K[p](s,t) = [Summation of h from 1 to p]\n",
      "%                     [Summation of i from 1 to |s|-p+1]\n",
      "%                     [Summation of j from 1 to |t|-p+1]\n",
      "%                         delta(s(i:i+p+1),t(j:j+p+1)),\n",
      "%\n",
      "%            (where delta is the identity function, which returns\n",
      "%             1 if the arguments are equal, and 0 otherwise.)\n",
      "%\n",
      "%        -Example: blended_spectrum_bf('abccc','abc', 2) returns a value of 7.\n",
      "%            (Note that blended_spectrum_bf('abccc','abc',2)=blended_spectrum_bf('abc','abccc',2) since K(s,t,p) = K(t,s,p) ).\n",
      "%        -Example: blended_spectrum_bf('a','a', 1) returns a value of 1.\n",
      "%        -Example: blended_spectrum_bf('a','a', 2) returns a value of 4.\n",
      "%        -Example: blended_spectrum_bf('a','b', 1) returns a value of 0.\n",
      "%        -Example: blended_spectrum_bf('ab','ab', 1) returns a value of 2.\n",
      "\n",
      "\n",
      "%------------------------------------------------------------------------------------------\n",
      "\n",
      "%Obtain lengths of strings\n",
      "[num_rows_s, n] = size(s);\n",
      "[num_rows_t, m] = size(t);\n",
      "\n",
      "%Initialize result variable\n",
      "result = 0;\n",
      "\n",
      "%Error checking statements:\n",
      "  %Make sure input vectors are horizontal.\n",
      "  if (num_rows_s ~= 1 | num_rows_t ~= 1)  \n",
      "     error('Error: s and t must be horizontal vectors.');\n",
      "  end;\n",
      "  \n",
      "  %If p is less than zero or not a number, program should quit due to faulty variable input.\n",
      "  if p <= 0 | ischar(p)\n",
      "      error('Error: p needs to be a number greater than 0.');\n",
      "  end;\n",
      "%End of error checking\n",
      "\n",
      "%Implement the algorithm with double 'for' loops.\n",
      "for h=1:p\n",
      "  for i=1:(n-h+1)\n",
      "      for j=1:(m-h+1)      \n",
      "          result = result + strcmpi( s(i:(i+h-1)), t(j:(j+h-1)) );\n",
      "      end;\n",
      "  end;\n",
      "end;\n"
     ]
    },
    {
     "cell_type": "code",
     "collapsed": false,
     "input": [
      "from functools32 import lru_cache\n",
      "\n",
      "def bruteforce_blended_spectrum_kernel(s, t, p):\n",
      "    \"\"\"\n",
      "    returns the number of contiguous subsequences/substrings\n",
      "    between strings s and t for all substrings of length <= p.\n",
      "    \n",
      "    Note: this (bruteforce) version does not consider\n",
      "    gap penalties (i.e. there's no lambda decay).\n",
      "    \n",
      "    Examples\n",
      "    --------\n",
      "    >>> bruteforce_blended_spectrum_kernel('a', 'a', 1)\n",
      "    1\n",
      "    >>> bruteforce_blended_spectrum_kernel('a', 'b', 1)\n",
      "    0\n",
      "    >>> bruteforce_blended_spectrum_kernel('ab', 'ab', 1)\n",
      "    2\n",
      "    >>> bruteforce_blended_spectrum_kernel('abccc', 'abc', 2)\n",
      "    7\n",
      "    \"\"\"\n",
      "    def delta(s, t):\n",
      "        \"\"\"identity function.\"\"\"\n",
      "        return 1 if s == t else 0\n",
      "    \n",
      "    result = 0\n",
      "    for h in xrange(p):\n",
      "        for i in xrange(len(s)-h):\n",
      "            for j in xrange(len(t)-h):\n",
      "                result += delta(s[i:i+h+1], t[j:j+h+1])\n",
      "    return result"
     ],
     "language": "python",
     "metadata": {},
     "outputs": [],
     "prompt_number": 81
    },
    {
     "cell_type": "code",
     "collapsed": false,
     "input": [
      "s = \"\"\"\n",
      "In mathematics, computer science, economics, and bioinformatics,\n",
      "dynamic programming is a method for solving complex problems\n",
      "by breaking them down into simpler subproblems.\"\"\"\n",
      "\n",
      "t = \"\"\"\n",
      "It is applicable to problems exhibiting the properties of\n",
      "overlapping subproblems[1] and optimal substructure\n",
      "(described below).\"\"\"\n"
     ],
     "language": "python",
     "metadata": {},
     "outputs": [],
     "prompt_number": 58
    }
   ],
   "metadata": {}
  }
 ]
}