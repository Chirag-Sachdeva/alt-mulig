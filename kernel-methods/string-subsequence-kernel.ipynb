{
 "metadata": {
  "name": "",
  "signature": "sha256:aba8d1c046fbc42b80ba6f123c03d6880c51356541c0e84bcd4b70c829c16fb9"
 },
 "nbformat": 3,
 "nbformat_minor": 0,
 "worksheets": [
  {
   "cells": [
    {
     "cell_type": "code",
     "collapsed": false,
     "input": [
      "# String subsequence kernel\n",
      "\n",
      "- Source: http://metaoptimize.com/qa/questions/4262/string-kernel-implementation\n",
      "- Author: Rok Mocnik\n"
     ],
     "language": "python",
     "metadata": {},
     "outputs": []
    },
    {
     "cell_type": "code",
     "collapsed": false,
     "input": [
      "def SSK(lamb, p):\n",
      "        \"\"\"Return subsequence kernel\"\"\"\n",
      "        cache = {} # added to make code work // AN\n",
      "        def SSKernel(xi,xj,lamb,p):\n",
      "            \"\"\"\n",
      "            It's not commented but, xi and xj are strings,\n",
      "            lamb and p are parameters described in the paper.\n",
      "            \n",
      "            It also caches already seen pairs of xi and xj.\n",
      "            \"\"\"\n",
      "            mykey = (xi, xj) if xi>xj else (xj, xi)\n",
      "            if not mykey in cache:\n",
      "                dps = []\n",
      "                for i in xrange(len(xi)):\n",
      "                    dps.append([lamb**2 if xi[i] == xj[j] else 0 for j in xrange(len(xj))])\n",
      "                dp = []\n",
      "                for i in xrange(len(xi)+1):\n",
      "                    dp.append([0]*(len(xj)+1))\n",
      "                k = [0]*(p+1)\n",
      "                for l in xrange(2, p + 1):\n",
      "                    for i in xrange(len(xi)):\n",
      "                        for j in xrange(len(xj)):\n",
      "                            dp[i+1][j+1] = dps[i][j] + lamb * dp[i][j+1] + lamb * dp[i+1][j] - lamb**2 * dp[i][j]\n",
      "                            if xi[i] == xj[j]:\n",
      "                                dps[i][j] = lamb**2 * dp[i][j]\n",
      "                                k[l] = k[l] + dps[i][j]\n",
      "                cache[mykey] = k[p]\n",
      "            return cache[mykey]\n",
      "        return lambda xi, xj: SSKernel(xi,xj,lamb,p)/(SSKernel(xi,xi,lamb,p) * SSKernel(xj,xj,lamb,p))**0.5"
     ],
     "language": "python",
     "metadata": {},
     "outputs": [],
     "prompt_number": 41
    },
    {
     "cell_type": "code",
     "collapsed": false,
     "input": [
      "def SSKernel(xi,xj,lamb,p):\n",
      "    \"\"\"\n",
      "    decay factor \u03bb \u2208 (0, 1)\n",
      "    \n",
      "    It's not commented but, xi and xj are strings,\n",
      "    lamb and p are parameters described in the paper.\n",
      "\n",
      "    It also caches already seen pairs of xi and xj.\n",
      "    \"\"\"\n",
      "    mykey = (xi, xj) if xi>xj else (xj, xi)\n",
      "    if not mykey in cache:\n",
      "        dps = []\n",
      "        for i in xrange(len(xi)):\n",
      "            dps_line = [lamb**2 if xi[i] == xj[j] else 0 for j in xrange(len(xj))]\n",
      "            dps.append(dps_line)\n",
      "            print \"xi: {0}, i: {1}.\\n{2}\".format(xi, i, dps_line)\n",
      "        dp = []\n",
      "        for i in xrange(len(xi)+1):\n",
      "            dp.append([0]*(len(xj)+1))\n",
      "        k = [0]*(p+1)\n",
      "        for l in xrange(2, p + 1):\n",
      "            for i in xrange(len(xi)):\n",
      "                for j in xrange(len(xj)):\n",
      "                    dp[i+1][j+1] = dps[i][j] + lamb * dp[i][j+1] + lamb * dp[i+1][j] - lamb**2 * dp[i][j]\n",
      "                    if xi[i] == xj[j]:\n",
      "                        dps[i][j] = lamb**2 * dp[i][j]\n",
      "                        k[l] = k[l] + dps[i][j]\n",
      "        cache[mykey] = k[p]\n",
      "    return cache[mykey], dp, dps"
     ],
     "language": "python",
     "metadata": {},
     "outputs": [],
     "prompt_number": 60
    },
    {
     "cell_type": "code",
     "collapsed": false,
     "input": [
      "cache = {}\n",
      "SSKernel('cart', 'curt', 1, 2)"
     ],
     "language": "python",
     "metadata": {},
     "outputs": [
      {
       "output_type": "stream",
       "stream": "stdout",
       "text": [
        "xi: cart, i: 0.\n",
        "[1, 0, 0, 0]\n",
        "xi: cart, i: 1.\n",
        "[0, 0, 0, 0]\n",
        "xi: cart, i: 2.\n",
        "[0, 0, 1, 0]\n",
        "xi: cart, i: 3.\n",
        "[0, 0, 0, 1]\n"
       ]
      },
      {
       "metadata": {},
       "output_type": "pyout",
       "prompt_number": 61,
       "text": [
        "(3,\n",
        " [[0, 0, 0, 0, 0],\n",
        "  [0, 1, 1, 1, 1],\n",
        "  [0, 1, 1, 1, 1],\n",
        "  [0, 1, 1, 2, 2],\n",
        "  [0, 1, 1, 2, 3]],\n",
        " [[0, 0, 0, 0], [0, 0, 0, 0], [0, 0, 1, 0], [0, 0, 0, 2]])"
       ]
      }
     ],
     "prompt_number": 61
    },
    {
     "cell_type": "code",
     "collapsed": false,
     "input": [
      "kant1, kant2 = \"science is organized knowledge\", \"wisdom is organized life\""
     ],
     "language": "python",
     "metadata": {},
     "outputs": [],
     "prompt_number": 29
    },
    {
     "cell_type": "code",
     "collapsed": false,
     "input": [
      "ssk = SSK(0.1, 3)\n",
      "ssk(kant1, kant2)"
     ],
     "language": "python",
     "metadata": {},
     "outputs": [
      {
       "metadata": {},
       "output_type": "pyout",
       "prompt_number": 49,
       "text": [
        "0.483600040361238"
       ]
      }
     ],
     "prompt_number": 49
    },
    {
     "cell_type": "code",
     "collapsed": false,
     "input": [
      "cache = {}\n",
      "SSKernel('car', 'cat', lamb=1, p=2)"
     ],
     "language": "python",
     "metadata": {},
     "outputs": [
      {
       "metadata": {},
       "output_type": "pyout",
       "prompt_number": 51,
       "text": [
        "(1,\n",
        " [[0, 0, 0, 0], [0, 1, 1, 1], [0, 1, 2, 2], [0, 1, 2, 2]],\n",
        " [[0, 0, 0], [0, 1, 0], [0, 0, 0]])"
       ]
      }
     ],
     "prompt_number": 51
    }
   ],
   "metadata": {}
  }
 ]
}