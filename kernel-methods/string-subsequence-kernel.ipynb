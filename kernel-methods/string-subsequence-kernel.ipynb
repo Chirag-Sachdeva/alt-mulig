{
 "metadata": {
  "name": "",
  "signature": "sha256:6d854b50872d68487e7a246b88dfecaafac32645e794ac6445f67033e62f86dc"
 },
 "nbformat": 3,
 "nbformat_minor": 0,
 "worksheets": [
  {
   "cells": [
    {
     "cell_type": "markdown",
     "metadata": {},
     "source": [
      "# String subsequence kernel\n",
      "\n",
      "- Source: http://metaoptimize.com/qa/questions/4262/string-kernel-implementation\n",
      "- Author: Rok Mocnik\n"
     ]
    },
    {
     "cell_type": "code",
     "collapsed": false,
     "input": [
      "def SSK(lamb, p):\n",
      "        \"\"\"Return subsequence kernel\"\"\"\n",
      "        cache = {} # added to make code work // AN\n",
      "        def SSKernel(xi,xj,lamb,p):\n",
      "            \"\"\"\n",
      "            It's not commented but, xi and xj are strings,\n",
      "            lamb and p are parameters described in the paper.\n",
      "            \n",
      "            It also caches already seen pairs of xi and xj.\n",
      "            \"\"\"\n",
      "            mykey = (xi, xj) if xi>xj else (xj, xi)\n",
      "            if not mykey in cache:\n",
      "                dps = []\n",
      "                for i in xrange(len(xi)):\n",
      "                    dps.append([lamb**2 if xi[i] == xj[j] else 0 for j in xrange(len(xj))])\n",
      "                dp = []\n",
      "                for i in xrange(len(xi)+1):\n",
      "                    dp.append([0]*(len(xj)+1))\n",
      "                k = [0]*(p+1)\n",
      "                for l in xrange(2, p + 1):\n",
      "                    for i in xrange(len(xi)):\n",
      "                        for j in xrange(len(xj)):\n",
      "                            dp[i+1][j+1] = dps[i][j] + lamb * dp[i][j+1] + lamb * dp[i+1][j] - lamb**2 * dp[i][j]\n",
      "                            if xi[i] == xj[j]:\n",
      "                                dps[i][j] = lamb**2 * dp[i][j]\n",
      "                                k[l] = k[l] + dps[i][j]\n",
      "                cache[mykey] = k[p]\n",
      "            return cache[mykey]\n",
      "        return lambda xi, xj: SSKernel(xi,xj,lamb,p)/(SSKernel(xi,xi,lamb,p) * SSKernel(xj,xj,lamb,p))**0.5"
     ],
     "language": "python",
     "metadata": {},
     "outputs": [],
     "prompt_number": 2
    },
    {
     "cell_type": "code",
     "collapsed": false,
     "input": [
      "def SSKernel(xi,xj,lamb,p, cache=None):\n",
      "    \"\"\"\n",
      "    decay factor \u03bb \u2208 (0, 1)\n",
      "    \n",
      "    It's not commented but, xi and xj are strings,\n",
      "    lamb and p are parameters described in the paper.\n",
      "\n",
      "    It also caches already seen pairs of xi and xj.\n",
      "    \"\"\"\n",
      "    if not cache:\n",
      "        cache = {}\n",
      "    mykey = (xi, xj) if xi>xj else (xj, xi)\n",
      "    if not mykey in cache:\n",
      "        dps = []\n",
      "        for i in xrange(len(xi)):\n",
      "            dps_line = [lamb**2 if xi[i] == xj[j] else 0 for j in xrange(len(xj))]\n",
      "            dps.append(dps_line)\n",
      "        dp = []\n",
      "        for i in xrange(len(xi)+1):\n",
      "            dp.append([0]*(len(xj)+1))\n",
      "        k = [0]*(p+1)\n",
      "        for l in xrange(2, p + 1):\n",
      "            for i in xrange(len(xi)):\n",
      "                for j in xrange(len(xj)):\n",
      "                    dp[i+1][j+1] = dps[i][j] + lamb * dp[i][j+1] + lamb * dp[i+1][j] - lamb**2 * dp[i][j]\n",
      "                    if xi[i] == xj[j]:\n",
      "                        dps[i][j] = lamb**2 * dp[i][j]\n",
      "                        k[l] = k[l] + dps[i][j]\n",
      "        cache[mykey] = k[p]\n",
      "    return cache[mykey], dp, dps"
     ],
     "language": "python",
     "metadata": {},
     "outputs": [],
     "prompt_number": 80
    },
    {
     "cell_type": "code",
     "collapsed": false,
     "input": [
      "kant1, kant2 = \"science is organized knowledge\", \"wisdom is organized life\""
     ],
     "language": "python",
     "metadata": {},
     "outputs": [],
     "prompt_number": 5
    },
    {
     "cell_type": "code",
     "collapsed": false,
     "input": [
      "cache = {}\n",
      "sim, dp, dps = SSKernel('car', 'cat', 0.5, 2)\n",
      "print sim\n",
      "print dps"
     ],
     "language": "python",
     "metadata": {},
     "outputs": [
      {
       "output_type": "stream",
       "stream": "stdout",
       "text": [
        "0.0625\n",
        "[[0.0, 0, 0], [0, 0.0625, 0], [0, 0, 0]]\n"
       ]
      }
     ],
     "prompt_number": 59
    },
    {
     "cell_type": "code",
     "collapsed": false,
     "input": [
      "def assk(s, t, lamb, p, cache=None):\n",
      "    \"\"\"\n",
      "    decay factor \u03bb \u2208 (0, 1)\n",
      "    \n",
      "    It's not commented but, s and t are strings,\n",
      "    lamb and p are parameters described in the paper.\n",
      "\n",
      "    It also caches already seen pairs of s and xj.\n",
      "    \"\"\"\n",
      "    if not cache:\n",
      "        cache = {}\n",
      "    mykey = (s, t) if s>t else (t, s)\n",
      "\n",
      "    if not mykey in cache:\n",
      "        dps = numpy.zeros( (len(s), len(t)) )\n",
      "        for i, s_i in enumerate(s):\n",
      "            for j, t_j in enumerate(t):\n",
      "                if s_i == t_j:\n",
      "                    dps[i][j] = lamb**2\n",
      "\n",
      "        dp = numpy.zeros( (len(s)+1, len(t)+1) )\n",
      "        k = numpy.zeros(p+1)\n",
      "\n",
      "        for l in xrange(2, p+1):\n",
      "            for i, s_i in enumerate(s):\n",
      "                for j, t_j in enumerate(t):\n",
      "                    dp[i+1][j+1] = dps[i][j] + lamb * dp[i][j+1] + lamb * dp[i+1][j] - lamb**2 * dp[i][j]\n",
      "                    if s_i == t_j:\n",
      "                        dps[i][j] = lamb**2 * dp[i][j]\n",
      "                        k[l] = k[l] + dps[i][j]\n",
      "        \n",
      "        cache[mykey] = k[p]                 \n",
      "    return cache[mykey], dp, dps"
     ],
     "language": "python",
     "metadata": {},
     "outputs": [],
     "prompt_number": 87
    },
    {
     "cell_type": "code",
     "collapsed": false,
     "input": [
      "%timeit assk('car', 'cat', 0.5, 2)"
     ],
     "language": "python",
     "metadata": {},
     "outputs": [
      {
       "output_type": "stream",
       "stream": "stdout",
       "text": [
        "10000 loops, best of 3: 64.3 \u00b5s per loop\n"
       ]
      }
     ],
     "prompt_number": 88
    },
    {
     "cell_type": "code",
     "collapsed": false,
     "input": [
      "%timeit SSKernel('car', 'cat', 0.5, 2)"
     ],
     "language": "python",
     "metadata": {},
     "outputs": [
      {
       "output_type": "stream",
       "stream": "stdout",
       "text": [
        "10000 loops, best of 3: 18.5 \u00b5s per loop\n"
       ]
      }
     ],
     "prompt_number": 86
    },
    {
     "cell_type": "code",
     "collapsed": false,
     "input": [
      "cache = {}\n",
      "sim, dp, dps = assk(kant1, kant2, 0.5, 2)\n",
      "print sim\n",
      "# print dps"
     ],
     "language": "python",
     "metadata": {},
     "outputs": [
      {
       "output_type": "stream",
       "stream": "stdout",
       "text": [
        "1.53739205403\n"
       ]
      }
     ],
     "prompt_number": 67
    },
    {
     "cell_type": "code",
     "collapsed": false,
     "input": [
      "cache = {}\n",
      "SSKernel('car', 'ca', lamb=1, p=2)"
     ],
     "language": "python",
     "metadata": {},
     "outputs": [
      {
       "output_type": "stream",
       "stream": "stdout",
       "text": [
        "xi: car, i: 0.\n",
        "[1, 0]\n",
        "xi: car, i: 1.\n",
        "[0, 1]\n",
        "xi: car, i: 2.\n",
        "[0, 0]\n"
       ]
      },
      {
       "metadata": {},
       "output_type": "pyout",
       "prompt_number": 9,
       "text": [
        "(1, [[0, 0, 0], [0, 1, 1], [0, 1, 2], [0, 1, 2]], [[0, 0], [0, 1], [0, 0]])"
       ]
      }
     ],
     "prompt_number": 9
    },
    {
     "cell_type": "code",
     "collapsed": false,
     "input": [
      "import numpy\n",
      "\n",
      "two_rows_three_cols = numpy.zeros((2,3))"
     ],
     "language": "python",
     "metadata": {},
     "outputs": [],
     "prompt_number": 12
    },
    {
     "cell_type": "code",
     "collapsed": false,
     "input": [
      "two_rows_three_cols[0] = [1,2,3]"
     ],
     "language": "python",
     "metadata": {},
     "outputs": [],
     "prompt_number": 22
    },
    {
     "cell_type": "code",
     "collapsed": false,
     "input": [
      "type(two_rows_three_cols[0][0])"
     ],
     "language": "python",
     "metadata": {},
     "outputs": [
      {
       "metadata": {},
       "output_type": "pyout",
       "prompt_number": 26,
       "text": [
        "numpy.float64"
       ]
      }
     ],
     "prompt_number": 26
    },
    {
     "cell_type": "code",
     "collapsed": false,
     "input": [
      "p = 5\n",
      "for l in xrange(2, p + 1):\n",
      "    print l"
     ],
     "language": "python",
     "metadata": {},
     "outputs": [
      {
       "output_type": "stream",
       "stream": "stdout",
       "text": [
        "2\n",
        "3\n",
        "4\n",
        "5\n"
       ]
      }
     ],
     "prompt_number": 28
    },
    {
     "cell_type": "code",
     "collapsed": false,
     "input": [
      "range(2,3)"
     ],
     "language": "python",
     "metadata": {},
     "outputs": [
      {
       "metadata": {},
       "output_type": "pyout",
       "prompt_number": 30,
       "text": [
        "[2]"
       ]
      }
     ],
     "prompt_number": 30
    }
   ],
   "metadata": {}
  }
 ]
}