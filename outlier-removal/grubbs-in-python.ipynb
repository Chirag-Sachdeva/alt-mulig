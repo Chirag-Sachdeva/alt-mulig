{
 "metadata": {
  "name": "",
  "signature": "sha256:3a221f2200006e90abcef021574c8bad6f7b2c501b797859fb23b75a901642c2"
 },
 "nbformat": 3,
 "nbformat_minor": 0,
 "worksheets": [
  {
   "cells": [
    {
     "cell_type": "markdown",
     "metadata": {},
     "source": [
      "# Generalized ESD test\n",
      "\n",
      "- a generalization over Grubbs for one or more outliers in a series\n",
      "- showcase for IPython widgets and @interact"
     ]
    },
    {
     "cell_type": "code",
     "collapsed": false,
     "input": [
      "%matplotlib inline"
     ],
     "language": "python",
     "metadata": {},
     "outputs": [],
     "prompt_number": 1
    },
    {
     "cell_type": "code",
     "collapsed": false,
     "input": [
      "import numpy as np\n",
      "import matplotlib.pylab as plt\n",
      "from PyAstronomy import pyasl\n",
      "\n",
      "# Convert data given at:\n",
      "# http://www.itl.nist.gov/div898/handbook/eda/section3/eda35h3.htm\n",
      "# to array.\n",
      "x = np.array(map(lambda x: float(x),\n",
      "        \"-0.25 0.68 0.94 1.15 1.20 1.26 1.26 1.34 1.38 1.43 1.49 1.49 \\\n",
      "          1.55 1.56 1.58 1.65 1.69 1.70 1.76 1.77 1.81 1.91 1.94 1.96 \\\n",
      "          1.99 2.06 2.09 2.10 2.14 2.15 2.23 2.24 2.26 2.35 2.37 2.40 \\\n",
      "          2.47 2.54 2.62 2.64 2.90 2.92 2.92 2.93 3.21 3.26 3.30 3.59 \\\n",
      "          3.68 4.30 4.64 5.34 5.42 6.01\".split()))\n",
      "\n",
      "# Apply the generalized ESD\n",
      "r = pyasl.generalizedESD(x, 10, 0.05, fullOutput=True)\n",
      "\n",
      "print \"Number of outliers: \", r[0]\n",
      "print \"Indices of outliers: \", r[1]\n",
      "print \"        R      Lambda\"\n",
      "for i in range(len(r[2])):\n",
      "  print \"%2d  %8.5f  %8.5f\" % ((i+1), r[2][i], r[3][i])\n",
      "\n",
      "# Plot the \"data\"\n",
      "plt.plot(x, 'b.')\n",
      "# and mark the outliers.\n",
      "for i in range(r[0]):\n",
      "  plt.plot(r[1][i], x[r[1][i]], 'rp')\n",
      "plt.show()"
     ],
     "language": "python",
     "metadata": {},
     "outputs": [
      {
       "output_type": "stream",
       "stream": "stdout",
       "text": [
        "Number of outliers:  3\n",
        "Indices of outliers:  [53, 52, 51]\n",
        "        R      Lambda\n",
        " 1   3.14819   3.15879\n",
        " 2   2.97114   3.15143\n",
        " 3   3.21044   3.14389\n",
        " 4   2.83814   3.13616\n",
        " 5   2.84416   3.12825\n",
        " 6   2.87769   3.12013\n",
        " 7   2.30345   3.11180\n",
        " 8   2.33534   3.10324\n",
        " 9   2.12480   3.09446\n",
        "10   2.09054   3.08542\n"
       ]
      },
      {
       "metadata": {},
       "output_type": "display_data",
       "png": "[encoded data removed]",
       "text": [
        "<matplotlib.figure.Figure at 0x3fc1a90>"
       ]
      }
     ],
     "prompt_number": 2
    },
    {
     "cell_type": "code",
     "collapsed": false,
     "input": [
      "import pandas as pd\n",
      "\n",
      "MPI_MATRIX = pd.read_csv('potatoes.tsv', sep='\\t')"
     ],
     "language": "python",
     "metadata": {},
     "outputs": [],
     "prompt_number": 4
    },
    {
     "cell_type": "code",
     "collapsed": false,
     "input": [
      "from IPython.html import widgets # Widget definitions\n",
      "from IPython.display import display # Used to display widgets in the notebook\n",
      "\n",
      "from IPython.html.widgets.interaction import interact\n",
      "\n",
      "# all the metrics avail. in scipy.spatial.distance.pdist\n",
      "\n",
      "\n",
      "column_names = list(MPI_MATRIX.columns)\n",
      "columns_dropdown = widgets.DropdownWidget(values=column_names, value='12D39077-7A6C-4BA8-9EBB-CFFF87CD9770')\n",
      "\n",
      "@interact(column_name=columns_dropdown)\n",
      "def plot_column(column_name):\n",
      "    plt.plot(MPI_MATRIX[column_name], 'b.')"
     ],
     "language": "python",
     "metadata": {},
     "outputs": [
      {
       "metadata": {},
       "output_type": "display_data",
       "png": "[encoded data removed]",
       "text": [
        "<matplotlib.figure.Figure at 0x55d7910>"
       ]
      }
     ],
     "prompt_number": 8
    },
    {
     "cell_type": "code",
     "collapsed": false,
     "input": [
      "def apply_generalizedESD(column_name, max_num_outliers=10, significance=0.05):\n",
      "    array = MPI_MATRIX[column_name]\n",
      "    r = pyasl.generalizedESD(array, max_num_outliers, significance, \n",
      "                             fullOutput=True)\n",
      "\n",
      "    # Plot the \"data\"\n",
      "    plt.plot(array, 'b.')\n",
      "    # and mark the outliers.\n",
      "    for i in range(r[0]):\n",
      "      plt.plot(r[1][i], array[r[1][i]], 'rp')\n",
      "    plt.show()\n",
      "    \n",
      "    print \"Number of outliers: \", r[0]\n",
      "    print \"Indices of outliers: \", r[1]\n",
      "    print \"        R      Lambda\"\n",
      "    for i in range(len(r[2])):\n",
      "      print \"%2d  %8.5f  %8.5f\" % ((i+1), r[2][i], r[3][i])"
     ],
     "language": "python",
     "metadata": {},
     "outputs": [],
     "prompt_number": 9
    },
    {
     "cell_type": "code",
     "collapsed": true,
     "input": [
      "interact(apply_generalizedESD, column_name=columns_dropdown)"
     ],
     "language": "python",
     "metadata": {},
     "outputs": [
      {
       "metadata": {},
       "output_type": "display_data",
       "png": "[encoded data removed]",
       "text": [
        "<matplotlib.figure.Figure at 0x55dee90>"
       ]
      },
      {
       "output_type": "stream",
       "stream": "stdout",
       "text": [
        "Number of outliers:  1\n",
        "Indices of outliers:  [1]\n",
        "        R      Lambda\n",
        " 1   6.91733   3.37010\n",
        " 2   2.62610   3.36649\n",
        " 3   2.70795   3.36284\n",
        " 4   2.71654   3.35914\n",
        " 5   2.64303   3.35539\n",
        " 6   2.65510   3.35159\n",
        " 7   2.71684   3.34774\n",
        " 8   2.81750   3.34384\n",
        " 9   2.35844   3.33988\n",
        "10   2.43658   3.33587\n"
       ]
      },
      {
       "metadata": {},
       "output_type": "pyout",
       "prompt_number": 10,
       "text": [
        "<function __main__.apply_generalizedESD>"
       ]
      }
     ],
     "prompt_number": 10
    }
   ],
   "metadata": {}
  }
 ]
}