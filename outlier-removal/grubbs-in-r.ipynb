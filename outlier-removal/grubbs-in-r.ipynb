{
 "metadata": {
  "name": "",
  "signature": "sha256:cb46d3ee9f12f3de09775bb6fef9dfe17c684be1bae9bb118f5ba239b157fd3d"
 },
 "nbformat": 3,
 "nbformat_minor": 0,
 "worksheets": [
  {
   "cells": [
    {
     "cell_type": "code",
     "collapsed": false,
     "input": [
      "#  %load_ext rmagic\n",
      "%load_ext rpy2.ipython"
     ],
     "language": "python",
     "metadata": {},
     "outputs": [
      {
       "output_type": "stream",
       "stream": "stdout",
       "text": [
        "The rpy2.ipython extension is already loaded. To reload it, use:\n",
        "  %reload_ext rpy2.ipython\n"
       ]
      }
     ],
     "prompt_number": 3
    },
    {
     "cell_type": "code",
     "collapsed": false,
     "input": [
      "%%R\n",
      "\n",
      "library(outliers)"
     ],
     "language": "python",
     "metadata": {},
     "outputs": [],
     "prompt_number": 4
    },
    {
     "cell_type": "code",
     "collapsed": false,
     "input": [
      "%%R\n",
      "\n",
      "grubbs.test"
     ],
     "language": "python",
     "metadata": {},
     "outputs": [
      {
       "metadata": {},
       "output_type": "display_data",
       "text": [
        "function (x, type = 10, opposite = FALSE, two.sided = FALSE) \n",
        "{\n",
        "    if (sum(c(10, 11, 20) == type) == 0) \n",
        "        stop(\"Incorrect type\")\n",
        "    DNAME <- deparse(substitute(x))\n",
        "    x <- sort(x[complete.cases(x)])\n",
        "    n <- length(x)\n",
        "    if (type == 11) {\n",
        "        g <- (x[n] - x[1])/sd(x)\n",
        "        u <- var(x[2:(n - 1)])/var(x) * (n - 3)/(n - 1)\n",
        "        pval = 1 - pgrubbs(g, n, type = 11)\n",
        "        method <- \"Grubbs test for two opposite outliers\"\n",
        "        alt = paste(x[1], \"and\", x[n], \"are outliers\")\n",
        "    }\n",
        "    else if (type == 10) {\n",
        "        if (xor(((x[n] - mean(x)) < (mean(x) - x[1])), opposite)) {\n",
        "            alt = paste(\"lowest value\", x[1], \"is an outlier\")\n",
        "            o <- x[1]\n",
        "            d <- x[2:n]\n",
        "        }\n",
        "        else {\n",
        "            alt = paste(\"highest value\", x[n], \"is an outlier\")\n",
        "            o <- x[n]\n",
        "            d <- x[1:(n - 1)]\n",
        "        }\n",
        "        g <- abs(o - mean(x))/sd(x)\n",
        "        u <- var(d)/var(x) * (n - 2)/(n - 1)\n",
        "        pval <- 1 - pgrubbs(g, n, type = 10)\n",
        "        method <- \"Grubbs test for one outlier\"\n",
        "    }\n",
        "    else {\n",
        "        if (xor(((x[n] - mean(x)) < (mean(x) - x[1])), opposite)) {\n",
        "            alt = paste(\"lowest values\", x[1], \",\", x[2], \"are outliers\")\n",
        "            u <- var(x[3:n])/var(x) * (n - 3)/(n - 1)\n",
        "        }\n",
        "        else {\n",
        "            alt = paste(\"highest values\", x[n - 1], \",\", x[n], \n",
        "                \"are outliers\")\n",
        "            u <- var(x[1:(n - 2)])/var(x) * (n - 3)/(n - 1)\n",
        "        }\n",
        "        g <- NULL\n",
        "        pval <- pgrubbs(u, n, type = 20)\n",
        "        method <- \"Grubbs test for two outliers\"\n",
        "    }\n",
        "    if (two.sided) {\n",
        "        pval <- 2 * pval\n",
        "        if (pval > 1) \n",
        "            pval <- 2 - pval\n",
        "    }\n",
        "    RVAL <- list(statistic = c(G = g, U = u), alternative = alt, \n",
        "        p.value = pval, method = method, data.name = DNAME)\n",
        "    class(RVAL) <- \"htest\"\n",
        "    return(RVAL)\n",
        "}\n",
        "<environment: namespace:outliers>\n"
       ]
      }
     ],
     "prompt_number": 5
    },
    {
     "cell_type": "code",
     "collapsed": false,
     "input": [
      "%%R\n",
      "\n",
      "help(grubbs.test)"
     ],
     "language": "python",
     "metadata": {},
     "outputs": [
      {
       "output_type": "stream",
       "stream": "stdout",
       "text": [
        "R Help on \u2018grubbs.test\u2019grubbs.test              package:outliers              R Documentation\n",
        "\n",
        "_\bG_\br_\bu_\bb_\bb_\bs _\bt_\be_\bs_\bt_\bs _\bf_\bo_\br _\bo_\bn_\be _\bo_\br _\bt_\bw_\bo _\bo_\bu_\bt_\bl_\bi_\be_\br_\bs _\bi_\bn _\bd_\ba_\bt_\ba _\bs_\ba_\bm_\bp_\bl_\be\n",
        "\n",
        "_\bD_\be_\bs_\bc_\br_\bi_\bp_\bt_\bi_\bo_\bn:\n",
        "\n",
        "     Performs Grubbs' test for one outlier, two outliers on one tail,\n",
        "     or two outliers on opposite tails, in small sample.\n",
        "\n",
        "_\bU_\bs_\ba_\bg_\be:\n",
        "\n",
        "     grubbs.test(x, type = 10, opposite = FALSE, two.sided = FALSE)\n",
        "     \n",
        "_\bA_\br_\bg_\bu_\bm_\be_\bn_\bt_\bs:\n",
        "\n",
        "       x: a numeric vector for data values.\n",
        "\n",
        "opposite: a logical indicating whether you want to check not the value\n",
        "          with largest difference from the mean, but opposite (lowest,\n",
        "          if most suspicious is highest etc.)\n",
        "\n",
        "    type: Integer value indicating test variant. 10 is a test for one\n",
        "          outlier (side is detected automatically and can be reversed\n",
        "          by \u2018opposite\u2019 parameter). 11 is a test for two outliers on\n",
        "          opposite tails, 20 is test for two outliers in one tail.\n",
        "\n",
        "two.sided: Logical value indicating if there is a need to treat this\n",
        "          test as two-sided.\n",
        "\n",
        "_\bD_\be_\bt_\ba_\bi_\bl_\bs:\n",
        "\n",
        "     The function can perform three tests given and discussed by Grubbs\n",
        "     (1950).\n",
        "\n",
        "     First test (10) is used to detect if the sample dataset contains\n",
        "     one outlier, statistically different than the other values. Test\n",
        "     is based by calculating score of this outlier G (outlier minus\n",
        "     mean and divided by sd) and comparing it to appropriate critical\n",
        "     values. Alternative method is calculating ratio of variances of\n",
        "     two datasets - full dataset and dataset without outlier. The\n",
        "     obtained value called U is bound with G by simple formula.\n",
        "\n",
        "     Second test (11) is used to check if lowest and highest value are\n",
        "     two outliers on opposite tails of sample. It is based on\n",
        "     calculation of ratio of range to standard deviation of the sample.\n",
        "\n",
        "     Third test (20) calculates ratio of variance of full sample and\n",
        "     sample without two extreme observations. It is used to detect if\n",
        "     dataset contains two outliers on the same tail.\n",
        "\n",
        "     The p-values are calculated using \u2018qgrubbs\u2019 function.\n",
        "\n",
        "_\bV_\ba_\bl_\bu_\be:\n",
        "\n",
        "statistic: the value statistic. For type 10 it is difference between\n",
        "          outlier and the mean divided by standard deviation, and for\n",
        "          type 20 it is sample range divided by standard deviation.\n",
        "          Additional value U is ratio of sample variances with and\n",
        "          withour suspicious outlier.  According to Grubbs (1950) these\n",
        "          values for type 10 are bound by simple formula and only one\n",
        "          of them can be used, but function gives both. For type 20 the\n",
        "          G is the same as U.\n",
        "\n",
        " p.value: the p-value for the test.\n",
        "\n",
        "alternative: a character string describing the alternative hypothesis.\n",
        "\n",
        "  method: a character string indicating what type of test was\n",
        "          performed.\n",
        "\n",
        "data.name: name of the data argument.\n",
        "\n",
        "_\bA_\bu_\bt_\bh_\bo_\br(_\bs):\n",
        "\n",
        "     Lukasz Komsta\n",
        "\n",
        "_\bR_\be_\bf_\be_\br_\be_\bn_\bc_\be_\bs:\n",
        "\n",
        "     Grubbs, F.E. (1950). Sample Criteria for testing outlying\n",
        "     observations. Ann. Math. Stat. 21, 1, 27-58.\n",
        "\n",
        "_\bS_\be_\be _\bA_\bl_\bs_\bo:\n",
        "\n",
        "     \u2018dixon.test\u2019, \u2018chisq.out.test\u2019\n",
        "\n",
        "_\bE_\bx_\ba_\bm_\bp_\bl_\be_\bs:\n",
        "\n",
        "     set.seed(1234)\n",
        "     x = rnorm(10)\n",
        "     grubbs.test(x)\n",
        "     grubbs.test(x,type=20)\n",
        "     grubbs.test(x,type=11)\n",
        "     \n"
       ]
      }
     ],
     "prompt_number": 6
    },
    {
     "cell_type": "code",
     "collapsed": false,
     "input": [
      "%%R \n",
      "\n",
      "set.seed(1234)\n",
      "x = rnorm(10)\n",
      "grubbs.test(x)"
     ],
     "language": "python",
     "metadata": {},
     "outputs": [
      {
       "metadata": {},
       "output_type": "display_data",
       "text": [
        "\n",
        "\tGrubbs test for one outlier\n",
        "\n",
        "data:  x\n",
        "G = 1.9708, U = 0.5205, p-value = 0.1323\n",
        "alternative hypothesis: lowest value -2.34569770262935 is an outlier\n",
        "\n"
       ]
      }
     ],
     "prompt_number": 7
    },
    {
     "cell_type": "code",
     "collapsed": false,
     "input": [
      "%%R\n",
      "print(x)\n",
      "plot(x)"
     ],
     "language": "python",
     "metadata": {},
     "outputs": [
      {
       "metadata": {},
       "output_type": "display_data",
       "text": [
        " [1] -1.2070657  0.2774292  1.0844412 -2.3456977  0.4291247  0.5060559\n",
        " [7] -0.5747400 -0.5466319 -0.5644520 -0.8900378\n"
       ]
      },
      {
       "metadata": {},
       "output_type": "display_data",
       "png": "[encoded data removed]"
      }
     ],
     "prompt_number": 8
    },
    {
     "cell_type": "raw",
     "metadata": {},
     "source": [
      "type : int in (10, 11, 20)\n",
      "    10: tests for one outlier (side doesn't matter, can be reversed w/\n",
      "    'opposite' parameter)\n",
      "    11: tests for two outliers on opposite tails\n",
      "    20:  tests for two outliers on the same tail\n"
     ]
    },
    {
     "cell_type": "code",
     "collapsed": false,
     "input": [
      "%%R\n",
      "\n",
      "find_one_outlier <- function (x, opposite = FALSE) \n",
      "{\n",
      "    DNAME <- deparse(substitute(x))\n",
      "    x <- sort(x[complete.cases(x)])\n",
      "    n <- length(x)\n",
      "\n",
      "    if (xor(((x[n] - mean(x)) < (mean(x) - x[1])), opposite)) {\n",
      "        alt = paste(\"lowest value\", x[1], \"is an outlier\")\n",
      "        o <- x[1]\n",
      "        d <- x[2:n]\n",
      "    }\n",
      "    else {\n",
      "        alt = paste(\"highest value\", x[n], \"is an outlier\")\n",
      "        o <- x[n]\n",
      "        d <- x[1:(n - 1)]\n",
      "    }\n",
      "    g <- abs(o - mean(x))/sd(x)\n",
      "    u <- var(d)/var(x) * (n - 2)/(n - 1)\n",
      "    pval <- 1 - pgrubbs(g, n, type = 10)\n",
      "    method <- \"Grubbs test for one outlier\"\n",
      "\n",
      "    \n",
      "    RVAL <- list(statistic = c(G = g, U = u), alternative = alt, \n",
      "        p.value = pval, method = method, data.name = DNAME,\n",
      "        outlier_value = o, outlier_rowname = g)\n",
      "    class(RVAL) <- \"htest\"\n",
      "    return(RVAL)\n",
      "}"
     ],
     "language": "python",
     "metadata": {},
     "outputs": [],
     "prompt_number": 9
    },
    {
     "cell_type": "code",
     "collapsed": false,
     "input": [
      "%%R \n",
      "\n",
      "set.seed(1234)\n",
      "x = rnorm(10)\n",
      "print(x)\n",
      "plot(x)"
     ],
     "language": "python",
     "metadata": {},
     "outputs": [
      {
       "metadata": {},
       "output_type": "display_data",
       "text": [
        " [1] -1.2070657  0.2774292  1.0844412 -2.3456977  0.4291247  0.5060559\n",
        " [7] -0.5747400 -0.5466319 -0.5644520 -0.8900378\n"
       ]
      },
      {
       "metadata": {},
       "output_type": "display_data",
       "png": "[encoded data removed]"
      }
     ],
     "prompt_number": 10
    },
    {
     "cell_type": "code",
     "collapsed": false,
     "input": [
      "%%R\n",
      "result <- find_one_outlier(x)\n",
      "print(result$outlier_value)\n",
      "print(result$outlier_rowname)"
     ],
     "language": "python",
     "metadata": {},
     "outputs": [
      {
       "metadata": {},
       "output_type": "display_data",
       "text": [
        "[1] -2.345698\n",
        "[1] 1.970842\n"
       ]
      }
     ],
     "prompt_number": 11
    },
    {
     "cell_type": "code",
     "collapsed": false,
     "input": [
      "%%R\n",
      "\n",
      "mpitable <- read.csv('potatoes.tsv', sep='\\t')"
     ],
     "language": "python",
     "metadata": {},
     "outputs": [],
     "prompt_number": 12
    },
    {
     "cell_type": "code",
     "collapsed": false,
     "input": [
      "%%R\n",
      "\n",
      "plot(mpitable[,7])"
     ],
     "language": "python",
     "metadata": {},
     "outputs": [
      {
       "metadata": {},
       "output_type": "display_data",
       "png": "[encoded data removed]"
      }
     ],
     "prompt_number": 25
    },
    {
     "cell_type": "code",
     "collapsed": false,
     "input": [
      "%%R\n",
      "find_one_outlier(mpitable[,3])"
     ],
     "language": "python",
     "metadata": {},
     "outputs": [
      {
       "metadata": {},
       "output_type": "display_data",
       "text": [
        "\n",
        "\tGrubbs test for one outlier\n",
        "\n",
        "data:  mpitable[, 3]\n",
        "G = 2.9248, U = 0.9090, p-value = 0.1353\n",
        "alternative hypothesis: lowest value 4.376582008 is an outlier\n",
        "\n"
       ]
      }
     ],
     "prompt_number": 21
    }
   ],
   "metadata": {}
  }
 ]
}