{
 "metadata": {
  "name": "",
  "signature": "sha256:719e06cfbaccef6bbe8dd05f10707296237b2f10ab839d59b32b5577212ffab9"
 },
 "nbformat": 3,
 "nbformat_minor": 0,
 "worksheets": [
  {
   "cells": [
    {
     "cell_type": "markdown",
     "metadata": {},
     "source": [
      "# Generalized ESD outlier report for potatoes.tsv"
     ]
    },
    {
     "cell_type": "code",
     "collapsed": false,
     "input": [
      "%matplotlib inline"
     ],
     "language": "python",
     "metadata": {},
     "outputs": [],
     "prompt_number": 20
    },
    {
     "cell_type": "code",
     "collapsed": false,
     "input": [
      "import numpy as np\n",
      "import matplotlib.pylab as plt\n",
      "from PyAstronomy import pyasl\n",
      "import pandas as pd\n",
      "\n",
      "from IPython.html import widgets # Widget definitions\n",
      "from IPython.display import display # Used to display widgets in the notebook\n",
      "from IPython.html.widgets.interaction import interact\n"
     ],
     "language": "python",
     "metadata": {},
     "outputs": [],
     "prompt_number": 21
    },
    {
     "cell_type": "code",
     "collapsed": false,
     "input": [
      "MPI_MATRIX = pd.read_csv('potatoes.tsv', sep='\\t')\n",
      "\n",
      "column_names = list(MPI_MATRIX.columns)\n",
      "columns_dropdown = widgets.DropdownWidget(values=column_names)"
     ],
     "language": "python",
     "metadata": {},
     "outputs": [],
     "prompt_number": 35
    },
    {
     "cell_type": "code",
     "collapsed": false,
     "input": [
      "def apply_generalizedESD(column_name, max_num_outliers=10,\n",
      "                         significance=0.05):\n",
      "    array = MPI_MATRIX[column_name]\n",
      "    r = pyasl.generalizedESD(array, max_num_outliers,\n",
      "                             significance, fullOutput=True)\n",
      "\n",
      "    # Plot the \"data\"\n",
      "    plt.plot(array, 'b.')\n",
      "    # and mark the outliers.\n",
      "    num_of_outliers = r[0]\n",
      "    outlier_ids = r[1]\n",
      "    for i in range(num_of_outliers):\n",
      "      plt.plot(outlier_ids[i], array[outlier_ids[i]], 'rp')\n",
      "    plt.show()\n",
      "    \n",
      "    print \"Number of outliers: \", num_of_outliers\n",
      "    print \"Indices of outliers: \", outlier_ids\n",
      "    print \"        R      Lambda\"\n",
      "    for i in range(len(r[2])): # for each outlier candidate ...\n",
      "      # index, \"R statistics\", lambda\n",
      "      # NOTE: the lambda value determines which point\n",
      "      #       is regarded as an outlier\n",
      "      print \"%2d  %8.5f  %8.5f\" % ((i+1), r[2][i], r[3][i])"
     ],
     "language": "python",
     "metadata": {},
     "outputs": [],
     "prompt_number": 23
    },
    {
     "cell_type": "code",
     "collapsed": false,
     "input": [
      "def cv(x):\n",
      "    \"\"\"calculates the coefficient of variation of x\"\"\"\n",
      "    return np.std(x, ddof=1) / np.mean(x)"
     ],
     "language": "python",
     "metadata": {},
     "outputs": [],
     "prompt_number": 24
    },
    {
     "cell_type": "code",
     "collapsed": false,
     "input": [
      "def esd_for_replicant_groups(column_name, num_of_replicants=3):\n",
      "    column = MPI_MATRIX[column_name]\n",
      "\n",
      "    results = []\n",
      "    start = 0\n",
      "    for i in range(len(column) / num_of_replicants):\n",
      "        replicant_group = column[start:start+num_of_replicants]\n",
      "        group_id = MPI_MATRIX['group'][start]\n",
      "        group_cv = cv(replicant_group)\n",
      "\n",
      "        r = pyasl.generalizedESD(replicant_group, 1, alpha=0.05)\n",
      "        num_of_outliers = r[0]\n",
      "        outlier_ids_in_replicant_group = r[1]\n",
      "        if outlier_ids_in_replicant_group: # if there is an outlier\n",
      "            outlier_id = range(start, start+num_of_replicants)[outlier_ids_in_replicant_group[0]]\n",
      "            results.append( (group_id, replicant_group, group_cv, outlier_id) )\n",
      "\n",
      "        start += num_of_replicants\n",
      "    return column, results\n"
     ],
     "language": "python",
     "metadata": {},
     "outputs": [],
     "prompt_number": 26
    },
    {
     "cell_type": "code",
     "collapsed": false,
     "input": [
      "\n",
      "# @interact(column_name=columns_dropdown,\n",
      "#           cv_threshold=widgets.FloatSliderWidget(min=0.00, max=0.30, value=0.1, step=0.01))\n",
      "def esd_cv_replicant_groups(column_name, cv_threshold=0.1):\n",
      "    column, results = esd_for_replicant_groups(column_name)\n",
      "    if any(group_cv > cv_threshold for (group_id, group_values, group_cv, outlier_row) in results):\n",
      "        print \"Analyte: \", column_name\n",
      "        plt.plot(column, 'b.')\n",
      "        for (group_id, group_values, group_cv, outlier_row) in results:\n",
      "            if group_cv > cv_threshold:\n",
      "                print \"outlier: {}, sample ID: {}\".format(column[outlier_row], MPI_MATRIX['id'][outlier_row])\n",
      "                print \"\\tgroup ID: {}, values: {}, CV: {}\".format(group_id, [round(v, 2) for v in group_values], round(group_cv, 2))\n",
      "                plt.plot(outlier_row, column[outlier_row], 'rp')\n",
      "    plt.show()\n"
     ],
     "language": "python",
     "metadata": {},
     "outputs": [],
     "prompt_number": 33
    },
    {
     "cell_type": "code",
     "collapsed": false,
     "input": [
      "@interact(cv_threshold=widgets.FloatSliderWidget(min=0.00, max=0.30, value=0.1, step=0.01))\n",
      "def esd_cv_report(cv_threshold):\n",
      "    for colname in MPI_MATRIX.columns[2:]: # ignore group and id column\n",
      "        esd_cv_replicant_groups(colname, cv_threshold=cv_threshold)\n",
      "        print \"\\n\\n\"\n",
      "\n"
     ],
     "language": "python",
     "metadata": {},
     "outputs": [
      {
       "output_type": "stream",
       "stream": "stdout",
       "text": [
        "\n",
        "\n",
        "\n",
        "\n",
        "\n"
       ]
      },
      {
       "output_type": "stream",
       "stream": "stdout",
       "text": [
        "\n",
        "Analyte: "
       ]
      },
      {
       "output_type": "stream",
       "stream": "stdout",
       "text": [
        " 05AEE292-E223-48B5-B0B6-DA88D117139D\n",
        "outlier: 3.427924908, sample ID: 65FC5998-2ABA-4C2C-9CA1-3D2C47B8EEF7\n",
        "\tgroup ID: 11, values: [2.6, 2.64, 3.43], CV: 0.16\n",
        "outlier: 2.537996304, sample ID: D80F9CBC-093D-47B2-AA0D-F09F697858BA\n",
        "\tgroup ID: 16, values: [3.65, 2.54, 3.28], CV: 0.18\n",
        "outlier: 2.919804626, sample ID: 01B3EE9F-C625-4CD0-9752-D129DA78A0BD\n",
        "\tgroup ID: 20, values: [2.92, 1.83, 1.89], CV: 0.28\n"
       ]
      },
      {
       "metadata": {},
       "output_type": "display_data",
       "png": "[encoded data removed]",
       "text": [
        "<matplotlib.figure.Figure at 0x5995810>"
       ]
      },
      {
       "output_type": "stream",
       "stream": "stdout",
       "text": [
        "\n",
        "\n",
        "\n",
        "Analyte: "
       ]
      },
      {
       "output_type": "stream",
       "stream": "stdout",
       "text": [
        " 05BC1ED4-187E-41DB-AFA6-C4529B8FCFA3\n",
        "outlier: 3.266715775, sample ID: C7E74F94-B57A-4B33-A5AF-3B0EC07EB777\n",
        "\tgroup ID: 3, values: [2.76, 2.74, 3.27], CV: 0.1\n"
       ]
      },
      {
       "metadata": {},
       "output_type": "display_data",
       "png": "[encoded data removed]",
       "text": [
        "<matplotlib.figure.Figure at 0x59959d0>"
       ]
      },
      {
       "output_type": "stream",
       "stream": "stdout",
       "text": [
        "\n",
        "\n",
        "\n",
        "\n",
        "\n"
       ]
      },
      {
       "output_type": "stream",
       "stream": "stdout",
       "text": [
        "\n",
        "\n",
        "\n"
       ]
      },
      {
       "output_type": "stream",
       "stream": "stdout",
       "text": [
        "\n",
        "Analyte: "
       ]
      },
      {
       "output_type": "stream",
       "stream": "stdout",
       "text": [
        " 0AE47E69-3FA6-471B-BFDF-AF84E4D3201F\n",
        "outlier: 2.092267289, sample ID: CB004AB1-4D9F-48DD-83E3-AB2877E29A79\n",
        "\tgroup ID: 13, values: [2.54, 2.46, 2.09], CV: 0.1\n",
        "outlier: 1.966062448, sample ID: D0A743D8-FF79-4DAF-BBD9-6700EFCB0F91"
       ]
      },
      {
       "output_type": "stream",
       "stream": "stdout",
       "text": [
        "\n",
        "\tgroup ID: 21, values: [2.52, 2.58, 1.97], CV: 0.14\n",
        "outlier: 2.094597381, sample ID: 03303E03-496E-489F-A675-6E5D3F21A620\n",
        "\tgroup ID: 22, values: [2.09, 2.58, 2.56], CV: 0.11\n",
        "outlier: 1.940430584, sample ID: 574FF197-EF99-4D90-94D7-952B7D51C24C\n",
        "\tgroup ID: 32, values: [2.76, 1.94, 2.63], CV: 0.18\n"
       ]
      },
      {
       "metadata": {},
       "output_type": "display_data",
       "png": "[encoded data removed]",
       "text": [
        "<matplotlib.figure.Figure at 0x5cc7a90>"
       ]
      },
      {
       "output_type": "stream",
       "stream": "stdout",
       "text": [
        "\n",
        "\n",
        "\n",
        "\n",
        "\n"
       ]
      },
      {
       "output_type": "stream",
       "stream": "stdout",
       "text": [
        "\n",
        "Analyte: "
       ]
      },
      {
       "output_type": "stream",
       "stream": "stdout",
       "text": [
        " 0F3D1985-DBA7-4525-92F5-CEF822A2A08F\n",
        "outlier: 4.355216284, sample ID: 217D4AB1-62B5-4927-B142-C85B6A2ABB6E"
       ]
      },
      {
       "output_type": "stream",
       "stream": "stdout",
       "text": [
        "\n",
        "\tgroup ID: 12, values: [4.36, 5.58, 5.96], CV: 0.16\n"
       ]
      },
      {
       "metadata": {},
       "output_type": "display_data",
       "png": "[encoded data removed]",
       "text": [
        "<matplotlib.figure.Figure at 0x5cda810>"
       ]
      },
      {
       "output_type": "stream",
       "stream": "stdout",
       "text": [
        "\n",
        "\n",
        "\n",
        "\n",
        "\n"
       ]
      },
      {
       "output_type": "stream",
       "stream": "stdout",
       "text": [
        "\n",
        "\n",
        "\n"
       ]
      },
      {
       "output_type": "stream",
       "stream": "stdout",
       "text": [
        "\n",
        "Analyte: "
       ]
      },
      {
       "output_type": "stream",
       "stream": "stdout",
       "text": [
        " 12D39077-7A6C-4BA8-9EBB-CFFF87CD9770\n",
        "outlier: 2.534615552, sample ID: 4E5CBDEA-C9AE-4BC2-8612-2E0DD144C849\n",
        "\tgroup ID: 1, values: [4.04, 2.53, 4.1], CV: 0.25\n"
       ]
      },
      {
       "metadata": {},
       "output_type": "display_data",
       "png": "[encoded data removed]",
       "text": [
        "<matplotlib.figure.Figure at 0x5cdaa50>"
       ]
      },
      {
       "output_type": "stream",
       "stream": "stdout",
       "text": [
        "\n",
        "\n",
        "\n",
        "\n",
        "\n"
       ]
      },
      {
       "output_type": "stream",
       "stream": "stdout",
       "text": [
        "\n",
        "\n",
        "\n"
       ]
      },
      {
       "output_type": "stream",
       "stream": "stdout",
       "text": [
        "\n",
        "\n",
        "\n"
       ]
      },
      {
       "output_type": "stream",
       "stream": "stdout",
       "text": [
        "\n",
        "\n",
        "\n"
       ]
      },
      {
       "output_type": "stream",
       "stream": "stdout",
       "text": [
        "\n",
        "Analyte: "
       ]
      },
      {
       "output_type": "stream",
       "stream": "stdout",
       "text": [
        " 1982CFBF-461A-4256-AEAA-DD89D18F28FE\n",
        "outlier: 1.846686382, sample ID: 66CEFE9E-F6E2-43DA-B1C7-E541779C147C\n",
        "\tgroup ID: 7, values: [1.85, 2.36, 2.43], CV: 0.14\n",
        "outlier: 1.953455047, sample ID: 48470EB5-795D-4DD5-809B-6268F0414A9E\n",
        "\tgroup ID: 10, values: [1.95, 2.39, 2.69], CV: 0.16\n",
        "outlier: 2.003417908, sample ID: 65FC5998-2ABA-4C2C-9CA1-3D2C47B8EEF7"
       ]
      },
      {
       "output_type": "stream",
       "stream": "stdout",
       "text": [
        "\n",
        "\tgroup ID: 11, values: [2.67, 2.64, 2.0], CV: 0.16\n",
        "outlier: 1.844452163, sample ID: 167FB251-31AB-4F3E-95A3-17BC3B62FC45\n",
        "\tgroup ID: 28, values: [1.84, 2.57, 2.4], CV: 0.17\n"
       ]
      },
      {
       "metadata": {},
       "output_type": "display_data",
       "png": "[encoded data removed]",
       "text": [
        "<matplotlib.figure.Figure at 0x5cb1110>"
       ]
      },
      {
       "output_type": "stream",
       "stream": "stdout",
       "text": [
        "\n",
        "\n",
        "\n",
        "\n",
        "\n"
       ]
      },
      {
       "output_type": "stream",
       "stream": "stdout",
       "text": [
        "\n",
        "Analyte: "
       ]
      },
      {
       "output_type": "stream",
       "stream": "stdout",
       "text": [
        " 1CFD4B4B-DB79-44CC-A47E-7806308FDDA9\n",
        "outlier: 3.685953849, sample ID: E49012F5-D18C-4FB4-A671-A9AA5E415D9F\n",
        "\tgroup ID: 7, values: [3.0, 3.34, 3.69], CV: 0.1\n"
       ]
      },
      {
       "metadata": {},
       "output_type": "display_data",
       "png": "[encoded data removed]",
       "text": [
        "<matplotlib.figure.Figure at 0x5cb1510>"
       ]
      },
      {
       "output_type": "stream",
       "stream": "stdout",
       "text": [
        "\n",
        "\n",
        "\n",
        "Analyte: "
       ]
      },
      {
       "output_type": "stream",
       "stream": "stdout",
       "text": [
        " 1E0DFE20-FCD1-43DF-8DE2-901E95A51523\n",
        "outlier: 5.052382391, sample ID: 167FB251-31AB-4F3E-95A3-17BC3B62FC45\n",
        "\tgroup ID: 28, values: [5.05, 2.84, 2.99], CV: 0.34\n"
       ]
      },
      {
       "metadata": {},
       "output_type": "display_data",
       "png": "[encoded data removed]",
       "text": [
        "<matplotlib.figure.Figure at 0x59399d0>"
       ]
      },
      {
       "output_type": "stream",
       "stream": "stdout",
       "text": [
        "\n",
        "\n",
        "\n",
        "\n",
        "\n"
       ]
      },
      {
       "output_type": "stream",
       "stream": "stdout",
       "text": [
        "\n",
        "\n",
        "\n"
       ]
      },
      {
       "output_type": "stream",
       "stream": "stdout",
       "text": [
        "\n",
        "\n",
        "\n"
       ]
      },
      {
       "output_type": "stream",
       "stream": "stdout",
       "text": [
        "\n",
        "\n",
        "\n"
       ]
      },
      {
       "output_type": "stream",
       "stream": "stdout",
       "text": [
        "\n",
        "\n",
        "\n"
       ]
      },
      {
       "output_type": "stream",
       "stream": "stdout",
       "text": [
        "\n",
        "\n",
        "\n"
       ]
      },
      {
       "output_type": "stream",
       "stream": "stdout",
       "text": [
        "\n",
        "\n",
        "\n"
       ]
      },
      {
       "output_type": "stream",
       "stream": "stdout",
       "text": [
        "\n",
        "\n",
        "\n"
       ]
      },
      {
       "output_type": "stream",
       "stream": "stdout",
       "text": [
        "\n",
        "\n",
        "\n"
       ]
      },
      {
       "output_type": "stream",
       "stream": "stdout",
       "text": [
        "\n",
        "\n",
        "\n"
       ]
      },
      {
       "output_type": "stream",
       "stream": "stdout",
       "text": [
        "\n",
        "\n",
        "\n"
       ]
      },
      {
       "output_type": "stream",
       "stream": "stdout",
       "text": [
        "\n",
        "\n",
        "\n"
       ]
      },
      {
       "output_type": "stream",
       "stream": "stdout",
       "text": [
        "\n",
        "\n",
        "\n"
       ]
      },
      {
       "output_type": "stream",
       "stream": "stdout",
       "text": [
        "\n",
        "\n",
        "\n"
       ]
      },
      {
       "output_type": "stream",
       "stream": "stdout",
       "text": [
        "\n",
        "\n",
        "\n"
       ]
      },
      {
       "output_type": "stream",
       "stream": "stdout",
       "text": [
        "\n",
        "\n",
        "\n"
       ]
      },
      {
       "output_type": "stream",
       "stream": "stdout",
       "text": [
        "\n",
        "\n",
        "\n"
       ]
      },
      {
       "output_type": "stream",
       "stream": "stdout",
       "text": [
        "\n",
        "\n",
        "\n"
       ]
      },
      {
       "output_type": "stream",
       "stream": "stdout",
       "text": [
        "\n",
        "\n",
        "\n"
       ]
      },
      {
       "output_type": "stream",
       "stream": "stdout",
       "text": [
        "\n",
        "\n",
        "\n"
       ]
      },
      {
       "output_type": "stream",
       "stream": "stdout",
       "text": [
        "\n",
        "Analyte: "
       ]
      },
      {
       "output_type": "stream",
       "stream": "stdout",
       "text": [
        " 556EA0EF-8989-41AE-8023-7703DAC7160C\n",
        "outlier: 3.319842602, sample ID: CB375D18-8883-4F4D-B509-EA4C29B1B179\n",
        "\tgroup ID: 21, values: [4.23, 3.32, 4.15], CV: 0.13\n"
       ]
      },
      {
       "metadata": {},
       "output_type": "display_data",
       "png": "[encoded data removed]",
       "text": [
        "<matplotlib.figure.Figure at 0x5ddd0d0>"
       ]
      },
      {
       "output_type": "stream",
       "stream": "stdout",
       "text": [
        "\n",
        "\n",
        "\n",
        "\n",
        "\n"
       ]
      },
      {
       "output_type": "stream",
       "stream": "stdout",
       "text": [
        "\n",
        "\n",
        "\n"
       ]
      },
      {
       "output_type": "stream",
       "stream": "stdout",
       "text": [
        "\n",
        "\n",
        "\n"
       ]
      },
      {
       "output_type": "stream",
       "stream": "stdout",
       "text": [
        "\n",
        "\n",
        "\n"
       ]
      },
      {
       "output_type": "stream",
       "stream": "stdout",
       "text": [
        "\n",
        "\n",
        "\n"
       ]
      },
      {
       "output_type": "stream",
       "stream": "stdout",
       "text": [
        "\n",
        "\n",
        "\n"
       ]
      },
      {
       "output_type": "stream",
       "stream": "stdout",
       "text": [
        "\n",
        "\n",
        "\n"
       ]
      },
      {
       "output_type": "stream",
       "stream": "stdout",
       "text": [
        "\n",
        "\n",
        "\n"
       ]
      },
      {
       "output_type": "stream",
       "stream": "stdout",
       "text": [
        "\n",
        "Analyte: "
       ]
      },
      {
       "output_type": "stream",
       "stream": "stdout",
       "text": [
        " 665AC2DC-49CB-4284-A05C-1B1CDEFE2A0B\n",
        "outlier: 4.029408547, sample ID: 572EDE11-EC65-4996-B15E-64F9AEE8B64F\n",
        "\tgroup ID: 14, values: [3.46, 3.32, 4.03], CV: 0.1\n"
       ]
      },
      {
       "metadata": {},
       "output_type": "display_data",
       "png": "[encoded data removed]",
       "text": [
        "<matplotlib.figure.Figure at 0x5ddd590>"
       ]
      },
      {
       "output_type": "stream",
       "stream": "stdout",
       "text": [
        "\n",
        "\n",
        "\n",
        "Analyte: "
       ]
      },
      {
       "output_type": "stream",
       "stream": "stdout",
       "text": [
        " 6689E110-85D0-445C-8056-108724435D89\n",
        "outlier: 3.615974979, sample ID: CB375D18-8883-4F4D-B509-EA4C29B1B179\n",
        "\tgroup ID: 21, values: [6.3, 3.62, 6.0], CV: 0.28\n"
       ]
      },
      {
       "metadata": {},
       "output_type": "display_data",
       "png": "[encoded data removed]",
       "text": [
        "<matplotlib.figure.Figure at 0x5ca83d0>"
       ]
      },
      {
       "output_type": "stream",
       "stream": "stdout",
       "text": [
        "\n",
        "\n",
        "\n",
        "\n",
        "\n"
       ]
      },
      {
       "output_type": "stream",
       "stream": "stdout",
       "text": [
        "\n",
        "Analyte: "
       ]
      },
      {
       "output_type": "stream",
       "stream": "stdout",
       "text": [
        " 696B8E8A-DD8D-440A-853E-5878B584288D\n",
        "outlier: 2.068330187, sample ID: 969DBA98-FB91-4CCB-BA66-A66022CD7F3A\n",
        "\tgroup ID: 8, values: [2.07, 2.65, 2.64], CV: 0.14\n",
        "outlier: 1.897028159, sample ID: 9912C224-C772-4E4D-B1B9-A2952355902C\n",
        "\tgroup ID: 20, values: [2.45, 2.3, 1.9], CV: 0.13\n"
       ]
      },
      {
       "metadata": {},
       "output_type": "display_data",
       "png": "[encoded data removed]",
       "text": [
        "<matplotlib.figure.Figure at 0x599ce50>"
       ]
      },
      {
       "output_type": "stream",
       "stream": "stdout",
       "text": [
        "\n",
        "\n",
        "\n",
        "Analyte: "
       ]
      },
      {
       "output_type": "stream",
       "stream": "stdout",
       "text": [
        " 6B2C9674-5F06-436A-8FF6-DC15BAAADD80\n",
        "outlier: 3.189713454, sample ID: C7E74F94-B57A-4B33-A5AF-3B0EC07EB777\n",
        "\tgroup ID: 3, values: [2.22, 2.14, 3.19], CV: 0.23\n",
        "outlier: 3.532362232, sample ID: 2774CFBA-5186-4DC9-9A50-49004B6F4815\n",
        "\tgroup ID: 6, values: [3.53, 2.39, 1.92], CV: 0.32\n",
        "outlier: 2.59885854, sample ID: E49012F5-D18C-4FB4-A671-A9AA5E415D9F"
       ]
      },
      {
       "output_type": "stream",
       "stream": "stdout",
       "text": [
        "\n",
        "\tgroup ID: 7, values: [2.03, 2.31, 2.6], CV: 0.12\n",
        "outlier: 3.832150436, sample ID: A9AC4E79-0AEB-46FC-9EF4-13FF2F67E974\n",
        "\tgroup ID: 8, values: [2.57, 3.83, 2.69], CV: 0.23\n",
        "outlier: 3.342308227, sample ID: 4B0FBD67-5BC6-46F8-8D7D-45771CF89004\n",
        "\tgroup ID: 9, values: [3.34, 2.68, 2.45], CV: 0.16\n",
        "outlier: 3.526655629, sample ID: 48470EB5-795D-4DD5-809B-6268F0414A9E\n",
        "\tgroup ID: 10, values: [3.53, 2.54, 2.81], CV: 0.17\n",
        "outlier: 2.762288322, sample ID: 217D4AB1-62B5-4927-B142-C85B6A2ABB6E\n",
        "\tgroup ID: 12, values: [2.76, 2.46, 2.25], CV: 0.1\n",
        "outlier: 3.072864529, sample ID: 2C51C8B8-7DDC-4E3E-B49A-2FB959C42AA5\n",
        "\tgroup ID: 13, values: [3.07, 2.51, 2.46], CV: 0.13\n",
        "outlier: 3.633290295, sample ID: 9FC80056-0862-4EFD-A309-2511B32C05B2\n",
        "\tgroup ID: 16, values: [3.63, 2.38, 2.62], CV: 0.23\n",
        "outlier: 2.155130258, sample ID: 42E5D201-7D6E-4CE2-8E3B-945BE2CD5565\n",
        "\tgroup ID: 17, values: [2.71, 2.16, 2.48], CV: 0.11\n",
        "outlier: 1.998224118, sample ID: B5C1DF43-655D-4D54-8750-3EDABC0B3C1C\n",
        "\tgroup ID: 18, values: [2.0, 2.47, 2.33], CV: 0.11\n",
        "outlier: 2.389720058, sample ID: 9912C224-C772-4E4D-B1B9-A2952355902C\n",
        "\tgroup ID: 20, values: [2.06, 1.95, 2.39], CV: 0.11\n",
        "outlier: 5.109459322, sample ID: 534FFBA0-992E-4235-85B4-7CDB0D88A7EC\n",
        "\tgroup ID: 22, values: [2.53, 5.11, 2.44], CV: 0.45\n",
        "outlier: 1.836009936, sample ID: 5965D4C8-CED7-43B1-B41D-73F5F62E6519\n",
        "\tgroup ID: 23, values: [1.84, 2.22, 2.35], CV: 0.12\n",
        "outlier: 2.132597237, sample ID: E08A1ABB-9ADA-41AD-9FA0-ABA916DA6551\n",
        "\tgroup ID: 24, values: [2.56, 2.81, 2.13], CV: 0.14\n",
        "outlier: 3.796871651, sample ID: B7E1C045-0F99-408B-9960-705737A01DB7\n",
        "\tgroup ID: 27, values: [2.53, 3.8, 2.55], CV: 0.24\n",
        "outlier: 2.020010094, sample ID: DE16EB7A-221D-407F-8A61-2F8E494701AA\n",
        "\tgroup ID: 28, values: [3.12, 3.43, 2.02], CV: 0.26\n",
        "outlier: 2.484947927, sample ID: 84B6107F-2EA8-4904-96EC-752179619F52\n",
        "\tgroup ID: 31, values: [1.81, 2.48, 1.81], CV: 0.19\n"
       ]
      },
      {
       "metadata": {},
       "output_type": "display_data",
       "png": "[encoded data removed]",
       "text": [
        "<matplotlib.figure.Figure at 0x5d3f650>"
       ]
      },
      {
       "output_type": "stream",
       "stream": "stdout",
       "text": [
        "\n",
        "\n",
        "\n",
        "\n",
        "\n"
       ]
      },
      {
       "output_type": "stream",
       "stream": "stdout",
       "text": [
        "\n",
        "\n",
        "\n"
       ]
      },
      {
       "output_type": "stream",
       "stream": "stdout",
       "text": [
        "\n",
        "Analyte: "
       ]
      },
      {
       "output_type": "stream",
       "stream": "stdout",
       "text": [
        " 741D97D6-E08F-45A8-A2A4-35E151FE3EFA\n",
        "outlier: 2.775081761, sample ID: 4E5CBDEA-C9AE-4BC2-8612-2E0DD144C849"
       ]
      },
      {
       "output_type": "stream",
       "stream": "stdout",
       "text": [
        "\n",
        "\tgroup ID: 1, values: [3.41, 2.78, 3.16], CV: 0.1\n",
        "outlier: 2.796298579, sample ID: B8D7B297-56B3-4698-8611-593452812545\n",
        "\tgroup ID: 3, values: [3.13, 2.8, 3.43], CV: 0.1\n",
        "outlier: 2.981472647, sample ID: A8E128B6-CCF5-46CA-AFF9-70E14463DB3C\n",
        "\tgroup ID: 27, values: [2.98, 3.67, 3.67], CV: 0.12\n"
       ]
      },
      {
       "metadata": {},
       "output_type": "display_data",
       "png": "[encoded data removed]",
       "text": [
        "<matplotlib.figure.Figure at 0x5d3f610>"
       ]
      },
      {
       "output_type": "stream",
       "stream": "stdout",
       "text": [
        "\n",
        "\n",
        "\n",
        "\n",
        "\n"
       ]
      },
      {
       "output_type": "stream",
       "stream": "stdout",
       "text": [
        "\n",
        "\n",
        "\n"
       ]
      },
      {
       "output_type": "stream",
       "stream": "stdout",
       "text": [
        "\n",
        "\n",
        "\n"
       ]
      },
      {
       "output_type": "stream",
       "stream": "stdout",
       "text": [
        "\n",
        "\n",
        "\n"
       ]
      },
      {
       "output_type": "stream",
       "stream": "stdout",
       "text": [
        "\n",
        "\n",
        "\n"
       ]
      },
      {
       "output_type": "stream",
       "stream": "stdout",
       "text": [
        "\n",
        "\n",
        "\n"
       ]
      },
      {
       "output_type": "stream",
       "stream": "stdout",
       "text": [
        "\n",
        "\n",
        "\n"
       ]
      },
      {
       "output_type": "stream",
       "stream": "stdout",
       "text": [
        "\n",
        "\n",
        "\n"
       ]
      },
      {
       "output_type": "stream",
       "stream": "stdout",
       "text": [
        "\n",
        "\n",
        "\n"
       ]
      },
      {
       "output_type": "stream",
       "stream": "stdout",
       "text": [
        "\n",
        "\n",
        "\n"
       ]
      },
      {
       "output_type": "stream",
       "stream": "stdout",
       "text": [
        "\n",
        "\n",
        "\n"
       ]
      },
      {
       "output_type": "stream",
       "stream": "stdout",
       "text": [
        "\n",
        "\n",
        "\n"
       ]
      },
      {
       "output_type": "stream",
       "stream": "stdout",
       "text": [
        "\n",
        "\n",
        "\n"
       ]
      },
      {
       "output_type": "stream",
       "stream": "stdout",
       "text": [
        "\n",
        "\n",
        "\n"
       ]
      },
      {
       "output_type": "stream",
       "stream": "stdout",
       "text": [
        "\n",
        "\n",
        "\n"
       ]
      },
      {
       "output_type": "stream",
       "stream": "stdout",
       "text": [
        "\n",
        "\n",
        "\n"
       ]
      },
      {
       "output_type": "stream",
       "stream": "stdout",
       "text": [
        "\n",
        "\n",
        "\n"
       ]
      },
      {
       "output_type": "stream",
       "stream": "stdout",
       "text": [
        "\n",
        "\n",
        "\n"
       ]
      },
      {
       "output_type": "stream",
       "stream": "stdout",
       "text": [
        "\n",
        "\n",
        "\n"
       ]
      },
      {
       "output_type": "stream",
       "stream": "stdout",
       "text": [
        "\n",
        "\n",
        "\n"
       ]
      },
      {
       "output_type": "stream",
       "stream": "stdout",
       "text": [
        "\n",
        "\n",
        "\n"
       ]
      },
      {
       "output_type": "stream",
       "stream": "stdout",
       "text": [
        "\n",
        "Analyte: "
       ]
      },
      {
       "output_type": "stream",
       "stream": "stdout",
       "text": [
        " B68ADC4A-A164-498B-8D60-3B2AD81E217C\n",
        "outlier: 4.216895905, sample ID: E49012F5-D18C-4FB4-A671-A9AA5E415D9F\n",
        "\tgroup ID: 7, values: [3.48, 3.69, 4.22], CV: 0.1\n",
        "outlier: 2.956055787, sample ID: 969DBA98-FB91-4CCB-BA66-A66022CD7F3A\n",
        "\tgroup ID: 8, values: [2.96, 3.85, 3.74], CV: 0.14\n",
        "outlier: 3.497978424, sample ID: 572EDE11-EC65-4996-B15E-64F9AEE8B64F\n",
        "\tgroup ID: 14, values: [4.02, 4.36, 3.5], CV: 0.11\n",
        "outlier: 3.962663574, sample ID: CB375D18-8883-4F4D-B509-EA4C29B1B179"
       ]
      },
      {
       "output_type": "stream",
       "stream": "stdout",
       "text": [
        "\n",
        "\tgroup ID: 21, values: [3.22, 3.96, 3.38], CV: 0.11\n",
        "outlier: 3.453773058, sample ID: E08A1ABB-9ADA-41AD-9FA0-ABA916DA6551\n",
        "\tgroup ID: 24, values: [2.65, 2.73, 3.45], CV: 0.15\n",
        "outlier: 3.442113654, sample ID: F3707EA4-2022-4A7C-BA04-B40B349AA391\n",
        "\tgroup ID: 25, values: [2.96, 2.79, 3.44], CV: 0.11\n",
        "outlier: 2.497107651, sample ID: A9217103-FE04-4E8D-A427-5B472CF86FA1\n",
        "\tgroup ID: 31, values: [2.87, 3.21, 2.5], CV: 0.12\n"
       ]
      },
      {
       "metadata": {},
       "output_type": "display_data",
       "png": "[encoded data removed]",
       "text": [
        "<matplotlib.figure.Figure at 0x5995090>"
       ]
      },
      {
       "output_type": "stream",
       "stream": "stdout",
       "text": [
        "\n",
        "\n",
        "\n",
        "\n",
        "\n"
       ]
      },
      {
       "output_type": "stream",
       "stream": "stdout",
       "text": [
        "\n",
        "\n",
        "\n"
       ]
      },
      {
       "output_type": "stream",
       "stream": "stdout",
       "text": [
        "\n",
        "\n",
        "\n"
       ]
      },
      {
       "output_type": "stream",
       "stream": "stdout",
       "text": [
        "\n",
        "\n",
        "\n"
       ]
      },
      {
       "output_type": "stream",
       "stream": "stdout",
       "text": [
        "\n",
        "\n",
        "\n"
       ]
      },
      {
       "output_type": "stream",
       "stream": "stdout",
       "text": [
        "\n",
        "Analyte: "
       ]
      },
      {
       "output_type": "stream",
       "stream": "stdout",
       "text": [
        " C58E0717-CC79-44C4-84AE-5874893A1364\n",
        "outlier: 3.036118415, sample ID: 4E5CBDEA-C9AE-4BC2-8612-2E0DD144C849\n",
        "\tgroup ID: 1, values: [3.76, 3.04, 3.52], CV: 0.11\n",
        "outlier: 2.935048491, sample ID: B8D7B297-56B3-4698-8611-593452812545\n",
        "\tgroup ID: 3, values: [3.49, 2.94, 3.76], CV: 0.12\n",
        "outlier: 3.026508695, sample ID: E05F132D-9EEA-4E07-9104-999AA7B93D84\n",
        "\tgroup ID: 6, values: [3.67, 3.76, 3.03], CV: 0.11\n",
        "outlier: 4.016848894, sample ID: 42BBBA81-FEAD-4F4C-B162-39F9C8080F76"
       ]
      },
      {
       "output_type": "stream",
       "stream": "stdout",
       "text": [
        "\n",
        "\tgroup ID: 19, values: [4.02, 3.42, 3.35], CV: 0.1\n",
        "outlier: 3.259910637, sample ID: A8E128B6-CCF5-46CA-AFF9-70E14463DB3C\n",
        "\tgroup ID: 27, values: [3.26, 4.0, 4.04], CV: 0.12\n"
       ]
      },
      {
       "metadata": {},
       "output_type": "display_data",
       "png": "[encoded data removed]",
       "text": [
        "<matplotlib.figure.Figure at 0x59957d0>"
       ]
      },
      {
       "output_type": "stream",
       "stream": "stdout",
       "text": [
        "\n",
        "\n",
        "\n",
        "Analyte: "
       ]
      },
      {
       "output_type": "stream",
       "stream": "stdout",
       "text": [
        " C5D8569F-D8E3-4CE4-AD30-AF4FEC5CF346\n",
        "outlier: 2.197100318, sample ID: CF272A46-0CF8-48F2-B191-51EFEBAE6503"
       ]
      },
      {
       "output_type": "stream",
       "stream": "stdout",
       "text": [
        "\n",
        "\tgroup ID: 4, values: [3.32, 2.79, 2.2], CV: 0.2\n",
        "outlier: 2.620112307, sample ID: A9AC4E79-0AEB-46FC-9EF4-13FF2F67E974\n",
        "\tgroup ID: 8, values: [2.13, 2.62, 1.97], CV: 0.15\n",
        "outlier: 2.343112913, sample ID: 293ADFE5-381F-4FC0-A215-D2723D867ABC\n",
        "\tgroup ID: 12, values: [1.73, 2.34, 1.82], CV: 0.17\n",
        "outlier: 2.222649916, sample ID: 42BBBA81-FEAD-4F4C-B162-39F9C8080F76\n",
        "\tgroup ID: 19, values: [2.22, 2.82, 2.69], CV: 0.12\n"
       ]
      },
      {
       "metadata": {},
       "output_type": "display_data",
       "png": "[encoded data removed]",
       "text": [
        "<matplotlib.figure.Figure at 0x5de7cd0>"
       ]
      },
      {
       "output_type": "stream",
       "stream": "stdout",
       "text": [
        "\n",
        "\n",
        "\n",
        "\n",
        "\n"
       ]
      },
      {
       "output_type": "stream",
       "stream": "stdout",
       "text": [
        "\n",
        "Analyte: "
       ]
      },
      {
       "output_type": "stream",
       "stream": "stdout",
       "text": [
        " C98BE9BB-CEB5-4886-AA9D-1F8F274A2CEF\n",
        "outlier: 2.331697207, sample ID: 82D054D7-43FB-4DB8-9625-881DB97C5B52\n",
        "\tgroup ID: 2, values: [2.9, 2.33, 3.15], CV: 0.15\n"
       ]
      },
      {
       "metadata": {},
       "output_type": "display_data",
       "png": "[encoded data removed]",
       "text": [
        "<matplotlib.figure.Figure at 0x5cbc310>"
       ]
      },
      {
       "output_type": "stream",
       "stream": "stdout",
       "text": [
        "\n",
        "\n",
        "\n",
        "\n",
        "\n"
       ]
      },
      {
       "output_type": "stream",
       "stream": "stdout",
       "text": [
        "\n",
        "Analyte: "
       ]
      },
      {
       "output_type": "stream",
       "stream": "stdout",
       "text": [
        " CA995887-B9FE-45FE-A90A-E2C757D7F37B\n",
        "outlier: 2.935370393, sample ID: 969DBA98-FB91-4CCB-BA66-A66022CD7F3A\n",
        "\tgroup ID: 8, values: [2.94, 2.2, 2.56], CV: 0.14\n",
        "outlier: 2.66367019, sample ID: F608A91F-5244-4065-A73E-E0C29C497591\n",
        "\tgroup ID: 18, values: [3.39, 3.58, 2.66], CV: 0.15\n",
        "outlier: 2.828550468, sample ID: 7BE7359C-68BA-4361-A831-C29BED76EFFB\n",
        "\tgroup ID: 29, values: [2.42, 2.83, 2.24], CV: 0.12"
       ]
      },
      {
       "output_type": "stream",
       "stream": "stdout",
       "text": [
        "\n"
       ]
      },
      {
       "metadata": {},
       "output_type": "display_data",
       "png": "[encoded data removed]",
       "text": [
        "<matplotlib.figure.Figure at 0x5de7250>"
       ]
      },
      {
       "output_type": "stream",
       "stream": "stdout",
       "text": [
        "\n",
        "\n",
        "\n",
        "\n",
        "\n"
       ]
      },
      {
       "output_type": "stream",
       "stream": "stdout",
       "text": [
        "\n",
        "\n",
        "\n"
       ]
      },
      {
       "output_type": "stream",
       "stream": "stdout",
       "text": [
        "\n",
        "\n",
        "\n"
       ]
      },
      {
       "output_type": "stream",
       "stream": "stdout",
       "text": [
        "\n",
        "\n",
        "\n"
       ]
      },
      {
       "output_type": "stream",
       "stream": "stdout",
       "text": [
        "\n",
        "Analyte: "
       ]
      },
      {
       "output_type": "stream",
       "stream": "stdout",
       "text": [
        " DCF0B901-619A-48CB-AF7C-3B05C682133D\n",
        "outlier: 3.49794771, sample ID: 16F95A1B-AA8C-40D7-B365-D9A80FA27D2D\n",
        "\tgroup ID: 1, values: [3.5, 4.55, 4.37], CV: 0.14\n",
        "outlier: 1.927700539, sample ID: 9F27FB21-A830-4BD6-BDA2-01A34726CDE1\n",
        "\tgroup ID: 6, values: [2.56, 1.93, 2.3], CV: 0.14\n",
        "outlier: 3.516967308, sample ID: 66CEFE9E-F6E2-43DA-B1C7-E541779C147C\n",
        "\tgroup ID: 7, values: [3.52, 2.81, 3.02], CV: 0.12\n",
        "outlier: 3.477354786, sample ID: A9AC4E79-0AEB-46FC-9EF4-13FF2F67E974"
       ]
      },
      {
       "output_type": "stream",
       "stream": "stdout",
       "text": [
        "\n",
        "\tgroup ID: 8, values: [2.59, 3.48, 1.8], CV: 0.32\n",
        "outlier: 2.925046491, sample ID: 4B0FBD67-5BC6-46F8-8D7D-45771CF89004\n",
        "\tgroup ID: 9, values: [2.93, 4.68, 4.16], CV: 0.23\n",
        "outlier: 2.538210391, sample ID: 6585957A-6D6E-49EF-92E7-D8956D471B68\n",
        "\tgroup ID: 11, values: [4.22, 2.54, 3.75], CV: 0.25\n",
        "outlier: 4.39137456, sample ID: CB004AB1-4D9F-48DD-83E3-AB2877E29A79\n",
        "\tgroup ID: 13, values: [3.77, 3.26, 4.39], CV: 0.15\n",
        "outlier: 2.633154723, sample ID: 572EDE11-EC65-4996-B15E-64F9AEE8B64F\n",
        "\tgroup ID: 14, values: [3.67, 3.95, 2.63], CV: 0.2\n",
        "outlier: 3.365084916, sample ID: 812E7223-5C39-4177-A8F9-83AD9EF662F0\n",
        "\tgroup ID: 15, values: [3.37, 2.68, 2.95], CV: 0.11\n",
        "outlier: 4.146816167, sample ID: E6C81A41-CBFC-43BF-BD1B-8A78CF85BFF4\n",
        "\tgroup ID: 16, values: [3.09, 3.32, 4.15], CV: 0.16\n",
        "outlier: 3.377081746, sample ID: B5C1DF43-655D-4D54-8750-3EDABC0B3C1C\n",
        "\tgroup ID: 18, values: [3.38, 2.76, 3.03], CV: 0.1\n",
        "outlier: 4.196090478, sample ID: C952EB0E-7130-4DA6-A5BB-2A89E0A3706F\n",
        "\tgroup ID: 25, values: [3.03, 4.2, 3.33], CV: 0.17\n",
        "outlier: 3.615378224, sample ID: A8E128B6-CCF5-46CA-AFF9-70E14463DB3C\n",
        "\tgroup ID: 27, values: [3.62, 2.31, 2.95], CV: 0.22\n",
        "outlier: 3.702866701, sample ID: FC1BB9CB-F037-41CE-AF41-38B407533843\n",
        "\tgroup ID: 29, values: [3.23, 2.95, 3.7], CV: 0.12\n"
       ]
      },
      {
       "metadata": {},
       "output_type": "display_data",
       "png": "[encoded data removed]",
       "text": [
        "<matplotlib.figure.Figure at 0x59ae310>"
       ]
      },
      {
       "output_type": "stream",
       "stream": "stdout",
       "text": [
        "\n",
        "\n",
        "\n",
        "\n",
        "\n"
       ]
      },
      {
       "output_type": "stream",
       "stream": "stdout",
       "text": [
        "\n",
        "Analyte: "
       ]
      },
      {
       "output_type": "stream",
       "stream": "stdout",
       "text": [
        " DFFEA5C8-41AF-4927-A8C4-9E270F8F7106\n",
        "outlier: 4.073445922, sample ID: 4E5CBDEA-C9AE-4BC2-8612-2E0DD144C849\n",
        "\tgroup ID: 1, values: [2.62, 4.07, 3.02], CV: 0.23\n",
        "outlier: 2.657427244, sample ID: 514CDE73-476B-4902-A740-A3672C9B1A1C\n",
        "\tgroup ID: 2, values: [2.66, 3.71, 3.78], CV: 0.19\n",
        "outlier: 2.566271529, sample ID: C7E74F94-B57A-4B33-A5AF-3B0EC07EB777"
       ]
      },
      {
       "output_type": "stream",
       "stream": "stdout",
       "text": [
        "\n",
        "\tgroup ID: 3, values: [3.31, 3.5, 2.57], CV: 0.16\n",
        "outlier: 3.890161314, sample ID: 761901A1-6FC6-4B0E-B5D2-368B555E53A9\n",
        "\tgroup ID: 4, values: [3.89, 2.71, 1.92], CV: 0.35\n",
        "outlier: 3.970754664, sample ID: 72E623E2-0417-46FA-B552-B6361AC972EC\n",
        "\tgroup ID: 5, values: [3.36, 3.97, 3.16], CV: 0.12\n",
        "outlier: 3.625722302, sample ID: 4B0FBD67-5BC6-46F8-8D7D-45771CF89004\n",
        "\tgroup ID: 9, values: [3.63, 4.37, 4.42], CV: 0.11\n",
        "outlier: 4.141033201, sample ID: B988AE0D-E130-4DDE-AF09-950B348615DE\n",
        "\tgroup ID: 10, values: [2.67, 2.83, 4.14], CV: 0.25\n",
        "outlier: 3.30449132, sample ID: 2A735E79-9009-4486-8938-6B4A4EF6A9CA\n",
        "\tgroup ID: 11, values: [3.3, 2.39, 2.1], CV: 0.24\n",
        "outlier: 2.749708271, sample ID: 217D4AB1-62B5-4927-B142-C85B6A2ABB6E\n",
        "\tgroup ID: 12, values: [2.75, 3.47, 3.26], CV: 0.12\n",
        "outlier: 4.534828166, sample ID: D80F9CBC-093D-47B2-AA0D-F09F697858BA\n",
        "\tgroup ID: 16, values: [3.66, 4.53, 3.74], CV: 0.12\n",
        "outlier: 1.906682358, sample ID: F608A91F-5244-4065-A73E-E0C29C497591\n",
        "\tgroup ID: 18, values: [3.94, 3.15, 1.91], CV: 0.34\n",
        "outlier: 2.826640823, sample ID: 6A13E4A4-C1A8-4A84-9D65-3189DD6F4FFB\n",
        "\tgroup ID: 21, values: [2.83, 3.78, 4.16], CV: 0.19\n",
        "outlier: 2.542537127, sample ID: 4B20CA7C-333B-48B1-8B74-BB0C409109E7\n",
        "\tgroup ID: 24, values: [2.54, 3.32, 3.32], CV: 0.15\n",
        "outlier: 2.119731832, sample ID: F3707EA4-2022-4A7C-BA04-B40B349AA391\n",
        "\tgroup ID: 25, values: [3.47, 2.98, 2.12], CV: 0.24\n",
        "outlier: 2.389765266, sample ID: DE16EB7A-221D-407F-8A61-2F8E494701AA\n",
        "\tgroup ID: 28, values: [1.7, 1.66, 2.39], CV: 0.21\n",
        "outlier: 2.348210891, sample ID: 0C346BCF-14AC-4600-91A4-5912213A8561\n",
        "\tgroup ID: 29, values: [2.35, 3.54, 3.49], CV: 0.22\n",
        "outlier: 2.343536285, sample ID: AD64ACC0-F694-4C6E-BA7A-13D599E5B99B\n",
        "\tgroup ID: 30, values: [3.96, 2.34, 3.22], CV: 0.26\n"
       ]
      },
      {
       "metadata": {},
       "output_type": "display_data",
       "png": "[encoded data removed]",
       "text": [
        "<matplotlib.figure.Figure at 0x59ae790>"
       ]
      },
      {
       "output_type": "stream",
       "stream": "stdout",
       "text": [
        "\n",
        "\n",
        "\n",
        "\n",
        "\n"
       ]
      },
      {
       "output_type": "stream",
       "stream": "stdout",
       "text": [
        "\n",
        "\n",
        "\n"
       ]
      },
      {
       "output_type": "stream",
       "stream": "stdout",
       "text": [
        "\n",
        "\n",
        "\n"
       ]
      },
      {
       "output_type": "stream",
       "stream": "stdout",
       "text": [
        "\n",
        "\n",
        "\n"
       ]
      },
      {
       "output_type": "stream",
       "stream": "stdout",
       "text": [
        "\n",
        "Analyte: "
       ]
      },
      {
       "output_type": "stream",
       "stream": "stdout",
       "text": [
        " F1A1BFCF-BE56-43F7-B0BF-B1A64A618C86\n",
        "outlier: 3.200488126, sample ID: CB375D18-8883-4F4D-B509-EA4C29B1B179\n",
        "\tgroup ID: 21, values: [5.31, 3.2, 5.08], CV: 0.26\n"
       ]
      },
      {
       "metadata": {},
       "output_type": "display_data",
       "png": "[encoded data removed]",
       "text": [
        "<matplotlib.figure.Figure at 0x5dbf650>"
       ]
      },
      {
       "output_type": "stream",
       "stream": "stdout",
       "text": [
        "\n",
        "\n",
        "\n",
        "\n",
        "\n"
       ]
      },
      {
       "output_type": "stream",
       "stream": "stdout",
       "text": [
        "\n",
        "\n",
        "\n"
       ]
      },
      {
       "output_type": "stream",
       "stream": "stdout",
       "text": [
        "\n",
        "\n",
        "\n"
       ]
      },
      {
       "output_type": "stream",
       "stream": "stdout",
       "text": [
        "\n",
        "\n",
        "\n"
       ]
      },
      {
       "output_type": "stream",
       "stream": "stdout",
       "text": [
        "\n",
        "\n",
        "\n"
       ]
      },
      {
       "output_type": "stream",
       "stream": "stdout",
       "text": [
        "\n",
        "\n",
        "\n"
       ]
      },
      {
       "output_type": "stream",
       "stream": "stdout",
       "text": [
        "\n",
        "\n",
        "\n"
       ]
      },
      {
       "output_type": "stream",
       "stream": "stdout",
       "text": [
        "\n",
        "\n",
        "\n"
       ]
      },
      {
       "output_type": "stream",
       "stream": "stdout",
       "text": [
        "\n"
       ]
      }
     ],
     "prompt_number": 34
    }
   ],
   "metadata": {}
  }
 ]
}