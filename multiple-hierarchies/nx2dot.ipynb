{
 "metadata": {
  "name": "",
  "signature": "sha256:9b0d8e465b1a7c226df3d4af4741c2ebcb6a24832cb5b42c6bf347ac965ae40c"
 },
 "nbformat": 3,
 "nbformat_minor": 0,
 "worksheets": [
  {
   "cells": [
    {
     "cell_type": "code",
     "collapsed": false,
     "input": [
      "import os\n",
      "import pygraphviz\n",
      "import networkx as nx\n",
      "from discoursegraphs.readwrite import TigerDocumentGraph\n",
      "from discoursegraphs.util import natural_sort_key\n",
      "\n",
      "# DOC_ID = 'maz-19295'\n",
      "DOC_ID = 'maz-00002'\n",
      "TIGER_DIR = '~/repos/pcc-annis-merged/maz176/syntax/'"
     ],
     "language": "python",
     "metadata": {},
     "outputs": [],
     "prompt_number": 16
    },
    {
     "cell_type": "code",
     "collapsed": false,
     "input": [
      "def add_precedence_relations(dot_graph, token_ids, constraint='false', style='invis', weight=1):\n",
      "    \"\"\"\n",
      "    builds an invisible precedence chain, i.e. adds an\n",
      "    invisible edge from the first token node to the second, from the\n",
      "    second to the third etc.\n",
      "    \"\"\"\n",
      "    for i, token_id in enumerate(token_ids[:-1]):\n",
      "        dot_graph.add_edge(token_id, token_ids[i+1], style=style,\n",
      "                           weight=weight, constraint=constraint)\n",
      "    \n",
      "def add_token_subgraph(dot_graph, token_ids, cluster=True, rankdir='TB'):\n",
      "    \"\"\"\n",
      "    adds a cluster subgraph to the given dotgraph that puts all of its\n",
      "    token nodes on the same rank.\n",
      "    \n",
      "    Returns\n",
      "    -------\n",
      "    token_subgraph : pygraphviz.agraph.AGraph\n",
      "        a cluster subgraph that contains all the token nodes\n",
      "    \"\"\"\n",
      "    subgraph_name = 'cluster_tokens' if cluster else 'tokens'\n",
      "    return dot_graph.add_subgraph(sorted(token_ids, key=natural_sort_key),\n",
      "                                  name=subgraph_name, rank='same', rankdir=rankdir)"
     ],
     "language": "python",
     "metadata": {},
     "outputs": [],
     "prompt_number": 17
    },
    {
     "cell_type": "code",
     "collapsed": false,
     "input": [
      "def nx2dot(nxgraph):\n",
      "    digraph = nx.DiGraph(nxgraph) # convert multidigraph to digraph\n",
      "    dotgraph = pygraphviz.AGraph(directed=True)\n",
      "    for node_id, node_attrs in digraph.nodes_iter(data=True):\n",
      "        if 'label' in digraph.node[node_id]:\n",
      "            dotgraph.add_node(node_id, label=digraph.node[node_id]['label'])\n",
      "        else:\n",
      "            dotgraph.add_node(node_id)\n",
      "    \n",
      "    for source, target, edge_attrs in digraph.edges_iter(data=True):\n",
      "        if 'label' in digraph.edge[source][target]:\n",
      "            dotgraph.add_edge(source, target, label=digraph.edge[source][target]['label'])\n",
      "        else:\n",
      "            dotgraph.add_edge(source, target)\n",
      "    return dotgraph"
     ],
     "language": "python",
     "metadata": {},
     "outputs": [],
     "prompt_number": 18
    },
    {
     "cell_type": "markdown",
     "metadata": {},
     "source": [
      "We need ``constraint=true`` on precedence edges and a non-cluster subgraph\n",
      "to draw the tokens in the right order **and** horizontally aligned!"
     ]
    },
    {
     "cell_type": "code",
     "collapsed": false,
     "input": [
      "tiger_filepath = os.path.join(os.path.expanduser(TIGER_DIR), DOC_ID+'.xml')\n",
      "tdg = TigerDocumentGraph(tiger_filepath)\n",
      "\n",
      "dotgraph = nx2dot(tdg)\n",
      "add_precedence_relations(dotgraph, tdg.tokens, constraint='true', style='dotted')\n",
      "add_token_subgraph(dotgraph, tdg.tokens, cluster=True)\n",
      "dotgraph.write('nx2dot.dot')\n",
      "\n",
      "\n"
     ],
     "language": "python",
     "metadata": {},
     "outputs": [],
     "prompt_number": 19
    },
    {
     "cell_type": "code",
     "collapsed": false,
     "input": [
      "# try one non-cluster subgraph for each rst-token-segment\n",
      "# then, combine them in a cluster w/ rankdir=LR"
     ],
     "language": "python",
     "metadata": {},
     "outputs": []
    }
   ],
   "metadata": {}
  }
 ]
}