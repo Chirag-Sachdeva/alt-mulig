{
 "metadata": {
  "name": "",
  "signature": "sha256:31438bfe21b3b0cb89124f9b7c30812d4e68dbcc5e9e9e2bec9c2a47207082f9"
 },
 "nbformat": 3,
 "nbformat_minor": 0,
 "worksheets": [
  {
   "cells": [
    {
     "cell_type": "code",
     "collapsed": false,
     "input": [
      "import os\n",
      "import pygraphviz\n",
      "from discoursegraphs.readwrite import TigerDocumentGraph\n",
      "\n",
      "DOC_ID = 'maz-10175'\n",
      "TIGER_DIR = '~/repos/pcc-annis-merged/maz176/syntax/'\n",
      "RST_DIR = '~/repos/pcc-annis-merged/maz176/rst/'\n",
      "MMAX_DIR = '~/repos/pcc-annis-merged/maz176/coreference/'"
     ],
     "language": "python",
     "metadata": {},
     "outputs": [],
     "prompt_number": 159
    },
    {
     "cell_type": "code",
     "collapsed": false,
     "input": [
      "tdg = TigerDocumentGraph(os.path.join(os.path.expanduser(TIGER_DIR), DOC_ID+'.xml'))"
     ],
     "language": "python",
     "metadata": {},
     "outputs": [],
     "prompt_number": 160
    },
    {
     "cell_type": "code",
     "collapsed": false,
     "input": [
      "dotgraph = pygraphviz.AGraph()"
     ],
     "language": "python",
     "metadata": {},
     "outputs": [],
     "prompt_number": 146
    },
    {
     "cell_type": "code",
     "collapsed": false,
     "input": [
      "for node_id, node_attribs in tdg.nodes_iter(data=True):\n",
      "    dotgraph.add_node(node_id, **node_attribs)"
     ],
     "language": "python",
     "metadata": {},
     "outputs": [],
     "prompt_number": 147
    },
    {
     "cell_type": "code",
     "collapsed": false,
     "input": [
      "dotgraph.add_subgraph(tdg.tokens, name='tokens', rank='same')"
     ],
     "language": "python",
     "metadata": {},
     "outputs": [
      {
       "metadata": {},
       "output_type": "pyout",
       "prompt_number": 148,
       "text": [
        "<AGraph tokens _0032cd0100000000_p_Agraph_t>"
       ]
      }
     ],
     "prompt_number": 148
    },
    {
     "cell_type": "code",
     "collapsed": false,
     "input": [
      "dotgraph.add_subgraph(tdg.sentences, name='sentence-roots', rank='same')"
     ],
     "language": "python",
     "metadata": {},
     "outputs": [
      {
       "metadata": {},
       "output_type": "pyout",
       "prompt_number": 149,
       "text": [
        "<AGraph sentence-roots _f0d7c60200000000_p_Agraph_t>"
       ]
      }
     ],
     "prompt_number": 149
    },
    {
     "cell_type": "code",
     "collapsed": false,
     "input": [
      "dotgraph.add_edges_from(tdg.edges_iter())"
     ],
     "language": "python",
     "metadata": {},
     "outputs": [],
     "prompt_number": 150
    },
    {
     "cell_type": "code",
     "collapsed": false,
     "input": [
      "for i, token_id in enumerate(tdg.tokens[:-1]):\n",
      "    dotgraph.add_edge(token_id, tdg.tokens[i+1], style='invis')"
     ],
     "language": "python",
     "metadata": {},
     "outputs": [],
     "prompt_number": 151
    },
    {
     "cell_type": "code",
     "collapsed": false,
     "input": [
      "dotgraph.write('{}-with-subgraph.dot'.format(TIGER_FILENAME.split('.')[0]))"
     ],
     "language": "python",
     "metadata": {},
     "outputs": [],
     "prompt_number": 152
    },
    {
     "cell_type": "markdown",
     "metadata": {},
     "source": [
      "# Let's try it w/out direct manipulation"
     ]
    },
    {
     "cell_type": "code",
     "collapsed": false,
     "input": [
      "import networkx as nx\n",
      "nx_dotgraph = nx.to_agraph(tdg)"
     ],
     "language": "python",
     "metadata": {},
     "outputs": [],
     "prompt_number": 153
    },
    {
     "cell_type": "code",
     "collapsed": false,
     "input": [
      "nx_dotgraph.add_subgraph(tdg.tokens, name='tokens', rank='same')\n",
      "nx_dotgraph.add_subgraph(tdg.sentences, name='sentence-roots', rank='same')"
     ],
     "language": "python",
     "metadata": {},
     "outputs": [
      {
       "metadata": {},
       "output_type": "pyout",
       "prompt_number": 154,
       "text": [
        "<AGraph sentence-roots _1027d50200000000_p_Agraph_t>"
       ]
      }
     ],
     "prompt_number": 154
    },
    {
     "cell_type": "code",
     "collapsed": false,
     "input": [
      "for i, token_id in enumerate(tdg.tokens[:-1]):\n",
      "    nx_dotgraph.add_edge(token_id, tdg.tokens[i+1], style='invis')"
     ],
     "language": "python",
     "metadata": {},
     "outputs": [],
     "prompt_number": 155
    },
    {
     "cell_type": "code",
     "collapsed": false,
     "input": [
      "nx_dotgraph.write('{}-as-nx-dotgraph.dot'.format(TIGER_FILENAME.split('.')[0]))"
     ],
     "language": "python",
     "metadata": {},
     "outputs": [],
     "prompt_number": 156
    },
    {
     "cell_type": "markdown",
     "metadata": {},
     "source": [
      "# Okay, this works! Now lets try a reversed RST tree"
     ]
    },
    {
     "cell_type": "code",
     "collapsed": false,
     "input": [
      "from discoursegraphs.readwrite import RSTGraph\n",
      "\n",
      "rdg = RSTGraph(os.path.join(os.path.expanduser(RST_DIR), DOC_ID+'.rs3'))\n",
      "\n",
      "rdg_dotgraph = nx.to_agraph(rdg)\n",
      "rdg_dotgraph.add_subgraph(rdg.tokens, name='tokens', rank='same')\n",
      "rdg_reverse_dotgraph = rdg_dotgraph.reverse()\n",
      "\n",
      "for i, token_id in enumerate(rdg.tokens[:-1]):\n",
      "    rdg_dotgraph.add_edge(token_id, rdg.tokens[i+1], style='invis')\n",
      "    \n",
      "rdg_dotgraph.write('{}-rst.dot'.format(DOC_ID))\n",
      "\n",
      "for i, token_id in enumerate(rdg.tokens[:-1]):\n",
      "    rdg_reverse_dotgraph.add_edge(token_id, rdg.tokens[i+1], style='invis')\n",
      "\n",
      "rdg_reverse_dotgraph.write('{}-rst-reversed.dot'.format(DOC_ID))"
     ],
     "language": "python",
     "metadata": {},
     "outputs": [],
     "prompt_number": 171
    },
    {
     "cell_type": "markdown",
     "metadata": {},
     "source": [
      "# rst works, but reversed needs work"
     ]
    },
    {
     "cell_type": "code",
     "collapsed": false,
     "input": [],
     "language": "python",
     "metadata": {},
     "outputs": []
    }
   ],
   "metadata": {}
  }
 ]
}