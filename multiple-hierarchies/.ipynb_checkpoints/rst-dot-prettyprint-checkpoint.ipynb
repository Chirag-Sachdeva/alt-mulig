{
 "metadata": {
  "name": "",
  "signature": "sha256:760e95afe2a8f4e2a6f6a31e7a68c9d80d5b4e179e0b770cc7f431144d30ab03"
 },
 "nbformat": 3,
 "nbformat_minor": 0,
 "worksheets": [
  {
   "cells": [
    {
     "cell_type": "code",
     "collapsed": false,
     "input": [
      "from discoursegraphs.readwrite import RSTGraph\n",
      "import networkx as nx"
     ],
     "language": "python",
     "metadata": {},
     "outputs": [],
     "prompt_number": 4
    },
    {
     "cell_type": "code",
     "collapsed": false,
     "input": [
      "rg = RSTGraph('/home/arne/repos/pcc-annis-merged/maz176/rst/maz-00002.rs3')\n",
      "nx.write_dot(rg, 'rst-nx.dot')"
     ],
     "language": "python",
     "metadata": {},
     "outputs": [],
     "prompt_number": 5
    },
    {
     "cell_type": "markdown",
     "metadata": {},
     "source": [
      "``write_dot`` works fine, but the tokens within an RST span are unsorted and don't align horizontally"
     ]
    },
    {
     "cell_type": "code",
     "collapsed": false,
     "input": [
      "def add_precedence_relations(dot_graph, token_ids, weight=1):\n",
      "    \"\"\"\n",
      "    builds an invisible precedence chain, i.e. adds an\n",
      "    invisible edge from the first token node to the second, from the\n",
      "    second to the third etc.\n",
      "    \"\"\"\n",
      "    for i, token_id in enumerate(token_ids[:-1]):\n",
      "        dot_graph.add_edge(token_id, token_ids[i+1], style='invis', weight=weight)\n",
      "    \n",
      "def add_token_rank(dot_graph, token_ids):\n",
      "    \"\"\"\n",
      "    adds a subgraph to the given dotgraph that puts all of its\n",
      "    token nodes on the same rank and connects them with invisible\n",
      "    edges.\n",
      "    \"\"\"\n",
      "    dot_graph.add_subgraph(token_ids, name='tokens', rank='same')\n",
      "    add_precedence_relations(dot_graph, token_ids)"
     ],
     "language": "python",
     "metadata": {},
     "outputs": [],
     "prompt_number": 6
    },
    {
     "cell_type": "code",
     "collapsed": false,
     "input": [
      "rdotgraph = nx.to_agraph(rg)\n",
      "add_token_rank(rdotgraph, rg.tokens)\n",
      "rdotgraph.write('rst-dot.dot')"
     ],
     "language": "python",
     "metadata": {},
     "outputs": [],
     "prompt_number": 9
    },
    {
     "cell_type": "markdown",
     "metadata": {},
     "source": [
      "We could fix the token sorting and the token alignment, but the rst segments still\n",
      "don't show a clear vertical hierarchy"
     ]
    },
    {
     "cell_type": "code",
     "collapsed": false,
     "input": [],
     "language": "python",
     "metadata": {},
     "outputs": []
    }
   ],
   "metadata": {}
  }
 ]
}