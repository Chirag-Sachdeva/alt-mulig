{
 "metadata": {
  "name": "",
  "signature": "sha256:a433a98114831079b48b0141d0c1ade457ecf829439fb63013e5679db4b0d736"
 },
 "nbformat": 3,
 "nbformat_minor": 0,
 "worksheets": [
  {
   "cells": [
    {
     "cell_type": "code",
     "collapsed": false,
     "input": [
      "from discoursegraphs.readwrite import RSTGraph\n",
      "import networkx as nx\n",
      "from collections import defaultdict\n",
      "\n",
      "# DOC_ID = \"maz-6046\"\n",
      "DOC_ID = \"maz-00002\""
     ],
     "language": "python",
     "metadata": {},
     "outputs": [],
     "prompt_number": 37
    },
    {
     "cell_type": "code",
     "collapsed": false,
     "input": [
      "def add_precedence_relations(dot_graph, token_ids, weight=1):\n",
      "    \"\"\"\n",
      "    builds an invisible precedence chain, i.e. adds an\n",
      "    invisible edge from the first token node to the second, from the\n",
      "    second to the third etc.\n",
      "    \"\"\"\n",
      "    for i, token_id in enumerate(token_ids[:-1]):\n",
      "        dot_graph.add_edge(token_id, token_ids[i+1], style='invis', weight=weight)\n",
      "    \n",
      "def add_token_rank(dot_graph, token_ids):\n",
      "    \"\"\"\n",
      "    adds a subgraph to the given dotgraph that puts all of its\n",
      "    token nodes on the same rank and connects them with invisible\n",
      "    edges.\n",
      "    \"\"\"\n",
      "    dot_graph.add_subgraph(token_ids, name='tokens', rank='same')\n",
      "    add_precedence_relations(dot_graph, token_ids)"
     ],
     "language": "python",
     "metadata": {},
     "outputs": [],
     "prompt_number": 38
    },
    {
     "cell_type": "code",
     "collapsed": false,
     "input": [
      "def rst_rank_levels(rst_docgraph):\n",
      "    \"\"\"\n",
      "    generates RST rank levels (i.e. positions on the Y-axis for dot layout).\n",
      "    The root note will have rank=0, all nodes one level below it get rank=1 etc.\n",
      "    \n",
      "    Returns\n",
      "    -------\n",
      "    distance_from_root : dict\n",
      "        maps from the rank (int) to the list of nodes (int/str node IDs)\n",
      "        with that rank\n",
      "    \"\"\"\n",
      "    # convert multi-digraph into undirected graph\n",
      "    undirected_rg = nx.Graph(rst_docgraph.to_undirected())\n",
      "    undirected_rg.root = rg.root\n",
      "    undirected_rg.relations = rg.relations\n",
      "\n",
      "    distance_from_root = defaultdict(list)\n",
      "    for node_id, node_attrs in undirected_rg.nodes_iter(data=True):\n",
      "        if 'rst:token' not in undirected_rg.node[node_id]['layers']:\n",
      "            rank_distance = 0\n",
      "            if nx.has_path(undirected_rg, undirected_rg.root, node_id):\n",
      "                shortest_path = nx.shortest_path(undirected_rg, undirected_rg.root, node_id)\n",
      "                for i, path_node in enumerate(shortest_path[:-1]):\n",
      "                    edge_attrs = undirected_rg.edge[path_node][shortest_path[i+1]]\n",
      "                    if ((edge_attrs.get('rst:relname') == 'span') or \n",
      "                        (undirected_rg.relations.get(edge_attrs.get('rst:relname')) == 'multinuc')):\n",
      "                        rank_distance += 1\n",
      "                distance_from_root[rank_distance].append(node_id)\n",
      "    return distance_from_root\n",
      "           "
     ],
     "language": "python",
     "metadata": {},
     "outputs": [],
     "prompt_number": 39
    },
    {
     "cell_type": "code",
     "collapsed": false,
     "input": [
      "rg = RSTGraph('/home/arne/repos/pcc-annis-merged/maz176/rst/{}.rs3'.format(DOC_ID))\n",
      "nx.write_dot(rg, 'rst-nx.dot')"
     ],
     "language": "python",
     "metadata": {},
     "outputs": [],
     "prompt_number": 40
    },
    {
     "cell_type": "markdown",
     "metadata": {},
     "source": [
      "``write_dot`` works fine, but the tokens within an RST span are unsorted and don't align horizontally"
     ]
    },
    {
     "cell_type": "code",
     "collapsed": false,
     "input": [
      "rdotgraph = nx.to_agraph(rg)\n",
      "add_token_rank(rdotgraph, rg.tokens)\n",
      "rdotgraph.write('rst-dot.dot')"
     ],
     "language": "python",
     "metadata": {},
     "outputs": [],
     "prompt_number": 41
    },
    {
     "cell_type": "markdown",
     "metadata": {},
     "source": [
      "We could fix the token sorting and the token alignment, but the rst segments still\n",
      "don't show a clear vertical hierarchy"
     ]
    },
    {
     "cell_type": "code",
     "collapsed": false,
     "input": [
      "for distance, nodes in rst_rank_levels(rg).iteritems():\n",
      "    rdotgraph.add_subgraph(nodes, name='distance{}'.format(distance), rank='same')\n",
      "\n",
      "# rdotgraph.graph_attr['ranksep'] = '2.0'\n",
      "rdotgraph.write('rst-distances.dot')"
     ],
     "language": "python",
     "metadata": {},
     "outputs": [],
     "prompt_number": 42
    }
   ],
   "metadata": {}
  }
 ]
}