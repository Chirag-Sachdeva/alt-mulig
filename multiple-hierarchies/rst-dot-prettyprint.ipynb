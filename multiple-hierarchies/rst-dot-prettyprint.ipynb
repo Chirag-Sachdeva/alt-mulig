{
 "metadata": {
  "name": "",
  "signature": "sha256:94aab0c389edf461f2fff567e120049e38aaee0d4e20ed2c82d9e2684ce8cbde"
 },
 "nbformat": 3,
 "nbformat_minor": 0,
 "worksheets": [
  {
   "cells": [
    {
     "cell_type": "code",
     "collapsed": false,
     "input": [
      "from discoursegraphs.readwrite import RSTGraph\n",
      "import networkx as nx\n",
      "from collections import defaultdict"
     ],
     "language": "python",
     "metadata": {},
     "outputs": [],
     "prompt_number": 41
    },
    {
     "cell_type": "code",
     "collapsed": false,
     "input": [
      "rg = RSTGraph('/home/arne/repos/pcc-annis-merged/maz176/rst/maz-6046.rs3')\n",
      "nx.write_dot(rg, 'rst-nx.dot')"
     ],
     "language": "python",
     "metadata": {},
     "outputs": [],
     "prompt_number": 42
    },
    {
     "cell_type": "markdown",
     "metadata": {},
     "source": [
      "``write_dot`` works fine, but the tokens within an RST span are unsorted and don't align horizontally"
     ]
    },
    {
     "cell_type": "code",
     "collapsed": false,
     "input": [
      "def add_precedence_relations(dot_graph, token_ids, weight=1):\n",
      "    \"\"\"\n",
      "    builds an invisible precedence chain, i.e. adds an\n",
      "    invisible edge from the first token node to the second, from the\n",
      "    second to the third etc.\n",
      "    \"\"\"\n",
      "    for i, token_id in enumerate(token_ids[:-1]):\n",
      "        dot_graph.add_edge(token_id, token_ids[i+1], style='invis', weight=weight)\n",
      "    \n",
      "def add_token_rank(dot_graph, token_ids):\n",
      "    \"\"\"\n",
      "    adds a subgraph to the given dotgraph that puts all of its\n",
      "    token nodes on the same rank and connects them with invisible\n",
      "    edges.\n",
      "    \"\"\"\n",
      "    dot_graph.add_subgraph(token_ids, name='tokens', rank='same')\n",
      "    add_precedence_relations(dot_graph, token_ids)"
     ],
     "language": "python",
     "metadata": {},
     "outputs": [],
     "prompt_number": 43
    },
    {
     "cell_type": "code",
     "collapsed": false,
     "input": [
      "rdotgraph = nx.to_agraph(rg)\n",
      "add_token_rank(rdotgraph, rg.tokens)\n",
      "rdotgraph.write('rst-dot.dot')"
     ],
     "language": "python",
     "metadata": {},
     "outputs": [],
     "prompt_number": 44
    },
    {
     "cell_type": "markdown",
     "metadata": {},
     "source": [
      "We could fix the token sorting and the token alignment, but the rst segments still\n",
      "don't show a clear vertical hierarchy"
     ]
    },
    {
     "cell_type": "code",
     "collapsed": false,
     "input": [
      "# nx.shortest_path_length(rg, rg.root)\n",
      "\n",
      "def get_distances_from_root(docgraph):\n",
      "    distances = defaultdict(list)\n",
      "    for node_id, node_attrs in rg.nodes_iter(data=True):\n",
      "        if 'rst:segment' in node_attrs['layers']:\n",
      "            undirected_rg = rg.to_undirected()\n",
      "            if nx.has_path(undirected_rg, rg.root, node_id) and rg.root != node_id:\n",
      "                distance = nx.shortest_path_length(undirected_rg, rg.root, node_id)\n",
      "                distances[distance].append(node_id)\n",
      "    return distances\n"
     ],
     "language": "python",
     "metadata": {},
     "outputs": [],
     "prompt_number": 45
    },
    {
     "cell_type": "code",
     "collapsed": false,
     "input": [
      "for distance, nodes in get_distances_from_root(rg).iteritems():\n",
      "    rdotgraph.add_subgraph(nodes, name='distance{}'.format(distance), rank='same')\n",
      "    pass\n",
      "\n",
      "rdotgraph.write('rst-distances.dot')"
     ],
     "language": "python",
     "metadata": {},
     "outputs": [],
     "prompt_number": 46
    }
   ],
   "metadata": {}
  }
 ]
}