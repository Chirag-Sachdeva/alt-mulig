{
 "metadata": {
  "name": "",
  "signature": "sha256:03a42400b0a3b4f9e9ed16dc29715f1b0479c069e1674fa21119d64bb70cfeab"
 },
 "nbformat": 3,
 "nbformat_minor": 0,
 "worksheets": [
  {
   "cells": [
    {
     "cell_type": "code",
     "collapsed": false,
     "input": [
      "import os\n",
      "import pygraphviz\n",
      "import networkx as nx\n",
      "from discoursegraphs.readwrite import TigerDocumentGraph\n",
      "from discoursegraphs.util import natural_sort_key\n",
      "\n",
      "# DOC_ID = 'maz-19295'\n",
      "DOC_ID = 'maz-00002'\n",
      "TIGER_DIR = '~/repos/pcc-annis-merged/maz176/syntax/'\n",
      "RST_DIR = '~/repos/pcc-annis-merged/maz176/rst/'\n",
      "MMAX_DIR = '~/repos/pcc-annis-merged/maz176/coreference/'"
     ],
     "language": "python",
     "metadata": {},
     "outputs": [],
     "prompt_number": 125
    },
    {
     "cell_type": "code",
     "collapsed": false,
     "input": [
      "def add_precedence_relations(dot_graph, token_ids, constraint='false', style='invis', weight=1):\n",
      "    \"\"\"\n",
      "    builds an invisible precedence chain, i.e. adds an\n",
      "    invisible edge from the first token node to the second, from the\n",
      "    second to the third etc.\n",
      "    \"\"\"\n",
      "    for i, token_id in enumerate(token_ids[:-1]):\n",
      "        dot_graph.add_edge(token_id, token_ids[i+1], style=style,\n",
      "                           weight=weight, constraint=constraint)\n",
      "    \n",
      "def add_token_subgraph(dot_graph, token_ids, cluster=True, rankdir='TB'):\n",
      "    \"\"\"\n",
      "    adds a cluster subgraph to the given dotgraph that puts all of its\n",
      "    token nodes on the same rank.\n",
      "    \n",
      "    Returns\n",
      "    -------\n",
      "    token_subgraph : pygraphviz.agraph.AGraph\n",
      "        a cluster subgraph that contains all the token nodes\n",
      "    \"\"\"\n",
      "    subgraph_name = 'cluster_tokens' if cluster else 'tokens'\n",
      "    return dot_graph.add_subgraph(sorted(token_ids, key=natural_sort_key),\n",
      "                                  name=subgraph_name, rank='same', rankdir=rankdir)\n",
      "\n",
      "def add_sentence_subgraph(dot_graph, sentence_root_node_ids):\n",
      "    \"\"\"\n",
      "    adds a subgraph to the given dotgraph that puts all of its\n",
      "    sentence root nodes on the same rank.\n",
      "    \n",
      "    Returns\n",
      "    -------\n",
      "    sentence_subgraph : pygraphviz.agraph.AGraph\n",
      "        a subgraph that contains all sentence root nodes\n",
      "    \"\"\"\n",
      "    return dot_graph.add_subgraph(sentence_root_node_ids,\n",
      "                           name='sentence-roots', rank='same')"
     ],
     "language": "python",
     "metadata": {},
     "outputs": [],
     "prompt_number": 126
    },
    {
     "cell_type": "code",
     "collapsed": false,
     "input": [
      "def get_bottom_rst_spans(reversed_docgraph):\n",
      "    \"\"\"\n",
      "    returns a list of (rst segment node id, list of token node ids, list of parent segment node ids) tuples.\n",
      "    \"\"\"\n",
      "    token_spans = []\n",
      "    for nid, nattrs in reversed_docgraph.nodes(data=True):\n",
      "        if 'rst:segment' in nattrs['layers']:\n",
      "            token_span = [token_node for (token_node, segment_node) in reversed_docgraph.in_edges(nid)\n",
      "                          if 'rst:token' in reversed_docgraph.node[token_node]['layers']]\n",
      "            if token_span:\n",
      "                parent_segments = [target_node for (source_node, target_node) in reversed_docgraph.out_edges(nid)]\n",
      "                token_spans.append( (nid, token_span, parent_segments) )\n",
      "    return token_spans"
     ],
     "language": "python",
     "metadata": {},
     "outputs": [],
     "prompt_number": 127
    },
    {
     "cell_type": "code",
     "collapsed": false,
     "input": [
      "tiger_filepath = os.path.join(os.path.expanduser(TIGER_DIR), DOC_ID+'.xml')\n",
      "tdg = TigerDocumentGraph(tiger_filepath)\n",
      "\n",
      "nx_dotgraph = nx.to_agraph(tdg)\n",
      "nx_dotgraph.graph_attr['newrank'] = 'true'\n",
      "nx_dotgraph.node_attr['fontname'] = 'Sans-Serif'\n",
      "nx_dotgraph.edge_attr['fontname'] = 'Sans-Serif'\n",
      "add_token_subgraph(nx_dotgraph, tdg.tokens, cluster=False)\n",
      "add_precedence_relations(nx_dotgraph, tdg.tokens, constraint=True)\n",
      "# add_sentence_subgraph(nx_dotgraph, tdg.sentences)\n",
      "\n",
      "nx_dotgraph.write('tiger.dot'.format(DOC_ID))"
     ],
     "language": "python",
     "metadata": {},
     "outputs": [],
     "prompt_number": 128
    },
    {
     "cell_type": "markdown",
     "metadata": {},
     "source": [
      "# Okay, this works! Now lets try an RST tree"
     ]
    },
    {
     "cell_type": "code",
     "collapsed": false,
     "input": [
      "from discoursegraphs.readwrite import RSTGraph\n",
      "\n",
      "rst_filepath = os.path.join(os.path.expanduser(RST_DIR), DOC_ID+'.rs3')\n",
      "\n",
      "rdg = RSTGraph(rst_filepath)\n",
      "rdg_dotgraph = nx.to_agraph(rdg)\n",
      "rdg_dotgraph.graph_attr['newrank'] = 'true'\n",
      "rdg_dotgraph.node_attr['fontname'] = 'Sans-Serif'\n",
      "rdg_dotgraph.edge_attr['fontname'] = 'Sans-Serif'\n",
      "add_token_subgraph(rdg_dotgraph, rdg.tokens, cluster=False)\n",
      "add_precedence_relations(rdg_dotgraph, rdg.tokens, constraint=True)\n",
      "rdg_dotgraph.write('rst.dot'.format(DOC_ID))"
     ],
     "language": "python",
     "metadata": {},
     "outputs": [],
     "prompt_number": 129
    },
    {
     "cell_type": "markdown",
     "metadata": {},
     "source": [
      "# Okay, what about a reversed RST graph?"
     ]
    },
    {
     "cell_type": "code",
     "collapsed": false,
     "input": [
      "from networkx import write_dot\n",
      "\n",
      "rdg = RSTGraph(rst_filepath)\n",
      "rdg.reverse(copy=False)\n",
      "reversed_rdg = rdg\n",
      "\n",
      "reversed_rst_dotgraph = nx.to_agraph(reversed_rdg)\n",
      "add_token_subgraph(reversed_rst_dotgraph, reversed_rdg.tokens, cluster=False)\n",
      "add_precedence_relations(reversed_rst_dotgraph, reversed_rdg.tokens, constraint=True)\n",
      "reversed_rst_dotgraph.write('rst-reversed.dot'.format(DOC_ID))"
     ],
     "language": "python",
     "metadata": {},
     "outputs": [],
     "prompt_number": 130
    },
    {
     "cell_type": "markdown",
     "metadata": {},
     "source": [
      "# Okay, now let's try to merge a Tiger graph w/ a reversed RST graph"
     ]
    },
    {
     "cell_type": "code",
     "collapsed": false,
     "input": [
      "tdg.merge_graphs(reversed_rdg)\n",
      "reversed_tdg_rdg_dotgraph = nx.to_agraph(tdg)\n",
      "\n",
      "add_token_subgraph(reversed_tdg_rdg_dotgraph, tdg.tokens, cluster=False)\n",
      "add_precedence_relations(reversed_tdg_rdg_dotgraph, tdg.tokens, constraint=True)\n",
      "reversed_tdg_rdg_dotgraph.write('tiger-rst.dot'.format(DOC_ID))"
     ],
     "language": "python",
     "metadata": {},
     "outputs": [],
     "prompt_number": 131
    },
    {
     "cell_type": "code",
     "collapsed": false,
     "input": [
      "# This works as well, but the follow just stuff is broken.\n",
      "# There's nothing above the tokens"
     ],
     "language": "python",
     "metadata": {},
     "outputs": []
    },
    {
     "cell_type": "code",
     "collapsed": false,
     "input": [
      "tdg = TigerDocumentGraph(tiger_filepath)\n",
      "rdg = RSTGraph(rst_filepath)\n",
      "rdg.reverse(copy=False)\n",
      "reversed_rdg = rdg\n",
      "\n",
      "tdg.merge_graphs(reversed_rdg)\n",
      "reversed_tdg_rdg_dotgraph = nx.to_agraph(tdg)\n",
      "\n",
      "add_token_subgraph(reversed_tdg_rdg_dotgraph, tdg.tokens, cluster=False)\n",
      "add_precedence_relations(reversed_tdg_rdg_dotgraph, tdg.tokens, constraint=True)\n",
      "\n",
      "bottom_rst_spans = get_bottom_rst_spans(reversed_rdg)\n",
      "for segment_id, span, parent_ids in bottom_rst_spans:\n",
      "    reversed_tdg_rdg_dotgraph.add_subgraph(span, name='segment{}'.format(segment_id), rank='min', color='red')\n",
      "    reversed_tdg_rdg_dotgraph.remove_node(segment_id)\n",
      "    for parent_segment in parent_ids:\n",
      "        reversed_tdg_rdg_dotgraph.add_edge(span[0], parent_segment, ltail='segment{}'.format(segment_id))\n",
      "\n",
      "# add_precedence_relations(reversed_rdg_dotgraph, reversed_rdg.tokens)\n",
      "reversed_tdg_rdg_dotgraph.write('tiger-rst-clusters.dot'.format(DOC_ID))"
     ],
     "language": "python",
     "metadata": {},
     "outputs": [],
     "prompt_number": 133
    }
   ],
   "metadata": {}
  }
 ]
}