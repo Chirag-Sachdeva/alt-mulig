{
 "metadata": {
  "name": "",
  "signature": "sha256:0ea901f96e83f0cc1da6e6e18ce4b9f2b0c5502e692e14e9bddde2857916e3f5"
 },
 "nbformat": 3,
 "nbformat_minor": 0,
 "worksheets": [
  {
   "cells": [
    {
     "cell_type": "code",
     "collapsed": false,
     "input": [
      "import os\n",
      "import pygraphviz\n",
      "import networkx as nx\n",
      "from discoursegraphs.readwrite import TigerDocumentGraph\n",
      "from discoursegraphs.util import natural_sort_key\n",
      "\n",
      "# DOC_ID = 'maz-19295'\n",
      "DOC_ID = 'maz-00002'\n",
      "TIGER_DIR = '~/repos/pcc-annis-merged/maz176/syntax/'\n",
      "RST_DIR = '~/repos/pcc-annis-merged/maz176/rst/'\n",
      "MMAX_DIR = '~/repos/pcc-annis-merged/maz176/coreference/'"
     ],
     "language": "python",
     "metadata": {},
     "outputs": [],
     "prompt_number": 22
    },
    {
     "cell_type": "code",
     "collapsed": false,
     "input": [
      "def add_precedence_relations(dot_graph, token_ids, **attr):\n",
      "    \"\"\"\n",
      "    builds an invisible precedence chain, i.e. adds an\n",
      "    invisible edge from the first token node to the second, from the\n",
      "    second to the third etc.\n",
      "    \n",
      "    additional attributes: constraint='false', style='invis', weight=1...\n",
      "    \"\"\"\n",
      "    sorted_token_ids = sorted(token_ids, key=natural_sort_key)\n",
      "    for i, token_id in enumerate(sorted_token_ids[:-1]):\n",
      "        dot_graph.add_edge(token_id, sorted_token_ids[i+1], **attr)\n",
      "    \n",
      "def add_token_subgraph(dot_graph, token_ids=None, cluster=True, **attr):\n",
      "    \"\"\"\n",
      "    adds a (cluster) subgraph to the given dotgraph that includes the\n",
      "    given token nodes. Add ``rank=same`` to put them on the same rank.\n",
      "    \n",
      "    Returns\n",
      "    -------\n",
      "    token_subgraph : pygraphviz.agraph.AGraph\n",
      "        a cluster subgraph that contains all the token nodes\n",
      "    \"\"\"\n",
      "    subgraph_name = 'cluster_tokens' if cluster else 'tokens'\n",
      "    \n",
      "    root_graph = dot_graph.subgraph_root() # returns None, if dot_graph is a root graph\n",
      "    if root_graph:\n",
      "        subgraph_id = len(root_graph.subgraphs())\n",
      "    else:\n",
      "        subgraph_id = len(dot_graph.subgraphs())\n",
      "    \n",
      "    if token_ids:\n",
      "        token_ids = sorted(token_ids, key=natural_sort_key)\n",
      "        \n",
      "    return dot_graph.add_subgraph(nbunch=token_ids,\n",
      "                                  name=\"{}{}\".format(subgraph_name, subgraph_id),\n",
      "                                  **attr)\n",
      "\n",
      "def add_sentence_subgraph(dot_graph, sentence_root_node_ids):\n",
      "    \"\"\"\n",
      "    adds a subgraph to the given dotgraph that puts all of its\n",
      "    sentence root nodes on the same rank.\n",
      "    \n",
      "    Returns\n",
      "    -------\n",
      "    sentence_subgraph : pygraphviz.agraph.AGraph\n",
      "        a subgraph that contains all sentence root nodes\n",
      "    \"\"\"\n",
      "    return dot_graph.add_subgraph(sentence_root_node_ids,\n",
      "                           name='sentence-roots', rank='same')"
     ],
     "language": "python",
     "metadata": {},
     "outputs": [],
     "prompt_number": 23
    },
    {
     "cell_type": "code",
     "collapsed": false,
     "input": [
      "def get_bottom_rst_spans(reversed_docgraph):\n",
      "    \"\"\"\n",
      "    returns a list of (rst segment node id, list of token node ids, list of parent segment node ids) tuples.\n",
      "    \"\"\"\n",
      "    token_spans = []\n",
      "    for nid, nattrs in reversed_docgraph.nodes(data=True):\n",
      "        if 'rst:segment' in nattrs['layers']:\n",
      "            token_span = [token_node for (token_node, segment_node) in reversed_docgraph.in_edges(nid)\n",
      "                          if 'rst:token' in reversed_docgraph.node[token_node]['layers']]\n",
      "            if token_span:\n",
      "                parent_segments = [target_node for (source_node, target_node) in reversed_docgraph.out_edges(nid)]\n",
      "                token_spans.append( (nid, token_span, parent_segments) )\n",
      "    return token_spans"
     ],
     "language": "python",
     "metadata": {},
     "outputs": [],
     "prompt_number": 24
    },
    {
     "cell_type": "code",
     "collapsed": false,
     "input": [
      "tiger_filepath = os.path.join(os.path.expanduser(TIGER_DIR), DOC_ID+'.xml')\n",
      "tdg = TigerDocumentGraph(tiger_filepath)\n",
      "\n",
      "nx_dotgraph = nx.to_agraph(tdg)\n",
      "nx_dotgraph.graph_attr['newrank'] = 'true'\n",
      "nx_dotgraph.node_attr['fontname'] = 'Sans-Serif'\n",
      "nx_dotgraph.edge_attr['fontname'] = 'Sans-Serif'\n",
      "add_token_subgraph(nx_dotgraph, tdg.tokens, cluster=False, rank='same')\n",
      "add_precedence_relations(nx_dotgraph, tdg.tokens, constraint='true', style='dotted')\n",
      "# add_sentence_subgraph(nx_dotgraph, tdg.sentences)\n",
      "\n",
      "nx_dotgraph.write('tiger.dot'.format(DOC_ID))"
     ],
     "language": "python",
     "metadata": {},
     "outputs": [],
     "prompt_number": 25
    },
    {
     "cell_type": "markdown",
     "metadata": {},
     "source": [
      "# Okay, this works! Now lets try an RST tree"
     ]
    },
    {
     "cell_type": "code",
     "collapsed": false,
     "input": [
      "from discoursegraphs.readwrite import RSTGraph\n",
      "\n",
      "rst_filepath = os.path.join(os.path.expanduser(RST_DIR), DOC_ID+'.rs3')\n",
      "\n",
      "rdg = RSTGraph(rst_filepath)\n",
      "rdg_dotgraph = nx.to_agraph(rdg)\n",
      "rdg_dotgraph.graph_attr['newrank'] = 'true'\n",
      "rdg_dotgraph.node_attr['fontname'] = 'Sans-Serif'\n",
      "rdg_dotgraph.edge_attr['fontname'] = 'Sans-Serif'\n",
      "\n",
      "add_token_subgraph(rdg_dotgraph, rdg.tokens, cluster=False, rank='same')\n",
      "add_precedence_relations(rdg_dotgraph, rdg.tokens, constraint='true', style='dotted')\n",
      "rdg_dotgraph.write('rst.dot'.format(DOC_ID))"
     ],
     "language": "python",
     "metadata": {},
     "outputs": [],
     "prompt_number": 26
    },
    {
     "cell_type": "markdown",
     "metadata": {},
     "source": [
      "# Okay, what about a reversed RST graph?"
     ]
    },
    {
     "cell_type": "code",
     "collapsed": false,
     "input": [
      "from networkx import write_dot\n",
      "\n",
      "rdg = RSTGraph(rst_filepath)\n",
      "rdg.reverse(copy=False)\n",
      "reversed_rdg = rdg\n",
      "\n",
      "reversed_rst_dotgraph = nx.to_agraph(reversed_rdg)\n",
      "add_token_subgraph(reversed_rst_dotgraph, reversed_rdg.tokens, cluster=False, rank='same')\n",
      "add_precedence_relations(reversed_rst_dotgraph, reversed_rdg.tokens, constraint='true', style='dotted')\n",
      "reversed_rst_dotgraph.write('rst-reversed.dot'.format(DOC_ID))"
     ],
     "language": "python",
     "metadata": {},
     "outputs": [],
     "prompt_number": 27
    },
    {
     "cell_type": "markdown",
     "metadata": {},
     "source": [
      "# Okay, now let's try to merge a Tiger graph w/ a reversed RST graph"
     ]
    },
    {
     "cell_type": "code",
     "collapsed": false,
     "input": [
      "tdg.merge_graphs(reversed_rdg)\n",
      "reversed_tdg_rdg_dotgraph = nx.to_agraph(tdg)\n",
      "\n",
      "reversed_tdg_rdg_dotgraph.graph_attr['newrank'] = 'true'\n",
      "reversed_tdg_rdg_dotgraph.graph_attr['compound'] = 'true'\n",
      "reversed_tdg_rdg_dotgraph.node_attr['fontname'] = 'Sans-Serif'\n",
      "reversed_tdg_rdg_dotgraph.edge_attr['fontname'] = 'Sans-Serif'\n",
      "\n",
      "add_token_subgraph(reversed_tdg_rdg_dotgraph, tdg.tokens, cluster=False, rank='same')\n",
      "add_precedence_relations(reversed_tdg_rdg_dotgraph, tdg.tokens, constraint='true', style='dotted')\n",
      "reversed_tdg_rdg_dotgraph.write('tiger-rst.dot'.format(DOC_ID))"
     ],
     "language": "python",
     "metadata": {},
     "outputs": [],
     "prompt_number": 28
    },
    {
     "cell_type": "markdown",
     "metadata": {},
     "source": [
      "# This works as well, but the follow just stuff is broken.\n",
      "# There's nothing above the tokens"
     ]
    },
    {
     "cell_type": "code",
     "collapsed": false,
     "input": [
      "tdg = TigerDocumentGraph(tiger_filepath)\n",
      "rdg = RSTGraph(rst_filepath)\n",
      "rdg.reverse(copy=False)\n",
      "reversed_rdg = rdg\n",
      "\n",
      "tdg.merge_graphs(reversed_rdg)\n",
      "reversed_tdg_rdg_dotgraph = nx.to_agraph(tdg)\n",
      "reversed_tdg_rdg_dotgraph.graph_attr['newrank'] = 'true'\n",
      "reversed_tdg_rdg_dotgraph.graph_attr['compound'] = 'true'\n",
      "reversed_tdg_rdg_dotgraph.node_attr['fontname'] = 'Sans-Serif'\n",
      "reversed_tdg_rdg_dotgraph.edge_attr['fontname'] = 'Sans-Serif'\n",
      "\n",
      "\n",
      "bottom_rst_spans = get_bottom_rst_spans(reversed_rdg)\n",
      "# clusters = []\n",
      "for segment_id, span, parent_ids in bottom_rst_spans:\n",
      "    cluster = add_token_subgraph(reversed_tdg_rdg_dotgraph, span, cluster=True, rank='same')\n",
      "    cluster.node_attr['shape'] = 'plaintext'\n",
      "    token_subgraph = add_token_subgraph(cluster, cluster=False)\n",
      "#     token_subgraph.graph_attr['rankdir'] = 'LR'\n",
      "    add_precedence_relations(token_subgraph, span, constraint='true', style='dotted')\n",
      "\n",
      "reversed_tdg_rdg_dotgraph.write('tiger-rst-clusters.dot'.format(DOC_ID))"
     ],
     "language": "python",
     "metadata": {},
     "outputs": [],
     "prompt_number": 33
    }
   ],
   "metadata": {}
  }
 ]
}