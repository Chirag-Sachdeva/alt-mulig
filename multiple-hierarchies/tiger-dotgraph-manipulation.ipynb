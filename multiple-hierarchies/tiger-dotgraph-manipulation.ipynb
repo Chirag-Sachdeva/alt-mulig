{
 "metadata": {
  "name": "",
  "signature": "sha256:6b530d6f4ba2276aa6dcacd578864bec36794d41185ff9a0b0cc1b9f0e75218b"
 },
 "nbformat": 3,
 "nbformat_minor": 0,
 "worksheets": [
  {
   "cells": [
    {
     "cell_type": "code",
     "collapsed": false,
     "input": [
      "import os\n",
      "import pygraphviz\n",
      "import networkx as nx\n",
      "from discoursegraphs.readwrite import TigerDocumentGraph\n",
      "\n",
      "DOC_ID = 'maz-19295'\n",
      "TIGER_DIR = '~/repos/pcc-annis-merged/maz176/syntax/'\n",
      "RST_DIR = '~/repos/pcc-annis-merged/maz176/rst/'\n",
      "MMAX_DIR = '~/repos/pcc-annis-merged/maz176/coreference/'"
     ],
     "language": "python",
     "metadata": {},
     "outputs": [],
     "prompt_number": 83
    },
    {
     "cell_type": "code",
     "collapsed": false,
     "input": [
      "def add_precedence_relations(dot_graph, token_ids, weight=1):\n",
      "    \"\"\"\n",
      "    builds an invisible precedence chain, i.e. adds an\n",
      "    invisible edge from the first token node to the second, from the\n",
      "    second to the third etc.\n",
      "    \"\"\"\n",
      "    for i, token_id in enumerate(token_ids[:-1]):\n",
      "        dot_graph.add_edge(token_id, token_ids[i+1], style='invis', weight=weight)\n",
      "    \n",
      "def add_token_rank(dot_graph, token_ids):\n",
      "    \"\"\"\n",
      "    adds a subgraph to the given dotgraph that puts all of its\n",
      "    token nodes on the same rank and connects them with invisible\n",
      "    edges.\n",
      "    \"\"\"\n",
      "    dot_graph.add_subgraph(token_ids, name='tokens', rank='same')\n",
      "    add_precedence_relations(dot_graph, token_ids)\n",
      "\n",
      "def add_sentence_rank(dot_graph, sentence_root_node_ids):\n",
      "    \"\"\"\n",
      "    adds a subgraph to the given dotgraph that puts all of its\n",
      "    sentence root nodes on the same rank.\n",
      "    \"\"\"\n",
      "    dot_graph.add_subgraph(sentence_root_node_ids,\n",
      "                           name='sentence-roots', rank='same')"
     ],
     "language": "python",
     "metadata": {},
     "outputs": [],
     "prompt_number": 84
    },
    {
     "cell_type": "code",
     "collapsed": false,
     "input": [
      "def get_bottom_rst_spans(reversed_docgraph):\n",
      "    \"\"\"\n",
      "    returns a list of (rst segment node id, list of token node ids, list of parent segment node ids) tuples.\n",
      "    \"\"\"\n",
      "    token_spans = []\n",
      "    for nid, nattrs in reversed_docgraph.nodes(data=True):\n",
      "        if 'rst:segment' in nattrs['layers']:\n",
      "            token_span = [token_node for (token_node, segment_node) in reversed_docgraph.in_edges(nid)\n",
      "                          if 'rst:token' in reversed_docgraph.node[token_node]['layers']]\n",
      "            if token_span:\n",
      "                parent_segments = [target_node for (source_node, target_node) in reversed_docgraph.out_edges(nid)]\n",
      "                token_spans.append( (nid, token_span, parent_segments) )\n",
      "    return token_spans"
     ],
     "language": "python",
     "metadata": {},
     "outputs": [],
     "prompt_number": 85
    },
    {
     "cell_type": "code",
     "collapsed": false,
     "input": [
      "\n",
      "tiger_filepath = os.path.join(os.path.expanduser(TIGER_DIR), DOC_ID+'.xml')\n",
      "tdg = TigerDocumentGraph(tiger_filepath)\n",
      "\n",
      "nx_dotgraph = nx.to_agraph(tdg)\n",
      "add_token_rank(nx_dotgraph, tdg.tokens)\n",
      "add_sentence_rank(nx_dotgraph, tdg.sentences)\n",
      "\n",
      "nx_dotgraph.write('nx-dotgraph.dot'.format(DOC_ID))"
     ],
     "language": "python",
     "metadata": {},
     "outputs": [],
     "prompt_number": 86
    },
    {
     "cell_type": "markdown",
     "metadata": {},
     "source": [
      "# Okay, this works! Now lets try an RST tree"
     ]
    },
    {
     "cell_type": "code",
     "collapsed": false,
     "input": [
      "from discoursegraphs.readwrite import RSTGraph\n",
      "\n",
      "rst_filepath = os.path.join(os.path.expanduser(RST_DIR), DOC_ID+'.rs3')\n",
      "\n",
      "rdg = RSTGraph(rst_filepath)\n",
      "rdg_dotgraph = nx.to_agraph(rdg)\n",
      "add_token_rank(rdg_dotgraph, rdg.tokens)\n",
      "rdg_dotgraph.write('rst.dot'.format(DOC_ID))"
     ],
     "language": "python",
     "metadata": {},
     "outputs": [],
     "prompt_number": 87
    },
    {
     "cell_type": "markdown",
     "metadata": {},
     "source": [
      "# Okay, what about a reversed RST graph?"
     ]
    },
    {
     "cell_type": "code",
     "collapsed": false,
     "input": [
      "from networkx import write_dot\n",
      "\n",
      "rdg = RSTGraph(rst_filepath)\n",
      "rdg.reverse(copy=False)\n",
      "reversed_rdg = rdg\n",
      "\n",
      "reversed_rst_dotgraph = nx.to_agraph(reversed_rdg)\n",
      "add_token_rank(reversed_rst_dotgraph, reversed_rdg.tokens)\n",
      "reversed_rst_dotgraph.write('rst-reversed.dot'.format(DOC_ID))"
     ],
     "language": "python",
     "metadata": {},
     "outputs": [],
     "prompt_number": 88
    },
    {
     "cell_type": "markdown",
     "metadata": {},
     "source": [
      "# Okay, now let's try to merge a Tiger graph w/ a reversed RST graph"
     ]
    },
    {
     "cell_type": "code",
     "collapsed": false,
     "input": [
      "tdg.merge_graphs(reversed_rdg)\n",
      "reversed_tdg_rdg_dotgraph = nx.to_agraph(tdg)\n",
      "\n",
      "add_token_rank(reversed_tdg_rdg_dotgraph, tdg.tokens)\n",
      "reversed_tdg_rdg_dotgraph.write('tiger-rst-botd.dot'.format(DOC_ID))"
     ],
     "language": "python",
     "metadata": {},
     "outputs": [],
     "prompt_number": 89
    },
    {
     "cell_type": "markdown",
     "metadata": {},
     "source": [
      "# Fine, but the RST graph could look nicer.\n",
      "\n",
      "## How about clusters around each token-rank rst segment?"
     ]
    },
    {
     "cell_type": "code",
     "collapsed": false,
     "input": [
      "tdg = TigerDocumentGraph(tiger_filepath)\n",
      "rdg = RSTGraph(rst_filepath)\n",
      "rdg.reverse(copy=False)\n",
      "reversed_rdg = rdg\n",
      "\n",
      "tdg.merge_graphs(reversed_rdg)\n",
      "reversed_tdg_rdg_dotgraph = nx.to_agraph(tdg)\n",
      "\n",
      "bottom_rst_spans = get_bottom_rst_spans(tdg)\n",
      "for segment_id, span, parent_ids in bottom_rst_spans:\n",
      "    reversed_tdg_rdg_dotgraph.add_subgraph(span, name='cluster{}'.format(segment_id), rank='min', color='red')\n",
      "\n",
      "# add_token_rank(reversed_tdg_rdg_dotgraph, tdg.tokens)\n",
      "reversed_tdg_rdg_dotgraph.write('tiger-rst-botd-with-clusters.dot'.format(DOC_ID))"
     ],
     "language": "python",
     "metadata": {},
     "outputs": [],
     "prompt_number": 90
    },
    {
     "cell_type": "markdown",
     "metadata": {},
     "source": [
      "# It seems that we can't add a node to more than one subgraph\n",
      "\n",
      "## i.e. if a node is in a token rank subgraph, we can't add it to a cluster subgraph\n",
      "\n",
      "Maybe we could at least sort all the tokens within one cluster subgraph\n",
      "by adding invisible precedence relations between them"
     ]
    },
    {
     "cell_type": "code",
     "collapsed": false,
     "input": [
      "rdg = RSTGraph(rst_filepath)\n",
      "rdg_dotgraph = nx.to_agraph(rdg)\n",
      "add_token_rank(rdg_dotgraph, rdg.tokens)\n",
      "\n",
      "rdg_dotgraph.write('rst.dot'.format(DOC_ID))\n",
      "\n",
      "\n"
     ],
     "language": "python",
     "metadata": {},
     "outputs": [],
     "prompt_number": 91
    },
    {
     "cell_type": "code",
     "collapsed": false,
     "input": [
      "# tdg = TigerDocumentGraph(tiger_filepath)\n",
      "\n",
      "rdg = RSTGraph(rst_filepath)\n",
      "rdg.reverse(copy=False)\n",
      "reversed_rdg = rdg\n",
      "\n",
      "# tdg.merge_graphs(reversed_rdg)\n",
      "\n",
      "\n",
      "reversed_rdg_dotgraph = nx.to_agraph(reversed_rdg)\n",
      "# add_token_rank(reversed_rdg_dotgraph, reversed_rdg.tokens)\n",
      "\n",
      "\n",
      "bottom_rst_spans = get_bottom_rst_spans(reversed_rdg)\n",
      "for segment_id, span, parent_ids in bottom_rst_spans:\n",
      "    reversed_rdg_dotgraph.add_subgraph(span, name='cluster{}'.format(segment_id), rank='min', color='red')\n",
      "    reversed_rdg_dotgraph.remove_node(segment_id)\n",
      "    for parent_segment in parent_ids:\n",
      "        reversed_rdg_dotgraph.add_edge(span[0], parent_segment, ltail='cluster{}'.format(segment_id))\n",
      "\n",
      "# add_precedence_relations(reversed_rdg_dotgraph, reversed_rdg.tokens)\n",
      "        \n",
      "reversed_rdg_dotgraph.write('clusters.dot'.format(DOC_ID))"
     ],
     "language": "python",
     "metadata": {},
     "outputs": [],
     "prompt_number": 92
    }
   ],
   "metadata": {}
  }
 ]
}