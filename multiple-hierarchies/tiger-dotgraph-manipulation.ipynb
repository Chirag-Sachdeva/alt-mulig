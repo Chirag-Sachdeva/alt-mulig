{
 "metadata": {
  "name": "",
  "signature": "sha256:606c67f4076fb8a098c06a2f32f9e2d1fba52539f38ded6962a196952a05f095"
 },
 "nbformat": 3,
 "nbformat_minor": 0,
 "worksheets": [
  {
   "cells": [
    {
     "cell_type": "code",
     "collapsed": false,
     "input": [
      "import os\n",
      "import pygraphviz\n",
      "from discoursegraphs.readwrite import TigerDocumentGraph\n",
      "\n",
      "DOC_ID = 'maz-10175'\n",
      "TIGER_DIR = '~/repos/pcc-annis-merged/maz176/syntax/'\n",
      "RST_DIR = '~/repos/pcc-annis-merged/maz176/rst/'\n",
      "MMAX_DIR = '~/repos/pcc-annis-merged/maz176/coreference/'"
     ],
     "language": "python",
     "metadata": {},
     "outputs": [],
     "prompt_number": 57
    },
    {
     "cell_type": "code",
     "collapsed": false,
     "input": [
      "tdg = TigerDocumentGraph(os.path.join(os.path.expanduser(TIGER_DIR), DOC_ID+'.xml'))"
     ],
     "language": "python",
     "metadata": {},
     "outputs": [],
     "prompt_number": 58
    },
    {
     "cell_type": "code",
     "collapsed": false,
     "input": [
      "dotgraph = pygraphviz.AGraph()"
     ],
     "language": "python",
     "metadata": {},
     "outputs": [],
     "prompt_number": 59
    },
    {
     "cell_type": "code",
     "collapsed": false,
     "input": [
      "for node_id, node_attribs in tdg.nodes_iter(data=True):\n",
      "    dotgraph.add_node(node_id, **node_attribs)"
     ],
     "language": "python",
     "metadata": {},
     "outputs": [],
     "prompt_number": 60
    },
    {
     "cell_type": "code",
     "collapsed": false,
     "input": [
      "dotgraph.add_subgraph(tdg.tokens, name='tokens', rank='same')"
     ],
     "language": "python",
     "metadata": {},
     "outputs": [
      {
       "metadata": {},
       "output_type": "pyout",
       "prompt_number": 61,
       "text": [
        "<AGraph tokens _b0db930200000000_p_Agraph_t>"
       ]
      }
     ],
     "prompt_number": 61
    },
    {
     "cell_type": "code",
     "collapsed": false,
     "input": [
      "dotgraph.add_subgraph(tdg.sentences, name='sentence-roots', rank='same')"
     ],
     "language": "python",
     "metadata": {},
     "outputs": [
      {
       "metadata": {},
       "output_type": "pyout",
       "prompt_number": 62,
       "text": [
        "<AGraph sentence-roots _40d27f0200000000_p_Agraph_t>"
       ]
      }
     ],
     "prompt_number": 62
    },
    {
     "cell_type": "code",
     "collapsed": false,
     "input": [
      "dotgraph.add_edges_from(tdg.edges_iter())"
     ],
     "language": "python",
     "metadata": {},
     "outputs": [],
     "prompt_number": 63
    },
    {
     "cell_type": "code",
     "collapsed": false,
     "input": [
      "for i, token_id in enumerate(tdg.tokens[:-1]):\n",
      "    dotgraph.add_edge(token_id, tdg.tokens[i+1], style='invis')"
     ],
     "language": "python",
     "metadata": {},
     "outputs": [],
     "prompt_number": 64
    },
    {
     "cell_type": "code",
     "collapsed": false,
     "input": [
      "dotgraph.write('{}-with-subgraph.dot'.format(DOC_ID.split('.')[0]))"
     ],
     "language": "python",
     "metadata": {},
     "outputs": [],
     "prompt_number": 65
    },
    {
     "cell_type": "markdown",
     "metadata": {},
     "source": [
      "# Let's try it w/out direct manipulation"
     ]
    },
    {
     "cell_type": "code",
     "collapsed": false,
     "input": [
      "import networkx as nx\n",
      "nx_dotgraph = nx.to_agraph(tdg)"
     ],
     "language": "python",
     "metadata": {},
     "outputs": [],
     "prompt_number": 66
    },
    {
     "cell_type": "code",
     "collapsed": false,
     "input": [
      "def add_token_rank(dot_graph, token_ids):\n",
      "    \"\"\"\n",
      "    adds a subgraph to the given dotgraph that puts all of its\n",
      "    token nodes on the same rank and connects them with invisible\n",
      "    edges.\n",
      "    \"\"\"\n",
      "    dot_graph.add_subgraph(token_ids, name='tokens', rank='same')\n",
      "    for i, token_id in enumerate(token_ids[:-1]):\n",
      "        dot_graph.add_edge(token_id, token_ids[i+1], style='invis')\n",
      "\n",
      "def add_sentence_rank(dot_graph, sentence_root_node_ids):\n",
      "    \"\"\"\n",
      "    adds a subgraph to the given dotgraph that puts all of its\n",
      "    sentence root nodes on the same rank.\n",
      "    \"\"\"\n",
      "    dot_graph.add_subgraph(sentence_root_node_ids,\n",
      "                           name='sentence-roots', rank='same')"
     ],
     "language": "python",
     "metadata": {},
     "outputs": [],
     "prompt_number": 67
    },
    {
     "cell_type": "code",
     "collapsed": false,
     "input": [
      "add_token_rank(nx_dotgraph, tdg.tokens)\n",
      "add_sentence_rank(nx_dotgraph, tdg.sentences)"
     ],
     "language": "python",
     "metadata": {},
     "outputs": [],
     "prompt_number": 68
    },
    {
     "cell_type": "code",
     "collapsed": false,
     "input": [
      "nx_dotgraph.write('{}-as-nx-dotgraph.dot'.format(DOC_ID))"
     ],
     "language": "python",
     "metadata": {},
     "outputs": [],
     "prompt_number": 69
    },
    {
     "cell_type": "markdown",
     "metadata": {},
     "source": [
      "# Okay, this works! Now lets try a reversed RST tree"
     ]
    },
    {
     "cell_type": "code",
     "collapsed": false,
     "input": [
      "from discoursegraphs.readwrite import RSTGraph\n",
      "\n",
      "rst_filepath = os.path.join(os.path.expanduser(RST_DIR), DOC_ID+'.rs3')\n",
      "\n",
      "rdg = RSTGraph(rst_filepath)\n",
      "rdg_dotgraph = nx.to_agraph(rdg)\n",
      "add_token_rank(rdg_dotgraph, rdg.tokens)\n",
      "rdg_dotgraph.write('{}-rst.dot'.format(DOC_ID))\n",
      "\n",
      "\n",
      "rdg_reverse_dotgraph = nx.to_agraph(rdg).reverse()\n",
      "add_token_rank(rdg_reverse_dotgraph, rdg.tokens)\n",
      "rdg_reverse_dotgraph.write('{}-rst-reversed.dot'.format(DOC_ID))"
     ],
     "language": "python",
     "metadata": {},
     "outputs": [],
     "prompt_number": 72
    },
    {
     "cell_type": "markdown",
     "metadata": {},
     "source": [
      "# rst works, but reversed needs work"
     ]
    },
    {
     "cell_type": "code",
     "collapsed": false,
     "input": [
      "rdg_dotgraph.re"
     ],
     "language": "python",
     "metadata": {},
     "outputs": [],
     "prompt_number": 70
    }
   ],
   "metadata": {}
  }
 ]
}